{
 "cells": [
  {
   "cell_type": "markdown",
   "metadata": {},
   "source": [
    "# The Guts of a Supervised Learning Algorithm"
   ]
  },
  {
   "cell_type": "markdown",
   "metadata": {},
   "source": [
    "If a supervised learning model is a function, then all we have to do to \"learn\" a good model is try every possible function and pick the one that predicts best. In other words, it's not really a problem of *building* a model, it's a problem of *finding* it. "
   ]
  },
  {
   "cell_type": "markdown",
   "metadata": {},
   "source": [
    "Let's look at an example. We're going to try and predict the average price of a house in a neighborhood in Boston based on the student/teacher ratio in that neighborhood's school district. Our data look like this:"
   ]
  },
  {
   "cell_type": "code",
   "execution_count": 10,
   "metadata": {
    "tags": [
     "hide_input"
    ]
   },
   "outputs": [],
   "source": [
    "from sklearn.datasets import load_boston\n",
    "import numpy as np\n",
    "import pandas as pd\n",
    "\n",
    "boston = load_boston()\n",
    "bos = pd.DataFrame(boston.data, columns=boston.feature_names)\n",
    "bos['PRICE'] = boston.target"
   ]
  },
  {
   "cell_type": "markdown",
   "metadata": {
    "tags": [
     "popout"
    ]
   },
   "source": [
    "`PTRIATIO` stands for pupil-teacher ratio, `PRICE` is the average house price (in thousands of dollars) "
   ]
  },
  {
   "cell_type": "code",
   "execution_count": 7,
   "metadata": {
    "tags": [
     "hide_input"
    ]
   },
   "outputs": [
    {
     "data": {
      "text/html": [
       "<div>\n",
       "<style scoped>\n",
       "    .dataframe tbody tr th:only-of-type {\n",
       "        vertical-align: middle;\n",
       "    }\n",
       "\n",
       "    .dataframe tbody tr th {\n",
       "        vertical-align: top;\n",
       "    }\n",
       "\n",
       "    .dataframe thead th {\n",
       "        text-align: right;\n",
       "    }\n",
       "</style>\n",
       "<table border=\"1\" class=\"dataframe\">\n",
       "  <thead>\n",
       "    <tr style=\"text-align: right;\">\n",
       "      <th></th>\n",
       "      <th>PTRATIO</th>\n",
       "      <th>PRICE</th>\n",
       "    </tr>\n",
       "  </thead>\n",
       "  <tbody>\n",
       "    <tr>\n",
       "      <th>0</th>\n",
       "      <td>15.3</td>\n",
       "      <td>24.0</td>\n",
       "    </tr>\n",
       "    <tr>\n",
       "      <th>1</th>\n",
       "      <td>17.8</td>\n",
       "      <td>21.6</td>\n",
       "    </tr>\n",
       "    <tr>\n",
       "      <th>2</th>\n",
       "      <td>17.8</td>\n",
       "      <td>34.7</td>\n",
       "    </tr>\n",
       "    <tr>\n",
       "      <th>3</th>\n",
       "      <td>18.7</td>\n",
       "      <td>33.4</td>\n",
       "    </tr>\n",
       "    <tr>\n",
       "      <th>4</th>\n",
       "      <td>18.7</td>\n",
       "      <td>36.2</td>\n",
       "    </tr>\n",
       "    <tr>\n",
       "      <th>...</th>\n",
       "      <td>...</td>\n",
       "      <td>...</td>\n",
       "    </tr>\n",
       "    <tr>\n",
       "      <th>501</th>\n",
       "      <td>21.0</td>\n",
       "      <td>22.4</td>\n",
       "    </tr>\n",
       "    <tr>\n",
       "      <th>502</th>\n",
       "      <td>21.0</td>\n",
       "      <td>20.6</td>\n",
       "    </tr>\n",
       "    <tr>\n",
       "      <th>503</th>\n",
       "      <td>21.0</td>\n",
       "      <td>23.9</td>\n",
       "    </tr>\n",
       "    <tr>\n",
       "      <th>504</th>\n",
       "      <td>21.0</td>\n",
       "      <td>22.0</td>\n",
       "    </tr>\n",
       "    <tr>\n",
       "      <th>505</th>\n",
       "      <td>21.0</td>\n",
       "      <td>11.9</td>\n",
       "    </tr>\n",
       "  </tbody>\n",
       "</table>\n",
       "<p>506 rows × 2 columns</p>\n",
       "</div>"
      ],
      "text/plain": [
       "     PTRATIO  PRICE\n",
       "0       15.3   24.0\n",
       "1       17.8   21.6\n",
       "2       17.8   34.7\n",
       "3       18.7   33.4\n",
       "4       18.7   36.2\n",
       "..       ...    ...\n",
       "501     21.0   22.4\n",
       "502     21.0   20.6\n",
       "503     21.0   23.9\n",
       "504     21.0   22.0\n",
       "505     21.0   11.9\n",
       "\n",
       "[506 rows x 2 columns]"
      ]
     },
     "execution_count": 7,
     "metadata": {},
     "output_type": "execute_result"
    }
   ],
   "source": [
    "bos[['PTRATIO','PRICE']]"
   ]
  },
  {
   "cell_type": "markdown",
   "metadata": {},
   "source": [
    "If we split this up into a (single-column) matrix $X$ and a vector $Y$ we have \n",
    "\n",
    "$$\n",
    "X=\n",
    "\\left[\n",
    "\\begin{array}{c}\n",
    "    15.3 \\\\ 17.8 \\\\ 17.8 \\\\ \\vdots \\\\ 21.0\n",
    "\\end{array}\n",
    "\\right]\n",
    "\\quad\n",
    "Y=\n",
    "\\left[\n",
    "\\begin{array}{c}\n",
    "    24 \\\\ 21.6 \\\\ 34.7 \\\\ \\vdots \\\\ 11.9\n",
    "\\end{array}\n",
    "\\right]\n",
    "$$"
   ]
  },
  {
   "cell_type": "code",
   "execution_count": 107,
   "metadata": {},
   "outputs": [],
   "source": [
    "X = np.array(bos.PTRATIO)\n",
    "Y = np.array(bos.PRICE)"
   ]
  },
  {
   "cell_type": "markdown",
   "metadata": {},
   "source": [
    "And since there is only one predictor (`PTRATIO`), we can easily visualize these data as a scatterplot. Each point here is one row of data (a neighborhood)."
   ]
  },
  {
   "cell_type": "code",
   "execution_count": 108,
   "metadata": {},
   "outputs": [
    {
     "data": {
      "application/vnd.vegalite.v3+json": {
       "$schema": "https://vega.github.io/schema/vega-lite/v3.4.0.json",
       "config": {
        "mark": {
         "tooltip": null
        },
        "view": {
         "height": 300,
         "width": 400
        }
       },
       "data": {
        "name": "data-306c448271b0304e45613e95e5709dec"
       },
       "datasets": {
        "data-306c448271b0304e45613e95e5709dec": [
         {
          "A": 24.23666666666667,
          "AGE": 65.2,
          "B": 24.23666666666667,
          "C": 24.23666666666667,
          "CHAS": 0,
          "CRIM": 0.00632,
          "DIS": 4.09,
          "INDUS": 2.31,
          "LSTAT": 4.98,
          "NOX": 0.538,
          "PRICE": 24,
          "PTRATIO": 15.3,
          "RAD": 1,
          "RM": 6.575,
          "TAX": 296,
          "ZN": 18
         },
         {
          "A": 34.98666666666667,
          "AGE": 78.9,
          "B": 34.98666666666667,
          "C": 34.98666666666667,
          "CHAS": 0,
          "CRIM": 0.02731,
          "DIS": 4.9671,
          "INDUS": 7.07,
          "LSTAT": 9.14,
          "NOX": 0.469,
          "PRICE": 21.6,
          "PTRATIO": 17.8,
          "RAD": 2,
          "RM": 6.421,
          "TAX": 242,
          "ZN": 0
         },
         {
          "A": 34.98666666666667,
          "AGE": 61.1,
          "B": 34.98666666666667,
          "C": 34.98666666666667,
          "CHAS": 0,
          "CRIM": 0.02729,
          "DIS": 4.9671,
          "INDUS": 7.07,
          "LSTAT": 4.03,
          "NOX": 0.469,
          "PRICE": 34.7,
          "PTRATIO": 17.8,
          "RAD": 2,
          "RM": 7.185,
          "TAX": 242,
          "ZN": 0
         },
         {
          "A": 37.836666666666666,
          "AGE": 45.8,
          "B": 37.836666666666666,
          "C": 37.836666666666666,
          "CHAS": 0,
          "CRIM": 0.03237,
          "DIS": 6.0622,
          "INDUS": 2.18,
          "LSTAT": 2.94,
          "NOX": 0.458,
          "PRICE": 33.4,
          "PTRATIO": 18.7,
          "RAD": 3,
          "RM": 6.998,
          "TAX": 222,
          "ZN": 0
         },
         {
          "A": 37.836666666666666,
          "AGE": 54.2,
          "B": 37.836666666666666,
          "C": 37.836666666666666,
          "CHAS": 0,
          "CRIM": 0.06905,
          "DIS": 6.0622,
          "INDUS": 2.18,
          "LSTAT": 5.33,
          "NOX": 0.458,
          "PRICE": 36.2,
          "PTRATIO": 18.7,
          "RAD": 3,
          "RM": 7.147,
          "TAX": 222,
          "ZN": 0
         },
         {
          "A": 37.836666666666666,
          "AGE": 58.7,
          "B": 37.836666666666666,
          "C": 37.836666666666666,
          "CHAS": 0,
          "CRIM": 0.02985,
          "DIS": 6.0622,
          "INDUS": 2.18,
          "LSTAT": 5.21,
          "NOX": 0.458,
          "PRICE": 28.7,
          "PTRATIO": 18.7,
          "RAD": 3,
          "RM": 6.43,
          "TAX": 222,
          "ZN": 0
         },
         {
          "A": 23.719999999999995,
          "AGE": 66.6,
          "B": 23.719999999999995,
          "C": 23.719999999999995,
          "CHAS": 0,
          "CRIM": 0.08829,
          "DIS": 5.5605,
          "INDUS": 7.87,
          "LSTAT": 12.43,
          "NOX": 0.524,
          "PRICE": 22.9,
          "PTRATIO": 15.2,
          "RAD": 5,
          "RM": 6.012,
          "TAX": 311,
          "ZN": 12.5
         },
         {
          "A": 23.719999999999995,
          "AGE": 96.1,
          "B": 23.719999999999995,
          "C": 23.719999999999995,
          "CHAS": 0,
          "CRIM": 0.14455,
          "DIS": 5.9505,
          "INDUS": 7.87,
          "LSTAT": 19.15,
          "NOX": 0.524,
          "PRICE": 27.1,
          "PTRATIO": 15.2,
          "RAD": 5,
          "RM": 6.172,
          "TAX": 311,
          "ZN": 12.5
         },
         {
          "A": 23.719999999999995,
          "AGE": 100,
          "B": 23.719999999999995,
          "C": 23.719999999999995,
          "CHAS": 0,
          "CRIM": 0.21124,
          "DIS": 6.0821,
          "INDUS": 7.87,
          "LSTAT": 29.93,
          "NOX": 0.524,
          "PRICE": 16.5,
          "PTRATIO": 15.2,
          "RAD": 5,
          "RM": 5.631,
          "TAX": 311,
          "ZN": 12.5
         },
         {
          "A": 23.719999999999995,
          "AGE": 85.9,
          "B": 23.719999999999995,
          "C": 23.719999999999995,
          "CHAS": 0,
          "CRIM": 0.17004,
          "DIS": 6.5921,
          "INDUS": 7.87,
          "LSTAT": 17.1,
          "NOX": 0.524,
          "PRICE": 18.9,
          "PTRATIO": 15.2,
          "RAD": 5,
          "RM": 6.004,
          "TAX": 311,
          "ZN": 12.5
         },
         {
          "A": 23.719999999999995,
          "AGE": 94.3,
          "B": 23.719999999999995,
          "C": 23.719999999999995,
          "CHAS": 0,
          "CRIM": 0.22489,
          "DIS": 6.3467,
          "INDUS": 7.87,
          "LSTAT": 20.45,
          "NOX": 0.524,
          "PRICE": 15,
          "PTRATIO": 15.2,
          "RAD": 5,
          "RM": 6.377,
          "TAX": 311,
          "ZN": 12.5
         },
         {
          "A": 23.719999999999995,
          "AGE": 82.9,
          "B": 23.719999999999995,
          "C": 23.719999999999995,
          "CHAS": 0,
          "CRIM": 0.11747,
          "DIS": 6.2267,
          "INDUS": 7.87,
          "LSTAT": 13.27,
          "NOX": 0.524,
          "PRICE": 18.9,
          "PTRATIO": 15.2,
          "RAD": 5,
          "RM": 6.009,
          "TAX": 311,
          "ZN": 12.5
         },
         {
          "A": 23.719999999999995,
          "AGE": 39,
          "B": 23.719999999999995,
          "C": 23.719999999999995,
          "CHAS": 0,
          "CRIM": 0.09378,
          "DIS": 5.4509,
          "INDUS": 7.87,
          "LSTAT": 15.71,
          "NOX": 0.524,
          "PRICE": 21.7,
          "PTRATIO": 15.2,
          "RAD": 5,
          "RM": 5.889,
          "TAX": 311,
          "ZN": 12.5
         },
         {
          "A": 42.666666666666664,
          "AGE": 61.8,
          "B": 42.666666666666664,
          "C": 42.666666666666664,
          "CHAS": 0,
          "CRIM": 0.62976,
          "DIS": 4.7075,
          "INDUS": 8.14,
          "LSTAT": 8.26,
          "NOX": 0.538,
          "PRICE": 20.4,
          "PTRATIO": 21,
          "RAD": 4,
          "RM": 5.949,
          "TAX": 307,
          "ZN": 0
         },
         {
          "A": 42.666666666666664,
          "AGE": 84.5,
          "B": 42.666666666666664,
          "C": 42.666666666666664,
          "CHAS": 0,
          "CRIM": 0.63796,
          "DIS": 4.4619,
          "INDUS": 8.14,
          "LSTAT": 10.26,
          "NOX": 0.538,
          "PRICE": 18.2,
          "PTRATIO": 21,
          "RAD": 4,
          "RM": 6.096,
          "TAX": 307,
          "ZN": 0
         },
         {
          "A": 42.666666666666664,
          "AGE": 56.5,
          "B": 42.666666666666664,
          "C": 42.666666666666664,
          "CHAS": 0,
          "CRIM": 0.62739,
          "DIS": 4.4986,
          "INDUS": 8.14,
          "LSTAT": 8.47,
          "NOX": 0.538,
          "PRICE": 19.9,
          "PTRATIO": 21,
          "RAD": 4,
          "RM": 5.834,
          "TAX": 307,
          "ZN": 0
         },
         {
          "A": 42.666666666666664,
          "AGE": 29.3,
          "B": 42.666666666666664,
          "C": 42.666666666666664,
          "CHAS": 0,
          "CRIM": 1.05393,
          "DIS": 4.4986,
          "INDUS": 8.14,
          "LSTAT": 6.58,
          "NOX": 0.538,
          "PRICE": 23.1,
          "PTRATIO": 21,
          "RAD": 4,
          "RM": 5.935,
          "TAX": 307,
          "ZN": 0
         },
         {
          "A": 42.666666666666664,
          "AGE": 81.7,
          "B": 42.666666666666664,
          "C": 42.666666666666664,
          "CHAS": 0,
          "CRIM": 0.7842,
          "DIS": 4.2579,
          "INDUS": 8.14,
          "LSTAT": 14.67,
          "NOX": 0.538,
          "PRICE": 17.5,
          "PTRATIO": 21,
          "RAD": 4,
          "RM": 5.99,
          "TAX": 307,
          "ZN": 0
         },
         {
          "A": 42.666666666666664,
          "AGE": 36.6,
          "B": 42.666666666666664,
          "C": 42.666666666666664,
          "CHAS": 0,
          "CRIM": 0.80271,
          "DIS": 3.7965,
          "INDUS": 8.14,
          "LSTAT": 11.69,
          "NOX": 0.538,
          "PRICE": 20.2,
          "PTRATIO": 21,
          "RAD": 4,
          "RM": 5.456,
          "TAX": 307,
          "ZN": 0
         },
         {
          "A": 42.666666666666664,
          "AGE": 69.5,
          "B": 42.666666666666664,
          "C": 42.666666666666664,
          "CHAS": 0,
          "CRIM": 0.7258,
          "DIS": 3.7965,
          "INDUS": 8.14,
          "LSTAT": 11.28,
          "NOX": 0.538,
          "PRICE": 18.2,
          "PTRATIO": 21,
          "RAD": 4,
          "RM": 5.727,
          "TAX": 307,
          "ZN": 0
         },
         {
          "A": 42.666666666666664,
          "AGE": 98.1,
          "B": 42.666666666666664,
          "C": 42.666666666666664,
          "CHAS": 0,
          "CRIM": 1.25179,
          "DIS": 3.7979,
          "INDUS": 8.14,
          "LSTAT": 21.02,
          "NOX": 0.538,
          "PRICE": 13.6,
          "PTRATIO": 21,
          "RAD": 4,
          "RM": 5.57,
          "TAX": 307,
          "ZN": 0
         },
         {
          "A": 42.666666666666664,
          "AGE": 89.2,
          "B": 42.666666666666664,
          "C": 42.666666666666664,
          "CHAS": 0,
          "CRIM": 0.85204,
          "DIS": 4.0123,
          "INDUS": 8.14,
          "LSTAT": 13.83,
          "NOX": 0.538,
          "PRICE": 19.6,
          "PTRATIO": 21,
          "RAD": 4,
          "RM": 5.965,
          "TAX": 307,
          "ZN": 0
         },
         {
          "A": 42.666666666666664,
          "AGE": 91.7,
          "B": 42.666666666666664,
          "C": 42.666666666666664,
          "CHAS": 0,
          "CRIM": 1.23247,
          "DIS": 3.9769,
          "INDUS": 8.14,
          "LSTAT": 18.72,
          "NOX": 0.538,
          "PRICE": 15.2,
          "PTRATIO": 21,
          "RAD": 4,
          "RM": 6.142,
          "TAX": 307,
          "ZN": 0
         },
         {
          "A": 42.666666666666664,
          "AGE": 100,
          "B": 42.666666666666664,
          "C": 42.666666666666664,
          "CHAS": 0,
          "CRIM": 0.98843,
          "DIS": 4.0952,
          "INDUS": 8.14,
          "LSTAT": 19.88,
          "NOX": 0.538,
          "PRICE": 14.5,
          "PTRATIO": 21,
          "RAD": 4,
          "RM": 5.813,
          "TAX": 307,
          "ZN": 0
         },
         {
          "A": 42.666666666666664,
          "AGE": 94.1,
          "B": 42.666666666666664,
          "C": 42.666666666666664,
          "CHAS": 0,
          "CRIM": 0.75026,
          "DIS": 4.3996,
          "INDUS": 8.14,
          "LSTAT": 16.3,
          "NOX": 0.538,
          "PRICE": 15.6,
          "PTRATIO": 21,
          "RAD": 4,
          "RM": 5.924,
          "TAX": 307,
          "ZN": 0
         },
         {
          "A": 42.666666666666664,
          "AGE": 85.7,
          "B": 42.666666666666664,
          "C": 42.666666666666664,
          "CHAS": 0,
          "CRIM": 0.84054,
          "DIS": 4.4546,
          "INDUS": 8.14,
          "LSTAT": 16.51,
          "NOX": 0.538,
          "PRICE": 13.9,
          "PTRATIO": 21,
          "RAD": 4,
          "RM": 5.599,
          "TAX": 307,
          "ZN": 0
         },
         {
          "A": 42.666666666666664,
          "AGE": 90.3,
          "B": 42.666666666666664,
          "C": 42.666666666666664,
          "CHAS": 0,
          "CRIM": 0.67191,
          "DIS": 4.682,
          "INDUS": 8.14,
          "LSTAT": 14.81,
          "NOX": 0.538,
          "PRICE": 16.6,
          "PTRATIO": 21,
          "RAD": 4,
          "RM": 5.813,
          "TAX": 307,
          "ZN": 0
         },
         {
          "A": 42.666666666666664,
          "AGE": 88.8,
          "B": 42.666666666666664,
          "C": 42.666666666666664,
          "CHAS": 0,
          "CRIM": 0.95577,
          "DIS": 4.4534,
          "INDUS": 8.14,
          "LSTAT": 17.28,
          "NOX": 0.538,
          "PRICE": 14.8,
          "PTRATIO": 21,
          "RAD": 4,
          "RM": 6.047,
          "TAX": 307,
          "ZN": 0
         },
         {
          "A": 42.666666666666664,
          "AGE": 94.4,
          "B": 42.666666666666664,
          "C": 42.666666666666664,
          "CHAS": 0,
          "CRIM": 0.77299,
          "DIS": 4.4547,
          "INDUS": 8.14,
          "LSTAT": 12.8,
          "NOX": 0.538,
          "PRICE": 18.4,
          "PTRATIO": 21,
          "RAD": 4,
          "RM": 6.495,
          "TAX": 307,
          "ZN": 0
         },
         {
          "A": 42.666666666666664,
          "AGE": 87.3,
          "B": 42.666666666666664,
          "C": 42.666666666666664,
          "CHAS": 0,
          "CRIM": 1.00245,
          "DIS": 4.239,
          "INDUS": 8.14,
          "LSTAT": 11.98,
          "NOX": 0.538,
          "PRICE": 21,
          "PTRATIO": 21,
          "RAD": 4,
          "RM": 6.674,
          "TAX": 307,
          "ZN": 0
         },
         {
          "A": 42.666666666666664,
          "AGE": 94.1,
          "B": 42.666666666666664,
          "C": 42.666666666666664,
          "CHAS": 0,
          "CRIM": 1.13081,
          "DIS": 4.233,
          "INDUS": 8.14,
          "LSTAT": 22.6,
          "NOX": 0.538,
          "PRICE": 12.7,
          "PTRATIO": 21,
          "RAD": 4,
          "RM": 5.713,
          "TAX": 307,
          "ZN": 0
         },
         {
          "A": 42.666666666666664,
          "AGE": 100,
          "B": 42.666666666666664,
          "C": 42.666666666666664,
          "CHAS": 0,
          "CRIM": 1.35472,
          "DIS": 4.175,
          "INDUS": 8.14,
          "LSTAT": 13.04,
          "NOX": 0.538,
          "PRICE": 14.5,
          "PTRATIO": 21,
          "RAD": 4,
          "RM": 6.072,
          "TAX": 307,
          "ZN": 0
         },
         {
          "A": 42.666666666666664,
          "AGE": 82,
          "B": 42.666666666666664,
          "C": 42.666666666666664,
          "CHAS": 0,
          "CRIM": 1.38799,
          "DIS": 3.99,
          "INDUS": 8.14,
          "LSTAT": 27.71,
          "NOX": 0.538,
          "PRICE": 13.2,
          "PTRATIO": 21,
          "RAD": 4,
          "RM": 5.95,
          "TAX": 307,
          "ZN": 0
         },
         {
          "A": 42.666666666666664,
          "AGE": 95,
          "B": 42.666666666666664,
          "C": 42.666666666666664,
          "CHAS": 0,
          "CRIM": 1.15172,
          "DIS": 3.7872,
          "INDUS": 8.14,
          "LSTAT": 18.35,
          "NOX": 0.538,
          "PRICE": 13.1,
          "PTRATIO": 21,
          "RAD": 4,
          "RM": 5.701,
          "TAX": 307,
          "ZN": 0
         },
         {
          "A": 42.666666666666664,
          "AGE": 96.9,
          "B": 42.666666666666664,
          "C": 42.666666666666664,
          "CHAS": 0,
          "CRIM": 1.61282,
          "DIS": 3.7598,
          "INDUS": 8.14,
          "LSTAT": 20.34,
          "NOX": 0.538,
          "PRICE": 13.5,
          "PTRATIO": 21,
          "RAD": 4,
          "RM": 6.096,
          "TAX": 307,
          "ZN": 0
         },
         {
          "A": 39.18666666666667,
          "AGE": 68.2,
          "B": 39.18666666666667,
          "C": 39.18666666666667,
          "CHAS": 0,
          "CRIM": 0.06417,
          "DIS": 3.3603,
          "INDUS": 5.96,
          "LSTAT": 9.68,
          "NOX": 0.499,
          "PRICE": 18.9,
          "PTRATIO": 19.2,
          "RAD": 5,
          "RM": 5.933,
          "TAX": 279,
          "ZN": 0
         },
         {
          "A": 39.18666666666667,
          "AGE": 61.4,
          "B": 39.18666666666667,
          "C": 39.18666666666667,
          "CHAS": 0,
          "CRIM": 0.09744,
          "DIS": 3.3779,
          "INDUS": 5.96,
          "LSTAT": 11.41,
          "NOX": 0.499,
          "PRICE": 20,
          "PTRATIO": 19.2,
          "RAD": 5,
          "RM": 5.841,
          "TAX": 279,
          "ZN": 0
         },
         {
          "A": 39.18666666666667,
          "AGE": 41.5,
          "B": 39.18666666666667,
          "C": 39.18666666666667,
          "CHAS": 0,
          "CRIM": 0.08014,
          "DIS": 3.9342,
          "INDUS": 5.96,
          "LSTAT": 8.77,
          "NOX": 0.499,
          "PRICE": 21,
          "PTRATIO": 19.2,
          "RAD": 5,
          "RM": 5.85,
          "TAX": 279,
          "ZN": 0
         },
         {
          "A": 39.18666666666667,
          "AGE": 30.2,
          "B": 39.18666666666667,
          "C": 39.18666666666667,
          "CHAS": 0,
          "CRIM": 0.17505,
          "DIS": 3.8473,
          "INDUS": 5.96,
          "LSTAT": 10.13,
          "NOX": 0.499,
          "PRICE": 24.7,
          "PTRATIO": 19.2,
          "RAD": 5,
          "RM": 5.966,
          "TAX": 279,
          "ZN": 0
         },
         {
          "A": 36.63666666666667,
          "AGE": 21.8,
          "B": 36.63666666666667,
          "C": 36.63666666666667,
          "CHAS": 0,
          "CRIM": 0.02763,
          "DIS": 5.4011,
          "INDUS": 2.95,
          "LSTAT": 4.32,
          "NOX": 0.428,
          "PRICE": 30.8,
          "PTRATIO": 18.3,
          "RAD": 3,
          "RM": 6.595,
          "TAX": 252,
          "ZN": 75
         },
         {
          "A": 36.63666666666667,
          "AGE": 15.8,
          "B": 36.63666666666667,
          "C": 36.63666666666667,
          "CHAS": 0,
          "CRIM": 0.03359,
          "DIS": 5.4011,
          "INDUS": 2.95,
          "LSTAT": 1.98,
          "NOX": 0.428,
          "PRICE": 34.9,
          "PTRATIO": 18.3,
          "RAD": 3,
          "RM": 7.024,
          "TAX": 252,
          "ZN": 75
         },
         {
          "A": 35.33,
          "AGE": 2.9,
          "B": 35.33,
          "C": 35.33,
          "CHAS": 0,
          "CRIM": 0.12744,
          "DIS": 5.7209,
          "INDUS": 6.91,
          "LSTAT": 4.84,
          "NOX": 0.448,
          "PRICE": 26.6,
          "PTRATIO": 17.9,
          "RAD": 3,
          "RM": 6.77,
          "TAX": 233,
          "ZN": 0
         },
         {
          "A": 35.33,
          "AGE": 6.6,
          "B": 35.33,
          "C": 35.33,
          "CHAS": 0,
          "CRIM": 0.1415,
          "DIS": 5.7209,
          "INDUS": 6.91,
          "LSTAT": 5.81,
          "NOX": 0.448,
          "PRICE": 25.3,
          "PTRATIO": 17.9,
          "RAD": 3,
          "RM": 6.169,
          "TAX": 233,
          "ZN": 0
         },
         {
          "A": 35.33,
          "AGE": 6.5,
          "B": 35.33,
          "C": 35.33,
          "CHAS": 0,
          "CRIM": 0.15936,
          "DIS": 5.7209,
          "INDUS": 6.91,
          "LSTAT": 7.44,
          "NOX": 0.448,
          "PRICE": 24.7,
          "PTRATIO": 17.9,
          "RAD": 3,
          "RM": 6.211,
          "TAX": 233,
          "ZN": 0
         },
         {
          "A": 35.33,
          "AGE": 40,
          "B": 35.33,
          "C": 35.33,
          "CHAS": 0,
          "CRIM": 0.12269,
          "DIS": 5.7209,
          "INDUS": 6.91,
          "LSTAT": 9.55,
          "NOX": 0.448,
          "PRICE": 21.2,
          "PTRATIO": 17.9,
          "RAD": 3,
          "RM": 6.069,
          "TAX": 233,
          "ZN": 0
         },
         {
          "A": 35.33,
          "AGE": 33.8,
          "B": 35.33,
          "C": 35.33,
          "CHAS": 0,
          "CRIM": 0.17142,
          "DIS": 5.1004,
          "INDUS": 6.91,
          "LSTAT": 10.21,
          "NOX": 0.448,
          "PRICE": 19.3,
          "PTRATIO": 17.9,
          "RAD": 3,
          "RM": 5.682,
          "TAX": 233,
          "ZN": 0
         },
         {
          "A": 35.33,
          "AGE": 33.3,
          "B": 35.33,
          "C": 35.33,
          "CHAS": 0,
          "CRIM": 0.18836,
          "DIS": 5.1004,
          "INDUS": 6.91,
          "LSTAT": 14.15,
          "NOX": 0.448,
          "PRICE": 20,
          "PTRATIO": 17.9,
          "RAD": 3,
          "RM": 5.786,
          "TAX": 233,
          "ZN": 0
         },
         {
          "A": 35.33,
          "AGE": 85.5,
          "B": 35.33,
          "C": 35.33,
          "CHAS": 0,
          "CRIM": 0.22927,
          "DIS": 5.6894,
          "INDUS": 6.91,
          "LSTAT": 18.8,
          "NOX": 0.448,
          "PRICE": 16.6,
          "PTRATIO": 17.9,
          "RAD": 3,
          "RM": 6.03,
          "TAX": 233,
          "ZN": 0
         },
         {
          "A": 35.33,
          "AGE": 95.3,
          "B": 35.33,
          "C": 35.33,
          "CHAS": 0,
          "CRIM": 0.25387,
          "DIS": 5.87,
          "INDUS": 6.91,
          "LSTAT": 30.81,
          "NOX": 0.448,
          "PRICE": 14.4,
          "PTRATIO": 17.9,
          "RAD": 3,
          "RM": 5.399,
          "TAX": 233,
          "ZN": 0
         },
         {
          "A": 35.33,
          "AGE": 62,
          "B": 35.33,
          "C": 35.33,
          "CHAS": 0,
          "CRIM": 0.21977,
          "DIS": 6.0877,
          "INDUS": 6.91,
          "LSTAT": 16.2,
          "NOX": 0.448,
          "PRICE": 19.4,
          "PTRATIO": 17.9,
          "RAD": 3,
          "RM": 5.602,
          "TAX": 233,
          "ZN": 0
         },
         {
          "A": 31.18666666666667,
          "AGE": 45.7,
          "B": 31.18666666666667,
          "C": 31.18666666666667,
          "CHAS": 0,
          "CRIM": 0.08873,
          "DIS": 6.8147,
          "INDUS": 5.64,
          "LSTAT": 13.45,
          "NOX": 0.439,
          "PRICE": 19.7,
          "PTRATIO": 16.8,
          "RAD": 4,
          "RM": 5.963,
          "TAX": 243,
          "ZN": 21
         },
         {
          "A": 31.18666666666667,
          "AGE": 63,
          "B": 31.18666666666667,
          "C": 31.18666666666667,
          "CHAS": 0,
          "CRIM": 0.04337,
          "DIS": 6.8147,
          "INDUS": 5.64,
          "LSTAT": 9.43,
          "NOX": 0.439,
          "PRICE": 20.5,
          "PTRATIO": 16.8,
          "RAD": 4,
          "RM": 6.115,
          "TAX": 243,
          "ZN": 21
         },
         {
          "A": 31.18666666666667,
          "AGE": 21.1,
          "B": 31.18666666666667,
          "C": 31.18666666666667,
          "CHAS": 0,
          "CRIM": 0.0536,
          "DIS": 6.8147,
          "INDUS": 5.64,
          "LSTAT": 5.28,
          "NOX": 0.439,
          "PRICE": 25,
          "PTRATIO": 16.8,
          "RAD": 4,
          "RM": 6.511,
          "TAX": 243,
          "ZN": 21
         },
         {
          "A": 31.18666666666667,
          "AGE": 21.4,
          "B": 31.18666666666667,
          "C": 31.18666666666667,
          "CHAS": 0,
          "CRIM": 0.04981,
          "DIS": 6.8147,
          "INDUS": 5.64,
          "LSTAT": 8.43,
          "NOX": 0.439,
          "PRICE": 23.4,
          "PTRATIO": 16.8,
          "RAD": 4,
          "RM": 5.998,
          "TAX": 243,
          "ZN": 21
         },
         {
          "A": 42.79666666666667,
          "AGE": 47.6,
          "B": 42.79666666666667,
          "C": 42.79666666666667,
          "CHAS": 0,
          "CRIM": 0.0136,
          "DIS": 7.3197,
          "INDUS": 4,
          "LSTAT": 14.8,
          "NOX": 0.41,
          "PRICE": 18.9,
          "PTRATIO": 21.1,
          "RAD": 3,
          "RM": 5.888,
          "TAX": 469,
          "ZN": 75
         },
         {
          "A": 35.33,
          "AGE": 21.9,
          "B": 35.33,
          "C": 35.33,
          "CHAS": 0,
          "CRIM": 0.01311,
          "DIS": 8.6966,
          "INDUS": 1.22,
          "LSTAT": 4.81,
          "NOX": 0.403,
          "PRICE": 35.4,
          "PTRATIO": 17.9,
          "RAD": 5,
          "RM": 7.249,
          "TAX": 226,
          "ZN": 90
         },
         {
          "A": 33.17,
          "AGE": 35.7,
          "B": 33.17,
          "C": 33.17,
          "CHAS": 0,
          "CRIM": 0.02055,
          "DIS": 9.1876,
          "INDUS": 0.74,
          "LSTAT": 5.77,
          "NOX": 0.41,
          "PRICE": 24.7,
          "PTRATIO": 17.3,
          "RAD": 2,
          "RM": 6.383,
          "TAX": 313,
          "ZN": 85
         },
         {
          "A": 23.196666666666665,
          "AGE": 40.5,
          "B": 23.196666666666665,
          "C": 23.196666666666665,
          "CHAS": 0,
          "CRIM": 0.01432,
          "DIS": 8.3248,
          "INDUS": 1.32,
          "LSTAT": 3.95,
          "NOX": 0.411,
          "PRICE": 31.6,
          "PTRATIO": 15.1,
          "RAD": 5,
          "RM": 6.816,
          "TAX": 256,
          "ZN": 100
         },
         {
          "A": 40.37,
          "AGE": 29.2,
          "B": 40.37,
          "C": 40.37,
          "CHAS": 0,
          "CRIM": 0.15445,
          "DIS": 7.8148,
          "INDUS": 5.13,
          "LSTAT": 6.86,
          "NOX": 0.453,
          "PRICE": 23.3,
          "PTRATIO": 19.7,
          "RAD": 8,
          "RM": 6.145,
          "TAX": 284,
          "ZN": 25
         },
         {
          "A": 40.37,
          "AGE": 47.2,
          "B": 40.37,
          "C": 40.37,
          "CHAS": 0,
          "CRIM": 0.10328,
          "DIS": 6.932,
          "INDUS": 5.13,
          "LSTAT": 9.22,
          "NOX": 0.453,
          "PRICE": 19.6,
          "PTRATIO": 19.7,
          "RAD": 8,
          "RM": 5.927,
          "TAX": 284,
          "ZN": 25
         },
         {
          "A": 40.37,
          "AGE": 66.2,
          "B": 40.37,
          "C": 40.37,
          "CHAS": 0,
          "CRIM": 0.14932,
          "DIS": 7.2254,
          "INDUS": 5.13,
          "LSTAT": 13.15,
          "NOX": 0.453,
          "PRICE": 18.7,
          "PTRATIO": 19.7,
          "RAD": 8,
          "RM": 5.741,
          "TAX": 284,
          "ZN": 25
         },
         {
          "A": 40.37,
          "AGE": 93.4,
          "B": 40.37,
          "C": 40.37,
          "CHAS": 0,
          "CRIM": 0.17171,
          "DIS": 6.8185,
          "INDUS": 5.13,
          "LSTAT": 14.44,
          "NOX": 0.453,
          "PRICE": 16,
          "PTRATIO": 19.7,
          "RAD": 8,
          "RM": 5.966,
          "TAX": 284,
          "ZN": 25
         },
         {
          "A": 40.37,
          "AGE": 67.8,
          "B": 40.37,
          "C": 40.37,
          "CHAS": 0,
          "CRIM": 0.11027,
          "DIS": 7.2255,
          "INDUS": 5.13,
          "LSTAT": 6.73,
          "NOX": 0.453,
          "PRICE": 22.2,
          "PTRATIO": 19.7,
          "RAD": 8,
          "RM": 6.456,
          "TAX": 284,
          "ZN": 25
         },
         {
          "A": 40.37,
          "AGE": 43.4,
          "B": 40.37,
          "C": 40.37,
          "CHAS": 0,
          "CRIM": 0.1265,
          "DIS": 7.9809,
          "INDUS": 5.13,
          "LSTAT": 9.5,
          "NOX": 0.453,
          "PRICE": 25,
          "PTRATIO": 19.7,
          "RAD": 8,
          "RM": 6.762,
          "TAX": 284,
          "ZN": 25
         },
         {
          "A": 37.546666666666674,
          "AGE": 59.5,
          "B": 37.546666666666674,
          "C": 37.546666666666674,
          "CHAS": 0,
          "CRIM": 0.01951,
          "DIS": 9.2229,
          "INDUS": 1.38,
          "LSTAT": 8.05,
          "NOX": 0.4161,
          "PRICE": 33,
          "PTRATIO": 18.6,
          "RAD": 3,
          "RM": 7.104,
          "TAX": 216,
          "ZN": 17.5
         },
         {
          "A": 28.130000000000006,
          "AGE": 17.8,
          "B": 28.130000000000006,
          "C": 28.130000000000006,
          "CHAS": 0,
          "CRIM": 0.03584,
          "DIS": 6.6115,
          "INDUS": 3.37,
          "LSTAT": 4.67,
          "NOX": 0.398,
          "PRICE": 23.5,
          "PTRATIO": 16.1,
          "RAD": 4,
          "RM": 6.29,
          "TAX": 337,
          "ZN": 80
         },
         {
          "A": 28.130000000000006,
          "AGE": 31.1,
          "B": 28.130000000000006,
          "C": 28.130000000000006,
          "CHAS": 0,
          "CRIM": 0.04379,
          "DIS": 6.6115,
          "INDUS": 3.37,
          "LSTAT": 10.24,
          "NOX": 0.398,
          "PRICE": 19.4,
          "PTRATIO": 16.1,
          "RAD": 4,
          "RM": 5.787,
          "TAX": 337,
          "ZN": 80
         },
         {
          "A": 38.39666666666666,
          "AGE": 21.4,
          "B": 38.39666666666666,
          "C": 38.39666666666666,
          "CHAS": 0,
          "CRIM": 0.05789,
          "DIS": 6.498,
          "INDUS": 6.07,
          "LSTAT": 8.1,
          "NOX": 0.409,
          "PRICE": 22,
          "PTRATIO": 18.9,
          "RAD": 4,
          "RM": 5.878,
          "TAX": 345,
          "ZN": 12.5
         },
         {
          "A": 38.39666666666666,
          "AGE": 36.8,
          "B": 38.39666666666666,
          "C": 38.39666666666666,
          "CHAS": 0,
          "CRIM": 0.13554,
          "DIS": 6.498,
          "INDUS": 6.07,
          "LSTAT": 13.09,
          "NOX": 0.409,
          "PRICE": 17.4,
          "PTRATIO": 18.9,
          "RAD": 4,
          "RM": 5.594,
          "TAX": 345,
          "ZN": 12.5
         },
         {
          "A": 38.39666666666666,
          "AGE": 33,
          "B": 38.39666666666666,
          "C": 38.39666666666666,
          "CHAS": 0,
          "CRIM": 0.12816,
          "DIS": 6.498,
          "INDUS": 6.07,
          "LSTAT": 8.79,
          "NOX": 0.409,
          "PRICE": 20.9,
          "PTRATIO": 18.9,
          "RAD": 4,
          "RM": 5.885,
          "TAX": 345,
          "ZN": 12.5
         },
         {
          "A": 39.18666666666667,
          "AGE": 6.6,
          "B": 39.18666666666667,
          "C": 39.18666666666667,
          "CHAS": 0,
          "CRIM": 0.08826,
          "DIS": 5.2873,
          "INDUS": 10.81,
          "LSTAT": 6.72,
          "NOX": 0.413,
          "PRICE": 24.2,
          "PTRATIO": 19.2,
          "RAD": 4,
          "RM": 6.417,
          "TAX": 305,
          "ZN": 0
         },
         {
          "A": 39.18666666666667,
          "AGE": 17.5,
          "B": 39.18666666666667,
          "C": 39.18666666666667,
          "CHAS": 0,
          "CRIM": 0.15876,
          "DIS": 5.2873,
          "INDUS": 10.81,
          "LSTAT": 9.88,
          "NOX": 0.413,
          "PRICE": 21.7,
          "PTRATIO": 19.2,
          "RAD": 4,
          "RM": 5.961,
          "TAX": 305,
          "ZN": 0
         },
         {
          "A": 39.18666666666667,
          "AGE": 7.8,
          "B": 39.18666666666667,
          "C": 39.18666666666667,
          "CHAS": 0,
          "CRIM": 0.09164,
          "DIS": 5.2873,
          "INDUS": 10.81,
          "LSTAT": 5.52,
          "NOX": 0.413,
          "PRICE": 22.8,
          "PTRATIO": 19.2,
          "RAD": 4,
          "RM": 6.065,
          "TAX": 305,
          "ZN": 0
         },
         {
          "A": 39.18666666666667,
          "AGE": 6.2,
          "B": 39.18666666666667,
          "C": 39.18666666666667,
          "CHAS": 0,
          "CRIM": 0.19539,
          "DIS": 5.2873,
          "INDUS": 10.81,
          "LSTAT": 7.54,
          "NOX": 0.413,
          "PRICE": 23.4,
          "PTRATIO": 19.2,
          "RAD": 4,
          "RM": 6.245,
          "TAX": 305,
          "ZN": 0
         },
         {
          "A": 37.836666666666666,
          "AGE": 6,
          "B": 37.836666666666666,
          "C": 37.836666666666666,
          "CHAS": 0,
          "CRIM": 0.07896,
          "DIS": 4.2515,
          "INDUS": 12.83,
          "LSTAT": 6.78,
          "NOX": 0.437,
          "PRICE": 24.1,
          "PTRATIO": 18.7,
          "RAD": 5,
          "RM": 6.273,
          "TAX": 398,
          "ZN": 0
         },
         {
          "A": 37.836666666666666,
          "AGE": 45,
          "B": 37.836666666666666,
          "C": 37.836666666666666,
          "CHAS": 0,
          "CRIM": 0.09512,
          "DIS": 4.5026,
          "INDUS": 12.83,
          "LSTAT": 8.94,
          "NOX": 0.437,
          "PRICE": 21.4,
          "PTRATIO": 18.7,
          "RAD": 5,
          "RM": 6.286,
          "TAX": 398,
          "ZN": 0
         },
         {
          "A": 37.836666666666666,
          "AGE": 74.5,
          "B": 37.836666666666666,
          "C": 37.836666666666666,
          "CHAS": 0,
          "CRIM": 0.10153,
          "DIS": 4.0522,
          "INDUS": 12.83,
          "LSTAT": 11.97,
          "NOX": 0.437,
          "PRICE": 20,
          "PTRATIO": 18.7,
          "RAD": 5,
          "RM": 6.279,
          "TAX": 398,
          "ZN": 0
         },
         {
          "A": 37.836666666666666,
          "AGE": 45.8,
          "B": 37.836666666666666,
          "C": 37.836666666666666,
          "CHAS": 0,
          "CRIM": 0.08707,
          "DIS": 4.0905,
          "INDUS": 12.83,
          "LSTAT": 10.27,
          "NOX": 0.437,
          "PRICE": 20.8,
          "PTRATIO": 18.7,
          "RAD": 5,
          "RM": 6.14,
          "TAX": 398,
          "ZN": 0
         },
         {
          "A": 37.836666666666666,
          "AGE": 53.7,
          "B": 37.836666666666666,
          "C": 37.836666666666666,
          "CHAS": 0,
          "CRIM": 0.05646,
          "DIS": 5.0141,
          "INDUS": 12.83,
          "LSTAT": 12.34,
          "NOX": 0.437,
          "PRICE": 21.2,
          "PTRATIO": 18.7,
          "RAD": 5,
          "RM": 6.232,
          "TAX": 398,
          "ZN": 0
         },
         {
          "A": 37.836666666666666,
          "AGE": 36.6,
          "B": 37.836666666666666,
          "C": 37.836666666666666,
          "CHAS": 0,
          "CRIM": 0.08387,
          "DIS": 4.5026,
          "INDUS": 12.83,
          "LSTAT": 9.1,
          "NOX": 0.437,
          "PRICE": 20.3,
          "PTRATIO": 18.7,
          "RAD": 5,
          "RM": 5.874,
          "TAX": 398,
          "ZN": 0
         },
         {
          "A": 38.666666666666664,
          "AGE": 33.5,
          "B": 38.666666666666664,
          "C": 38.666666666666664,
          "CHAS": 0,
          "CRIM": 0.04113,
          "DIS": 5.4007,
          "INDUS": 4.86,
          "LSTAT": 5.29,
          "NOX": 0.426,
          "PRICE": 28,
          "PTRATIO": 19,
          "RAD": 4,
          "RM": 6.727,
          "TAX": 281,
          "ZN": 25
         },
         {
          "A": 38.666666666666664,
          "AGE": 70.4,
          "B": 38.666666666666664,
          "C": 38.666666666666664,
          "CHAS": 0,
          "CRIM": 0.04462,
          "DIS": 5.4007,
          "INDUS": 4.86,
          "LSTAT": 7.22,
          "NOX": 0.426,
          "PRICE": 23.9,
          "PTRATIO": 19,
          "RAD": 4,
          "RM": 6.619,
          "TAX": 281,
          "ZN": 25
         },
         {
          "A": 38.666666666666664,
          "AGE": 32.2,
          "B": 38.666666666666664,
          "C": 38.666666666666664,
          "CHAS": 0,
          "CRIM": 0.03659,
          "DIS": 5.4007,
          "INDUS": 4.86,
          "LSTAT": 6.72,
          "NOX": 0.426,
          "PRICE": 24.8,
          "PTRATIO": 19,
          "RAD": 4,
          "RM": 6.302,
          "TAX": 281,
          "ZN": 25
         },
         {
          "A": 38.666666666666664,
          "AGE": 46.7,
          "B": 38.666666666666664,
          "C": 38.666666666666664,
          "CHAS": 0,
          "CRIM": 0.03551,
          "DIS": 5.4007,
          "INDUS": 4.86,
          "LSTAT": 7.51,
          "NOX": 0.426,
          "PRICE": 22.9,
          "PTRATIO": 19,
          "RAD": 4,
          "RM": 6.167,
          "TAX": 281,
          "ZN": 25
         },
         {
          "A": 37.25,
          "AGE": 48,
          "B": 37.25,
          "C": 37.25,
          "CHAS": 0,
          "CRIM": 0.05059,
          "DIS": 4.7794,
          "INDUS": 4.49,
          "LSTAT": 9.62,
          "NOX": 0.449,
          "PRICE": 23.9,
          "PTRATIO": 18.5,
          "RAD": 3,
          "RM": 6.389,
          "TAX": 247,
          "ZN": 0
         },
         {
          "A": 37.25,
          "AGE": 56.1,
          "B": 37.25,
          "C": 37.25,
          "CHAS": 0,
          "CRIM": 0.05735,
          "DIS": 4.4377,
          "INDUS": 4.49,
          "LSTAT": 6.53,
          "NOX": 0.449,
          "PRICE": 26.6,
          "PTRATIO": 18.5,
          "RAD": 3,
          "RM": 6.63,
          "TAX": 247,
          "ZN": 0
         },
         {
          "A": 37.25,
          "AGE": 45.1,
          "B": 37.25,
          "C": 37.25,
          "CHAS": 0,
          "CRIM": 0.05188,
          "DIS": 4.4272,
          "INDUS": 4.49,
          "LSTAT": 12.86,
          "NOX": 0.449,
          "PRICE": 22.5,
          "PTRATIO": 18.5,
          "RAD": 3,
          "RM": 6.015,
          "TAX": 247,
          "ZN": 0
         },
         {
          "A": 37.25,
          "AGE": 56.8,
          "B": 37.25,
          "C": 37.25,
          "CHAS": 0,
          "CRIM": 0.07151,
          "DIS": 3.7476,
          "INDUS": 4.49,
          "LSTAT": 8.44,
          "NOX": 0.449,
          "PRICE": 22.2,
          "PTRATIO": 18.5,
          "RAD": 3,
          "RM": 6.121,
          "TAX": 247,
          "ZN": 0
         },
         {
          "A": 34.98666666666667,
          "AGE": 86.3,
          "B": 34.98666666666667,
          "C": 34.98666666666667,
          "CHAS": 0,
          "CRIM": 0.0566,
          "DIS": 3.4217,
          "INDUS": 3.41,
          "LSTAT": 5.5,
          "NOX": 0.489,
          "PRICE": 23.6,
          "PTRATIO": 17.8,
          "RAD": 2,
          "RM": 7.007,
          "TAX": 270,
          "ZN": 0
         },
         {
          "A": 34.98666666666667,
          "AGE": 63.1,
          "B": 34.98666666666667,
          "C": 34.98666666666667,
          "CHAS": 0,
          "CRIM": 0.05302,
          "DIS": 3.4145,
          "INDUS": 3.41,
          "LSTAT": 5.7,
          "NOX": 0.489,
          "PRICE": 28.7,
          "PTRATIO": 17.8,
          "RAD": 2,
          "RM": 7.079,
          "TAX": 270,
          "ZN": 0
         },
         {
          "A": 34.98666666666667,
          "AGE": 66.1,
          "B": 34.98666666666667,
          "C": 34.98666666666667,
          "CHAS": 0,
          "CRIM": 0.04684,
          "DIS": 3.0923,
          "INDUS": 3.41,
          "LSTAT": 8.81,
          "NOX": 0.489,
          "PRICE": 22.6,
          "PTRATIO": 17.8,
          "RAD": 2,
          "RM": 6.417,
          "TAX": 270,
          "ZN": 0
         },
         {
          "A": 34.98666666666667,
          "AGE": 73.9,
          "B": 34.98666666666667,
          "C": 34.98666666666667,
          "CHAS": 0,
          "CRIM": 0.03932,
          "DIS": 3.0921,
          "INDUS": 3.41,
          "LSTAT": 8.2,
          "NOX": 0.489,
          "PRICE": 22,
          "PTRATIO": 17.8,
          "RAD": 2,
          "RM": 6.405,
          "TAX": 270,
          "ZN": 0
         },
         {
          "A": 36.32,
          "AGE": 53.6,
          "B": 36.32,
          "C": 36.32,
          "CHAS": 0,
          "CRIM": 0.04203,
          "DIS": 3.6659,
          "INDUS": 15.04,
          "LSTAT": 8.16,
          "NOX": 0.464,
          "PRICE": 22.9,
          "PTRATIO": 18.2,
          "RAD": 4,
          "RM": 6.442,
          "TAX": 270,
          "ZN": 28
         },
         {
          "A": 36.32,
          "AGE": 28.9,
          "B": 36.32,
          "C": 36.32,
          "CHAS": 0,
          "CRIM": 0.02875,
          "DIS": 3.6659,
          "INDUS": 15.04,
          "LSTAT": 6.21,
          "NOX": 0.464,
          "PRICE": 25,
          "PTRATIO": 18.2,
          "RAD": 4,
          "RM": 6.211,
          "TAX": 270,
          "ZN": 28
         },
         {
          "A": 36.32,
          "AGE": 77.3,
          "B": 36.32,
          "C": 36.32,
          "CHAS": 0,
          "CRIM": 0.04294,
          "DIS": 3.615,
          "INDUS": 15.04,
          "LSTAT": 10.59,
          "NOX": 0.464,
          "PRICE": 20.6,
          "PTRATIO": 18.2,
          "RAD": 4,
          "RM": 6.249,
          "TAX": 270,
          "ZN": 28
         },
         {
          "A": 35.666666666666664,
          "AGE": 57.8,
          "B": 35.666666666666664,
          "C": 35.666666666666664,
          "CHAS": 0,
          "CRIM": 0.12204,
          "DIS": 3.4952,
          "INDUS": 2.89,
          "LSTAT": 6.65,
          "NOX": 0.445,
          "PRICE": 28.4,
          "PTRATIO": 18,
          "RAD": 2,
          "RM": 6.625,
          "TAX": 276,
          "ZN": 0
         },
         {
          "A": 35.666666666666664,
          "AGE": 69.6,
          "B": 35.666666666666664,
          "C": 35.666666666666664,
          "CHAS": 0,
          "CRIM": 0.11504,
          "DIS": 3.4952,
          "INDUS": 2.89,
          "LSTAT": 11.34,
          "NOX": 0.445,
          "PRICE": 21.4,
          "PTRATIO": 18,
          "RAD": 2,
          "RM": 6.163,
          "TAX": 276,
          "ZN": 0
         },
         {
          "A": 35.666666666666664,
          "AGE": 76,
          "B": 35.666666666666664,
          "C": 35.666666666666664,
          "CHAS": 0,
          "CRIM": 0.12083,
          "DIS": 3.4952,
          "INDUS": 2.89,
          "LSTAT": 4.21,
          "NOX": 0.445,
          "PRICE": 38.7,
          "PTRATIO": 18,
          "RAD": 2,
          "RM": 8.069,
          "TAX": 276,
          "ZN": 0
         },
         {
          "A": 35.666666666666664,
          "AGE": 36.9,
          "B": 35.666666666666664,
          "C": 35.666666666666664,
          "CHAS": 0,
          "CRIM": 0.08187,
          "DIS": 3.4952,
          "INDUS": 2.89,
          "LSTAT": 3.57,
          "NOX": 0.445,
          "PRICE": 43.8,
          "PTRATIO": 18,
          "RAD": 2,
          "RM": 7.82,
          "TAX": 276,
          "ZN": 0
         },
         {
          "A": 35.666666666666664,
          "AGE": 62.5,
          "B": 35.666666666666664,
          "C": 35.666666666666664,
          "CHAS": 0,
          "CRIM": 0.0686,
          "DIS": 3.4952,
          "INDUS": 2.89,
          "LSTAT": 6.19,
          "NOX": 0.445,
          "PRICE": 33.2,
          "PTRATIO": 18,
          "RAD": 2,
          "RM": 7.416,
          "TAX": 276,
          "ZN": 0
         },
         {
          "A": 42.53,
          "AGE": 79.9,
          "B": 42.53,
          "C": 42.53,
          "CHAS": 0,
          "CRIM": 0.14866,
          "DIS": 2.7778,
          "INDUS": 8.56,
          "LSTAT": 9.42,
          "NOX": 0.52,
          "PRICE": 27.5,
          "PTRATIO": 20.9,
          "RAD": 5,
          "RM": 6.727,
          "TAX": 384,
          "ZN": 0
         },
         {
          "A": 42.53,
          "AGE": 71.3,
          "B": 42.53,
          "C": 42.53,
          "CHAS": 0,
          "CRIM": 0.11432,
          "DIS": 2.8561,
          "INDUS": 8.56,
          "LSTAT": 7.67,
          "NOX": 0.52,
          "PRICE": 26.5,
          "PTRATIO": 20.9,
          "RAD": 5,
          "RM": 6.781,
          "TAX": 384,
          "ZN": 0
         },
         {
          "A": 42.53,
          "AGE": 85.4,
          "B": 42.53,
          "C": 42.53,
          "CHAS": 0,
          "CRIM": 0.22876,
          "DIS": 2.7147,
          "INDUS": 8.56,
          "LSTAT": 10.63,
          "NOX": 0.52,
          "PRICE": 18.6,
          "PTRATIO": 20.9,
          "RAD": 5,
          "RM": 6.405,
          "TAX": 384,
          "ZN": 0
         },
         {
          "A": 42.53,
          "AGE": 87.4,
          "B": 42.53,
          "C": 42.53,
          "CHAS": 0,
          "CRIM": 0.21161,
          "DIS": 2.7147,
          "INDUS": 8.56,
          "LSTAT": 13.44,
          "NOX": 0.52,
          "PRICE": 19.3,
          "PTRATIO": 20.9,
          "RAD": 5,
          "RM": 6.137,
          "TAX": 384,
          "ZN": 0
         },
         {
          "A": 42.53,
          "AGE": 90,
          "B": 42.53,
          "C": 42.53,
          "CHAS": 0,
          "CRIM": 0.1396,
          "DIS": 2.421,
          "INDUS": 8.56,
          "LSTAT": 12.33,
          "NOX": 0.52,
          "PRICE": 20.1,
          "PTRATIO": 20.9,
          "RAD": 5,
          "RM": 6.167,
          "TAX": 384,
          "ZN": 0
         },
         {
          "A": 42.53,
          "AGE": 96.7,
          "B": 42.53,
          "C": 42.53,
          "CHAS": 0,
          "CRIM": 0.13262,
          "DIS": 2.1069,
          "INDUS": 8.56,
          "LSTAT": 16.47,
          "NOX": 0.52,
          "PRICE": 19.5,
          "PTRATIO": 20.9,
          "RAD": 5,
          "RM": 5.851,
          "TAX": 384,
          "ZN": 0
         },
         {
          "A": 42.53,
          "AGE": 91.9,
          "B": 42.53,
          "C": 42.53,
          "CHAS": 0,
          "CRIM": 0.1712,
          "DIS": 2.211,
          "INDUS": 8.56,
          "LSTAT": 18.66,
          "NOX": 0.52,
          "PRICE": 19.5,
          "PTRATIO": 20.9,
          "RAD": 5,
          "RM": 5.836,
          "TAX": 384,
          "ZN": 0
         },
         {
          "A": 42.53,
          "AGE": 85.2,
          "B": 42.53,
          "C": 42.53,
          "CHAS": 0,
          "CRIM": 0.13117,
          "DIS": 2.1224,
          "INDUS": 8.56,
          "LSTAT": 14.09,
          "NOX": 0.52,
          "PRICE": 20.4,
          "PTRATIO": 20.9,
          "RAD": 5,
          "RM": 6.127,
          "TAX": 384,
          "ZN": 0
         },
         {
          "A": 42.53,
          "AGE": 97.1,
          "B": 42.53,
          "C": 42.53,
          "CHAS": 0,
          "CRIM": 0.12802,
          "DIS": 2.4329,
          "INDUS": 8.56,
          "LSTAT": 12.27,
          "NOX": 0.52,
          "PRICE": 19.8,
          "PTRATIO": 20.9,
          "RAD": 5,
          "RM": 6.474,
          "TAX": 384,
          "ZN": 0
         },
         {
          "A": 42.53,
          "AGE": 91.2,
          "B": 42.53,
          "C": 42.53,
          "CHAS": 0,
          "CRIM": 0.26363,
          "DIS": 2.5451,
          "INDUS": 8.56,
          "LSTAT": 15.55,
          "NOX": 0.52,
          "PRICE": 19.4,
          "PTRATIO": 20.9,
          "RAD": 5,
          "RM": 6.229,
          "TAX": 384,
          "ZN": 0
         },
         {
          "A": 42.53,
          "AGE": 54.4,
          "B": 42.53,
          "C": 42.53,
          "CHAS": 0,
          "CRIM": 0.10793,
          "DIS": 2.7778,
          "INDUS": 8.56,
          "LSTAT": 13,
          "NOX": 0.52,
          "PRICE": 21.7,
          "PTRATIO": 20.9,
          "RAD": 5,
          "RM": 6.195,
          "TAX": 384,
          "ZN": 0
         },
         {
          "A": 34.98666666666667,
          "AGE": 81.6,
          "B": 34.98666666666667,
          "C": 34.98666666666667,
          "CHAS": 0,
          "CRIM": 0.10084,
          "DIS": 2.6775,
          "INDUS": 10.01,
          "LSTAT": 10.16,
          "NOX": 0.547,
          "PRICE": 22.8,
          "PTRATIO": 17.8,
          "RAD": 6,
          "RM": 6.715,
          "TAX": 432,
          "ZN": 0
         },
         {
          "A": 34.98666666666667,
          "AGE": 92.9,
          "B": 34.98666666666667,
          "C": 34.98666666666667,
          "CHAS": 0,
          "CRIM": 0.12329,
          "DIS": 2.3534,
          "INDUS": 10.01,
          "LSTAT": 16.21,
          "NOX": 0.547,
          "PRICE": 18.8,
          "PTRATIO": 17.8,
          "RAD": 6,
          "RM": 5.913,
          "TAX": 432,
          "ZN": 0
         },
         {
          "A": 34.98666666666667,
          "AGE": 95.4,
          "B": 34.98666666666667,
          "C": 34.98666666666667,
          "CHAS": 0,
          "CRIM": 0.22212,
          "DIS": 2.548,
          "INDUS": 10.01,
          "LSTAT": 17.09,
          "NOX": 0.547,
          "PRICE": 18.7,
          "PTRATIO": 17.8,
          "RAD": 6,
          "RM": 6.092,
          "TAX": 432,
          "ZN": 0
         },
         {
          "A": 34.98666666666667,
          "AGE": 84.2,
          "B": 34.98666666666667,
          "C": 34.98666666666667,
          "CHAS": 0,
          "CRIM": 0.14231,
          "DIS": 2.2565,
          "INDUS": 10.01,
          "LSTAT": 10.45,
          "NOX": 0.547,
          "PRICE": 18.5,
          "PTRATIO": 17.8,
          "RAD": 6,
          "RM": 6.254,
          "TAX": 432,
          "ZN": 0
         },
         {
          "A": 34.98666666666667,
          "AGE": 88.2,
          "B": 34.98666666666667,
          "C": 34.98666666666667,
          "CHAS": 0,
          "CRIM": 0.17134,
          "DIS": 2.4631,
          "INDUS": 10.01,
          "LSTAT": 15.76,
          "NOX": 0.547,
          "PRICE": 18.3,
          "PTRATIO": 17.8,
          "RAD": 6,
          "RM": 5.928,
          "TAX": 432,
          "ZN": 0
         },
         {
          "A": 34.98666666666667,
          "AGE": 72.5,
          "B": 34.98666666666667,
          "C": 34.98666666666667,
          "CHAS": 0,
          "CRIM": 0.13158,
          "DIS": 2.7301,
          "INDUS": 10.01,
          "LSTAT": 12.04,
          "NOX": 0.547,
          "PRICE": 21.2,
          "PTRATIO": 17.8,
          "RAD": 6,
          "RM": 6.176,
          "TAX": 432,
          "ZN": 0
         },
         {
          "A": 34.98666666666667,
          "AGE": 82.6,
          "B": 34.98666666666667,
          "C": 34.98666666666667,
          "CHAS": 0,
          "CRIM": 0.15098,
          "DIS": 2.7474,
          "INDUS": 10.01,
          "LSTAT": 10.3,
          "NOX": 0.547,
          "PRICE": 19.2,
          "PTRATIO": 17.8,
          "RAD": 6,
          "RM": 6.021,
          "TAX": 432,
          "ZN": 0
         },
         {
          "A": 34.98666666666667,
          "AGE": 73.1,
          "B": 34.98666666666667,
          "C": 34.98666666666667,
          "CHAS": 0,
          "CRIM": 0.13058,
          "DIS": 2.4775,
          "INDUS": 10.01,
          "LSTAT": 15.37,
          "NOX": 0.547,
          "PRICE": 20.4,
          "PTRATIO": 17.8,
          "RAD": 6,
          "RM": 5.872,
          "TAX": 432,
          "ZN": 0
         },
         {
          "A": 34.98666666666667,
          "AGE": 65.2,
          "B": 34.98666666666667,
          "C": 34.98666666666667,
          "CHAS": 0,
          "CRIM": 0.14476,
          "DIS": 2.7592,
          "INDUS": 10.01,
          "LSTAT": 13.61,
          "NOX": 0.547,
          "PRICE": 19.3,
          "PTRATIO": 17.8,
          "RAD": 6,
          "RM": 5.731,
          "TAX": 432,
          "ZN": 0
         },
         {
          "A": 38.93000000000001,
          "AGE": 69.7,
          "B": 38.93000000000001,
          "C": 38.93000000000001,
          "CHAS": 0,
          "CRIM": 0.06899,
          "DIS": 2.2577,
          "INDUS": 25.65,
          "LSTAT": 14.37,
          "NOX": 0.581,
          "PRICE": 22,
          "PTRATIO": 19.1,
          "RAD": 2,
          "RM": 5.87,
          "TAX": 188,
          "ZN": 0
         },
         {
          "A": 38.93000000000001,
          "AGE": 84.1,
          "B": 38.93000000000001,
          "C": 38.93000000000001,
          "CHAS": 0,
          "CRIM": 0.07165,
          "DIS": 2.1974,
          "INDUS": 25.65,
          "LSTAT": 14.27,
          "NOX": 0.581,
          "PRICE": 20.3,
          "PTRATIO": 19.1,
          "RAD": 2,
          "RM": 6.004,
          "TAX": 188,
          "ZN": 0
         },
         {
          "A": 38.93000000000001,
          "AGE": 92.9,
          "B": 38.93000000000001,
          "C": 38.93000000000001,
          "CHAS": 0,
          "CRIM": 0.09299,
          "DIS": 2.0869,
          "INDUS": 25.65,
          "LSTAT": 17.93,
          "NOX": 0.581,
          "PRICE": 20.5,
          "PTRATIO": 19.1,
          "RAD": 2,
          "RM": 5.961,
          "TAX": 188,
          "ZN": 0
         },
         {
          "A": 38.93000000000001,
          "AGE": 97,
          "B": 38.93000000000001,
          "C": 38.93000000000001,
          "CHAS": 0,
          "CRIM": 0.15038,
          "DIS": 1.9444,
          "INDUS": 25.65,
          "LSTAT": 25.41,
          "NOX": 0.581,
          "PRICE": 17.3,
          "PTRATIO": 19.1,
          "RAD": 2,
          "RM": 5.856,
          "TAX": 188,
          "ZN": 0
         },
         {
          "A": 38.93000000000001,
          "AGE": 95.8,
          "B": 38.93000000000001,
          "C": 38.93000000000001,
          "CHAS": 0,
          "CRIM": 0.09849,
          "DIS": 2.0063,
          "INDUS": 25.65,
          "LSTAT": 17.58,
          "NOX": 0.581,
          "PRICE": 18.8,
          "PTRATIO": 19.1,
          "RAD": 2,
          "RM": 5.879,
          "TAX": 188,
          "ZN": 0
         },
         {
          "A": 38.93000000000001,
          "AGE": 88.4,
          "B": 38.93000000000001,
          "C": 38.93000000000001,
          "CHAS": 0,
          "CRIM": 0.16902,
          "DIS": 1.9929,
          "INDUS": 25.65,
          "LSTAT": 14.81,
          "NOX": 0.581,
          "PRICE": 21.4,
          "PTRATIO": 19.1,
          "RAD": 2,
          "RM": 5.986,
          "TAX": 188,
          "ZN": 0
         },
         {
          "A": 38.93000000000001,
          "AGE": 95.6,
          "B": 38.93000000000001,
          "C": 38.93000000000001,
          "CHAS": 0,
          "CRIM": 0.38735,
          "DIS": 1.7572,
          "INDUS": 25.65,
          "LSTAT": 27.26,
          "NOX": 0.581,
          "PRICE": 15.7,
          "PTRATIO": 19.1,
          "RAD": 2,
          "RM": 5.613,
          "TAX": 188,
          "ZN": 0
         },
         {
          "A": 42.92,
          "AGE": 96,
          "B": 42.92,
          "C": 42.92,
          "CHAS": 0,
          "CRIM": 0.25915,
          "DIS": 1.7883,
          "INDUS": 21.89,
          "LSTAT": 17.19,
          "NOX": 0.624,
          "PRICE": 16.2,
          "PTRATIO": 21.2,
          "RAD": 4,
          "RM": 5.693,
          "TAX": 437,
          "ZN": 0
         },
         {
          "A": 42.92,
          "AGE": 98.8,
          "B": 42.92,
          "C": 42.92,
          "CHAS": 0,
          "CRIM": 0.32543,
          "DIS": 1.8125,
          "INDUS": 21.89,
          "LSTAT": 15.39,
          "NOX": 0.624,
          "PRICE": 18,
          "PTRATIO": 21.2,
          "RAD": 4,
          "RM": 6.431,
          "TAX": 437,
          "ZN": 0
         },
         {
          "A": 42.92,
          "AGE": 94.7,
          "B": 42.92,
          "C": 42.92,
          "CHAS": 0,
          "CRIM": 0.88125,
          "DIS": 1.9799,
          "INDUS": 21.89,
          "LSTAT": 18.34,
          "NOX": 0.624,
          "PRICE": 14.3,
          "PTRATIO": 21.2,
          "RAD": 4,
          "RM": 5.637,
          "TAX": 437,
          "ZN": 0
         },
         {
          "A": 42.92,
          "AGE": 98.9,
          "B": 42.92,
          "C": 42.92,
          "CHAS": 0,
          "CRIM": 0.34006,
          "DIS": 2.1185,
          "INDUS": 21.89,
          "LSTAT": 12.6,
          "NOX": 0.624,
          "PRICE": 19.2,
          "PTRATIO": 21.2,
          "RAD": 4,
          "RM": 6.458,
          "TAX": 437,
          "ZN": 0
         },
         {
          "A": 42.92,
          "AGE": 97.7,
          "B": 42.92,
          "C": 42.92,
          "CHAS": 0,
          "CRIM": 1.19294,
          "DIS": 2.271,
          "INDUS": 21.89,
          "LSTAT": 12.26,
          "NOX": 0.624,
          "PRICE": 19.6,
          "PTRATIO": 21.2,
          "RAD": 4,
          "RM": 6.326,
          "TAX": 437,
          "ZN": 0
         },
         {
          "A": 42.92,
          "AGE": 97.9,
          "B": 42.92,
          "C": 42.92,
          "CHAS": 0,
          "CRIM": 0.59005,
          "DIS": 2.3274,
          "INDUS": 21.89,
          "LSTAT": 11.12,
          "NOX": 0.624,
          "PRICE": 23,
          "PTRATIO": 21.2,
          "RAD": 4,
          "RM": 6.372,
          "TAX": 437,
          "ZN": 0
         },
         {
          "A": 42.92,
          "AGE": 95.4,
          "B": 42.92,
          "C": 42.92,
          "CHAS": 0,
          "CRIM": 0.32982,
          "DIS": 2.4699,
          "INDUS": 21.89,
          "LSTAT": 15.03,
          "NOX": 0.624,
          "PRICE": 18.4,
          "PTRATIO": 21.2,
          "RAD": 4,
          "RM": 5.822,
          "TAX": 437,
          "ZN": 0
         },
         {
          "A": 42.92,
          "AGE": 98.4,
          "B": 42.92,
          "C": 42.92,
          "CHAS": 0,
          "CRIM": 0.97617,
          "DIS": 2.346,
          "INDUS": 21.89,
          "LSTAT": 17.31,
          "NOX": 0.624,
          "PRICE": 15.6,
          "PTRATIO": 21.2,
          "RAD": 4,
          "RM": 5.757,
          "TAX": 437,
          "ZN": 0
         },
         {
          "A": 42.92,
          "AGE": 98.2,
          "B": 42.92,
          "C": 42.92,
          "CHAS": 0,
          "CRIM": 0.55778,
          "DIS": 2.1107,
          "INDUS": 21.89,
          "LSTAT": 16.96,
          "NOX": 0.624,
          "PRICE": 18.1,
          "PTRATIO": 21.2,
          "RAD": 4,
          "RM": 6.335,
          "TAX": 437,
          "ZN": 0
         },
         {
          "A": 42.92,
          "AGE": 93.5,
          "B": 42.92,
          "C": 42.92,
          "CHAS": 0,
          "CRIM": 0.32264,
          "DIS": 1.9669,
          "INDUS": 21.89,
          "LSTAT": 16.9,
          "NOX": 0.624,
          "PRICE": 17.4,
          "PTRATIO": 21.2,
          "RAD": 4,
          "RM": 5.942,
          "TAX": 437,
          "ZN": 0
         },
         {
          "A": 42.92,
          "AGE": 98.4,
          "B": 42.92,
          "C": 42.92,
          "CHAS": 0,
          "CRIM": 0.35233,
          "DIS": 1.8498,
          "INDUS": 21.89,
          "LSTAT": 14.59,
          "NOX": 0.624,
          "PRICE": 17.1,
          "PTRATIO": 21.2,
          "RAD": 4,
          "RM": 6.454,
          "TAX": 437,
          "ZN": 0
         },
         {
          "A": 42.92,
          "AGE": 98.2,
          "B": 42.92,
          "C": 42.92,
          "CHAS": 0,
          "CRIM": 0.2498,
          "DIS": 1.6686,
          "INDUS": 21.89,
          "LSTAT": 21.32,
          "NOX": 0.624,
          "PRICE": 13.3,
          "PTRATIO": 21.2,
          "RAD": 4,
          "RM": 5.857,
          "TAX": 437,
          "ZN": 0
         },
         {
          "A": 42.92,
          "AGE": 97.9,
          "B": 42.92,
          "C": 42.92,
          "CHAS": 0,
          "CRIM": 0.54452,
          "DIS": 1.6687,
          "INDUS": 21.89,
          "LSTAT": 18.46,
          "NOX": 0.624,
          "PRICE": 17.8,
          "PTRATIO": 21.2,
          "RAD": 4,
          "RM": 6.151,
          "TAX": 437,
          "ZN": 0
         },
         {
          "A": 42.92,
          "AGE": 93.6,
          "B": 42.92,
          "C": 42.92,
          "CHAS": 0,
          "CRIM": 0.2909,
          "DIS": 1.6119,
          "INDUS": 21.89,
          "LSTAT": 24.16,
          "NOX": 0.624,
          "PRICE": 14,
          "PTRATIO": 21.2,
          "RAD": 4,
          "RM": 6.174,
          "TAX": 437,
          "ZN": 0
         },
         {
          "A": 42.92,
          "AGE": 100,
          "B": 42.92,
          "C": 42.92,
          "CHAS": 0,
          "CRIM": 1.62864,
          "DIS": 1.4394,
          "INDUS": 21.89,
          "LSTAT": 34.41,
          "NOX": 0.624,
          "PRICE": 14.4,
          "PTRATIO": 21.2,
          "RAD": 4,
          "RM": 5.019,
          "TAX": 437,
          "ZN": 0
         },
         {
          "A": 21.03666666666666,
          "AGE": 100,
          "B": 21.03666666666666,
          "C": 21.03666666666666,
          "CHAS": 1,
          "CRIM": 3.32105,
          "DIS": 1.3216,
          "INDUS": 19.58,
          "LSTAT": 26.82,
          "NOX": 0.871,
          "PRICE": 13.4,
          "PTRATIO": 14.7,
          "RAD": 5,
          "RM": 5.403,
          "TAX": 403,
          "ZN": 0
         },
         {
          "A": 21.03666666666666,
          "AGE": 100,
          "B": 21.03666666666666,
          "C": 21.03666666666666,
          "CHAS": 0,
          "CRIM": 4.0974,
          "DIS": 1.4118,
          "INDUS": 19.58,
          "LSTAT": 26.42,
          "NOX": 0.871,
          "PRICE": 15.6,
          "PTRATIO": 14.7,
          "RAD": 5,
          "RM": 5.468,
          "TAX": 403,
          "ZN": 0
         },
         {
          "A": 21.03666666666666,
          "AGE": 97.8,
          "B": 21.03666666666666,
          "C": 21.03666666666666,
          "CHAS": 0,
          "CRIM": 2.77974,
          "DIS": 1.3459,
          "INDUS": 19.58,
          "LSTAT": 29.29,
          "NOX": 0.871,
          "PRICE": 11.8,
          "PTRATIO": 14.7,
          "RAD": 5,
          "RM": 4.903,
          "TAX": 403,
          "ZN": 0
         },
         {
          "A": 21.03666666666666,
          "AGE": 100,
          "B": 21.03666666666666,
          "C": 21.03666666666666,
          "CHAS": 0,
          "CRIM": 2.37934,
          "DIS": 1.4191,
          "INDUS": 19.58,
          "LSTAT": 27.8,
          "NOX": 0.871,
          "PRICE": 13.8,
          "PTRATIO": 14.7,
          "RAD": 5,
          "RM": 6.13,
          "TAX": 403,
          "ZN": 0
         },
         {
          "A": 21.03666666666666,
          "AGE": 100,
          "B": 21.03666666666666,
          "C": 21.03666666666666,
          "CHAS": 0,
          "CRIM": 2.15505,
          "DIS": 1.5166,
          "INDUS": 19.58,
          "LSTAT": 16.65,
          "NOX": 0.871,
          "PRICE": 15.6,
          "PTRATIO": 14.7,
          "RAD": 5,
          "RM": 5.628,
          "TAX": 403,
          "ZN": 0
         },
         {
          "A": 21.03666666666666,
          "AGE": 95.7,
          "B": 21.03666666666666,
          "C": 21.03666666666666,
          "CHAS": 0,
          "CRIM": 2.36862,
          "DIS": 1.4608,
          "INDUS": 19.58,
          "LSTAT": 29.53,
          "NOX": 0.871,
          "PRICE": 14.6,
          "PTRATIO": 14.7,
          "RAD": 5,
          "RM": 4.926,
          "TAX": 403,
          "ZN": 0
         },
         {
          "A": 21.03666666666666,
          "AGE": 93.8,
          "B": 21.03666666666666,
          "C": 21.03666666666666,
          "CHAS": 0,
          "CRIM": 2.33099,
          "DIS": 1.5296,
          "INDUS": 19.58,
          "LSTAT": 28.32,
          "NOX": 0.871,
          "PRICE": 17.8,
          "PTRATIO": 14.7,
          "RAD": 5,
          "RM": 5.186,
          "TAX": 403,
          "ZN": 0
         },
         {
          "A": 21.03666666666666,
          "AGE": 94.9,
          "B": 21.03666666666666,
          "C": 21.03666666666666,
          "CHAS": 0,
          "CRIM": 2.73397,
          "DIS": 1.5257,
          "INDUS": 19.58,
          "LSTAT": 21.45,
          "NOX": 0.871,
          "PRICE": 15.4,
          "PTRATIO": 14.7,
          "RAD": 5,
          "RM": 5.597,
          "TAX": 403,
          "ZN": 0
         },
         {
          "A": 21.03666666666666,
          "AGE": 97.3,
          "B": 21.03666666666666,
          "C": 21.03666666666666,
          "CHAS": 0,
          "CRIM": 1.6566,
          "DIS": 1.618,
          "INDUS": 19.58,
          "LSTAT": 14.1,
          "NOX": 0.871,
          "PRICE": 21.5,
          "PTRATIO": 14.7,
          "RAD": 5,
          "RM": 6.122,
          "TAX": 403,
          "ZN": 0
         },
         {
          "A": 21.03666666666666,
          "AGE": 100,
          "B": 21.03666666666666,
          "C": 21.03666666666666,
          "CHAS": 0,
          "CRIM": 1.49632,
          "DIS": 1.5916,
          "INDUS": 19.58,
          "LSTAT": 13.28,
          "NOX": 0.871,
          "PRICE": 19.6,
          "PTRATIO": 14.7,
          "RAD": 5,
          "RM": 5.404,
          "TAX": 403,
          "ZN": 0
         },
         {
          "A": 21.03666666666666,
          "AGE": 88,
          "B": 21.03666666666666,
          "C": 21.03666666666666,
          "CHAS": 1,
          "CRIM": 1.12658,
          "DIS": 1.6102,
          "INDUS": 19.58,
          "LSTAT": 12.12,
          "NOX": 0.871,
          "PRICE": 15.3,
          "PTRATIO": 14.7,
          "RAD": 5,
          "RM": 5.012,
          "TAX": 403,
          "ZN": 0
         },
         {
          "A": 21.03666666666666,
          "AGE": 98.5,
          "B": 21.03666666666666,
          "C": 21.03666666666666,
          "CHAS": 0,
          "CRIM": 2.14918,
          "DIS": 1.6232,
          "INDUS": 19.58,
          "LSTAT": 15.79,
          "NOX": 0.871,
          "PRICE": 19.4,
          "PTRATIO": 14.7,
          "RAD": 5,
          "RM": 5.709,
          "TAX": 403,
          "ZN": 0
         },
         {
          "A": 21.03666666666666,
          "AGE": 96,
          "B": 21.03666666666666,
          "C": 21.03666666666666,
          "CHAS": 1,
          "CRIM": 1.41385,
          "DIS": 1.7494,
          "INDUS": 19.58,
          "LSTAT": 15.12,
          "NOX": 0.871,
          "PRICE": 17,
          "PTRATIO": 14.7,
          "RAD": 5,
          "RM": 6.129,
          "TAX": 403,
          "ZN": 0
         },
         {
          "A": 21.03666666666666,
          "AGE": 82.6,
          "B": 21.03666666666666,
          "C": 21.03666666666666,
          "CHAS": 1,
          "CRIM": 3.53501,
          "DIS": 1.7455,
          "INDUS": 19.58,
          "LSTAT": 15.02,
          "NOX": 0.871,
          "PRICE": 15.6,
          "PTRATIO": 14.7,
          "RAD": 5,
          "RM": 6.152,
          "TAX": 403,
          "ZN": 0
         },
         {
          "A": 21.03666666666666,
          "AGE": 94,
          "B": 21.03666666666666,
          "C": 21.03666666666666,
          "CHAS": 0,
          "CRIM": 2.44668,
          "DIS": 1.7364,
          "INDUS": 19.58,
          "LSTAT": 16.14,
          "NOX": 0.871,
          "PRICE": 13.1,
          "PTRATIO": 14.7,
          "RAD": 5,
          "RM": 5.272,
          "TAX": 403,
          "ZN": 0
         },
         {
          "A": 21.03666666666666,
          "AGE": 97.4,
          "B": 21.03666666666666,
          "C": 21.03666666666666,
          "CHAS": 0,
          "CRIM": 1.22358,
          "DIS": 1.8773,
          "INDUS": 19.58,
          "LSTAT": 4.59,
          "NOX": 0.605,
          "PRICE": 41.3,
          "PTRATIO": 14.7,
          "RAD": 5,
          "RM": 6.943,
          "TAX": 403,
          "ZN": 0
         },
         {
          "A": 21.03666666666666,
          "AGE": 100,
          "B": 21.03666666666666,
          "C": 21.03666666666666,
          "CHAS": 0,
          "CRIM": 1.34284,
          "DIS": 1.7573,
          "INDUS": 19.58,
          "LSTAT": 6.43,
          "NOX": 0.605,
          "PRICE": 24.3,
          "PTRATIO": 14.7,
          "RAD": 5,
          "RM": 6.066,
          "TAX": 403,
          "ZN": 0
         },
         {
          "A": 21.03666666666666,
          "AGE": 100,
          "B": 21.03666666666666,
          "C": 21.03666666666666,
          "CHAS": 0,
          "CRIM": 1.42502,
          "DIS": 1.7659,
          "INDUS": 19.58,
          "LSTAT": 7.39,
          "NOX": 0.871,
          "PRICE": 23.3,
          "PTRATIO": 14.7,
          "RAD": 5,
          "RM": 6.51,
          "TAX": 403,
          "ZN": 0
         },
         {
          "A": 21.03666666666666,
          "AGE": 92.6,
          "B": 21.03666666666666,
          "C": 21.03666666666666,
          "CHAS": 1,
          "CRIM": 1.27346,
          "DIS": 1.7984,
          "INDUS": 19.58,
          "LSTAT": 5.5,
          "NOX": 0.605,
          "PRICE": 27,
          "PTRATIO": 14.7,
          "RAD": 5,
          "RM": 6.25,
          "TAX": 403,
          "ZN": 0
         },
         {
          "A": 21.03666666666666,
          "AGE": 90.8,
          "B": 21.03666666666666,
          "C": 21.03666666666666,
          "CHAS": 0,
          "CRIM": 1.46336,
          "DIS": 1.9709,
          "INDUS": 19.58,
          "LSTAT": 1.73,
          "NOX": 0.605,
          "PRICE": 50,
          "PTRATIO": 14.7,
          "RAD": 5,
          "RM": 7.489,
          "TAX": 403,
          "ZN": 0
         },
         {
          "A": 21.03666666666666,
          "AGE": 98.2,
          "B": 21.03666666666666,
          "C": 21.03666666666666,
          "CHAS": 1,
          "CRIM": 1.83377,
          "DIS": 2.0407,
          "INDUS": 19.58,
          "LSTAT": 1.92,
          "NOX": 0.605,
          "PRICE": 50,
          "PTRATIO": 14.7,
          "RAD": 5,
          "RM": 7.802,
          "TAX": 403,
          "ZN": 0
         },
         {
          "A": 21.03666666666666,
          "AGE": 93.9,
          "B": 21.03666666666666,
          "C": 21.03666666666666,
          "CHAS": 1,
          "CRIM": 1.51902,
          "DIS": 2.162,
          "INDUS": 19.58,
          "LSTAT": 3.32,
          "NOX": 0.605,
          "PRICE": 50,
          "PTRATIO": 14.7,
          "RAD": 5,
          "RM": 8.375,
          "TAX": 403,
          "ZN": 0
         },
         {
          "A": 21.03666666666666,
          "AGE": 91.8,
          "B": 21.03666666666666,
          "C": 21.03666666666666,
          "CHAS": 0,
          "CRIM": 2.24236,
          "DIS": 2.422,
          "INDUS": 19.58,
          "LSTAT": 11.64,
          "NOX": 0.605,
          "PRICE": 22.7,
          "PTRATIO": 14.7,
          "RAD": 5,
          "RM": 5.854,
          "TAX": 403,
          "ZN": 0
         },
         {
          "A": 21.03666666666666,
          "AGE": 93,
          "B": 21.03666666666666,
          "C": 21.03666666666666,
          "CHAS": 0,
          "CRIM": 2.924,
          "DIS": 2.2834,
          "INDUS": 19.58,
          "LSTAT": 9.81,
          "NOX": 0.605,
          "PRICE": 25,
          "PTRATIO": 14.7,
          "RAD": 5,
          "RM": 6.101,
          "TAX": 403,
          "ZN": 0
         },
         {
          "A": 21.03666666666666,
          "AGE": 96.2,
          "B": 21.03666666666666,
          "C": 21.03666666666666,
          "CHAS": 0,
          "CRIM": 2.01019,
          "DIS": 2.0459,
          "INDUS": 19.58,
          "LSTAT": 3.7,
          "NOX": 0.605,
          "PRICE": 50,
          "PTRATIO": 14.7,
          "RAD": 5,
          "RM": 7.929,
          "TAX": 403,
          "ZN": 0
         },
         {
          "A": 21.03666666666666,
          "AGE": 79.2,
          "B": 21.03666666666666,
          "C": 21.03666666666666,
          "CHAS": 0,
          "CRIM": 1.80028,
          "DIS": 2.4259,
          "INDUS": 19.58,
          "LSTAT": 12.14,
          "NOX": 0.605,
          "PRICE": 23.8,
          "PTRATIO": 14.7,
          "RAD": 5,
          "RM": 5.877,
          "TAX": 403,
          "ZN": 0
         },
         {
          "A": 21.03666666666666,
          "AGE": 96.1,
          "B": 21.03666666666666,
          "C": 21.03666666666666,
          "CHAS": 0,
          "CRIM": 2.3004,
          "DIS": 2.1,
          "INDUS": 19.58,
          "LSTAT": 11.1,
          "NOX": 0.605,
          "PRICE": 23.8,
          "PTRATIO": 14.7,
          "RAD": 5,
          "RM": 6.319,
          "TAX": 403,
          "ZN": 0
         },
         {
          "A": 21.03666666666666,
          "AGE": 95.2,
          "B": 21.03666666666666,
          "C": 21.03666666666666,
          "CHAS": 0,
          "CRIM": 2.44953,
          "DIS": 2.2625,
          "INDUS": 19.58,
          "LSTAT": 11.32,
          "NOX": 0.605,
          "PRICE": 22.3,
          "PTRATIO": 14.7,
          "RAD": 5,
          "RM": 6.402,
          "TAX": 403,
          "ZN": 0
         },
         {
          "A": 21.03666666666666,
          "AGE": 94.6,
          "B": 21.03666666666666,
          "C": 21.03666666666666,
          "CHAS": 0,
          "CRIM": 1.20742,
          "DIS": 2.4259,
          "INDUS": 19.58,
          "LSTAT": 14.43,
          "NOX": 0.605,
          "PRICE": 17.4,
          "PTRATIO": 14.7,
          "RAD": 5,
          "RM": 5.875,
          "TAX": 403,
          "ZN": 0
         },
         {
          "A": 21.03666666666666,
          "AGE": 97.3,
          "B": 21.03666666666666,
          "C": 21.03666666666666,
          "CHAS": 0,
          "CRIM": 2.3139,
          "DIS": 2.3887,
          "INDUS": 19.58,
          "LSTAT": 12.03,
          "NOX": 0.605,
          "PRICE": 19.1,
          "PTRATIO": 14.7,
          "RAD": 5,
          "RM": 5.88,
          "TAX": 403,
          "ZN": 0
         },
         {
          "A": 30.34666666666667,
          "AGE": 88.5,
          "B": 30.34666666666667,
          "C": 30.34666666666667,
          "CHAS": 0,
          "CRIM": 0.13914,
          "DIS": 2.5961,
          "INDUS": 4.05,
          "LSTAT": 14.69,
          "NOX": 0.51,
          "PRICE": 23.1,
          "PTRATIO": 16.6,
          "RAD": 5,
          "RM": 5.572,
          "TAX": 296,
          "ZN": 0
         },
         {
          "A": 30.34666666666667,
          "AGE": 84.1,
          "B": 30.34666666666667,
          "C": 30.34666666666667,
          "CHAS": 0,
          "CRIM": 0.09178,
          "DIS": 2.6463,
          "INDUS": 4.05,
          "LSTAT": 9.04,
          "NOX": 0.51,
          "PRICE": 23.6,
          "PTRATIO": 16.6,
          "RAD": 5,
          "RM": 6.416,
          "TAX": 296,
          "ZN": 0
         },
         {
          "A": 30.34666666666667,
          "AGE": 68.7,
          "B": 30.34666666666667,
          "C": 30.34666666666667,
          "CHAS": 0,
          "CRIM": 0.08447,
          "DIS": 2.7019,
          "INDUS": 4.05,
          "LSTAT": 9.64,
          "NOX": 0.51,
          "PRICE": 22.6,
          "PTRATIO": 16.6,
          "RAD": 5,
          "RM": 5.859,
          "TAX": 296,
          "ZN": 0
         },
         {
          "A": 30.34666666666667,
          "AGE": 33.1,
          "B": 30.34666666666667,
          "C": 30.34666666666667,
          "CHAS": 0,
          "CRIM": 0.06664,
          "DIS": 3.1323,
          "INDUS": 4.05,
          "LSTAT": 5.33,
          "NOX": 0.51,
          "PRICE": 29.4,
          "PTRATIO": 16.6,
          "RAD": 5,
          "RM": 6.546,
          "TAX": 296,
          "ZN": 0
         },
         {
          "A": 30.34666666666667,
          "AGE": 47.2,
          "B": 30.34666666666667,
          "C": 30.34666666666667,
          "CHAS": 0,
          "CRIM": 0.07022,
          "DIS": 3.5549,
          "INDUS": 4.05,
          "LSTAT": 10.11,
          "NOX": 0.51,
          "PRICE": 23.2,
          "PTRATIO": 16.6,
          "RAD": 5,
          "RM": 6.02,
          "TAX": 296,
          "ZN": 0
         },
         {
          "A": 30.34666666666667,
          "AGE": 73.4,
          "B": 30.34666666666667,
          "C": 30.34666666666667,
          "CHAS": 0,
          "CRIM": 0.05425,
          "DIS": 3.3175,
          "INDUS": 4.05,
          "LSTAT": 6.29,
          "NOX": 0.51,
          "PRICE": 24.6,
          "PTRATIO": 16.6,
          "RAD": 5,
          "RM": 6.315,
          "TAX": 296,
          "ZN": 0
         },
         {
          "A": 30.34666666666667,
          "AGE": 74.4,
          "B": 30.34666666666667,
          "C": 30.34666666666667,
          "CHAS": 0,
          "CRIM": 0.06642,
          "DIS": 2.9153,
          "INDUS": 4.05,
          "LSTAT": 6.92,
          "NOX": 0.51,
          "PRICE": 29.9,
          "PTRATIO": 16.6,
          "RAD": 5,
          "RM": 6.86,
          "TAX": 296,
          "ZN": 0
         },
         {
          "A": 34.98666666666667,
          "AGE": 58.4,
          "B": 34.98666666666667,
          "C": 34.98666666666667,
          "CHAS": 0,
          "CRIM": 0.0578,
          "DIS": 2.829,
          "INDUS": 2.46,
          "LSTAT": 5.04,
          "NOX": 0.488,
          "PRICE": 37.2,
          "PTRATIO": 17.8,
          "RAD": 3,
          "RM": 6.98,
          "TAX": 193,
          "ZN": 0
         },
         {
          "A": 34.98666666666667,
          "AGE": 83.3,
          "B": 34.98666666666667,
          "C": 34.98666666666667,
          "CHAS": 0,
          "CRIM": 0.06588,
          "DIS": 2.741,
          "INDUS": 2.46,
          "LSTAT": 7.56,
          "NOX": 0.488,
          "PRICE": 39.8,
          "PTRATIO": 17.8,
          "RAD": 3,
          "RM": 7.765,
          "TAX": 193,
          "ZN": 0
         },
         {
          "A": 34.98666666666667,
          "AGE": 62.2,
          "B": 34.98666666666667,
          "C": 34.98666666666667,
          "CHAS": 0,
          "CRIM": 0.06888,
          "DIS": 2.5979,
          "INDUS": 2.46,
          "LSTAT": 9.45,
          "NOX": 0.488,
          "PRICE": 36.2,
          "PTRATIO": 17.8,
          "RAD": 3,
          "RM": 6.144,
          "TAX": 193,
          "ZN": 0
         },
         {
          "A": 34.98666666666667,
          "AGE": 92.2,
          "B": 34.98666666666667,
          "C": 34.98666666666667,
          "CHAS": 0,
          "CRIM": 0.09103,
          "DIS": 2.7006,
          "INDUS": 2.46,
          "LSTAT": 4.82,
          "NOX": 0.488,
          "PRICE": 37.9,
          "PTRATIO": 17.8,
          "RAD": 3,
          "RM": 7.155,
          "TAX": 193,
          "ZN": 0
         },
         {
          "A": 34.98666666666667,
          "AGE": 95.6,
          "B": 34.98666666666667,
          "C": 34.98666666666667,
          "CHAS": 0,
          "CRIM": 0.10008,
          "DIS": 2.847,
          "INDUS": 2.46,
          "LSTAT": 5.68,
          "NOX": 0.488,
          "PRICE": 32.5,
          "PTRATIO": 17.8,
          "RAD": 3,
          "RM": 6.563,
          "TAX": 193,
          "ZN": 0
         },
         {
          "A": 34.98666666666667,
          "AGE": 89.8,
          "B": 34.98666666666667,
          "C": 34.98666666666667,
          "CHAS": 0,
          "CRIM": 0.08308,
          "DIS": 2.9879,
          "INDUS": 2.46,
          "LSTAT": 13.98,
          "NOX": 0.488,
          "PRICE": 26.4,
          "PTRATIO": 17.8,
          "RAD": 3,
          "RM": 5.604,
          "TAX": 193,
          "ZN": 0
         },
         {
          "A": 34.98666666666667,
          "AGE": 68.8,
          "B": 34.98666666666667,
          "C": 34.98666666666667,
          "CHAS": 0,
          "CRIM": 0.06047,
          "DIS": 3.2797,
          "INDUS": 2.46,
          "LSTAT": 13.15,
          "NOX": 0.488,
          "PRICE": 29.6,
          "PTRATIO": 17.8,
          "RAD": 3,
          "RM": 6.153,
          "TAX": 193,
          "ZN": 0
         },
         {
          "A": 34.98666666666667,
          "AGE": 53.6,
          "B": 34.98666666666667,
          "C": 34.98666666666667,
          "CHAS": 0,
          "CRIM": 0.05602,
          "DIS": 3.1992,
          "INDUS": 2.46,
          "LSTAT": 4.45,
          "NOX": 0.488,
          "PRICE": 50,
          "PTRATIO": 17.8,
          "RAD": 3,
          "RM": 7.831,
          "TAX": 193,
          "ZN": 0
         },
         {
          "A": 23.719999999999995,
          "AGE": 41.1,
          "B": 23.719999999999995,
          "C": 23.719999999999995,
          "CHAS": 0,
          "CRIM": 0.07875,
          "DIS": 3.7886,
          "INDUS": 3.44,
          "LSTAT": 6.68,
          "NOX": 0.437,
          "PRICE": 32,
          "PTRATIO": 15.2,
          "RAD": 5,
          "RM": 6.782,
          "TAX": 398,
          "ZN": 45
         },
         {
          "A": 23.719999999999995,
          "AGE": 29.1,
          "B": 23.719999999999995,
          "C": 23.719999999999995,
          "CHAS": 0,
          "CRIM": 0.12579,
          "DIS": 4.5667,
          "INDUS": 3.44,
          "LSTAT": 4.56,
          "NOX": 0.437,
          "PRICE": 29.8,
          "PTRATIO": 15.2,
          "RAD": 5,
          "RM": 6.556,
          "TAX": 398,
          "ZN": 45
         },
         {
          "A": 23.719999999999995,
          "AGE": 38.9,
          "B": 23.719999999999995,
          "C": 23.719999999999995,
          "CHAS": 0,
          "CRIM": 0.0837,
          "DIS": 4.5667,
          "INDUS": 3.44,
          "LSTAT": 5.39,
          "NOX": 0.437,
          "PRICE": 34.9,
          "PTRATIO": 15.2,
          "RAD": 5,
          "RM": 7.185,
          "TAX": 398,
          "ZN": 45
         },
         {
          "A": 23.719999999999995,
          "AGE": 21.5,
          "B": 23.719999999999995,
          "C": 23.719999999999995,
          "CHAS": 0,
          "CRIM": 0.09068,
          "DIS": 6.4798,
          "INDUS": 3.44,
          "LSTAT": 5.1,
          "NOX": 0.437,
          "PRICE": 37,
          "PTRATIO": 15.2,
          "RAD": 5,
          "RM": 6.951,
          "TAX": 398,
          "ZN": 45
         },
         {
          "A": 23.719999999999995,
          "AGE": 30.8,
          "B": 23.719999999999995,
          "C": 23.719999999999995,
          "CHAS": 0,
          "CRIM": 0.06911,
          "DIS": 6.4798,
          "INDUS": 3.44,
          "LSTAT": 4.69,
          "NOX": 0.437,
          "PRICE": 30.5,
          "PTRATIO": 15.2,
          "RAD": 5,
          "RM": 6.739,
          "TAX": 398,
          "ZN": 45
         },
         {
          "A": 23.719999999999995,
          "AGE": 26.3,
          "B": 23.719999999999995,
          "C": 23.719999999999995,
          "CHAS": 0,
          "CRIM": 0.08664,
          "DIS": 6.4798,
          "INDUS": 3.44,
          "LSTAT": 2.87,
          "NOX": 0.437,
          "PRICE": 36.4,
          "PTRATIO": 15.2,
          "RAD": 5,
          "RM": 7.178,
          "TAX": 398,
          "ZN": 45
         },
         {
          "A": 25.74666666666667,
          "AGE": 9.9,
          "B": 25.74666666666667,
          "C": 25.74666666666667,
          "CHAS": 0,
          "CRIM": 0.02187,
          "DIS": 6.2196,
          "INDUS": 2.93,
          "LSTAT": 5.03,
          "NOX": 0.401,
          "PRICE": 31.1,
          "PTRATIO": 15.6,
          "RAD": 1,
          "RM": 6.8,
          "TAX": 265,
          "ZN": 60
         },
         {
          "A": 25.74666666666667,
          "AGE": 18.8,
          "B": 25.74666666666667,
          "C": 25.74666666666667,
          "CHAS": 0,
          "CRIM": 0.01439,
          "DIS": 6.2196,
          "INDUS": 2.93,
          "LSTAT": 4.38,
          "NOX": 0.401,
          "PRICE": 29.1,
          "PTRATIO": 15.6,
          "RAD": 1,
          "RM": 6.604,
          "TAX": 265,
          "ZN": 60
         },
         {
          "A": 19.34666666666667,
          "AGE": 32,
          "B": 19.34666666666667,
          "C": 19.34666666666667,
          "CHAS": 0,
          "CRIM": 0.01381,
          "DIS": 5.6484,
          "INDUS": 0.46,
          "LSTAT": 2.97,
          "NOX": 0.422,
          "PRICE": 50,
          "PTRATIO": 14.4,
          "RAD": 4,
          "RM": 7.875,
          "TAX": 255,
          "ZN": 80
         },
         {
          "A": 7.946666666666665,
          "AGE": 34.1,
          "B": 7.946666666666665,
          "C": 7.946666666666665,
          "CHAS": 0,
          "CRIM": 0.04011,
          "DIS": 7.309,
          "INDUS": 1.52,
          "LSTAT": 4.08,
          "NOX": 0.404,
          "PRICE": 33.3,
          "PTRATIO": 12.6,
          "RAD": 2,
          "RM": 7.287,
          "TAX": 329,
          "ZN": 80
         },
         {
          "A": 7.946666666666665,
          "AGE": 36.6,
          "B": 7.946666666666665,
          "C": 7.946666666666665,
          "CHAS": 0,
          "CRIM": 0.04666,
          "DIS": 7.309,
          "INDUS": 1.52,
          "LSTAT": 8.61,
          "NOX": 0.404,
          "PRICE": 30.3,
          "PTRATIO": 12.6,
          "RAD": 2,
          "RM": 7.107,
          "TAX": 329,
          "ZN": 80
         },
         {
          "A": 7.946666666666665,
          "AGE": 38.3,
          "B": 7.946666666666665,
          "C": 7.946666666666665,
          "CHAS": 0,
          "CRIM": 0.03768,
          "DIS": 7.309,
          "INDUS": 1.52,
          "LSTAT": 6.62,
          "NOX": 0.404,
          "PRICE": 34.6,
          "PTRATIO": 12.6,
          "RAD": 2,
          "RM": 7.274,
          "TAX": 329,
          "ZN": 80
         },
         {
          "A": 32,
          "AGE": 15.3,
          "B": 32,
          "C": 32,
          "CHAS": 0,
          "CRIM": 0.0315,
          "DIS": 7.6534,
          "INDUS": 1.47,
          "LSTAT": 4.56,
          "NOX": 0.403,
          "PRICE": 34.9,
          "PTRATIO": 17,
          "RAD": 3,
          "RM": 6.975,
          "TAX": 402,
          "ZN": 95
         },
         {
          "A": 32,
          "AGE": 13.9,
          "B": 32,
          "C": 32,
          "CHAS": 0,
          "CRIM": 0.01778,
          "DIS": 7.6534,
          "INDUS": 1.47,
          "LSTAT": 4.45,
          "NOX": 0.403,
          "PRICE": 32.9,
          "PTRATIO": 17,
          "RAD": 3,
          "RM": 7.135,
          "TAX": 402,
          "ZN": 95
         },
         {
          "A": 21.03666666666666,
          "AGE": 38.4,
          "B": 21.03666666666666,
          "C": 21.03666666666666,
          "CHAS": 0,
          "CRIM": 0.03445,
          "DIS": 6.27,
          "INDUS": 2.03,
          "LSTAT": 7.43,
          "NOX": 0.415,
          "PRICE": 24.1,
          "PTRATIO": 14.7,
          "RAD": 2,
          "RM": 6.162,
          "TAX": 348,
          "ZN": 82.5
         },
         {
          "A": 21.03666666666666,
          "AGE": 15.7,
          "B": 21.03666666666666,
          "C": 21.03666666666666,
          "CHAS": 0,
          "CRIM": 0.02177,
          "DIS": 6.27,
          "INDUS": 2.03,
          "LSTAT": 3.11,
          "NOX": 0.415,
          "PRICE": 42.3,
          "PTRATIO": 14.7,
          "RAD": 2,
          "RM": 7.61,
          "TAX": 348,
          "ZN": 82.5
         },
         {
          "A": 21.03666666666666,
          "AGE": 33.2,
          "B": 21.03666666666666,
          "C": 21.03666666666666,
          "CHAS": 0,
          "CRIM": 0.0351,
          "DIS": 5.118,
          "INDUS": 2.68,
          "LSTAT": 3.81,
          "NOX": 0.4161,
          "PRICE": 48.5,
          "PTRATIO": 14.7,
          "RAD": 4,
          "RM": 7.853,
          "TAX": 224,
          "ZN": 95
         },
         {
          "A": 21.03666666666666,
          "AGE": 31.9,
          "B": 21.03666666666666,
          "C": 21.03666666666666,
          "CHAS": 0,
          "CRIM": 0.02009,
          "DIS": 5.118,
          "INDUS": 2.68,
          "LSTAT": 2.88,
          "NOX": 0.4161,
          "PRICE": 50,
          "PTRATIO": 14.7,
          "RAD": 4,
          "RM": 8.034,
          "TAX": 224,
          "ZN": 95
         },
         {
          "A": 37.546666666666674,
          "AGE": 22.3,
          "B": 37.546666666666674,
          "C": 37.546666666666674,
          "CHAS": 0,
          "CRIM": 0.13642,
          "DIS": 3.9454,
          "INDUS": 10.59,
          "LSTAT": 10.87,
          "NOX": 0.489,
          "PRICE": 22.6,
          "PTRATIO": 18.6,
          "RAD": 4,
          "RM": 5.891,
          "TAX": 277,
          "ZN": 0
         },
         {
          "A": 37.546666666666674,
          "AGE": 52.5,
          "B": 37.546666666666674,
          "C": 37.546666666666674,
          "CHAS": 0,
          "CRIM": 0.22969,
          "DIS": 4.3549,
          "INDUS": 10.59,
          "LSTAT": 10.97,
          "NOX": 0.489,
          "PRICE": 24.4,
          "PTRATIO": 18.6,
          "RAD": 4,
          "RM": 6.326,
          "TAX": 277,
          "ZN": 0
         },
         {
          "A": 37.546666666666674,
          "AGE": 72.7,
          "B": 37.546666666666674,
          "C": 37.546666666666674,
          "CHAS": 0,
          "CRIM": 0.25199,
          "DIS": 4.3549,
          "INDUS": 10.59,
          "LSTAT": 18.06,
          "NOX": 0.489,
          "PRICE": 22.5,
          "PTRATIO": 18.6,
          "RAD": 4,
          "RM": 5.783,
          "TAX": 277,
          "ZN": 0
         },
         {
          "A": 37.546666666666674,
          "AGE": 59.1,
          "B": 37.546666666666674,
          "C": 37.546666666666674,
          "CHAS": 1,
          "CRIM": 0.13587,
          "DIS": 4.2392,
          "INDUS": 10.59,
          "LSTAT": 14.66,
          "NOX": 0.489,
          "PRICE": 24.4,
          "PTRATIO": 18.6,
          "RAD": 4,
          "RM": 6.064,
          "TAX": 277,
          "ZN": 0
         },
         {
          "A": 37.546666666666674,
          "AGE": 100,
          "B": 37.546666666666674,
          "C": 37.546666666666674,
          "CHAS": 1,
          "CRIM": 0.43571,
          "DIS": 3.875,
          "INDUS": 10.59,
          "LSTAT": 23.09,
          "NOX": 0.489,
          "PRICE": 20,
          "PTRATIO": 18.6,
          "RAD": 4,
          "RM": 5.344,
          "TAX": 277,
          "ZN": 0
         },
         {
          "A": 37.546666666666674,
          "AGE": 92.1,
          "B": 37.546666666666674,
          "C": 37.546666666666674,
          "CHAS": 1,
          "CRIM": 0.17446,
          "DIS": 3.8771,
          "INDUS": 10.59,
          "LSTAT": 17.27,
          "NOX": 0.489,
          "PRICE": 21.7,
          "PTRATIO": 18.6,
          "RAD": 4,
          "RM": 5.96,
          "TAX": 277,
          "ZN": 0
         },
         {
          "A": 37.546666666666674,
          "AGE": 88.6,
          "B": 37.546666666666674,
          "C": 37.546666666666674,
          "CHAS": 1,
          "CRIM": 0.37578,
          "DIS": 3.665,
          "INDUS": 10.59,
          "LSTAT": 23.98,
          "NOX": 0.489,
          "PRICE": 19.3,
          "PTRATIO": 18.6,
          "RAD": 4,
          "RM": 5.404,
          "TAX": 277,
          "ZN": 0
         },
         {
          "A": 37.546666666666674,
          "AGE": 53.8,
          "B": 37.546666666666674,
          "C": 37.546666666666674,
          "CHAS": 1,
          "CRIM": 0.21719,
          "DIS": 3.6526,
          "INDUS": 10.59,
          "LSTAT": 16.03,
          "NOX": 0.489,
          "PRICE": 22.4,
          "PTRATIO": 18.6,
          "RAD": 4,
          "RM": 5.807,
          "TAX": 277,
          "ZN": 0
         },
         {
          "A": 37.546666666666674,
          "AGE": 32.3,
          "B": 37.546666666666674,
          "C": 37.546666666666674,
          "CHAS": 0,
          "CRIM": 0.14052,
          "DIS": 3.9454,
          "INDUS": 10.59,
          "LSTAT": 9.38,
          "NOX": 0.489,
          "PRICE": 28.1,
          "PTRATIO": 18.6,
          "RAD": 4,
          "RM": 6.375,
          "TAX": 277,
          "ZN": 0
         },
         {
          "A": 37.546666666666674,
          "AGE": 9.8,
          "B": 37.546666666666674,
          "C": 37.546666666666674,
          "CHAS": 0,
          "CRIM": 0.28955,
          "DIS": 3.5875,
          "INDUS": 10.59,
          "LSTAT": 29.55,
          "NOX": 0.489,
          "PRICE": 23.7,
          "PTRATIO": 18.6,
          "RAD": 4,
          "RM": 5.412,
          "TAX": 277,
          "ZN": 0
         },
         {
          "A": 37.546666666666674,
          "AGE": 42.4,
          "B": 37.546666666666674,
          "C": 37.546666666666674,
          "CHAS": 0,
          "CRIM": 0.19802,
          "DIS": 3.9454,
          "INDUS": 10.59,
          "LSTAT": 9.47,
          "NOX": 0.489,
          "PRICE": 25,
          "PTRATIO": 18.6,
          "RAD": 4,
          "RM": 6.182,
          "TAX": 277,
          "ZN": 0
         },
         {
          "A": 29.479999999999993,
          "AGE": 56,
          "B": 29.479999999999993,
          "C": 29.479999999999993,
          "CHAS": 1,
          "CRIM": 0.0456,
          "DIS": 3.1121,
          "INDUS": 13.89,
          "LSTAT": 13.51,
          "NOX": 0.55,
          "PRICE": 23.3,
          "PTRATIO": 16.4,
          "RAD": 5,
          "RM": 5.888,
          "TAX": 276,
          "ZN": 0
         },
         {
          "A": 29.479999999999993,
          "AGE": 85.1,
          "B": 29.479999999999993,
          "C": 29.479999999999993,
          "CHAS": 0,
          "CRIM": 0.07013,
          "DIS": 3.4211,
          "INDUS": 13.89,
          "LSTAT": 9.69,
          "NOX": 0.55,
          "PRICE": 28.7,
          "PTRATIO": 16.4,
          "RAD": 5,
          "RM": 6.642,
          "TAX": 276,
          "ZN": 0
         },
         {
          "A": 29.479999999999993,
          "AGE": 93.8,
          "B": 29.479999999999993,
          "C": 29.479999999999993,
          "CHAS": 1,
          "CRIM": 0.11069,
          "DIS": 2.8893,
          "INDUS": 13.89,
          "LSTAT": 17.92,
          "NOX": 0.55,
          "PRICE": 21.5,
          "PTRATIO": 16.4,
          "RAD": 5,
          "RM": 5.951,
          "TAX": 276,
          "ZN": 0
         },
         {
          "A": 29.479999999999993,
          "AGE": 92.4,
          "B": 29.479999999999993,
          "C": 29.479999999999993,
          "CHAS": 1,
          "CRIM": 0.11425,
          "DIS": 3.3633,
          "INDUS": 13.89,
          "LSTAT": 10.5,
          "NOX": 0.55,
          "PRICE": 23,
          "PTRATIO": 16.4,
          "RAD": 5,
          "RM": 6.373,
          "TAX": 276,
          "ZN": 0
         },
         {
          "A": 33.54666666666666,
          "AGE": 88.5,
          "B": 33.54666666666666,
          "C": 33.54666666666666,
          "CHAS": 1,
          "CRIM": 0.35809,
          "DIS": 2.8617,
          "INDUS": 6.2,
          "LSTAT": 9.71,
          "NOX": 0.507,
          "PRICE": 26.7,
          "PTRATIO": 17.4,
          "RAD": 8,
          "RM": 6.951,
          "TAX": 307,
          "ZN": 0
         },
         {
          "A": 33.54666666666666,
          "AGE": 91.3,
          "B": 33.54666666666666,
          "C": 33.54666666666666,
          "CHAS": 1,
          "CRIM": 0.40771,
          "DIS": 3.048,
          "INDUS": 6.2,
          "LSTAT": 21.46,
          "NOX": 0.507,
          "PRICE": 21.7,
          "PTRATIO": 17.4,
          "RAD": 8,
          "RM": 6.164,
          "TAX": 307,
          "ZN": 0
         },
         {
          "A": 33.54666666666666,
          "AGE": 77.7,
          "B": 33.54666666666666,
          "C": 33.54666666666666,
          "CHAS": 1,
          "CRIM": 0.62356,
          "DIS": 3.2721,
          "INDUS": 6.2,
          "LSTAT": 9.93,
          "NOX": 0.507,
          "PRICE": 27.5,
          "PTRATIO": 17.4,
          "RAD": 8,
          "RM": 6.879,
          "TAX": 307,
          "ZN": 0
         },
         {
          "A": 33.54666666666666,
          "AGE": 80.8,
          "B": 33.54666666666666,
          "C": 33.54666666666666,
          "CHAS": 0,
          "CRIM": 0.6147,
          "DIS": 3.2721,
          "INDUS": 6.2,
          "LSTAT": 7.6,
          "NOX": 0.507,
          "PRICE": 30.1,
          "PTRATIO": 17.4,
          "RAD": 8,
          "RM": 6.618,
          "TAX": 307,
          "ZN": 0
         },
         {
          "A": 33.54666666666666,
          "AGE": 78.3,
          "B": 33.54666666666666,
          "C": 33.54666666666666,
          "CHAS": 0,
          "CRIM": 0.31533,
          "DIS": 2.8944,
          "INDUS": 6.2,
          "LSTAT": 4.14,
          "NOX": 0.504,
          "PRICE": 44.8,
          "PTRATIO": 17.4,
          "RAD": 8,
          "RM": 8.266,
          "TAX": 307,
          "ZN": 0
         },
         {
          "A": 33.54666666666666,
          "AGE": 83,
          "B": 33.54666666666666,
          "C": 33.54666666666666,
          "CHAS": 0,
          "CRIM": 0.52693,
          "DIS": 2.8944,
          "INDUS": 6.2,
          "LSTAT": 4.63,
          "NOX": 0.504,
          "PRICE": 50,
          "PTRATIO": 17.4,
          "RAD": 8,
          "RM": 8.725,
          "TAX": 307,
          "ZN": 0
         },
         {
          "A": 33.54666666666666,
          "AGE": 86.5,
          "B": 33.54666666666666,
          "C": 33.54666666666666,
          "CHAS": 0,
          "CRIM": 0.38214,
          "DIS": 3.2157,
          "INDUS": 6.2,
          "LSTAT": 3.13,
          "NOX": 0.504,
          "PRICE": 37.6,
          "PTRATIO": 17.4,
          "RAD": 8,
          "RM": 8.04,
          "TAX": 307,
          "ZN": 0
         },
         {
          "A": 33.54666666666666,
          "AGE": 79.9,
          "B": 33.54666666666666,
          "C": 33.54666666666666,
          "CHAS": 0,
          "CRIM": 0.41238,
          "DIS": 3.2157,
          "INDUS": 6.2,
          "LSTAT": 6.36,
          "NOX": 0.504,
          "PRICE": 31.6,
          "PTRATIO": 17.4,
          "RAD": 8,
          "RM": 7.163,
          "TAX": 307,
          "ZN": 0
         },
         {
          "A": 33.54666666666666,
          "AGE": 17,
          "B": 33.54666666666666,
          "C": 33.54666666666666,
          "CHAS": 0,
          "CRIM": 0.29819,
          "DIS": 3.3751,
          "INDUS": 6.2,
          "LSTAT": 3.92,
          "NOX": 0.504,
          "PRICE": 46.7,
          "PTRATIO": 17.4,
          "RAD": 8,
          "RM": 7.686,
          "TAX": 307,
          "ZN": 0
         },
         {
          "A": 33.54666666666666,
          "AGE": 21.4,
          "B": 33.54666666666666,
          "C": 33.54666666666666,
          "CHAS": 0,
          "CRIM": 0.44178,
          "DIS": 3.3751,
          "INDUS": 6.2,
          "LSTAT": 3.76,
          "NOX": 0.504,
          "PRICE": 31.5,
          "PTRATIO": 17.4,
          "RAD": 8,
          "RM": 6.552,
          "TAX": 307,
          "ZN": 0
         },
         {
          "A": 33.54666666666666,
          "AGE": 68.1,
          "B": 33.54666666666666,
          "C": 33.54666666666666,
          "CHAS": 0,
          "CRIM": 0.537,
          "DIS": 3.6715,
          "INDUS": 6.2,
          "LSTAT": 11.65,
          "NOX": 0.504,
          "PRICE": 24.3,
          "PTRATIO": 17.4,
          "RAD": 8,
          "RM": 5.981,
          "TAX": 307,
          "ZN": 0
         },
         {
          "A": 33.54666666666666,
          "AGE": 76.9,
          "B": 33.54666666666666,
          "C": 33.54666666666666,
          "CHAS": 0,
          "CRIM": 0.46296,
          "DIS": 3.6715,
          "INDUS": 6.2,
          "LSTAT": 5.25,
          "NOX": 0.504,
          "PRICE": 31.7,
          "PTRATIO": 17.4,
          "RAD": 8,
          "RM": 7.412,
          "TAX": 307,
          "ZN": 0
         },
         {
          "A": 33.54666666666666,
          "AGE": 73.3,
          "B": 33.54666666666666,
          "C": 33.54666666666666,
          "CHAS": 0,
          "CRIM": 0.57529,
          "DIS": 3.8384,
          "INDUS": 6.2,
          "LSTAT": 2.47,
          "NOX": 0.507,
          "PRICE": 41.7,
          "PTRATIO": 17.4,
          "RAD": 8,
          "RM": 8.337,
          "TAX": 307,
          "ZN": 0
         },
         {
          "A": 33.54666666666666,
          "AGE": 70.4,
          "B": 33.54666666666666,
          "C": 33.54666666666666,
          "CHAS": 0,
          "CRIM": 0.33147,
          "DIS": 3.6519,
          "INDUS": 6.2,
          "LSTAT": 3.95,
          "NOX": 0.507,
          "PRICE": 48.3,
          "PTRATIO": 17.4,
          "RAD": 8,
          "RM": 8.247,
          "TAX": 307,
          "ZN": 0
         },
         {
          "A": 33.54666666666666,
          "AGE": 66.5,
          "B": 33.54666666666666,
          "C": 33.54666666666666,
          "CHAS": 1,
          "CRIM": 0.44791,
          "DIS": 3.6519,
          "INDUS": 6.2,
          "LSTAT": 8.05,
          "NOX": 0.507,
          "PRICE": 29,
          "PTRATIO": 17.4,
          "RAD": 8,
          "RM": 6.726,
          "TAX": 307,
          "ZN": 0
         },
         {
          "A": 33.54666666666666,
          "AGE": 61.5,
          "B": 33.54666666666666,
          "C": 33.54666666666666,
          "CHAS": 0,
          "CRIM": 0.33045,
          "DIS": 3.6519,
          "INDUS": 6.2,
          "LSTAT": 10.88,
          "NOX": 0.507,
          "PRICE": 24,
          "PTRATIO": 17.4,
          "RAD": 8,
          "RM": 6.086,
          "TAX": 307,
          "ZN": 0
         },
         {
          "A": 33.54666666666666,
          "AGE": 76.5,
          "B": 33.54666666666666,
          "C": 33.54666666666666,
          "CHAS": 1,
          "CRIM": 0.52058,
          "DIS": 4.148,
          "INDUS": 6.2,
          "LSTAT": 9.54,
          "NOX": 0.507,
          "PRICE": 25.1,
          "PTRATIO": 17.4,
          "RAD": 8,
          "RM": 6.631,
          "TAX": 307,
          "ZN": 0
         },
         {
          "A": 33.54666666666666,
          "AGE": 71.6,
          "B": 33.54666666666666,
          "C": 33.54666666666666,
          "CHAS": 0,
          "CRIM": 0.51183,
          "DIS": 4.148,
          "INDUS": 6.2,
          "LSTAT": 4.73,
          "NOX": 0.507,
          "PRICE": 31.5,
          "PTRATIO": 17.4,
          "RAD": 8,
          "RM": 7.358,
          "TAX": 307,
          "ZN": 0
         },
         {
          "A": 30.34666666666667,
          "AGE": 18.5,
          "B": 30.34666666666667,
          "C": 30.34666666666667,
          "CHAS": 0,
          "CRIM": 0.08244,
          "DIS": 6.1899,
          "INDUS": 4.93,
          "LSTAT": 6.36,
          "NOX": 0.428,
          "PRICE": 23.7,
          "PTRATIO": 16.6,
          "RAD": 6,
          "RM": 6.481,
          "TAX": 300,
          "ZN": 30
         },
         {
          "A": 30.34666666666667,
          "AGE": 42.2,
          "B": 30.34666666666667,
          "C": 30.34666666666667,
          "CHAS": 0,
          "CRIM": 0.09252,
          "DIS": 6.1899,
          "INDUS": 4.93,
          "LSTAT": 7.37,
          "NOX": 0.428,
          "PRICE": 23.3,
          "PTRATIO": 16.6,
          "RAD": 6,
          "RM": 6.606,
          "TAX": 300,
          "ZN": 30
         },
         {
          "A": 30.34666666666667,
          "AGE": 54.3,
          "B": 30.34666666666667,
          "C": 30.34666666666667,
          "CHAS": 0,
          "CRIM": 0.11329,
          "DIS": 6.3361,
          "INDUS": 4.93,
          "LSTAT": 11.38,
          "NOX": 0.428,
          "PRICE": 22,
          "PTRATIO": 16.6,
          "RAD": 6,
          "RM": 6.897,
          "TAX": 300,
          "ZN": 30
         },
         {
          "A": 30.34666666666667,
          "AGE": 65.1,
          "B": 30.34666666666667,
          "C": 30.34666666666667,
          "CHAS": 0,
          "CRIM": 0.10612,
          "DIS": 6.3361,
          "INDUS": 4.93,
          "LSTAT": 12.4,
          "NOX": 0.428,
          "PRICE": 20.1,
          "PTRATIO": 16.6,
          "RAD": 6,
          "RM": 6.095,
          "TAX": 300,
          "ZN": 30
         },
         {
          "A": 30.34666666666667,
          "AGE": 52.9,
          "B": 30.34666666666667,
          "C": 30.34666666666667,
          "CHAS": 0,
          "CRIM": 0.1029,
          "DIS": 7.0355,
          "INDUS": 4.93,
          "LSTAT": 11.22,
          "NOX": 0.428,
          "PRICE": 22.2,
          "PTRATIO": 16.6,
          "RAD": 6,
          "RM": 6.358,
          "TAX": 300,
          "ZN": 30
         },
         {
          "A": 30.34666666666667,
          "AGE": 7.8,
          "B": 30.34666666666667,
          "C": 30.34666666666667,
          "CHAS": 0,
          "CRIM": 0.12757,
          "DIS": 7.0355,
          "INDUS": 4.93,
          "LSTAT": 5.19,
          "NOX": 0.428,
          "PRICE": 23.7,
          "PTRATIO": 16.6,
          "RAD": 6,
          "RM": 6.393,
          "TAX": 300,
          "ZN": 30
         },
         {
          "A": 38.93000000000001,
          "AGE": 76.5,
          "B": 38.93000000000001,
          "C": 38.93000000000001,
          "CHAS": 0,
          "CRIM": 0.20608,
          "DIS": 7.9549,
          "INDUS": 5.86,
          "LSTAT": 12.5,
          "NOX": 0.431,
          "PRICE": 17.6,
          "PTRATIO": 19.1,
          "RAD": 7,
          "RM": 5.593,
          "TAX": 330,
          "ZN": 22
         },
         {
          "A": 38.93000000000001,
          "AGE": 70.2,
          "B": 38.93000000000001,
          "C": 38.93000000000001,
          "CHAS": 0,
          "CRIM": 0.19133,
          "DIS": 7.9549,
          "INDUS": 5.86,
          "LSTAT": 18.46,
          "NOX": 0.431,
          "PRICE": 18.5,
          "PTRATIO": 19.1,
          "RAD": 7,
          "RM": 5.605,
          "TAX": 330,
          "ZN": 22
         },
         {
          "A": 38.93000000000001,
          "AGE": 34.9,
          "B": 38.93000000000001,
          "C": 38.93000000000001,
          "CHAS": 0,
          "CRIM": 0.33983,
          "DIS": 8.0555,
          "INDUS": 5.86,
          "LSTAT": 9.16,
          "NOX": 0.431,
          "PRICE": 24.3,
          "PTRATIO": 19.1,
          "RAD": 7,
          "RM": 6.108,
          "TAX": 330,
          "ZN": 22
         },
         {
          "A": 38.93000000000001,
          "AGE": 79.2,
          "B": 38.93000000000001,
          "C": 38.93000000000001,
          "CHAS": 0,
          "CRIM": 0.19657,
          "DIS": 8.0555,
          "INDUS": 5.86,
          "LSTAT": 10.15,
          "NOX": 0.431,
          "PRICE": 20.5,
          "PTRATIO": 19.1,
          "RAD": 7,
          "RM": 6.226,
          "TAX": 330,
          "ZN": 22
         },
         {
          "A": 38.93000000000001,
          "AGE": 49.1,
          "B": 38.93000000000001,
          "C": 38.93000000000001,
          "CHAS": 0,
          "CRIM": 0.16439,
          "DIS": 7.8265,
          "INDUS": 5.86,
          "LSTAT": 9.52,
          "NOX": 0.431,
          "PRICE": 24.5,
          "PTRATIO": 19.1,
          "RAD": 7,
          "RM": 6.433,
          "TAX": 330,
          "ZN": 22
         },
         {
          "A": 38.93000000000001,
          "AGE": 17.5,
          "B": 38.93000000000001,
          "C": 38.93000000000001,
          "CHAS": 0,
          "CRIM": 0.19073,
          "DIS": 7.8265,
          "INDUS": 5.86,
          "LSTAT": 6.56,
          "NOX": 0.431,
          "PRICE": 26.2,
          "PTRATIO": 19.1,
          "RAD": 7,
          "RM": 6.718,
          "TAX": 330,
          "ZN": 22
         },
         {
          "A": 38.93000000000001,
          "AGE": 13,
          "B": 38.93000000000001,
          "C": 38.93000000000001,
          "CHAS": 0,
          "CRIM": 0.1403,
          "DIS": 7.3967,
          "INDUS": 5.86,
          "LSTAT": 5.9,
          "NOX": 0.431,
          "PRICE": 24.4,
          "PTRATIO": 19.1,
          "RAD": 7,
          "RM": 6.487,
          "TAX": 330,
          "ZN": 22
         },
         {
          "A": 38.93000000000001,
          "AGE": 8.9,
          "B": 38.93000000000001,
          "C": 38.93000000000001,
          "CHAS": 0,
          "CRIM": 0.21409,
          "DIS": 7.3967,
          "INDUS": 5.86,
          "LSTAT": 3.59,
          "NOX": 0.431,
          "PRICE": 24.8,
          "PTRATIO": 19.1,
          "RAD": 7,
          "RM": 6.438,
          "TAX": 330,
          "ZN": 22
         },
         {
          "A": 38.93000000000001,
          "AGE": 6.8,
          "B": 38.93000000000001,
          "C": 38.93000000000001,
          "CHAS": 0,
          "CRIM": 0.08221,
          "DIS": 8.9067,
          "INDUS": 5.86,
          "LSTAT": 3.53,
          "NOX": 0.431,
          "PRICE": 29.6,
          "PTRATIO": 19.1,
          "RAD": 7,
          "RM": 6.957,
          "TAX": 330,
          "ZN": 22
         },
         {
          "A": 38.93000000000001,
          "AGE": 8.4,
          "B": 38.93000000000001,
          "C": 38.93000000000001,
          "CHAS": 0,
          "CRIM": 0.36894,
          "DIS": 8.9067,
          "INDUS": 5.86,
          "LSTAT": 3.54,
          "NOX": 0.431,
          "PRICE": 42.8,
          "PTRATIO": 19.1,
          "RAD": 7,
          "RM": 8.259,
          "TAX": 330,
          "ZN": 22
         },
         {
          "A": 29.479999999999993,
          "AGE": 32,
          "B": 29.479999999999993,
          "C": 29.479999999999993,
          "CHAS": 0,
          "CRIM": 0.04819,
          "DIS": 9.2203,
          "INDUS": 3.64,
          "LSTAT": 6.57,
          "NOX": 0.392,
          "PRICE": 21.9,
          "PTRATIO": 16.4,
          "RAD": 1,
          "RM": 6.108,
          "TAX": 315,
          "ZN": 80
         },
         {
          "A": 29.479999999999993,
          "AGE": 19.1,
          "B": 29.479999999999993,
          "C": 29.479999999999993,
          "CHAS": 0,
          "CRIM": 0.03548,
          "DIS": 9.2203,
          "INDUS": 3.64,
          "LSTAT": 9.25,
          "NOX": 0.392,
          "PRICE": 20.9,
          "PTRATIO": 16.4,
          "RAD": 1,
          "RM": 5.876,
          "TAX": 315,
          "ZN": 80
         },
         {
          "A": 27.196666666666665,
          "AGE": 34.2,
          "B": 27.196666666666665,
          "C": 27.196666666666665,
          "CHAS": 0,
          "CRIM": 0.01538,
          "DIS": 6.3361,
          "INDUS": 3.75,
          "LSTAT": 3.11,
          "NOX": 0.394,
          "PRICE": 44,
          "PTRATIO": 15.9,
          "RAD": 3,
          "RM": 7.454,
          "TAX": 244,
          "ZN": 90
         },
         {
          "A": 10.666666666666668,
          "AGE": 86.9,
          "B": 10.666666666666668,
          "C": 10.666666666666668,
          "CHAS": 0,
          "CRIM": 0.61154,
          "DIS": 1.801,
          "INDUS": 3.97,
          "LSTAT": 5.12,
          "NOX": 0.647,
          "PRICE": 50,
          "PTRATIO": 13,
          "RAD": 5,
          "RM": 8.704,
          "TAX": 264,
          "ZN": 20
         },
         {
          "A": 10.666666666666668,
          "AGE": 100,
          "B": 10.666666666666668,
          "C": 10.666666666666668,
          "CHAS": 0,
          "CRIM": 0.66351,
          "DIS": 1.8946,
          "INDUS": 3.97,
          "LSTAT": 7.79,
          "NOX": 0.647,
          "PRICE": 36,
          "PTRATIO": 13,
          "RAD": 5,
          "RM": 7.333,
          "TAX": 264,
          "ZN": 20
         },
         {
          "A": 10.666666666666668,
          "AGE": 100,
          "B": 10.666666666666668,
          "C": 10.666666666666668,
          "CHAS": 0,
          "CRIM": 0.65665,
          "DIS": 2.0107,
          "INDUS": 3.97,
          "LSTAT": 6.9,
          "NOX": 0.647,
          "PRICE": 30.1,
          "PTRATIO": 13,
          "RAD": 5,
          "RM": 6.842,
          "TAX": 264,
          "ZN": 20
         },
         {
          "A": 10.666666666666668,
          "AGE": 81.8,
          "B": 10.666666666666668,
          "C": 10.666666666666668,
          "CHAS": 0,
          "CRIM": 0.54011,
          "DIS": 2.1121,
          "INDUS": 3.97,
          "LSTAT": 9.59,
          "NOX": 0.647,
          "PRICE": 33.8,
          "PTRATIO": 13,
          "RAD": 5,
          "RM": 7.203,
          "TAX": 264,
          "ZN": 20
         },
         {
          "A": 10.666666666666668,
          "AGE": 89.4,
          "B": 10.666666666666668,
          "C": 10.666666666666668,
          "CHAS": 0,
          "CRIM": 0.53412,
          "DIS": 2.1398,
          "INDUS": 3.97,
          "LSTAT": 7.26,
          "NOX": 0.647,
          "PRICE": 43.1,
          "PTRATIO": 13,
          "RAD": 5,
          "RM": 7.52,
          "TAX": 264,
          "ZN": 20
         },
         {
          "A": 10.666666666666668,
          "AGE": 91.5,
          "B": 10.666666666666668,
          "C": 10.666666666666668,
          "CHAS": 0,
          "CRIM": 0.52014,
          "DIS": 2.2885,
          "INDUS": 3.97,
          "LSTAT": 5.91,
          "NOX": 0.647,
          "PRICE": 48.8,
          "PTRATIO": 13,
          "RAD": 5,
          "RM": 8.398,
          "TAX": 264,
          "ZN": 20
         },
         {
          "A": 10.666666666666668,
          "AGE": 94.5,
          "B": 10.666666666666668,
          "C": 10.666666666666668,
          "CHAS": 0,
          "CRIM": 0.82526,
          "DIS": 2.0788,
          "INDUS": 3.97,
          "LSTAT": 11.25,
          "NOX": 0.647,
          "PRICE": 31,
          "PTRATIO": 13,
          "RAD": 5,
          "RM": 7.327,
          "TAX": 264,
          "ZN": 20
         },
         {
          "A": 10.666666666666668,
          "AGE": 91.6,
          "B": 10.666666666666668,
          "C": 10.666666666666668,
          "CHAS": 0,
          "CRIM": 0.55007,
          "DIS": 1.9301,
          "INDUS": 3.97,
          "LSTAT": 8.1,
          "NOX": 0.647,
          "PRICE": 36.5,
          "PTRATIO": 13,
          "RAD": 5,
          "RM": 7.206,
          "TAX": 264,
          "ZN": 20
         },
         {
          "A": 10.666666666666668,
          "AGE": 62.8,
          "B": 10.666666666666668,
          "C": 10.666666666666668,
          "CHAS": 0,
          "CRIM": 0.76162,
          "DIS": 1.9865,
          "INDUS": 3.97,
          "LSTAT": 10.45,
          "NOX": 0.647,
          "PRICE": 22.8,
          "PTRATIO": 13,
          "RAD": 5,
          "RM": 5.56,
          "TAX": 264,
          "ZN": 20
         },
         {
          "A": 10.666666666666668,
          "AGE": 84.6,
          "B": 10.666666666666668,
          "C": 10.666666666666668,
          "CHAS": 0,
          "CRIM": 0.7857,
          "DIS": 2.1329,
          "INDUS": 3.97,
          "LSTAT": 14.79,
          "NOX": 0.647,
          "PRICE": 30.7,
          "PTRATIO": 13,
          "RAD": 5,
          "RM": 7.014,
          "TAX": 264,
          "ZN": 20
         },
         {
          "A": 10.666666666666668,
          "AGE": 67,
          "B": 10.666666666666668,
          "C": 10.666666666666668,
          "CHAS": 0,
          "CRIM": 0.57834,
          "DIS": 2.4216,
          "INDUS": 3.97,
          "LSTAT": 7.44,
          "NOX": 0.575,
          "PRICE": 50,
          "PTRATIO": 13,
          "RAD": 5,
          "RM": 8.297,
          "TAX": 264,
          "ZN": 20
         },
         {
          "A": 10.666666666666668,
          "AGE": 52.6,
          "B": 10.666666666666668,
          "C": 10.666666666666668,
          "CHAS": 0,
          "CRIM": 0.5405,
          "DIS": 2.872,
          "INDUS": 3.97,
          "LSTAT": 3.16,
          "NOX": 0.575,
          "PRICE": 43.5,
          "PTRATIO": 13,
          "RAD": 5,
          "RM": 7.47,
          "TAX": 264,
          "ZN": 20
         },
         {
          "A": 37.546666666666674,
          "AGE": 61.5,
          "B": 37.546666666666674,
          "C": 37.546666666666674,
          "CHAS": 1,
          "CRIM": 0.09065,
          "DIS": 3.9175,
          "INDUS": 6.96,
          "LSTAT": 13.65,
          "NOX": 0.464,
          "PRICE": 20.7,
          "PTRATIO": 18.6,
          "RAD": 3,
          "RM": 5.92,
          "TAX": 223,
          "ZN": 20
         },
         {
          "A": 37.546666666666674,
          "AGE": 42.1,
          "B": 37.546666666666674,
          "C": 37.546666666666674,
          "CHAS": 0,
          "CRIM": 0.29916,
          "DIS": 4.429,
          "INDUS": 6.96,
          "LSTAT": 13,
          "NOX": 0.464,
          "PRICE": 21.1,
          "PTRATIO": 18.6,
          "RAD": 3,
          "RM": 5.856,
          "TAX": 223,
          "ZN": 20
         },
         {
          "A": 37.546666666666674,
          "AGE": 16.3,
          "B": 37.546666666666674,
          "C": 37.546666666666674,
          "CHAS": 0,
          "CRIM": 0.16211,
          "DIS": 4.429,
          "INDUS": 6.96,
          "LSTAT": 6.59,
          "NOX": 0.464,
          "PRICE": 25.2,
          "PTRATIO": 18.6,
          "RAD": 3,
          "RM": 6.24,
          "TAX": 223,
          "ZN": 20
         },
         {
          "A": 37.546666666666674,
          "AGE": 58.7,
          "B": 37.546666666666674,
          "C": 37.546666666666674,
          "CHAS": 0,
          "CRIM": 0.1146,
          "DIS": 3.9175,
          "INDUS": 6.96,
          "LSTAT": 7.73,
          "NOX": 0.464,
          "PRICE": 24.4,
          "PTRATIO": 18.6,
          "RAD": 3,
          "RM": 6.538,
          "TAX": 223,
          "ZN": 20
         },
         {
          "A": 37.546666666666674,
          "AGE": 51.8,
          "B": 37.546666666666674,
          "C": 37.546666666666674,
          "CHAS": 1,
          "CRIM": 0.22188,
          "DIS": 4.3665,
          "INDUS": 6.96,
          "LSTAT": 6.58,
          "NOX": 0.464,
          "PRICE": 35.2,
          "PTRATIO": 18.6,
          "RAD": 3,
          "RM": 7.691,
          "TAX": 223,
          "ZN": 20
         },
         {
          "A": 34.28000000000001,
          "AGE": 32.9,
          "B": 34.28000000000001,
          "C": 34.28000000000001,
          "CHAS": 1,
          "CRIM": 0.05644,
          "DIS": 4.0776,
          "INDUS": 6.41,
          "LSTAT": 3.53,
          "NOX": 0.447,
          "PRICE": 32.4,
          "PTRATIO": 17.6,
          "RAD": 4,
          "RM": 6.758,
          "TAX": 254,
          "ZN": 40
         },
         {
          "A": 34.28000000000001,
          "AGE": 42.8,
          "B": 34.28000000000001,
          "C": 34.28000000000001,
          "CHAS": 0,
          "CRIM": 0.09604,
          "DIS": 4.2673,
          "INDUS": 6.41,
          "LSTAT": 2.98,
          "NOX": 0.447,
          "PRICE": 32,
          "PTRATIO": 17.6,
          "RAD": 4,
          "RM": 6.854,
          "TAX": 254,
          "ZN": 40
         },
         {
          "A": 34.28000000000001,
          "AGE": 49,
          "B": 34.28000000000001,
          "C": 34.28000000000001,
          "CHAS": 1,
          "CRIM": 0.10469,
          "DIS": 4.7872,
          "INDUS": 6.41,
          "LSTAT": 6.05,
          "NOX": 0.447,
          "PRICE": 33.2,
          "PTRATIO": 17.6,
          "RAD": 4,
          "RM": 7.267,
          "TAX": 254,
          "ZN": 40
         },
         {
          "A": 34.28000000000001,
          "AGE": 27.6,
          "B": 34.28000000000001,
          "C": 34.28000000000001,
          "CHAS": 1,
          "CRIM": 0.06127,
          "DIS": 4.8628,
          "INDUS": 6.41,
          "LSTAT": 4.16,
          "NOX": 0.447,
          "PRICE": 33.1,
          "PTRATIO": 17.6,
          "RAD": 4,
          "RM": 6.826,
          "TAX": 254,
          "ZN": 40
         },
         {
          "A": 34.28000000000001,
          "AGE": 32.1,
          "B": 34.28000000000001,
          "C": 34.28000000000001,
          "CHAS": 0,
          "CRIM": 0.07978,
          "DIS": 4.1403,
          "INDUS": 6.41,
          "LSTAT": 7.19,
          "NOX": 0.447,
          "PRICE": 29.1,
          "PTRATIO": 17.6,
          "RAD": 4,
          "RM": 6.482,
          "TAX": 254,
          "ZN": 40
         },
         {
          "A": 22.130000000000003,
          "AGE": 32.2,
          "B": 22.130000000000003,
          "C": 22.130000000000003,
          "CHAS": 0,
          "CRIM": 0.21038,
          "DIS": 4.1007,
          "INDUS": 3.33,
          "LSTAT": 4.85,
          "NOX": 0.4429,
          "PRICE": 35.1,
          "PTRATIO": 14.9,
          "RAD": 5,
          "RM": 6.812,
          "TAX": 216,
          "ZN": 20
         },
         {
          "A": 22.130000000000003,
          "AGE": 64.5,
          "B": 22.130000000000003,
          "C": 22.130000000000003,
          "CHAS": 0,
          "CRIM": 0.03578,
          "DIS": 4.6947,
          "INDUS": 3.33,
          "LSTAT": 3.76,
          "NOX": 0.4429,
          "PRICE": 45.4,
          "PTRATIO": 14.9,
          "RAD": 5,
          "RM": 7.82,
          "TAX": 216,
          "ZN": 20
         },
         {
          "A": 22.130000000000003,
          "AGE": 37.2,
          "B": 22.130000000000003,
          "C": 22.130000000000003,
          "CHAS": 0,
          "CRIM": 0.03705,
          "DIS": 5.2447,
          "INDUS": 3.33,
          "LSTAT": 4.59,
          "NOX": 0.4429,
          "PRICE": 35.4,
          "PTRATIO": 14.9,
          "RAD": 5,
          "RM": 6.968,
          "TAX": 216,
          "ZN": 20
         },
         {
          "A": 22.130000000000003,
          "AGE": 49.7,
          "B": 22.130000000000003,
          "C": 22.130000000000003,
          "CHAS": 1,
          "CRIM": 0.06129,
          "DIS": 5.2119,
          "INDUS": 3.33,
          "LSTAT": 3.01,
          "NOX": 0.4429,
          "PRICE": 46,
          "PTRATIO": 14.9,
          "RAD": 5,
          "RM": 7.645,
          "TAX": 216,
          "ZN": 20
         },
         {
          "A": 14.546666666666663,
          "AGE": 24.8,
          "B": 14.546666666666663,
          "C": 14.546666666666663,
          "CHAS": 1,
          "CRIM": 0.01501,
          "DIS": 5.885,
          "INDUS": 1.21,
          "LSTAT": 3.16,
          "NOX": 0.401,
          "PRICE": 50,
          "PTRATIO": 13.6,
          "RAD": 1,
          "RM": 7.923,
          "TAX": 198,
          "ZN": 90
         },
         {
          "A": 24.23666666666667,
          "AGE": 20.8,
          "B": 24.23666666666667,
          "C": 24.23666666666667,
          "CHAS": 0,
          "CRIM": 0.00906,
          "DIS": 7.3073,
          "INDUS": 2.97,
          "LSTAT": 7.85,
          "NOX": 0.4,
          "PRICE": 32.2,
          "PTRATIO": 15.3,
          "RAD": 1,
          "RM": 7.088,
          "TAX": 285,
          "ZN": 90
         },
         {
          "A": 24.23666666666667,
          "AGE": 31.9,
          "B": 24.23666666666667,
          "C": 24.23666666666667,
          "CHAS": 0,
          "CRIM": 0.01096,
          "DIS": 7.3073,
          "INDUS": 2.25,
          "LSTAT": 8.23,
          "NOX": 0.389,
          "PRICE": 22,
          "PTRATIO": 15.3,
          "RAD": 1,
          "RM": 6.453,
          "TAX": 300,
          "ZN": 55
         },
         {
          "A": 36.32,
          "AGE": 31.5,
          "B": 36.32,
          "C": 36.32,
          "CHAS": 0,
          "CRIM": 0.01965,
          "DIS": 9.0892,
          "INDUS": 1.76,
          "LSTAT": 12.93,
          "NOX": 0.385,
          "PRICE": 20.1,
          "PTRATIO": 18.2,
          "RAD": 1,
          "RM": 6.23,
          "TAX": 241,
          "ZN": 80
         },
         {
          "A": 30.34666666666667,
          "AGE": 31.3,
          "B": 30.34666666666667,
          "C": 30.34666666666667,
          "CHAS": 0,
          "CRIM": 0.03871,
          "DIS": 7.3172,
          "INDUS": 5.32,
          "LSTAT": 7.14,
          "NOX": 0.405,
          "PRICE": 23.2,
          "PTRATIO": 16.6,
          "RAD": 6,
          "RM": 6.209,
          "TAX": 293,
          "ZN": 52.5
         },
         {
          "A": 30.34666666666667,
          "AGE": 45.6,
          "B": 30.34666666666667,
          "C": 30.34666666666667,
          "CHAS": 0,
          "CRIM": 0.0459,
          "DIS": 7.3172,
          "INDUS": 5.32,
          "LSTAT": 7.6,
          "NOX": 0.405,
          "PRICE": 22.3,
          "PTRATIO": 16.6,
          "RAD": 6,
          "RM": 6.315,
          "TAX": 293,
          "ZN": 52.5
         },
         {
          "A": 30.34666666666667,
          "AGE": 22.9,
          "B": 30.34666666666667,
          "C": 30.34666666666667,
          "CHAS": 0,
          "CRIM": 0.04297,
          "DIS": 7.3172,
          "INDUS": 5.32,
          "LSTAT": 9.51,
          "NOX": 0.405,
          "PRICE": 24.8,
          "PTRATIO": 16.6,
          "RAD": 6,
          "RM": 6.565,
          "TAX": 293,
          "ZN": 52.5
         },
         {
          "A": 39.18666666666667,
          "AGE": 27.9,
          "B": 39.18666666666667,
          "C": 39.18666666666667,
          "CHAS": 0,
          "CRIM": 0.03502,
          "DIS": 5.1167,
          "INDUS": 4.95,
          "LSTAT": 3.33,
          "NOX": 0.411,
          "PRICE": 28.5,
          "PTRATIO": 19.2,
          "RAD": 4,
          "RM": 6.861,
          "TAX": 245,
          "ZN": 80
         },
         {
          "A": 39.18666666666667,
          "AGE": 27.7,
          "B": 39.18666666666667,
          "C": 39.18666666666667,
          "CHAS": 0,
          "CRIM": 0.07886,
          "DIS": 5.1167,
          "INDUS": 4.95,
          "LSTAT": 3.56,
          "NOX": 0.411,
          "PRICE": 37.3,
          "PTRATIO": 19.2,
          "RAD": 4,
          "RM": 7.148,
          "TAX": 245,
          "ZN": 80
         },
         {
          "A": 39.18666666666667,
          "AGE": 23.4,
          "B": 39.18666666666667,
          "C": 39.18666666666667,
          "CHAS": 0,
          "CRIM": 0.03615,
          "DIS": 5.1167,
          "INDUS": 4.95,
          "LSTAT": 4.7,
          "NOX": 0.411,
          "PRICE": 27.9,
          "PTRATIO": 19.2,
          "RAD": 4,
          "RM": 6.63,
          "TAX": 245,
          "ZN": 80
         },
         {
          "A": 27.666666666666668,
          "AGE": 18.4,
          "B": 27.666666666666668,
          "C": 27.666666666666668,
          "CHAS": 0,
          "CRIM": 0.08265,
          "DIS": 5.5027,
          "INDUS": 13.92,
          "LSTAT": 8.58,
          "NOX": 0.437,
          "PRICE": 23.9,
          "PTRATIO": 16,
          "RAD": 4,
          "RM": 6.127,
          "TAX": 289,
          "ZN": 0
         },
         {
          "A": 27.666666666666668,
          "AGE": 42.3,
          "B": 27.666666666666668,
          "C": 27.666666666666668,
          "CHAS": 0,
          "CRIM": 0.08199,
          "DIS": 5.5027,
          "INDUS": 13.92,
          "LSTAT": 10.4,
          "NOX": 0.437,
          "PRICE": 21.7,
          "PTRATIO": 16,
          "RAD": 4,
          "RM": 6.009,
          "TAX": 289,
          "ZN": 0
         },
         {
          "A": 27.666666666666668,
          "AGE": 31.1,
          "B": 27.666666666666668,
          "C": 27.666666666666668,
          "CHAS": 0,
          "CRIM": 0.12932,
          "DIS": 5.9604,
          "INDUS": 13.92,
          "LSTAT": 6.27,
          "NOX": 0.437,
          "PRICE": 28.6,
          "PTRATIO": 16,
          "RAD": 4,
          "RM": 6.678,
          "TAX": 289,
          "ZN": 0
         },
         {
          "A": 27.666666666666668,
          "AGE": 51,
          "B": 27.666666666666668,
          "C": 27.666666666666668,
          "CHAS": 0,
          "CRIM": 0.05372,
          "DIS": 5.9604,
          "INDUS": 13.92,
          "LSTAT": 7.39,
          "NOX": 0.437,
          "PRICE": 27.1,
          "PTRATIO": 16,
          "RAD": 4,
          "RM": 6.549,
          "TAX": 289,
          "ZN": 0
         },
         {
          "A": 27.666666666666668,
          "AGE": 58,
          "B": 27.666666666666668,
          "C": 27.666666666666668,
          "CHAS": 0,
          "CRIM": 0.14103,
          "DIS": 6.32,
          "INDUS": 13.92,
          "LSTAT": 15.84,
          "NOX": 0.437,
          "PRICE": 20.3,
          "PTRATIO": 16,
          "RAD": 4,
          "RM": 5.79,
          "TAX": 289,
          "ZN": 0
         },
         {
          "A": 21.586666666666673,
          "AGE": 20.1,
          "B": 21.586666666666673,
          "C": 21.586666666666673,
          "CHAS": 0,
          "CRIM": 0.06466,
          "DIS": 7.8278,
          "INDUS": 2.24,
          "LSTAT": 4.97,
          "NOX": 0.4,
          "PRICE": 22.5,
          "PTRATIO": 14.8,
          "RAD": 5,
          "RM": 6.345,
          "TAX": 358,
          "ZN": 70
         },
         {
          "A": 21.586666666666673,
          "AGE": 10,
          "B": 21.586666666666673,
          "C": 21.586666666666673,
          "CHAS": 0,
          "CRIM": 0.05561,
          "DIS": 7.8278,
          "INDUS": 2.24,
          "LSTAT": 4.74,
          "NOX": 0.4,
          "PRICE": 29,
          "PTRATIO": 14.8,
          "RAD": 5,
          "RM": 7.041,
          "TAX": 358,
          "ZN": 70
         },
         {
          "A": 21.586666666666673,
          "AGE": 47.4,
          "B": 21.586666666666673,
          "C": 21.586666666666673,
          "CHAS": 0,
          "CRIM": 0.04417,
          "DIS": 7.8278,
          "INDUS": 2.24,
          "LSTAT": 6.07,
          "NOX": 0.4,
          "PRICE": 24.8,
          "PTRATIO": 14.8,
          "RAD": 5,
          "RM": 6.871,
          "TAX": 358,
          "ZN": 70
         },
         {
          "A": 28.130000000000006,
          "AGE": 40.4,
          "B": 28.130000000000006,
          "C": 28.130000000000006,
          "CHAS": 0,
          "CRIM": 0.03537,
          "DIS": 5.4917,
          "INDUS": 6.09,
          "LSTAT": 9.5,
          "NOX": 0.433,
          "PRICE": 22,
          "PTRATIO": 16.1,
          "RAD": 7,
          "RM": 6.59,
          "TAX": 329,
          "ZN": 34
         },
         {
          "A": 28.130000000000006,
          "AGE": 18.4,
          "B": 28.130000000000006,
          "C": 28.130000000000006,
          "CHAS": 0,
          "CRIM": 0.09266,
          "DIS": 5.4917,
          "INDUS": 6.09,
          "LSTAT": 8.67,
          "NOX": 0.433,
          "PRICE": 26.4,
          "PTRATIO": 16.1,
          "RAD": 7,
          "RM": 6.495,
          "TAX": 329,
          "ZN": 34
         },
         {
          "A": 28.130000000000006,
          "AGE": 17.7,
          "B": 28.130000000000006,
          "C": 28.130000000000006,
          "CHAS": 0,
          "CRIM": 0.1,
          "DIS": 5.4917,
          "INDUS": 6.09,
          "LSTAT": 4.86,
          "NOX": 0.433,
          "PRICE": 33.1,
          "PTRATIO": 16.1,
          "RAD": 7,
          "RM": 6.982,
          "TAX": 329,
          "ZN": 34
         },
         {
          "A": 36.946666666666665,
          "AGE": 41.1,
          "B": 36.946666666666665,
          "C": 36.946666666666665,
          "CHAS": 0,
          "CRIM": 0.05515,
          "DIS": 4.022,
          "INDUS": 2.18,
          "LSTAT": 6.93,
          "NOX": 0.472,
          "PRICE": 36.1,
          "PTRATIO": 18.4,
          "RAD": 7,
          "RM": 7.236,
          "TAX": 222,
          "ZN": 33
         },
         {
          "A": 36.946666666666665,
          "AGE": 58.1,
          "B": 36.946666666666665,
          "C": 36.946666666666665,
          "CHAS": 0,
          "CRIM": 0.05479,
          "DIS": 3.37,
          "INDUS": 2.18,
          "LSTAT": 8.93,
          "NOX": 0.472,
          "PRICE": 28.4,
          "PTRATIO": 18.4,
          "RAD": 7,
          "RM": 6.616,
          "TAX": 222,
          "ZN": 33
         },
         {
          "A": 36.946666666666665,
          "AGE": 71.9,
          "B": 36.946666666666665,
          "C": 36.946666666666665,
          "CHAS": 0,
          "CRIM": 0.07503,
          "DIS": 3.0992,
          "INDUS": 2.18,
          "LSTAT": 6.47,
          "NOX": 0.472,
          "PRICE": 33.4,
          "PTRATIO": 18.4,
          "RAD": 7,
          "RM": 7.42,
          "TAX": 222,
          "ZN": 33
         },
         {
          "A": 36.946666666666665,
          "AGE": 70.3,
          "B": 36.946666666666665,
          "C": 36.946666666666665,
          "CHAS": 0,
          "CRIM": 0.04932,
          "DIS": 3.1827,
          "INDUS": 2.18,
          "LSTAT": 7.53,
          "NOX": 0.472,
          "PRICE": 28.2,
          "PTRATIO": 18.4,
          "RAD": 7,
          "RM": 6.849,
          "TAX": 222,
          "ZN": 33
         },
         {
          "A": 36.946666666666665,
          "AGE": 82.5,
          "B": 36.946666666666665,
          "C": 36.946666666666665,
          "CHAS": 0,
          "CRIM": 0.49298,
          "DIS": 3.3175,
          "INDUS": 9.9,
          "LSTAT": 4.54,
          "NOX": 0.544,
          "PRICE": 22.8,
          "PTRATIO": 18.4,
          "RAD": 4,
          "RM": 6.635,
          "TAX": 304,
          "ZN": 0
         },
         {
          "A": 36.946666666666665,
          "AGE": 76.7,
          "B": 36.946666666666665,
          "C": 36.946666666666665,
          "CHAS": 0,
          "CRIM": 0.3494,
          "DIS": 3.1025,
          "INDUS": 9.9,
          "LSTAT": 9.97,
          "NOX": 0.544,
          "PRICE": 20.3,
          "PTRATIO": 18.4,
          "RAD": 4,
          "RM": 5.972,
          "TAX": 304,
          "ZN": 0
         },
         {
          "A": 36.946666666666665,
          "AGE": 37.8,
          "B": 36.946666666666665,
          "C": 36.946666666666665,
          "CHAS": 0,
          "CRIM": 2.63548,
          "DIS": 2.5194,
          "INDUS": 9.9,
          "LSTAT": 12.64,
          "NOX": 0.544,
          "PRICE": 16.1,
          "PTRATIO": 18.4,
          "RAD": 4,
          "RM": 4.973,
          "TAX": 304,
          "ZN": 0
         },
         {
          "A": 36.946666666666665,
          "AGE": 52.8,
          "B": 36.946666666666665,
          "C": 36.946666666666665,
          "CHAS": 0,
          "CRIM": 0.79041,
          "DIS": 2.6403,
          "INDUS": 9.9,
          "LSTAT": 5.98,
          "NOX": 0.544,
          "PRICE": 22.1,
          "PTRATIO": 18.4,
          "RAD": 4,
          "RM": 6.122,
          "TAX": 304,
          "ZN": 0
         },
         {
          "A": 36.946666666666665,
          "AGE": 90.4,
          "B": 36.946666666666665,
          "C": 36.946666666666665,
          "CHAS": 0,
          "CRIM": 0.26169,
          "DIS": 2.834,
          "INDUS": 9.9,
          "LSTAT": 11.72,
          "NOX": 0.544,
          "PRICE": 19.4,
          "PTRATIO": 18.4,
          "RAD": 4,
          "RM": 6.023,
          "TAX": 304,
          "ZN": 0
         },
         {
          "A": 36.946666666666665,
          "AGE": 82.8,
          "B": 36.946666666666665,
          "C": 36.946666666666665,
          "CHAS": 0,
          "CRIM": 0.26938,
          "DIS": 3.2628,
          "INDUS": 9.9,
          "LSTAT": 7.9,
          "NOX": 0.544,
          "PRICE": 21.6,
          "PTRATIO": 18.4,
          "RAD": 4,
          "RM": 6.266,
          "TAX": 304,
          "ZN": 0
         },
         {
          "A": 36.946666666666665,
          "AGE": 87.3,
          "B": 36.946666666666665,
          "C": 36.946666666666665,
          "CHAS": 0,
          "CRIM": 0.3692,
          "DIS": 3.6023,
          "INDUS": 9.9,
          "LSTAT": 9.28,
          "NOX": 0.544,
          "PRICE": 23.8,
          "PTRATIO": 18.4,
          "RAD": 4,
          "RM": 6.567,
          "TAX": 304,
          "ZN": 0
         },
         {
          "A": 36.946666666666665,
          "AGE": 77.7,
          "B": 36.946666666666665,
          "C": 36.946666666666665,
          "CHAS": 0,
          "CRIM": 0.25356,
          "DIS": 3.945,
          "INDUS": 9.9,
          "LSTAT": 11.5,
          "NOX": 0.544,
          "PRICE": 16.2,
          "PTRATIO": 18.4,
          "RAD": 4,
          "RM": 5.705,
          "TAX": 304,
          "ZN": 0
         },
         {
          "A": 36.946666666666665,
          "AGE": 83.2,
          "B": 36.946666666666665,
          "C": 36.946666666666665,
          "CHAS": 0,
          "CRIM": 0.31827,
          "DIS": 3.9986,
          "INDUS": 9.9,
          "LSTAT": 18.33,
          "NOX": 0.544,
          "PRICE": 17.8,
          "PTRATIO": 18.4,
          "RAD": 4,
          "RM": 5.914,
          "TAX": 304,
          "ZN": 0
         },
         {
          "A": 36.946666666666665,
          "AGE": 71.7,
          "B": 36.946666666666665,
          "C": 36.946666666666665,
          "CHAS": 0,
          "CRIM": 0.24522,
          "DIS": 4.0317,
          "INDUS": 9.9,
          "LSTAT": 15.94,
          "NOX": 0.544,
          "PRICE": 19.8,
          "PTRATIO": 18.4,
          "RAD": 4,
          "RM": 5.782,
          "TAX": 304,
          "ZN": 0
         },
         {
          "A": 36.946666666666665,
          "AGE": 67.2,
          "B": 36.946666666666665,
          "C": 36.946666666666665,
          "CHAS": 0,
          "CRIM": 0.40202,
          "DIS": 3.5325,
          "INDUS": 9.9,
          "LSTAT": 10.36,
          "NOX": 0.544,
          "PRICE": 23.1,
          "PTRATIO": 18.4,
          "RAD": 4,
          "RM": 6.382,
          "TAX": 304,
          "ZN": 0
         },
         {
          "A": 36.946666666666665,
          "AGE": 58.8,
          "B": 36.946666666666665,
          "C": 36.946666666666665,
          "CHAS": 0,
          "CRIM": 0.47547,
          "DIS": 4.0019,
          "INDUS": 9.9,
          "LSTAT": 12.73,
          "NOX": 0.544,
          "PRICE": 21,
          "PTRATIO": 18.4,
          "RAD": 4,
          "RM": 6.113,
          "TAX": 304,
          "ZN": 0
         },
         {
          "A": 40.14666666666667,
          "AGE": 52.3,
          "B": 40.14666666666667,
          "C": 40.14666666666667,
          "CHAS": 0,
          "CRIM": 0.1676,
          "DIS": 4.5404,
          "INDUS": 7.38,
          "LSTAT": 7.2,
          "NOX": 0.493,
          "PRICE": 23.8,
          "PTRATIO": 19.6,
          "RAD": 5,
          "RM": 6.426,
          "TAX": 287,
          "ZN": 0
         },
         {
          "A": 40.14666666666667,
          "AGE": 54.3,
          "B": 40.14666666666667,
          "C": 40.14666666666667,
          "CHAS": 0,
          "CRIM": 0.18159,
          "DIS": 4.5404,
          "INDUS": 7.38,
          "LSTAT": 6.87,
          "NOX": 0.493,
          "PRICE": 23.1,
          "PTRATIO": 19.6,
          "RAD": 5,
          "RM": 6.376,
          "TAX": 287,
          "ZN": 0
         },
         {
          "A": 40.14666666666667,
          "AGE": 49.9,
          "B": 40.14666666666667,
          "C": 40.14666666666667,
          "CHAS": 0,
          "CRIM": 0.35114,
          "DIS": 4.7211,
          "INDUS": 7.38,
          "LSTAT": 7.7,
          "NOX": 0.493,
          "PRICE": 20.4,
          "PTRATIO": 19.6,
          "RAD": 5,
          "RM": 6.041,
          "TAX": 287,
          "ZN": 0
         },
         {
          "A": 40.14666666666667,
          "AGE": 74.3,
          "B": 40.14666666666667,
          "C": 40.14666666666667,
          "CHAS": 0,
          "CRIM": 0.28392,
          "DIS": 4.7211,
          "INDUS": 7.38,
          "LSTAT": 11.74,
          "NOX": 0.493,
          "PRICE": 18.5,
          "PTRATIO": 19.6,
          "RAD": 5,
          "RM": 5.708,
          "TAX": 287,
          "ZN": 0
         },
         {
          "A": 40.14666666666667,
          "AGE": 40.1,
          "B": 40.14666666666667,
          "C": 40.14666666666667,
          "CHAS": 0,
          "CRIM": 0.34109,
          "DIS": 4.7211,
          "INDUS": 7.38,
          "LSTAT": 6.12,
          "NOX": 0.493,
          "PRICE": 25,
          "PTRATIO": 19.6,
          "RAD": 5,
          "RM": 6.415,
          "TAX": 287,
          "ZN": 0
         },
         {
          "A": 40.14666666666667,
          "AGE": 14.7,
          "B": 40.14666666666667,
          "C": 40.14666666666667,
          "CHAS": 0,
          "CRIM": 0.19186,
          "DIS": 5.4159,
          "INDUS": 7.38,
          "LSTAT": 5.08,
          "NOX": 0.493,
          "PRICE": 24.6,
          "PTRATIO": 19.6,
          "RAD": 5,
          "RM": 6.431,
          "TAX": 287,
          "ZN": 0
         },
         {
          "A": 40.14666666666667,
          "AGE": 28.9,
          "B": 40.14666666666667,
          "C": 40.14666666666667,
          "CHAS": 0,
          "CRIM": 0.30347,
          "DIS": 5.4159,
          "INDUS": 7.38,
          "LSTAT": 6.15,
          "NOX": 0.493,
          "PRICE": 23,
          "PTRATIO": 19.6,
          "RAD": 5,
          "RM": 6.312,
          "TAX": 287,
          "ZN": 0
         },
         {
          "A": 40.14666666666667,
          "AGE": 43.7,
          "B": 40.14666666666667,
          "C": 40.14666666666667,
          "CHAS": 0,
          "CRIM": 0.24103,
          "DIS": 5.4159,
          "INDUS": 7.38,
          "LSTAT": 12.79,
          "NOX": 0.493,
          "PRICE": 22.2,
          "PTRATIO": 19.6,
          "RAD": 5,
          "RM": 6.083,
          "TAX": 287,
          "ZN": 0
         },
         {
          "A": 31.59666666666666,
          "AGE": 25.8,
          "B": 31.59666666666666,
          "C": 31.59666666666666,
          "CHAS": 0,
          "CRIM": 0.06617,
          "DIS": 5.2146,
          "INDUS": 3.24,
          "LSTAT": 9.97,
          "NOX": 0.46,
          "PRICE": 19.3,
          "PTRATIO": 16.9,
          "RAD": 4,
          "RM": 5.868,
          "TAX": 430,
          "ZN": 0
         },
         {
          "A": 31.59666666666666,
          "AGE": 17.2,
          "B": 31.59666666666666,
          "C": 31.59666666666666,
          "CHAS": 0,
          "CRIM": 0.06724,
          "DIS": 5.2146,
          "INDUS": 3.24,
          "LSTAT": 7.34,
          "NOX": 0.46,
          "PRICE": 22.6,
          "PTRATIO": 16.9,
          "RAD": 4,
          "RM": 6.333,
          "TAX": 430,
          "ZN": 0
         },
         {
          "A": 31.59666666666666,
          "AGE": 32.2,
          "B": 31.59666666666666,
          "C": 31.59666666666666,
          "CHAS": 0,
          "CRIM": 0.04544,
          "DIS": 5.8736,
          "INDUS": 3.24,
          "LSTAT": 9.09,
          "NOX": 0.46,
          "PRICE": 19.8,
          "PTRATIO": 16.9,
          "RAD": 4,
          "RM": 6.144,
          "TAX": 430,
          "ZN": 0
         },
         {
          "A": 31.59666666666666,
          "AGE": 28.4,
          "B": 31.59666666666666,
          "C": 31.59666666666666,
          "CHAS": 0,
          "CRIM": 0.05023,
          "DIS": 6.6407,
          "INDUS": 6.06,
          "LSTAT": 12.43,
          "NOX": 0.4379,
          "PRICE": 17.1,
          "PTRATIO": 16.9,
          "RAD": 1,
          "RM": 5.706,
          "TAX": 304,
          "ZN": 35
         },
         {
          "A": 31.59666666666666,
          "AGE": 23.3,
          "B": 31.59666666666666,
          "C": 31.59666666666666,
          "CHAS": 0,
          "CRIM": 0.03466,
          "DIS": 6.6407,
          "INDUS": 6.06,
          "LSTAT": 7.83,
          "NOX": 0.4379,
          "PRICE": 19.4,
          "PTRATIO": 16.9,
          "RAD": 1,
          "RM": 6.031,
          "TAX": 304,
          "ZN": 35
         },
         {
          "A": 41.38666666666666,
          "AGE": 38.1,
          "B": 41.38666666666666,
          "C": 41.38666666666666,
          "CHAS": 0,
          "CRIM": 0.05083,
          "DIS": 6.4584,
          "INDUS": 5.19,
          "LSTAT": 5.68,
          "NOX": 0.515,
          "PRICE": 22.2,
          "PTRATIO": 20.2,
          "RAD": 5,
          "RM": 6.316,
          "TAX": 224,
          "ZN": 0
         },
         {
          "A": 41.38666666666666,
          "AGE": 38.5,
          "B": 41.38666666666666,
          "C": 41.38666666666666,
          "CHAS": 0,
          "CRIM": 0.03738,
          "DIS": 6.4584,
          "INDUS": 5.19,
          "LSTAT": 6.75,
          "NOX": 0.515,
          "PRICE": 20.7,
          "PTRATIO": 20.2,
          "RAD": 5,
          "RM": 6.31,
          "TAX": 224,
          "ZN": 0
         },
         {
          "A": 41.38666666666666,
          "AGE": 34.5,
          "B": 41.38666666666666,
          "C": 41.38666666666666,
          "CHAS": 0,
          "CRIM": 0.03961,
          "DIS": 5.9853,
          "INDUS": 5.19,
          "LSTAT": 8.01,
          "NOX": 0.515,
          "PRICE": 21.1,
          "PTRATIO": 20.2,
          "RAD": 5,
          "RM": 6.037,
          "TAX": 224,
          "ZN": 0
         },
         {
          "A": 41.38666666666666,
          "AGE": 46.3,
          "B": 41.38666666666666,
          "C": 41.38666666666666,
          "CHAS": 0,
          "CRIM": 0.03427,
          "DIS": 5.2311,
          "INDUS": 5.19,
          "LSTAT": 9.8,
          "NOX": 0.515,
          "PRICE": 19.5,
          "PTRATIO": 20.2,
          "RAD": 5,
          "RM": 5.869,
          "TAX": 224,
          "ZN": 0
         },
         {
          "A": 41.38666666666666,
          "AGE": 59.6,
          "B": 41.38666666666666,
          "C": 41.38666666666666,
          "CHAS": 0,
          "CRIM": 0.03041,
          "DIS": 5.615,
          "INDUS": 5.19,
          "LSTAT": 10.56,
          "NOX": 0.515,
          "PRICE": 18.5,
          "PTRATIO": 20.2,
          "RAD": 5,
          "RM": 5.895,
          "TAX": 224,
          "ZN": 0
         },
         {
          "A": 41.38666666666666,
          "AGE": 37.3,
          "B": 41.38666666666666,
          "C": 41.38666666666666,
          "CHAS": 0,
          "CRIM": 0.03306,
          "DIS": 4.8122,
          "INDUS": 5.19,
          "LSTAT": 8.51,
          "NOX": 0.515,
          "PRICE": 20.6,
          "PTRATIO": 20.2,
          "RAD": 5,
          "RM": 6.059,
          "TAX": 224,
          "ZN": 0
         },
         {
          "A": 41.38666666666666,
          "AGE": 45.4,
          "B": 41.38666666666666,
          "C": 41.38666666666666,
          "CHAS": 0,
          "CRIM": 0.05497,
          "DIS": 4.8122,
          "INDUS": 5.19,
          "LSTAT": 9.74,
          "NOX": 0.515,
          "PRICE": 19,
          "PTRATIO": 20.2,
          "RAD": 5,
          "RM": 5.985,
          "TAX": 224,
          "ZN": 0
         },
         {
          "A": 41.38666666666666,
          "AGE": 58.5,
          "B": 41.38666666666666,
          "C": 41.38666666666666,
          "CHAS": 0,
          "CRIM": 0.06151,
          "DIS": 4.8122,
          "INDUS": 5.19,
          "LSTAT": 9.29,
          "NOX": 0.515,
          "PRICE": 18.7,
          "PTRATIO": 20.2,
          "RAD": 5,
          "RM": 5.968,
          "TAX": 224,
          "ZN": 0
         },
         {
          "A": 25.25,
          "AGE": 49.3,
          "B": 25.25,
          "C": 25.25,
          "CHAS": 0,
          "CRIM": 0.01301,
          "DIS": 7.0379,
          "INDUS": 1.52,
          "LSTAT": 5.49,
          "NOX": 0.442,
          "PRICE": 32.7,
          "PTRATIO": 15.5,
          "RAD": 1,
          "RM": 7.241,
          "TAX": 284,
          "ZN": 35
         },
         {
          "A": 27.196666666666665,
          "AGE": 59.7,
          "B": 27.196666666666665,
          "C": 27.196666666666665,
          "CHAS": 0,
          "CRIM": 0.02498,
          "DIS": 6.2669,
          "INDUS": 1.89,
          "LSTAT": 8.65,
          "NOX": 0.518,
          "PRICE": 16.5,
          "PTRATIO": 15.9,
          "RAD": 1,
          "RM": 6.54,
          "TAX": 422,
          "ZN": 0
         },
         {
          "A": 34.28000000000001,
          "AGE": 56.4,
          "B": 34.28000000000001,
          "C": 34.28000000000001,
          "CHAS": 0,
          "CRIM": 0.02543,
          "DIS": 5.7321,
          "INDUS": 3.78,
          "LSTAT": 7.18,
          "NOX": 0.484,
          "PRICE": 23.9,
          "PTRATIO": 17.6,
          "RAD": 5,
          "RM": 6.696,
          "TAX": 370,
          "ZN": 55
         },
         {
          "A": 34.28000000000001,
          "AGE": 28.1,
          "B": 34.28000000000001,
          "C": 34.28000000000001,
          "CHAS": 0,
          "CRIM": 0.03049,
          "DIS": 6.4654,
          "INDUS": 3.78,
          "LSTAT": 4.61,
          "NOX": 0.484,
          "PRICE": 31.2,
          "PTRATIO": 17.6,
          "RAD": 5,
          "RM": 6.874,
          "TAX": 370,
          "ZN": 55
         },
         {
          "A": 38.120000000000005,
          "AGE": 48.5,
          "B": 38.120000000000005,
          "C": 38.120000000000005,
          "CHAS": 0,
          "CRIM": 0.03113,
          "DIS": 8.0136,
          "INDUS": 4.39,
          "LSTAT": 10.53,
          "NOX": 0.442,
          "PRICE": 17.5,
          "PTRATIO": 18.8,
          "RAD": 3,
          "RM": 6.014,
          "TAX": 352,
          "ZN": 0
         },
         {
          "A": 38.120000000000005,
          "AGE": 52.3,
          "B": 38.120000000000005,
          "C": 38.120000000000005,
          "CHAS": 0,
          "CRIM": 0.06162,
          "DIS": 8.0136,
          "INDUS": 4.39,
          "LSTAT": 12.67,
          "NOX": 0.442,
          "PRICE": 17.2,
          "PTRATIO": 18.8,
          "RAD": 3,
          "RM": 5.898,
          "TAX": 352,
          "ZN": 0
         },
         {
          "A": 35.33,
          "AGE": 27.7,
          "B": 35.33,
          "C": 35.33,
          "CHAS": 0,
          "CRIM": 0.0187,
          "DIS": 8.5353,
          "INDUS": 4.15,
          "LSTAT": 6.36,
          "NOX": 0.429,
          "PRICE": 23.1,
          "PTRATIO": 17.9,
          "RAD": 4,
          "RM": 6.516,
          "TAX": 351,
          "ZN": 85
         },
         {
          "A": 32,
          "AGE": 29.7,
          "B": 32,
          "C": 32,
          "CHAS": 0,
          "CRIM": 0.01501,
          "DIS": 8.344,
          "INDUS": 2.01,
          "LSTAT": 5.99,
          "NOX": 0.435,
          "PRICE": 24.5,
          "PTRATIO": 17,
          "RAD": 4,
          "RM": 6.635,
          "TAX": 280,
          "ZN": 80
         },
         {
          "A": 40.37,
          "AGE": 34.5,
          "B": 40.37,
          "C": 40.37,
          "CHAS": 0,
          "CRIM": 0.02899,
          "DIS": 8.7921,
          "INDUS": 1.25,
          "LSTAT": 5.89,
          "NOX": 0.429,
          "PRICE": 26.6,
          "PTRATIO": 19.7,
          "RAD": 1,
          "RM": 6.939,
          "TAX": 335,
          "ZN": 40
         },
         {
          "A": 40.37,
          "AGE": 44.4,
          "B": 40.37,
          "C": 40.37,
          "CHAS": 0,
          "CRIM": 0.06211,
          "DIS": 8.7921,
          "INDUS": 1.25,
          "LSTAT": 5.98,
          "NOX": 0.429,
          "PRICE": 22.9,
          "PTRATIO": 19.7,
          "RAD": 1,
          "RM": 6.49,
          "TAX": 335,
          "ZN": 40
         },
         {
          "A": 36.63666666666667,
          "AGE": 35.9,
          "B": 36.63666666666667,
          "C": 36.63666666666667,
          "CHAS": 0,
          "CRIM": 0.0795,
          "DIS": 10.7103,
          "INDUS": 1.69,
          "LSTAT": 5.49,
          "NOX": 0.411,
          "PRICE": 24.1,
          "PTRATIO": 18.3,
          "RAD": 4,
          "RM": 6.579,
          "TAX": 411,
          "ZN": 60
         },
         {
          "A": 36.63666666666667,
          "AGE": 18.5,
          "B": 36.63666666666667,
          "C": 36.63666666666667,
          "CHAS": 0,
          "CRIM": 0.07244,
          "DIS": 10.7103,
          "INDUS": 1.69,
          "LSTAT": 7.79,
          "NOX": 0.411,
          "PRICE": 18.6,
          "PTRATIO": 18.3,
          "RAD": 4,
          "RM": 5.884,
          "TAX": 411,
          "ZN": 60
         },
         {
          "A": 32,
          "AGE": 36.1,
          "B": 32,
          "C": 32,
          "CHAS": 0,
          "CRIM": 0.01709,
          "DIS": 12.1265,
          "INDUS": 2.02,
          "LSTAT": 4.5,
          "NOX": 0.41,
          "PRICE": 30.1,
          "PTRATIO": 17,
          "RAD": 5,
          "RM": 6.728,
          "TAX": 187,
          "ZN": 90
         },
         {
          "A": 43.666666666666664,
          "AGE": 21.9,
          "B": 43.666666666666664,
          "C": 43.666666666666664,
          "CHAS": 0,
          "CRIM": 0.04301,
          "DIS": 10.5857,
          "INDUS": 1.91,
          "LSTAT": 8.05,
          "NOX": 0.413,
          "PRICE": 18.2,
          "PTRATIO": 22,
          "RAD": 4,
          "RM": 5.663,
          "TAX": 334,
          "ZN": 80
         },
         {
          "A": 43.666666666666664,
          "AGE": 19.5,
          "B": 43.666666666666664,
          "C": 43.666666666666664,
          "CHAS": 0,
          "CRIM": 0.10659,
          "DIS": 10.5857,
          "INDUS": 1.91,
          "LSTAT": 5.57,
          "NOX": 0.413,
          "PRICE": 20.6,
          "PTRATIO": 22,
          "RAD": 4,
          "RM": 5.936,
          "TAX": 334,
          "ZN": 80
         },
         {
          "A": 41.38666666666666,
          "AGE": 97.4,
          "B": 41.38666666666666,
          "C": 41.38666666666666,
          "CHAS": 1,
          "CRIM": 8.98296,
          "DIS": 2.1222,
          "INDUS": 18.1,
          "LSTAT": 17.6,
          "NOX": 0.77,
          "PRICE": 17.8,
          "PTRATIO": 20.2,
          "RAD": 24,
          "RM": 6.212,
          "TAX": 666,
          "ZN": 0
         },
         {
          "A": 41.38666666666666,
          "AGE": 91,
          "B": 41.38666666666666,
          "C": 41.38666666666666,
          "CHAS": 1,
          "CRIM": 3.8497,
          "DIS": 2.5052,
          "INDUS": 18.1,
          "LSTAT": 13.27,
          "NOX": 0.77,
          "PRICE": 21.7,
          "PTRATIO": 20.2,
          "RAD": 24,
          "RM": 6.395,
          "TAX": 666,
          "ZN": 0
         },
         {
          "A": 41.38666666666666,
          "AGE": 83.4,
          "B": 41.38666666666666,
          "C": 41.38666666666666,
          "CHAS": 1,
          "CRIM": 5.20177,
          "DIS": 2.7227,
          "INDUS": 18.1,
          "LSTAT": 11.48,
          "NOX": 0.77,
          "PRICE": 22.7,
          "PTRATIO": 20.2,
          "RAD": 24,
          "RM": 6.127,
          "TAX": 666,
          "ZN": 0
         },
         {
          "A": 41.38666666666666,
          "AGE": 81.3,
          "B": 41.38666666666666,
          "C": 41.38666666666666,
          "CHAS": 0,
          "CRIM": 4.26131,
          "DIS": 2.5091,
          "INDUS": 18.1,
          "LSTAT": 12.67,
          "NOX": 0.77,
          "PRICE": 22.6,
          "PTRATIO": 20.2,
          "RAD": 24,
          "RM": 6.112,
          "TAX": 666,
          "ZN": 0
         },
         {
          "A": 41.38666666666666,
          "AGE": 88,
          "B": 41.38666666666666,
          "C": 41.38666666666666,
          "CHAS": 0,
          "CRIM": 4.54192,
          "DIS": 2.5182,
          "INDUS": 18.1,
          "LSTAT": 7.79,
          "NOX": 0.77,
          "PRICE": 25,
          "PTRATIO": 20.2,
          "RAD": 24,
          "RM": 6.398,
          "TAX": 666,
          "ZN": 0
         },
         {
          "A": 41.38666666666666,
          "AGE": 91.1,
          "B": 41.38666666666666,
          "C": 41.38666666666666,
          "CHAS": 0,
          "CRIM": 3.83684,
          "DIS": 2.2955,
          "INDUS": 18.1,
          "LSTAT": 14.19,
          "NOX": 0.77,
          "PRICE": 19.9,
          "PTRATIO": 20.2,
          "RAD": 24,
          "RM": 6.251,
          "TAX": 666,
          "ZN": 0
         },
         {
          "A": 41.38666666666666,
          "AGE": 96.2,
          "B": 41.38666666666666,
          "C": 41.38666666666666,
          "CHAS": 0,
          "CRIM": 3.67822,
          "DIS": 2.1036,
          "INDUS": 18.1,
          "LSTAT": 10.19,
          "NOX": 0.77,
          "PRICE": 20.8,
          "PTRATIO": 20.2,
          "RAD": 24,
          "RM": 5.362,
          "TAX": 666,
          "ZN": 0
         },
         {
          "A": 41.38666666666666,
          "AGE": 89,
          "B": 41.38666666666666,
          "C": 41.38666666666666,
          "CHAS": 1,
          "CRIM": 4.22239,
          "DIS": 1.9047,
          "INDUS": 18.1,
          "LSTAT": 14.64,
          "NOX": 0.77,
          "PRICE": 16.8,
          "PTRATIO": 20.2,
          "RAD": 24,
          "RM": 5.803,
          "TAX": 666,
          "ZN": 0
         },
         {
          "A": 41.38666666666666,
          "AGE": 82.9,
          "B": 41.38666666666666,
          "C": 41.38666666666666,
          "CHAS": 1,
          "CRIM": 3.47428,
          "DIS": 1.9047,
          "INDUS": 18.1,
          "LSTAT": 5.29,
          "NOX": 0.718,
          "PRICE": 21.9,
          "PTRATIO": 20.2,
          "RAD": 24,
          "RM": 8.78,
          "TAX": 666,
          "ZN": 0
         },
         {
          "A": 41.38666666666666,
          "AGE": 87.9,
          "B": 41.38666666666666,
          "C": 41.38666666666666,
          "CHAS": 0,
          "CRIM": 4.55587,
          "DIS": 1.6132,
          "INDUS": 18.1,
          "LSTAT": 7.12,
          "NOX": 0.718,
          "PRICE": 27.5,
          "PTRATIO": 20.2,
          "RAD": 24,
          "RM": 3.561,
          "TAX": 666,
          "ZN": 0
         },
         {
          "A": 41.38666666666666,
          "AGE": 91.4,
          "B": 41.38666666666666,
          "C": 41.38666666666666,
          "CHAS": 0,
          "CRIM": 3.69695,
          "DIS": 1.7523,
          "INDUS": 18.1,
          "LSTAT": 14,
          "NOX": 0.718,
          "PRICE": 21.9,
          "PTRATIO": 20.2,
          "RAD": 24,
          "RM": 4.963,
          "TAX": 666,
          "ZN": 0
         },
         {
          "A": 41.38666666666666,
          "AGE": 100,
          "B": 41.38666666666666,
          "C": 41.38666666666666,
          "CHAS": 0,
          "CRIM": 13.5222,
          "DIS": 1.5106,
          "INDUS": 18.1,
          "LSTAT": 13.33,
          "NOX": 0.631,
          "PRICE": 23.1,
          "PTRATIO": 20.2,
          "RAD": 24,
          "RM": 3.863,
          "TAX": 666,
          "ZN": 0
         },
         {
          "A": 41.38666666666666,
          "AGE": 100,
          "B": 41.38666666666666,
          "C": 41.38666666666666,
          "CHAS": 0,
          "CRIM": 4.89822,
          "DIS": 1.3325,
          "INDUS": 18.1,
          "LSTAT": 3.26,
          "NOX": 0.631,
          "PRICE": 50,
          "PTRATIO": 20.2,
          "RAD": 24,
          "RM": 4.97,
          "TAX": 666,
          "ZN": 0
         },
         {
          "A": 41.38666666666666,
          "AGE": 96.8,
          "B": 41.38666666666666,
          "C": 41.38666666666666,
          "CHAS": 1,
          "CRIM": 5.66998,
          "DIS": 1.3567,
          "INDUS": 18.1,
          "LSTAT": 3.73,
          "NOX": 0.631,
          "PRICE": 50,
          "PTRATIO": 20.2,
          "RAD": 24,
          "RM": 6.683,
          "TAX": 666,
          "ZN": 0
         },
         {
          "A": 41.38666666666666,
          "AGE": 97.5,
          "B": 41.38666666666666,
          "C": 41.38666666666666,
          "CHAS": 1,
          "CRIM": 6.53876,
          "DIS": 1.2024,
          "INDUS": 18.1,
          "LSTAT": 2.96,
          "NOX": 0.631,
          "PRICE": 50,
          "PTRATIO": 20.2,
          "RAD": 24,
          "RM": 7.016,
          "TAX": 666,
          "ZN": 0
         },
         {
          "A": 41.38666666666666,
          "AGE": 100,
          "B": 41.38666666666666,
          "C": 41.38666666666666,
          "CHAS": 0,
          "CRIM": 9.2323,
          "DIS": 1.1691,
          "INDUS": 18.1,
          "LSTAT": 9.53,
          "NOX": 0.631,
          "PRICE": 50,
          "PTRATIO": 20.2,
          "RAD": 24,
          "RM": 6.216,
          "TAX": 666,
          "ZN": 0
         },
         {
          "A": 41.38666666666666,
          "AGE": 89.6,
          "B": 41.38666666666666,
          "C": 41.38666666666666,
          "CHAS": 1,
          "CRIM": 8.26725,
          "DIS": 1.1296,
          "INDUS": 18.1,
          "LSTAT": 8.88,
          "NOX": 0.668,
          "PRICE": 50,
          "PTRATIO": 20.2,
          "RAD": 24,
          "RM": 5.875,
          "TAX": 666,
          "ZN": 0
         },
         {
          "A": 41.38666666666666,
          "AGE": 100,
          "B": 41.38666666666666,
          "C": 41.38666666666666,
          "CHAS": 0,
          "CRIM": 11.1081,
          "DIS": 1.1742,
          "INDUS": 18.1,
          "LSTAT": 34.77,
          "NOX": 0.668,
          "PRICE": 13.8,
          "PTRATIO": 20.2,
          "RAD": 24,
          "RM": 4.906,
          "TAX": 666,
          "ZN": 0
         },
         {
          "A": 41.38666666666666,
          "AGE": 100,
          "B": 41.38666666666666,
          "C": 41.38666666666666,
          "CHAS": 0,
          "CRIM": 18.4982,
          "DIS": 1.137,
          "INDUS": 18.1,
          "LSTAT": 37.97,
          "NOX": 0.668,
          "PRICE": 13.8,
          "PTRATIO": 20.2,
          "RAD": 24,
          "RM": 4.138,
          "TAX": 666,
          "ZN": 0
         },
         {
          "A": 41.38666666666666,
          "AGE": 97.9,
          "B": 41.38666666666666,
          "C": 41.38666666666666,
          "CHAS": 0,
          "CRIM": 19.6091,
          "DIS": 1.3163,
          "INDUS": 18.1,
          "LSTAT": 13.44,
          "NOX": 0.671,
          "PRICE": 15,
          "PTRATIO": 20.2,
          "RAD": 24,
          "RM": 7.313,
          "TAX": 666,
          "ZN": 0
         },
         {
          "A": 41.38666666666666,
          "AGE": 93.3,
          "B": 41.38666666666666,
          "C": 41.38666666666666,
          "CHAS": 0,
          "CRIM": 15.288,
          "DIS": 1.3449,
          "INDUS": 18.1,
          "LSTAT": 23.24,
          "NOX": 0.671,
          "PRICE": 13.9,
          "PTRATIO": 20.2,
          "RAD": 24,
          "RM": 6.649,
          "TAX": 666,
          "ZN": 0
         },
         {
          "A": 41.38666666666666,
          "AGE": 98.8,
          "B": 41.38666666666666,
          "C": 41.38666666666666,
          "CHAS": 0,
          "CRIM": 9.82349,
          "DIS": 1.358,
          "INDUS": 18.1,
          "LSTAT": 21.24,
          "NOX": 0.671,
          "PRICE": 13.3,
          "PTRATIO": 20.2,
          "RAD": 24,
          "RM": 6.794,
          "TAX": 666,
          "ZN": 0
         },
         {
          "A": 41.38666666666666,
          "AGE": 96.2,
          "B": 41.38666666666666,
          "C": 41.38666666666666,
          "CHAS": 0,
          "CRIM": 23.6482,
          "DIS": 1.3861,
          "INDUS": 18.1,
          "LSTAT": 23.69,
          "NOX": 0.671,
          "PRICE": 13.1,
          "PTRATIO": 20.2,
          "RAD": 24,
          "RM": 6.38,
          "TAX": 666,
          "ZN": 0
         },
         {
          "A": 41.38666666666666,
          "AGE": 100,
          "B": 41.38666666666666,
          "C": 41.38666666666666,
          "CHAS": 0,
          "CRIM": 17.8667,
          "DIS": 1.3861,
          "INDUS": 18.1,
          "LSTAT": 21.78,
          "NOX": 0.671,
          "PRICE": 10.2,
          "PTRATIO": 20.2,
          "RAD": 24,
          "RM": 6.223,
          "TAX": 666,
          "ZN": 0
         },
         {
          "A": 41.38666666666666,
          "AGE": 91.9,
          "B": 41.38666666666666,
          "C": 41.38666666666666,
          "CHAS": 0,
          "CRIM": 88.9762,
          "DIS": 1.4165,
          "INDUS": 18.1,
          "LSTAT": 17.21,
          "NOX": 0.671,
          "PRICE": 10.4,
          "PTRATIO": 20.2,
          "RAD": 24,
          "RM": 6.968,
          "TAX": 666,
          "ZN": 0
         },
         {
          "A": 41.38666666666666,
          "AGE": 99.1,
          "B": 41.38666666666666,
          "C": 41.38666666666666,
          "CHAS": 0,
          "CRIM": 15.8744,
          "DIS": 1.5192,
          "INDUS": 18.1,
          "LSTAT": 21.08,
          "NOX": 0.671,
          "PRICE": 10.9,
          "PTRATIO": 20.2,
          "RAD": 24,
          "RM": 6.545,
          "TAX": 666,
          "ZN": 0
         },
         {
          "A": 41.38666666666666,
          "AGE": 100,
          "B": 41.38666666666666,
          "C": 41.38666666666666,
          "CHAS": 0,
          "CRIM": 9.18702,
          "DIS": 1.5804,
          "INDUS": 18.1,
          "LSTAT": 23.6,
          "NOX": 0.7,
          "PRICE": 11.3,
          "PTRATIO": 20.2,
          "RAD": 24,
          "RM": 5.536,
          "TAX": 666,
          "ZN": 0
         },
         {
          "A": 41.38666666666666,
          "AGE": 100,
          "B": 41.38666666666666,
          "C": 41.38666666666666,
          "CHAS": 0,
          "CRIM": 7.99248,
          "DIS": 1.5331,
          "INDUS": 18.1,
          "LSTAT": 24.56,
          "NOX": 0.7,
          "PRICE": 12.3,
          "PTRATIO": 20.2,
          "RAD": 24,
          "RM": 5.52,
          "TAX": 666,
          "ZN": 0
         },
         {
          "A": 41.38666666666666,
          "AGE": 91.2,
          "B": 41.38666666666666,
          "C": 41.38666666666666,
          "CHAS": 0,
          "CRIM": 20.0849,
          "DIS": 1.4395,
          "INDUS": 18.1,
          "LSTAT": 30.63,
          "NOX": 0.7,
          "PRICE": 8.8,
          "PTRATIO": 20.2,
          "RAD": 24,
          "RM": 4.368,
          "TAX": 666,
          "ZN": 0
         },
         {
          "A": 41.38666666666666,
          "AGE": 98.1,
          "B": 41.38666666666666,
          "C": 41.38666666666666,
          "CHAS": 0,
          "CRIM": 16.8118,
          "DIS": 1.4261,
          "INDUS": 18.1,
          "LSTAT": 30.81,
          "NOX": 0.7,
          "PRICE": 7.2,
          "PTRATIO": 20.2,
          "RAD": 24,
          "RM": 5.277,
          "TAX": 666,
          "ZN": 0
         },
         {
          "A": 41.38666666666666,
          "AGE": 100,
          "B": 41.38666666666666,
          "C": 41.38666666666666,
          "CHAS": 0,
          "CRIM": 24.3938,
          "DIS": 1.4672,
          "INDUS": 18.1,
          "LSTAT": 28.28,
          "NOX": 0.7,
          "PRICE": 10.5,
          "PTRATIO": 20.2,
          "RAD": 24,
          "RM": 4.652,
          "TAX": 666,
          "ZN": 0
         },
         {
          "A": 41.38666666666666,
          "AGE": 89.5,
          "B": 41.38666666666666,
          "C": 41.38666666666666,
          "CHAS": 0,
          "CRIM": 22.5971,
          "DIS": 1.5184,
          "INDUS": 18.1,
          "LSTAT": 31.99,
          "NOX": 0.7,
          "PRICE": 7.4,
          "PTRATIO": 20.2,
          "RAD": 24,
          "RM": 5,
          "TAX": 666,
          "ZN": 0
         },
         {
          "A": 41.38666666666666,
          "AGE": 100,
          "B": 41.38666666666666,
          "C": 41.38666666666666,
          "CHAS": 0,
          "CRIM": 14.3337,
          "DIS": 1.5895,
          "INDUS": 18.1,
          "LSTAT": 30.62,
          "NOX": 0.7,
          "PRICE": 10.2,
          "PTRATIO": 20.2,
          "RAD": 24,
          "RM": 4.88,
          "TAX": 666,
          "ZN": 0
         },
         {
          "A": 41.38666666666666,
          "AGE": 98.9,
          "B": 41.38666666666666,
          "C": 41.38666666666666,
          "CHAS": 0,
          "CRIM": 8.15174,
          "DIS": 1.7281,
          "INDUS": 18.1,
          "LSTAT": 20.85,
          "NOX": 0.7,
          "PRICE": 11.5,
          "PTRATIO": 20.2,
          "RAD": 24,
          "RM": 5.39,
          "TAX": 666,
          "ZN": 0
         },
         {
          "A": 41.38666666666666,
          "AGE": 97,
          "B": 41.38666666666666,
          "C": 41.38666666666666,
          "CHAS": 0,
          "CRIM": 6.96215,
          "DIS": 1.9265,
          "INDUS": 18.1,
          "LSTAT": 17.11,
          "NOX": 0.7,
          "PRICE": 15.1,
          "PTRATIO": 20.2,
          "RAD": 24,
          "RM": 5.713,
          "TAX": 666,
          "ZN": 0
         },
         {
          "A": 41.38666666666666,
          "AGE": 82.5,
          "B": 41.38666666666666,
          "C": 41.38666666666666,
          "CHAS": 0,
          "CRIM": 5.29305,
          "DIS": 2.1678,
          "INDUS": 18.1,
          "LSTAT": 18.76,
          "NOX": 0.7,
          "PRICE": 23.2,
          "PTRATIO": 20.2,
          "RAD": 24,
          "RM": 6.051,
          "TAX": 666,
          "ZN": 0
         },
         {
          "A": 41.38666666666666,
          "AGE": 97,
          "B": 41.38666666666666,
          "C": 41.38666666666666,
          "CHAS": 0,
          "CRIM": 11.5779,
          "DIS": 1.77,
          "INDUS": 18.1,
          "LSTAT": 25.68,
          "NOX": 0.7,
          "PRICE": 9.7,
          "PTRATIO": 20.2,
          "RAD": 24,
          "RM": 5.036,
          "TAX": 666,
          "ZN": 0
         },
         {
          "A": 41.38666666666666,
          "AGE": 92.6,
          "B": 41.38666666666666,
          "C": 41.38666666666666,
          "CHAS": 0,
          "CRIM": 8.64476,
          "DIS": 1.7912,
          "INDUS": 18.1,
          "LSTAT": 15.17,
          "NOX": 0.693,
          "PRICE": 13.8,
          "PTRATIO": 20.2,
          "RAD": 24,
          "RM": 6.193,
          "TAX": 666,
          "ZN": 0
         },
         {
          "A": 41.38666666666666,
          "AGE": 94.7,
          "B": 41.38666666666666,
          "C": 41.38666666666666,
          "CHAS": 0,
          "CRIM": 13.3598,
          "DIS": 1.7821,
          "INDUS": 18.1,
          "LSTAT": 16.35,
          "NOX": 0.693,
          "PRICE": 12.7,
          "PTRATIO": 20.2,
          "RAD": 24,
          "RM": 5.887,
          "TAX": 666,
          "ZN": 0
         },
         {
          "A": 41.38666666666666,
          "AGE": 98.8,
          "B": 41.38666666666666,
          "C": 41.38666666666666,
          "CHAS": 0,
          "CRIM": 8.71675,
          "DIS": 1.7257,
          "INDUS": 18.1,
          "LSTAT": 17.12,
          "NOX": 0.693,
          "PRICE": 13.1,
          "PTRATIO": 20.2,
          "RAD": 24,
          "RM": 6.471,
          "TAX": 666,
          "ZN": 0
         },
         {
          "A": 41.38666666666666,
          "AGE": 96,
          "B": 41.38666666666666,
          "C": 41.38666666666666,
          "CHAS": 0,
          "CRIM": 5.87205,
          "DIS": 1.6768,
          "INDUS": 18.1,
          "LSTAT": 19.37,
          "NOX": 0.693,
          "PRICE": 12.5,
          "PTRATIO": 20.2,
          "RAD": 24,
          "RM": 6.405,
          "TAX": 666,
          "ZN": 0
         },
         {
          "A": 41.38666666666666,
          "AGE": 98.9,
          "B": 41.38666666666666,
          "C": 41.38666666666666,
          "CHAS": 0,
          "CRIM": 7.67202,
          "DIS": 1.6334,
          "INDUS": 18.1,
          "LSTAT": 19.92,
          "NOX": 0.693,
          "PRICE": 8.5,
          "PTRATIO": 20.2,
          "RAD": 24,
          "RM": 5.747,
          "TAX": 666,
          "ZN": 0
         },
         {
          "A": 41.38666666666666,
          "AGE": 100,
          "B": 41.38666666666666,
          "C": 41.38666666666666,
          "CHAS": 0,
          "CRIM": 38.3518,
          "DIS": 1.4896,
          "INDUS": 18.1,
          "LSTAT": 30.59,
          "NOX": 0.693,
          "PRICE": 5,
          "PTRATIO": 20.2,
          "RAD": 24,
          "RM": 5.453,
          "TAX": 666,
          "ZN": 0
         },
         {
          "A": 41.38666666666666,
          "AGE": 77.8,
          "B": 41.38666666666666,
          "C": 41.38666666666666,
          "CHAS": 0,
          "CRIM": 9.91655,
          "DIS": 1.5004,
          "INDUS": 18.1,
          "LSTAT": 29.97,
          "NOX": 0.693,
          "PRICE": 6.3,
          "PTRATIO": 20.2,
          "RAD": 24,
          "RM": 5.852,
          "TAX": 666,
          "ZN": 0
         },
         {
          "A": 41.38666666666666,
          "AGE": 100,
          "B": 41.38666666666666,
          "C": 41.38666666666666,
          "CHAS": 0,
          "CRIM": 25.0461,
          "DIS": 1.5888,
          "INDUS": 18.1,
          "LSTAT": 26.77,
          "NOX": 0.693,
          "PRICE": 5.6,
          "PTRATIO": 20.2,
          "RAD": 24,
          "RM": 5.987,
          "TAX": 666,
          "ZN": 0
         },
         {
          "A": 41.38666666666666,
          "AGE": 100,
          "B": 41.38666666666666,
          "C": 41.38666666666666,
          "CHAS": 0,
          "CRIM": 14.2362,
          "DIS": 1.5741,
          "INDUS": 18.1,
          "LSTAT": 20.32,
          "NOX": 0.693,
          "PRICE": 7.2,
          "PTRATIO": 20.2,
          "RAD": 24,
          "RM": 6.343,
          "TAX": 666,
          "ZN": 0
         },
         {
          "A": 41.38666666666666,
          "AGE": 100,
          "B": 41.38666666666666,
          "C": 41.38666666666666,
          "CHAS": 0,
          "CRIM": 9.59571,
          "DIS": 1.639,
          "INDUS": 18.1,
          "LSTAT": 20.31,
          "NOX": 0.693,
          "PRICE": 12.1,
          "PTRATIO": 20.2,
          "RAD": 24,
          "RM": 6.404,
          "TAX": 666,
          "ZN": 0
         },
         {
          "A": 41.38666666666666,
          "AGE": 96,
          "B": 41.38666666666666,
          "C": 41.38666666666666,
          "CHAS": 0,
          "CRIM": 24.8017,
          "DIS": 1.7028,
          "INDUS": 18.1,
          "LSTAT": 19.77,
          "NOX": 0.693,
          "PRICE": 8.3,
          "PTRATIO": 20.2,
          "RAD": 24,
          "RM": 5.349,
          "TAX": 666,
          "ZN": 0
         },
         {
          "A": 41.38666666666666,
          "AGE": 85.4,
          "B": 41.38666666666666,
          "C": 41.38666666666666,
          "CHAS": 0,
          "CRIM": 41.5292,
          "DIS": 1.6074,
          "INDUS": 18.1,
          "LSTAT": 27.38,
          "NOX": 0.693,
          "PRICE": 8.5,
          "PTRATIO": 20.2,
          "RAD": 24,
          "RM": 5.531,
          "TAX": 666,
          "ZN": 0
         },
         {
          "A": 41.38666666666666,
          "AGE": 100,
          "B": 41.38666666666666,
          "C": 41.38666666666666,
          "CHAS": 0,
          "CRIM": 67.9208,
          "DIS": 1.4254,
          "INDUS": 18.1,
          "LSTAT": 22.98,
          "NOX": 0.693,
          "PRICE": 5,
          "PTRATIO": 20.2,
          "RAD": 24,
          "RM": 5.683,
          "TAX": 666,
          "ZN": 0
         },
         {
          "A": 41.38666666666666,
          "AGE": 100,
          "B": 41.38666666666666,
          "C": 41.38666666666666,
          "CHAS": 0,
          "CRIM": 20.7162,
          "DIS": 1.1781,
          "INDUS": 18.1,
          "LSTAT": 23.34,
          "NOX": 0.659,
          "PRICE": 11.9,
          "PTRATIO": 20.2,
          "RAD": 24,
          "RM": 4.138,
          "TAX": 666,
          "ZN": 0
         },
         {
          "A": 41.38666666666666,
          "AGE": 100,
          "B": 41.38666666666666,
          "C": 41.38666666666666,
          "CHAS": 0,
          "CRIM": 11.9511,
          "DIS": 1.2852,
          "INDUS": 18.1,
          "LSTAT": 12.13,
          "NOX": 0.659,
          "PRICE": 27.9,
          "PTRATIO": 20.2,
          "RAD": 24,
          "RM": 5.608,
          "TAX": 666,
          "ZN": 0
         },
         {
          "A": 41.38666666666666,
          "AGE": 97.9,
          "B": 41.38666666666666,
          "C": 41.38666666666666,
          "CHAS": 0,
          "CRIM": 7.40389,
          "DIS": 1.4547,
          "INDUS": 18.1,
          "LSTAT": 26.4,
          "NOX": 0.597,
          "PRICE": 17.2,
          "PTRATIO": 20.2,
          "RAD": 24,
          "RM": 5.617,
          "TAX": 666,
          "ZN": 0
         },
         {
          "A": 41.38666666666666,
          "AGE": 100,
          "B": 41.38666666666666,
          "C": 41.38666666666666,
          "CHAS": 0,
          "CRIM": 14.4383,
          "DIS": 1.4655,
          "INDUS": 18.1,
          "LSTAT": 19.78,
          "NOX": 0.597,
          "PRICE": 27.5,
          "PTRATIO": 20.2,
          "RAD": 24,
          "RM": 6.852,
          "TAX": 666,
          "ZN": 0
         },
         {
          "A": 41.38666666666666,
          "AGE": 100,
          "B": 41.38666666666666,
          "C": 41.38666666666666,
          "CHAS": 0,
          "CRIM": 51.1358,
          "DIS": 1.413,
          "INDUS": 18.1,
          "LSTAT": 10.11,
          "NOX": 0.597,
          "PRICE": 15,
          "PTRATIO": 20.2,
          "RAD": 24,
          "RM": 5.757,
          "TAX": 666,
          "ZN": 0
         },
         {
          "A": 41.38666666666666,
          "AGE": 100,
          "B": 41.38666666666666,
          "C": 41.38666666666666,
          "CHAS": 0,
          "CRIM": 14.0507,
          "DIS": 1.5275,
          "INDUS": 18.1,
          "LSTAT": 21.22,
          "NOX": 0.597,
          "PRICE": 17.2,
          "PTRATIO": 20.2,
          "RAD": 24,
          "RM": 6.657,
          "TAX": 666,
          "ZN": 0
         },
         {
          "A": 41.38666666666666,
          "AGE": 100,
          "B": 41.38666666666666,
          "C": 41.38666666666666,
          "CHAS": 0,
          "CRIM": 18.811,
          "DIS": 1.5539,
          "INDUS": 18.1,
          "LSTAT": 34.37,
          "NOX": 0.597,
          "PRICE": 17.9,
          "PTRATIO": 20.2,
          "RAD": 24,
          "RM": 4.628,
          "TAX": 666,
          "ZN": 0
         },
         {
          "A": 41.38666666666666,
          "AGE": 100,
          "B": 41.38666666666666,
          "C": 41.38666666666666,
          "CHAS": 0,
          "CRIM": 28.6558,
          "DIS": 1.5894,
          "INDUS": 18.1,
          "LSTAT": 20.08,
          "NOX": 0.597,
          "PRICE": 16.3,
          "PTRATIO": 20.2,
          "RAD": 24,
          "RM": 5.155,
          "TAX": 666,
          "ZN": 0
         },
         {
          "A": 41.38666666666666,
          "AGE": 100,
          "B": 41.38666666666666,
          "C": 41.38666666666666,
          "CHAS": 0,
          "CRIM": 45.7461,
          "DIS": 1.6582,
          "INDUS": 18.1,
          "LSTAT": 36.98,
          "NOX": 0.693,
          "PRICE": 7,
          "PTRATIO": 20.2,
          "RAD": 24,
          "RM": 4.519,
          "TAX": 666,
          "ZN": 0
         },
         {
          "A": 41.38666666666666,
          "AGE": 100,
          "B": 41.38666666666666,
          "C": 41.38666666666666,
          "CHAS": 0,
          "CRIM": 18.0846,
          "DIS": 1.8347,
          "INDUS": 18.1,
          "LSTAT": 29.05,
          "NOX": 0.679,
          "PRICE": 7.2,
          "PTRATIO": 20.2,
          "RAD": 24,
          "RM": 6.434,
          "TAX": 666,
          "ZN": 0
         },
         {
          "A": 41.38666666666666,
          "AGE": 90.8,
          "B": 41.38666666666666,
          "C": 41.38666666666666,
          "CHAS": 0,
          "CRIM": 10.8342,
          "DIS": 1.8195,
          "INDUS": 18.1,
          "LSTAT": 25.79,
          "NOX": 0.679,
          "PRICE": 7.5,
          "PTRATIO": 20.2,
          "RAD": 24,
          "RM": 6.782,
          "TAX": 666,
          "ZN": 0
         },
         {
          "A": 41.38666666666666,
          "AGE": 89.1,
          "B": 41.38666666666666,
          "C": 41.38666666666666,
          "CHAS": 0,
          "CRIM": 25.9406,
          "DIS": 1.6475,
          "INDUS": 18.1,
          "LSTAT": 26.64,
          "NOX": 0.679,
          "PRICE": 10.4,
          "PTRATIO": 20.2,
          "RAD": 24,
          "RM": 5.304,
          "TAX": 666,
          "ZN": 0
         },
         {
          "A": 41.38666666666666,
          "AGE": 100,
          "B": 41.38666666666666,
          "C": 41.38666666666666,
          "CHAS": 0,
          "CRIM": 73.5341,
          "DIS": 1.8026,
          "INDUS": 18.1,
          "LSTAT": 20.62,
          "NOX": 0.679,
          "PRICE": 8.8,
          "PTRATIO": 20.2,
          "RAD": 24,
          "RM": 5.957,
          "TAX": 666,
          "ZN": 0
         },
         {
          "A": 41.38666666666666,
          "AGE": 76.5,
          "B": 41.38666666666666,
          "C": 41.38666666666666,
          "CHAS": 0,
          "CRIM": 11.8123,
          "DIS": 1.794,
          "INDUS": 18.1,
          "LSTAT": 22.74,
          "NOX": 0.718,
          "PRICE": 8.4,
          "PTRATIO": 20.2,
          "RAD": 24,
          "RM": 6.824,
          "TAX": 666,
          "ZN": 0
         },
         {
          "A": 41.38666666666666,
          "AGE": 100,
          "B": 41.38666666666666,
          "C": 41.38666666666666,
          "CHAS": 0,
          "CRIM": 11.0874,
          "DIS": 1.8589,
          "INDUS": 18.1,
          "LSTAT": 15.02,
          "NOX": 0.718,
          "PRICE": 16.7,
          "PTRATIO": 20.2,
          "RAD": 24,
          "RM": 6.411,
          "TAX": 666,
          "ZN": 0
         },
         {
          "A": 41.38666666666666,
          "AGE": 95.3,
          "B": 41.38666666666666,
          "C": 41.38666666666666,
          "CHAS": 0,
          "CRIM": 7.02259,
          "DIS": 1.8746,
          "INDUS": 18.1,
          "LSTAT": 15.7,
          "NOX": 0.718,
          "PRICE": 14.2,
          "PTRATIO": 20.2,
          "RAD": 24,
          "RM": 6.006,
          "TAX": 666,
          "ZN": 0
         },
         {
          "A": 41.38666666666666,
          "AGE": 87.6,
          "B": 41.38666666666666,
          "C": 41.38666666666666,
          "CHAS": 0,
          "CRIM": 12.0482,
          "DIS": 1.9512,
          "INDUS": 18.1,
          "LSTAT": 14.1,
          "NOX": 0.614,
          "PRICE": 20.8,
          "PTRATIO": 20.2,
          "RAD": 24,
          "RM": 5.648,
          "TAX": 666,
          "ZN": 0
         },
         {
          "A": 41.38666666666666,
          "AGE": 85.1,
          "B": 41.38666666666666,
          "C": 41.38666666666666,
          "CHAS": 0,
          "CRIM": 7.05042,
          "DIS": 2.0218,
          "INDUS": 18.1,
          "LSTAT": 23.29,
          "NOX": 0.614,
          "PRICE": 13.4,
          "PTRATIO": 20.2,
          "RAD": 24,
          "RM": 6.103,
          "TAX": 666,
          "ZN": 0
         },
         {
          "A": 41.38666666666666,
          "AGE": 70.6,
          "B": 41.38666666666666,
          "C": 41.38666666666666,
          "CHAS": 0,
          "CRIM": 8.79212,
          "DIS": 2.0635,
          "INDUS": 18.1,
          "LSTAT": 17.16,
          "NOX": 0.584,
          "PRICE": 11.7,
          "PTRATIO": 20.2,
          "RAD": 24,
          "RM": 5.565,
          "TAX": 666,
          "ZN": 0
         },
         {
          "A": 41.38666666666666,
          "AGE": 95.4,
          "B": 41.38666666666666,
          "C": 41.38666666666666,
          "CHAS": 0,
          "CRIM": 15.8603,
          "DIS": 1.9096,
          "INDUS": 18.1,
          "LSTAT": 24.39,
          "NOX": 0.679,
          "PRICE": 8.3,
          "PTRATIO": 20.2,
          "RAD": 24,
          "RM": 5.896,
          "TAX": 666,
          "ZN": 0
         },
         {
          "A": 41.38666666666666,
          "AGE": 59.7,
          "B": 41.38666666666666,
          "C": 41.38666666666666,
          "CHAS": 0,
          "CRIM": 12.2472,
          "DIS": 1.9976,
          "INDUS": 18.1,
          "LSTAT": 15.69,
          "NOX": 0.584,
          "PRICE": 10.2,
          "PTRATIO": 20.2,
          "RAD": 24,
          "RM": 5.837,
          "TAX": 666,
          "ZN": 0
         },
         {
          "A": 41.38666666666666,
          "AGE": 78.7,
          "B": 41.38666666666666,
          "C": 41.38666666666666,
          "CHAS": 0,
          "CRIM": 37.6619,
          "DIS": 1.8629,
          "INDUS": 18.1,
          "LSTAT": 14.52,
          "NOX": 0.679,
          "PRICE": 10.9,
          "PTRATIO": 20.2,
          "RAD": 24,
          "RM": 6.202,
          "TAX": 666,
          "ZN": 0
         },
         {
          "A": 41.38666666666666,
          "AGE": 78.1,
          "B": 41.38666666666666,
          "C": 41.38666666666666,
          "CHAS": 0,
          "CRIM": 7.36711,
          "DIS": 1.9356,
          "INDUS": 18.1,
          "LSTAT": 21.52,
          "NOX": 0.679,
          "PRICE": 11,
          "PTRATIO": 20.2,
          "RAD": 24,
          "RM": 6.193,
          "TAX": 666,
          "ZN": 0
         },
         {
          "A": 41.38666666666666,
          "AGE": 95.6,
          "B": 41.38666666666666,
          "C": 41.38666666666666,
          "CHAS": 0,
          "CRIM": 9.33889,
          "DIS": 1.9682,
          "INDUS": 18.1,
          "LSTAT": 24.08,
          "NOX": 0.679,
          "PRICE": 9.5,
          "PTRATIO": 20.2,
          "RAD": 24,
          "RM": 6.38,
          "TAX": 666,
          "ZN": 0
         },
         {
          "A": 41.38666666666666,
          "AGE": 86.1,
          "B": 41.38666666666666,
          "C": 41.38666666666666,
          "CHAS": 0,
          "CRIM": 8.49213,
          "DIS": 2.0527,
          "INDUS": 18.1,
          "LSTAT": 17.64,
          "NOX": 0.584,
          "PRICE": 14.5,
          "PTRATIO": 20.2,
          "RAD": 24,
          "RM": 6.348,
          "TAX": 666,
          "ZN": 0
         },
         {
          "A": 41.38666666666666,
          "AGE": 94.3,
          "B": 41.38666666666666,
          "C": 41.38666666666666,
          "CHAS": 0,
          "CRIM": 10.0623,
          "DIS": 2.0882,
          "INDUS": 18.1,
          "LSTAT": 19.69,
          "NOX": 0.584,
          "PRICE": 14.1,
          "PTRATIO": 20.2,
          "RAD": 24,
          "RM": 6.833,
          "TAX": 666,
          "ZN": 0
         },
         {
          "A": 41.38666666666666,
          "AGE": 74.8,
          "B": 41.38666666666666,
          "C": 41.38666666666666,
          "CHAS": 0,
          "CRIM": 6.44405,
          "DIS": 2.2004,
          "INDUS": 18.1,
          "LSTAT": 12.03,
          "NOX": 0.584,
          "PRICE": 16.1,
          "PTRATIO": 20.2,
          "RAD": 24,
          "RM": 6.425,
          "TAX": 666,
          "ZN": 0
         },
         {
          "A": 41.38666666666666,
          "AGE": 87.9,
          "B": 41.38666666666666,
          "C": 41.38666666666666,
          "CHAS": 0,
          "CRIM": 5.58107,
          "DIS": 2.3158,
          "INDUS": 18.1,
          "LSTAT": 16.22,
          "NOX": 0.713,
          "PRICE": 14.3,
          "PTRATIO": 20.2,
          "RAD": 24,
          "RM": 6.436,
          "TAX": 666,
          "ZN": 0
         },
         {
          "A": 41.38666666666666,
          "AGE": 95,
          "B": 41.38666666666666,
          "C": 41.38666666666666,
          "CHAS": 0,
          "CRIM": 13.9134,
          "DIS": 2.2222,
          "INDUS": 18.1,
          "LSTAT": 15.17,
          "NOX": 0.713,
          "PRICE": 11.7,
          "PTRATIO": 20.2,
          "RAD": 24,
          "RM": 6.208,
          "TAX": 666,
          "ZN": 0
         },
         {
          "A": 41.38666666666666,
          "AGE": 94.6,
          "B": 41.38666666666666,
          "C": 41.38666666666666,
          "CHAS": 0,
          "CRIM": 11.1604,
          "DIS": 2.1247,
          "INDUS": 18.1,
          "LSTAT": 23.27,
          "NOX": 0.74,
          "PRICE": 13.4,
          "PTRATIO": 20.2,
          "RAD": 24,
          "RM": 6.629,
          "TAX": 666,
          "ZN": 0
         },
         {
          "A": 41.38666666666666,
          "AGE": 93.3,
          "B": 41.38666666666666,
          "C": 41.38666666666666,
          "CHAS": 0,
          "CRIM": 14.4208,
          "DIS": 2.0026,
          "INDUS": 18.1,
          "LSTAT": 18.05,
          "NOX": 0.74,
          "PRICE": 9.6,
          "PTRATIO": 20.2,
          "RAD": 24,
          "RM": 6.461,
          "TAX": 666,
          "ZN": 0
         },
         {
          "A": 41.38666666666666,
          "AGE": 100,
          "B": 41.38666666666666,
          "C": 41.38666666666666,
          "CHAS": 0,
          "CRIM": 15.1772,
          "DIS": 1.9142,
          "INDUS": 18.1,
          "LSTAT": 26.45,
          "NOX": 0.74,
          "PRICE": 8.7,
          "PTRATIO": 20.2,
          "RAD": 24,
          "RM": 6.152,
          "TAX": 666,
          "ZN": 0
         },
         {
          "A": 41.38666666666666,
          "AGE": 87.9,
          "B": 41.38666666666666,
          "C": 41.38666666666666,
          "CHAS": 0,
          "CRIM": 13.6781,
          "DIS": 1.8206,
          "INDUS": 18.1,
          "LSTAT": 34.02,
          "NOX": 0.74,
          "PRICE": 8.4,
          "PTRATIO": 20.2,
          "RAD": 24,
          "RM": 5.935,
          "TAX": 666,
          "ZN": 0
         },
         {
          "A": 41.38666666666666,
          "AGE": 93.9,
          "B": 41.38666666666666,
          "C": 41.38666666666666,
          "CHAS": 0,
          "CRIM": 9.39063,
          "DIS": 1.8172,
          "INDUS": 18.1,
          "LSTAT": 22.88,
          "NOX": 0.74,
          "PRICE": 12.8,
          "PTRATIO": 20.2,
          "RAD": 24,
          "RM": 5.627,
          "TAX": 666,
          "ZN": 0
         },
         {
          "A": 41.38666666666666,
          "AGE": 92.4,
          "B": 41.38666666666666,
          "C": 41.38666666666666,
          "CHAS": 0,
          "CRIM": 22.0511,
          "DIS": 1.8662,
          "INDUS": 18.1,
          "LSTAT": 22.11,
          "NOX": 0.74,
          "PRICE": 10.5,
          "PTRATIO": 20.2,
          "RAD": 24,
          "RM": 5.818,
          "TAX": 666,
          "ZN": 0
         },
         {
          "A": 41.38666666666666,
          "AGE": 97.2,
          "B": 41.38666666666666,
          "C": 41.38666666666666,
          "CHAS": 0,
          "CRIM": 9.72418,
          "DIS": 2.0651,
          "INDUS": 18.1,
          "LSTAT": 19.52,
          "NOX": 0.74,
          "PRICE": 17.1,
          "PTRATIO": 20.2,
          "RAD": 24,
          "RM": 6.406,
          "TAX": 666,
          "ZN": 0
         },
         {
          "A": 41.38666666666666,
          "AGE": 100,
          "B": 41.38666666666666,
          "C": 41.38666666666666,
          "CHAS": 0,
          "CRIM": 5.66637,
          "DIS": 2.0048,
          "INDUS": 18.1,
          "LSTAT": 16.59,
          "NOX": 0.74,
          "PRICE": 18.4,
          "PTRATIO": 20.2,
          "RAD": 24,
          "RM": 6.219,
          "TAX": 666,
          "ZN": 0
         },
         {
          "A": 41.38666666666666,
          "AGE": 100,
          "B": 41.38666666666666,
          "C": 41.38666666666666,
          "CHAS": 0,
          "CRIM": 9.96654,
          "DIS": 1.9784,
          "INDUS": 18.1,
          "LSTAT": 18.85,
          "NOX": 0.74,
          "PRICE": 15.4,
          "PTRATIO": 20.2,
          "RAD": 24,
          "RM": 6.485,
          "TAX": 666,
          "ZN": 0
         },
         {
          "A": 41.38666666666666,
          "AGE": 96.6,
          "B": 41.38666666666666,
          "C": 41.38666666666666,
          "CHAS": 0,
          "CRIM": 12.8023,
          "DIS": 1.8956,
          "INDUS": 18.1,
          "LSTAT": 23.79,
          "NOX": 0.74,
          "PRICE": 10.8,
          "PTRATIO": 20.2,
          "RAD": 24,
          "RM": 5.854,
          "TAX": 666,
          "ZN": 0
         },
         {
          "A": 41.38666666666666,
          "AGE": 94.8,
          "B": 41.38666666666666,
          "C": 41.38666666666666,
          "CHAS": 0,
          "CRIM": 10.6718,
          "DIS": 1.9879,
          "INDUS": 18.1,
          "LSTAT": 23.98,
          "NOX": 0.74,
          "PRICE": 11.8,
          "PTRATIO": 20.2,
          "RAD": 24,
          "RM": 6.459,
          "TAX": 666,
          "ZN": 0
         },
         {
          "A": 41.38666666666666,
          "AGE": 96.4,
          "B": 41.38666666666666,
          "C": 41.38666666666666,
          "CHAS": 0,
          "CRIM": 6.28807,
          "DIS": 2.072,
          "INDUS": 18.1,
          "LSTAT": 17.79,
          "NOX": 0.74,
          "PRICE": 14.9,
          "PTRATIO": 20.2,
          "RAD": 24,
          "RM": 6.341,
          "TAX": 666,
          "ZN": 0
         },
         {
          "A": 41.38666666666666,
          "AGE": 96.6,
          "B": 41.38666666666666,
          "C": 41.38666666666666,
          "CHAS": 0,
          "CRIM": 9.92485,
          "DIS": 2.198,
          "INDUS": 18.1,
          "LSTAT": 16.44,
          "NOX": 0.74,
          "PRICE": 12.6,
          "PTRATIO": 20.2,
          "RAD": 24,
          "RM": 6.251,
          "TAX": 666,
          "ZN": 0
         },
         {
          "A": 41.38666666666666,
          "AGE": 98.7,
          "B": 41.38666666666666,
          "C": 41.38666666666666,
          "CHAS": 0,
          "CRIM": 9.32909,
          "DIS": 2.2616,
          "INDUS": 18.1,
          "LSTAT": 18.13,
          "NOX": 0.713,
          "PRICE": 14.1,
          "PTRATIO": 20.2,
          "RAD": 24,
          "RM": 6.185,
          "TAX": 666,
          "ZN": 0
         },
         {
          "A": 41.38666666666666,
          "AGE": 98.3,
          "B": 41.38666666666666,
          "C": 41.38666666666666,
          "CHAS": 0,
          "CRIM": 7.52601,
          "DIS": 2.185,
          "INDUS": 18.1,
          "LSTAT": 19.31,
          "NOX": 0.713,
          "PRICE": 13,
          "PTRATIO": 20.2,
          "RAD": 24,
          "RM": 6.417,
          "TAX": 666,
          "ZN": 0
         },
         {
          "A": 41.38666666666666,
          "AGE": 92.6,
          "B": 41.38666666666666,
          "C": 41.38666666666666,
          "CHAS": 0,
          "CRIM": 6.71772,
          "DIS": 2.3236,
          "INDUS": 18.1,
          "LSTAT": 17.44,
          "NOX": 0.713,
          "PRICE": 13.4,
          "PTRATIO": 20.2,
          "RAD": 24,
          "RM": 6.749,
          "TAX": 666,
          "ZN": 0
         },
         {
          "A": 41.38666666666666,
          "AGE": 98.2,
          "B": 41.38666666666666,
          "C": 41.38666666666666,
          "CHAS": 0,
          "CRIM": 5.44114,
          "DIS": 2.3552,
          "INDUS": 18.1,
          "LSTAT": 17.73,
          "NOX": 0.713,
          "PRICE": 15.2,
          "PTRATIO": 20.2,
          "RAD": 24,
          "RM": 6.655,
          "TAX": 666,
          "ZN": 0
         },
         {
          "A": 41.38666666666666,
          "AGE": 91.8,
          "B": 41.38666666666666,
          "C": 41.38666666666666,
          "CHAS": 0,
          "CRIM": 5.09017,
          "DIS": 2.3682,
          "INDUS": 18.1,
          "LSTAT": 17.27,
          "NOX": 0.713,
          "PRICE": 16.1,
          "PTRATIO": 20.2,
          "RAD": 24,
          "RM": 6.297,
          "TAX": 666,
          "ZN": 0
         },
         {
          "A": 41.38666666666666,
          "AGE": 99.3,
          "B": 41.38666666666666,
          "C": 41.38666666666666,
          "CHAS": 0,
          "CRIM": 8.24809,
          "DIS": 2.4527,
          "INDUS": 18.1,
          "LSTAT": 16.74,
          "NOX": 0.713,
          "PRICE": 17.8,
          "PTRATIO": 20.2,
          "RAD": 24,
          "RM": 7.393,
          "TAX": 666,
          "ZN": 0
         },
         {
          "A": 41.38666666666666,
          "AGE": 94.1,
          "B": 41.38666666666666,
          "C": 41.38666666666666,
          "CHAS": 0,
          "CRIM": 9.51363,
          "DIS": 2.4961,
          "INDUS": 18.1,
          "LSTAT": 18.71,
          "NOX": 0.713,
          "PRICE": 14.9,
          "PTRATIO": 20.2,
          "RAD": 24,
          "RM": 6.728,
          "TAX": 666,
          "ZN": 0
         },
         {
          "A": 41.38666666666666,
          "AGE": 86.5,
          "B": 41.38666666666666,
          "C": 41.38666666666666,
          "CHAS": 0,
          "CRIM": 4.75237,
          "DIS": 2.4358,
          "INDUS": 18.1,
          "LSTAT": 18.13,
          "NOX": 0.713,
          "PRICE": 14.1,
          "PTRATIO": 20.2,
          "RAD": 24,
          "RM": 6.525,
          "TAX": 666,
          "ZN": 0
         },
         {
          "A": 41.38666666666666,
          "AGE": 87.9,
          "B": 41.38666666666666,
          "C": 41.38666666666666,
          "CHAS": 0,
          "CRIM": 4.66883,
          "DIS": 2.5806,
          "INDUS": 18.1,
          "LSTAT": 19.01,
          "NOX": 0.713,
          "PRICE": 12.7,
          "PTRATIO": 20.2,
          "RAD": 24,
          "RM": 5.976,
          "TAX": 666,
          "ZN": 0
         },
         {
          "A": 41.38666666666666,
          "AGE": 80.3,
          "B": 41.38666666666666,
          "C": 41.38666666666666,
          "CHAS": 0,
          "CRIM": 8.20058,
          "DIS": 2.7792,
          "INDUS": 18.1,
          "LSTAT": 16.94,
          "NOX": 0.713,
          "PRICE": 13.5,
          "PTRATIO": 20.2,
          "RAD": 24,
          "RM": 5.936,
          "TAX": 666,
          "ZN": 0
         },
         {
          "A": 41.38666666666666,
          "AGE": 83.7,
          "B": 41.38666666666666,
          "C": 41.38666666666666,
          "CHAS": 0,
          "CRIM": 7.75223,
          "DIS": 2.7831,
          "INDUS": 18.1,
          "LSTAT": 16.23,
          "NOX": 0.713,
          "PRICE": 14.9,
          "PTRATIO": 20.2,
          "RAD": 24,
          "RM": 6.301,
          "TAX": 666,
          "ZN": 0
         },
         {
          "A": 41.38666666666666,
          "AGE": 84.4,
          "B": 41.38666666666666,
          "C": 41.38666666666666,
          "CHAS": 0,
          "CRIM": 6.80117,
          "DIS": 2.7175,
          "INDUS": 18.1,
          "LSTAT": 14.7,
          "NOX": 0.713,
          "PRICE": 20,
          "PTRATIO": 20.2,
          "RAD": 24,
          "RM": 6.081,
          "TAX": 666,
          "ZN": 0
         },
         {
          "A": 41.38666666666666,
          "AGE": 90,
          "B": 41.38666666666666,
          "C": 41.38666666666666,
          "CHAS": 0,
          "CRIM": 4.81213,
          "DIS": 2.5975,
          "INDUS": 18.1,
          "LSTAT": 16.42,
          "NOX": 0.713,
          "PRICE": 16.4,
          "PTRATIO": 20.2,
          "RAD": 24,
          "RM": 6.701,
          "TAX": 666,
          "ZN": 0
         },
         {
          "A": 41.38666666666666,
          "AGE": 88.4,
          "B": 41.38666666666666,
          "C": 41.38666666666666,
          "CHAS": 0,
          "CRIM": 3.69311,
          "DIS": 2.5671,
          "INDUS": 18.1,
          "LSTAT": 14.65,
          "NOX": 0.713,
          "PRICE": 17.7,
          "PTRATIO": 20.2,
          "RAD": 24,
          "RM": 6.376,
          "TAX": 666,
          "ZN": 0
         },
         {
          "A": 41.38666666666666,
          "AGE": 83,
          "B": 41.38666666666666,
          "C": 41.38666666666666,
          "CHAS": 0,
          "CRIM": 6.65492,
          "DIS": 2.7344,
          "INDUS": 18.1,
          "LSTAT": 13.99,
          "NOX": 0.713,
          "PRICE": 19.5,
          "PTRATIO": 20.2,
          "RAD": 24,
          "RM": 6.317,
          "TAX": 666,
          "ZN": 0
         },
         {
          "A": 41.38666666666666,
          "AGE": 89.9,
          "B": 41.38666666666666,
          "C": 41.38666666666666,
          "CHAS": 0,
          "CRIM": 5.82115,
          "DIS": 2.8016,
          "INDUS": 18.1,
          "LSTAT": 10.29,
          "NOX": 0.713,
          "PRICE": 20.2,
          "PTRATIO": 20.2,
          "RAD": 24,
          "RM": 6.513,
          "TAX": 666,
          "ZN": 0
         },
         {
          "A": 41.38666666666666,
          "AGE": 65.4,
          "B": 41.38666666666666,
          "C": 41.38666666666666,
          "CHAS": 0,
          "CRIM": 7.83932,
          "DIS": 2.9634,
          "INDUS": 18.1,
          "LSTAT": 13.22,
          "NOX": 0.655,
          "PRICE": 21.4,
          "PTRATIO": 20.2,
          "RAD": 24,
          "RM": 6.209,
          "TAX": 666,
          "ZN": 0
         },
         {
          "A": 41.38666666666666,
          "AGE": 48.2,
          "B": 41.38666666666666,
          "C": 41.38666666666666,
          "CHAS": 0,
          "CRIM": 3.1636,
          "DIS": 3.0665,
          "INDUS": 18.1,
          "LSTAT": 14.13,
          "NOX": 0.655,
          "PRICE": 19.9,
          "PTRATIO": 20.2,
          "RAD": 24,
          "RM": 5.759,
          "TAX": 666,
          "ZN": 0
         },
         {
          "A": 41.38666666666666,
          "AGE": 84.7,
          "B": 41.38666666666666,
          "C": 41.38666666666666,
          "CHAS": 0,
          "CRIM": 3.77498,
          "DIS": 2.8715,
          "INDUS": 18.1,
          "LSTAT": 17.15,
          "NOX": 0.655,
          "PRICE": 19,
          "PTRATIO": 20.2,
          "RAD": 24,
          "RM": 5.952,
          "TAX": 666,
          "ZN": 0
         },
         {
          "A": 41.38666666666666,
          "AGE": 94.5,
          "B": 41.38666666666666,
          "C": 41.38666666666666,
          "CHAS": 0,
          "CRIM": 4.42228,
          "DIS": 2.5403,
          "INDUS": 18.1,
          "LSTAT": 21.32,
          "NOX": 0.584,
          "PRICE": 19.1,
          "PTRATIO": 20.2,
          "RAD": 24,
          "RM": 6.003,
          "TAX": 666,
          "ZN": 0
         },
         {
          "A": 41.38666666666666,
          "AGE": 71,
          "B": 41.38666666666666,
          "C": 41.38666666666666,
          "CHAS": 0,
          "CRIM": 15.5757,
          "DIS": 2.9084,
          "INDUS": 18.1,
          "LSTAT": 18.13,
          "NOX": 0.58,
          "PRICE": 19.1,
          "PTRATIO": 20.2,
          "RAD": 24,
          "RM": 5.926,
          "TAX": 666,
          "ZN": 0
         },
         {
          "A": 41.38666666666666,
          "AGE": 56.7,
          "B": 41.38666666666666,
          "C": 41.38666666666666,
          "CHAS": 0,
          "CRIM": 13.0751,
          "DIS": 2.8237,
          "INDUS": 18.1,
          "LSTAT": 14.76,
          "NOX": 0.58,
          "PRICE": 20.1,
          "PTRATIO": 20.2,
          "RAD": 24,
          "RM": 5.713,
          "TAX": 666,
          "ZN": 0
         },
         {
          "A": 41.38666666666666,
          "AGE": 84,
          "B": 41.38666666666666,
          "C": 41.38666666666666,
          "CHAS": 0,
          "CRIM": 4.34879,
          "DIS": 3.0334,
          "INDUS": 18.1,
          "LSTAT": 16.29,
          "NOX": 0.58,
          "PRICE": 19.9,
          "PTRATIO": 20.2,
          "RAD": 24,
          "RM": 6.167,
          "TAX": 666,
          "ZN": 0
         },
         {
          "A": 41.38666666666666,
          "AGE": 90.7,
          "B": 41.38666666666666,
          "C": 41.38666666666666,
          "CHAS": 0,
          "CRIM": 4.03841,
          "DIS": 3.0993,
          "INDUS": 18.1,
          "LSTAT": 12.87,
          "NOX": 0.532,
          "PRICE": 19.6,
          "PTRATIO": 20.2,
          "RAD": 24,
          "RM": 6.229,
          "TAX": 666,
          "ZN": 0
         },
         {
          "A": 41.38666666666666,
          "AGE": 75,
          "B": 41.38666666666666,
          "C": 41.38666666666666,
          "CHAS": 0,
          "CRIM": 3.56868,
          "DIS": 2.8965,
          "INDUS": 18.1,
          "LSTAT": 14.36,
          "NOX": 0.58,
          "PRICE": 23.2,
          "PTRATIO": 20.2,
          "RAD": 24,
          "RM": 6.437,
          "TAX": 666,
          "ZN": 0
         },
         {
          "A": 41.38666666666666,
          "AGE": 67.6,
          "B": 41.38666666666666,
          "C": 41.38666666666666,
          "CHAS": 0,
          "CRIM": 4.64689,
          "DIS": 2.5329,
          "INDUS": 18.1,
          "LSTAT": 11.66,
          "NOX": 0.614,
          "PRICE": 29.8,
          "PTRATIO": 20.2,
          "RAD": 24,
          "RM": 6.98,
          "TAX": 666,
          "ZN": 0
         },
         {
          "A": 41.38666666666666,
          "AGE": 95.4,
          "B": 41.38666666666666,
          "C": 41.38666666666666,
          "CHAS": 0,
          "CRIM": 8.05579,
          "DIS": 2.4298,
          "INDUS": 18.1,
          "LSTAT": 18.14,
          "NOX": 0.584,
          "PRICE": 13.8,
          "PTRATIO": 20.2,
          "RAD": 24,
          "RM": 5.427,
          "TAX": 666,
          "ZN": 0
         },
         {
          "A": 41.38666666666666,
          "AGE": 97.4,
          "B": 41.38666666666666,
          "C": 41.38666666666666,
          "CHAS": 0,
          "CRIM": 6.39312,
          "DIS": 2.206,
          "INDUS": 18.1,
          "LSTAT": 24.1,
          "NOX": 0.584,
          "PRICE": 13.3,
          "PTRATIO": 20.2,
          "RAD": 24,
          "RM": 6.162,
          "TAX": 666,
          "ZN": 0
         },
         {
          "A": 41.38666666666666,
          "AGE": 93.6,
          "B": 41.38666666666666,
          "C": 41.38666666666666,
          "CHAS": 0,
          "CRIM": 4.87141,
          "DIS": 2.3053,
          "INDUS": 18.1,
          "LSTAT": 18.68,
          "NOX": 0.614,
          "PRICE": 16.7,
          "PTRATIO": 20.2,
          "RAD": 24,
          "RM": 6.484,
          "TAX": 666,
          "ZN": 0
         },
         {
          "A": 41.38666666666666,
          "AGE": 97.3,
          "B": 41.38666666666666,
          "C": 41.38666666666666,
          "CHAS": 0,
          "CRIM": 15.0234,
          "DIS": 2.1007,
          "INDUS": 18.1,
          "LSTAT": 24.91,
          "NOX": 0.614,
          "PRICE": 12,
          "PTRATIO": 20.2,
          "RAD": 24,
          "RM": 5.304,
          "TAX": 666,
          "ZN": 0
         },
         {
          "A": 41.38666666666666,
          "AGE": 96.7,
          "B": 41.38666666666666,
          "C": 41.38666666666666,
          "CHAS": 0,
          "CRIM": 10.233,
          "DIS": 2.1705,
          "INDUS": 18.1,
          "LSTAT": 18.03,
          "NOX": 0.614,
          "PRICE": 14.6,
          "PTRATIO": 20.2,
          "RAD": 24,
          "RM": 6.185,
          "TAX": 666,
          "ZN": 0
         },
         {
          "A": 41.38666666666666,
          "AGE": 88,
          "B": 41.38666666666666,
          "C": 41.38666666666666,
          "CHAS": 0,
          "CRIM": 14.3337,
          "DIS": 1.9512,
          "INDUS": 18.1,
          "LSTAT": 13.11,
          "NOX": 0.614,
          "PRICE": 21.4,
          "PTRATIO": 20.2,
          "RAD": 24,
          "RM": 6.229,
          "TAX": 666,
          "ZN": 0
         },
         {
          "A": 41.38666666666666,
          "AGE": 64.7,
          "B": 41.38666666666666,
          "C": 41.38666666666666,
          "CHAS": 0,
          "CRIM": 5.82401,
          "DIS": 3.4242,
          "INDUS": 18.1,
          "LSTAT": 10.74,
          "NOX": 0.532,
          "PRICE": 23,
          "PTRATIO": 20.2,
          "RAD": 24,
          "RM": 6.242,
          "TAX": 666,
          "ZN": 0
         },
         {
          "A": 41.38666666666666,
          "AGE": 74.9,
          "B": 41.38666666666666,
          "C": 41.38666666666666,
          "CHAS": 0,
          "CRIM": 5.70818,
          "DIS": 3.3317,
          "INDUS": 18.1,
          "LSTAT": 7.74,
          "NOX": 0.532,
          "PRICE": 23.7,
          "PTRATIO": 20.2,
          "RAD": 24,
          "RM": 6.75,
          "TAX": 666,
          "ZN": 0
         },
         {
          "A": 41.38666666666666,
          "AGE": 77,
          "B": 41.38666666666666,
          "C": 41.38666666666666,
          "CHAS": 0,
          "CRIM": 5.73116,
          "DIS": 3.4106,
          "INDUS": 18.1,
          "LSTAT": 7.01,
          "NOX": 0.532,
          "PRICE": 25,
          "PTRATIO": 20.2,
          "RAD": 24,
          "RM": 7.061,
          "TAX": 666,
          "ZN": 0
         },
         {
          "A": 41.38666666666666,
          "AGE": 40.3,
          "B": 41.38666666666666,
          "C": 41.38666666666666,
          "CHAS": 0,
          "CRIM": 2.81838,
          "DIS": 4.0983,
          "INDUS": 18.1,
          "LSTAT": 10.42,
          "NOX": 0.532,
          "PRICE": 21.8,
          "PTRATIO": 20.2,
          "RAD": 24,
          "RM": 5.762,
          "TAX": 666,
          "ZN": 0
         },
         {
          "A": 41.38666666666666,
          "AGE": 41.9,
          "B": 41.38666666666666,
          "C": 41.38666666666666,
          "CHAS": 0,
          "CRIM": 2.37857,
          "DIS": 3.724,
          "INDUS": 18.1,
          "LSTAT": 13.34,
          "NOX": 0.583,
          "PRICE": 20.6,
          "PTRATIO": 20.2,
          "RAD": 24,
          "RM": 5.871,
          "TAX": 666,
          "ZN": 0
         },
         {
          "A": 41.38666666666666,
          "AGE": 51.9,
          "B": 41.38666666666666,
          "C": 41.38666666666666,
          "CHAS": 0,
          "CRIM": 3.67367,
          "DIS": 3.9917,
          "INDUS": 18.1,
          "LSTAT": 10.58,
          "NOX": 0.583,
          "PRICE": 21.2,
          "PTRATIO": 20.2,
          "RAD": 24,
          "RM": 6.312,
          "TAX": 666,
          "ZN": 0
         },
         {
          "A": 41.38666666666666,
          "AGE": 79.8,
          "B": 41.38666666666666,
          "C": 41.38666666666666,
          "CHAS": 0,
          "CRIM": 5.69175,
          "DIS": 3.5459,
          "INDUS": 18.1,
          "LSTAT": 14.98,
          "NOX": 0.583,
          "PRICE": 19.1,
          "PTRATIO": 20.2,
          "RAD": 24,
          "RM": 6.114,
          "TAX": 666,
          "ZN": 0
         },
         {
          "A": 41.38666666666666,
          "AGE": 53.2,
          "B": 41.38666666666666,
          "C": 41.38666666666666,
          "CHAS": 0,
          "CRIM": 4.83567,
          "DIS": 3.1523,
          "INDUS": 18.1,
          "LSTAT": 11.45,
          "NOX": 0.583,
          "PRICE": 20.6,
          "PTRATIO": 20.2,
          "RAD": 24,
          "RM": 5.905,
          "TAX": 666,
          "ZN": 0
         },
         {
          "A": 41.19666666666667,
          "AGE": 92.7,
          "B": 41.19666666666667,
          "C": 41.19666666666667,
          "CHAS": 0,
          "CRIM": 0.15086,
          "DIS": 1.8209,
          "INDUS": 27.74,
          "LSTAT": 18.06,
          "NOX": 0.609,
          "PRICE": 15.2,
          "PTRATIO": 20.1,
          "RAD": 4,
          "RM": 5.454,
          "TAX": 711,
          "ZN": 0
         },
         {
          "A": 41.19666666666667,
          "AGE": 98.3,
          "B": 41.19666666666667,
          "C": 41.19666666666667,
          "CHAS": 0,
          "CRIM": 0.18337,
          "DIS": 1.7554,
          "INDUS": 27.74,
          "LSTAT": 23.97,
          "NOX": 0.609,
          "PRICE": 7,
          "PTRATIO": 20.1,
          "RAD": 4,
          "RM": 5.414,
          "TAX": 711,
          "ZN": 0
         },
         {
          "A": 41.19666666666667,
          "AGE": 98,
          "B": 41.19666666666667,
          "C": 41.19666666666667,
          "CHAS": 0,
          "CRIM": 0.20746,
          "DIS": 1.8226,
          "INDUS": 27.74,
          "LSTAT": 29.68,
          "NOX": 0.609,
          "PRICE": 8.1,
          "PTRATIO": 20.1,
          "RAD": 4,
          "RM": 5.093,
          "TAX": 711,
          "ZN": 0
         },
         {
          "A": 41.19666666666667,
          "AGE": 98.8,
          "B": 41.19666666666667,
          "C": 41.19666666666667,
          "CHAS": 0,
          "CRIM": 0.10574,
          "DIS": 1.8681,
          "INDUS": 27.74,
          "LSTAT": 18.07,
          "NOX": 0.609,
          "PRICE": 13.6,
          "PTRATIO": 20.1,
          "RAD": 4,
          "RM": 5.983,
          "TAX": 711,
          "ZN": 0
         },
         {
          "A": 41.19666666666667,
          "AGE": 83.5,
          "B": 41.19666666666667,
          "C": 41.19666666666667,
          "CHAS": 0,
          "CRIM": 0.11132,
          "DIS": 2.1099,
          "INDUS": 27.74,
          "LSTAT": 13.35,
          "NOX": 0.609,
          "PRICE": 20.1,
          "PTRATIO": 20.1,
          "RAD": 4,
          "RM": 5.983,
          "TAX": 711,
          "ZN": 0
         },
         {
          "A": 39.18666666666667,
          "AGE": 54,
          "B": 39.18666666666667,
          "C": 39.18666666666667,
          "CHAS": 0,
          "CRIM": 0.17331,
          "DIS": 2.3817,
          "INDUS": 9.69,
          "LSTAT": 12.01,
          "NOX": 0.585,
          "PRICE": 21.8,
          "PTRATIO": 19.2,
          "RAD": 6,
          "RM": 5.707,
          "TAX": 391,
          "ZN": 0
         },
         {
          "A": 39.18666666666667,
          "AGE": 42.6,
          "B": 39.18666666666667,
          "C": 39.18666666666667,
          "CHAS": 0,
          "CRIM": 0.27957,
          "DIS": 2.3817,
          "INDUS": 9.69,
          "LSTAT": 13.59,
          "NOX": 0.585,
          "PRICE": 24.5,
          "PTRATIO": 19.2,
          "RAD": 6,
          "RM": 5.926,
          "TAX": 391,
          "ZN": 0
         },
         {
          "A": 39.18666666666667,
          "AGE": 28.8,
          "B": 39.18666666666667,
          "C": 39.18666666666667,
          "CHAS": 0,
          "CRIM": 0.17899,
          "DIS": 2.7986,
          "INDUS": 9.69,
          "LSTAT": 17.6,
          "NOX": 0.585,
          "PRICE": 23.1,
          "PTRATIO": 19.2,
          "RAD": 6,
          "RM": 5.67,
          "TAX": 391,
          "ZN": 0
         },
         {
          "A": 39.18666666666667,
          "AGE": 72.9,
          "B": 39.18666666666667,
          "C": 39.18666666666667,
          "CHAS": 0,
          "CRIM": 0.2896,
          "DIS": 2.7986,
          "INDUS": 9.69,
          "LSTAT": 21.14,
          "NOX": 0.585,
          "PRICE": 19.7,
          "PTRATIO": 19.2,
          "RAD": 6,
          "RM": 5.39,
          "TAX": 391,
          "ZN": 0
         },
         {
          "A": 39.18666666666667,
          "AGE": 70.6,
          "B": 39.18666666666667,
          "C": 39.18666666666667,
          "CHAS": 0,
          "CRIM": 0.26838,
          "DIS": 2.8927,
          "INDUS": 9.69,
          "LSTAT": 14.1,
          "NOX": 0.585,
          "PRICE": 18.3,
          "PTRATIO": 19.2,
          "RAD": 6,
          "RM": 5.794,
          "TAX": 391,
          "ZN": 0
         },
         {
          "A": 39.18666666666667,
          "AGE": 65.3,
          "B": 39.18666666666667,
          "C": 39.18666666666667,
          "CHAS": 0,
          "CRIM": 0.23912,
          "DIS": 2.4091,
          "INDUS": 9.69,
          "LSTAT": 12.92,
          "NOX": 0.585,
          "PRICE": 21.2,
          "PTRATIO": 19.2,
          "RAD": 6,
          "RM": 6.019,
          "TAX": 391,
          "ZN": 0
         },
         {
          "A": 39.18666666666667,
          "AGE": 73.5,
          "B": 39.18666666666667,
          "C": 39.18666666666667,
          "CHAS": 0,
          "CRIM": 0.17783,
          "DIS": 2.3999,
          "INDUS": 9.69,
          "LSTAT": 15.1,
          "NOX": 0.585,
          "PRICE": 17.5,
          "PTRATIO": 19.2,
          "RAD": 6,
          "RM": 5.569,
          "TAX": 391,
          "ZN": 0
         },
         {
          "A": 39.18666666666667,
          "AGE": 79.7,
          "B": 39.18666666666667,
          "C": 39.18666666666667,
          "CHAS": 0,
          "CRIM": 0.22438,
          "DIS": 2.4982,
          "INDUS": 9.69,
          "LSTAT": 14.33,
          "NOX": 0.585,
          "PRICE": 16.8,
          "PTRATIO": 19.2,
          "RAD": 6,
          "RM": 6.027,
          "TAX": 391,
          "ZN": 0
         },
         {
          "A": 42.666666666666664,
          "AGE": 69.1,
          "B": 42.666666666666664,
          "C": 42.666666666666664,
          "CHAS": 0,
          "CRIM": 0.06263,
          "DIS": 2.4786,
          "INDUS": 11.93,
          "LSTAT": 9.67,
          "NOX": 0.573,
          "PRICE": 22.4,
          "PTRATIO": 21,
          "RAD": 1,
          "RM": 6.593,
          "TAX": 273,
          "ZN": 0
         },
         {
          "A": 42.666666666666664,
          "AGE": 76.7,
          "B": 42.666666666666664,
          "C": 42.666666666666664,
          "CHAS": 0,
          "CRIM": 0.04527,
          "DIS": 2.2875,
          "INDUS": 11.93,
          "LSTAT": 9.08,
          "NOX": 0.573,
          "PRICE": 20.6,
          "PTRATIO": 21,
          "RAD": 1,
          "RM": 6.12,
          "TAX": 273,
          "ZN": 0
         },
         {
          "A": 42.666666666666664,
          "AGE": 91,
          "B": 42.666666666666664,
          "C": 42.666666666666664,
          "CHAS": 0,
          "CRIM": 0.06076,
          "DIS": 2.1675,
          "INDUS": 11.93,
          "LSTAT": 5.64,
          "NOX": 0.573,
          "PRICE": 23.9,
          "PTRATIO": 21,
          "RAD": 1,
          "RM": 6.976,
          "TAX": 273,
          "ZN": 0
         },
         {
          "A": 42.666666666666664,
          "AGE": 89.3,
          "B": 42.666666666666664,
          "C": 42.666666666666664,
          "CHAS": 0,
          "CRIM": 0.10959,
          "DIS": 2.3889,
          "INDUS": 11.93,
          "LSTAT": 6.48,
          "NOX": 0.573,
          "PRICE": 22,
          "PTRATIO": 21,
          "RAD": 1,
          "RM": 6.794,
          "TAX": 273,
          "ZN": 0
         },
         {
          "A": 42.666666666666664,
          "AGE": 80.8,
          "B": 42.666666666666664,
          "C": 42.666666666666664,
          "CHAS": 0,
          "CRIM": 0.04741,
          "DIS": 2.505,
          "INDUS": 11.93,
          "LSTAT": 7.88,
          "NOX": 0.573,
          "PRICE": 11.9,
          "PTRATIO": 21,
          "RAD": 1,
          "RM": 6.03,
          "TAX": 273,
          "ZN": 0
         }
        ]
       },
       "encoding": {
        "x": {
         "field": "PTRATIO",
         "scale": {
          "zero": false
         },
         "type": "quantitative"
        },
        "y": {
         "field": "PRICE",
         "scale": {
          "zero": false
         },
         "type": "quantitative"
        }
       },
       "mark": "point"
      },
      "image/png": "[encoded data removed]",
      "text/plain": [
       "<VegaLite 3 object>\n",
       "\n",
       "If you see this message, it means the renderer has not been properly enabled\n",
       "for the frontend that you are using. For more information, see\n",
       "https://altair-viz.github.io/user_guide/troubleshooting.html\n"
      ]
     },
     "execution_count": 108,
     "metadata": {},
     "output_type": "execute_result"
    }
   ],
   "source": [
    "import altair as alt\n",
    "alt.Chart(bos).mark_point().encode(\n",
    "    x=alt.X('PTRATIO', scale=alt.Scale(zero=False)),\n",
    "    y=alt.Y('PRICE', scale=alt.Scale(zero=False))\n",
    ")"
   ]
  },
  {
   "cell_type": "markdown",
   "metadata": {},
   "source": [
    "We're looking for a function so that $y \\approx f(x)$. There are an infinite number of functions we could use as a model, but for the sake of argument, let's assume there are only these three possibilites, which we've plotted as lines over our scatterplot:\n",
    "\n",
    "* model A: $f_A(x) = 20$\n",
    "* model B: $f_B(x) = 60 - 2x + 2\\sin(x)$\n",
    "* model C: $f_C(x) = 1 + 2x - \\frac{1}{3}(x-20)^2$\n"
   ]
  },
  {
   "cell_type": "code",
   "execution_count": 109,
   "metadata": {},
   "outputs": [],
   "source": [
    "F = {\n",
    "    'A': lambda x: 0*x + 20,\n",
    "    'B': lambda x: -2*x + 60 + 2*np.sin(x),\n",
    "    'C': lambda x: 2*x + 1 + -((x-20)**2)/3\n",
    "}"
   ]
  },
  {
   "cell_type": "code",
   "execution_count": 110,
   "metadata": {
    "tags": [
     "hide_input"
    ]
   },
   "outputs": [
    {
     "data": {
      "application/vnd.vegalite.v3+json": {
       "$schema": "https://vega.github.io/schema/vega-lite/v3.4.0.json",
       "config": {
        "mark": {
         "tooltip": null
        },
        "view": {
         "height": 300,
         "width": 400
        }
       },
       "data": {
        "name": "data-01a1221406e24d8af442938a46c86a5c"
       },
       "datasets": {
        "data-01a1221406e24d8af442938a46c86a5c": [
         {
          "PRICE": 24,
          "PTRATIO": 15.3,
          "model": "A",
          "predicted PRICE": 20
         },
         {
          "PRICE": 21.6,
          "PTRATIO": 17.8,
          "model": "A",
          "predicted PRICE": 20
         },
         {
          "PRICE": 34.7,
          "PTRATIO": 17.8,
          "model": "A",
          "predicted PRICE": 20
         },
         {
          "PRICE": 33.4,
          "PTRATIO": 18.7,
          "model": "A",
          "predicted PRICE": 20
         },
         {
          "PRICE": 36.2,
          "PTRATIO": 18.7,
          "model": "A",
          "predicted PRICE": 20
         },
         {
          "PRICE": 28.7,
          "PTRATIO": 18.7,
          "model": "A",
          "predicted PRICE": 20
         },
         {
          "PRICE": 22.9,
          "PTRATIO": 15.2,
          "model": "A",
          "predicted PRICE": 20
         },
         {
          "PRICE": 27.1,
          "PTRATIO": 15.2,
          "model": "A",
          "predicted PRICE": 20
         },
         {
          "PRICE": 16.5,
          "PTRATIO": 15.2,
          "model": "A",
          "predicted PRICE": 20
         },
         {
          "PRICE": 18.9,
          "PTRATIO": 15.2,
          "model": "A",
          "predicted PRICE": 20
         },
         {
          "PRICE": 15,
          "PTRATIO": 15.2,
          "model": "A",
          "predicted PRICE": 20
         },
         {
          "PRICE": 18.9,
          "PTRATIO": 15.2,
          "model": "A",
          "predicted PRICE": 20
         },
         {
          "PRICE": 21.7,
          "PTRATIO": 15.2,
          "model": "A",
          "predicted PRICE": 20
         },
         {
          "PRICE": 20.4,
          "PTRATIO": 21,
          "model": "A",
          "predicted PRICE": 20
         },
         {
          "PRICE": 18.2,
          "PTRATIO": 21,
          "model": "A",
          "predicted PRICE": 20
         },
         {
          "PRICE": 19.9,
          "PTRATIO": 21,
          "model": "A",
          "predicted PRICE": 20
         },
         {
          "PRICE": 23.1,
          "PTRATIO": 21,
          "model": "A",
          "predicted PRICE": 20
         },
         {
          "PRICE": 17.5,
          "PTRATIO": 21,
          "model": "A",
          "predicted PRICE": 20
         },
         {
          "PRICE": 20.2,
          "PTRATIO": 21,
          "model": "A",
          "predicted PRICE": 20
         },
         {
          "PRICE": 18.2,
          "PTRATIO": 21,
          "model": "A",
          "predicted PRICE": 20
         },
         {
          "PRICE": 13.6,
          "PTRATIO": 21,
          "model": "A",
          "predicted PRICE": 20
         },
         {
          "PRICE": 19.6,
          "PTRATIO": 21,
          "model": "A",
          "predicted PRICE": 20
         },
         {
          "PRICE": 15.2,
          "PTRATIO": 21,
          "model": "A",
          "predicted PRICE": 20
         },
         {
          "PRICE": 14.5,
          "PTRATIO": 21,
          "model": "A",
          "predicted PRICE": 20
         },
         {
          "PRICE": 15.6,
          "PTRATIO": 21,
          "model": "A",
          "predicted PRICE": 20
         },
         {
          "PRICE": 13.9,
          "PTRATIO": 21,
          "model": "A",
          "predicted PRICE": 20
         },
         {
          "PRICE": 16.6,
          "PTRATIO": 21,
          "model": "A",
          "predicted PRICE": 20
         },
         {
          "PRICE": 14.8,
          "PTRATIO": 21,
          "model": "A",
          "predicted PRICE": 20
         },
         {
          "PRICE": 18.4,
          "PTRATIO": 21,
          "model": "A",
          "predicted PRICE": 20
         },
         {
          "PRICE": 21,
          "PTRATIO": 21,
          "model": "A",
          "predicted PRICE": 20
         },
         {
          "PRICE": 12.7,
          "PTRATIO": 21,
          "model": "A",
          "predicted PRICE": 20
         },
         {
          "PRICE": 14.5,
          "PTRATIO": 21,
          "model": "A",
          "predicted PRICE": 20
         },
         {
          "PRICE": 13.2,
          "PTRATIO": 21,
          "model": "A",
          "predicted PRICE": 20
         },
         {
          "PRICE": 13.1,
          "PTRATIO": 21,
          "model": "A",
          "predicted PRICE": 20
         },
         {
          "PRICE": 13.5,
          "PTRATIO": 21,
          "model": "A",
          "predicted PRICE": 20
         },
         {
          "PRICE": 18.9,
          "PTRATIO": 19.2,
          "model": "A",
          "predicted PRICE": 20
         },
         {
          "PRICE": 20,
          "PTRATIO": 19.2,
          "model": "A",
          "predicted PRICE": 20
         },
         {
          "PRICE": 21,
          "PTRATIO": 19.2,
          "model": "A",
          "predicted PRICE": 20
         },
         {
          "PRICE": 24.7,
          "PTRATIO": 19.2,
          "model": "A",
          "predicted PRICE": 20
         },
         {
          "PRICE": 30.8,
          "PTRATIO": 18.3,
          "model": "A",
          "predicted PRICE": 20
         },
         {
          "PRICE": 34.9,
          "PTRATIO": 18.3,
          "model": "A",
          "predicted PRICE": 20
         },
         {
          "PRICE": 26.6,
          "PTRATIO": 17.9,
          "model": "A",
          "predicted PRICE": 20
         },
         {
          "PRICE": 25.3,
          "PTRATIO": 17.9,
          "model": "A",
          "predicted PRICE": 20
         },
         {
          "PRICE": 24.7,
          "PTRATIO": 17.9,
          "model": "A",
          "predicted PRICE": 20
         },
         {
          "PRICE": 21.2,
          "PTRATIO": 17.9,
          "model": "A",
          "predicted PRICE": 20
         },
         {
          "PRICE": 19.3,
          "PTRATIO": 17.9,
          "model": "A",
          "predicted PRICE": 20
         },
         {
          "PRICE": 20,
          "PTRATIO": 17.9,
          "model": "A",
          "predicted PRICE": 20
         },
         {
          "PRICE": 16.6,
          "PTRATIO": 17.9,
          "model": "A",
          "predicted PRICE": 20
         },
         {
          "PRICE": 14.4,
          "PTRATIO": 17.9,
          "model": "A",
          "predicted PRICE": 20
         },
         {
          "PRICE": 19.4,
          "PTRATIO": 17.9,
          "model": "A",
          "predicted PRICE": 20
         },
         {
          "PRICE": 19.7,
          "PTRATIO": 16.8,
          "model": "A",
          "predicted PRICE": 20
         },
         {
          "PRICE": 20.5,
          "PTRATIO": 16.8,
          "model": "A",
          "predicted PRICE": 20
         },
         {
          "PRICE": 25,
          "PTRATIO": 16.8,
          "model": "A",
          "predicted PRICE": 20
         },
         {
          "PRICE": 23.4,
          "PTRATIO": 16.8,
          "model": "A",
          "predicted PRICE": 20
         },
         {
          "PRICE": 18.9,
          "PTRATIO": 21.1,
          "model": "A",
          "predicted PRICE": 20
         },
         {
          "PRICE": 35.4,
          "PTRATIO": 17.9,
          "model": "A",
          "predicted PRICE": 20
         },
         {
          "PRICE": 24.7,
          "PTRATIO": 17.3,
          "model": "A",
          "predicted PRICE": 20
         },
         {
          "PRICE": 31.6,
          "PTRATIO": 15.1,
          "model": "A",
          "predicted PRICE": 20
         },
         {
          "PRICE": 23.3,
          "PTRATIO": 19.7,
          "model": "A",
          "predicted PRICE": 20
         },
         {
          "PRICE": 19.6,
          "PTRATIO": 19.7,
          "model": "A",
          "predicted PRICE": 20
         },
         {
          "PRICE": 18.7,
          "PTRATIO": 19.7,
          "model": "A",
          "predicted PRICE": 20
         },
         {
          "PRICE": 16,
          "PTRATIO": 19.7,
          "model": "A",
          "predicted PRICE": 20
         },
         {
          "PRICE": 22.2,
          "PTRATIO": 19.7,
          "model": "A",
          "predicted PRICE": 20
         },
         {
          "PRICE": 25,
          "PTRATIO": 19.7,
          "model": "A",
          "predicted PRICE": 20
         },
         {
          "PRICE": 33,
          "PTRATIO": 18.6,
          "model": "A",
          "predicted PRICE": 20
         },
         {
          "PRICE": 23.5,
          "PTRATIO": 16.1,
          "model": "A",
          "predicted PRICE": 20
         },
         {
          "PRICE": 19.4,
          "PTRATIO": 16.1,
          "model": "A",
          "predicted PRICE": 20
         },
         {
          "PRICE": 22,
          "PTRATIO": 18.9,
          "model": "A",
          "predicted PRICE": 20
         },
         {
          "PRICE": 17.4,
          "PTRATIO": 18.9,
          "model": "A",
          "predicted PRICE": 20
         },
         {
          "PRICE": 20.9,
          "PTRATIO": 18.9,
          "model": "A",
          "predicted PRICE": 20
         },
         {
          "PRICE": 24.2,
          "PTRATIO": 19.2,
          "model": "A",
          "predicted PRICE": 20
         },
         {
          "PRICE": 21.7,
          "PTRATIO": 19.2,
          "model": "A",
          "predicted PRICE": 20
         },
         {
          "PRICE": 22.8,
          "PTRATIO": 19.2,
          "model": "A",
          "predicted PRICE": 20
         },
         {
          "PRICE": 23.4,
          "PTRATIO": 19.2,
          "model": "A",
          "predicted PRICE": 20
         },
         {
          "PRICE": 24.1,
          "PTRATIO": 18.7,
          "model": "A",
          "predicted PRICE": 20
         },
         {
          "PRICE": 21.4,
          "PTRATIO": 18.7,
          "model": "A",
          "predicted PRICE": 20
         },
         {
          "PRICE": 20,
          "PTRATIO": 18.7,
          "model": "A",
          "predicted PRICE": 20
         },
         {
          "PRICE": 20.8,
          "PTRATIO": 18.7,
          "model": "A",
          "predicted PRICE": 20
         },
         {
          "PRICE": 21.2,
          "PTRATIO": 18.7,
          "model": "A",
          "predicted PRICE": 20
         },
         {
          "PRICE": 20.3,
          "PTRATIO": 18.7,
          "model": "A",
          "predicted PRICE": 20
         },
         {
          "PRICE": 28,
          "PTRATIO": 19,
          "model": "A",
          "predicted PRICE": 20
         },
         {
          "PRICE": 23.9,
          "PTRATIO": 19,
          "model": "A",
          "predicted PRICE": 20
         },
         {
          "PRICE": 24.8,
          "PTRATIO": 19,
          "model": "A",
          "predicted PRICE": 20
         },
         {
          "PRICE": 22.9,
          "PTRATIO": 19,
          "model": "A",
          "predicted PRICE": 20
         },
         {
          "PRICE": 23.9,
          "PTRATIO": 18.5,
          "model": "A",
          "predicted PRICE": 20
         },
         {
          "PRICE": 26.6,
          "PTRATIO": 18.5,
          "model": "A",
          "predicted PRICE": 20
         },
         {
          "PRICE": 22.5,
          "PTRATIO": 18.5,
          "model": "A",
          "predicted PRICE": 20
         },
         {
          "PRICE": 22.2,
          "PTRATIO": 18.5,
          "model": "A",
          "predicted PRICE": 20
         },
         {
          "PRICE": 23.6,
          "PTRATIO": 17.8,
          "model": "A",
          "predicted PRICE": 20
         },
         {
          "PRICE": 28.7,
          "PTRATIO": 17.8,
          "model": "A",
          "predicted PRICE": 20
         },
         {
          "PRICE": 22.6,
          "PTRATIO": 17.8,
          "model": "A",
          "predicted PRICE": 20
         },
         {
          "PRICE": 22,
          "PTRATIO": 17.8,
          "model": "A",
          "predicted PRICE": 20
         },
         {
          "PRICE": 22.9,
          "PTRATIO": 18.2,
          "model": "A",
          "predicted PRICE": 20
         },
         {
          "PRICE": 25,
          "PTRATIO": 18.2,
          "model": "A",
          "predicted PRICE": 20
         },
         {
          "PRICE": 20.6,
          "PTRATIO": 18.2,
          "model": "A",
          "predicted PRICE": 20
         },
         {
          "PRICE": 28.4,
          "PTRATIO": 18,
          "model": "A",
          "predicted PRICE": 20
         },
         {
          "PRICE": 21.4,
          "PTRATIO": 18,
          "model": "A",
          "predicted PRICE": 20
         },
         {
          "PRICE": 38.7,
          "PTRATIO": 18,
          "model": "A",
          "predicted PRICE": 20
         },
         {
          "PRICE": 43.8,
          "PTRATIO": 18,
          "model": "A",
          "predicted PRICE": 20
         },
         {
          "PRICE": 33.2,
          "PTRATIO": 18,
          "model": "A",
          "predicted PRICE": 20
         },
         {
          "PRICE": 27.5,
          "PTRATIO": 20.9,
          "model": "A",
          "predicted PRICE": 20
         },
         {
          "PRICE": 26.5,
          "PTRATIO": 20.9,
          "model": "A",
          "predicted PRICE": 20
         },
         {
          "PRICE": 18.6,
          "PTRATIO": 20.9,
          "model": "A",
          "predicted PRICE": 20
         },
         {
          "PRICE": 19.3,
          "PTRATIO": 20.9,
          "model": "A",
          "predicted PRICE": 20
         },
         {
          "PRICE": 20.1,
          "PTRATIO": 20.9,
          "model": "A",
          "predicted PRICE": 20
         },
         {
          "PRICE": 19.5,
          "PTRATIO": 20.9,
          "model": "A",
          "predicted PRICE": 20
         },
         {
          "PRICE": 19.5,
          "PTRATIO": 20.9,
          "model": "A",
          "predicted PRICE": 20
         },
         {
          "PRICE": 20.4,
          "PTRATIO": 20.9,
          "model": "A",
          "predicted PRICE": 20
         },
         {
          "PRICE": 19.8,
          "PTRATIO": 20.9,
          "model": "A",
          "predicted PRICE": 20
         },
         {
          "PRICE": 19.4,
          "PTRATIO": 20.9,
          "model": "A",
          "predicted PRICE": 20
         },
         {
          "PRICE": 21.7,
          "PTRATIO": 20.9,
          "model": "A",
          "predicted PRICE": 20
         },
         {
          "PRICE": 22.8,
          "PTRATIO": 17.8,
          "model": "A",
          "predicted PRICE": 20
         },
         {
          "PRICE": 18.8,
          "PTRATIO": 17.8,
          "model": "A",
          "predicted PRICE": 20
         },
         {
          "PRICE": 18.7,
          "PTRATIO": 17.8,
          "model": "A",
          "predicted PRICE": 20
         },
         {
          "PRICE": 18.5,
          "PTRATIO": 17.8,
          "model": "A",
          "predicted PRICE": 20
         },
         {
          "PRICE": 18.3,
          "PTRATIO": 17.8,
          "model": "A",
          "predicted PRICE": 20
         },
         {
          "PRICE": 21.2,
          "PTRATIO": 17.8,
          "model": "A",
          "predicted PRICE": 20
         },
         {
          "PRICE": 19.2,
          "PTRATIO": 17.8,
          "model": "A",
          "predicted PRICE": 20
         },
         {
          "PRICE": 20.4,
          "PTRATIO": 17.8,
          "model": "A",
          "predicted PRICE": 20
         },
         {
          "PRICE": 19.3,
          "PTRATIO": 17.8,
          "model": "A",
          "predicted PRICE": 20
         },
         {
          "PRICE": 22,
          "PTRATIO": 19.1,
          "model": "A",
          "predicted PRICE": 20
         },
         {
          "PRICE": 20.3,
          "PTRATIO": 19.1,
          "model": "A",
          "predicted PRICE": 20
         },
         {
          "PRICE": 20.5,
          "PTRATIO": 19.1,
          "model": "A",
          "predicted PRICE": 20
         },
         {
          "PRICE": 17.3,
          "PTRATIO": 19.1,
          "model": "A",
          "predicted PRICE": 20
         },
         {
          "PRICE": 18.8,
          "PTRATIO": 19.1,
          "model": "A",
          "predicted PRICE": 20
         },
         {
          "PRICE": 21.4,
          "PTRATIO": 19.1,
          "model": "A",
          "predicted PRICE": 20
         },
         {
          "PRICE": 15.7,
          "PTRATIO": 19.1,
          "model": "A",
          "predicted PRICE": 20
         },
         {
          "PRICE": 16.2,
          "PTRATIO": 21.2,
          "model": "A",
          "predicted PRICE": 20
         },
         {
          "PRICE": 18,
          "PTRATIO": 21.2,
          "model": "A",
          "predicted PRICE": 20
         },
         {
          "PRICE": 14.3,
          "PTRATIO": 21.2,
          "model": "A",
          "predicted PRICE": 20
         },
         {
          "PRICE": 19.2,
          "PTRATIO": 21.2,
          "model": "A",
          "predicted PRICE": 20
         },
         {
          "PRICE": 19.6,
          "PTRATIO": 21.2,
          "model": "A",
          "predicted PRICE": 20
         },
         {
          "PRICE": 23,
          "PTRATIO": 21.2,
          "model": "A",
          "predicted PRICE": 20
         },
         {
          "PRICE": 18.4,
          "PTRATIO": 21.2,
          "model": "A",
          "predicted PRICE": 20
         },
         {
          "PRICE": 15.6,
          "PTRATIO": 21.2,
          "model": "A",
          "predicted PRICE": 20
         },
         {
          "PRICE": 18.1,
          "PTRATIO": 21.2,
          "model": "A",
          "predicted PRICE": 20
         },
         {
          "PRICE": 17.4,
          "PTRATIO": 21.2,
          "model": "A",
          "predicted PRICE": 20
         },
         {
          "PRICE": 17.1,
          "PTRATIO": 21.2,
          "model": "A",
          "predicted PRICE": 20
         },
         {
          "PRICE": 13.3,
          "PTRATIO": 21.2,
          "model": "A",
          "predicted PRICE": 20
         },
         {
          "PRICE": 17.8,
          "PTRATIO": 21.2,
          "model": "A",
          "predicted PRICE": 20
         },
         {
          "PRICE": 14,
          "PTRATIO": 21.2,
          "model": "A",
          "predicted PRICE": 20
         },
         {
          "PRICE": 14.4,
          "PTRATIO": 21.2,
          "model": "A",
          "predicted PRICE": 20
         },
         {
          "PRICE": 13.4,
          "PTRATIO": 14.7,
          "model": "A",
          "predicted PRICE": 20
         },
         {
          "PRICE": 15.6,
          "PTRATIO": 14.7,
          "model": "A",
          "predicted PRICE": 20
         },
         {
          "PRICE": 11.8,
          "PTRATIO": 14.7,
          "model": "A",
          "predicted PRICE": 20
         },
         {
          "PRICE": 13.8,
          "PTRATIO": 14.7,
          "model": "A",
          "predicted PRICE": 20
         },
         {
          "PRICE": 15.6,
          "PTRATIO": 14.7,
          "model": "A",
          "predicted PRICE": 20
         },
         {
          "PRICE": 14.6,
          "PTRATIO": 14.7,
          "model": "A",
          "predicted PRICE": 20
         },
         {
          "PRICE": 17.8,
          "PTRATIO": 14.7,
          "model": "A",
          "predicted PRICE": 20
         },
         {
          "PRICE": 15.4,
          "PTRATIO": 14.7,
          "model": "A",
          "predicted PRICE": 20
         },
         {
          "PRICE": 21.5,
          "PTRATIO": 14.7,
          "model": "A",
          "predicted PRICE": 20
         },
         {
          "PRICE": 19.6,
          "PTRATIO": 14.7,
          "model": "A",
          "predicted PRICE": 20
         },
         {
          "PRICE": 15.3,
          "PTRATIO": 14.7,
          "model": "A",
          "predicted PRICE": 20
         },
         {
          "PRICE": 19.4,
          "PTRATIO": 14.7,
          "model": "A",
          "predicted PRICE": 20
         },
         {
          "PRICE": 17,
          "PTRATIO": 14.7,
          "model": "A",
          "predicted PRICE": 20
         },
         {
          "PRICE": 15.6,
          "PTRATIO": 14.7,
          "model": "A",
          "predicted PRICE": 20
         },
         {
          "PRICE": 13.1,
          "PTRATIO": 14.7,
          "model": "A",
          "predicted PRICE": 20
         },
         {
          "PRICE": 41.3,
          "PTRATIO": 14.7,
          "model": "A",
          "predicted PRICE": 20
         },
         {
          "PRICE": 24.3,
          "PTRATIO": 14.7,
          "model": "A",
          "predicted PRICE": 20
         },
         {
          "PRICE": 23.3,
          "PTRATIO": 14.7,
          "model": "A",
          "predicted PRICE": 20
         },
         {
          "PRICE": 27,
          "PTRATIO": 14.7,
          "model": "A",
          "predicted PRICE": 20
         },
         {
          "PRICE": 50,
          "PTRATIO": 14.7,
          "model": "A",
          "predicted PRICE": 20
         },
         {
          "PRICE": 50,
          "PTRATIO": 14.7,
          "model": "A",
          "predicted PRICE": 20
         },
         {
          "PRICE": 50,
          "PTRATIO": 14.7,
          "model": "A",
          "predicted PRICE": 20
         },
         {
          "PRICE": 22.7,
          "PTRATIO": 14.7,
          "model": "A",
          "predicted PRICE": 20
         },
         {
          "PRICE": 25,
          "PTRATIO": 14.7,
          "model": "A",
          "predicted PRICE": 20
         },
         {
          "PRICE": 50,
          "PTRATIO": 14.7,
          "model": "A",
          "predicted PRICE": 20
         },
         {
          "PRICE": 23.8,
          "PTRATIO": 14.7,
          "model": "A",
          "predicted PRICE": 20
         },
         {
          "PRICE": 23.8,
          "PTRATIO": 14.7,
          "model": "A",
          "predicted PRICE": 20
         },
         {
          "PRICE": 22.3,
          "PTRATIO": 14.7,
          "model": "A",
          "predicted PRICE": 20
         },
         {
          "PRICE": 17.4,
          "PTRATIO": 14.7,
          "model": "A",
          "predicted PRICE": 20
         },
         {
          "PRICE": 19.1,
          "PTRATIO": 14.7,
          "model": "A",
          "predicted PRICE": 20
         },
         {
          "PRICE": 23.1,
          "PTRATIO": 16.6,
          "model": "A",
          "predicted PRICE": 20
         },
         {
          "PRICE": 23.6,
          "PTRATIO": 16.6,
          "model": "A",
          "predicted PRICE": 20
         },
         {
          "PRICE": 22.6,
          "PTRATIO": 16.6,
          "model": "A",
          "predicted PRICE": 20
         },
         {
          "PRICE": 29.4,
          "PTRATIO": 16.6,
          "model": "A",
          "predicted PRICE": 20
         },
         {
          "PRICE": 23.2,
          "PTRATIO": 16.6,
          "model": "A",
          "predicted PRICE": 20
         },
         {
          "PRICE": 24.6,
          "PTRATIO": 16.6,
          "model": "A",
          "predicted PRICE": 20
         },
         {
          "PRICE": 29.9,
          "PTRATIO": 16.6,
          "model": "A",
          "predicted PRICE": 20
         },
         {
          "PRICE": 37.2,
          "PTRATIO": 17.8,
          "model": "A",
          "predicted PRICE": 20
         },
         {
          "PRICE": 39.8,
          "PTRATIO": 17.8,
          "model": "A",
          "predicted PRICE": 20
         },
         {
          "PRICE": 36.2,
          "PTRATIO": 17.8,
          "model": "A",
          "predicted PRICE": 20
         },
         {
          "PRICE": 37.9,
          "PTRATIO": 17.8,
          "model": "A",
          "predicted PRICE": 20
         },
         {
          "PRICE": 32.5,
          "PTRATIO": 17.8,
          "model": "A",
          "predicted PRICE": 20
         },
         {
          "PRICE": 26.4,
          "PTRATIO": 17.8,
          "model": "A",
          "predicted PRICE": 20
         },
         {
          "PRICE": 29.6,
          "PTRATIO": 17.8,
          "model": "A",
          "predicted PRICE": 20
         },
         {
          "PRICE": 50,
          "PTRATIO": 17.8,
          "model": "A",
          "predicted PRICE": 20
         },
         {
          "PRICE": 32,
          "PTRATIO": 15.2,
          "model": "A",
          "predicted PRICE": 20
         },
         {
          "PRICE": 29.8,
          "PTRATIO": 15.2,
          "model": "A",
          "predicted PRICE": 20
         },
         {
          "PRICE": 34.9,
          "PTRATIO": 15.2,
          "model": "A",
          "predicted PRICE": 20
         },
         {
          "PRICE": 37,
          "PTRATIO": 15.2,
          "model": "A",
          "predicted PRICE": 20
         },
         {
          "PRICE": 30.5,
          "PTRATIO": 15.2,
          "model": "A",
          "predicted PRICE": 20
         },
         {
          "PRICE": 36.4,
          "PTRATIO": 15.2,
          "model": "A",
          "predicted PRICE": 20
         },
         {
          "PRICE": 31.1,
          "PTRATIO": 15.6,
          "model": "A",
          "predicted PRICE": 20
         },
         {
          "PRICE": 29.1,
          "PTRATIO": 15.6,
          "model": "A",
          "predicted PRICE": 20
         },
         {
          "PRICE": 50,
          "PTRATIO": 14.4,
          "model": "A",
          "predicted PRICE": 20
         },
         {
          "PRICE": 33.3,
          "PTRATIO": 12.6,
          "model": "A",
          "predicted PRICE": 20
         },
         {
          "PRICE": 30.3,
          "PTRATIO": 12.6,
          "model": "A",
          "predicted PRICE": 20
         },
         {
          "PRICE": 34.6,
          "PTRATIO": 12.6,
          "model": "A",
          "predicted PRICE": 20
         },
         {
          "PRICE": 34.9,
          "PTRATIO": 17,
          "model": "A",
          "predicted PRICE": 20
         },
         {
          "PRICE": 32.9,
          "PTRATIO": 17,
          "model": "A",
          "predicted PRICE": 20
         },
         {
          "PRICE": 24.1,
          "PTRATIO": 14.7,
          "model": "A",
          "predicted PRICE": 20
         },
         {
          "PRICE": 42.3,
          "PTRATIO": 14.7,
          "model": "A",
          "predicted PRICE": 20
         },
         {
          "PRICE": 48.5,
          "PTRATIO": 14.7,
          "model": "A",
          "predicted PRICE": 20
         },
         {
          "PRICE": 50,
          "PTRATIO": 14.7,
          "model": "A",
          "predicted PRICE": 20
         },
         {
          "PRICE": 22.6,
          "PTRATIO": 18.6,
          "model": "A",
          "predicted PRICE": 20
         },
         {
          "PRICE": 24.4,
          "PTRATIO": 18.6,
          "model": "A",
          "predicted PRICE": 20
         },
         {
          "PRICE": 22.5,
          "PTRATIO": 18.6,
          "model": "A",
          "predicted PRICE": 20
         },
         {
          "PRICE": 24.4,
          "PTRATIO": 18.6,
          "model": "A",
          "predicted PRICE": 20
         },
         {
          "PRICE": 20,
          "PTRATIO": 18.6,
          "model": "A",
          "predicted PRICE": 20
         },
         {
          "PRICE": 21.7,
          "PTRATIO": 18.6,
          "model": "A",
          "predicted PRICE": 20
         },
         {
          "PRICE": 19.3,
          "PTRATIO": 18.6,
          "model": "A",
          "predicted PRICE": 20
         },
         {
          "PRICE": 22.4,
          "PTRATIO": 18.6,
          "model": "A",
          "predicted PRICE": 20
         },
         {
          "PRICE": 28.1,
          "PTRATIO": 18.6,
          "model": "A",
          "predicted PRICE": 20
         },
         {
          "PRICE": 23.7,
          "PTRATIO": 18.6,
          "model": "A",
          "predicted PRICE": 20
         },
         {
          "PRICE": 25,
          "PTRATIO": 18.6,
          "model": "A",
          "predicted PRICE": 20
         },
         {
          "PRICE": 23.3,
          "PTRATIO": 16.4,
          "model": "A",
          "predicted PRICE": 20
         },
         {
          "PRICE": 28.7,
          "PTRATIO": 16.4,
          "model": "A",
          "predicted PRICE": 20
         },
         {
          "PRICE": 21.5,
          "PTRATIO": 16.4,
          "model": "A",
          "predicted PRICE": 20
         },
         {
          "PRICE": 23,
          "PTRATIO": 16.4,
          "model": "A",
          "predicted PRICE": 20
         },
         {
          "PRICE": 26.7,
          "PTRATIO": 17.4,
          "model": "A",
          "predicted PRICE": 20
         },
         {
          "PRICE": 21.7,
          "PTRATIO": 17.4,
          "model": "A",
          "predicted PRICE": 20
         },
         {
          "PRICE": 27.5,
          "PTRATIO": 17.4,
          "model": "A",
          "predicted PRICE": 20
         },
         {
          "PRICE": 30.1,
          "PTRATIO": 17.4,
          "model": "A",
          "predicted PRICE": 20
         },
         {
          "PRICE": 44.8,
          "PTRATIO": 17.4,
          "model": "A",
          "predicted PRICE": 20
         },
         {
          "PRICE": 50,
          "PTRATIO": 17.4,
          "model": "A",
          "predicted PRICE": 20
         },
         {
          "PRICE": 37.6,
          "PTRATIO": 17.4,
          "model": "A",
          "predicted PRICE": 20
         },
         {
          "PRICE": 31.6,
          "PTRATIO": 17.4,
          "model": "A",
          "predicted PRICE": 20
         },
         {
          "PRICE": 46.7,
          "PTRATIO": 17.4,
          "model": "A",
          "predicted PRICE": 20
         },
         {
          "PRICE": 31.5,
          "PTRATIO": 17.4,
          "model": "A",
          "predicted PRICE": 20
         },
         {
          "PRICE": 24.3,
          "PTRATIO": 17.4,
          "model": "A",
          "predicted PRICE": 20
         },
         {
          "PRICE": 31.7,
          "PTRATIO": 17.4,
          "model": "A",
          "predicted PRICE": 20
         },
         {
          "PRICE": 41.7,
          "PTRATIO": 17.4,
          "model": "A",
          "predicted PRICE": 20
         },
         {
          "PRICE": 48.3,
          "PTRATIO": 17.4,
          "model": "A",
          "predicted PRICE": 20
         },
         {
          "PRICE": 29,
          "PTRATIO": 17.4,
          "model": "A",
          "predicted PRICE": 20
         },
         {
          "PRICE": 24,
          "PTRATIO": 17.4,
          "model": "A",
          "predicted PRICE": 20
         },
         {
          "PRICE": 25.1,
          "PTRATIO": 17.4,
          "model": "A",
          "predicted PRICE": 20
         },
         {
          "PRICE": 31.5,
          "PTRATIO": 17.4,
          "model": "A",
          "predicted PRICE": 20
         },
         {
          "PRICE": 23.7,
          "PTRATIO": 16.6,
          "model": "A",
          "predicted PRICE": 20
         },
         {
          "PRICE": 23.3,
          "PTRATIO": 16.6,
          "model": "A",
          "predicted PRICE": 20
         },
         {
          "PRICE": 22,
          "PTRATIO": 16.6,
          "model": "A",
          "predicted PRICE": 20
         },
         {
          "PRICE": 20.1,
          "PTRATIO": 16.6,
          "model": "A",
          "predicted PRICE": 20
         },
         {
          "PRICE": 22.2,
          "PTRATIO": 16.6,
          "model": "A",
          "predicted PRICE": 20
         },
         {
          "PRICE": 23.7,
          "PTRATIO": 16.6,
          "model": "A",
          "predicted PRICE": 20
         },
         {
          "PRICE": 17.6,
          "PTRATIO": 19.1,
          "model": "A",
          "predicted PRICE": 20
         },
         {
          "PRICE": 18.5,
          "PTRATIO": 19.1,
          "model": "A",
          "predicted PRICE": 20
         },
         {
          "PRICE": 24.3,
          "PTRATIO": 19.1,
          "model": "A",
          "predicted PRICE": 20
         },
         {
          "PRICE": 20.5,
          "PTRATIO": 19.1,
          "model": "A",
          "predicted PRICE": 20
         },
         {
          "PRICE": 24.5,
          "PTRATIO": 19.1,
          "model": "A",
          "predicted PRICE": 20
         },
         {
          "PRICE": 26.2,
          "PTRATIO": 19.1,
          "model": "A",
          "predicted PRICE": 20
         },
         {
          "PRICE": 24.4,
          "PTRATIO": 19.1,
          "model": "A",
          "predicted PRICE": 20
         },
         {
          "PRICE": 24.8,
          "PTRATIO": 19.1,
          "model": "A",
          "predicted PRICE": 20
         },
         {
          "PRICE": 29.6,
          "PTRATIO": 19.1,
          "model": "A",
          "predicted PRICE": 20
         },
         {
          "PRICE": 42.8,
          "PTRATIO": 19.1,
          "model": "A",
          "predicted PRICE": 20
         },
         {
          "PRICE": 21.9,
          "PTRATIO": 16.4,
          "model": "A",
          "predicted PRICE": 20
         },
         {
          "PRICE": 20.9,
          "PTRATIO": 16.4,
          "model": "A",
          "predicted PRICE": 20
         },
         {
          "PRICE": 44,
          "PTRATIO": 15.9,
          "model": "A",
          "predicted PRICE": 20
         },
         {
          "PRICE": 50,
          "PTRATIO": 13,
          "model": "A",
          "predicted PRICE": 20
         },
         {
          "PRICE": 36,
          "PTRATIO": 13,
          "model": "A",
          "predicted PRICE": 20
         },
         {
          "PRICE": 30.1,
          "PTRATIO": 13,
          "model": "A",
          "predicted PRICE": 20
         },
         {
          "PRICE": 33.8,
          "PTRATIO": 13,
          "model": "A",
          "predicted PRICE": 20
         },
         {
          "PRICE": 43.1,
          "PTRATIO": 13,
          "model": "A",
          "predicted PRICE": 20
         },
         {
          "PRICE": 48.8,
          "PTRATIO": 13,
          "model": "A",
          "predicted PRICE": 20
         },
         {
          "PRICE": 31,
          "PTRATIO": 13,
          "model": "A",
          "predicted PRICE": 20
         },
         {
          "PRICE": 36.5,
          "PTRATIO": 13,
          "model": "A",
          "predicted PRICE": 20
         },
         {
          "PRICE": 22.8,
          "PTRATIO": 13,
          "model": "A",
          "predicted PRICE": 20
         },
         {
          "PRICE": 30.7,
          "PTRATIO": 13,
          "model": "A",
          "predicted PRICE": 20
         },
         {
          "PRICE": 50,
          "PTRATIO": 13,
          "model": "A",
          "predicted PRICE": 20
         },
         {
          "PRICE": 43.5,
          "PTRATIO": 13,
          "model": "A",
          "predicted PRICE": 20
         },
         {
          "PRICE": 20.7,
          "PTRATIO": 18.6,
          "model": "A",
          "predicted PRICE": 20
         },
         {
          "PRICE": 21.1,
          "PTRATIO": 18.6,
          "model": "A",
          "predicted PRICE": 20
         },
         {
          "PRICE": 25.2,
          "PTRATIO": 18.6,
          "model": "A",
          "predicted PRICE": 20
         },
         {
          "PRICE": 24.4,
          "PTRATIO": 18.6,
          "model": "A",
          "predicted PRICE": 20
         },
         {
          "PRICE": 35.2,
          "PTRATIO": 18.6,
          "model": "A",
          "predicted PRICE": 20
         },
         {
          "PRICE": 32.4,
          "PTRATIO": 17.6,
          "model": "A",
          "predicted PRICE": 20
         },
         {
          "PRICE": 32,
          "PTRATIO": 17.6,
          "model": "A",
          "predicted PRICE": 20
         },
         {
          "PRICE": 33.2,
          "PTRATIO": 17.6,
          "model": "A",
          "predicted PRICE": 20
         },
         {
          "PRICE": 33.1,
          "PTRATIO": 17.6,
          "model": "A",
          "predicted PRICE": 20
         },
         {
          "PRICE": 29.1,
          "PTRATIO": 17.6,
          "model": "A",
          "predicted PRICE": 20
         },
         {
          "PRICE": 35.1,
          "PTRATIO": 14.9,
          "model": "A",
          "predicted PRICE": 20
         },
         {
          "PRICE": 45.4,
          "PTRATIO": 14.9,
          "model": "A",
          "predicted PRICE": 20
         },
         {
          "PRICE": 35.4,
          "PTRATIO": 14.9,
          "model": "A",
          "predicted PRICE": 20
         },
         {
          "PRICE": 46,
          "PTRATIO": 14.9,
          "model": "A",
          "predicted PRICE": 20
         },
         {
          "PRICE": 50,
          "PTRATIO": 13.6,
          "model": "A",
          "predicted PRICE": 20
         },
         {
          "PRICE": 32.2,
          "PTRATIO": 15.3,
          "model": "A",
          "predicted PRICE": 20
         },
         {
          "PRICE": 22,
          "PTRATIO": 15.3,
          "model": "A",
          "predicted PRICE": 20
         },
         {
          "PRICE": 20.1,
          "PTRATIO": 18.2,
          "model": "A",
          "predicted PRICE": 20
         },
         {
          "PRICE": 23.2,
          "PTRATIO": 16.6,
          "model": "A",
          "predicted PRICE": 20
         },
         {
          "PRICE": 22.3,
          "PTRATIO": 16.6,
          "model": "A",
          "predicted PRICE": 20
         },
         {
          "PRICE": 24.8,
          "PTRATIO": 16.6,
          "model": "A",
          "predicted PRICE": 20
         },
         {
          "PRICE": 28.5,
          "PTRATIO": 19.2,
          "model": "A",
          "predicted PRICE": 20
         },
         {
          "PRICE": 37.3,
          "PTRATIO": 19.2,
          "model": "A",
          "predicted PRICE": 20
         },
         {
          "PRICE": 27.9,
          "PTRATIO": 19.2,
          "model": "A",
          "predicted PRICE": 20
         },
         {
          "PRICE": 23.9,
          "PTRATIO": 16,
          "model": "A",
          "predicted PRICE": 20
         },
         {
          "PRICE": 21.7,
          "PTRATIO": 16,
          "model": "A",
          "predicted PRICE": 20
         },
         {
          "PRICE": 28.6,
          "PTRATIO": 16,
          "model": "A",
          "predicted PRICE": 20
         },
         {
          "PRICE": 27.1,
          "PTRATIO": 16,
          "model": "A",
          "predicted PRICE": 20
         },
         {
          "PRICE": 20.3,
          "PTRATIO": 16,
          "model": "A",
          "predicted PRICE": 20
         },
         {
          "PRICE": 22.5,
          "PTRATIO": 14.8,
          "model": "A",
          "predicted PRICE": 20
         },
         {
          "PRICE": 29,
          "PTRATIO": 14.8,
          "model": "A",
          "predicted PRICE": 20
         },
         {
          "PRICE": 24.8,
          "PTRATIO": 14.8,
          "model": "A",
          "predicted PRICE": 20
         },
         {
          "PRICE": 22,
          "PTRATIO": 16.1,
          "model": "A",
          "predicted PRICE": 20
         },
         {
          "PRICE": 26.4,
          "PTRATIO": 16.1,
          "model": "A",
          "predicted PRICE": 20
         },
         {
          "PRICE": 33.1,
          "PTRATIO": 16.1,
          "model": "A",
          "predicted PRICE": 20
         },
         {
          "PRICE": 36.1,
          "PTRATIO": 18.4,
          "model": "A",
          "predicted PRICE": 20
         },
         {
          "PRICE": 28.4,
          "PTRATIO": 18.4,
          "model": "A",
          "predicted PRICE": 20
         },
         {
          "PRICE": 33.4,
          "PTRATIO": 18.4,
          "model": "A",
          "predicted PRICE": 20
         },
         {
          "PRICE": 28.2,
          "PTRATIO": 18.4,
          "model": "A",
          "predicted PRICE": 20
         },
         {
          "PRICE": 22.8,
          "PTRATIO": 18.4,
          "model": "A",
          "predicted PRICE": 20
         },
         {
          "PRICE": 20.3,
          "PTRATIO": 18.4,
          "model": "A",
          "predicted PRICE": 20
         },
         {
          "PRICE": 16.1,
          "PTRATIO": 18.4,
          "model": "A",
          "predicted PRICE": 20
         },
         {
          "PRICE": 22.1,
          "PTRATIO": 18.4,
          "model": "A",
          "predicted PRICE": 20
         },
         {
          "PRICE": 19.4,
          "PTRATIO": 18.4,
          "model": "A",
          "predicted PRICE": 20
         },
         {
          "PRICE": 21.6,
          "PTRATIO": 18.4,
          "model": "A",
          "predicted PRICE": 20
         },
         {
          "PRICE": 23.8,
          "PTRATIO": 18.4,
          "model": "A",
          "predicted PRICE": 20
         },
         {
          "PRICE": 16.2,
          "PTRATIO": 18.4,
          "model": "A",
          "predicted PRICE": 20
         },
         {
          "PRICE": 17.8,
          "PTRATIO": 18.4,
          "model": "A",
          "predicted PRICE": 20
         },
         {
          "PRICE": 19.8,
          "PTRATIO": 18.4,
          "model": "A",
          "predicted PRICE": 20
         },
         {
          "PRICE": 23.1,
          "PTRATIO": 18.4,
          "model": "A",
          "predicted PRICE": 20
         },
         {
          "PRICE": 21,
          "PTRATIO": 18.4,
          "model": "A",
          "predicted PRICE": 20
         },
         {
          "PRICE": 23.8,
          "PTRATIO": 19.6,
          "model": "A",
          "predicted PRICE": 20
         },
         {
          "PRICE": 23.1,
          "PTRATIO": 19.6,
          "model": "A",
          "predicted PRICE": 20
         },
         {
          "PRICE": 20.4,
          "PTRATIO": 19.6,
          "model": "A",
          "predicted PRICE": 20
         },
         {
          "PRICE": 18.5,
          "PTRATIO": 19.6,
          "model": "A",
          "predicted PRICE": 20
         },
         {
          "PRICE": 25,
          "PTRATIO": 19.6,
          "model": "A",
          "predicted PRICE": 20
         },
         {
          "PRICE": 24.6,
          "PTRATIO": 19.6,
          "model": "A",
          "predicted PRICE": 20
         },
         {
          "PRICE": 23,
          "PTRATIO": 19.6,
          "model": "A",
          "predicted PRICE": 20
         },
         {
          "PRICE": 22.2,
          "PTRATIO": 19.6,
          "model": "A",
          "predicted PRICE": 20
         },
         {
          "PRICE": 19.3,
          "PTRATIO": 16.9,
          "model": "A",
          "predicted PRICE": 20
         },
         {
          "PRICE": 22.6,
          "PTRATIO": 16.9,
          "model": "A",
          "predicted PRICE": 20
         },
         {
          "PRICE": 19.8,
          "PTRATIO": 16.9,
          "model": "A",
          "predicted PRICE": 20
         },
         {
          "PRICE": 17.1,
          "PTRATIO": 16.9,
          "model": "A",
          "predicted PRICE": 20
         },
         {
          "PRICE": 19.4,
          "PTRATIO": 16.9,
          "model": "A",
          "predicted PRICE": 20
         },
         {
          "PRICE": 22.2,
          "PTRATIO": 20.2,
          "model": "A",
          "predicted PRICE": 20
         },
         {
          "PRICE": 20.7,
          "PTRATIO": 20.2,
          "model": "A",
          "predicted PRICE": 20
         },
         {
          "PRICE": 21.1,
          "PTRATIO": 20.2,
          "model": "A",
          "predicted PRICE": 20
         },
         {
          "PRICE": 19.5,
          "PTRATIO": 20.2,
          "model": "A",
          "predicted PRICE": 20
         },
         {
          "PRICE": 18.5,
          "PTRATIO": 20.2,
          "model": "A",
          "predicted PRICE": 20
         },
         {
          "PRICE": 20.6,
          "PTRATIO": 20.2,
          "model": "A",
          "predicted PRICE": 20
         },
         {
          "PRICE": 19,
          "PTRATIO": 20.2,
          "model": "A",
          "predicted PRICE": 20
         },
         {
          "PRICE": 18.7,
          "PTRATIO": 20.2,
          "model": "A",
          "predicted PRICE": 20
         },
         {
          "PRICE": 32.7,
          "PTRATIO": 15.5,
          "model": "A",
          "predicted PRICE": 20
         },
         {
          "PRICE": 16.5,
          "PTRATIO": 15.9,
          "model": "A",
          "predicted PRICE": 20
         },
         {
          "PRICE": 23.9,
          "PTRATIO": 17.6,
          "model": "A",
          "predicted PRICE": 20
         },
         {
          "PRICE": 31.2,
          "PTRATIO": 17.6,
          "model": "A",
          "predicted PRICE": 20
         },
         {
          "PRICE": 17.5,
          "PTRATIO": 18.8,
          "model": "A",
          "predicted PRICE": 20
         },
         {
          "PRICE": 17.2,
          "PTRATIO": 18.8,
          "model": "A",
          "predicted PRICE": 20
         },
         {
          "PRICE": 23.1,
          "PTRATIO": 17.9,
          "model": "A",
          "predicted PRICE": 20
         },
         {
          "PRICE": 24.5,
          "PTRATIO": 17,
          "model": "A",
          "predicted PRICE": 20
         },
         {
          "PRICE": 26.6,
          "PTRATIO": 19.7,
          "model": "A",
          "predicted PRICE": 20
         },
         {
          "PRICE": 22.9,
          "PTRATIO": 19.7,
          "model": "A",
          "predicted PRICE": 20
         },
         {
          "PRICE": 24.1,
          "PTRATIO": 18.3,
          "model": "A",
          "predicted PRICE": 20
         },
         {
          "PRICE": 18.6,
          "PTRATIO": 18.3,
          "model": "A",
          "predicted PRICE": 20
         },
         {
          "PRICE": 30.1,
          "PTRATIO": 17,
          "model": "A",
          "predicted PRICE": 20
         },
         {
          "PRICE": 18.2,
          "PTRATIO": 22,
          "model": "A",
          "predicted PRICE": 20
         },
         {
          "PRICE": 20.6,
          "PTRATIO": 22,
          "model": "A",
          "predicted PRICE": 20
         },
         {
          "PRICE": 17.8,
          "PTRATIO": 20.2,
          "model": "A",
          "predicted PRICE": 20
         },
         {
          "PRICE": 21.7,
          "PTRATIO": 20.2,
          "model": "A",
          "predicted PRICE": 20
         },
         {
          "PRICE": 22.7,
          "PTRATIO": 20.2,
          "model": "A",
          "predicted PRICE": 20
         },
         {
          "PRICE": 22.6,
          "PTRATIO": 20.2,
          "model": "A",
          "predicted PRICE": 20
         },
         {
          "PRICE": 25,
          "PTRATIO": 20.2,
          "model": "A",
          "predicted PRICE": 20
         },
         {
          "PRICE": 19.9,
          "PTRATIO": 20.2,
          "model": "A",
          "predicted PRICE": 20
         },
         {
          "PRICE": 20.8,
          "PTRATIO": 20.2,
          "model": "A",
          "predicted PRICE": 20
         },
         {
          "PRICE": 16.8,
          "PTRATIO": 20.2,
          "model": "A",
          "predicted PRICE": 20
         },
         {
          "PRICE": 21.9,
          "PTRATIO": 20.2,
          "model": "A",
          "predicted PRICE": 20
         },
         {
          "PRICE": 27.5,
          "PTRATIO": 20.2,
          "model": "A",
          "predicted PRICE": 20
         },
         {
          "PRICE": 21.9,
          "PTRATIO": 20.2,
          "model": "A",
          "predicted PRICE": 20
         },
         {
          "PRICE": 23.1,
          "PTRATIO": 20.2,
          "model": "A",
          "predicted PRICE": 20
         },
         {
          "PRICE": 50,
          "PTRATIO": 20.2,
          "model": "A",
          "predicted PRICE": 20
         },
         {
          "PRICE": 50,
          "PTRATIO": 20.2,
          "model": "A",
          "predicted PRICE": 20
         },
         {
          "PRICE": 50,
          "PTRATIO": 20.2,
          "model": "A",
          "predicted PRICE": 20
         },
         {
          "PRICE": 50,
          "PTRATIO": 20.2,
          "model": "A",
          "predicted PRICE": 20
         },
         {
          "PRICE": 50,
          "PTRATIO": 20.2,
          "model": "A",
          "predicted PRICE": 20
         },
         {
          "PRICE": 13.8,
          "PTRATIO": 20.2,
          "model": "A",
          "predicted PRICE": 20
         },
         {
          "PRICE": 13.8,
          "PTRATIO": 20.2,
          "model": "A",
          "predicted PRICE": 20
         },
         {
          "PRICE": 15,
          "PTRATIO": 20.2,
          "model": "A",
          "predicted PRICE": 20
         },
         {
          "PRICE": 13.9,
          "PTRATIO": 20.2,
          "model": "A",
          "predicted PRICE": 20
         },
         {
          "PRICE": 13.3,
          "PTRATIO": 20.2,
          "model": "A",
          "predicted PRICE": 20
         },
         {
          "PRICE": 13.1,
          "PTRATIO": 20.2,
          "model": "A",
          "predicted PRICE": 20
         },
         {
          "PRICE": 10.2,
          "PTRATIO": 20.2,
          "model": "A",
          "predicted PRICE": 20
         },
         {
          "PRICE": 10.4,
          "PTRATIO": 20.2,
          "model": "A",
          "predicted PRICE": 20
         },
         {
          "PRICE": 10.9,
          "PTRATIO": 20.2,
          "model": "A",
          "predicted PRICE": 20
         },
         {
          "PRICE": 11.3,
          "PTRATIO": 20.2,
          "model": "A",
          "predicted PRICE": 20
         },
         {
          "PRICE": 12.3,
          "PTRATIO": 20.2,
          "model": "A",
          "predicted PRICE": 20
         },
         {
          "PRICE": 8.8,
          "PTRATIO": 20.2,
          "model": "A",
          "predicted PRICE": 20
         },
         {
          "PRICE": 7.2,
          "PTRATIO": 20.2,
          "model": "A",
          "predicted PRICE": 20
         },
         {
          "PRICE": 10.5,
          "PTRATIO": 20.2,
          "model": "A",
          "predicted PRICE": 20
         },
         {
          "PRICE": 7.4,
          "PTRATIO": 20.2,
          "model": "A",
          "predicted PRICE": 20
         },
         {
          "PRICE": 10.2,
          "PTRATIO": 20.2,
          "model": "A",
          "predicted PRICE": 20
         },
         {
          "PRICE": 11.5,
          "PTRATIO": 20.2,
          "model": "A",
          "predicted PRICE": 20
         },
         {
          "PRICE": 15.1,
          "PTRATIO": 20.2,
          "model": "A",
          "predicted PRICE": 20
         },
         {
          "PRICE": 23.2,
          "PTRATIO": 20.2,
          "model": "A",
          "predicted PRICE": 20
         },
         {
          "PRICE": 9.7,
          "PTRATIO": 20.2,
          "model": "A",
          "predicted PRICE": 20
         },
         {
          "PRICE": 13.8,
          "PTRATIO": 20.2,
          "model": "A",
          "predicted PRICE": 20
         },
         {
          "PRICE": 12.7,
          "PTRATIO": 20.2,
          "model": "A",
          "predicted PRICE": 20
         },
         {
          "PRICE": 13.1,
          "PTRATIO": 20.2,
          "model": "A",
          "predicted PRICE": 20
         },
         {
          "PRICE": 12.5,
          "PTRATIO": 20.2,
          "model": "A",
          "predicted PRICE": 20
         },
         {
          "PRICE": 8.5,
          "PTRATIO": 20.2,
          "model": "A",
          "predicted PRICE": 20
         },
         {
          "PRICE": 5,
          "PTRATIO": 20.2,
          "model": "A",
          "predicted PRICE": 20
         },
         {
          "PRICE": 6.3,
          "PTRATIO": 20.2,
          "model": "A",
          "predicted PRICE": 20
         },
         {
          "PRICE": 5.6,
          "PTRATIO": 20.2,
          "model": "A",
          "predicted PRICE": 20
         },
         {
          "PRICE": 7.2,
          "PTRATIO": 20.2,
          "model": "A",
          "predicted PRICE": 20
         },
         {
          "PRICE": 12.1,
          "PTRATIO": 20.2,
          "model": "A",
          "predicted PRICE": 20
         },
         {
          "PRICE": 8.3,
          "PTRATIO": 20.2,
          "model": "A",
          "predicted PRICE": 20
         },
         {
          "PRICE": 8.5,
          "PTRATIO": 20.2,
          "model": "A",
          "predicted PRICE": 20
         },
         {
          "PRICE": 5,
          "PTRATIO": 20.2,
          "model": "A",
          "predicted PRICE": 20
         },
         {
          "PRICE": 11.9,
          "PTRATIO": 20.2,
          "model": "A",
          "predicted PRICE": 20
         },
         {
          "PRICE": 27.9,
          "PTRATIO": 20.2,
          "model": "A",
          "predicted PRICE": 20
         },
         {
          "PRICE": 17.2,
          "PTRATIO": 20.2,
          "model": "A",
          "predicted PRICE": 20
         },
         {
          "PRICE": 27.5,
          "PTRATIO": 20.2,
          "model": "A",
          "predicted PRICE": 20
         },
         {
          "PRICE": 15,
          "PTRATIO": 20.2,
          "model": "A",
          "predicted PRICE": 20
         },
         {
          "PRICE": 17.2,
          "PTRATIO": 20.2,
          "model": "A",
          "predicted PRICE": 20
         },
         {
          "PRICE": 17.9,
          "PTRATIO": 20.2,
          "model": "A",
          "predicted PRICE": 20
         },
         {
          "PRICE": 16.3,
          "PTRATIO": 20.2,
          "model": "A",
          "predicted PRICE": 20
         },
         {
          "PRICE": 7,
          "PTRATIO": 20.2,
          "model": "A",
          "predicted PRICE": 20
         },
         {
          "PRICE": 7.2,
          "PTRATIO": 20.2,
          "model": "A",
          "predicted PRICE": 20
         },
         {
          "PRICE": 7.5,
          "PTRATIO": 20.2,
          "model": "A",
          "predicted PRICE": 20
         },
         {
          "PRICE": 10.4,
          "PTRATIO": 20.2,
          "model": "A",
          "predicted PRICE": 20
         },
         {
          "PRICE": 8.8,
          "PTRATIO": 20.2,
          "model": "A",
          "predicted PRICE": 20
         },
         {
          "PRICE": 8.4,
          "PTRATIO": 20.2,
          "model": "A",
          "predicted PRICE": 20
         },
         {
          "PRICE": 16.7,
          "PTRATIO": 20.2,
          "model": "A",
          "predicted PRICE": 20
         },
         {
          "PRICE": 14.2,
          "PTRATIO": 20.2,
          "model": "A",
          "predicted PRICE": 20
         },
         {
          "PRICE": 20.8,
          "PTRATIO": 20.2,
          "model": "A",
          "predicted PRICE": 20
         },
         {
          "PRICE": 13.4,
          "PTRATIO": 20.2,
          "model": "A",
          "predicted PRICE": 20
         },
         {
          "PRICE": 11.7,
          "PTRATIO": 20.2,
          "model": "A",
          "predicted PRICE": 20
         },
         {
          "PRICE": 8.3,
          "PTRATIO": 20.2,
          "model": "A",
          "predicted PRICE": 20
         },
         {
          "PRICE": 10.2,
          "PTRATIO": 20.2,
          "model": "A",
          "predicted PRICE": 20
         },
         {
          "PRICE": 10.9,
          "PTRATIO": 20.2,
          "model": "A",
          "predicted PRICE": 20
         },
         {
          "PRICE": 11,
          "PTRATIO": 20.2,
          "model": "A",
          "predicted PRICE": 20
         },
         {
          "PRICE": 9.5,
          "PTRATIO": 20.2,
          "model": "A",
          "predicted PRICE": 20
         },
         {
          "PRICE": 14.5,
          "PTRATIO": 20.2,
          "model": "A",
          "predicted PRICE": 20
         },
         {
          "PRICE": 14.1,
          "PTRATIO": 20.2,
          "model": "A",
          "predicted PRICE": 20
         },
         {
          "PRICE": 16.1,
          "PTRATIO": 20.2,
          "model": "A",
          "predicted PRICE": 20
         },
         {
          "PRICE": 14.3,
          "PTRATIO": 20.2,
          "model": "A",
          "predicted PRICE": 20
         },
         {
          "PRICE": 11.7,
          "PTRATIO": 20.2,
          "model": "A",
          "predicted PRICE": 20
         },
         {
          "PRICE": 13.4,
          "PTRATIO": 20.2,
          "model": "A",
          "predicted PRICE": 20
         },
         {
          "PRICE": 9.6,
          "PTRATIO": 20.2,
          "model": "A",
          "predicted PRICE": 20
         },
         {
          "PRICE": 8.7,
          "PTRATIO": 20.2,
          "model": "A",
          "predicted PRICE": 20
         },
         {
          "PRICE": 8.4,
          "PTRATIO": 20.2,
          "model": "A",
          "predicted PRICE": 20
         },
         {
          "PRICE": 12.8,
          "PTRATIO": 20.2,
          "model": "A",
          "predicted PRICE": 20
         },
         {
          "PRICE": 10.5,
          "PTRATIO": 20.2,
          "model": "A",
          "predicted PRICE": 20
         },
         {
          "PRICE": 17.1,
          "PTRATIO": 20.2,
          "model": "A",
          "predicted PRICE": 20
         },
         {
          "PRICE": 18.4,
          "PTRATIO": 20.2,
          "model": "A",
          "predicted PRICE": 20
         },
         {
          "PRICE": 15.4,
          "PTRATIO": 20.2,
          "model": "A",
          "predicted PRICE": 20
         },
         {
          "PRICE": 10.8,
          "PTRATIO": 20.2,
          "model": "A",
          "predicted PRICE": 20
         },
         {
          "PRICE": 11.8,
          "PTRATIO": 20.2,
          "model": "A",
          "predicted PRICE": 20
         },
         {
          "PRICE": 14.9,
          "PTRATIO": 20.2,
          "model": "A",
          "predicted PRICE": 20
         },
         {
          "PRICE": 12.6,
          "PTRATIO": 20.2,
          "model": "A",
          "predicted PRICE": 20
         },
         {
          "PRICE": 14.1,
          "PTRATIO": 20.2,
          "model": "A",
          "predicted PRICE": 20
         },
         {
          "PRICE": 13,
          "PTRATIO": 20.2,
          "model": "A",
          "predicted PRICE": 20
         },
         {
          "PRICE": 13.4,
          "PTRATIO": 20.2,
          "model": "A",
          "predicted PRICE": 20
         },
         {
          "PRICE": 15.2,
          "PTRATIO": 20.2,
          "model": "A",
          "predicted PRICE": 20
         },
         {
          "PRICE": 16.1,
          "PTRATIO": 20.2,
          "model": "A",
          "predicted PRICE": 20
         },
         {
          "PRICE": 17.8,
          "PTRATIO": 20.2,
          "model": "A",
          "predicted PRICE": 20
         },
         {
          "PRICE": 14.9,
          "PTRATIO": 20.2,
          "model": "A",
          "predicted PRICE": 20
         },
         {
          "PRICE": 14.1,
          "PTRATIO": 20.2,
          "model": "A",
          "predicted PRICE": 20
         },
         {
          "PRICE": 12.7,
          "PTRATIO": 20.2,
          "model": "A",
          "predicted PRICE": 20
         },
         {
          "PRICE": 13.5,
          "PTRATIO": 20.2,
          "model": "A",
          "predicted PRICE": 20
         },
         {
          "PRICE": 14.9,
          "PTRATIO": 20.2,
          "model": "A",
          "predicted PRICE": 20
         },
         {
          "PRICE": 20,
          "PTRATIO": 20.2,
          "model": "A",
          "predicted PRICE": 20
         },
         {
          "PRICE": 16.4,
          "PTRATIO": 20.2,
          "model": "A",
          "predicted PRICE": 20
         },
         {
          "PRICE": 17.7,
          "PTRATIO": 20.2,
          "model": "A",
          "predicted PRICE": 20
         },
         {
          "PRICE": 19.5,
          "PTRATIO": 20.2,
          "model": "A",
          "predicted PRICE": 20
         },
         {
          "PRICE": 20.2,
          "PTRATIO": 20.2,
          "model": "A",
          "predicted PRICE": 20
         },
         {
          "PRICE": 21.4,
          "PTRATIO": 20.2,
          "model": "A",
          "predicted PRICE": 20
         },
         {
          "PRICE": 19.9,
          "PTRATIO": 20.2,
          "model": "A",
          "predicted PRICE": 20
         },
         {
          "PRICE": 19,
          "PTRATIO": 20.2,
          "model": "A",
          "predicted PRICE": 20
         },
         {
          "PRICE": 19.1,
          "PTRATIO": 20.2,
          "model": "A",
          "predicted PRICE": 20
         },
         {
          "PRICE": 19.1,
          "PTRATIO": 20.2,
          "model": "A",
          "predicted PRICE": 20
         },
         {
          "PRICE": 20.1,
          "PTRATIO": 20.2,
          "model": "A",
          "predicted PRICE": 20
         },
         {
          "PRICE": 19.9,
          "PTRATIO": 20.2,
          "model": "A",
          "predicted PRICE": 20
         },
         {
          "PRICE": 19.6,
          "PTRATIO": 20.2,
          "model": "A",
          "predicted PRICE": 20
         },
         {
          "PRICE": 23.2,
          "PTRATIO": 20.2,
          "model": "A",
          "predicted PRICE": 20
         },
         {
          "PRICE": 29.8,
          "PTRATIO": 20.2,
          "model": "A",
          "predicted PRICE": 20
         },
         {
          "PRICE": 13.8,
          "PTRATIO": 20.2,
          "model": "A",
          "predicted PRICE": 20
         },
         {
          "PRICE": 13.3,
          "PTRATIO": 20.2,
          "model": "A",
          "predicted PRICE": 20
         },
         {
          "PRICE": 16.7,
          "PTRATIO": 20.2,
          "model": "A",
          "predicted PRICE": 20
         },
         {
          "PRICE": 12,
          "PTRATIO": 20.2,
          "model": "A",
          "predicted PRICE": 20
         },
         {
          "PRICE": 14.6,
          "PTRATIO": 20.2,
          "model": "A",
          "predicted PRICE": 20
         },
         {
          "PRICE": 21.4,
          "PTRATIO": 20.2,
          "model": "A",
          "predicted PRICE": 20
         },
         {
          "PRICE": 23,
          "PTRATIO": 20.2,
          "model": "A",
          "predicted PRICE": 20
         },
         {
          "PRICE": 23.7,
          "PTRATIO": 20.2,
          "model": "A",
          "predicted PRICE": 20
         },
         {
          "PRICE": 25,
          "PTRATIO": 20.2,
          "model": "A",
          "predicted PRICE": 20
         },
         {
          "PRICE": 21.8,
          "PTRATIO": 20.2,
          "model": "A",
          "predicted PRICE": 20
         },
         {
          "PRICE": 20.6,
          "PTRATIO": 20.2,
          "model": "A",
          "predicted PRICE": 20
         },
         {
          "PRICE": 21.2,
          "PTRATIO": 20.2,
          "model": "A",
          "predicted PRICE": 20
         },
         {
          "PRICE": 19.1,
          "PTRATIO": 20.2,
          "model": "A",
          "predicted PRICE": 20
         },
         {
          "PRICE": 20.6,
          "PTRATIO": 20.2,
          "model": "A",
          "predicted PRICE": 20
         },
         {
          "PRICE": 15.2,
          "PTRATIO": 20.1,
          "model": "A",
          "predicted PRICE": 20
         },
         {
          "PRICE": 7,
          "PTRATIO": 20.1,
          "model": "A",
          "predicted PRICE": 20
         },
         {
          "PRICE": 8.1,
          "PTRATIO": 20.1,
          "model": "A",
          "predicted PRICE": 20
         },
         {
          "PRICE": 13.6,
          "PTRATIO": 20.1,
          "model": "A",
          "predicted PRICE": 20
         },
         {
          "PRICE": 20.1,
          "PTRATIO": 20.1,
          "model": "A",
          "predicted PRICE": 20
         },
         {
          "PRICE": 21.8,
          "PTRATIO": 19.2,
          "model": "A",
          "predicted PRICE": 20
         },
         {
          "PRICE": 24.5,
          "PTRATIO": 19.2,
          "model": "A",
          "predicted PRICE": 20
         },
         {
          "PRICE": 23.1,
          "PTRATIO": 19.2,
          "model": "A",
          "predicted PRICE": 20
         },
         {
          "PRICE": 19.7,
          "PTRATIO": 19.2,
          "model": "A",
          "predicted PRICE": 20
         },
         {
          "PRICE": 18.3,
          "PTRATIO": 19.2,
          "model": "A",
          "predicted PRICE": 20
         },
         {
          "PRICE": 21.2,
          "PTRATIO": 19.2,
          "model": "A",
          "predicted PRICE": 20
         },
         {
          "PRICE": 17.5,
          "PTRATIO": 19.2,
          "model": "A",
          "predicted PRICE": 20
         },
         {
          "PRICE": 16.8,
          "PTRATIO": 19.2,
          "model": "A",
          "predicted PRICE": 20
         },
         {
          "PRICE": 22.4,
          "PTRATIO": 21,
          "model": "A",
          "predicted PRICE": 20
         },
         {
          "PRICE": 20.6,
          "PTRATIO": 21,
          "model": "A",
          "predicted PRICE": 20
         },
         {
          "PRICE": 23.9,
          "PTRATIO": 21,
          "model": "A",
          "predicted PRICE": 20
         },
         {
          "PRICE": 22,
          "PTRATIO": 21,
          "model": "A",
          "predicted PRICE": 20
         },
         {
          "PRICE": 11.9,
          "PTRATIO": 21,
          "model": "A",
          "predicted PRICE": 20
         },
         {
          "PRICE": 24,
          "PTRATIO": 15.3,
          "model": "B",
          "predicted PRICE": 30.193481146261224
         },
         {
          "PRICE": 21.6,
          "PTRATIO": 17.8,
          "model": "B",
          "predicted PRICE": 22.665595641028837
         },
         {
          "PRICE": 34.7,
          "PTRATIO": 17.8,
          "model": "B",
          "predicted PRICE": 22.665595641028837
         },
         {
          "PRICE": 33.4,
          "PTRATIO": 18.7,
          "model": "B",
          "predicted PRICE": 22.302001948371604
         },
         {
          "PRICE": 36.2,
          "PTRATIO": 18.7,
          "model": "B",
          "predicted PRICE": 22.302001948371604
         },
         {
          "PRICE": 28.7,
          "PTRATIO": 18.7,
          "model": "B",
          "predicted PRICE": 22.302001948371604
         },
         {
          "PRICE": 22.9,
          "PTRATIO": 15.2,
          "model": "B",
          "predicted PRICE": 30.5727973777076
         },
         {
          "PRICE": 27.1,
          "PTRATIO": 15.2,
          "model": "B",
          "predicted PRICE": 30.5727973777076
         },
         {
          "PRICE": 16.5,
          "PTRATIO": 15.2,
          "model": "B",
          "predicted PRICE": 30.5727973777076
         },
         {
          "PRICE": 18.9,
          "PTRATIO": 15.2,
          "model": "B",
          "predicted PRICE": 30.5727973777076
         },
         {
          "PRICE": 15,
          "PTRATIO": 15.2,
          "model": "B",
          "predicted PRICE": 30.5727973777076
         },
         {
          "PRICE": 18.9,
          "PTRATIO": 15.2,
          "model": "B",
          "predicted PRICE": 30.5727973777076
         },
         {
          "PRICE": 21.7,
          "PTRATIO": 15.2,
          "model": "B",
          "predicted PRICE": 30.5727973777076
         },
         {
          "PRICE": 20.4,
          "PTRATIO": 21,
          "model": "B",
          "predicted PRICE": 19.673311277072113
         },
         {
          "PRICE": 18.2,
          "PTRATIO": 21,
          "model": "B",
          "predicted PRICE": 19.673311277072113
         },
         {
          "PRICE": 19.9,
          "PTRATIO": 21,
          "model": "B",
          "predicted PRICE": 19.673311277072113
         },
         {
          "PRICE": 23.1,
          "PTRATIO": 21,
          "model": "B",
          "predicted PRICE": 19.673311277072113
         },
         {
          "PRICE": 17.5,
          "PTRATIO": 21,
          "model": "B",
          "predicted PRICE": 19.673311277072113
         },
         {
          "PRICE": 20.2,
          "PTRATIO": 21,
          "model": "B",
          "predicted PRICE": 19.673311277072113
         },
         {
          "PRICE": 18.2,
          "PTRATIO": 21,
          "model": "B",
          "predicted PRICE": 19.673311277072113
         },
         {
          "PRICE": 13.6,
          "PTRATIO": 21,
          "model": "B",
          "predicted PRICE": 19.673311277072113
         },
         {
          "PRICE": 19.6,
          "PTRATIO": 21,
          "model": "B",
          "predicted PRICE": 19.673311277072113
         },
         {
          "PRICE": 15.2,
          "PTRATIO": 21,
          "model": "B",
          "predicted PRICE": 19.673311277072113
         },
         {
          "PRICE": 14.5,
          "PTRATIO": 21,
          "model": "B",
          "predicted PRICE": 19.673311277072113
         },
         {
          "PRICE": 15.6,
          "PTRATIO": 21,
          "model": "B",
          "predicted PRICE": 19.673311277072113
         },
         {
          "PRICE": 13.9,
          "PTRATIO": 21,
          "model": "B",
          "predicted PRICE": 19.673311277072113
         },
         {
          "PRICE": 16.6,
          "PTRATIO": 21,
          "model": "B",
          "predicted PRICE": 19.673311277072113
         },
         {
          "PRICE": 14.8,
          "PTRATIO": 21,
          "model": "B",
          "predicted PRICE": 19.673311277072113
         },
         {
          "PRICE": 18.4,
          "PTRATIO": 21,
          "model": "B",
          "predicted PRICE": 19.673311277072113
         },
         {
          "PRICE": 21,
          "PTRATIO": 21,
          "model": "B",
          "predicted PRICE": 19.673311277072113
         },
         {
          "PRICE": 12.7,
          "PTRATIO": 21,
          "model": "B",
          "predicted PRICE": 19.673311277072113
         },
         {
          "PRICE": 14.5,
          "PTRATIO": 21,
          "model": "B",
          "predicted PRICE": 19.673311277072113
         },
         {
          "PRICE": 13.2,
          "PTRATIO": 21,
          "model": "B",
          "predicted PRICE": 19.673311277072113
         },
         {
          "PRICE": 13.1,
          "PTRATIO": 21,
          "model": "B",
          "predicted PRICE": 19.673311277072113
         },
         {
          "PRICE": 13.5,
          "PTRATIO": 21,
          "model": "B",
          "predicted PRICE": 19.673311277072113
         },
         {
          "PRICE": 18.9,
          "PTRATIO": 19.2,
          "model": "B",
          "predicted PRICE": 22.28662985763979
         },
         {
          "PRICE": 20,
          "PTRATIO": 19.2,
          "model": "B",
          "predicted PRICE": 22.28662985763979
         },
         {
          "PRICE": 21,
          "PTRATIO": 19.2,
          "model": "B",
          "predicted PRICE": 22.28662985763979
         },
         {
          "PRICE": 24.7,
          "PTRATIO": 19.2,
          "model": "B",
          "predicted PRICE": 22.28662985763979
         },
         {
          "PRICE": 30.8,
          "PTRATIO": 18.3,
          "model": "B",
          "predicted PRICE": 22.355382820746534
         },
         {
          "PRICE": 34.9,
          "PTRATIO": 18.3,
          "model": "B",
          "predicted PRICE": 22.355382820746534
         },
         {
          "PRICE": 26.6,
          "PTRATIO": 17.9,
          "model": "B",
          "predicted PRICE": 22.573685776677024
         },
         {
          "PRICE": 25.3,
          "PTRATIO": 17.9,
          "model": "B",
          "predicted PRICE": 22.573685776677024
         },
         {
          "PRICE": 24.7,
          "PTRATIO": 17.9,
          "model": "B",
          "predicted PRICE": 22.573685776677024
         },
         {
          "PRICE": 21.2,
          "PTRATIO": 17.9,
          "model": "B",
          "predicted PRICE": 22.573685776677024
         },
         {
          "PRICE": 19.3,
          "PTRATIO": 17.9,
          "model": "B",
          "predicted PRICE": 22.573685776677024
         },
         {
          "PRICE": 20,
          "PTRATIO": 17.9,
          "model": "B",
          "predicted PRICE": 22.573685776677024
         },
         {
          "PRICE": 16.6,
          "PTRATIO": 17.9,
          "model": "B",
          "predicted PRICE": 22.573685776677024
         },
         {
          "PRICE": 14.4,
          "PTRATIO": 17.9,
          "model": "B",
          "predicted PRICE": 22.573685776677024
         },
         {
          "PRICE": 19.4,
          "PTRATIO": 17.9,
          "model": "B",
          "predicted PRICE": 22.573685776677024
         },
         {
          "PRICE": 19.7,
          "PTRATIO": 16.8,
          "model": "B",
          "predicted PRICE": 24.62486593283699
         },
         {
          "PRICE": 20.5,
          "PTRATIO": 16.8,
          "model": "B",
          "predicted PRICE": 24.62486593283699
         },
         {
          "PRICE": 25,
          "PTRATIO": 16.8,
          "model": "B",
          "predicted PRICE": 24.62486593283699
         },
         {
          "PRICE": 23.4,
          "PTRATIO": 16.8,
          "model": "B",
          "predicted PRICE": 24.62486593283699
         },
         {
          "PRICE": 18.9,
          "PTRATIO": 21.1,
          "model": "B",
          "predicted PRICE": 19.355588323602184
         },
         {
          "PRICE": 35.4,
          "PTRATIO": 17.9,
          "model": "B",
          "predicted PRICE": 22.573685776677024
         },
         {
          "PRICE": 24.7,
          "PTRATIO": 17.3,
          "model": "B",
          "predicted PRICE": 23.400451137853977
         },
         {
          "PRICE": 31.6,
          "PTRATIO": 15.1,
          "model": "B",
          "predicted PRICE": 30.94239373931998
         },
         {
          "PRICE": 23.3,
          "PTRATIO": 19.7,
          "model": "B",
          "predicted PRICE": 22.103146830704297
         },
         {
          "PRICE": 19.6,
          "PTRATIO": 19.7,
          "model": "B",
          "predicted PRICE": 22.103146830704297
         },
         {
          "PRICE": 18.7,
          "PTRATIO": 19.7,
          "model": "B",
          "predicted PRICE": 22.103146830704297
         },
         {
          "PRICE": 16,
          "PTRATIO": 19.7,
          "model": "B",
          "predicted PRICE": 22.103146830704297
         },
         {
          "PRICE": 22.2,
          "PTRATIO": 19.7,
          "model": "B",
          "predicted PRICE": 22.103146830704297
         },
         {
          "PRICE": 25,
          "PTRATIO": 19.7,
          "model": "B",
          "predicted PRICE": 22.103146830704297
         },
         {
          "PRICE": 33,
          "PTRATIO": 18.6,
          "model": "B",
          "predicted PRICE": 22.306052676526754
         },
         {
          "PRICE": 23.5,
          "PTRATIO": 16.1,
          "model": "B",
          "predicted PRICE": 27.035857165631977
         },
         {
          "PRICE": 19.4,
          "PTRATIO": 16.1,
          "model": "B",
          "predicted PRICE": 27.035857165631977
         },
         {
          "PRICE": 22,
          "PTRATIO": 18.9,
          "model": "B",
          "predicted PRICE": 22.300845375613626
         },
         {
          "PRICE": 17.4,
          "PTRATIO": 18.9,
          "model": "B",
          "predicted PRICE": 22.300845375613626
         },
         {
          "PRICE": 20.9,
          "PTRATIO": 18.9,
          "model": "B",
          "predicted PRICE": 22.300845375613626
         },
         {
          "PRICE": 24.2,
          "PTRATIO": 19.2,
          "model": "B",
          "predicted PRICE": 22.28662985763979
         },
         {
          "PRICE": 21.7,
          "PTRATIO": 19.2,
          "model": "B",
          "predicted PRICE": 22.28662985763979
         },
         {
          "PRICE": 22.8,
          "PTRATIO": 19.2,
          "model": "B",
          "predicted PRICE": 22.28662985763979
         },
         {
          "PRICE": 23.4,
          "PTRATIO": 19.2,
          "model": "B",
          "predicted PRICE": 22.28662985763979
         },
         {
          "PRICE": 24.1,
          "PTRATIO": 18.7,
          "model": "B",
          "predicted PRICE": 22.302001948371604
         },
         {
          "PRICE": 21.4,
          "PTRATIO": 18.7,
          "model": "B",
          "predicted PRICE": 22.302001948371604
         },
         {
          "PRICE": 20,
          "PTRATIO": 18.7,
          "model": "B",
          "predicted PRICE": 22.302001948371604
         },
         {
          "PRICE": 20.8,
          "PTRATIO": 18.7,
          "model": "B",
          "predicted PRICE": 22.302001948371604
         },
         {
          "PRICE": 21.2,
          "PTRATIO": 18.7,
          "model": "B",
          "predicted PRICE": 22.302001948371604
         },
         {
          "PRICE": 20.3,
          "PTRATIO": 18.7,
          "model": "B",
          "predicted PRICE": 22.302001948371604
         },
         {
          "PRICE": 28,
          "PTRATIO": 19,
          "model": "B",
          "predicted PRICE": 22.299754419325904
         },
         {
          "PRICE": 23.9,
          "PTRATIO": 19,
          "model": "B",
          "predicted PRICE": 22.299754419325904
         },
         {
          "PRICE": 24.8,
          "PTRATIO": 19,
          "model": "B",
          "predicted PRICE": 22.299754419325904
         },
         {
          "PRICE": 22.9,
          "PTRATIO": 19,
          "model": "B",
          "predicted PRICE": 22.299754419325904
         },
         {
          "PRICE": 23.9,
          "PTRATIO": 18.5,
          "model": "B",
          "predicted PRICE": 22.315038763060777
         },
         {
          "PRICE": 26.6,
          "PTRATIO": 18.5,
          "model": "B",
          "predicted PRICE": 22.315038763060777
         },
         {
          "PRICE": 22.5,
          "PTRATIO": 18.5,
          "model": "B",
          "predicted PRICE": 22.315038763060777
         },
         {
          "PRICE": 22.2,
          "PTRATIO": 18.5,
          "model": "B",
          "predicted PRICE": 22.315038763060777
         },
         {
          "PRICE": 23.6,
          "PTRATIO": 17.8,
          "model": "B",
          "predicted PRICE": 22.665595641028837
         },
         {
          "PRICE": 28.7,
          "PTRATIO": 17.8,
          "model": "B",
          "predicted PRICE": 22.665595641028837
         },
         {
          "PRICE": 22.6,
          "PTRATIO": 17.8,
          "model": "B",
          "predicted PRICE": 22.665595641028837
         },
         {
          "PRICE": 22,
          "PTRATIO": 17.8,
          "model": "B",
          "predicted PRICE": 22.665595641028837
         },
         {
          "PRICE": 22.9,
          "PTRATIO": 18.2,
          "model": "B",
          "predicted PRICE": 22.390334355187434
         },
         {
          "PRICE": 25,
          "PTRATIO": 18.2,
          "model": "B",
          "predicted PRICE": 22.390334355187434
         },
         {
          "PRICE": 20.6,
          "PTRATIO": 18.2,
          "model": "B",
          "predicted PRICE": 22.390334355187434
         },
         {
          "PRICE": 28.4,
          "PTRATIO": 18,
          "model": "B",
          "predicted PRICE": 22.49802550645665
         },
         {
          "PRICE": 21.4,
          "PTRATIO": 18,
          "model": "B",
          "predicted PRICE": 22.49802550645665
         },
         {
          "PRICE": 38.7,
          "PTRATIO": 18,
          "model": "B",
          "predicted PRICE": 22.49802550645665
         },
         {
          "PRICE": 43.8,
          "PTRATIO": 18,
          "model": "B",
          "predicted PRICE": 22.49802550645665
         },
         {
          "PRICE": 33.2,
          "PTRATIO": 18,
          "model": "B",
          "predicted PRICE": 22.49802550645665
         },
         {
          "PRICE": 27.5,
          "PTRATIO": 20.9,
          "model": "B",
          "predicted PRICE": 19.974315057384704
         },
         {
          "PRICE": 26.5,
          "PTRATIO": 20.9,
          "model": "B",
          "predicted PRICE": 19.974315057384704
         },
         {
          "PRICE": 18.6,
          "PTRATIO": 20.9,
          "model": "B",
          "predicted PRICE": 19.974315057384704
         },
         {
          "PRICE": 19.3,
          "PTRATIO": 20.9,
          "model": "B",
          "predicted PRICE": 19.974315057384704
         },
         {
          "PRICE": 20.1,
          "PTRATIO": 20.9,
          "model": "B",
          "predicted PRICE": 19.974315057384704
         },
         {
          "PRICE": 19.5,
          "PTRATIO": 20.9,
          "model": "B",
          "predicted PRICE": 19.974315057384704
         },
         {
          "PRICE": 19.5,
          "PTRATIO": 20.9,
          "model": "B",
          "predicted PRICE": 19.974315057384704
         },
         {
          "PRICE": 20.4,
          "PTRATIO": 20.9,
          "model": "B",
          "predicted PRICE": 19.974315057384704
         },
         {
          "PRICE": 19.8,
          "PTRATIO": 20.9,
          "model": "B",
          "predicted PRICE": 19.974315057384704
         },
         {
          "PRICE": 19.4,
          "PTRATIO": 20.9,
          "model": "B",
          "predicted PRICE": 19.974315057384704
         },
         {
          "PRICE": 21.7,
          "PTRATIO": 20.9,
          "model": "B",
          "predicted PRICE": 19.974315057384704
         },
         {
          "PRICE": 22.8,
          "PTRATIO": 17.8,
          "model": "B",
          "predicted PRICE": 22.665595641028837
         },
         {
          "PRICE": 18.8,
          "PTRATIO": 17.8,
          "model": "B",
          "predicted PRICE": 22.665595641028837
         },
         {
          "PRICE": 18.7,
          "PTRATIO": 17.8,
          "model": "B",
          "predicted PRICE": 22.665595641028837
         },
         {
          "PRICE": 18.5,
          "PTRATIO": 17.8,
          "model": "B",
          "predicted PRICE": 22.665595641028837
         },
         {
          "PRICE": 18.3,
          "PTRATIO": 17.8,
          "model": "B",
          "predicted PRICE": 22.665595641028837
         },
         {
          "PRICE": 21.2,
          "PTRATIO": 17.8,
          "model": "B",
          "predicted PRICE": 22.665595641028837
         },
         {
          "PRICE": 19.2,
          "PTRATIO": 17.8,
          "model": "B",
          "predicted PRICE": 22.665595641028837
         },
         {
          "PRICE": 20.4,
          "PTRATIO": 17.8,
          "model": "B",
          "predicted PRICE": 22.665595641028837
         },
         {
          "PRICE": 19.3,
          "PTRATIO": 17.8,
          "model": "B",
          "predicted PRICE": 22.665595641028837
         },
         {
          "PRICE": 22,
          "PTRATIO": 19.1,
          "model": "B",
          "predicted PRICE": 22.295668415965917
         },
         {
          "PRICE": 20.3,
          "PTRATIO": 19.1,
          "model": "B",
          "predicted PRICE": 22.295668415965917
         },
         {
          "PRICE": 20.5,
          "PTRATIO": 19.1,
          "model": "B",
          "predicted PRICE": 22.295668415965917
         },
         {
          "PRICE": 17.3,
          "PTRATIO": 19.1,
          "model": "B",
          "predicted PRICE": 22.295668415965917
         },
         {
          "PRICE": 18.8,
          "PTRATIO": 19.1,
          "model": "B",
          "predicted PRICE": 22.295668415965917
         },
         {
          "PRICE": 21.4,
          "PTRATIO": 19.1,
          "model": "B",
          "predicted PRICE": 22.295668415965917
         },
         {
          "PRICE": 15.7,
          "PTRATIO": 19.1,
          "model": "B",
          "predicted PRICE": 22.295668415965917
         },
         {
          "PRICE": 16.2,
          "PTRATIO": 21.2,
          "model": "B",
          "predicted PRICE": 19.022322445811966
         },
         {
          "PRICE": 18,
          "PTRATIO": 21.2,
          "model": "B",
          "predicted PRICE": 19.022322445811966
         },
         {
          "PRICE": 14.3,
          "PTRATIO": 21.2,
          "model": "B",
          "predicted PRICE": 19.022322445811966
         },
         {
          "PRICE": 19.2,
          "PTRATIO": 21.2,
          "model": "B",
          "predicted PRICE": 19.022322445811966
         },
         {
          "PRICE": 19.6,
          "PTRATIO": 21.2,
          "model": "B",
          "predicted PRICE": 19.022322445811966
         },
         {
          "PRICE": 23,
          "PTRATIO": 21.2,
          "model": "B",
          "predicted PRICE": 19.022322445811966
         },
         {
          "PRICE": 18.4,
          "PTRATIO": 21.2,
          "model": "B",
          "predicted PRICE": 19.022322445811966
         },
         {
          "PRICE": 15.6,
          "PTRATIO": 21.2,
          "model": "B",
          "predicted PRICE": 19.022322445811966
         },
         {
          "PRICE": 18.1,
          "PTRATIO": 21.2,
          "model": "B",
          "predicted PRICE": 19.022322445811966
         },
         {
          "PRICE": 17.4,
          "PTRATIO": 21.2,
          "model": "B",
          "predicted PRICE": 19.022322445811966
         },
         {
          "PRICE": 17.1,
          "PTRATIO": 21.2,
          "model": "B",
          "predicted PRICE": 19.022322445811966
         },
         {
          "PRICE": 13.3,
          "PTRATIO": 21.2,
          "model": "B",
          "predicted PRICE": 19.022322445811966
         },
         {
          "PRICE": 17.8,
          "PTRATIO": 21.2,
          "model": "B",
          "predicted PRICE": 19.022322445811966
         },
         {
          "PRICE": 14,
          "PTRATIO": 21.2,
          "model": "B",
          "predicted PRICE": 19.022322445811966
         },
         {
          "PRICE": 14.4,
          "PTRATIO": 21.2,
          "model": "B",
          "predicted PRICE": 19.022322445811966
         },
         {
          "PRICE": 13.4,
          "PTRATIO": 14.7,
          "model": "B",
          "predicted PRICE": 32.29149366228587
         },
         {
          "PRICE": 15.6,
          "PTRATIO": 14.7,
          "model": "B",
          "predicted PRICE": 32.29149366228587
         },
         {
          "PRICE": 11.8,
          "PTRATIO": 14.7,
          "model": "B",
          "predicted PRICE": 32.29149366228587
         },
         {
          "PRICE": 13.8,
          "PTRATIO": 14.7,
          "model": "B",
          "predicted PRICE": 32.29149366228587
         },
         {
          "PRICE": 15.6,
          "PTRATIO": 14.7,
          "model": "B",
          "predicted PRICE": 32.29149366228587
         },
         {
          "PRICE": 14.6,
          "PTRATIO": 14.7,
          "model": "B",
          "predicted PRICE": 32.29149366228587
         },
         {
          "PRICE": 17.8,
          "PTRATIO": 14.7,
          "model": "B",
          "predicted PRICE": 32.29149366228587
         },
         {
          "PRICE": 15.4,
          "PTRATIO": 14.7,
          "model": "B",
          "predicted PRICE": 32.29149366228587
         },
         {
          "PRICE": 21.5,
          "PTRATIO": 14.7,
          "model": "B",
          "predicted PRICE": 32.29149366228587
         },
         {
          "PRICE": 19.6,
          "PTRATIO": 14.7,
          "model": "B",
          "predicted PRICE": 32.29149366228587
         },
         {
          "PRICE": 15.3,
          "PTRATIO": 14.7,
          "model": "B",
          "predicted PRICE": 32.29149366228587
         },
         {
          "PRICE": 19.4,
          "PTRATIO": 14.7,
          "model": "B",
          "predicted PRICE": 32.29149366228587
         },
         {
          "PRICE": 17,
          "PTRATIO": 14.7,
          "model": "B",
          "predicted PRICE": 32.29149366228587
         },
         {
          "PRICE": 15.6,
          "PTRATIO": 14.7,
          "model": "B",
          "predicted PRICE": 32.29149366228587
         },
         {
          "PRICE": 13.1,
          "PTRATIO": 14.7,
          "model": "B",
          "predicted PRICE": 32.29149366228587
         },
         {
          "PRICE": 41.3,
          "PTRATIO": 14.7,
          "model": "B",
          "predicted PRICE": 32.29149366228587
         },
         {
          "PRICE": 24.3,
          "PTRATIO": 14.7,
          "model": "B",
          "predicted PRICE": 32.29149366228587
         },
         {
          "PRICE": 23.3,
          "PTRATIO": 14.7,
          "model": "B",
          "predicted PRICE": 32.29149366228587
         },
         {
          "PRICE": 27,
          "PTRATIO": 14.7,
          "model": "B",
          "predicted PRICE": 32.29149366228587
         },
         {
          "PRICE": 50,
          "PTRATIO": 14.7,
          "model": "B",
          "predicted PRICE": 32.29149366228587
         },
         {
          "PRICE": 50,
          "PTRATIO": 14.7,
          "model": "B",
          "predicted PRICE": 32.29149366228587
         },
         {
          "PRICE": 50,
          "PTRATIO": 14.7,
          "model": "B",
          "predicted PRICE": 32.29149366228587
         },
         {
          "PRICE": 22.7,
          "PTRATIO": 14.7,
          "model": "B",
          "predicted PRICE": 32.29149366228587
         },
         {
          "PRICE": 25,
          "PTRATIO": 14.7,
          "model": "B",
          "predicted PRICE": 32.29149366228587
         },
         {
          "PRICE": 50,
          "PTRATIO": 14.7,
          "model": "B",
          "predicted PRICE": 32.29149366228587
         },
         {
          "PRICE": 23.8,
          "PTRATIO": 14.7,
          "model": "B",
          "predicted PRICE": 32.29149366228587
         },
         {
          "PRICE": 23.8,
          "PTRATIO": 14.7,
          "model": "B",
          "predicted PRICE": 32.29149366228587
         },
         {
          "PRICE": 22.3,
          "PTRATIO": 14.7,
          "model": "B",
          "predicted PRICE": 32.29149366228587
         },
         {
          "PRICE": 17.4,
          "PTRATIO": 14.7,
          "model": "B",
          "predicted PRICE": 32.29149366228587
         },
         {
          "PRICE": 19.1,
          "PTRATIO": 14.7,
          "model": "B",
          "predicted PRICE": 32.29149366228587
         },
         {
          "PRICE": 23.1,
          "PTRATIO": 16.6,
          "model": "B",
          "predicted PRICE": 25.2432958429314
         },
         {
          "PRICE": 23.6,
          "PTRATIO": 16.6,
          "model": "B",
          "predicted PRICE": 25.2432958429314
         },
         {
          "PRICE": 22.6,
          "PTRATIO": 16.6,
          "model": "B",
          "predicted PRICE": 25.2432958429314
         },
         {
          "PRICE": 29.4,
          "PTRATIO": 16.6,
          "model": "B",
          "predicted PRICE": 25.2432958429314
         },
         {
          "PRICE": 23.2,
          "PTRATIO": 16.6,
          "model": "B",
          "predicted PRICE": 25.2432958429314
         },
         {
          "PRICE": 24.6,
          "PTRATIO": 16.6,
          "model": "B",
          "predicted PRICE": 25.2432958429314
         },
         {
          "PRICE": 29.9,
          "PTRATIO": 16.6,
          "model": "B",
          "predicted PRICE": 25.2432958429314
         },
         {
          "PRICE": 37.2,
          "PTRATIO": 17.8,
          "model": "B",
          "predicted PRICE": 22.665595641028837
         },
         {
          "PRICE": 39.8,
          "PTRATIO": 17.8,
          "model": "B",
          "predicted PRICE": 22.665595641028837
         },
         {
          "PRICE": 36.2,
          "PTRATIO": 17.8,
          "model": "B",
          "predicted PRICE": 22.665595641028837
         },
         {
          "PRICE": 37.9,
          "PTRATIO": 17.8,
          "model": "B",
          "predicted PRICE": 22.665595641028837
         },
         {
          "PRICE": 32.5,
          "PTRATIO": 17.8,
          "model": "B",
          "predicted PRICE": 22.665595641028837
         },
         {
          "PRICE": 26.4,
          "PTRATIO": 17.8,
          "model": "B",
          "predicted PRICE": 22.665595641028837
         },
         {
          "PRICE": 29.6,
          "PTRATIO": 17.8,
          "model": "B",
          "predicted PRICE": 22.665595641028837
         },
         {
          "PRICE": 50,
          "PTRATIO": 17.8,
          "model": "B",
          "predicted PRICE": 22.665595641028837
         },
         {
          "PRICE": 32,
          "PTRATIO": 15.2,
          "model": "B",
          "predicted PRICE": 30.5727973777076
         },
         {
          "PRICE": 29.8,
          "PTRATIO": 15.2,
          "model": "B",
          "predicted PRICE": 30.5727973777076
         },
         {
          "PRICE": 34.9,
          "PTRATIO": 15.2,
          "model": "B",
          "predicted PRICE": 30.5727973777076
         },
         {
          "PRICE": 37,
          "PTRATIO": 15.2,
          "model": "B",
          "predicted PRICE": 30.5727973777076
         },
         {
          "PRICE": 30.5,
          "PTRATIO": 15.2,
          "model": "B",
          "predicted PRICE": 30.5727973777076
         },
         {
          "PRICE": 36.4,
          "PTRATIO": 15.2,
          "model": "B",
          "predicted PRICE": 30.5727973777076
         },
         {
          "PRICE": 31.1,
          "PTRATIO": 15.6,
          "model": "B",
          "predicted PRICE": 29.015507304598888
         },
         {
          "PRICE": 29.1,
          "PTRATIO": 15.6,
          "model": "B",
          "predicted PRICE": 29.015507304598888
         },
         {
          "PRICE": 50,
          "PTRATIO": 14.4,
          "model": "B",
          "predicted PRICE": 33.13131555309855
         },
         {
          "PRICE": 33.3,
          "PTRATIO": 12.6,
          "model": "B",
          "predicted PRICE": 34.86724609444227
         },
         {
          "PRICE": 30.3,
          "PTRATIO": 12.6,
          "model": "B",
          "predicted PRICE": 34.86724609444227
         },
         {
          "PRICE": 34.6,
          "PTRATIO": 12.6,
          "model": "B",
          "predicted PRICE": 34.86724609444227
         },
         {
          "PRICE": 34.9,
          "PTRATIO": 17,
          "model": "B",
          "predicted PRICE": 24.077205016240885
         },
         {
          "PRICE": 32.9,
          "PTRATIO": 17,
          "model": "B",
          "predicted PRICE": 24.077205016240885
         },
         {
          "PRICE": 24.1,
          "PTRATIO": 14.7,
          "model": "B",
          "predicted PRICE": 32.29149366228587
         },
         {
          "PRICE": 42.3,
          "PTRATIO": 14.7,
          "model": "B",
          "predicted PRICE": 32.29149366228587
         },
         {
          "PRICE": 48.5,
          "PTRATIO": 14.7,
          "model": "B",
          "predicted PRICE": 32.29149366228587
         },
         {
          "PRICE": 50,
          "PTRATIO": 14.7,
          "model": "B",
          "predicted PRICE": 32.29149366228587
         },
         {
          "PRICE": 22.6,
          "PTRATIO": 18.6,
          "model": "B",
          "predicted PRICE": 22.306052676526754
         },
         {
          "PRICE": 24.4,
          "PTRATIO": 18.6,
          "model": "B",
          "predicted PRICE": 22.306052676526754
         },
         {
          "PRICE": 22.5,
          "PTRATIO": 18.6,
          "model": "B",
          "predicted PRICE": 22.306052676526754
         },
         {
          "PRICE": 24.4,
          "PTRATIO": 18.6,
          "model": "B",
          "predicted PRICE": 22.306052676526754
         },
         {
          "PRICE": 20,
          "PTRATIO": 18.6,
          "model": "B",
          "predicted PRICE": 22.306052676526754
         },
         {
          "PRICE": 21.7,
          "PTRATIO": 18.6,
          "model": "B",
          "predicted PRICE": 22.306052676526754
         },
         {
          "PRICE": 19.3,
          "PTRATIO": 18.6,
          "model": "B",
          "predicted PRICE": 22.306052676526754
         },
         {
          "PRICE": 22.4,
          "PTRATIO": 18.6,
          "model": "B",
          "predicted PRICE": 22.306052676526754
         },
         {
          "PRICE": 28.1,
          "PTRATIO": 18.6,
          "model": "B",
          "predicted PRICE": 22.306052676526754
         },
         {
          "PRICE": 23.7,
          "PTRATIO": 18.6,
          "model": "B",
          "predicted PRICE": 22.306052676526754
         },
         {
          "PRICE": 25,
          "PTRATIO": 18.6,
          "model": "B",
          "predicted PRICE": 22.306052676526754
         },
         {
          "PRICE": 23.3,
          "PTRATIO": 16.4,
          "model": "B",
          "predicted PRICE": 25.923786635304108
         },
         {
          "PRICE": 28.7,
          "PTRATIO": 16.4,
          "model": "B",
          "predicted PRICE": 25.923786635304108
         },
         {
          "PRICE": 21.5,
          "PTRATIO": 16.4,
          "model": "B",
          "predicted PRICE": 25.923786635304108
         },
         {
          "PRICE": 23,
          "PTRATIO": 16.4,
          "model": "B",
          "predicted PRICE": 25.923786635304108
         },
         {
          "PRICE": 26.7,
          "PTRATIO": 17.4,
          "model": "B",
          "predicted PRICE": 23.214681239058738
         },
         {
          "PRICE": 21.7,
          "PTRATIO": 17.4,
          "model": "B",
          "predicted PRICE": 23.214681239058738
         },
         {
          "PRICE": 27.5,
          "PTRATIO": 17.4,
          "model": "B",
          "predicted PRICE": 23.214681239058738
         },
         {
          "PRICE": 30.1,
          "PTRATIO": 17.4,
          "model": "B",
          "predicted PRICE": 23.214681239058738
         },
         {
          "PRICE": 44.8,
          "PTRATIO": 17.4,
          "model": "B",
          "predicted PRICE": 23.214681239058738
         },
         {
          "PRICE": 50,
          "PTRATIO": 17.4,
          "model": "B",
          "predicted PRICE": 23.214681239058738
         },
         {
          "PRICE": 37.6,
          "PTRATIO": 17.4,
          "model": "B",
          "predicted PRICE": 23.214681239058738
         },
         {
          "PRICE": 31.6,
          "PTRATIO": 17.4,
          "model": "B",
          "predicted PRICE": 23.214681239058738
         },
         {
          "PRICE": 46.7,
          "PTRATIO": 17.4,
          "model": "B",
          "predicted PRICE": 23.214681239058738
         },
         {
          "PRICE": 31.5,
          "PTRATIO": 17.4,
          "model": "B",
          "predicted PRICE": 23.214681239058738
         },
         {
          "PRICE": 24.3,
          "PTRATIO": 17.4,
          "model": "B",
          "predicted PRICE": 23.214681239058738
         },
         {
          "PRICE": 31.7,
          "PTRATIO": 17.4,
          "model": "B",
          "predicted PRICE": 23.214681239058738
         },
         {
          "PRICE": 41.7,
          "PTRATIO": 17.4,
          "model": "B",
          "predicted PRICE": 23.214681239058738
         },
         {
          "PRICE": 48.3,
          "PTRATIO": 17.4,
          "model": "B",
          "predicted PRICE": 23.214681239058738
         },
         {
          "PRICE": 29,
          "PTRATIO": 17.4,
          "model": "B",
          "predicted PRICE": 23.214681239058738
         },
         {
          "PRICE": 24,
          "PTRATIO": 17.4,
          "model": "B",
          "predicted PRICE": 23.214681239058738
         },
         {
          "PRICE": 25.1,
          "PTRATIO": 17.4,
          "model": "B",
          "predicted PRICE": 23.214681239058738
         },
         {
          "PRICE": 31.5,
          "PTRATIO": 17.4,
          "model": "B",
          "predicted PRICE": 23.214681239058738
         },
         {
          "PRICE": 23.7,
          "PTRATIO": 16.6,
          "model": "B",
          "predicted PRICE": 25.2432958429314
         },
         {
          "PRICE": 23.3,
          "PTRATIO": 16.6,
          "model": "B",
          "predicted PRICE": 25.2432958429314
         },
         {
          "PRICE": 22,
          "PTRATIO": 16.6,
          "model": "B",
          "predicted PRICE": 25.2432958429314
         },
         {
          "PRICE": 20.1,
          "PTRATIO": 16.6,
          "model": "B",
          "predicted PRICE": 25.2432958429314
         },
         {
          "PRICE": 22.2,
          "PTRATIO": 16.6,
          "model": "B",
          "predicted PRICE": 25.2432958429314
         },
         {
          "PRICE": 23.7,
          "PTRATIO": 16.6,
          "model": "B",
          "predicted PRICE": 25.2432958429314
         },
         {
          "PRICE": 17.6,
          "PTRATIO": 19.1,
          "model": "B",
          "predicted PRICE": 22.295668415965917
         },
         {
          "PRICE": 18.5,
          "PTRATIO": 19.1,
          "model": "B",
          "predicted PRICE": 22.295668415965917
         },
         {
          "PRICE": 24.3,
          "PTRATIO": 19.1,
          "model": "B",
          "predicted PRICE": 22.295668415965917
         },
         {
          "PRICE": 20.5,
          "PTRATIO": 19.1,
          "model": "B",
          "predicted PRICE": 22.295668415965917
         },
         {
          "PRICE": 24.5,
          "PTRATIO": 19.1,
          "model": "B",
          "predicted PRICE": 22.295668415965917
         },
         {
          "PRICE": 26.2,
          "PTRATIO": 19.1,
          "model": "B",
          "predicted PRICE": 22.295668415965917
         },
         {
          "PRICE": 24.4,
          "PTRATIO": 19.1,
          "model": "B",
          "predicted PRICE": 22.295668415965917
         },
         {
          "PRICE": 24.8,
          "PTRATIO": 19.1,
          "model": "B",
          "predicted PRICE": 22.295668415965917
         },
         {
          "PRICE": 29.6,
          "PTRATIO": 19.1,
          "model": "B",
          "predicted PRICE": 22.295668415965917
         },
         {
          "PRICE": 42.8,
          "PTRATIO": 19.1,
          "model": "B",
          "predicted PRICE": 22.295668415965917
         },
         {
          "PRICE": 21.9,
          "PTRATIO": 16.4,
          "model": "B",
          "predicted PRICE": 25.923786635304108
         },
         {
          "PRICE": 20.9,
          "PTRATIO": 16.4,
          "model": "B",
          "predicted PRICE": 25.923786635304108
         },
         {
          "PRICE": 44,
          "PTRATIO": 15.9,
          "model": "B",
          "predicted PRICE": 27.81828283725162
         },
         {
          "PRICE": 50,
          "PTRATIO": 13,
          "model": "B",
          "predicted PRICE": 34.84033407365328
         },
         {
          "PRICE": 36,
          "PTRATIO": 13,
          "model": "B",
          "predicted PRICE": 34.84033407365328
         },
         {
          "PRICE": 30.1,
          "PTRATIO": 13,
          "model": "B",
          "predicted PRICE": 34.84033407365328
         },
         {
          "PRICE": 33.8,
          "PTRATIO": 13,
          "model": "B",
          "predicted PRICE": 34.84033407365328
         },
         {
          "PRICE": 43.1,
          "PTRATIO": 13,
          "model": "B",
          "predicted PRICE": 34.84033407365328
         },
         {
          "PRICE": 48.8,
          "PTRATIO": 13,
          "model": "B",
          "predicted PRICE": 34.84033407365328
         },
         {
          "PRICE": 31,
          "PTRATIO": 13,
          "model": "B",
          "predicted PRICE": 34.84033407365328
         },
         {
          "PRICE": 36.5,
          "PTRATIO": 13,
          "model": "B",
          "predicted PRICE": 34.84033407365328
         },
         {
          "PRICE": 22.8,
          "PTRATIO": 13,
          "model": "B",
          "predicted PRICE": 34.84033407365328
         },
         {
          "PRICE": 30.7,
          "PTRATIO": 13,
          "model": "B",
          "predicted PRICE": 34.84033407365328
         },
         {
          "PRICE": 50,
          "PTRATIO": 13,
          "model": "B",
          "predicted PRICE": 34.84033407365328
         },
         {
          "PRICE": 43.5,
          "PTRATIO": 13,
          "model": "B",
          "predicted PRICE": 34.84033407365328
         },
         {
          "PRICE": 20.7,
          "PTRATIO": 18.6,
          "model": "B",
          "predicted PRICE": 22.306052676526754
         },
         {
          "PRICE": 21.1,
          "PTRATIO": 18.6,
          "model": "B",
          "predicted PRICE": 22.306052676526754
         },
         {
          "PRICE": 25.2,
          "PTRATIO": 18.6,
          "model": "B",
          "predicted PRICE": 22.306052676526754
         },
         {
          "PRICE": 24.4,
          "PTRATIO": 18.6,
          "model": "B",
          "predicted PRICE": 22.306052676526754
         },
         {
          "PRICE": 35.2,
          "PTRATIO": 18.6,
          "model": "B",
          "predicted PRICE": 22.306052676526754
         },
         {
          "PRICE": 32.4,
          "PTRATIO": 17.6,
          "model": "B",
          "predicted PRICE": 22.90231100416375
         },
         {
          "PRICE": 32,
          "PTRATIO": 17.6,
          "model": "B",
          "predicted PRICE": 22.90231100416375
         },
         {
          "PRICE": 33.2,
          "PTRATIO": 17.6,
          "model": "B",
          "predicted PRICE": 22.90231100416375
         },
         {
          "PRICE": 33.1,
          "PTRATIO": 17.6,
          "model": "B",
          "predicted PRICE": 22.90231100416375
         },
         {
          "PRICE": 29.1,
          "PTRATIO": 17.6,
          "model": "B",
          "predicted PRICE": 22.90231100416375
         },
         {
          "PRICE": 35.1,
          "PTRATIO": 14.9,
          "model": "B",
          "predicted PRICE": 31.64576269902395
         },
         {
          "PRICE": 45.4,
          "PTRATIO": 14.9,
          "model": "B",
          "predicted PRICE": 31.64576269902395
         },
         {
          "PRICE": 35.4,
          "PTRATIO": 14.9,
          "model": "B",
          "predicted PRICE": 31.64576269902395
         },
         {
          "PRICE": 46,
          "PTRATIO": 14.9,
          "model": "B",
          "predicted PRICE": 31.64576269902395
         },
         {
          "PRICE": 50,
          "PTRATIO": 13.6,
          "model": "B",
          "predicted PRICE": 34.51832362971299
         },
         {
          "PRICE": 32.2,
          "PTRATIO": 15.3,
          "model": "B",
          "predicted PRICE": 30.193481146261224
         },
         {
          "PRICE": 22,
          "PTRATIO": 15.3,
          "model": "B",
          "predicted PRICE": 30.193481146261224
         },
         {
          "PRICE": 20.1,
          "PTRATIO": 18.2,
          "model": "B",
          "predicted PRICE": 22.390334355187434
         },
         {
          "PRICE": 23.2,
          "PTRATIO": 16.6,
          "model": "B",
          "predicted PRICE": 25.2432958429314
         },
         {
          "PRICE": 22.3,
          "PTRATIO": 16.6,
          "model": "B",
          "predicted PRICE": 25.2432958429314
         },
         {
          "PRICE": 24.8,
          "PTRATIO": 16.6,
          "model": "B",
          "predicted PRICE": 25.2432958429314
         },
         {
          "PRICE": 28.5,
          "PTRATIO": 19.2,
          "model": "B",
          "predicted PRICE": 22.28662985763979
         },
         {
          "PRICE": 37.3,
          "PTRATIO": 19.2,
          "model": "B",
          "predicted PRICE": 22.28662985763979
         },
         {
          "PRICE": 27.9,
          "PTRATIO": 19.2,
          "model": "B",
          "predicted PRICE": 22.28662985763979
         },
         {
          "PRICE": 23.9,
          "PTRATIO": 16,
          "model": "B",
          "predicted PRICE": 27.42419336666987
         },
         {
          "PRICE": 21.7,
          "PTRATIO": 16,
          "model": "B",
          "predicted PRICE": 27.42419336666987
         },
         {
          "PRICE": 28.6,
          "PTRATIO": 16,
          "model": "B",
          "predicted PRICE": 27.42419336666987
         },
         {
          "PRICE": 27.1,
          "PTRATIO": 16,
          "model": "B",
          "predicted PRICE": 27.42419336666987
         },
         {
          "PRICE": 20.3,
          "PTRATIO": 16,
          "model": "B",
          "predicted PRICE": 27.42419336666987
         },
         {
          "PRICE": 22.5,
          "PTRATIO": 14.8,
          "model": "B",
          "predicted PRICE": 31.97650413475063
         },
         {
          "PRICE": 29,
          "PTRATIO": 14.8,
          "model": "B",
          "predicted PRICE": 31.97650413475063
         },
         {
          "PRICE": 24.8,
          "PTRATIO": 14.8,
          "model": "B",
          "predicted PRICE": 31.97650413475063
         },
         {
          "PRICE": 22,
          "PTRATIO": 16.1,
          "model": "B",
          "predicted PRICE": 27.035857165631977
         },
         {
          "PRICE": 26.4,
          "PTRATIO": 16.1,
          "model": "B",
          "predicted PRICE": 27.035857165631977
         },
         {
          "PRICE": 33.1,
          "PTRATIO": 16.1,
          "model": "B",
          "predicted PRICE": 27.035857165631977
         },
         {
          "PRICE": 36.1,
          "PTRATIO": 18.4,
          "model": "B",
          "predicted PRICE": 22.33086875585621
         },
         {
          "PRICE": 28.4,
          "PTRATIO": 18.4,
          "model": "B",
          "predicted PRICE": 22.33086875585621
         },
         {
          "PRICE": 33.4,
          "PTRATIO": 18.4,
          "model": "B",
          "predicted PRICE": 22.33086875585621
         },
         {
          "PRICE": 28.2,
          "PTRATIO": 18.4,
          "model": "B",
          "predicted PRICE": 22.33086875585621
         },
         {
          "PRICE": 22.8,
          "PTRATIO": 18.4,
          "model": "B",
          "predicted PRICE": 22.33086875585621
         },
         {
          "PRICE": 20.3,
          "PTRATIO": 18.4,
          "model": "B",
          "predicted PRICE": 22.33086875585621
         },
         {
          "PRICE": 16.1,
          "PTRATIO": 18.4,
          "model": "B",
          "predicted PRICE": 22.33086875585621
         },
         {
          "PRICE": 22.1,
          "PTRATIO": 18.4,
          "model": "B",
          "predicted PRICE": 22.33086875585621
         },
         {
          "PRICE": 19.4,
          "PTRATIO": 18.4,
          "model": "B",
          "predicted PRICE": 22.33086875585621
         },
         {
          "PRICE": 21.6,
          "PTRATIO": 18.4,
          "model": "B",
          "predicted PRICE": 22.33086875585621
         },
         {
          "PRICE": 23.8,
          "PTRATIO": 18.4,
          "model": "B",
          "predicted PRICE": 22.33086875585621
         },
         {
          "PRICE": 16.2,
          "PTRATIO": 18.4,
          "model": "B",
          "predicted PRICE": 22.33086875585621
         },
         {
          "PRICE": 17.8,
          "PTRATIO": 18.4,
          "model": "B",
          "predicted PRICE": 22.33086875585621
         },
         {
          "PRICE": 19.8,
          "PTRATIO": 18.4,
          "model": "B",
          "predicted PRICE": 22.33086875585621
         },
         {
          "PRICE": 23.1,
          "PTRATIO": 18.4,
          "model": "B",
          "predicted PRICE": 22.33086875585621
         },
         {
          "PRICE": 21,
          "PTRATIO": 18.4,
          "model": "B",
          "predicted PRICE": 22.33086875585621
         },
         {
          "PRICE": 23.8,
          "PTRATIO": 19.6,
          "model": "B",
          "predicted PRICE": 22.163927240136267
         },
         {
          "PRICE": 23.1,
          "PTRATIO": 19.6,
          "model": "B",
          "predicted PRICE": 22.163927240136267
         },
         {
          "PRICE": 20.4,
          "PTRATIO": 19.6,
          "model": "B",
          "predicted PRICE": 22.163927240136267
         },
         {
          "PRICE": 18.5,
          "PTRATIO": 19.6,
          "model": "B",
          "predicted PRICE": 22.163927240136267
         },
         {
          "PRICE": 25,
          "PTRATIO": 19.6,
          "model": "B",
          "predicted PRICE": 22.163927240136267
         },
         {
          "PRICE": 24.6,
          "PTRATIO": 19.6,
          "model": "B",
          "predicted PRICE": 22.163927240136267
         },
         {
          "PRICE": 23,
          "PTRATIO": 19.6,
          "model": "B",
          "predicted PRICE": 22.163927240136267
         },
         {
          "PRICE": 22.2,
          "PTRATIO": 19.6,
          "model": "B",
          "predicted PRICE": 22.163927240136267
         },
         {
          "PRICE": 19.3,
          "PTRATIO": 16.9,
          "model": "B",
          "predicted PRICE": 24.341751974531267
         },
         {
          "PRICE": 22.6,
          "PTRATIO": 16.9,
          "model": "B",
          "predicted PRICE": 24.341751974531267
         },
         {
          "PRICE": 19.8,
          "PTRATIO": 16.9,
          "model": "B",
          "predicted PRICE": 24.341751974531267
         },
         {
          "PRICE": 17.1,
          "PTRATIO": 16.9,
          "model": "B",
          "predicted PRICE": 24.341751974531267
         },
         {
          "PRICE": 19.4,
          "PTRATIO": 16.9,
          "model": "B",
          "predicted PRICE": 24.341751974531267
         },
         {
          "PRICE": 22.2,
          "PTRATIO": 20.2,
          "model": "B",
          "predicted PRICE": 21.55164103553395
         },
         {
          "PRICE": 20.7,
          "PTRATIO": 20.2,
          "model": "B",
          "predicted PRICE": 21.55164103553395
         },
         {
          "PRICE": 21.1,
          "PTRATIO": 20.2,
          "model": "B",
          "predicted PRICE": 21.55164103553395
         },
         {
          "PRICE": 19.5,
          "PTRATIO": 20.2,
          "model": "B",
          "predicted PRICE": 21.55164103553395
         },
         {
          "PRICE": 18.5,
          "PTRATIO": 20.2,
          "model": "B",
          "predicted PRICE": 21.55164103553395
         },
         {
          "PRICE": 20.6,
          "PTRATIO": 20.2,
          "model": "B",
          "predicted PRICE": 21.55164103553395
         },
         {
          "PRICE": 19,
          "PTRATIO": 20.2,
          "model": "B",
          "predicted PRICE": 21.55164103553395
         },
         {
          "PRICE": 18.7,
          "PTRATIO": 20.2,
          "model": "B",
          "predicted PRICE": 21.55164103553395
         },
         {
          "PRICE": 32.7,
          "PTRATIO": 15.5,
          "model": "B",
          "predicted PRICE": 29.412934963875593
         },
         {
          "PRICE": 16.5,
          "PTRATIO": 15.9,
          "model": "B",
          "predicted PRICE": 27.81828283725162
         },
         {
          "PRICE": 23.9,
          "PTRATIO": 17.6,
          "model": "B",
          "predicted PRICE": 22.90231100416375
         },
         {
          "PRICE": 31.2,
          "PTRATIO": 17.6,
          "model": "B",
          "predicted PRICE": 22.90231100416375
         },
         {
          "PRICE": 17.5,
          "PTRATIO": 18.8,
          "model": "B",
          "predicted PRICE": 22.300928718243263
         },
         {
          "PRICE": 17.2,
          "PTRATIO": 18.8,
          "model": "B",
          "predicted PRICE": 22.300928718243263
         },
         {
          "PRICE": 23.1,
          "PTRATIO": 17.9,
          "model": "B",
          "predicted PRICE": 22.573685776677024
         },
         {
          "PRICE": 24.5,
          "PTRATIO": 17,
          "model": "B",
          "predicted PRICE": 24.077205016240885
         },
         {
          "PRICE": 26.6,
          "PTRATIO": 19.7,
          "model": "B",
          "predicted PRICE": 22.103146830704297
         },
         {
          "PRICE": 22.9,
          "PTRATIO": 19.7,
          "model": "B",
          "predicted PRICE": 22.103146830704297
         },
         {
          "PRICE": 24.1,
          "PTRATIO": 18.3,
          "model": "B",
          "predicted PRICE": 22.355382820746534
         },
         {
          "PRICE": 18.6,
          "PTRATIO": 18.3,
          "model": "B",
          "predicted PRICE": 22.355382820746534
         },
         {
          "PRICE": 30.1,
          "PTRATIO": 17,
          "model": "B",
          "predicted PRICE": 24.077205016240885
         },
         {
          "PRICE": 18.2,
          "PTRATIO": 22,
          "model": "B",
          "predicted PRICE": 15.982297381419192
         },
         {
          "PRICE": 20.6,
          "PTRATIO": 22,
          "model": "B",
          "predicted PRICE": 15.982297381419192
         },
         {
          "PRICE": 17.8,
          "PTRATIO": 20.2,
          "model": "B",
          "predicted PRICE": 21.55164103553395
         },
         {
          "PRICE": 21.7,
          "PTRATIO": 20.2,
          "model": "B",
          "predicted PRICE": 21.55164103553395
         },
         {
          "PRICE": 22.7,
          "PTRATIO": 20.2,
          "model": "B",
          "predicted PRICE": 21.55164103553395
         },
         {
          "PRICE": 22.6,
          "PTRATIO": 20.2,
          "model": "B",
          "predicted PRICE": 21.55164103553395
         },
         {
          "PRICE": 25,
          "PTRATIO": 20.2,
          "model": "B",
          "predicted PRICE": 21.55164103553395
         },
         {
          "PRICE": 19.9,
          "PTRATIO": 20.2,
          "model": "B",
          "predicted PRICE": 21.55164103553395
         },
         {
          "PRICE": 20.8,
          "PTRATIO": 20.2,
          "model": "B",
          "predicted PRICE": 21.55164103553395
         },
         {
          "PRICE": 16.8,
          "PTRATIO": 20.2,
          "model": "B",
          "predicted PRICE": 21.55164103553395
         },
         {
          "PRICE": 21.9,
          "PTRATIO": 20.2,
          "model": "B",
          "predicted PRICE": 21.55164103553395
         },
         {
          "PRICE": 27.5,
          "PTRATIO": 20.2,
          "model": "B",
          "predicted PRICE": 21.55164103553395
         },
         {
          "PRICE": 21.9,
          "PTRATIO": 20.2,
          "model": "B",
          "predicted PRICE": 21.55164103553395
         },
         {
          "PRICE": 23.1,
          "PTRATIO": 20.2,
          "model": "B",
          "predicted PRICE": 21.55164103553395
         },
         {
          "PRICE": 50,
          "PTRATIO": 20.2,
          "model": "B",
          "predicted PRICE": 21.55164103553395
         },
         {
          "PRICE": 50,
          "PTRATIO": 20.2,
          "model": "B",
          "predicted PRICE": 21.55164103553395
         },
         {
          "PRICE": 50,
          "PTRATIO": 20.2,
          "model": "B",
          "predicted PRICE": 21.55164103553395
         },
         {
          "PRICE": 50,
          "PTRATIO": 20.2,
          "model": "B",
          "predicted PRICE": 21.55164103553395
         },
         {
          "PRICE": 50,
          "PTRATIO": 20.2,
          "model": "B",
          "predicted PRICE": 21.55164103553395
         },
         {
          "PRICE": 13.8,
          "PTRATIO": 20.2,
          "model": "B",
          "predicted PRICE": 21.55164103553395
         },
         {
          "PRICE": 13.8,
          "PTRATIO": 20.2,
          "model": "B",
          "predicted PRICE": 21.55164103553395
         },
         {
          "PRICE": 15,
          "PTRATIO": 20.2,
          "model": "B",
          "predicted PRICE": 21.55164103553395
         },
         {
          "PRICE": 13.9,
          "PTRATIO": 20.2,
          "model": "B",
          "predicted PRICE": 21.55164103553395
         },
         {
          "PRICE": 13.3,
          "PTRATIO": 20.2,
          "model": "B",
          "predicted PRICE": 21.55164103553395
         },
         {
          "PRICE": 13.1,
          "PTRATIO": 20.2,
          "model": "B",
          "predicted PRICE": 21.55164103553395
         },
         {
          "PRICE": 10.2,
          "PTRATIO": 20.2,
          "model": "B",
          "predicted PRICE": 21.55164103553395
         },
         {
          "PRICE": 10.4,
          "PTRATIO": 20.2,
          "model": "B",
          "predicted PRICE": 21.55164103553395
         },
         {
          "PRICE": 10.9,
          "PTRATIO": 20.2,
          "model": "B",
          "predicted PRICE": 21.55164103553395
         },
         {
          "PRICE": 11.3,
          "PTRATIO": 20.2,
          "model": "B",
          "predicted PRICE": 21.55164103553395
         },
         {
          "PRICE": 12.3,
          "PTRATIO": 20.2,
          "model": "B",
          "predicted PRICE": 21.55164103553395
         },
         {
          "PRICE": 8.8,
          "PTRATIO": 20.2,
          "model": "B",
          "predicted PRICE": 21.55164103553395
         },
         {
          "PRICE": 7.2,
          "PTRATIO": 20.2,
          "model": "B",
          "predicted PRICE": 21.55164103553395
         },
         {
          "PRICE": 10.5,
          "PTRATIO": 20.2,
          "model": "B",
          "predicted PRICE": 21.55164103553395
         },
         {
          "PRICE": 7.4,
          "PTRATIO": 20.2,
          "model": "B",
          "predicted PRICE": 21.55164103553395
         },
         {
          "PRICE": 10.2,
          "PTRATIO": 20.2,
          "model": "B",
          "predicted PRICE": 21.55164103553395
         },
         {
          "PRICE": 11.5,
          "PTRATIO": 20.2,
          "model": "B",
          "predicted PRICE": 21.55164103553395
         },
         {
          "PRICE": 15.1,
          "PTRATIO": 20.2,
          "model": "B",
          "predicted PRICE": 21.55164103553395
         },
         {
          "PRICE": 23.2,
          "PTRATIO": 20.2,
          "model": "B",
          "predicted PRICE": 21.55164103553395
         },
         {
          "PRICE": 9.7,
          "PTRATIO": 20.2,
          "model": "B",
          "predicted PRICE": 21.55164103553395
         },
         {
          "PRICE": 13.8,
          "PTRATIO": 20.2,
          "model": "B",
          "predicted PRICE": 21.55164103553395
         },
         {
          "PRICE": 12.7,
          "PTRATIO": 20.2,
          "model": "B",
          "predicted PRICE": 21.55164103553395
         },
         {
          "PRICE": 13.1,
          "PTRATIO": 20.2,
          "model": "B",
          "predicted PRICE": 21.55164103553395
         },
         {
          "PRICE": 12.5,
          "PTRATIO": 20.2,
          "model": "B",
          "predicted PRICE": 21.55164103553395
         },
         {
          "PRICE": 8.5,
          "PTRATIO": 20.2,
          "model": "B",
          "predicted PRICE": 21.55164103553395
         },
         {
          "PRICE": 5,
          "PTRATIO": 20.2,
          "model": "B",
          "predicted PRICE": 21.55164103553395
         },
         {
          "PRICE": 6.3,
          "PTRATIO": 20.2,
          "model": "B",
          "predicted PRICE": 21.55164103553395
         },
         {
          "PRICE": 5.6,
          "PTRATIO": 20.2,
          "model": "B",
          "predicted PRICE": 21.55164103553395
         },
         {
          "PRICE": 7.2,
          "PTRATIO": 20.2,
          "model": "B",
          "predicted PRICE": 21.55164103553395
         },
         {
          "PRICE": 12.1,
          "PTRATIO": 20.2,
          "model": "B",
          "predicted PRICE": 21.55164103553395
         },
         {
          "PRICE": 8.3,
          "PTRATIO": 20.2,
          "model": "B",
          "predicted PRICE": 21.55164103553395
         },
         {
          "PRICE": 8.5,
          "PTRATIO": 20.2,
          "model": "B",
          "predicted PRICE": 21.55164103553395
         },
         {
          "PRICE": 5,
          "PTRATIO": 20.2,
          "model": "B",
          "predicted PRICE": 21.55164103553395
         },
         {
          "PRICE": 11.9,
          "PTRATIO": 20.2,
          "model": "B",
          "predicted PRICE": 21.55164103553395
         },
         {
          "PRICE": 27.9,
          "PTRATIO": 20.2,
          "model": "B",
          "predicted PRICE": 21.55164103553395
         },
         {
          "PRICE": 17.2,
          "PTRATIO": 20.2,
          "model": "B",
          "predicted PRICE": 21.55164103553395
         },
         {
          "PRICE": 27.5,
          "PTRATIO": 20.2,
          "model": "B",
          "predicted PRICE": 21.55164103553395
         },
         {
          "PRICE": 15,
          "PTRATIO": 20.2,
          "model": "B",
          "predicted PRICE": 21.55164103553395
         },
         {
          "PRICE": 17.2,
          "PTRATIO": 20.2,
          "model": "B",
          "predicted PRICE": 21.55164103553395
         },
         {
          "PRICE": 17.9,
          "PTRATIO": 20.2,
          "model": "B",
          "predicted PRICE": 21.55164103553395
         },
         {
          "PRICE": 16.3,
          "PTRATIO": 20.2,
          "model": "B",
          "predicted PRICE": 21.55164103553395
         },
         {
          "PRICE": 7,
          "PTRATIO": 20.2,
          "model": "B",
          "predicted PRICE": 21.55164103553395
         },
         {
          "PRICE": 7.2,
          "PTRATIO": 20.2,
          "model": "B",
          "predicted PRICE": 21.55164103553395
         },
         {
          "PRICE": 7.5,
          "PTRATIO": 20.2,
          "model": "B",
          "predicted PRICE": 21.55164103553395
         },
         {
          "PRICE": 10.4,
          "PTRATIO": 20.2,
          "model": "B",
          "predicted PRICE": 21.55164103553395
         },
         {
          "PRICE": 8.8,
          "PTRATIO": 20.2,
          "model": "B",
          "predicted PRICE": 21.55164103553395
         },
         {
          "PRICE": 8.4,
          "PTRATIO": 20.2,
          "model": "B",
          "predicted PRICE": 21.55164103553395
         },
         {
          "PRICE": 16.7,
          "PTRATIO": 20.2,
          "model": "B",
          "predicted PRICE": 21.55164103553395
         },
         {
          "PRICE": 14.2,
          "PTRATIO": 20.2,
          "model": "B",
          "predicted PRICE": 21.55164103553395
         },
         {
          "PRICE": 20.8,
          "PTRATIO": 20.2,
          "model": "B",
          "predicted PRICE": 21.55164103553395
         },
         {
          "PRICE": 13.4,
          "PTRATIO": 20.2,
          "model": "B",
          "predicted PRICE": 21.55164103553395
         },
         {
          "PRICE": 11.7,
          "PTRATIO": 20.2,
          "model": "B",
          "predicted PRICE": 21.55164103553395
         },
         {
          "PRICE": 8.3,
          "PTRATIO": 20.2,
          "model": "B",
          "predicted PRICE": 21.55164103553395
         },
         {
          "PRICE": 10.2,
          "PTRATIO": 20.2,
          "model": "B",
          "predicted PRICE": 21.55164103553395
         },
         {
          "PRICE": 10.9,
          "PTRATIO": 20.2,
          "model": "B",
          "predicted PRICE": 21.55164103553395
         },
         {
          "PRICE": 11,
          "PTRATIO": 20.2,
          "model": "B",
          "predicted PRICE": 21.55164103553395
         },
         {
          "PRICE": 9.5,
          "PTRATIO": 20.2,
          "model": "B",
          "predicted PRICE": 21.55164103553395
         },
         {
          "PRICE": 14.5,
          "PTRATIO": 20.2,
          "model": "B",
          "predicted PRICE": 21.55164103553395
         },
         {
          "PRICE": 14.1,
          "PTRATIO": 20.2,
          "model": "B",
          "predicted PRICE": 21.55164103553395
         },
         {
          "PRICE": 16.1,
          "PTRATIO": 20.2,
          "model": "B",
          "predicted PRICE": 21.55164103553395
         },
         {
          "PRICE": 14.3,
          "PTRATIO": 20.2,
          "model": "B",
          "predicted PRICE": 21.55164103553395
         },
         {
          "PRICE": 11.7,
          "PTRATIO": 20.2,
          "model": "B",
          "predicted PRICE": 21.55164103553395
         },
         {
          "PRICE": 13.4,
          "PTRATIO": 20.2,
          "model": "B",
          "predicted PRICE": 21.55164103553395
         },
         {
          "PRICE": 9.6,
          "PTRATIO": 20.2,
          "model": "B",
          "predicted PRICE": 21.55164103553395
         },
         {
          "PRICE": 8.7,
          "PTRATIO": 20.2,
          "model": "B",
          "predicted PRICE": 21.55164103553395
         },
         {
          "PRICE": 8.4,
          "PTRATIO": 20.2,
          "model": "B",
          "predicted PRICE": 21.55164103553395
         },
         {
          "PRICE": 12.8,
          "PTRATIO": 20.2,
          "model": "B",
          "predicted PRICE": 21.55164103553395
         },
         {
          "PRICE": 10.5,
          "PTRATIO": 20.2,
          "model": "B",
          "predicted PRICE": 21.55164103553395
         },
         {
          "PRICE": 17.1,
          "PTRATIO": 20.2,
          "model": "B",
          "predicted PRICE": 21.55164103553395
         },
         {
          "PRICE": 18.4,
          "PTRATIO": 20.2,
          "model": "B",
          "predicted PRICE": 21.55164103553395
         },
         {
          "PRICE": 15.4,
          "PTRATIO": 20.2,
          "model": "B",
          "predicted PRICE": 21.55164103553395
         },
         {
          "PRICE": 10.8,
          "PTRATIO": 20.2,
          "model": "B",
          "predicted PRICE": 21.55164103553395
         },
         {
          "PRICE": 11.8,
          "PTRATIO": 20.2,
          "model": "B",
          "predicted PRICE": 21.55164103553395
         },
         {
          "PRICE": 14.9,
          "PTRATIO": 20.2,
          "model": "B",
          "predicted PRICE": 21.55164103553395
         },
         {
          "PRICE": 12.6,
          "PTRATIO": 20.2,
          "model": "B",
          "predicted PRICE": 21.55164103553395
         },
         {
          "PRICE": 14.1,
          "PTRATIO": 20.2,
          "model": "B",
          "predicted PRICE": 21.55164103553395
         },
         {
          "PRICE": 13,
          "PTRATIO": 20.2,
          "model": "B",
          "predicted PRICE": 21.55164103553395
         },
         {
          "PRICE": 13.4,
          "PTRATIO": 20.2,
          "model": "B",
          "predicted PRICE": 21.55164103553395
         },
         {
          "PRICE": 15.2,
          "PTRATIO": 20.2,
          "model": "B",
          "predicted PRICE": 21.55164103553395
         },
         {
          "PRICE": 16.1,
          "PTRATIO": 20.2,
          "model": "B",
          "predicted PRICE": 21.55164103553395
         },
         {
          "PRICE": 17.8,
          "PTRATIO": 20.2,
          "model": "B",
          "predicted PRICE": 21.55164103553395
         },
         {
          "PRICE": 14.9,
          "PTRATIO": 20.2,
          "model": "B",
          "predicted PRICE": 21.55164103553395
         },
         {
          "PRICE": 14.1,
          "PTRATIO": 20.2,
          "model": "B",
          "predicted PRICE": 21.55164103553395
         },
         {
          "PRICE": 12.7,
          "PTRATIO": 20.2,
          "model": "B",
          "predicted PRICE": 21.55164103553395
         },
         {
          "PRICE": 13.5,
          "PTRATIO": 20.2,
          "model": "B",
          "predicted PRICE": 21.55164103553395
         },
         {
          "PRICE": 14.9,
          "PTRATIO": 20.2,
          "model": "B",
          "predicted PRICE": 21.55164103553395
         },
         {
          "PRICE": 20,
          "PTRATIO": 20.2,
          "model": "B",
          "predicted PRICE": 21.55164103553395
         },
         {
          "PRICE": 16.4,
          "PTRATIO": 20.2,
          "model": "B",
          "predicted PRICE": 21.55164103553395
         },
         {
          "PRICE": 17.7,
          "PTRATIO": 20.2,
          "model": "B",
          "predicted PRICE": 21.55164103553395
         },
         {
          "PRICE": 19.5,
          "PTRATIO": 20.2,
          "model": "B",
          "predicted PRICE": 21.55164103553395
         },
         {
          "PRICE": 20.2,
          "PTRATIO": 20.2,
          "model": "B",
          "predicted PRICE": 21.55164103553395
         },
         {
          "PRICE": 21.4,
          "PTRATIO": 20.2,
          "model": "B",
          "predicted PRICE": 21.55164103553395
         },
         {
          "PRICE": 19.9,
          "PTRATIO": 20.2,
          "model": "B",
          "predicted PRICE": 21.55164103553395
         },
         {
          "PRICE": 19,
          "PTRATIO": 20.2,
          "model": "B",
          "predicted PRICE": 21.55164103553395
         },
         {
          "PRICE": 19.1,
          "PTRATIO": 20.2,
          "model": "B",
          "predicted PRICE": 21.55164103553395
         },
         {
          "PRICE": 19.1,
          "PTRATIO": 20.2,
          "model": "B",
          "predicted PRICE": 21.55164103553395
         },
         {
          "PRICE": 20.1,
          "PTRATIO": 20.2,
          "model": "B",
          "predicted PRICE": 21.55164103553395
         },
         {
          "PRICE": 19.9,
          "PTRATIO": 20.2,
          "model": "B",
          "predicted PRICE": 21.55164103553395
         },
         {
          "PRICE": 19.6,
          "PTRATIO": 20.2,
          "model": "B",
          "predicted PRICE": 21.55164103553395
         },
         {
          "PRICE": 23.2,
          "PTRATIO": 20.2,
          "model": "B",
          "predicted PRICE": 21.55164103553395
         },
         {
          "PRICE": 29.8,
          "PTRATIO": 20.2,
          "model": "B",
          "predicted PRICE": 21.55164103553395
         },
         {
          "PRICE": 13.8,
          "PTRATIO": 20.2,
          "model": "B",
          "predicted PRICE": 21.55164103553395
         },
         {
          "PRICE": 13.3,
          "PTRATIO": 20.2,
          "model": "B",
          "predicted PRICE": 21.55164103553395
         },
         {
          "PRICE": 16.7,
          "PTRATIO": 20.2,
          "model": "B",
          "predicted PRICE": 21.55164103553395
         },
         {
          "PRICE": 12,
          "PTRATIO": 20.2,
          "model": "B",
          "predicted PRICE": 21.55164103553395
         },
         {
          "PRICE": 14.6,
          "PTRATIO": 20.2,
          "model": "B",
          "predicted PRICE": 21.55164103553395
         },
         {
          "PRICE": 21.4,
          "PTRATIO": 20.2,
          "model": "B",
          "predicted PRICE": 21.55164103553395
         },
         {
          "PRICE": 23,
          "PTRATIO": 20.2,
          "model": "B",
          "predicted PRICE": 21.55164103553395
         },
         {
          "PRICE": 23.7,
          "PTRATIO": 20.2,
          "model": "B",
          "predicted PRICE": 21.55164103553395
         },
         {
          "PRICE": 25,
          "PTRATIO": 20.2,
          "model": "B",
          "predicted PRICE": 21.55164103553395
         },
         {
          "PRICE": 21.8,
          "PTRATIO": 20.2,
          "model": "B",
          "predicted PRICE": 21.55164103553395
         },
         {
          "PRICE": 20.6,
          "PTRATIO": 20.2,
          "model": "B",
          "predicted PRICE": 21.55164103553395
         },
         {
          "PRICE": 21.2,
          "PTRATIO": 20.2,
          "model": "B",
          "predicted PRICE": 21.55164103553395
         },
         {
          "PRICE": 19.1,
          "PTRATIO": 20.2,
          "model": "B",
          "predicted PRICE": 21.55164103553395
         },
         {
          "PRICE": 20.6,
          "PTRATIO": 20.2,
          "model": "B",
          "predicted PRICE": 21.55164103553395
         },
         {
          "PRICE": 15.2,
          "PTRATIO": 20.1,
          "model": "B",
          "predicted PRICE": 21.698249107295787
         },
         {
          "PRICE": 7,
          "PTRATIO": 20.1,
          "model": "B",
          "predicted PRICE": 21.698249107295787
         },
         {
          "PRICE": 8.1,
          "PTRATIO": 20.1,
          "model": "B",
          "predicted PRICE": 21.698249107295787
         },
         {
          "PRICE": 13.6,
          "PTRATIO": 20.1,
          "model": "B",
          "predicted PRICE": 21.698249107295787
         },
         {
          "PRICE": 20.1,
          "PTRATIO": 20.1,
          "model": "B",
          "predicted PRICE": 21.698249107295787
         },
         {
          "PRICE": 21.8,
          "PTRATIO": 19.2,
          "model": "B",
          "predicted PRICE": 22.28662985763979
         },
         {
          "PRICE": 24.5,
          "PTRATIO": 19.2,
          "model": "B",
          "predicted PRICE": 22.28662985763979
         },
         {
          "PRICE": 23.1,
          "PTRATIO": 19.2,
          "model": "B",
          "predicted PRICE": 22.28662985763979
         },
         {
          "PRICE": 19.7,
          "PTRATIO": 19.2,
          "model": "B",
          "predicted PRICE": 22.28662985763979
         },
         {
          "PRICE": 18.3,
          "PTRATIO": 19.2,
          "model": "B",
          "predicted PRICE": 22.28662985763979
         },
         {
          "PRICE": 21.2,
          "PTRATIO": 19.2,
          "model": "B",
          "predicted PRICE": 22.28662985763979
         },
         {
          "PRICE": 17.5,
          "PTRATIO": 19.2,
          "model": "B",
          "predicted PRICE": 22.28662985763979
         },
         {
          "PRICE": 16.8,
          "PTRATIO": 19.2,
          "model": "B",
          "predicted PRICE": 22.28662985763979
         },
         {
          "PRICE": 22.4,
          "PTRATIO": 21,
          "model": "B",
          "predicted PRICE": 19.673311277072113
         },
         {
          "PRICE": 20.6,
          "PTRATIO": 21,
          "model": "B",
          "predicted PRICE": 19.673311277072113
         },
         {
          "PRICE": 23.9,
          "PTRATIO": 21,
          "model": "B",
          "predicted PRICE": 19.673311277072113
         },
         {
          "PRICE": 22,
          "PTRATIO": 21,
          "model": "B",
          "predicted PRICE": 19.673311277072113
         },
         {
          "PRICE": 11.9,
          "PTRATIO": 21,
          "model": "B",
          "predicted PRICE": 19.673311277072113
         },
         {
          "PRICE": 24,
          "PTRATIO": 15.3,
          "model": "C",
          "predicted PRICE": 24.23666666666667
         },
         {
          "PRICE": 21.6,
          "PTRATIO": 17.8,
          "model": "C",
          "predicted PRICE": 34.98666666666667
         },
         {
          "PRICE": 34.7,
          "PTRATIO": 17.8,
          "model": "C",
          "predicted PRICE": 34.98666666666667
         },
         {
          "PRICE": 33.4,
          "PTRATIO": 18.7,
          "model": "C",
          "predicted PRICE": 37.836666666666666
         },
         {
          "PRICE": 36.2,
          "PTRATIO": 18.7,
          "model": "C",
          "predicted PRICE": 37.836666666666666
         },
         {
          "PRICE": 28.7,
          "PTRATIO": 18.7,
          "model": "C",
          "predicted PRICE": 37.836666666666666
         },
         {
          "PRICE": 22.9,
          "PTRATIO": 15.2,
          "model": "C",
          "predicted PRICE": 23.719999999999995
         },
         {
          "PRICE": 27.1,
          "PTRATIO": 15.2,
          "model": "C",
          "predicted PRICE": 23.719999999999995
         },
         {
          "PRICE": 16.5,
          "PTRATIO": 15.2,
          "model": "C",
          "predicted PRICE": 23.719999999999995
         },
         {
          "PRICE": 18.9,
          "PTRATIO": 15.2,
          "model": "C",
          "predicted PRICE": 23.719999999999995
         },
         {
          "PRICE": 15,
          "PTRATIO": 15.2,
          "model": "C",
          "predicted PRICE": 23.719999999999995
         },
         {
          "PRICE": 18.9,
          "PTRATIO": 15.2,
          "model": "C",
          "predicted PRICE": 23.719999999999995
         },
         {
          "PRICE": 21.7,
          "PTRATIO": 15.2,
          "model": "C",
          "predicted PRICE": 23.719999999999995
         },
         {
          "PRICE": 20.4,
          "PTRATIO": 21,
          "model": "C",
          "predicted PRICE": 42.666666666666664
         },
         {
          "PRICE": 18.2,
          "PTRATIO": 21,
          "model": "C",
          "predicted PRICE": 42.666666666666664
         },
         {
          "PRICE": 19.9,
          "PTRATIO": 21,
          "model": "C",
          "predicted PRICE": 42.666666666666664
         },
         {
          "PRICE": 23.1,
          "PTRATIO": 21,
          "model": "C",
          "predicted PRICE": 42.666666666666664
         },
         {
          "PRICE": 17.5,
          "PTRATIO": 21,
          "model": "C",
          "predicted PRICE": 42.666666666666664
         },
         {
          "PRICE": 20.2,
          "PTRATIO": 21,
          "model": "C",
          "predicted PRICE": 42.666666666666664
         },
         {
          "PRICE": 18.2,
          "PTRATIO": 21,
          "model": "C",
          "predicted PRICE": 42.666666666666664
         },
         {
          "PRICE": 13.6,
          "PTRATIO": 21,
          "model": "C",
          "predicted PRICE": 42.666666666666664
         },
         {
          "PRICE": 19.6,
          "PTRATIO": 21,
          "model": "C",
          "predicted PRICE": 42.666666666666664
         },
         {
          "PRICE": 15.2,
          "PTRATIO": 21,
          "model": "C",
          "predicted PRICE": 42.666666666666664
         },
         {
          "PRICE": 14.5,
          "PTRATIO": 21,
          "model": "C",
          "predicted PRICE": 42.666666666666664
         },
         {
          "PRICE": 15.6,
          "PTRATIO": 21,
          "model": "C",
          "predicted PRICE": 42.666666666666664
         },
         {
          "PRICE": 13.9,
          "PTRATIO": 21,
          "model": "C",
          "predicted PRICE": 42.666666666666664
         },
         {
          "PRICE": 16.6,
          "PTRATIO": 21,
          "model": "C",
          "predicted PRICE": 42.666666666666664
         },
         {
          "PRICE": 14.8,
          "PTRATIO": 21,
          "model": "C",
          "predicted PRICE": 42.666666666666664
         },
         {
          "PRICE": 18.4,
          "PTRATIO": 21,
          "model": "C",
          "predicted PRICE": 42.666666666666664
         },
         {
          "PRICE": 21,
          "PTRATIO": 21,
          "model": "C",
          "predicted PRICE": 42.666666666666664
         },
         {
          "PRICE": 12.7,
          "PTRATIO": 21,
          "model": "C",
          "predicted PRICE": 42.666666666666664
         },
         {
          "PRICE": 14.5,
          "PTRATIO": 21,
          "model": "C",
          "predicted PRICE": 42.666666666666664
         },
         {
          "PRICE": 13.2,
          "PTRATIO": 21,
          "model": "C",
          "predicted PRICE": 42.666666666666664
         },
         {
          "PRICE": 13.1,
          "PTRATIO": 21,
          "model": "C",
          "predicted PRICE": 42.666666666666664
         },
         {
          "PRICE": 13.5,
          "PTRATIO": 21,
          "model": "C",
          "predicted PRICE": 42.666666666666664
         },
         {
          "PRICE": 18.9,
          "PTRATIO": 19.2,
          "model": "C",
          "predicted PRICE": 39.18666666666667
         },
         {
          "PRICE": 20,
          "PTRATIO": 19.2,
          "model": "C",
          "predicted PRICE": 39.18666666666667
         },
         {
          "PRICE": 21,
          "PTRATIO": 19.2,
          "model": "C",
          "predicted PRICE": 39.18666666666667
         },
         {
          "PRICE": 24.7,
          "PTRATIO": 19.2,
          "model": "C",
          "predicted PRICE": 39.18666666666667
         },
         {
          "PRICE": 30.8,
          "PTRATIO": 18.3,
          "model": "C",
          "predicted PRICE": 36.63666666666667
         },
         {
          "PRICE": 34.9,
          "PTRATIO": 18.3,
          "model": "C",
          "predicted PRICE": 36.63666666666667
         },
         {
          "PRICE": 26.6,
          "PTRATIO": 17.9,
          "model": "C",
          "predicted PRICE": 35.33
         },
         {
          "PRICE": 25.3,
          "PTRATIO": 17.9,
          "model": "C",
          "predicted PRICE": 35.33
         },
         {
          "PRICE": 24.7,
          "PTRATIO": 17.9,
          "model": "C",
          "predicted PRICE": 35.33
         },
         {
          "PRICE": 21.2,
          "PTRATIO": 17.9,
          "model": "C",
          "predicted PRICE": 35.33
         },
         {
          "PRICE": 19.3,
          "PTRATIO": 17.9,
          "model": "C",
          "predicted PRICE": 35.33
         },
         {
          "PRICE": 20,
          "PTRATIO": 17.9,
          "model": "C",
          "predicted PRICE": 35.33
         },
         {
          "PRICE": 16.6,
          "PTRATIO": 17.9,
          "model": "C",
          "predicted PRICE": 35.33
         },
         {
          "PRICE": 14.4,
          "PTRATIO": 17.9,
          "model": "C",
          "predicted PRICE": 35.33
         },
         {
          "PRICE": 19.4,
          "PTRATIO": 17.9,
          "model": "C",
          "predicted PRICE": 35.33
         },
         {
          "PRICE": 19.7,
          "PTRATIO": 16.8,
          "model": "C",
          "predicted PRICE": 31.18666666666667
         },
         {
          "PRICE": 20.5,
          "PTRATIO": 16.8,
          "model": "C",
          "predicted PRICE": 31.18666666666667
         },
         {
          "PRICE": 25,
          "PTRATIO": 16.8,
          "model": "C",
          "predicted PRICE": 31.18666666666667
         },
         {
          "PRICE": 23.4,
          "PTRATIO": 16.8,
          "model": "C",
          "predicted PRICE": 31.18666666666667
         },
         {
          "PRICE": 18.9,
          "PTRATIO": 21.1,
          "model": "C",
          "predicted PRICE": 42.79666666666667
         },
         {
          "PRICE": 35.4,
          "PTRATIO": 17.9,
          "model": "C",
          "predicted PRICE": 35.33
         },
         {
          "PRICE": 24.7,
          "PTRATIO": 17.3,
          "model": "C",
          "predicted PRICE": 33.17
         },
         {
          "PRICE": 31.6,
          "PTRATIO": 15.1,
          "model": "C",
          "predicted PRICE": 23.196666666666665
         },
         {
          "PRICE": 23.3,
          "PTRATIO": 19.7,
          "model": "C",
          "predicted PRICE": 40.37
         },
         {
          "PRICE": 19.6,
          "PTRATIO": 19.7,
          "model": "C",
          "predicted PRICE": 40.37
         },
         {
          "PRICE": 18.7,
          "PTRATIO": 19.7,
          "model": "C",
          "predicted PRICE": 40.37
         },
         {
          "PRICE": 16,
          "PTRATIO": 19.7,
          "model": "C",
          "predicted PRICE": 40.37
         },
         {
          "PRICE": 22.2,
          "PTRATIO": 19.7,
          "model": "C",
          "predicted PRICE": 40.37
         },
         {
          "PRICE": 25,
          "PTRATIO": 19.7,
          "model": "C",
          "predicted PRICE": 40.37
         },
         {
          "PRICE": 33,
          "PTRATIO": 18.6,
          "model": "C",
          "predicted PRICE": 37.546666666666674
         },
         {
          "PRICE": 23.5,
          "PTRATIO": 16.1,
          "model": "C",
          "predicted PRICE": 28.130000000000006
         },
         {
          "PRICE": 19.4,
          "PTRATIO": 16.1,
          "model": "C",
          "predicted PRICE": 28.130000000000006
         },
         {
          "PRICE": 22,
          "PTRATIO": 18.9,
          "model": "C",
          "predicted PRICE": 38.39666666666666
         },
         {
          "PRICE": 17.4,
          "PTRATIO": 18.9,
          "model": "C",
          "predicted PRICE": 38.39666666666666
         },
         {
          "PRICE": 20.9,
          "PTRATIO": 18.9,
          "model": "C",
          "predicted PRICE": 38.39666666666666
         },
         {
          "PRICE": 24.2,
          "PTRATIO": 19.2,
          "model": "C",
          "predicted PRICE": 39.18666666666667
         },
         {
          "PRICE": 21.7,
          "PTRATIO": 19.2,
          "model": "C",
          "predicted PRICE": 39.18666666666667
         },
         {
          "PRICE": 22.8,
          "PTRATIO": 19.2,
          "model": "C",
          "predicted PRICE": 39.18666666666667
         },
         {
          "PRICE": 23.4,
          "PTRATIO": 19.2,
          "model": "C",
          "predicted PRICE": 39.18666666666667
         },
         {
          "PRICE": 24.1,
          "PTRATIO": 18.7,
          "model": "C",
          "predicted PRICE": 37.836666666666666
         },
         {
          "PRICE": 21.4,
          "PTRATIO": 18.7,
          "model": "C",
          "predicted PRICE": 37.836666666666666
         },
         {
          "PRICE": 20,
          "PTRATIO": 18.7,
          "model": "C",
          "predicted PRICE": 37.836666666666666
         },
         {
          "PRICE": 20.8,
          "PTRATIO": 18.7,
          "model": "C",
          "predicted PRICE": 37.836666666666666
         },
         {
          "PRICE": 21.2,
          "PTRATIO": 18.7,
          "model": "C",
          "predicted PRICE": 37.836666666666666
         },
         {
          "PRICE": 20.3,
          "PTRATIO": 18.7,
          "model": "C",
          "predicted PRICE": 37.836666666666666
         },
         {
          "PRICE": 28,
          "PTRATIO": 19,
          "model": "C",
          "predicted PRICE": 38.666666666666664
         },
         {
          "PRICE": 23.9,
          "PTRATIO": 19,
          "model": "C",
          "predicted PRICE": 38.666666666666664
         },
         {
          "PRICE": 24.8,
          "PTRATIO": 19,
          "model": "C",
          "predicted PRICE": 38.666666666666664
         },
         {
          "PRICE": 22.9,
          "PTRATIO": 19,
          "model": "C",
          "predicted PRICE": 38.666666666666664
         },
         {
          "PRICE": 23.9,
          "PTRATIO": 18.5,
          "model": "C",
          "predicted PRICE": 37.25
         },
         {
          "PRICE": 26.6,
          "PTRATIO": 18.5,
          "model": "C",
          "predicted PRICE": 37.25
         },
         {
          "PRICE": 22.5,
          "PTRATIO": 18.5,
          "model": "C",
          "predicted PRICE": 37.25
         },
         {
          "PRICE": 22.2,
          "PTRATIO": 18.5,
          "model": "C",
          "predicted PRICE": 37.25
         },
         {
          "PRICE": 23.6,
          "PTRATIO": 17.8,
          "model": "C",
          "predicted PRICE": 34.98666666666667
         },
         {
          "PRICE": 28.7,
          "PTRATIO": 17.8,
          "model": "C",
          "predicted PRICE": 34.98666666666667
         },
         {
          "PRICE": 22.6,
          "PTRATIO": 17.8,
          "model": "C",
          "predicted PRICE": 34.98666666666667
         },
         {
          "PRICE": 22,
          "PTRATIO": 17.8,
          "model": "C",
          "predicted PRICE": 34.98666666666667
         },
         {
          "PRICE": 22.9,
          "PTRATIO": 18.2,
          "model": "C",
          "predicted PRICE": 36.32
         },
         {
          "PRICE": 25,
          "PTRATIO": 18.2,
          "model": "C",
          "predicted PRICE": 36.32
         },
         {
          "PRICE": 20.6,
          "PTRATIO": 18.2,
          "model": "C",
          "predicted PRICE": 36.32
         },
         {
          "PRICE": 28.4,
          "PTRATIO": 18,
          "model": "C",
          "predicted PRICE": 35.666666666666664
         },
         {
          "PRICE": 21.4,
          "PTRATIO": 18,
          "model": "C",
          "predicted PRICE": 35.666666666666664
         },
         {
          "PRICE": 38.7,
          "PTRATIO": 18,
          "model": "C",
          "predicted PRICE": 35.666666666666664
         },
         {
          "PRICE": 43.8,
          "PTRATIO": 18,
          "model": "C",
          "predicted PRICE": 35.666666666666664
         },
         {
          "PRICE": 33.2,
          "PTRATIO": 18,
          "model": "C",
          "predicted PRICE": 35.666666666666664
         },
         {
          "PRICE": 27.5,
          "PTRATIO": 20.9,
          "model": "C",
          "predicted PRICE": 42.53
         },
         {
          "PRICE": 26.5,
          "PTRATIO": 20.9,
          "model": "C",
          "predicted PRICE": 42.53
         },
         {
          "PRICE": 18.6,
          "PTRATIO": 20.9,
          "model": "C",
          "predicted PRICE": 42.53
         },
         {
          "PRICE": 19.3,
          "PTRATIO": 20.9,
          "model": "C",
          "predicted PRICE": 42.53
         },
         {
          "PRICE": 20.1,
          "PTRATIO": 20.9,
          "model": "C",
          "predicted PRICE": 42.53
         },
         {
          "PRICE": 19.5,
          "PTRATIO": 20.9,
          "model": "C",
          "predicted PRICE": 42.53
         },
         {
          "PRICE": 19.5,
          "PTRATIO": 20.9,
          "model": "C",
          "predicted PRICE": 42.53
         },
         {
          "PRICE": 20.4,
          "PTRATIO": 20.9,
          "model": "C",
          "predicted PRICE": 42.53
         },
         {
          "PRICE": 19.8,
          "PTRATIO": 20.9,
          "model": "C",
          "predicted PRICE": 42.53
         },
         {
          "PRICE": 19.4,
          "PTRATIO": 20.9,
          "model": "C",
          "predicted PRICE": 42.53
         },
         {
          "PRICE": 21.7,
          "PTRATIO": 20.9,
          "model": "C",
          "predicted PRICE": 42.53
         },
         {
          "PRICE": 22.8,
          "PTRATIO": 17.8,
          "model": "C",
          "predicted PRICE": 34.98666666666667
         },
         {
          "PRICE": 18.8,
          "PTRATIO": 17.8,
          "model": "C",
          "predicted PRICE": 34.98666666666667
         },
         {
          "PRICE": 18.7,
          "PTRATIO": 17.8,
          "model": "C",
          "predicted PRICE": 34.98666666666667
         },
         {
          "PRICE": 18.5,
          "PTRATIO": 17.8,
          "model": "C",
          "predicted PRICE": 34.98666666666667
         },
         {
          "PRICE": 18.3,
          "PTRATIO": 17.8,
          "model": "C",
          "predicted PRICE": 34.98666666666667
         },
         {
          "PRICE": 21.2,
          "PTRATIO": 17.8,
          "model": "C",
          "predicted PRICE": 34.98666666666667
         },
         {
          "PRICE": 19.2,
          "PTRATIO": 17.8,
          "model": "C",
          "predicted PRICE": 34.98666666666667
         },
         {
          "PRICE": 20.4,
          "PTRATIO": 17.8,
          "model": "C",
          "predicted PRICE": 34.98666666666667
         },
         {
          "PRICE": 19.3,
          "PTRATIO": 17.8,
          "model": "C",
          "predicted PRICE": 34.98666666666667
         },
         {
          "PRICE": 22,
          "PTRATIO": 19.1,
          "model": "C",
          "predicted PRICE": 38.93000000000001
         },
         {
          "PRICE": 20.3,
          "PTRATIO": 19.1,
          "model": "C",
          "predicted PRICE": 38.93000000000001
         },
         {
          "PRICE": 20.5,
          "PTRATIO": 19.1,
          "model": "C",
          "predicted PRICE": 38.93000000000001
         },
         {
          "PRICE": 17.3,
          "PTRATIO": 19.1,
          "model": "C",
          "predicted PRICE": 38.93000000000001
         },
         {
          "PRICE": 18.8,
          "PTRATIO": 19.1,
          "model": "C",
          "predicted PRICE": 38.93000000000001
         },
         {
          "PRICE": 21.4,
          "PTRATIO": 19.1,
          "model": "C",
          "predicted PRICE": 38.93000000000001
         },
         {
          "PRICE": 15.7,
          "PTRATIO": 19.1,
          "model": "C",
          "predicted PRICE": 38.93000000000001
         },
         {
          "PRICE": 16.2,
          "PTRATIO": 21.2,
          "model": "C",
          "predicted PRICE": 42.92
         },
         {
          "PRICE": 18,
          "PTRATIO": 21.2,
          "model": "C",
          "predicted PRICE": 42.92
         },
         {
          "PRICE": 14.3,
          "PTRATIO": 21.2,
          "model": "C",
          "predicted PRICE": 42.92
         },
         {
          "PRICE": 19.2,
          "PTRATIO": 21.2,
          "model": "C",
          "predicted PRICE": 42.92
         },
         {
          "PRICE": 19.6,
          "PTRATIO": 21.2,
          "model": "C",
          "predicted PRICE": 42.92
         },
         {
          "PRICE": 23,
          "PTRATIO": 21.2,
          "model": "C",
          "predicted PRICE": 42.92
         },
         {
          "PRICE": 18.4,
          "PTRATIO": 21.2,
          "model": "C",
          "predicted PRICE": 42.92
         },
         {
          "PRICE": 15.6,
          "PTRATIO": 21.2,
          "model": "C",
          "predicted PRICE": 42.92
         },
         {
          "PRICE": 18.1,
          "PTRATIO": 21.2,
          "model": "C",
          "predicted PRICE": 42.92
         },
         {
          "PRICE": 17.4,
          "PTRATIO": 21.2,
          "model": "C",
          "predicted PRICE": 42.92
         },
         {
          "PRICE": 17.1,
          "PTRATIO": 21.2,
          "model": "C",
          "predicted PRICE": 42.92
         },
         {
          "PRICE": 13.3,
          "PTRATIO": 21.2,
          "model": "C",
          "predicted PRICE": 42.92
         },
         {
          "PRICE": 17.8,
          "PTRATIO": 21.2,
          "model": "C",
          "predicted PRICE": 42.92
         },
         {
          "PRICE": 14,
          "PTRATIO": 21.2,
          "model": "C",
          "predicted PRICE": 42.92
         },
         {
          "PRICE": 14.4,
          "PTRATIO": 21.2,
          "model": "C",
          "predicted PRICE": 42.92
         },
         {
          "PRICE": 13.4,
          "PTRATIO": 14.7,
          "model": "C",
          "predicted PRICE": 21.03666666666666
         },
         {
          "PRICE": 15.6,
          "PTRATIO": 14.7,
          "model": "C",
          "predicted PRICE": 21.03666666666666
         },
         {
          "PRICE": 11.8,
          "PTRATIO": 14.7,
          "model": "C",
          "predicted PRICE": 21.03666666666666
         },
         {
          "PRICE": 13.8,
          "PTRATIO": 14.7,
          "model": "C",
          "predicted PRICE": 21.03666666666666
         },
         {
          "PRICE": 15.6,
          "PTRATIO": 14.7,
          "model": "C",
          "predicted PRICE": 21.03666666666666
         },
         {
          "PRICE": 14.6,
          "PTRATIO": 14.7,
          "model": "C",
          "predicted PRICE": 21.03666666666666
         },
         {
          "PRICE": 17.8,
          "PTRATIO": 14.7,
          "model": "C",
          "predicted PRICE": 21.03666666666666
         },
         {
          "PRICE": 15.4,
          "PTRATIO": 14.7,
          "model": "C",
          "predicted PRICE": 21.03666666666666
         },
         {
          "PRICE": 21.5,
          "PTRATIO": 14.7,
          "model": "C",
          "predicted PRICE": 21.03666666666666
         },
         {
          "PRICE": 19.6,
          "PTRATIO": 14.7,
          "model": "C",
          "predicted PRICE": 21.03666666666666
         },
         {
          "PRICE": 15.3,
          "PTRATIO": 14.7,
          "model": "C",
          "predicted PRICE": 21.03666666666666
         },
         {
          "PRICE": 19.4,
          "PTRATIO": 14.7,
          "model": "C",
          "predicted PRICE": 21.03666666666666
         },
         {
          "PRICE": 17,
          "PTRATIO": 14.7,
          "model": "C",
          "predicted PRICE": 21.03666666666666
         },
         {
          "PRICE": 15.6,
          "PTRATIO": 14.7,
          "model": "C",
          "predicted PRICE": 21.03666666666666
         },
         {
          "PRICE": 13.1,
          "PTRATIO": 14.7,
          "model": "C",
          "predicted PRICE": 21.03666666666666
         },
         {
          "PRICE": 41.3,
          "PTRATIO": 14.7,
          "model": "C",
          "predicted PRICE": 21.03666666666666
         },
         {
          "PRICE": 24.3,
          "PTRATIO": 14.7,
          "model": "C",
          "predicted PRICE": 21.03666666666666
         },
         {
          "PRICE": 23.3,
          "PTRATIO": 14.7,
          "model": "C",
          "predicted PRICE": 21.03666666666666
         },
         {
          "PRICE": 27,
          "PTRATIO": 14.7,
          "model": "C",
          "predicted PRICE": 21.03666666666666
         },
         {
          "PRICE": 50,
          "PTRATIO": 14.7,
          "model": "C",
          "predicted PRICE": 21.03666666666666
         },
         {
          "PRICE": 50,
          "PTRATIO": 14.7,
          "model": "C",
          "predicted PRICE": 21.03666666666666
         },
         {
          "PRICE": 50,
          "PTRATIO": 14.7,
          "model": "C",
          "predicted PRICE": 21.03666666666666
         },
         {
          "PRICE": 22.7,
          "PTRATIO": 14.7,
          "model": "C",
          "predicted PRICE": 21.03666666666666
         },
         {
          "PRICE": 25,
          "PTRATIO": 14.7,
          "model": "C",
          "predicted PRICE": 21.03666666666666
         },
         {
          "PRICE": 50,
          "PTRATIO": 14.7,
          "model": "C",
          "predicted PRICE": 21.03666666666666
         },
         {
          "PRICE": 23.8,
          "PTRATIO": 14.7,
          "model": "C",
          "predicted PRICE": 21.03666666666666
         },
         {
          "PRICE": 23.8,
          "PTRATIO": 14.7,
          "model": "C",
          "predicted PRICE": 21.03666666666666
         },
         {
          "PRICE": 22.3,
          "PTRATIO": 14.7,
          "model": "C",
          "predicted PRICE": 21.03666666666666
         },
         {
          "PRICE": 17.4,
          "PTRATIO": 14.7,
          "model": "C",
          "predicted PRICE": 21.03666666666666
         },
         {
          "PRICE": 19.1,
          "PTRATIO": 14.7,
          "model": "C",
          "predicted PRICE": 21.03666666666666
         },
         {
          "PRICE": 23.1,
          "PTRATIO": 16.6,
          "model": "C",
          "predicted PRICE": 30.34666666666667
         },
         {
          "PRICE": 23.6,
          "PTRATIO": 16.6,
          "model": "C",
          "predicted PRICE": 30.34666666666667
         },
         {
          "PRICE": 22.6,
          "PTRATIO": 16.6,
          "model": "C",
          "predicted PRICE": 30.34666666666667
         },
         {
          "PRICE": 29.4,
          "PTRATIO": 16.6,
          "model": "C",
          "predicted PRICE": 30.34666666666667
         },
         {
          "PRICE": 23.2,
          "PTRATIO": 16.6,
          "model": "C",
          "predicted PRICE": 30.34666666666667
         },
         {
          "PRICE": 24.6,
          "PTRATIO": 16.6,
          "model": "C",
          "predicted PRICE": 30.34666666666667
         },
         {
          "PRICE": 29.9,
          "PTRATIO": 16.6,
          "model": "C",
          "predicted PRICE": 30.34666666666667
         },
         {
          "PRICE": 37.2,
          "PTRATIO": 17.8,
          "model": "C",
          "predicted PRICE": 34.98666666666667
         },
         {
          "PRICE": 39.8,
          "PTRATIO": 17.8,
          "model": "C",
          "predicted PRICE": 34.98666666666667
         },
         {
          "PRICE": 36.2,
          "PTRATIO": 17.8,
          "model": "C",
          "predicted PRICE": 34.98666666666667
         },
         {
          "PRICE": 37.9,
          "PTRATIO": 17.8,
          "model": "C",
          "predicted PRICE": 34.98666666666667
         },
         {
          "PRICE": 32.5,
          "PTRATIO": 17.8,
          "model": "C",
          "predicted PRICE": 34.98666666666667
         },
         {
          "PRICE": 26.4,
          "PTRATIO": 17.8,
          "model": "C",
          "predicted PRICE": 34.98666666666667
         },
         {
          "PRICE": 29.6,
          "PTRATIO": 17.8,
          "model": "C",
          "predicted PRICE": 34.98666666666667
         },
         {
          "PRICE": 50,
          "PTRATIO": 17.8,
          "model": "C",
          "predicted PRICE": 34.98666666666667
         },
         {
          "PRICE": 32,
          "PTRATIO": 15.2,
          "model": "C",
          "predicted PRICE": 23.719999999999995
         },
         {
          "PRICE": 29.8,
          "PTRATIO": 15.2,
          "model": "C",
          "predicted PRICE": 23.719999999999995
         },
         {
          "PRICE": 34.9,
          "PTRATIO": 15.2,
          "model": "C",
          "predicted PRICE": 23.719999999999995
         },
         {
          "PRICE": 37,
          "PTRATIO": 15.2,
          "model": "C",
          "predicted PRICE": 23.719999999999995
         },
         {
          "PRICE": 30.5,
          "PTRATIO": 15.2,
          "model": "C",
          "predicted PRICE": 23.719999999999995
         },
         {
          "PRICE": 36.4,
          "PTRATIO": 15.2,
          "model": "C",
          "predicted PRICE": 23.719999999999995
         },
         {
          "PRICE": 31.1,
          "PTRATIO": 15.6,
          "model": "C",
          "predicted PRICE": 25.74666666666667
         },
         {
          "PRICE": 29.1,
          "PTRATIO": 15.6,
          "model": "C",
          "predicted PRICE": 25.74666666666667
         },
         {
          "PRICE": 50,
          "PTRATIO": 14.4,
          "model": "C",
          "predicted PRICE": 19.34666666666667
         },
         {
          "PRICE": 33.3,
          "PTRATIO": 12.6,
          "model": "C",
          "predicted PRICE": 7.946666666666665
         },
         {
          "PRICE": 30.3,
          "PTRATIO": 12.6,
          "model": "C",
          "predicted PRICE": 7.946666666666665
         },
         {
          "PRICE": 34.6,
          "PTRATIO": 12.6,
          "model": "C",
          "predicted PRICE": 7.946666666666665
         },
         {
          "PRICE": 34.9,
          "PTRATIO": 17,
          "model": "C",
          "predicted PRICE": 32
         },
         {
          "PRICE": 32.9,
          "PTRATIO": 17,
          "model": "C",
          "predicted PRICE": 32
         },
         {
          "PRICE": 24.1,
          "PTRATIO": 14.7,
          "model": "C",
          "predicted PRICE": 21.03666666666666
         },
         {
          "PRICE": 42.3,
          "PTRATIO": 14.7,
          "model": "C",
          "predicted PRICE": 21.03666666666666
         },
         {
          "PRICE": 48.5,
          "PTRATIO": 14.7,
          "model": "C",
          "predicted PRICE": 21.03666666666666
         },
         {
          "PRICE": 50,
          "PTRATIO": 14.7,
          "model": "C",
          "predicted PRICE": 21.03666666666666
         },
         {
          "PRICE": 22.6,
          "PTRATIO": 18.6,
          "model": "C",
          "predicted PRICE": 37.546666666666674
         },
         {
          "PRICE": 24.4,
          "PTRATIO": 18.6,
          "model": "C",
          "predicted PRICE": 37.546666666666674
         },
         {
          "PRICE": 22.5,
          "PTRATIO": 18.6,
          "model": "C",
          "predicted PRICE": 37.546666666666674
         },
         {
          "PRICE": 24.4,
          "PTRATIO": 18.6,
          "model": "C",
          "predicted PRICE": 37.546666666666674
         },
         {
          "PRICE": 20,
          "PTRATIO": 18.6,
          "model": "C",
          "predicted PRICE": 37.546666666666674
         },
         {
          "PRICE": 21.7,
          "PTRATIO": 18.6,
          "model": "C",
          "predicted PRICE": 37.546666666666674
         },
         {
          "PRICE": 19.3,
          "PTRATIO": 18.6,
          "model": "C",
          "predicted PRICE": 37.546666666666674
         },
         {
          "PRICE": 22.4,
          "PTRATIO": 18.6,
          "model": "C",
          "predicted PRICE": 37.546666666666674
         },
         {
          "PRICE": 28.1,
          "PTRATIO": 18.6,
          "model": "C",
          "predicted PRICE": 37.546666666666674
         },
         {
          "PRICE": 23.7,
          "PTRATIO": 18.6,
          "model": "C",
          "predicted PRICE": 37.546666666666674
         },
         {
          "PRICE": 25,
          "PTRATIO": 18.6,
          "model": "C",
          "predicted PRICE": 37.546666666666674
         },
         {
          "PRICE": 23.3,
          "PTRATIO": 16.4,
          "model": "C",
          "predicted PRICE": 29.479999999999993
         },
         {
          "PRICE": 28.7,
          "PTRATIO": 16.4,
          "model": "C",
          "predicted PRICE": 29.479999999999993
         },
         {
          "PRICE": 21.5,
          "PTRATIO": 16.4,
          "model": "C",
          "predicted PRICE": 29.479999999999993
         },
         {
          "PRICE": 23,
          "PTRATIO": 16.4,
          "model": "C",
          "predicted PRICE": 29.479999999999993
         },
         {
          "PRICE": 26.7,
          "PTRATIO": 17.4,
          "model": "C",
          "predicted PRICE": 33.54666666666666
         },
         {
          "PRICE": 21.7,
          "PTRATIO": 17.4,
          "model": "C",
          "predicted PRICE": 33.54666666666666
         },
         {
          "PRICE": 27.5,
          "PTRATIO": 17.4,
          "model": "C",
          "predicted PRICE": 33.54666666666666
         },
         {
          "PRICE": 30.1,
          "PTRATIO": 17.4,
          "model": "C",
          "predicted PRICE": 33.54666666666666
         },
         {
          "PRICE": 44.8,
          "PTRATIO": 17.4,
          "model": "C",
          "predicted PRICE": 33.54666666666666
         },
         {
          "PRICE": 50,
          "PTRATIO": 17.4,
          "model": "C",
          "predicted PRICE": 33.54666666666666
         },
         {
          "PRICE": 37.6,
          "PTRATIO": 17.4,
          "model": "C",
          "predicted PRICE": 33.54666666666666
         },
         {
          "PRICE": 31.6,
          "PTRATIO": 17.4,
          "model": "C",
          "predicted PRICE": 33.54666666666666
         },
         {
          "PRICE": 46.7,
          "PTRATIO": 17.4,
          "model": "C",
          "predicted PRICE": 33.54666666666666
         },
         {
          "PRICE": 31.5,
          "PTRATIO": 17.4,
          "model": "C",
          "predicted PRICE": 33.54666666666666
         },
         {
          "PRICE": 24.3,
          "PTRATIO": 17.4,
          "model": "C",
          "predicted PRICE": 33.54666666666666
         },
         {
          "PRICE": 31.7,
          "PTRATIO": 17.4,
          "model": "C",
          "predicted PRICE": 33.54666666666666
         },
         {
          "PRICE": 41.7,
          "PTRATIO": 17.4,
          "model": "C",
          "predicted PRICE": 33.54666666666666
         },
         {
          "PRICE": 48.3,
          "PTRATIO": 17.4,
          "model": "C",
          "predicted PRICE": 33.54666666666666
         },
         {
          "PRICE": 29,
          "PTRATIO": 17.4,
          "model": "C",
          "predicted PRICE": 33.54666666666666
         },
         {
          "PRICE": 24,
          "PTRATIO": 17.4,
          "model": "C",
          "predicted PRICE": 33.54666666666666
         },
         {
          "PRICE": 25.1,
          "PTRATIO": 17.4,
          "model": "C",
          "predicted PRICE": 33.54666666666666
         },
         {
          "PRICE": 31.5,
          "PTRATIO": 17.4,
          "model": "C",
          "predicted PRICE": 33.54666666666666
         },
         {
          "PRICE": 23.7,
          "PTRATIO": 16.6,
          "model": "C",
          "predicted PRICE": 30.34666666666667
         },
         {
          "PRICE": 23.3,
          "PTRATIO": 16.6,
          "model": "C",
          "predicted PRICE": 30.34666666666667
         },
         {
          "PRICE": 22,
          "PTRATIO": 16.6,
          "model": "C",
          "predicted PRICE": 30.34666666666667
         },
         {
          "PRICE": 20.1,
          "PTRATIO": 16.6,
          "model": "C",
          "predicted PRICE": 30.34666666666667
         },
         {
          "PRICE": 22.2,
          "PTRATIO": 16.6,
          "model": "C",
          "predicted PRICE": 30.34666666666667
         },
         {
          "PRICE": 23.7,
          "PTRATIO": 16.6,
          "model": "C",
          "predicted PRICE": 30.34666666666667
         },
         {
          "PRICE": 17.6,
          "PTRATIO": 19.1,
          "model": "C",
          "predicted PRICE": 38.93000000000001
         },
         {
          "PRICE": 18.5,
          "PTRATIO": 19.1,
          "model": "C",
          "predicted PRICE": 38.93000000000001
         },
         {
          "PRICE": 24.3,
          "PTRATIO": 19.1,
          "model": "C",
          "predicted PRICE": 38.93000000000001
         },
         {
          "PRICE": 20.5,
          "PTRATIO": 19.1,
          "model": "C",
          "predicted PRICE": 38.93000000000001
         },
         {
          "PRICE": 24.5,
          "PTRATIO": 19.1,
          "model": "C",
          "predicted PRICE": 38.93000000000001
         },
         {
          "PRICE": 26.2,
          "PTRATIO": 19.1,
          "model": "C",
          "predicted PRICE": 38.93000000000001
         },
         {
          "PRICE": 24.4,
          "PTRATIO": 19.1,
          "model": "C",
          "predicted PRICE": 38.93000000000001
         },
         {
          "PRICE": 24.8,
          "PTRATIO": 19.1,
          "model": "C",
          "predicted PRICE": 38.93000000000001
         },
         {
          "PRICE": 29.6,
          "PTRATIO": 19.1,
          "model": "C",
          "predicted PRICE": 38.93000000000001
         },
         {
          "PRICE": 42.8,
          "PTRATIO": 19.1,
          "model": "C",
          "predicted PRICE": 38.93000000000001
         },
         {
          "PRICE": 21.9,
          "PTRATIO": 16.4,
          "model": "C",
          "predicted PRICE": 29.479999999999993
         },
         {
          "PRICE": 20.9,
          "PTRATIO": 16.4,
          "model": "C",
          "predicted PRICE": 29.479999999999993
         },
         {
          "PRICE": 44,
          "PTRATIO": 15.9,
          "model": "C",
          "predicted PRICE": 27.196666666666665
         },
         {
          "PRICE": 50,
          "PTRATIO": 13,
          "model": "C",
          "predicted PRICE": 10.666666666666668
         },
         {
          "PRICE": 36,
          "PTRATIO": 13,
          "model": "C",
          "predicted PRICE": 10.666666666666668
         },
         {
          "PRICE": 30.1,
          "PTRATIO": 13,
          "model": "C",
          "predicted PRICE": 10.666666666666668
         },
         {
          "PRICE": 33.8,
          "PTRATIO": 13,
          "model": "C",
          "predicted PRICE": 10.666666666666668
         },
         {
          "PRICE": 43.1,
          "PTRATIO": 13,
          "model": "C",
          "predicted PRICE": 10.666666666666668
         },
         {
          "PRICE": 48.8,
          "PTRATIO": 13,
          "model": "C",
          "predicted PRICE": 10.666666666666668
         },
         {
          "PRICE": 31,
          "PTRATIO": 13,
          "model": "C",
          "predicted PRICE": 10.666666666666668
         },
         {
          "PRICE": 36.5,
          "PTRATIO": 13,
          "model": "C",
          "predicted PRICE": 10.666666666666668
         },
         {
          "PRICE": 22.8,
          "PTRATIO": 13,
          "model": "C",
          "predicted PRICE": 10.666666666666668
         },
         {
          "PRICE": 30.7,
          "PTRATIO": 13,
          "model": "C",
          "predicted PRICE": 10.666666666666668
         },
         {
          "PRICE": 50,
          "PTRATIO": 13,
          "model": "C",
          "predicted PRICE": 10.666666666666668
         },
         {
          "PRICE": 43.5,
          "PTRATIO": 13,
          "model": "C",
          "predicted PRICE": 10.666666666666668
         },
         {
          "PRICE": 20.7,
          "PTRATIO": 18.6,
          "model": "C",
          "predicted PRICE": 37.546666666666674
         },
         {
          "PRICE": 21.1,
          "PTRATIO": 18.6,
          "model": "C",
          "predicted PRICE": 37.546666666666674
         },
         {
          "PRICE": 25.2,
          "PTRATIO": 18.6,
          "model": "C",
          "predicted PRICE": 37.546666666666674
         },
         {
          "PRICE": 24.4,
          "PTRATIO": 18.6,
          "model": "C",
          "predicted PRICE": 37.546666666666674
         },
         {
          "PRICE": 35.2,
          "PTRATIO": 18.6,
          "model": "C",
          "predicted PRICE": 37.546666666666674
         },
         {
          "PRICE": 32.4,
          "PTRATIO": 17.6,
          "model": "C",
          "predicted PRICE": 34.28000000000001
         },
         {
          "PRICE": 32,
          "PTRATIO": 17.6,
          "model": "C",
          "predicted PRICE": 34.28000000000001
         },
         {
          "PRICE": 33.2,
          "PTRATIO": 17.6,
          "model": "C",
          "predicted PRICE": 34.28000000000001
         },
         {
          "PRICE": 33.1,
          "PTRATIO": 17.6,
          "model": "C",
          "predicted PRICE": 34.28000000000001
         },
         {
          "PRICE": 29.1,
          "PTRATIO": 17.6,
          "model": "C",
          "predicted PRICE": 34.28000000000001
         },
         {
          "PRICE": 35.1,
          "PTRATIO": 14.9,
          "model": "C",
          "predicted PRICE": 22.130000000000003
         },
         {
          "PRICE": 45.4,
          "PTRATIO": 14.9,
          "model": "C",
          "predicted PRICE": 22.130000000000003
         },
         {
          "PRICE": 35.4,
          "PTRATIO": 14.9,
          "model": "C",
          "predicted PRICE": 22.130000000000003
         },
         {
          "PRICE": 46,
          "PTRATIO": 14.9,
          "model": "C",
          "predicted PRICE": 22.130000000000003
         },
         {
          "PRICE": 50,
          "PTRATIO": 13.6,
          "model": "C",
          "predicted PRICE": 14.546666666666663
         },
         {
          "PRICE": 32.2,
          "PTRATIO": 15.3,
          "model": "C",
          "predicted PRICE": 24.23666666666667
         },
         {
          "PRICE": 22,
          "PTRATIO": 15.3,
          "model": "C",
          "predicted PRICE": 24.23666666666667
         },
         {
          "PRICE": 20.1,
          "PTRATIO": 18.2,
          "model": "C",
          "predicted PRICE": 36.32
         },
         {
          "PRICE": 23.2,
          "PTRATIO": 16.6,
          "model": "C",
          "predicted PRICE": 30.34666666666667
         },
         {
          "PRICE": 22.3,
          "PTRATIO": 16.6,
          "model": "C",
          "predicted PRICE": 30.34666666666667
         },
         {
          "PRICE": 24.8,
          "PTRATIO": 16.6,
          "model": "C",
          "predicted PRICE": 30.34666666666667
         },
         {
          "PRICE": 28.5,
          "PTRATIO": 19.2,
          "model": "C",
          "predicted PRICE": 39.18666666666667
         },
         {
          "PRICE": 37.3,
          "PTRATIO": 19.2,
          "model": "C",
          "predicted PRICE": 39.18666666666667
         },
         {
          "PRICE": 27.9,
          "PTRATIO": 19.2,
          "model": "C",
          "predicted PRICE": 39.18666666666667
         },
         {
          "PRICE": 23.9,
          "PTRATIO": 16,
          "model": "C",
          "predicted PRICE": 27.666666666666668
         },
         {
          "PRICE": 21.7,
          "PTRATIO": 16,
          "model": "C",
          "predicted PRICE": 27.666666666666668
         },
         {
          "PRICE": 28.6,
          "PTRATIO": 16,
          "model": "C",
          "predicted PRICE": 27.666666666666668
         },
         {
          "PRICE": 27.1,
          "PTRATIO": 16,
          "model": "C",
          "predicted PRICE": 27.666666666666668
         },
         {
          "PRICE": 20.3,
          "PTRATIO": 16,
          "model": "C",
          "predicted PRICE": 27.666666666666668
         },
         {
          "PRICE": 22.5,
          "PTRATIO": 14.8,
          "model": "C",
          "predicted PRICE": 21.586666666666673
         },
         {
          "PRICE": 29,
          "PTRATIO": 14.8,
          "model": "C",
          "predicted PRICE": 21.586666666666673
         },
         {
          "PRICE": 24.8,
          "PTRATIO": 14.8,
          "model": "C",
          "predicted PRICE": 21.586666666666673
         },
         {
          "PRICE": 22,
          "PTRATIO": 16.1,
          "model": "C",
          "predicted PRICE": 28.130000000000006
         },
         {
          "PRICE": 26.4,
          "PTRATIO": 16.1,
          "model": "C",
          "predicted PRICE": 28.130000000000006
         },
         {
          "PRICE": 33.1,
          "PTRATIO": 16.1,
          "model": "C",
          "predicted PRICE": 28.130000000000006
         },
         {
          "PRICE": 36.1,
          "PTRATIO": 18.4,
          "model": "C",
          "predicted PRICE": 36.946666666666665
         },
         {
          "PRICE": 28.4,
          "PTRATIO": 18.4,
          "model": "C",
          "predicted PRICE": 36.946666666666665
         },
         {
          "PRICE": 33.4,
          "PTRATIO": 18.4,
          "model": "C",
          "predicted PRICE": 36.946666666666665
         },
         {
          "PRICE": 28.2,
          "PTRATIO": 18.4,
          "model": "C",
          "predicted PRICE": 36.946666666666665
         },
         {
          "PRICE": 22.8,
          "PTRATIO": 18.4,
          "model": "C",
          "predicted PRICE": 36.946666666666665
         },
         {
          "PRICE": 20.3,
          "PTRATIO": 18.4,
          "model": "C",
          "predicted PRICE": 36.946666666666665
         },
         {
          "PRICE": 16.1,
          "PTRATIO": 18.4,
          "model": "C",
          "predicted PRICE": 36.946666666666665
         },
         {
          "PRICE": 22.1,
          "PTRATIO": 18.4,
          "model": "C",
          "predicted PRICE": 36.946666666666665
         },
         {
          "PRICE": 19.4,
          "PTRATIO": 18.4,
          "model": "C",
          "predicted PRICE": 36.946666666666665
         },
         {
          "PRICE": 21.6,
          "PTRATIO": 18.4,
          "model": "C",
          "predicted PRICE": 36.946666666666665
         },
         {
          "PRICE": 23.8,
          "PTRATIO": 18.4,
          "model": "C",
          "predicted PRICE": 36.946666666666665
         },
         {
          "PRICE": 16.2,
          "PTRATIO": 18.4,
          "model": "C",
          "predicted PRICE": 36.946666666666665
         },
         {
          "PRICE": 17.8,
          "PTRATIO": 18.4,
          "model": "C",
          "predicted PRICE": 36.946666666666665
         },
         {
          "PRICE": 19.8,
          "PTRATIO": 18.4,
          "model": "C",
          "predicted PRICE": 36.946666666666665
         },
         {
          "PRICE": 23.1,
          "PTRATIO": 18.4,
          "model": "C",
          "predicted PRICE": 36.946666666666665
         },
         {
          "PRICE": 21,
          "PTRATIO": 18.4,
          "model": "C",
          "predicted PRICE": 36.946666666666665
         },
         {
          "PRICE": 23.8,
          "PTRATIO": 19.6,
          "model": "C",
          "predicted PRICE": 40.14666666666667
         },
         {
          "PRICE": 23.1,
          "PTRATIO": 19.6,
          "model": "C",
          "predicted PRICE": 40.14666666666667
         },
         {
          "PRICE": 20.4,
          "PTRATIO": 19.6,
          "model": "C",
          "predicted PRICE": 40.14666666666667
         },
         {
          "PRICE": 18.5,
          "PTRATIO": 19.6,
          "model": "C",
          "predicted PRICE": 40.14666666666667
         },
         {
          "PRICE": 25,
          "PTRATIO": 19.6,
          "model": "C",
          "predicted PRICE": 40.14666666666667
         },
         {
          "PRICE": 24.6,
          "PTRATIO": 19.6,
          "model": "C",
          "predicted PRICE": 40.14666666666667
         },
         {
          "PRICE": 23,
          "PTRATIO": 19.6,
          "model": "C",
          "predicted PRICE": 40.14666666666667
         },
         {
          "PRICE": 22.2,
          "PTRATIO": 19.6,
          "model": "C",
          "predicted PRICE": 40.14666666666667
         },
         {
          "PRICE": 19.3,
          "PTRATIO": 16.9,
          "model": "C",
          "predicted PRICE": 31.59666666666666
         },
         {
          "PRICE": 22.6,
          "PTRATIO": 16.9,
          "model": "C",
          "predicted PRICE": 31.59666666666666
         },
         {
          "PRICE": 19.8,
          "PTRATIO": 16.9,
          "model": "C",
          "predicted PRICE": 31.59666666666666
         },
         {
          "PRICE": 17.1,
          "PTRATIO": 16.9,
          "model": "C",
          "predicted PRICE": 31.59666666666666
         },
         {
          "PRICE": 19.4,
          "PTRATIO": 16.9,
          "model": "C",
          "predicted PRICE": 31.59666666666666
         },
         {
          "PRICE": 22.2,
          "PTRATIO": 20.2,
          "model": "C",
          "predicted PRICE": 41.38666666666666
         },
         {
          "PRICE": 20.7,
          "PTRATIO": 20.2,
          "model": "C",
          "predicted PRICE": 41.38666666666666
         },
         {
          "PRICE": 21.1,
          "PTRATIO": 20.2,
          "model": "C",
          "predicted PRICE": 41.38666666666666
         },
         {
          "PRICE": 19.5,
          "PTRATIO": 20.2,
          "model": "C",
          "predicted PRICE": 41.38666666666666
         },
         {
          "PRICE": 18.5,
          "PTRATIO": 20.2,
          "model": "C",
          "predicted PRICE": 41.38666666666666
         },
         {
          "PRICE": 20.6,
          "PTRATIO": 20.2,
          "model": "C",
          "predicted PRICE": 41.38666666666666
         },
         {
          "PRICE": 19,
          "PTRATIO": 20.2,
          "model": "C",
          "predicted PRICE": 41.38666666666666
         },
         {
          "PRICE": 18.7,
          "PTRATIO": 20.2,
          "model": "C",
          "predicted PRICE": 41.38666666666666
         },
         {
          "PRICE": 32.7,
          "PTRATIO": 15.5,
          "model": "C",
          "predicted PRICE": 25.25
         },
         {
          "PRICE": 16.5,
          "PTRATIO": 15.9,
          "model": "C",
          "predicted PRICE": 27.196666666666665
         },
         {
          "PRICE": 23.9,
          "PTRATIO": 17.6,
          "model": "C",
          "predicted PRICE": 34.28000000000001
         },
         {
          "PRICE": 31.2,
          "PTRATIO": 17.6,
          "model": "C",
          "predicted PRICE": 34.28000000000001
         },
         {
          "PRICE": 17.5,
          "PTRATIO": 18.8,
          "model": "C",
          "predicted PRICE": 38.120000000000005
         },
         {
          "PRICE": 17.2,
          "PTRATIO": 18.8,
          "model": "C",
          "predicted PRICE": 38.120000000000005
         },
         {
          "PRICE": 23.1,
          "PTRATIO": 17.9,
          "model": "C",
          "predicted PRICE": 35.33
         },
         {
          "PRICE": 24.5,
          "PTRATIO": 17,
          "model": "C",
          "predicted PRICE": 32
         },
         {
          "PRICE": 26.6,
          "PTRATIO": 19.7,
          "model": "C",
          "predicted PRICE": 40.37
         },
         {
          "PRICE": 22.9,
          "PTRATIO": 19.7,
          "model": "C",
          "predicted PRICE": 40.37
         },
         {
          "PRICE": 24.1,
          "PTRATIO": 18.3,
          "model": "C",
          "predicted PRICE": 36.63666666666667
         },
         {
          "PRICE": 18.6,
          "PTRATIO": 18.3,
          "model": "C",
          "predicted PRICE": 36.63666666666667
         },
         {
          "PRICE": 30.1,
          "PTRATIO": 17,
          "model": "C",
          "predicted PRICE": 32
         },
         {
          "PRICE": 18.2,
          "PTRATIO": 22,
          "model": "C",
          "predicted PRICE": 43.666666666666664
         },
         {
          "PRICE": 20.6,
          "PTRATIO": 22,
          "model": "C",
          "predicted PRICE": 43.666666666666664
         },
         {
          "PRICE": 17.8,
          "PTRATIO": 20.2,
          "model": "C",
          "predicted PRICE": 41.38666666666666
         },
         {
          "PRICE": 21.7,
          "PTRATIO": 20.2,
          "model": "C",
          "predicted PRICE": 41.38666666666666
         },
         {
          "PRICE": 22.7,
          "PTRATIO": 20.2,
          "model": "C",
          "predicted PRICE": 41.38666666666666
         },
         {
          "PRICE": 22.6,
          "PTRATIO": 20.2,
          "model": "C",
          "predicted PRICE": 41.38666666666666
         },
         {
          "PRICE": 25,
          "PTRATIO": 20.2,
          "model": "C",
          "predicted PRICE": 41.38666666666666
         },
         {
          "PRICE": 19.9,
          "PTRATIO": 20.2,
          "model": "C",
          "predicted PRICE": 41.38666666666666
         },
         {
          "PRICE": 20.8,
          "PTRATIO": 20.2,
          "model": "C",
          "predicted PRICE": 41.38666666666666
         },
         {
          "PRICE": 16.8,
          "PTRATIO": 20.2,
          "model": "C",
          "predicted PRICE": 41.38666666666666
         },
         {
          "PRICE": 21.9,
          "PTRATIO": 20.2,
          "model": "C",
          "predicted PRICE": 41.38666666666666
         },
         {
          "PRICE": 27.5,
          "PTRATIO": 20.2,
          "model": "C",
          "predicted PRICE": 41.38666666666666
         },
         {
          "PRICE": 21.9,
          "PTRATIO": 20.2,
          "model": "C",
          "predicted PRICE": 41.38666666666666
         },
         {
          "PRICE": 23.1,
          "PTRATIO": 20.2,
          "model": "C",
          "predicted PRICE": 41.38666666666666
         },
         {
          "PRICE": 50,
          "PTRATIO": 20.2,
          "model": "C",
          "predicted PRICE": 41.38666666666666
         },
         {
          "PRICE": 50,
          "PTRATIO": 20.2,
          "model": "C",
          "predicted PRICE": 41.38666666666666
         },
         {
          "PRICE": 50,
          "PTRATIO": 20.2,
          "model": "C",
          "predicted PRICE": 41.38666666666666
         },
         {
          "PRICE": 50,
          "PTRATIO": 20.2,
          "model": "C",
          "predicted PRICE": 41.38666666666666
         },
         {
          "PRICE": 50,
          "PTRATIO": 20.2,
          "model": "C",
          "predicted PRICE": 41.38666666666666
         },
         {
          "PRICE": 13.8,
          "PTRATIO": 20.2,
          "model": "C",
          "predicted PRICE": 41.38666666666666
         },
         {
          "PRICE": 13.8,
          "PTRATIO": 20.2,
          "model": "C",
          "predicted PRICE": 41.38666666666666
         },
         {
          "PRICE": 15,
          "PTRATIO": 20.2,
          "model": "C",
          "predicted PRICE": 41.38666666666666
         },
         {
          "PRICE": 13.9,
          "PTRATIO": 20.2,
          "model": "C",
          "predicted PRICE": 41.38666666666666
         },
         {
          "PRICE": 13.3,
          "PTRATIO": 20.2,
          "model": "C",
          "predicted PRICE": 41.38666666666666
         },
         {
          "PRICE": 13.1,
          "PTRATIO": 20.2,
          "model": "C",
          "predicted PRICE": 41.38666666666666
         },
         {
          "PRICE": 10.2,
          "PTRATIO": 20.2,
          "model": "C",
          "predicted PRICE": 41.38666666666666
         },
         {
          "PRICE": 10.4,
          "PTRATIO": 20.2,
          "model": "C",
          "predicted PRICE": 41.38666666666666
         },
         {
          "PRICE": 10.9,
          "PTRATIO": 20.2,
          "model": "C",
          "predicted PRICE": 41.38666666666666
         },
         {
          "PRICE": 11.3,
          "PTRATIO": 20.2,
          "model": "C",
          "predicted PRICE": 41.38666666666666
         },
         {
          "PRICE": 12.3,
          "PTRATIO": 20.2,
          "model": "C",
          "predicted PRICE": 41.38666666666666
         },
         {
          "PRICE": 8.8,
          "PTRATIO": 20.2,
          "model": "C",
          "predicted PRICE": 41.38666666666666
         },
         {
          "PRICE": 7.2,
          "PTRATIO": 20.2,
          "model": "C",
          "predicted PRICE": 41.38666666666666
         },
         {
          "PRICE": 10.5,
          "PTRATIO": 20.2,
          "model": "C",
          "predicted PRICE": 41.38666666666666
         },
         {
          "PRICE": 7.4,
          "PTRATIO": 20.2,
          "model": "C",
          "predicted PRICE": 41.38666666666666
         },
         {
          "PRICE": 10.2,
          "PTRATIO": 20.2,
          "model": "C",
          "predicted PRICE": 41.38666666666666
         },
         {
          "PRICE": 11.5,
          "PTRATIO": 20.2,
          "model": "C",
          "predicted PRICE": 41.38666666666666
         },
         {
          "PRICE": 15.1,
          "PTRATIO": 20.2,
          "model": "C",
          "predicted PRICE": 41.38666666666666
         },
         {
          "PRICE": 23.2,
          "PTRATIO": 20.2,
          "model": "C",
          "predicted PRICE": 41.38666666666666
         },
         {
          "PRICE": 9.7,
          "PTRATIO": 20.2,
          "model": "C",
          "predicted PRICE": 41.38666666666666
         },
         {
          "PRICE": 13.8,
          "PTRATIO": 20.2,
          "model": "C",
          "predicted PRICE": 41.38666666666666
         },
         {
          "PRICE": 12.7,
          "PTRATIO": 20.2,
          "model": "C",
          "predicted PRICE": 41.38666666666666
         },
         {
          "PRICE": 13.1,
          "PTRATIO": 20.2,
          "model": "C",
          "predicted PRICE": 41.38666666666666
         },
         {
          "PRICE": 12.5,
          "PTRATIO": 20.2,
          "model": "C",
          "predicted PRICE": 41.38666666666666
         },
         {
          "PRICE": 8.5,
          "PTRATIO": 20.2,
          "model": "C",
          "predicted PRICE": 41.38666666666666
         },
         {
          "PRICE": 5,
          "PTRATIO": 20.2,
          "model": "C",
          "predicted PRICE": 41.38666666666666
         },
         {
          "PRICE": 6.3,
          "PTRATIO": 20.2,
          "model": "C",
          "predicted PRICE": 41.38666666666666
         },
         {
          "PRICE": 5.6,
          "PTRATIO": 20.2,
          "model": "C",
          "predicted PRICE": 41.38666666666666
         },
         {
          "PRICE": 7.2,
          "PTRATIO": 20.2,
          "model": "C",
          "predicted PRICE": 41.38666666666666
         },
         {
          "PRICE": 12.1,
          "PTRATIO": 20.2,
          "model": "C",
          "predicted PRICE": 41.38666666666666
         },
         {
          "PRICE": 8.3,
          "PTRATIO": 20.2,
          "model": "C",
          "predicted PRICE": 41.38666666666666
         },
         {
          "PRICE": 8.5,
          "PTRATIO": 20.2,
          "model": "C",
          "predicted PRICE": 41.38666666666666
         },
         {
          "PRICE": 5,
          "PTRATIO": 20.2,
          "model": "C",
          "predicted PRICE": 41.38666666666666
         },
         {
          "PRICE": 11.9,
          "PTRATIO": 20.2,
          "model": "C",
          "predicted PRICE": 41.38666666666666
         },
         {
          "PRICE": 27.9,
          "PTRATIO": 20.2,
          "model": "C",
          "predicted PRICE": 41.38666666666666
         },
         {
          "PRICE": 17.2,
          "PTRATIO": 20.2,
          "model": "C",
          "predicted PRICE": 41.38666666666666
         },
         {
          "PRICE": 27.5,
          "PTRATIO": 20.2,
          "model": "C",
          "predicted PRICE": 41.38666666666666
         },
         {
          "PRICE": 15,
          "PTRATIO": 20.2,
          "model": "C",
          "predicted PRICE": 41.38666666666666
         },
         {
          "PRICE": 17.2,
          "PTRATIO": 20.2,
          "model": "C",
          "predicted PRICE": 41.38666666666666
         },
         {
          "PRICE": 17.9,
          "PTRATIO": 20.2,
          "model": "C",
          "predicted PRICE": 41.38666666666666
         },
         {
          "PRICE": 16.3,
          "PTRATIO": 20.2,
          "model": "C",
          "predicted PRICE": 41.38666666666666
         },
         {
          "PRICE": 7,
          "PTRATIO": 20.2,
          "model": "C",
          "predicted PRICE": 41.38666666666666
         },
         {
          "PRICE": 7.2,
          "PTRATIO": 20.2,
          "model": "C",
          "predicted PRICE": 41.38666666666666
         },
         {
          "PRICE": 7.5,
          "PTRATIO": 20.2,
          "model": "C",
          "predicted PRICE": 41.38666666666666
         },
         {
          "PRICE": 10.4,
          "PTRATIO": 20.2,
          "model": "C",
          "predicted PRICE": 41.38666666666666
         },
         {
          "PRICE": 8.8,
          "PTRATIO": 20.2,
          "model": "C",
          "predicted PRICE": 41.38666666666666
         },
         {
          "PRICE": 8.4,
          "PTRATIO": 20.2,
          "model": "C",
          "predicted PRICE": 41.38666666666666
         },
         {
          "PRICE": 16.7,
          "PTRATIO": 20.2,
          "model": "C",
          "predicted PRICE": 41.38666666666666
         },
         {
          "PRICE": 14.2,
          "PTRATIO": 20.2,
          "model": "C",
          "predicted PRICE": 41.38666666666666
         },
         {
          "PRICE": 20.8,
          "PTRATIO": 20.2,
          "model": "C",
          "predicted PRICE": 41.38666666666666
         },
         {
          "PRICE": 13.4,
          "PTRATIO": 20.2,
          "model": "C",
          "predicted PRICE": 41.38666666666666
         },
         {
          "PRICE": 11.7,
          "PTRATIO": 20.2,
          "model": "C",
          "predicted PRICE": 41.38666666666666
         },
         {
          "PRICE": 8.3,
          "PTRATIO": 20.2,
          "model": "C",
          "predicted PRICE": 41.38666666666666
         },
         {
          "PRICE": 10.2,
          "PTRATIO": 20.2,
          "model": "C",
          "predicted PRICE": 41.38666666666666
         },
         {
          "PRICE": 10.9,
          "PTRATIO": 20.2,
          "model": "C",
          "predicted PRICE": 41.38666666666666
         },
         {
          "PRICE": 11,
          "PTRATIO": 20.2,
          "model": "C",
          "predicted PRICE": 41.38666666666666
         },
         {
          "PRICE": 9.5,
          "PTRATIO": 20.2,
          "model": "C",
          "predicted PRICE": 41.38666666666666
         },
         {
          "PRICE": 14.5,
          "PTRATIO": 20.2,
          "model": "C",
          "predicted PRICE": 41.38666666666666
         },
         {
          "PRICE": 14.1,
          "PTRATIO": 20.2,
          "model": "C",
          "predicted PRICE": 41.38666666666666
         },
         {
          "PRICE": 16.1,
          "PTRATIO": 20.2,
          "model": "C",
          "predicted PRICE": 41.38666666666666
         },
         {
          "PRICE": 14.3,
          "PTRATIO": 20.2,
          "model": "C",
          "predicted PRICE": 41.38666666666666
         },
         {
          "PRICE": 11.7,
          "PTRATIO": 20.2,
          "model": "C",
          "predicted PRICE": 41.38666666666666
         },
         {
          "PRICE": 13.4,
          "PTRATIO": 20.2,
          "model": "C",
          "predicted PRICE": 41.38666666666666
         },
         {
          "PRICE": 9.6,
          "PTRATIO": 20.2,
          "model": "C",
          "predicted PRICE": 41.38666666666666
         },
         {
          "PRICE": 8.7,
          "PTRATIO": 20.2,
          "model": "C",
          "predicted PRICE": 41.38666666666666
         },
         {
          "PRICE": 8.4,
          "PTRATIO": 20.2,
          "model": "C",
          "predicted PRICE": 41.38666666666666
         },
         {
          "PRICE": 12.8,
          "PTRATIO": 20.2,
          "model": "C",
          "predicted PRICE": 41.38666666666666
         },
         {
          "PRICE": 10.5,
          "PTRATIO": 20.2,
          "model": "C",
          "predicted PRICE": 41.38666666666666
         },
         {
          "PRICE": 17.1,
          "PTRATIO": 20.2,
          "model": "C",
          "predicted PRICE": 41.38666666666666
         },
         {
          "PRICE": 18.4,
          "PTRATIO": 20.2,
          "model": "C",
          "predicted PRICE": 41.38666666666666
         },
         {
          "PRICE": 15.4,
          "PTRATIO": 20.2,
          "model": "C",
          "predicted PRICE": 41.38666666666666
         },
         {
          "PRICE": 10.8,
          "PTRATIO": 20.2,
          "model": "C",
          "predicted PRICE": 41.38666666666666
         },
         {
          "PRICE": 11.8,
          "PTRATIO": 20.2,
          "model": "C",
          "predicted PRICE": 41.38666666666666
         },
         {
          "PRICE": 14.9,
          "PTRATIO": 20.2,
          "model": "C",
          "predicted PRICE": 41.38666666666666
         },
         {
          "PRICE": 12.6,
          "PTRATIO": 20.2,
          "model": "C",
          "predicted PRICE": 41.38666666666666
         },
         {
          "PRICE": 14.1,
          "PTRATIO": 20.2,
          "model": "C",
          "predicted PRICE": 41.38666666666666
         },
         {
          "PRICE": 13,
          "PTRATIO": 20.2,
          "model": "C",
          "predicted PRICE": 41.38666666666666
         },
         {
          "PRICE": 13.4,
          "PTRATIO": 20.2,
          "model": "C",
          "predicted PRICE": 41.38666666666666
         },
         {
          "PRICE": 15.2,
          "PTRATIO": 20.2,
          "model": "C",
          "predicted PRICE": 41.38666666666666
         },
         {
          "PRICE": 16.1,
          "PTRATIO": 20.2,
          "model": "C",
          "predicted PRICE": 41.38666666666666
         },
         {
          "PRICE": 17.8,
          "PTRATIO": 20.2,
          "model": "C",
          "predicted PRICE": 41.38666666666666
         },
         {
          "PRICE": 14.9,
          "PTRATIO": 20.2,
          "model": "C",
          "predicted PRICE": 41.38666666666666
         },
         {
          "PRICE": 14.1,
          "PTRATIO": 20.2,
          "model": "C",
          "predicted PRICE": 41.38666666666666
         },
         {
          "PRICE": 12.7,
          "PTRATIO": 20.2,
          "model": "C",
          "predicted PRICE": 41.38666666666666
         },
         {
          "PRICE": 13.5,
          "PTRATIO": 20.2,
          "model": "C",
          "predicted PRICE": 41.38666666666666
         },
         {
          "PRICE": 14.9,
          "PTRATIO": 20.2,
          "model": "C",
          "predicted PRICE": 41.38666666666666
         },
         {
          "PRICE": 20,
          "PTRATIO": 20.2,
          "model": "C",
          "predicted PRICE": 41.38666666666666
         },
         {
          "PRICE": 16.4,
          "PTRATIO": 20.2,
          "model": "C",
          "predicted PRICE": 41.38666666666666
         },
         {
          "PRICE": 17.7,
          "PTRATIO": 20.2,
          "model": "C",
          "predicted PRICE": 41.38666666666666
         },
         {
          "PRICE": 19.5,
          "PTRATIO": 20.2,
          "model": "C",
          "predicted PRICE": 41.38666666666666
         },
         {
          "PRICE": 20.2,
          "PTRATIO": 20.2,
          "model": "C",
          "predicted PRICE": 41.38666666666666
         },
         {
          "PRICE": 21.4,
          "PTRATIO": 20.2,
          "model": "C",
          "predicted PRICE": 41.38666666666666
         },
         {
          "PRICE": 19.9,
          "PTRATIO": 20.2,
          "model": "C",
          "predicted PRICE": 41.38666666666666
         },
         {
          "PRICE": 19,
          "PTRATIO": 20.2,
          "model": "C",
          "predicted PRICE": 41.38666666666666
         },
         {
          "PRICE": 19.1,
          "PTRATIO": 20.2,
          "model": "C",
          "predicted PRICE": 41.38666666666666
         },
         {
          "PRICE": 19.1,
          "PTRATIO": 20.2,
          "model": "C",
          "predicted PRICE": 41.38666666666666
         },
         {
          "PRICE": 20.1,
          "PTRATIO": 20.2,
          "model": "C",
          "predicted PRICE": 41.38666666666666
         },
         {
          "PRICE": 19.9,
          "PTRATIO": 20.2,
          "model": "C",
          "predicted PRICE": 41.38666666666666
         },
         {
          "PRICE": 19.6,
          "PTRATIO": 20.2,
          "model": "C",
          "predicted PRICE": 41.38666666666666
         },
         {
          "PRICE": 23.2,
          "PTRATIO": 20.2,
          "model": "C",
          "predicted PRICE": 41.38666666666666
         },
         {
          "PRICE": 29.8,
          "PTRATIO": 20.2,
          "model": "C",
          "predicted PRICE": 41.38666666666666
         },
         {
          "PRICE": 13.8,
          "PTRATIO": 20.2,
          "model": "C",
          "predicted PRICE": 41.38666666666666
         },
         {
          "PRICE": 13.3,
          "PTRATIO": 20.2,
          "model": "C",
          "predicted PRICE": 41.38666666666666
         },
         {
          "PRICE": 16.7,
          "PTRATIO": 20.2,
          "model": "C",
          "predicted PRICE": 41.38666666666666
         },
         {
          "PRICE": 12,
          "PTRATIO": 20.2,
          "model": "C",
          "predicted PRICE": 41.38666666666666
         },
         {
          "PRICE": 14.6,
          "PTRATIO": 20.2,
          "model": "C",
          "predicted PRICE": 41.38666666666666
         },
         {
          "PRICE": 21.4,
          "PTRATIO": 20.2,
          "model": "C",
          "predicted PRICE": 41.38666666666666
         },
         {
          "PRICE": 23,
          "PTRATIO": 20.2,
          "model": "C",
          "predicted PRICE": 41.38666666666666
         },
         {
          "PRICE": 23.7,
          "PTRATIO": 20.2,
          "model": "C",
          "predicted PRICE": 41.38666666666666
         },
         {
          "PRICE": 25,
          "PTRATIO": 20.2,
          "model": "C",
          "predicted PRICE": 41.38666666666666
         },
         {
          "PRICE": 21.8,
          "PTRATIO": 20.2,
          "model": "C",
          "predicted PRICE": 41.38666666666666
         },
         {
          "PRICE": 20.6,
          "PTRATIO": 20.2,
          "model": "C",
          "predicted PRICE": 41.38666666666666
         },
         {
          "PRICE": 21.2,
          "PTRATIO": 20.2,
          "model": "C",
          "predicted PRICE": 41.38666666666666
         },
         {
          "PRICE": 19.1,
          "PTRATIO": 20.2,
          "model": "C",
          "predicted PRICE": 41.38666666666666
         },
         {
          "PRICE": 20.6,
          "PTRATIO": 20.2,
          "model": "C",
          "predicted PRICE": 41.38666666666666
         },
         {
          "PRICE": 15.2,
          "PTRATIO": 20.1,
          "model": "C",
          "predicted PRICE": 41.19666666666667
         },
         {
          "PRICE": 7,
          "PTRATIO": 20.1,
          "model": "C",
          "predicted PRICE": 41.19666666666667
         },
         {
          "PRICE": 8.1,
          "PTRATIO": 20.1,
          "model": "C",
          "predicted PRICE": 41.19666666666667
         },
         {
          "PRICE": 13.6,
          "PTRATIO": 20.1,
          "model": "C",
          "predicted PRICE": 41.19666666666667
         },
         {
          "PRICE": 20.1,
          "PTRATIO": 20.1,
          "model": "C",
          "predicted PRICE": 41.19666666666667
         },
         {
          "PRICE": 21.8,
          "PTRATIO": 19.2,
          "model": "C",
          "predicted PRICE": 39.18666666666667
         },
         {
          "PRICE": 24.5,
          "PTRATIO": 19.2,
          "model": "C",
          "predicted PRICE": 39.18666666666667
         },
         {
          "PRICE": 23.1,
          "PTRATIO": 19.2,
          "model": "C",
          "predicted PRICE": 39.18666666666667
         },
         {
          "PRICE": 19.7,
          "PTRATIO": 19.2,
          "model": "C",
          "predicted PRICE": 39.18666666666667
         },
         {
          "PRICE": 18.3,
          "PTRATIO": 19.2,
          "model": "C",
          "predicted PRICE": 39.18666666666667
         },
         {
          "PRICE": 21.2,
          "PTRATIO": 19.2,
          "model": "C",
          "predicted PRICE": 39.18666666666667
         },
         {
          "PRICE": 17.5,
          "PTRATIO": 19.2,
          "model": "C",
          "predicted PRICE": 39.18666666666667
         },
         {
          "PRICE": 16.8,
          "PTRATIO": 19.2,
          "model": "C",
          "predicted PRICE": 39.18666666666667
         },
         {
          "PRICE": 22.4,
          "PTRATIO": 21,
          "model": "C",
          "predicted PRICE": 42.666666666666664
         },
         {
          "PRICE": 20.6,
          "PTRATIO": 21,
          "model": "C",
          "predicted PRICE": 42.666666666666664
         },
         {
          "PRICE": 23.9,
          "PTRATIO": 21,
          "model": "C",
          "predicted PRICE": 42.666666666666664
         },
         {
          "PRICE": 22,
          "PTRATIO": 21,
          "model": "C",
          "predicted PRICE": 42.666666666666664
         },
         {
          "PRICE": 11.9,
          "PTRATIO": 21,
          "model": "C",
          "predicted PRICE": 42.666666666666664
         }
        ]
       },
       "facet": {
        "field": "model",
        "type": "nominal"
       },
       "spec": {
        "layer": [
         {
          "encoding": {
           "x": {
            "field": "PTRATIO",
            "scale": {
             "zero": false
            },
            "type": "quantitative"
           },
           "y": {
            "field": "PRICE",
            "scale": {
             "zero": false
            },
            "type": "quantitative"
           }
          },
          "height": 200,
          "mark": "point",
          "width": 200
         },
         {
          "encoding": {
           "x": {
            "field": "PTRATIO",
            "scale": {
             "zero": false
            },
            "type": "quantitative"
           },
           "y": {
            "field": "predicted PRICE",
            "scale": {
             "zero": false
            },
            "type": "quantitative"
           }
          },
          "height": 200,
          "mark": {
           "color": "black",
           "type": "line"
          },
          "width": 200
         }
        ]
       }
      },
      "image/png": "[encoded data removed]",
      "text/plain": [
       "<VegaLite 3 object>\n",
       "\n",
       "If you see this message, it means the renderer has not been properly enabled\n",
       "for the frontend that you are using. For more information, see\n",
       "https://altair-viz.github.io/user_guide/troubleshooting.html\n"
      ]
     },
     "execution_count": 110,
     "metadata": {},
     "output_type": "execute_result"
    }
   ],
   "source": [
    "for m, f in F.items():\n",
    "    bos[m] = f(np.array(bos.PTRATIO))\n",
    "    \n",
    "bos_melted = bos[['PRICE', 'PTRATIO'] + list(F.keys())].melt(\n",
    "    id_vars = ['PRICE', 'PTRATIO'], \n",
    "    value_vars = F.keys(),\n",
    "    var_name = 'model',\n",
    "    value_name = 'predicted PRICE'\n",
    ")\n",
    "\n",
    "cht = alt.Chart(bos_melted, height=200, width=200)\n",
    "\n",
    "points = cht.mark_point().encode(\n",
    "    x=alt.X('PTRATIO', scale=alt.Scale(zero=False)),\n",
    "    y=alt.Y('PRICE', scale=alt.Scale(zero=False))\n",
    ")\n",
    "\n",
    "lines = cht.mark_line(color = 'black').encode(\n",
    "    x=alt.X('PTRATIO', scale=alt.Scale(zero=False)),\n",
    "    y=alt.Y('predicted PRICE', scale=alt.Scale(zero=False))\n",
    ")\n",
    "\n",
    "(points + lines).facet('model')"
   ]
  },
  {
   "cell_type": "markdown",
   "metadata": {},
   "source": [
    "We'll call the set $\\mathcal F = \\{f_A, f_B, f_C\\}$ our *model space*. A model space is nothing more a collection of functions that we will consider as candidate models. Every supervised learning algorithm has a model space, whether implicit or explicit."
   ]
  },
  {
   "cell_type": "markdown",
   "metadata": {},
   "source": [
    "If these were the only three functions in the world, \"fitting\" a supervised learning model would just be a question of determining which of these three is the best model. Which begs the question: what do we mean by \"best\"? Using the naked eye, it looks like model B \"fits\" the data the best out of these three, but we need to come up with an objective way to judge fit. In other words, we need to come up with a function that takes a model and the data as inputs and returns a single number that quantifies how well the model fits the data. We'll call that function a *loss* function, since it will measure, in a sense, how much we \"lose\" by using a particular model. The loss is sometimes also called the *criterion* or *objective*. Here's an example of a loss function, notated mathematically and also in code:\n",
    "\n",
    "$$\n",
    "L(f, X, Y) = \\frac{1}{n}\\sum_i |y_i - f(x_i)|\n",
    "$$"
   ]
  },
  {
   "cell_type": "code",
   "execution_count": 111,
   "metadata": {},
   "outputs": [],
   "source": [
    "def loss(f, X, Y):\n",
    "    return np.sum(np.abs(Y - f(X)))/len(Y)"
   ]
  },
  {
   "cell_type": "markdown",
   "metadata": {},
   "source": [
    "The quantity $y_i - f(x_i)$ captures the discrepancy between what the model predicts ($f(x_i)$) and what was truly observed ($y_i$). "
   ]
  },
  {
   "cell_type": "markdown",
   "metadata": {},
   "source": [
    "* residual plot"
   ]
  },
  {
   "cell_type": "markdown",
   "metadata": {},
   "source": [
    "* evaluate loss of these three models = optimization algorithm"
   ]
  },
  {
   "cell_type": "code",
   "execution_count": 112,
   "metadata": {},
   "outputs": [
    {
     "data": {
      "text/plain": [
       "6.617786561264822"
      ]
     },
     "execution_count": 112,
     "metadata": {},
     "output_type": "execute_result"
    }
   ],
   "source": [
    "loss(F['A'], X, Y)"
   ]
  },
  {
   "cell_type": "code",
   "execution_count": null,
   "metadata": {},
   "outputs": [],
   "source": []
  }
 ],
 "metadata": {
  "kernelspec": {
   "display_name": "Python 3",
   "language": "python",
   "name": "python3"
  },
  "language_info": {
   "codemirror_mode": {
    "name": "ipython",
    "version": 3
   },
   "file_extension": ".py",
   "mimetype": "text/x-python",
   "name": "python",
   "nbconvert_exporter": "python",
   "pygments_lexer": "ipython3",
   "version": "3.7.6"
  }
 },
 "nbformat": 4,
 "nbformat_minor": 4
}
