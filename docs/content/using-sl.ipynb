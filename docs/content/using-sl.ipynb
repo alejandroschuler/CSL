{
 "cells": [
  {
   "cell_type": "markdown",
   "metadata": {},
   "source": [
    "# Using Supervised Learning"
   ]
  },
  {
   "cell_type": "markdown",
   "metadata": {},
   "source": [
    "Understanding supervised learning isn't just about knowing how the methods work. What's actually far more important is understanding *when* and *how* to apply these tools. It doesn't help to know how to use a tool if you don't know when to use it. To get to that, we'll first discuss the different kinds of scientific questions there are, and then find out if and how supervised learning can be used to answer them."
   ]
  }
 ],
 "metadata": {
  "kernelspec": {
   "display_name": "Python 3",
   "language": "python",
   "name": "python3"
  },
  "language_info": {
   "codemirror_mode": {
    "name": "ipython",
    "version": 3
   },
   "file_extension": ".py",
   "mimetype": "text/x-python",
   "name": "python",
   "nbconvert_exporter": "python",
   "pygments_lexer": "ipython3",
   "version": "3.7.6"
  }
 },
 "nbformat": 4,
 "nbformat_minor": 4
}
