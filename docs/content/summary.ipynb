{
 "cells": [
  {
   "cell_type": "markdown",
   "metadata": {},
   "source": [
    "# Summary"
   ]
  },
  {
   "cell_type": "markdown",
   "metadata": {},
   "source": [
    "In this chapter, we discussed the different kinds of questions that can be answered with data. One of these questions is the predictive question: given some variables ($x$), can we accurately predict the value of a different variable ($y$)? Supervised learning, a branch of machine learning, is a set of tools designed to answer predictive questions. In conjunction with other tools and assumptions, supervised learning can also be used to answer other kinds of questions too.\n",
    "\n",
    "In the next chapter we'll dive into how methods for supervised learning work."
   ]
  }
 ],
 "metadata": {
  "kernelspec": {
   "display_name": "Python 3",
   "language": "python",
   "name": "python3"
  },
  "language_info": {
   "codemirror_mode": {
    "name": "ipython",
    "version": 3
   },
   "file_extension": ".py",
   "mimetype": "text/x-python",
   "name": "python",
   "nbconvert_exporter": "python",
   "pygments_lexer": "ipython3",
   "version": "3.7.6"
  }
 },
 "nbformat": 4,
 "nbformat_minor": 4
}
