{
 "cells": [
  {
   "cell_type": "markdown",
   "metadata": {},
   "source": [
    "# What is Supervised Learning?"
   ]
  },
  {
   "cell_type": "markdown",
   "metadata": {},
   "source": [
    "Supervised learning is the task of figuring out how to guess the output from a given input based on previously seen pairings of output and input. For example, given 1000 photographs labeled as either pictures of cats or dogs, can we build an algorithm to assign the label \"cat\" or \"dog\" to new photographs of unknown subject matter? Here are some other examples of supervised learning problems:\n",
    "\n",
    "* predicting tomorrow's temperature given today's weather, based on prior weather data\n",
    "* predicting which future patients will develop diabetes, based on data on past diabetic and non-diabetic patients\n",
    "* labeling emails as either spam or not spam based on a database of spam and non-spam emails"
   ]
  },
  {
   "cell_type": "markdown",
   "metadata": {},
   "source": [
    "Let's say we observe 1000 patients in a hospital, each of whom has measurements of their pre-treatment blood pressure, heart rate, etc. and also their corresponding blood pressure after taking a drug. We'll call this our *training data*. For a new patient who walks in the door, given their current vital signs, can we predict their post-treatment blood pressure? \n",
    "\n",
    "## Data\n",
    "\n",
    "We'll use a subscript $i$ to refer to data about the $i$th patient. So, for example, if $z$ were some measurement we made on all patients, $z_i$ would be the value of that measurement for the $i$th patient. The patient in our example is what we call the **unit of observation**. But if we were talking about classifying photographs as having cats or not having cats in them, the unit of observation would be the photographs. So, in general, the subscript $i$ refers to the $i$th observation in the dataset, which could be a patient, a photograph, a credit card transaction, etc. \n",
    "\n",
    "The total number of observations in our data is usually called $n$, so $i$ could stand for any number between 1 and $n$. A shorter way to write that is $i \\in \\{1, 2, \\dots n\\}$. You can read $\\in$ as \"in\", so this says \"$i$ is a number in the set of numbers that includes 1, 2, ... all the way up to $n$\". We'll use that notation for other things as well.\n",
    "\n",
    "We usually use the variable $y$ to refer to the measurement we are trying to predict, which is in this case the patient's post-treatment blood pressure. You'll most often see $y$ called the **target**, **label**, or **outcome**. Using our observation subscripts, $y_1$ would be the first patient's post-treatment blood pressure, $y_2$ would be the second patient's blood pressure, etc. \n",
    "\n",
    "We can do the same thing for the other measurements, which are called **predictors**, **features**, or **covariates**. We could use different letters for each predictor, e.g. pre-treatment blood pressure would be $z$, pre-treatment heart rate would be $x$, but the standard practice is to call them all \"$x$\", but subscript them with an index $j$ (different than the index $i$ that refers to the unit of observation). So, in our example, we'll say $x_{i1}$ is patient $i$'s pre-treatment blood pressure, $x_{i2}$ is their pre-treatment heart rate, etc. We will use $p$ to refer to the number of predictors we have for each observation, so $j \\in \\{1 \\dots p\\}$. We'll use $x_i$ to refer to a list of all of the features for observation $i$:\n",
    "\n",
    "$$\n",
    "x_i = \n",
    "\\left[\n",
    "\\begin{array}{cccc}\n",
    "x_{i1} & x_{i2} & \\cdots & x_{ip}\n",
    "\\end{array}\n",
    "\\right] \n",
    "$$\n",
    "\n",
    "\n",
    "Now each observation is decribed by its target $y_i$ and its vector of predictors $x_i$. We stack these measurements together into lists of outcomes and predictors so we can refer to all of them at once:\n",
    "\n",
    "$$\n",
    "X = \n",
    "\\left[\n",
    "\\begin{array}{c}\n",
    "x_1 \\\\ x_2 \\\\ \\vdots \\\\ x_n\n",
    "\\end{array}\n",
    "\\right] \n",
    "=\n",
    "\\left[\n",
    "\\begin{array}{cccc}\n",
    "x_{11} & x_{12} & \\cdots & x_{1p} \\\\\n",
    "x_{21} & x_{22} & \\cdots & x_{2p} \\\\\n",
    "\\vdots & & \\ddots & \\vdots \\\\\n",
    "x_{n1} & x_{n2} & \\cdots & x_{np} \n",
    "\\end{array}\n",
    "\\right]\n",
    "\\quad\n",
    "Y = \n",
    "\\left[\n",
    "\\begin{array}{c}\n",
    "y_1 \\\\ y_2 \\\\ \\vdots \\\\ y_n\n",
    "\\end{array}\n",
    "\\right] \n",
    "$$\n",
    "\n",
    "You may recall that ordered lists of numbers are also called vectors, and a list of lists of numbers (like $X$) can be written as a matrix. These are the terms we'll use going forward. \n",
    "\n",
    "Note that each column of $X$ (which we'll call $x_{:j}$) is a vector that contains every measurement of the $j$th feature."
   ]
  },
  {
   "cell_type": "code",
   "execution_count": null,
   "metadata": {
    "tags": [
     "hide_input"
    ]
   },
   "outputs": [],
   "source": [
    "# Exercise with a supervised learning example- what are the xs and ys, unit of obs, etc."
   ]
  },
  {
   "cell_type": "code",
   "execution_count": null,
   "metadata": {
    "tags": [
     "hide_input"
    ]
   },
   "outputs": [],
   "source": [
    "# example in a pandas dataframe, etc."
   ]
  },
  {
   "cell_type": "markdown",
   "metadata": {},
   "source": [
    "## Learning"
   ]
  },
  {
   "cell_type": "markdown",
   "metadata": {},
   "source": [
    "Now we can formalize our learning problem in the abstract. All the measurements for the existing patients are contained in the matrix of predictors $X$ and the vector of targets $Y$. A new patient walks in the door (patient #$n+1$), and we measure all their predictors $x$. What we don't observe, but want to estimate, is the value of their target, $y$.\n",
    "\n",
    "One way to approach this problem is to solve it manually. For instance, we could write up a program based on our knowledge of how blood pressure changes in response to drugs to make a prediction. It might look something like this:\n",
    "\n",
    "```\n",
    "def predict(x)\n",
    "    prev_blood_pressure, age, ... = x\n",
    "    \n",
    "    if age < 16:\n",
    "        y = 120\n",
    "    if prev_blood_pressure > 150:\n",
    "        y = 1.1*prev_blood_pressure\n",
    "    ...\n",
    "    \n",
    "    return y\n",
    "```\n",
    "\n",
    "The problem with this is that it assumes we already know how to predict future blood pressure given what we know. But what if we have no idea how the features can be used to predict future blood pressure? Or what if we have a vague idea, but don't know if our prediction is really the best that we could hope for? What would be ideal is if a computer could analyze the data we already have and then write the `predict()` code for us.\n",
    "\n",
    "The process of building a *model* that can produce estimates of $y$ given $x$ based on the measurements in the training data $X$ and $Y$ is often called *fitting* or *learning* the model. What you get out of that process is a rule, or an algorithm, that associates a value $y$ for each possible $x$ you feed to it (basically, the `predict()` function). That rule is sometimes called the *fit model* or the *prediction rule*. "
   ]
  },
  {
   "cell_type": "code",
   "execution_count": null,
   "metadata": {
    "tags": [
     "hide_input"
    ]
   },
   "outputs": [],
   "source": [
    "# example with sklearn:"
   ]
  },
  {
   "cell_type": "markdown",
   "metadata": {},
   "source": [
    "```\n",
    "X, Y = load_and_process_data()\n",
    "model = learn(X,Y)\n",
    "y_predicted = model.predict(x_new)\n",
    "```"
   ]
  },
  {
   "cell_type": "markdown",
   "metadata": {},
   "source": [
    "## Evaluating"
   ]
  },
  {
   "cell_type": "markdown",
   "metadata": {},
   "source": [
    "But that's only half of the challenge. It's actually pretty easy to come up with *a* model. For instance, a dumb model for the blood pressure prediction problem might be to always predict $y=120$, no matter what $x$ is. "
   ]
  },
  {
   "cell_type": "code",
   "execution_count": null,
   "metadata": {},
   "outputs": [],
   "source": [
    "def predict(x):\n",
    "    return 120"
   ]
  },
  {
   "cell_type": "code",
   "execution_count": null,
   "metadata": {},
   "outputs": [],
   "source": []
  }
 ],
 "metadata": {
  "kernelspec": {
   "display_name": "",
   "name": ""
  },
  "language_info": {
   "name": ""
  }
 },
 "nbformat": 4,
 "nbformat_minor": 4
}
