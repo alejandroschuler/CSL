{
 "cells": [
  {
   "cell_type": "markdown",
   "metadata": {},
   "source": [
    "# Model Evaluation"
   ]
  },
  {
   "cell_type": "markdown",
   "metadata": {},
   "source": [
    "At the end of the day, we're looking for a model that will help us predict accurately in the future. So the best way to evaluate a model would be to travel forward in time from the time of model deployment until the end of time, gather up all of the model predictions, and compare them to what actually ended up happening. Obviously this isn't feasible, but we need to clearly identify what it is we're trying to optimize before we can figure out a way to get around the practical problems in estimating it."
   ]
  },
  {
   "cell_type": "markdown",
   "metadata": {},
   "source": [
    "## Evaluation Metrics"
   ]
  },
  {
   "cell_type": "markdown",
   "metadata": {},
   "source": [
    "The first thing we need to do is iron out the details of what we mean by \"comparing\" the predictions to what actually happened. To do that, we need to come up with a rule that tells us how happy we are with a prediction $\\hat y$ (in the case of regression) or $\\hat p$ (in the case of probabilistic classification) if the real outcome was $y$. We'll call that rule an *evaluation metric* and denote it $M(y,\\hat y)$. The absolute error $|\\hat y - y|$ is one possible metric in the case of regression, as is accuracy $(\\hat p > 0.5) == y$ in the case of classification. The purpose of the evaluation metric is to encode what *you* think makes a good prediction, so the sky is the limit. Maybe if you predict within 0.1 of the truth it's all the same to you, but if you're further out than that then you want to penalize quadratically. Maybe after a certain amount of error all predictions are equally bad so you don't care to penalize any more than some maximum value. It's up to you to decide."
   ]
  },
  {
   "cell_type": "markdown",
   "metadata": {
    "tags": [
     "popout"
    ]
   },
   "source": [
    "##### EXERCISE\n",
    "\n",
    "Write python code for an evaluation metric `def M(y, ŷ):` that returns $|\\hat y - y|$ when that value is less than 10, but returns 10 otherwise. Think up a scenario where you might want to use an evaluation metric like this."
   ]
  },
  {
   "cell_type": "markdown",
   "metadata": {
    "tags": [
     "popout"
    ]
   },
   "source": [
    "##### EXERCISE\n",
    "\n",
    "Imagine you're using some kind of regression model to predict the roll angle (in degrees) of a drone based on video from the drone (i.e. is the drone upside down? tilting 30 degrees left?). The regression model can theoretically output any number between minus and positive infinity. One of your colleagues proposes using absolute deviation $|\\hat y -y|$ as the evaluation metric, but another colleague instead proposes `def M(y, ŷ): np.abs(y-ŷ) % 360`. Which do you think is better and why?"
   ]
  },
  {
   "cell_type": "code",
   "execution_count": 3,
   "metadata": {
    "tags": [
     "remove_input"
    ]
   },
   "outputs": [],
   "source": [
    "# metrics to evaluate interrelated predictions?"
   ]
  },
  {
   "cell_type": "markdown",
   "metadata": {},
   "source": [
    "### Metrics and Losses"
   ]
  },
  {
   "cell_type": "markdown",
   "metadata": {},
   "source": [
    "The evaluation metric is a lot like a loss function in that it tells you how bad or good your prediction is relative to reality. In many cases, the evaluation metric and the loss function used to fit the model in the first place are the same (e.g. mean-squared error for both). However, there are many cases in which they are not the same. There are several reasons why you might want to use a different loss function than your evaluation metric. One common reason is that the evaluation metric you want to use is not differentiable, but the optimization algorithm you are using requires gradients. This is often the case with classification: perhaps the 1/0 classification accuracy is the metric you really care about, but, since it is not differentiable, you use the log loss (cross entropy) instead. Another possible reason is that your evaluation metric includes interactions between several model predictions and outcomes instead of just comparing them one-by-one (we won't discuss metrics like these, but know you can construct them). Or perhaps you would like to use a particular software package that has a particular loss function built into the algorithm, so you aren't free to choose it. \n",
    "\n",
    "All in all, you can think of the loss as a \"dumbed down\" version of the evaluation metric. The evaluation metric is the thing you really care about, but for the purpose of fitting a model, you're willing to use a (simpler) loss as a proxy."
   ]
  },
  {
   "cell_type": "markdown",
   "metadata": {},
   "source": [
    "## Generalization Error"
   ]
  },
  {
   "cell_type": "markdown",
   "metadata": {},
   "source": [
    "Now that we have a way to quantify how good or how bad a prediction is relative to the truth, we can get back to our model evaluation problem. Let's imagine that between now and the end of time, we would gather the data $(X^{\\dagger}, y^{\\dagger})$, where the $\\dagger$ is just there to differentiate these data from what we've observed in the past. These datasets could be either finite or infinite based on how many times we expect the model to run in the future, but either way let's call the total number of future model runs $n^\\dagger$. Let's also say that the model that we've built/trained today is baked into a function $f(x)$ which in code looks something like `def f(x): model.predict(x)`, and that we've chosen an evaluation metric $M$. Then our final measure of how good our model is should be:\n",
    "\n",
    "$$\n",
    "\\mathcal E(f) \n",
    "=\n",
    "\\frac{1}{n^\\dagger} \\sum^{n^\\dagger}_i M(y_i^\\dagger, f(x_i^\\dagger))\n",
    "\\label{gen-error}\n",
    "$$"
   ]
  },
  {
   "cell_type": "markdown",
   "metadata": {},
   "source": [
    "This quantity is called the *generalization error* of the model $f$. \n",
    "\n",
    "The obvious problem with this is that we need to evaluate the model *now*. We don't have the data from the future at this moment, and we can't afford to wait until the end of time (also, if $n^\\dagger$ is infinite, the sum might not even make sense). So because we can't calculate it directly, we have to find a way to *approximate* the generalization error.\n",
    "\n",
    "Approximating the generalization error is *the* central problem of supervised learning. Anyone can come up with a model that produces predictions of one kind or another (using either machine learning or hand-coding), but without quantifying how good this model is likely to perform in the future, it's totally useless. \n",
    "\n",
    "Moreover, there is no \"wrong\" way to fit a model. The consequence of doing a bad job fitting a model is that your model may perform poorly. But that's ok! If you evaluate correctly, you know exactly how poor the performance is and you can try different approaches to try to improve it. On the other hand, there are many wrong ways to approximate the generalization error of a model. If you assess your model incorrectly, you will have absolutely no idea of how good your model is in reality. Furthermore, unless you think critically about the result you're seeing, you may not even have any indication that you did something wrong.\n",
    "\n",
    "This point is so important that it bears repeating: knowing how to *evaluate* a model is more important than knowing how to *fit* a model. You should only worry about the latter once you understand the former. So keep your eye on the prize!"
   ]
  },
  {
   "cell_type": "markdown",
   "metadata": {},
   "source": [
    "## Estimating Generalization Error"
   ]
  },
  {
   "cell_type": "markdown",
   "metadata": {},
   "source": [
    "\n",
    "We want to calculate the generalization error for our model but we can't because we don't have all the future data. One approach we can use to estimate the generalization error is to calculate it using *past* data instead of *future* data. In essence, what we are assuming is that what has happened is a pretty good approximation for what will happen. The extent to which this is not true is the extent to which our approximation will be off. We'll use $\\hat{\\mathcal E}(f)$ to denote this approximation of the generalization error:"
   ]
  },
  {
   "cell_type": "markdown",
   "metadata": {},
   "source": [
    "$$\n",
    "\\mathcal {\\hat E}(f) \n",
    "=\n",
    "\\frac{1}{n} \\sum^{n}_i M(y_i, f(x_i))\n",
    "\\label{empirical-error}\n",
    "$$"
   ]
  },
  {
   "cell_type": "markdown",
   "metadata": {},
   "source": [
    "Let's try this approach out with a simulation. We're going to build a little \"data factory\" that generates rows of data for us. We'll run it $n=1000$ times to generate our observed data $(X,y)$. Then we're going to fit a model using that data, which will give us $f$. Once we have our model, we'll estimate the generalization error $\\hat{\\mathcal E}(f)$ using the above formula \\ref{empirical-error}. \n",
    "\n",
    "However, since our data is simulated, we can also simulate all of the future data $(X^\\dagger,y^\\dagger)$ that we will observe if we let the model run $n^\\dagger=100000$ more times. Assuming we only planned on making 100000 predictions from get-go, that is all the data we need to calcualte the true generalization error $\\mathcal E(f)$ using \\ref{gen-error}. Then we will compare our previously estimated generalization error $\\hat{\\mathcal E}(f)$ to the truth $\\mathcal E(f)$ to see if our approach works. We'll repeat the model building process many times while keeping the future data the same so we can see how good our estimates of model performance are on average."
   ]
  },
  {
   "cell_type": "markdown",
   "metadata": {},
   "source": [
    "Our data factory can be whatever we want, but for this experiment we'll set it up like this:"
   ]
  },
  {
   "cell_type": "code",
   "execution_count": 4,
   "metadata": {},
   "outputs": [],
   "source": [
    "import numpy as np"
   ]
  },
  {
   "cell_type": "code",
   "execution_count": 5,
   "metadata": {},
   "outputs": [],
   "source": [
    "def data_factory(n):\n",
    "    X = np.random.random((n,1)) # 1 predictor\n",
    "    y = 5*np.sin(10*X[:,0]) + np.random.normal(scale=2, size=(n,))\n",
    "    return X,y"
   ]
  },
  {
   "cell_type": "code",
   "execution_count": 6,
   "metadata": {},
   "outputs": [],
   "source": [
    "X,y = data_factory(50)"
   ]
  },
  {
   "cell_type": "code",
   "execution_count": 7,
   "metadata": {
    "tags": [
     "hide_input"
    ]
   },
   "outputs": [
    {
     "data": {
      "application/vnd.vegalite.v3+json": {
       "$schema": "https://vega.github.io/schema/vega-lite/v3.4.0.json",
       "config": {
        "mark": {
         "tooltip": null
        },
        "view": {
         "height": 300,
         "width": 400
        }
       },
       "data": {
        "name": "data-24367b240d4745f70be8b4049d512e8c"
       },
       "datasets": {
        "data-24367b240d4745f70be8b4049d512e8c": [
         {
          "x": 0.2550490378214141,
          "y": 6.055715053300484
         },
         {
          "x": 0.6373334290873793,
          "y": 3.191311746989554
         },
         {
          "x": 0.24449188422858603,
          "y": 6.881696723013828
         },
         {
          "x": 0.035488740473469504,
          "y": 0.772218609898712
         },
         {
          "x": 0.17112855855693965,
          "y": 1.62844162109305
         },
         {
          "x": 0.9940363146388838,
          "y": -2.312473301717375
         },
         {
          "x": 0.7825223410851941,
          "y": 1.20871253034493
         },
         {
          "x": 0.6154722798842589,
          "y": -4.538341206756927
         },
         {
          "x": 0.8798224381868961,
          "y": 2.677245521347093
         },
         {
          "x": 0.6753364615204054,
          "y": 0.6213206512409428
         },
         {
          "x": 0.6258769822504988,
          "y": 3.156614055739039
         },
         {
          "x": 0.4150544595581388,
          "y": -2.6891820116518383
         },
         {
          "x": 0.2833502586348886,
          "y": -0.2623049579676402
         },
         {
          "x": 0.43323195369854794,
          "y": -3.8923326615547422
         },
         {
          "x": 0.27303050089796865,
          "y": 2.2027180927439467
         },
         {
          "x": 0.8638046295583385,
          "y": 5.646023390652571
         },
         {
          "x": 0.3932558425153285,
          "y": -3.493576252918053
         },
         {
          "x": 0.8603805905077808,
          "y": 6.322997095520274
         },
         {
          "x": 0.715649857307904,
          "y": 0.9949142046735702
         },
         {
          "x": 0.26721418341626935,
          "y": 0.14175950549424776
         },
         {
          "x": 0.41445383333893904,
          "y": -2.6071015830803836
         },
         {
          "x": 0.11525852245656376,
          "y": 3.1985841782202136
         },
         {
          "x": 0.7840257452060299,
          "y": 5.669976171050101
         },
         {
          "x": 0.5291134490601329,
          "y": -3.743449246586171
         },
         {
          "x": 0.497900373583698,
          "y": -1.8382500706591185
         },
         {
          "x": 0.5875505624753684,
          "y": -2.112613335615677
         },
         {
          "x": 0.46999142703477537,
          "y": -2.5471464708908984
         },
         {
          "x": 0.22947712781455964,
          "y": 4.548014551830579
         },
         {
          "x": 0.8638099042174998,
          "y": 5.5296698964724
         },
         {
          "x": 0.9048625178995323,
          "y": 0.7185653978275712
         },
         {
          "x": 0.7365605733843135,
          "y": 5.2958476413755236
         },
         {
          "x": 0.24527955597106166,
          "y": -0.8949986973623507
         },
         {
          "x": 0.33338805744240474,
          "y": 0.6363354782590686
         },
         {
          "x": 0.9872944214145347,
          "y": -3.8461428547679337
         },
         {
          "x": 0.5895013694380301,
          "y": -1.9293771436530636
         },
         {
          "x": 0.5485039017466805,
          "y": -2.599703984742656
         },
         {
          "x": 0.21205871413252853,
          "y": 5.680390963041418
         },
         {
          "x": 0.6862994698033132,
          "y": 1.78485778180286
         },
         {
          "x": 0.028410292697331307,
          "y": 0.37025999911000196
         },
         {
          "x": 0.005255482397635514,
          "y": 0.7285532187702622
         },
         {
          "x": 0.8293725299200287,
          "y": 4.817521817436387
         },
         {
          "x": 0.9694556742799048,
          "y": 0.5304581009269993
         },
         {
          "x": 0.2601079755500769,
          "y": 2.4419822125803052
         },
         {
          "x": 0.3285347608085111,
          "y": 0.41407759615485573
         },
         {
          "x": 0.13927419940394214,
          "y": 4.873162897257656
         },
         {
          "x": 0.2673326927338142,
          "y": -0.0046321680129848275
         },
         {
          "x": 0.7380161108848644,
          "y": 4.180610525639534
         },
         {
          "x": 0.03192817656071878,
          "y": 4.5168705315236535
         },
         {
          "x": 0.3238102629705226,
          "y": -4.486186066645536
         },
         {
          "x": 0.5464310938602224,
          "y": -0.6646670790730029
         }
        ]
       },
       "encoding": {
        "x": {
         "field": "x",
         "type": "quantitative"
        },
        "y": {
         "field": "y",
         "type": "quantitative"
        }
       },
       "height": 100,
       "mark": "point"
      },
      "image/png": "[encoded data removed]",
      "text/plain": [
       "<VegaLite 3 object>\n",
       "\n",
       "If you see this message, it means the renderer has not been properly enabled\n",
       "for the frontend that you are using. For more information, see\n",
       "https://altair-viz.github.io/user_guide/troubleshooting.html\n"
      ]
     },
     "execution_count": 7,
     "metadata": {},
     "output_type": "execute_result"
    }
   ],
   "source": [
    "import pandas as pd\n",
    "import altair as alt\n",
    "\n",
    "source = pd.DataFrame({\n",
    "    'x':X[:,0],\n",
    "    'y':y\n",
    "})\n",
    "\n",
    "alt.Chart(\n",
    "    source, \n",
    "    height=100\n",
    ").mark_point(\n",
    ").encode(\n",
    "    alt.X('x'),\n",
    "    alt.Y('y')\n",
    ")"
   ]
  },
  {
   "cell_type": "markdown",
   "metadata": {},
   "source": [
    "Great. Now let's fit a model. I'll use a regression tree for this."
   ]
  },
  {
   "cell_type": "code",
   "execution_count": 8,
   "metadata": {
    "tags": [
     "remove_output"
    ]
   },
   "outputs": [
    {
     "data": {
      "text/plain": [
       "DecisionTreeRegressor(criterion='mse', max_depth=3, max_features=None,\n",
       "                      max_leaf_nodes=None, min_impurity_decrease=0.0,\n",
       "                      min_impurity_split=None, min_samples_leaf=1,\n",
       "                      min_samples_split=2, min_weight_fraction_leaf=0.0,\n",
       "                      presort=False, random_state=None, splitter='best')"
      ]
     },
     "execution_count": 8,
     "metadata": {},
     "output_type": "execute_result"
    }
   ],
   "source": [
    "from sklearn.tree import DecisionTreeRegressor\n",
    "\n",
    "model = DecisionTreeRegressor(max_depth=3)\n",
    "model.fit(X,y)"
   ]
  },
  {
   "cell_type": "markdown",
   "metadata": {},
   "source": [
    "We'll use absolute error as our evaluation metric and estimate the generalization error."
   ]
  },
  {
   "cell_type": "code",
   "execution_count": 9,
   "metadata": {},
   "outputs": [],
   "source": [
    "def metric(y,ŷ):\n",
    "    return np.mean(np.abs(y-ŷ))"
   ]
  },
  {
   "cell_type": "code",
   "execution_count": 10,
   "metadata": {},
   "outputs": [],
   "source": [
    "ŷ = model.predict(X)\n",
    "ê = metric(y,ŷ)"
   ]
  },
  {
   "cell_type": "code",
   "execution_count": 11,
   "metadata": {
    "tags": [
     "hide_input"
    ]
   },
   "outputs": [
    {
     "data": {
      "application/vnd.vegalite.v3+json": {
       "$schema": "https://vega.github.io/schema/vega-lite/v3.4.0.json",
       "config": {
        "mark": {
         "tooltip": null
        },
        "view": {
         "height": 300,
         "width": 400
        }
       },
       "data": {
        "name": "data-939747fcfabf8b0af106c214facaf42d"
       },
       "datasets": {
        "data-939747fcfabf8b0af106c214facaf42d": [
         {
          "x": 0.2550490378214141,
          "y": 6.055715053300484,
          "ŷ": 2.5342328561728134
         },
         {
          "x": 0.6373334290873793,
          "y": 3.191311746989554,
          "ŷ": 3.6498302164489127
         },
         {
          "x": 0.24449188422858603,
          "y": 6.881696723013828,
          "ŷ": 4.012422509484889
         },
         {
          "x": 0.035488740473469504,
          "y": 0.772218609898712,
          "ŷ": 4.012422509484889
         },
         {
          "x": 0.17112855855693965,
          "y": 1.62844162109305,
          "ŷ": 4.012422509484889
         },
         {
          "x": 0.9940363146388838,
          "y": -2.312473301717375,
          "ŷ": -1.2273981644326843
         },
         {
          "x": 0.7825223410851941,
          "y": 1.20871253034493,
          "ŷ": 3.6498302164489127
         },
         {
          "x": 0.6154722798842589,
          "y": -4.538341206756927,
          "ŷ": -2.7213117539318774
         },
         {
          "x": 0.8798224381868961,
          "y": 2.677245521347093,
          "ŷ": 3.6498302164489127
         },
         {
          "x": 0.6753364615204054,
          "y": 0.6213206512409428,
          "ŷ": 3.6498302164489127
         },
         {
          "x": 0.6258769822504988,
          "y": 3.156614055739039,
          "ŷ": 3.6498302164489127
         },
         {
          "x": 0.4150544595581388,
          "y": -2.6891820116518383,
          "ŷ": -2.7213117539318774
         },
         {
          "x": 0.2833502586348886,
          "y": -0.2623049579676402,
          "ŷ": -0.19403321713914895
         },
         {
          "x": 0.43323195369854794,
          "y": -3.8923326615547422,
          "ŷ": -2.7213117539318774
         },
         {
          "x": 0.27303050089796865,
          "y": 2.2027180927439467,
          "ŷ": -0.19403321713914895
         },
         {
          "x": 0.8638046295583385,
          "y": 5.646023390652571,
          "ŷ": 3.6498302164489127
         },
         {
          "x": 0.3932558425153285,
          "y": -3.493576252918053,
          "ŷ": -2.7213117539318774
         },
         {
          "x": 0.8603805905077808,
          "y": 6.322997095520274,
          "ŷ": 3.6498302164489127
         },
         {
          "x": 0.715649857307904,
          "y": 0.9949142046735702,
          "ŷ": 3.6498302164489127
         },
         {
          "x": 0.26721418341626935,
          "y": 0.14175950549424776,
          "ŷ": -0.19403321713914895
         },
         {
          "x": 0.41445383333893904,
          "y": -2.6071015830803836,
          "ŷ": -2.7213117539318774
         },
         {
          "x": 0.11525852245656376,
          "y": 3.1985841782202136,
          "ŷ": 4.012422509484889
         },
         {
          "x": 0.7840257452060299,
          "y": 5.669976171050101,
          "ŷ": 3.6498302164489127
         },
         {
          "x": 0.5291134490601329,
          "y": -3.743449246586171,
          "ŷ": -2.7213117539318774
         },
         {
          "x": 0.497900373583698,
          "y": -1.8382500706591185,
          "ŷ": -2.7213117539318774
         },
         {
          "x": 0.5875505624753684,
          "y": -2.112613335615677,
          "ŷ": -2.7213117539318774
         },
         {
          "x": 0.46999142703477537,
          "y": -2.5471464708908984,
          "ŷ": -2.7213117539318774
         },
         {
          "x": 0.22947712781455964,
          "y": 4.548014551830579,
          "ŷ": 4.012422509484889
         },
         {
          "x": 0.8638099042174998,
          "y": 5.5296698964724,
          "ŷ": 3.6498302164489127
         },
         {
          "x": 0.9048625178995323,
          "y": 0.7185653978275712,
          "ŷ": -1.2273981644326843
         },
         {
          "x": 0.7365605733843135,
          "y": 5.2958476413755236,
          "ŷ": 3.6498302164489127
         },
         {
          "x": 0.24527955597106166,
          "y": -0.8949986973623507,
          "ŷ": 2.5342328561728134
         },
         {
          "x": 0.33338805744240474,
          "y": 0.6363354782590686,
          "ŷ": -0.19403321713914895
         },
         {
          "x": 0.9872944214145347,
          "y": -3.8461428547679337,
          "ŷ": -1.2273981644326843
         },
         {
          "x": 0.5895013694380301,
          "y": -1.9293771436530636,
          "ŷ": -2.7213117539318774
         },
         {
          "x": 0.5485039017466805,
          "y": -2.599703984742656,
          "ŷ": -2.7213117539318774
         },
         {
          "x": 0.21205871413252853,
          "y": 5.680390963041418,
          "ŷ": 4.012422509484889
         },
         {
          "x": 0.6862994698033132,
          "y": 1.78485778180286,
          "ŷ": 3.6498302164489127
         },
         {
          "x": 0.028410292697331307,
          "y": 0.37025999911000196,
          "ŷ": 0.37025999911000196
         },
         {
          "x": 0.005255482397635514,
          "y": 0.7285532187702622,
          "ŷ": 0.7285532187702622
         },
         {
          "x": 0.8293725299200287,
          "y": 4.817521817436387,
          "ŷ": 3.6498302164489127
         },
         {
          "x": 0.9694556742799048,
          "y": 0.5304581009269993,
          "ŷ": -1.2273981644326843
         },
         {
          "x": 0.2601079755500769,
          "y": 2.4419822125803052,
          "ŷ": 2.5342328561728134
         },
         {
          "x": 0.3285347608085111,
          "y": 0.41407759615485573,
          "ŷ": -0.19403321713914895
         },
         {
          "x": 0.13927419940394214,
          "y": 4.873162897257656,
          "ŷ": 4.012422509484889
         },
         {
          "x": 0.2673326927338142,
          "y": -0.0046321680129848275,
          "ŷ": -0.19403321713914895
         },
         {
          "x": 0.7380161108848644,
          "y": 4.180610525639534,
          "ŷ": 3.6498302164489127
         },
         {
          "x": 0.03192817656071878,
          "y": 4.5168705315236535,
          "ŷ": 4.012422509484889
         },
         {
          "x": 0.3238102629705226,
          "y": -4.486186066645536,
          "ŷ": -0.19403321713914895
         },
         {
          "x": 0.5464310938602224,
          "y": -0.6646670790730029,
          "ŷ": -2.7213117539318774
         }
        ]
       },
       "layer": [
        {
         "encoding": {
          "x": {
           "field": "x",
           "type": "quantitative"
          },
          "y": {
           "field": "y",
           "type": "quantitative"
          }
         },
         "height": 100,
         "mark": "point"
        },
        {
         "encoding": {
          "x": {
           "field": "x",
           "type": "quantitative"
          },
          "y": {
           "field": "ŷ",
           "type": "quantitative"
          }
         },
         "height": 100,
         "mark": "line"
        }
       ]
      },
      "image/png": "[encoded data removed]",
      "text/plain": [
       "<VegaLite 3 object>\n",
       "\n",
       "If you see this message, it means the renderer has not been properly enabled\n",
       "for the frontend that you are using. For more information, see\n",
       "https://altair-viz.github.io/user_guide/troubleshooting.html\n"
      ]
     },
     "execution_count": 11,
     "metadata": {},
     "output_type": "execute_result"
    }
   ],
   "source": [
    "import pandas as pd\n",
    "import altair as alt\n",
    "\n",
    "source = pd.DataFrame({\n",
    "    'x':X[:,0],\n",
    "    'y':y,\n",
    "    'ŷ':ŷ\n",
    "})\n",
    "\n",
    "alt.Chart(\n",
    "    source, \n",
    "    height=100\n",
    ").mark_point(\n",
    ").encode(\n",
    "    alt.X('x'),\n",
    "    alt.Y('y')\n",
    ") + alt.Chart(\n",
    "    source, \n",
    "    height=100\n",
    ").mark_line(\n",
    ").encode(\n",
    "    alt.X('x'),\n",
    "    alt.Y('ŷ')\n",
    ")"
   ]
  },
  {
   "cell_type": "markdown",
   "metadata": {},
   "source": [
    "Now we'll generate our \"future\" data and calculate the real generalization error"
   ]
  },
  {
   "cell_type": "code",
   "execution_count": 12,
   "metadata": {},
   "outputs": [],
   "source": [
    "X_future, y_future = data_factory(100000)\n",
    "ŷ_future = model.predict(X_future)\n",
    "e = metric(y_future, ŷ_future)"
   ]
  },
  {
   "cell_type": "markdown",
   "metadata": {},
   "source": [
    "Let's compare the two:"
   ]
  },
  {
   "cell_type": "code",
   "execution_count": 13,
   "metadata": {
    "tags": [
     "remove_input"
    ]
   },
   "outputs": [
    {
     "name": "stdout",
     "output_type": "stream",
     "text": [
      "ê: 1.3888014843767187\n",
      "e: 1.9637616259629058\n"
     ]
    }
   ],
   "source": [
    "print(f'ê: {ê}\\ne: {e}')"
   ]
  },
  {
   "cell_type": "markdown",
   "metadata": {},
   "source": [
    "This doesn't seem promising... our estimate of the generalization error is much smaller than it should be! But maybe we just got unlucky this one time. Let's repeat the simulation many times to make sure."
   ]
  },
  {
   "cell_type": "code",
   "execution_count": 14,
   "metadata": {
    "tags": [
     "hide_output"
    ]
   },
   "outputs": [],
   "source": [
    "def simulate_model_eval():\n",
    "    X,y = data_factory(50)\n",
    "    model = DecisionTreeRegressor(max_depth=3)\n",
    "    model.fit(X,y)\n",
    "    \n",
    "    ŷ = model.predict(X)\n",
    "    ê = metric(y,ŷ)\n",
    "    \n",
    "    ŷ_future = model.predict(X_future) # we already generated these data\n",
    "    e = metric(y_future, ŷ_future)\n",
    "    \n",
    "    return ê, e\n",
    "\n",
    "ês, es = zip(*[simulate_model_eval() for i in range(500)])"
   ]
  },
  {
   "cell_type": "code",
   "execution_count": 15,
   "metadata": {
    "tags": [
     "remove_input"
    ]
   },
   "outputs": [
    {
     "data": {
      "application/vnd.vegalite.v3+json": {
       "$schema": "https://vega.github.io/schema/vega-lite/v3.4.0.json",
       "config": {
        "mark": {
         "tooltip": null
        },
        "view": {
         "height": 300,
         "width": 400
        }
       },
       "data": {
        "name": "data-6176605d8bf317510983d567dbfe6a81"
       },
       "datasets": {
        "data-6176605d8bf317510983d567dbfe6a81": [
         {
          "estimated generalization error": 1.5703352642908746,
          "generalization error": 2.057693225737047
         },
         {
          "estimated generalization error": 1.4530803102488492,
          "generalization error": 2.170457073587218
         },
         {
          "estimated generalization error": 1.4159233027789824,
          "generalization error": 2.0750809271209225
         },
         {
          "estimated generalization error": 1.5181141635202053,
          "generalization error": 2.0339546173760197
         },
         {
          "estimated generalization error": 1.0907180650509107,
          "generalization error": 2.107240489200256
         },
         {
          "estimated generalization error": 1.4532585544115733,
          "generalization error": 2.067971468608239
         },
         {
          "estimated generalization error": 1.4959278048817402,
          "generalization error": 2.177190043385593
         },
         {
          "estimated generalization error": 1.4483402673981325,
          "generalization error": 2.445263883452231
         },
         {
          "estimated generalization error": 1.4064789780260738,
          "generalization error": 2.0967378247420703
         },
         {
          "estimated generalization error": 1.1910146832530357,
          "generalization error": 2.1072276178096807
         },
         {
          "estimated generalization error": 1.4096067551733074,
          "generalization error": 2.16996368581358
         },
         {
          "estimated generalization error": 1.2980272649265803,
          "generalization error": 1.9250375283642862
         },
         {
          "estimated generalization error": 1.429119316835535,
          "generalization error": 2.102230529350083
         },
         {
          "estimated generalization error": 1.3748526413677196,
          "generalization error": 2.099482456065543
         },
         {
          "estimated generalization error": 1.6726254317876592,
          "generalization error": 2.0342633913107044
         },
         {
          "estimated generalization error": 1.3695228845463365,
          "generalization error": 2.2016246532390813
         },
         {
          "estimated generalization error": 1.3548133953782173,
          "generalization error": 2.127523306332958
         },
         {
          "estimated generalization error": 1.4172933900700664,
          "generalization error": 2.0684238704685223
         },
         {
          "estimated generalization error": 1.6990706093845303,
          "generalization error": 1.971886307325332
         },
         {
          "estimated generalization error": 1.474636897477834,
          "generalization error": 2.1946855807282812
         },
         {
          "estimated generalization error": 1.7046473142165997,
          "generalization error": 2.1579517507908927
         },
         {
          "estimated generalization error": 1.1762680853295004,
          "generalization error": 2.0553883285016106
         },
         {
          "estimated generalization error": 1.2072744515769906,
          "generalization error": 1.948599561061237
         },
         {
          "estimated generalization error": 1.151036746740007,
          "generalization error": 2.087157059179901
         },
         {
          "estimated generalization error": 1.4021095717773826,
          "generalization error": 2.142079981086585
         },
         {
          "estimated generalization error": 1.7139520537182542,
          "generalization error": 2.2634367191904183
         },
         {
          "estimated generalization error": 1.4313494032038654,
          "generalization error": 2.0407683431750794
         },
         {
          "estimated generalization error": 1.3094287027349667,
          "generalization error": 2.0142504583565275
         },
         {
          "estimated generalization error": 1.376813630779742,
          "generalization error": 2.000340672845554
         },
         {
          "estimated generalization error": 1.2858963733257882,
          "generalization error": 2.0295099030072787
         },
         {
          "estimated generalization error": 1.2414413697590476,
          "generalization error": 2.238944919591402
         },
         {
          "estimated generalization error": 1.594763382110635,
          "generalization error": 2.0974143935299323
         },
         {
          "estimated generalization error": 1.5889237203901059,
          "generalization error": 2.132110562901892
         },
         {
          "estimated generalization error": 1.111806984510203,
          "generalization error": 2.335993145252123
         },
         {
          "estimated generalization error": 1.3951694366704908,
          "generalization error": 2.1054275128843662
         },
         {
          "estimated generalization error": 1.4013993004832728,
          "generalization error": 2.048569168973178
         },
         {
          "estimated generalization error": 1.4223512648796512,
          "generalization error": 2.061219921671579
         },
         {
          "estimated generalization error": 1.4631811346150918,
          "generalization error": 2.048585352654948
         },
         {
          "estimated generalization error": 1.2938464422721914,
          "generalization error": 2.1543054812956757
         },
         {
          "estimated generalization error": 1.313239807229587,
          "generalization error": 2.0262101415159566
         },
         {
          "estimated generalization error": 1.5863610350756536,
          "generalization error": 2.11697580664775
         },
         {
          "estimated generalization error": 1.8754641186891863,
          "generalization error": 2.3069302746881686
         },
         {
          "estimated generalization error": 1.5475148193780075,
          "generalization error": 1.9997587054233692
         },
         {
          "estimated generalization error": 1.7710067069129791,
          "generalization error": 1.9962957269779165
         },
         {
          "estimated generalization error": 1.3975997041115753,
          "generalization error": 2.1410689992926475
         },
         {
          "estimated generalization error": 1.1173236690500254,
          "generalization error": 2.131213278321187
         },
         {
          "estimated generalization error": 1.2648968336794633,
          "generalization error": 2.1023130723833128
         },
         {
          "estimated generalization error": 1.4917513372179212,
          "generalization error": 2.269945793846662
         },
         {
          "estimated generalization error": 1.4066602451573496,
          "generalization error": 2.0984102668383167
         },
         {
          "estimated generalization error": 1.4353519637867649,
          "generalization error": 2.0955871733217752
         },
         {
          "estimated generalization error": 1.518761574129536,
          "generalization error": 2.0613444694383767
         },
         {
          "estimated generalization error": 1.2285976782106747,
          "generalization error": 2.0091793519497503
         },
         {
          "estimated generalization error": 1.1093165384757464,
          "generalization error": 2.0134898362329103
         },
         {
          "estimated generalization error": 1.395008738717169,
          "generalization error": 2.2397045392675476
         },
         {
          "estimated generalization error": 1.3911350972636989,
          "generalization error": 2.258365716777956
         },
         {
          "estimated generalization error": 1.0882230922943996,
          "generalization error": 2.0239791830336165
         },
         {
          "estimated generalization error": 1.3954973299041484,
          "generalization error": 2.14097754110064
         },
         {
          "estimated generalization error": 1.3489898088708174,
          "generalization error": 2.0237622380970732
         },
         {
          "estimated generalization error": 1.5459253822618866,
          "generalization error": 2.169668038056996
         },
         {
          "estimated generalization error": 1.210811103501331,
          "generalization error": 2.0157715554713547
         },
         {
          "estimated generalization error": 1.4107840654403383,
          "generalization error": 2.007945084508359
         },
         {
          "estimated generalization error": 1.2237666329932948,
          "generalization error": 2.2107335273074105
         },
         {
          "estimated generalization error": 1.3599294810984344,
          "generalization error": 1.9941949531827134
         },
         {
          "estimated generalization error": 1.3797193691581344,
          "generalization error": 2.007839647217895
         },
         {
          "estimated generalization error": 1.4633858845703032,
          "generalization error": 2.117821620991415
         },
         {
          "estimated generalization error": 1.1831531323048936,
          "generalization error": 1.9670940704294428
         },
         {
          "estimated generalization error": 1.8668800531906482,
          "generalization error": 2.545242429121016
         },
         {
          "estimated generalization error": 1.4299371044900886,
          "generalization error": 1.991240763251858
         },
         {
          "estimated generalization error": 1.2043833646309237,
          "generalization error": 2.0547035904864925
         },
         {
          "estimated generalization error": 1.5030198562854558,
          "generalization error": 2.0104204283189304
         },
         {
          "estimated generalization error": 1.0980985369642893,
          "generalization error": 2.1259111345204116
         },
         {
          "estimated generalization error": 1.384748241470736,
          "generalization error": 2.261269650890367
         },
         {
          "estimated generalization error": 1.2810289348551571,
          "generalization error": 2.132651884543882
         },
         {
          "estimated generalization error": 1.4246087746141243,
          "generalization error": 2.1030176081294285
         },
         {
          "estimated generalization error": 1.6517232039916636,
          "generalization error": 1.9987126757988913
         },
         {
          "estimated generalization error": 1.5775344475262076,
          "generalization error": 2.1156796575164485
         },
         {
          "estimated generalization error": 1.3767399647420548,
          "generalization error": 2.0805051390373626
         },
         {
          "estimated generalization error": 1.3996045704547606,
          "generalization error": 2.0550265871210307
         },
         {
          "estimated generalization error": 1.2074518335415325,
          "generalization error": 2.129627765987307
         },
         {
          "estimated generalization error": 1.3803744140348073,
          "generalization error": 2.2982435124719602
         },
         {
          "estimated generalization error": 1.57933089211785,
          "generalization error": 2.136296586201338
         },
         {
          "estimated generalization error": 1.3236538680267775,
          "generalization error": 1.9868227009613784
         },
         {
          "estimated generalization error": 1.308690922952207,
          "generalization error": 1.9554466269731263
         },
         {
          "estimated generalization error": 1.5954384965984851,
          "generalization error": 2.0993872870924375
         },
         {
          "estimated generalization error": 1.4243214606352468,
          "generalization error": 2.157564314847025
         },
         {
          "estimated generalization error": 1.3052535700503227,
          "generalization error": 2.0838053682204514
         },
         {
          "estimated generalization error": 1.3421323322426495,
          "generalization error": 2.2383447978556243
         },
         {
          "estimated generalization error": 1.2765358116781376,
          "generalization error": 2.0337612579375364
         },
         {
          "estimated generalization error": 1.8094528064929387,
          "generalization error": 2.0789105116798083
         },
         {
          "estimated generalization error": 1.5100300338711126,
          "generalization error": 2.0086579969406744
         },
         {
          "estimated generalization error": 1.7698927214906903,
          "generalization error": 2.2874068843612028
         },
         {
          "estimated generalization error": 1.481437491765865,
          "generalization error": 2.1472573693906503
         },
         {
          "estimated generalization error": 1.858011335841318,
          "generalization error": 2.1454020553866835
         },
         {
          "estimated generalization error": 1.4111201736837256,
          "generalization error": 2.24011155388419
         },
         {
          "estimated generalization error": 1.450172341574543,
          "generalization error": 2.0372665909743803
         },
         {
          "estimated generalization error": 1.3715856710617031,
          "generalization error": 2.135427635461466
         },
         {
          "estimated generalization error": 1.2947634607887637,
          "generalization error": 2.0334641484647293
         },
         {
          "estimated generalization error": 1.4074347193770749,
          "generalization error": 2.065328837631268
         },
         {
          "estimated generalization error": 1.2435814845103466,
          "generalization error": 2.105175799776532
         },
         {
          "estimated generalization error": 1.3744379726606584,
          "generalization error": 2.0763257248233624
         },
         {
          "estimated generalization error": 1.613231793178702,
          "generalization error": 2.0832495685121675
         },
         {
          "estimated generalization error": 1.1845234207509483,
          "generalization error": 2.082801004226703
         },
         {
          "estimated generalization error": 1.6079794297995387,
          "generalization error": 2.2026072246331134
         },
         {
          "estimated generalization error": 1.2324462391640447,
          "generalization error": 1.9169793575962482
         },
         {
          "estimated generalization error": 1.5224587799914169,
          "generalization error": 2.1179250303409187
         },
         {
          "estimated generalization error": 1.5527545549782855,
          "generalization error": 2.291645332349318
         },
         {
          "estimated generalization error": 1.1774336070132563,
          "generalization error": 2.0655136033768913
         },
         {
          "estimated generalization error": 1.5144457871333605,
          "generalization error": 1.987831480332229
         },
         {
          "estimated generalization error": 1.4265584550646166,
          "generalization error": 2.2079542840979856
         },
         {
          "estimated generalization error": 1.286704318440939,
          "generalization error": 2.290281136064415
         },
         {
          "estimated generalization error": 1.4280932478327168,
          "generalization error": 2.323133216230802
         },
         {
          "estimated generalization error": 1.1136027195752696,
          "generalization error": 2.0109914572173135
         },
         {
          "estimated generalization error": 1.3859490568661617,
          "generalization error": 2.259137297100306
         },
         {
          "estimated generalization error": 1.6202010583594437,
          "generalization error": 2.372705689602471
         },
         {
          "estimated generalization error": 1.4173953361498892,
          "generalization error": 1.9921674091898411
         },
         {
          "estimated generalization error": 1.3753867848970303,
          "generalization error": 2.0570619598977444
         },
         {
          "estimated generalization error": 1.515072393676576,
          "generalization error": 2.029072730360219
         },
         {
          "estimated generalization error": 1.5912014081092527,
          "generalization error": 2.1037946927869258
         },
         {
          "estimated generalization error": 1.4670593307888646,
          "generalization error": 2.064289367816716
         },
         {
          "estimated generalization error": 1.4444018062898392,
          "generalization error": 2.189496933204128
         },
         {
          "estimated generalization error": 1.354563061585817,
          "generalization error": 2.1286813941093974
         },
         {
          "estimated generalization error": 1.37927121059007,
          "generalization error": 2.299051742968991
         },
         {
          "estimated generalization error": 1.4195320030001277,
          "generalization error": 2.1601557554524824
         },
         {
          "estimated generalization error": 1.438665696667957,
          "generalization error": 2.306774752612926
         },
         {
          "estimated generalization error": 1.4769573300216055,
          "generalization error": 2.002139295461957
         },
         {
          "estimated generalization error": 1.1821859939318198,
          "generalization error": 2.009244290190817
         },
         {
          "estimated generalization error": 1.4452153702642838,
          "generalization error": 1.930126823107237
         },
         {
          "estimated generalization error": 1.2767672845441271,
          "generalization error": 2.0459710520353918
         },
         {
          "estimated generalization error": 1.514967635375951,
          "generalization error": 2.204671815569413
         },
         {
          "estimated generalization error": 1.265904751631662,
          "generalization error": 1.9556394495646428
         },
         {
          "estimated generalization error": 1.6431676192380178,
          "generalization error": 2.2263178830023453
         },
         {
          "estimated generalization error": 1.436293395546802,
          "generalization error": 2.150339834843465
         },
         {
          "estimated generalization error": 1.378600040778182,
          "generalization error": 1.99099810818533
         },
         {
          "estimated generalization error": 1.5145255507983495,
          "generalization error": 2.181465749539044
         },
         {
          "estimated generalization error": 1.4208950310331565,
          "generalization error": 2.096192115381797
         },
         {
          "estimated generalization error": 1.4040193464661035,
          "generalization error": 2.1886653781661463
         },
         {
          "estimated generalization error": 1.4267786913884124,
          "generalization error": 2.1117351474996373
         },
         {
          "estimated generalization error": 1.3752448602632767,
          "generalization error": 2.0996237596977108
         },
         {
          "estimated generalization error": 1.754561038757552,
          "generalization error": 2.337297927810115
         },
         {
          "estimated generalization error": 1.4703427394760704,
          "generalization error": 2.1877344109594374
         },
         {
          "estimated generalization error": 1.2430924788642868,
          "generalization error": 2.1480853762083383
         },
         {
          "estimated generalization error": 1.3376264764184995,
          "generalization error": 2.210409911992814
         },
         {
          "estimated generalization error": 1.192815318343132,
          "generalization error": 2.1620673212644226
         },
         {
          "estimated generalization error": 1.4244321133127804,
          "generalization error": 2.115626167748475
         },
         {
          "estimated generalization error": 1.441325443760649,
          "generalization error": 2.3157768757021184
         },
         {
          "estimated generalization error": 1.6739273091788454,
          "generalization error": 2.201194990248374
         },
         {
          "estimated generalization error": 1.513733914265326,
          "generalization error": 2.217863568307749
         },
         {
          "estimated generalization error": 1.2396529390047084,
          "generalization error": 2.101036421256368
         },
         {
          "estimated generalization error": 1.1898646749508142,
          "generalization error": 2.043649201150893
         },
         {
          "estimated generalization error": 1.216660270547816,
          "generalization error": 2.1434022010995744
         },
         {
          "estimated generalization error": 1.4636626397957893,
          "generalization error": 2.018736342090416
         },
         {
          "estimated generalization error": 1.5481059830251356,
          "generalization error": 2.1736227105064208
         },
         {
          "estimated generalization error": 1.3792729197737967,
          "generalization error": 2.043806738481961
         },
         {
          "estimated generalization error": 1.235972284507758,
          "generalization error": 1.9901361497217842
         },
         {
          "estimated generalization error": 1.5494841656831153,
          "generalization error": 1.9749185084193
         },
         {
          "estimated generalization error": 1.3851731487972914,
          "generalization error": 2.111284956644834
         },
         {
          "estimated generalization error": 1.0955383313359697,
          "generalization error": 2.0195327645278294
         },
         {
          "estimated generalization error": 1.345453135550568,
          "generalization error": 2.1462749164001456
         },
         {
          "estimated generalization error": 1.5356291220652647,
          "generalization error": 2.0253829190839787
         },
         {
          "estimated generalization error": 1.123346349480774,
          "generalization error": 1.984638885065493
         },
         {
          "estimated generalization error": 1.3936985903811714,
          "generalization error": 2.251843335062529
         },
         {
          "estimated generalization error": 1.5631780330059342,
          "generalization error": 2.0883039531449064
         },
         {
          "estimated generalization error": 1.5953012574064849,
          "generalization error": 2.2300686184192378
         },
         {
          "estimated generalization error": 1.3343867026919989,
          "generalization error": 2.1311231099501167
         },
         {
          "estimated generalization error": 1.5831376220497508,
          "generalization error": 1.9706631635072056
         },
         {
          "estimated generalization error": 1.2387971742441592,
          "generalization error": 1.9399290080343228
         },
         {
          "estimated generalization error": 1.652191196134577,
          "generalization error": 2.259887019929521
         },
         {
          "estimated generalization error": 1.3907631010556747,
          "generalization error": 2.3197936665698133
         },
         {
          "estimated generalization error": 1.2737584162891784,
          "generalization error": 2.0159566011984813
         },
         {
          "estimated generalization error": 1.6652061434004544,
          "generalization error": 2.0916715000359507
         },
         {
          "estimated generalization error": 1.1945191312369208,
          "generalization error": 2.0750483338671497
         },
         {
          "estimated generalization error": 1.3478629096848644,
          "generalization error": 1.9781096851537852
         },
         {
          "estimated generalization error": 1.3099752077896958,
          "generalization error": 2.1482710467960824
         },
         {
          "estimated generalization error": 1.5118055593650044,
          "generalization error": 2.0909165771212535
         },
         {
          "estimated generalization error": 1.6216417993068186,
          "generalization error": 2.0354851826450227
         },
         {
          "estimated generalization error": 1.5922988834764888,
          "generalization error": 1.970022773492711
         },
         {
          "estimated generalization error": 1.29130676259989,
          "generalization error": 2.0940123929117505
         },
         {
          "estimated generalization error": 1.5983838067645584,
          "generalization error": 2.3940246031588854
         },
         {
          "estimated generalization error": 1.2233636443945402,
          "generalization error": 2.1510682715910856
         },
         {
          "estimated generalization error": 1.4376932093085015,
          "generalization error": 2.012072059823101
         },
         {
          "estimated generalization error": 1.5897966354904585,
          "generalization error": 1.9697407492634875
         },
         {
          "estimated generalization error": 1.5513626834602519,
          "generalization error": 2.022109720810947
         },
         {
          "estimated generalization error": 1.4561906210824198,
          "generalization error": 2.1188162143981315
         },
         {
          "estimated generalization error": 1.4568062516606215,
          "generalization error": 2.1349595999073108
         },
         {
          "estimated generalization error": 1.2158013807878099,
          "generalization error": 2.0604589339625807
         },
         {
          "estimated generalization error": 1.3056524683503332,
          "generalization error": 2.071944261901647
         },
         {
          "estimated generalization error": 1.2343435207154443,
          "generalization error": 1.9844479486350393
         },
         {
          "estimated generalization error": 1.2427486777427494,
          "generalization error": 2.0778637619826346
         },
         {
          "estimated generalization error": 1.6792139117795204,
          "generalization error": 2.10642871027006
         },
         {
          "estimated generalization error": 1.465150652343471,
          "generalization error": 2.1563426935538628
         },
         {
          "estimated generalization error": 1.7012462885302064,
          "generalization error": 2.183410606181442
         },
         {
          "estimated generalization error": 1.3968150386339195,
          "generalization error": 2.00926576065342
         },
         {
          "estimated generalization error": 1.3646126875389009,
          "generalization error": 2.1601245691441373
         },
         {
          "estimated generalization error": 1.3144154168969888,
          "generalization error": 2.1279211011352994
         },
         {
          "estimated generalization error": 1.5647690757767538,
          "generalization error": 2.036406222672249
         },
         {
          "estimated generalization error": 1.2999408046409622,
          "generalization error": 2.1067754886565093
         },
         {
          "estimated generalization error": 1.0446260784395531,
          "generalization error": 2.0685811599752753
         },
         {
          "estimated generalization error": 1.2768503602426857,
          "generalization error": 2.0814118048632935
         },
         {
          "estimated generalization error": 1.4540580150257205,
          "generalization error": 1.9448490659964708
         },
         {
          "estimated generalization error": 1.4274413057417763,
          "generalization error": 2.166624732768968
         },
         {
          "estimated generalization error": 1.4726503674273916,
          "generalization error": 2.3511858915851804
         },
         {
          "estimated generalization error": 1.5233490663516684,
          "generalization error": 2.0959270124643927
         },
         {
          "estimated generalization error": 1.3823744285194843,
          "generalization error": 2.0310247657097005
         },
         {
          "estimated generalization error": 1.7270520701657959,
          "generalization error": 2.0187225998945473
         },
         {
          "estimated generalization error": 1.1455532159971207,
          "generalization error": 2.0031752229925153
         },
         {
          "estimated generalization error": 1.5139304004046923,
          "generalization error": 2.241058849558618
         },
         {
          "estimated generalization error": 1.191214789226016,
          "generalization error": 2.0160612158798448
         },
         {
          "estimated generalization error": 1.459810536281575,
          "generalization error": 2.2546908147644382
         },
         {
          "estimated generalization error": 1.521376716128865,
          "generalization error": 2.151106013133036
         },
         {
          "estimated generalization error": 1.0669359616014849,
          "generalization error": 2.11207035833771
         },
         {
          "estimated generalization error": 1.403684420550128,
          "generalization error": 2.253317060097636
         },
         {
          "estimated generalization error": 1.91973443313114,
          "generalization error": 2.6603860673376305
         },
         {
          "estimated generalization error": 1.2300457135664926,
          "generalization error": 2.061134898347306
         },
         {
          "estimated generalization error": 1.2891993277258686,
          "generalization error": 2.0051160429031563
         },
         {
          "estimated generalization error": 1.2592842731732743,
          "generalization error": 1.943025129571955
         },
         {
          "estimated generalization error": 1.5412202728258464,
          "generalization error": 2.2176898453271194
         },
         {
          "estimated generalization error": 1.3838735868938854,
          "generalization error": 2.033107489543126
         },
         {
          "estimated generalization error": 1.1976438458569,
          "generalization error": 1.9457794058309472
         },
         {
          "estimated generalization error": 1.7132003439048762,
          "generalization error": 2.132675291515896
         },
         {
          "estimated generalization error": 1.3853972370462475,
          "generalization error": 2.1327712659040494
         },
         {
          "estimated generalization error": 1.4118988594723612,
          "generalization error": 2.466291280916069
         },
         {
          "estimated generalization error": 1.496053081187736,
          "generalization error": 1.9898218487651065
         },
         {
          "estimated generalization error": 1.2933510144080895,
          "generalization error": 1.9575774463123465
         },
         {
          "estimated generalization error": 1.3921317010885053,
          "generalization error": 2.124902450142503
         },
         {
          "estimated generalization error": 1.5075039339986391,
          "generalization error": 2.358086945516855
         },
         {
          "estimated generalization error": 1.396810530703761,
          "generalization error": 2.163448977644544
         },
         {
          "estimated generalization error": 1.4277864366345636,
          "generalization error": 2.2580762819905
         },
         {
          "estimated generalization error": 1.2948576804279315,
          "generalization error": 1.9751617645271171
         },
         {
          "estimated generalization error": 1.490279856733346,
          "generalization error": 2.137501885918114
         },
         {
          "estimated generalization error": 1.5963831290240484,
          "generalization error": 2.2528694027258327
         },
         {
          "estimated generalization error": 1.248531796280437,
          "generalization error": 2.0461487729771064
         },
         {
          "estimated generalization error": 1.0892449806876094,
          "generalization error": 1.9588790491786092
         },
         {
          "estimated generalization error": 1.2779426218183265,
          "generalization error": 1.9447727955250087
         },
         {
          "estimated generalization error": 1.7596835808642948,
          "generalization error": 2.1468933905702214
         },
         {
          "estimated generalization error": 1.5694076560857413,
          "generalization error": 2.2733820444633808
         },
         {
          "estimated generalization error": 1.5812543301795352,
          "generalization error": 2.0552125817744256
         },
         {
          "estimated generalization error": 1.5111907819322503,
          "generalization error": 2.2912592542339985
         },
         {
          "estimated generalization error": 1.327400892401482,
          "generalization error": 1.9949021918680467
         },
         {
          "estimated generalization error": 1.484238929880074,
          "generalization error": 2.2230209019277334
         },
         {
          "estimated generalization error": 1.5827754629761646,
          "generalization error": 2.076272633486072
         },
         {
          "estimated generalization error": 1.3806063980403314,
          "generalization error": 2.3833412058032
         },
         {
          "estimated generalization error": 1.2034633905293504,
          "generalization error": 2.141780290340365
         },
         {
          "estimated generalization error": 1.1841439496192772,
          "generalization error": 2.045330597487008
         },
         {
          "estimated generalization error": 1.3737680483291246,
          "generalization error": 2.1304844057374592
         },
         {
          "estimated generalization error": 1.3463904937315954,
          "generalization error": 2.1194218579324233
         },
         {
          "estimated generalization error": 1.4334340347602816,
          "generalization error": 2.042190931888171
         },
         {
          "estimated generalization error": 1.1656542334811164,
          "generalization error": 2.4231257683699794
         },
         {
          "estimated generalization error": 1.659690347406222,
          "generalization error": 2.409737768784217
         },
         {
          "estimated generalization error": 1.3832987691630654,
          "generalization error": 2.0830259238992945
         },
         {
          "estimated generalization error": 1.4289958400034593,
          "generalization error": 1.973033531220679
         },
         {
          "estimated generalization error": 1.1854290067741493,
          "generalization error": 2.150971842774168
         },
         {
          "estimated generalization error": 1.264994027681559,
          "generalization error": 2.0861466185026276
         },
         {
          "estimated generalization error": 1.4552825555795803,
          "generalization error": 2.046382591193243
         },
         {
          "estimated generalization error": 1.2316265281921253,
          "generalization error": 2.457279419511109
         },
         {
          "estimated generalization error": 1.3749036520657567,
          "generalization error": 2.2463687982067784
         },
         {
          "estimated generalization error": 1.6432879827760374,
          "generalization error": 2.274514476220293
         },
         {
          "estimated generalization error": 1.3451503461149077,
          "generalization error": 1.9664832332055844
         },
         {
          "estimated generalization error": 1.755200916589403,
          "generalization error": 2.0248112057483625
         },
         {
          "estimated generalization error": 1.2339382946659359,
          "generalization error": 1.9528913027310133
         },
         {
          "estimated generalization error": 1.4501605570043088,
          "generalization error": 1.9571438158446786
         },
         {
          "estimated generalization error": 1.474070015045942,
          "generalization error": 2.0483522692931238
         },
         {
          "estimated generalization error": 1.4734355646758368,
          "generalization error": 2.264913596713644
         },
         {
          "estimated generalization error": 1.5296965586722227,
          "generalization error": 2.120188818528376
         },
         {
          "estimated generalization error": 1.1685564612077104,
          "generalization error": 2.056385465850809
         },
         {
          "estimated generalization error": 1.6487726739631114,
          "generalization error": 2.0775373407713165
         },
         {
          "estimated generalization error": 1.2502521497932877,
          "generalization error": 2.218976602208832
         },
         {
          "estimated generalization error": 1.4026719053967764,
          "generalization error": 2.2475246039963315
         },
         {
          "estimated generalization error": 1.2680520035870353,
          "generalization error": 2.095872877562071
         },
         {
          "estimated generalization error": 1.3972362923816377,
          "generalization error": 2.100163762428803
         },
         {
          "estimated generalization error": 1.294727717083042,
          "generalization error": 2.0576247145313062
         },
         {
          "estimated generalization error": 1.2105984097667062,
          "generalization error": 1.9999896294925066
         },
         {
          "estimated generalization error": 1.5337694305722718,
          "generalization error": 2.1233934422212872
         },
         {
          "estimated generalization error": 1.202249906915055,
          "generalization error": 2.1708240910258687
         },
         {
          "estimated generalization error": 1.2604862643792014,
          "generalization error": 2.056338820364799
         },
         {
          "estimated generalization error": 1.5002921545449883,
          "generalization error": 2.1568632095615436
         },
         {
          "estimated generalization error": 1.3036752868787413,
          "generalization error": 2.0761949304680765
         },
         {
          "estimated generalization error": 1.1571706867160754,
          "generalization error": 2.2645832103622814
         },
         {
          "estimated generalization error": 1.234116586242071,
          "generalization error": 1.981021352703716
         },
         {
          "estimated generalization error": 1.478638501355997,
          "generalization error": 2.030924965212314
         },
         {
          "estimated generalization error": 1.331368323926815,
          "generalization error": 2.013277151673696
         },
         {
          "estimated generalization error": 1.8043140670356974,
          "generalization error": 2.1465997802674406
         },
         {
          "estimated generalization error": 1.3858454204915802,
          "generalization error": 2.1696864330271133
         },
         {
          "estimated generalization error": 1.358628587929058,
          "generalization error": 2.2087112795161143
         },
         {
          "estimated generalization error": 1.2191349020753681,
          "generalization error": 2.115058400314906
         },
         {
          "estimated generalization error": 1.1796650324499682,
          "generalization error": 2.054326382343874
         },
         {
          "estimated generalization error": 1.5282069796908397,
          "generalization error": 2.0700249694535904
         },
         {
          "estimated generalization error": 1.5680808251986627,
          "generalization error": 2.049217726226593
         },
         {
          "estimated generalization error": 1.1462513901406401,
          "generalization error": 2.0335691551754365
         },
         {
          "estimated generalization error": 1.4631403913629362,
          "generalization error": 2.1344469453783335
         },
         {
          "estimated generalization error": 1.7635068580738176,
          "generalization error": 2.1450515080741623
         },
         {
          "estimated generalization error": 1.4285230265700337,
          "generalization error": 2.1102840454528686
         },
         {
          "estimated generalization error": 1.474150876854713,
          "generalization error": 1.9618761579385746
         },
         {
          "estimated generalization error": 1.2091806293434992,
          "generalization error": 2.1670255001309755
         },
         {
          "estimated generalization error": 1.318571210371144,
          "generalization error": 2.1864237662031334
         },
         {
          "estimated generalization error": 1.3122436049041817,
          "generalization error": 2.0650664679106985
         },
         {
          "estimated generalization error": 1.4264815988201562,
          "generalization error": 2.170290145098158
         },
         {
          "estimated generalization error": 1.5809754067698216,
          "generalization error": 2.2357031556557674
         },
         {
          "estimated generalization error": 1.468106112352812,
          "generalization error": 1.9961333090700222
         },
         {
          "estimated generalization error": 1.718526237739617,
          "generalization error": 2.068861702076461
         },
         {
          "estimated generalization error": 1.5322252727469918,
          "generalization error": 2.325380710946856
         },
         {
          "estimated generalization error": 1.1823146279278922,
          "generalization error": 2.131844062890875
         },
         {
          "estimated generalization error": 1.3591677293375801,
          "generalization error": 2.048855795440326
         },
         {
          "estimated generalization error": 1.2356782442279883,
          "generalization error": 2.0456213877812264
         },
         {
          "estimated generalization error": 1.1946165983364452,
          "generalization error": 2.236524207379607
         },
         {
          "estimated generalization error": 1.5177956568049489,
          "generalization error": 1.985340822299374
         },
         {
          "estimated generalization error": 1.1492944648530303,
          "generalization error": 1.9567042340938121
         },
         {
          "estimated generalization error": 1.3505149196119206,
          "generalization error": 2.2204749135146358
         },
         {
          "estimated generalization error": 1.333323660599207,
          "generalization error": 2.10204299519033
         },
         {
          "estimated generalization error": 1.3194975319952402,
          "generalization error": 2.0162933539164305
         },
         {
          "estimated generalization error": 1.813881632776547,
          "generalization error": 2.2445417266512204
         },
         {
          "estimated generalization error": 1.2490138531317692,
          "generalization error": 2.164082025449197
         },
         {
          "estimated generalization error": 1.2111617172053086,
          "generalization error": 2.1669840095259603
         },
         {
          "estimated generalization error": 1.2483005016596733,
          "generalization error": 2.195121548378352
         },
         {
          "estimated generalization error": 1.3169687448978151,
          "generalization error": 2.005965459507545
         },
         {
          "estimated generalization error": 1.3787622813261944,
          "generalization error": 2.102525723055698
         },
         {
          "estimated generalization error": 1.8671332850498394,
          "generalization error": 2.165376494286652
         },
         {
          "estimated generalization error": 1.2170521989808787,
          "generalization error": 2.1491398655330767
         },
         {
          "estimated generalization error": 1.0694059218191858,
          "generalization error": 2.213609079924029
         },
         {
          "estimated generalization error": 1.5972336228546078,
          "generalization error": 1.9869498491960436
         },
         {
          "estimated generalization error": 1.5917795328438546,
          "generalization error": 2.1532710366786874
         },
         {
          "estimated generalization error": 1.5638759724151476,
          "generalization error": 2.2297200939077624
         },
         {
          "estimated generalization error": 1.4727912142484554,
          "generalization error": 2.13620006753091
         },
         {
          "estimated generalization error": 1.6794337030802455,
          "generalization error": 2.0752303181878986
         },
         {
          "estimated generalization error": 1.48077045249192,
          "generalization error": 2.3211710340461384
         },
         {
          "estimated generalization error": 1.1805845744827617,
          "generalization error": 2.204273544638867
         },
         {
          "estimated generalization error": 1.57065849122213,
          "generalization error": 1.9571561378057531
         },
         {
          "estimated generalization error": 1.5193538868851204,
          "generalization error": 2.1224319073727402
         },
         {
          "estimated generalization error": 1.4737924519908103,
          "generalization error": 2.1390764896744803
         },
         {
          "estimated generalization error": 1.4580175819028822,
          "generalization error": 2.1349129089906054
         },
         {
          "estimated generalization error": 1.7424210358385488,
          "generalization error": 2.018269367927793
         },
         {
          "estimated generalization error": 1.5286371572946325,
          "generalization error": 1.9478831805171806
         },
         {
          "estimated generalization error": 1.2641982779513712,
          "generalization error": 2.1894757334689916
         },
         {
          "estimated generalization error": 1.4028734886874077,
          "generalization error": 2.2095702072651155
         },
         {
          "estimated generalization error": 1.4996618662938948,
          "generalization error": 2.1085180040992575
         },
         {
          "estimated generalization error": 1.5659684964036356,
          "generalization error": 2.1175365387288756
         },
         {
          "estimated generalization error": 1.5224385176907205,
          "generalization error": 2.177446226395123
         },
         {
          "estimated generalization error": 1.5014990451084054,
          "generalization error": 2.1182177065573686
         },
         {
          "estimated generalization error": 1.185507458235851,
          "generalization error": 2.118148870866075
         },
         {
          "estimated generalization error": 1.2765586097373047,
          "generalization error": 2.1041196842167755
         },
         {
          "estimated generalization error": 1.518976352227484,
          "generalization error": 2.2115153158573992
         },
         {
          "estimated generalization error": 1.6247100411478583,
          "generalization error": 2.061428552002594
         },
         {
          "estimated generalization error": 1.3188700069586665,
          "generalization error": 2.358209290007774
         },
         {
          "estimated generalization error": 1.0180361684269452,
          "generalization error": 2.152522286531027
         },
         {
          "estimated generalization error": 1.4476157099565932,
          "generalization error": 2.025668147995773
         },
         {
          "estimated generalization error": 1.35727890469365,
          "generalization error": 2.1060462910214883
         },
         {
          "estimated generalization error": 1.3385564374000833,
          "generalization error": 1.9908754782910458
         },
         {
          "estimated generalization error": 1.2967986407036027,
          "generalization error": 2.2116161319747327
         },
         {
          "estimated generalization error": 1.2269196528317334,
          "generalization error": 2.0232549692864743
         },
         {
          "estimated generalization error": 1.397686237862596,
          "generalization error": 2.0800309288738386
         },
         {
          "estimated generalization error": 1.6636887054705118,
          "generalization error": 2.0776807695448403
         },
         {
          "estimated generalization error": 1.4365306168830778,
          "generalization error": 2.093482482071835
         },
         {
          "estimated generalization error": 1.3062341933231678,
          "generalization error": 2.0654308062085396
         },
         {
          "estimated generalization error": 1.283715611582574,
          "generalization error": 2.2631361260912204
         },
         {
          "estimated generalization error": 1.3539400859071873,
          "generalization error": 2.396487465173658
         },
         {
          "estimated generalization error": 1.3744865197898617,
          "generalization error": 2.16003768081618
         },
         {
          "estimated generalization error": 1.4611138947049915,
          "generalization error": 1.9456606592523775
         },
         {
          "estimated generalization error": 1.584416077234705,
          "generalization error": 2.1792342636061837
         },
         {
          "estimated generalization error": 1.626781590448233,
          "generalization error": 2.0281921791843205
         },
         {
          "estimated generalization error": 1.2403557742600155,
          "generalization error": 2.041130322275991
         },
         {
          "estimated generalization error": 1.3888336883623398,
          "generalization error": 2.173930041401597
         },
         {
          "estimated generalization error": 1.3930414628709986,
          "generalization error": 2.1139067917061625
         },
         {
          "estimated generalization error": 1.339486284932846,
          "generalization error": 2.0326653120866416
         },
         {
          "estimated generalization error": 1.57999119789552,
          "generalization error": 2.0251685747066634
         },
         {
          "estimated generalization error": 1.455801603074037,
          "generalization error": 2.181626853904475
         },
         {
          "estimated generalization error": 1.06543091865047,
          "generalization error": 1.9774610965435788
         },
         {
          "estimated generalization error": 1.4373910138107322,
          "generalization error": 2.1380166802990224
         },
         {
          "estimated generalization error": 1.3317496721632511,
          "generalization error": 1.983823800152378
         },
         {
          "estimated generalization error": 1.496687634650659,
          "generalization error": 2.0357691631596695
         },
         {
          "estimated generalization error": 1.7857277940953251,
          "generalization error": 2.073413842803345
         },
         {
          "estimated generalization error": 1.263963283488508,
          "generalization error": 2.3782280904993134
         },
         {
          "estimated generalization error": 1.3117149486800843,
          "generalization error": 2.209743903076438
         },
         {
          "estimated generalization error": 1.5321315818540495,
          "generalization error": 2.1441454682589924
         },
         {
          "estimated generalization error": 1.3323850442594576,
          "generalization error": 2.0372520667226026
         },
         {
          "estimated generalization error": 1.4331170086290914,
          "generalization error": 2.1613126979288984
         },
         {
          "estimated generalization error": 1.0735067660433095,
          "generalization error": 2.003235305892896
         },
         {
          "estimated generalization error": 1.5056784211559815,
          "generalization error": 2.092670721090035
         },
         {
          "estimated generalization error": 1.4603680370854648,
          "generalization error": 2.1547377290907925
         },
         {
          "estimated generalization error": 1.9239105965922847,
          "generalization error": 2.099403523637084
         },
         {
          "estimated generalization error": 1.185350666191904,
          "generalization error": 1.9166466413411174
         },
         {
          "estimated generalization error": 1.7156711873994979,
          "generalization error": 2.148797992946458
         },
         {
          "estimated generalization error": 1.3864764372486769,
          "generalization error": 2.2892871917826887
         },
         {
          "estimated generalization error": 1.4081465976372207,
          "generalization error": 1.950266409667355
         },
         {
          "estimated generalization error": 1.4470566824892352,
          "generalization error": 2.1651814437991685
         },
         {
          "estimated generalization error": 1.032045542265446,
          "generalization error": 2.01671547999602
         },
         {
          "estimated generalization error": 1.04998629027293,
          "generalization error": 2.1002739660531855
         },
         {
          "estimated generalization error": 1.1575763404762787,
          "generalization error": 2.0450998150305164
         },
         {
          "estimated generalization error": 1.5071143424871278,
          "generalization error": 2.052324548566229
         },
         {
          "estimated generalization error": 1.4685803462845883,
          "generalization error": 1.9640470058339132
         },
         {
          "estimated generalization error": 1.3503718475020963,
          "generalization error": 2.1452891661492695
         },
         {
          "estimated generalization error": 1.5151998935923492,
          "generalization error": 2.147915807686094
         },
         {
          "estimated generalization error": 1.4621853049898648,
          "generalization error": 2.1721035108403575
         },
         {
          "estimated generalization error": 1.4467148332161335,
          "generalization error": 2.1299839925844477
         },
         {
          "estimated generalization error": 1.162829026492798,
          "generalization error": 2.360512247708056
         },
         {
          "estimated generalization error": 1.2948521966293116,
          "generalization error": 2.038245227884181
         },
         {
          "estimated generalization error": 1.4843345185563388,
          "generalization error": 1.9658760554165273
         },
         {
          "estimated generalization error": 1.558266666858314,
          "generalization error": 2.113310902328854
         },
         {
          "estimated generalization error": 1.4037807148385846,
          "generalization error": 2.08245039697603
         },
         {
          "estimated generalization error": 1.114850229931321,
          "generalization error": 2.0762239100482396
         },
         {
          "estimated generalization error": 1.4807542177315127,
          "generalization error": 1.9300380024615347
         },
         {
          "estimated generalization error": 1.084724616726492,
          "generalization error": 1.9482531779874335
         },
         {
          "estimated generalization error": 1.4687305345450108,
          "generalization error": 2.1014368209565575
         },
         {
          "estimated generalization error": 1.683231343332493,
          "generalization error": 2.263544898081432
         },
         {
          "estimated generalization error": 1.605293443899192,
          "generalization error": 2.138784988153433
         },
         {
          "estimated generalization error": 1.3836877300538601,
          "generalization error": 2.317721936557791
         },
         {
          "estimated generalization error": 1.347179916589047,
          "generalization error": 2.0921157221965307
         },
         {
          "estimated generalization error": 1.1343515373955355,
          "generalization error": 2.0448435766111874
         },
         {
          "estimated generalization error": 1.6159751708972023,
          "generalization error": 2.1557000526786148
         },
         {
          "estimated generalization error": 1.5560161636717655,
          "generalization error": 2.1950450685922114
         },
         {
          "estimated generalization error": 1.4529247068309883,
          "generalization error": 2.144791311778464
         },
         {
          "estimated generalization error": 1.2099549228593682,
          "generalization error": 1.9639389400114189
         },
         {
          "estimated generalization error": 1.0809219386204247,
          "generalization error": 2.1615978877982998
         },
         {
          "estimated generalization error": 1.6271419752211884,
          "generalization error": 2.2399641840055073
         },
         {
          "estimated generalization error": 1.602847314566476,
          "generalization error": 1.9347338349240897
         },
         {
          "estimated generalization error": 1.6727633478179624,
          "generalization error": 1.9999902392146436
         },
         {
          "estimated generalization error": 1.377388985124358,
          "generalization error": 2.003355449724701
         },
         {
          "estimated generalization error": 1.3467498526527775,
          "generalization error": 1.9161110844994218
         },
         {
          "estimated generalization error": 1.3847263580181775,
          "generalization error": 2.1368523252353055
         },
         {
          "estimated generalization error": 1.5964956138243718,
          "generalization error": 2.1129570715335007
         },
         {
          "estimated generalization error": 1.3288750751441827,
          "generalization error": 2.079502465400981
         },
         {
          "estimated generalization error": 1.7141753511954931,
          "generalization error": 2.168800658019058
         },
         {
          "estimated generalization error": 1.2815575023612515,
          "generalization error": 2.0315124512355514
         },
         {
          "estimated generalization error": 1.4265103477738963,
          "generalization error": 2.162990524128545
         },
         {
          "estimated generalization error": 1.215276005632053,
          "generalization error": 2.1274538242406953
         },
         {
          "estimated generalization error": 1.641917092111402,
          "generalization error": 1.9890411650988393
         },
         {
          "estimated generalization error": 1.5468831282997781,
          "generalization error": 2.270043785089911
         },
         {
          "estimated generalization error": 1.0338858224936105,
          "generalization error": 2.1957710979534375
         },
         {
          "estimated generalization error": 1.3922467326913956,
          "generalization error": 2.123783154103908
         },
         {
          "estimated generalization error": 1.473887347278418,
          "generalization error": 2.154495935081143
         },
         {
          "estimated generalization error": 1.4368156152027165,
          "generalization error": 2.2677002490609968
         },
         {
          "estimated generalization error": 1.22884017505788,
          "generalization error": 2.1024619487184104
         },
         {
          "estimated generalization error": 1.5951515991178495,
          "generalization error": 2.180908576818866
         },
         {
          "estimated generalization error": 1.1896852106854912,
          "generalization error": 2.0483237448015648
         },
         {
          "estimated generalization error": 1.3399219561712519,
          "generalization error": 2.1216832480147554
         },
         {
          "estimated generalization error": 1.4636068121361996,
          "generalization error": 1.9636005408430257
         },
         {
          "estimated generalization error": 1.41879153748162,
          "generalization error": 2.1491430058098344
         },
         {
          "estimated generalization error": 1.3926388619649024,
          "generalization error": 2.099483003572868
         },
         {
          "estimated generalization error": 1.5779346631297144,
          "generalization error": 2.0064378615759066
         },
         {
          "estimated generalization error": 1.42773676480353,
          "generalization error": 2.236210861169241
         },
         {
          "estimated generalization error": 1.366350439069351,
          "generalization error": 2.1994457681492854
         },
         {
          "estimated generalization error": 1.5366027647130662,
          "generalization error": 1.9953716898766094
         },
         {
          "estimated generalization error": 1.5775065316009866,
          "generalization error": 2.186887186833618
         },
         {
          "estimated generalization error": 1.3231906792181058,
          "generalization error": 2.0524816768736702
         },
         {
          "estimated generalization error": 1.07265476365805,
          "generalization error": 2.01303958666555
         },
         {
          "estimated generalization error": 1.5372368638957108,
          "generalization error": 1.9582068743136083
         },
         {
          "estimated generalization error": 1.2157738654956183,
          "generalization error": 2.0096928521290165
         },
         {
          "estimated generalization error": 1.4053580326923287,
          "generalization error": 2.0597868117404032
         },
         {
          "estimated generalization error": 1.6448607943811033,
          "generalization error": 2.1982074053935587
         },
         {
          "estimated generalization error": 1.2093298108836,
          "generalization error": 2.2493140005940124
         },
         {
          "estimated generalization error": 1.5578127108842512,
          "generalization error": 2.0997143735449484
         },
         {
          "estimated generalization error": 1.267142176922319,
          "generalization error": 2.2939981162003598
         },
         {
          "estimated generalization error": 1.4695627219793004,
          "generalization error": 1.9005590722404548
         },
         {
          "estimated generalization error": 1.4522207296864464,
          "generalization error": 2.0411432805351355
         },
         {
          "estimated generalization error": 1.058025361545182,
          "generalization error": 1.9469154400496456
         },
         {
          "estimated generalization error": 1.4619592634512892,
          "generalization error": 2.103799729880137
         },
         {
          "estimated generalization error": 1.1991208161606466,
          "generalization error": 2.079940164299364
         },
         {
          "estimated generalization error": 1.5885753383177466,
          "generalization error": 2.0127628213191637
         },
         {
          "estimated generalization error": 1.1777373678314618,
          "generalization error": 2.0888984064921114
         },
         {
          "estimated generalization error": 1.670949307035068,
          "generalization error": 2.077942423790362
         },
         {
          "estimated generalization error": 1.3701279124851466,
          "generalization error": 1.938568974627758
         },
         {
          "estimated generalization error": 1.3833201590259234,
          "generalization error": 2.032283076015193
         },
         {
          "estimated generalization error": 1.4030322824334687,
          "generalization error": 2.334743409545574
         },
         {
          "estimated generalization error": 1.1758829154448809,
          "generalization error": 2.109677049442177
         },
         {
          "estimated generalization error": 1.4731813268214409,
          "generalization error": 2.106715409254127
         },
         {
          "estimated generalization error": 1.7943804773395693,
          "generalization error": 2.2315602128406318
         },
         {
          "estimated generalization error": 1.2034074949056335,
          "generalization error": 1.9379775225922524
         },
         {
          "estimated generalization error": 1.358384706630449,
          "generalization error": 2.216739069402894
         },
         {
          "estimated generalization error": 1.638585894540467,
          "generalization error": 2.323889725353162
         },
         {
          "estimated generalization error": 1.3052334290206675,
          "generalization error": 2.1488881477666633
         },
         {
          "estimated generalization error": 1.6970138240787254,
          "generalization error": 2.062292130268811
         },
         {
          "estimated generalization error": 1.6229533437853294,
          "generalization error": 2.0395435554726777
         },
         {
          "estimated generalization error": 1.3981214109293905,
          "generalization error": 2.2290341293549236
         },
         {
          "estimated generalization error": 1.3144572560157628,
          "generalization error": 2.0810593823280437
         },
         {
          "estimated generalization error": 1.2877844798165268,
          "generalization error": 2.0835370202916206
         },
         {
          "estimated generalization error": 1.6568979908358137,
          "generalization error": 2.056880314443885
         },
         {
          "estimated generalization error": 1.6081773929266283,
          "generalization error": 2.0799203191758613
         },
         {
          "estimated generalization error": 1.432404897635721,
          "generalization error": 1.9921822253137242
         },
         {
          "estimated generalization error": 1.2383525002114002,
          "generalization error": 2.25566467518539
         },
         {
          "estimated generalization error": 1.4905516996223447,
          "generalization error": 2.1901003920144304
         },
         {
          "estimated generalization error": 1.1634340719191154,
          "generalization error": 2.3531022702209126
         },
         {
          "estimated generalization error": 1.3570531356088336,
          "generalization error": 2.1009304845317684
         },
         {
          "estimated generalization error": 1.5889247984994257,
          "generalization error": 2.0747061789731327
         },
         {
          "estimated generalization error": 1.60636205509944,
          "generalization error": 2.0427123198270194
         },
         {
          "estimated generalization error": 1.472096109901914,
          "generalization error": 2.0470995034735706
         },
         {
          "estimated generalization error": 1.6051513480351858,
          "generalization error": 2.0606086652102116
         },
         {
          "estimated generalization error": 1.786044562446497,
          "generalization error": 2.215037473626309
         },
         {
          "estimated generalization error": 1.589069809591223,
          "generalization error": 2.0175365571560766
         },
         {
          "estimated generalization error": 1.6189501744156711,
          "generalization error": 2.330898099501121
         },
         {
          "estimated generalization error": 1.2020330963476202,
          "generalization error": 2.0470248639625095
         },
         {
          "estimated generalization error": 1.1520985302008557,
          "generalization error": 2.0903865592248465
         },
         {
          "estimated generalization error": 1.6235315452007328,
          "generalization error": 2.101558830504836
         },
         {
          "estimated generalization error": 1.3789664678252196,
          "generalization error": 2.1829216874603565
         },
         {
          "estimated generalization error": 1.3327305647232608,
          "generalization error": 2.2185752890158734
         },
         {
          "estimated generalization error": 1.1206492259680365,
          "generalization error": 2.0778485793359582
         },
         {
          "estimated generalization error": 1.6118558190664836,
          "generalization error": 1.984600442032715
         },
         {
          "estimated generalization error": 1.6471552195563353,
          "generalization error": 2.0217100509724255
         },
         {
          "estimated generalization error": 1.4887683861816796,
          "generalization error": 2.2648174511326142
         },
         {
          "estimated generalization error": 1.635379351600081,
          "generalization error": 2.284654010040643
         },
         {
          "estimated generalization error": 1.4397958649921478,
          "generalization error": 2.105160762247617
         },
         {
          "estimated generalization error": 1.702068029379249,
          "generalization error": 2.131703941601647
         },
         {
          "estimated generalization error": 1.5139796220375121,
          "generalization error": 2.078912450237937
         }
        ]
       },
       "encoding": {
        "color": {
         "field": "Quantity",
         "type": "nominal"
        },
        "x": {
         "bin": {
          "maxbins": 100
         },
         "field": "error",
         "type": "quantitative"
        },
        "y": {
         "aggregate": "count",
         "stack": null,
         "type": "quantitative"
        }
       },
       "height": 100,
       "mark": {
        "interpolate": "step",
        "opacity": 0.3,
        "type": "area"
       },
       "transform": [
        {
         "as": [
          "Quantity",
          "error"
         ],
         "fold": [
          "estimated generalization error",
          "generalization error"
         ]
        }
       ]
      },
      "image/png": "[encoded data removed]",
      "text/plain": [
       "<VegaLite 3 object>\n",
       "\n",
       "If you see this message, it means the renderer has not been properly enabled\n",
       "for the frontend that you are using. For more information, see\n",
       "https://altair-viz.github.io/user_guide/troubleshooting.html\n"
      ]
     },
     "execution_count": 15,
     "metadata": {},
     "output_type": "execute_result"
    }
   ],
   "source": [
    "source = pd.DataFrame({\n",
    "    'estimated generalization error':ês,\n",
    "    'generalization error':es\n",
    "})\n",
    "\n",
    "alt.Chart(source, height=100).transform_fold(\n",
    "    ['estimated generalization error', 'generalization error'],\n",
    "    as_=['Quantity', 'error']\n",
    ").mark_area(\n",
    "    opacity=0.3,\n",
    "    interpolate='step'\n",
    ").encode(\n",
    "    alt.X('error:Q', bin=alt.Bin(maxbins=100)),\n",
    "    alt.Y('count()', stack=None),\n",
    "    alt.Color('Quantity:N')\n",
    ")"
   ]
  },
  {
   "cell_type": "markdown",
   "metadata": {},
   "source": [
    "Ouch. This shows that our estimates are of generalization error are consistently far too low. Out of curiosity, let's see if that still happens if we use a linear model instead of a random forest."
   ]
  },
  {
   "cell_type": "markdown",
   "metadata": {
    "tags": [
     "popout"
    ]
   },
   "source": [
    "When an estimator is on average less than the quantitiy it is trying to estimate, we say that the estimator is *biased downward*. Thus $\\hat{\\mathcal E}$ is biased downward (for $\\mathcal{E}$)."
   ]
  },
  {
   "cell_type": "code",
   "execution_count": 16,
   "metadata": {
    "tags": [
     "hide_output"
    ]
   },
   "outputs": [],
   "source": [
    "from sklearn.linear_model import LinearRegression\n",
    "\n",
    "def simulate_model_eval():\n",
    "    X,y = data_factory(50)\n",
    "    model = LinearRegression()\n",
    "    model.fit(X,y)\n",
    "    \n",
    "    ŷ = model.predict(X)\n",
    "    ê = metric(y,ŷ)\n",
    "    \n",
    "    ŷ_future = model.predict(X_future)\n",
    "    e = metric(y_future, ŷ_future)\n",
    "    \n",
    "    return ê, e\n",
    "\n",
    "ês, es = zip(*[simulate_model_eval() for i in range(500)])"
   ]
  },
  {
   "cell_type": "code",
   "execution_count": 17,
   "metadata": {
    "tags": [
     "hide_input"
    ]
   },
   "outputs": [
    {
     "data": {
      "application/vnd.vegalite.v3+json": {
       "$schema": "https://vega.github.io/schema/vega-lite/v3.4.0.json",
       "config": {
        "mark": {
         "tooltip": null
        },
        "view": {
         "height": 300,
         "width": 400
        }
       },
       "data": {
        "name": "data-717659ffae76c263db22c0c000646d09"
       },
       "datasets": {
        "data-717659ffae76c263db22c0c000646d09": [
         {
          "estimated generalization error": 3.0608583784005674,
          "generalization error": 3.477365506929486
         },
         {
          "estimated generalization error": 3.1996407035917804,
          "generalization error": 3.2230521954020315
         },
         {
          "estimated generalization error": 3.5354157213148985,
          "generalization error": 3.3156472905980814
         },
         {
          "estimated generalization error": 3.516180401875488,
          "generalization error": 3.339220015397328
         },
         {
          "estimated generalization error": 3.0760436060197893,
          "generalization error": 3.218740197720294
         },
         {
          "estimated generalization error": 3.633189169865034,
          "generalization error": 3.2245722958154865
         },
         {
          "estimated generalization error": 2.9870758274201568,
          "generalization error": 3.3112582117622336
         },
         {
          "estimated generalization error": 3.400329150753127,
          "generalization error": 3.311237177907454
         },
         {
          "estimated generalization error": 3.1782937001129583,
          "generalization error": 3.2174334400746263
         },
         {
          "estimated generalization error": 2.974076912533726,
          "generalization error": 3.221654171396518
         },
         {
          "estimated generalization error": 2.8982499954562737,
          "generalization error": 3.316579188159804
         },
         {
          "estimated generalization error": 3.3164784992197274,
          "generalization error": 3.3998409288762836
         },
         {
          "estimated generalization error": 3.549516737907332,
          "generalization error": 3.231394294518765
         },
         {
          "estimated generalization error": 2.9054943315100563,
          "generalization error": 3.301897235574417
         },
         {
          "estimated generalization error": 2.9532746048871816,
          "generalization error": 3.2296058039270825
         },
         {
          "estimated generalization error": 2.9234990494043087,
          "generalization error": 3.2296290557898844
         },
         {
          "estimated generalization error": 3.264800718168688,
          "generalization error": 3.29580319560078
         },
         {
          "estimated generalization error": 2.7142721999438693,
          "generalization error": 3.258709785041752
         },
         {
          "estimated generalization error": 3.3305856211959237,
          "generalization error": 3.3561645222115515
         },
         {
          "estimated generalization error": 3.4605151308612,
          "generalization error": 3.2933754070465073
         },
         {
          "estimated generalization error": 2.428444718679727,
          "generalization error": 3.3678143668854714
         },
         {
          "estimated generalization error": 3.0427399960239394,
          "generalization error": 3.2904612319995
         },
         {
          "estimated generalization error": 3.1221833352924353,
          "generalization error": 3.2557176703422823
         },
         {
          "estimated generalization error": 3.201668022471204,
          "generalization error": 3.32376176551113
         },
         {
          "estimated generalization error": 2.7849123221807073,
          "generalization error": 3.294640849153173
         },
         {
          "estimated generalization error": 2.774539605054132,
          "generalization error": 3.2137180647256347
         },
         {
          "estimated generalization error": 3.2912219083913627,
          "generalization error": 3.2227907646383263
         },
         {
          "estimated generalization error": 3.2342933708226753,
          "generalization error": 3.234772821477946
         },
         {
          "estimated generalization error": 3.30889026646276,
          "generalization error": 3.378754767648256
         },
         {
          "estimated generalization error": 3.1726304804994334,
          "generalization error": 3.2852523023050915
         },
         {
          "estimated generalization error": 3.099932120486288,
          "generalization error": 3.2424588258235265
         },
         {
          "estimated generalization error": 3.200845744086978,
          "generalization error": 3.4535594117516255
         },
         {
          "estimated generalization error": 3.7236504762572133,
          "generalization error": 3.289054731322723
         },
         {
          "estimated generalization error": 3.7746223031267245,
          "generalization error": 3.291164937738221
         },
         {
          "estimated generalization error": 2.928700999181095,
          "generalization error": 3.37505218445639
         },
         {
          "estimated generalization error": 3.133337826355592,
          "generalization error": 3.53262003318643
         },
         {
          "estimated generalization error": 2.980164314919777,
          "generalization error": 3.249848533879494
         },
         {
          "estimated generalization error": 3.297582655700951,
          "generalization error": 3.4204219504661095
         },
         {
          "estimated generalization error": 3.28790499952397,
          "generalization error": 3.244481517084185
         },
         {
          "estimated generalization error": 3.7553433494542237,
          "generalization error": 3.2276945630281175
         },
         {
          "estimated generalization error": 3.4198459831837305,
          "generalization error": 3.2679424725061956
         },
         {
          "estimated generalization error": 3.410443500814057,
          "generalization error": 3.4486849423601518
         },
         {
          "estimated generalization error": 3.785359081610242,
          "generalization error": 3.2299626641336485
         },
         {
          "estimated generalization error": 2.965529330251578,
          "generalization error": 3.260949113000655
         },
         {
          "estimated generalization error": 2.9209461831154635,
          "generalization error": 3.3688538196595736
         },
         {
          "estimated generalization error": 3.3758047139993645,
          "generalization error": 3.2533585516440757
         },
         {
          "estimated generalization error": 3.180233458765575,
          "generalization error": 3.3524819497266996
         },
         {
          "estimated generalization error": 2.8674570893441143,
          "generalization error": 3.2655844309214106
         },
         {
          "estimated generalization error": 3.24479377222774,
          "generalization error": 3.2178161280168633
         },
         {
          "estimated generalization error": 3.2894360663917115,
          "generalization error": 3.2582730214736073
         },
         {
          "estimated generalization error": 3.0256479349272944,
          "generalization error": 3.3383822365076763
         },
         {
          "estimated generalization error": 3.3470933745943183,
          "generalization error": 3.385922531909487
         },
         {
          "estimated generalization error": 3.1770518287690335,
          "generalization error": 3.559379615900837
         },
         {
          "estimated generalization error": 3.322414243321552,
          "generalization error": 3.2447486484309698
         },
         {
          "estimated generalization error": 3.169335499642998,
          "generalization error": 3.2793266090279616
         },
         {
          "estimated generalization error": 2.656453101970322,
          "generalization error": 3.2848207287086315
         },
         {
          "estimated generalization error": 3.3122002311290957,
          "generalization error": 3.615719057478481
         },
         {
          "estimated generalization error": 3.2848356333941844,
          "generalization error": 3.304605510020222
         },
         {
          "estimated generalization error": 3.54111713628978,
          "generalization error": 3.2599652687324343
         },
         {
          "estimated generalization error": 3.1984300781023904,
          "generalization error": 3.263228512871143
         },
         {
          "estimated generalization error": 2.5472039762284693,
          "generalization error": 3.253508116317644
         },
         {
          "estimated generalization error": 3.071622150834845,
          "generalization error": 3.217499442934942
         },
         {
          "estimated generalization error": 3.477416373397807,
          "generalization error": 3.2600702297031194
         },
         {
          "estimated generalization error": 3.3965868793097282,
          "generalization error": 3.2227234990015807
         },
         {
          "estimated generalization error": 3.163941391399863,
          "generalization error": 3.2808959895728838
         },
         {
          "estimated generalization error": 3.6941949161196845,
          "generalization error": 3.2594719171622613
         },
         {
          "estimated generalization error": 3.1065233126018317,
          "generalization error": 3.2430036326476688
         },
         {
          "estimated generalization error": 3.361047145616257,
          "generalization error": 3.2255756392771042
         },
         {
          "estimated generalization error": 3.012919366543309,
          "generalization error": 3.2554805571244665
         },
         {
          "estimated generalization error": 2.7689635403213235,
          "generalization error": 3.2468883618703384
         },
         {
          "estimated generalization error": 3.2595656746123614,
          "generalization error": 3.220228848064575
         },
         {
          "estimated generalization error": 2.807525137599742,
          "generalization error": 3.221300717765229
         },
         {
          "estimated generalization error": 3.485197542345369,
          "generalization error": 3.3548834698665475
         },
         {
          "estimated generalization error": 3.306863282028372,
          "generalization error": 3.24105899729978
         },
         {
          "estimated generalization error": 3.0234868041908087,
          "generalization error": 3.2947666936795246
         },
         {
          "estimated generalization error": 3.31852207947683,
          "generalization error": 3.328815304885718
         },
         {
          "estimated generalization error": 2.744306872725277,
          "generalization error": 3.330530162425847
         },
         {
          "estimated generalization error": 3.3979620295351523,
          "generalization error": 3.2871841426136146
         },
         {
          "estimated generalization error": 2.6508771361622627,
          "generalization error": 3.27984959528749
         },
         {
          "estimated generalization error": 3.573300381179746,
          "generalization error": 3.2397200544515288
         },
         {
          "estimated generalization error": 2.8658692156688352,
          "generalization error": 3.2162824587035823
         },
         {
          "estimated generalization error": 3.2965963843694914,
          "generalization error": 3.2184326501843596
         },
         {
          "estimated generalization error": 3.275858906524947,
          "generalization error": 3.2482763130825356
         },
         {
          "estimated generalization error": 3.343777285435869,
          "generalization error": 3.2857616063567887
         },
         {
          "estimated generalization error": 3.755246690329663,
          "generalization error": 3.2892792666332076
         },
         {
          "estimated generalization error": 3.7810209634490035,
          "generalization error": 3.2355095602942407
         },
         {
          "estimated generalization error": 3.23385129321715,
          "generalization error": 3.247629045483551
         },
         {
          "estimated generalization error": 2.928096194531036,
          "generalization error": 3.3216541101109485
         },
         {
          "estimated generalization error": 3.5463204780185333,
          "generalization error": 3.3722768333962185
         },
         {
          "estimated generalization error": 3.5426403836647014,
          "generalization error": 3.370266607836564
         },
         {
          "estimated generalization error": 3.1754366557086997,
          "generalization error": 3.2624539861632265
         },
         {
          "estimated generalization error": 2.9884939725465096,
          "generalization error": 3.2802739899471716
         },
         {
          "estimated generalization error": 3.166030356007313,
          "generalization error": 3.321716998834369
         },
         {
          "estimated generalization error": 3.429783258228316,
          "generalization error": 3.2483887698811875
         },
         {
          "estimated generalization error": 3.094610508612721,
          "generalization error": 3.241668674470445
         },
         {
          "estimated generalization error": 3.1296726919908364,
          "generalization error": 3.379150577788385
         },
         {
          "estimated generalization error": 3.315936326377522,
          "generalization error": 3.4530549142881686
         },
         {
          "estimated generalization error": 3.423484496404756,
          "generalization error": 3.272352635267045
         },
         {
          "estimated generalization error": 3.8337728786505374,
          "generalization error": 3.399492373611751
         },
         {
          "estimated generalization error": 3.496709719856065,
          "generalization error": 3.217009388136932
         },
         {
          "estimated generalization error": 3.0902600958643154,
          "generalization error": 3.2475727332831426
         },
         {
          "estimated generalization error": 3.667035906768293,
          "generalization error": 3.229584575310764
         },
         {
          "estimated generalization error": 3.1402158751839995,
          "generalization error": 3.278850193227613
         },
         {
          "estimated generalization error": 3.44546588421144,
          "generalization error": 3.2256915767027694
         },
         {
          "estimated generalization error": 3.4977424787606606,
          "generalization error": 3.343792737506606
         },
         {
          "estimated generalization error": 2.710225611964215,
          "generalization error": 3.238694710020377
         },
         {
          "estimated generalization error": 3.560073988309388,
          "generalization error": 3.3018832770540762
         },
         {
          "estimated generalization error": 3.5630692515259437,
          "generalization error": 3.228419456746251
         },
         {
          "estimated generalization error": 3.2107682840520058,
          "generalization error": 3.227376893472001
         },
         {
          "estimated generalization error": 3.038784433794392,
          "generalization error": 3.3905335893709876
         },
         {
          "estimated generalization error": 3.3114621149274615,
          "generalization error": 3.2860894618036802
         },
         {
          "estimated generalization error": 3.5712764633091827,
          "generalization error": 3.284590024064225
         },
         {
          "estimated generalization error": 3.221445571084438,
          "generalization error": 3.301850762029526
         },
         {
          "estimated generalization error": 2.986343884160215,
          "generalization error": 3.227321829012472
         },
         {
          "estimated generalization error": 3.4259982428224482,
          "generalization error": 3.345970470598888
         },
         {
          "estimated generalization error": 3.0581308637610363,
          "generalization error": 3.2332479641160794
         },
         {
          "estimated generalization error": 2.722554592566268,
          "generalization error": 3.2237285012358914
         },
         {
          "estimated generalization error": 3.603981103474768,
          "generalization error": 3.283545391075969
         },
         {
          "estimated generalization error": 3.5062626034884823,
          "generalization error": 3.2187616074294234
         },
         {
          "estimated generalization error": 3.9133177774701204,
          "generalization error": 3.303028694500615
         },
         {
          "estimated generalization error": 2.8192818564631072,
          "generalization error": 3.316322665374147
         },
         {
          "estimated generalization error": 3.576456525251189,
          "generalization error": 3.3289955933211317
         },
         {
          "estimated generalization error": 2.9000562935188396,
          "generalization error": 3.3375031143120517
         },
         {
          "estimated generalization error": 2.9541096665384527,
          "generalization error": 3.269929239648365
         },
         {
          "estimated generalization error": 3.1117111252274,
          "generalization error": 3.2639326787681524
         },
         {
          "estimated generalization error": 3.1707038631047277,
          "generalization error": 3.408453340418586
         },
         {
          "estimated generalization error": 3.1865230419633055,
          "generalization error": 3.3578908730462995
         },
         {
          "estimated generalization error": 3.5529236670038875,
          "generalization error": 3.2542764659403507
         },
         {
          "estimated generalization error": 3.0932004456720477,
          "generalization error": 3.232428197605716
         },
         {
          "estimated generalization error": 3.272380202106934,
          "generalization error": 3.280062818612316
         },
         {
          "estimated generalization error": 3.0827962338298556,
          "generalization error": 3.3722451445746433
         },
         {
          "estimated generalization error": 3.3217345051021683,
          "generalization error": 3.260297419147148
         },
         {
          "estimated generalization error": 2.997086824014344,
          "generalization error": 3.251735823129467
         },
         {
          "estimated generalization error": 3.583724728769466,
          "generalization error": 3.3998930742018354
         },
         {
          "estimated generalization error": 3.7910864298520544,
          "generalization error": 3.346167631678658
         },
         {
          "estimated generalization error": 3.5887113005451448,
          "generalization error": 3.220793660630103
         },
         {
          "estimated generalization error": 3.136201170500877,
          "generalization error": 3.2569296363533895
         },
         {
          "estimated generalization error": 3.2973332713385095,
          "generalization error": 3.2668906396173947
         },
         {
          "estimated generalization error": 3.6036750879928405,
          "generalization error": 3.2905257287837903
         },
         {
          "estimated generalization error": 3.0984527811262863,
          "generalization error": 3.2894984714159032
         },
         {
          "estimated generalization error": 2.8979200387451334,
          "generalization error": 3.215401425885853
         },
         {
          "estimated generalization error": 2.8887541812207496,
          "generalization error": 3.2428033005716874
         },
         {
          "estimated generalization error": 3.87668709954483,
          "generalization error": 3.4024473084275155
         },
         {
          "estimated generalization error": 2.8375467716525726,
          "generalization error": 3.3246920776016062
         },
         {
          "estimated generalization error": 3.546035684350689,
          "generalization error": 3.266749100211295
         },
         {
          "estimated generalization error": 3.128606159072299,
          "generalization error": 3.245861179734685
         },
         {
          "estimated generalization error": 3.436216231273773,
          "generalization error": 3.247204039642816
         },
         {
          "estimated generalization error": 2.922953222824546,
          "generalization error": 3.2156081146593722
         },
         {
          "estimated generalization error": 3.476566366005224,
          "generalization error": 3.244596935844875
         },
         {
          "estimated generalization error": 3.3709244024945746,
          "generalization error": 3.2553136185946294
         },
         {
          "estimated generalization error": 2.749543144182158,
          "generalization error": 3.25016876351766
         },
         {
          "estimated generalization error": 3.493892390794841,
          "generalization error": 3.419381167741452
         },
         {
          "estimated generalization error": 3.010615175444591,
          "generalization error": 3.5384849527821807
         },
         {
          "estimated generalization error": 3.076324154198082,
          "generalization error": 3.219963753975922
         },
         {
          "estimated generalization error": 3.44467178881358,
          "generalization error": 3.238916311583368
         },
         {
          "estimated generalization error": 2.7955442131143973,
          "generalization error": 3.2317255094100865
         },
         {
          "estimated generalization error": 2.7891248258492225,
          "generalization error": 3.235430721496714
         },
         {
          "estimated generalization error": 2.9112357766362966,
          "generalization error": 3.3385304881686393
         },
         {
          "estimated generalization error": 2.842053110929204,
          "generalization error": 3.244088685577101
         },
         {
          "estimated generalization error": 2.3732000859483975,
          "generalization error": 3.280898762748564
         },
         {
          "estimated generalization error": 3.391609799876977,
          "generalization error": 3.21664510059385
         },
         {
          "estimated generalization error": 3.1754497425025825,
          "generalization error": 3.3071920179665444
         },
         {
          "estimated generalization error": 3.2235699746765483,
          "generalization error": 3.227012147473339
         },
         {
          "estimated generalization error": 2.5803304209551756,
          "generalization error": 3.2175032915000013
         },
         {
          "estimated generalization error": 2.748804392672286,
          "generalization error": 3.2636547104203673
         },
         {
          "estimated generalization error": 2.5624568395737333,
          "generalization error": 3.2195398119756304
         },
         {
          "estimated generalization error": 3.3247263340418542,
          "generalization error": 3.2418951140462426
         },
         {
          "estimated generalization error": 3.5580062889942443,
          "generalization error": 3.249973461397742
         },
         {
          "estimated generalization error": 2.5394937478808597,
          "generalization error": 3.2685697089575387
         },
         {
          "estimated generalization error": 3.3815743351672607,
          "generalization error": 3.4183748873287416
         },
         {
          "estimated generalization error": 3.2122232220020686,
          "generalization error": 3.2888112195395505
         },
         {
          "estimated generalization error": 3.123315416291534,
          "generalization error": 3.4409422192105343
         },
         {
          "estimated generalization error": 3.3119643175723867,
          "generalization error": 3.3520441308576863
         },
         {
          "estimated generalization error": 3.4035004005124607,
          "generalization error": 3.3996083355228177
         },
         {
          "estimated generalization error": 3.110054733499821,
          "generalization error": 3.292330426106074
         },
         {
          "estimated generalization error": 3.07626261099605,
          "generalization error": 3.3067142124702573
         },
         {
          "estimated generalization error": 3.691921974496151,
          "generalization error": 3.2827862824804965
         },
         {
          "estimated generalization error": 3.23759832833647,
          "generalization error": 3.331427548066292
         },
         {
          "estimated generalization error": 2.6867794432711554,
          "generalization error": 3.3317717006995866
         },
         {
          "estimated generalization error": 3.0346678913395375,
          "generalization error": 3.4927658253389566
         },
         {
          "estimated generalization error": 3.179942209455488,
          "generalization error": 3.2296501096492056
         },
         {
          "estimated generalization error": 2.7939271946041755,
          "generalization error": 3.31589035678834
         },
         {
          "estimated generalization error": 3.7194583505357572,
          "generalization error": 3.243021519540944
         },
         {
          "estimated generalization error": 3.5017741077568196,
          "generalization error": 3.2835514434486823
         },
         {
          "estimated generalization error": 3.176341330794484,
          "generalization error": 3.297654953238486
         },
         {
          "estimated generalization error": 2.8971780087559074,
          "generalization error": 3.2978666929287495
         },
         {
          "estimated generalization error": 2.983146669808248,
          "generalization error": 3.2253412052014387
         },
         {
          "estimated generalization error": 3.257426104592897,
          "generalization error": 3.355061006680818
         },
         {
          "estimated generalization error": 3.004120325751282,
          "generalization error": 3.244319543758648
         },
         {
          "estimated generalization error": 3.3004011352073004,
          "generalization error": 3.2267299103790097
         },
         {
          "estimated generalization error": 2.8956761240496416,
          "generalization error": 3.214677402937576
         },
         {
          "estimated generalization error": 2.9933664829207873,
          "generalization error": 3.2430003409665975
         },
         {
          "estimated generalization error": 3.0798237141695908,
          "generalization error": 3.2338823919200217
         },
         {
          "estimated generalization error": 2.9988915029132874,
          "generalization error": 3.2484526887632628
         },
         {
          "estimated generalization error": 2.973197964612386,
          "generalization error": 3.353125518237977
         },
         {
          "estimated generalization error": 3.479701379157748,
          "generalization error": 3.4432946487324143
         },
         {
          "estimated generalization error": 3.333308611098125,
          "generalization error": 3.238986897678395
         },
         {
          "estimated generalization error": 3.2520867858150284,
          "generalization error": 3.276313100911944
         },
         {
          "estimated generalization error": 3.278058945253107,
          "generalization error": 3.2627276636345206
         },
         {
          "estimated generalization error": 3.403648946886893,
          "generalization error": 3.2189766447649437
         },
         {
          "estimated generalization error": 3.050241071234637,
          "generalization error": 3.23375900774556
         },
         {
          "estimated generalization error": 3.0016826691155516,
          "generalization error": 3.2529320827329236
         },
         {
          "estimated generalization error": 3.2441745290748396,
          "generalization error": 3.235669023292803
         },
         {
          "estimated generalization error": 3.070505920228131,
          "generalization error": 3.2911466048820754
         },
         {
          "estimated generalization error": 3.17891657345632,
          "generalization error": 3.220707817180731
         },
         {
          "estimated generalization error": 3.416597943692384,
          "generalization error": 3.2723310626843527
         },
         {
          "estimated generalization error": 3.4607270820113714,
          "generalization error": 3.281021135054179
         },
         {
          "estimated generalization error": 3.3086011869621683,
          "generalization error": 3.267347501241615
         },
         {
          "estimated generalization error": 3.564295894933207,
          "generalization error": 3.2210312796559233
         },
         {
          "estimated generalization error": 3.5284447027678874,
          "generalization error": 3.2387002990926703
         },
         {
          "estimated generalization error": 3.2563865565165107,
          "generalization error": 3.2668342825422925
         },
         {
          "estimated generalization error": 3.104680053436616,
          "generalization error": 3.2192757025662817
         },
         {
          "estimated generalization error": 3.075979586040152,
          "generalization error": 3.250058956604134
         },
         {
          "estimated generalization error": 3.296775383764637,
          "generalization error": 3.219225886813228
         },
         {
          "estimated generalization error": 3.1204672772792814,
          "generalization error": 3.2288381768536003
         },
         {
          "estimated generalization error": 3.010790397382357,
          "generalization error": 3.25685377082531
         },
         {
          "estimated generalization error": 2.5978514645349513,
          "generalization error": 3.438786820599564
         },
         {
          "estimated generalization error": 2.864003775517693,
          "generalization error": 3.611069335061841
         },
         {
          "estimated generalization error": 2.714630731550824,
          "generalization error": 3.221200528111139
         },
         {
          "estimated generalization error": 3.4668973150604523,
          "generalization error": 3.218807510801815
         },
         {
          "estimated generalization error": 3.2118959226889707,
          "generalization error": 3.2313756076362403
         },
         {
          "estimated generalization error": 3.6233791994893805,
          "generalization error": 3.3450108347469945
         },
         {
          "estimated generalization error": 3.696773571764889,
          "generalization error": 3.4012940001050143
         },
         {
          "estimated generalization error": 3.0298269201479844,
          "generalization error": 3.2550891085471596
         },
         {
          "estimated generalization error": 3.091364191388247,
          "generalization error": 3.3361776305522874
         },
         {
          "estimated generalization error": 3.7251671830250888,
          "generalization error": 3.2511215329932672
         },
         {
          "estimated generalization error": 3.0421240164837684,
          "generalization error": 3.3103031289276568
         },
         {
          "estimated generalization error": 3.337469640288515,
          "generalization error": 3.4126489700021323
         },
         {
          "estimated generalization error": 3.1940228313545873,
          "generalization error": 3.295335719036105
         },
         {
          "estimated generalization error": 2.8754977940447617,
          "generalization error": 3.246108809501588
         },
         {
          "estimated generalization error": 3.310696056749941,
          "generalization error": 3.250455642740198
         },
         {
          "estimated generalization error": 2.8857451312696356,
          "generalization error": 3.324836239378645
         },
         {
          "estimated generalization error": 2.8824523689288255,
          "generalization error": 3.2169889741281588
         },
         {
          "estimated generalization error": 3.3146291308066083,
          "generalization error": 3.2770670382195424
         },
         {
          "estimated generalization error": 3.3602176669293686,
          "generalization error": 3.3604051225685057
         },
         {
          "estimated generalization error": 3.3064738996067824,
          "generalization error": 3.2289166207098123
         },
         {
          "estimated generalization error": 3.4268925985641534,
          "generalization error": 3.2460264959193936
         },
         {
          "estimated generalization error": 3.087816931489763,
          "generalization error": 3.325789738232877
         },
         {
          "estimated generalization error": 3.611335503960908,
          "generalization error": 3.2157777645704315
         },
         {
          "estimated generalization error": 3.658027806088154,
          "generalization error": 3.26017396948739
         },
         {
          "estimated generalization error": 2.860412034896251,
          "generalization error": 3.2368276238551417
         },
         {
          "estimated generalization error": 3.6409966540373317,
          "generalization error": 3.2782993195874943
         },
         {
          "estimated generalization error": 3.426882585697694,
          "generalization error": 3.2183329529822173
         },
         {
          "estimated generalization error": 2.785130892724079,
          "generalization error": 3.258076014051903
         },
         {
          "estimated generalization error": 3.1893790724113513,
          "generalization error": 3.2398104948696083
         },
         {
          "estimated generalization error": 2.9487943004613584,
          "generalization error": 3.233519231381559
         },
         {
          "estimated generalization error": 2.9954690682164538,
          "generalization error": 3.2439728512309833
         },
         {
          "estimated generalization error": 3.1249406935177113,
          "generalization error": 3.369125002640366
         },
         {
          "estimated generalization error": 3.3550378487185424,
          "generalization error": 3.2381248601217782
         },
         {
          "estimated generalization error": 2.5339817105977045,
          "generalization error": 3.285873006819703
         },
         {
          "estimated generalization error": 2.7754516034479355,
          "generalization error": 3.301083788756059
         },
         {
          "estimated generalization error": 2.7260830549481603,
          "generalization error": 3.2411428435127414
         },
         {
          "estimated generalization error": 3.5165782169538264,
          "generalization error": 3.217293216991466
         },
         {
          "estimated generalization error": 3.1248187918183845,
          "generalization error": 3.4028761566062076
         },
         {
          "estimated generalization error": 3.279207858392265,
          "generalization error": 3.22309694727438
         },
         {
          "estimated generalization error": 3.864503144882598,
          "generalization error": 3.28493581532326
         },
         {
          "estimated generalization error": 2.8567064859282216,
          "generalization error": 3.279467439692781
         },
         {
          "estimated generalization error": 2.7375998685964613,
          "generalization error": 3.2147171228567486
         },
         {
          "estimated generalization error": 2.9590127948685976,
          "generalization error": 3.234246672323722
         },
         {
          "estimated generalization error": 3.1328069733151835,
          "generalization error": 3.2183494990877244
         },
         {
          "estimated generalization error": 3.1249799650289987,
          "generalization error": 3.220516977597021
         },
         {
          "estimated generalization error": 2.9529124105896836,
          "generalization error": 3.217869642871294
         },
         {
          "estimated generalization error": 3.6997054556723366,
          "generalization error": 3.2686565755301458
         },
         {
          "estimated generalization error": 2.9791865518461997,
          "generalization error": 3.2210329974874528
         },
         {
          "estimated generalization error": 3.1438816734801973,
          "generalization error": 3.242710517273622
         },
         {
          "estimated generalization error": 3.394377082388692,
          "generalization error": 3.2380558431831927
         },
         {
          "estimated generalization error": 3.2540410822949504,
          "generalization error": 3.2355903277406695
         },
         {
          "estimated generalization error": 3.2068881582663447,
          "generalization error": 3.224003992655148
         },
         {
          "estimated generalization error": 3.120486885557312,
          "generalization error": 3.2145912029282626
         },
         {
          "estimated generalization error": 2.82257114536494,
          "generalization error": 3.286960564846441
         },
         {
          "estimated generalization error": 2.8730894273083774,
          "generalization error": 3.214166955234085
         },
         {
          "estimated generalization error": 3.2808520877140794,
          "generalization error": 3.2761276848454313
         },
         {
          "estimated generalization error": 2.7337858102780292,
          "generalization error": 3.2370853403003887
         },
         {
          "estimated generalization error": 3.046387352423458,
          "generalization error": 3.2554947479108245
         },
         {
          "estimated generalization error": 3.0155349820370025,
          "generalization error": 3.2617102781471896
         },
         {
          "estimated generalization error": 2.8044931047480333,
          "generalization error": 3.304842533049252
         },
         {
          "estimated generalization error": 2.9516000058335385,
          "generalization error": 3.26220982275354
         },
         {
          "estimated generalization error": 3.317158071094575,
          "generalization error": 3.238311648317368
         },
         {
          "estimated generalization error": 3.165461963593681,
          "generalization error": 3.24949227118373
         },
         {
          "estimated generalization error": 3.299697973030809,
          "generalization error": 3.417199529100632
         },
         {
          "estimated generalization error": 3.034332931949111,
          "generalization error": 3.224724272935656
         },
         {
          "estimated generalization error": 3.3635650267547645,
          "generalization error": 3.359621051844643
         },
         {
          "estimated generalization error": 3.097748762165062,
          "generalization error": 3.3135948220114666
         },
         {
          "estimated generalization error": 2.8142958675636707,
          "generalization error": 3.2806126570662726
         },
         {
          "estimated generalization error": 2.86532080262617,
          "generalization error": 3.3832369786302943
         },
         {
          "estimated generalization error": 3.2957886148943656,
          "generalization error": 3.2574495748699026
         },
         {
          "estimated generalization error": 3.120355161315645,
          "generalization error": 3.265819138776457
         },
         {
          "estimated generalization error": 2.3376629032027245,
          "generalization error": 3.2238667775222867
         },
         {
          "estimated generalization error": 3.5248765307795455,
          "generalization error": 3.246172058192583
         },
         {
          "estimated generalization error": 2.815085808967372,
          "generalization error": 3.2739595550409892
         },
         {
          "estimated generalization error": 2.662379677000187,
          "generalization error": 3.221126702410393
         },
         {
          "estimated generalization error": 2.9231422737970005,
          "generalization error": 3.2750009979997343
         },
         {
          "estimated generalization error": 3.2365770161226806,
          "generalization error": 3.369696556300338
         },
         {
          "estimated generalization error": 3.8324919143438945,
          "generalization error": 3.2746711057708593
         },
         {
          "estimated generalization error": 3.133028601980629,
          "generalization error": 3.377228146976623
         },
         {
          "estimated generalization error": 3.2007058947417932,
          "generalization error": 3.2955277311468367
         },
         {
          "estimated generalization error": 3.1177910751411964,
          "generalization error": 3.2379954737403813
         },
         {
          "estimated generalization error": 3.2190923277035335,
          "generalization error": 3.2571594998952276
         },
         {
          "estimated generalization error": 3.113047432547611,
          "generalization error": 3.2167074068686903
         },
         {
          "estimated generalization error": 3.2757294330666102,
          "generalization error": 3.2144400864858738
         },
         {
          "estimated generalization error": 3.4954492958075125,
          "generalization error": 3.365937250051301
         },
         {
          "estimated generalization error": 2.677217747499876,
          "generalization error": 3.249601608809832
         },
         {
          "estimated generalization error": 3.282772491771514,
          "generalization error": 3.3234310088687704
         },
         {
          "estimated generalization error": 3.1519286337098418,
          "generalization error": 3.2200197365408036
         },
         {
          "estimated generalization error": 3.2655596089336685,
          "generalization error": 3.453139965087096
         },
         {
          "estimated generalization error": 3.031617572890602,
          "generalization error": 3.2327674364282175
         },
         {
          "estimated generalization error": 3.2727016335908106,
          "generalization error": 3.2230641063998453
         },
         {
          "estimated generalization error": 2.9806697855073856,
          "generalization error": 3.220230789270592
         },
         {
          "estimated generalization error": 2.8702368134423906,
          "generalization error": 3.2378024841281148
         },
         {
          "estimated generalization error": 3.1834396400462897,
          "generalization error": 3.321037308436689
         },
         {
          "estimated generalization error": 3.3352896815586646,
          "generalization error": 3.476984834295348
         },
         {
          "estimated generalization error": 3.2658499994385775,
          "generalization error": 3.2665706343250687
         },
         {
          "estimated generalization error": 3.1244648906793064,
          "generalization error": 3.3428397234481944
         },
         {
          "estimated generalization error": 2.4611256743646908,
          "generalization error": 3.452908345640674
         },
         {
          "estimated generalization error": 3.178396076400648,
          "generalization error": 3.217672663333242
         },
         {
          "estimated generalization error": 3.0130051521043413,
          "generalization error": 3.233700721961683
         },
         {
          "estimated generalization error": 2.7377697127995306,
          "generalization error": 3.2449136042852404
         },
         {
          "estimated generalization error": 2.713398891563746,
          "generalization error": 3.305664976695716
         },
         {
          "estimated generalization error": 2.829915941578881,
          "generalization error": 3.2244037023592904
         },
         {
          "estimated generalization error": 3.129929742121254,
          "generalization error": 3.21701999039636
         },
         {
          "estimated generalization error": 3.437393889655794,
          "generalization error": 3.3350288771448766
         },
         {
          "estimated generalization error": 3.654067431203675,
          "generalization error": 3.3385929475535754
         },
         {
          "estimated generalization error": 3.306501350428228,
          "generalization error": 3.232181639874817
         },
         {
          "estimated generalization error": 3.308378362809306,
          "generalization error": 3.341067435777906
         },
         {
          "estimated generalization error": 3.5299441141230545,
          "generalization error": 3.242805691457746
         },
         {
          "estimated generalization error": 3.5574962937624877,
          "generalization error": 3.23730181226167
         },
         {
          "estimated generalization error": 3.1771482376283995,
          "generalization error": 3.246375825235937
         },
         {
          "estimated generalization error": 3.3766900523112415,
          "generalization error": 3.3544692434371695
         },
         {
          "estimated generalization error": 3.036720869264499,
          "generalization error": 3.3190572287257147
         },
         {
          "estimated generalization error": 3.44158653270916,
          "generalization error": 3.287556249665687
         },
         {
          "estimated generalization error": 2.8399710868956,
          "generalization error": 3.3003405594978528
         },
         {
          "estimated generalization error": 2.8534439911756833,
          "generalization error": 3.2887069869577683
         },
         {
          "estimated generalization error": 3.4268015188309677,
          "generalization error": 3.2283187776239357
         },
         {
          "estimated generalization error": 3.156227184026672,
          "generalization error": 3.453254649410696
         },
         {
          "estimated generalization error": 3.773906963104055,
          "generalization error": 3.243517215668676
         },
         {
          "estimated generalization error": 2.9511476724404946,
          "generalization error": 3.2270564965535926
         },
         {
          "estimated generalization error": 3.6718009527635225,
          "generalization error": 3.4314455000072015
         },
         {
          "estimated generalization error": 3.2565650235790042,
          "generalization error": 3.3075169467077843
         },
         {
          "estimated generalization error": 3.544773325003825,
          "generalization error": 3.368530620837821
         },
         {
          "estimated generalization error": 3.2335526190393926,
          "generalization error": 3.325352741019518
         },
         {
          "estimated generalization error": 3.172725333396528,
          "generalization error": 3.2367950178024154
         },
         {
          "estimated generalization error": 3.312238286100012,
          "generalization error": 3.5589813119087137
         },
         {
          "estimated generalization error": 3.4337854903843676,
          "generalization error": 3.277900308644012
         },
         {
          "estimated generalization error": 3.031228731330051,
          "generalization error": 3.2617731969948096
         },
         {
          "estimated generalization error": 2.9472620563464953,
          "generalization error": 3.2298012708447086
         },
         {
          "estimated generalization error": 2.646395768577725,
          "generalization error": 3.229345368555071
         },
         {
          "estimated generalization error": 3.364333227402439,
          "generalization error": 3.2455507648745523
         },
         {
          "estimated generalization error": 2.8125389863742045,
          "generalization error": 3.213769802859729
         },
         {
          "estimated generalization error": 2.7444069450188526,
          "generalization error": 3.24200275419363
         },
         {
          "estimated generalization error": 2.6175913230662395,
          "generalization error": 3.218964991225679
         },
         {
          "estimated generalization error": 2.93129979261935,
          "generalization error": 3.240062773995959
         },
         {
          "estimated generalization error": 3.1305274566161163,
          "generalization error": 3.280776618295379
         },
         {
          "estimated generalization error": 2.830420152119426,
          "generalization error": 3.3876787780018915
         },
         {
          "estimated generalization error": 2.4682059879175506,
          "generalization error": 3.3213927009303075
         },
         {
          "estimated generalization error": 3.729539316520598,
          "generalization error": 3.4853273677152865
         },
         {
          "estimated generalization error": 3.2627896192804626,
          "generalization error": 3.3333352370536686
         },
         {
          "estimated generalization error": 3.4100881259273974,
          "generalization error": 3.258536971240188
         },
         {
          "estimated generalization error": 3.0871226685298696,
          "generalization error": 3.3034641658779313
         },
         {
          "estimated generalization error": 2.93182591190665,
          "generalization error": 3.2269855406648307
         },
         {
          "estimated generalization error": 3.3607295062596205,
          "generalization error": 3.275317399678838
         },
         {
          "estimated generalization error": 3.1542874847503493,
          "generalization error": 3.2319404999629593
         },
         {
          "estimated generalization error": 3.360472208645565,
          "generalization error": 3.429825161106626
         },
         {
          "estimated generalization error": 3.6038277337681603,
          "generalization error": 3.2353198706178623
         },
         {
          "estimated generalization error": 3.0326745763120897,
          "generalization error": 3.222375733568176
         },
         {
          "estimated generalization error": 3.2681165003537584,
          "generalization error": 3.2678910997495505
         },
         {
          "estimated generalization error": 3.1267316503192433,
          "generalization error": 3.2207781555970025
         },
         {
          "estimated generalization error": 3.076320272543577,
          "generalization error": 3.2491332753808377
         },
         {
          "estimated generalization error": 3.223584518981702,
          "generalization error": 3.229110697124702
         },
         {
          "estimated generalization error": 3.34038496889832,
          "generalization error": 3.2200618743820026
         },
         {
          "estimated generalization error": 3.401843130050392,
          "generalization error": 3.372750740258916
         },
         {
          "estimated generalization error": 3.0016501910489946,
          "generalization error": 3.2527184980802506
         },
         {
          "estimated generalization error": 2.639549245984956,
          "generalization error": 3.2502138447630626
         },
         {
          "estimated generalization error": 3.326680435984715,
          "generalization error": 3.3248548939171307
         },
         {
          "estimated generalization error": 3.102884688571192,
          "generalization error": 3.3911049774278372
         },
         {
          "estimated generalization error": 3.560924082225715,
          "generalization error": 3.387105833453937
         },
         {
          "estimated generalization error": 2.682348670700896,
          "generalization error": 3.3816381140572007
         },
         {
          "estimated generalization error": 2.8323824521688032,
          "generalization error": 3.3739903025920595
         },
         {
          "estimated generalization error": 3.391264474485416,
          "generalization error": 3.2729468507650283
         },
         {
          "estimated generalization error": 3.288613044596484,
          "generalization error": 3.3710250201492977
         },
         {
          "estimated generalization error": 2.925523949024649,
          "generalization error": 3.2645674189419527
         },
         {
          "estimated generalization error": 3.3875635135449755,
          "generalization error": 3.301822733839518
         },
         {
          "estimated generalization error": 2.8608359387571785,
          "generalization error": 3.3298949531993665
         },
         {
          "estimated generalization error": 3.419321422476433,
          "generalization error": 3.4469582903816884
         },
         {
          "estimated generalization error": 2.5191634660761513,
          "generalization error": 3.2539821276271996
         },
         {
          "estimated generalization error": 2.6550859916451905,
          "generalization error": 3.22105767939683
         },
         {
          "estimated generalization error": 3.2544028267336453,
          "generalization error": 3.375216576016164
         },
         {
          "estimated generalization error": 3.109895707561575,
          "generalization error": 3.265525471742174
         },
         {
          "estimated generalization error": 2.327589314382126,
          "generalization error": 3.2223306447990088
         },
         {
          "estimated generalization error": 3.181409849714307,
          "generalization error": 3.372639039968307
         },
         {
          "estimated generalization error": 3.0881266761812833,
          "generalization error": 3.213722717334974
         },
         {
          "estimated generalization error": 2.821635893257959,
          "generalization error": 3.2604593100563255
         },
         {
          "estimated generalization error": 3.1495658938454283,
          "generalization error": 3.2310364753455674
         },
         {
          "estimated generalization error": 3.4936064853065414,
          "generalization error": 3.3824435042465186
         },
         {
          "estimated generalization error": 3.2646654411660037,
          "generalization error": 3.2807266965357873
         },
         {
          "estimated generalization error": 3.059600969365899,
          "generalization error": 3.268625617527611
         },
         {
          "estimated generalization error": 3.09497365785677,
          "generalization error": 3.2700409874246117
         },
         {
          "estimated generalization error": 2.86174107137254,
          "generalization error": 3.2553864475360705
         },
         {
          "estimated generalization error": 2.835941001937982,
          "generalization error": 3.229450003313942
         },
         {
          "estimated generalization error": 2.682654719785298,
          "generalization error": 3.4152647243858305
         },
         {
          "estimated generalization error": 3.047139732022116,
          "generalization error": 3.232096821914778
         },
         {
          "estimated generalization error": 3.0555069699181288,
          "generalization error": 3.264250945484213
         },
         {
          "estimated generalization error": 3.2959456808195977,
          "generalization error": 3.293785126494051
         },
         {
          "estimated generalization error": 2.987712659258994,
          "generalization error": 3.2206163732744684
         },
         {
          "estimated generalization error": 3.236314400400222,
          "generalization error": 3.3056974822884144
         },
         {
          "estimated generalization error": 3.7284513542991196,
          "generalization error": 3.2197786622928812
         },
         {
          "estimated generalization error": 3.4399236900238837,
          "generalization error": 3.377961749271338
         },
         {
          "estimated generalization error": 2.9432917811833765,
          "generalization error": 3.2303394037181015
         },
         {
          "estimated generalization error": 2.8791044954318825,
          "generalization error": 3.2856836611785076
         },
         {
          "estimated generalization error": 2.8585149993972077,
          "generalization error": 3.218720788146931
         },
         {
          "estimated generalization error": 3.2678987363570386,
          "generalization error": 3.224193312629516
         },
         {
          "estimated generalization error": 2.676555456042917,
          "generalization error": 3.267769478504421
         },
         {
          "estimated generalization error": 3.163263885539063,
          "generalization error": 3.4535972727653372
         },
         {
          "estimated generalization error": 2.9250897326611107,
          "generalization error": 3.271574141818502
         },
         {
          "estimated generalization error": 2.993137021895281,
          "generalization error": 3.2171557446886285
         },
         {
          "estimated generalization error": 3.619310965429148,
          "generalization error": 3.216863653484304
         },
         {
          "estimated generalization error": 3.5135656835922875,
          "generalization error": 3.3269808033042483
         },
         {
          "estimated generalization error": 3.572686594891607,
          "generalization error": 3.2832909191750956
         },
         {
          "estimated generalization error": 3.042630368921069,
          "generalization error": 3.2393017111354885
         },
         {
          "estimated generalization error": 3.6231733569018987,
          "generalization error": 3.43385098953565
         },
         {
          "estimated generalization error": 3.0182091063926246,
          "generalization error": 3.43938347801763
         },
         {
          "estimated generalization error": 2.694659996639996,
          "generalization error": 3.2175999717453525
         },
         {
          "estimated generalization error": 2.9565915736537547,
          "generalization error": 3.3126721528314365
         },
         {
          "estimated generalization error": 3.3376767120403956,
          "generalization error": 3.2288972386542296
         },
         {
          "estimated generalization error": 3.2945188586167786,
          "generalization error": 3.2713531294515974
         },
         {
          "estimated generalization error": 3.0028719951068554,
          "generalization error": 3.2374541462454545
         },
         {
          "estimated generalization error": 2.578053682128384,
          "generalization error": 3.247078855942115
         },
         {
          "estimated generalization error": 3.5122651992372678,
          "generalization error": 3.2500519211193355
         },
         {
          "estimated generalization error": 3.18628948799682,
          "generalization error": 3.3727551765652466
         },
         {
          "estimated generalization error": 3.0699929271011013,
          "generalization error": 3.278653046783161
         },
         {
          "estimated generalization error": 3.1528281270823544,
          "generalization error": 3.3083380749892113
         },
         {
          "estimated generalization error": 2.7282046908483197,
          "generalization error": 3.2414416141099798
         },
         {
          "estimated generalization error": 3.232025109551046,
          "generalization error": 3.264045067381808
         },
         {
          "estimated generalization error": 2.7273647347101324,
          "generalization error": 3.3024666143703723
         },
         {
          "estimated generalization error": 3.439714110722167,
          "generalization error": 3.2341917081263447
         },
         {
          "estimated generalization error": 2.886662382154932,
          "generalization error": 3.3827633219310873
         },
         {
          "estimated generalization error": 3.5051858343728566,
          "generalization error": 3.4743309032595846
         },
         {
          "estimated generalization error": 3.159095114699573,
          "generalization error": 3.229664802776404
         },
         {
          "estimated generalization error": 3.1259227606933377,
          "generalization error": 3.2445325024306517
         },
         {
          "estimated generalization error": 3.5424168633234165,
          "generalization error": 3.3707856442303163
         },
         {
          "estimated generalization error": 3.8426168715986995,
          "generalization error": 3.385787808035955
         },
         {
          "estimated generalization error": 3.0322103261796207,
          "generalization error": 3.2280941370563294
         },
         {
          "estimated generalization error": 3.0503771993066464,
          "generalization error": 3.3132600236803085
         },
         {
          "estimated generalization error": 3.0319283599842084,
          "generalization error": 3.2698791387371307
         },
         {
          "estimated generalization error": 2.8466427873184936,
          "generalization error": 3.272385531203001
         },
         {
          "estimated generalization error": 2.7745729805170805,
          "generalization error": 3.2333064491461525
         },
         {
          "estimated generalization error": 2.6367484145007842,
          "generalization error": 3.328410902749334
         },
         {
          "estimated generalization error": 2.954558139724923,
          "generalization error": 3.3043404557118867
         },
         {
          "estimated generalization error": 3.279608208477317,
          "generalization error": 3.2238252491054933
         },
         {
          "estimated generalization error": 2.8242929432737673,
          "generalization error": 3.2838366795994363
         },
         {
          "estimated generalization error": 3.004949932962869,
          "generalization error": 3.351545359990932
         },
         {
          "estimated generalization error": 3.3709930792854634,
          "generalization error": 3.3313445632407976
         },
         {
          "estimated generalization error": 3.6896961775627606,
          "generalization error": 3.3083934819855205
         },
         {
          "estimated generalization error": 2.9574366642470125,
          "generalization error": 3.2726772276603175
         },
         {
          "estimated generalization error": 3.2507524553389144,
          "generalization error": 3.2310110247540673
         },
         {
          "estimated generalization error": 3.028282575938705,
          "generalization error": 3.243379587411299
         },
         {
          "estimated generalization error": 3.151964255139846,
          "generalization error": 3.4039301973581595
         },
         {
          "estimated generalization error": 3.015894279370245,
          "generalization error": 3.238466345076348
         },
         {
          "estimated generalization error": 3.2072198875871085,
          "generalization error": 3.270881324135181
         },
         {
          "estimated generalization error": 2.753630078658858,
          "generalization error": 3.3111129243369084
         },
         {
          "estimated generalization error": 3.3304100328448873,
          "generalization error": 3.2412997510304855
         },
         {
          "estimated generalization error": 2.668109546098109,
          "generalization error": 3.2685015775187156
         },
         {
          "estimated generalization error": 2.514278721165936,
          "generalization error": 3.3046119374332306
         },
         {
          "estimated generalization error": 3.6106559363192408,
          "generalization error": 3.24777500881769
         },
         {
          "estimated generalization error": 3.004216419006127,
          "generalization error": 3.2284105996483725
         },
         {
          "estimated generalization error": 3.17819283283357,
          "generalization error": 3.2569663179818087
         },
         {
          "estimated generalization error": 3.014785306192049,
          "generalization error": 3.265624361196236
         },
         {
          "estimated generalization error": 3.4453381037295774,
          "generalization error": 3.3842923377659737
         },
         {
          "estimated generalization error": 2.81868654232192,
          "generalization error": 3.262550746324307
         },
         {
          "estimated generalization error": 2.901329981555207,
          "generalization error": 3.249174774693913
         },
         {
          "estimated generalization error": 2.584025121566883,
          "generalization error": 3.218939596322352
         },
         {
          "estimated generalization error": 3.0163428485143515,
          "generalization error": 3.2848358544598146
         },
         {
          "estimated generalization error": 3.1008576367718446,
          "generalization error": 3.2869675483244616
         },
         {
          "estimated generalization error": 3.0781487690009146,
          "generalization error": 3.2384327294158486
         },
         {
          "estimated generalization error": 3.6324313718970176,
          "generalization error": 3.3771199637469933
         },
         {
          "estimated generalization error": 2.92439869182541,
          "generalization error": 3.220529733250168
         },
         {
          "estimated generalization error": 2.6334552781925487,
          "generalization error": 3.2616279382463476
         },
         {
          "estimated generalization error": 3.1509635635484328,
          "generalization error": 3.273822193636898
         },
         {
          "estimated generalization error": 3.341230268251582,
          "generalization error": 3.241027123818641
         },
         {
          "estimated generalization error": 3.281373901973122,
          "generalization error": 3.2222188865967287
         },
         {
          "estimated generalization error": 2.8306392713609796,
          "generalization error": 3.220947750126163
         },
         {
          "estimated generalization error": 3.263563904943338,
          "generalization error": 3.2585149214392732
         },
         {
          "estimated generalization error": 3.18765340095323,
          "generalization error": 3.270258517099126
         },
         {
          "estimated generalization error": 3.2588545394228317,
          "generalization error": 3.2240091011609673
         },
         {
          "estimated generalization error": 2.875799418693824,
          "generalization error": 3.2417299712254595
         },
         {
          "estimated generalization error": 3.2605599882289713,
          "generalization error": 3.2325535963918317
         },
         {
          "estimated generalization error": 2.904189387847168,
          "generalization error": 3.270618593470296
         },
         {
          "estimated generalization error": 3.1244206365537757,
          "generalization error": 3.220059800415801
         },
         {
          "estimated generalization error": 2.88206741631849,
          "generalization error": 3.2582964824360383
         },
         {
          "estimated generalization error": 3.129694284931074,
          "generalization error": 3.4138674034182546
         },
         {
          "estimated generalization error": 2.6906408873537013,
          "generalization error": 3.2348980683235427
         },
         {
          "estimated generalization error": 3.1583800056604923,
          "generalization error": 3.2533506917647155
         },
         {
          "estimated generalization error": 3.3920117319682204,
          "generalization error": 3.283572280391219
         },
         {
          "estimated generalization error": 3.4777445782283434,
          "generalization error": 3.3218083671763665
         },
         {
          "estimated generalization error": 2.885964089912922,
          "generalization error": 3.228777150735557
         },
         {
          "estimated generalization error": 3.14906705535914,
          "generalization error": 3.2355699409476064
         },
         {
          "estimated generalization error": 3.087623992748896,
          "generalization error": 3.2722844652270537
         },
         {
          "estimated generalization error": 3.5074642333968415,
          "generalization error": 3.51494183195644
         },
         {
          "estimated generalization error": 3.646400858003003,
          "generalization error": 3.3581089387779874
         },
         {
          "estimated generalization error": 3.1943491245795697,
          "generalization error": 3.266581067367701
         },
         {
          "estimated generalization error": 2.7412834456974737,
          "generalization error": 3.2324344919727417
         }
        ]
       },
       "encoding": {
        "color": {
         "field": "Quantity",
         "type": "nominal"
        },
        "x": {
         "bin": {
          "maxbins": 100
         },
         "field": "error",
         "type": "quantitative"
        },
        "y": {
         "aggregate": "count",
         "stack": null,
         "type": "quantitative"
        }
       },
       "height": 100,
       "mark": {
        "interpolate": "step",
        "opacity": 0.3,
        "type": "area"
       },
       "transform": [
        {
         "as": [
          "Quantity",
          "error"
         ],
         "fold": [
          "estimated generalization error",
          "generalization error"
         ]
        }
       ]
      },
      "image/png": "[encoded data removed]",
      "text/plain": [
       "<VegaLite 3 object>\n",
       "\n",
       "If you see this message, it means the renderer has not been properly enabled\n",
       "for the frontend that you are using. For more information, see\n",
       "https://altair-viz.github.io/user_guide/troubleshooting.html\n"
      ]
     },
     "execution_count": 17,
     "metadata": {},
     "output_type": "execute_result"
    }
   ],
   "source": [
    "source = pd.DataFrame({\n",
    "    'estimated generalization error':ês,\n",
    "    'generalization error':es\n",
    "})\n",
    "\n",
    "alt.Chart(source, height=100).transform_fold(\n",
    "    ['estimated generalization error', 'generalization error'],\n",
    "    as_=['Quantity', 'error']\n",
    ").mark_area(\n",
    "    opacity=0.3,\n",
    "    interpolate='step'\n",
    ").encode(\n",
    "    alt.X('error:Q', bin=alt.Bin(maxbins=100)),\n",
    "    alt.Y('count()', stack=None),\n",
    "    alt.Color('Quantity:N')\n",
    ")"
   ]
  },
  {
   "cell_type": "markdown",
   "metadata": {},
   "source": [
    "It looks like we still have the same problem, but perhaps to a lesser extent."
   ]
  },
  {
   "cell_type": "markdown",
   "metadata": {},
   "source": [
    "Putting all of this together, we have to conclude that we cannot use the estimator defined in \\ref{empirical-err}: as far as we can tell based on these experiments, we would always be underestimating the generalization error. Moreover, the reason this happens is *not* that the past data is not representative of the future data because we are using the exact same `data_factory` function to generate both datasets. Furthermore, the amount we're off by depends on what kind of model we use (and perhaps other factors we didn't investigate), so we can't even know ahead of time how much correction might be necessary. \n",
    "\n",
    "This is really bad news for us. If we can't estimate ahead of time how our model will perform, how can we tell which model will be better than another? How can we tell if our model is better than random guessing?"
   ]
  },
  {
   "cell_type": "markdown",
   "metadata": {
    "tags": [
     "popout"
    ]
   },
   "source": [
    "##### EXERCISE\n",
    "\n",
    "Repeat these experiments with a *classifier* of your choosing (e.g. `sklearn.ensemble.RandomForestClassifier`). You can use this code to generate data with binary outcomes:\n",
    "\n",
    "```\n",
    "def class_data_factory(n):\n",
    "    X = np.random.random((n,5)) # 5 predictors\n",
    "    y = np.random.randint(2, size=n)\n",
    "    return X,y\n",
    "```\n",
    "\n",
    "Use classification accuracy as your evaluation metric. Are your estimates of generalization error still biased downward?"
   ]
  },
  {
   "cell_type": "markdown",
   "metadata": {},
   "source": [
    "### Training and Test Sets"
   ]
  },
  {
   "cell_type": "markdown",
   "metadata": {},
   "source": [
    "Although things look bleak at the moment, there is actually a simple solution to our problem. All we have to do is split our data up into two subsamples: one that will be used to fit the model, and one that will be used to evaluate it. The data we use to fit the model is called a *training set* and the data we use to evaluate the model is called a *test set*. \n",
    "\n",
    "![](https://www.dataquest.io/wp-content/uploads/kaggle_train_test_split.svg)\n",
    "\n",
    "In other words, our new estimate of generalization error will be the *test error*:\n",
    "\n",
    "$$\n",
    "\\mathcal {\\hat E}_{\\mathcal T}(f) \n",
    "=\n",
    "\\frac{1}{n^{\\mathcal T}} \\sum_{i \\in \\mathcal{T}}  M(y_i, f_{\\mathcal S}(x_i))\n",
    "\\label{test-error}\n",
    "$$\n",
    "\n",
    "Where $\\mathcal T$ (for \"test\") and $\\mathcal S$ (for \"study\", since \"training\" also starts with a T) are a sets of indices indicating which observations are in the test and training sets, respectively. $n^{\\mathcal T}$ is the number of observations in the test set. The notation $f_{\\mathcal S}$ indicates that the model $f$ was fit using the training data $\\mathcal S$ and not the test data. \n",
    "\n",
    "Compare this to the *training error*, which is basically what we were using before:\n",
    "\n",
    "$$\n",
    "\\mathcal {\\hat E}_{\\mathcal S}(f) \n",
    "=\n",
    "\\frac{1}{n^{\\mathcal S}} \\sum_{i \\in \\mathcal{S}}  M(y_i, f_{\\mathcal S}(x_i))\n",
    "\\label{training-error}\n",
    "$$\n",
    "\n",
    "We'll demonstrate the use of the test set in code first and then explain why it works."
   ]
  },
  {
   "cell_type": "code",
   "execution_count": 18,
   "metadata": {
    "tags": [
     "hide_output"
    ]
   },
   "outputs": [],
   "source": [
    "def simulate_model_eval():\n",
    "    X,y = data_factory(50)\n",
    "    \n",
    "    S = range(25) # training set\n",
    "    T = range(25,50) # test set index\n",
    "    \n",
    "    X_train, y_train = X[S,:], y[S] # take the first 25 rows as training data\n",
    "    model = DecisionTreeRegressor(max_depth=3)\n",
    "    model.fit(X_train, y_train)\n",
    "    \n",
    "    X_test, y_test = X[T,:], y[T] # take the last 25 rows as test data\n",
    "    ŷ_test = model.predict(X_test)\n",
    "    ê = metric(y_test, ŷ_test)\n",
    "    \n",
    "    ŷ_future = model.predict(X_future)\n",
    "    e = metric(y_future, ŷ_future)\n",
    "    \n",
    "    return ê, e\n",
    "\n",
    "ês, es = zip(*[simulate_model_eval() for i in range(500)])"
   ]
  },
  {
   "cell_type": "code",
   "execution_count": 19,
   "metadata": {
    "tags": [
     "hide_input"
    ]
   },
   "outputs": [
    {
     "data": {
      "application/vnd.vegalite.v3+json": {
       "$schema": "https://vega.github.io/schema/vega-lite/v3.4.0.json",
       "config": {
        "mark": {
         "tooltip": null
        },
        "view": {
         "height": 300,
         "width": 400
        }
       },
       "data": {
        "name": "data-1d9d24b0ee632086cf0558b37a9c8f0e"
       },
       "datasets": {
        "data-1d9d24b0ee632086cf0558b37a9c8f0e": [
         {
          "estimated generalization error": 2.4740480506952944,
          "generalization error": 2.189249057033708
         },
         {
          "estimated generalization error": 2.4935648623426645,
          "generalization error": 2.739063682278709
         },
         {
          "estimated generalization error": 2.216765383879382,
          "generalization error": 2.2345070667059166
         },
         {
          "estimated generalization error": 1.9313842514717945,
          "generalization error": 2.1845638910110954
         },
         {
          "estimated generalization error": 1.8757992636532108,
          "generalization error": 2.2221752871028597
         },
         {
          "estimated generalization error": 2.6245806202585324,
          "generalization error": 2.2957744138351437
         },
         {
          "estimated generalization error": 2.4006920169935553,
          "generalization error": 2.2169127804024833
         },
         {
          "estimated generalization error": 1.4686274767703034,
          "generalization error": 2.4143984895784225
         },
         {
          "estimated generalization error": 2.257164075975402,
          "generalization error": 2.3497109902026754
         },
         {
          "estimated generalization error": 2.3913644974366113,
          "generalization error": 2.3527695551787624
         },
         {
          "estimated generalization error": 2.9647311649889208,
          "generalization error": 2.8909149561269993
         },
         {
          "estimated generalization error": 2.605110497846393,
          "generalization error": 2.810906429833302
         },
         {
          "estimated generalization error": 3.2699408861450348,
          "generalization error": 3.1387648755556565
         },
         {
          "estimated generalization error": 2.991825742770495,
          "generalization error": 2.14762023559694
         },
         {
          "estimated generalization error": 1.8937248276349679,
          "generalization error": 2.2066117331578217
         },
         {
          "estimated generalization error": 1.6509318895978722,
          "generalization error": 2.3197006920106533
         },
         {
          "estimated generalization error": 1.6460589421916598,
          "generalization error": 2.132934488432806
         },
         {
          "estimated generalization error": 1.8398445405057897,
          "generalization error": 2.1930903042078684
         },
         {
          "estimated generalization error": 2.1182616850555944,
          "generalization error": 2.2762185547720613
         },
         {
          "estimated generalization error": 2.2929127797498694,
          "generalization error": 2.175405494360025
         },
         {
          "estimated generalization error": 2.4861207258120346,
          "generalization error": 2.541378331107177
         },
         {
          "estimated generalization error": 1.994646351235855,
          "generalization error": 2.31114740715701
         },
         {
          "estimated generalization error": 2.7743981972584457,
          "generalization error": 2.3326269414943566
         },
         {
          "estimated generalization error": 1.639934543733293,
          "generalization error": 2.293864905360394
         },
         {
          "estimated generalization error": 2.7728008569219695,
          "generalization error": 2.4666526017825077
         },
         {
          "estimated generalization error": 2.666690163065431,
          "generalization error": 2.074306559859782
         },
         {
          "estimated generalization error": 1.9493276846842116,
          "generalization error": 2.1622823220182585
         },
         {
          "estimated generalization error": 3.1652980223959486,
          "generalization error": 2.690133498062089
         },
         {
          "estimated generalization error": 2.141796709615832,
          "generalization error": 2.1404977487860846
         },
         {
          "estimated generalization error": 2.4106875982520957,
          "generalization error": 2.6227518125429867
         },
         {
          "estimated generalization error": 2.862848111098357,
          "generalization error": 2.402515678694551
         },
         {
          "estimated generalization error": 2.375979796404983,
          "generalization error": 2.283918328645876
         },
         {
          "estimated generalization error": 1.8244743741129252,
          "generalization error": 2.328525793155398
         },
         {
          "estimated generalization error": 2.8713361563384456,
          "generalization error": 2.3537477447785187
         },
         {
          "estimated generalization error": 3.580155936800411,
          "generalization error": 2.582017050530835
         },
         {
          "estimated generalization error": 1.6814497490956117,
          "generalization error": 2.0925338896738683
         },
         {
          "estimated generalization error": 1.6624725667172973,
          "generalization error": 1.9147719709832247
         },
         {
          "estimated generalization error": 1.8325374956538534,
          "generalization error": 2.755610427300357
         },
         {
          "estimated generalization error": 1.6109919598039264,
          "generalization error": 2.1797069033063585
         },
         {
          "estimated generalization error": 1.9601224230382852,
          "generalization error": 2.1735907877476786
         },
         {
          "estimated generalization error": 2.4201920076560417,
          "generalization error": 2.3124941764301354
         },
         {
          "estimated generalization error": 1.2606179693842368,
          "generalization error": 2.0943850870169523
         },
         {
          "estimated generalization error": 1.8613416505291165,
          "generalization error": 2.257825629081447
         },
         {
          "estimated generalization error": 2.1398547576138878,
          "generalization error": 2.3756367318108436
         },
         {
          "estimated generalization error": 2.903692996812767,
          "generalization error": 2.4409874373667355
         },
         {
          "estimated generalization error": 2.598904107272901,
          "generalization error": 2.5673202862984845
         },
         {
          "estimated generalization error": 2.1853763574089777,
          "generalization error": 2.1601022093433646
         },
         {
          "estimated generalization error": 2.9743378758503294,
          "generalization error": 2.605275152588953
         },
         {
          "estimated generalization error": 2.0271388002888098,
          "generalization error": 2.2797508703855445
         },
         {
          "estimated generalization error": 2.3893297484050815,
          "generalization error": 2.064594624362348
         },
         {
          "estimated generalization error": 2.716908313047014,
          "generalization error": 2.8524815332560816
         },
         {
          "estimated generalization error": 1.8359606589935984,
          "generalization error": 2.067343607653119
         },
         {
          "estimated generalization error": 4.035966522473699,
          "generalization error": 2.6382359300064175
         },
         {
          "estimated generalization error": 2.3949477068297376,
          "generalization error": 2.3389621641963765
         },
         {
          "estimated generalization error": 1.7888278533084476,
          "generalization error": 2.1531754818857136
         },
         {
          "estimated generalization error": 2.0083647718389477,
          "generalization error": 2.298820910966245
         },
         {
          "estimated generalization error": 2.0749272587467242,
          "generalization error": 2.20297189177563
         },
         {
          "estimated generalization error": 2.527780616350858,
          "generalization error": 2.4197279144166663
         },
         {
          "estimated generalization error": 1.891680926913167,
          "generalization error": 2.271747938290633
         },
         {
          "estimated generalization error": 1.8493852695794135,
          "generalization error": 2.316333974970594
         },
         {
          "estimated generalization error": 2.773312389718305,
          "generalization error": 2.205719289574984
         },
         {
          "estimated generalization error": 2.7600629267722847,
          "generalization error": 2.2195954009952947
         },
         {
          "estimated generalization error": 1.8803596707049306,
          "generalization error": 2.3221314534758775
         },
         {
          "estimated generalization error": 2.311060966079959,
          "generalization error": 2.462988326589009
         },
         {
          "estimated generalization error": 2.7000062257244064,
          "generalization error": 2.3631963329755403
         },
         {
          "estimated generalization error": 2.4571486179360256,
          "generalization error": 2.075534929343699
         },
         {
          "estimated generalization error": 2.6751679478618184,
          "generalization error": 2.0199825492651198
         },
         {
          "estimated generalization error": 2.6410736967989963,
          "generalization error": 2.3308392099168795
         },
         {
          "estimated generalization error": 2.6710467821360866,
          "generalization error": 2.207301684431956
         },
         {
          "estimated generalization error": 2.3242180272581496,
          "generalization error": 2.4505528269238392
         },
         {
          "estimated generalization error": 2.0064440373747443,
          "generalization error": 2.0767246428296864
         },
         {
          "estimated generalization error": 2.024554798596565,
          "generalization error": 2.338518760019015
         },
         {
          "estimated generalization error": 2.6479753928889433,
          "generalization error": 2.139992189005472
         },
         {
          "estimated generalization error": 2.4437215277723636,
          "generalization error": 2.3431740526259563
         },
         {
          "estimated generalization error": 2.262972624562886,
          "generalization error": 2.187655496617224
         },
         {
          "estimated generalization error": 1.6534076414912988,
          "generalization error": 2.150143772685557
         },
         {
          "estimated generalization error": 2.949360715574559,
          "generalization error": 2.6973052160926105
         },
         {
          "estimated generalization error": 2.2332718063907184,
          "generalization error": 2.1952800815713833
         },
         {
          "estimated generalization error": 2.01664888432219,
          "generalization error": 2.1585445061761477
         },
         {
          "estimated generalization error": 2.337573646706602,
          "generalization error": 2.246987695162855
         },
         {
          "estimated generalization error": 1.9521413759641377,
          "generalization error": 2.125919443663712
         },
         {
          "estimated generalization error": 1.9343110547409308,
          "generalization error": 2.0560954719135704
         },
         {
          "estimated generalization error": 2.3978965098850527,
          "generalization error": 2.2588550383456902
         },
         {
          "estimated generalization error": 2.2933687527781093,
          "generalization error": 2.0055842509767206
         },
         {
          "estimated generalization error": 2.3157104360877145,
          "generalization error": 2.2024372435607975
         },
         {
          "estimated generalization error": 2.4284070902763366,
          "generalization error": 2.302266842927276
         },
         {
          "estimated generalization error": 2.275836726603588,
          "generalization error": 2.1988283942781917
         },
         {
          "estimated generalization error": 2.052470276698457,
          "generalization error": 2.1156725801943232
         },
         {
          "estimated generalization error": 1.9023494022393044,
          "generalization error": 2.2720222497843903
         },
         {
          "estimated generalization error": 1.4515022026573277,
          "generalization error": 1.9115350665662372
         },
         {
          "estimated generalization error": 2.330935516079048,
          "generalization error": 2.3668134310428806
         },
         {
          "estimated generalization error": 2.067711279938736,
          "generalization error": 2.2313457392134657
         },
         {
          "estimated generalization error": 2.271036306783536,
          "generalization error": 2.3290079929774685
         },
         {
          "estimated generalization error": 2.4341626443000677,
          "generalization error": 2.5030969839801687
         },
         {
          "estimated generalization error": 2.827824933509612,
          "generalization error": 2.14061222951906
         },
         {
          "estimated generalization error": 2.027037597578033,
          "generalization error": 2.036452421982559
         },
         {
          "estimated generalization error": 1.801497729585474,
          "generalization error": 2.132533042166469
         },
         {
          "estimated generalization error": 2.5849049652001397,
          "generalization error": 2.7841604763861483
         },
         {
          "estimated generalization error": 1.4575178642355113,
          "generalization error": 2.2034429659766412
         },
         {
          "estimated generalization error": 2.1401979758210934,
          "generalization error": 2.3315727482719364
         },
         {
          "estimated generalization error": 2.803863427100649,
          "generalization error": 2.6642406995232797
         },
         {
          "estimated generalization error": 1.734408393949808,
          "generalization error": 2.191491834069596
         },
         {
          "estimated generalization error": 2.350853797050559,
          "generalization error": 2.1284298323616087
         },
         {
          "estimated generalization error": 2.2933556595853384,
          "generalization error": 2.227996325483666
         },
         {
          "estimated generalization error": 1.9129353955594193,
          "generalization error": 2.115190904096252
         },
         {
          "estimated generalization error": 2.5318498914277363,
          "generalization error": 2.38411438847714
         },
         {
          "estimated generalization error": 1.9843100848079123,
          "generalization error": 2.36322986581395
         },
         {
          "estimated generalization error": 2.2238335919937247,
          "generalization error": 2.162732978006739
         },
         {
          "estimated generalization error": 1.7383139912322565,
          "generalization error": 2.119087056393689
         },
         {
          "estimated generalization error": 3.2112835430583515,
          "generalization error": 2.4487153452481287
         },
         {
          "estimated generalization error": 2.9691950892873904,
          "generalization error": 2.340936206019858
         },
         {
          "estimated generalization error": 1.6879255224918897,
          "generalization error": 1.9944093074280496
         },
         {
          "estimated generalization error": 2.6324119577062923,
          "generalization error": 2.379650490687902
         },
         {
          "estimated generalization error": 2.0962395025770975,
          "generalization error": 2.21672769125341
         },
         {
          "estimated generalization error": 1.615898340241606,
          "generalization error": 2.226860106571456
         },
         {
          "estimated generalization error": 2.232751263458432,
          "generalization error": 2.01630851376647
         },
         {
          "estimated generalization error": 2.7216565927867915,
          "generalization error": 2.408503583353224
         },
         {
          "estimated generalization error": 2.4352517424692137,
          "generalization error": 2.1327112696728334
         },
         {
          "estimated generalization error": 1.6272286536792475,
          "generalization error": 1.9806780981939245
         },
         {
          "estimated generalization error": 1.7780664345691972,
          "generalization error": 2.0797962347764756
         },
         {
          "estimated generalization error": 2.7674243317395595,
          "generalization error": 2.2212404150554956
         },
         {
          "estimated generalization error": 2.0935684938756918,
          "generalization error": 2.354208204910782
         },
         {
          "estimated generalization error": 1.94727700860588,
          "generalization error": 2.3133363912833635
         },
         {
          "estimated generalization error": 2.2388983313331696,
          "generalization error": 2.5463766159519574
         },
         {
          "estimated generalization error": 2.2381635422859354,
          "generalization error": 2.2448322035045685
         },
         {
          "estimated generalization error": 1.8371900447158356,
          "generalization error": 2.241422932831522
         },
         {
          "estimated generalization error": 2.1756269179069134,
          "generalization error": 2.274049778980269
         },
         {
          "estimated generalization error": 2.465808253634097,
          "generalization error": 2.15942060286616
         },
         {
          "estimated generalization error": 2.3124535581469168,
          "generalization error": 2.55635956431379
         },
         {
          "estimated generalization error": 3.0698622330669405,
          "generalization error": 2.409852157786452
         },
         {
          "estimated generalization error": 2.1261880661426944,
          "generalization error": 2.055888002453354
         },
         {
          "estimated generalization error": 1.9605671626821706,
          "generalization error": 2.212500175759322
         },
         {
          "estimated generalization error": 2.331849666852499,
          "generalization error": 2.0926400249207004
         },
         {
          "estimated generalization error": 2.8197697279342453,
          "generalization error": 2.2136261900062433
         },
         {
          "estimated generalization error": 1.770615622268241,
          "generalization error": 2.2924966670612146
         },
         {
          "estimated generalization error": 2.03134783333969,
          "generalization error": 2.162637619159968
         },
         {
          "estimated generalization error": 2.6798951049994724,
          "generalization error": 2.365817694562696
         },
         {
          "estimated generalization error": 2.164520057610336,
          "generalization error": 2.7954970248197606
         },
         {
          "estimated generalization error": 1.8142712271536043,
          "generalization error": 2.1523450069590417
         },
         {
          "estimated generalization error": 2.2824373051295663,
          "generalization error": 2.3005900642305135
         },
         {
          "estimated generalization error": 3.0861669024595217,
          "generalization error": 2.808267193891417
         },
         {
          "estimated generalization error": 2.189642976988954,
          "generalization error": 2.1149861765666307
         },
         {
          "estimated generalization error": 2.6590960494199845,
          "generalization error": 2.292544764613093
         },
         {
          "estimated generalization error": 1.5430158757566559,
          "generalization error": 2.0462241117314295
         },
         {
          "estimated generalization error": 2.2890877943088657,
          "generalization error": 2.115503544691534
         },
         {
          "estimated generalization error": 2.428541457947696,
          "generalization error": 2.25088913154996
         },
         {
          "estimated generalization error": 1.8099638709614507,
          "generalization error": 2.1228048326318287
         },
         {
          "estimated generalization error": 1.9740755713208435,
          "generalization error": 2.176039421939012
         },
         {
          "estimated generalization error": 1.452911060079722,
          "generalization error": 1.995864758346589
         },
         {
          "estimated generalization error": 2.3191675058984007,
          "generalization error": 2.3232621548415127
         },
         {
          "estimated generalization error": 2.6033668246086,
          "generalization error": 2.32092274572899
         },
         {
          "estimated generalization error": 2.2076259996124246,
          "generalization error": 2.010135143783865
         },
         {
          "estimated generalization error": 2.5434579395051458,
          "generalization error": 2.0863781009168103
         },
         {
          "estimated generalization error": 2.0736120423656863,
          "generalization error": 2.1557831553481392
         },
         {
          "estimated generalization error": 2.220254464836659,
          "generalization error": 2.3836920137932496
         },
         {
          "estimated generalization error": 2.6402068950240842,
          "generalization error": 2.2364289716029546
         },
         {
          "estimated generalization error": 3.0323897617311015,
          "generalization error": 2.4438217212026645
         },
         {
          "estimated generalization error": 2.0871451568340054,
          "generalization error": 2.401065847906446
         },
         {
          "estimated generalization error": 1.7704523785942647,
          "generalization error": 2.1149485980896263
         },
         {
          "estimated generalization error": 2.1401354504186956,
          "generalization error": 2.39494602180522
         },
         {
          "estimated generalization error": 2.2421707023567734,
          "generalization error": 2.157809917335569
         },
         {
          "estimated generalization error": 2.0664901141184853,
          "generalization error": 2.407516973002249
         },
         {
          "estimated generalization error": 1.704055089568304,
          "generalization error": 2.142655782979928
         },
         {
          "estimated generalization error": 2.0793101225311066,
          "generalization error": 2.2090504571678258
         },
         {
          "estimated generalization error": 2.1682624747516956,
          "generalization error": 2.1485375376876252
         },
         {
          "estimated generalization error": 2.0529908544510254,
          "generalization error": 2.1813841079917906
         },
         {
          "estimated generalization error": 2.2015224274465246,
          "generalization error": 2.3159184013938803
         },
         {
          "estimated generalization error": 2.340698812722957,
          "generalization error": 2.22744022290914
         },
         {
          "estimated generalization error": 1.9234973201426713,
          "generalization error": 2.104164745051825
         },
         {
          "estimated generalization error": 1.8392315511713193,
          "generalization error": 2.269843708135592
         },
         {
          "estimated generalization error": 2.47354574619113,
          "generalization error": 2.2847949779124614
         },
         {
          "estimated generalization error": 2.199441759837126,
          "generalization error": 2.1225526978293807
         },
         {
          "estimated generalization error": 2.201071200825058,
          "generalization error": 2.2620577304867457
         },
         {
          "estimated generalization error": 3.2357177441860028,
          "generalization error": 2.236250815136458
         },
         {
          "estimated generalization error": 2.0827908280030467,
          "generalization error": 2.0763625561700088
         },
         {
          "estimated generalization error": 2.6227911961258497,
          "generalization error": 2.2092208564794706
         },
         {
          "estimated generalization error": 2.342592793106692,
          "generalization error": 2.5349933524884736
         },
         {
          "estimated generalization error": 2.550073639499858,
          "generalization error": 2.202251381881068
         },
         {
          "estimated generalization error": 1.767797867998141,
          "generalization error": 2.2357345532672075
         },
         {
          "estimated generalization error": 2.212852557829413,
          "generalization error": 2.2429846192559992
         },
         {
          "estimated generalization error": 2.5950159147079774,
          "generalization error": 2.2890647263147215
         },
         {
          "estimated generalization error": 2.7650704535792077,
          "generalization error": 2.5242292055040148
         },
         {
          "estimated generalization error": 2.9837387276002207,
          "generalization error": 2.6539633863663963
         },
         {
          "estimated generalization error": 2.21629468926986,
          "generalization error": 2.0897869435508896
         },
         {
          "estimated generalization error": 2.8734258693314967,
          "generalization error": 3.1723140049962955
         },
         {
          "estimated generalization error": 2.441547706394111,
          "generalization error": 2.2718777116350797
         },
         {
          "estimated generalization error": 2.702486866890086,
          "generalization error": 2.4081737064060538
         },
         {
          "estimated generalization error": 2.5077228139740306,
          "generalization error": 2.1507676054447065
         },
         {
          "estimated generalization error": 1.7706571087832073,
          "generalization error": 2.1646573737885895
         },
         {
          "estimated generalization error": 3.711559897779743,
          "generalization error": 3.1340111004994338
         },
         {
          "estimated generalization error": 2.197176418892159,
          "generalization error": 2.5282820341609695
         },
         {
          "estimated generalization error": 1.7355309649370418,
          "generalization error": 2.187516161896167
         },
         {
          "estimated generalization error": 2.5305962198960144,
          "generalization error": 2.2243410681384885
         },
         {
          "estimated generalization error": 2.9201460644713677,
          "generalization error": 2.757801884919554
         },
         {
          "estimated generalization error": 1.863023201205473,
          "generalization error": 2.0772296014645226
         },
         {
          "estimated generalization error": 1.7987058278717174,
          "generalization error": 2.278597864399518
         },
         {
          "estimated generalization error": 2.065949433931125,
          "generalization error": 2.132090717688433
         },
         {
          "estimated generalization error": 2.028600107587703,
          "generalization error": 2.5981547310782043
         },
         {
          "estimated generalization error": 2.8185510714568904,
          "generalization error": 2.2050498959457423
         },
         {
          "estimated generalization error": 2.2506295390540485,
          "generalization error": 2.0022950728518096
         },
         {
          "estimated generalization error": 2.819656741114333,
          "generalization error": 2.1928397152557286
         },
         {
          "estimated generalization error": 2.1063799514317534,
          "generalization error": 2.3261989703903874
         },
         {
          "estimated generalization error": 2.631156113566303,
          "generalization error": 2.4676711563067735
         },
         {
          "estimated generalization error": 2.8493113244459534,
          "generalization error": 2.3345297339220035
         },
         {
          "estimated generalization error": 2.4779768809746803,
          "generalization error": 2.194097457848711
         },
         {
          "estimated generalization error": 1.7714210433734179,
          "generalization error": 2.61527634306814
         },
         {
          "estimated generalization error": 2.105770267494442,
          "generalization error": 2.6571776284870965
         },
         {
          "estimated generalization error": 2.863637255923532,
          "generalization error": 2.535223474763835
         },
         {
          "estimated generalization error": 1.5587619892394757,
          "generalization error": 1.9786558591373533
         },
         {
          "estimated generalization error": 1.9315448263660948,
          "generalization error": 2.2213847830454223
         },
         {
          "estimated generalization error": 1.4311551204025654,
          "generalization error": 2.249960974343978
         },
         {
          "estimated generalization error": 2.7225435202179,
          "generalization error": 2.389880659862622
         },
         {
          "estimated generalization error": 2.7649698125073967,
          "generalization error": 2.2971837516991886
         },
         {
          "estimated generalization error": 2.313882748768585,
          "generalization error": 2.3015910881300563
         },
         {
          "estimated generalization error": 2.089594056546161,
          "generalization error": 2.2336996828974023
         },
         {
          "estimated generalization error": 2.91962470492676,
          "generalization error": 2.3362202393050433
         },
         {
          "estimated generalization error": 2.8134768155785035,
          "generalization error": 2.3590437544865988
         },
         {
          "estimated generalization error": 1.9211730313181858,
          "generalization error": 2.1376540621652174
         },
         {
          "estimated generalization error": 2.835659571635329,
          "generalization error": 2.6248768401218676
         },
         {
          "estimated generalization error": 2.2708836449642784,
          "generalization error": 2.1939271810146455
         },
         {
          "estimated generalization error": 2.6892323916196346,
          "generalization error": 2.555251628763762
         },
         {
          "estimated generalization error": 2.673325015185025,
          "generalization error": 2.1513449845460686
         },
         {
          "estimated generalization error": 2.6102749305630026,
          "generalization error": 2.206650683387064
         },
         {
          "estimated generalization error": 2.415843682055901,
          "generalization error": 2.6168908940580677
         },
         {
          "estimated generalization error": 1.8421687062355074,
          "generalization error": 2.230309679284962
         },
         {
          "estimated generalization error": 1.9241824653268917,
          "generalization error": 2.165029733450997
         },
         {
          "estimated generalization error": 2.769479880991146,
          "generalization error": 2.229093536996776
         },
         {
          "estimated generalization error": 2.111100791380914,
          "generalization error": 2.525222671035516
         },
         {
          "estimated generalization error": 1.983146162289511,
          "generalization error": 2.1830280917534024
         },
         {
          "estimated generalization error": 2.934870018565705,
          "generalization error": 2.2054332345975856
         },
         {
          "estimated generalization error": 2.204363546126588,
          "generalization error": 2.458119743136148
         },
         {
          "estimated generalization error": 2.5794481893356034,
          "generalization error": 2.4326966317864356
         },
         {
          "estimated generalization error": 2.5501282688203792,
          "generalization error": 2.2455688691644133
         },
         {
          "estimated generalization error": 2.1759003201062077,
          "generalization error": 2.373731196229455
         },
         {
          "estimated generalization error": 2.4442612582504175,
          "generalization error": 2.270463660479346
         },
         {
          "estimated generalization error": 2.3249619876168306,
          "generalization error": 2.179731121060056
         },
         {
          "estimated generalization error": 2.108030037952776,
          "generalization error": 2.405058030181397
         },
         {
          "estimated generalization error": 1.837703149705642,
          "generalization error": 2.289693906976445
         },
         {
          "estimated generalization error": 2.4508307809180114,
          "generalization error": 2.256392262877509
         },
         {
          "estimated generalization error": 2.20514010765726,
          "generalization error": 2.312457222540987
         },
         {
          "estimated generalization error": 1.435444675810228,
          "generalization error": 2.3712310690581826
         },
         {
          "estimated generalization error": 2.239909722227208,
          "generalization error": 2.184517376921692
         },
         {
          "estimated generalization error": 2.70141059125947,
          "generalization error": 2.14951313383702
         },
         {
          "estimated generalization error": 2.2652975003141096,
          "generalization error": 2.084812645918312
         },
         {
          "estimated generalization error": 1.9759873298721982,
          "generalization error": 2.3369660014277533
         },
         {
          "estimated generalization error": 3.291614053142798,
          "generalization error": 2.5006263740132035
         },
         {
          "estimated generalization error": 1.7996171470023083,
          "generalization error": 1.9494042643480103
         },
         {
          "estimated generalization error": 1.6785236852997116,
          "generalization error": 2.194640698982676
         },
         {
          "estimated generalization error": 3.196279172599511,
          "generalization error": 2.994094175386608
         },
         {
          "estimated generalization error": 2.344792346706891,
          "generalization error": 2.4755432385681173
         },
         {
          "estimated generalization error": 2.3226619059392313,
          "generalization error": 2.3440273538949636
         },
         {
          "estimated generalization error": 3.3992430914582186,
          "generalization error": 2.4835326402984133
         },
         {
          "estimated generalization error": 2.278651302760901,
          "generalization error": 2.1943634401200516
         },
         {
          "estimated generalization error": 2.271312211305938,
          "generalization error": 2.191864525020777
         },
         {
          "estimated generalization error": 2.3627371343162706,
          "generalization error": 2.257658877958337
         },
         {
          "estimated generalization error": 2.255320142206207,
          "generalization error": 2.351635976353311
         },
         {
          "estimated generalization error": 2.027013115779703,
          "generalization error": 2.2005112551270463
         },
         {
          "estimated generalization error": 2.201578497519623,
          "generalization error": 2.058392220821179
         },
         {
          "estimated generalization error": 2.4487811940169952,
          "generalization error": 2.3563796161834025
         },
         {
          "estimated generalization error": 3.02780077732285,
          "generalization error": 2.2415920942428373
         },
         {
          "estimated generalization error": 1.997205546786293,
          "generalization error": 2.3054497030566568
         },
         {
          "estimated generalization error": 2.24812371907977,
          "generalization error": 2.169984059617736
         },
         {
          "estimated generalization error": 2.5685247330748684,
          "generalization error": 2.752734662086328
         },
         {
          "estimated generalization error": 3.2970576392478557,
          "generalization error": 2.495931161684259
         },
         {
          "estimated generalization error": 2.5935364395840144,
          "generalization error": 2.3100576838793536
         },
         {
          "estimated generalization error": 1.608629304571565,
          "generalization error": 2.2384562786857005
         },
         {
          "estimated generalization error": 2.5009760786425574,
          "generalization error": 2.2805772369629813
         },
         {
          "estimated generalization error": 2.0522449923168624,
          "generalization error": 2.279269156839687
         },
         {
          "estimated generalization error": 1.8926706000519358,
          "generalization error": 2.4058252129068047
         },
         {
          "estimated generalization error": 2.4309467535972984,
          "generalization error": 2.3833746037863817
         },
         {
          "estimated generalization error": 1.9183653410396813,
          "generalization error": 2.2384894498090815
         },
         {
          "estimated generalization error": 3.201103663965637,
          "generalization error": 2.6508584224774148
         },
         {
          "estimated generalization error": 2.585699879900061,
          "generalization error": 2.618078523794682
         },
         {
          "estimated generalization error": 2.8477536831678383,
          "generalization error": 2.4968072774722283
         },
         {
          "estimated generalization error": 2.0550369253207172,
          "generalization error": 2.136401988314974
         },
         {
          "estimated generalization error": 1.4441075268176946,
          "generalization error": 2.0142246890344873
         },
         {
          "estimated generalization error": 1.4690265246485275,
          "generalization error": 2.084599898142919
         },
         {
          "estimated generalization error": 2.123794497208311,
          "generalization error": 2.055054283929394
         },
         {
          "estimated generalization error": 2.2385217852005628,
          "generalization error": 2.4873888954384746
         },
         {
          "estimated generalization error": 3.347665913672235,
          "generalization error": 2.937690689394915
         },
         {
          "estimated generalization error": 1.7700184122622569,
          "generalization error": 2.256829851407801
         },
         {
          "estimated generalization error": 2.1319812403258616,
          "generalization error": 2.261834761897991
         },
         {
          "estimated generalization error": 2.3695517792196314,
          "generalization error": 2.2287594225223826
         },
         {
          "estimated generalization error": 2.252119178781297,
          "generalization error": 2.1063395539330827
         },
         {
          "estimated generalization error": 2.152173473959324,
          "generalization error": 2.378086352332056
         },
         {
          "estimated generalization error": 3.0073884265014397,
          "generalization error": 2.535016415145791
         },
         {
          "estimated generalization error": 1.7071124793798402,
          "generalization error": 2.2104952322163722
         },
         {
          "estimated generalization error": 2.674599149523075,
          "generalization error": 2.239513600736886
         },
         {
          "estimated generalization error": 1.5986350412258485,
          "generalization error": 2.3662441153554914
         },
         {
          "estimated generalization error": 2.947748373098072,
          "generalization error": 2.59536218411356
         },
         {
          "estimated generalization error": 2.8057204537356197,
          "generalization error": 2.323784234342473
         },
         {
          "estimated generalization error": 2.445182587991665,
          "generalization error": 2.2811932309022365
         },
         {
          "estimated generalization error": 2.369477529080798,
          "generalization error": 2.574759353173761
         },
         {
          "estimated generalization error": 2.6386958506983977,
          "generalization error": 2.266300499265362
         },
         {
          "estimated generalization error": 2.238890013216533,
          "generalization error": 2.2224357457110906
         },
         {
          "estimated generalization error": 2.26817993684753,
          "generalization error": 2.2344534420531708
         },
         {
          "estimated generalization error": 2.083857046447565,
          "generalization error": 2.152165287434511
         },
         {
          "estimated generalization error": 2.2974852168926736,
          "generalization error": 2.2170746354410262
         },
         {
          "estimated generalization error": 2.8451329473239038,
          "generalization error": 2.2495460874800073
         },
         {
          "estimated generalization error": 2.257359136670739,
          "generalization error": 2.066336644526243
         },
         {
          "estimated generalization error": 2.1625723317986245,
          "generalization error": 2.0555389416077334
         },
         {
          "estimated generalization error": 2.6618217558183592,
          "generalization error": 2.296082598623691
         },
         {
          "estimated generalization error": 1.8686500516024993,
          "generalization error": 1.983209545698806
         },
         {
          "estimated generalization error": 1.8457579130748762,
          "generalization error": 2.511287228528895
         },
         {
          "estimated generalization error": 2.7408382164345557,
          "generalization error": 2.6126736439340084
         },
         {
          "estimated generalization error": 1.8920185029044483,
          "generalization error": 2.270239799777479
         },
         {
          "estimated generalization error": 1.997744338683256,
          "generalization error": 2.1814482860321145
         },
         {
          "estimated generalization error": 1.4445639565124528,
          "generalization error": 2.1854854712860665
         },
         {
          "estimated generalization error": 1.8539671167224259,
          "generalization error": 2.0871352518816493
         },
         {
          "estimated generalization error": 3.162871145394917,
          "generalization error": 2.2563716190892036
         },
         {
          "estimated generalization error": 2.4956306396218353,
          "generalization error": 2.2640152434615812
         },
         {
          "estimated generalization error": 2.183831188878409,
          "generalization error": 2.27015775482743
         },
         {
          "estimated generalization error": 2.0681835372187796,
          "generalization error": 2.2787264847266377
         },
         {
          "estimated generalization error": 2.257937350169346,
          "generalization error": 2.1580149278492122
         },
         {
          "estimated generalization error": 2.4196641767538374,
          "generalization error": 2.2227222771197637
         },
         {
          "estimated generalization error": 3.402532356306524,
          "generalization error": 2.5641409976841287
         },
         {
          "estimated generalization error": 1.7814330269174505,
          "generalization error": 2.241082002610573
         },
         {
          "estimated generalization error": 2.1106865258279113,
          "generalization error": 2.218638121425529
         },
         {
          "estimated generalization error": 2.3485840600319126,
          "generalization error": 2.262620686768613
         },
         {
          "estimated generalization error": 2.291266702203819,
          "generalization error": 2.203942629984066
         },
         {
          "estimated generalization error": 2.3229648839195747,
          "generalization error": 2.0775978423181276
         },
         {
          "estimated generalization error": 2.591979168366082,
          "generalization error": 2.1650568980368385
         },
         {
          "estimated generalization error": 2.398343200174897,
          "generalization error": 2.12051409191466
         },
         {
          "estimated generalization error": 2.2169115970548234,
          "generalization error": 2.0894062613227833
         },
         {
          "estimated generalization error": 2.373331705927448,
          "generalization error": 2.08225209364911
         },
         {
          "estimated generalization error": 1.671671999338359,
          "generalization error": 2.3909647219076935
         },
         {
          "estimated generalization error": 3.0353011288962186,
          "generalization error": 2.36058829203343
         },
         {
          "estimated generalization error": 2.2698219364916,
          "generalization error": 2.097531271119387
         },
         {
          "estimated generalization error": 2.6757250753647215,
          "generalization error": 2.391187604416098
         },
         {
          "estimated generalization error": 2.0779608647919114,
          "generalization error": 2.2808327482368407
         },
         {
          "estimated generalization error": 2.7063403521575804,
          "generalization error": 2.720487768526559
         },
         {
          "estimated generalization error": 2.248525151989828,
          "generalization error": 2.208696704679216
         },
         {
          "estimated generalization error": 2.3453259602472016,
          "generalization error": 2.255424787589017
         },
         {
          "estimated generalization error": 3.1925099439040867,
          "generalization error": 2.489772382229368
         },
         {
          "estimated generalization error": 2.0498249620509585,
          "generalization error": 2.146189344600143
         },
         {
          "estimated generalization error": 1.911046362613623,
          "generalization error": 2.2009533621130815
         },
         {
          "estimated generalization error": 2.319319891213919,
          "generalization error": 2.1725331723810766
         },
         {
          "estimated generalization error": 2.315714439579479,
          "generalization error": 2.8353390958188807
         },
         {
          "estimated generalization error": 2.3470487612151656,
          "generalization error": 2.1687475589433864
         },
         {
          "estimated generalization error": 2.3010191128544513,
          "generalization error": 2.2464675998476307
         },
         {
          "estimated generalization error": 1.7917863401846057,
          "generalization error": 2.086908631620461
         },
         {
          "estimated generalization error": 2.019780496614416,
          "generalization error": 2.169325232960936
         },
         {
          "estimated generalization error": 1.7724421957825487,
          "generalization error": 2.216440249330124
         },
         {
          "estimated generalization error": 2.352234855308955,
          "generalization error": 2.3427615851455132
         },
         {
          "estimated generalization error": 2.4610671128954547,
          "generalization error": 2.4539218641591938
         },
         {
          "estimated generalization error": 2.22421250978249,
          "generalization error": 2.7720234762798004
         },
         {
          "estimated generalization error": 2.1962837321940833,
          "generalization error": 2.1481422733515343
         },
         {
          "estimated generalization error": 2.491234784378865,
          "generalization error": 2.336724263136945
         },
         {
          "estimated generalization error": 1.9444809729290082,
          "generalization error": 2.029287165558887
         },
         {
          "estimated generalization error": 2.5362965425794424,
          "generalization error": 2.1896814068663413
         },
         {
          "estimated generalization error": 2.832218606509102,
          "generalization error": 2.268871466190161
         },
         {
          "estimated generalization error": 1.9975317425608605,
          "generalization error": 2.2068365309356275
         },
         {
          "estimated generalization error": 1.8448859445272043,
          "generalization error": 2.032670755410665
         },
         {
          "estimated generalization error": 2.365220528030037,
          "generalization error": 2.337002368842523
         },
         {
          "estimated generalization error": 2.8642866586139424,
          "generalization error": 2.631017928794977
         },
         {
          "estimated generalization error": 1.8789451396476493,
          "generalization error": 1.9693034271424397
         },
         {
          "estimated generalization error": 1.804346249985299,
          "generalization error": 2.0215623339715845
         },
         {
          "estimated generalization error": 2.544282524766778,
          "generalization error": 2.4301507430046865
         },
         {
          "estimated generalization error": 1.79868004851605,
          "generalization error": 2.3409973073710537
         },
         {
          "estimated generalization error": 1.9864747580440558,
          "generalization error": 2.3227803710033
         },
         {
          "estimated generalization error": 2.259260475163847,
          "generalization error": 2.547932723735031
         },
         {
          "estimated generalization error": 2.5188312356569607,
          "generalization error": 2.338438218106904
         },
         {
          "estimated generalization error": 2.235029495893944,
          "generalization error": 2.220074937449323
         },
         {
          "estimated generalization error": 2.0779813223672914,
          "generalization error": 3.3719338245692967
         },
         {
          "estimated generalization error": 2.4062632444118837,
          "generalization error": 2.4588784034771822
         },
         {
          "estimated generalization error": 2.545956775476765,
          "generalization error": 2.758376873890411
         },
         {
          "estimated generalization error": 2.332174705754227,
          "generalization error": 2.5721308287855704
         },
         {
          "estimated generalization error": 2.202982648735723,
          "generalization error": 2.557436360232835
         },
         {
          "estimated generalization error": 2.0637005491995075,
          "generalization error": 2.1613224828440805
         },
         {
          "estimated generalization error": 1.798692341550996,
          "generalization error": 2.2245441824653946
         },
         {
          "estimated generalization error": 2.4028011955609396,
          "generalization error": 2.582164539366253
         },
         {
          "estimated generalization error": 2.1186674746861325,
          "generalization error": 2.242217059388773
         },
         {
          "estimated generalization error": 1.8932143967204231,
          "generalization error": 2.096456020875421
         },
         {
          "estimated generalization error": 2.0193372716465516,
          "generalization error": 2.404219447207913
         },
         {
          "estimated generalization error": 2.3756375225110435,
          "generalization error": 2.336594976761517
         },
         {
          "estimated generalization error": 1.9505651373851673,
          "generalization error": 2.2425174135366093
         },
         {
          "estimated generalization error": 2.7551956016938384,
          "generalization error": 2.1861495225451146
         },
         {
          "estimated generalization error": 2.053022327122584,
          "generalization error": 2.135759420060337
         },
         {
          "estimated generalization error": 2.4965423429374227,
          "generalization error": 2.3598453339911845
         },
         {
          "estimated generalization error": 1.7551386467813137,
          "generalization error": 2.251230197678385
         },
         {
          "estimated generalization error": 2.271730747857436,
          "generalization error": 2.3610686100023357
         },
         {
          "estimated generalization error": 1.795636281988029,
          "generalization error": 2.1623383933018157
         },
         {
          "estimated generalization error": 3.011314581233498,
          "generalization error": 2.265578412474147
         },
         {
          "estimated generalization error": 2.1062633887389834,
          "generalization error": 2.3118462203402435
         },
         {
          "estimated generalization error": 2.8575383170485495,
          "generalization error": 2.8191140656187716
         },
         {
          "estimated generalization error": 1.3427231392512757,
          "generalization error": 2.2638623515942284
         },
         {
          "estimated generalization error": 2.153045802632297,
          "generalization error": 2.2152435881294883
         },
         {
          "estimated generalization error": 1.7454246982575023,
          "generalization error": 2.0668662306281442
         },
         {
          "estimated generalization error": 1.9512757220395718,
          "generalization error": 2.162347644088733
         },
         {
          "estimated generalization error": 1.7004056963633558,
          "generalization error": 1.9403551961609524
         },
         {
          "estimated generalization error": 2.8264083503523545,
          "generalization error": 2.6468459480505273
         },
         {
          "estimated generalization error": 1.7493080071816838,
          "generalization error": 2.15607065264624
         },
         {
          "estimated generalization error": 2.4107712118084543,
          "generalization error": 2.468026080729689
         },
         {
          "estimated generalization error": 2.559188926992255,
          "generalization error": 2.4917352326767643
         },
         {
          "estimated generalization error": 2.666988124912359,
          "generalization error": 2.4481537190935256
         },
         {
          "estimated generalization error": 1.8880101180300934,
          "generalization error": 2.341129384661323
         },
         {
          "estimated generalization error": 2.8796020177688275,
          "generalization error": 2.442911381702013
         },
         {
          "estimated generalization error": 2.550253329759149,
          "generalization error": 2.1555498953241523
         },
         {
          "estimated generalization error": 2.6015665155568906,
          "generalization error": 2.4120220760030127
         },
         {
          "estimated generalization error": 2.455300760474294,
          "generalization error": 2.3887536313271114
         },
         {
          "estimated generalization error": 2.4722345362420053,
          "generalization error": 2.124086631381838
         },
         {
          "estimated generalization error": 2.3050789306349073,
          "generalization error": 2.097176811745225
         },
         {
          "estimated generalization error": 1.9657005733363397,
          "generalization error": 2.043712826648048
         },
         {
          "estimated generalization error": 2.3360686316998893,
          "generalization error": 2.4003165919912544
         },
         {
          "estimated generalization error": 2.351447564147304,
          "generalization error": 2.0507621104912186
         },
         {
          "estimated generalization error": 2.2762876563091465,
          "generalization error": 2.1136904756191734
         },
         {
          "estimated generalization error": 2.6967697077140524,
          "generalization error": 2.573503215618303
         },
         {
          "estimated generalization error": 2.4800276496114435,
          "generalization error": 2.331322637377279
         },
         {
          "estimated generalization error": 3.138005372495211,
          "generalization error": 2.677926842144589
         },
         {
          "estimated generalization error": 3.1921808360597583,
          "generalization error": 2.651723884543805
         },
         {
          "estimated generalization error": 1.781929269023425,
          "generalization error": 2.057026050081463
         },
         {
          "estimated generalization error": 2.429501282418052,
          "generalization error": 2.1563678818750662
         },
         {
          "estimated generalization error": 2.3544586013846374,
          "generalization error": 2.4985071134259975
         },
         {
          "estimated generalization error": 2.1984381892916662,
          "generalization error": 2.416015625666857
         },
         {
          "estimated generalization error": 2.249317942452834,
          "generalization error": 2.302491971732355
         },
         {
          "estimated generalization error": 3.064749657708195,
          "generalization error": 2.646494441868641
         },
         {
          "estimated generalization error": 2.159791300839151,
          "generalization error": 2.1655977057150766
         },
         {
          "estimated generalization error": 1.9893578519461976,
          "generalization error": 2.1915856474012787
         },
         {
          "estimated generalization error": 2.197807527694956,
          "generalization error": 2.375673274725905
         },
         {
          "estimated generalization error": 1.8632123322752818,
          "generalization error": 2.236350070796029
         },
         {
          "estimated generalization error": 2.3158950879301123,
          "generalization error": 2.0419258941778624
         },
         {
          "estimated generalization error": 2.2337944256002396,
          "generalization error": 2.2229518511660338
         },
         {
          "estimated generalization error": 2.5384065452079905,
          "generalization error": 2.5039845142285873
         },
         {
          "estimated generalization error": 3.069955173222521,
          "generalization error": 2.5249650627596476
         },
         {
          "estimated generalization error": 1.9418271122676711,
          "generalization error": 2.323568962792234
         },
         {
          "estimated generalization error": 2.714815419071901,
          "generalization error": 2.3418359609616637
         },
         {
          "estimated generalization error": 2.373820847942994,
          "generalization error": 2.2966003811998865
         },
         {
          "estimated generalization error": 2.284715446516386,
          "generalization error": 2.651434397055068
         },
         {
          "estimated generalization error": 2.06429220922366,
          "generalization error": 2.2312920793540014
         },
         {
          "estimated generalization error": 1.485242014348139,
          "generalization error": 2.1756220509655457
         },
         {
          "estimated generalization error": 2.3496590725400748,
          "generalization error": 2.4244143306676946
         },
         {
          "estimated generalization error": 2.3532194865718465,
          "generalization error": 2.487999807456423
         },
         {
          "estimated generalization error": 2.0774246139385726,
          "generalization error": 2.354633239705883
         },
         {
          "estimated generalization error": 2.8196722908870755,
          "generalization error": 2.2657811069804072
         },
         {
          "estimated generalization error": 3.34541948167657,
          "generalization error": 2.7730147429682197
         },
         {
          "estimated generalization error": 2.293911825805003,
          "generalization error": 2.4686312991010544
         },
         {
          "estimated generalization error": 2.6872003206332398,
          "generalization error": 2.3244172585202283
         },
         {
          "estimated generalization error": 2.4729115534982444,
          "generalization error": 2.2145221205586787
         },
         {
          "estimated generalization error": 2.4670627378093646,
          "generalization error": 2.4691452981799538
         },
         {
          "estimated generalization error": 2.3602061708640796,
          "generalization error": 2.5092281286334623
         },
         {
          "estimated generalization error": 2.2115730024172,
          "generalization error": 2.268531810910381
         },
         {
          "estimated generalization error": 2.121669804157767,
          "generalization error": 2.2964736135686885
         },
         {
          "estimated generalization error": 2.0959101575072117,
          "generalization error": 2.213410253339769
         },
         {
          "estimated generalization error": 3.0014410951666806,
          "generalization error": 2.4674526069174485
         },
         {
          "estimated generalization error": 2.5991160512999927,
          "generalization error": 2.248614899864381
         },
         {
          "estimated generalization error": 2.690198567613005,
          "generalization error": 2.330407636419607
         },
         {
          "estimated generalization error": 1.8964750924071925,
          "generalization error": 2.296158072599711
         },
         {
          "estimated generalization error": 2.9655227595010136,
          "generalization error": 2.3135549736258785
         },
         {
          "estimated generalization error": 2.1048871740073913,
          "generalization error": 2.4125198353494435
         },
         {
          "estimated generalization error": 2.3941178284646107,
          "generalization error": 2.1865203238878985
         },
         {
          "estimated generalization error": 2.814015140304916,
          "generalization error": 2.1618678322527707
         },
         {
          "estimated generalization error": 1.938622933234771,
          "generalization error": 2.162504440737305
         },
         {
          "estimated generalization error": 2.5377059131588733,
          "generalization error": 2.3523900098686727
         },
         {
          "estimated generalization error": 1.4203044356446248,
          "generalization error": 2.256237388074679
         },
         {
          "estimated generalization error": 1.8865898914156338,
          "generalization error": 1.9121017929218442
         },
         {
          "estimated generalization error": 2.660232342039342,
          "generalization error": 2.3950297646195273
         },
         {
          "estimated generalization error": 1.8795526917951038,
          "generalization error": 2.0562907999183757
         },
         {
          "estimated generalization error": 2.518407853300638,
          "generalization error": 2.1236015427356634
         },
         {
          "estimated generalization error": 3.0331431348482223,
          "generalization error": 2.615144924762511
         },
         {
          "estimated generalization error": 2.286086092925331,
          "generalization error": 2.304093796676379
         },
         {
          "estimated generalization error": 2.8370807560623423,
          "generalization error": 2.4842007698802697
         },
         {
          "estimated generalization error": 2.361474812419269,
          "generalization error": 2.5998631565851267
         },
         {
          "estimated generalization error": 3.3585850484296635,
          "generalization error": 2.445322598319888
         },
         {
          "estimated generalization error": 1.8066120022997023,
          "generalization error": 2.120915010388205
         },
         {
          "estimated generalization error": 2.6631389584128455,
          "generalization error": 2.202349070954874
         },
         {
          "estimated generalization error": 2.416390428060804,
          "generalization error": 2.2202215061412804
         },
         {
          "estimated generalization error": 3.0729727245299894,
          "generalization error": 2.6449291393285637
         },
         {
          "estimated generalization error": 1.9882365749023674,
          "generalization error": 2.059974422700466
         },
         {
          "estimated generalization error": 2.3029163529391012,
          "generalization error": 2.108344076151443
         },
         {
          "estimated generalization error": 2.2830353580336906,
          "generalization error": 2.489181298063582
         },
         {
          "estimated generalization error": 2.2630987480668914,
          "generalization error": 2.0993742656779566
         },
         {
          "estimated generalization error": 2.0381362587010035,
          "generalization error": 2.5591685322401396
         },
         {
          "estimated generalization error": 2.7271775814686983,
          "generalization error": 2.3688546426997177
         },
         {
          "estimated generalization error": 2.021323596811576,
          "generalization error": 2.185697823189342
         },
         {
          "estimated generalization error": 2.3721191486685367,
          "generalization error": 2.1148721500480523
         },
         {
          "estimated generalization error": 1.7973892817276278,
          "generalization error": 2.2433062700081505
         },
         {
          "estimated generalization error": 3.113401747058978,
          "generalization error": 2.908196370427036
         },
         {
          "estimated generalization error": 2.5203778750939936,
          "generalization error": 2.6006562288447648
         },
         {
          "estimated generalization error": 2.0113616573999913,
          "generalization error": 1.9842253431995425
         },
         {
          "estimated generalization error": 2.918859452185501,
          "generalization error": 2.428390639233106
         },
         {
          "estimated generalization error": 2.0482809989002906,
          "generalization error": 2.1748338469487765
         },
         {
          "estimated generalization error": 2.4902561012423017,
          "generalization error": 2.0617786371058457
         },
         {
          "estimated generalization error": 3.622644555142193,
          "generalization error": 2.747756982461281
         },
         {
          "estimated generalization error": 2.271684356298422,
          "generalization error": 2.015336536502593
         },
         {
          "estimated generalization error": 3.013577287320617,
          "generalization error": 2.6770262905456446
         },
         {
          "estimated generalization error": 2.397032379818512,
          "generalization error": 2.217972512938082
         },
         {
          "estimated generalization error": 2.8177319216215087,
          "generalization error": 2.4607641474607673
         },
         {
          "estimated generalization error": 2.397912423662761,
          "generalization error": 2.6109579755941295
         },
         {
          "estimated generalization error": 2.901853656973072,
          "generalization error": 2.417742490133564
         },
         {
          "estimated generalization error": 1.9443272206947524,
          "generalization error": 2.1932217957285984
         },
         {
          "estimated generalization error": 3.1535264908319833,
          "generalization error": 2.779046903760803
         },
         {
          "estimated generalization error": 2.3321212514206806,
          "generalization error": 2.04435855606239
         },
         {
          "estimated generalization error": 1.5535731542021145,
          "generalization error": 1.9798014943320592
         },
         {
          "estimated generalization error": 2.167943714066835,
          "generalization error": 2.2228486544540744
         },
         {
          "estimated generalization error": 1.9052457161622416,
          "generalization error": 1.9963980881454568
         },
         {
          "estimated generalization error": 2.0645046162457197,
          "generalization error": 2.3078889795074873
         },
         {
          "estimated generalization error": 2.409263430977395,
          "generalization error": 2.7087682395676373
         },
         {
          "estimated generalization error": 2.278808399539522,
          "generalization error": 2.0295246027336122
         },
         {
          "estimated generalization error": 2.1554059774297443,
          "generalization error": 2.1619374168658045
         },
         {
          "estimated generalization error": 3.0118099080707026,
          "generalization error": 2.124027029388295
         }
        ]
       },
       "encoding": {
        "color": {
         "field": "Quantity",
         "type": "nominal"
        },
        "x": {
         "bin": {
          "maxbins": 100
         },
         "field": "error",
         "type": "quantitative"
        },
        "y": {
         "aggregate": "count",
         "stack": null,
         "type": "quantitative"
        }
       },
       "height": 100,
       "mark": {
        "interpolate": "step",
        "opacity": 0.3,
        "type": "area"
       },
       "transform": [
        {
         "as": [
          "Quantity",
          "error"
         ],
         "fold": [
          "estimated generalization error",
          "generalization error"
         ]
        }
       ]
      },
      "image/png": "[encoded data removed]",
      "text/plain": [
       "<VegaLite 3 object>\n",
       "\n",
       "If you see this message, it means the renderer has not been properly enabled\n",
       "for the frontend that you are using. For more information, see\n",
       "https://altair-viz.github.io/user_guide/troubleshooting.html\n"
      ]
     },
     "execution_count": 19,
     "metadata": {},
     "output_type": "execute_result"
    }
   ],
   "source": [
    "import pandas as pd\n",
    "import altair as alt\n",
    "\n",
    "source = pd.DataFrame({\n",
    "    'estimated generalization error':ês,\n",
    "    'generalization error':es\n",
    "})\n",
    "\n",
    "alt.Chart(source, height=100).transform_fold(\n",
    "    ['estimated generalization error', 'generalization error'],\n",
    "    as_=['Quantity', 'error']\n",
    ").mark_area(\n",
    "    opacity=0.3,\n",
    "    interpolate='step'\n",
    ").encode(\n",
    "    alt.X('error:Q', bin=alt.Bin(maxbins=100)),\n",
    "    alt.Y('count()', stack=None),\n",
    "    alt.Color('Quantity:N')\n",
    ")"
   ]
  },
  {
   "cell_type": "markdown",
   "metadata": {},
   "source": [
    "This looks much, much better. Our estimate of the generalization error isn't perfect- sometimes it's higher than reality and sometimes it's lower, but on average we're getting close."
   ]
  },
  {
   "cell_type": "markdown",
   "metadata": {},
   "source": [
    "To figure out why this works we have to think about what the difference is between the test set $(X^{\\mathcal T}, y^{\\mathcal T})$ and the full observed data $(X, y)$ in terms of how well each of those sets approximate the future data $(X^\\dagger, y^\\dagger)$. In terms of what the data themselves are, there is clearly no substantive difference between the test set and the full observed data except that the test set is a subset of the observed data. But using a smaller random sample to estimate the generalization error isn't what's fixing the problem."
   ]
  },
  {
   "cell_type": "markdown",
   "metadata": {},
   "source": [
    "The real difference is not what's in the data or how much of it there is, but *how it is used*. The test set is not used to fit the model $f_{\\mathcal S}$, whereas the training set is. This matters because *future* data also cannot ever be used to fit the model since it's data we don't even have at the time the model is fit. In that sense, the test set is a much better approximation of future data than the training data are because, like the future data, the test data are not used to fit the model. The very fact that we have observed the training data and used it to fit the model makes it unsuitable as an approximation to future data, even though we have done nothing to change the data itself!\n",
    "\n",
    "We're going to dig into this further, but for now it might be useful to think of an analogy. Imagine that a student is taking a course whose ultimate goal is to prepare the student to do well in their future career. The course includes both practice problems (with solutions) and a final exam. How can the student make sure she is prepared to succeed in the future? If the student studies using the practice problems, but then evaluates her performance using those same practice problems, she will always be optimistic about what she has actually learned. She may have simply memorized the answers to those problems or learned certain tricks that only work for those problems. However, her performance on the final exam, which has problems she has never seen before, is more likely to indicate how successful she will be in the future, since she will encounter new problems in her career, not textbook problems."
   ]
  },
  {
   "cell_type": "markdown",
   "metadata": {},
   "source": [
    "### Generalization Error Revisited"
   ]
  },
  {
   "cell_type": "markdown",
   "metadata": {},
   "source": [
    "We originally presented the generalization error as an average over all future data. That's probably the easiest way to think of it, but it isn't actually the way that we most often work with it mathematically. Mathematically, the generalization error is actually"
   ]
  },
  {
   "cell_type": "markdown",
   "metadata": {},
   "source": [
    "$$\n",
    "\\mathcal {E}(f) \n",
    "=\n",
    "E_{X, Y}[ M(Y, f(X)) ]\n",
    "\\label{real-gen-error}\n",
    "$$"
   ]
  },
  {
   "cell_type": "markdown",
   "metadata": {},
   "source": [
    "where the expectation is taken over the joint distribution of the random variables $X$ and $Y$. Notice that our fit model $f$ is a fixed function, although $X$ and $Y$ are random. \n",
    "\n",
    "Now we can see a little more clearly why our training set estimator (equation \\ref{training-error}) doesn't work: it's approximating something like $\\mathcal {E}_{\\mathcal S}(f) = E_{X, Y}[ M(Y, f_{X,Y}(X)) ]\n",
    "$. We're trying to average over the variation in model performance on the \"future\" data $X$ and $Y$, but we're using that \"future\" data to fit the model $f_{X,Y}$ at the same time. In fact, the notation $\\mathcal {E}_{\\mathcal S}(f)$ doesn't even make sense because $f$ isn't even a fixed function that we're evaluating inside the estimator - it changes along with the data. So what we're evaluating with the theoretical quantity $\\mathcal {E}_{\\mathcal S}$ isn't even clear.\n",
    "\n",
    "On the other hand, the test set estimator (equation \\ref{test-error}) just replaces the expectation in \\ref{real-gen-error} with a finite average, but keeps $f$ fixed when computing that average. Thus, if you take the expected value of the test-set estimator, you get back the generalization error:\n",
    "$$\n",
    "\\begin{array}{rcl}\n",
    "E[\\hat{\\mathcal E}_{\\mathcal T}(f)] &=& E\\left[ \\frac{1}{n^{\\mathcal T}} \\sum_{i \\in \\mathcal{T}} M(Y, f_{\\mathcal S}(X)) \\right] \\\\\n",
    "&=&  \\frac{1}{n^{\\mathcal T}} \\sum_{i \\in \\mathcal{T}} E\\left[ M(Y, f_{\\mathcal S}(X)) \\right] \\\\\n",
    "&=& \\frac{n^{\\mathcal T}}{n^{\\mathcal T}} \\mathcal E(f)\n",
    "\\end{array}\n",
    "$$\n",
    "\n",
    "The math is easy here because the expectation passes through the sum, after which the quantity on the inside of the sum is recognizable as the generalization error. If you try and do the same for the training error, you will end up with a quantity inside the sum that looks like the aforementioned $E_{X, Y}[ M(Y, f_{X,Y}(X))]$. That's usually impossible to work with analytically because you have to factor in how the model gets fit from the data. Point being: the test error is (on average) the generalization error, but it's very hard in general to know how the training error will relate to the generalization error."
   ]
  },
  {
   "cell_type": "markdown",
   "metadata": {},
   "source": [
    "To demonstrate the difference, we can simulate both training and test errors. Each simulation is like a single draw from the joint distribution of $X$ and $Y$. First we set up the functions that we will call to compute a singe training error and a single test error:"
   ]
  },
  {
   "cell_type": "code",
   "execution_count": 20,
   "metadata": {
    "tags": [
     "hide_output"
    ]
   },
   "outputs": [],
   "source": [
    "def training_error():\n",
    "    X_train, y_train = data_factory(50)           # randomness across different simulation runs comes from here\n",
    "    model = DecisionTreeRegressor(max_depth=3)\n",
    "    model.fit(X_train, y_train)                    # model depends on the random data\n",
    "    ŷ_train = model.predict(X_train)\n",
    "    return metric(y_train, ŷ_train)                # evaluating a moving (random) target against random data"
   ]
  },
  {
   "cell_type": "code",
   "execution_count": 21,
   "metadata": {},
   "outputs": [],
   "source": [
    "X_train, y_train = data_factory(25)    \n",
    "model = DecisionTreeRegressor(max_depth=3)\n",
    "model.fit(X_train, y_train)                     # model fixed in advance\n",
    "\n",
    "def test_error():\n",
    "    X_test, y_test = data_factory(25)          # randomness across different simulation runs comes from here\n",
    "    ŷ_test = model.predict(X_test)\n",
    "    return metric(y_test, ŷ_test)               # evaluating a fixed target against random data"
   ]
  },
  {
   "cell_type": "markdown",
   "metadata": {},
   "source": [
    "And now we repeat over 500 simulations:"
   ]
  },
  {
   "cell_type": "code",
   "execution_count": 22,
   "metadata": {},
   "outputs": [],
   "source": [
    "ê_S, ê_T = zip(*[(training_error(), test_error()) for i in range(500)])"
   ]
  },
  {
   "cell_type": "markdown",
   "metadata": {},
   "source": [
    "Notice that the code to fit the model is inside of the `training_error` function, but outside of the `test_error` function. Thus the model $f$ will be *refit* each time we compute a training error, but is treated as *fixed* when computing each test error. This difference only becomes clear when you do a simulation you can repeat many times, since using a single dataset the model only gets fit once and you don't get to see where the \"randomness\" enters. When doing simulations, you can see that the randomness enters before the model is even fit when using the training error estimate of generalization error. The randomness only enters after the model has been fit when using the test error estimate of generalization error."
   ]
  },
  {
   "cell_type": "markdown",
   "metadata": {},
   "source": [
    "When we plot the training and test errors, we can see that the training error (which is not an accurate estimate of generalization error) is usually smaller than the test error (which is). In other words, if we use the training error, we will usually overestimate the performance of our model. "
   ]
  },
  {
   "cell_type": "code",
   "execution_count": 23,
   "metadata": {
    "tags": [
     "hide_input"
    ]
   },
   "outputs": [
    {
     "data": {
      "application/vnd.vegalite.v3+json": {
       "$schema": "https://vega.github.io/schema/vega-lite/v3.4.0.json",
       "config": {
        "mark": {
         "tooltip": null
        },
        "view": {
         "height": 300,
         "width": 400
        }
       },
       "data": {
        "name": "data-9398dc72ae19b4b2564b53807d0e4760"
       },
       "datasets": {
        "data-9398dc72ae19b4b2564b53807d0e4760": [
         {
          "test error": 2.2110282944424395,
          "training error": 1.534057033521579
         },
         {
          "test error": 1.614298995226092,
          "training error": 1.6398893705322906
         },
         {
          "test error": 2.16502213696508,
          "training error": 1.3951688792042243
         },
         {
          "test error": 2.8286212165921993,
          "training error": 1.3926821578129753
         },
         {
          "test error": 1.9605492591681974,
          "training error": 1.4520989366110038
         },
         {
          "test error": 2.589469077603716,
          "training error": 1.606568610286306
         },
         {
          "test error": 1.700062507464918,
          "training error": 1.215175961369527
         },
         {
          "test error": 2.2954543212205483,
          "training error": 1.4060113999018602
         },
         {
          "test error": 2.1080826779294135,
          "training error": 1.3994363603107514
         },
         {
          "test error": 2.1620533109455096,
          "training error": 1.4176319008612492
         },
         {
          "test error": 2.112804444894172,
          "training error": 1.5563545924568212
         },
         {
          "test error": 2.557409935931808,
          "training error": 1.3088055058097239
         },
         {
          "test error": 2.6683473514590976,
          "training error": 1.4225071048584579
         },
         {
          "test error": 2.1319130093778553,
          "training error": 1.50117734923852
         },
         {
          "test error": 2.2552281565216754,
          "training error": 1.5873674505737816
         },
         {
          "test error": 2.2314867604045916,
          "training error": 1.276890744262449
         },
         {
          "test error": 1.9058947682186749,
          "training error": 1.3919952139193505
         },
         {
          "test error": 1.6755495488850816,
          "training error": 1.2243449677171727
         },
         {
          "test error": 2.1594913353120417,
          "training error": 1.276507863340708
         },
         {
          "test error": 2.1821252899685253,
          "training error": 1.4502077554784905
         },
         {
          "test error": 1.5686621117283948,
          "training error": 1.4175623654399916
         },
         {
          "test error": 1.7965974117819075,
          "training error": 1.4177551343514674
         },
         {
          "test error": 2.7612155373338663,
          "training error": 1.3931450630219882
         },
         {
          "test error": 1.820133754059786,
          "training error": 1.2180313290249776
         },
         {
          "test error": 1.8114197168384851,
          "training error": 1.1620144977362385
         },
         {
          "test error": 2.526026178368204,
          "training error": 1.3295296029406019
         },
         {
          "test error": 2.0939626044351463,
          "training error": 1.4182412055610638
         },
         {
          "test error": 2.7602815339007236,
          "training error": 1.2109655899845364
         },
         {
          "test error": 2.215267372134262,
          "training error": 1.792694071944227
         },
         {
          "test error": 1.9996050792808213,
          "training error": 1.407793483963394
         },
         {
          "test error": 1.959309145792312,
          "training error": 1.2944533196610981
         },
         {
          "test error": 1.8883435034508076,
          "training error": 1.3381551926485276
         },
         {
          "test error": 2.030910827204695,
          "training error": 1.4595062645445487
         },
         {
          "test error": 1.8129331593829556,
          "training error": 1.4654594564169843
         },
         {
          "test error": 1.6058416039904264,
          "training error": 1.478888430264972
         },
         {
          "test error": 1.6605587993793784,
          "training error": 1.1950170767248962
         },
         {
          "test error": 2.3656464813071447,
          "training error": 1.276117994840276
         },
         {
          "test error": 2.0185627269741304,
          "training error": 1.67841270386799
         },
         {
          "test error": 2.297801278801138,
          "training error": 1.404469913816628
         },
         {
          "test error": 2.009834911476168,
          "training error": 1.4676218283414522
         },
         {
          "test error": 2.0967487418400657,
          "training error": 1.6248979790945015
         },
         {
          "test error": 2.4457496154803824,
          "training error": 1.3424941558137737
         },
         {
          "test error": 1.8603021388100154,
          "training error": 1.5089948133561577
         },
         {
          "test error": 1.908704164013639,
          "training error": 1.1870668844172905
         },
         {
          "test error": 1.7776624702711081,
          "training error": 1.154551333711216
         },
         {
          "test error": 1.8889893664477495,
          "training error": 1.283282470268049
         },
         {
          "test error": 1.7851887364428518,
          "training error": 1.066512077222616
         },
         {
          "test error": 2.4379685927138426,
          "training error": 1.3534796680215766
         },
         {
          "test error": 2.2673564320031074,
          "training error": 1.528844061991469
         },
         {
          "test error": 1.9326410312742044,
          "training error": 1.2553095493080946
         },
         {
          "test error": 2.302518434438708,
          "training error": 1.154709561399103
         },
         {
          "test error": 2.274100042554331,
          "training error": 1.5321246972813816
         },
         {
          "test error": 1.7612178730702615,
          "training error": 1.647966240302717
         },
         {
          "test error": 1.724038798382883,
          "training error": 1.2442216686841672
         },
         {
          "test error": 1.934635560233604,
          "training error": 1.010452388907212
         },
         {
          "test error": 2.382426504921398,
          "training error": 1.437848843654375
         },
         {
          "test error": 2.382943618424832,
          "training error": 1.3968050244193997
         },
         {
          "test error": 2.462791291358145,
          "training error": 1.1967434003946193
         },
         {
          "test error": 1.6732299101512766,
          "training error": 1.5329350174581906
         },
         {
          "test error": 2.3746156453766556,
          "training error": 1.1675097193114814
         },
         {
          "test error": 2.2831140324038652,
          "training error": 1.2617071863542035
         },
         {
          "test error": 2.063366106705448,
          "training error": 1.4154988985497972
         },
         {
          "test error": 2.7115288089542076,
          "training error": 1.128743086615198
         },
         {
          "test error": 2.3243506223105173,
          "training error": 1.3785302888309912
         },
         {
          "test error": 1.7471196923417311,
          "training error": 1.5382712746008695
         },
         {
          "test error": 2.028394276122025,
          "training error": 1.1977824079871637
         },
         {
          "test error": 1.883093933894361,
          "training error": 1.4104436625488384
         },
         {
          "test error": 2.0338148861911476,
          "training error": 1.3501865446307997
         },
         {
          "test error": 2.5953977963572483,
          "training error": 1.5756123723913737
         },
         {
          "test error": 1.9637206426570606,
          "training error": 1.719319595680881
         },
         {
          "test error": 1.7839935887101448,
          "training error": 1.415569815077923
         },
         {
          "test error": 1.4416761829628038,
          "training error": 1.3666461955851787
         },
         {
          "test error": 2.075880484240756,
          "training error": 1.7013908538903573
         },
         {
          "test error": 1.766848924287071,
          "training error": 1.4759117779986315
         },
         {
          "test error": 2.1482038671449546,
          "training error": 1.4754607192390656
         },
         {
          "test error": 1.9064583533730126,
          "training error": 1.1209158073562853
         },
         {
          "test error": 1.7855664238280582,
          "training error": 1.485583033621823
         },
         {
          "test error": 1.9102097118810486,
          "training error": 1.4459426598450817
         },
         {
          "test error": 1.5233039490528961,
          "training error": 1.406704017462972
         },
         {
          "test error": 2.422196671574925,
          "training error": 1.3475553373210192
         },
         {
          "test error": 2.6733301492609813,
          "training error": 1.2054096074534835
         },
         {
          "test error": 1.7104031060246334,
          "training error": 1.446044417719531
         },
         {
          "test error": 1.9209084777824452,
          "training error": 1.3739249049477495
         },
         {
          "test error": 1.6996152263043482,
          "training error": 1.4699606782342698
         },
         {
          "test error": 2.4414417427417807,
          "training error": 1.7726056076746475
         },
         {
          "test error": 2.1825242502891515,
          "training error": 1.5145386505389637
         },
         {
          "test error": 1.838734107669693,
          "training error": 1.7583307032062192
         },
         {
          "test error": 2.3854404822377817,
          "training error": 1.3695215559840352
         },
         {
          "test error": 1.9215367488599437,
          "training error": 1.409573312778935
         },
         {
          "test error": 1.9511438684224762,
          "training error": 1.1298521026069788
         },
         {
          "test error": 1.9790068958754263,
          "training error": 1.4845755902961801
         },
         {
          "test error": 2.0644074102315653,
          "training error": 1.3237869209222037
         },
         {
          "test error": 2.0136121569029783,
          "training error": 1.341760171860712
         },
         {
          "test error": 1.9908175798697278,
          "training error": 1.4046901153569546
         },
         {
          "test error": 2.120487114323236,
          "training error": 1.6920638304540694
         },
         {
          "test error": 2.2576907738520062,
          "training error": 1.1194390925395958
         },
         {
          "test error": 2.8572136138700053,
          "training error": 1.5348543115862063
         },
         {
          "test error": 2.0979594155378005,
          "training error": 1.4500000279577916
         },
         {
          "test error": 2.373105947597281,
          "training error": 1.243565921253075
         },
         {
          "test error": 2.853980573323568,
          "training error": 1.265386249346301
         },
         {
          "test error": 2.093682225810342,
          "training error": 1.3493807837318128
         },
         {
          "test error": 2.3047134377086835,
          "training error": 1.2762455147432938
         },
         {
          "test error": 1.5945607675766147,
          "training error": 1.265088969042816
         },
         {
          "test error": 2.267060368742632,
          "training error": 1.3522670253880165
         },
         {
          "test error": 1.859327355752139,
          "training error": 1.544465516041235
         },
         {
          "test error": 2.358037488660725,
          "training error": 1.4034742013812092
         },
         {
          "test error": 2.170090930322566,
          "training error": 1.4790876226778338
         },
         {
          "test error": 2.115554962410995,
          "training error": 1.5137076769440392
         },
         {
          "test error": 2.5214736037954633,
          "training error": 1.295928256283227
         },
         {
          "test error": 2.441276987638385,
          "training error": 1.4987356563664174
         },
         {
          "test error": 1.592076969001067,
          "training error": 1.2784530036028487
         },
         {
          "test error": 1.6115588328856862,
          "training error": 1.5738082637978832
         },
         {
          "test error": 1.871625748976513,
          "training error": 1.3660853292933117
         },
         {
          "test error": 1.9682714786865116,
          "training error": 1.3853688092876677
         },
         {
          "test error": 2.186238717573011,
          "training error": 1.3724058122830725
         },
         {
          "test error": 2.0877790819286535,
          "training error": 1.5702405000287785
         },
         {
          "test error": 2.424563059284337,
          "training error": 1.1467002291922481
         },
         {
          "test error": 2.208916657602135,
          "training error": 0.9839788145578783
         },
         {
          "test error": 1.8270946008379791,
          "training error": 1.5142655919739731
         },
         {
          "test error": 1.8315567691702646,
          "training error": 1.2461647078685
         },
         {
          "test error": 2.2217837615631573,
          "training error": 1.557811112998608
         },
         {
          "test error": 2.0750264890872288,
          "training error": 1.604530994271006
         },
         {
          "test error": 2.336805948516705,
          "training error": 1.4437424906549863
         },
         {
          "test error": 2.3826152473897593,
          "training error": 1.5459334955306163
         },
         {
          "test error": 2.1714649969103537,
          "training error": 1.169025554138756
         },
         {
          "test error": 2.0872873003838572,
          "training error": 1.774077037969311
         },
         {
          "test error": 1.5115975212114139,
          "training error": 1.6855887743179454
         },
         {
          "test error": 2.1429096180580065,
          "training error": 1.422382803542235
         },
         {
          "test error": 1.4442614043236535,
          "training error": 1.3396939421616858
         },
         {
          "test error": 2.1706234024132827,
          "training error": 1.2045423333409142
         },
         {
          "test error": 2.263727716235922,
          "training error": 1.3075471150799032
         },
         {
          "test error": 2.0522988424298942,
          "training error": 1.4970631571755828
         },
         {
          "test error": 1.9633140343997189,
          "training error": 1.4655943427853229
         },
         {
          "test error": 1.7627143327046082,
          "training error": 1.5203916616569773
         },
         {
          "test error": 2.0525255488169485,
          "training error": 1.5228423949588634
         },
         {
          "test error": 1.8362242417525112,
          "training error": 1.2013861462417992
         },
         {
          "test error": 1.934454856263222,
          "training error": 1.5021118916019562
         },
         {
          "test error": 1.8293379294616958,
          "training error": 1.5134391324020107
         },
         {
          "test error": 1.6390996163167275,
          "training error": 1.122884422033568
         },
         {
          "test error": 2.1447526488352975,
          "training error": 1.5298861657590554
         },
         {
          "test error": 1.9832128393829922,
          "training error": 1.2960122574939776
         },
         {
          "test error": 1.9421673444068803,
          "training error": 1.4068135784949503
         },
         {
          "test error": 2.098018229401126,
          "training error": 1.4354823992936139
         },
         {
          "test error": 2.596494895121381,
          "training error": 1.40551335825789
         },
         {
          "test error": 1.5379132852498822,
          "training error": 1.372097480892682
         },
         {
          "test error": 2.2494676262353384,
          "training error": 1.5805755260850767
         },
         {
          "test error": 2.347168224358013,
          "training error": 1.3498736723644362
         },
         {
          "test error": 2.8965018856961153,
          "training error": 1.3865141996970434
         },
         {
          "test error": 1.6962388378892925,
          "training error": 1.3511317754065206
         },
         {
          "test error": 1.88671630143062,
          "training error": 1.2946657725259234
         },
         {
          "test error": 2.2342611816553086,
          "training error": 1.2117417764955867
         },
         {
          "test error": 1.7287707664495584,
          "training error": 1.249972511657978
         },
         {
          "test error": 2.1484178043824773,
          "training error": 1.4648525895696036
         },
         {
          "test error": 1.7330583386924152,
          "training error": 1.5477765651219386
         },
         {
          "test error": 2.059569358681956,
          "training error": 1.3309816417169567
         },
         {
          "test error": 2.3155622538297727,
          "training error": 1.6360301414320748
         },
         {
          "test error": 1.9765217495744754,
          "training error": 1.3476317168009708
         },
         {
          "test error": 1.6396575402690272,
          "training error": 1.6496929001415361
         },
         {
          "test error": 2.539396079354467,
          "training error": 1.4212046424293479
         },
         {
          "test error": 1.6823294672992366,
          "training error": 1.5079348233407097
         },
         {
          "test error": 2.1722932413034703,
          "training error": 1.6125632596233763
         },
         {
          "test error": 2.296410049557374,
          "training error": 1.5282648688150895
         },
         {
          "test error": 2.0750650201434198,
          "training error": 1.6402055677078358
         },
         {
          "test error": 2.1507659389604665,
          "training error": 1.3604453230306675
         },
         {
          "test error": 2.0012520306597064,
          "training error": 1.6772139667234465
         },
         {
          "test error": 2.177791320138158,
          "training error": 1.578638604405767
         },
         {
          "test error": 2.4219710001431483,
          "training error": 1.3604346495212212
         },
         {
          "test error": 1.6593349656945944,
          "training error": 1.3493888584446778
         },
         {
          "test error": 2.4828984738967845,
          "training error": 1.4743516260878815
         },
         {
          "test error": 1.8576568064046963,
          "training error": 1.5904409051503052
         },
         {
          "test error": 1.9516401951229434,
          "training error": 1.5150545384461103
         },
         {
          "test error": 2.340745251865116,
          "training error": 1.265491137079288
         },
         {
          "test error": 1.87336681722285,
          "training error": 1.29983561604515
         },
         {
          "test error": 2.873518056636692,
          "training error": 1.7880612861658847
         },
         {
          "test error": 2.12802354408427,
          "training error": 1.369834654740384
         },
         {
          "test error": 2.1359466714971287,
          "training error": 1.2488154094043118
         },
         {
          "test error": 1.8171583972498289,
          "training error": 1.334416825227267
         },
         {
          "test error": 2.4012432227358826,
          "training error": 1.4490751117761613
         },
         {
          "test error": 1.405400745823197,
          "training error": 1.4934163148322606
         },
         {
          "test error": 2.6600506407871514,
          "training error": 1.6208128446598586
         },
         {
          "test error": 2.1607246660651267,
          "training error": 1.3836041736361069
         },
         {
          "test error": 2.5958346495373545,
          "training error": 1.7735271525943817
         },
         {
          "test error": 1.744295795205019,
          "training error": 1.4102574178160585
         },
         {
          "test error": 2.159434065265649,
          "training error": 1.1581683855298808
         },
         {
          "test error": 1.621140670429655,
          "training error": 1.1397585673735078
         },
         {
          "test error": 2.393595203208159,
          "training error": 1.4457477876998295
         },
         {
          "test error": 2.245017881020158,
          "training error": 1.5913550235728504
         },
         {
          "test error": 2.0447418303601292,
          "training error": 1.3381974599780129
         },
         {
          "test error": 2.0920162848698247,
          "training error": 1.4624509826911263
         },
         {
          "test error": 1.5105871809034088,
          "training error": 1.3527171408600998
         },
         {
          "test error": 2.4850300473785425,
          "training error": 1.4161354604523058
         },
         {
          "test error": 2.533691428329392,
          "training error": 1.443977807077829
         },
         {
          "test error": 2.3635778906684215,
          "training error": 1.3726433330541732
         },
         {
          "test error": 1.9691269945816674,
          "training error": 1.460062361899514
         },
         {
          "test error": 1.8938155777395775,
          "training error": 1.1966322160648133
         },
         {
          "test error": 1.8737620174596583,
          "training error": 1.6878880078814853
         },
         {
          "test error": 2.389800654198557,
          "training error": 1.4303269840791857
         },
         {
          "test error": 2.162537724863855,
          "training error": 1.559724441094553
         },
         {
          "test error": 1.8777414440948041,
          "training error": 1.3196980003543488
         },
         {
          "test error": 2.0452723919828233,
          "training error": 1.40100264843907
         },
         {
          "test error": 2.160303870472618,
          "training error": 1.3464607251754839
         },
         {
          "test error": 2.682073976038164,
          "training error": 1.4425132473363635
         },
         {
          "test error": 2.463422769912423,
          "training error": 1.6233045733403397
         },
         {
          "test error": 2.329237520464568,
          "training error": 1.7361607782471429
         },
         {
          "test error": 2.4571996849118767,
          "training error": 1.3542103149597038
         },
         {
          "test error": 2.1359042769812997,
          "training error": 1.4179196466295139
         },
         {
          "test error": 1.773467991313822,
          "training error": 1.3657663869895378
         },
         {
          "test error": 2.021967708447724,
          "training error": 1.33778943506975
         },
         {
          "test error": 1.958415369871588,
          "training error": 1.313766006180795
         },
         {
          "test error": 2.355127033027882,
          "training error": 1.3313312296858753
         },
         {
          "test error": 2.2302507166097225,
          "training error": 1.437281703430837
         },
         {
          "test error": 2.5566511036039343,
          "training error": 1.3417101012172796
         },
         {
          "test error": 2.1013642325552353,
          "training error": 1.364220274488776
         },
         {
          "test error": 2.5582460909997025,
          "training error": 1.619376056230238
         },
         {
          "test error": 2.245715014055287,
          "training error": 1.5134185733922008
         },
         {
          "test error": 2.4760853885618475,
          "training error": 1.4875564723927834
         },
         {
          "test error": 2.3262500300357694,
          "training error": 1.2453782222029202
         },
         {
          "test error": 1.6533796771100313,
          "training error": 1.419300576030429
         },
         {
          "test error": 2.0390752659204687,
          "training error": 1.3073842243206848
         },
         {
          "test error": 2.5876385721061252,
          "training error": 1.6304433128711529
         },
         {
          "test error": 1.902902074689068,
          "training error": 1.629115867859044
         },
         {
          "test error": 1.9876936822835773,
          "training error": 1.4418182644895268
         },
         {
          "test error": 2.401957912527932,
          "training error": 1.0918571767503424
         },
         {
          "test error": 1.7335843161499178,
          "training error": 1.4652750756459108
         },
         {
          "test error": 2.128868977246095,
          "training error": 1.4690575102138064
         },
         {
          "test error": 2.2054191341640377,
          "training error": 1.405582814982184
         },
         {
          "test error": 2.7236918725188617,
          "training error": 1.4887093819833859
         },
         {
          "test error": 2.1286745264396405,
          "training error": 1.4575337834412856
         },
         {
          "test error": 2.579211260797838,
          "training error": 1.5052383411081565
         },
         {
          "test error": 2.1547424181355033,
          "training error": 1.2953922437615093
         },
         {
          "test error": 2.2517975349616735,
          "training error": 1.1043391539909992
         },
         {
          "test error": 1.8053536091781552,
          "training error": 1.4349042347362382
         },
         {
          "test error": 2.3683140740242097,
          "training error": 1.7331111995386745
         },
         {
          "test error": 1.4354478986307149,
          "training error": 1.6852419262616454
         },
         {
          "test error": 2.013567497212061,
          "training error": 1.5460609607596387
         },
         {
          "test error": 2.3381363414683496,
          "training error": 1.499131419211678
         },
         {
          "test error": 2.8008757239420397,
          "training error": 1.6369119686532694
         },
         {
          "test error": 1.7345343692570867,
          "training error": 1.3518766337908006
         },
         {
          "test error": 1.993531635307066,
          "training error": 1.5397265938347837
         },
         {
          "test error": 2.298847824617803,
          "training error": 1.5325409607312062
         },
         {
          "test error": 2.2976010154243856,
          "training error": 1.3429640304969377
         },
         {
          "test error": 2.037434572219776,
          "training error": 1.1501684620139245
         },
         {
          "test error": 2.567292818148188,
          "training error": 1.2465840276115858
         },
         {
          "test error": 2.3330000295637627,
          "training error": 1.188289173693565
         },
         {
          "test error": 2.4513708038422095,
          "training error": 1.0613614435336332
         },
         {
          "test error": 2.0659048729668767,
          "training error": 1.6754445024930569
         },
         {
          "test error": 2.069964042114714,
          "training error": 1.2084425486398478
         },
         {
          "test error": 1.4507445415516664,
          "training error": 1.2094175466014039
         },
         {
          "test error": 2.0302087453649214,
          "training error": 1.4868324222967564
         },
         {
          "test error": 1.962876285118537,
          "training error": 1.7328480572865559
         },
         {
          "test error": 2.0501319079714704,
          "training error": 1.4517931821769963
         },
         {
          "test error": 2.055677606506841,
          "training error": 1.2744953491698865
         },
         {
          "test error": 1.8817809485629982,
          "training error": 1.4027261423276094
         },
         {
          "test error": 2.17126145545502,
          "training error": 1.2119814572296523
         },
         {
          "test error": 2.501495419199672,
          "training error": 1.2013443573040694
         },
         {
          "test error": 2.7312344348828894,
          "training error": 1.415476797948433
         },
         {
          "test error": 1.8628189991156137,
          "training error": 1.2405609620016156
         },
         {
          "test error": 2.199552698530056,
          "training error": 1.4157930528336065
         },
         {
          "test error": 1.7365501678089936,
          "training error": 1.632411068542535
         },
         {
          "test error": 1.9972230988040405,
          "training error": 1.3054577647761112
         },
         {
          "test error": 2.5373339680831277,
          "training error": 1.5140330488488853
         },
         {
          "test error": 2.4149827121507816,
          "training error": 1.397757916014198
         },
         {
          "test error": 2.634144906068604,
          "training error": 1.5311110767690577
         },
         {
          "test error": 1.5881690380958475,
          "training error": 1.397747649812721
         },
         {
          "test error": 2.299437779604823,
          "training error": 1.2371477607222319
         },
         {
          "test error": 1.619577554944253,
          "training error": 1.478345931186851
         },
         {
          "test error": 2.168339971721809,
          "training error": 1.4521382973179038
         },
         {
          "test error": 1.6398926484704435,
          "training error": 1.6895249428501427
         },
         {
          "test error": 2.345858391380067,
          "training error": 1.614936851811117
         },
         {
          "test error": 2.1990846833912236,
          "training error": 1.2095736330158449
         },
         {
          "test error": 1.6823581921728599,
          "training error": 1.281172113641272
         },
         {
          "test error": 2.215937329751018,
          "training error": 1.2745651295366547
         },
         {
          "test error": 2.931357924390517,
          "training error": 1.3028180433781182
         },
         {
          "test error": 2.308405232710971,
          "training error": 1.191422893432274
         },
         {
          "test error": 1.7782463670345214,
          "training error": 1.3127946688336782
         },
         {
          "test error": 2.3723916662022533,
          "training error": 1.328158996010587
         },
         {
          "test error": 1.9806526259221204,
          "training error": 1.6347643326653978
         },
         {
          "test error": 1.845790949134562,
          "training error": 1.572301851600097
         },
         {
          "test error": 2.599871312600872,
          "training error": 1.2512188622812912
         },
         {
          "test error": 2.3216844980285076,
          "training error": 1.5907182020480894
         },
         {
          "test error": 1.7962671942181874,
          "training error": 1.3418504673490634
         },
         {
          "test error": 2.640009627248747,
          "training error": 1.434216203153986
         },
         {
          "test error": 2.21075600193968,
          "training error": 1.4095054218953322
         },
         {
          "test error": 2.2316744877468264,
          "training error": 1.5376462584177966
         },
         {
          "test error": 2.6053125452667296,
          "training error": 1.3707812939643949
         },
         {
          "test error": 1.597367831471002,
          "training error": 1.3161522866062354
         },
         {
          "test error": 2.3764119426113095,
          "training error": 1.3270407638332276
         },
         {
          "test error": 2.074000970334508,
          "training error": 1.4075227866911275
         },
         {
          "test error": 2.4448249118597136,
          "training error": 1.4549735080533432
         },
         {
          "test error": 2.1892868921794686,
          "training error": 1.431905720874273
         },
         {
          "test error": 2.572469455719733,
          "training error": 1.5070322186550098
         },
         {
          "test error": 1.4543244228590564,
          "training error": 1.4979560744908433
         },
         {
          "test error": 2.3571675088786526,
          "training error": 1.2930260883209865
         },
         {
          "test error": 2.0354101795367074,
          "training error": 1.6034013586744325
         },
         {
          "test error": 1.5784223481742863,
          "training error": 1.3563695199615575
         },
         {
          "test error": 2.013207647728015,
          "training error": 1.2748133956651586
         },
         {
          "test error": 2.8841541304702223,
          "training error": 1.6006278035023522
         },
         {
          "test error": 1.8286656993319976,
          "training error": 1.3981785963274502
         },
         {
          "test error": 2.310338279214379,
          "training error": 1.5700277191316432
         },
         {
          "test error": 1.4771595335769487,
          "training error": 1.4717466334655662
         },
         {
          "test error": 2.027981221364947,
          "training error": 1.607479573275572
         },
         {
          "test error": 1.772595869688962,
          "training error": 1.4907452287620517
         },
         {
          "test error": 2.338066691628113,
          "training error": 1.4567616357573834
         },
         {
          "test error": 2.6287312095275057,
          "training error": 1.3813492982519628
         },
         {
          "test error": 2.097624623347532,
          "training error": 1.4706470008813968
         },
         {
          "test error": 1.8568992709776961,
          "training error": 1.5279863364738182
         },
         {
          "test error": 1.9114607861794637,
          "training error": 1.5422299290997217
         },
         {
          "test error": 2.2985577061090723,
          "training error": 1.531753687791662
         },
         {
          "test error": 2.534499472031369,
          "training error": 1.444458491130702
         },
         {
          "test error": 2.104446351466519,
          "training error": 1.2180295982742104
         },
         {
          "test error": 1.9272454211401162,
          "training error": 1.7388149832755297
         },
         {
          "test error": 2.7112548996420687,
          "training error": 1.5706422264996156
         },
         {
          "test error": 2.7399825215295466,
          "training error": 1.3875642062729494
         },
         {
          "test error": 2.4619647241404894,
          "training error": 1.421706463175745
         },
         {
          "test error": 1.9696411909225342,
          "training error": 1.058422090817762
         },
         {
          "test error": 1.8907855002584042,
          "training error": 1.6929321309355336
         },
         {
          "test error": 1.5557138719767551,
          "training error": 1.2852462595557328
         },
         {
          "test error": 2.135401544911252,
          "training error": 1.2902659187097187
         },
         {
          "test error": 2.093241099958597,
          "training error": 1.589685436847639
         },
         {
          "test error": 1.980873736109063,
          "training error": 1.2954627930979439
         },
         {
          "test error": 2.0542535544597804,
          "training error": 1.4111525764101855
         },
         {
          "test error": 1.9810150733934595,
          "training error": 1.3447503366918832
         },
         {
          "test error": 2.458172182710429,
          "training error": 1.0646761448565278
         },
         {
          "test error": 2.0396659874378917,
          "training error": 1.6079734105913974
         },
         {
          "test error": 2.6760789377331933,
          "training error": 1.0022764002011018
         },
         {
          "test error": 2.419271213683607,
          "training error": 1.6151401766950508
         },
         {
          "test error": 2.41388308017262,
          "training error": 1.2809595573663881
         },
         {
          "test error": 2.6905596944830523,
          "training error": 1.6509673496725872
         },
         {
          "test error": 1.5935614416092634,
          "training error": 1.5308950064322755
         },
         {
          "test error": 2.018761862552335,
          "training error": 1.5308766445485942
         },
         {
          "test error": 2.0503883856620067,
          "training error": 1.7779472554672042
         },
         {
          "test error": 2.461943381982197,
          "training error": 1.697194917182561
         },
         {
          "test error": 2.55056713118407,
          "training error": 1.1856563099806825
         },
         {
          "test error": 1.9544161027254325,
          "training error": 1.6364754489593674
         },
         {
          "test error": 2.9619992233781267,
          "training error": 1.5710919671782033
         },
         {
          "test error": 1.9818049622630907,
          "training error": 1.4231943795404818
         },
         {
          "test error": 2.0315768674458115,
          "training error": 1.490155292827465
         },
         {
          "test error": 2.117427671422984,
          "training error": 1.126696870412018
         },
         {
          "test error": 2.077907313818992,
          "training error": 1.2687100258305433
         },
         {
          "test error": 2.8539707557403893,
          "training error": 1.107633746360274
         },
         {
          "test error": 1.697245867691809,
          "training error": 1.0603065229554214
         },
         {
          "test error": 2.0595622927942205,
          "training error": 1.807247829838409
         },
         {
          "test error": 2.1106769763146116,
          "training error": 1.632044943257016
         },
         {
          "test error": 2.470458280776269,
          "training error": 1.1062637190558662
         },
         {
          "test error": 2.0017902750740735,
          "training error": 1.3658609299149587
         },
         {
          "test error": 2.450936664677261,
          "training error": 1.221435682054843
         },
         {
          "test error": 1.4901522143662662,
          "training error": 1.3797824082715895
         },
         {
          "test error": 1.7827742874204884,
          "training error": 1.1729427311425336
         },
         {
          "test error": 2.079689826194394,
          "training error": 1.4010038628547306
         },
         {
          "test error": 2.1081372088056876,
          "training error": 1.4946027881684978
         },
         {
          "test error": 1.9188401919356926,
          "training error": 1.518034272558008
         },
         {
          "test error": 1.9104128708672503,
          "training error": 1.4249350196763837
         },
         {
          "test error": 2.0719529596042947,
          "training error": 1.570386835467846
         },
         {
          "test error": 2.3400490797941167,
          "training error": 1.1223887792671612
         },
         {
          "test error": 2.0819349476754745,
          "training error": 1.403576354897374
         },
         {
          "test error": 2.7335798541907663,
          "training error": 1.475010903462082
         },
         {
          "test error": 2.1812060809007074,
          "training error": 1.555127800823555
         },
         {
          "test error": 1.9379852380850346,
          "training error": 1.2704388380206921
         },
         {
          "test error": 1.7784744333530111,
          "training error": 1.3192866276410284
         },
         {
          "test error": 2.280637822536596,
          "training error": 1.5930669529285522
         },
         {
          "test error": 2.815958199416837,
          "training error": 1.6211320726922218
         },
         {
          "test error": 2.0212745805980425,
          "training error": 1.44486394954381
         },
         {
          "test error": 2.011471955985703,
          "training error": 1.0907129550016288
         },
         {
          "test error": 2.33344973004177,
          "training error": 1.402994536051701
         },
         {
          "test error": 2.02746793637473,
          "training error": 1.7022228267154853
         },
         {
          "test error": 2.127890045626807,
          "training error": 1.4732341652228198
         },
         {
          "test error": 2.0715360109511396,
          "training error": 1.5545780168227554
         },
         {
          "test error": 1.8131811605524353,
          "training error": 1.0539860314038387
         },
         {
          "test error": 1.78375772231349,
          "training error": 1.2302480733097796
         },
         {
          "test error": 1.8899863971773356,
          "training error": 1.305621079675436
         },
         {
          "test error": 1.9224799238999444,
          "training error": 1.6988048884943412
         },
         {
          "test error": 2.520787747771465,
          "training error": 1.3435631976893516
         },
         {
          "test error": 2.4677384825824307,
          "training error": 1.3572127881500022
         },
         {
          "test error": 2.0346067101833403,
          "training error": 1.5251108163242
         },
         {
          "test error": 1.8447702842421208,
          "training error": 1.6150303330069051
         },
         {
          "test error": 1.9533337797159567,
          "training error": 1.1500400473233645
         },
         {
          "test error": 2.014483232957133,
          "training error": 1.0434723824916279
         },
         {
          "test error": 1.5558661921952024,
          "training error": 1.589241613514118
         },
         {
          "test error": 2.1902561917819967,
          "training error": 1.5311560037827192
         },
         {
          "test error": 1.6925546795031639,
          "training error": 1.3699662476125583
         },
         {
          "test error": 2.46535980890446,
          "training error": 1.3950946631032317
         },
         {
          "test error": 1.6265757571688086,
          "training error": 1.3867571260678044
         },
         {
          "test error": 2.309698223340791,
          "training error": 1.3752659058491443
         },
         {
          "test error": 2.3017532831191083,
          "training error": 1.595606542912418
         },
         {
          "test error": 1.985414954097688,
          "training error": 1.2166427126428006
         },
         {
          "test error": 2.31086396245946,
          "training error": 1.41708014938571
         },
         {
          "test error": 1.7068351918331106,
          "training error": 1.2286233821071568
         },
         {
          "test error": 2.1700609359950604,
          "training error": 1.4636572847545342
         },
         {
          "test error": 2.1370422739699695,
          "training error": 1.452105456197266
         },
         {
          "test error": 2.1539636435384026,
          "training error": 1.2908173019662188
         },
         {
          "test error": 2.7680450504530594,
          "training error": 1.0305625737839543
         },
         {
          "test error": 1.9605528850899474,
          "training error": 1.5358950760566696
         },
         {
          "test error": 1.8013432568503136,
          "training error": 1.4997731145985052
         },
         {
          "test error": 2.0633279644316516,
          "training error": 1.475775358940072
         },
         {
          "test error": 1.8673100961813696,
          "training error": 1.398398754016003
         },
         {
          "test error": 2.3830059257336496,
          "training error": 1.2880204081512745
         },
         {
          "test error": 2.080602186868402,
          "training error": 1.0132732822342196
         },
         {
          "test error": 2.461358531033757,
          "training error": 1.3597867713301546
         },
         {
          "test error": 2.400492263453253,
          "training error": 1.0915252591717681
         },
         {
          "test error": 2.0401708145385267,
          "training error": 1.391453116335858
         },
         {
          "test error": 1.893314195992786,
          "training error": 1.356371154963385
         },
         {
          "test error": 2.2247771004327372,
          "training error": 1.6783004526822856
         },
         {
          "test error": 2.744880531243863,
          "training error": 1.4249724044879977
         },
         {
          "test error": 1.936240478632233,
          "training error": 1.179561513559168
         },
         {
          "test error": 2.239338375827515,
          "training error": 1.453985461989478
         },
         {
          "test error": 2.5053013814399563,
          "training error": 1.5352553849753026
         },
         {
          "test error": 2.1897601283241164,
          "training error": 1.4952115127894385
         },
         {
          "test error": 1.2792204387832382,
          "training error": 1.9075613516577272
         },
         {
          "test error": 2.379948674118312,
          "training error": 1.162658926258324
         },
         {
          "test error": 2.4178910663032265,
          "training error": 1.3261253668834032
         },
         {
          "test error": 2.535843050158836,
          "training error": 1.3985958057094654
         },
         {
          "test error": 1.9176750664329063,
          "training error": 1.318419877805881
         },
         {
          "test error": 2.4529574162659755,
          "training error": 1.3178416132574748
         },
         {
          "test error": 1.9514529890590515,
          "training error": 1.5436456762106527
         },
         {
          "test error": 1.871373576638902,
          "training error": 1.4114218390025113
         },
         {
          "test error": 1.9559146571802881,
          "training error": 1.3809682032357466
         },
         {
          "test error": 1.8205756198141727,
          "training error": 1.5281304928754336
         },
         {
          "test error": 1.7873091246666981,
          "training error": 1.5476803133544705
         },
         {
          "test error": 1.942663024164573,
          "training error": 1.5683121536620666
         },
         {
          "test error": 2.398354911820243,
          "training error": 1.3813417320061014
         },
         {
          "test error": 2.0869631801310278,
          "training error": 1.4965705403435499
         },
         {
          "test error": 2.0849816515625825,
          "training error": 1.5151031656433311
         },
         {
          "test error": 1.384361850923281,
          "training error": 1.5469070031635663
         },
         {
          "test error": 1.5809749010658947,
          "training error": 1.4728576188968003
         },
         {
          "test error": 2.308220109019902,
          "training error": 1.3974456465201137
         },
         {
          "test error": 2.079589280946023,
          "training error": 1.5145577127190517
         },
         {
          "test error": 2.3298220377526606,
          "training error": 1.5243397389132907
         },
         {
          "test error": 2.407221079779903,
          "training error": 1.4626896027255085
         },
         {
          "test error": 2.2959480404195243,
          "training error": 1.3064187892000538
         },
         {
          "test error": 2.293956626932307,
          "training error": 1.422509532071427
         },
         {
          "test error": 2.444033044734604,
          "training error": 1.2113976883478141
         },
         {
          "test error": 1.7495376099324176,
          "training error": 1.4011253425389858
         },
         {
          "test error": 2.2747846078660574,
          "training error": 1.5959049208547336
         },
         {
          "test error": 2.087328230896176,
          "training error": 1.4549790247822514
         },
         {
          "test error": 2.4608061001533734,
          "training error": 1.6292860705801528
         },
         {
          "test error": 1.897717663109192,
          "training error": 1.2318150236996752
         },
         {
          "test error": 2.0509497256896894,
          "training error": 1.3894088912882305
         },
         {
          "test error": 2.316375540297577,
          "training error": 1.2895219717643784
         },
         {
          "test error": 2.5589938262336878,
          "training error": 1.4432705471491394
         },
         {
          "test error": 2.495018385567158,
          "training error": 1.2694347117737026
         },
         {
          "test error": 1.614510996844064,
          "training error": 1.2959253417821293
         },
         {
          "test error": 2.088884775179947,
          "training error": 1.3784092519140458
         },
         {
          "test error": 2.3199915263378905,
          "training error": 1.2062994430693097
         },
         {
          "test error": 2.267678602011953,
          "training error": 1.3731445643844444
         },
         {
          "test error": 2.636366168533193,
          "training error": 1.3617108725941747
         },
         {
          "test error": 2.2518089809682054,
          "training error": 1.610642404276619
         },
         {
          "test error": 2.228337644870455,
          "training error": 1.3321288971415486
         },
         {
          "test error": 2.5587479514907043,
          "training error": 1.1695480660983395
         },
         {
          "test error": 1.9421718936566394,
          "training error": 1.5289967508885678
         },
         {
          "test error": 1.829389253488797,
          "training error": 1.557717970116
         },
         {
          "test error": 2.427447323976387,
          "training error": 1.2296206941838272
         },
         {
          "test error": 1.6755517025317994,
          "training error": 1.2741183555225382
         },
         {
          "test error": 2.3161265593193114,
          "training error": 1.3941396534036303
         },
         {
          "test error": 1.6021263920663642,
          "training error": 1.1928123132289554
         },
         {
          "test error": 1.8163924396806541,
          "training error": 1.3124418189600169
         },
         {
          "test error": 2.6958738351488187,
          "training error": 1.2824267305864552
         },
         {
          "test error": 2.159912292087096,
          "training error": 1.4455223626112492
         },
         {
          "test error": 2.397853919939452,
          "training error": 1.5344166980804386
         },
         {
          "test error": 2.4528754063469136,
          "training error": 1.4852288829363849
         },
         {
          "test error": 2.12487136612752,
          "training error": 1.288276801007197
         },
         {
          "test error": 1.8289851541564845,
          "training error": 1.5726743101000096
         },
         {
          "test error": 2.2830684613877126,
          "training error": 1.154397163245089
         },
         {
          "test error": 2.0600495002232093,
          "training error": 1.332372106510043
         },
         {
          "test error": 1.826808673541802,
          "training error": 1.4929114795093097
         },
         {
          "test error": 2.600070424006459,
          "training error": 1.6174544507813282
         },
         {
          "test error": 1.8517675967339284,
          "training error": 1.5824984015902481
         },
         {
          "test error": 2.1296902858775946,
          "training error": 1.0958465012722645
         },
         {
          "test error": 2.2891804177688417,
          "training error": 1.3586493910012338
         },
         {
          "test error": 2.137020632065075,
          "training error": 1.401488105427799
         },
         {
          "test error": 2.2711534905075554,
          "training error": 1.1595218990849754
         },
         {
          "test error": 1.897254895187051,
          "training error": 1.5192058885804682
         },
         {
          "test error": 1.8503602884324823,
          "training error": 1.260894850262119
         },
         {
          "test error": 1.7690432627397317,
          "training error": 1.2630526250154837
         },
         {
          "test error": 1.6034843873931548,
          "training error": 1.3669338398504451
         },
         {
          "test error": 2.2477758353112907,
          "training error": 1.290001499310997
         },
         {
          "test error": 2.057951713255427,
          "training error": 1.3126839730517292
         },
         {
          "test error": 2.7681467584175516,
          "training error": 1.302719770202267
         },
         {
          "test error": 2.314331725811764,
          "training error": 1.500779823671065
         },
         {
          "test error": 2.22154963980993,
          "training error": 1.4785806759948965
         },
         {
          "test error": 2.1390845035422164,
          "training error": 1.4898777447473786
         },
         {
          "test error": 2.2410955411911977,
          "training error": 1.5834553103119635
         },
         {
          "test error": 2.0526659237061695,
          "training error": 1.4891668011302395
         },
         {
          "test error": 2.020183510886829,
          "training error": 1.470089445057133
         },
         {
          "test error": 1.7120738246954559,
          "training error": 1.3984515293418505
         },
         {
          "test error": 1.8243453195656698,
          "training error": 1.9510723301608706
         },
         {
          "test error": 2.178336281462699,
          "training error": 1.1695868773313927
         },
         {
          "test error": 1.8741846245155507,
          "training error": 1.3919890738829763
         },
         {
          "test error": 2.515664380646056,
          "training error": 1.3652430442156123
         },
         {
          "test error": 2.3478548926736336,
          "training error": 1.703780586513709
         },
         {
          "test error": 2.2260056162976123,
          "training error": 1.3600482614421359
         },
         {
          "test error": 2.035333151613438,
          "training error": 1.5441956577903975
         },
         {
          "test error": 2.3776507804741884,
          "training error": 1.3750098792604488
         },
         {
          "test error": 3.037719889121979,
          "training error": 1.3762642315363736
         },
         {
          "test error": 1.9712966431213956,
          "training error": 1.1855264241968961
         },
         {
          "test error": 2.0693702117401127,
          "training error": 1.2714480367362604
         },
         {
          "test error": 1.7549303381551002,
          "training error": 1.2691191127274122
         },
         {
          "test error": 1.9074152863665608,
          "training error": 1.543157759303291
         },
         {
          "test error": 1.73977739045267,
          "training error": 1.2312652166526643
         },
         {
          "test error": 1.7325141501605557,
          "training error": 1.3523590120084286
         },
         {
          "test error": 2.2332740957560064,
          "training error": 1.6027102002519071
         }
        ]
       },
       "encoding": {
        "color": {
         "field": "Quantity",
         "type": "nominal"
        },
        "x": {
         "bin": {
          "maxbins": 100
         },
         "field": "estimated metric",
         "type": "quantitative"
        },
        "y": {
         "aggregate": "count",
         "stack": null,
         "type": "quantitative"
        }
       },
       "height": 100,
       "mark": {
        "interpolate": "step",
        "opacity": 0.3,
        "type": "area"
       },
       "transform": [
        {
         "as": [
          "Quantity",
          "estimated metric"
         ],
         "fold": [
          "training error",
          "test error"
         ]
        }
       ]
      },
      "image/png": "[encoded data removed]",
      "text/plain": [
       "<VegaLite 3 object>\n",
       "\n",
       "If you see this message, it means the renderer has not been properly enabled\n",
       "for the frontend that you are using. For more information, see\n",
       "https://altair-viz.github.io/user_guide/troubleshooting.html\n"
      ]
     },
     "execution_count": 23,
     "metadata": {},
     "output_type": "execute_result"
    }
   ],
   "source": [
    "source = pd.DataFrame({\n",
    "    'training error':ê_S,\n",
    "    'test error':ê_T\n",
    "})\n",
    "\n",
    "alt.Chart(source, height=100).transform_fold(\n",
    "    ['training error', 'test error'],\n",
    "    as_=['Quantity', 'estimated metric']\n",
    ").mark_area(\n",
    "    opacity=0.3,\n",
    "    interpolate='step'\n",
    ").encode(\n",
    "    alt.X('estimated metric:Q', bin=alt.Bin(maxbins=100)),\n",
    "    alt.Y('count()', stack=None),\n",
    "    alt.Color('Quantity:N')\n",
    ")"
   ]
  },
  {
   "cell_type": "markdown",
   "metadata": {},
   "source": [
    "## The Geometry of Generalization, Training, and Test Errors"
   ]
  },
  {
   "cell_type": "markdown",
   "metadata": {},
   "source": [
    "We've demonstrated that training error is a poor estimate of generalization error and specifically that it tends to underestimate the generalization error. But why should training error tend to underestimate instead of overestimate? And why is it that the effect is more pronounced when we use a random forest, but much less pronounced when we use linear regression?"
   ]
  },
  {
   "cell_type": "markdown",
   "metadata": {},
   "source": [
    "We're going to draw a picture that will help answer these questions and many more. To start, we'll imagine the space of *all possible functions* of the predictors and we'll call that $\\mathbb F$. So, for example, if there is a single predictor $x$, then you can imagine that space is something like $\\mathbb F = \\{10.2 \\dots, x^2, \\dots \\log(x) + \\frac{1}{x}, \\dots\\}$ so that each element of $\\mathbb F$ is some function of $x$ and every possible function of $x$ (of which there are infinite) is contained in $\\mathbb F$. "
   ]
  },
  {
   "cell_type": "markdown",
   "metadata": {},
   "source": [
    "The the absolute best possible model we could ever have would be \n",
    "\n",
    "$$\n",
    "f^\\dagger = \\underset{f \\in \\mathbb F}{\\text{argmin}} \\ \\  \\mathcal E (f)\n",
    "$$\n",
    "\n",
    "In other words, we'll find the function out of all the possible functions in $\\mathbb F$ that minimizes the generalization error and call that function $f^\\dagger$. By definition, it's not possible to find a better model than that."
   ]
  },
  {
   "cell_type": "markdown",
   "metadata": {},
   "source": [
    "Now we can define the \"distance\" between $f^\\dagger$ and any point $f$ as $\\mathcal E(f) - \\mathcal E(f^\\dagger)$. To simplify things, let's assume that $\\mathcal E(f^\\dagger)$ is 0 so that the generalization error $\\mathcal E(f)$ represents the distance between our estimated model $f$ and the best possible model we could have estimated $f^\\dagger$."
   ]
  },
  {
   "cell_type": "markdown",
   "metadata": {},
   "source": [
    "<img src='gen-err-dist.png' width=400>"
   ]
  },
  {
   "cell_type": "markdown",
   "metadata": {
    "tags": [
     "popout"
    ]
   },
   "source": [
    "In general, there could be multiple functions that simultaneously minimize the generalization error, so $f^\\dagger$ might be a set instead of a single point. We'll illustrate it as a point in these figures because it's easier to understand, but the arguments work the same if you draw it as a space instead. In this case, the \"distances\" are the distance from each point to a boundary of the space.\n",
    "\n",
    "It's also possible that $\\mathcal E(f^\\dagger) \\ne 0$ but there's no point in carrying around the extra $\\mathcal E(f^\\dagger)$ everywhere because when we compare distances (say $f_a \\leftrightarrow f^\\dagger = \\mathcal E(f_a) - \\mathcal E(f^\\dagger)$ vs $f_b \\leftrightarrow f^\\dagger =  \\mathcal E(f_b) - \\mathcal E(f^\\dagger)$), the $\\mathcal E(f^\\dagger)$ term drops out (i.e. we get $\\mathcal E(f_a) - \\mathcal E(f_b))$."
   ]
  },
  {
   "cell_type": "markdown",
   "metadata": {},
   "source": [
    "Now let's consider fitting a model. We don't know what the best possible model $f^\\dagger$ is - for multiple reasons: 1) We can't calculate the expectation over the data-generating distribution because we don't know what that distribution is, and, 2) even if we did, there would be no way to optimize the generalization error over the space of all possible functions. \n",
    "\n",
    "What we do get to observe are the data $X,y$ in the training set $\\mathcal S$. That \"solves\" the problem of not knowing the data-generating distribution in the sense that we can approximate the expectation over the distribution with an average over the observed data points. That's $\\hat {\\mathcal E}_{\\mathcal S}(f)$. Now imagine we could find the function in $\\mathbb F$ that would optimize this training error:  \n",
    "\n",
    "$$\n",
    "f_{\\mathcal S} = \\underset{f \\in \\mathbb F}{\\text{argmin}} \\ \\  \\hat{\\mathcal E}_{\\mathcal S} (f)\n",
    "$$\n",
    "\n",
    "Unfortunately, we also can't find $f_{\\mathcal S}$ because it's not possible (for reasons discussed in previous chapters) to search over the entire space $\\mathbb F$. Thus we restrict our search for a model to some smaller space. We call this the model space $\\mathcal F$, which is the space of all functions that we are willing to consider for our model $f$. For instance, if we are fitting a cubic model $\\hat y_i = a x_i^3 + b x_i^2 + c x_i + d$, we are only considering elements of $\\mathbb F$ that have that particular form. So a function like $\\log(x) + \\frac{1}{x}$ would be in $\\mathbb F$, but not in $\\mathcal F$. Using a smaller model space is a workaround for the second problem because we are substituting $\\mathcal F$ for $\\mathbb F$:\n",
    "\n",
    "$$\n",
    "f = \\underset{f \\in \\mathcal F}{\\text{argmin}} \\ \\  \\hat{\\mathcal E}_{\\mathcal S} (f)\n",
    "$$"
   ]
  },
  {
   "cell_type": "markdown",
   "metadata": {},
   "source": [
    "And this expression neatly represents the three components of the supervised learning problem: 1) the model space $\\mathcal F$, 2) the loss function $\\hat{\\mathcal E}_{\\mathcal S}(f)$, and the optimization algorithm that ends up implementing the $\\text{argmin}$ operation. The result is the fit model $f$."
   ]
  },
  {
   "cell_type": "markdown",
   "metadata": {
    "tags": [
     "popout"
    ]
   },
   "source": [
    "We're used to seeing the loss expressed as $L(y, \\hat y)$, so how is the training error $\\hat{\\mathcal E}_{\\mathcal S}(f)$ the same as that? Well, if the loss function and the evaluation metric are the same, you'll be able to see how $L(y, \\hat y)$ is the same as $\\hat{\\mathcal E}_{\\mathcal S}(f)$ once you write them both out. If the loss and the evaluation metric are *not* the same, then you can think of the loss as an approximation to the evaluation metric. By finding the model that minimizes the loss, we're hoping to find one that does well in terms of the evaluation metric too. \n",
    "\n",
    "$\\hat{\\mathcal E}_{\\mathcal S} (f_\\mathcal S)$ will actually always be 0 assuming $x_i \\ne x_j$ since there is always a function that can perfectly interpolate any finite set of points. Furthermore, there are always an infinite number of interpolating functions, so $f_\\mathcal S$ will actually be a set in its own right. As before, we'll draw it as a point to simplify the presentation."
   ]
  },
  {
   "cell_type": "markdown",
   "metadata": {},
   "source": [
    "Now we can also define a distance between $f_\\mathcal{S}$, the model that theoretically optimizes the training error, and any model $f$ as $\\hat{\\mathcal E}_{\\mathcal S} (f) - \\hat{\\mathcal E}_{\\mathcal S} (f_\\mathcal S)$. And, as before, we can assume $\\hat{\\mathcal E}_{\\mathcal S} (f_\\mathcal S)=0$ so that the training error $\\hat{\\mathcal E}_{\\mathcal S} (f)$ represents the distance between the estimated model $f$ and the model with the best possible training error $f_\\mathcal{S}$.\n",
    "\n",
    "When we solve our optimization problem to find $f$, we're looking for the model in $\\mathcal F$ that minimizes the training error. But since the training error is just the distance between $f$ and $f_{\\mathcal S}$, another way of putting this is that is that we're finding the point in $\\mathcal F$ that is closest to $f_{\\mathcal S}$ (in the hopes that $f_{\\mathcal S}$ is close to $f^\\dagger$).\n",
    "\n",
    "<img src='tr-gen-error.png' width=300>"
   ]
  },
  {
   "cell_type": "markdown",
   "metadata": {},
   "source": [
    "In this figure we see the relationship between $f^\\dagger$ (the best possible model), $f_{\\mathcal S}$ (the model with the best possible training error on the observed data) and $f$ (the model we fit). The only one of these that we actually know is $f$, after we fit it. The rest we have to imagine. We can also observe the training error $\\hat{\\mathcal E}_{\\mathcal S}$, which is the distance from $f$ to $f_\\mathcal{S}$. But what we really want to know is $\\mathcal E$, the distance between $f$ and $f^\\dagger$."
   ]
  },
  {
   "cell_type": "markdown",
   "metadata": {},
   "source": [
    "### Training Set Variability"
   ]
  },
  {
   "cell_type": "markdown",
   "metadata": {},
   "source": [
    "This figure is drawn assuming a particular training set $\\mathcal S$ has been fixed. But the data are random - if we repeated our experiment we would gather slightly different data. $f^\\dagger$ stays fixed since it doesn't depend on the training set, but $f_\\mathcal{S}$ will move around since it does. That, in turn, means $f$ moves around since it's the point in $\\mathcal F$ closest to whatever $f_\\mathcal{S}$ happens to be. Consider these possibilities:"
   ]
  },
  {
   "cell_type": "markdown",
   "metadata": {},
   "source": [
    "<table><tr>\n",
    "    <td><img src=tr-gen-error.png width=200></td>\n",
    "    <td><img src=tr-gen-error-1.png width=200></td>\n",
    "</tr></table>\n",
    "<table><tr>\n",
    "    <td><img src=tr-gen-error-2.png width=200></td>\n",
    "    <td><img src=tr-gen-error-3.png width=200></td>\n",
    "</tr></table>"
   ]
  },
  {
   "cell_type": "markdown",
   "metadata": {},
   "source": [
    "Notice that almost no matter where $f_\\mathcal{S}$ ends up, the training error ends up being less than the generalization error. Sometimes by a lot, sometimes by a little. The reason this happens is that $f$ follows $f_\\mathcal{S}$ around as much as possible, which explains why the training error typically underestimates the generalization error. In fact, if there is *any* point in the model space that is closer to $f_\\mathcal{S}$ than to $f^\\dagger$, the training error must be smaller than the generalization error because that point (or one with even less training error) will be chosen as $f$. Conversely, the generalization error will only be smaller than the training error if there is no point at all in $\\mathcal F$ that is closer to $f_\\mathcal{S}$ than it is to $f^\\dagger$."
   ]
  },
  {
   "cell_type": "markdown",
   "metadata": {},
   "source": [
    "However, $f_\\mathcal{S}$ isn't equally likely to fall anywhere in $\\mathbb F$. In fact, it has a probability distribution that is determined by the joint distribution of $X$ and $Y$. That comes from the definition of $f_\\mathcal{S}$. Since some data are more likely than others, some models out of all possible models are more likely to fit those data the best."
   ]
  },
  {
   "cell_type": "markdown",
   "metadata": {},
   "source": [
    "<img src='tr-dist.png' width=300>"
   ]
  },
  {
   "cell_type": "markdown",
   "metadata": {},
   "source": [
    "In this picture, the grey shaded areas represent regions that $f_\\mathcal{S}$ is more likely to be in. Additionally, as we increase the size of the test set, $f_\\mathcal{S}$ should become more and more concentrated around $f^\\dagger$ since the training data are becoming a better and better approximation of the entire population that the expectation is being taken over. "
   ]
  },
  {
   "cell_type": "markdown",
   "metadata": {},
   "source": [
    "<table><tr>\n",
    "    <td><img src=tr-dist.png width=200></td>\n",
    "    <td><img src=tr-dist-1.png width=200></td>\n",
    "    <td><img src=tr-dist-2.png width=200></td>    \n",
    "    </tr><tr>\n",
    "</tr></table>\n",
    "<img src=tr-dist-underset.png width=600>"
   ]
  },
  {
   "cell_type": "markdown",
   "metadata": {},
   "source": [
    "And, in fact, this is reflected by the average size of the training errors we get in simulations when we vary the size of the training set:"
   ]
  },
  {
   "cell_type": "code",
   "execution_count": 56,
   "metadata": {
    "tags": [
     "hide_output"
    ]
   },
   "outputs": [],
   "source": [
    "from sklearn.model_selection import train_test_split\n",
    "\n",
    "def model_error(model, X, y):\n",
    "    ŷ = model.predict(X)\n",
    "    return metric(y, ŷ)\n",
    "\n",
    "def simulate_model_eval(n_train, n_test):\n",
    "    X,y = data_factory(n_train + n_test)\n",
    "    \n",
    "    X_train, X_test, y_train, y_test = train_test_split(X, y, train_size=n_train)\n",
    "\n",
    "    model = DecisionTreeRegressor(max_depth=3)\n",
    "    model.fit(X_train, y_train)\n",
    "    \n",
    "    train_error = model_error(model, X_train, y_train)\n",
    "    test_error = model_error(model, X_test, y_test)\n",
    "    gen_error = model_error(model, X_future, y_future) # not possible in practice\n",
    "    \n",
    "    return train_error, test_error, gen_error"
   ]
  },
  {
   "cell_type": "code",
   "execution_count": 57,
   "metadata": {},
   "outputs": [],
   "source": [
    "results = [(n_train, n_test, *simulate_model_eval(n_train, n_test))\n",
    "           for n_train in (10,100,1000)\n",
    "               for n_test in (10, 100, 1000)\n",
    "                  for i in range(200)]"
   ]
  },
  {
   "cell_type": "code",
   "execution_count": 58,
   "metadata": {
    "tags": [
     "hide_input"
    ]
   },
   "outputs": [],
   "source": [
    "results = pd.DataFrame(\n",
    "    results, \n",
    "    columns=['Size of Training Set', 'Size of Test Set', 'train', 'test', 'generalization']\n",
    ").melt(\n",
    "    id_vars=['Size of Training Set', 'Size of Test Set'],\n",
    "    var_name='Error Type',\n",
    "    value_name='Error'\n",
    ")"
   ]
  },
  {
   "cell_type": "code",
   "execution_count": 67,
   "metadata": {
    "tags": [
     "hide_input"
    ]
   },
   "outputs": [
    {
     "data": {
      "application/vnd.vegalite.v3+json": {
       "$schema": "https://vega.github.io/schema/vega-lite/v3.4.0.json",
       "config": {
        "mark": {
         "tooltip": null
        },
        "view": {
         "height": 300,
         "width": 400
        }
       },
       "data": {
        "name": "data-07bea52d922857493d93dc3894f36585"
       },
       "datasets": {
        "data-07bea52d922857493d93dc3894f36585": [
         {
          "Error": 0.2992065939622164,
          "Error Type": "train",
          "Size of Test Set": 100,
          "Size of Training Set": 10
         },
         {
          "Error": 0.3285903199292182,
          "Error Type": "train",
          "Size of Test Set": 100,
          "Size of Training Set": 10
         },
         {
          "Error": 0.26912252244621965,
          "Error Type": "train",
          "Size of Test Set": 100,
          "Size of Training Set": 10
         },
         {
          "Error": 0.24792645546516606,
          "Error Type": "train",
          "Size of Test Set": 100,
          "Size of Training Set": 10
         },
         {
          "Error": 0.3378090834258425,
          "Error Type": "train",
          "Size of Test Set": 100,
          "Size of Training Set": 10
         },
         {
          "Error": 0.2820576978775865,
          "Error Type": "train",
          "Size of Test Set": 100,
          "Size of Training Set": 10
         },
         {
          "Error": 0.6695088438578851,
          "Error Type": "train",
          "Size of Test Set": 100,
          "Size of Training Set": 10
         },
         {
          "Error": 0.8198315833194879,
          "Error Type": "train",
          "Size of Test Set": 100,
          "Size of Training Set": 10
         },
         {
          "Error": 0.5771684825700433,
          "Error Type": "train",
          "Size of Test Set": 100,
          "Size of Training Set": 10
         },
         {
          "Error": 0.7152365085884462,
          "Error Type": "train",
          "Size of Test Set": 100,
          "Size of Training Set": 10
         },
         {
          "Error": 0.7393171982592468,
          "Error Type": "train",
          "Size of Test Set": 100,
          "Size of Training Set": 10
         },
         {
          "Error": 0.13502098344679242,
          "Error Type": "train",
          "Size of Test Set": 100,
          "Size of Training Set": 10
         },
         {
          "Error": 1.4406325969794387,
          "Error Type": "train",
          "Size of Test Set": 100,
          "Size of Training Set": 10
         },
         {
          "Error": 0.5522013091383118,
          "Error Type": "train",
          "Size of Test Set": 100,
          "Size of Training Set": 10
         },
         {
          "Error": 0.3239418455009253,
          "Error Type": "train",
          "Size of Test Set": 100,
          "Size of Training Set": 10
         },
         {
          "Error": 0.6181839811547748,
          "Error Type": "train",
          "Size of Test Set": 100,
          "Size of Training Set": 10
         },
         {
          "Error": 0.9950417267614948,
          "Error Type": "train",
          "Size of Test Set": 100,
          "Size of Training Set": 10
         },
         {
          "Error": 0.25730373483258445,
          "Error Type": "train",
          "Size of Test Set": 100,
          "Size of Training Set": 10
         },
         {
          "Error": 0.8759118409337958,
          "Error Type": "train",
          "Size of Test Set": 100,
          "Size of Training Set": 10
         },
         {
          "Error": 0.20540930160107349,
          "Error Type": "train",
          "Size of Test Set": 100,
          "Size of Training Set": 10
         },
         {
          "Error": 0.3720946334997189,
          "Error Type": "train",
          "Size of Test Set": 100,
          "Size of Training Set": 10
         },
         {
          "Error": 0.4000424311035868,
          "Error Type": "train",
          "Size of Test Set": 100,
          "Size of Training Set": 10
         },
         {
          "Error": 0.448020761155895,
          "Error Type": "train",
          "Size of Test Set": 100,
          "Size of Training Set": 10
         },
         {
          "Error": 0.42900990094434477,
          "Error Type": "train",
          "Size of Test Set": 100,
          "Size of Training Set": 10
         },
         {
          "Error": 0.4729458654624105,
          "Error Type": "train",
          "Size of Test Set": 100,
          "Size of Training Set": 10
         },
         {
          "Error": 0.13424658921204818,
          "Error Type": "train",
          "Size of Test Set": 100,
          "Size of Training Set": 10
         },
         {
          "Error": 0.10091836592494965,
          "Error Type": "train",
          "Size of Test Set": 100,
          "Size of Training Set": 10
         },
         {
          "Error": 0.3945081162248726,
          "Error Type": "train",
          "Size of Test Set": 100,
          "Size of Training Set": 10
         },
         {
          "Error": 0.5504304703343909,
          "Error Type": "train",
          "Size of Test Set": 100,
          "Size of Training Set": 10
         },
         {
          "Error": 0.5383835474357188,
          "Error Type": "train",
          "Size of Test Set": 100,
          "Size of Training Set": 10
         },
         {
          "Error": 0.8193997822199861,
          "Error Type": "train",
          "Size of Test Set": 100,
          "Size of Training Set": 10
         },
         {
          "Error": 0.5880389109717591,
          "Error Type": "train",
          "Size of Test Set": 100,
          "Size of Training Set": 10
         },
         {
          "Error": 0.23183217214645424,
          "Error Type": "train",
          "Size of Test Set": 100,
          "Size of Training Set": 10
         },
         {
          "Error": 0.7253988824678206,
          "Error Type": "train",
          "Size of Test Set": 100,
          "Size of Training Set": 10
         },
         {
          "Error": 0.37306533884994486,
          "Error Type": "train",
          "Size of Test Set": 100,
          "Size of Training Set": 10
         },
         {
          "Error": 0.4555435086476628,
          "Error Type": "train",
          "Size of Test Set": 100,
          "Size of Training Set": 10
         },
         {
          "Error": 0.5621989985695229,
          "Error Type": "train",
          "Size of Test Set": 100,
          "Size of Training Set": 10
         },
         {
          "Error": 0.515684931741581,
          "Error Type": "train",
          "Size of Test Set": 100,
          "Size of Training Set": 10
         },
         {
          "Error": 0.4544339840259413,
          "Error Type": "train",
          "Size of Test Set": 100,
          "Size of Training Set": 10
         },
         {
          "Error": 0.4892907414235955,
          "Error Type": "train",
          "Size of Test Set": 100,
          "Size of Training Set": 10
         },
         {
          "Error": 0.5806626400679606,
          "Error Type": "train",
          "Size of Test Set": 100,
          "Size of Training Set": 10
         },
         {
          "Error": 1.279427475924456,
          "Error Type": "train",
          "Size of Test Set": 100,
          "Size of Training Set": 10
         },
         {
          "Error": 0.5389045208860347,
          "Error Type": "train",
          "Size of Test Set": 100,
          "Size of Training Set": 10
         },
         {
          "Error": 0.5431499030098503,
          "Error Type": "train",
          "Size of Test Set": 100,
          "Size of Training Set": 10
         },
         {
          "Error": 0.31101269972405526,
          "Error Type": "train",
          "Size of Test Set": 100,
          "Size of Training Set": 10
         },
         {
          "Error": 0.3162905910096365,
          "Error Type": "train",
          "Size of Test Set": 100,
          "Size of Training Set": 10
         },
         {
          "Error": 0.13027452500513395,
          "Error Type": "train",
          "Size of Test Set": 100,
          "Size of Training Set": 10
         },
         {
          "Error": 1.1231528263086235,
          "Error Type": "train",
          "Size of Test Set": 100,
          "Size of Training Set": 10
         },
         {
          "Error": 0.8757844595581785,
          "Error Type": "train",
          "Size of Test Set": 100,
          "Size of Training Set": 10
         },
         {
          "Error": 0.6864219069595533,
          "Error Type": "train",
          "Size of Test Set": 100,
          "Size of Training Set": 10
         },
         {
          "Error": 0.6653240205619454,
          "Error Type": "train",
          "Size of Test Set": 100,
          "Size of Training Set": 10
         },
         {
          "Error": 1.3361324283527516,
          "Error Type": "train",
          "Size of Test Set": 100,
          "Size of Training Set": 10
         },
         {
          "Error": 0.2868005862406058,
          "Error Type": "train",
          "Size of Test Set": 100,
          "Size of Training Set": 10
         },
         {
          "Error": 0.21165632027353515,
          "Error Type": "train",
          "Size of Test Set": 100,
          "Size of Training Set": 10
         },
         {
          "Error": 1.0365461565618284,
          "Error Type": "train",
          "Size of Test Set": 100,
          "Size of Training Set": 10
         },
         {
          "Error": 0.09950219414185542,
          "Error Type": "train",
          "Size of Test Set": 100,
          "Size of Training Set": 10
         },
         {
          "Error": 0.17683157027127022,
          "Error Type": "train",
          "Size of Test Set": 100,
          "Size of Training Set": 10
         },
         {
          "Error": 0.29003556128781505,
          "Error Type": "train",
          "Size of Test Set": 100,
          "Size of Training Set": 10
         },
         {
          "Error": 0.9095344753907326,
          "Error Type": "train",
          "Size of Test Set": 100,
          "Size of Training Set": 10
         },
         {
          "Error": 0.21986338209678463,
          "Error Type": "train",
          "Size of Test Set": 100,
          "Size of Training Set": 10
         },
         {
          "Error": 0.24084814117633516,
          "Error Type": "train",
          "Size of Test Set": 100,
          "Size of Training Set": 10
         },
         {
          "Error": 0.24369735876557802,
          "Error Type": "train",
          "Size of Test Set": 100,
          "Size of Training Set": 10
         },
         {
          "Error": 0.31981539296762046,
          "Error Type": "train",
          "Size of Test Set": 100,
          "Size of Training Set": 10
         },
         {
          "Error": 0.5972355206048352,
          "Error Type": "train",
          "Size of Test Set": 100,
          "Size of Training Set": 10
         },
         {
          "Error": 0.5849981844295693,
          "Error Type": "train",
          "Size of Test Set": 100,
          "Size of Training Set": 10
         },
         {
          "Error": 0.13866113717237077,
          "Error Type": "train",
          "Size of Test Set": 100,
          "Size of Training Set": 10
         },
         {
          "Error": 0.128439880140279,
          "Error Type": "train",
          "Size of Test Set": 100,
          "Size of Training Set": 10
         },
         {
          "Error": 0.7606761021488737,
          "Error Type": "train",
          "Size of Test Set": 100,
          "Size of Training Set": 10
         },
         {
          "Error": 0.6937881377688905,
          "Error Type": "train",
          "Size of Test Set": 100,
          "Size of Training Set": 10
         },
         {
          "Error": 0.8656470606582921,
          "Error Type": "train",
          "Size of Test Set": 100,
          "Size of Training Set": 10
         },
         {
          "Error": 0.6176011270770934,
          "Error Type": "train",
          "Size of Test Set": 100,
          "Size of Training Set": 10
         },
         {
          "Error": 1.241715304707005,
          "Error Type": "train",
          "Size of Test Set": 100,
          "Size of Training Set": 10
         },
         {
          "Error": 0.2602648334416521,
          "Error Type": "train",
          "Size of Test Set": 100,
          "Size of Training Set": 10
         },
         {
          "Error": 0.7398009732553723,
          "Error Type": "train",
          "Size of Test Set": 100,
          "Size of Training Set": 10
         },
         {
          "Error": 0.4400696445793848,
          "Error Type": "train",
          "Size of Test Set": 100,
          "Size of Training Set": 10
         },
         {
          "Error": 0.5001321906113645,
          "Error Type": "train",
          "Size of Test Set": 100,
          "Size of Training Set": 10
         },
         {
          "Error": 0.5390678786526966,
          "Error Type": "train",
          "Size of Test Set": 100,
          "Size of Training Set": 10
         },
         {
          "Error": 0.25010443811298894,
          "Error Type": "train",
          "Size of Test Set": 100,
          "Size of Training Set": 10
         },
         {
          "Error": 0.5138561548283941,
          "Error Type": "train",
          "Size of Test Set": 100,
          "Size of Training Set": 10
         },
         {
          "Error": 0.6439161784270953,
          "Error Type": "train",
          "Size of Test Set": 100,
          "Size of Training Set": 10
         },
         {
          "Error": 0.559267379379087,
          "Error Type": "train",
          "Size of Test Set": 100,
          "Size of Training Set": 10
         },
         {
          "Error": 0.7617291611487294,
          "Error Type": "train",
          "Size of Test Set": 100,
          "Size of Training Set": 10
         },
         {
          "Error": 0.44263980390196334,
          "Error Type": "train",
          "Size of Test Set": 100,
          "Size of Training Set": 10
         },
         {
          "Error": 0.6583428807809815,
          "Error Type": "train",
          "Size of Test Set": 100,
          "Size of Training Set": 10
         },
         {
          "Error": 0.6487838382607782,
          "Error Type": "train",
          "Size of Test Set": 100,
          "Size of Training Set": 10
         },
         {
          "Error": 0.6537923749319838,
          "Error Type": "train",
          "Size of Test Set": 100,
          "Size of Training Set": 10
         },
         {
          "Error": 0.6263375397042461,
          "Error Type": "train",
          "Size of Test Set": 100,
          "Size of Training Set": 10
         },
         {
          "Error": 0.4082273611424445,
          "Error Type": "train",
          "Size of Test Set": 100,
          "Size of Training Set": 10
         },
         {
          "Error": 0.411059156479513,
          "Error Type": "train",
          "Size of Test Set": 100,
          "Size of Training Set": 10
         },
         {
          "Error": 0.8386856555837443,
          "Error Type": "train",
          "Size of Test Set": 100,
          "Size of Training Set": 10
         },
         {
          "Error": 0.8331807936732151,
          "Error Type": "train",
          "Size of Test Set": 100,
          "Size of Training Set": 10
         },
         {
          "Error": 0.47470896086786984,
          "Error Type": "train",
          "Size of Test Set": 100,
          "Size of Training Set": 10
         },
         {
          "Error": 1.4819307579563663,
          "Error Type": "train",
          "Size of Test Set": 100,
          "Size of Training Set": 10
         },
         {
          "Error": 0.4722657394156512,
          "Error Type": "train",
          "Size of Test Set": 100,
          "Size of Training Set": 10
         },
         {
          "Error": 0.9698912203911757,
          "Error Type": "train",
          "Size of Test Set": 100,
          "Size of Training Set": 10
         },
         {
          "Error": 0.5040361998103673,
          "Error Type": "train",
          "Size of Test Set": 100,
          "Size of Training Set": 10
         },
         {
          "Error": 0.22561993560728263,
          "Error Type": "train",
          "Size of Test Set": 100,
          "Size of Training Set": 10
         },
         {
          "Error": 1.25464873028321,
          "Error Type": "train",
          "Size of Test Set": 100,
          "Size of Training Set": 10
         },
         {
          "Error": 0.4643815282218819,
          "Error Type": "train",
          "Size of Test Set": 100,
          "Size of Training Set": 10
         },
         {
          "Error": 0.6453551938365736,
          "Error Type": "train",
          "Size of Test Set": 100,
          "Size of Training Set": 10
         },
         {
          "Error": 0.48091659024180017,
          "Error Type": "train",
          "Size of Test Set": 100,
          "Size of Training Set": 10
         },
         {
          "Error": 0.5703001169764941,
          "Error Type": "train",
          "Size of Test Set": 100,
          "Size of Training Set": 10
         },
         {
          "Error": 1.2593746366437126,
          "Error Type": "train",
          "Size of Test Set": 100,
          "Size of Training Set": 10
         },
         {
          "Error": 0.5930659120177866,
          "Error Type": "train",
          "Size of Test Set": 100,
          "Size of Training Set": 10
         },
         {
          "Error": 0.39927342099318175,
          "Error Type": "train",
          "Size of Test Set": 100,
          "Size of Training Set": 10
         },
         {
          "Error": 0.5179458410374173,
          "Error Type": "train",
          "Size of Test Set": 100,
          "Size of Training Set": 10
         },
         {
          "Error": 0.6322941096185811,
          "Error Type": "train",
          "Size of Test Set": 100,
          "Size of Training Set": 10
         },
         {
          "Error": 0.9817277461490367,
          "Error Type": "train",
          "Size of Test Set": 100,
          "Size of Training Set": 10
         },
         {
          "Error": 0.23738966622741753,
          "Error Type": "train",
          "Size of Test Set": 100,
          "Size of Training Set": 10
         },
         {
          "Error": 1.2213413672750255,
          "Error Type": "train",
          "Size of Test Set": 100,
          "Size of Training Set": 10
         },
         {
          "Error": 0.08933196232612153,
          "Error Type": "train",
          "Size of Test Set": 100,
          "Size of Training Set": 10
         },
         {
          "Error": 0.5125082296599415,
          "Error Type": "train",
          "Size of Test Set": 100,
          "Size of Training Set": 10
         },
         {
          "Error": 0.44085546309007395,
          "Error Type": "train",
          "Size of Test Set": 100,
          "Size of Training Set": 10
         },
         {
          "Error": 0.38058592953314285,
          "Error Type": "train",
          "Size of Test Set": 100,
          "Size of Training Set": 10
         },
         {
          "Error": 0.41180202876319366,
          "Error Type": "train",
          "Size of Test Set": 100,
          "Size of Training Set": 10
         },
         {
          "Error": 0.41134141859722256,
          "Error Type": "train",
          "Size of Test Set": 100,
          "Size of Training Set": 10
         },
         {
          "Error": 0.836849819599022,
          "Error Type": "train",
          "Size of Test Set": 100,
          "Size of Training Set": 10
         },
         {
          "Error": 0.7700843155393915,
          "Error Type": "train",
          "Size of Test Set": 100,
          "Size of Training Set": 10
         },
         {
          "Error": 0.8509702391155546,
          "Error Type": "train",
          "Size of Test Set": 100,
          "Size of Training Set": 10
         },
         {
          "Error": 0.835678529136926,
          "Error Type": "train",
          "Size of Test Set": 100,
          "Size of Training Set": 10
         },
         {
          "Error": 0.6646041729038533,
          "Error Type": "train",
          "Size of Test Set": 100,
          "Size of Training Set": 10
         },
         {
          "Error": 0.6887913434992087,
          "Error Type": "train",
          "Size of Test Set": 100,
          "Size of Training Set": 10
         },
         {
          "Error": 0.7897311280538492,
          "Error Type": "train",
          "Size of Test Set": 100,
          "Size of Training Set": 10
         },
         {
          "Error": 0.2449070790054467,
          "Error Type": "train",
          "Size of Test Set": 100,
          "Size of Training Set": 10
         },
         {
          "Error": 0.5399355201458282,
          "Error Type": "train",
          "Size of Test Set": 100,
          "Size of Training Set": 10
         },
         {
          "Error": 0.18519391080827666,
          "Error Type": "train",
          "Size of Test Set": 100,
          "Size of Training Set": 10
         },
         {
          "Error": 0.7363837661728461,
          "Error Type": "train",
          "Size of Test Set": 100,
          "Size of Training Set": 10
         },
         {
          "Error": 0.49710653522122267,
          "Error Type": "train",
          "Size of Test Set": 100,
          "Size of Training Set": 10
         },
         {
          "Error": 0.88029821251034,
          "Error Type": "train",
          "Size of Test Set": 100,
          "Size of Training Set": 10
         },
         {
          "Error": 0.4616069184258637,
          "Error Type": "train",
          "Size of Test Set": 100,
          "Size of Training Set": 10
         },
         {
          "Error": 1.444970485733317,
          "Error Type": "train",
          "Size of Test Set": 100,
          "Size of Training Set": 10
         },
         {
          "Error": 0.8699317686443123,
          "Error Type": "train",
          "Size of Test Set": 100,
          "Size of Training Set": 10
         },
         {
          "Error": 0.005006942606651776,
          "Error Type": "train",
          "Size of Test Set": 100,
          "Size of Training Set": 10
         },
         {
          "Error": 1.0138457705963195,
          "Error Type": "train",
          "Size of Test Set": 100,
          "Size of Training Set": 10
         },
         {
          "Error": 0.624657484035699,
          "Error Type": "train",
          "Size of Test Set": 100,
          "Size of Training Set": 10
         },
         {
          "Error": 0.2507492027716364,
          "Error Type": "train",
          "Size of Test Set": 100,
          "Size of Training Set": 10
         },
         {
          "Error": 0.246135368552511,
          "Error Type": "train",
          "Size of Test Set": 100,
          "Size of Training Set": 10
         },
         {
          "Error": 0.793629228547657,
          "Error Type": "train",
          "Size of Test Set": 100,
          "Size of Training Set": 10
         },
         {
          "Error": 0.6456771736695106,
          "Error Type": "train",
          "Size of Test Set": 100,
          "Size of Training Set": 10
         },
         {
          "Error": 0.37637807810045965,
          "Error Type": "train",
          "Size of Test Set": 100,
          "Size of Training Set": 10
         },
         {
          "Error": 0.6577265481225637,
          "Error Type": "train",
          "Size of Test Set": 100,
          "Size of Training Set": 10
         },
         {
          "Error": 0.6795180890046997,
          "Error Type": "train",
          "Size of Test Set": 100,
          "Size of Training Set": 10
         },
         {
          "Error": 0.8122461930754608,
          "Error Type": "train",
          "Size of Test Set": 100,
          "Size of Training Set": 10
         },
         {
          "Error": 0.5458836901271855,
          "Error Type": "train",
          "Size of Test Set": 100,
          "Size of Training Set": 10
         },
         {
          "Error": 0.36003062450307344,
          "Error Type": "train",
          "Size of Test Set": 100,
          "Size of Training Set": 10
         },
         {
          "Error": 0.3364675877050388,
          "Error Type": "train",
          "Size of Test Set": 100,
          "Size of Training Set": 10
         },
         {
          "Error": 0.38026280876351504,
          "Error Type": "train",
          "Size of Test Set": 100,
          "Size of Training Set": 10
         },
         {
          "Error": 1.2060667266554685,
          "Error Type": "train",
          "Size of Test Set": 100,
          "Size of Training Set": 10
         },
         {
          "Error": 1.1815685297275424,
          "Error Type": "train",
          "Size of Test Set": 100,
          "Size of Training Set": 10
         },
         {
          "Error": 0.3654967356706818,
          "Error Type": "train",
          "Size of Test Set": 100,
          "Size of Training Set": 10
         },
         {
          "Error": 1.0403373756579124,
          "Error Type": "train",
          "Size of Test Set": 100,
          "Size of Training Set": 10
         },
         {
          "Error": 0.22666296295781324,
          "Error Type": "train",
          "Size of Test Set": 100,
          "Size of Training Set": 10
         },
         {
          "Error": 0.07007312528054228,
          "Error Type": "train",
          "Size of Test Set": 100,
          "Size of Training Set": 10
         },
         {
          "Error": 1.03566061342679,
          "Error Type": "train",
          "Size of Test Set": 100,
          "Size of Training Set": 10
         },
         {
          "Error": 0.37321434105480067,
          "Error Type": "train",
          "Size of Test Set": 100,
          "Size of Training Set": 10
         },
         {
          "Error": 0.22226920883225984,
          "Error Type": "train",
          "Size of Test Set": 100,
          "Size of Training Set": 10
         },
         {
          "Error": 0.5182057529064084,
          "Error Type": "train",
          "Size of Test Set": 100,
          "Size of Training Set": 10
         },
         {
          "Error": 0.6962202347641011,
          "Error Type": "train",
          "Size of Test Set": 100,
          "Size of Training Set": 10
         },
         {
          "Error": 0.31945907774942733,
          "Error Type": "train",
          "Size of Test Set": 100,
          "Size of Training Set": 10
         },
         {
          "Error": 0.23315777114655925,
          "Error Type": "train",
          "Size of Test Set": 100,
          "Size of Training Set": 10
         },
         {
          "Error": 0.3970697239991836,
          "Error Type": "train",
          "Size of Test Set": 100,
          "Size of Training Set": 10
         },
         {
          "Error": 0.3716993783506483,
          "Error Type": "train",
          "Size of Test Set": 100,
          "Size of Training Set": 10
         },
         {
          "Error": 0.8154358247597271,
          "Error Type": "train",
          "Size of Test Set": 100,
          "Size of Training Set": 10
         },
         {
          "Error": 0.7867917629907974,
          "Error Type": "train",
          "Size of Test Set": 100,
          "Size of Training Set": 10
         },
         {
          "Error": 0.7995293063319874,
          "Error Type": "train",
          "Size of Test Set": 100,
          "Size of Training Set": 10
         },
         {
          "Error": 0.48504564471286005,
          "Error Type": "train",
          "Size of Test Set": 100,
          "Size of Training Set": 10
         },
         {
          "Error": 0.6220822983114739,
          "Error Type": "train",
          "Size of Test Set": 100,
          "Size of Training Set": 10
         },
         {
          "Error": 0.24497786650952955,
          "Error Type": "train",
          "Size of Test Set": 100,
          "Size of Training Set": 10
         },
         {
          "Error": 0.2762067325946481,
          "Error Type": "train",
          "Size of Test Set": 100,
          "Size of Training Set": 10
         },
         {
          "Error": 1.0074917157478611,
          "Error Type": "train",
          "Size of Test Set": 100,
          "Size of Training Set": 10
         },
         {
          "Error": 0.6004718674938581,
          "Error Type": "train",
          "Size of Test Set": 100,
          "Size of Training Set": 10
         },
         {
          "Error": 0.2738585714428735,
          "Error Type": "train",
          "Size of Test Set": 100,
          "Size of Training Set": 10
         },
         {
          "Error": 1.1539698638117064,
          "Error Type": "train",
          "Size of Test Set": 100,
          "Size of Training Set": 10
         },
         {
          "Error": 0.21485596771805465,
          "Error Type": "train",
          "Size of Test Set": 100,
          "Size of Training Set": 10
         },
         {
          "Error": 0.9784076941104434,
          "Error Type": "train",
          "Size of Test Set": 100,
          "Size of Training Set": 10
         },
         {
          "Error": 0.5764079319413018,
          "Error Type": "train",
          "Size of Test Set": 100,
          "Size of Training Set": 10
         },
         {
          "Error": 0.7022513536921349,
          "Error Type": "train",
          "Size of Test Set": 100,
          "Size of Training Set": 10
         },
         {
          "Error": 0.38765251595094474,
          "Error Type": "train",
          "Size of Test Set": 100,
          "Size of Training Set": 10
         },
         {
          "Error": 0.8560010824060754,
          "Error Type": "train",
          "Size of Test Set": 100,
          "Size of Training Set": 10
         },
         {
          "Error": 1.0341811093489681,
          "Error Type": "train",
          "Size of Test Set": 100,
          "Size of Training Set": 10
         },
         {
          "Error": 0.35615213378822885,
          "Error Type": "train",
          "Size of Test Set": 100,
          "Size of Training Set": 10
         },
         {
          "Error": 1.3916120902349562,
          "Error Type": "train",
          "Size of Test Set": 100,
          "Size of Training Set": 10
         },
         {
          "Error": 0.5004858715639331,
          "Error Type": "train",
          "Size of Test Set": 100,
          "Size of Training Set": 10
         },
         {
          "Error": 0.28240238730153217,
          "Error Type": "train",
          "Size of Test Set": 100,
          "Size of Training Set": 10
         },
         {
          "Error": 0.9595699283375557,
          "Error Type": "train",
          "Size of Test Set": 100,
          "Size of Training Set": 10
         },
         {
          "Error": 0.2238524337135222,
          "Error Type": "train",
          "Size of Test Set": 100,
          "Size of Training Set": 10
         },
         {
          "Error": 0.42330652826526666,
          "Error Type": "train",
          "Size of Test Set": 100,
          "Size of Training Set": 10
         },
         {
          "Error": 0.24374566813793033,
          "Error Type": "train",
          "Size of Test Set": 100,
          "Size of Training Set": 10
         },
         {
          "Error": 0.8262563587441972,
          "Error Type": "train",
          "Size of Test Set": 100,
          "Size of Training Set": 10
         },
         {
          "Error": 0.2082615003758058,
          "Error Type": "train",
          "Size of Test Set": 100,
          "Size of Training Set": 10
         },
         {
          "Error": 0.42012114126380473,
          "Error Type": "train",
          "Size of Test Set": 100,
          "Size of Training Set": 10
         },
         {
          "Error": 0.7396065574711151,
          "Error Type": "train",
          "Size of Test Set": 100,
          "Size of Training Set": 10
         },
         {
          "Error": 0.4215903254196558,
          "Error Type": "train",
          "Size of Test Set": 100,
          "Size of Training Set": 10
         },
         {
          "Error": 1.2125123608251243,
          "Error Type": "train",
          "Size of Test Set": 100,
          "Size of Training Set": 10
         },
         {
          "Error": 0.653181479653212,
          "Error Type": "train",
          "Size of Test Set": 100,
          "Size of Training Set": 10
         },
         {
          "Error": 0.6733331838932909,
          "Error Type": "train",
          "Size of Test Set": 100,
          "Size of Training Set": 10
         },
         {
          "Error": 0.7558810205865715,
          "Error Type": "train",
          "Size of Test Set": 100,
          "Size of Training Set": 10
         },
         {
          "Error": 0.20857133634726802,
          "Error Type": "train",
          "Size of Test Set": 100,
          "Size of Training Set": 10
         },
         {
          "Error": 0.43509144482915624,
          "Error Type": "train",
          "Size of Test Set": 100,
          "Size of Training Set": 10
         },
         {
          "Error": 0.48759703823944756,
          "Error Type": "train",
          "Size of Test Set": 100,
          "Size of Training Set": 10
         },
         {
          "Error": 1.267394679111043,
          "Error Type": "train",
          "Size of Test Set": 100,
          "Size of Training Set": 100
         },
         {
          "Error": 1.6757645026002916,
          "Error Type": "train",
          "Size of Test Set": 100,
          "Size of Training Set": 100
         },
         {
          "Error": 1.3590991934510999,
          "Error Type": "train",
          "Size of Test Set": 100,
          "Size of Training Set": 100
         },
         {
          "Error": 1.6643784330665232,
          "Error Type": "train",
          "Size of Test Set": 100,
          "Size of Training Set": 100
         },
         {
          "Error": 1.6288781173612257,
          "Error Type": "train",
          "Size of Test Set": 100,
          "Size of Training Set": 100
         },
         {
          "Error": 1.5075870605442179,
          "Error Type": "train",
          "Size of Test Set": 100,
          "Size of Training Set": 100
         },
         {
          "Error": 1.636453373090674,
          "Error Type": "train",
          "Size of Test Set": 100,
          "Size of Training Set": 100
         },
         {
          "Error": 1.7991653612577267,
          "Error Type": "train",
          "Size of Test Set": 100,
          "Size of Training Set": 100
         },
         {
          "Error": 1.5512884910363878,
          "Error Type": "train",
          "Size of Test Set": 100,
          "Size of Training Set": 100
         },
         {
          "Error": 1.5675250920562231,
          "Error Type": "train",
          "Size of Test Set": 100,
          "Size of Training Set": 100
         },
         {
          "Error": 1.6487515526731755,
          "Error Type": "train",
          "Size of Test Set": 100,
          "Size of Training Set": 100
         },
         {
          "Error": 1.6189286602785982,
          "Error Type": "train",
          "Size of Test Set": 100,
          "Size of Training Set": 100
         },
         {
          "Error": 1.5146915890511559,
          "Error Type": "train",
          "Size of Test Set": 100,
          "Size of Training Set": 100
         },
         {
          "Error": 1.4888406666679144,
          "Error Type": "train",
          "Size of Test Set": 100,
          "Size of Training Set": 100
         },
         {
          "Error": 1.5141572285965479,
          "Error Type": "train",
          "Size of Test Set": 100,
          "Size of Training Set": 100
         },
         {
          "Error": 1.6764432368209785,
          "Error Type": "train",
          "Size of Test Set": 100,
          "Size of Training Set": 100
         },
         {
          "Error": 1.871612326209921,
          "Error Type": "train",
          "Size of Test Set": 100,
          "Size of Training Set": 100
         },
         {
          "Error": 1.562640781070076,
          "Error Type": "train",
          "Size of Test Set": 100,
          "Size of Training Set": 100
         },
         {
          "Error": 1.686534259013459,
          "Error Type": "train",
          "Size of Test Set": 100,
          "Size of Training Set": 100
         },
         {
          "Error": 1.7217646567669462,
          "Error Type": "train",
          "Size of Test Set": 100,
          "Size of Training Set": 100
         },
         {
          "Error": 1.5558291626997167,
          "Error Type": "train",
          "Size of Test Set": 100,
          "Size of Training Set": 100
         },
         {
          "Error": 1.726353958217993,
          "Error Type": "train",
          "Size of Test Set": 100,
          "Size of Training Set": 100
         },
         {
          "Error": 1.8331376105530912,
          "Error Type": "train",
          "Size of Test Set": 100,
          "Size of Training Set": 100
         },
         {
          "Error": 1.4528784985839696,
          "Error Type": "train",
          "Size of Test Set": 100,
          "Size of Training Set": 100
         },
         {
          "Error": 1.675401915283291,
          "Error Type": "train",
          "Size of Test Set": 100,
          "Size of Training Set": 100
         },
         {
          "Error": 1.7031244378190988,
          "Error Type": "train",
          "Size of Test Set": 100,
          "Size of Training Set": 100
         },
         {
          "Error": 1.4683729933498417,
          "Error Type": "train",
          "Size of Test Set": 100,
          "Size of Training Set": 100
         },
         {
          "Error": 1.743271808127988,
          "Error Type": "train",
          "Size of Test Set": 100,
          "Size of Training Set": 100
         },
         {
          "Error": 1.6717014130589438,
          "Error Type": "train",
          "Size of Test Set": 100,
          "Size of Training Set": 100
         },
         {
          "Error": 1.7047742070009329,
          "Error Type": "train",
          "Size of Test Set": 100,
          "Size of Training Set": 100
         },
         {
          "Error": 1.5676634783061356,
          "Error Type": "train",
          "Size of Test Set": 100,
          "Size of Training Set": 100
         },
         {
          "Error": 1.7942417381786762,
          "Error Type": "train",
          "Size of Test Set": 100,
          "Size of Training Set": 100
         },
         {
          "Error": 1.453582348912548,
          "Error Type": "train",
          "Size of Test Set": 100,
          "Size of Training Set": 100
         },
         {
          "Error": 1.7584797311874483,
          "Error Type": "train",
          "Size of Test Set": 100,
          "Size of Training Set": 100
         },
         {
          "Error": 1.4395759556758767,
          "Error Type": "train",
          "Size of Test Set": 100,
          "Size of Training Set": 100
         },
         {
          "Error": 1.6945113007131547,
          "Error Type": "train",
          "Size of Test Set": 100,
          "Size of Training Set": 100
         },
         {
          "Error": 1.6603121357284112,
          "Error Type": "train",
          "Size of Test Set": 100,
          "Size of Training Set": 100
         },
         {
          "Error": 1.6707617420244896,
          "Error Type": "train",
          "Size of Test Set": 100,
          "Size of Training Set": 100
         },
         {
          "Error": 1.6036691982797644,
          "Error Type": "train",
          "Size of Test Set": 100,
          "Size of Training Set": 100
         },
         {
          "Error": 1.642629589561779,
          "Error Type": "train",
          "Size of Test Set": 100,
          "Size of Training Set": 100
         },
         {
          "Error": 1.515871359216658,
          "Error Type": "train",
          "Size of Test Set": 100,
          "Size of Training Set": 100
         },
         {
          "Error": 1.439741569451134,
          "Error Type": "train",
          "Size of Test Set": 100,
          "Size of Training Set": 100
         },
         {
          "Error": 1.7371533878651866,
          "Error Type": "train",
          "Size of Test Set": 100,
          "Size of Training Set": 100
         },
         {
          "Error": 1.6199007735756268,
          "Error Type": "train",
          "Size of Test Set": 100,
          "Size of Training Set": 100
         },
         {
          "Error": 1.3855495770427853,
          "Error Type": "train",
          "Size of Test Set": 100,
          "Size of Training Set": 100
         },
         {
          "Error": 1.4434936733854336,
          "Error Type": "train",
          "Size of Test Set": 100,
          "Size of Training Set": 100
         },
         {
          "Error": 1.3868225129647884,
          "Error Type": "train",
          "Size of Test Set": 100,
          "Size of Training Set": 100
         },
         {
          "Error": 1.5026631477586918,
          "Error Type": "train",
          "Size of Test Set": 100,
          "Size of Training Set": 100
         },
         {
          "Error": 1.5460051051850985,
          "Error Type": "train",
          "Size of Test Set": 100,
          "Size of Training Set": 100
         },
         {
          "Error": 1.5310567640344375,
          "Error Type": "train",
          "Size of Test Set": 100,
          "Size of Training Set": 100
         },
         {
          "Error": 1.587564277373741,
          "Error Type": "train",
          "Size of Test Set": 100,
          "Size of Training Set": 100
         },
         {
          "Error": 1.3200910039387577,
          "Error Type": "train",
          "Size of Test Set": 100,
          "Size of Training Set": 100
         },
         {
          "Error": 1.6626192068503014,
          "Error Type": "train",
          "Size of Test Set": 100,
          "Size of Training Set": 100
         },
         {
          "Error": 1.6282790256655233,
          "Error Type": "train",
          "Size of Test Set": 100,
          "Size of Training Set": 100
         },
         {
          "Error": 1.6714232442136987,
          "Error Type": "train",
          "Size of Test Set": 100,
          "Size of Training Set": 100
         },
         {
          "Error": 1.6118344372452045,
          "Error Type": "train",
          "Size of Test Set": 100,
          "Size of Training Set": 100
         },
         {
          "Error": 1.560049447735015,
          "Error Type": "train",
          "Size of Test Set": 100,
          "Size of Training Set": 100
         },
         {
          "Error": 1.7780716249844153,
          "Error Type": "train",
          "Size of Test Set": 100,
          "Size of Training Set": 100
         },
         {
          "Error": 1.521680703057993,
          "Error Type": "train",
          "Size of Test Set": 100,
          "Size of Training Set": 100
         },
         {
          "Error": 1.4332522317501366,
          "Error Type": "train",
          "Size of Test Set": 100,
          "Size of Training Set": 100
         },
         {
          "Error": 1.614033129820751,
          "Error Type": "train",
          "Size of Test Set": 100,
          "Size of Training Set": 100
         },
         {
          "Error": 1.62587011869253,
          "Error Type": "train",
          "Size of Test Set": 100,
          "Size of Training Set": 100
         },
         {
          "Error": 1.6608635910294445,
          "Error Type": "train",
          "Size of Test Set": 100,
          "Size of Training Set": 100
         },
         {
          "Error": 1.4861282323337186,
          "Error Type": "train",
          "Size of Test Set": 100,
          "Size of Training Set": 100
         },
         {
          "Error": 1.5275529646488815,
          "Error Type": "train",
          "Size of Test Set": 100,
          "Size of Training Set": 100
         },
         {
          "Error": 1.589633052930774,
          "Error Type": "train",
          "Size of Test Set": 100,
          "Size of Training Set": 100
         },
         {
          "Error": 1.4999754442356459,
          "Error Type": "train",
          "Size of Test Set": 100,
          "Size of Training Set": 100
         },
         {
          "Error": 1.55011802891401,
          "Error Type": "train",
          "Size of Test Set": 100,
          "Size of Training Set": 100
         },
         {
          "Error": 1.6454467959565346,
          "Error Type": "train",
          "Size of Test Set": 100,
          "Size of Training Set": 100
         },
         {
          "Error": 1.5283097496413816,
          "Error Type": "train",
          "Size of Test Set": 100,
          "Size of Training Set": 100
         },
         {
          "Error": 1.5464781966280048,
          "Error Type": "train",
          "Size of Test Set": 100,
          "Size of Training Set": 100
         },
         {
          "Error": 1.5409919062935031,
          "Error Type": "train",
          "Size of Test Set": 100,
          "Size of Training Set": 100
         },
         {
          "Error": 1.476222376135407,
          "Error Type": "train",
          "Size of Test Set": 100,
          "Size of Training Set": 100
         },
         {
          "Error": 1.44188750231428,
          "Error Type": "train",
          "Size of Test Set": 100,
          "Size of Training Set": 100
         },
         {
          "Error": 1.6353711613071296,
          "Error Type": "train",
          "Size of Test Set": 100,
          "Size of Training Set": 100
         },
         {
          "Error": 1.579346816119673,
          "Error Type": "train",
          "Size of Test Set": 100,
          "Size of Training Set": 100
         },
         {
          "Error": 1.7384629246538728,
          "Error Type": "train",
          "Size of Test Set": 100,
          "Size of Training Set": 100
         },
         {
          "Error": 1.3772102307255338,
          "Error Type": "train",
          "Size of Test Set": 100,
          "Size of Training Set": 100
         },
         {
          "Error": 1.6750041023451465,
          "Error Type": "train",
          "Size of Test Set": 100,
          "Size of Training Set": 100
         },
         {
          "Error": 1.609321085377084,
          "Error Type": "train",
          "Size of Test Set": 100,
          "Size of Training Set": 100
         },
         {
          "Error": 1.5756977529831628,
          "Error Type": "train",
          "Size of Test Set": 100,
          "Size of Training Set": 100
         },
         {
          "Error": 1.7296414756418332,
          "Error Type": "train",
          "Size of Test Set": 100,
          "Size of Training Set": 100
         },
         {
          "Error": 1.5132116179648711,
          "Error Type": "train",
          "Size of Test Set": 100,
          "Size of Training Set": 100
         },
         {
          "Error": 1.5633349999856159,
          "Error Type": "train",
          "Size of Test Set": 100,
          "Size of Training Set": 100
         },
         {
          "Error": 1.6757366788902468,
          "Error Type": "train",
          "Size of Test Set": 100,
          "Size of Training Set": 100
         },
         {
          "Error": 1.63683668649974,
          "Error Type": "train",
          "Size of Test Set": 100,
          "Size of Training Set": 100
         },
         {
          "Error": 1.3061860227027622,
          "Error Type": "train",
          "Size of Test Set": 100,
          "Size of Training Set": 100
         },
         {
          "Error": 1.7094303804426312,
          "Error Type": "train",
          "Size of Test Set": 100,
          "Size of Training Set": 100
         },
         {
          "Error": 1.6565698304080236,
          "Error Type": "train",
          "Size of Test Set": 100,
          "Size of Training Set": 100
         },
         {
          "Error": 1.4361486794879486,
          "Error Type": "train",
          "Size of Test Set": 100,
          "Size of Training Set": 100
         },
         {
          "Error": 1.5345975930268267,
          "Error Type": "train",
          "Size of Test Set": 100,
          "Size of Training Set": 100
         },
         {
          "Error": 1.3878963309239873,
          "Error Type": "train",
          "Size of Test Set": 100,
          "Size of Training Set": 100
         },
         {
          "Error": 1.5268331339385108,
          "Error Type": "train",
          "Size of Test Set": 100,
          "Size of Training Set": 100
         },
         {
          "Error": 1.753265150850811,
          "Error Type": "train",
          "Size of Test Set": 100,
          "Size of Training Set": 100
         },
         {
          "Error": 1.675999267771912,
          "Error Type": "train",
          "Size of Test Set": 100,
          "Size of Training Set": 100
         },
         {
          "Error": 1.4918257457503834,
          "Error Type": "train",
          "Size of Test Set": 100,
          "Size of Training Set": 100
         },
         {
          "Error": 1.5775992611837715,
          "Error Type": "train",
          "Size of Test Set": 100,
          "Size of Training Set": 100
         },
         {
          "Error": 1.520592703156781,
          "Error Type": "train",
          "Size of Test Set": 100,
          "Size of Training Set": 100
         },
         {
          "Error": 1.6484939085681976,
          "Error Type": "train",
          "Size of Test Set": 100,
          "Size of Training Set": 100
         },
         {
          "Error": 1.5750001959354523,
          "Error Type": "train",
          "Size of Test Set": 100,
          "Size of Training Set": 100
         },
         {
          "Error": 1.5153541788132625,
          "Error Type": "train",
          "Size of Test Set": 100,
          "Size of Training Set": 100
         },
         {
          "Error": 1.406127849716182,
          "Error Type": "train",
          "Size of Test Set": 100,
          "Size of Training Set": 100
         },
         {
          "Error": 1.6154975037688792,
          "Error Type": "train",
          "Size of Test Set": 100,
          "Size of Training Set": 100
         },
         {
          "Error": 1.595427868732549,
          "Error Type": "train",
          "Size of Test Set": 100,
          "Size of Training Set": 100
         },
         {
          "Error": 1.431114916776249,
          "Error Type": "train",
          "Size of Test Set": 100,
          "Size of Training Set": 100
         },
         {
          "Error": 1.7445925325515652,
          "Error Type": "train",
          "Size of Test Set": 100,
          "Size of Training Set": 100
         },
         {
          "Error": 1.553524288108095,
          "Error Type": "train",
          "Size of Test Set": 100,
          "Size of Training Set": 100
         },
         {
          "Error": 1.427408501782813,
          "Error Type": "train",
          "Size of Test Set": 100,
          "Size of Training Set": 100
         },
         {
          "Error": 1.5276679574579806,
          "Error Type": "train",
          "Size of Test Set": 100,
          "Size of Training Set": 100
         },
         {
          "Error": 1.558308165345415,
          "Error Type": "train",
          "Size of Test Set": 100,
          "Size of Training Set": 100
         },
         {
          "Error": 1.4776945059472888,
          "Error Type": "train",
          "Size of Test Set": 100,
          "Size of Training Set": 100
         },
         {
          "Error": 1.7638950702149403,
          "Error Type": "train",
          "Size of Test Set": 100,
          "Size of Training Set": 100
         },
         {
          "Error": 1.558550295767295,
          "Error Type": "train",
          "Size of Test Set": 100,
          "Size of Training Set": 100
         },
         {
          "Error": 1.4416133640559652,
          "Error Type": "train",
          "Size of Test Set": 100,
          "Size of Training Set": 100
         },
         {
          "Error": 1.4230401650353275,
          "Error Type": "train",
          "Size of Test Set": 100,
          "Size of Training Set": 100
         },
         {
          "Error": 1.4984422218192939,
          "Error Type": "train",
          "Size of Test Set": 100,
          "Size of Training Set": 100
         },
         {
          "Error": 1.6415827012514959,
          "Error Type": "train",
          "Size of Test Set": 100,
          "Size of Training Set": 100
         },
         {
          "Error": 1.8181197410205012,
          "Error Type": "train",
          "Size of Test Set": 100,
          "Size of Training Set": 100
         },
         {
          "Error": 1.5512700711960807,
          "Error Type": "train",
          "Size of Test Set": 100,
          "Size of Training Set": 100
         },
         {
          "Error": 1.5015867756873973,
          "Error Type": "train",
          "Size of Test Set": 100,
          "Size of Training Set": 100
         },
         {
          "Error": 1.3817179337894265,
          "Error Type": "train",
          "Size of Test Set": 100,
          "Size of Training Set": 100
         },
         {
          "Error": 1.4983787090138625,
          "Error Type": "train",
          "Size of Test Set": 100,
          "Size of Training Set": 100
         },
         {
          "Error": 1.675445757456053,
          "Error Type": "train",
          "Size of Test Set": 100,
          "Size of Training Set": 100
         },
         {
          "Error": 1.5302603674111892,
          "Error Type": "train",
          "Size of Test Set": 100,
          "Size of Training Set": 100
         },
         {
          "Error": 1.6755323267713698,
          "Error Type": "train",
          "Size of Test Set": 100,
          "Size of Training Set": 100
         },
         {
          "Error": 1.5587761592204907,
          "Error Type": "train",
          "Size of Test Set": 100,
          "Size of Training Set": 100
         },
         {
          "Error": 1.5664985730473557,
          "Error Type": "train",
          "Size of Test Set": 100,
          "Size of Training Set": 100
         },
         {
          "Error": 1.5061670538107168,
          "Error Type": "train",
          "Size of Test Set": 100,
          "Size of Training Set": 100
         },
         {
          "Error": 1.4281588187430305,
          "Error Type": "train",
          "Size of Test Set": 100,
          "Size of Training Set": 100
         },
         {
          "Error": 1.7866798728794846,
          "Error Type": "train",
          "Size of Test Set": 100,
          "Size of Training Set": 100
         },
         {
          "Error": 1.6670166046856396,
          "Error Type": "train",
          "Size of Test Set": 100,
          "Size of Training Set": 100
         },
         {
          "Error": 1.748092887073239,
          "Error Type": "train",
          "Size of Test Set": 100,
          "Size of Training Set": 100
         },
         {
          "Error": 1.401287223925006,
          "Error Type": "train",
          "Size of Test Set": 100,
          "Size of Training Set": 100
         },
         {
          "Error": 1.4841739870941313,
          "Error Type": "train",
          "Size of Test Set": 100,
          "Size of Training Set": 100
         },
         {
          "Error": 1.4595200258718035,
          "Error Type": "train",
          "Size of Test Set": 100,
          "Size of Training Set": 100
         },
         {
          "Error": 1.587109236199529,
          "Error Type": "train",
          "Size of Test Set": 100,
          "Size of Training Set": 100
         },
         {
          "Error": 1.6169909894807228,
          "Error Type": "train",
          "Size of Test Set": 100,
          "Size of Training Set": 100
         },
         {
          "Error": 1.6434699001512683,
          "Error Type": "train",
          "Size of Test Set": 100,
          "Size of Training Set": 100
         },
         {
          "Error": 1.6719041912716697,
          "Error Type": "train",
          "Size of Test Set": 100,
          "Size of Training Set": 100
         },
         {
          "Error": 1.5813475870371991,
          "Error Type": "train",
          "Size of Test Set": 100,
          "Size of Training Set": 100
         },
         {
          "Error": 1.4912466758845202,
          "Error Type": "train",
          "Size of Test Set": 100,
          "Size of Training Set": 100
         },
         {
          "Error": 1.430829271053701,
          "Error Type": "train",
          "Size of Test Set": 100,
          "Size of Training Set": 100
         },
         {
          "Error": 1.5594917119162957,
          "Error Type": "train",
          "Size of Test Set": 100,
          "Size of Training Set": 100
         },
         {
          "Error": 1.6132187428384852,
          "Error Type": "train",
          "Size of Test Set": 100,
          "Size of Training Set": 100
         },
         {
          "Error": 1.4853051358115306,
          "Error Type": "train",
          "Size of Test Set": 100,
          "Size of Training Set": 100
         },
         {
          "Error": 1.453857809239023,
          "Error Type": "train",
          "Size of Test Set": 100,
          "Size of Training Set": 100
         },
         {
          "Error": 1.4690218264713293,
          "Error Type": "train",
          "Size of Test Set": 100,
          "Size of Training Set": 100
         },
         {
          "Error": 1.5234751724592208,
          "Error Type": "train",
          "Size of Test Set": 100,
          "Size of Training Set": 100
         },
         {
          "Error": 1.4484467873416262,
          "Error Type": "train",
          "Size of Test Set": 100,
          "Size of Training Set": 100
         },
         {
          "Error": 1.7396293233139546,
          "Error Type": "train",
          "Size of Test Set": 100,
          "Size of Training Set": 100
         },
         {
          "Error": 1.7398677359419998,
          "Error Type": "train",
          "Size of Test Set": 100,
          "Size of Training Set": 100
         },
         {
          "Error": 1.5299432009045506,
          "Error Type": "train",
          "Size of Test Set": 100,
          "Size of Training Set": 100
         },
         {
          "Error": 1.583348452318904,
          "Error Type": "train",
          "Size of Test Set": 100,
          "Size of Training Set": 100
         },
         {
          "Error": 1.4616502081936007,
          "Error Type": "train",
          "Size of Test Set": 100,
          "Size of Training Set": 100
         },
         {
          "Error": 1.5523466427854828,
          "Error Type": "train",
          "Size of Test Set": 100,
          "Size of Training Set": 100
         },
         {
          "Error": 1.5158116868831908,
          "Error Type": "train",
          "Size of Test Set": 100,
          "Size of Training Set": 100
         },
         {
          "Error": 1.5424124563003494,
          "Error Type": "train",
          "Size of Test Set": 100,
          "Size of Training Set": 100
         },
         {
          "Error": 1.7361750518313783,
          "Error Type": "train",
          "Size of Test Set": 100,
          "Size of Training Set": 100
         },
         {
          "Error": 1.4035576922981214,
          "Error Type": "train",
          "Size of Test Set": 100,
          "Size of Training Set": 100
         },
         {
          "Error": 1.5533302772189885,
          "Error Type": "train",
          "Size of Test Set": 100,
          "Size of Training Set": 100
         },
         {
          "Error": 1.6157918580089277,
          "Error Type": "train",
          "Size of Test Set": 100,
          "Size of Training Set": 100
         },
         {
          "Error": 1.5067137960715835,
          "Error Type": "train",
          "Size of Test Set": 100,
          "Size of Training Set": 100
         },
         {
          "Error": 1.4640052915879616,
          "Error Type": "train",
          "Size of Test Set": 100,
          "Size of Training Set": 100
         },
         {
          "Error": 1.560552958071501,
          "Error Type": "train",
          "Size of Test Set": 100,
          "Size of Training Set": 100
         },
         {
          "Error": 1.5311234633763178,
          "Error Type": "train",
          "Size of Test Set": 100,
          "Size of Training Set": 100
         },
         {
          "Error": 1.516961580594498,
          "Error Type": "train",
          "Size of Test Set": 100,
          "Size of Training Set": 100
         },
         {
          "Error": 1.6771441159315421,
          "Error Type": "train",
          "Size of Test Set": 100,
          "Size of Training Set": 100
         },
         {
          "Error": 1.513029142743603,
          "Error Type": "train",
          "Size of Test Set": 100,
          "Size of Training Set": 100
         },
         {
          "Error": 1.4509558973877574,
          "Error Type": "train",
          "Size of Test Set": 100,
          "Size of Training Set": 100
         },
         {
          "Error": 1.6775264397527656,
          "Error Type": "train",
          "Size of Test Set": 100,
          "Size of Training Set": 100
         },
         {
          "Error": 1.7249469188827005,
          "Error Type": "train",
          "Size of Test Set": 100,
          "Size of Training Set": 100
         },
         {
          "Error": 1.59488978444966,
          "Error Type": "train",
          "Size of Test Set": 100,
          "Size of Training Set": 100
         },
         {
          "Error": 1.5316634646610618,
          "Error Type": "train",
          "Size of Test Set": 100,
          "Size of Training Set": 100
         },
         {
          "Error": 1.838967400113871,
          "Error Type": "train",
          "Size of Test Set": 100,
          "Size of Training Set": 100
         },
         {
          "Error": 1.5756610559434978,
          "Error Type": "train",
          "Size of Test Set": 100,
          "Size of Training Set": 100
         },
         {
          "Error": 1.604810384237268,
          "Error Type": "train",
          "Size of Test Set": 100,
          "Size of Training Set": 100
         },
         {
          "Error": 1.6379792458174323,
          "Error Type": "train",
          "Size of Test Set": 100,
          "Size of Training Set": 100
         },
         {
          "Error": 1.4703383547636988,
          "Error Type": "train",
          "Size of Test Set": 100,
          "Size of Training Set": 100
         },
         {
          "Error": 1.3884207268316504,
          "Error Type": "train",
          "Size of Test Set": 100,
          "Size of Training Set": 100
         },
         {
          "Error": 1.5558044513486557,
          "Error Type": "train",
          "Size of Test Set": 100,
          "Size of Training Set": 100
         },
         {
          "Error": 1.6094083910587773,
          "Error Type": "train",
          "Size of Test Set": 100,
          "Size of Training Set": 100
         },
         {
          "Error": 1.2816133271374728,
          "Error Type": "train",
          "Size of Test Set": 100,
          "Size of Training Set": 100
         },
         {
          "Error": 1.6973531178610184,
          "Error Type": "train",
          "Size of Test Set": 100,
          "Size of Training Set": 100
         },
         {
          "Error": 1.3406004432046945,
          "Error Type": "train",
          "Size of Test Set": 100,
          "Size of Training Set": 100
         },
         {
          "Error": 1.6015220878470364,
          "Error Type": "train",
          "Size of Test Set": 100,
          "Size of Training Set": 100
         },
         {
          "Error": 1.6919264979148345,
          "Error Type": "train",
          "Size of Test Set": 100,
          "Size of Training Set": 100
         },
         {
          "Error": 1.4226373299692754,
          "Error Type": "train",
          "Size of Test Set": 100,
          "Size of Training Set": 100
         },
         {
          "Error": 1.559432574480806,
          "Error Type": "train",
          "Size of Test Set": 100,
          "Size of Training Set": 100
         },
         {
          "Error": 1.655476927719913,
          "Error Type": "train",
          "Size of Test Set": 100,
          "Size of Training Set": 100
         },
         {
          "Error": 1.5168719309610768,
          "Error Type": "train",
          "Size of Test Set": 100,
          "Size of Training Set": 100
         },
         {
          "Error": 1.496882159324324,
          "Error Type": "train",
          "Size of Test Set": 100,
          "Size of Training Set": 100
         },
         {
          "Error": 1.685549465462472,
          "Error Type": "train",
          "Size of Test Set": 100,
          "Size of Training Set": 100
         },
         {
          "Error": 1.4169584563782174,
          "Error Type": "train",
          "Size of Test Set": 100,
          "Size of Training Set": 100
         },
         {
          "Error": 1.7168005856537656,
          "Error Type": "train",
          "Size of Test Set": 100,
          "Size of Training Set": 100
         },
         {
          "Error": 1.6560578855410892,
          "Error Type": "train",
          "Size of Test Set": 100,
          "Size of Training Set": 100
         },
         {
          "Error": 1.7440887599146342,
          "Error Type": "train",
          "Size of Test Set": 100,
          "Size of Training Set": 100
         },
         {
          "Error": 1.610402991190619,
          "Error Type": "train",
          "Size of Test Set": 100,
          "Size of Training Set": 100
         },
         {
          "Error": 1.6771499409471733,
          "Error Type": "train",
          "Size of Test Set": 100,
          "Size of Training Set": 100
         },
         {
          "Error": 1.4565852595799114,
          "Error Type": "train",
          "Size of Test Set": 100,
          "Size of Training Set": 100
         },
         {
          "Error": 1.6113010491839903,
          "Error Type": "train",
          "Size of Test Set": 100,
          "Size of Training Set": 100
         },
         {
          "Error": 1.7705559916183324,
          "Error Type": "train",
          "Size of Test Set": 100,
          "Size of Training Set": 1000
         },
         {
          "Error": 1.7657088441673545,
          "Error Type": "train",
          "Size of Test Set": 100,
          "Size of Training Set": 1000
         },
         {
          "Error": 1.7905346634306376,
          "Error Type": "train",
          "Size of Test Set": 100,
          "Size of Training Set": 1000
         },
         {
          "Error": 1.806490090372046,
          "Error Type": "train",
          "Size of Test Set": 100,
          "Size of Training Set": 1000
         },
         {
          "Error": 1.7534255667594802,
          "Error Type": "train",
          "Size of Test Set": 100,
          "Size of Training Set": 1000
         },
         {
          "Error": 1.762463379033227,
          "Error Type": "train",
          "Size of Test Set": 100,
          "Size of Training Set": 1000
         },
         {
          "Error": 1.8224928596273609,
          "Error Type": "train",
          "Size of Test Set": 100,
          "Size of Training Set": 1000
         },
         {
          "Error": 1.7997457436769557,
          "Error Type": "train",
          "Size of Test Set": 100,
          "Size of Training Set": 1000
         },
         {
          "Error": 1.743477277867778,
          "Error Type": "train",
          "Size of Test Set": 100,
          "Size of Training Set": 1000
         },
         {
          "Error": 1.7947097377564667,
          "Error Type": "train",
          "Size of Test Set": 100,
          "Size of Training Set": 1000
         },
         {
          "Error": 1.8751156496414705,
          "Error Type": "train",
          "Size of Test Set": 100,
          "Size of Training Set": 1000
         },
         {
          "Error": 1.8042514031276082,
          "Error Type": "train",
          "Size of Test Set": 100,
          "Size of Training Set": 1000
         },
         {
          "Error": 1.7701634014290648,
          "Error Type": "train",
          "Size of Test Set": 100,
          "Size of Training Set": 1000
         },
         {
          "Error": 1.8329535742722998,
          "Error Type": "train",
          "Size of Test Set": 100,
          "Size of Training Set": 1000
         },
         {
          "Error": 1.8033540971063757,
          "Error Type": "train",
          "Size of Test Set": 100,
          "Size of Training Set": 1000
         },
         {
          "Error": 1.7969229044180568,
          "Error Type": "train",
          "Size of Test Set": 100,
          "Size of Training Set": 1000
         },
         {
          "Error": 1.7251076590337702,
          "Error Type": "train",
          "Size of Test Set": 100,
          "Size of Training Set": 1000
         },
         {
          "Error": 1.8327750973068027,
          "Error Type": "train",
          "Size of Test Set": 100,
          "Size of Training Set": 1000
         },
         {
          "Error": 1.7608275579081387,
          "Error Type": "train",
          "Size of Test Set": 100,
          "Size of Training Set": 1000
         },
         {
          "Error": 1.840933174237067,
          "Error Type": "train",
          "Size of Test Set": 100,
          "Size of Training Set": 1000
         },
         {
          "Error": 1.7750808554929773,
          "Error Type": "train",
          "Size of Test Set": 100,
          "Size of Training Set": 1000
         },
         {
          "Error": 1.7946337028935166,
          "Error Type": "train",
          "Size of Test Set": 100,
          "Size of Training Set": 1000
         },
         {
          "Error": 1.7804024385474362,
          "Error Type": "train",
          "Size of Test Set": 100,
          "Size of Training Set": 1000
         },
         {
          "Error": 1.797190412763599,
          "Error Type": "train",
          "Size of Test Set": 100,
          "Size of Training Set": 1000
         },
         {
          "Error": 1.783211971900966,
          "Error Type": "train",
          "Size of Test Set": 100,
          "Size of Training Set": 1000
         },
         {
          "Error": 1.8464164906225697,
          "Error Type": "train",
          "Size of Test Set": 100,
          "Size of Training Set": 1000
         },
         {
          "Error": 1.8955101575360085,
          "Error Type": "train",
          "Size of Test Set": 100,
          "Size of Training Set": 1000
         },
         {
          "Error": 1.8137414949751145,
          "Error Type": "train",
          "Size of Test Set": 100,
          "Size of Training Set": 1000
         },
         {
          "Error": 1.7869090284887643,
          "Error Type": "train",
          "Size of Test Set": 100,
          "Size of Training Set": 1000
         },
         {
          "Error": 1.8209496097316604,
          "Error Type": "train",
          "Size of Test Set": 100,
          "Size of Training Set": 1000
         },
         {
          "Error": 1.7790523456879874,
          "Error Type": "train",
          "Size of Test Set": 100,
          "Size of Training Set": 1000
         },
         {
          "Error": 1.755443523863885,
          "Error Type": "train",
          "Size of Test Set": 100,
          "Size of Training Set": 1000
         },
         {
          "Error": 1.7900456704621592,
          "Error Type": "train",
          "Size of Test Set": 100,
          "Size of Training Set": 1000
         },
         {
          "Error": 1.8679748143830024,
          "Error Type": "train",
          "Size of Test Set": 100,
          "Size of Training Set": 1000
         },
         {
          "Error": 1.7475823886625856,
          "Error Type": "train",
          "Size of Test Set": 100,
          "Size of Training Set": 1000
         },
         {
          "Error": 1.8155204134387382,
          "Error Type": "train",
          "Size of Test Set": 100,
          "Size of Training Set": 1000
         },
         {
          "Error": 1.7869335476284705,
          "Error Type": "train",
          "Size of Test Set": 100,
          "Size of Training Set": 1000
         },
         {
          "Error": 1.8225646721823479,
          "Error Type": "train",
          "Size of Test Set": 100,
          "Size of Training Set": 1000
         },
         {
          "Error": 1.8299432566060823,
          "Error Type": "train",
          "Size of Test Set": 100,
          "Size of Training Set": 1000
         },
         {
          "Error": 1.8397272368309272,
          "Error Type": "train",
          "Size of Test Set": 100,
          "Size of Training Set": 1000
         },
         {
          "Error": 1.8428956827263865,
          "Error Type": "train",
          "Size of Test Set": 100,
          "Size of Training Set": 1000
         },
         {
          "Error": 1.743085748616816,
          "Error Type": "train",
          "Size of Test Set": 100,
          "Size of Training Set": 1000
         },
         {
          "Error": 1.766662136809359,
          "Error Type": "train",
          "Size of Test Set": 100,
          "Size of Training Set": 1000
         },
         {
          "Error": 1.7414997180088885,
          "Error Type": "train",
          "Size of Test Set": 100,
          "Size of Training Set": 1000
         },
         {
          "Error": 1.783992532343374,
          "Error Type": "train",
          "Size of Test Set": 100,
          "Size of Training Set": 1000
         },
         {
          "Error": 1.7367571332894893,
          "Error Type": "train",
          "Size of Test Set": 100,
          "Size of Training Set": 1000
         },
         {
          "Error": 1.7660371831996462,
          "Error Type": "train",
          "Size of Test Set": 100,
          "Size of Training Set": 1000
         },
         {
          "Error": 1.791007419804213,
          "Error Type": "train",
          "Size of Test Set": 100,
          "Size of Training Set": 1000
         },
         {
          "Error": 1.7902346901121482,
          "Error Type": "train",
          "Size of Test Set": 100,
          "Size of Training Set": 1000
         },
         {
          "Error": 1.7731477605705508,
          "Error Type": "train",
          "Size of Test Set": 100,
          "Size of Training Set": 1000
         },
         {
          "Error": 1.882440664911025,
          "Error Type": "train",
          "Size of Test Set": 100,
          "Size of Training Set": 1000
         },
         {
          "Error": 1.760861108740186,
          "Error Type": "train",
          "Size of Test Set": 100,
          "Size of Training Set": 1000
         },
         {
          "Error": 1.7534223838384329,
          "Error Type": "train",
          "Size of Test Set": 100,
          "Size of Training Set": 1000
         },
         {
          "Error": 1.8028205661606092,
          "Error Type": "train",
          "Size of Test Set": 100,
          "Size of Training Set": 1000
         },
         {
          "Error": 1.7810645341629425,
          "Error Type": "train",
          "Size of Test Set": 100,
          "Size of Training Set": 1000
         },
         {
          "Error": 1.7956251778505554,
          "Error Type": "train",
          "Size of Test Set": 100,
          "Size of Training Set": 1000
         },
         {
          "Error": 1.7712268082427007,
          "Error Type": "train",
          "Size of Test Set": 100,
          "Size of Training Set": 1000
         },
         {
          "Error": 1.7002168441765575,
          "Error Type": "train",
          "Size of Test Set": 100,
          "Size of Training Set": 1000
         },
         {
          "Error": 1.7865439526370657,
          "Error Type": "train",
          "Size of Test Set": 100,
          "Size of Training Set": 1000
         },
         {
          "Error": 1.730575224183839,
          "Error Type": "train",
          "Size of Test Set": 100,
          "Size of Training Set": 1000
         },
         {
          "Error": 1.7521694862078732,
          "Error Type": "train",
          "Size of Test Set": 100,
          "Size of Training Set": 1000
         },
         {
          "Error": 1.82440295217353,
          "Error Type": "train",
          "Size of Test Set": 100,
          "Size of Training Set": 1000
         },
         {
          "Error": 1.7937614615932262,
          "Error Type": "train",
          "Size of Test Set": 100,
          "Size of Training Set": 1000
         },
         {
          "Error": 1.8125900312263197,
          "Error Type": "train",
          "Size of Test Set": 100,
          "Size of Training Set": 1000
         },
         {
          "Error": 1.7771520732953796,
          "Error Type": "train",
          "Size of Test Set": 100,
          "Size of Training Set": 1000
         },
         {
          "Error": 1.8391528380472764,
          "Error Type": "train",
          "Size of Test Set": 100,
          "Size of Training Set": 1000
         },
         {
          "Error": 1.7382329153049556,
          "Error Type": "train",
          "Size of Test Set": 100,
          "Size of Training Set": 1000
         },
         {
          "Error": 1.8777122914592956,
          "Error Type": "train",
          "Size of Test Set": 100,
          "Size of Training Set": 1000
         },
         {
          "Error": 1.7804732705933388,
          "Error Type": "train",
          "Size of Test Set": 100,
          "Size of Training Set": 1000
         },
         {
          "Error": 1.7743444220803875,
          "Error Type": "train",
          "Size of Test Set": 100,
          "Size of Training Set": 1000
         },
         {
          "Error": 1.743090090601878,
          "Error Type": "train",
          "Size of Test Set": 100,
          "Size of Training Set": 1000
         },
         {
          "Error": 1.7904406572992728,
          "Error Type": "train",
          "Size of Test Set": 100,
          "Size of Training Set": 1000
         },
         {
          "Error": 1.7190083517757753,
          "Error Type": "train",
          "Size of Test Set": 100,
          "Size of Training Set": 1000
         },
         {
          "Error": 1.7714409379733533,
          "Error Type": "train",
          "Size of Test Set": 100,
          "Size of Training Set": 1000
         },
         {
          "Error": 1.857893500547346,
          "Error Type": "train",
          "Size of Test Set": 100,
          "Size of Training Set": 1000
         },
         {
          "Error": 1.7910942484339243,
          "Error Type": "train",
          "Size of Test Set": 100,
          "Size of Training Set": 1000
         },
         {
          "Error": 1.833693688395776,
          "Error Type": "train",
          "Size of Test Set": 100,
          "Size of Training Set": 1000
         },
         {
          "Error": 1.675742016891791,
          "Error Type": "train",
          "Size of Test Set": 100,
          "Size of Training Set": 1000
         },
         {
          "Error": 1.7533871331887025,
          "Error Type": "train",
          "Size of Test Set": 100,
          "Size of Training Set": 1000
         },
         {
          "Error": 1.7934695131142366,
          "Error Type": "train",
          "Size of Test Set": 100,
          "Size of Training Set": 1000
         },
         {
          "Error": 1.7836523280989454,
          "Error Type": "train",
          "Size of Test Set": 100,
          "Size of Training Set": 1000
         },
         {
          "Error": 1.7859397067908698,
          "Error Type": "train",
          "Size of Test Set": 100,
          "Size of Training Set": 1000
         },
         {
          "Error": 1.7551002798763393,
          "Error Type": "train",
          "Size of Test Set": 100,
          "Size of Training Set": 1000
         },
         {
          "Error": 1.7822041250745184,
          "Error Type": "train",
          "Size of Test Set": 100,
          "Size of Training Set": 1000
         },
         {
          "Error": 1.7941211641902781,
          "Error Type": "train",
          "Size of Test Set": 100,
          "Size of Training Set": 1000
         },
         {
          "Error": 1.7706826188129734,
          "Error Type": "train",
          "Size of Test Set": 100,
          "Size of Training Set": 1000
         },
         {
          "Error": 1.8672411146647259,
          "Error Type": "train",
          "Size of Test Set": 100,
          "Size of Training Set": 1000
         },
         {
          "Error": 1.8231003471416272,
          "Error Type": "train",
          "Size of Test Set": 100,
          "Size of Training Set": 1000
         },
         {
          "Error": 1.7963902163818948,
          "Error Type": "train",
          "Size of Test Set": 100,
          "Size of Training Set": 1000
         },
         {
          "Error": 1.7500166947102522,
          "Error Type": "train",
          "Size of Test Set": 100,
          "Size of Training Set": 1000
         },
         {
          "Error": 1.6937909243202192,
          "Error Type": "train",
          "Size of Test Set": 100,
          "Size of Training Set": 1000
         },
         {
          "Error": 1.8114934221306067,
          "Error Type": "train",
          "Size of Test Set": 100,
          "Size of Training Set": 1000
         },
         {
          "Error": 1.7526607373882923,
          "Error Type": "train",
          "Size of Test Set": 100,
          "Size of Training Set": 1000
         },
         {
          "Error": 1.771958295480768,
          "Error Type": "train",
          "Size of Test Set": 100,
          "Size of Training Set": 1000
         },
         {
          "Error": 1.8542299019256074,
          "Error Type": "train",
          "Size of Test Set": 100,
          "Size of Training Set": 1000
         },
         {
          "Error": 1.7621822600738344,
          "Error Type": "train",
          "Size of Test Set": 100,
          "Size of Training Set": 1000
         },
         {
          "Error": 1.8136201897757847,
          "Error Type": "train",
          "Size of Test Set": 100,
          "Size of Training Set": 1000
         },
         {
          "Error": 1.795769276067223,
          "Error Type": "train",
          "Size of Test Set": 100,
          "Size of Training Set": 1000
         },
         {
          "Error": 1.7513660059563108,
          "Error Type": "train",
          "Size of Test Set": 100,
          "Size of Training Set": 1000
         },
         {
          "Error": 1.7794850138089018,
          "Error Type": "train",
          "Size of Test Set": 100,
          "Size of Training Set": 1000
         },
         {
          "Error": 1.7448528851888159,
          "Error Type": "train",
          "Size of Test Set": 100,
          "Size of Training Set": 1000
         },
         {
          "Error": 1.770525694674103,
          "Error Type": "train",
          "Size of Test Set": 100,
          "Size of Training Set": 1000
         },
         {
          "Error": 1.8105302796925213,
          "Error Type": "train",
          "Size of Test Set": 100,
          "Size of Training Set": 1000
         },
         {
          "Error": 1.682476587600498,
          "Error Type": "train",
          "Size of Test Set": 100,
          "Size of Training Set": 1000
         },
         {
          "Error": 1.7748591275535541,
          "Error Type": "train",
          "Size of Test Set": 100,
          "Size of Training Set": 1000
         },
         {
          "Error": 1.780356000723651,
          "Error Type": "train",
          "Size of Test Set": 100,
          "Size of Training Set": 1000
         },
         {
          "Error": 1.7916139415665238,
          "Error Type": "train",
          "Size of Test Set": 100,
          "Size of Training Set": 1000
         },
         {
          "Error": 1.7895435164647997,
          "Error Type": "train",
          "Size of Test Set": 100,
          "Size of Training Set": 1000
         },
         {
          "Error": 1.7550902572402316,
          "Error Type": "train",
          "Size of Test Set": 100,
          "Size of Training Set": 1000
         },
         {
          "Error": 1.8044941423000407,
          "Error Type": "train",
          "Size of Test Set": 100,
          "Size of Training Set": 1000
         },
         {
          "Error": 1.807802199542857,
          "Error Type": "train",
          "Size of Test Set": 100,
          "Size of Training Set": 1000
         },
         {
          "Error": 1.762149610077544,
          "Error Type": "train",
          "Size of Test Set": 100,
          "Size of Training Set": 1000
         },
         {
          "Error": 1.779072153080035,
          "Error Type": "train",
          "Size of Test Set": 100,
          "Size of Training Set": 1000
         },
         {
          "Error": 1.8497174081470025,
          "Error Type": "train",
          "Size of Test Set": 100,
          "Size of Training Set": 1000
         },
         {
          "Error": 1.8345826799963565,
          "Error Type": "train",
          "Size of Test Set": 100,
          "Size of Training Set": 1000
         },
         {
          "Error": 1.741354094663013,
          "Error Type": "train",
          "Size of Test Set": 100,
          "Size of Training Set": 1000
         },
         {
          "Error": 1.7775136398882205,
          "Error Type": "train",
          "Size of Test Set": 100,
          "Size of Training Set": 1000
         },
         {
          "Error": 1.7983336994538088,
          "Error Type": "train",
          "Size of Test Set": 100,
          "Size of Training Set": 1000
         },
         {
          "Error": 1.8226819328607209,
          "Error Type": "train",
          "Size of Test Set": 100,
          "Size of Training Set": 1000
         },
         {
          "Error": 1.768934035967377,
          "Error Type": "train",
          "Size of Test Set": 100,
          "Size of Training Set": 1000
         },
         {
          "Error": 1.7310027131207926,
          "Error Type": "train",
          "Size of Test Set": 100,
          "Size of Training Set": 1000
         },
         {
          "Error": 1.8062004628693356,
          "Error Type": "train",
          "Size of Test Set": 100,
          "Size of Training Set": 1000
         },
         {
          "Error": 1.810304275363423,
          "Error Type": "train",
          "Size of Test Set": 100,
          "Size of Training Set": 1000
         },
         {
          "Error": 1.7501354649343608,
          "Error Type": "train",
          "Size of Test Set": 100,
          "Size of Training Set": 1000
         },
         {
          "Error": 1.7713831554967634,
          "Error Type": "train",
          "Size of Test Set": 100,
          "Size of Training Set": 1000
         },
         {
          "Error": 1.7255478992282431,
          "Error Type": "train",
          "Size of Test Set": 100,
          "Size of Training Set": 1000
         },
         {
          "Error": 1.836037532117869,
          "Error Type": "train",
          "Size of Test Set": 100,
          "Size of Training Set": 1000
         },
         {
          "Error": 1.7988968750346899,
          "Error Type": "train",
          "Size of Test Set": 100,
          "Size of Training Set": 1000
         },
         {
          "Error": 1.7720751403639392,
          "Error Type": "train",
          "Size of Test Set": 100,
          "Size of Training Set": 1000
         },
         {
          "Error": 1.783258725259644,
          "Error Type": "train",
          "Size of Test Set": 100,
          "Size of Training Set": 1000
         },
         {
          "Error": 1.7839376917882477,
          "Error Type": "train",
          "Size of Test Set": 100,
          "Size of Training Set": 1000
         },
         {
          "Error": 1.7251068862071204,
          "Error Type": "train",
          "Size of Test Set": 100,
          "Size of Training Set": 1000
         },
         {
          "Error": 1.8069662715007535,
          "Error Type": "train",
          "Size of Test Set": 100,
          "Size of Training Set": 1000
         },
         {
          "Error": 1.8661204211933944,
          "Error Type": "train",
          "Size of Test Set": 100,
          "Size of Training Set": 1000
         },
         {
          "Error": 1.8314697729955962,
          "Error Type": "train",
          "Size of Test Set": 100,
          "Size of Training Set": 1000
         },
         {
          "Error": 1.8217802732083663,
          "Error Type": "train",
          "Size of Test Set": 100,
          "Size of Training Set": 1000
         },
         {
          "Error": 1.7615729859897973,
          "Error Type": "train",
          "Size of Test Set": 100,
          "Size of Training Set": 1000
         },
         {
          "Error": 1.7724707017284864,
          "Error Type": "train",
          "Size of Test Set": 100,
          "Size of Training Set": 1000
         },
         {
          "Error": 1.7436422537423841,
          "Error Type": "train",
          "Size of Test Set": 100,
          "Size of Training Set": 1000
         },
         {
          "Error": 1.8262612419141535,
          "Error Type": "train",
          "Size of Test Set": 100,
          "Size of Training Set": 1000
         },
         {
          "Error": 1.8285631205234358,
          "Error Type": "train",
          "Size of Test Set": 100,
          "Size of Training Set": 1000
         },
         {
          "Error": 1.8772059680346225,
          "Error Type": "train",
          "Size of Test Set": 100,
          "Size of Training Set": 1000
         },
         {
          "Error": 1.76170478908833,
          "Error Type": "train",
          "Size of Test Set": 100,
          "Size of Training Set": 1000
         },
         {
          "Error": 1.8194370067048464,
          "Error Type": "train",
          "Size of Test Set": 100,
          "Size of Training Set": 1000
         },
         {
          "Error": 1.7876479317044942,
          "Error Type": "train",
          "Size of Test Set": 100,
          "Size of Training Set": 1000
         },
         {
          "Error": 1.78192191661805,
          "Error Type": "train",
          "Size of Test Set": 100,
          "Size of Training Set": 1000
         },
         {
          "Error": 1.7689040601540018,
          "Error Type": "train",
          "Size of Test Set": 100,
          "Size of Training Set": 1000
         },
         {
          "Error": 1.7787585770400478,
          "Error Type": "train",
          "Size of Test Set": 100,
          "Size of Training Set": 1000
         },
         {
          "Error": 1.801082190840448,
          "Error Type": "train",
          "Size of Test Set": 100,
          "Size of Training Set": 1000
         },
         {
          "Error": 1.7434232667830654,
          "Error Type": "train",
          "Size of Test Set": 100,
          "Size of Training Set": 1000
         },
         {
          "Error": 1.7809830464141552,
          "Error Type": "train",
          "Size of Test Set": 100,
          "Size of Training Set": 1000
         },
         {
          "Error": 1.7548851720276568,
          "Error Type": "train",
          "Size of Test Set": 100,
          "Size of Training Set": 1000
         },
         {
          "Error": 1.8021285445546729,
          "Error Type": "train",
          "Size of Test Set": 100,
          "Size of Training Set": 1000
         },
         {
          "Error": 1.6451114437170153,
          "Error Type": "train",
          "Size of Test Set": 100,
          "Size of Training Set": 1000
         },
         {
          "Error": 1.7622391878392893,
          "Error Type": "train",
          "Size of Test Set": 100,
          "Size of Training Set": 1000
         },
         {
          "Error": 1.7866577408150706,
          "Error Type": "train",
          "Size of Test Set": 100,
          "Size of Training Set": 1000
         },
         {
          "Error": 1.8940386622538485,
          "Error Type": "train",
          "Size of Test Set": 100,
          "Size of Training Set": 1000
         },
         {
          "Error": 1.7179751248686934,
          "Error Type": "train",
          "Size of Test Set": 100,
          "Size of Training Set": 1000
         },
         {
          "Error": 1.7804510494241022,
          "Error Type": "train",
          "Size of Test Set": 100,
          "Size of Training Set": 1000
         },
         {
          "Error": 1.7597767254030359,
          "Error Type": "train",
          "Size of Test Set": 100,
          "Size of Training Set": 1000
         },
         {
          "Error": 1.7290107525336367,
          "Error Type": "train",
          "Size of Test Set": 100,
          "Size of Training Set": 1000
         },
         {
          "Error": 1.759801702907815,
          "Error Type": "train",
          "Size of Test Set": 100,
          "Size of Training Set": 1000
         },
         {
          "Error": 1.7967413529848335,
          "Error Type": "train",
          "Size of Test Set": 100,
          "Size of Training Set": 1000
         },
         {
          "Error": 1.8306406176283267,
          "Error Type": "train",
          "Size of Test Set": 100,
          "Size of Training Set": 1000
         },
         {
          "Error": 1.788993720761545,
          "Error Type": "train",
          "Size of Test Set": 100,
          "Size of Training Set": 1000
         },
         {
          "Error": 1.9196786325568076,
          "Error Type": "train",
          "Size of Test Set": 100,
          "Size of Training Set": 1000
         },
         {
          "Error": 1.7910234400073672,
          "Error Type": "train",
          "Size of Test Set": 100,
          "Size of Training Set": 1000
         },
         {
          "Error": 1.789484487781126,
          "Error Type": "train",
          "Size of Test Set": 100,
          "Size of Training Set": 1000
         },
         {
          "Error": 1.788365168065268,
          "Error Type": "train",
          "Size of Test Set": 100,
          "Size of Training Set": 1000
         },
         {
          "Error": 1.8267351366071198,
          "Error Type": "train",
          "Size of Test Set": 100,
          "Size of Training Set": 1000
         },
         {
          "Error": 1.8643993176419504,
          "Error Type": "train",
          "Size of Test Set": 100,
          "Size of Training Set": 1000
         },
         {
          "Error": 1.857460858067127,
          "Error Type": "train",
          "Size of Test Set": 100,
          "Size of Training Set": 1000
         },
         {
          "Error": 1.853883499472925,
          "Error Type": "train",
          "Size of Test Set": 100,
          "Size of Training Set": 1000
         },
         {
          "Error": 1.797434899042168,
          "Error Type": "train",
          "Size of Test Set": 100,
          "Size of Training Set": 1000
         },
         {
          "Error": 1.7928467624472082,
          "Error Type": "train",
          "Size of Test Set": 100,
          "Size of Training Set": 1000
         },
         {
          "Error": 1.812952299476548,
          "Error Type": "train",
          "Size of Test Set": 100,
          "Size of Training Set": 1000
         },
         {
          "Error": 1.8216883361658311,
          "Error Type": "train",
          "Size of Test Set": 100,
          "Size of Training Set": 1000
         },
         {
          "Error": 1.7929343711642864,
          "Error Type": "train",
          "Size of Test Set": 100,
          "Size of Training Set": 1000
         },
         {
          "Error": 1.8072883159113136,
          "Error Type": "train",
          "Size of Test Set": 100,
          "Size of Training Set": 1000
         },
         {
          "Error": 1.7766985665703805,
          "Error Type": "train",
          "Size of Test Set": 100,
          "Size of Training Set": 1000
         },
         {
          "Error": 1.7159438509069955,
          "Error Type": "train",
          "Size of Test Set": 100,
          "Size of Training Set": 1000
         },
         {
          "Error": 1.767127853899664,
          "Error Type": "train",
          "Size of Test Set": 100,
          "Size of Training Set": 1000
         },
         {
          "Error": 1.7947461524308619,
          "Error Type": "train",
          "Size of Test Set": 100,
          "Size of Training Set": 1000
         },
         {
          "Error": 1.7419947858901574,
          "Error Type": "train",
          "Size of Test Set": 100,
          "Size of Training Set": 1000
         },
         {
          "Error": 1.768635022058667,
          "Error Type": "train",
          "Size of Test Set": 100,
          "Size of Training Set": 1000
         },
         {
          "Error": 1.7513342271749779,
          "Error Type": "train",
          "Size of Test Set": 100,
          "Size of Training Set": 1000
         },
         {
          "Error": 1.8072997529179264,
          "Error Type": "train",
          "Size of Test Set": 100,
          "Size of Training Set": 1000
         },
         {
          "Error": 1.7844369689038735,
          "Error Type": "train",
          "Size of Test Set": 100,
          "Size of Training Set": 1000
         },
         {
          "Error": 1.8074428744766537,
          "Error Type": "train",
          "Size of Test Set": 100,
          "Size of Training Set": 1000
         },
         {
          "Error": 1.8040724186891566,
          "Error Type": "train",
          "Size of Test Set": 100,
          "Size of Training Set": 1000
         },
         {
          "Error": 1.7915409623598992,
          "Error Type": "train",
          "Size of Test Set": 100,
          "Size of Training Set": 1000
         },
         {
          "Error": 1.7857138888141153,
          "Error Type": "train",
          "Size of Test Set": 100,
          "Size of Training Set": 1000
         },
         {
          "Error": 1.8040173452436161,
          "Error Type": "train",
          "Size of Test Set": 100,
          "Size of Training Set": 1000
         },
         {
          "Error": 1.7853702644731415,
          "Error Type": "train",
          "Size of Test Set": 100,
          "Size of Training Set": 1000
         },
         {
          "Error": 1.7593306406827298,
          "Error Type": "train",
          "Size of Test Set": 100,
          "Size of Training Set": 1000
         },
         {
          "Error": 1.84041459534758,
          "Error Type": "train",
          "Size of Test Set": 100,
          "Size of Training Set": 1000
         },
         {
          "Error": 1.7565276056841768,
          "Error Type": "train",
          "Size of Test Set": 100,
          "Size of Training Set": 1000
         },
         {
          "Error": 1.8158705797207286,
          "Error Type": "train",
          "Size of Test Set": 100,
          "Size of Training Set": 1000
         },
         {
          "Error": 1.8521309881297825,
          "Error Type": "train",
          "Size of Test Set": 100,
          "Size of Training Set": 1000
         },
         {
          "Error": 1.775077742015416,
          "Error Type": "train",
          "Size of Test Set": 100,
          "Size of Training Set": 1000
         },
         {
          "Error": 2.8131165902867594,
          "Error Type": "test",
          "Size of Test Set": 100,
          "Size of Training Set": 10
         },
         {
          "Error": 3.540864317837115,
          "Error Type": "test",
          "Size of Test Set": 100,
          "Size of Training Set": 10
         },
         {
          "Error": 2.54076780383515,
          "Error Type": "test",
          "Size of Test Set": 100,
          "Size of Training Set": 10
         },
         {
          "Error": 2.4081115373792814,
          "Error Type": "test",
          "Size of Test Set": 100,
          "Size of Training Set": 10
         },
         {
          "Error": 2.49681136822236,
          "Error Type": "test",
          "Size of Test Set": 100,
          "Size of Training Set": 10
         },
         {
          "Error": 2.7594383932380406,
          "Error Type": "test",
          "Size of Test Set": 100,
          "Size of Training Set": 10
         },
         {
          "Error": 2.4253403174972714,
          "Error Type": "test",
          "Size of Test Set": 100,
          "Size of Training Set": 10
         },
         {
          "Error": 1.9911728118214724,
          "Error Type": "test",
          "Size of Test Set": 100,
          "Size of Training Set": 10
         },
         {
          "Error": 1.9968980475779572,
          "Error Type": "test",
          "Size of Test Set": 100,
          "Size of Training Set": 10
         },
         {
          "Error": 2.2857733377616167,
          "Error Type": "test",
          "Size of Test Set": 100,
          "Size of Training Set": 10
         },
         {
          "Error": 2.4235516363091607,
          "Error Type": "test",
          "Size of Test Set": 100,
          "Size of Training Set": 10
         },
         {
          "Error": 2.923590556273953,
          "Error Type": "test",
          "Size of Test Set": 100,
          "Size of Training Set": 10
         },
         {
          "Error": 2.602851933506517,
          "Error Type": "test",
          "Size of Test Set": 100,
          "Size of Training Set": 10
         },
         {
          "Error": 2.0544630937694612,
          "Error Type": "test",
          "Size of Test Set": 100,
          "Size of Training Set": 10
         },
         {
          "Error": 2.4976306579686365,
          "Error Type": "test",
          "Size of Test Set": 100,
          "Size of Training Set": 10
         },
         {
          "Error": 2.7858693784027304,
          "Error Type": "test",
          "Size of Test Set": 100,
          "Size of Training Set": 10
         },
         {
          "Error": 3.692440518699637,
          "Error Type": "test",
          "Size of Test Set": 100,
          "Size of Training Set": 10
         },
         {
          "Error": 2.199511739419513,
          "Error Type": "test",
          "Size of Test Set": 100,
          "Size of Training Set": 10
         },
         {
          "Error": 3.0670559744099695,
          "Error Type": "test",
          "Size of Test Set": 100,
          "Size of Training Set": 10
         },
         {
          "Error": 3.3075043489214497,
          "Error Type": "test",
          "Size of Test Set": 100,
          "Size of Training Set": 10
         },
         {
          "Error": 2.743616992488666,
          "Error Type": "test",
          "Size of Test Set": 100,
          "Size of Training Set": 10
         },
         {
          "Error": 2.5214473799477153,
          "Error Type": "test",
          "Size of Test Set": 100,
          "Size of Training Set": 10
         },
         {
          "Error": 2.875610102349732,
          "Error Type": "test",
          "Size of Test Set": 100,
          "Size of Training Set": 10
         },
         {
          "Error": 3.5150211760742867,
          "Error Type": "test",
          "Size of Test Set": 100,
          "Size of Training Set": 10
         },
         {
          "Error": 2.7555647251731687,
          "Error Type": "test",
          "Size of Test Set": 100,
          "Size of Training Set": 10
         },
         {
          "Error": 2.6889490430920144,
          "Error Type": "test",
          "Size of Test Set": 100,
          "Size of Training Set": 10
         },
         {
          "Error": 2.425806501891474,
          "Error Type": "test",
          "Size of Test Set": 100,
          "Size of Training Set": 10
         },
         {
          "Error": 2.007238763319798,
          "Error Type": "test",
          "Size of Test Set": 100,
          "Size of Training Set": 10
         },
         {
          "Error": 2.5294787488506567,
          "Error Type": "test",
          "Size of Test Set": 100,
          "Size of Training Set": 10
         },
         {
          "Error": 2.5588102448935586,
          "Error Type": "test",
          "Size of Test Set": 100,
          "Size of Training Set": 10
         },
         {
          "Error": 2.459754228445954,
          "Error Type": "test",
          "Size of Test Set": 100,
          "Size of Training Set": 10
         },
         {
          "Error": 2.398199855476124,
          "Error Type": "test",
          "Size of Test Set": 100,
          "Size of Training Set": 10
         },
         {
          "Error": 2.457353241183554,
          "Error Type": "test",
          "Size of Test Set": 100,
          "Size of Training Set": 10
         },
         {
          "Error": 2.259171821676874,
          "Error Type": "test",
          "Size of Test Set": 100,
          "Size of Training Set": 10
         },
         {
          "Error": 2.5235161851330155,
          "Error Type": "test",
          "Size of Test Set": 100,
          "Size of Training Set": 10
         },
         {
          "Error": 3.4798075187102326,
          "Error Type": "test",
          "Size of Test Set": 100,
          "Size of Training Set": 10
         },
         {
          "Error": 2.61575173515368,
          "Error Type": "test",
          "Size of Test Set": 100,
          "Size of Training Set": 10
         },
         {
          "Error": 2.5389836938685084,
          "Error Type": "test",
          "Size of Test Set": 100,
          "Size of Training Set": 10
         },
         {
          "Error": 2.94781163367962,
          "Error Type": "test",
          "Size of Test Set": 100,
          "Size of Training Set": 10
         },
         {
          "Error": 3.397455021545048,
          "Error Type": "test",
          "Size of Test Set": 100,
          "Size of Training Set": 10
         },
         {
          "Error": 2.419567138489616,
          "Error Type": "test",
          "Size of Test Set": 100,
          "Size of Training Set": 10
         },
         {
          "Error": 3.142356281092841,
          "Error Type": "test",
          "Size of Test Set": 100,
          "Size of Training Set": 10
         },
         {
          "Error": 2.7371464230453153,
          "Error Type": "test",
          "Size of Test Set": 100,
          "Size of Training Set": 10
         },
         {
          "Error": 2.557371085928497,
          "Error Type": "test",
          "Size of Test Set": 100,
          "Size of Training Set": 10
         },
         {
          "Error": 2.964618916048471,
          "Error Type": "test",
          "Size of Test Set": 100,
          "Size of Training Set": 10
         },
         {
          "Error": 2.9254645997658963,
          "Error Type": "test",
          "Size of Test Set": 100,
          "Size of Training Set": 10
         },
         {
          "Error": 2.45521269089768,
          "Error Type": "test",
          "Size of Test Set": 100,
          "Size of Training Set": 10
         },
         {
          "Error": 3.3042697312852694,
          "Error Type": "test",
          "Size of Test Set": 100,
          "Size of Training Set": 10
         },
         {
          "Error": 4.195067380735247,
          "Error Type": "test",
          "Size of Test Set": 100,
          "Size of Training Set": 10
         },
         {
          "Error": 2.2347320232064205,
          "Error Type": "test",
          "Size of Test Set": 100,
          "Size of Training Set": 10
         },
         {
          "Error": 3.177679717506028,
          "Error Type": "test",
          "Size of Test Set": 100,
          "Size of Training Set": 10
         },
         {
          "Error": 2.66726731602442,
          "Error Type": "test",
          "Size of Test Set": 100,
          "Size of Training Set": 10
         },
         {
          "Error": 3.190014276743274,
          "Error Type": "test",
          "Size of Test Set": 100,
          "Size of Training Set": 10
         },
         {
          "Error": 2.9801481105797687,
          "Error Type": "test",
          "Size of Test Set": 100,
          "Size of Training Set": 10
         },
         {
          "Error": 3.2404496455600054,
          "Error Type": "test",
          "Size of Test Set": 100,
          "Size of Training Set": 10
         },
         {
          "Error": 2.598096337567108,
          "Error Type": "test",
          "Size of Test Set": 100,
          "Size of Training Set": 10
         },
         {
          "Error": 2.357226005386892,
          "Error Type": "test",
          "Size of Test Set": 100,
          "Size of Training Set": 10
         },
         {
          "Error": 4.851853456166866,
          "Error Type": "test",
          "Size of Test Set": 100,
          "Size of Training Set": 10
         },
         {
          "Error": 3.8543196026305067,
          "Error Type": "test",
          "Size of Test Set": 100,
          "Size of Training Set": 10
         },
         {
          "Error": 2.2204026416069573,
          "Error Type": "test",
          "Size of Test Set": 100,
          "Size of Training Set": 10
         },
         {
          "Error": 2.6518829325669784,
          "Error Type": "test",
          "Size of Test Set": 100,
          "Size of Training Set": 10
         },
         {
          "Error": 3.308592747519202,
          "Error Type": "test",
          "Size of Test Set": 100,
          "Size of Training Set": 10
         },
         {
          "Error": 3.0001316706160237,
          "Error Type": "test",
          "Size of Test Set": 100,
          "Size of Training Set": 10
         },
         {
          "Error": 2.5217463518925993,
          "Error Type": "test",
          "Size of Test Set": 100,
          "Size of Training Set": 10
         },
         {
          "Error": 2.7597617571021953,
          "Error Type": "test",
          "Size of Test Set": 100,
          "Size of Training Set": 10
         },
         {
          "Error": 2.558098847115579,
          "Error Type": "test",
          "Size of Test Set": 100,
          "Size of Training Set": 10
         },
         {
          "Error": 3.3564970418571654,
          "Error Type": "test",
          "Size of Test Set": 100,
          "Size of Training Set": 10
         },
         {
          "Error": 3.594353677739973,
          "Error Type": "test",
          "Size of Test Set": 100,
          "Size of Training Set": 10
         },
         {
          "Error": 2.8270415582014614,
          "Error Type": "test",
          "Size of Test Set": 100,
          "Size of Training Set": 10
         },
         {
          "Error": 2.8782270960745278,
          "Error Type": "test",
          "Size of Test Set": 100,
          "Size of Training Set": 10
         },
         {
          "Error": 2.5375057629839963,
          "Error Type": "test",
          "Size of Test Set": 100,
          "Size of Training Set": 10
         },
         {
          "Error": 2.9583617446672745,
          "Error Type": "test",
          "Size of Test Set": 100,
          "Size of Training Set": 10
         },
         {
          "Error": 3.3528784505563802,
          "Error Type": "test",
          "Size of Test Set": 100,
          "Size of Training Set": 10
         },
         {
          "Error": 2.723591781411031,
          "Error Type": "test",
          "Size of Test Set": 100,
          "Size of Training Set": 10
         },
         {
          "Error": 2.735440355102704,
          "Error Type": "test",
          "Size of Test Set": 100,
          "Size of Training Set": 10
         },
         {
          "Error": 2.8818406515286163,
          "Error Type": "test",
          "Size of Test Set": 100,
          "Size of Training Set": 10
         },
         {
          "Error": 3.0127029103663414,
          "Error Type": "test",
          "Size of Test Set": 100,
          "Size of Training Set": 10
         },
         {
          "Error": 2.909558090218929,
          "Error Type": "test",
          "Size of Test Set": 100,
          "Size of Training Set": 10
         },
         {
          "Error": 2.9650829930691045,
          "Error Type": "test",
          "Size of Test Set": 100,
          "Size of Training Set": 10
         },
         {
          "Error": 2.6067821430717273,
          "Error Type": "test",
          "Size of Test Set": 100,
          "Size of Training Set": 10
         },
         {
          "Error": 4.577402849072708,
          "Error Type": "test",
          "Size of Test Set": 100,
          "Size of Training Set": 10
         },
         {
          "Error": 3.2385106386031866,
          "Error Type": "test",
          "Size of Test Set": 100,
          "Size of Training Set": 10
         },
         {
          "Error": 2.8738964050286935,
          "Error Type": "test",
          "Size of Test Set": 100,
          "Size of Training Set": 10
         },
         {
          "Error": 3.3927974343446983,
          "Error Type": "test",
          "Size of Test Set": 100,
          "Size of Training Set": 10
         },
         {
          "Error": 3.3116779766053956,
          "Error Type": "test",
          "Size of Test Set": 100,
          "Size of Training Set": 10
         },
         {
          "Error": 3.3721633040113916,
          "Error Type": "test",
          "Size of Test Set": 100,
          "Size of Training Set": 10
         },
         {
          "Error": 3.8230448209696095,
          "Error Type": "test",
          "Size of Test Set": 100,
          "Size of Training Set": 10
         },
         {
          "Error": 2.230734496302727,
          "Error Type": "test",
          "Size of Test Set": 100,
          "Size of Training Set": 10
         },
         {
          "Error": 2.476048018797922,
          "Error Type": "test",
          "Size of Test Set": 100,
          "Size of Training Set": 10
         },
         {
          "Error": 3.9332383933155683,
          "Error Type": "test",
          "Size of Test Set": 100,
          "Size of Training Set": 10
         },
         {
          "Error": 3.1131432076266687,
          "Error Type": "test",
          "Size of Test Set": 100,
          "Size of Training Set": 10
         },
         {
          "Error": 2.473971124694547,
          "Error Type": "test",
          "Size of Test Set": 100,
          "Size of Training Set": 10
         },
         {
          "Error": 2.949563245520838,
          "Error Type": "test",
          "Size of Test Set": 100,
          "Size of Training Set": 10
         },
         {
          "Error": 2.1972363148294196,
          "Error Type": "test",
          "Size of Test Set": 100,
          "Size of Training Set": 10
         },
         {
          "Error": 3.1541010797896587,
          "Error Type": "test",
          "Size of Test Set": 100,
          "Size of Training Set": 10
         },
         {
          "Error": 2.7403304377938658,
          "Error Type": "test",
          "Size of Test Set": 100,
          "Size of Training Set": 10
         },
         {
          "Error": 2.549786462310117,
          "Error Type": "test",
          "Size of Test Set": 100,
          "Size of Training Set": 10
         },
         {
          "Error": 2.7438562920038527,
          "Error Type": "test",
          "Size of Test Set": 100,
          "Size of Training Set": 10
         },
         {
          "Error": 2.6231338721482467,
          "Error Type": "test",
          "Size of Test Set": 100,
          "Size of Training Set": 10
         },
         {
          "Error": 2.9093282473690585,
          "Error Type": "test",
          "Size of Test Set": 100,
          "Size of Training Set": 10
         },
         {
          "Error": 2.888036127821051,
          "Error Type": "test",
          "Size of Test Set": 100,
          "Size of Training Set": 10
         },
         {
          "Error": 3.007364688896329,
          "Error Type": "test",
          "Size of Test Set": 100,
          "Size of Training Set": 10
         },
         {
          "Error": 2.8348549630406863,
          "Error Type": "test",
          "Size of Test Set": 100,
          "Size of Training Set": 10
         },
         {
          "Error": 2.26677158423488,
          "Error Type": "test",
          "Size of Test Set": 100,
          "Size of Training Set": 10
         },
         {
          "Error": 3.6090342079937523,
          "Error Type": "test",
          "Size of Test Set": 100,
          "Size of Training Set": 10
         },
         {
          "Error": 2.655644488195475,
          "Error Type": "test",
          "Size of Test Set": 100,
          "Size of Training Set": 10
         },
         {
          "Error": 2.712476910334599,
          "Error Type": "test",
          "Size of Test Set": 100,
          "Size of Training Set": 10
         },
         {
          "Error": 2.797828453174668,
          "Error Type": "test",
          "Size of Test Set": 100,
          "Size of Training Set": 10
         },
         {
          "Error": 2.57060793545411,
          "Error Type": "test",
          "Size of Test Set": 100,
          "Size of Training Set": 10
         },
         {
          "Error": 2.3589276940941604,
          "Error Type": "test",
          "Size of Test Set": 100,
          "Size of Training Set": 10
         },
         {
          "Error": 2.796521055789573,
          "Error Type": "test",
          "Size of Test Set": 100,
          "Size of Training Set": 10
         },
         {
          "Error": 2.3955604543365983,
          "Error Type": "test",
          "Size of Test Set": 100,
          "Size of Training Set": 10
         },
         {
          "Error": 2.45750722550669,
          "Error Type": "test",
          "Size of Test Set": 100,
          "Size of Training Set": 10
         },
         {
          "Error": 2.5781051965559967,
          "Error Type": "test",
          "Size of Test Set": 100,
          "Size of Training Set": 10
         },
         {
          "Error": 2.941052284921042,
          "Error Type": "test",
          "Size of Test Set": 100,
          "Size of Training Set": 10
         },
         {
          "Error": 4.5201886614793025,
          "Error Type": "test",
          "Size of Test Set": 100,
          "Size of Training Set": 10
         },
         {
          "Error": 3.890057460363131,
          "Error Type": "test",
          "Size of Test Set": 100,
          "Size of Training Set": 10
         },
         {
          "Error": 2.975816694784029,
          "Error Type": "test",
          "Size of Test Set": 100,
          "Size of Training Set": 10
         },
         {
          "Error": 2.668271735083546,
          "Error Type": "test",
          "Size of Test Set": 100,
          "Size of Training Set": 10
         },
         {
          "Error": 3.159114719854551,
          "Error Type": "test",
          "Size of Test Set": 100,
          "Size of Training Set": 10
         },
         {
          "Error": 2.543879325202358,
          "Error Type": "test",
          "Size of Test Set": 100,
          "Size of Training Set": 10
         },
         {
          "Error": 2.42435206376411,
          "Error Type": "test",
          "Size of Test Set": 100,
          "Size of Training Set": 10
         },
         {
          "Error": 3.142457526320564,
          "Error Type": "test",
          "Size of Test Set": 100,
          "Size of Training Set": 10
         },
         {
          "Error": 2.406765446164006,
          "Error Type": "test",
          "Size of Test Set": 100,
          "Size of Training Set": 10
         },
         {
          "Error": 3.4738603147497145,
          "Error Type": "test",
          "Size of Test Set": 100,
          "Size of Training Set": 10
         },
         {
          "Error": 2.1665643157895937,
          "Error Type": "test",
          "Size of Test Set": 100,
          "Size of Training Set": 10
         },
         {
          "Error": 3.251210137393802,
          "Error Type": "test",
          "Size of Test Set": 100,
          "Size of Training Set": 10
         },
         {
          "Error": 3.2560016405589964,
          "Error Type": "test",
          "Size of Test Set": 100,
          "Size of Training Set": 10
         },
         {
          "Error": 2.874267656084718,
          "Error Type": "test",
          "Size of Test Set": 100,
          "Size of Training Set": 10
         },
         {
          "Error": 2.2463545236720286,
          "Error Type": "test",
          "Size of Test Set": 100,
          "Size of Training Set": 10
         },
         {
          "Error": 3.1529698381799727,
          "Error Type": "test",
          "Size of Test Set": 100,
          "Size of Training Set": 10
         },
         {
          "Error": 3.9965502325780182,
          "Error Type": "test",
          "Size of Test Set": 100,
          "Size of Training Set": 10
         },
         {
          "Error": 2.9467920441667492,
          "Error Type": "test",
          "Size of Test Set": 100,
          "Size of Training Set": 10
         },
         {
          "Error": 2.0132025418465354,
          "Error Type": "test",
          "Size of Test Set": 100,
          "Size of Training Set": 10
         },
         {
          "Error": 3.0343834271545482,
          "Error Type": "test",
          "Size of Test Set": 100,
          "Size of Training Set": 10
         },
         {
          "Error": 3.3397074301907193,
          "Error Type": "test",
          "Size of Test Set": 100,
          "Size of Training Set": 10
         },
         {
          "Error": 2.7465716602775063,
          "Error Type": "test",
          "Size of Test Set": 100,
          "Size of Training Set": 10
         },
         {
          "Error": 2.487872801747551,
          "Error Type": "test",
          "Size of Test Set": 100,
          "Size of Training Set": 10
         },
         {
          "Error": 4.0252666108881066,
          "Error Type": "test",
          "Size of Test Set": 100,
          "Size of Training Set": 10
         },
         {
          "Error": 2.9125549084084383,
          "Error Type": "test",
          "Size of Test Set": 100,
          "Size of Training Set": 10
         },
         {
          "Error": 3.4891210505800245,
          "Error Type": "test",
          "Size of Test Set": 100,
          "Size of Training Set": 10
         },
         {
          "Error": 2.4496836671679385,
          "Error Type": "test",
          "Size of Test Set": 100,
          "Size of Training Set": 10
         },
         {
          "Error": 2.9743371752865677,
          "Error Type": "test",
          "Size of Test Set": 100,
          "Size of Training Set": 10
         },
         {
          "Error": 2.780216012062433,
          "Error Type": "test",
          "Size of Test Set": 100,
          "Size of Training Set": 10
         },
         {
          "Error": 2.848386781939159,
          "Error Type": "test",
          "Size of Test Set": 100,
          "Size of Training Set": 10
         },
         {
          "Error": 2.7865696428043707,
          "Error Type": "test",
          "Size of Test Set": 100,
          "Size of Training Set": 10
         },
         {
          "Error": 3.057251677834196,
          "Error Type": "test",
          "Size of Test Set": 100,
          "Size of Training Set": 10
         },
         {
          "Error": 2.4320631481199997,
          "Error Type": "test",
          "Size of Test Set": 100,
          "Size of Training Set": 10
         },
         {
          "Error": 2.7527845575119994,
          "Error Type": "test",
          "Size of Test Set": 100,
          "Size of Training Set": 10
         },
         {
          "Error": 2.305378275245284,
          "Error Type": "test",
          "Size of Test Set": 100,
          "Size of Training Set": 10
         },
         {
          "Error": 2.291574284787231,
          "Error Type": "test",
          "Size of Test Set": 100,
          "Size of Training Set": 10
         },
         {
          "Error": 1.9633321104218524,
          "Error Type": "test",
          "Size of Test Set": 100,
          "Size of Training Set": 10
         },
         {
          "Error": 2.51551300816339,
          "Error Type": "test",
          "Size of Test Set": 100,
          "Size of Training Set": 10
         },
         {
          "Error": 2.757079400416692,
          "Error Type": "test",
          "Size of Test Set": 100,
          "Size of Training Set": 10
         },
         {
          "Error": 2.383503583339386,
          "Error Type": "test",
          "Size of Test Set": 100,
          "Size of Training Set": 10
         },
         {
          "Error": 2.500706744031674,
          "Error Type": "test",
          "Size of Test Set": 100,
          "Size of Training Set": 10
         },
         {
          "Error": 2.5184040279223083,
          "Error Type": "test",
          "Size of Test Set": 100,
          "Size of Training Set": 10
         },
         {
          "Error": 2.6132343476510957,
          "Error Type": "test",
          "Size of Test Set": 100,
          "Size of Training Set": 10
         },
         {
          "Error": 2.1272917632668373,
          "Error Type": "test",
          "Size of Test Set": 100,
          "Size of Training Set": 10
         },
         {
          "Error": 2.6815004705896315,
          "Error Type": "test",
          "Size of Test Set": 100,
          "Size of Training Set": 10
         },
         {
          "Error": 2.6942936182848545,
          "Error Type": "test",
          "Size of Test Set": 100,
          "Size of Training Set": 10
         },
         {
          "Error": 2.2167326289809934,
          "Error Type": "test",
          "Size of Test Set": 100,
          "Size of Training Set": 10
         },
         {
          "Error": 3.06237660440735,
          "Error Type": "test",
          "Size of Test Set": 100,
          "Size of Training Set": 10
         },
         {
          "Error": 2.3595210474918544,
          "Error Type": "test",
          "Size of Test Set": 100,
          "Size of Training Set": 10
         },
         {
          "Error": 2.3140636577302924,
          "Error Type": "test",
          "Size of Test Set": 100,
          "Size of Training Set": 10
         },
         {
          "Error": 3.007976595964878,
          "Error Type": "test",
          "Size of Test Set": 100,
          "Size of Training Set": 10
         },
         {
          "Error": 2.5650275821654582,
          "Error Type": "test",
          "Size of Test Set": 100,
          "Size of Training Set": 10
         },
         {
          "Error": 2.472256520345981,
          "Error Type": "test",
          "Size of Test Set": 100,
          "Size of Training Set": 10
         },
         {
          "Error": 2.4562864315751303,
          "Error Type": "test",
          "Size of Test Set": 100,
          "Size of Training Set": 10
         },
         {
          "Error": 3.3553246479747103,
          "Error Type": "test",
          "Size of Test Set": 100,
          "Size of Training Set": 10
         },
         {
          "Error": 2.51459644345477,
          "Error Type": "test",
          "Size of Test Set": 100,
          "Size of Training Set": 10
         },
         {
          "Error": 3.0685284749386046,
          "Error Type": "test",
          "Size of Test Set": 100,
          "Size of Training Set": 10
         },
         {
          "Error": 2.905108764850442,
          "Error Type": "test",
          "Size of Test Set": 100,
          "Size of Training Set": 10
         },
         {
          "Error": 2.7236266297004867,
          "Error Type": "test",
          "Size of Test Set": 100,
          "Size of Training Set": 10
         },
         {
          "Error": 2.741033080214079,
          "Error Type": "test",
          "Size of Test Set": 100,
          "Size of Training Set": 10
         },
         {
          "Error": 3.21462170484773,
          "Error Type": "test",
          "Size of Test Set": 100,
          "Size of Training Set": 10
         },
         {
          "Error": 2.635720350590648,
          "Error Type": "test",
          "Size of Test Set": 100,
          "Size of Training Set": 10
         },
         {
          "Error": 3.2828432044075027,
          "Error Type": "test",
          "Size of Test Set": 100,
          "Size of Training Set": 10
         },
         {
          "Error": 2.405642803829673,
          "Error Type": "test",
          "Size of Test Set": 100,
          "Size of Training Set": 10
         },
         {
          "Error": 4.379725743874537,
          "Error Type": "test",
          "Size of Test Set": 100,
          "Size of Training Set": 10
         },
         {
          "Error": 3.1229765334985236,
          "Error Type": "test",
          "Size of Test Set": 100,
          "Size of Training Set": 10
         },
         {
          "Error": 2.339662985910347,
          "Error Type": "test",
          "Size of Test Set": 100,
          "Size of Training Set": 10
         },
         {
          "Error": 3.509306744904143,
          "Error Type": "test",
          "Size of Test Set": 100,
          "Size of Training Set": 10
         },
         {
          "Error": 2.901961458287792,
          "Error Type": "test",
          "Size of Test Set": 100,
          "Size of Training Set": 10
         },
         {
          "Error": 3.282556685442768,
          "Error Type": "test",
          "Size of Test Set": 100,
          "Size of Training Set": 10
         },
         {
          "Error": 3.073897633286704,
          "Error Type": "test",
          "Size of Test Set": 100,
          "Size of Training Set": 10
         },
         {
          "Error": 3.9627299900838353,
          "Error Type": "test",
          "Size of Test Set": 100,
          "Size of Training Set": 10
         },
         {
          "Error": 2.381314025540803,
          "Error Type": "test",
          "Size of Test Set": 100,
          "Size of Training Set": 10
         },
         {
          "Error": 2.7483398351351327,
          "Error Type": "test",
          "Size of Test Set": 100,
          "Size of Training Set": 10
         },
         {
          "Error": 2.749758734343898,
          "Error Type": "test",
          "Size of Test Set": 100,
          "Size of Training Set": 10
         },
         {
          "Error": 3.0491980438193496,
          "Error Type": "test",
          "Size of Test Set": 100,
          "Size of Training Set": 10
         },
         {
          "Error": 2.6317730370392525,
          "Error Type": "test",
          "Size of Test Set": 100,
          "Size of Training Set": 10
         },
         {
          "Error": 2.0336148246126653,
          "Error Type": "test",
          "Size of Test Set": 100,
          "Size of Training Set": 10
         },
         {
          "Error": 2.6039647380489925,
          "Error Type": "test",
          "Size of Test Set": 100,
          "Size of Training Set": 10
         },
         {
          "Error": 3.1914062401032273,
          "Error Type": "test",
          "Size of Test Set": 100,
          "Size of Training Set": 10
         },
         {
          "Error": 3.2154091704964323,
          "Error Type": "test",
          "Size of Test Set": 100,
          "Size of Training Set": 10
         },
         {
          "Error": 2.351333444465342,
          "Error Type": "test",
          "Size of Test Set": 100,
          "Size of Training Set": 10
         },
         {
          "Error": 2.380623869163927,
          "Error Type": "test",
          "Size of Test Set": 100,
          "Size of Training Set": 10
         },
         {
          "Error": 2.781813189088662,
          "Error Type": "test",
          "Size of Test Set": 100,
          "Size of Training Set": 10
         },
         {
          "Error": 2.83484455748268,
          "Error Type": "test",
          "Size of Test Set": 100,
          "Size of Training Set": 10
         },
         {
          "Error": 1.8638126824950303,
          "Error Type": "test",
          "Size of Test Set": 100,
          "Size of Training Set": 100
         },
         {
          "Error": 2.223926802083652,
          "Error Type": "test",
          "Size of Test Set": 100,
          "Size of Training Set": 100
         },
         {
          "Error": 1.9834220510727198,
          "Error Type": "test",
          "Size of Test Set": 100,
          "Size of Training Set": 100
         },
         {
          "Error": 1.8322158877371608,
          "Error Type": "test",
          "Size of Test Set": 100,
          "Size of Training Set": 100
         },
         {
          "Error": 2.1183271912228374,
          "Error Type": "test",
          "Size of Test Set": 100,
          "Size of Training Set": 100
         },
         {
          "Error": 2.125841836855614,
          "Error Type": "test",
          "Size of Test Set": 100,
          "Size of Training Set": 100
         },
         {
          "Error": 2.18501022906221,
          "Error Type": "test",
          "Size of Test Set": 100,
          "Size of Training Set": 100
         },
         {
          "Error": 2.0091900037851387,
          "Error Type": "test",
          "Size of Test Set": 100,
          "Size of Training Set": 100
         },
         {
          "Error": 2.1470447104361003,
          "Error Type": "test",
          "Size of Test Set": 100,
          "Size of Training Set": 100
         },
         {
          "Error": 2.024584051749666,
          "Error Type": "test",
          "Size of Test Set": 100,
          "Size of Training Set": 100
         },
         {
          "Error": 1.867945808900885,
          "Error Type": "test",
          "Size of Test Set": 100,
          "Size of Training Set": 100
         },
         {
          "Error": 2.1785791441188564,
          "Error Type": "test",
          "Size of Test Set": 100,
          "Size of Training Set": 100
         },
         {
          "Error": 2.126999301852313,
          "Error Type": "test",
          "Size of Test Set": 100,
          "Size of Training Set": 100
         },
         {
          "Error": 2.2518694339050747,
          "Error Type": "test",
          "Size of Test Set": 100,
          "Size of Training Set": 100
         },
         {
          "Error": 2.023313584104639,
          "Error Type": "test",
          "Size of Test Set": 100,
          "Size of Training Set": 100
         },
         {
          "Error": 1.936926057860719,
          "Error Type": "test",
          "Size of Test Set": 100,
          "Size of Training Set": 100
         },
         {
          "Error": 2.0124377589533893,
          "Error Type": "test",
          "Size of Test Set": 100,
          "Size of Training Set": 100
         },
         {
          "Error": 2.0935035278016865,
          "Error Type": "test",
          "Size of Test Set": 100,
          "Size of Training Set": 100
         },
         {
          "Error": 1.92510563057446,
          "Error Type": "test",
          "Size of Test Set": 100,
          "Size of Training Set": 100
         },
         {
          "Error": 2.005657847718411,
          "Error Type": "test",
          "Size of Test Set": 100,
          "Size of Training Set": 100
         },
         {
          "Error": 2.0490130578452757,
          "Error Type": "test",
          "Size of Test Set": 100,
          "Size of Training Set": 100
         },
         {
          "Error": 1.8987435659519785,
          "Error Type": "test",
          "Size of Test Set": 100,
          "Size of Training Set": 100
         },
         {
          "Error": 2.1308975613369046,
          "Error Type": "test",
          "Size of Test Set": 100,
          "Size of Training Set": 100
         },
         {
          "Error": 2.2561054527148796,
          "Error Type": "test",
          "Size of Test Set": 100,
          "Size of Training Set": 100
         },
         {
          "Error": 2.2370306871238843,
          "Error Type": "test",
          "Size of Test Set": 100,
          "Size of Training Set": 100
         },
         {
          "Error": 2.06517647312991,
          "Error Type": "test",
          "Size of Test Set": 100,
          "Size of Training Set": 100
         },
         {
          "Error": 2.1466208543372223,
          "Error Type": "test",
          "Size of Test Set": 100,
          "Size of Training Set": 100
         },
         {
          "Error": 2.0211855926159057,
          "Error Type": "test",
          "Size of Test Set": 100,
          "Size of Training Set": 100
         },
         {
          "Error": 1.76413121643412,
          "Error Type": "test",
          "Size of Test Set": 100,
          "Size of Training Set": 100
         },
         {
          "Error": 1.9132026761329584,
          "Error Type": "test",
          "Size of Test Set": 100,
          "Size of Training Set": 100
         },
         {
          "Error": 2.1162665556235556,
          "Error Type": "test",
          "Size of Test Set": 100,
          "Size of Training Set": 100
         },
         {
          "Error": 2.225340954858826,
          "Error Type": "test",
          "Size of Test Set": 100,
          "Size of Training Set": 100
         },
         {
          "Error": 2.0336151197889056,
          "Error Type": "test",
          "Size of Test Set": 100,
          "Size of Training Set": 100
         },
         {
          "Error": 2.159286205385956,
          "Error Type": "test",
          "Size of Test Set": 100,
          "Size of Training Set": 100
         },
         {
          "Error": 1.9574088744657423,
          "Error Type": "test",
          "Size of Test Set": 100,
          "Size of Training Set": 100
         },
         {
          "Error": 2.332198154862118,
          "Error Type": "test",
          "Size of Test Set": 100,
          "Size of Training Set": 100
         },
         {
          "Error": 1.9185782689266895,
          "Error Type": "test",
          "Size of Test Set": 100,
          "Size of Training Set": 100
         },
         {
          "Error": 1.9647151840274701,
          "Error Type": "test",
          "Size of Test Set": 100,
          "Size of Training Set": 100
         },
         {
          "Error": 1.653915108095317,
          "Error Type": "test",
          "Size of Test Set": 100,
          "Size of Training Set": 100
         },
         {
          "Error": 2.1079247210452094,
          "Error Type": "test",
          "Size of Test Set": 100,
          "Size of Training Set": 100
         },
         {
          "Error": 1.9583488843887418,
          "Error Type": "test",
          "Size of Test Set": 100,
          "Size of Training Set": 100
         },
         {
          "Error": 2.101016020231116,
          "Error Type": "test",
          "Size of Test Set": 100,
          "Size of Training Set": 100
         },
         {
          "Error": 1.7757976999313376,
          "Error Type": "test",
          "Size of Test Set": 100,
          "Size of Training Set": 100
         },
         {
          "Error": 1.9415904549820007,
          "Error Type": "test",
          "Size of Test Set": 100,
          "Size of Training Set": 100
         },
         {
          "Error": 1.7968154236045413,
          "Error Type": "test",
          "Size of Test Set": 100,
          "Size of Training Set": 100
         },
         {
          "Error": 1.9604915808116068,
          "Error Type": "test",
          "Size of Test Set": 100,
          "Size of Training Set": 100
         },
         {
          "Error": 1.7137331407294432,
          "Error Type": "test",
          "Size of Test Set": 100,
          "Size of Training Set": 100
         },
         {
          "Error": 2.088167096924876,
          "Error Type": "test",
          "Size of Test Set": 100,
          "Size of Training Set": 100
         },
         {
          "Error": 1.9748669440932085,
          "Error Type": "test",
          "Size of Test Set": 100,
          "Size of Training Set": 100
         },
         {
          "Error": 1.988011267397971,
          "Error Type": "test",
          "Size of Test Set": 100,
          "Size of Training Set": 100
         },
         {
          "Error": 1.9258435699951664,
          "Error Type": "test",
          "Size of Test Set": 100,
          "Size of Training Set": 100
         },
         {
          "Error": 1.9230953065122074,
          "Error Type": "test",
          "Size of Test Set": 100,
          "Size of Training Set": 100
         },
         {
          "Error": 1.7306301787175342,
          "Error Type": "test",
          "Size of Test Set": 100,
          "Size of Training Set": 100
         },
         {
          "Error": 1.9821974639915405,
          "Error Type": "test",
          "Size of Test Set": 100,
          "Size of Training Set": 100
         },
         {
          "Error": 1.9742864255695087,
          "Error Type": "test",
          "Size of Test Set": 100,
          "Size of Training Set": 100
         },
         {
          "Error": 1.7836525851120044,
          "Error Type": "test",
          "Size of Test Set": 100,
          "Size of Training Set": 100
         },
         {
          "Error": 1.9090207350085353,
          "Error Type": "test",
          "Size of Test Set": 100,
          "Size of Training Set": 100
         },
         {
          "Error": 1.8461541767502596,
          "Error Type": "test",
          "Size of Test Set": 100,
          "Size of Training Set": 100
         },
         {
          "Error": 1.8020600614668043,
          "Error Type": "test",
          "Size of Test Set": 100,
          "Size of Training Set": 100
         },
         {
          "Error": 1.9634525914481182,
          "Error Type": "test",
          "Size of Test Set": 100,
          "Size of Training Set": 100
         },
         {
          "Error": 2.0552404557777026,
          "Error Type": "test",
          "Size of Test Set": 100,
          "Size of Training Set": 100
         },
         {
          "Error": 1.7757347821640832,
          "Error Type": "test",
          "Size of Test Set": 100,
          "Size of Training Set": 100
         },
         {
          "Error": 2.0941183661075824,
          "Error Type": "test",
          "Size of Test Set": 100,
          "Size of Training Set": 100
         },
         {
          "Error": 2.123202161352028,
          "Error Type": "test",
          "Size of Test Set": 100,
          "Size of Training Set": 100
         },
         {
          "Error": 1.8713859651132745,
          "Error Type": "test",
          "Size of Test Set": 100,
          "Size of Training Set": 100
         },
         {
          "Error": 1.8329990445965065,
          "Error Type": "test",
          "Size of Test Set": 100,
          "Size of Training Set": 100
         },
         {
          "Error": 1.9384255178453271,
          "Error Type": "test",
          "Size of Test Set": 100,
          "Size of Training Set": 100
         },
         {
          "Error": 2.0446059425679777,
          "Error Type": "test",
          "Size of Test Set": 100,
          "Size of Training Set": 100
         },
         {
          "Error": 2.237636821908025,
          "Error Type": "test",
          "Size of Test Set": 100,
          "Size of Training Set": 100
         },
         {
          "Error": 2.1444811618666106,
          "Error Type": "test",
          "Size of Test Set": 100,
          "Size of Training Set": 100
         },
         {
          "Error": 2.026755677375101,
          "Error Type": "test",
          "Size of Test Set": 100,
          "Size of Training Set": 100
         },
         {
          "Error": 2.3602670227928555,
          "Error Type": "test",
          "Size of Test Set": 100,
          "Size of Training Set": 100
         },
         {
          "Error": 1.8278186642886844,
          "Error Type": "test",
          "Size of Test Set": 100,
          "Size of Training Set": 100
         },
         {
          "Error": 2.2681423864638774,
          "Error Type": "test",
          "Size of Test Set": 100,
          "Size of Training Set": 100
         },
         {
          "Error": 2.1895169736547504,
          "Error Type": "test",
          "Size of Test Set": 100,
          "Size of Training Set": 100
         },
         {
          "Error": 1.8627039178629383,
          "Error Type": "test",
          "Size of Test Set": 100,
          "Size of Training Set": 100
         },
         {
          "Error": 2.2536696476907374,
          "Error Type": "test",
          "Size of Test Set": 100,
          "Size of Training Set": 100
         },
         {
          "Error": 1.899112907392791,
          "Error Type": "test",
          "Size of Test Set": 100,
          "Size of Training Set": 100
         },
         {
          "Error": 2.1072308996172744,
          "Error Type": "test",
          "Size of Test Set": 100,
          "Size of Training Set": 100
         },
         {
          "Error": 1.9343597045218548,
          "Error Type": "test",
          "Size of Test Set": 100,
          "Size of Training Set": 100
         },
         {
          "Error": 1.9421158863809416,
          "Error Type": "test",
          "Size of Test Set": 100,
          "Size of Training Set": 100
         },
         {
          "Error": 2.0067565229643076,
          "Error Type": "test",
          "Size of Test Set": 100,
          "Size of Training Set": 100
         },
         {
          "Error": 2.2123727711196306,
          "Error Type": "test",
          "Size of Test Set": 100,
          "Size of Training Set": 100
         },
         {
          "Error": 2.0261229846310385,
          "Error Type": "test",
          "Size of Test Set": 100,
          "Size of Training Set": 100
         },
         {
          "Error": 1.9340542863584604,
          "Error Type": "test",
          "Size of Test Set": 100,
          "Size of Training Set": 100
         },
         {
          "Error": 2.189622120637156,
          "Error Type": "test",
          "Size of Test Set": 100,
          "Size of Training Set": 100
         },
         {
          "Error": 1.6880970298048643,
          "Error Type": "test",
          "Size of Test Set": 100,
          "Size of Training Set": 100
         },
         {
          "Error": 2.0114929686971568,
          "Error Type": "test",
          "Size of Test Set": 100,
          "Size of Training Set": 100
         },
         {
          "Error": 1.813585423401854,
          "Error Type": "test",
          "Size of Test Set": 100,
          "Size of Training Set": 100
         },
         {
          "Error": 1.9231871425528977,
          "Error Type": "test",
          "Size of Test Set": 100,
          "Size of Training Set": 100
         },
         {
          "Error": 1.9058930442804864,
          "Error Type": "test",
          "Size of Test Set": 100,
          "Size of Training Set": 100
         },
         {
          "Error": 1.89921458845092,
          "Error Type": "test",
          "Size of Test Set": 100,
          "Size of Training Set": 100
         },
         {
          "Error": 2.090485084377004,
          "Error Type": "test",
          "Size of Test Set": 100,
          "Size of Training Set": 100
         },
         {
          "Error": 1.870631734254296,
          "Error Type": "test",
          "Size of Test Set": 100,
          "Size of Training Set": 100
         },
         {
          "Error": 1.8111514791485535,
          "Error Type": "test",
          "Size of Test Set": 100,
          "Size of Training Set": 100
         },
         {
          "Error": 2.2406948433156573,
          "Error Type": "test",
          "Size of Test Set": 100,
          "Size of Training Set": 100
         },
         {
          "Error": 2.244364260266766,
          "Error Type": "test",
          "Size of Test Set": 100,
          "Size of Training Set": 100
         },
         {
          "Error": 1.8594778919785657,
          "Error Type": "test",
          "Size of Test Set": 100,
          "Size of Training Set": 100
         },
         {
          "Error": 2.1987554035501207,
          "Error Type": "test",
          "Size of Test Set": 100,
          "Size of Training Set": 100
         },
         {
          "Error": 1.6789644098433627,
          "Error Type": "test",
          "Size of Test Set": 100,
          "Size of Training Set": 100
         },
         {
          "Error": 2.1988634426703095,
          "Error Type": "test",
          "Size of Test Set": 100,
          "Size of Training Set": 100
         },
         {
          "Error": 1.9023046636752177,
          "Error Type": "test",
          "Size of Test Set": 100,
          "Size of Training Set": 100
         },
         {
          "Error": 1.8487104880266783,
          "Error Type": "test",
          "Size of Test Set": 100,
          "Size of Training Set": 100
         },
         {
          "Error": 1.9646543952789093,
          "Error Type": "test",
          "Size of Test Set": 100,
          "Size of Training Set": 100
         },
         {
          "Error": 2.1093073154444055,
          "Error Type": "test",
          "Size of Test Set": 100,
          "Size of Training Set": 100
         },
         {
          "Error": 2.104753260936334,
          "Error Type": "test",
          "Size of Test Set": 100,
          "Size of Training Set": 100
         },
         {
          "Error": 2.3964447162656453,
          "Error Type": "test",
          "Size of Test Set": 100,
          "Size of Training Set": 100
         },
         {
          "Error": 2.0281700148356485,
          "Error Type": "test",
          "Size of Test Set": 100,
          "Size of Training Set": 100
         },
         {
          "Error": 1.9781624189232538,
          "Error Type": "test",
          "Size of Test Set": 100,
          "Size of Training Set": 100
         },
         {
          "Error": 2.1863709998559666,
          "Error Type": "test",
          "Size of Test Set": 100,
          "Size of Training Set": 100
         },
         {
          "Error": 1.8316438131811157,
          "Error Type": "test",
          "Size of Test Set": 100,
          "Size of Training Set": 100
         },
         {
          "Error": 2.128823304794579,
          "Error Type": "test",
          "Size of Test Set": 100,
          "Size of Training Set": 100
         },
         {
          "Error": 1.9889825017039922,
          "Error Type": "test",
          "Size of Test Set": 100,
          "Size of Training Set": 100
         },
         {
          "Error": 2.079302765462155,
          "Error Type": "test",
          "Size of Test Set": 100,
          "Size of Training Set": 100
         },
         {
          "Error": 1.9405915675686651,
          "Error Type": "test",
          "Size of Test Set": 100,
          "Size of Training Set": 100
         },
         {
          "Error": 1.72433715628641,
          "Error Type": "test",
          "Size of Test Set": 100,
          "Size of Training Set": 100
         },
         {
          "Error": 1.96923229387517,
          "Error Type": "test",
          "Size of Test Set": 100,
          "Size of Training Set": 100
         },
         {
          "Error": 1.9383055221208239,
          "Error Type": "test",
          "Size of Test Set": 100,
          "Size of Training Set": 100
         },
         {
          "Error": 2.0065290942439353,
          "Error Type": "test",
          "Size of Test Set": 100,
          "Size of Training Set": 100
         },
         {
          "Error": 2.3693061009173926,
          "Error Type": "test",
          "Size of Test Set": 100,
          "Size of Training Set": 100
         },
         {
          "Error": 2.2644446770961735,
          "Error Type": "test",
          "Size of Test Set": 100,
          "Size of Training Set": 100
         },
         {
          "Error": 1.5821930899989696,
          "Error Type": "test",
          "Size of Test Set": 100,
          "Size of Training Set": 100
         },
         {
          "Error": 2.0813771401268224,
          "Error Type": "test",
          "Size of Test Set": 100,
          "Size of Training Set": 100
         },
         {
          "Error": 1.8860875511628423,
          "Error Type": "test",
          "Size of Test Set": 100,
          "Size of Training Set": 100
         },
         {
          "Error": 1.9828383131948575,
          "Error Type": "test",
          "Size of Test Set": 100,
          "Size of Training Set": 100
         },
         {
          "Error": 2.2956556747924184,
          "Error Type": "test",
          "Size of Test Set": 100,
          "Size of Training Set": 100
         },
         {
          "Error": 2.168251148973882,
          "Error Type": "test",
          "Size of Test Set": 100,
          "Size of Training Set": 100
         },
         {
          "Error": 1.7886562879122956,
          "Error Type": "test",
          "Size of Test Set": 100,
          "Size of Training Set": 100
         },
         {
          "Error": 2.2770659696119107,
          "Error Type": "test",
          "Size of Test Set": 100,
          "Size of Training Set": 100
         },
         {
          "Error": 1.9414992716812263,
          "Error Type": "test",
          "Size of Test Set": 100,
          "Size of Training Set": 100
         },
         {
          "Error": 1.9714224431231835,
          "Error Type": "test",
          "Size of Test Set": 100,
          "Size of Training Set": 100
         },
         {
          "Error": 2.2411940095972303,
          "Error Type": "test",
          "Size of Test Set": 100,
          "Size of Training Set": 100
         },
         {
          "Error": 1.7408034370309853,
          "Error Type": "test",
          "Size of Test Set": 100,
          "Size of Training Set": 100
         },
         {
          "Error": 2.0814456784745348,
          "Error Type": "test",
          "Size of Test Set": 100,
          "Size of Training Set": 100
         },
         {
          "Error": 2.0232214186122746,
          "Error Type": "test",
          "Size of Test Set": 100,
          "Size of Training Set": 100
         },
         {
          "Error": 1.989747559144621,
          "Error Type": "test",
          "Size of Test Set": 100,
          "Size of Training Set": 100
         },
         {
          "Error": 1.828760724399036,
          "Error Type": "test",
          "Size of Test Set": 100,
          "Size of Training Set": 100
         },
         {
          "Error": 2.012309912167019,
          "Error Type": "test",
          "Size of Test Set": 100,
          "Size of Training Set": 100
         },
         {
          "Error": 1.7596265076320685,
          "Error Type": "test",
          "Size of Test Set": 100,
          "Size of Training Set": 100
         },
         {
          "Error": 1.9491959555054494,
          "Error Type": "test",
          "Size of Test Set": 100,
          "Size of Training Set": 100
         },
         {
          "Error": 1.9438490445684218,
          "Error Type": "test",
          "Size of Test Set": 100,
          "Size of Training Set": 100
         },
         {
          "Error": 2.376672703184671,
          "Error Type": "test",
          "Size of Test Set": 100,
          "Size of Training Set": 100
         },
         {
          "Error": 2.2253285993425376,
          "Error Type": "test",
          "Size of Test Set": 100,
          "Size of Training Set": 100
         },
         {
          "Error": 2.0509675977974173,
          "Error Type": "test",
          "Size of Test Set": 100,
          "Size of Training Set": 100
         },
         {
          "Error": 2.032785406111777,
          "Error Type": "test",
          "Size of Test Set": 100,
          "Size of Training Set": 100
         },
         {
          "Error": 1.9379200698838386,
          "Error Type": "test",
          "Size of Test Set": 100,
          "Size of Training Set": 100
         },
         {
          "Error": 1.8928634924227339,
          "Error Type": "test",
          "Size of Test Set": 100,
          "Size of Training Set": 100
         },
         {
          "Error": 2.138928883584506,
          "Error Type": "test",
          "Size of Test Set": 100,
          "Size of Training Set": 100
         },
         {
          "Error": 2.0612693721036157,
          "Error Type": "test",
          "Size of Test Set": 100,
          "Size of Training Set": 100
         },
         {
          "Error": 2.094801248365236,
          "Error Type": "test",
          "Size of Test Set": 100,
          "Size of Training Set": 100
         },
         {
          "Error": 2.1063314399524073,
          "Error Type": "test",
          "Size of Test Set": 100,
          "Size of Training Set": 100
         },
         {
          "Error": 1.755365206595429,
          "Error Type": "test",
          "Size of Test Set": 100,
          "Size of Training Set": 100
         },
         {
          "Error": 1.997601238621548,
          "Error Type": "test",
          "Size of Test Set": 100,
          "Size of Training Set": 100
         },
         {
          "Error": 1.818080309043454,
          "Error Type": "test",
          "Size of Test Set": 100,
          "Size of Training Set": 100
         },
         {
          "Error": 1.889381561562094,
          "Error Type": "test",
          "Size of Test Set": 100,
          "Size of Training Set": 100
         },
         {
          "Error": 2.0832771460144413,
          "Error Type": "test",
          "Size of Test Set": 100,
          "Size of Training Set": 100
         },
         {
          "Error": 2.0487631167787366,
          "Error Type": "test",
          "Size of Test Set": 100,
          "Size of Training Set": 100
         },
         {
          "Error": 2.246764886788507,
          "Error Type": "test",
          "Size of Test Set": 100,
          "Size of Training Set": 100
         },
         {
          "Error": 1.964727547685337,
          "Error Type": "test",
          "Size of Test Set": 100,
          "Size of Training Set": 100
         },
         {
          "Error": 1.9710903687480255,
          "Error Type": "test",
          "Size of Test Set": 100,
          "Size of Training Set": 100
         },
         {
          "Error": 1.9218815033255168,
          "Error Type": "test",
          "Size of Test Set": 100,
          "Size of Training Set": 100
         },
         {
          "Error": 1.654891431649768,
          "Error Type": "test",
          "Size of Test Set": 100,
          "Size of Training Set": 100
         },
         {
          "Error": 2.042118509259863,
          "Error Type": "test",
          "Size of Test Set": 100,
          "Size of Training Set": 100
         },
         {
          "Error": 2.160488585571765,
          "Error Type": "test",
          "Size of Test Set": 100,
          "Size of Training Set": 100
         },
         {
          "Error": 1.7867581292629522,
          "Error Type": "test",
          "Size of Test Set": 100,
          "Size of Training Set": 100
         },
         {
          "Error": 1.9059733898839122,
          "Error Type": "test",
          "Size of Test Set": 100,
          "Size of Training Set": 100
         },
         {
          "Error": 1.945922850851269,
          "Error Type": "test",
          "Size of Test Set": 100,
          "Size of Training Set": 100
         },
         {
          "Error": 2.0108440689934888,
          "Error Type": "test",
          "Size of Test Set": 100,
          "Size of Training Set": 100
         },
         {
          "Error": 1.8664863038581876,
          "Error Type": "test",
          "Size of Test Set": 100,
          "Size of Training Set": 100
         },
         {
          "Error": 1.9544665815148725,
          "Error Type": "test",
          "Size of Test Set": 100,
          "Size of Training Set": 100
         },
         {
          "Error": 2.1293953290886596,
          "Error Type": "test",
          "Size of Test Set": 100,
          "Size of Training Set": 100
         },
         {
          "Error": 1.9857348357494025,
          "Error Type": "test",
          "Size of Test Set": 100,
          "Size of Training Set": 100
         },
         {
          "Error": 1.860752656043505,
          "Error Type": "test",
          "Size of Test Set": 100,
          "Size of Training Set": 100
         },
         {
          "Error": 1.9566318580559332,
          "Error Type": "test",
          "Size of Test Set": 100,
          "Size of Training Set": 100
         },
         {
          "Error": 2.0679484581982197,
          "Error Type": "test",
          "Size of Test Set": 100,
          "Size of Training Set": 100
         },
         {
          "Error": 1.6627918573385432,
          "Error Type": "test",
          "Size of Test Set": 100,
          "Size of Training Set": 100
         },
         {
          "Error": 2.0146004793337275,
          "Error Type": "test",
          "Size of Test Set": 100,
          "Size of Training Set": 100
         },
         {
          "Error": 2.017102667517735,
          "Error Type": "test",
          "Size of Test Set": 100,
          "Size of Training Set": 100
         },
         {
          "Error": 1.788314330128506,
          "Error Type": "test",
          "Size of Test Set": 100,
          "Size of Training Set": 100
         },
         {
          "Error": 2.035936682871787,
          "Error Type": "test",
          "Size of Test Set": 100,
          "Size of Training Set": 100
         },
         {
          "Error": 2.2207452926610625,
          "Error Type": "test",
          "Size of Test Set": 100,
          "Size of Training Set": 100
         },
         {
          "Error": 2.0712724323667113,
          "Error Type": "test",
          "Size of Test Set": 100,
          "Size of Training Set": 100
         },
         {
          "Error": 2.138075248445405,
          "Error Type": "test",
          "Size of Test Set": 100,
          "Size of Training Set": 100
         },
         {
          "Error": 1.8160848349387855,
          "Error Type": "test",
          "Size of Test Set": 100,
          "Size of Training Set": 100
         },
         {
          "Error": 1.9765646428198205,
          "Error Type": "test",
          "Size of Test Set": 100,
          "Size of Training Set": 100
         },
         {
          "Error": 2.076256603118557,
          "Error Type": "test",
          "Size of Test Set": 100,
          "Size of Training Set": 100
         },
         {
          "Error": 1.735232751389992,
          "Error Type": "test",
          "Size of Test Set": 100,
          "Size of Training Set": 100
         },
         {
          "Error": 1.9492960232600345,
          "Error Type": "test",
          "Size of Test Set": 100,
          "Size of Training Set": 100
         },
         {
          "Error": 2.007507696583863,
          "Error Type": "test",
          "Size of Test Set": 100,
          "Size of Training Set": 100
         },
         {
          "Error": 1.987149533469956,
          "Error Type": "test",
          "Size of Test Set": 100,
          "Size of Training Set": 100
         },
         {
          "Error": 2.460298851613315,
          "Error Type": "test",
          "Size of Test Set": 100,
          "Size of Training Set": 100
         },
         {
          "Error": 1.8736265777174486,
          "Error Type": "test",
          "Size of Test Set": 100,
          "Size of Training Set": 100
         },
         {
          "Error": 2.386593736109414,
          "Error Type": "test",
          "Size of Test Set": 100,
          "Size of Training Set": 100
         },
         {
          "Error": 2.162280690476729,
          "Error Type": "test",
          "Size of Test Set": 100,
          "Size of Training Set": 100
         },
         {
          "Error": 2.1690152933471136,
          "Error Type": "test",
          "Size of Test Set": 100,
          "Size of Training Set": 100
         },
         {
          "Error": 2.3721845298202218,
          "Error Type": "test",
          "Size of Test Set": 100,
          "Size of Training Set": 100
         },
         {
          "Error": 2.1195859634893175,
          "Error Type": "test",
          "Size of Test Set": 100,
          "Size of Training Set": 100
         },
         {
          "Error": 2.1538768299177193,
          "Error Type": "test",
          "Size of Test Set": 100,
          "Size of Training Set": 100
         },
         {
          "Error": 2.022969880181665,
          "Error Type": "test",
          "Size of Test Set": 100,
          "Size of Training Set": 100
         },
         {
          "Error": 2.1546414281859416,
          "Error Type": "test",
          "Size of Test Set": 100,
          "Size of Training Set": 100
         },
         {
          "Error": 1.9097729668147958,
          "Error Type": "test",
          "Size of Test Set": 100,
          "Size of Training Set": 1000
         },
         {
          "Error": 1.9740952311414524,
          "Error Type": "test",
          "Size of Test Set": 100,
          "Size of Training Set": 1000
         },
         {
          "Error": 1.7529281596555264,
          "Error Type": "test",
          "Size of Test Set": 100,
          "Size of Training Set": 1000
         },
         {
          "Error": 2.1258699672386694,
          "Error Type": "test",
          "Size of Test Set": 100,
          "Size of Training Set": 1000
         },
         {
          "Error": 1.8584479608506264,
          "Error Type": "test",
          "Size of Test Set": 100,
          "Size of Training Set": 1000
         },
         {
          "Error": 2.009756101116501,
          "Error Type": "test",
          "Size of Test Set": 100,
          "Size of Training Set": 1000
         },
         {
          "Error": 1.8098303801268452,
          "Error Type": "test",
          "Size of Test Set": 100,
          "Size of Training Set": 1000
         },
         {
          "Error": 1.694766510082749,
          "Error Type": "test",
          "Size of Test Set": 100,
          "Size of Training Set": 1000
         },
         {
          "Error": 1.6750538505707695,
          "Error Type": "test",
          "Size of Test Set": 100,
          "Size of Training Set": 1000
         },
         {
          "Error": 1.675731440056459,
          "Error Type": "test",
          "Size of Test Set": 100,
          "Size of Training Set": 1000
         },
         {
          "Error": 1.8294130300677836,
          "Error Type": "test",
          "Size of Test Set": 100,
          "Size of Training Set": 1000
         },
         {
          "Error": 2.0957252267902753,
          "Error Type": "test",
          "Size of Test Set": 100,
          "Size of Training Set": 1000
         },
         {
          "Error": 1.8863255493029896,
          "Error Type": "test",
          "Size of Test Set": 100,
          "Size of Training Set": 1000
         },
         {
          "Error": 1.533306406312106,
          "Error Type": "test",
          "Size of Test Set": 100,
          "Size of Training Set": 1000
         },
         {
          "Error": 1.7743942151051646,
          "Error Type": "test",
          "Size of Test Set": 100,
          "Size of Training Set": 1000
         },
         {
          "Error": 1.955789598513364,
          "Error Type": "test",
          "Size of Test Set": 100,
          "Size of Training Set": 1000
         },
         {
          "Error": 1.8075136180829323,
          "Error Type": "test",
          "Size of Test Set": 100,
          "Size of Training Set": 1000
         },
         {
          "Error": 1.7711543566235608,
          "Error Type": "test",
          "Size of Test Set": 100,
          "Size of Training Set": 1000
         },
         {
          "Error": 1.6843168867335925,
          "Error Type": "test",
          "Size of Test Set": 100,
          "Size of Training Set": 1000
         },
         {
          "Error": 1.970266453012942,
          "Error Type": "test",
          "Size of Test Set": 100,
          "Size of Training Set": 1000
         },
         {
          "Error": 1.9764628145623704,
          "Error Type": "test",
          "Size of Test Set": 100,
          "Size of Training Set": 1000
         },
         {
          "Error": 1.7654830641767376,
          "Error Type": "test",
          "Size of Test Set": 100,
          "Size of Training Set": 1000
         },
         {
          "Error": 1.929868554056731,
          "Error Type": "test",
          "Size of Test Set": 100,
          "Size of Training Set": 1000
         },
         {
          "Error": 1.6952973251327703,
          "Error Type": "test",
          "Size of Test Set": 100,
          "Size of Training Set": 1000
         },
         {
          "Error": 2.098126451709238,
          "Error Type": "test",
          "Size of Test Set": 100,
          "Size of Training Set": 1000
         },
         {
          "Error": 2.1324913603348232,
          "Error Type": "test",
          "Size of Test Set": 100,
          "Size of Training Set": 1000
         },
         {
          "Error": 1.8950563137953709,
          "Error Type": "test",
          "Size of Test Set": 100,
          "Size of Training Set": 1000
         },
         {
          "Error": 1.8434872710573171,
          "Error Type": "test",
          "Size of Test Set": 100,
          "Size of Training Set": 1000
         },
         {
          "Error": 1.7810660640719278,
          "Error Type": "test",
          "Size of Test Set": 100,
          "Size of Training Set": 1000
         },
         {
          "Error": 1.90469194711036,
          "Error Type": "test",
          "Size of Test Set": 100,
          "Size of Training Set": 1000
         },
         {
          "Error": 1.947756483914449,
          "Error Type": "test",
          "Size of Test Set": 100,
          "Size of Training Set": 1000
         },
         {
          "Error": 1.8002439307591778,
          "Error Type": "test",
          "Size of Test Set": 100,
          "Size of Training Set": 1000
         },
         {
          "Error": 2.0905107687145232,
          "Error Type": "test",
          "Size of Test Set": 100,
          "Size of Training Set": 1000
         },
         {
          "Error": 2.127804982433477,
          "Error Type": "test",
          "Size of Test Set": 100,
          "Size of Training Set": 1000
         },
         {
          "Error": 1.7825342551585157,
          "Error Type": "test",
          "Size of Test Set": 100,
          "Size of Training Set": 1000
         },
         {
          "Error": 1.9733886849832387,
          "Error Type": "test",
          "Size of Test Set": 100,
          "Size of Training Set": 1000
         },
         {
          "Error": 1.9764786356751864,
          "Error Type": "test",
          "Size of Test Set": 100,
          "Size of Training Set": 1000
         },
         {
          "Error": 1.9817097709696905,
          "Error Type": "test",
          "Size of Test Set": 100,
          "Size of Training Set": 1000
         },
         {
          "Error": 1.7360324441919162,
          "Error Type": "test",
          "Size of Test Set": 100,
          "Size of Training Set": 1000
         },
         {
          "Error": 2.048562888378008,
          "Error Type": "test",
          "Size of Test Set": 100,
          "Size of Training Set": 1000
         },
         {
          "Error": 2.0038054982866007,
          "Error Type": "test",
          "Size of Test Set": 100,
          "Size of Training Set": 1000
         },
         {
          "Error": 2.0490016416556354,
          "Error Type": "test",
          "Size of Test Set": 100,
          "Size of Training Set": 1000
         },
         {
          "Error": 1.9688515581440214,
          "Error Type": "test",
          "Size of Test Set": 100,
          "Size of Training Set": 1000
         },
         {
          "Error": 1.8630729879351906,
          "Error Type": "test",
          "Size of Test Set": 100,
          "Size of Training Set": 1000
         },
         {
          "Error": 1.8192403390975358,
          "Error Type": "test",
          "Size of Test Set": 100,
          "Size of Training Set": 1000
         },
         {
          "Error": 1.7110997191711317,
          "Error Type": "test",
          "Size of Test Set": 100,
          "Size of Training Set": 1000
         },
         {
          "Error": 1.8851616965530593,
          "Error Type": "test",
          "Size of Test Set": 100,
          "Size of Training Set": 1000
         },
         {
          "Error": 1.8777796826493367,
          "Error Type": "test",
          "Size of Test Set": 100,
          "Size of Training Set": 1000
         },
         {
          "Error": 1.6902185262610254,
          "Error Type": "test",
          "Size of Test Set": 100,
          "Size of Training Set": 1000
         },
         {
          "Error": 1.9431763177414825,
          "Error Type": "test",
          "Size of Test Set": 100,
          "Size of Training Set": 1000
         },
         {
          "Error": 1.8888039409256143,
          "Error Type": "test",
          "Size of Test Set": 100,
          "Size of Training Set": 1000
         },
         {
          "Error": 1.8684132773889381,
          "Error Type": "test",
          "Size of Test Set": 100,
          "Size of Training Set": 1000
         },
         {
          "Error": 1.7469005113895377,
          "Error Type": "test",
          "Size of Test Set": 100,
          "Size of Training Set": 1000
         },
         {
          "Error": 1.7646143906244132,
          "Error Type": "test",
          "Size of Test Set": 100,
          "Size of Training Set": 1000
         },
         {
          "Error": 1.7577176119723092,
          "Error Type": "test",
          "Size of Test Set": 100,
          "Size of Training Set": 1000
         },
         {
          "Error": 1.9079661354823343,
          "Error Type": "test",
          "Size of Test Set": 100,
          "Size of Training Set": 1000
         },
         {
          "Error": 1.8397261392083646,
          "Error Type": "test",
          "Size of Test Set": 100,
          "Size of Training Set": 1000
         },
         {
          "Error": 1.8581276352488012,
          "Error Type": "test",
          "Size of Test Set": 100,
          "Size of Training Set": 1000
         },
         {
          "Error": 1.8794159661755545,
          "Error Type": "test",
          "Size of Test Set": 100,
          "Size of Training Set": 1000
         },
         {
          "Error": 1.7281951999348246,
          "Error Type": "test",
          "Size of Test Set": 100,
          "Size of Training Set": 1000
         },
         {
          "Error": 1.8552922767686169,
          "Error Type": "test",
          "Size of Test Set": 100,
          "Size of Training Set": 1000
         },
         {
          "Error": 1.7228695295296095,
          "Error Type": "test",
          "Size of Test Set": 100,
          "Size of Training Set": 1000
         },
         {
          "Error": 1.872868814400675,
          "Error Type": "test",
          "Size of Test Set": 100,
          "Size of Training Set": 1000
         },
         {
          "Error": 1.9213379895244025,
          "Error Type": "test",
          "Size of Test Set": 100,
          "Size of Training Set": 1000
         },
         {
          "Error": 1.9537068700522326,
          "Error Type": "test",
          "Size of Test Set": 100,
          "Size of Training Set": 1000
         },
         {
          "Error": 1.9270065946962638,
          "Error Type": "test",
          "Size of Test Set": 100,
          "Size of Training Set": 1000
         },
         {
          "Error": 1.8285392779450609,
          "Error Type": "test",
          "Size of Test Set": 100,
          "Size of Training Set": 1000
         },
         {
          "Error": 1.7145493455451881,
          "Error Type": "test",
          "Size of Test Set": 100,
          "Size of Training Set": 1000
         },
         {
          "Error": 2.0195289061889663,
          "Error Type": "test",
          "Size of Test Set": 100,
          "Size of Training Set": 1000
         },
         {
          "Error": 1.7724378601402047,
          "Error Type": "test",
          "Size of Test Set": 100,
          "Size of Training Set": 1000
         },
         {
          "Error": 2.0662635464105272,
          "Error Type": "test",
          "Size of Test Set": 100,
          "Size of Training Set": 1000
         },
         {
          "Error": 1.8592446643049287,
          "Error Type": "test",
          "Size of Test Set": 100,
          "Size of Training Set": 1000
         },
         {
          "Error": 2.0454744345577476,
          "Error Type": "test",
          "Size of Test Set": 100,
          "Size of Training Set": 1000
         },
         {
          "Error": 1.8531358617811775,
          "Error Type": "test",
          "Size of Test Set": 100,
          "Size of Training Set": 1000
         },
         {
          "Error": 2.17362874227198,
          "Error Type": "test",
          "Size of Test Set": 100,
          "Size of Training Set": 1000
         },
         {
          "Error": 1.8085582998133218,
          "Error Type": "test",
          "Size of Test Set": 100,
          "Size of Training Set": 1000
         },
         {
          "Error": 2.0474976712028514,
          "Error Type": "test",
          "Size of Test Set": 100,
          "Size of Training Set": 1000
         },
         {
          "Error": 1.8185117536942292,
          "Error Type": "test",
          "Size of Test Set": 100,
          "Size of Training Set": 1000
         },
         {
          "Error": 1.93959602896524,
          "Error Type": "test",
          "Size of Test Set": 100,
          "Size of Training Set": 1000
         },
         {
          "Error": 1.865468933783828,
          "Error Type": "test",
          "Size of Test Set": 100,
          "Size of Training Set": 1000
         },
         {
          "Error": 1.968802422664668,
          "Error Type": "test",
          "Size of Test Set": 100,
          "Size of Training Set": 1000
         },
         {
          "Error": 1.9924277739502605,
          "Error Type": "test",
          "Size of Test Set": 100,
          "Size of Training Set": 1000
         },
         {
          "Error": 1.8266159414047067,
          "Error Type": "test",
          "Size of Test Set": 100,
          "Size of Training Set": 1000
         },
         {
          "Error": 2.1752674960097904,
          "Error Type": "test",
          "Size of Test Set": 100,
          "Size of Training Set": 1000
         },
         {
          "Error": 1.9924018845552605,
          "Error Type": "test",
          "Size of Test Set": 100,
          "Size of Training Set": 1000
         },
         {
          "Error": 1.7935879804708406,
          "Error Type": "test",
          "Size of Test Set": 100,
          "Size of Training Set": 1000
         },
         {
          "Error": 1.774625118885763,
          "Error Type": "test",
          "Size of Test Set": 100,
          "Size of Training Set": 1000
         },
         {
          "Error": 2.041064660344427,
          "Error Type": "test",
          "Size of Test Set": 100,
          "Size of Training Set": 1000
         },
         {
          "Error": 1.7105058782394114,
          "Error Type": "test",
          "Size of Test Set": 100,
          "Size of Training Set": 1000
         },
         {
          "Error": 2.41057168039492,
          "Error Type": "test",
          "Size of Test Set": 100,
          "Size of Training Set": 1000
         },
         {
          "Error": 2.2098792582537174,
          "Error Type": "test",
          "Size of Test Set": 100,
          "Size of Training Set": 1000
         },
         {
          "Error": 1.7513990589235613,
          "Error Type": "test",
          "Size of Test Set": 100,
          "Size of Training Set": 1000
         },
         {
          "Error": 2.1690190366956816,
          "Error Type": "test",
          "Size of Test Set": 100,
          "Size of Training Set": 1000
         },
         {
          "Error": 1.9227162921490426,
          "Error Type": "test",
          "Size of Test Set": 100,
          "Size of Training Set": 1000
         },
         {
          "Error": 1.8897617184975246,
          "Error Type": "test",
          "Size of Test Set": 100,
          "Size of Training Set": 1000
         },
         {
          "Error": 1.8576717210342835,
          "Error Type": "test",
          "Size of Test Set": 100,
          "Size of Training Set": 1000
         },
         {
          "Error": 1.8688894245718708,
          "Error Type": "test",
          "Size of Test Set": 100,
          "Size of Training Set": 1000
         },
         {
          "Error": 1.9344206722632244,
          "Error Type": "test",
          "Size of Test Set": 100,
          "Size of Training Set": 1000
         },
         {
          "Error": 1.5506519928812514,
          "Error Type": "test",
          "Size of Test Set": 100,
          "Size of Training Set": 1000
         },
         {
          "Error": 1.7498664612699744,
          "Error Type": "test",
          "Size of Test Set": 100,
          "Size of Training Set": 1000
         },
         {
          "Error": 1.7103138803811562,
          "Error Type": "test",
          "Size of Test Set": 100,
          "Size of Training Set": 1000
         },
         {
          "Error": 1.8660641885615794,
          "Error Type": "test",
          "Size of Test Set": 100,
          "Size of Training Set": 1000
         },
         {
          "Error": 1.9920130100488973,
          "Error Type": "test",
          "Size of Test Set": 100,
          "Size of Training Set": 1000
         },
         {
          "Error": 1.9265606260354948,
          "Error Type": "test",
          "Size of Test Set": 100,
          "Size of Training Set": 1000
         },
         {
          "Error": 1.804758090973568,
          "Error Type": "test",
          "Size of Test Set": 100,
          "Size of Training Set": 1000
         },
         {
          "Error": 1.845015094796388,
          "Error Type": "test",
          "Size of Test Set": 100,
          "Size of Training Set": 1000
         },
         {
          "Error": 1.908692181642615,
          "Error Type": "test",
          "Size of Test Set": 100,
          "Size of Training Set": 1000
         },
         {
          "Error": 1.8412135254942397,
          "Error Type": "test",
          "Size of Test Set": 100,
          "Size of Training Set": 1000
         },
         {
          "Error": 1.8592177013506364,
          "Error Type": "test",
          "Size of Test Set": 100,
          "Size of Training Set": 1000
         },
         {
          "Error": 1.7903229270385097,
          "Error Type": "test",
          "Size of Test Set": 100,
          "Size of Training Set": 1000
         },
         {
          "Error": 1.7831670612691295,
          "Error Type": "test",
          "Size of Test Set": 100,
          "Size of Training Set": 1000
         },
         {
          "Error": 2.0284817875151413,
          "Error Type": "test",
          "Size of Test Set": 100,
          "Size of Training Set": 1000
         },
         {
          "Error": 2.079014860101618,
          "Error Type": "test",
          "Size of Test Set": 100,
          "Size of Training Set": 1000
         },
         {
          "Error": 1.966139661161593,
          "Error Type": "test",
          "Size of Test Set": 100,
          "Size of Training Set": 1000
         },
         {
          "Error": 2.001284765051986,
          "Error Type": "test",
          "Size of Test Set": 100,
          "Size of Training Set": 1000
         },
         {
          "Error": 1.9152939439377183,
          "Error Type": "test",
          "Size of Test Set": 100,
          "Size of Training Set": 1000
         },
         {
          "Error": 2.160652942993606,
          "Error Type": "test",
          "Size of Test Set": 100,
          "Size of Training Set": 1000
         },
         {
          "Error": 1.627769166241919,
          "Error Type": "test",
          "Size of Test Set": 100,
          "Size of Training Set": 1000
         },
         {
          "Error": 2.1841153808198857,
          "Error Type": "test",
          "Size of Test Set": 100,
          "Size of Training Set": 1000
         },
         {
          "Error": 1.9394516813002125,
          "Error Type": "test",
          "Size of Test Set": 100,
          "Size of Training Set": 1000
         },
         {
          "Error": 1.9201794688743032,
          "Error Type": "test",
          "Size of Test Set": 100,
          "Size of Training Set": 1000
         },
         {
          "Error": 1.7337704488856198,
          "Error Type": "test",
          "Size of Test Set": 100,
          "Size of Training Set": 1000
         },
         {
          "Error": 1.84367122837101,
          "Error Type": "test",
          "Size of Test Set": 100,
          "Size of Training Set": 1000
         },
         {
          "Error": 1.957362261129267,
          "Error Type": "test",
          "Size of Test Set": 100,
          "Size of Training Set": 1000
         },
         {
          "Error": 1.9121739386718244,
          "Error Type": "test",
          "Size of Test Set": 100,
          "Size of Training Set": 1000
         },
         {
          "Error": 1.8608655833289662,
          "Error Type": "test",
          "Size of Test Set": 100,
          "Size of Training Set": 1000
         },
         {
          "Error": 1.9804876063325634,
          "Error Type": "test",
          "Size of Test Set": 100,
          "Size of Training Set": 1000
         },
         {
          "Error": 1.791701240664816,
          "Error Type": "test",
          "Size of Test Set": 100,
          "Size of Training Set": 1000
         },
         {
          "Error": 1.600718729101564,
          "Error Type": "test",
          "Size of Test Set": 100,
          "Size of Training Set": 1000
         },
         {
          "Error": 1.5726679678087572,
          "Error Type": "test",
          "Size of Test Set": 100,
          "Size of Training Set": 1000
         },
         {
          "Error": 2.3185336706097917,
          "Error Type": "test",
          "Size of Test Set": 100,
          "Size of Training Set": 1000
         },
         {
          "Error": 2.145706460069818,
          "Error Type": "test",
          "Size of Test Set": 100,
          "Size of Training Set": 1000
         },
         {
          "Error": 2.1442068396545455,
          "Error Type": "test",
          "Size of Test Set": 100,
          "Size of Training Set": 1000
         },
         {
          "Error": 1.952519453948607,
          "Error Type": "test",
          "Size of Test Set": 100,
          "Size of Training Set": 1000
         },
         {
          "Error": 1.7344599066483857,
          "Error Type": "test",
          "Size of Test Set": 100,
          "Size of Training Set": 1000
         },
         {
          "Error": 1.7182265100940768,
          "Error Type": "test",
          "Size of Test Set": 100,
          "Size of Training Set": 1000
         },
         {
          "Error": 1.8777345091558835,
          "Error Type": "test",
          "Size of Test Set": 100,
          "Size of Training Set": 1000
         },
         {
          "Error": 2.0779389595794973,
          "Error Type": "test",
          "Size of Test Set": 100,
          "Size of Training Set": 1000
         },
         {
          "Error": 1.9606727188597393,
          "Error Type": "test",
          "Size of Test Set": 100,
          "Size of Training Set": 1000
         },
         {
          "Error": 1.758248633969691,
          "Error Type": "test",
          "Size of Test Set": 100,
          "Size of Training Set": 1000
         },
         {
          "Error": 1.9079152883352943,
          "Error Type": "test",
          "Size of Test Set": 100,
          "Size of Training Set": 1000
         },
         {
          "Error": 1.92680553308758,
          "Error Type": "test",
          "Size of Test Set": 100,
          "Size of Training Set": 1000
         },
         {
          "Error": 1.8732007634508916,
          "Error Type": "test",
          "Size of Test Set": 100,
          "Size of Training Set": 1000
         },
         {
          "Error": 1.9217273417305836,
          "Error Type": "test",
          "Size of Test Set": 100,
          "Size of Training Set": 1000
         },
         {
          "Error": 1.8826117713063757,
          "Error Type": "test",
          "Size of Test Set": 100,
          "Size of Training Set": 1000
         },
         {
          "Error": 1.9649218342461712,
          "Error Type": "test",
          "Size of Test Set": 100,
          "Size of Training Set": 1000
         },
         {
          "Error": 2.040638083058695,
          "Error Type": "test",
          "Size of Test Set": 100,
          "Size of Training Set": 1000
         },
         {
          "Error": 1.8255614149454091,
          "Error Type": "test",
          "Size of Test Set": 100,
          "Size of Training Set": 1000
         },
         {
          "Error": 2.0767001109362453,
          "Error Type": "test",
          "Size of Test Set": 100,
          "Size of Training Set": 1000
         },
         {
          "Error": 2.004041646234724,
          "Error Type": "test",
          "Size of Test Set": 100,
          "Size of Training Set": 1000
         },
         {
          "Error": 1.9792274207372307,
          "Error Type": "test",
          "Size of Test Set": 100,
          "Size of Training Set": 1000
         },
         {
          "Error": 1.740965170926371,
          "Error Type": "test",
          "Size of Test Set": 100,
          "Size of Training Set": 1000
         },
         {
          "Error": 1.9751917224848174,
          "Error Type": "test",
          "Size of Test Set": 100,
          "Size of Training Set": 1000
         },
         {
          "Error": 1.8717069817558087,
          "Error Type": "test",
          "Size of Test Set": 100,
          "Size of Training Set": 1000
         },
         {
          "Error": 1.9246063259195467,
          "Error Type": "test",
          "Size of Test Set": 100,
          "Size of Training Set": 1000
         },
         {
          "Error": 1.9683660422426312,
          "Error Type": "test",
          "Size of Test Set": 100,
          "Size of Training Set": 1000
         },
         {
          "Error": 1.8276797688176316,
          "Error Type": "test",
          "Size of Test Set": 100,
          "Size of Training Set": 1000
         },
         {
          "Error": 1.791540128352639,
          "Error Type": "test",
          "Size of Test Set": 100,
          "Size of Training Set": 1000
         },
         {
          "Error": 1.8577073031384124,
          "Error Type": "test",
          "Size of Test Set": 100,
          "Size of Training Set": 1000
         },
         {
          "Error": 1.8345752829206137,
          "Error Type": "test",
          "Size of Test Set": 100,
          "Size of Training Set": 1000
         },
         {
          "Error": 1.7882116454663153,
          "Error Type": "test",
          "Size of Test Set": 100,
          "Size of Training Set": 1000
         },
         {
          "Error": 1.8841421578893016,
          "Error Type": "test",
          "Size of Test Set": 100,
          "Size of Training Set": 1000
         },
         {
          "Error": 2.1727220820140234,
          "Error Type": "test",
          "Size of Test Set": 100,
          "Size of Training Set": 1000
         },
         {
          "Error": 2.054251789357567,
          "Error Type": "test",
          "Size of Test Set": 100,
          "Size of Training Set": 1000
         },
         {
          "Error": 1.9972905788777495,
          "Error Type": "test",
          "Size of Test Set": 100,
          "Size of Training Set": 1000
         },
         {
          "Error": 1.9677959807085756,
          "Error Type": "test",
          "Size of Test Set": 100,
          "Size of Training Set": 1000
         },
         {
          "Error": 1.8877242052111796,
          "Error Type": "test",
          "Size of Test Set": 100,
          "Size of Training Set": 1000
         },
         {
          "Error": 1.8465522294645,
          "Error Type": "test",
          "Size of Test Set": 100,
          "Size of Training Set": 1000
         },
         {
          "Error": 1.740604900916428,
          "Error Type": "test",
          "Size of Test Set": 100,
          "Size of Training Set": 1000
         },
         {
          "Error": 1.8059857031915805,
          "Error Type": "test",
          "Size of Test Set": 100,
          "Size of Training Set": 1000
         },
         {
          "Error": 1.959656305987112,
          "Error Type": "test",
          "Size of Test Set": 100,
          "Size of Training Set": 1000
         },
         {
          "Error": 2.054121045498817,
          "Error Type": "test",
          "Size of Test Set": 100,
          "Size of Training Set": 1000
         },
         {
          "Error": 1.974570787712746,
          "Error Type": "test",
          "Size of Test Set": 100,
          "Size of Training Set": 1000
         },
         {
          "Error": 1.994704218293488,
          "Error Type": "test",
          "Size of Test Set": 100,
          "Size of Training Set": 1000
         },
         {
          "Error": 1.6338406739823599,
          "Error Type": "test",
          "Size of Test Set": 100,
          "Size of Training Set": 1000
         },
         {
          "Error": 1.977612814156216,
          "Error Type": "test",
          "Size of Test Set": 100,
          "Size of Training Set": 1000
         },
         {
          "Error": 1.735184132150465,
          "Error Type": "test",
          "Size of Test Set": 100,
          "Size of Training Set": 1000
         },
         {
          "Error": 2.0752329793819557,
          "Error Type": "test",
          "Size of Test Set": 100,
          "Size of Training Set": 1000
         },
         {
          "Error": 1.7434990144001354,
          "Error Type": "test",
          "Size of Test Set": 100,
          "Size of Training Set": 1000
         },
         {
          "Error": 1.9423681107552617,
          "Error Type": "test",
          "Size of Test Set": 100,
          "Size of Training Set": 1000
         },
         {
          "Error": 1.8343108307772136,
          "Error Type": "test",
          "Size of Test Set": 100,
          "Size of Training Set": 1000
         },
         {
          "Error": 1.9527695535933274,
          "Error Type": "test",
          "Size of Test Set": 100,
          "Size of Training Set": 1000
         },
         {
          "Error": 1.914963293625204,
          "Error Type": "test",
          "Size of Test Set": 100,
          "Size of Training Set": 1000
         },
         {
          "Error": 1.6760438051201794,
          "Error Type": "test",
          "Size of Test Set": 100,
          "Size of Training Set": 1000
         },
         {
          "Error": 1.79269848154724,
          "Error Type": "test",
          "Size of Test Set": 100,
          "Size of Training Set": 1000
         },
         {
          "Error": 1.7745772327472351,
          "Error Type": "test",
          "Size of Test Set": 100,
          "Size of Training Set": 1000
         },
         {
          "Error": 1.843672251027054,
          "Error Type": "test",
          "Size of Test Set": 100,
          "Size of Training Set": 1000
         },
         {
          "Error": 1.8365576734869793,
          "Error Type": "test",
          "Size of Test Set": 100,
          "Size of Training Set": 1000
         },
         {
          "Error": 2.119296101076992,
          "Error Type": "test",
          "Size of Test Set": 100,
          "Size of Training Set": 1000
         },
         {
          "Error": 1.773330399945302,
          "Error Type": "test",
          "Size of Test Set": 100,
          "Size of Training Set": 1000
         },
         {
          "Error": 1.7141397491069637,
          "Error Type": "test",
          "Size of Test Set": 100,
          "Size of Training Set": 1000
         },
         {
          "Error": 2.0195707317678053,
          "Error Type": "test",
          "Size of Test Set": 100,
          "Size of Training Set": 1000
         },
         {
          "Error": 1.8954458016695215,
          "Error Type": "test",
          "Size of Test Set": 100,
          "Size of Training Set": 1000
         },
         {
          "Error": 2.0480788609085168,
          "Error Type": "test",
          "Size of Test Set": 100,
          "Size of Training Set": 1000
         },
         {
          "Error": 1.9998924759696863,
          "Error Type": "test",
          "Size of Test Set": 100,
          "Size of Training Set": 1000
         },
         {
          "Error": 1.8989042182033635,
          "Error Type": "test",
          "Size of Test Set": 100,
          "Size of Training Set": 1000
         },
         {
          "Error": 1.9930706268838245,
          "Error Type": "test",
          "Size of Test Set": 100,
          "Size of Training Set": 1000
         },
         {
          "Error": 1.8229423121609978,
          "Error Type": "test",
          "Size of Test Set": 100,
          "Size of Training Set": 1000
         },
         {
          "Error": 1.76193896044442,
          "Error Type": "test",
          "Size of Test Set": 100,
          "Size of Training Set": 1000
         },
         {
          "Error": 1.799553450759096,
          "Error Type": "test",
          "Size of Test Set": 100,
          "Size of Training Set": 1000
         },
         {
          "Error": 3.2344374212078355,
          "Error Type": "generalization",
          "Size of Test Set": 100,
          "Size of Training Set": 10
         },
         {
          "Error": 3.431965071442747,
          "Error Type": "generalization",
          "Size of Test Set": 100,
          "Size of Training Set": 10
         },
         {
          "Error": 2.5309524560314274,
          "Error Type": "generalization",
          "Size of Test Set": 100,
          "Size of Training Set": 10
         },
         {
          "Error": 2.6662389046468378,
          "Error Type": "generalization",
          "Size of Test Set": 100,
          "Size of Training Set": 10
         },
         {
          "Error": 2.4464850113295356,
          "Error Type": "generalization",
          "Size of Test Set": 100,
          "Size of Training Set": 10
         },
         {
          "Error": 2.8607958512254728,
          "Error Type": "generalization",
          "Size of Test Set": 100,
          "Size of Training Set": 10
         },
         {
          "Error": 2.336719460466096,
          "Error Type": "generalization",
          "Size of Test Set": 100,
          "Size of Training Set": 10
         },
         {
          "Error": 2.1797925655670687,
          "Error Type": "generalization",
          "Size of Test Set": 100,
          "Size of Training Set": 10
         },
         {
          "Error": 2.2534234359664183,
          "Error Type": "generalization",
          "Size of Test Set": 100,
          "Size of Training Set": 10
         },
         {
          "Error": 2.719787899133089,
          "Error Type": "generalization",
          "Size of Test Set": 100,
          "Size of Training Set": 10
         },
         {
          "Error": 2.2701465505265386,
          "Error Type": "generalization",
          "Size of Test Set": 100,
          "Size of Training Set": 10
         },
         {
          "Error": 2.544632160937267,
          "Error Type": "generalization",
          "Size of Test Set": 100,
          "Size of Training Set": 10
         },
         {
          "Error": 2.583724481590793,
          "Error Type": "generalization",
          "Size of Test Set": 100,
          "Size of Training Set": 10
         },
         {
          "Error": 2.2358841769797757,
          "Error Type": "generalization",
          "Size of Test Set": 100,
          "Size of Training Set": 10
         },
         {
          "Error": 2.587080721096358,
          "Error Type": "generalization",
          "Size of Test Set": 100,
          "Size of Training Set": 10
         },
         {
          "Error": 2.6030970423009294,
          "Error Type": "generalization",
          "Size of Test Set": 100,
          "Size of Training Set": 10
         },
         {
          "Error": 3.5532551189637913,
          "Error Type": "generalization",
          "Size of Test Set": 100,
          "Size of Training Set": 10
         },
         {
          "Error": 2.259841910637174,
          "Error Type": "generalization",
          "Size of Test Set": 100,
          "Size of Training Set": 10
         },
         {
          "Error": 3.101077286307499,
          "Error Type": "generalization",
          "Size of Test Set": 100,
          "Size of Training Set": 10
         },
         {
          "Error": 3.312309143052859,
          "Error Type": "generalization",
          "Size of Test Set": 100,
          "Size of Training Set": 10
         },
         {
          "Error": 2.920423282678194,
          "Error Type": "generalization",
          "Size of Test Set": 100,
          "Size of Training Set": 10
         },
         {
          "Error": 2.502963924565082,
          "Error Type": "generalization",
          "Size of Test Set": 100,
          "Size of Training Set": 10
         },
         {
          "Error": 3.2195373306733703,
          "Error Type": "generalization",
          "Size of Test Set": 100,
          "Size of Training Set": 10
         },
         {
          "Error": 3.66609616025035,
          "Error Type": "generalization",
          "Size of Test Set": 100,
          "Size of Training Set": 10
         },
         {
          "Error": 2.8524057151986444,
          "Error Type": "generalization",
          "Size of Test Set": 100,
          "Size of Training Set": 10
         },
         {
          "Error": 2.4211420946754503,
          "Error Type": "generalization",
          "Size of Test Set": 100,
          "Size of Training Set": 10
         },
         {
          "Error": 2.1813327636263966,
          "Error Type": "generalization",
          "Size of Test Set": 100,
          "Size of Training Set": 10
         },
         {
          "Error": 2.2975256869986382,
          "Error Type": "generalization",
          "Size of Test Set": 100,
          "Size of Training Set": 10
         },
         {
          "Error": 2.318783585131552,
          "Error Type": "generalization",
          "Size of Test Set": 100,
          "Size of Training Set": 10
         },
         {
          "Error": 2.4814317534343115,
          "Error Type": "generalization",
          "Size of Test Set": 100,
          "Size of Training Set": 10
         },
         {
          "Error": 2.6877492946042354,
          "Error Type": "generalization",
          "Size of Test Set": 100,
          "Size of Training Set": 10
         },
         {
          "Error": 2.2492675424181687,
          "Error Type": "generalization",
          "Size of Test Set": 100,
          "Size of Training Set": 10
         },
         {
          "Error": 2.4317584617482337,
          "Error Type": "generalization",
          "Size of Test Set": 100,
          "Size of Training Set": 10
         },
         {
          "Error": 2.4207998677818434,
          "Error Type": "generalization",
          "Size of Test Set": 100,
          "Size of Training Set": 10
         },
         {
          "Error": 2.6546498914331664,
          "Error Type": "generalization",
          "Size of Test Set": 100,
          "Size of Training Set": 10
         },
         {
          "Error": 3.878466267761095,
          "Error Type": "generalization",
          "Size of Test Set": 100,
          "Size of Training Set": 10
         },
         {
          "Error": 2.909031670234881,
          "Error Type": "generalization",
          "Size of Test Set": 100,
          "Size of Training Set": 10
         },
         {
          "Error": 2.5194196393151835,
          "Error Type": "generalization",
          "Size of Test Set": 100,
          "Size of Training Set": 10
         },
         {
          "Error": 2.8745570571980283,
          "Error Type": "generalization",
          "Size of Test Set": 100,
          "Size of Training Set": 10
         },
         {
          "Error": 3.191222041052437,
          "Error Type": "generalization",
          "Size of Test Set": 100,
          "Size of Training Set": 10
         },
         {
          "Error": 2.584784479467025,
          "Error Type": "generalization",
          "Size of Test Set": 100,
          "Size of Training Set": 10
         },
         {
          "Error": 2.674475385132718,
          "Error Type": "generalization",
          "Size of Test Set": 100,
          "Size of Training Set": 10
         },
         {
          "Error": 2.645938780870004,
          "Error Type": "generalization",
          "Size of Test Set": 100,
          "Size of Training Set": 10
         },
         {
          "Error": 2.51609022129054,
          "Error Type": "generalization",
          "Size of Test Set": 100,
          "Size of Training Set": 10
         },
         {
          "Error": 2.7437395605549226,
          "Error Type": "generalization",
          "Size of Test Set": 100,
          "Size of Training Set": 10
         },
         {
          "Error": 2.815312361237058,
          "Error Type": "generalization",
          "Size of Test Set": 100,
          "Size of Training Set": 10
         },
         {
          "Error": 2.504892151876185,
          "Error Type": "generalization",
          "Size of Test Set": 100,
          "Size of Training Set": 10
         },
         {
          "Error": 3.0724360230598458,
          "Error Type": "generalization",
          "Size of Test Set": 100,
          "Size of Training Set": 10
         },
         {
          "Error": 3.853383642627428,
          "Error Type": "generalization",
          "Size of Test Set": 100,
          "Size of Training Set": 10
         },
         {
          "Error": 2.4006055639796693,
          "Error Type": "generalization",
          "Size of Test Set": 100,
          "Size of Training Set": 10
         },
         {
          "Error": 3.018961685476692,
          "Error Type": "generalization",
          "Size of Test Set": 100,
          "Size of Training Set": 10
         },
         {
          "Error": 2.617480725538755,
          "Error Type": "generalization",
          "Size of Test Set": 100,
          "Size of Training Set": 10
         },
         {
          "Error": 3.154008435474348,
          "Error Type": "generalization",
          "Size of Test Set": 100,
          "Size of Training Set": 10
         },
         {
          "Error": 2.9948039806045936,
          "Error Type": "generalization",
          "Size of Test Set": 100,
          "Size of Training Set": 10
         },
         {
          "Error": 3.2665588242321455,
          "Error Type": "generalization",
          "Size of Test Set": 100,
          "Size of Training Set": 10
         },
         {
          "Error": 2.913816107185079,
          "Error Type": "generalization",
          "Size of Test Set": 100,
          "Size of Training Set": 10
         },
         {
          "Error": 2.309156971200445,
          "Error Type": "generalization",
          "Size of Test Set": 100,
          "Size of Training Set": 10
         },
         {
          "Error": 4.3915256367547775,
          "Error Type": "generalization",
          "Size of Test Set": 100,
          "Size of Training Set": 10
         },
         {
          "Error": 4.0685664341087895,
          "Error Type": "generalization",
          "Size of Test Set": 100,
          "Size of Training Set": 10
         },
         {
          "Error": 2.4700498471723447,
          "Error Type": "generalization",
          "Size of Test Set": 100,
          "Size of Training Set": 10
         },
         {
          "Error": 2.781641739712506,
          "Error Type": "generalization",
          "Size of Test Set": 100,
          "Size of Training Set": 10
         },
         {
          "Error": 3.1038672079919185,
          "Error Type": "generalization",
          "Size of Test Set": 100,
          "Size of Training Set": 10
         },
         {
          "Error": 2.6947062988798614,
          "Error Type": "generalization",
          "Size of Test Set": 100,
          "Size of Training Set": 10
         },
         {
          "Error": 2.410974980784818,
          "Error Type": "generalization",
          "Size of Test Set": 100,
          "Size of Training Set": 10
         },
         {
          "Error": 2.5929109564158166,
          "Error Type": "generalization",
          "Size of Test Set": 100,
          "Size of Training Set": 10
         },
         {
          "Error": 2.594523208079557,
          "Error Type": "generalization",
          "Size of Test Set": 100,
          "Size of Training Set": 10
         },
         {
          "Error": 3.022139864375862,
          "Error Type": "generalization",
          "Size of Test Set": 100,
          "Size of Training Set": 10
         },
         {
          "Error": 3.620465392446219,
          "Error Type": "generalization",
          "Size of Test Set": 100,
          "Size of Training Set": 10
         },
         {
          "Error": 2.4580578031130997,
          "Error Type": "generalization",
          "Size of Test Set": 100,
          "Size of Training Set": 10
         },
         {
          "Error": 2.8022363437706246,
          "Error Type": "generalization",
          "Size of Test Set": 100,
          "Size of Training Set": 10
         },
         {
          "Error": 2.943180630146157,
          "Error Type": "generalization",
          "Size of Test Set": 100,
          "Size of Training Set": 10
         },
         {
          "Error": 2.694968665143699,
          "Error Type": "generalization",
          "Size of Test Set": 100,
          "Size of Training Set": 10
         },
         {
          "Error": 3.2102698371776,
          "Error Type": "generalization",
          "Size of Test Set": 100,
          "Size of Training Set": 10
         },
         {
          "Error": 2.6845752592222216,
          "Error Type": "generalization",
          "Size of Test Set": 100,
          "Size of Training Set": 10
         },
         {
          "Error": 2.920919172902957,
          "Error Type": "generalization",
          "Size of Test Set": 100,
          "Size of Training Set": 10
         },
         {
          "Error": 2.8708981888212,
          "Error Type": "generalization",
          "Size of Test Set": 100,
          "Size of Training Set": 10
         },
         {
          "Error": 2.8583311037360892,
          "Error Type": "generalization",
          "Size of Test Set": 100,
          "Size of Training Set": 10
         },
         {
          "Error": 2.8511776630391528,
          "Error Type": "generalization",
          "Size of Test Set": 100,
          "Size of Training Set": 10
         },
         {
          "Error": 3.197577900922221,
          "Error Type": "generalization",
          "Size of Test Set": 100,
          "Size of Training Set": 10
         },
         {
          "Error": 2.6943114942637076,
          "Error Type": "generalization",
          "Size of Test Set": 100,
          "Size of Training Set": 10
         },
         {
          "Error": 4.2037255681992916,
          "Error Type": "generalization",
          "Size of Test Set": 100,
          "Size of Training Set": 10
         },
         {
          "Error": 3.3569837034474923,
          "Error Type": "generalization",
          "Size of Test Set": 100,
          "Size of Training Set": 10
         },
         {
          "Error": 2.699651882029674,
          "Error Type": "generalization",
          "Size of Test Set": 100,
          "Size of Training Set": 10
         },
         {
          "Error": 3.259765186063331,
          "Error Type": "generalization",
          "Size of Test Set": 100,
          "Size of Training Set": 10
         },
         {
          "Error": 3.181138020400537,
          "Error Type": "generalization",
          "Size of Test Set": 100,
          "Size of Training Set": 10
         },
         {
          "Error": 3.083257379815,
          "Error Type": "generalization",
          "Size of Test Set": 100,
          "Size of Training Set": 10
         },
         {
          "Error": 3.5781770518330487,
          "Error Type": "generalization",
          "Size of Test Set": 100,
          "Size of Training Set": 10
         },
         {
          "Error": 2.3880084537188573,
          "Error Type": "generalization",
          "Size of Test Set": 100,
          "Size of Training Set": 10
         },
         {
          "Error": 2.64553777018563,
          "Error Type": "generalization",
          "Size of Test Set": 100,
          "Size of Training Set": 10
         },
         {
          "Error": 3.852066753019761,
          "Error Type": "generalization",
          "Size of Test Set": 100,
          "Size of Training Set": 10
         },
         {
          "Error": 3.4573078590918715,
          "Error Type": "generalization",
          "Size of Test Set": 100,
          "Size of Training Set": 10
         },
         {
          "Error": 2.434855893498324,
          "Error Type": "generalization",
          "Size of Test Set": 100,
          "Size of Training Set": 10
         },
         {
          "Error": 3.2349918242005247,
          "Error Type": "generalization",
          "Size of Test Set": 100,
          "Size of Training Set": 10
         },
         {
          "Error": 2.4774520219282987,
          "Error Type": "generalization",
          "Size of Test Set": 100,
          "Size of Training Set": 10
         },
         {
          "Error": 2.7273826355930804,
          "Error Type": "generalization",
          "Size of Test Set": 100,
          "Size of Training Set": 10
         },
         {
          "Error": 2.817725927615714,
          "Error Type": "generalization",
          "Size of Test Set": 100,
          "Size of Training Set": 10
         },
         {
          "Error": 2.383744986465115,
          "Error Type": "generalization",
          "Size of Test Set": 100,
          "Size of Training Set": 10
         },
         {
          "Error": 2.6199231610648637,
          "Error Type": "generalization",
          "Size of Test Set": 100,
          "Size of Training Set": 10
         },
         {
          "Error": 2.4677279018732703,
          "Error Type": "generalization",
          "Size of Test Set": 100,
          "Size of Training Set": 10
         },
         {
          "Error": 2.5620641889562834,
          "Error Type": "generalization",
          "Size of Test Set": 100,
          "Size of Training Set": 10
         },
         {
          "Error": 2.7209454238703334,
          "Error Type": "generalization",
          "Size of Test Set": 100,
          "Size of Training Set": 10
         },
         {
          "Error": 2.643763215754354,
          "Error Type": "generalization",
          "Size of Test Set": 100,
          "Size of Training Set": 10
         },
         {
          "Error": 2.6329531561683415,
          "Error Type": "generalization",
          "Size of Test Set": 100,
          "Size of Training Set": 10
         },
         {
          "Error": 2.2392436311195514,
          "Error Type": "generalization",
          "Size of Test Set": 100,
          "Size of Training Set": 10
         },
         {
          "Error": 3.5871051916350956,
          "Error Type": "generalization",
          "Size of Test Set": 100,
          "Size of Training Set": 10
         },
         {
          "Error": 2.949773442294572,
          "Error Type": "generalization",
          "Size of Test Set": 100,
          "Size of Training Set": 10
         },
         {
          "Error": 2.594101091082661,
          "Error Type": "generalization",
          "Size of Test Set": 100,
          "Size of Training Set": 10
         },
         {
          "Error": 2.4517487229874013,
          "Error Type": "generalization",
          "Size of Test Set": 100,
          "Size of Training Set": 10
         },
         {
          "Error": 2.2508917091942275,
          "Error Type": "generalization",
          "Size of Test Set": 100,
          "Size of Training Set": 10
         },
         {
          "Error": 2.5231132725473975,
          "Error Type": "generalization",
          "Size of Test Set": 100,
          "Size of Training Set": 10
         },
         {
          "Error": 2.843439226987405,
          "Error Type": "generalization",
          "Size of Test Set": 100,
          "Size of Training Set": 10
         },
         {
          "Error": 2.347854038245895,
          "Error Type": "generalization",
          "Size of Test Set": 100,
          "Size of Training Set": 10
         },
         {
          "Error": 2.8823735612871686,
          "Error Type": "generalization",
          "Size of Test Set": 100,
          "Size of Training Set": 10
         },
         {
          "Error": 2.564095683482883,
          "Error Type": "generalization",
          "Size of Test Set": 100,
          "Size of Training Set": 10
         },
         {
          "Error": 2.714200802250948,
          "Error Type": "generalization",
          "Size of Test Set": 100,
          "Size of Training Set": 10
         },
         {
          "Error": 3.9328445189202577,
          "Error Type": "generalization",
          "Size of Test Set": 100,
          "Size of Training Set": 10
         },
         {
          "Error": 3.795515082782388,
          "Error Type": "generalization",
          "Size of Test Set": 100,
          "Size of Training Set": 10
         },
         {
          "Error": 2.8984519420602317,
          "Error Type": "generalization",
          "Size of Test Set": 100,
          "Size of Training Set": 10
         },
         {
          "Error": 2.7911570688433414,
          "Error Type": "generalization",
          "Size of Test Set": 100,
          "Size of Training Set": 10
         },
         {
          "Error": 3.2393079069500104,
          "Error Type": "generalization",
          "Size of Test Set": 100,
          "Size of Training Set": 10
         },
         {
          "Error": 2.541073663511008,
          "Error Type": "generalization",
          "Size of Test Set": 100,
          "Size of Training Set": 10
         },
         {
          "Error": 2.401737303707751,
          "Error Type": "generalization",
          "Size of Test Set": 100,
          "Size of Training Set": 10
         },
         {
          "Error": 2.7342115827528244,
          "Error Type": "generalization",
          "Size of Test Set": 100,
          "Size of Training Set": 10
         },
         {
          "Error": 2.6221124666278386,
          "Error Type": "generalization",
          "Size of Test Set": 100,
          "Size of Training Set": 10
         },
         {
          "Error": 3.311766155040723,
          "Error Type": "generalization",
          "Size of Test Set": 100,
          "Size of Training Set": 10
         },
         {
          "Error": 2.2475574906375586,
          "Error Type": "generalization",
          "Size of Test Set": 100,
          "Size of Training Set": 10
         },
         {
          "Error": 3.228682256998465,
          "Error Type": "generalization",
          "Size of Test Set": 100,
          "Size of Training Set": 10
         },
         {
          "Error": 2.969062004545711,
          "Error Type": "generalization",
          "Size of Test Set": 100,
          "Size of Training Set": 10
         },
         {
          "Error": 2.9145809119385184,
          "Error Type": "generalization",
          "Size of Test Set": 100,
          "Size of Training Set": 10
         },
         {
          "Error": 2.4462332626840713,
          "Error Type": "generalization",
          "Size of Test Set": 100,
          "Size of Training Set": 10
         },
         {
          "Error": 3.1626353362454207,
          "Error Type": "generalization",
          "Size of Test Set": 100,
          "Size of Training Set": 10
         },
         {
          "Error": 3.740430391796453,
          "Error Type": "generalization",
          "Size of Test Set": 100,
          "Size of Training Set": 10
         },
         {
          "Error": 2.9941506125476676,
          "Error Type": "generalization",
          "Size of Test Set": 100,
          "Size of Training Set": 10
         },
         {
          "Error": 2.296417493110732,
          "Error Type": "generalization",
          "Size of Test Set": 100,
          "Size of Training Set": 10
         },
         {
          "Error": 2.693419897168592,
          "Error Type": "generalization",
          "Size of Test Set": 100,
          "Size of Training Set": 10
         },
         {
          "Error": 3.6112556969375356,
          "Error Type": "generalization",
          "Size of Test Set": 100,
          "Size of Training Set": 10
         },
         {
          "Error": 2.7545401535739273,
          "Error Type": "generalization",
          "Size of Test Set": 100,
          "Size of Training Set": 10
         },
         {
          "Error": 2.457611956530621,
          "Error Type": "generalization",
          "Size of Test Set": 100,
          "Size of Training Set": 10
         },
         {
          "Error": 3.72634411806637,
          "Error Type": "generalization",
          "Size of Test Set": 100,
          "Size of Training Set": 10
         },
         {
          "Error": 3.029860252396481,
          "Error Type": "generalization",
          "Size of Test Set": 100,
          "Size of Training Set": 10
         },
         {
          "Error": 3.4311280488434646,
          "Error Type": "generalization",
          "Size of Test Set": 100,
          "Size of Training Set": 10
         },
         {
          "Error": 2.4793933936150077,
          "Error Type": "generalization",
          "Size of Test Set": 100,
          "Size of Training Set": 10
         },
         {
          "Error": 3.101512665539378,
          "Error Type": "generalization",
          "Size of Test Set": 100,
          "Size of Training Set": 10
         },
         {
          "Error": 2.8528345201752336,
          "Error Type": "generalization",
          "Size of Test Set": 100,
          "Size of Training Set": 10
         },
         {
          "Error": 2.9257957177296503,
          "Error Type": "generalization",
          "Size of Test Set": 100,
          "Size of Training Set": 10
         },
         {
          "Error": 2.8375172643491293,
          "Error Type": "generalization",
          "Size of Test Set": 100,
          "Size of Training Set": 10
         },
         {
          "Error": 3.0456105156929225,
          "Error Type": "generalization",
          "Size of Test Set": 100,
          "Size of Training Set": 10
         },
         {
          "Error": 2.7818992601711345,
          "Error Type": "generalization",
          "Size of Test Set": 100,
          "Size of Training Set": 10
         },
         {
          "Error": 2.9108029612394644,
          "Error Type": "generalization",
          "Size of Test Set": 100,
          "Size of Training Set": 10
         },
         {
          "Error": 2.353637039772662,
          "Error Type": "generalization",
          "Size of Test Set": 100,
          "Size of Training Set": 10
         },
         {
          "Error": 2.454476526754236,
          "Error Type": "generalization",
          "Size of Test Set": 100,
          "Size of Training Set": 10
         },
         {
          "Error": 2.2375216615981786,
          "Error Type": "generalization",
          "Size of Test Set": 100,
          "Size of Training Set": 10
         },
         {
          "Error": 2.4739194134563047,
          "Error Type": "generalization",
          "Size of Test Set": 100,
          "Size of Training Set": 10
         },
         {
          "Error": 2.7994622001183673,
          "Error Type": "generalization",
          "Size of Test Set": 100,
          "Size of Training Set": 10
         },
         {
          "Error": 2.628925670425806,
          "Error Type": "generalization",
          "Size of Test Set": 100,
          "Size of Training Set": 10
         },
         {
          "Error": 2.4648029941609586,
          "Error Type": "generalization",
          "Size of Test Set": 100,
          "Size of Training Set": 10
         },
         {
          "Error": 2.2772327931517364,
          "Error Type": "generalization",
          "Size of Test Set": 100,
          "Size of Training Set": 10
         },
         {
          "Error": 2.4888550832837195,
          "Error Type": "generalization",
          "Size of Test Set": 100,
          "Size of Training Set": 10
         },
         {
          "Error": 2.254470165975652,
          "Error Type": "generalization",
          "Size of Test Set": 100,
          "Size of Training Set": 10
         },
         {
          "Error": 2.718367918872479,
          "Error Type": "generalization",
          "Size of Test Set": 100,
          "Size of Training Set": 10
         },
         {
          "Error": 2.594142201926864,
          "Error Type": "generalization",
          "Size of Test Set": 100,
          "Size of Training Set": 10
         },
         {
          "Error": 2.5863915330203695,
          "Error Type": "generalization",
          "Size of Test Set": 100,
          "Size of Training Set": 10
         },
         {
          "Error": 2.995497548064357,
          "Error Type": "generalization",
          "Size of Test Set": 100,
          "Size of Training Set": 10
         },
         {
          "Error": 2.4830597961155996,
          "Error Type": "generalization",
          "Size of Test Set": 100,
          "Size of Training Set": 10
         },
         {
          "Error": 2.4695991024786776,
          "Error Type": "generalization",
          "Size of Test Set": 100,
          "Size of Training Set": 10
         },
         {
          "Error": 3.190353182274539,
          "Error Type": "generalization",
          "Size of Test Set": 100,
          "Size of Training Set": 10
         },
         {
          "Error": 2.4131275598338604,
          "Error Type": "generalization",
          "Size of Test Set": 100,
          "Size of Training Set": 10
         },
         {
          "Error": 2.5434717582653046,
          "Error Type": "generalization",
          "Size of Test Set": 100,
          "Size of Training Set": 10
         },
         {
          "Error": 2.6583050837620714,
          "Error Type": "generalization",
          "Size of Test Set": 100,
          "Size of Training Set": 10
         },
         {
          "Error": 3.114287786863849,
          "Error Type": "generalization",
          "Size of Test Set": 100,
          "Size of Training Set": 10
         },
         {
          "Error": 2.6787780193278707,
          "Error Type": "generalization",
          "Size of Test Set": 100,
          "Size of Training Set": 10
         },
         {
          "Error": 3.0467181934524157,
          "Error Type": "generalization",
          "Size of Test Set": 100,
          "Size of Training Set": 10
         },
         {
          "Error": 2.9337770795612763,
          "Error Type": "generalization",
          "Size of Test Set": 100,
          "Size of Training Set": 10
         },
         {
          "Error": 2.9008905994055514,
          "Error Type": "generalization",
          "Size of Test Set": 100,
          "Size of Training Set": 10
         },
         {
          "Error": 2.897417279750529,
          "Error Type": "generalization",
          "Size of Test Set": 100,
          "Size of Training Set": 10
         },
         {
          "Error": 3.0046591419448134,
          "Error Type": "generalization",
          "Size of Test Set": 100,
          "Size of Training Set": 10
         },
         {
          "Error": 2.403870961199622,
          "Error Type": "generalization",
          "Size of Test Set": 100,
          "Size of Training Set": 10
         },
         {
          "Error": 3.22822975358971,
          "Error Type": "generalization",
          "Size of Test Set": 100,
          "Size of Training Set": 10
         },
         {
          "Error": 2.4805582066544978,
          "Error Type": "generalization",
          "Size of Test Set": 100,
          "Size of Training Set": 10
         },
         {
          "Error": 4.034621392695189,
          "Error Type": "generalization",
          "Size of Test Set": 100,
          "Size of Training Set": 10
         },
         {
          "Error": 2.739834705766773,
          "Error Type": "generalization",
          "Size of Test Set": 100,
          "Size of Training Set": 10
         },
         {
          "Error": 2.484874037998118,
          "Error Type": "generalization",
          "Size of Test Set": 100,
          "Size of Training Set": 10
         },
         {
          "Error": 3.248267596762844,
          "Error Type": "generalization",
          "Size of Test Set": 100,
          "Size of Training Set": 10
         },
         {
          "Error": 2.8470832358942704,
          "Error Type": "generalization",
          "Size of Test Set": 100,
          "Size of Training Set": 10
         },
         {
          "Error": 3.2661119828229963,
          "Error Type": "generalization",
          "Size of Test Set": 100,
          "Size of Training Set": 10
         },
         {
          "Error": 2.5825230188345936,
          "Error Type": "generalization",
          "Size of Test Set": 100,
          "Size of Training Set": 10
         },
         {
          "Error": 4.145820938184519,
          "Error Type": "generalization",
          "Size of Test Set": 100,
          "Size of Training Set": 10
         },
         {
          "Error": 2.4405948794137364,
          "Error Type": "generalization",
          "Size of Test Set": 100,
          "Size of Training Set": 10
         },
         {
          "Error": 2.5103705064700073,
          "Error Type": "generalization",
          "Size of Test Set": 100,
          "Size of Training Set": 10
         },
         {
          "Error": 2.57216613613173,
          "Error Type": "generalization",
          "Size of Test Set": 100,
          "Size of Training Set": 10
         },
         {
          "Error": 2.8537996913578905,
          "Error Type": "generalization",
          "Size of Test Set": 100,
          "Size of Training Set": 10
         },
         {
          "Error": 2.631935407382236,
          "Error Type": "generalization",
          "Size of Test Set": 100,
          "Size of Training Set": 10
         },
         {
          "Error": 1.9589635678815804,
          "Error Type": "generalization",
          "Size of Test Set": 100,
          "Size of Training Set": 10
         },
         {
          "Error": 2.7393866320562417,
          "Error Type": "generalization",
          "Size of Test Set": 100,
          "Size of Training Set": 10
         },
         {
          "Error": 3.061616239311115,
          "Error Type": "generalization",
          "Size of Test Set": 100,
          "Size of Training Set": 10
         },
         {
          "Error": 3.2456502521198307,
          "Error Type": "generalization",
          "Size of Test Set": 100,
          "Size of Training Set": 10
         },
         {
          "Error": 2.616855800566126,
          "Error Type": "generalization",
          "Size of Test Set": 100,
          "Size of Training Set": 10
         },
         {
          "Error": 2.699279030989625,
          "Error Type": "generalization",
          "Size of Test Set": 100,
          "Size of Training Set": 10
         },
         {
          "Error": 2.7173248187954,
          "Error Type": "generalization",
          "Size of Test Set": 100,
          "Size of Training Set": 10
         },
         {
          "Error": 2.7402429253471743,
          "Error Type": "generalization",
          "Size of Test Set": 100,
          "Size of Training Set": 10
         },
         {
          "Error": 1.9396479646198577,
          "Error Type": "generalization",
          "Size of Test Set": 100,
          "Size of Training Set": 100
         },
         {
          "Error": 2.0324482260739662,
          "Error Type": "generalization",
          "Size of Test Set": 100,
          "Size of Training Set": 100
         },
         {
          "Error": 2.0135748076449813,
          "Error Type": "generalization",
          "Size of Test Set": 100,
          "Size of Training Set": 100
         },
         {
          "Error": 1.9623292949421696,
          "Error Type": "generalization",
          "Size of Test Set": 100,
          "Size of Training Set": 100
         },
         {
          "Error": 2.0414860090984965,
          "Error Type": "generalization",
          "Size of Test Set": 100,
          "Size of Training Set": 100
         },
         {
          "Error": 1.9647922713521244,
          "Error Type": "generalization",
          "Size of Test Set": 100,
          "Size of Training Set": 100
         },
         {
          "Error": 2.1076386760894894,
          "Error Type": "generalization",
          "Size of Test Set": 100,
          "Size of Training Set": 100
         },
         {
          "Error": 2.0150689576311946,
          "Error Type": "generalization",
          "Size of Test Set": 100,
          "Size of Training Set": 100
         },
         {
          "Error": 2.0827398827426906,
          "Error Type": "generalization",
          "Size of Test Set": 100,
          "Size of Training Set": 100
         },
         {
          "Error": 2.0213420249306275,
          "Error Type": "generalization",
          "Size of Test Set": 100,
          "Size of Training Set": 100
         },
         {
          "Error": 2.0036966394665394,
          "Error Type": "generalization",
          "Size of Test Set": 100,
          "Size of Training Set": 100
         },
         {
          "Error": 2.059304480223782,
          "Error Type": "generalization",
          "Size of Test Set": 100,
          "Size of Training Set": 100
         },
         {
          "Error": 1.9358754090857144,
          "Error Type": "generalization",
          "Size of Test Set": 100,
          "Size of Training Set": 100
         },
         {
          "Error": 2.050509312629449,
          "Error Type": "generalization",
          "Size of Test Set": 100,
          "Size of Training Set": 100
         },
         {
          "Error": 2.0720474749655624,
          "Error Type": "generalization",
          "Size of Test Set": 100,
          "Size of Training Set": 100
         },
         {
          "Error": 2.0409503264453788,
          "Error Type": "generalization",
          "Size of Test Set": 100,
          "Size of Training Set": 100
         },
         {
          "Error": 1.9545404588101503,
          "Error Type": "generalization",
          "Size of Test Set": 100,
          "Size of Training Set": 100
         },
         {
          "Error": 2.048322381273067,
          "Error Type": "generalization",
          "Size of Test Set": 100,
          "Size of Training Set": 100
         },
         {
          "Error": 2.0846322704244256,
          "Error Type": "generalization",
          "Size of Test Set": 100,
          "Size of Training Set": 100
         },
         {
          "Error": 1.9618413811979356,
          "Error Type": "generalization",
          "Size of Test Set": 100,
          "Size of Training Set": 100
         },
         {
          "Error": 1.9596798566011113,
          "Error Type": "generalization",
          "Size of Test Set": 100,
          "Size of Training Set": 100
         },
         {
          "Error": 1.9404783311764182,
          "Error Type": "generalization",
          "Size of Test Set": 100,
          "Size of Training Set": 100
         },
         {
          "Error": 2.0816822524017975,
          "Error Type": "generalization",
          "Size of Test Set": 100,
          "Size of Training Set": 100
         },
         {
          "Error": 2.086130839109238,
          "Error Type": "generalization",
          "Size of Test Set": 100,
          "Size of Training Set": 100
         },
         {
          "Error": 1.9321964700957424,
          "Error Type": "generalization",
          "Size of Test Set": 100,
          "Size of Training Set": 100
         },
         {
          "Error": 1.9419843431404722,
          "Error Type": "generalization",
          "Size of Test Set": 100,
          "Size of Training Set": 100
         },
         {
          "Error": 1.969666258899792,
          "Error Type": "generalization",
          "Size of Test Set": 100,
          "Size of Training Set": 100
         },
         {
          "Error": 1.9494134092703328,
          "Error Type": "generalization",
          "Size of Test Set": 100,
          "Size of Training Set": 100
         },
         {
          "Error": 1.9210680462451373,
          "Error Type": "generalization",
          "Size of Test Set": 100,
          "Size of Training Set": 100
         },
         {
          "Error": 1.9876148577415782,
          "Error Type": "generalization",
          "Size of Test Set": 100,
          "Size of Training Set": 100
         },
         {
          "Error": 1.9478095938143019,
          "Error Type": "generalization",
          "Size of Test Set": 100,
          "Size of Training Set": 100
         },
         {
          "Error": 2.01468472362949,
          "Error Type": "generalization",
          "Size of Test Set": 100,
          "Size of Training Set": 100
         },
         {
          "Error": 1.9630135170205316,
          "Error Type": "generalization",
          "Size of Test Set": 100,
          "Size of Training Set": 100
         },
         {
          "Error": 1.9917878391053458,
          "Error Type": "generalization",
          "Size of Test Set": 100,
          "Size of Training Set": 100
         },
         {
          "Error": 1.887925539975975,
          "Error Type": "generalization",
          "Size of Test Set": 100,
          "Size of Training Set": 100
         },
         {
          "Error": 2.0609645998712107,
          "Error Type": "generalization",
          "Size of Test Set": 100,
          "Size of Training Set": 100
         },
         {
          "Error": 2.0013519451161863,
          "Error Type": "generalization",
          "Size of Test Set": 100,
          "Size of Training Set": 100
         },
         {
          "Error": 1.9665971549775558,
          "Error Type": "generalization",
          "Size of Test Set": 100,
          "Size of Training Set": 100
         },
         {
          "Error": 1.9792997858657613,
          "Error Type": "generalization",
          "Size of Test Set": 100,
          "Size of Training Set": 100
         },
         {
          "Error": 2.04962903043067,
          "Error Type": "generalization",
          "Size of Test Set": 100,
          "Size of Training Set": 100
         },
         {
          "Error": 1.970078200865134,
          "Error Type": "generalization",
          "Size of Test Set": 100,
          "Size of Training Set": 100
         },
         {
          "Error": 2.1940628045441537,
          "Error Type": "generalization",
          "Size of Test Set": 100,
          "Size of Training Set": 100
         },
         {
          "Error": 2.155668224061371,
          "Error Type": "generalization",
          "Size of Test Set": 100,
          "Size of Training Set": 100
         },
         {
          "Error": 1.8716931927167884,
          "Error Type": "generalization",
          "Size of Test Set": 100,
          "Size of Training Set": 100
         },
         {
          "Error": 1.9321471303592832,
          "Error Type": "generalization",
          "Size of Test Set": 100,
          "Size of Training Set": 100
         },
         {
          "Error": 1.99465468823734,
          "Error Type": "generalization",
          "Size of Test Set": 100,
          "Size of Training Set": 100
         },
         {
          "Error": 1.8926327949252824,
          "Error Type": "generalization",
          "Size of Test Set": 100,
          "Size of Training Set": 100
         },
         {
          "Error": 1.997399961732457,
          "Error Type": "generalization",
          "Size of Test Set": 100,
          "Size of Training Set": 100
         },
         {
          "Error": 1.9728850434546659,
          "Error Type": "generalization",
          "Size of Test Set": 100,
          "Size of Training Set": 100
         },
         {
          "Error": 1.9480392463026368,
          "Error Type": "generalization",
          "Size of Test Set": 100,
          "Size of Training Set": 100
         },
         {
          "Error": 1.9429869371516835,
          "Error Type": "generalization",
          "Size of Test Set": 100,
          "Size of Training Set": 100
         },
         {
          "Error": 1.896527465670726,
          "Error Type": "generalization",
          "Size of Test Set": 100,
          "Size of Training Set": 100
         },
         {
          "Error": 1.9441653797414744,
          "Error Type": "generalization",
          "Size of Test Set": 100,
          "Size of Training Set": 100
         },
         {
          "Error": 1.9825613266574502,
          "Error Type": "generalization",
          "Size of Test Set": 100,
          "Size of Training Set": 100
         },
         {
          "Error": 2.021655231182335,
          "Error Type": "generalization",
          "Size of Test Set": 100,
          "Size of Training Set": 100
         },
         {
          "Error": 1.9927361523697205,
          "Error Type": "generalization",
          "Size of Test Set": 100,
          "Size of Training Set": 100
         },
         {
          "Error": 1.9289443014008132,
          "Error Type": "generalization",
          "Size of Test Set": 100,
          "Size of Training Set": 100
         },
         {
          "Error": 1.9272466574596083,
          "Error Type": "generalization",
          "Size of Test Set": 100,
          "Size of Training Set": 100
         },
         {
          "Error": 1.9570446024682653,
          "Error Type": "generalization",
          "Size of Test Set": 100,
          "Size of Training Set": 100
         },
         {
          "Error": 1.9575250853825192,
          "Error Type": "generalization",
          "Size of Test Set": 100,
          "Size of Training Set": 100
         },
         {
          "Error": 2.0842904619021034,
          "Error Type": "generalization",
          "Size of Test Set": 100,
          "Size of Training Set": 100
         },
         {
          "Error": 1.918088873778756,
          "Error Type": "generalization",
          "Size of Test Set": 100,
          "Size of Training Set": 100
         },
         {
          "Error": 1.9586229957298855,
          "Error Type": "generalization",
          "Size of Test Set": 100,
          "Size of Training Set": 100
         },
         {
          "Error": 1.926145173816529,
          "Error Type": "generalization",
          "Size of Test Set": 100,
          "Size of Training Set": 100
         },
         {
          "Error": 1.9960047576514297,
          "Error Type": "generalization",
          "Size of Test Set": 100,
          "Size of Training Set": 100
         },
         {
          "Error": 2.0235037022990103,
          "Error Type": "generalization",
          "Size of Test Set": 100,
          "Size of Training Set": 100
         },
         {
          "Error": 2.0210329045311606,
          "Error Type": "generalization",
          "Size of Test Set": 100,
          "Size of Training Set": 100
         },
         {
          "Error": 1.9649589680545139,
          "Error Type": "generalization",
          "Size of Test Set": 100,
          "Size of Training Set": 100
         },
         {
          "Error": 1.9821366239603206,
          "Error Type": "generalization",
          "Size of Test Set": 100,
          "Size of Training Set": 100
         },
         {
          "Error": 2.0816080512092974,
          "Error Type": "generalization",
          "Size of Test Set": 100,
          "Size of Training Set": 100
         },
         {
          "Error": 1.9722286459315792,
          "Error Type": "generalization",
          "Size of Test Set": 100,
          "Size of Training Set": 100
         },
         {
          "Error": 1.9661552509456308,
          "Error Type": "generalization",
          "Size of Test Set": 100,
          "Size of Training Set": 100
         },
         {
          "Error": 2.089954905450783,
          "Error Type": "generalization",
          "Size of Test Set": 100,
          "Size of Training Set": 100
         },
         {
          "Error": 2.1068608853820145,
          "Error Type": "generalization",
          "Size of Test Set": 100,
          "Size of Training Set": 100
         },
         {
          "Error": 2.116919955333791,
          "Error Type": "generalization",
          "Size of Test Set": 100,
          "Size of Training Set": 100
         },
         {
          "Error": 1.9289544821200801,
          "Error Type": "generalization",
          "Size of Test Set": 100,
          "Size of Training Set": 100
         },
         {
          "Error": 2.1380256648805025,
          "Error Type": "generalization",
          "Size of Test Set": 100,
          "Size of Training Set": 100
         },
         {
          "Error": 1.8964669071882774,
          "Error Type": "generalization",
          "Size of Test Set": 100,
          "Size of Training Set": 100
         },
         {
          "Error": 2.0801893736576726,
          "Error Type": "generalization",
          "Size of Test Set": 100,
          "Size of Training Set": 100
         },
         {
          "Error": 2.05117692183237,
          "Error Type": "generalization",
          "Size of Test Set": 100,
          "Size of Training Set": 100
         },
         {
          "Error": 1.985722358559196,
          "Error Type": "generalization",
          "Size of Test Set": 100,
          "Size of Training Set": 100
         },
         {
          "Error": 1.9764668286108233,
          "Error Type": "generalization",
          "Size of Test Set": 100,
          "Size of Training Set": 100
         },
         {
          "Error": 2.129820507519551,
          "Error Type": "generalization",
          "Size of Test Set": 100,
          "Size of Training Set": 100
         },
         {
          "Error": 2.1389208309963084,
          "Error Type": "generalization",
          "Size of Test Set": 100,
          "Size of Training Set": 100
         },
         {
          "Error": 1.946943795821143,
          "Error Type": "generalization",
          "Size of Test Set": 100,
          "Size of Training Set": 100
         },
         {
          "Error": 1.948839253519299,
          "Error Type": "generalization",
          "Size of Test Set": 100,
          "Size of Training Set": 100
         },
         {
          "Error": 1.9067036016665346,
          "Error Type": "generalization",
          "Size of Test Set": 100,
          "Size of Training Set": 100
         },
         {
          "Error": 2.004740824555478,
          "Error Type": "generalization",
          "Size of Test Set": 100,
          "Size of Training Set": 100
         },
         {
          "Error": 1.9521293667032997,
          "Error Type": "generalization",
          "Size of Test Set": 100,
          "Size of Training Set": 100
         },
         {
          "Error": 2.040142289508029,
          "Error Type": "generalization",
          "Size of Test Set": 100,
          "Size of Training Set": 100
         },
         {
          "Error": 1.9946447855393556,
          "Error Type": "generalization",
          "Size of Test Set": 100,
          "Size of Training Set": 100
         },
         {
          "Error": 1.9748015417486957,
          "Error Type": "generalization",
          "Size of Test Set": 100,
          "Size of Training Set": 100
         },
         {
          "Error": 1.9801730964895699,
          "Error Type": "generalization",
          "Size of Test Set": 100,
          "Size of Training Set": 100
         },
         {
          "Error": 1.9824697946987442,
          "Error Type": "generalization",
          "Size of Test Set": 100,
          "Size of Training Set": 100
         },
         {
          "Error": 1.9177294936450147,
          "Error Type": "generalization",
          "Size of Test Set": 100,
          "Size of Training Set": 100
         },
         {
          "Error": 1.988835755686319,
          "Error Type": "generalization",
          "Size of Test Set": 100,
          "Size of Training Set": 100
         },
         {
          "Error": 1.9911613321836532,
          "Error Type": "generalization",
          "Size of Test Set": 100,
          "Size of Training Set": 100
         },
         {
          "Error": 1.910132395433328,
          "Error Type": "generalization",
          "Size of Test Set": 100,
          "Size of Training Set": 100
         },
         {
          "Error": 2.105313204879482,
          "Error Type": "generalization",
          "Size of Test Set": 100,
          "Size of Training Set": 100
         },
         {
          "Error": 1.980705210195575,
          "Error Type": "generalization",
          "Size of Test Set": 100,
          "Size of Training Set": 100
         },
         {
          "Error": 2.101824148902051,
          "Error Type": "generalization",
          "Size of Test Set": 100,
          "Size of Training Set": 100
         },
         {
          "Error": 1.983927303838027,
          "Error Type": "generalization",
          "Size of Test Set": 100,
          "Size of Training Set": 100
         },
         {
          "Error": 2.0348123472231943,
          "Error Type": "generalization",
          "Size of Test Set": 100,
          "Size of Training Set": 100
         },
         {
          "Error": 2.06478576424917,
          "Error Type": "generalization",
          "Size of Test Set": 100,
          "Size of Training Set": 100
         },
         {
          "Error": 1.9787662666059176,
          "Error Type": "generalization",
          "Size of Test Set": 100,
          "Size of Training Set": 100
         },
         {
          "Error": 2.0705818252458186,
          "Error Type": "generalization",
          "Size of Test Set": 100,
          "Size of Training Set": 100
         },
         {
          "Error": 2.0303941463508934,
          "Error Type": "generalization",
          "Size of Test Set": 100,
          "Size of Training Set": 100
         },
         {
          "Error": 2.012207953236686,
          "Error Type": "generalization",
          "Size of Test Set": 100,
          "Size of Training Set": 100
         },
         {
          "Error": 1.9392568269304533,
          "Error Type": "generalization",
          "Size of Test Set": 100,
          "Size of Training Set": 100
         },
         {
          "Error": 1.9622192654673194,
          "Error Type": "generalization",
          "Size of Test Set": 100,
          "Size of Training Set": 100
         },
         {
          "Error": 2.141682871976193,
          "Error Type": "generalization",
          "Size of Test Set": 100,
          "Size of Training Set": 100
         },
         {
          "Error": 1.9652342909632785,
          "Error Type": "generalization",
          "Size of Test Set": 100,
          "Size of Training Set": 100
         },
         {
          "Error": 1.8807914549988016,
          "Error Type": "generalization",
          "Size of Test Set": 100,
          "Size of Training Set": 100
         },
         {
          "Error": 2.133943489972787,
          "Error Type": "generalization",
          "Size of Test Set": 100,
          "Size of Training Set": 100
         },
         {
          "Error": 1.9685756909427379,
          "Error Type": "generalization",
          "Size of Test Set": 100,
          "Size of Training Set": 100
         },
         {
          "Error": 1.9872582938217809,
          "Error Type": "generalization",
          "Size of Test Set": 100,
          "Size of Training Set": 100
         },
         {
          "Error": 1.995169953507416,
          "Error Type": "generalization",
          "Size of Test Set": 100,
          "Size of Training Set": 100
         },
         {
          "Error": 1.9908353591274834,
          "Error Type": "generalization",
          "Size of Test Set": 100,
          "Size of Training Set": 100
         },
         {
          "Error": 1.9697479383397711,
          "Error Type": "generalization",
          "Size of Test Set": 100,
          "Size of Training Set": 100
         },
         {
          "Error": 2.131076568934301,
          "Error Type": "generalization",
          "Size of Test Set": 100,
          "Size of Training Set": 100
         },
         {
          "Error": 2.142239409180875,
          "Error Type": "generalization",
          "Size of Test Set": 100,
          "Size of Training Set": 100
         },
         {
          "Error": 1.880109300117281,
          "Error Type": "generalization",
          "Size of Test Set": 100,
          "Size of Training Set": 100
         },
         {
          "Error": 2.0773212014446485,
          "Error Type": "generalization",
          "Size of Test Set": 100,
          "Size of Training Set": 100
         },
         {
          "Error": 1.9816954752955176,
          "Error Type": "generalization",
          "Size of Test Set": 100,
          "Size of Training Set": 100
         },
         {
          "Error": 2.1838051158021843,
          "Error Type": "generalization",
          "Size of Test Set": 100,
          "Size of Training Set": 100
         },
         {
          "Error": 1.886412637881383,
          "Error Type": "generalization",
          "Size of Test Set": 100,
          "Size of Training Set": 100
         },
         {
          "Error": 2.038191627981047,
          "Error Type": "generalization",
          "Size of Test Set": 100,
          "Size of Training Set": 100
         },
         {
          "Error": 2.060937375348915,
          "Error Type": "generalization",
          "Size of Test Set": 100,
          "Size of Training Set": 100
         },
         {
          "Error": 2.1098865355768144,
          "Error Type": "generalization",
          "Size of Test Set": 100,
          "Size of Training Set": 100
         },
         {
          "Error": 1.9763310377664587,
          "Error Type": "generalization",
          "Size of Test Set": 100,
          "Size of Training Set": 100
         },
         {
          "Error": 1.9877447018644743,
          "Error Type": "generalization",
          "Size of Test Set": 100,
          "Size of Training Set": 100
         },
         {
          "Error": 2.03588962929193,
          "Error Type": "generalization",
          "Size of Test Set": 100,
          "Size of Training Set": 100
         },
         {
          "Error": 1.8996444712982765,
          "Error Type": "generalization",
          "Size of Test Set": 100,
          "Size of Training Set": 100
         },
         {
          "Error": 1.9793811555035072,
          "Error Type": "generalization",
          "Size of Test Set": 100,
          "Size of Training Set": 100
         },
         {
          "Error": 1.9473289029020981,
          "Error Type": "generalization",
          "Size of Test Set": 100,
          "Size of Training Set": 100
         },
         {
          "Error": 1.9199100681005614,
          "Error Type": "generalization",
          "Size of Test Set": 100,
          "Size of Training Set": 100
         },
         {
          "Error": 1.9155555102003308,
          "Error Type": "generalization",
          "Size of Test Set": 100,
          "Size of Training Set": 100
         },
         {
          "Error": 1.9828371701219951,
          "Error Type": "generalization",
          "Size of Test Set": 100,
          "Size of Training Set": 100
         },
         {
          "Error": 2.0375679232255623,
          "Error Type": "generalization",
          "Size of Test Set": 100,
          "Size of Training Set": 100
         },
         {
          "Error": 1.9431171631870547,
          "Error Type": "generalization",
          "Size of Test Set": 100,
          "Size of Training Set": 100
         },
         {
          "Error": 2.033260741718408,
          "Error Type": "generalization",
          "Size of Test Set": 100,
          "Size of Training Set": 100
         },
         {
          "Error": 2.123607135026347,
          "Error Type": "generalization",
          "Size of Test Set": 100,
          "Size of Training Set": 100
         },
         {
          "Error": 2.128992325047573,
          "Error Type": "generalization",
          "Size of Test Set": 100,
          "Size of Training Set": 100
         },
         {
          "Error": 1.9695679548297156,
          "Error Type": "generalization",
          "Size of Test Set": 100,
          "Size of Training Set": 100
         },
         {
          "Error": 2.0521530974136546,
          "Error Type": "generalization",
          "Size of Test Set": 100,
          "Size of Training Set": 100
         },
         {
          "Error": 1.9702434601385972,
          "Error Type": "generalization",
          "Size of Test Set": 100,
          "Size of Training Set": 100
         },
         {
          "Error": 1.9437578223422796,
          "Error Type": "generalization",
          "Size of Test Set": 100,
          "Size of Training Set": 100
         },
         {
          "Error": 1.9313652080309311,
          "Error Type": "generalization",
          "Size of Test Set": 100,
          "Size of Training Set": 100
         },
         {
          "Error": 2.0573738112418836,
          "Error Type": "generalization",
          "Size of Test Set": 100,
          "Size of Training Set": 100
         },
         {
          "Error": 1.96312169113767,
          "Error Type": "generalization",
          "Size of Test Set": 100,
          "Size of Training Set": 100
         },
         {
          "Error": 2.040437200393877,
          "Error Type": "generalization",
          "Size of Test Set": 100,
          "Size of Training Set": 100
         },
         {
          "Error": 2.0184746478177042,
          "Error Type": "generalization",
          "Size of Test Set": 100,
          "Size of Training Set": 100
         },
         {
          "Error": 2.0242402177696683,
          "Error Type": "generalization",
          "Size of Test Set": 100,
          "Size of Training Set": 100
         },
         {
          "Error": 1.9540705175950421,
          "Error Type": "generalization",
          "Size of Test Set": 100,
          "Size of Training Set": 100
         },
         {
          "Error": 1.9229322355936709,
          "Error Type": "generalization",
          "Size of Test Set": 100,
          "Size of Training Set": 100
         },
         {
          "Error": 2.0093792197186477,
          "Error Type": "generalization",
          "Size of Test Set": 100,
          "Size of Training Set": 100
         },
         {
          "Error": 2.0422447119087623,
          "Error Type": "generalization",
          "Size of Test Set": 100,
          "Size of Training Set": 100
         },
         {
          "Error": 2.126923463504284,
          "Error Type": "generalization",
          "Size of Test Set": 100,
          "Size of Training Set": 100
         },
         {
          "Error": 2.0415225161725608,
          "Error Type": "generalization",
          "Size of Test Set": 100,
          "Size of Training Set": 100
         },
         {
          "Error": 2.0146773525885817,
          "Error Type": "generalization",
          "Size of Test Set": 100,
          "Size of Training Set": 100
         },
         {
          "Error": 1.9606705382947962,
          "Error Type": "generalization",
          "Size of Test Set": 100,
          "Size of Training Set": 100
         },
         {
          "Error": 1.9668535640618978,
          "Error Type": "generalization",
          "Size of Test Set": 100,
          "Size of Training Set": 100
         },
         {
          "Error": 1.9790284228090547,
          "Error Type": "generalization",
          "Size of Test Set": 100,
          "Size of Training Set": 100
         },
         {
          "Error": 1.9820224992858793,
          "Error Type": "generalization",
          "Size of Test Set": 100,
          "Size of Training Set": 100
         },
         {
          "Error": 1.9999863978127475,
          "Error Type": "generalization",
          "Size of Test Set": 100,
          "Size of Training Set": 100
         },
         {
          "Error": 1.983833408623672,
          "Error Type": "generalization",
          "Size of Test Set": 100,
          "Size of Training Set": 100
         },
         {
          "Error": 1.9856487291895806,
          "Error Type": "generalization",
          "Size of Test Set": 100,
          "Size of Training Set": 100
         },
         {
          "Error": 1.9867029903930693,
          "Error Type": "generalization",
          "Size of Test Set": 100,
          "Size of Training Set": 100
         },
         {
          "Error": 2.0152184538586075,
          "Error Type": "generalization",
          "Size of Test Set": 100,
          "Size of Training Set": 100
         },
         {
          "Error": 1.934616745163449,
          "Error Type": "generalization",
          "Size of Test Set": 100,
          "Size of Training Set": 100
         },
         {
          "Error": 2.006668562845957,
          "Error Type": "generalization",
          "Size of Test Set": 100,
          "Size of Training Set": 100
         },
         {
          "Error": 2.0126158192785413,
          "Error Type": "generalization",
          "Size of Test Set": 100,
          "Size of Training Set": 100
         },
         {
          "Error": 1.9080139251030466,
          "Error Type": "generalization",
          "Size of Test Set": 100,
          "Size of Training Set": 100
         },
         {
          "Error": 1.9158837935379316,
          "Error Type": "generalization",
          "Size of Test Set": 100,
          "Size of Training Set": 100
         },
         {
          "Error": 2.037179856235152,
          "Error Type": "generalization",
          "Size of Test Set": 100,
          "Size of Training Set": 100
         },
         {
          "Error": 1.9736601098434938,
          "Error Type": "generalization",
          "Size of Test Set": 100,
          "Size of Training Set": 100
         },
         {
          "Error": 1.9543318676912378,
          "Error Type": "generalization",
          "Size of Test Set": 100,
          "Size of Training Set": 100
         },
         {
          "Error": 1.9809668423412188,
          "Error Type": "generalization",
          "Size of Test Set": 100,
          "Size of Training Set": 100
         },
         {
          "Error": 1.912952951462467,
          "Error Type": "generalization",
          "Size of Test Set": 100,
          "Size of Training Set": 100
         },
         {
          "Error": 2.136218025282676,
          "Error Type": "generalization",
          "Size of Test Set": 100,
          "Size of Training Set": 100
         },
         {
          "Error": 1.9554940020005271,
          "Error Type": "generalization",
          "Size of Test Set": 100,
          "Size of Training Set": 100
         },
         {
          "Error": 1.9580910856035203,
          "Error Type": "generalization",
          "Size of Test Set": 100,
          "Size of Training Set": 100
         },
         {
          "Error": 1.9831433554363154,
          "Error Type": "generalization",
          "Size of Test Set": 100,
          "Size of Training Set": 100
         },
         {
          "Error": 1.934612969938989,
          "Error Type": "generalization",
          "Size of Test Set": 100,
          "Size of Training Set": 100
         },
         {
          "Error": 1.9990341213200749,
          "Error Type": "generalization",
          "Size of Test Set": 100,
          "Size of Training Set": 100
         },
         {
          "Error": 2.0022716197900916,
          "Error Type": "generalization",
          "Size of Test Set": 100,
          "Size of Training Set": 100
         },
         {
          "Error": 2.038761369992947,
          "Error Type": "generalization",
          "Size of Test Set": 100,
          "Size of Training Set": 100
         },
         {
          "Error": 2.0300503914725,
          "Error Type": "generalization",
          "Size of Test Set": 100,
          "Size of Training Set": 100
         },
         {
          "Error": 1.9774526664275125,
          "Error Type": "generalization",
          "Size of Test Set": 100,
          "Size of Training Set": 100
         },
         {
          "Error": 1.9878239055718971,
          "Error Type": "generalization",
          "Size of Test Set": 100,
          "Size of Training Set": 100
         },
         {
          "Error": 2.001295885729062,
          "Error Type": "generalization",
          "Size of Test Set": 100,
          "Size of Training Set": 100
         },
         {
          "Error": 2.13058941040221,
          "Error Type": "generalization",
          "Size of Test Set": 100,
          "Size of Training Set": 100
         },
         {
          "Error": 2.284378481214663,
          "Error Type": "generalization",
          "Size of Test Set": 100,
          "Size of Training Set": 100
         },
         {
          "Error": 1.9839753538630536,
          "Error Type": "generalization",
          "Size of Test Set": 100,
          "Size of Training Set": 100
         },
         {
          "Error": 1.975155971308866,
          "Error Type": "generalization",
          "Size of Test Set": 100,
          "Size of Training Set": 100
         },
         {
          "Error": 2.0696591013070056,
          "Error Type": "generalization",
          "Size of Test Set": 100,
          "Size of Training Set": 100
         },
         {
          "Error": 1.9792147983277715,
          "Error Type": "generalization",
          "Size of Test Set": 100,
          "Size of Training Set": 100
         },
         {
          "Error": 2.0623896417801966,
          "Error Type": "generalization",
          "Size of Test Set": 100,
          "Size of Training Set": 100
         },
         {
          "Error": 2.037654670989824,
          "Error Type": "generalization",
          "Size of Test Set": 100,
          "Size of Training Set": 100
         },
         {
          "Error": 2.0222259197771155,
          "Error Type": "generalization",
          "Size of Test Set": 100,
          "Size of Training Set": 100
         },
         {
          "Error": 1.870575170040231,
          "Error Type": "generalization",
          "Size of Test Set": 100,
          "Size of Training Set": 1000
         },
         {
          "Error": 1.886450790884035,
          "Error Type": "generalization",
          "Size of Test Set": 100,
          "Size of Training Set": 1000
         },
         {
          "Error": 1.8718488175279562,
          "Error Type": "generalization",
          "Size of Test Set": 100,
          "Size of Training Set": 1000
         },
         {
          "Error": 1.8741544489151607,
          "Error Type": "generalization",
          "Size of Test Set": 100,
          "Size of Training Set": 1000
         },
         {
          "Error": 1.862371140156115,
          "Error Type": "generalization",
          "Size of Test Set": 100,
          "Size of Training Set": 1000
         },
         {
          "Error": 1.8672064784641291,
          "Error Type": "generalization",
          "Size of Test Set": 100,
          "Size of Training Set": 1000
         },
         {
          "Error": 1.8877731393025357,
          "Error Type": "generalization",
          "Size of Test Set": 100,
          "Size of Training Set": 1000
         },
         {
          "Error": 1.8685492218432311,
          "Error Type": "generalization",
          "Size of Test Set": 100,
          "Size of Training Set": 1000
         },
         {
          "Error": 1.8864360834155147,
          "Error Type": "generalization",
          "Size of Test Set": 100,
          "Size of Training Set": 1000
         },
         {
          "Error": 1.8702332607810368,
          "Error Type": "generalization",
          "Size of Test Set": 100,
          "Size of Training Set": 1000
         },
         {
          "Error": 1.8927877500655692,
          "Error Type": "generalization",
          "Size of Test Set": 100,
          "Size of Training Set": 1000
         },
         {
          "Error": 1.8798329189770293,
          "Error Type": "generalization",
          "Size of Test Set": 100,
          "Size of Training Set": 1000
         },
         {
          "Error": 1.8638229901676688,
          "Error Type": "generalization",
          "Size of Test Set": 100,
          "Size of Training Set": 1000
         },
         {
          "Error": 1.8508964987397318,
          "Error Type": "generalization",
          "Size of Test Set": 100,
          "Size of Training Set": 1000
         },
         {
          "Error": 1.881192748386042,
          "Error Type": "generalization",
          "Size of Test Set": 100,
          "Size of Training Set": 1000
         },
         {
          "Error": 1.8676162341846554,
          "Error Type": "generalization",
          "Size of Test Set": 100,
          "Size of Training Set": 1000
         },
         {
          "Error": 1.8757013881006899,
          "Error Type": "generalization",
          "Size of Test Set": 100,
          "Size of Training Set": 1000
         },
         {
          "Error": 1.872437759278191,
          "Error Type": "generalization",
          "Size of Test Set": 100,
          "Size of Training Set": 1000
         },
         {
          "Error": 1.863889175107855,
          "Error Type": "generalization",
          "Size of Test Set": 100,
          "Size of Training Set": 1000
         },
         {
          "Error": 1.8678145951437348,
          "Error Type": "generalization",
          "Size of Test Set": 100,
          "Size of Training Set": 1000
         },
         {
          "Error": 1.8907250568858662,
          "Error Type": "generalization",
          "Size of Test Set": 100,
          "Size of Training Set": 1000
         },
         {
          "Error": 1.8863782016658839,
          "Error Type": "generalization",
          "Size of Test Set": 100,
          "Size of Training Set": 1000
         },
         {
          "Error": 1.870722725953166,
          "Error Type": "generalization",
          "Size of Test Set": 100,
          "Size of Training Set": 1000
         },
         {
          "Error": 1.8923316587138492,
          "Error Type": "generalization",
          "Size of Test Set": 100,
          "Size of Training Set": 1000
         },
         {
          "Error": 1.8902251017652616,
          "Error Type": "generalization",
          "Size of Test Set": 100,
          "Size of Training Set": 1000
         },
         {
          "Error": 1.879577924503331,
          "Error Type": "generalization",
          "Size of Test Set": 100,
          "Size of Training Set": 1000
         },
         {
          "Error": 1.8751825045064054,
          "Error Type": "generalization",
          "Size of Test Set": 100,
          "Size of Training Set": 1000
         },
         {
          "Error": 1.8722029696159825,
          "Error Type": "generalization",
          "Size of Test Set": 100,
          "Size of Training Set": 1000
         },
         {
          "Error": 1.85540467785538,
          "Error Type": "generalization",
          "Size of Test Set": 100,
          "Size of Training Set": 1000
         },
         {
          "Error": 1.860683872720586,
          "Error Type": "generalization",
          "Size of Test Set": 100,
          "Size of Training Set": 1000
         },
         {
          "Error": 1.9038439959450844,
          "Error Type": "generalization",
          "Size of Test Set": 100,
          "Size of Training Set": 1000
         },
         {
          "Error": 1.8543646487922272,
          "Error Type": "generalization",
          "Size of Test Set": 100,
          "Size of Training Set": 1000
         },
         {
          "Error": 1.87290747833872,
          "Error Type": "generalization",
          "Size of Test Set": 100,
          "Size of Training Set": 1000
         },
         {
          "Error": 1.8730177868166793,
          "Error Type": "generalization",
          "Size of Test Set": 100,
          "Size of Training Set": 1000
         },
         {
          "Error": 1.8553537510888964,
          "Error Type": "generalization",
          "Size of Test Set": 100,
          "Size of Training Set": 1000
         },
         {
          "Error": 1.8721036130127078,
          "Error Type": "generalization",
          "Size of Test Set": 100,
          "Size of Training Set": 1000
         },
         {
          "Error": 1.87488256619379,
          "Error Type": "generalization",
          "Size of Test Set": 100,
          "Size of Training Set": 1000
         },
         {
          "Error": 1.8670239611774282,
          "Error Type": "generalization",
          "Size of Test Set": 100,
          "Size of Training Set": 1000
         },
         {
          "Error": 1.8751376324853304,
          "Error Type": "generalization",
          "Size of Test Set": 100,
          "Size of Training Set": 1000
         },
         {
          "Error": 1.854480499966099,
          "Error Type": "generalization",
          "Size of Test Set": 100,
          "Size of Training Set": 1000
         },
         {
          "Error": 1.8653078984133689,
          "Error Type": "generalization",
          "Size of Test Set": 100,
          "Size of Training Set": 1000
         },
         {
          "Error": 1.8931020033936485,
          "Error Type": "generalization",
          "Size of Test Set": 100,
          "Size of Training Set": 1000
         },
         {
          "Error": 1.8762843590627556,
          "Error Type": "generalization",
          "Size of Test Set": 100,
          "Size of Training Set": 1000
         },
         {
          "Error": 1.8635000363918095,
          "Error Type": "generalization",
          "Size of Test Set": 100,
          "Size of Training Set": 1000
         },
         {
          "Error": 1.872480163909386,
          "Error Type": "generalization",
          "Size of Test Set": 100,
          "Size of Training Set": 1000
         },
         {
          "Error": 1.8674292218119763,
          "Error Type": "generalization",
          "Size of Test Set": 100,
          "Size of Training Set": 1000
         },
         {
          "Error": 1.855862544781567,
          "Error Type": "generalization",
          "Size of Test Set": 100,
          "Size of Training Set": 1000
         },
         {
          "Error": 1.879820932768379,
          "Error Type": "generalization",
          "Size of Test Set": 100,
          "Size of Training Set": 1000
         },
         {
          "Error": 1.8530206481669977,
          "Error Type": "generalization",
          "Size of Test Set": 100,
          "Size of Training Set": 1000
         },
         {
          "Error": 1.8859197263123395,
          "Error Type": "generalization",
          "Size of Test Set": 100,
          "Size of Training Set": 1000
         },
         {
          "Error": 1.880446145104246,
          "Error Type": "generalization",
          "Size of Test Set": 100,
          "Size of Training Set": 1000
         },
         {
          "Error": 1.8924200571119227,
          "Error Type": "generalization",
          "Size of Test Set": 100,
          "Size of Training Set": 1000
         },
         {
          "Error": 1.8632452931879828,
          "Error Type": "generalization",
          "Size of Test Set": 100,
          "Size of Training Set": 1000
         },
         {
          "Error": 1.9042922128636195,
          "Error Type": "generalization",
          "Size of Test Set": 100,
          "Size of Training Set": 1000
         },
         {
          "Error": 1.8720910964182278,
          "Error Type": "generalization",
          "Size of Test Set": 100,
          "Size of Training Set": 1000
         },
         {
          "Error": 1.878164092299699,
          "Error Type": "generalization",
          "Size of Test Set": 100,
          "Size of Training Set": 1000
         },
         {
          "Error": 1.881949855376776,
          "Error Type": "generalization",
          "Size of Test Set": 100,
          "Size of Training Set": 1000
         },
         {
          "Error": 1.8502170839286518,
          "Error Type": "generalization",
          "Size of Test Set": 100,
          "Size of Training Set": 1000
         },
         {
          "Error": 1.8722377604459892,
          "Error Type": "generalization",
          "Size of Test Set": 100,
          "Size of Training Set": 1000
         },
         {
          "Error": 1.8650792485064638,
          "Error Type": "generalization",
          "Size of Test Set": 100,
          "Size of Training Set": 1000
         },
         {
          "Error": 1.8614522872142782,
          "Error Type": "generalization",
          "Size of Test Set": 100,
          "Size of Training Set": 1000
         },
         {
          "Error": 1.8656546475805549,
          "Error Type": "generalization",
          "Size of Test Set": 100,
          "Size of Training Set": 1000
         },
         {
          "Error": 1.8976498246290054,
          "Error Type": "generalization",
          "Size of Test Set": 100,
          "Size of Training Set": 1000
         },
         {
          "Error": 1.85362818115569,
          "Error Type": "generalization",
          "Size of Test Set": 100,
          "Size of Training Set": 1000
         },
         {
          "Error": 1.8749519241401846,
          "Error Type": "generalization",
          "Size of Test Set": 100,
          "Size of Training Set": 1000
         },
         {
          "Error": 1.852387878909976,
          "Error Type": "generalization",
          "Size of Test Set": 100,
          "Size of Training Set": 1000
         },
         {
          "Error": 1.8959694432548608,
          "Error Type": "generalization",
          "Size of Test Set": 100,
          "Size of Training Set": 1000
         },
         {
          "Error": 1.8792555953331336,
          "Error Type": "generalization",
          "Size of Test Set": 100,
          "Size of Training Set": 1000
         },
         {
          "Error": 1.8637114701019568,
          "Error Type": "generalization",
          "Size of Test Set": 100,
          "Size of Training Set": 1000
         },
         {
          "Error": 1.883337533086569,
          "Error Type": "generalization",
          "Size of Test Set": 100,
          "Size of Training Set": 1000
         },
         {
          "Error": 1.854071821360376,
          "Error Type": "generalization",
          "Size of Test Set": 100,
          "Size of Training Set": 1000
         },
         {
          "Error": 1.8903914884833524,
          "Error Type": "generalization",
          "Size of Test Set": 100,
          "Size of Training Set": 1000
         },
         {
          "Error": 1.8733799237638649,
          "Error Type": "generalization",
          "Size of Test Set": 100,
          "Size of Training Set": 1000
         },
         {
          "Error": 1.8651958551748062,
          "Error Type": "generalization",
          "Size of Test Set": 100,
          "Size of Training Set": 1000
         },
         {
          "Error": 1.8708733388891223,
          "Error Type": "generalization",
          "Size of Test Set": 100,
          "Size of Training Set": 1000
         },
         {
          "Error": 1.8585691343403468,
          "Error Type": "generalization",
          "Size of Test Set": 100,
          "Size of Training Set": 1000
         },
         {
          "Error": 1.8832182226842407,
          "Error Type": "generalization",
          "Size of Test Set": 100,
          "Size of Training Set": 1000
         },
         {
          "Error": 1.8609617924642277,
          "Error Type": "generalization",
          "Size of Test Set": 100,
          "Size of Training Set": 1000
         },
         {
          "Error": 1.8713151508203305,
          "Error Type": "generalization",
          "Size of Test Set": 100,
          "Size of Training Set": 1000
         },
         {
          "Error": 1.876887169561077,
          "Error Type": "generalization",
          "Size of Test Set": 100,
          "Size of Training Set": 1000
         },
         {
          "Error": 1.8640150383280445,
          "Error Type": "generalization",
          "Size of Test Set": 100,
          "Size of Training Set": 1000
         },
         {
          "Error": 1.8889733185735775,
          "Error Type": "generalization",
          "Size of Test Set": 100,
          "Size of Training Set": 1000
         },
         {
          "Error": 1.8648593570854306,
          "Error Type": "generalization",
          "Size of Test Set": 100,
          "Size of Training Set": 1000
         },
         {
          "Error": 1.8814074908501488,
          "Error Type": "generalization",
          "Size of Test Set": 100,
          "Size of Training Set": 1000
         },
         {
          "Error": 1.865048366517878,
          "Error Type": "generalization",
          "Size of Test Set": 100,
          "Size of Training Set": 1000
         },
         {
          "Error": 1.880642145781653,
          "Error Type": "generalization",
          "Size of Test Set": 100,
          "Size of Training Set": 1000
         },
         {
          "Error": 1.8885309989603312,
          "Error Type": "generalization",
          "Size of Test Set": 100,
          "Size of Training Set": 1000
         },
         {
          "Error": 1.881770309066103,
          "Error Type": "generalization",
          "Size of Test Set": 100,
          "Size of Training Set": 1000
         },
         {
          "Error": 1.87227598494675,
          "Error Type": "generalization",
          "Size of Test Set": 100,
          "Size of Training Set": 1000
         },
         {
          "Error": 1.8569597661449304,
          "Error Type": "generalization",
          "Size of Test Set": 100,
          "Size of Training Set": 1000
         },
         {
          "Error": 1.8625971047375025,
          "Error Type": "generalization",
          "Size of Test Set": 100,
          "Size of Training Set": 1000
         },
         {
          "Error": 1.854614269419067,
          "Error Type": "generalization",
          "Size of Test Set": 100,
          "Size of Training Set": 1000
         },
         {
          "Error": 1.864164627406959,
          "Error Type": "generalization",
          "Size of Test Set": 100,
          "Size of Training Set": 1000
         },
         {
          "Error": 1.8698563479378159,
          "Error Type": "generalization",
          "Size of Test Set": 100,
          "Size of Training Set": 1000
         },
         {
          "Error": 1.872291233607895,
          "Error Type": "generalization",
          "Size of Test Set": 100,
          "Size of Training Set": 1000
         },
         {
          "Error": 1.8698309536091584,
          "Error Type": "generalization",
          "Size of Test Set": 100,
          "Size of Training Set": 1000
         },
         {
          "Error": 1.8788360889081406,
          "Error Type": "generalization",
          "Size of Test Set": 100,
          "Size of Training Set": 1000
         },
         {
          "Error": 1.878237784326497,
          "Error Type": "generalization",
          "Size of Test Set": 100,
          "Size of Training Set": 1000
         },
         {
          "Error": 1.861588597761271,
          "Error Type": "generalization",
          "Size of Test Set": 100,
          "Size of Training Set": 1000
         },
         {
          "Error": 1.872202496761385,
          "Error Type": "generalization",
          "Size of Test Set": 100,
          "Size of Training Set": 1000
         },
         {
          "Error": 1.8471884570605495,
          "Error Type": "generalization",
          "Size of Test Set": 100,
          "Size of Training Set": 1000
         },
         {
          "Error": 1.8723474207513247,
          "Error Type": "generalization",
          "Size of Test Set": 100,
          "Size of Training Set": 1000
         },
         {
          "Error": 1.9049743854924588,
          "Error Type": "generalization",
          "Size of Test Set": 100,
          "Size of Training Set": 1000
         },
         {
          "Error": 1.8675204919080826,
          "Error Type": "generalization",
          "Size of Test Set": 100,
          "Size of Training Set": 1000
         },
         {
          "Error": 1.8669132185790758,
          "Error Type": "generalization",
          "Size of Test Set": 100,
          "Size of Training Set": 1000
         },
         {
          "Error": 1.8675674328828524,
          "Error Type": "generalization",
          "Size of Test Set": 100,
          "Size of Training Set": 1000
         },
         {
          "Error": 1.8527643569626233,
          "Error Type": "generalization",
          "Size of Test Set": 100,
          "Size of Training Set": 1000
         },
         {
          "Error": 1.8474182713647627,
          "Error Type": "generalization",
          "Size of Test Set": 100,
          "Size of Training Set": 1000
         },
         {
          "Error": 1.848566835211983,
          "Error Type": "generalization",
          "Size of Test Set": 100,
          "Size of Training Set": 1000
         },
         {
          "Error": 1.8756150660005453,
          "Error Type": "generalization",
          "Size of Test Set": 100,
          "Size of Training Set": 1000
         },
         {
          "Error": 1.8747882359147392,
          "Error Type": "generalization",
          "Size of Test Set": 100,
          "Size of Training Set": 1000
         },
         {
          "Error": 1.8958153420818025,
          "Error Type": "generalization",
          "Size of Test Set": 100,
          "Size of Training Set": 1000
         },
         {
          "Error": 1.887913016048305,
          "Error Type": "generalization",
          "Size of Test Set": 100,
          "Size of Training Set": 1000
         },
         {
          "Error": 1.8861702506177438,
          "Error Type": "generalization",
          "Size of Test Set": 100,
          "Size of Training Set": 1000
         },
         {
          "Error": 1.8545258754266076,
          "Error Type": "generalization",
          "Size of Test Set": 100,
          "Size of Training Set": 1000
         },
         {
          "Error": 1.8763654077527574,
          "Error Type": "generalization",
          "Size of Test Set": 100,
          "Size of Training Set": 1000
         },
         {
          "Error": 1.875780225935306,
          "Error Type": "generalization",
          "Size of Test Set": 100,
          "Size of Training Set": 1000
         },
         {
          "Error": 1.8731443692342875,
          "Error Type": "generalization",
          "Size of Test Set": 100,
          "Size of Training Set": 1000
         },
         {
          "Error": 1.8728243816429162,
          "Error Type": "generalization",
          "Size of Test Set": 100,
          "Size of Training Set": 1000
         },
         {
          "Error": 1.8682131046790158,
          "Error Type": "generalization",
          "Size of Test Set": 100,
          "Size of Training Set": 1000
         },
         {
          "Error": 1.8825301774477496,
          "Error Type": "generalization",
          "Size of Test Set": 100,
          "Size of Training Set": 1000
         },
         {
          "Error": 1.8647335723474636,
          "Error Type": "generalization",
          "Size of Test Set": 100,
          "Size of Training Set": 1000
         },
         {
          "Error": 1.8770646393163244,
          "Error Type": "generalization",
          "Size of Test Set": 100,
          "Size of Training Set": 1000
         },
         {
          "Error": 1.8860848591776174,
          "Error Type": "generalization",
          "Size of Test Set": 100,
          "Size of Training Set": 1000
         },
         {
          "Error": 1.8733438980748665,
          "Error Type": "generalization",
          "Size of Test Set": 100,
          "Size of Training Set": 1000
         },
         {
          "Error": 1.870197577326252,
          "Error Type": "generalization",
          "Size of Test Set": 100,
          "Size of Training Set": 1000
         },
         {
          "Error": 1.8953597601474834,
          "Error Type": "generalization",
          "Size of Test Set": 100,
          "Size of Training Set": 1000
         },
         {
          "Error": 1.8663268163719178,
          "Error Type": "generalization",
          "Size of Test Set": 100,
          "Size of Training Set": 1000
         },
         {
          "Error": 1.861797643153326,
          "Error Type": "generalization",
          "Size of Test Set": 100,
          "Size of Training Set": 1000
         },
         {
          "Error": 1.8758530950655954,
          "Error Type": "generalization",
          "Size of Test Set": 100,
          "Size of Training Set": 1000
         },
         {
          "Error": 1.876897192813136,
          "Error Type": "generalization",
          "Size of Test Set": 100,
          "Size of Training Set": 1000
         },
         {
          "Error": 1.861126737041636,
          "Error Type": "generalization",
          "Size of Test Set": 100,
          "Size of Training Set": 1000
         },
         {
          "Error": 1.8675953187782595,
          "Error Type": "generalization",
          "Size of Test Set": 100,
          "Size of Training Set": 1000
         },
         {
          "Error": 1.8985607099216875,
          "Error Type": "generalization",
          "Size of Test Set": 100,
          "Size of Training Set": 1000
         },
         {
          "Error": 1.8756364201943583,
          "Error Type": "generalization",
          "Size of Test Set": 100,
          "Size of Training Set": 1000
         },
         {
          "Error": 1.8667120867525728,
          "Error Type": "generalization",
          "Size of Test Set": 100,
          "Size of Training Set": 1000
         },
         {
          "Error": 1.9070703801933968,
          "Error Type": "generalization",
          "Size of Test Set": 100,
          "Size of Training Set": 1000
         },
         {
          "Error": 1.8979279817864732,
          "Error Type": "generalization",
          "Size of Test Set": 100,
          "Size of Training Set": 1000
         },
         {
          "Error": 1.8861446902530092,
          "Error Type": "generalization",
          "Size of Test Set": 100,
          "Size of Training Set": 1000
         },
         {
          "Error": 1.866619745958794,
          "Error Type": "generalization",
          "Size of Test Set": 100,
          "Size of Training Set": 1000
         },
         {
          "Error": 1.8653720496963804,
          "Error Type": "generalization",
          "Size of Test Set": 100,
          "Size of Training Set": 1000
         },
         {
          "Error": 1.8907923040105297,
          "Error Type": "generalization",
          "Size of Test Set": 100,
          "Size of Training Set": 1000
         },
         {
          "Error": 1.8598290215338755,
          "Error Type": "generalization",
          "Size of Test Set": 100,
          "Size of Training Set": 1000
         },
         {
          "Error": 1.8665898607646276,
          "Error Type": "generalization",
          "Size of Test Set": 100,
          "Size of Training Set": 1000
         },
         {
          "Error": 1.883814230634619,
          "Error Type": "generalization",
          "Size of Test Set": 100,
          "Size of Training Set": 1000
         },
         {
          "Error": 1.8795248281558106,
          "Error Type": "generalization",
          "Size of Test Set": 100,
          "Size of Training Set": 1000
         },
         {
          "Error": 1.856189594165869,
          "Error Type": "generalization",
          "Size of Test Set": 100,
          "Size of Training Set": 1000
         },
         {
          "Error": 1.9026149956698055,
          "Error Type": "generalization",
          "Size of Test Set": 100,
          "Size of Training Set": 1000
         },
         {
          "Error": 1.8894403239933852,
          "Error Type": "generalization",
          "Size of Test Set": 100,
          "Size of Training Set": 1000
         },
         {
          "Error": 1.8622884417048868,
          "Error Type": "generalization",
          "Size of Test Set": 100,
          "Size of Training Set": 1000
         },
         {
          "Error": 1.878320790949761,
          "Error Type": "generalization",
          "Size of Test Set": 100,
          "Size of Training Set": 1000
         },
         {
          "Error": 1.84264813574687,
          "Error Type": "generalization",
          "Size of Test Set": 100,
          "Size of Training Set": 1000
         },
         {
          "Error": 1.878561458057038,
          "Error Type": "generalization",
          "Size of Test Set": 100,
          "Size of Training Set": 1000
         },
         {
          "Error": 1.8681682082495117,
          "Error Type": "generalization",
          "Size of Test Set": 100,
          "Size of Training Set": 1000
         },
         {
          "Error": 1.8659641394385196,
          "Error Type": "generalization",
          "Size of Test Set": 100,
          "Size of Training Set": 1000
         },
         {
          "Error": 1.8705923548017835,
          "Error Type": "generalization",
          "Size of Test Set": 100,
          "Size of Training Set": 1000
         },
         {
          "Error": 1.8744075245185556,
          "Error Type": "generalization",
          "Size of Test Set": 100,
          "Size of Training Set": 1000
         },
         {
          "Error": 1.861397659395904,
          "Error Type": "generalization",
          "Size of Test Set": 100,
          "Size of Training Set": 1000
         },
         {
          "Error": 1.8596794526884106,
          "Error Type": "generalization",
          "Size of Test Set": 100,
          "Size of Training Set": 1000
         },
         {
          "Error": 1.90096704026853,
          "Error Type": "generalization",
          "Size of Test Set": 100,
          "Size of Training Set": 1000
         },
         {
          "Error": 1.8735321753341385,
          "Error Type": "generalization",
          "Size of Test Set": 100,
          "Size of Training Set": 1000
         },
         {
          "Error": 1.8708655195650854,
          "Error Type": "generalization",
          "Size of Test Set": 100,
          "Size of Training Set": 1000
         },
         {
          "Error": 1.8703224106000398,
          "Error Type": "generalization",
          "Size of Test Set": 100,
          "Size of Training Set": 1000
         },
         {
          "Error": 1.88865721242653,
          "Error Type": "generalization",
          "Size of Test Set": 100,
          "Size of Training Set": 1000
         },
         {
          "Error": 1.8844224807944658,
          "Error Type": "generalization",
          "Size of Test Set": 100,
          "Size of Training Set": 1000
         },
         {
          "Error": 1.8770456445245207,
          "Error Type": "generalization",
          "Size of Test Set": 100,
          "Size of Training Set": 1000
         },
         {
          "Error": 1.8604707522578972,
          "Error Type": "generalization",
          "Size of Test Set": 100,
          "Size of Training Set": 1000
         },
         {
          "Error": 1.8884738862484578,
          "Error Type": "generalization",
          "Size of Test Set": 100,
          "Size of Training Set": 1000
         },
         {
          "Error": 1.8700457036769011,
          "Error Type": "generalization",
          "Size of Test Set": 100,
          "Size of Training Set": 1000
         },
         {
          "Error": 1.8707266671774074,
          "Error Type": "generalization",
          "Size of Test Set": 100,
          "Size of Training Set": 1000
         },
         {
          "Error": 1.872241313474203,
          "Error Type": "generalization",
          "Size of Test Set": 100,
          "Size of Training Set": 1000
         },
         {
          "Error": 1.864160664881632,
          "Error Type": "generalization",
          "Size of Test Set": 100,
          "Size of Training Set": 1000
         },
         {
          "Error": 1.8716562204731824,
          "Error Type": "generalization",
          "Size of Test Set": 100,
          "Size of Training Set": 1000
         },
         {
          "Error": 1.868638008545859,
          "Error Type": "generalization",
          "Size of Test Set": 100,
          "Size of Training Set": 1000
         },
         {
          "Error": 1.8590368679791065,
          "Error Type": "generalization",
          "Size of Test Set": 100,
          "Size of Training Set": 1000
         },
         {
          "Error": 1.8672229895807078,
          "Error Type": "generalization",
          "Size of Test Set": 100,
          "Size of Training Set": 1000
         },
         {
          "Error": 1.890683734446226,
          "Error Type": "generalization",
          "Size of Test Set": 100,
          "Size of Training Set": 1000
         },
         {
          "Error": 1.8863195256436134,
          "Error Type": "generalization",
          "Size of Test Set": 100,
          "Size of Training Set": 1000
         },
         {
          "Error": 1.873691321833776,
          "Error Type": "generalization",
          "Size of Test Set": 100,
          "Size of Training Set": 1000
         },
         {
          "Error": 1.8606359807778607,
          "Error Type": "generalization",
          "Size of Test Set": 100,
          "Size of Training Set": 1000
         },
         {
          "Error": 1.8624659380620494,
          "Error Type": "generalization",
          "Size of Test Set": 100,
          "Size of Training Set": 1000
         },
         {
          "Error": 1.8716389329181091,
          "Error Type": "generalization",
          "Size of Test Set": 100,
          "Size of Training Set": 1000
         },
         {
          "Error": 1.8732346539806146,
          "Error Type": "generalization",
          "Size of Test Set": 100,
          "Size of Training Set": 1000
         },
         {
          "Error": 1.8692814016565207,
          "Error Type": "generalization",
          "Size of Test Set": 100,
          "Size of Training Set": 1000
         },
         {
          "Error": 1.8539950212773038,
          "Error Type": "generalization",
          "Size of Test Set": 100,
          "Size of Training Set": 1000
         },
         {
          "Error": 1.8669936771959783,
          "Error Type": "generalization",
          "Size of Test Set": 100,
          "Size of Training Set": 1000
         },
         {
          "Error": 1.8671783986479076,
          "Error Type": "generalization",
          "Size of Test Set": 100,
          "Size of Training Set": 1000
         },
         {
          "Error": 1.864902748859618,
          "Error Type": "generalization",
          "Size of Test Set": 100,
          "Size of Training Set": 1000
         },
         {
          "Error": 1.8672139444994136,
          "Error Type": "generalization",
          "Size of Test Set": 100,
          "Size of Training Set": 1000
         },
         {
          "Error": 1.8574116089013026,
          "Error Type": "generalization",
          "Size of Test Set": 100,
          "Size of Training Set": 1000
         },
         {
          "Error": 1.8522311989801676,
          "Error Type": "generalization",
          "Size of Test Set": 100,
          "Size of Training Set": 1000
         },
         {
          "Error": 1.872204295636006,
          "Error Type": "generalization",
          "Size of Test Set": 100,
          "Size of Training Set": 1000
         },
         {
          "Error": 1.8681444497575401,
          "Error Type": "generalization",
          "Size of Test Set": 100,
          "Size of Training Set": 1000
         },
         {
          "Error": 1.8537532451356664,
          "Error Type": "generalization",
          "Size of Test Set": 100,
          "Size of Training Set": 1000
         },
         {
          "Error": 1.881360689587235,
          "Error Type": "generalization",
          "Size of Test Set": 100,
          "Size of Training Set": 1000
         },
         {
          "Error": 1.8665454751965835,
          "Error Type": "generalization",
          "Size of Test Set": 100,
          "Size of Training Set": 1000
         },
         {
          "Error": 1.878093769308261,
          "Error Type": "generalization",
          "Size of Test Set": 100,
          "Size of Training Set": 1000
         },
         {
          "Error": 1.8794412698286345,
          "Error Type": "generalization",
          "Size of Test Set": 100,
          "Size of Training Set": 1000
         },
         {
          "Error": 1.8852752239052841,
          "Error Type": "generalization",
          "Size of Test Set": 100,
          "Size of Training Set": 1000
         },
         {
          "Error": 1.8702614433653268,
          "Error Type": "generalization",
          "Size of Test Set": 100,
          "Size of Training Set": 1000
         }
        ]
       },
       "encoding": {
        "color": {
         "field": "Error Type",
         "type": "nominal"
        },
        "row": {
         "field": "Size of Training Set",
         "type": "nominal"
        },
        "x": {
         "bin": {
          "maxbins": 100
         },
         "field": "Error",
         "type": "quantitative"
        },
        "y": {
         "aggregate": "count",
         "stack": null,
         "type": "quantitative"
        }
       },
       "height": 100,
       "mark": {
        "interpolate": "step",
        "opacity": 0.3,
        "type": "area"
       },
       "resolve": {
        "scale": {
         "y": "independent"
        }
       },
       "width": 400
      },
      "image/png": "[encoded data removed]",
      "text/plain": [
       "<VegaLite 3 object>\n",
       "\n",
       "If you see this message, it means the renderer has not been properly enabled\n",
       "for the frontend that you are using. For more information, see\n",
       "https://altair-viz.github.io/user_guide/troubleshooting.html\n"
      ]
     },
     "execution_count": 67,
     "metadata": {},
     "output_type": "execute_result"
    }
   ],
   "source": [
    "alt.data_transformers.disable_max_rows()\n",
    "\n",
    "alt.Chart(\n",
    "    results[results['Size of Test Set']==100], \n",
    "    height=100,\n",
    "    width=400\n",
    ").mark_area(\n",
    "    opacity=0.3,\n",
    "    interpolate='step'\n",
    ").encode(\n",
    "    alt.X('Error:Q', bin=alt.Bin(maxbins=100)),\n",
    "    alt.Y('count()', stack=None),\n",
    "    alt.Color('Error Type:N'),\n",
    "    row='Size of Training Set:N'\n",
    "#     column='Size of Test Set:N'\n",
    ").resolve_scale(\n",
    "    y='independent'\n",
    ")"
   ]
  },
  {
   "cell_type": "markdown",
   "metadata": {},
   "source": [
    "Notice how the training errors vary more wildly but are usualy smaller when training set is small. That happens because $f_\\mathcal{S}$ is bouncing around a much larger area and thus has a bigger chance of coming close to $\\mathcal F$, as illustrated in the figure above. As the size of the training set increases, the likely \"location\" of $f_\\mathcal{S}$ converges around where $f$ is, so the training errors get larger (since $f$ is presumably somehwere away from $\\mathcal F$), but also more consistent in size and closer to the size of the generalization error.\n",
    "\n",
    "You can also see this if you simulate small training sets and visualize the fit models. It's much easier for the model to pass through (interpolate) all of the data points when there are fewer data points. Since the predictions are very close to the data points, the error is small. As the amount of training data increases, the model has a harder time interpolating all of the points, so the training error increases. "
   ]
  },
  {
   "cell_type": "code",
   "execution_count": 90,
   "metadata": {
    "tags": [
     "hide_input"
    ]
   },
   "outputs": [],
   "source": [
    "def sim_train(n_train):\n",
    "    X_train,y_train = data_factory(n_train)\n",
    "    model = DecisionTreeRegressor(max_depth=3)\n",
    "    model.fit(X_train, y_train)\n",
    "    ŷ = model.predict(X_train)\n",
    "\n",
    "    source = pd.DataFrame({\n",
    "        'x':X_train[:,0],\n",
    "        'y':y_train,\n",
    "        'ŷ':ŷ\n",
    "    })\n",
    "\n",
    "    chart = alt.Chart(\n",
    "        source, \n",
    "        height=100,\n",
    "        width=300\n",
    "    ).mark_point(\n",
    "    ).encode(\n",
    "        alt.X('x'),\n",
    "        alt.Y('y')\n",
    "    ) + alt.Chart(\n",
    "        source, \n",
    "        height=100\n",
    "    ).mark_line(\n",
    "    ).encode(\n",
    "        alt.X('x'),\n",
    "        alt.Y('ŷ')\n",
    "    )\n",
    "    return chart"
   ]
  },
  {
   "cell_type": "code",
   "execution_count": 91,
   "metadata": {
    "tags": [
     "hide_input"
    ]
   },
   "outputs": [
    {
     "data": {
      "application/vnd.vegalite.v3+json": {
       "$schema": "https://vega.github.io/schema/vega-lite/v3.4.0.json",
       "config": {
        "mark": {
         "tooltip": null
        },
        "view": {
         "height": 300,
         "width": 400
        }
       },
       "datasets": {
        "data-2f37737403471174a5a51ee0a530ae48": [
         {
          "x": 0.7579840339953002,
          "y": 4.485816866839003,
          "ŷ": 4.71556511420131
         },
         {
          "x": 0.3842827752146185,
          "y": -6.370887689121428,
          "ŷ": -3.854086585893157
         },
         {
          "x": 0.8400824186733343,
          "y": 6.380085767634407,
          "ŷ": 4.71556511420131
         },
         {
          "x": 0.005062478068840304,
          "y": 3.0188117541914496,
          "ŷ": 0.6234013404506747
         },
         {
          "x": 0.34825428256595403,
          "y": 1.1496882787349643,
          "ŷ": -3.854086585893157
         },
         {
          "x": 0.08911492884805527,
          "y": 2.0965712972786017,
          "ŷ": 3.1651984458066935
         },
         {
          "x": 0.18978956702410765,
          "y": 7.19688256795697,
          "ŷ": 3.1651984458066935
         },
         {
          "x": 0.2908246443854374,
          "y": 4.709810434737657,
          "ŷ": 3.1651984458066935
         },
         {
          "x": 0.7947817429366525,
          "y": 5.698643153365756,
          "ŷ": 4.71556511420131
         },
         {
          "x": 0.8229226876563215,
          "y": 3.2974979907121735,
          "ŷ": 4.71556511420131
         },
         {
          "x": 0.7053451563962175,
          "y": 3.788198345203413,
          "ŷ": 4.71556511420131
         },
         {
          "x": 0.824398323201851,
          "y": 3.0485949047839784,
          "ŷ": 4.71556511420131
         },
         {
          "x": 0.18282792031388873,
          "y": 3.25397947081413,
          "ŷ": 3.1651984458066935
         },
         {
          "x": 0.6624948659164358,
          "y": -0.7591095278395885,
          "ŷ": -1.921776115497793
         },
         {
          "x": 0.5805091217942071,
          "y": -3.676209762341786,
          "ŷ": -1.921776115497793
         },
         {
          "x": 0.5673741920480502,
          "y": -3.733896875426269,
          "ŷ": -1.921776115497793
         },
         {
          "x": 0.23466783041864414,
          "y": 4.447924560705851,
          "ŷ": 3.1651984458066935
         },
         {
          "x": 0.22505453942112175,
          "y": 1.557868635099532,
          "ŷ": 3.1651984458066935
         },
         {
          "x": 0.6302239703991179,
          "y": -2.3365785738591547,
          "ŷ": -1.921776115497793
         },
         {
          "x": 0.4831320667938296,
          "y": -7.287815808830852,
          "ŷ": -3.854086585893157
         },
         {
          "x": 0.36451400010643087,
          "y": -1.4668713842618515,
          "ŷ": -3.854086585893157
         },
         {
          "x": 0.4412771552834339,
          "y": -2.803998964423548,
          "ŷ": -3.854086585893157
         },
         {
          "x": 0.14934339036790034,
          "y": 3.5341685954616326,
          "ŷ": 3.1651984458066935
         },
         {
          "x": 0.5449593873290658,
          "y": -5.015140980937936,
          "ŷ": -3.854086585893157
         },
         {
          "x": 0.1595356775079999,
          "y": 5.3850288933579336,
          "ŷ": 3.1651984458066935
         },
         {
          "x": 0.3220773795291101,
          "y": -2.764564007381518,
          "ŷ": -3.854086585893157
         },
         {
          "x": 0.5050087908923662,
          "y": -4.310656397523341,
          "ŷ": -3.854086585893157
         },
         {
          "x": 0.03769655582215714,
          "y": -0.6578179784781679,
          "ŷ": 0.6234013404506747
         },
         {
          "x": 0.488172732131942,
          "y": -5.08910386683341,
          "ŷ": -3.854086585893157
         },
         {
          "x": 0.570345671555433,
          "y": 0.8848244744169795,
          "ŷ": -1.921776115497793
         },
         {
          "x": 0.07448730557464367,
          "y": 3.191834514110597,
          "ŷ": 3.1651984458066935
         },
         {
          "x": 0.7405014521643315,
          "y": 3.261861225913254,
          "ŷ": 4.71556511420131
         },
         {
          "x": 0.4396918233156344,
          "y": -0.9023967297965454,
          "ŷ": -3.854086585893157
         },
         {
          "x": 0.6866282560636856,
          "y": 2.4888149435271876,
          "ŷ": 3.4616782600839087
         },
         {
          "x": 0.9065094033068644,
          "y": 0.21095675786007861,
          "ŷ": 1.4921500597479347
         },
         {
          "x": 0.2761400050912187,
          "y": 2.5876834832906495,
          "ŷ": 3.1651984458066935
         },
         {
          "x": 0.6858194515090612,
          "y": 5.138288255192903,
          "ŷ": 3.4616782600839087
         },
         {
          "x": 0.311514694797959,
          "y": -3.5542726980720523,
          "ŷ": -3.854086585893157
         },
         {
          "x": 0.39911745146286837,
          "y": -6.524012789502706,
          "ŷ": -3.854086585893157
         },
         {
          "x": 0.5343672691356453,
          "y": -2.3103183010727664,
          "ŷ": -3.854086585893157
         },
         {
          "x": 0.9506132566596776,
          "y": -2.195738652091341,
          "ŷ": -2.13990841976807
         },
         {
          "x": 0.9114648195115588,
          "y": 2.7865946307866896,
          "ŷ": 1.4921500597479347
         },
         {
          "x": 0.22956223637762596,
          "y": 4.21956840564651,
          "ŷ": 3.1651984458066935
         },
         {
          "x": 1.4977910373192849e-05,
          "y": 0.6393448119902996,
          "ŷ": 0.6234013404506747
         },
         {
          "x": 0.69449488832859,
          "y": 1.7766158567587476,
          "ŷ": 3.4616782600839087
         },
         {
          "x": 0.9623665502123052,
          "y": -1.9366539491059405,
          "ŷ": -2.13990841976807
         },
         {
          "x": 0.8784301627342989,
          "y": 4.449113256375817,
          "ŷ": 4.71556511420131
         },
         {
          "x": 0.9785223232317224,
          "y": -1.0049997315483357,
          "ŷ": -2.13990841976807
         },
         {
          "x": 0.7179811495538845,
          "y": 3.8665635473456486,
          "ŷ": 4.71556511420131
         },
         {
          "x": 0.04561509900075833,
          "y": 2.421209589534838,
          "ŷ": 3.1651984458066935
         },
         {
          "x": 0.1602929409854763,
          "y": 5.495566006326895,
          "ŷ": 3.1651984458066935
         },
         {
          "x": 0.6048318040393904,
          "y": -2.770129196735806,
          "ŷ": -1.921776115497793
         },
         {
          "x": 0.01592633050083747,
          "y": 0.5803319173696413,
          "ŷ": 0.6234013404506747
         },
         {
          "x": 0.05963731711519715,
          "y": 2.7218571201952586,
          "ŷ": 3.1651984458066935
         },
         {
          "x": 0.1138410578137905,
          "y": 2.941629901427745,
          "ŷ": 3.1651984458066935
         },
         {
          "x": 0.9932070186316122,
          "y": -4.6760507319681315,
          "ŷ": -2.13990841976807
         },
         {
          "x": 0.5653306036117948,
          "y": -1.0772538811759573,
          "ŷ": -1.921776115497793
         },
         {
          "x": 0.8552647930911803,
          "y": 3.585513921194811,
          "ŷ": 4.71556511420131
         },
         {
          "x": 0.08402415789580919,
          "y": 0.4380079304121143,
          "ŷ": 3.1651984458066935
         },
         {
          "x": 0.7393860097554376,
          "y": 12.052089474211355,
          "ŷ": 4.71556511420131
         },
         {
          "x": 0.48384386833827875,
          "y": -4.446890138641406,
          "ŷ": -3.854086585893157
         },
         {
          "x": 0.07402663437118695,
          "y": 0.6388789645217381,
          "ŷ": 3.1651984458066935
         },
         {
          "x": 0.37186832805965797,
          "y": -7.355426426132031,
          "ŷ": -3.854086585893157
         },
         {
          "x": 0.0672760242042475,
          "y": 4.508883953755818,
          "ŷ": 3.1651984458066935
         },
         {
          "x": 0.7016304821214062,
          "y": 2.4138847297015222,
          "ŷ": 3.4616782600839087
         },
         {
          "x": 0.45697659389598944,
          "y": -4.597591620519445,
          "ŷ": -3.854086585893157
         },
         {
          "x": 0.49791541030543085,
          "y": -5.642654092312654,
          "ŷ": -3.854086585893157
         },
         {
          "x": 0.08679902084021385,
          "y": 2.8085524104561297,
          "ŷ": 3.1651984458066935
         },
         {
          "x": 0.4952025191790088,
          "y": -5.512786967181706,
          "ŷ": -3.854086585893157
         },
         {
          "x": 0.6747951797078247,
          "y": 3.5599674966678765,
          "ŷ": 3.4616782600839087
         },
         {
          "x": 0.28586652630566645,
          "y": 3.692781565846243,
          "ŷ": 3.1651984458066935
         },
         {
          "x": 0.7772607573122444,
          "y": 6.663386876564779,
          "ŷ": 4.71556511420131
         },
         {
          "x": 0.7681515003029605,
          "y": 5.551630524241425,
          "ŷ": 4.71556511420131
         },
         {
          "x": 0.8197458819576943,
          "y": 4.46643810086299,
          "ŷ": 4.71556511420131
         },
         {
          "x": 0.25711494324121587,
          "y": 2.2587183080843696,
          "ŷ": 3.1651984458066935
         },
         {
          "x": 0.006509052172107954,
          "y": -0.4636638028198491,
          "ŷ": 0.6234013404506747
         },
         {
          "x": 0.8250390011663217,
          "y": 4.712550925382327,
          "ŷ": 4.71556511420131
         },
         {
          "x": 0.35815282304134144,
          "y": -2.957851258109521,
          "ŷ": -3.854086585893157
         },
         {
          "x": 0.9738981595672858,
          "y": -2.2808912815657116,
          "ŷ": -2.13990841976807
         },
         {
          "x": 0.8827386086406039,
          "y": -1.233528036298905,
          "ŷ": 1.4921500597479347
         },
         {
          "x": 0.8647215630711186,
          "y": 3.657645556502851,
          "ŷ": 4.71556511420131
         },
         {
          "x": 0.24568456493723545,
          "y": 4.2958553619393545,
          "ŷ": 3.1651984458066935
         },
         {
          "x": 0.1107307279981492,
          "y": 2.3515701566398084,
          "ŷ": 3.1651984458066935
         },
         {
          "x": 0.7885807211539895,
          "y": 4.3026769489311985,
          "ŷ": 4.71556511420131
         },
         {
          "x": 0.37998355558032637,
          "y": -0.9134841445721666,
          "ŷ": -3.854086585893157
         },
         {
          "x": 0.2846002769141497,
          "y": -0.7047852780412374,
          "ŷ": 3.1651984458066935
         },
         {
          "x": 0.8295255291570885,
          "y": 3.03435756134063,
          "ŷ": 4.71556511420131
         },
         {
          "x": 0.5264954515566735,
          "y": -2.010592602455747,
          "ŷ": -3.854086585893157
         },
         {
          "x": 0.6575625293783982,
          "y": -1.8844970925963607,
          "ŷ": -1.921776115497793
         },
         {
          "x": 0.6164398586439824,
          "y": -1.9431346039221973,
          "ŷ": -1.921776115497793
         },
         {
          "x": 0.1301091863829703,
          "y": 3.079914295608198,
          "ŷ": 3.1651984458066935
         },
         {
          "x": 0.8745932716250735,
          "y": 3.8186226594892676,
          "ŷ": 4.71556511420131
         },
         {
          "x": 0.9588213506894309,
          "y": -0.7451161723289594,
          "ŷ": -2.13990841976807
         },
         {
          "x": 0.9286198173328655,
          "y": 3.236209266682656,
          "ŷ": 1.4921500597479347
         },
         {
          "x": 0.7443095553446779,
          "y": 1.6254311800222156,
          "ŷ": 4.71556511420131
         },
         {
          "x": 0.38495517761619635,
          "y": -4.10227630070178,
          "ŷ": -3.854086585893157
         },
         {
          "x": 0.7037995593795924,
          "y": 9.468319850902194,
          "ŷ": 4.71556511420131
         },
         {
          "x": 0.6743535155685846,
          "y": 5.3924982786552125,
          "ŷ": 3.4616782600839087
         },
         {
          "x": 0.9087065622805222,
          "y": 2.4605176797091546,
          "ŷ": 1.4921500597479347
         },
         {
          "x": 0.8519742222951167,
          "y": 2.527393874609329,
          "ŷ": 4.71556511420131
         }
        ],
        "data-453eb66c069c3c746fa34bc1d050e993": [
         {
          "x": 0.09422831095814843,
          "y": 3.2091706310739823,
          "ŷ": 4.879409512791145
         },
         {
          "x": 0.7693678829877265,
          "y": 6.776480692561373,
          "ŷ": 3.414956098736847
         },
         {
          "x": 0.4632997162122324,
          "y": -4.4839238562199775,
          "ŷ": -2.751895618257445
         },
         {
          "x": 0.34246609744940926,
          "y": -1.5374000551167388,
          "ŷ": -2.751895618257445
         },
         {
          "x": 0.10131595524177472,
          "y": 4.604403420563184,
          "ŷ": 4.879409512791145
         },
         {
          "x": 0.08907857183152934,
          "y": 3.00144826875085,
          "ŷ": 4.879409512791145
         },
         {
          "x": 0.1429016539018012,
          "y": 4.439221344998738,
          "ŷ": 4.879409512791145
         },
         {
          "x": 0.3762798660215808,
          "y": -6.140787957878521,
          "ŷ": -2.751895618257445
         },
         {
          "x": 0.8204333086671108,
          "y": 2.7169564245061135,
          "ŷ": 3.414956098736847
         },
         {
          "x": 0.7776753940778609,
          "y": 7.8846753495673365,
          "ŷ": 3.414956098736847
         },
         {
          "x": 0.952335490729479,
          "y": 0.6068448711121195,
          "ŷ": -0.34203698981240344
         },
         {
          "x": 0.6394925037083864,
          "y": -1.872078594674499,
          "ŷ": 3.414956098736847
         },
         {
          "x": 0.5211779478647134,
          "y": -2.9787107200563234,
          "ŷ": -2.751895618257445
         },
         {
          "x": 0.40384169734730324,
          "y": -4.9394331817953905,
          "ŷ": -2.751895618257445
         },
         {
          "x": 0.5218126983245196,
          "y": -1.5804345256993084,
          "ŷ": -2.751895618257445
         },
         {
          "x": 0.9647778996820611,
          "y": -3.1392734955276773,
          "ŷ": -0.34203698981240344
         },
         {
          "x": 0.15487707024835173,
          "y": 4.541389729600141,
          "ŷ": 4.879409512791145
         },
         {
          "x": 0.47799047644993264,
          "y": -4.239956088972436,
          "ŷ": -2.751895618257445
         },
         {
          "x": 0.20335133050691745,
          "y": 8.964382501896367,
          "ŷ": 4.879409512791145
         },
         {
          "x": 0.6157688992085826,
          "y": -1.53577759139302,
          "ŷ": -2.751895618257445
         },
         {
          "x": 0.9466163683279187,
          "y": -2.5008559574949163,
          "ŷ": -0.34203698981240344
         },
         {
          "x": 0.0263996435842766,
          "y": 1.8858635095948322,
          "ŷ": 1.848365287355183
         },
         {
          "x": 0.06636961622818816,
          "y": 6.112357246201627,
          "ŷ": 4.879409512791145
         },
         {
          "x": 0.2359790302064695,
          "y": -0.9146861073007173,
          "ŷ": 2.4695983846883602
         },
         {
          "x": 0.2460963331693502,
          "y": 6.991154305137056,
          "ŷ": 2.4695983846883602
         },
         {
          "x": 0.979254881471366,
          "y": -0.5563541528343916,
          "ŷ": -0.34203698981240344
         },
         {
          "x": 0.038328578877874,
          "y": 0.8262450228121689,
          "ŷ": 0.8262450228121689
         },
         {
          "x": 0.03636368689553726,
          "y": 3.2231689668310706,
          "ŷ": 1.848365287355183
         },
         {
          "x": 0.6364129945650339,
          "y": -3.0354540133839296,
          "ŷ": -2.751895618257445
         },
         {
          "x": 0.8993395324452055,
          "y": 1.8781620253133795,
          "ŷ": -0.34203698981240344
         },
         {
          "x": 0.2644497047099479,
          "y": -1.9987939302957227,
          "ŷ": 1.2750066738944406
         },
         {
          "x": 0.02325208240987664,
          "y": 0.9511789749979177,
          "ŷ": 1.848365287355183
         },
         {
          "x": 0.3307422414135087,
          "y": 2.8371099219926306,
          "ŷ": 1.2750066738944406
         },
         {
          "x": 0.1259434764839784,
          "y": 3.508714607572902,
          "ŷ": 4.879409512791145
         },
         {
          "x": 0.08521053136233558,
          "y": 5.712283590233156,
          "ŷ": 4.879409512791145
         },
         {
          "x": 0.5526099740653474,
          "y": -9.049649440122051,
          "ŷ": -2.751895618257445
         },
         {
          "x": 0.21427044130181183,
          "y": 7.519959338909936,
          "ŷ": 4.879409512791145
         },
         {
          "x": 0.42085436830914447,
          "y": -0.6155686654405352,
          "ŷ": -2.751895618257445
         },
         {
          "x": 0.5605682910051243,
          "y": -0.7678712187687684,
          "ŷ": -2.751895618257445
         },
         {
          "x": 0.1698014302166292,
          "y": 2.441488997012174,
          "ŷ": 4.879409512791145
         },
         {
          "x": 0.2796100524227797,
          "y": 0.7013201795604068,
          "ŷ": 1.2750066738944406
         },
         {
          "x": 0.6210328153777689,
          "y": 0.3190042345109083,
          "ŷ": -2.751895618257445
         },
         {
          "x": 0.8366269487454863,
          "y": 3.1030064652912097,
          "ŷ": 3.414956098736847
         },
         {
          "x": 0.8286294836799015,
          "y": 2.868639578807898,
          "ŷ": 3.414956098736847
         },
         {
          "x": 0.15745544994173022,
          "y": 5.083662705202276,
          "ŷ": 4.879409512791145
         },
         {
          "x": 0.6355785256883687,
          "y": 0.8109719441203503,
          "ŷ": -2.751895618257445
         },
         {
          "x": 0.8669686195671001,
          "y": 8.238193973595992,
          "ŷ": 3.414956098736847
         },
         {
          "x": 0.5980241771426432,
          "y": 0.40527316385957324,
          "ŷ": -2.751895618257445
         },
         {
          "x": 0.5131091659383676,
          "y": -4.519514846271488,
          "ŷ": -2.751895618257445
         },
         {
          "x": 0.6285665237256107,
          "y": -2.65413656194593,
          "ŷ": -2.751895618257445
         },
         {
          "x": 0.7904847868199423,
          "y": 1.622483821532546,
          "ŷ": 3.414956098736847
         },
         {
          "x": 0.0709142403962274,
          "y": 1.4278110076200479,
          "ŷ": 4.879409512791145
         },
         {
          "x": 0.6251516030631062,
          "y": -0.2531067787705743,
          "ŷ": -2.751895618257445
         },
         {
          "x": 0.20756801937631297,
          "y": 5.009184174652917,
          "ŷ": 4.879409512791145
         },
         {
          "x": 0.4056947232018232,
          "y": -6.155026766891583,
          "ŷ": -2.751895618257445
         },
         {
          "x": 0.49868100566131424,
          "y": -2.329453350607524,
          "ŷ": -2.751895618257445
         },
         {
          "x": 0.4558814983174345,
          "y": -3.3040380608162705,
          "ŷ": -2.751895618257445
         },
         {
          "x": 0.6848020253453464,
          "y": 4.641313264879683,
          "ŷ": 3.414956098736847
         },
         {
          "x": 0.0863066749479694,
          "y": 9.797848621980803,
          "ŷ": 4.879409512791145
         },
         {
          "x": 0.7935023758799338,
          "y": 8.778101517028873,
          "ŷ": 3.414956098736847
         },
         {
          "x": 0.8998210142747073,
          "y": 1.554731672393192,
          "ŷ": -0.34203698981240344
         },
         {
          "x": 0.6382704605185257,
          "y": 2.1915343592164933,
          "ŷ": 3.414956098736847
         },
         {
          "x": 0.7569534720261423,
          "y": 2.743812416331665,
          "ŷ": 3.414956098736847
         },
         {
          "x": 0.04997371534651496,
          "y": 4.438460105277207,
          "ŷ": 4.879409512791145
         },
         {
          "x": 0.7115499371667743,
          "y": 2.2385643321497124,
          "ŷ": 3.414956098736847
         },
         {
          "x": 0.8815107107239211,
          "y": -1.4609309730121005,
          "ŷ": -0.34203698981240344
         },
         {
          "x": 0.18782970989118064,
          "y": 6.038374435425613,
          "ŷ": 4.879409512791145
         },
         {
          "x": 0.025603695346501087,
          "y": 1.6629231117315426,
          "ŷ": 1.848365287355183
         },
         {
          "x": 0.7264116390157451,
          "y": 3.7285282362211447,
          "ŷ": 3.414956098736847
         },
         {
          "x": 0.5667479724659976,
          "y": -3.1234671876868414,
          "ŷ": -2.751895618257445
         },
         {
          "x": 0.6621388431540907,
          "y": 2.2613162706961347,
          "ŷ": 3.414956098736847
         },
         {
          "x": 0.3531052505465585,
          "y": -2.688952948448975,
          "ŷ": -2.751895618257445
         },
         {
          "x": 0.3241825688832063,
          "y": 3.560390524320448,
          "ŷ": 1.2750066738944406
         },
         {
          "x": 0.38123277457632265,
          "y": -5.546551110904106,
          "ŷ": -2.751895618257445
         },
         {
          "x": 0.1498023922943812,
          "y": 4.276485752063387,
          "ŷ": 4.879409512791145
         },
         {
          "x": 0.03511632937339648,
          "y": 1.5186918736205515,
          "ŷ": 1.848365287355183
         },
         {
          "x": 0.6263609957316217,
          "y": -1.6273702150061828,
          "ŷ": -2.751895618257445
         },
         {
          "x": 0.3807286070540242,
          "y": -1.8596081941483371,
          "ŷ": -2.751895618257445
         },
         {
          "x": 0.8620378016870909,
          "y": 4.547785550840909,
          "ŷ": 3.414956098736847
         },
         {
          "x": 0.9624474219915019,
          "y": -2.3623320926496327,
          "ŷ": -0.34203698981240344
         },
         {
          "x": 0.49453990286288174,
          "y": -5.463759631087339,
          "ŷ": -2.751895618257445
         },
         {
          "x": 0.9131931612919351,
          "y": 0.6362492787744644,
          "ŷ": -0.34203698981240344
         },
         {
          "x": 0.19147922161643394,
          "y": 5.134695230693489,
          "ŷ": 4.879409512791145
         },
         {
          "x": 0.5727108546173707,
          "y": -1.678237355606728,
          "ŷ": -2.751895618257445
         },
         {
          "x": 0.5915233753699851,
          "y": -3.7098052554837233,
          "ŷ": -2.751895618257445
         },
         {
          "x": 0.8959416587874137,
          "y": 1.8030232844990475,
          "ŷ": -0.34203698981240344
         },
         {
          "x": 0.6964331783265664,
          "y": 2.716112466062418,
          "ŷ": 3.414956098736847
         },
         {
          "x": 0.3468704278211714,
          "y": -2.528007571552307,
          "ŷ": -2.751895618257445
         },
         {
          "x": 0.6537232535402947,
          "y": 0.023758293750644865,
          "ŷ": 3.414956098736847
         },
         {
          "x": 0.23217164498416054,
          "y": 1.3323269562287412,
          "ŷ": 2.4695983846883602
         },
         {
          "x": 0.49362405424112754,
          "y": -0.32692862933113975,
          "ŷ": -2.751895618257445
         },
         {
          "x": 0.5952412999999849,
          "y": -1.7591508342970021,
          "ŷ": -2.751895618257445
         },
         {
          "x": 0.5334142703741208,
          "y": -1.915722131283487,
          "ŷ": -2.751895618257445
         },
         {
          "x": 0.9015325544455862,
          "y": -0.22167134850992265,
          "ŷ": -0.34203698981240344
         },
         {
          "x": 0.07836594079882608,
          "y": 3.0642131193438735,
          "ŷ": 4.879409512791145
         },
         {
          "x": 0.18325209986118995,
          "y": 2.1040634540103054,
          "ŷ": 4.879409512791145
         },
         {
          "x": 0.6484036138449302,
          "y": 2.3473710366232976,
          "ŷ": 3.414956098736847
         },
         {
          "x": 0.7768455079156961,
          "y": 4.236235862633075,
          "ŷ": 3.414956098736847
         },
         {
          "x": 0.6774051618222044,
          "y": -0.07871324414823988,
          "ŷ": 3.414956098736847
         },
         {
          "x": 0.0725043124343091,
          "y": 6.917390998322228,
          "ŷ": 4.879409512791145
         }
        ],
        "data-4abbb2d46d91b6b66fb4f222489e83b6": [
         {
          "x": 0.21892381494870028,
          "y": 4.420360586745534,
          "ŷ": 4.420360586745534
         },
         {
          "x": 0.17046522813308707,
          "y": 5.662841297781904,
          "ŷ": 5.662841297781904
         },
         {
          "x": 0.9455426475751849,
          "y": 0.18361255267576287,
          "ŷ": -0.6404470117301769
         },
         {
          "x": 0.18148161582189037,
          "y": 1.6964055555726607,
          "ŷ": 1.8623391770157314
         },
         {
          "x": 0.6403278230067603,
          "y": 3.9247326671973717,
          "ŷ": 3.9247326671973717
         },
         {
          "x": 0.5997728207396731,
          "y": -3.701891876588333,
          "ŷ": -3.701891876588333
         },
         {
          "x": 0.988085190896077,
          "y": -1.4645065761361167,
          "ŷ": -0.6404470117301769
         },
         {
          "x": 0.18029828891328437,
          "y": 2.028272798458802,
          "ŷ": 1.8623391770157314
         },
         {
          "x": 0.6210383339278288,
          "y": -4.436033091084848,
          "ŷ": -4.436033091084848
         },
         {
          "x": 0.07749550606909494,
          "y": 3.215725494531295,
          "ŷ": 3.215725494531295
         }
        ],
        "data-4caf7030b1a45368f4bba4375fe90613": [
         {
          "x": 0.7971937376687886,
          "y": 2.2563100028321768,
          "ŷ": 2.2563100028321768
         },
         {
          "x": 0.053606790811294824,
          "y": 3.8297050412871414,
          "ŷ": 3.8297050412871414
         },
         {
          "x": 0.8791655258686741,
          "y": 0.045960363472724364,
          "ŷ": 0.045960363472724364
         },
         {
          "x": 0.17994652943093925,
          "y": 6.348454625168904,
          "ŷ": 6.348454625168904
         },
         {
          "x": 0.5095081531847124,
          "y": -3.956272880985212,
          "ŷ": -4.560502798267573
         },
         {
          "x": 0.32181071431596453,
          "y": 1.1460855271888022,
          "ŷ": -0.9123668434199792
         },
         {
          "x": 0.22352394521695607,
          "y": 5.012058873467574,
          "ŷ": 5.012058873467574
         },
         {
          "x": 0.3041646437354487,
          "y": -2.6916416408924158,
          "ŷ": -0.9123668434199792
         },
         {
          "x": 0.557163197956053,
          "y": -5.164732715549935,
          "ŷ": -4.560502798267573
         },
         {
          "x": 0.41726359045444084,
          "y": -1.191544416556324,
          "ŷ": -0.9123668434199792
         }
        ],
        "data-e2c90347dbe71588808861b6ac289d0f": [
         {
          "x": 0.15333154046021225,
          "y": 3.7248854439024006,
          "ŷ": 3.681534928753914
         },
         {
          "x": 0.879932568894194,
          "y": 3.9974737854891047,
          "ŷ": 2.7022322877480978
         },
         {
          "x": 0.8702849631674239,
          "y": 3.8708074364462264,
          "ŷ": 2.7022322877480978
         },
         {
          "x": 0.14504579371076032,
          "y": 7.437559242387399,
          "ŷ": 3.681534928753914
         },
         {
          "x": 0.990324919477762,
          "y": -6.008893931275707,
          "ŷ": -3.4094978863778453
         },
         {
          "x": 0.5100078726461189,
          "y": -6.8920125206393905,
          "ŷ": -3.666851338205298
         },
         {
          "x": 0.2493678432876878,
          "y": 0.28782004169562647,
          "ŷ": 0.9673308215378653
         },
         {
          "x": 0.6418458113545628,
          "y": 0.5594956926331113,
          "ŷ": 2.7022322877480978
         },
         {
          "x": 0.11595981680712497,
          "y": 6.7666524334996385,
          "ŷ": 3.681534928753914
         },
         {
          "x": 0.962146265270498,
          "y": -0.8416930122244808,
          "ŷ": -3.4094978863778453
         },
         {
          "x": 0.697800719916989,
          "y": 3.6589751939576276,
          "ŷ": 2.7022322877480978
         },
         {
          "x": 0.32924473633680384,
          "y": -5.754469326323789,
          "ŷ": -3.666851338205298
         },
         {
          "x": 0.3482708758830999,
          "y": -5.338565785305441,
          "ŷ": -3.666851338205298
         },
         {
          "x": 0.7584697684070003,
          "y": -0.2392799573595159,
          "ŷ": 2.7022322877480978
         },
         {
          "x": 0.40066223321737315,
          "y": -3.511145482543852,
          "ŷ": -3.666851338205298
         },
         {
          "x": 0.7856961344887935,
          "y": 2.8329898589439764,
          "ŷ": 2.7022322877480978
         },
         {
          "x": 0.33512782682835107,
          "y": -2.6357061681951865,
          "ŷ": -3.666851338205298
         },
         {
          "x": 0.5772653058433246,
          "y": 0.17591756377201984,
          "ŷ": -3.666851338205298
         },
         {
          "x": 0.810189835060982,
          "y": 3.960088496965882,
          "ŷ": 2.7022322877480978
         },
         {
          "x": 0.31074771789204847,
          "y": -1.6153857964152285,
          "ŷ": -3.666851338205298
         },
         {
          "x": 0.8316241372013791,
          "y": 3.281978891069563,
          "ŷ": 2.7022322877480978
         },
         {
          "x": 0.4449259748947215,
          "y": -4.075214985776039,
          "ŷ": -3.666851338205298
         },
         {
          "x": 0.8887714939408624,
          "y": 1.0576692438431505,
          "ŷ": 2.7022322877480978
         },
         {
          "x": 0.4286313550033153,
          "y": -5.160010809172945,
          "ŷ": -3.666851338205298
         },
         {
          "x": 0.5242885774456394,
          "y": -2.7409495231708347,
          "ŷ": -3.666851338205298
         },
         {
          "x": 0.1987747878649827,
          "y": 7.614438807928179,
          "ŷ": 7.614438807928179
         },
         {
          "x": 0.7559529558823634,
          "y": 2.340179365353481,
          "ŷ": 2.7022322877480978
         },
         {
          "x": 0.4303757887987646,
          "y": -6.490236660885636,
          "ŷ": -3.666851338205298
         },
         {
          "x": 0.56832975310243,
          "y": -1.765192591588007,
          "ŷ": -3.666851338205298
         },
         {
          "x": 0.4626334572627149,
          "y": -3.437015652499337,
          "ŷ": -3.666851338205298
         },
         {
          "x": 0.02326507375885467,
          "y": 1.0669273982693683,
          "ŷ": 3.681534928753914
         },
         {
          "x": 0.8142287567209896,
          "y": 7.245609026264239,
          "ŷ": 2.7022322877480978
         },
         {
          "x": 0.8840347314508052,
          "y": 1.303165999454057,
          "ŷ": 2.7022322877480978
         },
         {
          "x": 0.19726278820276433,
          "y": 3.5734380820074465,
          "ŷ": 3.681534928753914
         },
         {
          "x": 0.7588668140892202,
          "y": 3.247100249060347,
          "ŷ": 2.7022322877480978
         },
         {
          "x": 0.45226545970155707,
          "y": -6.478139623080292,
          "ŷ": -3.666851338205298
         },
         {
          "x": 0.9371716129504887,
          "y": 0.2955841879465554,
          "ŷ": 2.7022322877480978
         },
         {
          "x": 0.48100429623999963,
          "y": -7.050073999043883,
          "ŷ": -3.666851338205298
         },
         {
          "x": 0.3229791555963766,
          "y": -0.19435438383956943,
          "ŷ": -3.666851338205298
         },
         {
          "x": 0.6480791880873341,
          "y": -2.9386236214442683,
          "ŷ": 2.7022322877480978
         },
         {
          "x": 0.5778472316685768,
          "y": -5.612440643099914,
          "ŷ": -3.666851338205298
         },
         {
          "x": 0.05352696372904575,
          "y": 1.1229463070324075,
          "ŷ": 3.681534928753914
         },
         {
          "x": 0.7983832214309905,
          "y": 7.587220837918198,
          "ŷ": 2.7022322877480978
         },
         {
          "x": 0.4648714780877071,
          "y": -10.520966736682546,
          "ŷ": -3.666851338205298
         },
         {
          "x": 0.8350679317269697,
          "y": 4.878248878793092,
          "ŷ": 2.7022322877480978
         },
         {
          "x": 0.24899000857538967,
          "y": 0.6509147753567408,
          "ŷ": 0.9673308215378653
         },
         {
          "x": 0.5362256742175415,
          "y": -5.5907122995409315,
          "ŷ": -3.666851338205298
         },
         {
          "x": 0.49210241882758365,
          "y": -6.012882444004965,
          "ŷ": -3.666851338205298
         },
         {
          "x": 0.10027995536194223,
          "y": 5.524890360886172,
          "ŷ": 3.681534928753914
         },
         {
          "x": 0.32182305628194663,
          "y": -4.460581185860466,
          "ŷ": -3.666851338205298
         },
         {
          "x": 0.42975543073166345,
          "y": -1.801056375657017,
          "ŷ": -3.666851338205298
         },
         {
          "x": 0.45128683022570804,
          "y": -5.641605685831123,
          "ŷ": -3.666851338205298
         },
         {
          "x": 0.7472596337390369,
          "y": 1.0030160624219633,
          "ŷ": 2.7022322877480978
         },
         {
          "x": 0.3374936416894354,
          "y": -0.15280930523863012,
          "ŷ": -3.666851338205298
         },
         {
          "x": 0.6010962769961005,
          "y": 1.0676031191130606,
          "ŷ": -1.2798906174841562
         },
         {
          "x": 0.2315894264332784,
          "y": 1.9632576475612287,
          "ŷ": 0.9673308215378653
         },
         {
          "x": 0.5142807043894427,
          "y": -2.0285595973859403,
          "ŷ": -3.666851338205298
         },
         {
          "x": 0.6069966678516581,
          "y": -1.7751547424001548,
          "ŷ": -1.2798906174841562
         },
         {
          "x": 0.7573437600311824,
          "y": 7.736365498524002,
          "ŷ": 2.7022322877480978
         },
         {
          "x": 0.28964272195351926,
          "y": 2.0341282453919414,
          "ŷ": 2.653640805838434
         },
         {
          "x": 0.5966810068836812,
          "y": -2.6266374554889373,
          "ŷ": -1.2798906174841562
         },
         {
          "x": 0.017809444621115444,
          "y": 4.150357530296389,
          "ŷ": 3.681534928753914
         },
         {
          "x": 0.15851965069166074,
          "y": 1.7488644322319185,
          "ŷ": 3.681534928753914
         },
         {
          "x": 0.5900808473621157,
          "y": -1.446774917920391,
          "ŷ": -1.2798906174841562
         },
         {
          "x": 0.1688688092274696,
          "y": 4.888345900048039,
          "ŷ": 3.681534928753914
         },
         {
          "x": 0.5083718786855277,
          "y": -0.011289532662119406,
          "ŷ": -3.666851338205298
         },
         {
          "x": 0.6068583670204568,
          "y": -2.0221146337827682,
          "ŷ": -1.2798906174841562
         },
         {
          "x": 0.42464606857300746,
          "y": -2.095018828074368,
          "ŷ": -3.666851338205298
         },
         {
          "x": 0.6729714866250497,
          "y": 1.7330578195439061,
          "ŷ": 2.7022322877480978
         },
         {
          "x": 0.36745661047796563,
          "y": -2.505601789383213,
          "ŷ": -3.666851338205298
         },
         {
          "x": 0.6826990479779463,
          "y": 3.1001766299989146,
          "ŷ": 2.7022322877480978
         },
         {
          "x": 0.6206414271694364,
          "y": 1.6201507115325318,
          "ŷ": 2.7022322877480978
         },
         {
          "x": 0.11905659595024487,
          "y": 1.1274860457932205,
          "ŷ": 3.681534928753914
         },
         {
          "x": 0.28747358362904996,
          "y": 3.249754680182157,
          "ŷ": 2.653640805838434
         },
         {
          "x": 0.41913523892065907,
          "y": -3.094922350458204,
          "ŷ": -3.666851338205298
         },
         {
          "x": 0.6315904358694607,
          "y": 1.3677243648412754,
          "ŷ": 2.7022322877480978
         },
         {
          "x": 0.40717202639056027,
          "y": -1.7772348201894044,
          "ŷ": -3.666851338205298
         },
         {
          "x": 0.13443863634909992,
          "y": 3.044159700473887,
          "ŷ": 3.681534928753914
         },
         {
          "x": 0.44954931423820577,
          "y": -2.8057307676132233,
          "ŷ": -3.666851338205298
         },
         {
          "x": 0.4397411189802043,
          "y": -5.463780669757782,
          "ŷ": -3.666851338205298
         },
         {
          "x": 0.2954089253582032,
          "y": 0.27069379710165964,
          "ŷ": -3.666851338205298
         },
         {
          "x": 0.8198404859956522,
          "y": 3.4825995393295375,
          "ŷ": 2.7022322877480978
         },
         {
          "x": 0.40464325579171356,
          "y": -2.2626270997700133,
          "ŷ": -3.666851338205298
         },
         {
          "x": 0.06044045415536081,
          "y": 3.1676132193464355,
          "ŷ": 3.681534928753914
         },
         {
          "x": 0.558542858147595,
          "y": -1.0687761151977715,
          "ŷ": -3.666851338205298
         },
         {
          "x": 0.593786630442551,
          "y": 0.30881999889218137,
          "ŷ": -1.2798906174841562
         },
         {
          "x": 0.5327464027322191,
          "y": -2.995130509042268,
          "ŷ": -3.666851338205298
         },
         {
          "x": 0.5777519416322526,
          "y": -7.079910810540358,
          "ŷ": -3.666851338205298
         },
         {
          "x": 0.7631392913116076,
          "y": 5.449145205422901,
          "ŷ": 2.7022322877480978
         },
         {
          "x": 0.7637399909701901,
          "y": 3.451313175279034,
          "ŷ": 2.7022322877480978
         },
         {
          "x": 0.5932586414577004,
          "y": -2.3890307439532035,
          "ŷ": -1.2798906174841562
         },
         {
          "x": 0.9393208630185572,
          "y": 0.6615325073387006,
          "ŷ": 2.7022322877480978
         },
         {
          "x": 0.265339072351657,
          "y": 2.6770394919412044,
          "ŷ": 2.653640805838434
         },
         {
          "x": 0.8712125013543011,
          "y": 1.8949254323955804,
          "ŷ": 2.7022322877480978
         },
         {
          "x": 0.6866379284792308,
          "y": -0.07395416726834148,
          "ŷ": 2.7022322877480978
         },
         {
          "x": 0.1036621389928084,
          "y": 1.5296175572188933,
          "ŷ": 3.681534928753914
         },
         {
          "x": 0.9737606562146068,
          "y": -3.3779067156333484,
          "ŷ": -3.4094978863778453
         },
         {
          "x": 0.137379698980151,
          "y": 4.501313521438603,
          "ŷ": 3.681534928753914
         },
         {
          "x": 0.5787486125288599,
          "y": -1.3558355643330358,
          "ŷ": -1.2798906174841562
         },
         {
          "x": 0.0820926571856021,
          "y": 5.529501685230409,
          "ŷ": 3.681534928753914
         }
        ],
        "data-fb1f9d5d0db23e135c1c75240156f45c": [
         {
          "x": 0.4680869672915221,
          "y": -9.198013501695478,
          "ŷ": -7.8664744235569515
         },
         {
          "x": 0.28194774304219716,
          "y": 1.0785717115995264,
          "ŷ": 0.9153890905331048
         },
         {
          "x": 0.2300968009578005,
          "y": -0.007686003135308539,
          "ŷ": -0.007686003135308539
         },
         {
          "x": 0.39307539108629563,
          "y": -6.206799482563921,
          "ŷ": -6.206799482563921
         },
         {
          "x": 0.7749649989761769,
          "y": 8.248492636800384,
          "ŷ": 8.248492636800384
         },
         {
          "x": 0.4987516128252386,
          "y": -6.5349353454184245,
          "ŷ": -7.8664744235569515
         },
         {
          "x": 0.8945593757768797,
          "y": 6.438863262942348,
          "ŷ": 6.438863262942348
         },
         {
          "x": 0.7803214642555971,
          "y": 3.877421854353554,
          "ŷ": 3.8987331895381003
         },
         {
          "x": 0.32336980966216133,
          "y": 0.7522064694666832,
          "ŷ": 0.9153890905331048
         },
         {
          "x": 0.8768998353334201,
          "y": 3.9200445247226465,
          "ŷ": 3.8987331895381003
         }
        ]
       },
       "hconcat": [
        {
         "vconcat": [
          {
           "data": {
            "name": "data-4abbb2d46d91b6b66fb4f222489e83b6"
           },
           "layer": [
            {
             "encoding": {
              "x": {
               "field": "x",
               "type": "quantitative"
              },
              "y": {
               "field": "y",
               "type": "quantitative"
              }
             },
             "height": 100,
             "mark": "point",
             "width": 300
            },
            {
             "encoding": {
              "x": {
               "field": "x",
               "type": "quantitative"
              },
              "y": {
               "field": "ŷ",
               "type": "quantitative"
              }
             },
             "height": 100,
             "mark": "line"
            }
           ]
          },
          {
           "data": {
            "name": "data-fb1f9d5d0db23e135c1c75240156f45c"
           },
           "layer": [
            {
             "encoding": {
              "x": {
               "field": "x",
               "type": "quantitative"
              },
              "y": {
               "field": "y",
               "type": "quantitative"
              }
             },
             "height": 100,
             "mark": "point",
             "width": 300
            },
            {
             "encoding": {
              "x": {
               "field": "x",
               "type": "quantitative"
              },
              "y": {
               "field": "ŷ",
               "type": "quantitative"
              }
             },
             "height": 100,
             "mark": "line"
            }
           ]
          },
          {
           "data": {
            "name": "data-4caf7030b1a45368f4bba4375fe90613"
           },
           "layer": [
            {
             "encoding": {
              "x": {
               "field": "x",
               "type": "quantitative"
              },
              "y": {
               "field": "y",
               "type": "quantitative"
              }
             },
             "height": 100,
             "mark": "point",
             "width": 300
            },
            {
             "encoding": {
              "x": {
               "field": "x",
               "type": "quantitative"
              },
              "y": {
               "field": "ŷ",
               "type": "quantitative"
              }
             },
             "height": 100,
             "mark": "line"
            }
           ]
          }
         ]
        },
        {
         "vconcat": [
          {
           "data": {
            "name": "data-2f37737403471174a5a51ee0a530ae48"
           },
           "layer": [
            {
             "encoding": {
              "x": {
               "field": "x",
               "type": "quantitative"
              },
              "y": {
               "field": "y",
               "type": "quantitative"
              }
             },
             "height": 100,
             "mark": "point",
             "width": 300
            },
            {
             "encoding": {
              "x": {
               "field": "x",
               "type": "quantitative"
              },
              "y": {
               "field": "ŷ",
               "type": "quantitative"
              }
             },
             "height": 100,
             "mark": "line"
            }
           ]
          },
          {
           "data": {
            "name": "data-453eb66c069c3c746fa34bc1d050e993"
           },
           "layer": [
            {
             "encoding": {
              "x": {
               "field": "x",
               "type": "quantitative"
              },
              "y": {
               "field": "y",
               "type": "quantitative"
              }
             },
             "height": 100,
             "mark": "point",
             "width": 300
            },
            {
             "encoding": {
              "x": {
               "field": "x",
               "type": "quantitative"
              },
              "y": {
               "field": "ŷ",
               "type": "quantitative"
              }
             },
             "height": 100,
             "mark": "line"
            }
           ]
          },
          {
           "data": {
            "name": "data-e2c90347dbe71588808861b6ac289d0f"
           },
           "layer": [
            {
             "encoding": {
              "x": {
               "field": "x",
               "type": "quantitative"
              },
              "y": {
               "field": "y",
               "type": "quantitative"
              }
             },
             "height": 100,
             "mark": "point",
             "width": 300
            },
            {
             "encoding": {
              "x": {
               "field": "x",
               "type": "quantitative"
              },
              "y": {
               "field": "ŷ",
               "type": "quantitative"
              }
             },
             "height": 100,
             "mark": "line"
            }
           ]
          }
         ]
        }
       ]
      },
      "image/png": "[encoded data removed]",
      "text/plain": [
       "<VegaLite 3 object>\n",
       "\n",
       "If you see this message, it means the renderer has not been properly enabled\n",
       "for the frontend that you are using. For more information, see\n",
       "https://altair-viz.github.io/user_guide/troubleshooting.html\n"
      ]
     },
     "execution_count": 91,
     "metadata": {},
     "output_type": "execute_result"
    }
   ],
   "source": [
    "alt.vconcat(*[sim_train(10) for i in range(3)]) | alt.vconcat(*[sim_train(100) for i in range(3)])"
   ]
  },
  {
   "cell_type": "markdown",
   "metadata": {},
   "source": [
    "Another way of thinking about this phenomenon is that it's very easy for the model to simply \"memorize\" the training data when there is very little of it. It will always perform well on the training data because it has the answers memorized, but as every student knows, memorizing homework problems won't help too much when the test comes along. As the size of the training data increase, the model struggles to memorize each individual case and must instead capture a generalizable pattern to do well on the training data, which is what improves the performance on the test data."
   ]
  },
  {
   "cell_type": "markdown",
   "metadata": {},
   "source": [
    "- test error in this picture\n",
    "- more/less test data\n",
    "- smaller/bigger model spaces\n",
    "- bias/variance"
   ]
  },
  {
   "cell_type": "code",
   "execution_count": null,
   "metadata": {},
   "outputs": [],
   "source": []
  }
 ],
 "metadata": {
  "kernelspec": {
   "display_name": "Python 3",
   "language": "python",
   "name": "python3"
  },
  "language_info": {
   "codemirror_mode": {
    "name": "ipython",
    "version": 3
   },
   "file_extension": ".py",
   "mimetype": "text/x-python",
   "name": "python",
   "nbconvert_exporter": "python",
   "pygments_lexer": "ipython3",
   "version": "3.7.6"
  }
 },
 "nbformat": 4,
 "nbformat_minor": 4
}
