{
 "cells": [
  {
   "cell_type": "markdown",
   "metadata": {},
   "source": [
    "# Model Evaluation"
   ]
  },
  {
   "cell_type": "markdown",
   "metadata": {},
   "source": [
    "At the end of the day, we're looking for a model that will help us predict accurately in the future. So the best way to evaluate a model would be to travel forward in time from the time of model deployment until the end of time, gather up all of the model predictions, and compare them to what actually ended up happening. Obviously this isn't feasible, but we need to clearly identify what it is we're trying to optimize before we can figure out a way to get around the practical problems in estimating it."
   ]
  },
  {
   "cell_type": "markdown",
   "metadata": {},
   "source": [
    "## Evaluation Metrics"
   ]
  },
  {
   "cell_type": "markdown",
   "metadata": {},
   "source": [
    "The first thing we need to do is iron out the details of what we mean by \"comparing\" the predictions to what actually happened. To do that, we need to come up with a rule that tells us how happy we are with a prediction $\\hat y$ (in the case of regression) or $\\hat p$ (in the case of probabilistic classification) if the real outcome was $y$. We'll call that rule an *evaluation metric* and denote it $M(y,\\hat y)$. The absolute error $|\\hat y - y|$ is one possible metric in the case of regression, as is accuracy $(\\hat p > 0.5) == y$ in the case of classification. The purpose of the evaluation metric is to encode what *you* think makes a good prediction, so the sky is the limit. Maybe if you predict within 0.1 of the truth it's all the same to you, but if you're further out than that then you want to penalize quadratically. Maybe after a certain amount of error all predictions are equally bad so you don't care to penalize any more than some maximum value. It's up to you to decide."
   ]
  },
  {
   "cell_type": "markdown",
   "metadata": {
    "tags": [
     "popout"
    ]
   },
   "source": [
    "##### EXERCISE\n",
    "\n",
    "Write python code for an evaluation metric `def M(y, ŷ):` that returns $|\\hat y - y|$ when that value is less than 10, but returns 10 otherwise. Think up a scenario where you might want to use an evaluation metric like this."
   ]
  },
  {
   "cell_type": "markdown",
   "metadata": {
    "tags": [
     "popout"
    ]
   },
   "source": [
    "##### EXERCISE\n",
    "\n",
    "Imagine you're using some kind of regression model to predict the roll angle (in degrees) of a drone based on video from the drone (i.e. is the drone upside down? tilting 30 degrees left?). The regression model can theoretically output any number between minus and positive infinity. One of your colleagues proposes using absolute deviation $|\\hat y -y|$ as the evaluation metric, but another colleague instead proposes `def M(y, ŷ): np.abs(y-ŷ) % 360`. Which do you think is better and why?"
   ]
  },
  {
   "cell_type": "code",
   "execution_count": 1,
   "metadata": {
    "tags": [
     "remove_input"
    ]
   },
   "outputs": [],
   "source": [
    "# metrics to evaluate interrelated predictions?"
   ]
  },
  {
   "cell_type": "markdown",
   "metadata": {},
   "source": [
    "### Metrics and Losses"
   ]
  },
  {
   "cell_type": "markdown",
   "metadata": {},
   "source": [
    "The evaluation metric is a lot like a loss function in that it tells you how bad or good your prediction is relative to reality. In many cases, the evaluation metric and the loss function used to fit the model in the first place are the same (e.g. mean-squared error for both). However, there are many cases in which they are not the same. There are several reasons why you might want to use a different loss function than your evaluation metric. One common reason is that the evaluation metric you want to use is not differentiable, but the optimization algorithm you are using requires gradients. This is often the case with classification: perhaps the 1/0 classification accuracy is the metric you really care about, but, since it is not differentiable, you use the log loss (cross entropy) instead. Another possible reason is that your evaluation metric includes interactions between several model predictions and outcomes instead of just comparing them one-by-one (we won't discuss metrics like these, but know you can construct them). Or perhaps you would like to use a particular software package that has a particular loss function built into the algorithm, so you aren't free to choose it. \n",
    "\n",
    "All in all, you can think of the loss as a \"dumbed down\" version of the evaluation metric. The evaluation metric is the thing you really care about, but for the purpose of fitting a model, you're willing to use a (simpler) loss as a proxy."
   ]
  },
  {
   "cell_type": "markdown",
   "metadata": {},
   "source": [
    "## Generalization Error"
   ]
  },
  {
   "cell_type": "markdown",
   "metadata": {},
   "source": [
    "Now that we have a way to quantify how good or how bad a prediction is relative to the truth, we can get back to our model evaluation problem. Let's imagine that between now and the end of time, we would gather the data $(X^{\\dagger}, y^{\\dagger})$, where the $\\dagger$ is just there to differentiate these data from what we've observed in the past. These datasets could be either finite or infinite based on how many times we expect the model to run in the future, but either way let's call the total number of future model runs $n^\\dagger$. Let's also say that the model that we've built/trained today is baked into a function $f(x)$ which in code looks something like `def f(x): model.predict(x)`, and that we've chosen an evaluation metric $M$. Then our final measure of how good our model is should be:\n",
    "\n",
    "$$\n",
    "\\mathcal E(f) \n",
    "=\n",
    "\\frac{1}{n^\\dagger} \\sum^{n^\\dagger}_i M(y_i^\\dagger, f(x_i^\\dagger))\n",
    "\\label{gen-error}\n",
    "$$"
   ]
  },
  {
   "cell_type": "markdown",
   "metadata": {},
   "source": [
    "This quantity is called the *generalization error* of the model $f$. \n",
    "\n",
    "The obvious problem with this is that we need to evaluate the model *now*. We don't have the data from the future at this moment, and we can't afford to wait until the end of time (also, if $n^\\dagger$ is infinite, the sum might not even make sense). So because we can't calculate it directly, we have to find a way to *approximate* the generalization error.\n",
    "\n",
    "Approximating the generalization error is *the* central problem of supervised learning. Anyone can come up with a model that produces predictions of one kind or another (using either machine learning or hand-coding), but without quantifying how good this model is likely to perform in the future, it's totally useless. \n",
    "\n",
    "Moreover, there is no \"wrong\" way to fit a model. The consequence of doing a bad job fitting a model is that your model may perform poorly. But that's ok! If you evaluate correctly, you know exactly how poor the performance is and you can try different approaches to try to improve it. On the other hand, there are many wrong ways to approximate the generalization error of a model. If you assess your model incorrectly, you will have absolutely no idea of how good your model is in reality. Furthermore, unless you think critically about the result you're seeing, you may not even have any indication that you did something wrong.\n",
    "\n",
    "This point is so important that it bears repeating: knowing how to *evaluate* a model is more important than knowing how to *fit* a model. You should only worry about the latter once you understand the former. So keep your eye on the prize!"
   ]
  },
  {
   "cell_type": "markdown",
   "metadata": {},
   "source": [
    "## Estimating Generalization Error"
   ]
  },
  {
   "cell_type": "markdown",
   "metadata": {},
   "source": [
    "\n",
    "We want to calculate the generalization error for our model but we can't because we don't have all the future data. One approach we can use to estimate the generalization error is to calculate it using *past* data instead of *future* data. In essence, what we are assuming is that what has happened is a pretty good approximation for what will happen. The extent to which this is not true is the extent to which our approximation will be off. We'll use $\\hat{\\mathcal E}(f)$ to denote this approximation of the generalization error:"
   ]
  },
  {
   "cell_type": "markdown",
   "metadata": {},
   "source": [
    "$$\n",
    "\\mathcal {\\hat E}(f) \n",
    "=\n",
    "\\frac{1}{n} \\sum^{n}_i M(y_i, f(x_i))\n",
    "\\label{empirical-error}\n",
    "$$"
   ]
  },
  {
   "cell_type": "markdown",
   "metadata": {},
   "source": [
    "Let's try this approach out with a simulation. We're going to build a little \"data factory\" that generates rows of data for us. We'll run it $n=1000$ times to generate our observed data $(X,y)$. Then we're going to fit a model using that data, which will give us $f$. Once we have our model, we'll estimate the generalization error $\\hat{\\mathcal E}(f)$ using the above formula \\ref{empirical-error}. \n",
    "\n",
    "However, since our data is simulated, we can also simulate all of the future data $(X^\\dagger,y^\\dagger)$ that we will observe if we let the model run $n^\\dagger=1000$ more times. Assuming we only planned on making 1000 predictions from get-go, that is all the data we need to calcualte the true generalization error $\\mathcal E(f)$ using \\ref{gen-error}. Then we will compare our previously estimated generalization error $\\hat{\\mathcal E}(f)$ to the truth $\\mathcal E(f)$ to see if our approach works. We'll repeat this whole process 500 times so we can see if how good our estimates of model performance are on average."
   ]
  },
  {
   "cell_type": "markdown",
   "metadata": {},
   "source": [
    "Our data factory can be whatever we want, but for this experiment we'll set it up to generate random $x$ and $y$:"
   ]
  },
  {
   "cell_type": "code",
   "execution_count": 2,
   "metadata": {},
   "outputs": [],
   "source": [
    "import numpy as np"
   ]
  },
  {
   "cell_type": "code",
   "execution_count": 23,
   "metadata": {},
   "outputs": [],
   "source": [
    "def data_factory(n):\n",
    "    X = np.random.random((n,5)) # 5 predictors\n",
    "    y = np.random.random((n,))\n",
    "    return X,y"
   ]
  },
  {
   "cell_type": "code",
   "execution_count": 24,
   "metadata": {},
   "outputs": [],
   "source": [
    "X,y = data_factory(1000)"
   ]
  },
  {
   "cell_type": "markdown",
   "metadata": {},
   "source": [
    "Let's look at the first 3 rows:"
   ]
  },
  {
   "cell_type": "code",
   "execution_count": 25,
   "metadata": {
    "tags": [
     "hide_input"
    ]
   },
   "outputs": [
    {
     "data": {
      "text/plain": [
       "(array([[0.91586927, 0.34109255, 0.18769485, 0.25513254, 0.99946363],\n",
       "        [0.96560603, 0.91925419, 0.99269982, 0.36219822, 0.95019696],\n",
       "        [0.7137451 , 0.79316455, 0.84880701, 0.28760566, 0.67715313]]),\n",
       " array([-0.23678489,  0.8482024 ,  0.27770748]))"
      ]
     },
     "execution_count": 25,
     "metadata": {},
     "output_type": "execute_result"
    }
   ],
   "source": [
    "X[0:3,:],y[0:3]"
   ]
  },
  {
   "cell_type": "markdown",
   "metadata": {},
   "source": [
    "Great. Now let's fit a model. I'll use a random forest model for this, but it doesn't matter if you understand how a random forest works or not- all you need to know is that it's an algorithm that takes data $(X,y)$ and produces a model $f$ that will produce new estimates of $y$ given new predictors $x$. "
   ]
  },
  {
   "cell_type": "code",
   "execution_count": 26,
   "metadata": {
    "tags": [
     "hide_output"
    ]
   },
   "outputs": [
    {
     "data": {
      "text/plain": [
       "RandomForestRegressor(bootstrap=True, criterion='mse', max_depth=None,\n",
       "                      max_features='auto', max_leaf_nodes=None,\n",
       "                      min_impurity_decrease=0.0, min_impurity_split=None,\n",
       "                      min_samples_leaf=1, min_samples_split=2,\n",
       "                      min_weight_fraction_leaf=0.0, n_estimators=100,\n",
       "                      n_jobs=None, oob_score=False, random_state=None,\n",
       "                      verbose=0, warm_start=False)"
      ]
     },
     "execution_count": 26,
     "metadata": {},
     "output_type": "execute_result"
    }
   ],
   "source": [
    "from sklearn.ensemble import RandomForestRegressor\n",
    "\n",
    "model = RandomForestRegressor(n_estimators=100)\n",
    "model.fit(X,y)"
   ]
  },
  {
   "cell_type": "markdown",
   "metadata": {},
   "source": [
    "We'll use absolute error as our evaluation metric and estimate the generalization error."
   ]
  },
  {
   "cell_type": "code",
   "execution_count": 27,
   "metadata": {},
   "outputs": [],
   "source": [
    "def metric(y,ŷ):\n",
    "    return np.mean(np.abs(y-ŷ))"
   ]
  },
  {
   "cell_type": "code",
   "execution_count": 28,
   "metadata": {},
   "outputs": [],
   "source": [
    "ŷ = model.predict(X)\n",
    "ê = metric(y,ŷ)"
   ]
  },
  {
   "cell_type": "markdown",
   "metadata": {},
   "source": [
    "Now we'll generate our \"future\" data and calculate the real generalization error"
   ]
  },
  {
   "cell_type": "code",
   "execution_count": 29,
   "metadata": {},
   "outputs": [],
   "source": [
    "X_future, y_future = data_factory(1000)\n",
    "ŷ_future = model.predict(X_future)\n",
    "e = metric(y_future, ŷ_future)"
   ]
  },
  {
   "cell_type": "markdown",
   "metadata": {},
   "source": [
    "Let's compare the two:"
   ]
  },
  {
   "cell_type": "code",
   "execution_count": 30,
   "metadata": {
    "tags": [
     "remove_input"
    ]
   },
   "outputs": [
    {
     "name": "stdout",
     "output_type": "stream",
     "text": [
      "ê: 0.013804021647218306\n",
      "e: 0.038541343476292525\n"
     ]
    }
   ],
   "source": [
    "print(f'ê: {ê}\\ne: {e}')"
   ]
  },
  {
   "cell_type": "markdown",
   "metadata": {},
   "source": [
    "This doesn't seem promising... our estimate of the generalization error is much smaller than it should be! But maybe we just got unlucky this one time. Let's repeat the simulation 500 times to make sure."
   ]
  },
  {
   "cell_type": "code",
   "execution_count": 31,
   "metadata": {
    "tags": [
     "hide_output"
    ]
   },
   "outputs": [],
   "source": [
    "def simulate_model_eval():\n",
    "    X,y = data_factory(1000)\n",
    "    model = RandomForestRegressor(n_estimators=100)\n",
    "    model.fit(X,y)\n",
    "    \n",
    "    ŷ = model.predict(X)\n",
    "    ê = metric(y,ŷ)\n",
    "    \n",
    "    X_future, y_future = data_factory(1000)\n",
    "    ŷ_future = model.predict(X_future)\n",
    "    e = metric(y_future, ŷ_future)\n",
    "    \n",
    "    return ê, e\n",
    "\n",
    "ês, es = zip(*[simulate_model_eval() for i in range(100)])"
   ]
  },
  {
   "cell_type": "code",
   "execution_count": 32,
   "metadata": {
    "tags": [
     "hide_input"
    ]
   },
   "outputs": [
    {
     "data": {
      "application/vnd.vegalite.v3+json": {
       "$schema": "https://vega.github.io/schema/vega-lite/v3.4.0.json",
       "config": {
        "mark": {
         "tooltip": null
        },
        "view": {
         "height": 300,
         "width": 400
        }
       },
       "data": {
        "name": "data-bbfbe2b1203fd603db93125173232463"
       },
       "datasets": {
        "data-bbfbe2b1203fd603db93125173232463": [
         {
          "estimated generalization error": 0.013081259057349793,
          "generalization error": 0.03578921948134594
         },
         {
          "estimated generalization error": 0.012368553638674838,
          "generalization error": 0.03125801715244087
         },
         {
          "estimated generalization error": 0.014273014099190654,
          "generalization error": 0.030335971602366913
         },
         {
          "estimated generalization error": 0.013525789300331529,
          "generalization error": 0.03635175357293494
         },
         {
          "estimated generalization error": 0.011636473351216117,
          "generalization error": 0.039709253203344036
         },
         {
          "estimated generalization error": 0.01326071027461294,
          "generalization error": 0.02888829716253707
         },
         {
          "estimated generalization error": 0.012568048811033744,
          "generalization error": 0.031495610881640185
         },
         {
          "estimated generalization error": 0.014378626616127318,
          "generalization error": 0.02925529843378593
         },
         {
          "estimated generalization error": 0.011760263233061211,
          "generalization error": 0.03161653146373692
         },
         {
          "estimated generalization error": 0.0123826502505033,
          "generalization error": 0.0307978590955963
         },
         {
          "estimated generalization error": 0.011782271497156584,
          "generalization error": 0.0318841873418664
         },
         {
          "estimated generalization error": 0.013396328757817664,
          "generalization error": 0.033804178920754824
         },
         {
          "estimated generalization error": 0.012858889701840931,
          "generalization error": 0.031804551895496636
         },
         {
          "estimated generalization error": 0.01219794506311003,
          "generalization error": 0.03266836074103403
         },
         {
          "estimated generalization error": 0.012710144588909258,
          "generalization error": 0.0364843003173455
         },
         {
          "estimated generalization error": 0.01257437524034698,
          "generalization error": 0.02997769025428457
         },
         {
          "estimated generalization error": 0.01069754873263021,
          "generalization error": 0.03713885849356622
         },
         {
          "estimated generalization error": 0.012709969504960882,
          "generalization error": 0.03060929636260916
         },
         {
          "estimated generalization error": 0.011875997676740238,
          "generalization error": 0.0345262970322094
         },
         {
          "estimated generalization error": 0.011645607477206929,
          "generalization error": 0.033757017752616705
         },
         {
          "estimated generalization error": 0.012748931767190125,
          "generalization error": 0.031016762071040028
         },
         {
          "estimated generalization error": 0.012778448500470909,
          "generalization error": 0.03316123322314878
         },
         {
          "estimated generalization error": 0.013864317142630096,
          "generalization error": 0.02848073214804183
         },
         {
          "estimated generalization error": 0.01247962052406013,
          "generalization error": 0.031736673579487215
         },
         {
          "estimated generalization error": 0.013436178692816648,
          "generalization error": 0.03393859245127486
         },
         {
          "estimated generalization error": 0.013038508345425522,
          "generalization error": 0.030108373235104936
         },
         {
          "estimated generalization error": 0.012795787522367633,
          "generalization error": 0.03386114093532813
         },
         {
          "estimated generalization error": 0.013029407948211365,
          "generalization error": 0.03314264665673192
         },
         {
          "estimated generalization error": 0.012710614739613508,
          "generalization error": 0.037514666944137326
         },
         {
          "estimated generalization error": 0.012525618967937094,
          "generalization error": 0.032755616828265194
         },
         {
          "estimated generalization error": 0.011738251599112837,
          "generalization error": 0.0332517812152659
         },
         {
          "estimated generalization error": 0.012675066223179625,
          "generalization error": 0.031994615521450095
         },
         {
          "estimated generalization error": 0.01175061281693241,
          "generalization error": 0.030551646629132952
         },
         {
          "estimated generalization error": 0.015175929371168736,
          "generalization error": 0.028045701552801
         },
         {
          "estimated generalization error": 0.012698408693142997,
          "generalization error": 0.03183981500541698
         },
         {
          "estimated generalization error": 0.01155423496238008,
          "generalization error": 0.03225044987003568
         },
         {
          "estimated generalization error": 0.011790196102483498,
          "generalization error": 0.030731223755012218
         },
         {
          "estimated generalization error": 0.012146900278551278,
          "generalization error": 0.030693395104599654
         },
         {
          "estimated generalization error": 0.012543287488458961,
          "generalization error": 0.03860564213513452
         },
         {
          "estimated generalization error": 0.01318289561030129,
          "generalization error": 0.03183448122399438
         },
         {
          "estimated generalization error": 0.013623630368695593,
          "generalization error": 0.029971198007131796
         },
         {
          "estimated generalization error": 0.013232292959648843,
          "generalization error": 0.03537865448043899
         },
         {
          "estimated generalization error": 0.012580899204299131,
          "generalization error": 0.03259434554632799
         },
         {
          "estimated generalization error": 0.012001923687539929,
          "generalization error": 0.03502602249393239
         },
         {
          "estimated generalization error": 0.012840883287836937,
          "generalization error": 0.03506483482932222
         },
         {
          "estimated generalization error": 0.012354095539611844,
          "generalization error": 0.03527808761400819
         },
         {
          "estimated generalization error": 0.012037947942407217,
          "generalization error": 0.03358023257941816
         },
         {
          "estimated generalization error": 0.013919121621729442,
          "generalization error": 0.03086331183097029
         },
         {
          "estimated generalization error": 0.01319260032652218,
          "generalization error": 0.03702174720469978
         },
         {
          "estimated generalization error": 0.013150221961397542,
          "generalization error": 0.030739972356899903
         },
         {
          "estimated generalization error": 0.0137919622024642,
          "generalization error": 0.02957541444975593
         },
         {
          "estimated generalization error": 0.012002246917978712,
          "generalization error": 0.031030654462027307
         },
         {
          "estimated generalization error": 0.013027272343168158,
          "generalization error": 0.033760160824947025
         },
         {
          "estimated generalization error": 0.013623629518809199,
          "generalization error": 0.033621658396232774
         },
         {
          "estimated generalization error": 0.013159411585179541,
          "generalization error": 0.027698612030240648
         },
         {
          "estimated generalization error": 0.012251601054083959,
          "generalization error": 0.036644364544976354
         },
         {
          "estimated generalization error": 0.013204222553317286,
          "generalization error": 0.033820498222520555
         },
         {
          "estimated generalization error": 0.013982586586329216,
          "generalization error": 0.03517983213991664
         },
         {
          "estimated generalization error": 0.0142434545722023,
          "generalization error": 0.03296487373848895
         },
         {
          "estimated generalization error": 0.012417057227441535,
          "generalization error": 0.031229533054570012
         },
         {
          "estimated generalization error": 0.012971507728073404,
          "generalization error": 0.03493347539869046
         },
         {
          "estimated generalization error": 0.01159929970012829,
          "generalization error": 0.03497719486113519
         },
         {
          "estimated generalization error": 0.01201756316553087,
          "generalization error": 0.02809299942014954
         },
         {
          "estimated generalization error": 0.01420603723375834,
          "generalization error": 0.031111209432104915
         },
         {
          "estimated generalization error": 0.015628888774617322,
          "generalization error": 0.032858031347107165
         },
         {
          "estimated generalization error": 0.012241428302394552,
          "generalization error": 0.036576092452699584
         },
         {
          "estimated generalization error": 0.013040168611181464,
          "generalization error": 0.03179202204261882
         },
         {
          "estimated generalization error": 0.011812985704333083,
          "generalization error": 0.034385824011083886
         },
         {
          "estimated generalization error": 0.012851681428375821,
          "generalization error": 0.03259315077098743
         },
         {
          "estimated generalization error": 0.012692732160439264,
          "generalization error": 0.028497325284154662
         },
         {
          "estimated generalization error": 0.010815260676035334,
          "generalization error": 0.0316241157013084
         },
         {
          "estimated generalization error": 0.011921979838511895,
          "generalization error": 0.03441004421604326
         },
         {
          "estimated generalization error": 0.013663419602317463,
          "generalization error": 0.039128580791761874
         },
         {
          "estimated generalization error": 0.012507936583473232,
          "generalization error": 0.038940181130116804
         },
         {
          "estimated generalization error": 0.01578041955802039,
          "generalization error": 0.03687791630003224
         },
         {
          "estimated generalization error": 0.013534493987590327,
          "generalization error": 0.03433579987580446
         },
         {
          "estimated generalization error": 0.01293589287140917,
          "generalization error": 0.031017622931914283
         },
         {
          "estimated generalization error": 0.012530408444292917,
          "generalization error": 0.027557628419789707
         },
         {
          "estimated generalization error": 0.012141215584064223,
          "generalization error": 0.03643228764386448
         },
         {
          "estimated generalization error": 0.013150300844453608,
          "generalization error": 0.031078186343401173
         },
         {
          "estimated generalization error": 0.011886023461574843,
          "generalization error": 0.03205014731900193
         },
         {
          "estimated generalization error": 0.0121680612969752,
          "generalization error": 0.0359122287876121
         },
         {
          "estimated generalization error": 0.013033376341649482,
          "generalization error": 0.02871743852675145
         },
         {
          "estimated generalization error": 0.011505096034858312,
          "generalization error": 0.0347153965042759
         },
         {
          "estimated generalization error": 0.013872123720356483,
          "generalization error": 0.03158521673210576
         },
         {
          "estimated generalization error": 0.01237699839556679,
          "generalization error": 0.031091953512157287
         },
         {
          "estimated generalization error": 0.014446238320382825,
          "generalization error": 0.04076688357936516
         },
         {
          "estimated generalization error": 0.012354433442670818,
          "generalization error": 0.03219895554008582
         },
         {
          "estimated generalization error": 0.011525573238845045,
          "generalization error": 0.041150966729779415
         },
         {
          "estimated generalization error": 0.01289235657019812,
          "generalization error": 0.02889214540799686
         },
         {
          "estimated generalization error": 0.013186965331743242,
          "generalization error": 0.03296839632871994
         },
         {
          "estimated generalization error": 0.013192742295972988,
          "generalization error": 0.03295243934899399
         },
         {
          "estimated generalization error": 0.013038221755094604,
          "generalization error": 0.0321676716836203
         },
         {
          "estimated generalization error": 0.014577531814323343,
          "generalization error": 0.03726270225813944
         },
         {
          "estimated generalization error": 0.013265067517000795,
          "generalization error": 0.03003728140760596
         },
         {
          "estimated generalization error": 0.01287647106830022,
          "generalization error": 0.040918621721841936
         },
         {
          "estimated generalization error": 0.012114430620428567,
          "generalization error": 0.03785699225007041
         },
         {
          "estimated generalization error": 0.012927357155897991,
          "generalization error": 0.031481791548373314
         },
         {
          "estimated generalization error": 0.013425326367054378,
          "generalization error": 0.037376172384756774
         },
         {
          "estimated generalization error": 0.012463119795865552,
          "generalization error": 0.0458260651662693
         }
        ]
       },
       "encoding": {
        "color": {
         "field": "Quantity",
         "type": "nominal"
        },
        "x": {
         "bin": {
          "maxbins": 100
         },
         "field": "error",
         "type": "quantitative"
        },
        "y": {
         "aggregate": "count",
         "stack": null,
         "type": "quantitative"
        }
       },
       "height": 100,
       "mark": {
        "interpolate": "step",
        "opacity": 0.3,
        "type": "area"
       },
       "transform": [
        {
         "as": [
          "Quantity",
          "error"
         ],
         "fold": [
          "estimated generalization error",
          "generalization error"
         ]
        }
       ]
      },
      "image/png": "[encoded data removed]",
      "text/plain": [
       "<VegaLite 3 object>\n",
       "\n",
       "If you see this message, it means the renderer has not been properly enabled\n",
       "for the frontend that you are using. For more information, see\n",
       "https://altair-viz.github.io/user_guide/troubleshooting.html\n"
      ]
     },
     "execution_count": 32,
     "metadata": {},
     "output_type": "execute_result"
    }
   ],
   "source": [
    "import pandas as pd\n",
    "import altair as alt\n",
    "\n",
    "source = pd.DataFrame({\n",
    "    'estimated generalization error':ês,\n",
    "    'generalization error':es\n",
    "})\n",
    "\n",
    "alt.Chart(source, height=100).transform_fold(\n",
    "    ['estimated generalization error', 'generalization error'],\n",
    "    as_=['Quantity', 'error']\n",
    ").mark_area(\n",
    "    opacity=0.3,\n",
    "    interpolate='step'\n",
    ").encode(\n",
    "    alt.X('error:Q', bin=alt.Bin(maxbins=100)),\n",
    "    alt.Y('count()', stack=None),\n",
    "    alt.Color('Quantity:N')\n",
    ")"
   ]
  },
  {
   "cell_type": "markdown",
   "metadata": {},
   "source": [
    "Ouch. This shows that our estimates are of generalization error are consistently far too low. Out of curiosity, let's see if that still happens if we use a linear model instead of a random forest."
   ]
  },
  {
   "cell_type": "markdown",
   "metadata": {
    "tags": [
     "popout"
    ]
   },
   "source": [
    "When an estimator is on average less than the quantitiy it is trying to estimate, we say that the estimator is *biased downward*. Thus $\\hat{\\mathcal E}$ is biased downward (for $\\mathcal{E}$)."
   ]
  },
  {
   "cell_type": "code",
   "execution_count": 33,
   "metadata": {
    "tags": [
     "hide_output"
    ]
   },
   "outputs": [],
   "source": [
    "from sklearn.linear_model import LinearRegression\n",
    "\n",
    "def simulate_model_eval():\n",
    "    X,y = data_factory(1000)\n",
    "    model = LinearRegression()\n",
    "    model.fit(X,y)\n",
    "    \n",
    "    ŷ = model.predict(X)\n",
    "    ê = metric(y,ŷ)\n",
    "    \n",
    "    X_future, y_future = data_factory(1000)\n",
    "    ŷ_future = model.predict(X_future)\n",
    "    e = metric(y_future, ŷ_future)\n",
    "    \n",
    "    return ê, e\n",
    "\n",
    "ês, es = zip(*[simulate_model_eval() for i in range(500)])"
   ]
  },
  {
   "cell_type": "code",
   "execution_count": 34,
   "metadata": {
    "tags": [
     "remove_input"
    ]
   },
   "outputs": [
    {
     "data": {
      "application/vnd.vegalite.v3+json": {
       "$schema": "https://vega.github.io/schema/vega-lite/v3.4.0.json",
       "config": {
        "mark": {
         "tooltip": null
        },
        "view": {
         "height": 300,
         "width": 400
        }
       },
       "data": {
        "name": "data-e5f8a256d034b220a4d28c8978ed0d85"
       },
       "datasets": {
        "data-e5f8a256d034b220a4d28c8978ed0d85": [
         {
          "estimated generalization error": 0.3177612006249683,
          "generalization error": 0.3388893515743189
         },
         {
          "estimated generalization error": 0.3244681742677386,
          "generalization error": 0.3549348523594696
         },
         {
          "estimated generalization error": 0.3524603980321286,
          "generalization error": 0.3599175875706737
         },
         {
          "estimated generalization error": 0.30426528106006107,
          "generalization error": 0.3420457112582685
         },
         {
          "estimated generalization error": 0.3174548420967419,
          "generalization error": 0.33372345454795893
         },
         {
          "estimated generalization error": 0.3812960262217118,
          "generalization error": 0.36656417527049495
         },
         {
          "estimated generalization error": 0.32821094051990474,
          "generalization error": 0.3228491881343261
         },
         {
          "estimated generalization error": 0.36115633234458633,
          "generalization error": 0.36960741939999386
         },
         {
          "estimated generalization error": 0.31844087796316434,
          "generalization error": 0.3427189356108711
         },
         {
          "estimated generalization error": 0.3197079836461155,
          "generalization error": 0.3118578744962589
         },
         {
          "estimated generalization error": 0.3029366915769581,
          "generalization error": 0.3239769073698941
         },
         {
          "estimated generalization error": 0.40277503607748316,
          "generalization error": 0.36036462728871926
         },
         {
          "estimated generalization error": 0.34559304470516783,
          "generalization error": 0.34569573968339
         },
         {
          "estimated generalization error": 0.35893268686636576,
          "generalization error": 0.33539072848081697
         },
         {
          "estimated generalization error": 0.36933182082206656,
          "generalization error": 0.35755956510642045
         },
         {
          "estimated generalization error": 0.33515378345239405,
          "generalization error": 0.3235566329196365
         },
         {
          "estimated generalization error": 0.3111403899828031,
          "generalization error": 0.3382870433158674
         },
         {
          "estimated generalization error": 0.33662248191237165,
          "generalization error": 0.35399771813310865
         },
         {
          "estimated generalization error": 0.35649633519738405,
          "generalization error": 0.3710047166710464
         },
         {
          "estimated generalization error": 0.3557086777330705,
          "generalization error": 0.35352496866308086
         },
         {
          "estimated generalization error": 0.31563550685678377,
          "generalization error": 0.32321146944237966
         },
         {
          "estimated generalization error": 0.33208122466462786,
          "generalization error": 0.32141530945576435
         },
         {
          "estimated generalization error": 0.33203515560309343,
          "generalization error": 0.3269834880140104
         },
         {
          "estimated generalization error": 0.32813864067529597,
          "generalization error": 0.3253953587021517
         },
         {
          "estimated generalization error": 0.37153910770712945,
          "generalization error": 0.34855599320053876
         },
         {
          "estimated generalization error": 0.32557603488759096,
          "generalization error": 0.3326058399844562
         },
         {
          "estimated generalization error": 0.3487808824730529,
          "generalization error": 0.31441769693704985
         },
         {
          "estimated generalization error": 0.337976354565458,
          "generalization error": 0.31680514451460895
         },
         {
          "estimated generalization error": 0.340095648014729,
          "generalization error": 0.32912067994204075
         },
         {
          "estimated generalization error": 0.3044364698526266,
          "generalization error": 0.32693018655990363
         },
         {
          "estimated generalization error": 0.31841989707910323,
          "generalization error": 0.29203172954600015
         },
         {
          "estimated generalization error": 0.34490187978909204,
          "generalization error": 0.33403348434754476
         },
         {
          "estimated generalization error": 0.3633412276712943,
          "generalization error": 0.348430843506358
         },
         {
          "estimated generalization error": 0.30017376457156686,
          "generalization error": 0.32628959625029763
         },
         {
          "estimated generalization error": 0.33214105229980284,
          "generalization error": 0.3261190986995851
         },
         {
          "estimated generalization error": 0.3030703109385654,
          "generalization error": 0.3139748965447417
         },
         {
          "estimated generalization error": 0.3432609212132704,
          "generalization error": 0.3494637013705875
         },
         {
          "estimated generalization error": 0.30934115987345706,
          "generalization error": 0.30653219860259423
         },
         {
          "estimated generalization error": 0.3355098415838648,
          "generalization error": 0.34583388185217984
         },
         {
          "estimated generalization error": 0.312228022181112,
          "generalization error": 0.3165254998777498
         },
         {
          "estimated generalization error": 0.3157508390495658,
          "generalization error": 0.3099022948378963
         },
         {
          "estimated generalization error": 0.36423743183982854,
          "generalization error": 0.35743477163088266
         },
         {
          "estimated generalization error": 0.31661231898797276,
          "generalization error": 0.3252150718562934
         },
         {
          "estimated generalization error": 0.31747884622235417,
          "generalization error": 0.2931929057112779
         },
         {
          "estimated generalization error": 0.35046403962118017,
          "generalization error": 0.33444981294945136
         },
         {
          "estimated generalization error": 0.2913132964157882,
          "generalization error": 0.3096870984452833
         },
         {
          "estimated generalization error": 0.3217214323566506,
          "generalization error": 0.3252211839680042
         },
         {
          "estimated generalization error": 0.3151049099101619,
          "generalization error": 0.31974587881628347
         },
         {
          "estimated generalization error": 0.2717961539225468,
          "generalization error": 0.29327774527621736
         },
         {
          "estimated generalization error": 0.3183613537114892,
          "generalization error": 0.3278238216798549
         },
         {
          "estimated generalization error": 0.3427851117582715,
          "generalization error": 0.33790079254766586
         },
         {
          "estimated generalization error": 0.3220060061947737,
          "generalization error": 0.36256755225616005
         },
         {
          "estimated generalization error": 0.3623533458232063,
          "generalization error": 0.362833718781241
         },
         {
          "estimated generalization error": 0.31873356482984194,
          "generalization error": 0.33499506341879337
         },
         {
          "estimated generalization error": 0.33609341146696237,
          "generalization error": 0.3170921187641364
         },
         {
          "estimated generalization error": 0.3387579494731035,
          "generalization error": 0.33490903541139233
         },
         {
          "estimated generalization error": 0.3210247080111187,
          "generalization error": 0.35282336292969546
         },
         {
          "estimated generalization error": 0.324108451812117,
          "generalization error": 0.3723813563267619
         },
         {
          "estimated generalization error": 0.33000860692626544,
          "generalization error": 0.3371289740133574
         },
         {
          "estimated generalization error": 0.2784036268297799,
          "generalization error": 0.3196622117830414
         },
         {
          "estimated generalization error": 0.3500506212961871,
          "generalization error": 0.3162337826704154
         },
         {
          "estimated generalization error": 0.34388387518561553,
          "generalization error": 0.332201501380599
         },
         {
          "estimated generalization error": 0.36384879861767133,
          "generalization error": 0.34925197354464405
         },
         {
          "estimated generalization error": 0.3140292465349826,
          "generalization error": 0.31548289485172654
         },
         {
          "estimated generalization error": 0.3262815690509576,
          "generalization error": 0.30287376546431166
         },
         {
          "estimated generalization error": 0.32231280114029504,
          "generalization error": 0.33867446086696934
         },
         {
          "estimated generalization error": 0.31697735954219275,
          "generalization error": 0.3275002476657178
         },
         {
          "estimated generalization error": 0.30502545276408854,
          "generalization error": 0.32847775950631203
         },
         {
          "estimated generalization error": 0.3303238609370056,
          "generalization error": 0.33603120924486046
         },
         {
          "estimated generalization error": 0.3009890342936353,
          "generalization error": 0.3081836707953406
         },
         {
          "estimated generalization error": 0.33457365126487376,
          "generalization error": 0.34334007811129685
         },
         {
          "estimated generalization error": 0.2903320469297988,
          "generalization error": 0.2913422177881298
         },
         {
          "estimated generalization error": 0.3383871082075293,
          "generalization error": 0.32987110106770373
         },
         {
          "estimated generalization error": 0.3574093812068007,
          "generalization error": 0.3546251891666031
         },
         {
          "estimated generalization error": 0.33445176699509305,
          "generalization error": 0.3266233417959348
         },
         {
          "estimated generalization error": 0.3209463268867506,
          "generalization error": 0.32535991623351124
         },
         {
          "estimated generalization error": 0.3118084729864223,
          "generalization error": 0.33209161370391166
         },
         {
          "estimated generalization error": 0.3202243581423993,
          "generalization error": 0.3381204847689353
         },
         {
          "estimated generalization error": 0.32399427940510284,
          "generalization error": 0.3132062814865155
         },
         {
          "estimated generalization error": 0.3185304305648592,
          "generalization error": 0.31877009199474615
         },
         {
          "estimated generalization error": 0.31791886699223826,
          "generalization error": 0.3414109416097662
         },
         {
          "estimated generalization error": 0.3463619957279515,
          "generalization error": 0.33908705748960416
         },
         {
          "estimated generalization error": 0.2824647967062691,
          "generalization error": 0.32360409114560035
         },
         {
          "estimated generalization error": 0.3314387433546315,
          "generalization error": 0.32286519056694873
         },
         {
          "estimated generalization error": 0.2962051383329849,
          "generalization error": 0.31498021964083867
         },
         {
          "estimated generalization error": 0.3379863179086318,
          "generalization error": 0.3230138119326899
         },
         {
          "estimated generalization error": 0.3291055803113205,
          "generalization error": 0.35480051019466397
         },
         {
          "estimated generalization error": 0.316623954928106,
          "generalization error": 0.3272752557369534
         },
         {
          "estimated generalization error": 0.30576508755924303,
          "generalization error": 0.31194306084779033
         },
         {
          "estimated generalization error": 0.3172312633160052,
          "generalization error": 0.324983364639724
         },
         {
          "estimated generalization error": 0.3049524066991893,
          "generalization error": 0.3387464018526316
         },
         {
          "estimated generalization error": 0.31851135957085763,
          "generalization error": 0.3378204099455844
         },
         {
          "estimated generalization error": 0.3621466204836228,
          "generalization error": 0.3693258369227386
         },
         {
          "estimated generalization error": 0.3082899869187089,
          "generalization error": 0.29278463631774815
         },
         {
          "estimated generalization error": 0.2999869599200901,
          "generalization error": 0.31030591015668463
         },
         {
          "estimated generalization error": 0.33520832965760405,
          "generalization error": 0.32693460255976087
         },
         {
          "estimated generalization error": 0.31446807036038843,
          "generalization error": 0.311319154470056
         },
         {
          "estimated generalization error": 0.33164499356751453,
          "generalization error": 0.31115183716868466
         },
         {
          "estimated generalization error": 0.3336180853046816,
          "generalization error": 0.3235081043148957
         },
         {
          "estimated generalization error": 0.36262228178663347,
          "generalization error": 0.3398931985440144
         },
         {
          "estimated generalization error": 0.30992274202538295,
          "generalization error": 0.3290350422224869
         },
         {
          "estimated generalization error": 0.3238135170186742,
          "generalization error": 0.3437166790660224
         },
         {
          "estimated generalization error": 0.32226937787179427,
          "generalization error": 0.3194067792081505
         },
         {
          "estimated generalization error": 0.35305316798998654,
          "generalization error": 0.34297959870806427
         },
         {
          "estimated generalization error": 0.2850088188670752,
          "generalization error": 0.30690373822978834
         },
         {
          "estimated generalization error": 0.347439108943067,
          "generalization error": 0.3315224120916106
         },
         {
          "estimated generalization error": 0.3254644511142303,
          "generalization error": 0.33992761883681566
         },
         {
          "estimated generalization error": 0.34872165110608316,
          "generalization error": 0.3491124639822052
         },
         {
          "estimated generalization error": 0.31308953884230223,
          "generalization error": 0.3268089827893743
         },
         {
          "estimated generalization error": 0.31578940016557433,
          "generalization error": 0.33191810583686276
         },
         {
          "estimated generalization error": 0.3066769649665532,
          "generalization error": 0.3329190289782639
         },
         {
          "estimated generalization error": 0.29990542909158624,
          "generalization error": 0.2942969898037179
         },
         {
          "estimated generalization error": 0.3525577258883623,
          "generalization error": 0.3214905857640198
         },
         {
          "estimated generalization error": 0.31024586640399937,
          "generalization error": 0.3223879387760626
         },
         {
          "estimated generalization error": 0.3037194534900352,
          "generalization error": 0.3171834235743769
         },
         {
          "estimated generalization error": 0.30380226482729206,
          "generalization error": 0.3269630074112686
         },
         {
          "estimated generalization error": 0.33861220216128823,
          "generalization error": 0.3698221845203885
         },
         {
          "estimated generalization error": 0.35184239921664723,
          "generalization error": 0.3478274525172226
         },
         {
          "estimated generalization error": 0.35111145907626345,
          "generalization error": 0.32848787153057646
         },
         {
          "estimated generalization error": 0.30275781027086474,
          "generalization error": 0.3009711783629476
         },
         {
          "estimated generalization error": 0.34906832298937057,
          "generalization error": 0.3314011683679693
         },
         {
          "estimated generalization error": 0.3392104709982317,
          "generalization error": 0.3419421781183386
         },
         {
          "estimated generalization error": 0.33764141827531546,
          "generalization error": 0.3450524131910505
         },
         {
          "estimated generalization error": 0.3228339170997309,
          "generalization error": 0.35440808337986457
         },
         {
          "estimated generalization error": 0.328031382328438,
          "generalization error": 0.34034160830159826
         },
         {
          "estimated generalization error": 0.33197429915702986,
          "generalization error": 0.32483081774812594
         },
         {
          "estimated generalization error": 0.3123385418427153,
          "generalization error": 0.32365789630681174
         },
         {
          "estimated generalization error": 0.3369158205279524,
          "generalization error": 0.3491124238219761
         },
         {
          "estimated generalization error": 0.32579668031747255,
          "generalization error": 0.3384586846355708
         },
         {
          "estimated generalization error": 0.31229276837068076,
          "generalization error": 0.3358620133225589
         },
         {
          "estimated generalization error": 0.3411677490543435,
          "generalization error": 0.30439457500902156
         },
         {
          "estimated generalization error": 0.3338352098179413,
          "generalization error": 0.32215119210746535
         },
         {
          "estimated generalization error": 0.33895369162562045,
          "generalization error": 0.3145362289370582
         },
         {
          "estimated generalization error": 0.30908521324219435,
          "generalization error": 0.3276680824421737
         },
         {
          "estimated generalization error": 0.31915311277335867,
          "generalization error": 0.32360907354236756
         },
         {
          "estimated generalization error": 0.29715545070605404,
          "generalization error": 0.339550164939329
         },
         {
          "estimated generalization error": 0.3032152436017359,
          "generalization error": 0.32938169300536657
         },
         {
          "estimated generalization error": 0.3437837406336662,
          "generalization error": 0.3201055749011276
         },
         {
          "estimated generalization error": 0.34661532840982207,
          "generalization error": 0.3184134423730189
         },
         {
          "estimated generalization error": 0.3475521736733068,
          "generalization error": 0.33964918757098167
         },
         {
          "estimated generalization error": 0.31666451333325013,
          "generalization error": 0.31897185062983613
         },
         {
          "estimated generalization error": 0.3183306133677206,
          "generalization error": 0.328054622903359
         },
         {
          "estimated generalization error": 0.3417059695233015,
          "generalization error": 0.34500178327445846
         },
         {
          "estimated generalization error": 0.3336671047519973,
          "generalization error": 0.3185215426938323
         },
         {
          "estimated generalization error": 0.3315964725016349,
          "generalization error": 0.3471220855625836
         },
         {
          "estimated generalization error": 0.3350425703611534,
          "generalization error": 0.298169591347854
         },
         {
          "estimated generalization error": 0.3331932107435839,
          "generalization error": 0.31769324629785856
         },
         {
          "estimated generalization error": 0.3196795974870158,
          "generalization error": 0.32190624486576164
         },
         {
          "estimated generalization error": 0.3023941290551246,
          "generalization error": 0.31715993119316094
         },
         {
          "estimated generalization error": 0.34215616529884996,
          "generalization error": 0.3426912094618902
         },
         {
          "estimated generalization error": 0.33384447954636254,
          "generalization error": 0.3347465024565465
         },
         {
          "estimated generalization error": 0.2980091133471276,
          "generalization error": 0.311879311102298
         },
         {
          "estimated generalization error": 0.3320652738661155,
          "generalization error": 0.35063040265914414
         },
         {
          "estimated generalization error": 0.3310977399876832,
          "generalization error": 0.32127140139401694
         },
         {
          "estimated generalization error": 0.3297208863027788,
          "generalization error": 0.3337866708848758
         },
         {
          "estimated generalization error": 0.31838011868976174,
          "generalization error": 0.3185802014190906
         },
         {
          "estimated generalization error": 0.3541218323375271,
          "generalization error": 0.332923245248158
         },
         {
          "estimated generalization error": 0.3546833915525153,
          "generalization error": 0.35576204090237856
         },
         {
          "estimated generalization error": 0.37456087556682305,
          "generalization error": 0.3449600667381894
         },
         {
          "estimated generalization error": 0.33036983106371326,
          "generalization error": 0.3256558720030158
         },
         {
          "estimated generalization error": 0.349144033833464,
          "generalization error": 0.34111798873371846
         },
         {
          "estimated generalization error": 0.2961652057868903,
          "generalization error": 0.3401379167946919
         },
         {
          "estimated generalization error": 0.3252714042498593,
          "generalization error": 0.3370084098204755
         },
         {
          "estimated generalization error": 0.3495674868438756,
          "generalization error": 0.3417873583230301
         },
         {
          "estimated generalization error": 0.3292484271782365,
          "generalization error": 0.34379098589638246
         },
         {
          "estimated generalization error": 0.32689223690557745,
          "generalization error": 0.3353293711809271
         },
         {
          "estimated generalization error": 0.34712327443043856,
          "generalization error": 0.3296523231028091
         },
         {
          "estimated generalization error": 0.36616973719394064,
          "generalization error": 0.3445938083236032
         },
         {
          "estimated generalization error": 0.30787006001325473,
          "generalization error": 0.35749958657151115
         },
         {
          "estimated generalization error": 0.3069673104586603,
          "generalization error": 0.3147853349673467
         },
         {
          "estimated generalization error": 0.3054273593135788,
          "generalization error": 0.32227548060549976
         },
         {
          "estimated generalization error": 0.30414009979897416,
          "generalization error": 0.31732756247132626
         },
         {
          "estimated generalization error": 0.3277011568489526,
          "generalization error": 0.34088632975779026
         },
         {
          "estimated generalization error": 0.37377440311736426,
          "generalization error": 0.36032398237721497
         },
         {
          "estimated generalization error": 0.3251478744070363,
          "generalization error": 0.32295832948588726
         },
         {
          "estimated generalization error": 0.32457456806173357,
          "generalization error": 0.3431142766345189
         },
         {
          "estimated generalization error": 0.3281661653586887,
          "generalization error": 0.32926372167879253
         },
         {
          "estimated generalization error": 0.2904226593130074,
          "generalization error": 0.29725157561689525
         },
         {
          "estimated generalization error": 0.3305523785031657,
          "generalization error": 0.3388719876437482
         },
         {
          "estimated generalization error": 0.33718862636480035,
          "generalization error": 0.31738948079633056
         },
         {
          "estimated generalization error": 0.3021814900823308,
          "generalization error": 0.314568819098805
         },
         {
          "estimated generalization error": 0.30980170156495307,
          "generalization error": 0.3152900356623488
         },
         {
          "estimated generalization error": 0.3255905456473057,
          "generalization error": 0.34112405156194964
         },
         {
          "estimated generalization error": 0.28827967361793483,
          "generalization error": 0.2931898571986257
         },
         {
          "estimated generalization error": 0.30905519488216876,
          "generalization error": 0.34177673500157585
         },
         {
          "estimated generalization error": 0.386662663088157,
          "generalization error": 0.3411854486866283
         },
         {
          "estimated generalization error": 0.3518908337529982,
          "generalization error": 0.32640369972369626
         },
         {
          "estimated generalization error": 0.3385046763170102,
          "generalization error": 0.34023660885488644
         },
         {
          "estimated generalization error": 0.2921213930357886,
          "generalization error": 0.304573347220857
         },
         {
          "estimated generalization error": 0.3117720282266988,
          "generalization error": 0.3179392200975794
         },
         {
          "estimated generalization error": 0.32738276424981994,
          "generalization error": 0.3271698776480787
         },
         {
          "estimated generalization error": 0.33282648792957475,
          "generalization error": 0.3367800438955727
         },
         {
          "estimated generalization error": 0.3232464206819068,
          "generalization error": 0.32025916971927654
         },
         {
          "estimated generalization error": 0.32259592054305325,
          "generalization error": 0.306678855750038
         },
         {
          "estimated generalization error": 0.3323100236289216,
          "generalization error": 0.31120228543071315
         },
         {
          "estimated generalization error": 0.3584600644783907,
          "generalization error": 0.3397185118469361
         },
         {
          "estimated generalization error": 0.34115821926902956,
          "generalization error": 0.3323371203090692
         },
         {
          "estimated generalization error": 0.3393254871589825,
          "generalization error": 0.31937438757733744
         },
         {
          "estimated generalization error": 0.3607333373198634,
          "generalization error": 0.33404991738894796
         },
         {
          "estimated generalization error": 0.32799307651560705,
          "generalization error": 0.33634513780846514
         },
         {
          "estimated generalization error": 0.3518426255092346,
          "generalization error": 0.3310120833324347
         },
         {
          "estimated generalization error": 0.32073075118037325,
          "generalization error": 0.32586363503567656
         },
         {
          "estimated generalization error": 0.34136260829269904,
          "generalization error": 0.31277186141325525
         },
         {
          "estimated generalization error": 0.32261771551841434,
          "generalization error": 0.3539215221364368
         },
         {
          "estimated generalization error": 0.3100321379007717,
          "generalization error": 0.3091038103223167
         },
         {
          "estimated generalization error": 0.3170610291877625,
          "generalization error": 0.3749650186995286
         },
         {
          "estimated generalization error": 0.3518658583354131,
          "generalization error": 0.3701678332982301
         },
         {
          "estimated generalization error": 0.32560031178571397,
          "generalization error": 0.33515323630139526
         },
         {
          "estimated generalization error": 0.30105845042417906,
          "generalization error": 0.3105897003719807
         },
         {
          "estimated generalization error": 0.3289160570657755,
          "generalization error": 0.3248711577155268
         },
         {
          "estimated generalization error": 0.3365854096286608,
          "generalization error": 0.3429491306469487
         },
         {
          "estimated generalization error": 0.32786137091698153,
          "generalization error": 0.3125874085743734
         },
         {
          "estimated generalization error": 0.3513115717941603,
          "generalization error": 0.32408668767920157
         },
         {
          "estimated generalization error": 0.30200386179605015,
          "generalization error": 0.3161933752062141
         },
         {
          "estimated generalization error": 0.328885786613533,
          "generalization error": 0.30755190442629343
         },
         {
          "estimated generalization error": 0.32722499412505807,
          "generalization error": 0.3197580793172392
         },
         {
          "estimated generalization error": 0.35498679805935424,
          "generalization error": 0.3381277949372735
         },
         {
          "estimated generalization error": 0.3337486448413849,
          "generalization error": 0.305670064423814
         },
         {
          "estimated generalization error": 0.3021776570947699,
          "generalization error": 0.30099694752776873
         },
         {
          "estimated generalization error": 0.2857019976969069,
          "generalization error": 0.28741204642223667
         },
         {
          "estimated generalization error": 0.32576332626492843,
          "generalization error": 0.30190171961292556
         },
         {
          "estimated generalization error": 0.30421809514467685,
          "generalization error": 0.3186613903752426
         },
         {
          "estimated generalization error": 0.31222122409809755,
          "generalization error": 0.3147134074945946
         },
         {
          "estimated generalization error": 0.3801174530741189,
          "generalization error": 0.3535961735196128
         },
         {
          "estimated generalization error": 0.3350569942322726,
          "generalization error": 0.3291041356441838
         },
         {
          "estimated generalization error": 0.32858721047317574,
          "generalization error": 0.3223239637257738
         },
         {
          "estimated generalization error": 0.3500747234953408,
          "generalization error": 0.34013055970326433
         },
         {
          "estimated generalization error": 0.3265908561045735,
          "generalization error": 0.32109001540563137
         },
         {
          "estimated generalization error": 0.32431775784901223,
          "generalization error": 0.3109980637042538
         },
         {
          "estimated generalization error": 0.34411401689774695,
          "generalization error": 0.3389609172505253
         },
         {
          "estimated generalization error": 0.3079678195285705,
          "generalization error": 0.3059576194407058
         },
         {
          "estimated generalization error": 0.32229954694247437,
          "generalization error": 0.32833333120162456
         },
         {
          "estimated generalization error": 0.35680912076164795,
          "generalization error": 0.35249453002705444
         },
         {
          "estimated generalization error": 0.3737682160250003,
          "generalization error": 0.3573476226783106
         },
         {
          "estimated generalization error": 0.3321559596811038,
          "generalization error": 0.33736424591655845
         },
         {
          "estimated generalization error": 0.2787930389306703,
          "generalization error": 0.30088799841775254
         },
         {
          "estimated generalization error": 0.3285366396736486,
          "generalization error": 0.34333782538386837
         },
         {
          "estimated generalization error": 0.3322604071379651,
          "generalization error": 0.35408996495544925
         },
         {
          "estimated generalization error": 0.33559921802505427,
          "generalization error": 0.31071607428711107
         },
         {
          "estimated generalization error": 0.3260628297229389,
          "generalization error": 0.31975100263806644
         },
         {
          "estimated generalization error": 0.3959089819150829,
          "generalization error": 0.3683536140772156
         },
         {
          "estimated generalization error": 0.37849891210398007,
          "generalization error": 0.35683637950686853
         },
         {
          "estimated generalization error": 0.33208895971705854,
          "generalization error": 0.33168538466198083
         },
         {
          "estimated generalization error": 0.3234655498127996,
          "generalization error": 0.34815177768692535
         },
         {
          "estimated generalization error": 0.3107726533782813,
          "generalization error": 0.32712338060469237
         },
         {
          "estimated generalization error": 0.3140414941526136,
          "generalization error": 0.33798418812146863
         },
         {
          "estimated generalization error": 0.3425322446278828,
          "generalization error": 0.3478466734948208
         },
         {
          "estimated generalization error": 0.3140958781966004,
          "generalization error": 0.32103496885335914
         },
         {
          "estimated generalization error": 0.3144295896438571,
          "generalization error": 0.33604234436039626
         },
         {
          "estimated generalization error": 0.3124735631756903,
          "generalization error": 0.32738145977718325
         },
         {
          "estimated generalization error": 0.29710066886390796,
          "generalization error": 0.3102484882954984
         },
         {
          "estimated generalization error": 0.33843501610431787,
          "generalization error": 0.35559982056621414
         },
         {
          "estimated generalization error": 0.3319119234168787,
          "generalization error": 0.3392245367366934
         },
         {
          "estimated generalization error": 0.38307160633914294,
          "generalization error": 0.34617199786411096
         },
         {
          "estimated generalization error": 0.3188366369111792,
          "generalization error": 0.31300028243046485
         },
         {
          "estimated generalization error": 0.3162755950838591,
          "generalization error": 0.3250498721443429
         },
         {
          "estimated generalization error": 0.33338665111773735,
          "generalization error": 0.3283276733982641
         },
         {
          "estimated generalization error": 0.2816728515890484,
          "generalization error": 0.3183489357756813
         },
         {
          "estimated generalization error": 0.3102018392440427,
          "generalization error": 0.3510012170162612
         },
         {
          "estimated generalization error": 0.33415519964797946,
          "generalization error": 0.3323292161190015
         },
         {
          "estimated generalization error": 0.3308487644154694,
          "generalization error": 0.32428788201400915
         },
         {
          "estimated generalization error": 0.3117513666929701,
          "generalization error": 0.3290950606615011
         },
         {
          "estimated generalization error": 0.2951471173974842,
          "generalization error": 0.3191870519507623
         },
         {
          "estimated generalization error": 0.36350867978062423,
          "generalization error": 0.3588017180463934
         },
         {
          "estimated generalization error": 0.3173079657267293,
          "generalization error": 0.31196084352021036
         },
         {
          "estimated generalization error": 0.3107248235043101,
          "generalization error": 0.33640676323232666
         },
         {
          "estimated generalization error": 0.3462694722303021,
          "generalization error": 0.355238072590014
         },
         {
          "estimated generalization error": 0.3037040470274626,
          "generalization error": 0.3046224460465106
         },
         {
          "estimated generalization error": 0.3053692846659103,
          "generalization error": 0.32459188832254476
         },
         {
          "estimated generalization error": 0.3143928016032361,
          "generalization error": 0.3361783578326316
         },
         {
          "estimated generalization error": 0.3268780087856727,
          "generalization error": 0.3237126129388083
         },
         {
          "estimated generalization error": 0.3013213445395224,
          "generalization error": 0.30815202607631886
         },
         {
          "estimated generalization error": 0.3315717828064097,
          "generalization error": 0.31549109598321967
         },
         {
          "estimated generalization error": 0.3303399679996964,
          "generalization error": 0.33238451297019544
         },
         {
          "estimated generalization error": 0.37172465649035724,
          "generalization error": 0.3526637570449079
         },
         {
          "estimated generalization error": 0.3351326616436843,
          "generalization error": 0.33809274178395
         },
         {
          "estimated generalization error": 0.3231200696037466,
          "generalization error": 0.3168472529079321
         },
         {
          "estimated generalization error": 0.3171676151831885,
          "generalization error": 0.3273636995351337
         },
         {
          "estimated generalization error": 0.3712986373986366,
          "generalization error": 0.3271533079899548
         },
         {
          "estimated generalization error": 0.35445716614222217,
          "generalization error": 0.33695476959413667
         },
         {
          "estimated generalization error": 0.34972790241414753,
          "generalization error": 0.3317200909880981
         },
         {
          "estimated generalization error": 0.32226315843892156,
          "generalization error": 0.35071865894804216
         },
         {
          "estimated generalization error": 0.36857709199922783,
          "generalization error": 0.3356318174190144
         },
         {
          "estimated generalization error": 0.3365556067196237,
          "generalization error": 0.32785953173010374
         },
         {
          "estimated generalization error": 0.31525768773226015,
          "generalization error": 0.30497182089944874
         },
         {
          "estimated generalization error": 0.29603791427711657,
          "generalization error": 0.3509320759240196
         },
         {
          "estimated generalization error": 0.3355245812010215,
          "generalization error": 0.3194009457070175
         },
         {
          "estimated generalization error": 0.33632855263194716,
          "generalization error": 0.32354085359898704
         },
         {
          "estimated generalization error": 0.3240047980936246,
          "generalization error": 0.35057935164309983
         },
         {
          "estimated generalization error": 0.2903911051303892,
          "generalization error": 0.32343430722294075
         },
         {
          "estimated generalization error": 0.31171326523913406,
          "generalization error": 0.3066211122492831
         },
         {
          "estimated generalization error": 0.3378188552284288,
          "generalization error": 0.3402888132473323
         },
         {
          "estimated generalization error": 0.32909491435291105,
          "generalization error": 0.3229776936934224
         },
         {
          "estimated generalization error": 0.29532035369989024,
          "generalization error": 0.3514500598078159
         },
         {
          "estimated generalization error": 0.30294727929855014,
          "generalization error": 0.3127028857819298
         },
         {
          "estimated generalization error": 0.3049563456342082,
          "generalization error": 0.30547150577684623
         },
         {
          "estimated generalization error": 0.3088329664551067,
          "generalization error": 0.3165061568100884
         },
         {
          "estimated generalization error": 0.3087317364584219,
          "generalization error": 0.3033272830339157
         },
         {
          "estimated generalization error": 0.3208305972044493,
          "generalization error": 0.308876305083795
         },
         {
          "estimated generalization error": 0.29227046633515236,
          "generalization error": 0.29792507178427474
         },
         {
          "estimated generalization error": 0.35506589653776655,
          "generalization error": 0.3395807571598531
         },
         {
          "estimated generalization error": 0.33130113374974063,
          "generalization error": 0.3091754658491971
         },
         {
          "estimated generalization error": 0.33912778632295454,
          "generalization error": 0.32638763943748583
         },
         {
          "estimated generalization error": 0.34964951117787707,
          "generalization error": 0.33863355951659807
         },
         {
          "estimated generalization error": 0.3406933515977055,
          "generalization error": 0.329979447699564
         },
         {
          "estimated generalization error": 0.30551448353832267,
          "generalization error": 0.30827673077877105
         },
         {
          "estimated generalization error": 0.33082350710273395,
          "generalization error": 0.3073216566446232
         },
         {
          "estimated generalization error": 0.3086076738222921,
          "generalization error": 0.3239529212023279
         },
         {
          "estimated generalization error": 0.34404392007065815,
          "generalization error": 0.32240038308633157
         },
         {
          "estimated generalization error": 0.3540159491705331,
          "generalization error": 0.3790337380642421
         },
         {
          "estimated generalization error": 0.3123490139751407,
          "generalization error": 0.3017248244252813
         },
         {
          "estimated generalization error": 0.3257040662402064,
          "generalization error": 0.34611096787052215
         },
         {
          "estimated generalization error": 0.3380733110200732,
          "generalization error": 0.3259899386067649
         },
         {
          "estimated generalization error": 0.31755571827590895,
          "generalization error": 0.29415682125643716
         },
         {
          "estimated generalization error": 0.29371910043078764,
          "generalization error": 0.2976046545566568
         },
         {
          "estimated generalization error": 0.33231416863444757,
          "generalization error": 0.3226014825752825
         },
         {
          "estimated generalization error": 0.3314907157452966,
          "generalization error": 0.34761971486101095
         },
         {
          "estimated generalization error": 0.3065675800907345,
          "generalization error": 0.3188158801161862
         },
         {
          "estimated generalization error": 0.3186448898636588,
          "generalization error": 0.3230938839857481
         },
         {
          "estimated generalization error": 0.29664119710089676,
          "generalization error": 0.29628555115230665
         },
         {
          "estimated generalization error": 0.35575022629515196,
          "generalization error": 0.3422845373811925
         },
         {
          "estimated generalization error": 0.27556867409159136,
          "generalization error": 0.32880494105221975
         },
         {
          "estimated generalization error": 0.33095328269974733,
          "generalization error": 0.32853774585310114
         },
         {
          "estimated generalization error": 0.30300453687954515,
          "generalization error": 0.3151113357856199
         },
         {
          "estimated generalization error": 0.34788675209324765,
          "generalization error": 0.3302066186798249
         },
         {
          "estimated generalization error": 0.3183217309011355,
          "generalization error": 0.3321361413614369
         },
         {
          "estimated generalization error": 0.3355813216996462,
          "generalization error": 0.34984447268220115
         },
         {
          "estimated generalization error": 0.33118037636781356,
          "generalization error": 0.33264409252628685
         },
         {
          "estimated generalization error": 0.3297084824558252,
          "generalization error": 0.32878360335102885
         },
         {
          "estimated generalization error": 0.36003756785001023,
          "generalization error": 0.33602479026995435
         },
         {
          "estimated generalization error": 0.32466078408120447,
          "generalization error": 0.3288359846638848
         },
         {
          "estimated generalization error": 0.29661685960328665,
          "generalization error": 0.3082706177544209
         },
         {
          "estimated generalization error": 0.3280813826044635,
          "generalization error": 0.32304695650503173
         },
         {
          "estimated generalization error": 0.3526893455275592,
          "generalization error": 0.3593905077718805
         },
         {
          "estimated generalization error": 0.3353248487206659,
          "generalization error": 0.3384633854194776
         },
         {
          "estimated generalization error": 0.3008200509052815,
          "generalization error": 0.3030382817498545
         },
         {
          "estimated generalization error": 0.3624048036341365,
          "generalization error": 0.35213184426128724
         },
         {
          "estimated generalization error": 0.3044472046323368,
          "generalization error": 0.3278012304222871
         },
         {
          "estimated generalization error": 0.32636581328891046,
          "generalization error": 0.3427940808382913
         },
         {
          "estimated generalization error": 0.3529819453646429,
          "generalization error": 0.37241944125988996
         },
         {
          "estimated generalization error": 0.34218471403055667,
          "generalization error": 0.336800922178243
         },
         {
          "estimated generalization error": 0.32173421075751946,
          "generalization error": 0.29410427115964
         },
         {
          "estimated generalization error": 0.2951130414938112,
          "generalization error": 0.3226881901445605
         },
         {
          "estimated generalization error": 0.3109158408966279,
          "generalization error": 0.3142848521786549
         },
         {
          "estimated generalization error": 0.32906588807896536,
          "generalization error": 0.3436478460244347
         },
         {
          "estimated generalization error": 0.3043979144531604,
          "generalization error": 0.3293581766526524
         },
         {
          "estimated generalization error": 0.33135444971449657,
          "generalization error": 0.31163798584637264
         },
         {
          "estimated generalization error": 0.30527370880290844,
          "generalization error": 0.3272532555878293
         },
         {
          "estimated generalization error": 0.3579989056898231,
          "generalization error": 0.3384082142312578
         },
         {
          "estimated generalization error": 0.34380283506617365,
          "generalization error": 0.34718410364570507
         },
         {
          "estimated generalization error": 0.3027258098354619,
          "generalization error": 0.3072894133676044
         },
         {
          "estimated generalization error": 0.3512212700543392,
          "generalization error": 0.32673562237714565
         },
         {
          "estimated generalization error": 0.3363179710017263,
          "generalization error": 0.32681988921286986
         },
         {
          "estimated generalization error": 0.3007237708603064,
          "generalization error": 0.32632842815484114
         },
         {
          "estimated generalization error": 0.35008039149881687,
          "generalization error": 0.34098541742682825
         },
         {
          "estimated generalization error": 0.29490730003707677,
          "generalization error": 0.3089780528301088
         },
         {
          "estimated generalization error": 0.3189567418811807,
          "generalization error": 0.3270679669625231
         },
         {
          "estimated generalization error": 0.344939201981776,
          "generalization error": 0.32662474440714445
         },
         {
          "estimated generalization error": 0.32191734415006523,
          "generalization error": 0.3450959373625996
         },
         {
          "estimated generalization error": 0.3727744534505152,
          "generalization error": 0.35287070448132096
         },
         {
          "estimated generalization error": 0.30476008743074134,
          "generalization error": 0.32809496929948895
         },
         {
          "estimated generalization error": 0.3506225800844048,
          "generalization error": 0.3570884327989295
         },
         {
          "estimated generalization error": 0.3330830929420866,
          "generalization error": 0.3455284152739894
         },
         {
          "estimated generalization error": 0.33032491178850726,
          "generalization error": 0.3293664748641599
         },
         {
          "estimated generalization error": 0.3411128411947986,
          "generalization error": 0.3356972904024766
         },
         {
          "estimated generalization error": 0.3597358312789379,
          "generalization error": 0.3437039773820381
         },
         {
          "estimated generalization error": 0.3794667157442982,
          "generalization error": 0.34868317063279813
         },
         {
          "estimated generalization error": 0.3544375858852892,
          "generalization error": 0.3384908497886492
         },
         {
          "estimated generalization error": 0.27654719693059054,
          "generalization error": 0.30872365384139294
         },
         {
          "estimated generalization error": 0.34820904378981593,
          "generalization error": 0.3344005220353851
         },
         {
          "estimated generalization error": 0.3549836590881885,
          "generalization error": 0.36132517328129493
         },
         {
          "estimated generalization error": 0.37307508893585484,
          "generalization error": 0.34303258551076127
         },
         {
          "estimated generalization error": 0.36302348243701565,
          "generalization error": 0.3468147230363827
         },
         {
          "estimated generalization error": 0.3152874114063037,
          "generalization error": 0.3366517106499785
         },
         {
          "estimated generalization error": 0.3289068457062298,
          "generalization error": 0.3275703044494983
         },
         {
          "estimated generalization error": 0.34206251153451267,
          "generalization error": 0.3630633375777493
         },
         {
          "estimated generalization error": 0.31967669609532096,
          "generalization error": 0.3248877904060156
         },
         {
          "estimated generalization error": 0.31997623672444253,
          "generalization error": 0.3520501078823511
         },
         {
          "estimated generalization error": 0.3107473266368627,
          "generalization error": 0.3645723267562592
         },
         {
          "estimated generalization error": 0.3250439489037683,
          "generalization error": 0.3245706323001566
         },
         {
          "estimated generalization error": 0.3108589588796694,
          "generalization error": 0.3152264709286496
         },
         {
          "estimated generalization error": 0.3325136987391171,
          "generalization error": 0.307701787112069
         },
         {
          "estimated generalization error": 0.2813000001677947,
          "generalization error": 0.295597194014645
         },
         {
          "estimated generalization error": 0.3475959996127059,
          "generalization error": 0.35139090038874277
         },
         {
          "estimated generalization error": 0.29764024749742374,
          "generalization error": 0.3172736042592154
         },
         {
          "estimated generalization error": 0.31977184921101826,
          "generalization error": 0.3266645152327896
         },
         {
          "estimated generalization error": 0.318981049209375,
          "generalization error": 0.32826666404735383
         },
         {
          "estimated generalization error": 0.32005904777588556,
          "generalization error": 0.3291628367210597
         },
         {
          "estimated generalization error": 0.3038153518320583,
          "generalization error": 0.3213862004181101
         },
         {
          "estimated generalization error": 0.3417946831210651,
          "generalization error": 0.3487877048417511
         },
         {
          "estimated generalization error": 0.287879304126433,
          "generalization error": 0.3204580804489365
         },
         {
          "estimated generalization error": 0.3809339563706949,
          "generalization error": 0.3666468081802137
         },
         {
          "estimated generalization error": 0.30189857649917723,
          "generalization error": 0.3245568715986983
         },
         {
          "estimated generalization error": 0.34646158711131714,
          "generalization error": 0.3521011378630316
         },
         {
          "estimated generalization error": 0.31803500698229176,
          "generalization error": 0.3500197728997561
         },
         {
          "estimated generalization error": 0.31589430435409405,
          "generalization error": 0.3180121969385375
         },
         {
          "estimated generalization error": 0.31509527913753593,
          "generalization error": 0.30295963865668
         },
         {
          "estimated generalization error": 0.3350485515337817,
          "generalization error": 0.3239593612388994
         },
         {
          "estimated generalization error": 0.3101724050795898,
          "generalization error": 0.3012463688888518
         },
         {
          "estimated generalization error": 0.3292794986125391,
          "generalization error": 0.33572466955105756
         },
         {
          "estimated generalization error": 0.31650702545757714,
          "generalization error": 0.33362048409814565
         },
         {
          "estimated generalization error": 0.335283558387437,
          "generalization error": 0.36281405754994484
         },
         {
          "estimated generalization error": 0.3055026334754817,
          "generalization error": 0.3161011016723597
         },
         {
          "estimated generalization error": 0.3133573897416516,
          "generalization error": 0.325489503153533
         },
         {
          "estimated generalization error": 0.3446598939771444,
          "generalization error": 0.3266198883817938
         },
         {
          "estimated generalization error": 0.37657499253455295,
          "generalization error": 0.3681144990857163
         },
         {
          "estimated generalization error": 0.2915917684624452,
          "generalization error": 0.33132349092131175
         },
         {
          "estimated generalization error": 0.3478278541147548,
          "generalization error": 0.346241497126823
         },
         {
          "estimated generalization error": 0.3250436461665823,
          "generalization error": 0.3295365210770806
         },
         {
          "estimated generalization error": 0.3151248521715538,
          "generalization error": 0.30653654305096245
         },
         {
          "estimated generalization error": 0.31113699395151273,
          "generalization error": 0.3242055319907247
         },
         {
          "estimated generalization error": 0.3080150852853698,
          "generalization error": 0.32604776239443356
         },
         {
          "estimated generalization error": 0.35267868476087944,
          "generalization error": 0.35316425431112225
         },
         {
          "estimated generalization error": 0.2886750086205765,
          "generalization error": 0.3240757855620657
         },
         {
          "estimated generalization error": 0.37292405758289165,
          "generalization error": 0.3724386550537092
         },
         {
          "estimated generalization error": 0.29960492812829104,
          "generalization error": 0.31689067820589
         },
         {
          "estimated generalization error": 0.2878167599345714,
          "generalization error": 0.3372869642305426
         },
         {
          "estimated generalization error": 0.31458123407654787,
          "generalization error": 0.3389110928131668
         },
         {
          "estimated generalization error": 0.3515594861551595,
          "generalization error": 0.3504910583510719
         },
         {
          "estimated generalization error": 0.3000659860493752,
          "generalization error": 0.3101991655429019
         },
         {
          "estimated generalization error": 0.3171513750073315,
          "generalization error": 0.3255979753213499
         },
         {
          "estimated generalization error": 0.3157163504779254,
          "generalization error": 0.30172106346187766
         },
         {
          "estimated generalization error": 0.3677850953837563,
          "generalization error": 0.3411171560126322
         },
         {
          "estimated generalization error": 0.3205625265037926,
          "generalization error": 0.3352388417610592
         },
         {
          "estimated generalization error": 0.344411029156386,
          "generalization error": 0.3500686179941052
         },
         {
          "estimated generalization error": 0.3119711271939029,
          "generalization error": 0.3059999291366172
         },
         {
          "estimated generalization error": 0.31052342918796105,
          "generalization error": 0.31872283590827305
         },
         {
          "estimated generalization error": 0.3233508271691345,
          "generalization error": 0.34876337189046597
         },
         {
          "estimated generalization error": 0.2861742259038244,
          "generalization error": 0.30700784188539887
         },
         {
          "estimated generalization error": 0.35783505121701115,
          "generalization error": 0.3304098904479457
         },
         {
          "estimated generalization error": 0.29990462736328094,
          "generalization error": 0.3209526116410043
         },
         {
          "estimated generalization error": 0.34671715546114007,
          "generalization error": 0.3428065667669928
         },
         {
          "estimated generalization error": 0.33680303081293234,
          "generalization error": 0.33892156025488474
         },
         {
          "estimated generalization error": 0.3377029473299442,
          "generalization error": 0.3360664862250115
         },
         {
          "estimated generalization error": 0.3022006711805523,
          "generalization error": 0.32975851763826924
         },
         {
          "estimated generalization error": 0.34909481536865566,
          "generalization error": 0.3311080582979163
         },
         {
          "estimated generalization error": 0.34440538354368805,
          "generalization error": 0.31767537190599343
         },
         {
          "estimated generalization error": 0.3109856842357118,
          "generalization error": 0.3374424881016766
         },
         {
          "estimated generalization error": 0.32851895538255305,
          "generalization error": 0.3410516972326234
         },
         {
          "estimated generalization error": 0.356224366488678,
          "generalization error": 0.33434664500754296
         },
         {
          "estimated generalization error": 0.356532263190741,
          "generalization error": 0.3414426355708878
         },
         {
          "estimated generalization error": 0.3358768417119212,
          "generalization error": 0.3553516569358278
         },
         {
          "estimated generalization error": 0.3195262890268435,
          "generalization error": 0.31648328325559183
         },
         {
          "estimated generalization error": 0.3105298137579377,
          "generalization error": 0.3675689513808318
         },
         {
          "estimated generalization error": 0.33654412269340683,
          "generalization error": 0.35359772565103376
         },
         {
          "estimated generalization error": 0.33634060784707454,
          "generalization error": 0.33326109131538606
         },
         {
          "estimated generalization error": 0.3136922793658075,
          "generalization error": 0.32305043949056966
         },
         {
          "estimated generalization error": 0.3288652170052957,
          "generalization error": 0.3366841592141008
         },
         {
          "estimated generalization error": 0.2866329465114948,
          "generalization error": 0.30097213353998087
         },
         {
          "estimated generalization error": 0.31290722218155725,
          "generalization error": 0.32118993813950486
         },
         {
          "estimated generalization error": 0.33708187559296177,
          "generalization error": 0.3352770594773157
         },
         {
          "estimated generalization error": 0.3402768066278845,
          "generalization error": 0.3301945572756104
         },
         {
          "estimated generalization error": 0.3146290815481254,
          "generalization error": 0.3357152555079931
         },
         {
          "estimated generalization error": 0.3164231348064943,
          "generalization error": 0.3265381060038004
         },
         {
          "estimated generalization error": 0.33557264683510785,
          "generalization error": 0.32858819233799536
         },
         {
          "estimated generalization error": 0.34496078627976895,
          "generalization error": 0.33308948684942324
         },
         {
          "estimated generalization error": 0.3452207300920215,
          "generalization error": 0.3285142838405529
         },
         {
          "estimated generalization error": 0.3354866801484786,
          "generalization error": 0.33452248573748083
         },
         {
          "estimated generalization error": 0.3368587049865206,
          "generalization error": 0.34748832240437105
         },
         {
          "estimated generalization error": 0.3283691448570172,
          "generalization error": 0.33231200092245705
         },
         {
          "estimated generalization error": 0.34339728415527715,
          "generalization error": 0.35242485042260674
         },
         {
          "estimated generalization error": 0.370351345697741,
          "generalization error": 0.3568088945033862
         },
         {
          "estimated generalization error": 0.3138474225462123,
          "generalization error": 0.3302187002608217
         },
         {
          "estimated generalization error": 0.33482726791921674,
          "generalization error": 0.33104031554129937
         },
         {
          "estimated generalization error": 0.31786807975045633,
          "generalization error": 0.33894617126795323
         },
         {
          "estimated generalization error": 0.335728206722676,
          "generalization error": 0.32618173197422645
         },
         {
          "estimated generalization error": 0.3298641199669551,
          "generalization error": 0.3434966777132173
         },
         {
          "estimated generalization error": 0.3128703488120659,
          "generalization error": 0.3449060039390327
         },
         {
          "estimated generalization error": 0.35139180163181766,
          "generalization error": 0.33865782351260715
         },
         {
          "estimated generalization error": 0.3527257444875009,
          "generalization error": 0.3481589992780811
         },
         {
          "estimated generalization error": 0.3254423008630957,
          "generalization error": 0.32011236130414406
         },
         {
          "estimated generalization error": 0.33486815679398046,
          "generalization error": 0.33110590766249437
         },
         {
          "estimated generalization error": 0.3138374985729491,
          "generalization error": 0.3397294609551176
         },
         {
          "estimated generalization error": 0.3228220826842862,
          "generalization error": 0.32033516210974755
         },
         {
          "estimated generalization error": 0.32394692113466933,
          "generalization error": 0.31616851769791904
         },
         {
          "estimated generalization error": 0.3303056996089157,
          "generalization error": 0.35557824380011266
         },
         {
          "estimated generalization error": 0.356154426367527,
          "generalization error": 0.3519775003151717
         },
         {
          "estimated generalization error": 0.3154743861568656,
          "generalization error": 0.32564823887790234
         },
         {
          "estimated generalization error": 0.31382105533611526,
          "generalization error": 0.3167939852095178
         },
         {
          "estimated generalization error": 0.30837546533583937,
          "generalization error": 0.3252771154192834
         },
         {
          "estimated generalization error": 0.33906184549975044,
          "generalization error": 0.32038691472802416
         },
         {
          "estimated generalization error": 0.3082128544265417,
          "generalization error": 0.32828533045450786
         },
         {
          "estimated generalization error": 0.34545144306505315,
          "generalization error": 0.3535799909180548
         },
         {
          "estimated generalization error": 0.28432346573943096,
          "generalization error": 0.32972856048182775
         },
         {
          "estimated generalization error": 0.28314570228289326,
          "generalization error": 0.29171903742000427
         },
         {
          "estimated generalization error": 0.3511532507240227,
          "generalization error": 0.33524513702777436
         },
         {
          "estimated generalization error": 0.30954661402376915,
          "generalization error": 0.32637321107812367
         },
         {
          "estimated generalization error": 0.33574856960304555,
          "generalization error": 0.34906774141010327
         },
         {
          "estimated generalization error": 0.3710925941171092,
          "generalization error": 0.35579269385137663
         },
         {
          "estimated generalization error": 0.3173367232355159,
          "generalization error": 0.32093398700626086
         },
         {
          "estimated generalization error": 0.3597064316074716,
          "generalization error": 0.3290905603227293
         },
         {
          "estimated generalization error": 0.3755532862720166,
          "generalization error": 0.35288542307445814
         },
         {
          "estimated generalization error": 0.3459285527686591,
          "generalization error": 0.33844458256710486
         },
         {
          "estimated generalization error": 0.3448511362264594,
          "generalization error": 0.33196515018842754
         },
         {
          "estimated generalization error": 0.33325012116109376,
          "generalization error": 0.322014569703503
         },
         {
          "estimated generalization error": 0.28848522211437716,
          "generalization error": 0.32634494607326586
         },
         {
          "estimated generalization error": 0.37249960449456887,
          "generalization error": 0.35354484902460703
         },
         {
          "estimated generalization error": 0.35150885028696394,
          "generalization error": 0.31938342317025015
         },
         {
          "estimated generalization error": 0.3433025130101357,
          "generalization error": 0.34623956658016564
         },
         {
          "estimated generalization error": 0.3390669061186187,
          "generalization error": 0.3164784675426579
         }
        ]
       },
       "encoding": {
        "color": {
         "field": "Quantity",
         "type": "nominal"
        },
        "x": {
         "bin": {
          "maxbins": 100
         },
         "field": "error",
         "type": "quantitative"
        },
        "y": {
         "aggregate": "count",
         "stack": null,
         "type": "quantitative"
        }
       },
       "height": 100,
       "mark": {
        "interpolate": "step",
        "opacity": 0.3,
        "type": "area"
       },
       "transform": [
        {
         "as": [
          "Quantity",
          "error"
         ],
         "fold": [
          "estimated generalization error",
          "generalization error"
         ]
        }
       ]
      },
      "image/png": "[encoded data removed]",
      "text/plain": [
       "<VegaLite 3 object>\n",
       "\n",
       "If you see this message, it means the renderer has not been properly enabled\n",
       "for the frontend that you are using. For more information, see\n",
       "https://altair-viz.github.io/user_guide/troubleshooting.html\n"
      ]
     },
     "execution_count": 34,
     "metadata": {},
     "output_type": "execute_result"
    }
   ],
   "source": [
    "source = pd.DataFrame({\n",
    "    'estimated generalization error':ês,\n",
    "    'generalization error':es\n",
    "})\n",
    "\n",
    "alt.Chart(source, height=100).transform_fold(\n",
    "    ['estimated generalization error', 'generalization error'],\n",
    "    as_=['Quantity', 'error']\n",
    ").mark_area(\n",
    "    opacity=0.3,\n",
    "    interpolate='step'\n",
    ").encode(\n",
    "    alt.X('error:Q', bin=alt.Bin(maxbins=100)),\n",
    "    alt.Y('count()', stack=None),\n",
    "    alt.Color('Quantity:N')\n",
    ")"
   ]
  },
  {
   "cell_type": "markdown",
   "metadata": {},
   "source": [
    "What the heck!? Now it looks like our estimate is pretty decent. Let's dig in a little closer and look at the distribution of exactly how far off we are in our error estimate across all simulations."
   ]
  },
  {
   "cell_type": "code",
   "execution_count": 15,
   "metadata": {},
   "outputs": [],
   "source": [
    "error_in_error_estimate = [e-ê for e,ê in zip(es, ês)]"
   ]
  },
  {
   "cell_type": "code",
   "execution_count": 16,
   "metadata": {},
   "outputs": [
    {
     "data": {
      "application/vnd.vegalite.v3+json": {
       "$schema": "https://vega.github.io/schema/vega-lite/v3.4.0.json",
       "config": {
        "mark": {
         "tooltip": null
        },
        "view": {
         "height": 300,
         "width": 400
        }
       },
       "data": {
        "name": "data-b37a906e206ea0930b56f48085215a1c"
       },
       "datasets": {
        "data-b37a906e206ea0930b56f48085215a1c": [
         {
          "Error in error estimate": 0.009465712920662589
         },
         {
          "Error in error estimate": -0.0049735482881081705
         },
         {
          "Error in error estimate": -0.005736694394962744
         },
         {
          "Error in error estimate": 0.0077250920355706465
         },
         {
          "Error in error estimate": 0.011013533627003746
         },
         {
          "Error in error estimate": -0.0031660272824792224
         },
         {
          "Error in error estimate": 0.001642833052431819
         },
         {
          "Error in error estimate": 0.01449680209402529
         },
         {
          "Error in error estimate": 0.004595842888079044
         },
         {
          "Error in error estimate": -6.592493414972478e-05
         },
         {
          "Error in error estimate": -0.0009089063940045938
         },
         {
          "Error in error estimate": -0.00778750764143904
         },
         {
          "Error in error estimate": 0.0008599249590217628
         },
         {
          "Error in error estimate": 0.0030171905813040634
         },
         {
          "Error in error estimate": 0.0016122563785807564
         },
         {
          "Error in error estimate": 0.01315774708020534
         },
         {
          "Error in error estimate": -0.00027889249804000094
         },
         {
          "Error in error estimate": -0.007857327557816929
         },
         {
          "Error in error estimate": 0.0036082939637358813
         },
         {
          "Error in error estimate": 0.005445995807976389
         },
         {
          "Error in error estimate": 0.01575467344399098
         },
         {
          "Error in error estimate": 0.004265635633346115
         },
         {
          "Error in error estimate": 0.0026632543233427453
         },
         {
          "Error in error estimate": -0.0009704460208555532
         },
         {
          "Error in error estimate": -0.006327203999105219
         },
         {
          "Error in error estimate": 0.007887980651407611
         },
         {
          "Error in error estimate": 0.00453092549137149
         },
         {
          "Error in error estimate": -0.0006917542392261
         },
         {
          "Error in error estimate": -0.00037237429251357756
         },
         {
          "Error in error estimate": -0.004397845822835894
         },
         {
          "Error in error estimate": -0.0034285436548479875
         },
         {
          "Error in error estimate": -0.0034944437579643717
         },
         {
          "Error in error estimate": 0.002961401861608093
         },
         {
          "Error in error estimate": 0.005095532626076038
         },
         {
          "Error in error estimate": -0.007613905527482534
         },
         {
          "Error in error estimate": 0.0013079382125895656
         },
         {
          "Error in error estimate": -0.008544212962589393
         },
         {
          "Error in error estimate": -0.010127743804490136
         },
         {
          "Error in error estimate": -0.00021488865760743714
         },
         {
          "Error in error estimate": 0.003043693093356753
         },
         {
          "Error in error estimate": 0.014996967463777294
         },
         {
          "Error in error estimate": 0.0048052667294593565
         },
         {
          "Error in error estimate": 0.01017938066278573
         },
         {
          "Error in error estimate": -0.002953540110730901
         },
         {
          "Error in error estimate": -0.013749467010466088
         },
         {
          "Error in error estimate": -0.00564943223447642
         },
         {
          "Error in error estimate": 0.00044835897074121944
         },
         {
          "Error in error estimate": 0.005255941689043198
         },
         {
          "Error in error estimate": 0.0049999140481351845
         },
         {
          "Error in error estimate": -0.006527934918942602
         },
         {
          "Error in error estimate": 0.007421187471470275
         },
         {
          "Error in error estimate": 0.001488545833559507
         },
         {
          "Error in error estimate": -0.0046391450293108705
         },
         {
          "Error in error estimate": 0.006924894282353489
         },
         {
          "Error in error estimate": 0.004042121143893851
         },
         {
          "Error in error estimate": -0.0010872857627624577
         },
         {
          "Error in error estimate": 0.007141282703249652
         },
         {
          "Error in error estimate": 0.0031057990496200782
         },
         {
          "Error in error estimate": -0.0006032004848856298
         },
         {
          "Error in error estimate": 0.0027947898355930034
         },
         {
          "Error in error estimate": 0.0040913457248221985
         },
         {
          "Error in error estimate": 0.000987094251518772
         },
         {
          "Error in error estimate": -0.0049023263534465344
         },
         {
          "Error in error estimate": -0.00038627495827861513
         },
         {
          "Error in error estimate": 0.014218250516594033
         },
         {
          "Error in error estimate": 0.0034850725361135204
         },
         {
          "Error in error estimate": -0.005979855513417814
         },
         {
          "Error in error estimate": 0.021868687421877475
         },
         {
          "Error in error estimate": 0.0066011495067029025
         },
         {
          "Error in error estimate": 0.00039664016326945717
         },
         {
          "Error in error estimate": -0.010413666819715867
         },
         {
          "Error in error estimate": 0.002772284211362802
         },
         {
          "Error in error estimate": 0.007788806308477475
         },
         {
          "Error in error estimate": 0.0008307369755822247
         },
         {
          "Error in error estimate": -0.009858078092948225
         },
         {
          "Error in error estimate": 0.006586178483646982
         },
         {
          "Error in error estimate": -0.003070923094732947
         },
         {
          "Error in error estimate": 0.005621327911282864
         },
         {
          "Error in error estimate": 0.009258321217208626
         },
         {
          "Error in error estimate": 0.002258427040147587
         },
         {
          "Error in error estimate": 0.004273310497825311
         },
         {
          "Error in error estimate": 0.0014614687655393754
         },
         {
          "Error in error estimate": 0.012526386898598252
         },
         {
          "Error in error estimate": -0.0009974559886380963
         },
         {
          "Error in error estimate": 0.006235565901539231
         },
         {
          "Error in error estimate": 0.0007317678568864727
         },
         {
          "Error in error estimate": 0.005948202704091021
         },
         {
          "Error in error estimate": -0.005917101713006884
         },
         {
          "Error in error estimate": -0.012730582077872893
         },
         {
          "Error in error estimate": -0.0070350434806503714
         },
         {
          "Error in error estimate": -0.006422553146030907
         },
         {
          "Error in error estimate": 0.005006338587560638
         },
         {
          "Error in error estimate": 0.012399291529564982
         },
         {
          "Error in error estimate": 0.005172799233131659
         },
         {
          "Error in error estimate": -0.0033355004892852425
         },
         {
          "Error in error estimate": -0.005091686568715448
         },
         {
          "Error in error estimate": 0.002326788924005452
         },
         {
          "Error in error estimate": 0.005990169146832758
         },
         {
          "Error in error estimate": 0.008299690251468955
         },
         {
          "Error in error estimate": 0.012651377939554537
         },
         {
          "Error in error estimate": 0.00241508951247274
         },
         {
          "Error in error estimate": -0.009132025000046756
         },
         {
          "Error in error estimate": -0.0019152257379097815
         },
         {
          "Error in error estimate": 0.003089331084447783
         },
         {
          "Error in error estimate": -0.0017490746091740061
         },
         {
          "Error in error estimate": 0.0012649001308081553
         },
         {
          "Error in error estimate": 0.0011926748887455818
         },
         {
          "Error in error estimate": 0.0020378007504490148
         },
         {
          "Error in error estimate": -0.006299385127909951
         },
         {
          "Error in error estimate": 0.008950451379589247
         },
         {
          "Error in error estimate": -0.0025128332832041744
         },
         {
          "Error in error estimate": 0.007290938790035423
         },
         {
          "Error in error estimate": 0.002786613881225808
         },
         {
          "Error in error estimate": 0.004828762524135888
         },
         {
          "Error in error estimate": -0.004254977919807945
         },
         {
          "Error in error estimate": 0.0033894945532723653
         },
         {
          "Error in error estimate": -0.011068871946481068
         },
         {
          "Error in error estimate": 0.00833110738975415
         },
         {
          "Error in error estimate": 0.0061743650944261486
         },
         {
          "Error in error estimate": 0.0008032956015080472
         },
         {
          "Error in error estimate": 0.006002362978899417
         },
         {
          "Error in error estimate": -0.006293275377349
         },
         {
          "Error in error estimate": -0.002243583973129959
         },
         {
          "Error in error estimate": 0.008671444445599918
         },
         {
          "Error in error estimate": 0.0019111502009909742
         },
         {
          "Error in error estimate": 0.0018462488265419408
         },
         {
          "Error in error estimate": 0.012871472154746377
         },
         {
          "Error in error estimate": 0.0008759879247892122
         },
         {
          "Error in error estimate": 0.0006481932485570552
         },
         {
          "Error in error estimate": 0.005911008941109019
         },
         {
          "Error in error estimate": 0.0020034948276255182
         },
         {
          "Error in error estimate": -0.002012514934264492
         },
         {
          "Error in error estimate": 0.006601974992953535
         },
         {
          "Error in error estimate": -0.0037649916813611017
         },
         {
          "Error in error estimate": -0.0068289044621018535
         },
         {
          "Error in error estimate": 0.0029639110960791304
         },
         {
          "Error in error estimate": 0.0030535483984398537
         },
         {
          "Error in error estimate": 1.9806340628980568e-06
         },
         {
          "Error in error estimate": 0.006348673700037805
         },
         {
          "Error in error estimate": 0.010172866677994913
         },
         {
          "Error in error estimate": -0.00943708342556604
         },
         {
          "Error in error estimate": 0.006084280514277868
         },
         {
          "Error in error estimate": -0.0008753204874245024
         },
         {
          "Error in error estimate": -0.004342580519977518
         },
         {
          "Error in error estimate": 0.0010369259673764786
         },
         {
          "Error in error estimate": -0.00463175802650162
         },
         {
          "Error in error estimate": 0.015624737803500433
         },
         {
          "Error in error estimate": 0.00997068277805474
         },
         {
          "Error in error estimate": -0.0003511051838270274
         },
         {
          "Error in error estimate": -0.0006654553101919092
         },
         {
          "Error in error estimate": -0.004306023345817173
         },
         {
          "Error in error estimate": 0.0018009293768105894
         },
         {
          "Error in error estimate": -0.001765431070898632
         },
         {
          "Error in error estimate": 0.009824673355367991
         },
         {
          "Error in error estimate": 0.003838416878640699
         },
         {
          "Error in error estimate": 0.004660456079934899
         },
         {
          "Error in error estimate": -0.00028654531291330554
         },
         {
          "Error in error estimate": 0.004065788921833263
         },
         {
          "Error in error estimate": 0.0016638923526318683
         },
         {
          "Error in error estimate": -0.004104183913849341
         },
         {
          "Error in error estimate": 0.002979592803986242
         },
         {
          "Error in error estimate": -0.003435089589910789
         },
         {
          "Error in error estimate": -0.0005051394116539765
         },
         {
          "Error in error estimate": 0.006222145809881174
         },
         {
          "Error in error estimate": 0.008002267468254998
         },
         {
          "Error in error estimate": 0.010124785420020405
         },
         {
          "Error in error estimate": 0.006984277967565067
         },
         {
          "Error in error estimate": -0.00544803308061842
         },
         {
          "Error in error estimate": 0.006305175277506708
         },
         {
          "Error in error estimate": -0.010484943382382567
         },
         {
          "Error in error estimate": 0.01093051675545173
         },
         {
          "Error in error estimate": -0.00011470403529745266
         },
         {
          "Error in error estimate": 0.00637792578203733
         },
         {
          "Error in error estimate": 0.0007674758215380773
         },
         {
          "Error in error estimate": 0.0029722766553230417
         },
         {
          "Error in error estimate": 0.0040495813423388205
         },
         {
          "Error in error estimate": -0.002252915210837869
         },
         {
          "Error in error estimate": -0.013078810024572673
         },
         {
          "Error in error estimate": 0.0024474634590071487
         },
         {
          "Error in error estimate": -0.007778870404291566
         },
         {
          "Error in error estimate": 0.004263846699929408
         },
         {
          "Error in error estimate": -0.0014647147624060886
         },
         {
          "Error in error estimate": 0.009789466108077238
         },
         {
          "Error in error estimate": -0.0005313969606567104
         },
         {
          "Error in error estimate": 0.000671733014014464
         },
         {
          "Error in error estimate": -0.004592792690309294
         },
         {
          "Error in error estimate": 0.012975832323092462
         },
         {
          "Error in error estimate": -0.005687850868955652
         },
         {
          "Error in error estimate": -0.0020034121966309992
         },
         {
          "Error in error estimate": 0.0012557620940609193
         },
         {
          "Error in error estimate": 0.010532363649413401
         },
         {
          "Error in error estimate": -0.003885269535836372
         },
         {
          "Error in error estimate": 0.012211431345115348
         },
         {
          "Error in error estimate": -0.006240472392681468
         },
         {
          "Error in error estimate": 0.006512924531267755
         },
         {
          "Error in error estimate": -0.011706120951354038
         },
         {
          "Error in error estimate": -0.0010641515266502644
         },
         {
          "Error in error estimate": 0.007854151112041186
         },
         {
          "Error in error estimate": -0.005709927279992449
         },
         {
          "Error in error estimate": 0.000721218187669681
         },
         {
          "Error in error estimate": 0.01033273525096734
         },
         {
          "Error in error estimate": 0.0026763793887865095
         },
         {
          "Error in error estimate": -0.003192610713367544
         },
         {
          "Error in error estimate": -0.0006549910194341702
         },
         {
          "Error in error estimate": 0.00871293889897301
         },
         {
          "Error in error estimate": 0.007451647822597163
         },
         {
          "Error in error estimate": 0.0029547534289130484
         },
         {
          "Error in error estimate": -0.006584864380066169
         },
         {
          "Error in error estimate": -0.004417654108254621
         },
         {
          "Error in error estimate": -0.006492034117888762
         },
         {
          "Error in error estimate": 0.005098520175223886
         },
         {
          "Error in error estimate": 0.0007044001784719811
         },
         {
          "Error in error estimate": 0.0026709633776789143
         },
         {
          "Error in error estimate": 0.0017592732439238035
         },
         {
          "Error in error estimate": 0.004550890736901264
         },
         {
          "Error in error estimate": 0.00374903536532617
         },
         {
          "Error in error estimate": 0.010868352553490668
         },
         {
          "Error in error estimate": 0.010529734420203052
         },
         {
          "Error in error estimate": 0.004115099015411544
         },
         {
          "Error in error estimate": 0.0009198376975926015
         },
         {
          "Error in error estimate": -0.0017366404948057357
         },
         {
          "Error in error estimate": -0.0017371931302472
         },
         {
          "Error in error estimate": -0.0009862644474932236
         },
         {
          "Error in error estimate": 0.005354876865463487
         },
         {
          "Error in error estimate": -0.007825188085266027
         },
         {
          "Error in error estimate": 0.007735091853805276
         },
         {
          "Error in error estimate": -0.004243646755829222
         },
         {
          "Error in error estimate": -0.0026823190697859434
         },
         {
          "Error in error estimate": 0.0023246114765914094
         },
         {
          "Error in error estimate": 0.007686308382021556
         },
         {
          "Error in error estimate": 0.0013253929127680641
         },
         {
          "Error in error estimate": 0.0008877388576118972
         },
         {
          "Error in error estimate": 0.008986331973764805
         },
         {
          "Error in error estimate": 0.0064913580695172
         },
         {
          "Error in error estimate": 0.003695803190584629
         },
         {
          "Error in error estimate": -0.006720964404092866
         },
         {
          "Error in error estimate": -0.002222085090270054
         },
         {
          "Error in error estimate": 0.013093810231780773
         },
         {
          "Error in error estimate": 0.0006392185585051835
         },
         {
          "Error in error estimate": -0.0011503205336240163
         },
         {
          "Error in error estimate": -0.006044805355985339
         },
         {
          "Error in error estimate": 0.0002464947340557744
         },
         {
          "Error in error estimate": -3.7355763353341676e-05
         },
         {
          "Error in error estimate": 0.005025836268464312
         },
         {
          "Error in error estimate": 0.004883774414471631
         },
         {
          "Error in error estimate": 0.004554696495485622
         },
         {
          "Error in error estimate": -0.013861033269929296
         },
         {
          "Error in error estimate": -0.011862385073639542
         },
         {
          "Error in error estimate": 0.007954795285976507
         },
         {
          "Error in error estimate": -0.01493248705498254
         },
         {
          "Error in error estimate": -0.002396108443407874
         },
         {
          "Error in error estimate": 0.009047126905341901
         },
         {
          "Error in error estimate": 0.0035129522477314046
         },
         {
          "Error in error estimate": 0.013377945589210738
         },
         {
          "Error in error estimate": 0.011013877548030016
         },
         {
          "Error in error estimate": 0.005492448164119118
         },
         {
          "Error in error estimate": -0.002027077828667373
         },
         {
          "Error in error estimate": 0.004048104290655857
         },
         {
          "Error in error estimate": 0.008497913179821737
         },
         {
          "Error in error estimate": 0.0023811064152535755
         },
         {
          "Error in error estimate": 0.015345251565908519
         },
         {
          "Error in error estimate": -0.005018804993054959
         },
         {
          "Error in error estimate": 0.002928607047809062
         },
         {
          "Error in error estimate": -0.007606542573897701
         },
         {
          "Error in error estimate": 0.00959581959325384
         },
         {
          "Error in error estimate": 0.004217155008721385
         },
         {
          "Error in error estimate": 0.008126525779695776
         },
         {
          "Error in error estimate": -0.009092745771319466
         },
         {
          "Error in error estimate": -0.004583437093808096
         },
         {
          "Error in error estimate": 0.01720996622421181
         },
         {
          "Error in error estimate": -0.005932220452623843
         },
         {
          "Error in error estimate": 0.0007535679370547221
         },
         {
          "Error in error estimate": -0.00713630904319526
         },
         {
          "Error in error estimate": 0.0067188992402015535
         },
         {
          "Error in error estimate": -0.002800349971626065
         },
         {
          "Error in error estimate": 0.0019462652015176385
         },
         {
          "Error in error estimate": 0.017367273611098605
         },
         {
          "Error in error estimate": -0.0003991600192373712
         },
         {
          "Error in error estimate": 0.006621357870484457
         },
         {
          "Error in error estimate": -0.0017030822860534534
         },
         {
          "Error in error estimate": 0.016281028840894163
         },
         {
          "Error in error estimate": 0.0002068392492304838
         },
         {
          "Error in error estimate": 0.01120451984214646
         },
         {
          "Error in error estimate": 0.0004823591992013099
         },
         {
          "Error in error estimate": 0.0038802613729878588
         },
         {
          "Error in error estimate": -0.0026363976474652606
         },
         {
          "Error in error estimate": -0.0065659047223157185
         },
         {
          "Error in error estimate": 0.008675795299201844
         },
         {
          "Error in error estimate": 0.002255984032196817
         },
         {
          "Error in error estimate": -0.004074995229054856
         },
         {
          "Error in error estimate": 0.008252133537077433
         },
         {
          "Error in error estimate": 0.007230691198408468
         },
         {
          "Error in error estimate": 0.005731155576553321
         },
         {
          "Error in error estimate": 0.0005861451305256282
         },
         {
          "Error in error estimate": 0.005001648166610639
         },
         {
          "Error in error estimate": -0.009589384876557777
         },
         {
          "Error in error estimate": 0.010365425980744664
         },
         {
          "Error in error estimate": 0.0035568780232643205
         },
         {
          "Error in error estimate": -0.0062747551282475444
         },
         {
          "Error in error estimate": -0.008348866221790874
         },
         {
          "Error in error estimate": -0.0034574538747983163
         },
         {
          "Error in error estimate": 0.003207497408653809
         },
         {
          "Error in error estimate": 0.0028858946910866323
         },
         {
          "Error in error estimate": -0.00033819576930294026
         },
         {
          "Error in error estimate": -0.010443141047930399
         },
         {
          "Error in error estimate": 0.002327393675413292
         },
         {
          "Error in error estimate": 0.008279505249737973
         },
         {
          "Error in error estimate": 0.006563385219864576
         },
         {
          "Error in error estimate": 0.006265224909070444
         },
         {
          "Error in error estimate": -0.0037989854218190566
         },
         {
          "Error in error estimate": 0.004850222933473036
         },
         {
          "Error in error estimate": -0.005368047230033229
         },
         {
          "Error in error estimate": -0.00221606648673342
         },
         {
          "Error in error estimate": -0.005470607478561956
         },
         {
          "Error in error estimate": 0.006029362153934709
         },
         {
          "Error in error estimate": 0.0052747905271315065
         },
         {
          "Error in error estimate": 0.00395000889212907
         },
         {
          "Error in error estimate": -0.0008696581066409137
         },
         {
          "Error in error estimate": 0.0016815458522045912
         },
         {
          "Error in error estimate": 0.006807275080728037
         },
         {
          "Error in error estimate": -0.00530050198204382
         },
         {
          "Error in error estimate": 0.01457596209649692
         },
         {
          "Error in error estimate": -0.010359567250277008
         },
         {
          "Error in error estimate": -0.005500908792933967
         },
         {
          "Error in error estimate": 0.0012344287856982106
         },
         {
          "Error in error estimate": -0.0010788225895074777
         },
         {
          "Error in error estimate": -0.009053576110084699
         },
         {
          "Error in error estimate": 0.009543444976242377
         },
         {
          "Error in error estimate": 0.006895497123643485
         },
         {
          "Error in error estimate": 0.014129928825542731
         },
         {
          "Error in error estimate": 0.011146074411316154
         },
         {
          "Error in error estimate": 0.00557587745094254
         },
         {
          "Error in error estimate": 0.004104892842071439
         },
         {
          "Error in error estimate": 0.0011680136162634525
         },
         {
          "Error in error estimate": -0.0007253485446631347
         },
         {
          "Error in error estimate": -0.005978869172686807
         },
         {
          "Error in error estimate": -0.006834998432009631
         },
         {
          "Error in error estimate": -0.0002509659734655223
         },
         {
          "Error in error estimate": 0.0005798399938229393
         },
         {
          "Error in error estimate": -0.0063204545808109025
         },
         {
          "Error in error estimate": 0.0006461373266878345
         },
         {
          "Error in error estimate": 7.834116628177568e-05
         },
         {
          "Error in error estimate": 0.004490175039609884
         },
         {
          "Error in error estimate": -0.0007685289378250859
         },
         {
          "Error in error estimate": 0.01253139260158817
         },
         {
          "Error in error estimate": -0.0009498086242279158
         },
         {
          "Error in error estimate": -0.00018700096009871547
         },
         {
          "Error in error estimate": 0.002442386135980551
         },
         {
          "Error in error estimate": 0.004729419185516115
         },
         {
          "Error in error estimate": -0.007603832597445653
         },
         {
          "Error in error estimate": 0.01032232461687374
         },
         {
          "Error in error estimate": 0.007706721055656701
         },
         {
          "Error in error estimate": 0.012965411168956359
         },
         {
          "Error in error estimate": 0.006660612790968579
         },
         {
          "Error in error estimate": 0.009585417322908019
         },
         {
          "Error in error estimate": -0.0032810216442265006
         },
         {
          "Error in error estimate": -0.0036467244503405605
         },
         {
          "Error in error estimate": 0.004122002797918245
         },
         {
          "Error in error estimate": 0.006291315444757473
         },
         {
          "Error in error estimate": 0.0013499018836129473
         },
         {
          "Error in error estimate": -0.001959761502341034
         },
         {
          "Error in error estimate": -0.007368436703399844
         },
         {
          "Error in error estimate": -0.002565532513685548
         },
         {
          "Error in error estimate": -0.0028731509149289014
         },
         {
          "Error in error estimate": 0.003856520895699267
         },
         {
          "Error in error estimate": 0.0013330738127548258
         },
         {
          "Error in error estimate": 0.0020366773609558075
         },
         {
          "Error in error estimate": 0.008117710414951268
         },
         {
          "Error in error estimate": 0.008426864956977614
         },
         {
          "Error in error estimate": -0.005949495601073718
         },
         {
          "Error in error estimate": -0.005954035479483755
         },
         {
          "Error in error estimate": -0.0022796492190640394
         },
         {
          "Error in error estimate": 0.012276988671355182
         },
         {
          "Error in error estimate": -0.0001540281398878518
         },
         {
          "Error in error estimate": -0.0006740374436129959
         },
         {
          "Error in error estimate": -0.01053464698622869
         },
         {
          "Error in error estimate": 0.003711996464750955
         },
         {
          "Error in error estimate": -0.011800100598582108
         },
         {
          "Error in error estimate": 0.0054021877191560985
         },
         {
          "Error in error estimate": -0.008809388691970454
         },
         {
          "Error in error estimate": -0.005138220886244826
         },
         {
          "Error in error estimate": -0.000568394921381582
         },
         {
          "Error in error estimate": 0.002706295346196347
         },
         {
          "Error in error estimate": 0.006433677929701093
         },
         {
          "Error in error estimate": -0.008112619081054373
         },
         {
          "Error in error estimate": 0.010450376339720013
         },
         {
          "Error in error estimate": 0.004071655571988297
         },
         {
          "Error in error estimate": 0.0005137197201713073
         },
         {
          "Error in error estimate": -0.009738406778208947
         },
         {
          "Error in error estimate": 0.0018052649828508849
         },
         {
          "Error in error estimate": 0.014107816282409591
         },
         {
          "Error in error estimate": -0.0017470078596553973
         },
         {
          "Error in error estimate": 0.004526968204508597
         },
         {
          "Error in error estimate": 0.0012098225865644352
         },
         {
          "Error in error estimate": 0.008059589198843226
         },
         {
          "Error in error estimate": 0.01655019144713102
         },
         {
          "Error in error estimate": 0.010585358206618406
         },
         {
          "Error in error estimate": 0.00938789683365035
         },
         {
          "Error in error estimate": 3.042631568431209e-05
         },
         {
          "Error in error estimate": -0.003706269858607447
         },
         {
          "Error in error estimate": -4.0951455287596694e-05
         },
         {
          "Error in error estimate": 0.012875186486466877
         },
         {
          "Error in error estimate": 0.009120471866237628
         },
         {
          "Error in error estimate": -0.0018035210711014327
         },
         {
          "Error in error estimate": 0.011303001457048406
         },
         {
          "Error in error estimate": 0.010812021566533353
         },
         {
          "Error in error estimate": 0.002418776293329039
         },
         {
          "Error in error estimate": -0.0023370556649704444
         },
         {
          "Error in error estimate": -0.0107382114945484
         },
         {
          "Error in error estimate": -0.007105881600380337
         },
         {
          "Error in error estimate": -0.003801093585197257
         },
         {
          "Error in error estimate": -0.00031389636616682703
         },
         {
          "Error in error estimate": 0.0019578661955981236
         },
         {
          "Error in error estimate": -0.001447166697004565
         },
         {
          "Error in error estimate": -0.0016055060748612349
         },
         {
          "Error in error estimate": 0.005847128878760571
         },
         {
          "Error in error estimate": 0.010155755669179756
         },
         {
          "Error in error estimate": -0.003706949268955456
         },
         {
          "Error in error estimate": 0.014134871227684392
         },
         {
          "Error in error estimate": -0.004582815833127474
         },
         {
          "Error in error estimate": -0.011687835932531365
         },
         {
          "Error in error estimate": 0.00485582898371234
         },
         {
          "Error in error estimate": -0.003471290972838187
         },
         {
          "Error in error estimate": 0.011302607079709898
         },
         {
          "Error in error estimate": 0.005831609199900112
         },
         {
          "Error in error estimate": 0.004341479350569277
         },
         {
          "Error in error estimate": -0.00035360570681969294
         },
         {
          "Error in error estimate": -0.006185931347714307
         },
         {
          "Error in error estimate": 0.009420975065025455
         },
         {
          "Error in error estimate": -0.0006330088486441454
         },
         {
          "Error in error estimate": 0.00017442753140062273
         },
         {
          "Error in error estimate": 0.006169466965829595
         },
         {
          "Error in error estimate": -0.017576687298782617
         },
         {
          "Error in error estimate": -0.01780165300785705
         },
         {
          "Error in error estimate": -0.007540160176584126
         },
         {
          "Error in error estimate": -0.006717914082264076
         },
         {
          "Error in error estimate": 0.006675272904596047
         },
         {
          "Error in error estimate": -0.0025563124740713983
         },
         {
          "Error in error estimate": 0.00636140261509871
         },
         {
          "Error in error estimate": -0.011591275641135157
         },
         {
          "Error in error estimate": 0.007305641105891741
         },
         {
          "Error in error estimate": -0.0016812141745589648
         },
         {
          "Error in error estimate": -0.0020179221888735055
         },
         {
          "Error in error estimate": 0.008218048442440368
         },
         {
          "Error in error estimate": -0.013492765104491072
         },
         {
          "Error in error estimate": 0.01102349433442587
         },
         {
          "Error in error estimate": 0.0007211393761573648
         },
         {
          "Error in error estimate": -0.002480498460829983
         },
         {
          "Error in error estimate": 0.004149593659503903
         },
         {
          "Error in error estimate": -0.0026988345080722342
         },
         {
          "Error in error estimate": 0.01102041544353144
         },
         {
          "Error in error estimate": -0.009378740635190563
         },
         {
          "Error in error estimate": 0.0007616365245469436
         },
         {
          "Error in error estimate": 0.0007095322878070132
         },
         {
          "Error in error estimate": 0.004558783274544176
         },
         {
          "Error in error estimate": 0.008962212178033696
         },
         {
          "Error in error estimate": -0.00048007243082517914
         },
         {
          "Error in error estimate": 0.008985569352335354
         },
         {
          "Error in error estimate": 0.009148234348349715
         },
         {
          "Error in error estimate": -0.000993696881676387
         },
         {
          "Error in error estimate": 0.004417352238888783
         },
         {
          "Error in error estimate": 0.0015889641198281734
         },
         {
          "Error in error estimate": 0.013521991677547557
         },
         {
          "Error in error estimate": -3.1308483648961882e-06
         },
         {
          "Error in error estimate": -0.0023389319784477003
         },
         {
          "Error in error estimate": 0.008722078662636412
         },
         {
          "Error in error estimate": 0.0038980026747429397
         },
         {
          "Error in error estimate": -0.0024980160620356184
         },
         {
          "Error in error estimate": 0.01626181349849562
         },
         {
          "Error in error estimate": 0.0003053796417000765
         },
         {
          "Error in error estimate": 0.010404832616170562
         },
         {
          "Error in error estimate": 0.0003731748239388655
         },
         {
          "Error in error estimate": 0.0011089806174586492
         },
         {
          "Error in error estimate": 0.014894159578068666
         },
         {
          "Error in error estimate": -0.0011546868040255565
         },
         {
          "Error in error estimate": 0.008659770093138536
         },
         {
          "Error in error estimate": -0.0033837828100596323
         },
         {
          "Error in error estimate": -0.0024922474915879955
         },
         {
          "Error in error estimate": 0.007871144048734624
         },
         {
          "Error in error estimate": 0.00910234256750389
         },
         {
          "Error in error estimate": -0.0009609545258882912
         },
         {
          "Error in error estimate": 0.010276393919633114
         },
         {
          "Error in error estimate": 0.014284948428987643
         },
         {
          "Error in error estimate": 0.011702195134027454
         },
         {
          "Error in error estimate": 0.0020508514765520958
         },
         {
          "Error in error estimate": 0.005197581689800446
         },
         {
          "Error in error estimate": 0.011422394603424285
         },
         {
          "Error in error estimate": -0.006617362228434592
         },
         {
          "Error in error estimate": 0.004761202057156744
         },
         {
          "Error in error estimate": -0.0026707764447354565
         },
         {
          "Error in error estimate": -0.0006775957531690024
         },
         {
          "Error in error estimate": -0.0008284571421639242
         },
         {
          "Error in error estimate": -0.012621504031294556
         },
         {
          "Error in error estimate": -0.005191071771802724
         },
         {
          "Error in error estimate": 0.005115953014041219
         },
         {
          "Error in error estimate": -0.009422314048343372
         },
         {
          "Error in error estimate": 0.009071726388160783
         },
         {
          "Error in error estimate": 0.005639154665705498
         },
         {
          "Error in error estimate": 0.0035795763052617335
         },
         {
          "Error in error estimate": -0.0074676671895301805
         }
        ]
       },
       "encoding": {
        "x": {
         "bin": {
          "maxbins": 20
         },
         "field": "Error in error estimate",
         "type": "quantitative"
        },
        "y": {
         "aggregate": "count",
         "type": "quantitative"
        }
       },
       "height": 100,
       "mark": {
        "color": "grey",
        "type": "bar"
       }
      },
      "image/png": "[encoded data removed]",
      "text/plain": [
       "<VegaLite 3 object>\n",
       "\n",
       "If you see this message, it means the renderer has not been properly enabled\n",
       "for the frontend that you are using. For more information, see\n",
       "https://altair-viz.github.io/user_guide/troubleshooting.html\n"
      ]
     },
     "execution_count": 16,
     "metadata": {},
     "output_type": "execute_result"
    }
   ],
   "source": [
    "source = pd.DataFrame({'Error in error estimate':error_in_error_estimate})\n",
    "\n",
    "alt.Chart(source, height=100).mark_bar(color='grey').encode(\n",
    "    alt.X(\"Error in error estimate:Q\", bin=alt.Bin(maxbins=20)),\n",
    "    y='count()',\n",
    ")"
   ]
  },
  {
   "cell_type": "markdown",
   "metadata": {},
   "source": [
    "The plot shows that the distribution of $\\mathcal E - \\hat{\\mathcal E}$ is slightly skewed to the right, meaning that, on average, our estimate of the generalization error is a little less than the true generalization error. So we still have the same problem as before, just to a much smaller extent."
   ]
  },
  {
   "cell_type": "markdown",
   "metadata": {},
   "source": [
    "Putting all of this together, we have to conclude that we cannot use the estimator defined in \\ref{empirical-err}: we would always be underestimating the generalization error. Moreover, the reason this happens is *not* that the past data is not representative of the future data because we are using the exact same `data_factory` function to generate both datasets. Furthermore, the amount we're off by depends on what kind of model we use (and perhaps other factors we didn't investigate), so we can't even know ahead of time how much correction might be necessary. \n",
    "\n",
    "This is really bad news for us. If we can't estimate ahead of time how our model will perform, how can we tell which model will be better than another? How can we tell if our model is better than random guessing?"
   ]
  },
  {
   "cell_type": "markdown",
   "metadata": {
    "tags": [
     "popout"
    ]
   },
   "source": [
    "##### EXERCISE\n",
    "\n",
    "The data factory we're using produces predictors and outcomes, but they are actually random numbers that have no relationship to each other. What if we use a data factory that uses the predictors to determine what the outcome is? Change the data factory code above to generate outcomes according to $y_i = x_1^2 + \\log(x_2) - x_4x_5$ and rerun our experiments. Is the result any different?"
   ]
  },
  {
   "cell_type": "markdown",
   "metadata": {
    "tags": [
     "popout"
    ]
   },
   "source": [
    "##### EXERCISE\n",
    "\n",
    "Repeat these experiments with a *classifier* of your choosing (e.g. `sklearn.ensemble.RandomForestClassifier`). You can use this code to generate data with binary outcomes:\n",
    "\n",
    "```\n",
    "def class_data_factory(n):\n",
    "    X = np.random.random((n,5)) # 5 predictors\n",
    "    y = np.random.randint(2, size=n)\n",
    "    return X,y\n",
    "```\n",
    "\n",
    "Use classification accuracy as your evaluation metric. Are your estimates of generalization error still biased downward?"
   ]
  },
  {
   "cell_type": "markdown",
   "metadata": {},
   "source": [
    "### Training and Test Sets"
   ]
  },
  {
   "cell_type": "markdown",
   "metadata": {},
   "source": [
    "Although things look bleak at the moment, there is actually a simple solution to our problem. All we have to do is split our data up into two subsamples: one that will be used to fit the model, and one that will be used to evaluate it. The data we use to fit the model is called a *training set* and the data we use to evaluate the model is called a *test set*. \n",
    "\n",
    "![](https://www.dataquest.io/wp-content/uploads/kaggle_train_test_split.svg)\n",
    "\n",
    "In other words, our new estimate of generalization error will be the *test error*:\n",
    "\n",
    "$$\n",
    "\\mathcal {\\hat E}_{\\mathcal T}(f) \n",
    "=\n",
    "\\frac{1}{n^{\\mathcal T}} \\sum_{i \\in \\mathcal{T}}  M(y_i, f_{\\mathcal S}(x_i))\n",
    "\\label{test-error}\n",
    "$$\n",
    "\n",
    "Where $\\mathcal T$ (for \"test\") and $\\mathcal S$ (for \"study\", since \"training\" also starts with a T) are a sets of indices indicating which observations are in the test and training sets, respectively. $n^{\\mathcal T}$ is the number of observations in the test set. The notation $f_{\\mathcal S}$ indicates that the model $f$ was fit using the training data $\\mathcal S$ and not the test data. \n",
    "\n",
    "Compare this to the *training error*, which is basically what we were using before:\n",
    "\n",
    "$$\n",
    "\\mathcal {\\hat E}_{\\mathcal S}(f) \n",
    "=\n",
    "\\frac{1}{n^{\\mathcal S}} \\sum_{i \\in \\mathcal{S}}  M(y_i, f_{\\mathcal S}(x_i))\n",
    "\\label{training-error}\n",
    "$$\n",
    "\n",
    "We'll demonstrate the use of the test set in code first and then explain why it works."
   ]
  },
  {
   "cell_type": "code",
   "execution_count": 17,
   "metadata": {
    "tags": [
     "hide_output"
    ]
   },
   "outputs": [],
   "source": [
    "def simulate_model_eval():\n",
    "    X,y = data_factory(1000)\n",
    "    \n",
    "    S = range(500) # training set\n",
    "    T = range(500,1000) # test set index\n",
    "    \n",
    "    X_train, y_train = X[S,:], y[S] # take the first 500 rows as training data\n",
    "    model = RandomForestRegressor(n_estimators=100)\n",
    "    model.fit(X_train, y_train)\n",
    "    \n",
    "    X_test, y_test = X[T,:], y[T] # take the last 500 rows as test data\n",
    "    ŷ_test = model.predict(X_test)\n",
    "    ê = metric(y_test, ŷ_test)\n",
    "    \n",
    "    X_future, y_future = data_factory(1000)\n",
    "    ŷ_future = model.predict(X_future)\n",
    "    e = metric(y_future, ŷ_future)\n",
    "    \n",
    "    return ê, e\n",
    "\n",
    "ês, es = zip(*[simulate_model_eval() for i in range(500)])"
   ]
  },
  {
   "cell_type": "code",
   "execution_count": 18,
   "metadata": {
    "tags": [
     "remove_input"
    ]
   },
   "outputs": [
    {
     "data": {
      "application/vnd.vegalite.v3+json": {
       "$schema": "https://vega.github.io/schema/vega-lite/v3.4.0.json",
       "config": {
        "mark": {
         "tooltip": null
        },
        "view": {
         "height": 300,
         "width": 400
        }
       },
       "data": {
        "name": "data-5c1350091608bb5a3052d129d04767a8"
       },
       "datasets": {
        "data-5c1350091608bb5a3052d129d04767a8": [
         {
          "estimated generalization error": 0.26041899328879115,
          "generalization error": 0.2592141302585868
         },
         {
          "estimated generalization error": 0.26929968315645936,
          "generalization error": 0.26023735543756393
         },
         {
          "estimated generalization error": 0.25566190490831947,
          "generalization error": 0.24913344880869814
         },
         {
          "estimated generalization error": 0.2716471924192129,
          "generalization error": 0.2556400764635608
         },
         {
          "estimated generalization error": 0.25686445162812943,
          "generalization error": 0.2640851365203172
         },
         {
          "estimated generalization error": 0.25901937572006384,
          "generalization error": 0.2593351695133629
         },
         {
          "estimated generalization error": 0.2522336232465299,
          "generalization error": 0.2491478723645239
         },
         {
          "estimated generalization error": 0.25775460867220523,
          "generalization error": 0.25935921573333265
         },
         {
          "estimated generalization error": 0.2579950699643748,
          "generalization error": 0.2674873118099066
         },
         {
          "estimated generalization error": 0.26996525149110195,
          "generalization error": 0.26001852213319476
         },
         {
          "estimated generalization error": 0.27703558761982894,
          "generalization error": 0.2603770737028008
         },
         {
          "estimated generalization error": 0.27292586554220594,
          "generalization error": 0.25928088052849474
         },
         {
          "estimated generalization error": 0.252623699495148,
          "generalization error": 0.24687278534749826
         },
         {
          "estimated generalization error": 0.2515022772290332,
          "generalization error": 0.25428897612031237
         },
         {
          "estimated generalization error": 0.25150962941715527,
          "generalization error": 0.25316822225069996
         },
         {
          "estimated generalization error": 0.26911890467333943,
          "generalization error": 0.24739422010401427
         },
         {
          "estimated generalization error": 0.2526765419678955,
          "generalization error": 0.25826275347964955
         },
         {
          "estimated generalization error": 0.25870551431373623,
          "generalization error": 0.26335241732416614
         },
         {
          "estimated generalization error": 0.25639483923339046,
          "generalization error": 0.261908028514653
         },
         {
          "estimated generalization error": 0.2659467709021188,
          "generalization error": 0.2615367493143483
         },
         {
          "estimated generalization error": 0.260714797272409,
          "generalization error": 0.26037208110049337
         },
         {
          "estimated generalization error": 0.2578824219389136,
          "generalization error": 0.25721877913777075
         },
         {
          "estimated generalization error": 0.25394344392850554,
          "generalization error": 0.26139979528471224
         },
         {
          "estimated generalization error": 0.2657452098394478,
          "generalization error": 0.2561580020025093
         },
         {
          "estimated generalization error": 0.2543578592047701,
          "generalization error": 0.2538628714309892
         },
         {
          "estimated generalization error": 0.25058307896797843,
          "generalization error": 0.2660834300618448
         },
         {
          "estimated generalization error": 0.2601885189204711,
          "generalization error": 0.26040096990198913
         },
         {
          "estimated generalization error": 0.25774947661002773,
          "generalization error": 0.2555409507645047
         },
         {
          "estimated generalization error": 0.26104894231521625,
          "generalization error": 0.257591281169505
         },
         {
          "estimated generalization error": 0.2659511815955542,
          "generalization error": 0.2554233484391166
         },
         {
          "estimated generalization error": 0.25997823321851343,
          "generalization error": 0.2519306359653792
         },
         {
          "estimated generalization error": 0.27182340891499146,
          "generalization error": 0.26409078363953076
         },
         {
          "estimated generalization error": 0.2528133776810075,
          "generalization error": 0.2609260128824377
         },
         {
          "estimated generalization error": 0.2615046978714824,
          "generalization error": 0.25965531397139724
         },
         {
          "estimated generalization error": 0.23952088959612938,
          "generalization error": 0.25264672004295863
         },
         {
          "estimated generalization error": 0.23631926195435488,
          "generalization error": 0.2545217134823113
         },
         {
          "estimated generalization error": 0.25321697430086915,
          "generalization error": 0.2520476046868562
         },
         {
          "estimated generalization error": 0.25647178304533574,
          "generalization error": 0.25263409462537
         },
         {
          "estimated generalization error": 0.26601608521700926,
          "generalization error": 0.25273250508395106
         },
         {
          "estimated generalization error": 0.2570187421189625,
          "generalization error": 0.2512710987797353
         },
         {
          "estimated generalization error": 0.253201388889093,
          "generalization error": 0.24639891666036204
         },
         {
          "estimated generalization error": 0.2654320377431326,
          "generalization error": 0.25406473077163366
         },
         {
          "estimated generalization error": 0.2609845831433218,
          "generalization error": 0.2543309734081265
         },
         {
          "estimated generalization error": 0.2710751120698826,
          "generalization error": 0.24982632090242912
         },
         {
          "estimated generalization error": 0.2513437088729164,
          "generalization error": 0.2583650115453958
         },
         {
          "estimated generalization error": 0.25081436492737136,
          "generalization error": 0.26023472788176916
         },
         {
          "estimated generalization error": 0.2570918905250068,
          "generalization error": 0.26329027868151217
         },
         {
          "estimated generalization error": 0.258583328997289,
          "generalization error": 0.2560989455861513
         },
         {
          "estimated generalization error": 0.2562732931233639,
          "generalization error": 0.25773624548128765
         },
         {
          "estimated generalization error": 0.23984870998023172,
          "generalization error": 0.26036110673114304
         },
         {
          "estimated generalization error": 0.26019930313384015,
          "generalization error": 0.2611657009966876
         },
         {
          "estimated generalization error": 0.2574946925295549,
          "generalization error": 0.2645837937588871
         },
         {
          "estimated generalization error": 0.2561562020609955,
          "generalization error": 0.2653202840096469
         },
         {
          "estimated generalization error": 0.25718432533185004,
          "generalization error": 0.2521771744578687
         },
         {
          "estimated generalization error": 0.258462177533745,
          "generalization error": 0.2620856148489461
         },
         {
          "estimated generalization error": 0.25994645155194723,
          "generalization error": 0.2580018297468945
         },
         {
          "estimated generalization error": 0.25593919186767344,
          "generalization error": 0.2678823776860503
         },
         {
          "estimated generalization error": 0.2774511000504241,
          "generalization error": 0.24558286504078183
         },
         {
          "estimated generalization error": 0.25889472687521153,
          "generalization error": 0.2636027457212765
         },
         {
          "estimated generalization error": 0.2529582606216083,
          "generalization error": 0.25000691745664644
         },
         {
          "estimated generalization error": 0.2600152319626585,
          "generalization error": 0.25890002560298564
         },
         {
          "estimated generalization error": 0.24295891654975138,
          "generalization error": 0.2524994126098465
         },
         {
          "estimated generalization error": 0.2635110711172151,
          "generalization error": 0.2511806155916792
         },
         {
          "estimated generalization error": 0.2497060371877707,
          "generalization error": 0.25785299477621926
         },
         {
          "estimated generalization error": 0.2583024363158297,
          "generalization error": 0.2630579546528277
         },
         {
          "estimated generalization error": 0.2618384361295737,
          "generalization error": 0.2506305249691483
         },
         {
          "estimated generalization error": 0.25480965531651895,
          "generalization error": 0.2567615561710645
         },
         {
          "estimated generalization error": 0.25597366041709024,
          "generalization error": 0.26481086276993665
         },
         {
          "estimated generalization error": 0.2516274998842503,
          "generalization error": 0.26845983775469906
         },
         {
          "estimated generalization error": 0.2614645414004759,
          "generalization error": 0.2598077205033011
         },
         {
          "estimated generalization error": 0.25495020033714905,
          "generalization error": 0.2559169547286721
         },
         {
          "estimated generalization error": 0.24675339627499845,
          "generalization error": 0.2539198737848966
         },
         {
          "estimated generalization error": 0.24666983255161948,
          "generalization error": 0.2550291392467367
         },
         {
          "estimated generalization error": 0.2529121665883566,
          "generalization error": 0.2593930140295644
         },
         {
          "estimated generalization error": 0.2440836745657578,
          "generalization error": 0.2589778571811575
         },
         {
          "estimated generalization error": 0.25153055552417697,
          "generalization error": 0.25513344069668564
         },
         {
          "estimated generalization error": 0.24849120903119182,
          "generalization error": 0.2608282772012998
         },
         {
          "estimated generalization error": 0.2474169234040495,
          "generalization error": 0.25111563359431865
         },
         {
          "estimated generalization error": 0.24976706716299718,
          "generalization error": 0.25066139564968776
         },
         {
          "estimated generalization error": 0.25596570320676654,
          "generalization error": 0.2576975549184657
         },
         {
          "estimated generalization error": 0.25896037244133413,
          "generalization error": 0.261030543039341
         },
         {
          "estimated generalization error": 0.2626486298609401,
          "generalization error": 0.2513688723498601
         },
         {
          "estimated generalization error": 0.2522039813010366,
          "generalization error": 0.25112648288059275
         },
         {
          "estimated generalization error": 0.24251809937973093,
          "generalization error": 0.25680031835236905
         },
         {
          "estimated generalization error": 0.25851443142037445,
          "generalization error": 0.2593981579052877
         },
         {
          "estimated generalization error": 0.2556870740056677,
          "generalization error": 0.25337089373976956
         },
         {
          "estimated generalization error": 0.25941715660406045,
          "generalization error": 0.25287127998911324
         },
         {
          "estimated generalization error": 0.2741872974448816,
          "generalization error": 0.25955888568771956
         },
         {
          "estimated generalization error": 0.2568464931185924,
          "generalization error": 0.24968199601468866
         },
         {
          "estimated generalization error": 0.2619112461501553,
          "generalization error": 0.2545921593663538
         },
         {
          "estimated generalization error": 0.2667582713721697,
          "generalization error": 0.2593324457396758
         },
         {
          "estimated generalization error": 0.25461750259680827,
          "generalization error": 0.2532169765116017
         },
         {
          "estimated generalization error": 0.2618175849399191,
          "generalization error": 0.26697429215820057
         },
         {
          "estimated generalization error": 0.2546071809155031,
          "generalization error": 0.251471476978835
         },
         {
          "estimated generalization error": 0.2640428161685195,
          "generalization error": 0.25468402142081487
         },
         {
          "estimated generalization error": 0.25332422015905104,
          "generalization error": 0.2508532122877544
         },
         {
          "estimated generalization error": 0.24820918948463944,
          "generalization error": 0.26095237476424205
         },
         {
          "estimated generalization error": 0.23616940942973097,
          "generalization error": 0.26011508111484544
         },
         {
          "estimated generalization error": 0.2524795083199124,
          "generalization error": 0.249779926549793
         },
         {
          "estimated generalization error": 0.2540355661941009,
          "generalization error": 0.2553974598314282
         },
         {
          "estimated generalization error": 0.26232336798530786,
          "generalization error": 0.25818813686319464
         },
         {
          "estimated generalization error": 0.2601124644260698,
          "generalization error": 0.2564462183927792
         },
         {
          "estimated generalization error": 0.25495182600411237,
          "generalization error": 0.25877488046230185
         },
         {
          "estimated generalization error": 0.2747805934505733,
          "generalization error": 0.2591144312255044
         },
         {
          "estimated generalization error": 0.265515474854785,
          "generalization error": 0.25844719866208105
         },
         {
          "estimated generalization error": 0.2526841227753724,
          "generalization error": 0.26106940953329283
         },
         {
          "estimated generalization error": 0.26765141203138526,
          "generalization error": 0.2594565616972262
         },
         {
          "estimated generalization error": 0.2640908767668949,
          "generalization error": 0.2501355112287301
         },
         {
          "estimated generalization error": 0.25539663615070163,
          "generalization error": 0.24770796339475418
         },
         {
          "estimated generalization error": 0.25139183419885014,
          "generalization error": 0.260668145741035
         },
         {
          "estimated generalization error": 0.2647384878948178,
          "generalization error": 0.25952116845365664
         },
         {
          "estimated generalization error": 0.26468474775616435,
          "generalization error": 0.2495506767860968
         },
         {
          "estimated generalization error": 0.2511912035628541,
          "generalization error": 0.24814527230876335
         },
         {
          "estimated generalization error": 0.25749411628530144,
          "generalization error": 0.26069475090488936
         },
         {
          "estimated generalization error": 0.2632534123272194,
          "generalization error": 0.2576060066845049
         },
         {
          "estimated generalization error": 0.26098753846482053,
          "generalization error": 0.26268306875316616
         },
         {
          "estimated generalization error": 0.2723592908951091,
          "generalization error": 0.2682245938355936
         },
         {
          "estimated generalization error": 0.24788857902731212,
          "generalization error": 0.2558010299301616
         },
         {
          "estimated generalization error": 0.25941053034451056,
          "generalization error": 0.2648742027240432
         },
         {
          "estimated generalization error": 0.2638736649953091,
          "generalization error": 0.25525614644208156
         },
         {
          "estimated generalization error": 0.25476599612265105,
          "generalization error": 0.2655208319755644
         },
         {
          "estimated generalization error": 0.25763378674650517,
          "generalization error": 0.2531230532574087
         },
         {
          "estimated generalization error": 0.25728073891271636,
          "generalization error": 0.24899280877533242
         },
         {
          "estimated generalization error": 0.2610347156201692,
          "generalization error": 0.25978484969045285
         },
         {
          "estimated generalization error": 0.25539111178723384,
          "generalization error": 0.2698867162931427
         },
         {
          "estimated generalization error": 0.24301714925104953,
          "generalization error": 0.25921572634689455
         },
         {
          "estimated generalization error": 0.26784569829950516,
          "generalization error": 0.26097121622400316
         },
         {
          "estimated generalization error": 0.2718515638924845,
          "generalization error": 0.25708696440399315
         },
         {
          "estimated generalization error": 0.2579643826371841,
          "generalization error": 0.25698323546253865
         },
         {
          "estimated generalization error": 0.26484206542530814,
          "generalization error": 0.2538417213410634
         },
         {
          "estimated generalization error": 0.2573617324496583,
          "generalization error": 0.25536103288992434
         },
         {
          "estimated generalization error": 0.2610061165934992,
          "generalization error": 0.25533026425685756
         },
         {
          "estimated generalization error": 0.2621324733720884,
          "generalization error": 0.25852248399587735
         },
         {
          "estimated generalization error": 0.2554165322014786,
          "generalization error": 0.25705593127086257
         },
         {
          "estimated generalization error": 0.25937039555524494,
          "generalization error": 0.24964656112586428
         },
         {
          "estimated generalization error": 0.24797237685345289,
          "generalization error": 0.2531846754823589
         },
         {
          "estimated generalization error": 0.2511096426240986,
          "generalization error": 0.25420854248501307
         },
         {
          "estimated generalization error": 0.25466189055146454,
          "generalization error": 0.253097738723683
         },
         {
          "estimated generalization error": 0.2543756439326191,
          "generalization error": 0.2492769911829232
         },
         {
          "estimated generalization error": 0.2573478995780582,
          "generalization error": 0.26222807351245864
         },
         {
          "estimated generalization error": 0.24758554284104597,
          "generalization error": 0.2592500924665438
         },
         {
          "estimated generalization error": 0.24622877615530106,
          "generalization error": 0.25710252324159
         },
         {
          "estimated generalization error": 0.25319149242905037,
          "generalization error": 0.2579071350786945
         },
         {
          "estimated generalization error": 0.24868587919657154,
          "generalization error": 0.2623912431767981
         },
         {
          "estimated generalization error": 0.2489176926103608,
          "generalization error": 0.2552185268785684
         },
         {
          "estimated generalization error": 0.2532599821237592,
          "generalization error": 0.25156840498447186
         },
         {
          "estimated generalization error": 0.25841868971355897,
          "generalization error": 0.2613507434000704
         },
         {
          "estimated generalization error": 0.2603074175615136,
          "generalization error": 0.24797283065528827
         },
         {
          "estimated generalization error": 0.2511460431987543,
          "generalization error": 0.2607959406313766
         },
         {
          "estimated generalization error": 0.2555033179051356,
          "generalization error": 0.25480793957067394
         },
         {
          "estimated generalization error": 0.25955738009096463,
          "generalization error": 0.2553396523179851
         },
         {
          "estimated generalization error": 0.2585323038644855,
          "generalization error": 0.25184778807834535
         },
         {
          "estimated generalization error": 0.2505643069903322,
          "generalization error": 0.25507078561106217
         },
         {
          "estimated generalization error": 0.24323436985714217,
          "generalization error": 0.24700507829099244
         },
         {
          "estimated generalization error": 0.26061269899663336,
          "generalization error": 0.25096024306816256
         },
         {
          "estimated generalization error": 0.26664837636529537,
          "generalization error": 0.26202704597309423
         },
         {
          "estimated generalization error": 0.2564086187153304,
          "generalization error": 0.25916662533694645
         },
         {
          "estimated generalization error": 0.26319889350435643,
          "generalization error": 0.2588404898719816
         },
         {
          "estimated generalization error": 0.25849412206494865,
          "generalization error": 0.24683282197994913
         },
         {
          "estimated generalization error": 0.2618695301779151,
          "generalization error": 0.2497456668330089
         },
         {
          "estimated generalization error": 0.24915435827260599,
          "generalization error": 0.2582611502965905
         },
         {
          "estimated generalization error": 0.26107137000206865,
          "generalization error": 0.2599581259978941
         },
         {
          "estimated generalization error": 0.257066524686508,
          "generalization error": 0.2549666914451866
         },
         {
          "estimated generalization error": 0.2661370907690872,
          "generalization error": 0.25764163640261417
         },
         {
          "estimated generalization error": 0.25707632699499905,
          "generalization error": 0.24929709098423683
         },
         {
          "estimated generalization error": 0.2700184349000047,
          "generalization error": 0.25783091537136604
         },
         {
          "estimated generalization error": 0.25930256048716216,
          "generalization error": 0.2558491672208295
         },
         {
          "estimated generalization error": 0.2629013735781309,
          "generalization error": 0.24966445171348664
         },
         {
          "estimated generalization error": 0.25779662031365513,
          "generalization error": 0.2600278668353261
         },
         {
          "estimated generalization error": 0.266515997120473,
          "generalization error": 0.2481259262470564
         },
         {
          "estimated generalization error": 0.2437644526247725,
          "generalization error": 0.2594974020175334
         },
         {
          "estimated generalization error": 0.2659010362594747,
          "generalization error": 0.25943502964415144
         },
         {
          "estimated generalization error": 0.24272010631819077,
          "generalization error": 0.26157722725695953
         },
         {
          "estimated generalization error": 0.2604382851227049,
          "generalization error": 0.25097794875839063
         },
         {
          "estimated generalization error": 0.26372184192426473,
          "generalization error": 0.25448392438919404
         },
         {
          "estimated generalization error": 0.24833651244835028,
          "generalization error": 0.2641306964398287
         },
         {
          "estimated generalization error": 0.2620453915399215,
          "generalization error": 0.2596079802821571
         },
         {
          "estimated generalization error": 0.2591952553387348,
          "generalization error": 0.2608635185009261
         },
         {
          "estimated generalization error": 0.24756626394631462,
          "generalization error": 0.25714323159184593
         },
         {
          "estimated generalization error": 0.25424502381777064,
          "generalization error": 0.261214197321759
         },
         {
          "estimated generalization error": 0.26991588506692077,
          "generalization error": 0.25203981273522175
         },
         {
          "estimated generalization error": 0.2665601353517304,
          "generalization error": 0.24869462074949425
         },
         {
          "estimated generalization error": 0.2682585158625334,
          "generalization error": 0.2582318112655629
         },
         {
          "estimated generalization error": 0.25244868489687794,
          "generalization error": 0.25006849908059214
         },
         {
          "estimated generalization error": 0.2521456438649675,
          "generalization error": 0.26587997643744604
         },
         {
          "estimated generalization error": 0.2588244846562477,
          "generalization error": 0.2601328823438713
         },
         {
          "estimated generalization error": 0.24960730408402368,
          "generalization error": 0.26482248218748156
         },
         {
          "estimated generalization error": 0.2619876563908506,
          "generalization error": 0.25850465450858484
         },
         {
          "estimated generalization error": 0.25686535558800666,
          "generalization error": 0.25424797536301724
         },
         {
          "estimated generalization error": 0.26334515679129483,
          "generalization error": 0.2564763359797353
         },
         {
          "estimated generalization error": 0.2573543780839722,
          "generalization error": 0.257179423997369
         },
         {
          "estimated generalization error": 0.26156738692373516,
          "generalization error": 0.26253921381577994
         },
         {
          "estimated generalization error": 0.26343382901415796,
          "generalization error": 0.25665646727539143
         },
         {
          "estimated generalization error": 0.24789152680791032,
          "generalization error": 0.2575709125008664
         },
         {
          "estimated generalization error": 0.25558708298185356,
          "generalization error": 0.24948306375079898
         },
         {
          "estimated generalization error": 0.2523681011331259,
          "generalization error": 0.25596159795921114
         },
         {
          "estimated generalization error": 0.2609775890726802,
          "generalization error": 0.26104574044647744
         },
         {
          "estimated generalization error": 0.26595193688172775,
          "generalization error": 0.2599222887771128
         },
         {
          "estimated generalization error": 0.2492580059283877,
          "generalization error": 0.26209190645166763
         },
         {
          "estimated generalization error": 0.2513941282907743,
          "generalization error": 0.2552660857502353
         },
         {
          "estimated generalization error": 0.2543994208025241,
          "generalization error": 0.2559503343046766
         },
         {
          "estimated generalization error": 0.26231567029354336,
          "generalization error": 0.26482841827154624
         },
         {
          "estimated generalization error": 0.26221504048862804,
          "generalization error": 0.2654504834743593
         },
         {
          "estimated generalization error": 0.24967714615946643,
          "generalization error": 0.25647235676597996
         },
         {
          "estimated generalization error": 0.27450679330176025,
          "generalization error": 0.25380612964378507
         },
         {
          "estimated generalization error": 0.26802210418917843,
          "generalization error": 0.26179555979837854
         },
         {
          "estimated generalization error": 0.2688207841522981,
          "generalization error": 0.260913554219616
         },
         {
          "estimated generalization error": 0.25645919088734537,
          "generalization error": 0.2546193887839188
         },
         {
          "estimated generalization error": 0.24829817362533088,
          "generalization error": 0.25671543716388084
         },
         {
          "estimated generalization error": 0.25399819145893243,
          "generalization error": 0.26267116937677387
         },
         {
          "estimated generalization error": 0.2614304797603738,
          "generalization error": 0.25581411797865283
         },
         {
          "estimated generalization error": 0.26401759065902014,
          "generalization error": 0.26871489664226417
         },
         {
          "estimated generalization error": 0.2546968125442023,
          "generalization error": 0.2589514347051783
         },
         {
          "estimated generalization error": 0.25877481727028295,
          "generalization error": 0.25963201699158905
         },
         {
          "estimated generalization error": 0.26104976491691484,
          "generalization error": 0.25812339948171253
         },
         {
          "estimated generalization error": 0.2661352533147441,
          "generalization error": 0.26240105641068906
         },
         {
          "estimated generalization error": 0.25682348546927436,
          "generalization error": 0.25342446059569984
         },
         {
          "estimated generalization error": 0.2501621947796944,
          "generalization error": 0.2658486014963771
         },
         {
          "estimated generalization error": 0.25902858739778967,
          "generalization error": 0.2581274049402685
         },
         {
          "estimated generalization error": 0.26053525268337924,
          "generalization error": 0.2579423836668748
         },
         {
          "estimated generalization error": 0.25341614855855105,
          "generalization error": 0.25531627483588404
         },
         {
          "estimated generalization error": 0.2548324545429143,
          "generalization error": 0.25744570689983015
         },
         {
          "estimated generalization error": 0.259490095484571,
          "generalization error": 0.25380301562253194
         },
         {
          "estimated generalization error": 0.25780795332955425,
          "generalization error": 0.2625675432834519
         },
         {
          "estimated generalization error": 0.24927458879353417,
          "generalization error": 0.2540365795851213
         },
         {
          "estimated generalization error": 0.2559854053403513,
          "generalization error": 0.254324208181903
         },
         {
          "estimated generalization error": 0.24733541686669502,
          "generalization error": 0.2559506018433708
         },
         {
          "estimated generalization error": 0.26129256097706766,
          "generalization error": 0.2578311837027949
         },
         {
          "estimated generalization error": 0.25922831144470726,
          "generalization error": 0.25824573586546135
         },
         {
          "estimated generalization error": 0.27520357898297054,
          "generalization error": 0.2509062844601898
         },
         {
          "estimated generalization error": 0.2729881729602321,
          "generalization error": 0.2654314109176552
         },
         {
          "estimated generalization error": 0.26110567481103086,
          "generalization error": 0.25826385687931824
         },
         {
          "estimated generalization error": 0.25318458163938207,
          "generalization error": 0.26094378307679583
         },
         {
          "estimated generalization error": 0.2633127908422383,
          "generalization error": 0.2590398942849123
         },
         {
          "estimated generalization error": 0.25812855887362784,
          "generalization error": 0.2512620056240817
         },
         {
          "estimated generalization error": 0.2677756361506165,
          "generalization error": 0.2677802382559137
         },
         {
          "estimated generalization error": 0.2626654008477633,
          "generalization error": 0.25875981993323166
         },
         {
          "estimated generalization error": 0.2500961835443508,
          "generalization error": 0.25451139197786293
         },
         {
          "estimated generalization error": 0.25090589969349697,
          "generalization error": 0.2587853035676027
         },
         {
          "estimated generalization error": 0.25238046406529857,
          "generalization error": 0.2563646136809801
         },
         {
          "estimated generalization error": 0.25640560741934554,
          "generalization error": 0.2614378961503067
         },
         {
          "estimated generalization error": 0.25877964924856656,
          "generalization error": 0.25176943658319273
         },
         {
          "estimated generalization error": 0.2454317953920182,
          "generalization error": 0.24912743921945252
         },
         {
          "estimated generalization error": 0.26414589093988383,
          "generalization error": 0.2665365768539985
         },
         {
          "estimated generalization error": 0.2615046050852964,
          "generalization error": 0.2604240339591634
         },
         {
          "estimated generalization error": 0.2505505074768054,
          "generalization error": 0.26261823851110966
         },
         {
          "estimated generalization error": 0.2603666363257917,
          "generalization error": 0.25870951494283584
         },
         {
          "estimated generalization error": 0.2716863128828688,
          "generalization error": 0.25425057441006804
         },
         {
          "estimated generalization error": 0.2496666172074467,
          "generalization error": 0.2572688138590396
         },
         {
          "estimated generalization error": 0.2665222345857494,
          "generalization error": 0.2607542456616157
         },
         {
          "estimated generalization error": 0.25025179884075777,
          "generalization error": 0.26008539285781723
         },
         {
          "estimated generalization error": 0.25473093360688415,
          "generalization error": 0.26431164930569445
         },
         {
          "estimated generalization error": 0.26280157975689883,
          "generalization error": 0.25780306515932727
         },
         {
          "estimated generalization error": 0.263773045427664,
          "generalization error": 0.26261830583208107
         },
         {
          "estimated generalization error": 0.2573707430705781,
          "generalization error": 0.2510033508793151
         },
         {
          "estimated generalization error": 0.27003878451214575,
          "generalization error": 0.24778126713514922
         },
         {
          "estimated generalization error": 0.2517079961950779,
          "generalization error": 0.25517305687166414
         },
         {
          "estimated generalization error": 0.258665462392894,
          "generalization error": 0.26164420046452525
         },
         {
          "estimated generalization error": 0.2559382222913085,
          "generalization error": 0.2548913065513028
         },
         {
          "estimated generalization error": 0.2693343603659813,
          "generalization error": 0.2618375772012428
         },
         {
          "estimated generalization error": 0.2657642539681634,
          "generalization error": 0.25342107662179514
         },
         {
          "estimated generalization error": 0.2590883686151314,
          "generalization error": 0.2496970823976118
         },
         {
          "estimated generalization error": 0.253200364230533,
          "generalization error": 0.26223403549698593
         },
         {
          "estimated generalization error": 0.2532786061422901,
          "generalization error": 0.2624360714595574
         },
         {
          "estimated generalization error": 0.26174505371209444,
          "generalization error": 0.2500610543509002
         },
         {
          "estimated generalization error": 0.2614178030227374,
          "generalization error": 0.2597161293490119
         },
         {
          "estimated generalization error": 0.261459719703533,
          "generalization error": 0.2638811435273475
         },
         {
          "estimated generalization error": 0.2631605568275935,
          "generalization error": 0.2546401383325287
         },
         {
          "estimated generalization error": 0.254944349023948,
          "generalization error": 0.25659795609805225
         },
         {
          "estimated generalization error": 0.2612306382041755,
          "generalization error": 0.25929753857194326
         },
         {
          "estimated generalization error": 0.25284020777385946,
          "generalization error": 0.2610269320158323
         },
         {
          "estimated generalization error": 0.2530855916880387,
          "generalization error": 0.2631985647576462
         },
         {
          "estimated generalization error": 0.25805962884507294,
          "generalization error": 0.24855051226510957
         },
         {
          "estimated generalization error": 0.26162578218104293,
          "generalization error": 0.25338638394192753
         },
         {
          "estimated generalization error": 0.25214380868746394,
          "generalization error": 0.2581748379131997
         },
         {
          "estimated generalization error": 0.25309056436744837,
          "generalization error": 0.26875175962876663
         },
         {
          "estimated generalization error": 0.2539674589889293,
          "generalization error": 0.2636861460480583
         },
         {
          "estimated generalization error": 0.25275084655175106,
          "generalization error": 0.25808432609082943
         },
         {
          "estimated generalization error": 0.2676000830314257,
          "generalization error": 0.250842502727637
         },
         {
          "estimated generalization error": 0.2577544800254349,
          "generalization error": 0.26499841186703904
         },
         {
          "estimated generalization error": 0.25870643688790684,
          "generalization error": 0.25588472438473203
         },
         {
          "estimated generalization error": 0.2562447363177247,
          "generalization error": 0.2587801416209096
         },
         {
          "estimated generalization error": 0.25262739186212213,
          "generalization error": 0.25479205477575834
         },
         {
          "estimated generalization error": 0.26323606751522716,
          "generalization error": 0.2631316619565266
         },
         {
          "estimated generalization error": 0.2575036499117484,
          "generalization error": 0.25125325360429934
         },
         {
          "estimated generalization error": 0.26472958759166293,
          "generalization error": 0.25828989693510096
         },
         {
          "estimated generalization error": 0.2644767098534545,
          "generalization error": 0.2528683712009859
         },
         {
          "estimated generalization error": 0.26054314623319547,
          "generalization error": 0.2688129999328768
         },
         {
          "estimated generalization error": 0.2465951489595033,
          "generalization error": 0.2533032547051452
         },
         {
          "estimated generalization error": 0.26518618571143476,
          "generalization error": 0.2550955498151828
         },
         {
          "estimated generalization error": 0.2754786415957717,
          "generalization error": 0.2679463786546898
         },
         {
          "estimated generalization error": 0.2470516496107834,
          "generalization error": 0.260952201554459
         },
         {
          "estimated generalization error": 0.2601597208792141,
          "generalization error": 0.2505580102199132
         },
         {
          "estimated generalization error": 0.2546156252464569,
          "generalization error": 0.2559815831968332
         },
         {
          "estimated generalization error": 0.24854606842051033,
          "generalization error": 0.2634727239414142
         },
         {
          "estimated generalization error": 0.25529817010156125,
          "generalization error": 0.25760870509785466
         },
         {
          "estimated generalization error": 0.25764251553753714,
          "generalization error": 0.25440544631651674
         },
         {
          "estimated generalization error": 0.25922674909368415,
          "generalization error": 0.260474614224644
         },
         {
          "estimated generalization error": 0.24723100174365037,
          "generalization error": 0.2735453320377118
         },
         {
          "estimated generalization error": 0.263608735224247,
          "generalization error": 0.25618419659092695
         },
         {
          "estimated generalization error": 0.25054607889389013,
          "generalization error": 0.25489004169194407
         },
         {
          "estimated generalization error": 0.2540099891874351,
          "generalization error": 0.26166128136284583
         },
         {
          "estimated generalization error": 0.26058877796721314,
          "generalization error": 0.263692386396131
         },
         {
          "estimated generalization error": 0.2534399988289364,
          "generalization error": 0.2638761163436446
         },
         {
          "estimated generalization error": 0.2527579960424175,
          "generalization error": 0.2626174996291103
         },
         {
          "estimated generalization error": 0.2572540131955724,
          "generalization error": 0.2582154059734552
         },
         {
          "estimated generalization error": 0.25433737726694006,
          "generalization error": 0.25149250258096456
         },
         {
          "estimated generalization error": 0.261080888731528,
          "generalization error": 0.25314478848304717
         },
         {
          "estimated generalization error": 0.25807871522592096,
          "generalization error": 0.26174278459887135
         },
         {
          "estimated generalization error": 0.2512068420530159,
          "generalization error": 0.26500307193970923
         },
         {
          "estimated generalization error": 0.2510799532316499,
          "generalization error": 0.2541395306272909
         },
         {
          "estimated generalization error": 0.24854048413725796,
          "generalization error": 0.2566148985115639
         },
         {
          "estimated generalization error": 0.2550554697938221,
          "generalization error": 0.2586322103368847
         },
         {
          "estimated generalization error": 0.2553844016339796,
          "generalization error": 0.2540809197537156
         },
         {
          "estimated generalization error": 0.2663855237188663,
          "generalization error": 0.25579156879390763
         },
         {
          "estimated generalization error": 0.2449359681888348,
          "generalization error": 0.252619903413825
         },
         {
          "estimated generalization error": 0.2532601007562005,
          "generalization error": 0.259972875211842
         },
         {
          "estimated generalization error": 0.2631420041114932,
          "generalization error": 0.2587549441858407
         },
         {
          "estimated generalization error": 0.25902393464710227,
          "generalization error": 0.259959582849606
         },
         {
          "estimated generalization error": 0.25479013836793873,
          "generalization error": 0.26310375722640533
         },
         {
          "estimated generalization error": 0.26014148717309604,
          "generalization error": 0.24884284378253363
         },
         {
          "estimated generalization error": 0.2636501183527303,
          "generalization error": 0.26172685566574044
         },
         {
          "estimated generalization error": 0.25046943449464887,
          "generalization error": 0.2584538976703244
         },
         {
          "estimated generalization error": 0.26381198772644454,
          "generalization error": 0.2586681453685999
         },
         {
          "estimated generalization error": 0.25849998164523796,
          "generalization error": 0.2605719792316958
         },
         {
          "estimated generalization error": 0.26453135835990904,
          "generalization error": 0.2587510751211926
         },
         {
          "estimated generalization error": 0.26147197258707866,
          "generalization error": 0.2686924865529193
         },
         {
          "estimated generalization error": 0.2578282135144576,
          "generalization error": 0.25311591698468244
         },
         {
          "estimated generalization error": 0.26071685335127653,
          "generalization error": 0.2674713310041342
         },
         {
          "estimated generalization error": 0.2638024718111824,
          "generalization error": 0.25410110425099036
         },
         {
          "estimated generalization error": 0.2528649889245008,
          "generalization error": 0.25671683082725394
         },
         {
          "estimated generalization error": 0.2657780416904752,
          "generalization error": 0.2596609858560139
         },
         {
          "estimated generalization error": 0.2500746575753527,
          "generalization error": 0.25572526326661277
         },
         {
          "estimated generalization error": 0.26057329402439616,
          "generalization error": 0.2550193305430839
         },
         {
          "estimated generalization error": 0.260581607796792,
          "generalization error": 0.2532466059083605
         },
         {
          "estimated generalization error": 0.25542035823083237,
          "generalization error": 0.2536139782486591
         },
         {
          "estimated generalization error": 0.2510625953388931,
          "generalization error": 0.2542212127580511
         },
         {
          "estimated generalization error": 0.26025282191903615,
          "generalization error": 0.2526283733152324
         },
         {
          "estimated generalization error": 0.24297591393087692,
          "generalization error": 0.2535629819167464
         },
         {
          "estimated generalization error": 0.2669700781567896,
          "generalization error": 0.2619811626552131
         },
         {
          "estimated generalization error": 0.2532287883069847,
          "generalization error": 0.26022447235040674
         },
         {
          "estimated generalization error": 0.2564738483673378,
          "generalization error": 0.2642838516786295
         },
         {
          "estimated generalization error": 0.27142614318287245,
          "generalization error": 0.2577099886428056
         },
         {
          "estimated generalization error": 0.25719910801085955,
          "generalization error": 0.2592286490072554
         },
         {
          "estimated generalization error": 0.2495235042182855,
          "generalization error": 0.2568621329320291
         },
         {
          "estimated generalization error": 0.24717074551053614,
          "generalization error": 0.2691749487059665
         },
         {
          "estimated generalization error": 0.2647257267575161,
          "generalization error": 0.2648465170576663
         },
         {
          "estimated generalization error": 0.2554814010148075,
          "generalization error": 0.25998628188887707
         },
         {
          "estimated generalization error": 0.25228775167949213,
          "generalization error": 0.2571352374210039
         },
         {
          "estimated generalization error": 0.2617104952627084,
          "generalization error": 0.24766143880479813
         },
         {
          "estimated generalization error": 0.2578618086109053,
          "generalization error": 0.2617078201701326
         },
         {
          "estimated generalization error": 0.2596280180258517,
          "generalization error": 0.251700312847516
         },
         {
          "estimated generalization error": 0.2624278195546194,
          "generalization error": 0.25986740938989467
         },
         {
          "estimated generalization error": 0.2526087330751248,
          "generalization error": 0.2553635287802584
         },
         {
          "estimated generalization error": 0.2570846446537876,
          "generalization error": 0.2612838146814554
         },
         {
          "estimated generalization error": 0.260331680265701,
          "generalization error": 0.2668113104046865
         },
         {
          "estimated generalization error": 0.27363304297232144,
          "generalization error": 0.26104359151101664
         },
         {
          "estimated generalization error": 0.2552688568688597,
          "generalization error": 0.2506029397785893
         },
         {
          "estimated generalization error": 0.25309983192706187,
          "generalization error": 0.2582366706489909
         },
         {
          "estimated generalization error": 0.2572995681731622,
          "generalization error": 0.26500346725098156
         },
         {
          "estimated generalization error": 0.25867457638260727,
          "generalization error": 0.2599229980844953
         },
         {
          "estimated generalization error": 0.24783833670424857,
          "generalization error": 0.25507297528212436
         },
         {
          "estimated generalization error": 0.25303534628646085,
          "generalization error": 0.25102840874214094
         },
         {
          "estimated generalization error": 0.24371982400808634,
          "generalization error": 0.26213754755534197
         },
         {
          "estimated generalization error": 0.24006283924997224,
          "generalization error": 0.2623264111401676
         },
         {
          "estimated generalization error": 0.2597195840494896,
          "generalization error": 0.25279290691359263
         },
         {
          "estimated generalization error": 0.26999506246012206,
          "generalization error": 0.2620339332473392
         },
         {
          "estimated generalization error": 0.2560367790022136,
          "generalization error": 0.26213230381639885
         },
         {
          "estimated generalization error": 0.2566862779437353,
          "generalization error": 0.25388880732624153
         },
         {
          "estimated generalization error": 0.25623909483573926,
          "generalization error": 0.25823943902534624
         },
         {
          "estimated generalization error": 0.2624891817837294,
          "generalization error": 0.2598446852199567
         },
         {
          "estimated generalization error": 0.26361173245100794,
          "generalization error": 0.2540107608272947
         },
         {
          "estimated generalization error": 0.2692117606533868,
          "generalization error": 0.2575403380635579
         },
         {
          "estimated generalization error": 0.2480152221472377,
          "generalization error": 0.2595080673905139
         },
         {
          "estimated generalization error": 0.27124833946391513,
          "generalization error": 0.2556840948372431
         },
         {
          "estimated generalization error": 0.2597109247619945,
          "generalization error": 0.25639061739548136
         },
         {
          "estimated generalization error": 0.2672161350565054,
          "generalization error": 0.25632625359626726
         },
         {
          "estimated generalization error": 0.2618269658320249,
          "generalization error": 0.2578281318273499
         },
         {
          "estimated generalization error": 0.2524306589816894,
          "generalization error": 0.24897857172402404
         },
         {
          "estimated generalization error": 0.2562183470360598,
          "generalization error": 0.262197557428441
         },
         {
          "estimated generalization error": 0.24257327711512403,
          "generalization error": 0.2541148646919493
         },
         {
          "estimated generalization error": 0.2570541537886495,
          "generalization error": 0.24687680383894786
         },
         {
          "estimated generalization error": 0.2650809080662603,
          "generalization error": 0.2588717586542169
         },
         {
          "estimated generalization error": 0.25182933896606835,
          "generalization error": 0.25397913691426083
         },
         {
          "estimated generalization error": 0.2548342577530059,
          "generalization error": 0.2576197514841165
         },
         {
          "estimated generalization error": 0.256867942064424,
          "generalization error": 0.2566049260406544
         },
         {
          "estimated generalization error": 0.24799359829282133,
          "generalization error": 0.2560365233180828
         },
         {
          "estimated generalization error": 0.25247640928679915,
          "generalization error": 0.2562996934752503
         },
         {
          "estimated generalization error": 0.2527293912478638,
          "generalization error": 0.25429700984967446
         },
         {
          "estimated generalization error": 0.25822461115885753,
          "generalization error": 0.2539131794190365
         },
         {
          "estimated generalization error": 0.27844101468838034,
          "generalization error": 0.252093210736338
         },
         {
          "estimated generalization error": 0.2651294129000569,
          "generalization error": 0.26271990726527195
         },
         {
          "estimated generalization error": 0.2538151397456236,
          "generalization error": 0.26014913230298425
         },
         {
          "estimated generalization error": 0.26060605106758955,
          "generalization error": 0.26043246667407094
         },
         {
          "estimated generalization error": 0.26047767495594815,
          "generalization error": 0.2595246504080244
         },
         {
          "estimated generalization error": 0.26056247406270205,
          "generalization error": 0.25318196788818786
         },
         {
          "estimated generalization error": 0.2627642742159075,
          "generalization error": 0.24536875115003876
         },
         {
          "estimated generalization error": 0.26959226749091936,
          "generalization error": 0.25809027360518644
         },
         {
          "estimated generalization error": 0.2521840969439139,
          "generalization error": 0.25309365940023854
         },
         {
          "estimated generalization error": 0.2628567150848771,
          "generalization error": 0.2607321146994238
         },
         {
          "estimated generalization error": 0.25349739577004116,
          "generalization error": 0.25473019312968903
         },
         {
          "estimated generalization error": 0.25080976471909305,
          "generalization error": 0.25072374515710194
         },
         {
          "estimated generalization error": 0.24759018656961404,
          "generalization error": 0.2581075816308699
         },
         {
          "estimated generalization error": 0.25622594244309393,
          "generalization error": 0.2524621210266574
         },
         {
          "estimated generalization error": 0.25275957776633684,
          "generalization error": 0.26166001600955113
         },
         {
          "estimated generalization error": 0.26626935952416947,
          "generalization error": 0.25583045369013707
         },
         {
          "estimated generalization error": 0.2521561379749101,
          "generalization error": 0.2616954695790429
         },
         {
          "estimated generalization error": 0.26700968013092224,
          "generalization error": 0.260943010363137
         },
         {
          "estimated generalization error": 0.27054608942859015,
          "generalization error": 0.259404341643521
         },
         {
          "estimated generalization error": 0.2540256030061328,
          "generalization error": 0.2610310136431164
         },
         {
          "estimated generalization error": 0.26031472096768,
          "generalization error": 0.2560722428918947
         },
         {
          "estimated generalization error": 0.2561997910901658,
          "generalization error": 0.25681320168759125
         },
         {
          "estimated generalization error": 0.2528583203700944,
          "generalization error": 0.2567176570739533
         },
         {
          "estimated generalization error": 0.25864534142453227,
          "generalization error": 0.2680932145317885
         },
         {
          "estimated generalization error": 0.2645035536242684,
          "generalization error": 0.2564402802663994
         },
         {
          "estimated generalization error": 0.25981129645183987,
          "generalization error": 0.2539149680927182
         },
         {
          "estimated generalization error": 0.25511616694763656,
          "generalization error": 0.2575084050823863
         },
         {
          "estimated generalization error": 0.2744038706762035,
          "generalization error": 0.26521156505843463
         },
         {
          "estimated generalization error": 0.26421959857871674,
          "generalization error": 0.24786786181338624
         },
         {
          "estimated generalization error": 0.2500310758673981,
          "generalization error": 0.256051454400207
         },
         {
          "estimated generalization error": 0.24376830472104485,
          "generalization error": 0.250547628551585
         },
         {
          "estimated generalization error": 0.25407291800157544,
          "generalization error": 0.260871680333064
         },
         {
          "estimated generalization error": 0.2582441407140414,
          "generalization error": 0.25860239002778007
         },
         {
          "estimated generalization error": 0.252437207901964,
          "generalization error": 0.24955260646396932
         },
         {
          "estimated generalization error": 0.2569264983059707,
          "generalization error": 0.25911947878085767
         },
         {
          "estimated generalization error": 0.2478321035565137,
          "generalization error": 0.2673098126220136
         },
         {
          "estimated generalization error": 0.26868162834516557,
          "generalization error": 0.25964617969074855
         },
         {
          "estimated generalization error": 0.24955438731407267,
          "generalization error": 0.2583962750248827
         },
         {
          "estimated generalization error": 0.25713541800873463,
          "generalization error": 0.26298244417437283
         },
         {
          "estimated generalization error": 0.2667686063967967,
          "generalization error": 0.26459512847251665
         },
         {
          "estimated generalization error": 0.24967629905921565,
          "generalization error": 0.2596397712155425
         },
         {
          "estimated generalization error": 0.2525294415377118,
          "generalization error": 0.25683715397097684
         },
         {
          "estimated generalization error": 0.26763320480467745,
          "generalization error": 0.25697003829090287
         },
         {
          "estimated generalization error": 0.254885009528257,
          "generalization error": 0.2581098909304079
         },
         {
          "estimated generalization error": 0.24897035144362345,
          "generalization error": 0.259387086596105
         },
         {
          "estimated generalization error": 0.2582453746732108,
          "generalization error": 0.26136710028020455
         },
         {
          "estimated generalization error": 0.26035809817803696,
          "generalization error": 0.25994866761697516
         },
         {
          "estimated generalization error": 0.25983204469858145,
          "generalization error": 0.2570375521601394
         },
         {
          "estimated generalization error": 0.25390027430937,
          "generalization error": 0.2584391097544469
         },
         {
          "estimated generalization error": 0.2609495174234437,
          "generalization error": 0.25964846103355854
         },
         {
          "estimated generalization error": 0.2578060211023341,
          "generalization error": 0.25804127747651107
         },
         {
          "estimated generalization error": 0.25295293739194796,
          "generalization error": 0.24954648893013082
         },
         {
          "estimated generalization error": 0.26040337449426304,
          "generalization error": 0.25403947916808467
         },
         {
          "estimated generalization error": 0.25102093479387866,
          "generalization error": 0.25670040784412723
         },
         {
          "estimated generalization error": 0.24457127083195424,
          "generalization error": 0.25659211719210806
         },
         {
          "estimated generalization error": 0.2526504763999473,
          "generalization error": 0.26674353797308015
         },
         {
          "estimated generalization error": 0.2571564776359435,
          "generalization error": 0.2617622996697192
         },
         {
          "estimated generalization error": 0.2611442823889865,
          "generalization error": 0.25286569311706547
         },
         {
          "estimated generalization error": 0.26238574580715057,
          "generalization error": 0.25399558630835306
         },
         {
          "estimated generalization error": 0.273811708458039,
          "generalization error": 0.25685313051769265
         },
         {
          "estimated generalization error": 0.2485644610397283,
          "generalization error": 0.2583240638442525
         },
         {
          "estimated generalization error": 0.2595200070802983,
          "generalization error": 0.2577146604565662
         },
         {
          "estimated generalization error": 0.254010865316495,
          "generalization error": 0.2529247730065565
         },
         {
          "estimated generalization error": 0.2689497514160079,
          "generalization error": 0.25205006366621446
         },
         {
          "estimated generalization error": 0.25495713383250884,
          "generalization error": 0.2573372583800025
         },
         {
          "estimated generalization error": 0.2637945084693077,
          "generalization error": 0.2567757479310251
         },
         {
          "estimated generalization error": 0.2626447902377993,
          "generalization error": 0.2706637628030803
         },
         {
          "estimated generalization error": 0.2619658069869398,
          "generalization error": 0.25790167694246946
         },
         {
          "estimated generalization error": 0.2570992464947659,
          "generalization error": 0.2602772824965846
         },
         {
          "estimated generalization error": 0.2551847916644038,
          "generalization error": 0.26800966486320477
         },
         {
          "estimated generalization error": 0.2504305992530399,
          "generalization error": 0.2578869532646685
         },
         {
          "estimated generalization error": 0.2539754842407698,
          "generalization error": 0.25585077661459316
         },
         {
          "estimated generalization error": 0.25798236011080367,
          "generalization error": 0.26254115155178576
         },
         {
          "estimated generalization error": 0.2591471487966472,
          "generalization error": 0.26324576686168505
         },
         {
          "estimated generalization error": 0.2681826518453515,
          "generalization error": 0.2583906162392773
         },
         {
          "estimated generalization error": 0.2638659640537166,
          "generalization error": 0.2650959658129063
         },
         {
          "estimated generalization error": 0.26871704394207285,
          "generalization error": 0.25835445226371373
         },
         {
          "estimated generalization error": 0.25784151572399006,
          "generalization error": 0.2601037070009394
         },
         {
          "estimated generalization error": 0.2671816969250103,
          "generalization error": 0.2576126576070141
         },
         {
          "estimated generalization error": 0.24982912261571283,
          "generalization error": 0.26079963842578197
         },
         {
          "estimated generalization error": 0.2555631496809153,
          "generalization error": 0.26456917148271997
         },
         {
          "estimated generalization error": 0.24621527772703686,
          "generalization error": 0.25692878761826543
         },
         {
          "estimated generalization error": 0.2553108829585763,
          "generalization error": 0.2513494714144909
         },
         {
          "estimated generalization error": 0.2643766194942971,
          "generalization error": 0.26261830992964397
         },
         {
          "estimated generalization error": 0.2508101435488353,
          "generalization error": 0.2617946556728092
         },
         {
          "estimated generalization error": 0.2412372221405152,
          "generalization error": 0.2613031843646354
         },
         {
          "estimated generalization error": 0.2583611368567655,
          "generalization error": 0.26407369073241876
         },
         {
          "estimated generalization error": 0.25030590822775467,
          "generalization error": 0.2632771792312515
         },
         {
          "estimated generalization error": 0.25800503430536764,
          "generalization error": 0.2524056089928163
         },
         {
          "estimated generalization error": 0.24530013809359535,
          "generalization error": 0.2544251406867277
         },
         {
          "estimated generalization error": 0.2580297521062314,
          "generalization error": 0.2623897244147968
         },
         {
          "estimated generalization error": 0.2537342418658211,
          "generalization error": 0.25760843000067873
         },
         {
          "estimated generalization error": 0.2489756310838431,
          "generalization error": 0.2573294754152324
         },
         {
          "estimated generalization error": 0.2480339888252105,
          "generalization error": 0.24966682583529673
         },
         {
          "estimated generalization error": 0.2559459145988477,
          "generalization error": 0.2540745956021019
         },
         {
          "estimated generalization error": 0.2551486130538852,
          "generalization error": 0.26575707740331733
         },
         {
          "estimated generalization error": 0.25888790360561315,
          "generalization error": 0.2575924348908643
         },
         {
          "estimated generalization error": 0.25847163440748294,
          "generalization error": 0.26015776533731516
         },
         {
          "estimated generalization error": 0.2756187874921241,
          "generalization error": 0.25422302491092974
         },
         {
          "estimated generalization error": 0.2618002847950321,
          "generalization error": 0.262866847026552
         },
         {
          "estimated generalization error": 0.24961130600565032,
          "generalization error": 0.2590589522288484
         },
         {
          "estimated generalization error": 0.26187751021486433,
          "generalization error": 0.25899616185280594
         },
         {
          "estimated generalization error": 0.2608239294532676,
          "generalization error": 0.26113134259608556
         },
         {
          "estimated generalization error": 0.2595167272684781,
          "generalization error": 0.25723311337028953
         },
         {
          "estimated generalization error": 0.2645409685240711,
          "generalization error": 0.25605532440539763
         },
         {
          "estimated generalization error": 0.26151942189218175,
          "generalization error": 0.25783743910570434
         },
         {
          "estimated generalization error": 0.2599116526286101,
          "generalization error": 0.25370326060661363
         },
         {
          "estimated generalization error": 0.26627341032408036,
          "generalization error": 0.25692785560312825
         },
         {
          "estimated generalization error": 0.26109307590599135,
          "generalization error": 0.25274257739778405
         },
         {
          "estimated generalization error": 0.2633590795491655,
          "generalization error": 0.2621283651594256
         }
        ]
       },
       "encoding": {
        "color": {
         "field": "Quantity",
         "type": "nominal"
        },
        "x": {
         "bin": {
          "maxbins": 100
         },
         "field": "error",
         "type": "quantitative"
        },
        "y": {
         "aggregate": "count",
         "stack": null,
         "type": "quantitative"
        }
       },
       "height": 100,
       "mark": {
        "interpolate": "step",
        "opacity": 0.3,
        "type": "area"
       },
       "transform": [
        {
         "as": [
          "Quantity",
          "error"
         ],
         "fold": [
          "estimated generalization error",
          "generalization error"
         ]
        }
       ]
      },
      "image/png": "[encoded data removed]",
      "text/plain": [
       "<VegaLite 3 object>\n",
       "\n",
       "If you see this message, it means the renderer has not been properly enabled\n",
       "for the frontend that you are using. For more information, see\n",
       "https://altair-viz.github.io/user_guide/troubleshooting.html\n"
      ]
     },
     "execution_count": 18,
     "metadata": {},
     "output_type": "execute_result"
    }
   ],
   "source": [
    "import pandas as pd\n",
    "import altair as alt\n",
    "\n",
    "source = pd.DataFrame({\n",
    "    'estimated generalization error':ês,\n",
    "    'generalization error':es\n",
    "})\n",
    "\n",
    "alt.Chart(source, height=100).transform_fold(\n",
    "    ['estimated generalization error', 'generalization error'],\n",
    "    as_=['Quantity', 'error']\n",
    ").mark_area(\n",
    "    opacity=0.3,\n",
    "    interpolate='step'\n",
    ").encode(\n",
    "    alt.X('error:Q', bin=alt.Bin(maxbins=100)),\n",
    "    alt.Y('count()', stack=None),\n",
    "    alt.Color('Quantity:N')\n",
    ")"
   ]
  },
  {
   "cell_type": "markdown",
   "metadata": {},
   "source": [
    "This looks much, much better than it did when we were using random forests before. Now our estimates of generalization error are quite good on average. "
   ]
  },
  {
   "cell_type": "markdown",
   "metadata": {},
   "source": [
    "To figure out why this works we have to think about what the difference is between the test set $(X^{\\mathcal T}, y^{\\mathcal T})$ and the full observed data $(X, y)$ in terms of how well each of those sets approximate the future data $(X^\\dagger, y^\\dagger)$. In terms of what the data themselves are, there is clearly no substantive difference between the test set and the full observed data except that the test set is a subset of the observed data. But using a smaller random sample to estimate the generalization error isn't what's fixing the problem, which we can substantiate with an experiment:"
   ]
  },
  {
   "cell_type": "code",
   "execution_count": 21,
   "metadata": {
    "tags": [
     "hide_output"
    ]
   },
   "outputs": [],
   "source": [
    "def simulate_model_eval():\n",
    "    X,y = data_factory(1000)\n",
    "    \n",
    "    T = range(500,1000) # subset index\n",
    "    \n",
    "    model = RandomForestRegressor(n_estimators=100)\n",
    "    model.fit(X, y) # fit on the full dataset\n",
    "    \n",
    "    X_test, y_test = X[T,:], y[T] # take the last 500 rows to estimate the generalization error\n",
    "    ŷ_test = model.predict(X_test)\n",
    "    ê = metric(y_test, ŷ_test)\n",
    "    \n",
    "    X_future, y_future = data_factory(1000)\n",
    "    ŷ_future = model.predict(X_future)\n",
    "    e = metric(y_future, ŷ_future)\n",
    "    \n",
    "    return ê, e\n",
    "\n",
    "ês, es = zip(*[simulate_model_eval() for i in range(100)])"
   ]
  },
  {
   "cell_type": "code",
   "execution_count": 22,
   "metadata": {
    "tags": [
     "remove_input"
    ]
   },
   "outputs": [
    {
     "data": {
      "application/vnd.vegalite.v3+json": {
       "$schema": "https://vega.github.io/schema/vega-lite/v3.4.0.json",
       "config": {
        "mark": {
         "tooltip": null
        },
        "view": {
         "height": 300,
         "width": 400
        }
       },
       "data": {
        "name": "data-3819a36e38f5de5d7711b2b81aa9d278"
       },
       "datasets": {
        "data-3819a36e38f5de5d7711b2b81aa9d278": [
         {
          "estimated generalization error": 0.09543916946746082,
          "generalization error": 0.2644089563321793
         },
         {
          "estimated generalization error": 0.09220570528616884,
          "generalization error": 0.2526949524050484
         },
         {
          "estimated generalization error": 0.09056700829538238,
          "generalization error": 0.2563165088723484
         },
         {
          "estimated generalization error": 0.09597826982681115,
          "generalization error": 0.2592026860988994
         },
         {
          "estimated generalization error": 0.09339622643565551,
          "generalization error": 0.2594958864055549
         },
         {
          "estimated generalization error": 0.09185026284876238,
          "generalization error": 0.2578830600650732
         },
         {
          "estimated generalization error": 0.09393929784939813,
          "generalization error": 0.25142807024113395
         },
         {
          "estimated generalization error": 0.0915128766950744,
          "generalization error": 0.2610611087251464
         },
         {
          "estimated generalization error": 0.09699763521949327,
          "generalization error": 0.25405016713658857
         },
         {
          "estimated generalization error": 0.09779094031426791,
          "generalization error": 0.2616718743889536
         },
         {
          "estimated generalization error": 0.09371640948115102,
          "generalization error": 0.25235245563625763
         },
         {
          "estimated generalization error": 0.0895134685154274,
          "generalization error": 0.24572087843393817
         },
         {
          "estimated generalization error": 0.09254533883753134,
          "generalization error": 0.25297473615034777
         },
         {
          "estimated generalization error": 0.09705292852075276,
          "generalization error": 0.2617264589120681
         },
         {
          "estimated generalization error": 0.09566926976980207,
          "generalization error": 0.258740770033068
         },
         {
          "estimated generalization error": 0.09497934014723566,
          "generalization error": 0.253256714468941
         },
         {
          "estimated generalization error": 0.0932996335761056,
          "generalization error": 0.24483720649343188
         },
         {
          "estimated generalization error": 0.0929884838822802,
          "generalization error": 0.2553048854130055
         },
         {
          "estimated generalization error": 0.10210591238985621,
          "generalization error": 0.2534696437993938
         },
         {
          "estimated generalization error": 0.09582406848619976,
          "generalization error": 0.25358088152027153
         },
         {
          "estimated generalization error": 0.09836162791822688,
          "generalization error": 0.2502369480422271
         },
         {
          "estimated generalization error": 0.09587582506050085,
          "generalization error": 0.2576580472345003
         },
         {
          "estimated generalization error": 0.0980536752217511,
          "generalization error": 0.2650443066437566
         },
         {
          "estimated generalization error": 0.09491820628343088,
          "generalization error": 0.25532398132234463
         },
         {
          "estimated generalization error": 0.09029519818069152,
          "generalization error": 0.2549512959726191
         },
         {
          "estimated generalization error": 0.09297002227155417,
          "generalization error": 0.26383079781042246
         },
         {
          "estimated generalization error": 0.09335186119542693,
          "generalization error": 0.25320848765407866
         },
         {
          "estimated generalization error": 0.09435520164789361,
          "generalization error": 0.2515022729259314
         },
         {
          "estimated generalization error": 0.09419683532325981,
          "generalization error": 0.24858722835652264
         },
         {
          "estimated generalization error": 0.09602389436299043,
          "generalization error": 0.2576077503907374
         },
         {
          "estimated generalization error": 0.0948683452105743,
          "generalization error": 0.25958549221188587
         },
         {
          "estimated generalization error": 0.09933963956040602,
          "generalization error": 0.24967210123950892
         },
         {
          "estimated generalization error": 0.0980245111830174,
          "generalization error": 0.2525763526613426
         },
         {
          "estimated generalization error": 0.09441201806304247,
          "generalization error": 0.2512580314857217
         },
         {
          "estimated generalization error": 0.09446974632007896,
          "generalization error": 0.25540927253176327
         },
         {
          "estimated generalization error": 0.09267494070023168,
          "generalization error": 0.248389094438288
         },
         {
          "estimated generalization error": 0.09724399556107341,
          "generalization error": 0.2551105963528254
         },
         {
          "estimated generalization error": 0.09608256348213114,
          "generalization error": 0.2536707613562693
         },
         {
          "estimated generalization error": 0.09467956252797974,
          "generalization error": 0.2573622047003947
         },
         {
          "estimated generalization error": 0.0913722003082173,
          "generalization error": 0.26008052983153424
         },
         {
          "estimated generalization error": 0.099319404202402,
          "generalization error": 0.2629043591389926
         },
         {
          "estimated generalization error": 0.09737791490758045,
          "generalization error": 0.2587409168132873
         },
         {
          "estimated generalization error": 0.09517096352446133,
          "generalization error": 0.26216726744987945
         },
         {
          "estimated generalization error": 0.0928825374487783,
          "generalization error": 0.25491286158288146
         },
         {
          "estimated generalization error": 0.09240706641495572,
          "generalization error": 0.2464078796040498
         },
         {
          "estimated generalization error": 0.0923784625271833,
          "generalization error": 0.2543516053753479
         },
         {
          "estimated generalization error": 0.0989968888692972,
          "generalization error": 0.25888195420843957
         },
         {
          "estimated generalization error": 0.08835104312624582,
          "generalization error": 0.2555833266638872
         },
         {
          "estimated generalization error": 0.09072185594833616,
          "generalization error": 0.2586381912715467
         },
         {
          "estimated generalization error": 0.09441028596421053,
          "generalization error": 0.2581203092723257
         },
         {
          "estimated generalization error": 0.09318946730500292,
          "generalization error": 0.2565711216532163
         },
         {
          "estimated generalization error": 0.09790521024160546,
          "generalization error": 0.2466179728426439
         },
         {
          "estimated generalization error": 0.09807336972358337,
          "generalization error": 0.2645640107901604
         },
         {
          "estimated generalization error": 0.0958673292185704,
          "generalization error": 0.25275002131718977
         },
         {
          "estimated generalization error": 0.0951810395851102,
          "generalization error": 0.25193241731759086
         },
         {
          "estimated generalization error": 0.09748940121198542,
          "generalization error": 0.25221706151126916
         },
         {
          "estimated generalization error": 0.0918526779372946,
          "generalization error": 0.25316772459382086
         },
         {
          "estimated generalization error": 0.09280035225041344,
          "generalization error": 0.25818479145742307
         },
         {
          "estimated generalization error": 0.09695549819332969,
          "generalization error": 0.2546125225646381
         },
         {
          "estimated generalization error": 0.09060352552789777,
          "generalization error": 0.2577562066220945
         },
         {
          "estimated generalization error": 0.09565052747199994,
          "generalization error": 0.2579203400142177
         },
         {
          "estimated generalization error": 0.09201351908879624,
          "generalization error": 0.2547129296919829
         },
         {
          "estimated generalization error": 0.09326611615765122,
          "generalization error": 0.25641226646813947
         },
         {
          "estimated generalization error": 0.0983379105069299,
          "generalization error": 0.2587218746797695
         },
         {
          "estimated generalization error": 0.08934697899772673,
          "generalization error": 0.2525688935471178
         },
         {
          "estimated generalization error": 0.0931942168158491,
          "generalization error": 0.2506660084966152
         },
         {
          "estimated generalization error": 0.09303723981218087,
          "generalization error": 0.2629449950459589
         },
         {
          "estimated generalization error": 0.09379722774953113,
          "generalization error": 0.25247114905432994
         },
         {
          "estimated generalization error": 0.09560104887590148,
          "generalization error": 0.2648923766454755
         },
         {
          "estimated generalization error": 0.09637058072287079,
          "generalization error": 0.26234950893646375
         },
         {
          "estimated generalization error": 0.09310970130117995,
          "generalization error": 0.26023728847665195
         },
         {
          "estimated generalization error": 0.0962308665093516,
          "generalization error": 0.2561903222701869
         },
         {
          "estimated generalization error": 0.10134468032096862,
          "generalization error": 0.2408873217635391
         },
         {
          "estimated generalization error": 0.09409397040640226,
          "generalization error": 0.2623174078485739
         },
         {
          "estimated generalization error": 0.09000461029293123,
          "generalization error": 0.25994206946589166
         },
         {
          "estimated generalization error": 0.09620899997819107,
          "generalization error": 0.25835393625167896
         },
         {
          "estimated generalization error": 0.0939004620491994,
          "generalization error": 0.25515831270590755
         },
         {
          "estimated generalization error": 0.09234995873346358,
          "generalization error": 0.24980758826854652
         },
         {
          "estimated generalization error": 0.09590025029232171,
          "generalization error": 0.2540387525638853
         },
         {
          "estimated generalization error": 0.09139936033255382,
          "generalization error": 0.25305155300111154
         },
         {
          "estimated generalization error": 0.09476676720847044,
          "generalization error": 0.2500735695994807
         },
         {
          "estimated generalization error": 0.09391679241147288,
          "generalization error": 0.24942236045643348
         },
         {
          "estimated generalization error": 0.09686979852541659,
          "generalization error": 0.2461261465636417
         },
         {
          "estimated generalization error": 0.0963143577547664,
          "generalization error": 0.2509213918250348
         },
         {
          "estimated generalization error": 0.09315161186390468,
          "generalization error": 0.2565916571482297
         },
         {
          "estimated generalization error": 0.09547829692161301,
          "generalization error": 0.26142226127680634
         },
         {
          "estimated generalization error": 0.09409019942954878,
          "generalization error": 0.2634103912959213
         },
         {
          "estimated generalization error": 0.09680364894958832,
          "generalization error": 0.2571845565033752
         },
         {
          "estimated generalization error": 0.09526418461781834,
          "generalization error": 0.26315071064978285
         },
         {
          "estimated generalization error": 0.09292011959863555,
          "generalization error": 0.2570203019092201
         },
         {
          "estimated generalization error": 0.09524730999763176,
          "generalization error": 0.25123867131858885
         },
         {
          "estimated generalization error": 0.09034992659038503,
          "generalization error": 0.25875321115230515
         },
         {
          "estimated generalization error": 0.0923484890267265,
          "generalization error": 0.2614719412912274
         },
         {
          "estimated generalization error": 0.09117996363204864,
          "generalization error": 0.2593891768769952
         },
         {
          "estimated generalization error": 0.10019398592480072,
          "generalization error": 0.2604759348787084
         },
         {
          "estimated generalization error": 0.0976130652429048,
          "generalization error": 0.25702845595407675
         },
         {
          "estimated generalization error": 0.09887008818031366,
          "generalization error": 0.2507486020225548
         },
         {
          "estimated generalization error": 0.09880829410955702,
          "generalization error": 0.2683910927829322
         },
         {
          "estimated generalization error": 0.09532451650422938,
          "generalization error": 0.249789894135375
         },
         {
          "estimated generalization error": 0.09560078825034554,
          "generalization error": 0.2600253509736791
         }
        ]
       },
       "encoding": {
        "color": {
         "field": "Quantity",
         "type": "nominal"
        },
        "x": {
         "bin": {
          "maxbins": 100
         },
         "field": "error",
         "type": "quantitative"
        },
        "y": {
         "aggregate": "count",
         "stack": null,
         "type": "quantitative"
        }
       },
       "height": 100,
       "mark": {
        "interpolate": "step",
        "opacity": 0.3,
        "type": "area"
       },
       "transform": [
        {
         "as": [
          "Quantity",
          "error"
         ],
         "fold": [
          "estimated generalization error",
          "generalization error"
         ]
        }
       ]
      },
      "image/png": "[encoded data removed]",
      "text/plain": [
       "<VegaLite 3 object>\n",
       "\n",
       "If you see this message, it means the renderer has not been properly enabled\n",
       "for the frontend that you are using. For more information, see\n",
       "https://altair-viz.github.io/user_guide/troubleshooting.html\n"
      ]
     },
     "execution_count": 22,
     "metadata": {},
     "output_type": "execute_result"
    }
   ],
   "source": [
    "source = pd.DataFrame({\n",
    "    'estimated generalization error':ês,\n",
    "    'generalization error':es\n",
    "})\n",
    "\n",
    "alt.Chart(source, height=100).transform_fold(\n",
    "    ['estimated generalization error', 'generalization error'],\n",
    "    as_=['Quantity', 'error']\n",
    ").mark_area(\n",
    "    opacity=0.3,\n",
    "    interpolate='step'\n",
    ").encode(\n",
    "    alt.X('error:Q', bin=alt.Bin(maxbins=100)),\n",
    "    alt.Y('count()', stack=None),\n",
    "    alt.Color('Quantity:N')\n",
    ")"
   ]
  },
  {
   "cell_type": "markdown",
   "metadata": {
    "tags": [
     "popout"
    ]
   },
   "source": [
    "##### EXERCISE\n",
    "\n",
    "The code above corresponds to the estimator \n",
    "\n",
    "$$\n",
    "\\mathcal {\\hat E}(f) \n",
    "=\n",
    "\\frac{1}{n^{\\mathcal T}} \\sum_{i \\in \\mathcal{T}}  M(y_i, f_{\\mathcal S \\cup \\mathcal T}(x_i))\n",
    "\\notag\n",
    "$$\n",
    "\n",
    "Use the code and the expression above to explain in your own words what this estimator is doing."
   ]
  },
  {
   "cell_type": "markdown",
   "metadata": {},
   "source": [
    "The real difference is not what's in the data or how much of it there is, but *how it is used*. The test set is not used to fit the model $f_{\\mathcal S}$, whereas the training set is. This matters because *future* data also cannot ever be used to fit the model since it's data we don't even have at the time the model is fit. In that sense, the test set is a much better approximation of future data than the training data are because, like the future data, the test data are not used to fit the model. The very fact that we have observed the training data and used it to fit the model makes it unsuitable as an approximation to future data, even though we have done nothing to change the data itself!\n",
    "\n",
    "We're going to dig into this further, but for now it might be useful to think of an analogy. Imagine that a student is taking a course whose ultimate goal is to prepare the student to do well in their future career. The course includes both practice problems (with solutions) and a final exam. How can the student make sure she is prepared to succeed in the future? If the student studies using the practice problems, but then evaluates her performance using those same practice problems, she will always be optimistic about what she has actually learned. She may have simply memorized the answers to those problems or learned certain tricks that only work for those problems. However, her performance on the final exam, which has problems she has never seen before, is more likely to indicate how successful she will be in the future, since she will encounter new problems in her career, not textbook problems."
   ]
  },
  {
   "cell_type": "markdown",
   "metadata": {},
   "source": [
    "### Generalization Error Revisited"
   ]
  },
  {
   "cell_type": "markdown",
   "metadata": {},
   "source": [
    "We originally presented the generalization error as an average over all future data. That's probably the easiest way to think of it, but it isn't actually the way that we most often work with it mathematically. Mathematically, the generalization error is actually"
   ]
  },
  {
   "cell_type": "markdown",
   "metadata": {},
   "source": [
    "$$\n",
    "\\mathcal {E}(f) \n",
    "=\n",
    "E_{X, Y}[ M(Y, f(X)) ]\n",
    "\\label{real-gen-error}\n",
    "$$"
   ]
  },
  {
   "cell_type": "markdown",
   "metadata": {},
   "source": [
    "where the expectation is taken over the joint distribution of the random variables $X$ and $Y$. Notice that our fit model $f$ is a fixed function, although $X$ and $Y$ are random. \n",
    "\n",
    "Now we can see a little more clearly why our training set estimator (equation \\ref{training-error}) doesn't work: it's approximating something like $\\mathcal {E}_{\\mathcal S}(f) = E_{X, Y}[ M(Y, f_{X,Y}(X)) ]\n",
    "$. We're trying to average over the variation in model performance on the \"future\" data $X$ and $Y$, but we're using that \"future\" data to fit the model $f_{X,Y}$ at the same time. In fact, the notation $\\mathcal {E}_{\\mathcal S}(f)$ doesn't even make sense because $f$ isn't even a fixed function that we're evaluating inside the estimator - it changes along with the data. So what we're evaluating with the theoretical quantity $\\mathcal {E}_{\\mathcal S}$ isn't even clear.\n",
    "\n",
    "On the other hand, the test set estimator (equation \\ref{test-error}) just replaces the expectation in \\ref{real-gen-error} with a finite average, but keeps $f$ fixed when computing that average. Thus, if you take the expected value of the test-set estimator, you get back the generalization error:\n",
    "$$\n",
    "\\begin{array}{rcl}\n",
    "E[\\hat{\\mathcal E}_{\\mathcal T}(f)] &=& E\\left[ \\frac{1}{n^{\\mathcal T}} \\sum_{i \\in \\mathcal{T}} M(Y, f_{\\mathcal S}(X)) \\right] \\\\\n",
    "&=&  \\frac{1}{n^{\\mathcal T}} \\sum_{i \\in \\mathcal{T}} E\\left[ M(Y, f_{\\mathcal S}(X)) \\right] \\\\\n",
    "&=& \\frac{n^{\\mathcal T}}{n^{\\mathcal T}} \\mathcal E(f)\n",
    "\\end{array}\n",
    "$$\n",
    "\n",
    "The math is easy here because the expectation passes through the sum, after which the quantity on the inside of the sum is recognizable as the generalization error. If you try and do the same for the training error, you will end up with a quantity inside the sum that looks like the aforementioned $E_{X, Y}[ M(Y, f_{X,Y}(X))]$. That's usually impossible to work with analytically because you have to factor in how the model gets fit from the data. Point being: the test error is (on average) the generalization error, but it's very hard in general to know how the training error will relate to the generalization error."
   ]
  },
  {
   "cell_type": "markdown",
   "metadata": {},
   "source": [
    "To demonstrate the difference, we can simulate both training and test errors. Each simulation is like a single draw from the joint distribution of $X$ and $Y$. First we set up the functions that we will call to compute a singe training error and a single test error:"
   ]
  },
  {
   "cell_type": "code",
   "execution_count": 55,
   "metadata": {
    "tags": [
     "hide_output"
    ]
   },
   "outputs": [],
   "source": [
    "def training_error():\n",
    "    X_train, y_train = data_factory(500)           # randomness across different simulation runs comes from here\n",
    "    model = RandomForestRegressor(n_estimators=50)\n",
    "    model.fit(X_train, y_train)                    # model depends on the random data\n",
    "    ŷ_train = model.predict(X_train)\n",
    "    return metric(y_train, ŷ_train)                # evaluating a moving (random) target against random data"
   ]
  },
  {
   "cell_type": "code",
   "execution_count": 54,
   "metadata": {},
   "outputs": [],
   "source": [
    "X_train, y_train = data_factory(500)    \n",
    "model = RandomForestRegressor(n_estimators=50)\n",
    "model.fit(X_train, y_train)                     # model fixed in advance\n",
    "\n",
    "def test_error():\n",
    "    X_test, y_test = data_factory(500)          # randomness across different simulation runs comes from here\n",
    "    ŷ_test = model.predict(X_test)\n",
    "    return metric(y_test, ŷ_test)               # evaluating a fixed target against random data"
   ]
  },
  {
   "cell_type": "markdown",
   "metadata": {},
   "source": [
    "And now we repeat over 500 simulations:"
   ]
  },
  {
   "cell_type": "code",
   "execution_count": 46,
   "metadata": {},
   "outputs": [],
   "source": [
    "ê_S, ê_T = zip(*[(training_error(), test_error()) for i in range(500)])"
   ]
  },
  {
   "cell_type": "markdown",
   "metadata": {},
   "source": [
    "Notice that the code to fit the model is inside of the `training_error` function, but outside of the `test_error` function. Thus the model $f$ will be *refit* each time we compute a training error, but is treated as *fixed* when computing each test error. This difference only becomes clear when you do a simulation you can repeat many times, since using a single dataset the model only gets fit once and you don't get to see where the \"randomness\" enters. When doing simulations, you can see that the randomness enters before the model is even fit when using the training error estimate of generalization error. The randomness only enters after the model has been fit when using the test error estimate of generalization error."
   ]
  },
  {
   "cell_type": "markdown",
   "metadata": {},
   "source": [
    "When we plot the training and test errors, we can see that the training error (which is not an accurate estimate of generalization error) is usually smaller than the test error (which is). In other words, if we use the training error, we will usually overestimate the performance of our model. "
   ]
  },
  {
   "cell_type": "code",
   "execution_count": 50,
   "metadata": {
    "tags": [
     "remove_input"
    ]
   },
   "outputs": [
    {
     "data": {
      "application/vnd.vegalite.v3+json": {
       "$schema": "https://vega.github.io/schema/vega-lite/v3.4.0.json",
       "config": {
        "mark": {
         "tooltip": null
        },
        "view": {
         "height": 300,
         "width": 400
        }
       },
       "data": {
        "name": "data-d721bc97491a02ad4a0cd2c5654a883c"
       },
       "datasets": {
        "data-d721bc97491a02ad4a0cd2c5654a883c": [
         {
          "test error": 0.06340405182290328,
          "training error": 0.01993545242727303
         },
         {
          "test error": 0.044698794809555624,
          "training error": 0.020512306729177213
         },
         {
          "test error": 0.054345812161730477,
          "training error": 0.01837973199282235
         },
         {
          "test error": 0.05814173087821901,
          "training error": 0.023588373382410245
         },
         {
          "test error": 0.059851073775580035,
          "training error": 0.020690610678826445
         },
         {
          "test error": 0.05125921783705245,
          "training error": 0.021129967833923666
         },
         {
          "test error": 0.047916495970596204,
          "training error": 0.021753460503506097
         },
         {
          "test error": 0.05014672224853979,
          "training error": 0.01826260715271831
         },
         {
          "test error": 0.054147319294744735,
          "training error": 0.019024599200782123
         },
         {
          "test error": 0.04869610636696955,
          "training error": 0.01855186027877687
         },
         {
          "test error": 0.043672291836362294,
          "training error": 0.02347957774204331
         },
         {
          "test error": 0.051517978773436675,
          "training error": 0.02078477945424627
         },
         {
          "test error": 0.06909821685204398,
          "training error": 0.020556063307301562
         },
         {
          "test error": 0.05770990314779448,
          "training error": 0.01986084602284788
         },
         {
          "test error": 0.05504818641414003,
          "training error": 0.021016013554405022
         },
         {
          "test error": 0.05437097336688612,
          "training error": 0.019788345194957067
         },
         {
          "test error": 0.05058353354489181,
          "training error": 0.017571986507688705
         },
         {
          "test error": 0.04919374788045458,
          "training error": 0.021526866440472064
         },
         {
          "test error": 0.04629802338789949,
          "training error": 0.017466645250113346
         },
         {
          "test error": 0.04872227267527495,
          "training error": 0.019137145773696847
         },
         {
          "test error": 0.05956345641402814,
          "training error": 0.022618307651503015
         },
         {
          "test error": 0.05381044262848512,
          "training error": 0.023069724514371885
         },
         {
          "test error": 0.05285486504011963,
          "training error": 0.025818330361940495
         },
         {
          "test error": 0.0507232074409846,
          "training error": 0.017368565878329648
         },
         {
          "test error": 0.05215315077865055,
          "training error": 0.018317798785064263
         },
         {
          "test error": 0.05965155229512261,
          "training error": 0.019487071316953524
         },
         {
          "test error": 0.05630449067563002,
          "training error": 0.02078128146259323
         },
         {
          "test error": 0.05787377090537527,
          "training error": 0.01756650926018288
         },
         {
          "test error": 0.04052850861938112,
          "training error": 0.023356981250653917
         },
         {
          "test error": 0.0533494753080179,
          "training error": 0.019847010233763396
         },
         {
          "test error": 0.054730806307778455,
          "training error": 0.02221398388532915
         },
         {
          "test error": 0.05475115525816189,
          "training error": 0.021354423977487984
         },
         {
          "test error": 0.04974755555120782,
          "training error": 0.025231150605021072
         },
         {
          "test error": 0.052748404239174804,
          "training error": 0.020452157763804595
         },
         {
          "test error": 0.05565627679936645,
          "training error": 0.019988219044100475
         },
         {
          "test error": 0.057364371499437336,
          "training error": 0.021747752282655623
         },
         {
          "test error": 0.05544071597126542,
          "training error": 0.021183517690887513
         },
         {
          "test error": 0.054939304659687466,
          "training error": 0.023251021520897447
         },
         {
          "test error": 0.048391314305453896,
          "training error": 0.021221479635271392
         },
         {
          "test error": 0.05289859148374643,
          "training error": 0.01986659927560713
         },
         {
          "test error": 0.05156559876471564,
          "training error": 0.02102166716032974
         },
         {
          "test error": 0.0545894373731166,
          "training error": 0.021662802931359252
         },
         {
          "test error": 0.05166859710623993,
          "training error": 0.019542804214762285
         },
         {
          "test error": 0.05676058778927198,
          "training error": 0.019624133940745532
         },
         {
          "test error": 0.05098459261171074,
          "training error": 0.020655169470365237
         },
         {
          "test error": 0.048553325053356286,
          "training error": 0.019732239176452844
         },
         {
          "test error": 0.05804130649997854,
          "training error": 0.021724712537465024
         },
         {
          "test error": 0.05296459370716669,
          "training error": 0.02053263354838819
         },
         {
          "test error": 0.05200817898179115,
          "training error": 0.019745020902516505
         },
         {
          "test error": 0.04469673785033288,
          "training error": 0.01842281188466669
         },
         {
          "test error": 0.051157245552971284,
          "training error": 0.0193526490478906
         },
         {
          "test error": 0.053612966568365124,
          "training error": 0.01830761074088537
         },
         {
          "test error": 0.04666598209719862,
          "training error": 0.02080070488975811
         },
         {
          "test error": 0.04882902897255945,
          "training error": 0.02035056384642632
         },
         {
          "test error": 0.05526096230877356,
          "training error": 0.0193044403881378
         },
         {
          "test error": 0.06825583359003824,
          "training error": 0.020104461741778837
         },
         {
          "test error": 0.05521484008080763,
          "training error": 0.024372454909024073
         },
         {
          "test error": 0.04946985107924046,
          "training error": 0.020446748992398425
         },
         {
          "test error": 0.0631827133805632,
          "training error": 0.02212026896426049
         },
         {
          "test error": 0.050120969567930974,
          "training error": 0.01775864530830856
         },
         {
          "test error": 0.05245295751463904,
          "training error": 0.019354999724097835
         },
         {
          "test error": 0.055537363548066494,
          "training error": 0.02009445178186255
         },
         {
          "test error": 0.056071120651037025,
          "training error": 0.019805172198105816
         },
         {
          "test error": 0.04930168909036118,
          "training error": 0.018108145187931225
         },
         {
          "test error": 0.04801154927864971,
          "training error": 0.0209724804324688
         },
         {
          "test error": 0.04046918362522354,
          "training error": 0.02129211430728264
         },
         {
          "test error": 0.05819138775976001,
          "training error": 0.019602462287723228
         },
         {
          "test error": 0.06085984306890625,
          "training error": 0.020396349683190863
         },
         {
          "test error": 0.05346565987532125,
          "training error": 0.02080237804083105
         },
         {
          "test error": 0.05757231884799452,
          "training error": 0.0196725202272479
         },
         {
          "test error": 0.056061073832229955,
          "training error": 0.020648335570194402
         },
         {
          "test error": 0.05383629159525931,
          "training error": 0.020194556844946514
         },
         {
          "test error": 0.06453810117484184,
          "training error": 0.024225179220807823
         },
         {
          "test error": 0.05684352077238675,
          "training error": 0.022529084808493877
         },
         {
          "test error": 0.050210187037156,
          "training error": 0.020394554125843418
         },
         {
          "test error": 0.06707941604898655,
          "training error": 0.021893129710447233
         },
         {
          "test error": 0.0458301181544915,
          "training error": 0.019777448985306954
         },
         {
          "test error": 0.04787572343747672,
          "training error": 0.02042391793521221
         },
         {
          "test error": 0.05249545939106507,
          "training error": 0.019772434112695865
         },
         {
          "test error": 0.05522447596004239,
          "training error": 0.021295588496520464
         },
         {
          "test error": 0.05139097157228062,
          "training error": 0.021394974719694523
         },
         {
          "test error": 0.054604170074309594,
          "training error": 0.01970435866163932
         },
         {
          "test error": 0.05321013979016958,
          "training error": 0.021357686004795068
         },
         {
          "test error": 0.048250611822218986,
          "training error": 0.01991003667966033
         },
         {
          "test error": 0.06736121570605437,
          "training error": 0.021331902168107868
         },
         {
          "test error": 0.05069483245428277,
          "training error": 0.01955369902004898
         },
         {
          "test error": 0.05686190068889779,
          "training error": 0.019164916707168675
         },
         {
          "test error": 0.044342957213977914,
          "training error": 0.020158729731413652
         },
         {
          "test error": 0.05629196717833182,
          "training error": 0.022270123502490916
         },
         {
          "test error": 0.049566712837290756,
          "training error": 0.020877581390819924
         },
         {
          "test error": 0.05574182232704524,
          "training error": 0.021434112486493163
         },
         {
          "test error": 0.06269028136544919,
          "training error": 0.02398946977399552
         },
         {
          "test error": 0.047743545070425684,
          "training error": 0.0233357002570474
         },
         {
          "test error": 0.05421010721796364,
          "training error": 0.019006868822747363
         },
         {
          "test error": 0.06080846867562112,
          "training error": 0.02139046801435447
         },
         {
          "test error": 0.05437887574074589,
          "training error": 0.020954036044989997
         },
         {
          "test error": 0.057891394410327396,
          "training error": 0.020288890484230816
         },
         {
          "test error": 0.06396843642244035,
          "training error": 0.017159164352457897
         },
         {
          "test error": 0.05845148588039976,
          "training error": 0.01864191620782526
         },
         {
          "test error": 0.04446038255690825,
          "training error": 0.02292169662675232
         },
         {
          "test error": 0.05631585366370298,
          "training error": 0.022523066273768336
         },
         {
          "test error": 0.05089213411573209,
          "training error": 0.022907264009157626
         },
         {
          "test error": 0.06016774149661941,
          "training error": 0.019094709547919274
         },
         {
          "test error": 0.05167410747711102,
          "training error": 0.021716226033972212
         },
         {
          "test error": 0.07303248107983092,
          "training error": 0.020158391635971728
         },
         {
          "test error": 0.054069276453761764,
          "training error": 0.022477926053664114
         },
         {
          "test error": 0.05468194976093281,
          "training error": 0.021864077647357354
         },
         {
          "test error": 0.05775251659681927,
          "training error": 0.021961094118420073
         },
         {
          "test error": 0.06100205271961002,
          "training error": 0.019306285757551923
         },
         {
          "test error": 0.048660314725150075,
          "training error": 0.020130646248546498
         },
         {
          "test error": 0.053332787546203464,
          "training error": 0.016782254781089256
         },
         {
          "test error": 0.05503314224207269,
          "training error": 0.021423944024295434
         },
         {
          "test error": 0.05087915820019705,
          "training error": 0.017869625076949665
         },
         {
          "test error": 0.051062922103629844,
          "training error": 0.020024450735332485
         },
         {
          "test error": 0.053006412004186626,
          "training error": 0.01957848092334246
         },
         {
          "test error": 0.05308609510799714,
          "training error": 0.02082883286164622
         },
         {
          "test error": 0.05837288600648627,
          "training error": 0.018815505779850965
         },
         {
          "test error": 0.04705679812394406,
          "training error": 0.021329338141857078
         },
         {
          "test error": 0.05052889471599151,
          "training error": 0.024819261606792688
         },
         {
          "test error": 0.058566055130998544,
          "training error": 0.02047286510007815
         },
         {
          "test error": 0.05079549650313956,
          "training error": 0.02167271921741287
         },
         {
          "test error": 0.06620587893278415,
          "training error": 0.018433233122524897
         },
         {
          "test error": 0.04488203980952928,
          "training error": 0.02082277430705216
         },
         {
          "test error": 0.07348371264999556,
          "training error": 0.02074725036888803
         },
         {
          "test error": 0.05438600269325488,
          "training error": 0.01993838740246832
         },
         {
          "test error": 0.0528146277669176,
          "training error": 0.02037895893672416
         },
         {
          "test error": 0.053861086736477444,
          "training error": 0.01959125611940907
         },
         {
          "test error": 0.055783872001951326,
          "training error": 0.01925226204118725
         },
         {
          "test error": 0.06046100209836551,
          "training error": 0.02347676388777019
         },
         {
          "test error": 0.04834658241183712,
          "training error": 0.02144311414811683
         },
         {
          "test error": 0.04616498728568492,
          "training error": 0.019401345846758976
         },
         {
          "test error": 0.0526211256294629,
          "training error": 0.023375618270401185
         },
         {
          "test error": 0.05379613741010955,
          "training error": 0.020425560049397405
         },
         {
          "test error": 0.05230277883661911,
          "training error": 0.021081601235073872
         },
         {
          "test error": 0.06358394091411287,
          "training error": 0.019570254440129532
         },
         {
          "test error": 0.046808815021375294,
          "training error": 0.02069403334063301
         },
         {
          "test error": 0.04778777013598061,
          "training error": 0.01993113308461981
         },
         {
          "test error": 0.05486817498871695,
          "training error": 0.020007063795039165
         },
         {
          "test error": 0.05193087898130913,
          "training error": 0.017782998091747142
         },
         {
          "test error": 0.04766716472868541,
          "training error": 0.018268944334921586
         },
         {
          "test error": 0.05179804941778971,
          "training error": 0.024012350944361525
         },
         {
          "test error": 0.060930298960950834,
          "training error": 0.019273802034347264
         },
         {
          "test error": 0.056401194426767304,
          "training error": 0.019414032152104247
         },
         {
          "test error": 0.053227766168592885,
          "training error": 0.017313255260919837
         },
         {
          "test error": 0.04799699462543056,
          "training error": 0.02466648195538819
         },
         {
          "test error": 0.06332199765930933,
          "training error": 0.02342061980648502
         },
         {
          "test error": 0.051718047852557125,
          "training error": 0.021150528279554957
         },
         {
          "test error": 0.06419825795546169,
          "training error": 0.02198924440085325
         },
         {
          "test error": 0.057006493460864976,
          "training error": 0.020869465832527207
         },
         {
          "test error": 0.06591478799632103,
          "training error": 0.02689579745597985
         },
         {
          "test error": 0.056377722628005854,
          "training error": 0.022086943086186174
         },
         {
          "test error": 0.04980269774756377,
          "training error": 0.022428255427575323
         },
         {
          "test error": 0.05505022360780366,
          "training error": 0.02056033031461608
         },
         {
          "test error": 0.05149570702881042,
          "training error": 0.02029982286776761
         },
         {
          "test error": 0.05280188689281678,
          "training error": 0.02138788675847448
         },
         {
          "test error": 0.06273110950930721,
          "training error": 0.02179573528744313
         },
         {
          "test error": 0.05239668389795064,
          "training error": 0.02409681225545296
         },
         {
          "test error": 0.05485748458245197,
          "training error": 0.02129595510492702
         },
         {
          "test error": 0.05000029934130432,
          "training error": 0.01912694322351927
         },
         {
          "test error": 0.05885168757692752,
          "training error": 0.019327287461502977
         },
         {
          "test error": 0.05613517734667664,
          "training error": 0.0240954045567667
         },
         {
          "test error": 0.05126608854093904,
          "training error": 0.01959301374643965
         },
         {
          "test error": 0.0567884818949484,
          "training error": 0.0189469180667718
         },
         {
          "test error": 0.051948735450985835,
          "training error": 0.019657892997147364
         },
         {
          "test error": 0.05540986294779232,
          "training error": 0.02074593529326898
         },
         {
          "test error": 0.05812207048041304,
          "training error": 0.02187745767051478
         },
         {
          "test error": 0.05307810556039297,
          "training error": 0.021652031542828205
         },
         {
          "test error": 0.0528334541467907,
          "training error": 0.020334042986578746
         },
         {
          "test error": 0.050531759763768176,
          "training error": 0.019861979569968588
         },
         {
          "test error": 0.05013260397252285,
          "training error": 0.022811820873854572
         },
         {
          "test error": 0.051986301597351,
          "training error": 0.021607435922519423
         },
         {
          "test error": 0.053847099049512306,
          "training error": 0.020936669379193973
         },
         {
          "test error": 0.0475038909912494,
          "training error": 0.02248460552195535
         },
         {
          "test error": 0.07256590886195631,
          "training error": 0.018692710165041353
         },
         {
          "test error": 0.052278647837872984,
          "training error": 0.021484399358261803
         },
         {
          "test error": 0.049386031911466496,
          "training error": 0.0195045642039293
         },
         {
          "test error": 0.05137089334922844,
          "training error": 0.02120463566876486
         },
         {
          "test error": 0.05963906571357249,
          "training error": 0.021707609358046064
         },
         {
          "test error": 0.054603111416323485,
          "training error": 0.022876485978336848
         },
         {
          "test error": 0.06266545519882931,
          "training error": 0.018229899259862768
         },
         {
          "test error": 0.04691862433694882,
          "training error": 0.01814536494143001
         },
         {
          "test error": 0.05302635309431897,
          "training error": 0.020913256101623777
         },
         {
          "test error": 0.0535633164444373,
          "training error": 0.02370219872752552
         },
         {
          "test error": 0.05571701492162963,
          "training error": 0.018781004230083064
         },
         {
          "test error": 0.05004897158909619,
          "training error": 0.01897098004130934
         },
         {
          "test error": 0.0511486407807703,
          "training error": 0.01884811773281318
         },
         {
          "test error": 0.05038948353097173,
          "training error": 0.020665851194988868
         },
         {
          "test error": 0.04617109819808261,
          "training error": 0.020722683743766915
         },
         {
          "test error": 0.056319878884518434,
          "training error": 0.018655328607904687
         },
         {
          "test error": 0.05195032179741237,
          "training error": 0.025980457428725973
         },
         {
          "test error": 0.0732952626503295,
          "training error": 0.022103221759174015
         },
         {
          "test error": 0.05595869968826545,
          "training error": 0.02134444548596975
         },
         {
          "test error": 0.06892778403944792,
          "training error": 0.020642713769345965
         },
         {
          "test error": 0.056530518180713155,
          "training error": 0.019659195876339318
         },
         {
          "test error": 0.0575928288262878,
          "training error": 0.02029683971170135
         },
         {
          "test error": 0.05785737248965709,
          "training error": 0.019550675310613466
         },
         {
          "test error": 0.05809030893163949,
          "training error": 0.020250422427152096
         },
         {
          "test error": 0.048361860828352345,
          "training error": 0.0219893062487944
         },
         {
          "test error": 0.05103487440946971,
          "training error": 0.020049177873605904
         },
         {
          "test error": 0.05149676462996562,
          "training error": 0.02357994654847238
         },
         {
          "test error": 0.0610433650543916,
          "training error": 0.0180943009237689
         },
         {
          "test error": 0.05938680280689623,
          "training error": 0.021757492448700334
         },
         {
          "test error": 0.05469708093694672,
          "training error": 0.02192956829816725
         },
         {
          "test error": 0.052702863478074284,
          "training error": 0.019120299164812067
         },
         {
          "test error": 0.050351627438399445,
          "training error": 0.019553712580815306
         },
         {
          "test error": 0.04892182142619143,
          "training error": 0.019978858778001773
         },
         {
          "test error": 0.05040052338664613,
          "training error": 0.017648109899231785
         },
         {
          "test error": 0.04956622132332694,
          "training error": 0.01854605409160222
         },
         {
          "test error": 0.04882094363471047,
          "training error": 0.019128073293317425
         },
         {
          "test error": 0.0535954670423968,
          "training error": 0.019960326861588946
         },
         {
          "test error": 0.044640131118953846,
          "training error": 0.019924966338224208
         },
         {
          "test error": 0.061291526066870244,
          "training error": 0.019252868798667784
         },
         {
          "test error": 0.051071996521127615,
          "training error": 0.023815918549970228
         },
         {
          "test error": 0.054191793453615245,
          "training error": 0.020499411106127227
         },
         {
          "test error": 0.05175558669879663,
          "training error": 0.01840373688885473
         },
         {
          "test error": 0.04979932210625125,
          "training error": 0.018346879189779473
         },
         {
          "test error": 0.0560021639527547,
          "training error": 0.020373201268347525
         },
         {
          "test error": 0.06086621141663772,
          "training error": 0.019642611171349102
         },
         {
          "test error": 0.062480019098442856,
          "training error": 0.02024484921542354
         },
         {
          "test error": 0.04847934871302748,
          "training error": 0.023063232890189238
         },
         {
          "test error": 0.05626319256113706,
          "training error": 0.020203862403922287
         },
         {
          "test error": 0.05714658072584742,
          "training error": 0.02039411383192477
         },
         {
          "test error": 0.057162485047686444,
          "training error": 0.020699347849776596
         },
         {
          "test error": 0.05726387691769625,
          "training error": 0.02116539124144965
         },
         {
          "test error": 0.061064536065614704,
          "training error": 0.02183041602675105
         },
         {
          "test error": 0.05710399578110224,
          "training error": 0.01949524452486039
         },
         {
          "test error": 0.04405935409343705,
          "training error": 0.017931541513399454
         },
         {
          "test error": 0.0561824931475712,
          "training error": 0.01967327530582131
         },
         {
          "test error": 0.05289012213307302,
          "training error": 0.02008763369031763
         },
         {
          "test error": 0.06382301972384544,
          "training error": 0.017977569766580718
         },
         {
          "test error": 0.06072530091269687,
          "training error": 0.020195375937294067
         },
         {
          "test error": 0.05193430432076922,
          "training error": 0.019207000362900076
         },
         {
          "test error": 0.055218813659580646,
          "training error": 0.020661004214605923
         },
         {
          "test error": 0.06816117191712559,
          "training error": 0.023419718770313465
         },
         {
          "test error": 0.0542553840514382,
          "training error": 0.018718566565768195
         },
         {
          "test error": 0.05721143545488373,
          "training error": 0.02039304657141372
         },
         {
          "test error": 0.06684811017933863,
          "training error": 0.018430875348357936
         },
         {
          "test error": 0.056468516263190154,
          "training error": 0.02084407275690323
         },
         {
          "test error": 0.04189616208072621,
          "training error": 0.01973364429659813
         },
         {
          "test error": 0.047141329406634215,
          "training error": 0.021013901971851545
         },
         {
          "test error": 0.0492269537651387,
          "training error": 0.019977450425628648
         },
         {
          "test error": 0.0478751248097825,
          "training error": 0.018985932379865105
         },
         {
          "test error": 0.0580088820221002,
          "training error": 0.01900379732994344
         },
         {
          "test error": 0.05347901045371728,
          "training error": 0.02095245611207942
         },
         {
          "test error": 0.05881522527240262,
          "training error": 0.019832585111909162
         },
         {
          "test error": 0.05934023568875862,
          "training error": 0.018431981256821616
         },
         {
          "test error": 0.05005501514275516,
          "training error": 0.022739780160240176
         },
         {
          "test error": 0.05364959547271235,
          "training error": 0.021323497798724462
         },
         {
          "test error": 0.05538969203959387,
          "training error": 0.01878809340378857
         },
         {
          "test error": 0.04601257982786844,
          "training error": 0.020443301569578354
         },
         {
          "test error": 0.04904612695940798,
          "training error": 0.02138312054358782
         },
         {
          "test error": 0.060929816792552445,
          "training error": 0.02254527720520209
         },
         {
          "test error": 0.04763240744781268,
          "training error": 0.018906519126217675
         },
         {
          "test error": 0.05722184439326932,
          "training error": 0.019670063948237865
         },
         {
          "test error": 0.047890552593683196,
          "training error": 0.019599238344844394
         },
         {
          "test error": 0.047067600065892404,
          "training error": 0.021132326548227512
         },
         {
          "test error": 0.06805960689642222,
          "training error": 0.021326367204396603
         },
         {
          "test error": 0.05103354612507526,
          "training error": 0.022684411772924948
         },
         {
          "test error": 0.0649886085387538,
          "training error": 0.020906212656882552
         },
         {
          "test error": 0.06304267326598971,
          "training error": 0.020135256222185625
         },
         {
          "test error": 0.05858157964901393,
          "training error": 0.020671567440746493
         },
         {
          "test error": 0.04606652297422321,
          "training error": 0.019347764169296705
         },
         {
          "test error": 0.06161547965728511,
          "training error": 0.02603826639355784
         },
         {
          "test error": 0.052876677584438016,
          "training error": 0.022703904202795416
         },
         {
          "test error": 0.05026707742644339,
          "training error": 0.019665620165405774
         },
         {
          "test error": 0.06077847239643944,
          "training error": 0.022250030495443034
         },
         {
          "test error": 0.05228833791261969,
          "training error": 0.019598406643600106
         },
         {
          "test error": 0.055578987628709185,
          "training error": 0.01964439250614007
         },
         {
          "test error": 0.04664959162535983,
          "training error": 0.02109153877786015
         },
         {
          "test error": 0.047295389986647195,
          "training error": 0.021464750095175334
         },
         {
          "test error": 0.046669963746617284,
          "training error": 0.022612340036242736
         },
         {
          "test error": 0.0492067930107416,
          "training error": 0.02287940343241133
         },
         {
          "test error": 0.055952076138556135,
          "training error": 0.018780198545143095
         },
         {
          "test error": 0.059568264805682405,
          "training error": 0.021170701942200745
         },
         {
          "test error": 0.05199966136924944,
          "training error": 0.02401107131511433
         },
         {
          "test error": 0.04988642515793222,
          "training error": 0.023865341179687135
         },
         {
          "test error": 0.04806215192414081,
          "training error": 0.02100985860872949
         },
         {
          "test error": 0.058529798546299,
          "training error": 0.020348652707070185
         },
         {
          "test error": 0.050420416638960235,
          "training error": 0.017047347640053587
         },
         {
          "test error": 0.05254255507331953,
          "training error": 0.021307620950080482
         },
         {
          "test error": 0.05030493117614599,
          "training error": 0.02029531062795502
         },
         {
          "test error": 0.05131530877886719,
          "training error": 0.020934935144711352
         },
         {
          "test error": 0.05336369071306723,
          "training error": 0.019590318934159676
         },
         {
          "test error": 0.053583619530510815,
          "training error": 0.021391481718166
         },
         {
          "test error": 0.05587545253028237,
          "training error": 0.020478439625376748
         },
         {
          "test error": 0.052300569433555225,
          "training error": 0.01955188725839276
         },
         {
          "test error": 0.04812137819351364,
          "training error": 0.018995071312722593
         },
         {
          "test error": 0.05288906010429043,
          "training error": 0.026371941299348292
         },
         {
          "test error": 0.05700056064891558,
          "training error": 0.02111870021436121
         },
         {
          "test error": 0.051075121359166274,
          "training error": 0.01811938486515392
         },
         {
          "test error": 0.046856296317833855,
          "training error": 0.02182015125519341
         },
         {
          "test error": 0.04524496701901005,
          "training error": 0.02113122536164217
         },
         {
          "test error": 0.06174217460523687,
          "training error": 0.025130559581899678
         },
         {
          "test error": 0.04810841945358132,
          "training error": 0.020058196728261327
         },
         {
          "test error": 0.05432222358376243,
          "training error": 0.019063562075428052
         },
         {
          "test error": 0.05594052936615691,
          "training error": 0.024245332567805252
         },
         {
          "test error": 0.05181431091929249,
          "training error": 0.02168605520718642
         },
         {
          "test error": 0.06372454893724629,
          "training error": 0.019206481870302005
         },
         {
          "test error": 0.05680315211785637,
          "training error": 0.020280715885282005
         },
         {
          "test error": 0.0545202966051644,
          "training error": 0.018369314817554817
         },
         {
          "test error": 0.056739179037505326,
          "training error": 0.023451973613443134
         },
         {
          "test error": 0.05344482054545155,
          "training error": 0.019462646273955147
         },
         {
          "test error": 0.04965824852744156,
          "training error": 0.020079997298804234
         },
         {
          "test error": 0.050095659587050284,
          "training error": 0.018316673874717627
         },
         {
          "test error": 0.05317941725263299,
          "training error": 0.019516916002198462
         },
         {
          "test error": 0.05238654134984486,
          "training error": 0.017588970942365095
         },
         {
          "test error": 0.05132608175152558,
          "training error": 0.020159580968093414
         },
         {
          "test error": 0.062490844831142506,
          "training error": 0.019722716623270468
         },
         {
          "test error": 0.06213124688887765,
          "training error": 0.02240714922160229
         },
         {
          "test error": 0.04883081605140065,
          "training error": 0.021385365304216485
         },
         {
          "test error": 0.05696011689309376,
          "training error": 0.019360258452540653
         },
         {
          "test error": 0.06328613291895772,
          "training error": 0.019809024952493808
         },
         {
          "test error": 0.05627487629261488,
          "training error": 0.01991166008544708
         },
         {
          "test error": 0.0479144641320661,
          "training error": 0.019893005129381632
         },
         {
          "test error": 0.05671930134510442,
          "training error": 0.018073532196507144
         },
         {
          "test error": 0.05594132154293685,
          "training error": 0.018223148926258155
         },
         {
          "test error": 0.04967592217429849,
          "training error": 0.01993618960567566
         },
         {
          "test error": 0.052749968445689674,
          "training error": 0.020856065840145037
         },
         {
          "test error": 0.057408484187450114,
          "training error": 0.01939329381014222
         },
         {
          "test error": 0.06471358823093724,
          "training error": 0.02330181199108129
         },
         {
          "test error": 0.05467925862908822,
          "training error": 0.020061126794062106
         },
         {
          "test error": 0.05117612396976362,
          "training error": 0.020716457076106407
         },
         {
          "test error": 0.057650028995609386,
          "training error": 0.020308050799027682
         },
         {
          "test error": 0.049570471520674855,
          "training error": 0.02186902012607289
         },
         {
          "test error": 0.05804157483865551,
          "training error": 0.020419566563754238
         },
         {
          "test error": 0.06549910882093779,
          "training error": 0.01951710664906332
         },
         {
          "test error": 0.050532651254873114,
          "training error": 0.019988066886125474
         },
         {
          "test error": 0.05148628990102155,
          "training error": 0.02134035716992035
         },
         {
          "test error": 0.06514981402763285,
          "training error": 0.02059351081720002
         },
         {
          "test error": 0.053070465847856595,
          "training error": 0.01853970484171193
         },
         {
          "test error": 0.052484188594212014,
          "training error": 0.019586646127874224
         },
         {
          "test error": 0.057759879756836385,
          "training error": 0.021722141061655185
         },
         {
          "test error": 0.05263052801296079,
          "training error": 0.02163304008865672
         },
         {
          "test error": 0.05041576720163616,
          "training error": 0.019547711239564877
         },
         {
          "test error": 0.06138843689059836,
          "training error": 0.019327133423648633
         },
         {
          "test error": 0.06178440846542058,
          "training error": 0.01924597981323084
         },
         {
          "test error": 0.0499053108142458,
          "training error": 0.018293083741191974
         },
         {
          "test error": 0.0481542636687804,
          "training error": 0.022617716395196424
         },
         {
          "test error": 0.0532603280634727,
          "training error": 0.018838632637204845
         },
         {
          "test error": 0.05666505602102999,
          "training error": 0.020324888670544654
         },
         {
          "test error": 0.04697944233804826,
          "training error": 0.01880544894744489
         },
         {
          "test error": 0.0651030747562473,
          "training error": 0.02191922571162656
         },
         {
          "test error": 0.05523371135533104,
          "training error": 0.019584184736205608
         },
         {
          "test error": 0.04881011273124388,
          "training error": 0.02088605797736927
         },
         {
          "test error": 0.050806561642384,
          "training error": 0.021753883136594147
         },
         {
          "test error": 0.05545438245685056,
          "training error": 0.02153871303724472
         },
         {
          "test error": 0.049016103995816525,
          "training error": 0.02472358714206841
         },
         {
          "test error": 0.049373508822974366,
          "training error": 0.02534862434788563
         },
         {
          "test error": 0.04875294562055168,
          "training error": 0.020190680040566997
         },
         {
          "test error": 0.050918742547864125,
          "training error": 0.019150271574450574
         },
         {
          "test error": 0.050493119657091926,
          "training error": 0.02489772192791537
         },
         {
          "test error": 0.05548033503920348,
          "training error": 0.02042527492192336
         },
         {
          "test error": 0.05559891783486894,
          "training error": 0.020794742314705437
         },
         {
          "test error": 0.05506008030183341,
          "training error": 0.02183520065889958
         },
         {
          "test error": 0.06265208379916098,
          "training error": 0.017227423414805956
         },
         {
          "test error": 0.05340226784173657,
          "training error": 0.020880518350703342
         },
         {
          "test error": 0.05630242691112642,
          "training error": 0.0201591943495095
         },
         {
          "test error": 0.047900542019666856,
          "training error": 0.021756911277165586
         },
         {
          "test error": 0.04835932790014965,
          "training error": 0.02139788426502311
         },
         {
          "test error": 0.06078412324498903,
          "training error": 0.019499262726128213
         },
         {
          "test error": 0.06388408060220306,
          "training error": 0.02397459692559746
         },
         {
          "test error": 0.05455611616032269,
          "training error": 0.018262088769464314
         },
         {
          "test error": 0.05547818569747302,
          "training error": 0.02146214920086494
         },
         {
          "test error": 0.048770890741367444,
          "training error": 0.02068986179685781
         },
         {
          "test error": 0.0609557100561953,
          "training error": 0.020579114439084605
         },
         {
          "test error": 0.054114176903025155,
          "training error": 0.020233683431073422
         },
         {
          "test error": 0.053317546471959375,
          "training error": 0.018780078158625913
         },
         {
          "test error": 0.06523855655371619,
          "training error": 0.02514291077558186
         },
         {
          "test error": 0.05088911594518004,
          "training error": 0.019649709615711473
         },
         {
          "test error": 0.05426364710611281,
          "training error": 0.01936911326995558
         },
         {
          "test error": 0.05870177642476832,
          "training error": 0.02091850020399415
         },
         {
          "test error": 0.05883267100456048,
          "training error": 0.02012757324063037
         },
         {
          "test error": 0.05446692046886767,
          "training error": 0.02277802385842059
         },
         {
          "test error": 0.05127724110688705,
          "training error": 0.020336746693939683
         },
         {
          "test error": 0.05764726563309804,
          "training error": 0.020682058100496746
         },
         {
          "test error": 0.0547797813337707,
          "training error": 0.019207424319062995
         },
         {
          "test error": 0.06084426723756065,
          "training error": 0.019099830370070722
         },
         {
          "test error": 0.05780941253502175,
          "training error": 0.019352497012436555
         },
         {
          "test error": 0.05976859287520066,
          "training error": 0.02077384872415058
         },
         {
          "test error": 0.06094157082562005,
          "training error": 0.022494689628739524
         },
         {
          "test error": 0.047685081645171074,
          "training error": 0.020361039206056367
         },
         {
          "test error": 0.05144762376975352,
          "training error": 0.01831432727723944
         },
         {
          "test error": 0.05087320597801934,
          "training error": 0.022001253170921102
         },
         {
          "test error": 0.05348261996590508,
          "training error": 0.020496050359150062
         },
         {
          "test error": 0.05991648726146576,
          "training error": 0.018481839523781986
         },
         {
          "test error": 0.055609921674868903,
          "training error": 0.021657589938652376
         },
         {
          "test error": 0.05584983307622071,
          "training error": 0.022567570788338633
         },
         {
          "test error": 0.053674700554455924,
          "training error": 0.019560259653999105
         },
         {
          "test error": 0.051343432772056496,
          "training error": 0.019483450093623667
         },
         {
          "test error": 0.05810319988271204,
          "training error": 0.017948028969048624
         },
         {
          "test error": 0.04799221122340409,
          "training error": 0.021799646479408873
         },
         {
          "test error": 0.052219615159952916,
          "training error": 0.019813541343126392
         },
         {
          "test error": 0.06411647273343699,
          "training error": 0.02111895780326911
         },
         {
          "test error": 0.05520528122383569,
          "training error": 0.01887324952240627
         },
         {
          "test error": 0.05493078599613342,
          "training error": 0.018789365012704406
         },
         {
          "test error": 0.06462716765463088,
          "training error": 0.021144206323446026
         },
         {
          "test error": 0.05708768915845122,
          "training error": 0.018351904683271473
         },
         {
          "test error": 0.053391190790390584,
          "training error": 0.020347310871299342
         },
         {
          "test error": 0.059669924952746776,
          "training error": 0.019208653353578364
         },
         {
          "test error": 0.047664418879920595,
          "training error": 0.02103661957742898
         },
         {
          "test error": 0.055472580237475026,
          "training error": 0.0219989130366754
         },
         {
          "test error": 0.05055957769050472,
          "training error": 0.021807582840155618
         },
         {
          "test error": 0.057118761897203316,
          "training error": 0.020934055645100497
         },
         {
          "test error": 0.054826576248513295,
          "training error": 0.020990783470703663
         },
         {
          "test error": 0.059893433652513255,
          "training error": 0.019219497327134148
         },
         {
          "test error": 0.04650666373577563,
          "training error": 0.020402523223221117
         },
         {
          "test error": 0.058450548974910255,
          "training error": 0.019041611377427596
         },
         {
          "test error": 0.058749707823176366,
          "training error": 0.01899914674890101
         },
         {
          "test error": 0.04929007521594586,
          "training error": 0.02027204866217072
         },
         {
          "test error": 0.04805989846775034,
          "training error": 0.024717313555329426
         },
         {
          "test error": 0.06261435090438351,
          "training error": 0.020537961240103066
         },
         {
          "test error": 0.04537757347227958,
          "training error": 0.021051077369984808
         },
         {
          "test error": 0.04966354337904099,
          "training error": 0.021164833931547607
         },
         {
          "test error": 0.053205587613751014,
          "training error": 0.022363480127520936
         },
         {
          "test error": 0.05570565086702136,
          "training error": 0.019598532466551438
         },
         {
          "test error": 0.06184095201217806,
          "training error": 0.01929792013855334
         },
         {
          "test error": 0.04653344063154323,
          "training error": 0.023655937389399397
         },
         {
          "test error": 0.0562274912389435,
          "training error": 0.02092076146502161
         },
         {
          "test error": 0.056082247080855914,
          "training error": 0.021583766510161938
         },
         {
          "test error": 0.053177012848188744,
          "training error": 0.020312870615994547
         },
         {
          "test error": 0.05986454066494052,
          "training error": 0.017861007116663025
         },
         {
          "test error": 0.07240535198412641,
          "training error": 0.02192834980809147
         },
         {
          "test error": 0.04934273516545009,
          "training error": 0.021932691030753515
         },
         {
          "test error": 0.062355657574997225,
          "training error": 0.022838846348831852
         },
         {
          "test error": 0.04194547019477872,
          "training error": 0.01938365707467098
         },
         {
          "test error": 0.055499732268203046,
          "training error": 0.02144676717362732
         },
         {
          "test error": 0.057481695344910134,
          "training error": 0.01901634453546499
         },
         {
          "test error": 0.06994469770296419,
          "training error": 0.020802370819122173
         },
         {
          "test error": 0.048894983764396306,
          "training error": 0.020047873479641452
         },
         {
          "test error": 0.0611180469050412,
          "training error": 0.020633817385440578
         },
         {
          "test error": 0.048174139963235246,
          "training error": 0.020419554193310215
         },
         {
          "test error": 0.048259110996414674,
          "training error": 0.02372928656702013
         },
         {
          "test error": 0.0581312570868576,
          "training error": 0.021163397214098593
         },
         {
          "test error": 0.053651704347270075,
          "training error": 0.020833198564483502
         },
         {
          "test error": 0.051754885122972744,
          "training error": 0.02027303778110442
         },
         {
          "test error": 0.06206358029581777,
          "training error": 0.021641887424174798
         },
         {
          "test error": 0.053109803501313974,
          "training error": 0.020216950939130427
         },
         {
          "test error": 0.052552102405134644,
          "training error": 0.019994283413155
         },
         {
          "test error": 0.05237917464646197,
          "training error": 0.019372475070373055
         },
         {
          "test error": 0.052529907100143644,
          "training error": 0.019971478841455014
         },
         {
          "test error": 0.05553629182011238,
          "training error": 0.021292071174410863
         },
         {
          "test error": 0.06440890004131292,
          "training error": 0.0218373492551945
         },
         {
          "test error": 0.049291030695906034,
          "training error": 0.022746784891040348
         },
         {
          "test error": 0.058798434446383024,
          "training error": 0.02335446982405675
         },
         {
          "test error": 0.04791780795645246,
          "training error": 0.022646731957381396
         },
         {
          "test error": 0.06909686620814473,
          "training error": 0.02373789081156044
         },
         {
          "test error": 0.050498936904741595,
          "training error": 0.02125046214857314
         },
         {
          "test error": 0.053883076638474976,
          "training error": 0.021324043238499842
         },
         {
          "test error": 0.0651754496899884,
          "training error": 0.02002644118180336
         },
         {
          "test error": 0.053452469264896565,
          "training error": 0.019596464463656146
         },
         {
          "test error": 0.04765319124499384,
          "training error": 0.021958488355794236
         },
         {
          "test error": 0.053328602774510896,
          "training error": 0.01925520571444033
         },
         {
          "test error": 0.05189193945178407,
          "training error": 0.018843300602951005
         },
         {
          "test error": 0.05245130801063357,
          "training error": 0.021281678205803543
         },
         {
          "test error": 0.06674849838917797,
          "training error": 0.017243075353825105
         },
         {
          "test error": 0.058936980672883166,
          "training error": 0.021425430694614556
         },
         {
          "test error": 0.05087716335681815,
          "training error": 0.01894637269693598
         },
         {
          "test error": 0.05396150438685869,
          "training error": 0.022859954070895284
         },
         {
          "test error": 0.05335238940398473,
          "training error": 0.021601097957569485
         },
         {
          "test error": 0.05337281804428097,
          "training error": 0.020818803711673033
         },
         {
          "test error": 0.05327457170232516,
          "training error": 0.01858936403647964
         },
         {
          "test error": 0.05240475283395961,
          "training error": 0.022154898109292758
         },
         {
          "test error": 0.055812232724184355,
          "training error": 0.020654292332326827
         },
         {
          "test error": 0.05976806292972377,
          "training error": 0.01915044612517885
         },
         {
          "test error": 0.05120479185359466,
          "training error": 0.018447228956406422
         },
         {
          "test error": 0.05448550398152154,
          "training error": 0.021604675162649568
         },
         {
          "test error": 0.05742514086823252,
          "training error": 0.01840116461340501
         },
         {
          "test error": 0.06039512875700445,
          "training error": 0.019045191733444527
         },
         {
          "test error": 0.0619565114630485,
          "training error": 0.02218098264407637
         },
         {
          "test error": 0.05978738423155627,
          "training error": 0.019924826537798382
         },
         {
          "test error": 0.05457103058999321,
          "training error": 0.019455308703478117
         },
         {
          "test error": 0.04815839311258444,
          "training error": 0.02160569097603534
         },
         {
          "test error": 0.05494292685673798,
          "training error": 0.02075486224789897
         },
         {
          "test error": 0.05835225832629955,
          "training error": 0.02095152721586446
         },
         {
          "test error": 0.04567386776570248,
          "training error": 0.0223041345495811
         },
         {
          "test error": 0.06228291822767305,
          "training error": 0.01918314898222932
         },
         {
          "test error": 0.05633834843241864,
          "training error": 0.018509313110865757
         },
         {
          "test error": 0.05559284775132977,
          "training error": 0.02358826990566266
         },
         {
          "test error": 0.05119514816073115,
          "training error": 0.020800076963881815
         },
         {
          "test error": 0.05770390357249937,
          "training error": 0.024971624267277233
         },
         {
          "test error": 0.0646513889944078,
          "training error": 0.018927299857009184
         },
         {
          "test error": 0.052417429081477694,
          "training error": 0.019969229111219754
         },
         {
          "test error": 0.06624046255999731,
          "training error": 0.019550119223224385
         },
         {
          "test error": 0.056593732756266495,
          "training error": 0.020910193517576305
         },
         {
          "test error": 0.051668771035039626,
          "training error": 0.02043717797359443
         },
         {
          "test error": 0.058339432157942565,
          "training error": 0.020675690501179112
         },
         {
          "test error": 0.046636128681312686,
          "training error": 0.02236206421556774
         },
         {
          "test error": 0.05924657530700194,
          "training error": 0.020131094462776764
         },
         {
          "test error": 0.05733875901262799,
          "training error": 0.02043987643581437
         },
         {
          "test error": 0.04969894964110559,
          "training error": 0.02177497858106412
         },
         {
          "test error": 0.05077611804287505,
          "training error": 0.022330191286031482
         },
         {
          "test error": 0.05081908003137043,
          "training error": 0.0209255452857013
         },
         {
          "test error": 0.05170566871885856,
          "training error": 0.02190521029130545
         },
         {
          "test error": 0.045311746057591286,
          "training error": 0.02096014390134141
         },
         {
          "test error": 0.04824937006150492,
          "training error": 0.016811337937284433
         },
         {
          "test error": 0.050962904154574475,
          "training error": 0.019937328798161097
         },
         {
          "test error": 0.05106806109750005,
          "training error": 0.01964127822316498
         },
         {
          "test error": 0.058487885537770845,
          "training error": 0.021538340887438872
         },
         {
          "test error": 0.058405859683198474,
          "training error": 0.01921432817632719
         },
         {
          "test error": 0.04701049052392095,
          "training error": 0.020817601796235506
         }
        ]
       },
       "encoding": {
        "color": {
         "field": "Quantity",
         "type": "nominal"
        },
        "x": {
         "bin": {
          "maxbins": 100
         },
         "field": "estimated metric",
         "type": "quantitative"
        },
        "y": {
         "aggregate": "count",
         "stack": null,
         "type": "quantitative"
        }
       },
       "height": 100,
       "mark": {
        "interpolate": "step",
        "opacity": 0.3,
        "type": "area"
       },
       "transform": [
        {
         "as": [
          "Quantity",
          "estimated metric"
         ],
         "fold": [
          "training error",
          "test error"
         ]
        }
       ]
      },
      "image/png": "[encoded data removed]",
      "text/plain": [
       "<VegaLite 3 object>\n",
       "\n",
       "If you see this message, it means the renderer has not been properly enabled\n",
       "for the frontend that you are using. For more information, see\n",
       "https://altair-viz.github.io/user_guide/troubleshooting.html\n"
      ]
     },
     "execution_count": 50,
     "metadata": {},
     "output_type": "execute_result"
    }
   ],
   "source": [
    "source = pd.DataFrame({\n",
    "    'training error':ê_S,\n",
    "    'test error':ê_T\n",
    "})\n",
    "\n",
    "alt.Chart(source, height=100).transform_fold(\n",
    "    ['training error', 'test error'],\n",
    "    as_=['Quantity', 'estimated metric']\n",
    ").mark_area(\n",
    "    opacity=0.3,\n",
    "    interpolate='step'\n",
    ").encode(\n",
    "    alt.X('estimated metric:Q', bin=alt.Bin(maxbins=100)),\n",
    "    alt.Y('count()', stack=None),\n",
    "    alt.Color('Quantity:N')\n",
    ")"
   ]
  },
  {
   "cell_type": "markdown",
   "metadata": {},
   "source": [
    "## The Geometry of Generalization, Training, and Test Errors"
   ]
  },
  {
   "cell_type": "markdown",
   "metadata": {},
   "source": [
    "We've demonstrated that training error is a poor estimate of generalization error and specifically that it tends to underestimate the generalization error. But why should training error tend to underestimate instead of overestimate? And why is it that the effect is more pronounced when we use a random forest, but much less pronounced when we use linear regression?"
   ]
  },
  {
   "cell_type": "markdown",
   "metadata": {},
   "source": [
    "We're going to draw a picture that will help answer these questions and many more. To start, we'll imagine the space of *all possible functions* of the predictors and we'll call that $\\mathbb F$. So, for example, if there is a single predictor $x$, then you can imagine that space is something like $\\mathbb F = \\{10.2 \\dots, x^2, \\dots \\log(x) + \\frac{1}{x}, \\dots\\}$ so that each element of $\\mathbb F$ is some function of $x$ and every possible function of $x$ (of which there are infinite) is contained in $\\mathbb F$. "
   ]
  },
  {
   "cell_type": "markdown",
   "metadata": {},
   "source": [
    "The the absolute best possible model we could ever have would be \n",
    "\n",
    "$$\n",
    "f^\\dagger = \\underset{f \\in \\mathbb F}{\\text{argmin}} \\ \\  \\mathcal E (f)\n",
    "$$\n",
    "\n",
    "In other words, we'll find the function out of all the possible functions in $\\mathbb F$ that minimizes the generalization error and call that function $f^\\dagger$. By definition, it's not possible to find a better model than that."
   ]
  },
  {
   "cell_type": "markdown",
   "metadata": {
    "tags": [
     "popout"
    ]
   },
   "source": [
    "In general, there could be multiple functions that simultaneously minimize the generalization error, so $f^\\dagger$ might be a set instead of a single point. We'll illustrate it as a point in these figures because it's easier to understand, but the arguments work the same if you draw it as a space instead. In this case, the \"distances\" are the distance from each point to a boundary of the space.\n",
    "\n",
    "In general, $\\mathcal E(f^\\dagger) \\ne 0$ but there's no point in carrying around the extra $\\mathcal E(f^\\dagger)$ everywhere because when we compare distances (say $f_a \\leftrightarrow f^\\dagger = \\mathcal E(f_a) - \\mathcal E(f^\\dagger)$ vs $f_b \\leftrightarrow f^\\dagger =  \\mathcal E(f_b) - \\mathcal E(f^\\dagger)$), the $\\mathcal E(f^\\dagger)$ term drops out (i.e. we get $\\mathcal E(f_a) - \\mathcal E(f_b))$."
   ]
  },
  {
   "cell_type": "markdown",
   "metadata": {},
   "source": [
    "Now we can define the \"distance\" between $f^\\dagger$ and any point $f$ as $\\mathcal E(f) - \\mathcal E(f^\\dagger)$. To simplify things, let's assume that $\\mathcal E(f^\\dagger)$ is 0 so that the generalization error $\\mathcal E(f)$ represents the distance between our estimated model $f$ and the best possible model we could have estimated $f^\\dagger$."
   ]
  },
  {
   "cell_type": "markdown",
   "metadata": {},
   "source": [
    "Now let's consider fitting a model. We don't know what the best possible model $f^\\dagger$ is - for multiple reasons: 1) We can't calculate the expectation over the data-generating distribution because we don't know what that distribution is, and, 2) even if we did, there would be no way to optimize the generalization error over the space of all possible functions. \n",
    "\n",
    "What we do get to observe are the data $X,y$ in the training set $\\mathcal S$. That \"solves\" the problem of not knowing the data-generating distribution in the sense that we can approximate the expectation over the distribution with an average over the observed data points. That's $\\hat {\\mathcal E}_{\\mathcal S}(f)$. Now imagine we could find the function in $\\mathbb F$ that would optimize this training error:  \n",
    "\n",
    "$$\n",
    "f_{\\mathcal S} = \\underset{f \\in \\mathbb F}{\\text{argmin}} \\ \\  \\hat{\\mathcal E}_{\\mathcal S} (f)\n",
    "$$"
   ]
  },
  {
   "cell_type": "markdown",
   "metadata": {},
   "source": [
    "Unfortunately, we also can't find $f_{\\mathcal S}$ because it's not possible (for reasons discussed in previous chapters) to search over the entire space $\\mathbb F$. Thus we restrict our search for a model to some smaller space. We call this the model space $\\mathcal F$, which is the space of all functions that we are willing to consider for our model $f$. For instance, if we are fitting a cubic model $\\hat y_i = a x_i^3 + b x_i^2 + c x_i + d$, we are only considering elements of $\\mathbb F$ that have that particular form. So a function like $\\log(x) + \\frac{1}{x}$ would be in $\\mathbb F$, but not in $\\mathcal F$. Using a smaller model space is a workaround for the second problem because we are substituting $\\mathcal F$ for $\\mathbb F$:"
   ]
  },
  {
   "cell_type": "markdown",
   "metadata": {},
   "source": [
    "$$\n",
    "f = \\underset{f \\in \\mathcal F}{\\text{argmin}} \\ \\  \\hat{\\mathcal E}_{\\mathcal S} (f)\n",
    "$$"
   ]
  },
  {
   "cell_type": "markdown",
   "metadata": {},
   "source": [
    "And this expression neatly represents the three components of the supervised learning problem: 1) the model space $\\mathcal F$, 2) the loss function $\\hat{\\mathcal E}_{\\mathcal S}(f)$, and the optimization algorithm that ends up implementing the $\\text{argmin}$ operation. The result is the fit model $f$."
   ]
  },
  {
   "cell_type": "markdown",
   "metadata": {
    "tags": [
     "popout"
    ]
   },
   "source": [
    "We're used to seeing the loss expressed as $L(y, \\hat y)$, so how is the training error $\\hat{\\mathcal E}_{\\mathcal S}(f)$ the same as that? Well, if the loss function and the evaluation metric are the same, you'll be able to see how $L(y, \\hat y)$ is the same as $\\hat{\\mathcal E}_{\\mathcal S}(f)$ once you write them both out. If the loss and the evaluation metric are *not* the same, then you can think of the loss as an approximation to the evaluation metric. By finding the model that minimizes the loss, we're hoping to find one that does well in terms of the evaluation metric too. \n",
    "\n",
    "$\\hat{\\mathcal E}_{\\mathcal S} (f_\\mathcal S)$ will actually always be 0 assuming $x_i \\ne x_j$ since there is always a function that can perfectly interpolate any finite set of points. Furthermore, there are always an infinite number of interpolating functions, so $f_\\mathcal S$ will actually be a set in its own right. As before, we'll draw it as a point to simplify the presentation."
   ]
  },
  {
   "cell_type": "markdown",
   "metadata": {},
   "source": [
    "Now we can also define a distance between $f_\\mathcal{S}$, the model that theoretically optimizes the training error, and any model $f$ as $\\hat{\\mathcal E}_{\\mathcal S} (f) - \\hat{\\mathcal E}_{\\mathcal S} (f_\\mathcal S)$, similar to what we did before with the true generalization error and $f^\\dagger$. And, as before, we can drop the $\\hat{\\mathcal E}_{\\mathcal S} (f_\\mathcal S)$ so that the training error $\\hat{\\mathcal E}_{\\mathcal S} (f)$ represents the distance between the estimated model $f$ and the model with the best possible training error $f_\\mathcal{S}$."
   ]
  },
  {
   "cell_type": "markdown",
   "metadata": {},
   "source": [
    "When we solve our optimization problem to find $f$, we're looking for the model $\\mathcal F$ that minimizes the training error. Another way of looking at that is that we're finding the point in $\\mathcal F$ that is closest to $f_{\\mathcal S}$ (in the hopes that $f_{\\mathcal S}$ is close to $f^\\dagger$)."
   ]
  },
  {
   "cell_type": "code",
   "execution_count": null,
   "metadata": {},
   "outputs": [],
   "source": []
  }
 ],
 "metadata": {
  "kernelspec": {
   "display_name": "Python 3",
   "language": "python",
   "name": "python3"
  },
  "language_info": {
   "codemirror_mode": {
    "name": "ipython",
    "version": 3
   },
   "file_extension": ".py",
   "mimetype": "text/x-python",
   "name": "python",
   "nbconvert_exporter": "python",
   "pygments_lexer": "ipython3",
   "version": "3.7.6"
  }
 },
 "nbformat": 4,
 "nbformat_minor": 4
}
