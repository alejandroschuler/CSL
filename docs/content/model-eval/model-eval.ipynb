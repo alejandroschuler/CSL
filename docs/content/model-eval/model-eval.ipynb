{
 "cells": [
  {
   "cell_type": "markdown",
   "metadata": {},
   "source": [
    "# Model Evaluation"
   ]
  },
  {
   "cell_type": "markdown",
   "metadata": {},
   "source": [
    "At the end of the day, we're looking for a model that will help us predict accurately in the future. So the best way to evaluate a model would be to travel forward in time from the time of model deployment until the end of time, gather up all of the model predictions, and compare them to what actually ended up happening. Obviously this isn't feasible, but we need to clearly identify what it is we're trying to optimize before we can figure out a way to get around the practical problems in estimating it."
   ]
  },
  {
   "cell_type": "markdown",
   "metadata": {},
   "source": [
    "## Evaluation Metrics"
   ]
  },
  {
   "cell_type": "markdown",
   "metadata": {},
   "source": [
    "The first thing we need to do is iron out the details of what we mean by \"comparing\" the predictions to what actually happened. To do that, we need to come up with a rule that tells us how happy we are with a prediction $\\hat y$ (in the case of regression) or $\\hat p$ (in the case of probabilistic classification) if the real outcome was $y$. We'll call that rule an *evaluation metric* and denote it $M(y,\\hat y)$. The absolute error $|\\hat y - y|$ is one possible metric in the case of regression, as is accuracy $(\\hat p > 0.5) == y$ in the case of classification. The purpose of the evaluation metric is to encode what *you* think makes a good prediction, so the sky is the limit. Maybe if you predict within 0.1 of the truth it's all the same to you, but if you're further out than that then you want to penalize quadratically. Maybe after a certain amount of error all predictions are equally bad so you don't care to penalize any more than some maximum value. It's up to you to decide."
   ]
  },
  {
   "cell_type": "markdown",
   "metadata": {
    "tags": [
     "popout"
    ]
   },
   "source": [
    "##### EXERCISE\n",
    "\n",
    "Write python code for an evaluation metric `def M(y, ŷ):` that returns $|\\hat y - y|$ when that value is less than 10, but returns 10 otherwise. Think up a scenario where you might want to use an evaluation metric like this."
   ]
  },
  {
   "cell_type": "markdown",
   "metadata": {
    "tags": [
     "popout"
    ]
   },
   "source": [
    "##### EXERCISE\n",
    "\n",
    "Imagine you're using some kind of regression model to predict the roll angle (in degrees) of a drone based on video from the drone (i.e. is the drone upside down? tilting 30 degrees left?). The regression model can theoretically output any number between minus and positive infinity. One of your colleagues proposes using absolute deviation $|\\hat y -y|$ as the evaluation metric, but another colleague instead proposes `def M(y, ŷ): np.abs(y-ŷ) % 360`. Which do you think is better and why?"
   ]
  },
  {
   "cell_type": "code",
   "execution_count": 1,
   "metadata": {
    "tags": [
     "remove_input"
    ]
   },
   "outputs": [],
   "source": [
    "# metrics to evaluate interrelated predictions?"
   ]
  },
  {
   "cell_type": "markdown",
   "metadata": {},
   "source": [
    "### Metrics and Losses"
   ]
  },
  {
   "cell_type": "markdown",
   "metadata": {},
   "source": [
    "The evaluation metric is a lot like a loss function in that it tells you how bad or good your prediction is relative to reality. In many cases, the evaluation metric and the loss function used to fit the model in the first place are the same (e.g. mean-squared error for both). However, there are many cases in which they are not the same. There are several reasons why you might want to use a different loss function than your evaluation metric. One common reason is that the evaluation metric you want to use is not differentiable, but the optimization algorithm you are using requires gradients. This is often the case with classification: perhaps the 1/0 classification accuracy is the metric you really care about, but, since it is not differentiable, you use the log loss (cross entropy) instead. Another possible reason is that your evaluation metric includes interactions between several model predictions and outcomes instead of just comparing them one-by-one (we won't discuss metrics like these, but know you can construct them). Or perhaps you would like to use a particular software package that has a particular loss function built into the algorithm, so you aren't free to choose it. \n",
    "\n",
    "All in all, you can think of the loss as a \"dumbed down\" version of the evaluation metric. The evaluation metric is the thing you really care about, but for the purpose of fitting a model, you're willing to use a (simpler) loss as a proxy."
   ]
  },
  {
   "cell_type": "markdown",
   "metadata": {},
   "source": [
    "## Generalization Error"
   ]
  },
  {
   "cell_type": "markdown",
   "metadata": {},
   "source": [
    "Now that we have a way to quantify how good or how bad a prediction is relative to the truth, we can get back to our model evaluation problem. Let's imagine that between now and the end of time, we would gather the data $(X^{\\dagger}, y^{\\dagger})$, where the $\\dagger$ is just there to differentiate these data from what we've observed in the past. These datasets could be either finite or infinite based on how many times we expect the model to run in the future, but either way let's call the total number of future model runs $n^\\dagger$. Let's also say that the model that we've built/trained today is baked into a function $f(x)$ which in code looks something like `def f(x): model.predict(x)`, and that we've chosen an evaluation metric $M$. Then our final measure of how good our model is should be:\n",
    "\n",
    "$$\n",
    "\\mathcal E(f) \n",
    "=\n",
    "\\frac{1}{n^\\dagger} \\sum^{n^\\dagger}_i M(y_i^\\dagger, f(x_i^\\dagger))\n",
    "\\label{gen-error}\n",
    "$$"
   ]
  },
  {
   "cell_type": "markdown",
   "metadata": {},
   "source": [
    "This quantity is called the *generalization error* of the model $f$. \n",
    "\n",
    "The obvious problem with this is that we need to evaluate the model *now*. We don't have the data from the future at this moment, and we can't afford to wait until the end of time (also, if $n^\\dagger$ is infinite, the sum might not even make sense). So because we can't calculate it directly, we have to find a way to *approximate* the generalization error.\n",
    "\n",
    "Approximating the generalization error is *the* central problem of supervised learning. Anyone can come up with a model that produces predictions of one kind or another (using either machine learning or hand-coding), but without quantifying how good this model is likely to perform in the future, it's totally useless. \n",
    "\n",
    "Moreover, there is no \"wrong\" way to fit a model. The consequence of doing a bad job fitting a model is that your model may perform poorly. But that's ok! If you evaluate correctly, you know exactly how poor the performance is and you can try different approaches to try to improve it. On the other hand, there are many wrong ways to approximate the generalization error of a model. If you assess your model incorrectly, you will have absolutely no idea of how good your model is in reality. Furthermore, unless you think critically about the result you're seeing, you may not even have any indication that you did something wrong.\n",
    "\n",
    "This point is so important that it bears repeating: knowing how to *evaluate* a model is more important than knowing how to *fit* a model. You should only worry about the latter once you understand the former. So keep your eye on the prize!"
   ]
  },
  {
   "cell_type": "markdown",
   "metadata": {},
   "source": [
    "## Estimating Generalization Error"
   ]
  },
  {
   "cell_type": "markdown",
   "metadata": {},
   "source": [
    "\n",
    "We want to calculate the generalization error for our model but we can't because we don't have all the future data. One approach we can use to estimate the generalization error is to calculate it using *past* data instead of *future* data. In essence, what we are assuming is that what has happened is a pretty good approximation for what will happen. The extent to which this is not true is the extent to which our approximation will be off. We'll use $\\hat{\\mathcal E}(f)$ to denote this approximation of the generalization error:"
   ]
  },
  {
   "cell_type": "markdown",
   "metadata": {},
   "source": [
    "$$\n",
    "\\mathcal {\\hat E}(f) \n",
    "=\n",
    "\\frac{1}{n} \\sum^{n}_i M(y_i, f(x_i))\n",
    "\\label{empirical-error}\n",
    "$$"
   ]
  },
  {
   "cell_type": "markdown",
   "metadata": {},
   "source": [
    "Let's try this approach out with a simulation. We're going to build a little \"data factory\" that generates rows of data for us. We'll run it $n=1000$ times to generate our observed data $(X,y)$. Then we're going to fit a model using that data, which will give us $f$. Once we have our model, we'll estimate the generalization error $\\hat{\\mathcal E}(f)$ using the above formula \\ref{empirical-error}. \n",
    "\n",
    "However, since our data is simulated, we can also simulate all of the future data $(X^\\dagger,y^\\dagger)$ that we will observe if we let the model run $n^\\dagger=1000$ more times. Assuming we only planned on making 1000 predictions from get-go, that is all the data we need to calcualte the true generalization error $\\mathcal E(f)$ using \\ref{gen-error}. Then we will compare our previously estimated generalization error $\\hat{\\mathcal E}(f)$ to the truth $\\mathcal E(f)$ to see if our approach works. We'll repeat this whole process 500 times so we can see if how good our estimates of model performance are on average."
   ]
  },
  {
   "cell_type": "markdown",
   "metadata": {},
   "source": [
    "Our data factory can be whatever we want, but for this experiment we'll set it up to generate random $x$ and $y$:"
   ]
  },
  {
   "cell_type": "code",
   "execution_count": 2,
   "metadata": {},
   "outputs": [],
   "source": [
    "import numpy as np"
   ]
  },
  {
   "cell_type": "code",
   "execution_count": 23,
   "metadata": {},
   "outputs": [],
   "source": [
    "def data_factory(n):\n",
    "    X = np.random.random((n,5)) # 5 predictors\n",
    "#     y = np.random.random((n,))\n",
    "    y = X[:,0]**2 + np.log(X[:,1])\n",
    "    return X,y"
   ]
  },
  {
   "cell_type": "code",
   "execution_count": 24,
   "metadata": {},
   "outputs": [],
   "source": [
    "X,y = data_factory(1000)"
   ]
  },
  {
   "cell_type": "markdown",
   "metadata": {},
   "source": [
    "Let's look at the first 3 rows:"
   ]
  },
  {
   "cell_type": "code",
   "execution_count": 25,
   "metadata": {
    "tags": [
     "hide_input"
    ]
   },
   "outputs": [
    {
     "data": {
      "text/plain": [
       "(array([[0.91586927, 0.34109255, 0.18769485, 0.25513254, 0.99946363],\n",
       "        [0.96560603, 0.91925419, 0.99269982, 0.36219822, 0.95019696],\n",
       "        [0.7137451 , 0.79316455, 0.84880701, 0.28760566, 0.67715313]]),\n",
       " array([-0.23678489,  0.8482024 ,  0.27770748]))"
      ]
     },
     "execution_count": 25,
     "metadata": {},
     "output_type": "execute_result"
    }
   ],
   "source": [
    "X[0:3,:],y[0:3]"
   ]
  },
  {
   "cell_type": "markdown",
   "metadata": {},
   "source": [
    "Great. Now let's fit a model. I'll use a random forest model for this, but it doesn't matter if you understand how a random forest works or not- all you need to know is that it's an algorithm that takes data $(X,y)$ and produces a model $f$ that will produce new estimates of $y$ given new predictors $x$. "
   ]
  },
  {
   "cell_type": "code",
   "execution_count": 26,
   "metadata": {
    "tags": [
     "hide_output"
    ]
   },
   "outputs": [
    {
     "data": {
      "text/plain": [
       "RandomForestRegressor(bootstrap=True, criterion='mse', max_depth=None,\n",
       "                      max_features='auto', max_leaf_nodes=None,\n",
       "                      min_impurity_decrease=0.0, min_impurity_split=None,\n",
       "                      min_samples_leaf=1, min_samples_split=2,\n",
       "                      min_weight_fraction_leaf=0.0, n_estimators=100,\n",
       "                      n_jobs=None, oob_score=False, random_state=None,\n",
       "                      verbose=0, warm_start=False)"
      ]
     },
     "execution_count": 26,
     "metadata": {},
     "output_type": "execute_result"
    }
   ],
   "source": [
    "from sklearn.ensemble import RandomForestRegressor\n",
    "\n",
    "model = RandomForestRegressor(n_estimators=100)\n",
    "model.fit(X,y)"
   ]
  },
  {
   "cell_type": "markdown",
   "metadata": {},
   "source": [
    "We'll use absolute error as our evaluation metric and estimate the generalization error."
   ]
  },
  {
   "cell_type": "code",
   "execution_count": 27,
   "metadata": {},
   "outputs": [],
   "source": [
    "def metric(y,ŷ):\n",
    "    return np.mean(np.abs(y-ŷ))"
   ]
  },
  {
   "cell_type": "code",
   "execution_count": 28,
   "metadata": {},
   "outputs": [],
   "source": [
    "ŷ = model.predict(X)\n",
    "ê = metric(y,ŷ)"
   ]
  },
  {
   "cell_type": "markdown",
   "metadata": {},
   "source": [
    "Now we'll generate our \"future\" data and calculate the real generalization error"
   ]
  },
  {
   "cell_type": "code",
   "execution_count": 29,
   "metadata": {},
   "outputs": [],
   "source": [
    "X_future, y_future = data_factory(1000)\n",
    "ŷ_future = model.predict(X_future)\n",
    "e = metric(y_future, ŷ_future)"
   ]
  },
  {
   "cell_type": "markdown",
   "metadata": {},
   "source": [
    "Let's compare the two:"
   ]
  },
  {
   "cell_type": "code",
   "execution_count": 30,
   "metadata": {
    "tags": [
     "remove_input"
    ]
   },
   "outputs": [
    {
     "name": "stdout",
     "output_type": "stream",
     "text": [
      "ê: 0.013804021647218306\n",
      "e: 0.038541343476292525\n"
     ]
    }
   ],
   "source": [
    "print(f'ê: {ê}\\ne: {e}')"
   ]
  },
  {
   "cell_type": "markdown",
   "metadata": {},
   "source": [
    "This doesn't seem promising... our estimate of the generalization error is much smaller than it should be! But maybe we just got unlucky this one time. Let's repeat the simulation 500 times to make sure."
   ]
  },
  {
   "cell_type": "code",
   "execution_count": 31,
   "metadata": {
    "tags": [
     "hide_output"
    ]
   },
   "outputs": [],
   "source": [
    "def simulate_model_eval():\n",
    "    X,y = data_factory(1000)\n",
    "    model = RandomForestRegressor(n_estimators=100)\n",
    "    model.fit(X,y)\n",
    "    \n",
    "    ŷ = model.predict(X)\n",
    "    ê = metric(y,ŷ)\n",
    "    \n",
    "    X_future, y_future = data_factory(1000)\n",
    "    ŷ_future = model.predict(X_future)\n",
    "    e = metric(y_future, ŷ_future)\n",
    "    \n",
    "    return ê, e\n",
    "\n",
    "ês, es = zip(*[simulate_model_eval() for i in range(100)])"
   ]
  },
  {
   "cell_type": "code",
   "execution_count": 32,
   "metadata": {
    "tags": [
     "hide_input"
    ]
   },
   "outputs": [
    {
     "data": {
      "application/vnd.vegalite.v3+json": {
       "$schema": "https://vega.github.io/schema/vega-lite/v3.4.0.json",
       "config": {
        "mark": {
         "tooltip": null
        },
        "view": {
         "height": 300,
         "width": 400
        }
       },
       "data": {
        "name": "data-bbfbe2b1203fd603db93125173232463"
       },
       "datasets": {
        "data-bbfbe2b1203fd603db93125173232463": [
         {
          "estimated generalization error": 0.013081259057349793,
          "generalization error": 0.03578921948134594
         },
         {
          "estimated generalization error": 0.012368553638674838,
          "generalization error": 0.03125801715244087
         },
         {
          "estimated generalization error": 0.014273014099190654,
          "generalization error": 0.030335971602366913
         },
         {
          "estimated generalization error": 0.013525789300331529,
          "generalization error": 0.03635175357293494
         },
         {
          "estimated generalization error": 0.011636473351216117,
          "generalization error": 0.039709253203344036
         },
         {
          "estimated generalization error": 0.01326071027461294,
          "generalization error": 0.02888829716253707
         },
         {
          "estimated generalization error": 0.012568048811033744,
          "generalization error": 0.031495610881640185
         },
         {
          "estimated generalization error": 0.014378626616127318,
          "generalization error": 0.02925529843378593
         },
         {
          "estimated generalization error": 0.011760263233061211,
          "generalization error": 0.03161653146373692
         },
         {
          "estimated generalization error": 0.0123826502505033,
          "generalization error": 0.0307978590955963
         },
         {
          "estimated generalization error": 0.011782271497156584,
          "generalization error": 0.0318841873418664
         },
         {
          "estimated generalization error": 0.013396328757817664,
          "generalization error": 0.033804178920754824
         },
         {
          "estimated generalization error": 0.012858889701840931,
          "generalization error": 0.031804551895496636
         },
         {
          "estimated generalization error": 0.01219794506311003,
          "generalization error": 0.03266836074103403
         },
         {
          "estimated generalization error": 0.012710144588909258,
          "generalization error": 0.0364843003173455
         },
         {
          "estimated generalization error": 0.01257437524034698,
          "generalization error": 0.02997769025428457
         },
         {
          "estimated generalization error": 0.01069754873263021,
          "generalization error": 0.03713885849356622
         },
         {
          "estimated generalization error": 0.012709969504960882,
          "generalization error": 0.03060929636260916
         },
         {
          "estimated generalization error": 0.011875997676740238,
          "generalization error": 0.0345262970322094
         },
         {
          "estimated generalization error": 0.011645607477206929,
          "generalization error": 0.033757017752616705
         },
         {
          "estimated generalization error": 0.012748931767190125,
          "generalization error": 0.031016762071040028
         },
         {
          "estimated generalization error": 0.012778448500470909,
          "generalization error": 0.03316123322314878
         },
         {
          "estimated generalization error": 0.013864317142630096,
          "generalization error": 0.02848073214804183
         },
         {
          "estimated generalization error": 0.01247962052406013,
          "generalization error": 0.031736673579487215
         },
         {
          "estimated generalization error": 0.013436178692816648,
          "generalization error": 0.03393859245127486
         },
         {
          "estimated generalization error": 0.013038508345425522,
          "generalization error": 0.030108373235104936
         },
         {
          "estimated generalization error": 0.012795787522367633,
          "generalization error": 0.03386114093532813
         },
         {
          "estimated generalization error": 0.013029407948211365,
          "generalization error": 0.03314264665673192
         },
         {
          "estimated generalization error": 0.012710614739613508,
          "generalization error": 0.037514666944137326
         },
         {
          "estimated generalization error": 0.012525618967937094,
          "generalization error": 0.032755616828265194
         },
         {
          "estimated generalization error": 0.011738251599112837,
          "generalization error": 0.0332517812152659
         },
         {
          "estimated generalization error": 0.012675066223179625,
          "generalization error": 0.031994615521450095
         },
         {
          "estimated generalization error": 0.01175061281693241,
          "generalization error": 0.030551646629132952
         },
         {
          "estimated generalization error": 0.015175929371168736,
          "generalization error": 0.028045701552801
         },
         {
          "estimated generalization error": 0.012698408693142997,
          "generalization error": 0.03183981500541698
         },
         {
          "estimated generalization error": 0.01155423496238008,
          "generalization error": 0.03225044987003568
         },
         {
          "estimated generalization error": 0.011790196102483498,
          "generalization error": 0.030731223755012218
         },
         {
          "estimated generalization error": 0.012146900278551278,
          "generalization error": 0.030693395104599654
         },
         {
          "estimated generalization error": 0.012543287488458961,
          "generalization error": 0.03860564213513452
         },
         {
          "estimated generalization error": 0.01318289561030129,
          "generalization error": 0.03183448122399438
         },
         {
          "estimated generalization error": 0.013623630368695593,
          "generalization error": 0.029971198007131796
         },
         {
          "estimated generalization error": 0.013232292959648843,
          "generalization error": 0.03537865448043899
         },
         {
          "estimated generalization error": 0.012580899204299131,
          "generalization error": 0.03259434554632799
         },
         {
          "estimated generalization error": 0.012001923687539929,
          "generalization error": 0.03502602249393239
         },
         {
          "estimated generalization error": 0.012840883287836937,
          "generalization error": 0.03506483482932222
         },
         {
          "estimated generalization error": 0.012354095539611844,
          "generalization error": 0.03527808761400819
         },
         {
          "estimated generalization error": 0.012037947942407217,
          "generalization error": 0.03358023257941816
         },
         {
          "estimated generalization error": 0.013919121621729442,
          "generalization error": 0.03086331183097029
         },
         {
          "estimated generalization error": 0.01319260032652218,
          "generalization error": 0.03702174720469978
         },
         {
          "estimated generalization error": 0.013150221961397542,
          "generalization error": 0.030739972356899903
         },
         {
          "estimated generalization error": 0.0137919622024642,
          "generalization error": 0.02957541444975593
         },
         {
          "estimated generalization error": 0.012002246917978712,
          "generalization error": 0.031030654462027307
         },
         {
          "estimated generalization error": 0.013027272343168158,
          "generalization error": 0.033760160824947025
         },
         {
          "estimated generalization error": 0.013623629518809199,
          "generalization error": 0.033621658396232774
         },
         {
          "estimated generalization error": 0.013159411585179541,
          "generalization error": 0.027698612030240648
         },
         {
          "estimated generalization error": 0.012251601054083959,
          "generalization error": 0.036644364544976354
         },
         {
          "estimated generalization error": 0.013204222553317286,
          "generalization error": 0.033820498222520555
         },
         {
          "estimated generalization error": 0.013982586586329216,
          "generalization error": 0.03517983213991664
         },
         {
          "estimated generalization error": 0.0142434545722023,
          "generalization error": 0.03296487373848895
         },
         {
          "estimated generalization error": 0.012417057227441535,
          "generalization error": 0.031229533054570012
         },
         {
          "estimated generalization error": 0.012971507728073404,
          "generalization error": 0.03493347539869046
         },
         {
          "estimated generalization error": 0.01159929970012829,
          "generalization error": 0.03497719486113519
         },
         {
          "estimated generalization error": 0.01201756316553087,
          "generalization error": 0.02809299942014954
         },
         {
          "estimated generalization error": 0.01420603723375834,
          "generalization error": 0.031111209432104915
         },
         {
          "estimated generalization error": 0.015628888774617322,
          "generalization error": 0.032858031347107165
         },
         {
          "estimated generalization error": 0.012241428302394552,
          "generalization error": 0.036576092452699584
         },
         {
          "estimated generalization error": 0.013040168611181464,
          "generalization error": 0.03179202204261882
         },
         {
          "estimated generalization error": 0.011812985704333083,
          "generalization error": 0.034385824011083886
         },
         {
          "estimated generalization error": 0.012851681428375821,
          "generalization error": 0.03259315077098743
         },
         {
          "estimated generalization error": 0.012692732160439264,
          "generalization error": 0.028497325284154662
         },
         {
          "estimated generalization error": 0.010815260676035334,
          "generalization error": 0.0316241157013084
         },
         {
          "estimated generalization error": 0.011921979838511895,
          "generalization error": 0.03441004421604326
         },
         {
          "estimated generalization error": 0.013663419602317463,
          "generalization error": 0.039128580791761874
         },
         {
          "estimated generalization error": 0.012507936583473232,
          "generalization error": 0.038940181130116804
         },
         {
          "estimated generalization error": 0.01578041955802039,
          "generalization error": 0.03687791630003224
         },
         {
          "estimated generalization error": 0.013534493987590327,
          "generalization error": 0.03433579987580446
         },
         {
          "estimated generalization error": 0.01293589287140917,
          "generalization error": 0.031017622931914283
         },
         {
          "estimated generalization error": 0.012530408444292917,
          "generalization error": 0.027557628419789707
         },
         {
          "estimated generalization error": 0.012141215584064223,
          "generalization error": 0.03643228764386448
         },
         {
          "estimated generalization error": 0.013150300844453608,
          "generalization error": 0.031078186343401173
         },
         {
          "estimated generalization error": 0.011886023461574843,
          "generalization error": 0.03205014731900193
         },
         {
          "estimated generalization error": 0.0121680612969752,
          "generalization error": 0.0359122287876121
         },
         {
          "estimated generalization error": 0.013033376341649482,
          "generalization error": 0.02871743852675145
         },
         {
          "estimated generalization error": 0.011505096034858312,
          "generalization error": 0.0347153965042759
         },
         {
          "estimated generalization error": 0.013872123720356483,
          "generalization error": 0.03158521673210576
         },
         {
          "estimated generalization error": 0.01237699839556679,
          "generalization error": 0.031091953512157287
         },
         {
          "estimated generalization error": 0.014446238320382825,
          "generalization error": 0.04076688357936516
         },
         {
          "estimated generalization error": 0.012354433442670818,
          "generalization error": 0.03219895554008582
         },
         {
          "estimated generalization error": 0.011525573238845045,
          "generalization error": 0.041150966729779415
         },
         {
          "estimated generalization error": 0.01289235657019812,
          "generalization error": 0.02889214540799686
         },
         {
          "estimated generalization error": 0.013186965331743242,
          "generalization error": 0.03296839632871994
         },
         {
          "estimated generalization error": 0.013192742295972988,
          "generalization error": 0.03295243934899399
         },
         {
          "estimated generalization error": 0.013038221755094604,
          "generalization error": 0.0321676716836203
         },
         {
          "estimated generalization error": 0.014577531814323343,
          "generalization error": 0.03726270225813944
         },
         {
          "estimated generalization error": 0.013265067517000795,
          "generalization error": 0.03003728140760596
         },
         {
          "estimated generalization error": 0.01287647106830022,
          "generalization error": 0.040918621721841936
         },
         {
          "estimated generalization error": 0.012114430620428567,
          "generalization error": 0.03785699225007041
         },
         {
          "estimated generalization error": 0.012927357155897991,
          "generalization error": 0.031481791548373314
         },
         {
          "estimated generalization error": 0.013425326367054378,
          "generalization error": 0.037376172384756774
         },
         {
          "estimated generalization error": 0.012463119795865552,
          "generalization error": 0.0458260651662693
         }
        ]
       },
       "encoding": {
        "color": {
         "field": "Quantity",
         "type": "nominal"
        },
        "x": {
         "bin": {
          "maxbins": 100
         },
         "field": "error",
         "type": "quantitative"
        },
        "y": {
         "aggregate": "count",
         "stack": null,
         "type": "quantitative"
        }
       },
       "height": 100,
       "mark": {
        "interpolate": "step",
        "opacity": 0.3,
        "type": "area"
       },
       "transform": [
        {
         "as": [
          "Quantity",
          "error"
         ],
         "fold": [
          "estimated generalization error",
          "generalization error"
         ]
        }
       ]
      },
      "image/png": "[encoded data removed]",
      "text/plain": [
       "<VegaLite 3 object>\n",
       "\n",
       "If you see this message, it means the renderer has not been properly enabled\n",
       "for the frontend that you are using. For more information, see\n",
       "https://altair-viz.github.io/user_guide/troubleshooting.html\n"
      ]
     },
     "execution_count": 32,
     "metadata": {},
     "output_type": "execute_result"
    }
   ],
   "source": [
    "import pandas as pd\n",
    "import altair as alt\n",
    "\n",
    "source = pd.DataFrame({\n",
    "    'estimated generalization error':ês,\n",
    "    'generalization error':es\n",
    "})\n",
    "\n",
    "alt.Chart(source, height=100).transform_fold(\n",
    "    ['estimated generalization error', 'generalization error'],\n",
    "    as_=['Quantity', 'error']\n",
    ").mark_area(\n",
    "    opacity=0.3,\n",
    "    interpolate='step'\n",
    ").encode(\n",
    "    alt.X('error:Q', bin=alt.Bin(maxbins=100)),\n",
    "    alt.Y('count()', stack=None),\n",
    "    alt.Color('Quantity:N')\n",
    ")"
   ]
  },
  {
   "cell_type": "markdown",
   "metadata": {},
   "source": [
    "Ouch. This shows that our estimates are of generalization error are consistently far too low. Out of curiosity, let's see if that still happens if we use a linear model instead of a random forest."
   ]
  },
  {
   "cell_type": "markdown",
   "metadata": {
    "tags": [
     "popout"
    ]
   },
   "source": [
    "When an estimator is on average less than the quantitiy it is trying to estimate, we say that the estimator is *biased downward*. Thus $\\hat{\\mathcal E}$ is biased downward (for $\\mathcal{E}$)."
   ]
  },
  {
   "cell_type": "code",
   "execution_count": 33,
   "metadata": {
    "tags": [
     "hide_output"
    ]
   },
   "outputs": [],
   "source": [
    "from sklearn.linear_model import LinearRegression\n",
    "\n",
    "def simulate_model_eval():\n",
    "    X,y = data_factory(1000)\n",
    "    model = LinearRegression()\n",
    "    model.fit(X,y)\n",
    "    \n",
    "    ŷ = model.predict(X)\n",
    "    ê = metric(y,ŷ)\n",
    "    \n",
    "    X_future, y_future = data_factory(1000)\n",
    "    ŷ_future = model.predict(X_future)\n",
    "    e = metric(y_future, ŷ_future)\n",
    "    \n",
    "    return ê, e\n",
    "\n",
    "ês, es = zip(*[simulate_model_eval() for i in range(500)])"
   ]
  },
  {
   "cell_type": "code",
   "execution_count": 34,
   "metadata": {
    "tags": [
     "remove_input"
    ]
   },
   "outputs": [
    {
     "data": {
      "application/vnd.vegalite.v3+json": {
       "$schema": "https://vega.github.io/schema/vega-lite/v3.4.0.json",
       "config": {
        "mark": {
         "tooltip": null
        },
        "view": {
         "height": 300,
         "width": 400
        }
       },
       "data": {
        "name": "data-e5f8a256d034b220a4d28c8978ed0d85"
       },
       "datasets": {
        "data-e5f8a256d034b220a4d28c8978ed0d85": [
         {
          "estimated generalization error": 0.3177612006249683,
          "generalization error": 0.3388893515743189
         },
         {
          "estimated generalization error": 0.3244681742677386,
          "generalization error": 0.3549348523594696
         },
         {
          "estimated generalization error": 0.3524603980321286,
          "generalization error": 0.3599175875706737
         },
         {
          "estimated generalization error": 0.30426528106006107,
          "generalization error": 0.3420457112582685
         },
         {
          "estimated generalization error": 0.3174548420967419,
          "generalization error": 0.33372345454795893
         },
         {
          "estimated generalization error": 0.3812960262217118,
          "generalization error": 0.36656417527049495
         },
         {
          "estimated generalization error": 0.32821094051990474,
          "generalization error": 0.3228491881343261
         },
         {
          "estimated generalization error": 0.36115633234458633,
          "generalization error": 0.36960741939999386
         },
         {
          "estimated generalization error": 0.31844087796316434,
          "generalization error": 0.3427189356108711
         },
         {
          "estimated generalization error": 0.3197079836461155,
          "generalization error": 0.3118578744962589
         },
         {
          "estimated generalization error": 0.3029366915769581,
          "generalization error": 0.3239769073698941
         },
         {
          "estimated generalization error": 0.40277503607748316,
          "generalization error": 0.36036462728871926
         },
         {
          "estimated generalization error": 0.34559304470516783,
          "generalization error": 0.34569573968339
         },
         {
          "estimated generalization error": 0.35893268686636576,
          "generalization error": 0.33539072848081697
         },
         {
          "estimated generalization error": 0.36933182082206656,
          "generalization error": 0.35755956510642045
         },
         {
          "estimated generalization error": 0.33515378345239405,
          "generalization error": 0.3235566329196365
         },
         {
          "estimated generalization error": 0.3111403899828031,
          "generalization error": 0.3382870433158674
         },
         {
          "estimated generalization error": 0.33662248191237165,
          "generalization error": 0.35399771813310865
         },
         {
          "estimated generalization error": 0.35649633519738405,
          "generalization error": 0.3710047166710464
         },
         {
          "estimated generalization error": 0.3557086777330705,
          "generalization error": 0.35352496866308086
         },
         {
          "estimated generalization error": 0.31563550685678377,
          "generalization error": 0.32321146944237966
         },
         {
          "estimated generalization error": 0.33208122466462786,
          "generalization error": 0.32141530945576435
         },
         {
          "estimated generalization error": 0.33203515560309343,
          "generalization error": 0.3269834880140104
         },
         {
          "estimated generalization error": 0.32813864067529597,
          "generalization error": 0.3253953587021517
         },
         {
          "estimated generalization error": 0.37153910770712945,
          "generalization error": 0.34855599320053876
         },
         {
          "estimated generalization error": 0.32557603488759096,
          "generalization error": 0.3326058399844562
         },
         {
          "estimated generalization error": 0.3487808824730529,
          "generalization error": 0.31441769693704985
         },
         {
          "estimated generalization error": 0.337976354565458,
          "generalization error": 0.31680514451460895
         },
         {
          "estimated generalization error": 0.340095648014729,
          "generalization error": 0.32912067994204075
         },
         {
          "estimated generalization error": 0.3044364698526266,
          "generalization error": 0.32693018655990363
         },
         {
          "estimated generalization error": 0.31841989707910323,
          "generalization error": 0.29203172954600015
         },
         {
          "estimated generalization error": 0.34490187978909204,
          "generalization error": 0.33403348434754476
         },
         {
          "estimated generalization error": 0.3633412276712943,
          "generalization error": 0.348430843506358
         },
         {
          "estimated generalization error": 0.30017376457156686,
          "generalization error": 0.32628959625029763
         },
         {
          "estimated generalization error": 0.33214105229980284,
          "generalization error": 0.3261190986995851
         },
         {
          "estimated generalization error": 0.3030703109385654,
          "generalization error": 0.3139748965447417
         },
         {
          "estimated generalization error": 0.3432609212132704,
          "generalization error": 0.3494637013705875
         },
         {
          "estimated generalization error": 0.30934115987345706,
          "generalization error": 0.30653219860259423
         },
         {
          "estimated generalization error": 0.3355098415838648,
          "generalization error": 0.34583388185217984
         },
         {
          "estimated generalization error": 0.312228022181112,
          "generalization error": 0.3165254998777498
         },
         {
          "estimated generalization error": 0.3157508390495658,
          "generalization error": 0.3099022948378963
         },
         {
          "estimated generalization error": 0.36423743183982854,
          "generalization error": 0.35743477163088266
         },
         {
          "estimated generalization error": 0.31661231898797276,
          "generalization error": 0.3252150718562934
         },
         {
          "estimated generalization error": 0.31747884622235417,
          "generalization error": 0.2931929057112779
         },
         {
          "estimated generalization error": 0.35046403962118017,
          "generalization error": 0.33444981294945136
         },
         {
          "estimated generalization error": 0.2913132964157882,
          "generalization error": 0.3096870984452833
         },
         {
          "estimated generalization error": 0.3217214323566506,
          "generalization error": 0.3252211839680042
         },
         {
          "estimated generalization error": 0.3151049099101619,
          "generalization error": 0.31974587881628347
         },
         {
          "estimated generalization error": 0.2717961539225468,
          "generalization error": 0.29327774527621736
         },
         {
          "estimated generalization error": 0.3183613537114892,
          "generalization error": 0.3278238216798549
         },
         {
          "estimated generalization error": 0.3427851117582715,
          "generalization error": 0.33790079254766586
         },
         {
          "estimated generalization error": 0.3220060061947737,
          "generalization error": 0.36256755225616005
         },
         {
          "estimated generalization error": 0.3623533458232063,
          "generalization error": 0.362833718781241
         },
         {
          "estimated generalization error": 0.31873356482984194,
          "generalization error": 0.33499506341879337
         },
         {
          "estimated generalization error": 0.33609341146696237,
          "generalization error": 0.3170921187641364
         },
         {
          "estimated generalization error": 0.3387579494731035,
          "generalization error": 0.33490903541139233
         },
         {
          "estimated generalization error": 0.3210247080111187,
          "generalization error": 0.35282336292969546
         },
         {
          "estimated generalization error": 0.324108451812117,
          "generalization error": 0.3723813563267619
         },
         {
          "estimated generalization error": 0.33000860692626544,
          "generalization error": 0.3371289740133574
         },
         {
          "estimated generalization error": 0.2784036268297799,
          "generalization error": 0.3196622117830414
         },
         {
          "estimated generalization error": 0.3500506212961871,
          "generalization error": 0.3162337826704154
         },
         {
          "estimated generalization error": 0.34388387518561553,
          "generalization error": 0.332201501380599
         },
         {
          "estimated generalization error": 0.36384879861767133,
          "generalization error": 0.34925197354464405
         },
         {
          "estimated generalization error": 0.3140292465349826,
          "generalization error": 0.31548289485172654
         },
         {
          "estimated generalization error": 0.3262815690509576,
          "generalization error": 0.30287376546431166
         },
         {
          "estimated generalization error": 0.32231280114029504,
          "generalization error": 0.33867446086696934
         },
         {
          "estimated generalization error": 0.31697735954219275,
          "generalization error": 0.3275002476657178
         },
         {
          "estimated generalization error": 0.30502545276408854,
          "generalization error": 0.32847775950631203
         },
         {
          "estimated generalization error": 0.3303238609370056,
          "generalization error": 0.33603120924486046
         },
         {
          "estimated generalization error": 0.3009890342936353,
          "generalization error": 0.3081836707953406
         },
         {
          "estimated generalization error": 0.33457365126487376,
          "generalization error": 0.34334007811129685
         },
         {
          "estimated generalization error": 0.2903320469297988,
          "generalization error": 0.2913422177881298
         },
         {
          "estimated generalization error": 0.3383871082075293,
          "generalization error": 0.32987110106770373
         },
         {
          "estimated generalization error": 0.3574093812068007,
          "generalization error": 0.3546251891666031
         },
         {
          "estimated generalization error": 0.33445176699509305,
          "generalization error": 0.3266233417959348
         },
         {
          "estimated generalization error": 0.3209463268867506,
          "generalization error": 0.32535991623351124
         },
         {
          "estimated generalization error": 0.3118084729864223,
          "generalization error": 0.33209161370391166
         },
         {
          "estimated generalization error": 0.3202243581423993,
          "generalization error": 0.3381204847689353
         },
         {
          "estimated generalization error": 0.32399427940510284,
          "generalization error": 0.3132062814865155
         },
         {
          "estimated generalization error": 0.3185304305648592,
          "generalization error": 0.31877009199474615
         },
         {
          "estimated generalization error": 0.31791886699223826,
          "generalization error": 0.3414109416097662
         },
         {
          "estimated generalization error": 0.3463619957279515,
          "generalization error": 0.33908705748960416
         },
         {
          "estimated generalization error": 0.2824647967062691,
          "generalization error": 0.32360409114560035
         },
         {
          "estimated generalization error": 0.3314387433546315,
          "generalization error": 0.32286519056694873
         },
         {
          "estimated generalization error": 0.2962051383329849,
          "generalization error": 0.31498021964083867
         },
         {
          "estimated generalization error": 0.3379863179086318,
          "generalization error": 0.3230138119326899
         },
         {
          "estimated generalization error": 0.3291055803113205,
          "generalization error": 0.35480051019466397
         },
         {
          "estimated generalization error": 0.316623954928106,
          "generalization error": 0.3272752557369534
         },
         {
          "estimated generalization error": 0.30576508755924303,
          "generalization error": 0.31194306084779033
         },
         {
          "estimated generalization error": 0.3172312633160052,
          "generalization error": 0.324983364639724
         },
         {
          "estimated generalization error": 0.3049524066991893,
          "generalization error": 0.3387464018526316
         },
         {
          "estimated generalization error": 0.31851135957085763,
          "generalization error": 0.3378204099455844
         },
         {
          "estimated generalization error": 0.3621466204836228,
          "generalization error": 0.3693258369227386
         },
         {
          "estimated generalization error": 0.3082899869187089,
          "generalization error": 0.29278463631774815
         },
         {
          "estimated generalization error": 0.2999869599200901,
          "generalization error": 0.31030591015668463
         },
         {
          "estimated generalization error": 0.33520832965760405,
          "generalization error": 0.32693460255976087
         },
         {
          "estimated generalization error": 0.31446807036038843,
          "generalization error": 0.311319154470056
         },
         {
          "estimated generalization error": 0.33164499356751453,
          "generalization error": 0.31115183716868466
         },
         {
          "estimated generalization error": 0.3336180853046816,
          "generalization error": 0.3235081043148957
         },
         {
          "estimated generalization error": 0.36262228178663347,
          "generalization error": 0.3398931985440144
         },
         {
          "estimated generalization error": 0.30992274202538295,
          "generalization error": 0.3290350422224869
         },
         {
          "estimated generalization error": 0.3238135170186742,
          "generalization error": 0.3437166790660224
         },
         {
          "estimated generalization error": 0.32226937787179427,
          "generalization error": 0.3194067792081505
         },
         {
          "estimated generalization error": 0.35305316798998654,
          "generalization error": 0.34297959870806427
         },
         {
          "estimated generalization error": 0.2850088188670752,
          "generalization error": 0.30690373822978834
         },
         {
          "estimated generalization error": 0.347439108943067,
          "generalization error": 0.3315224120916106
         },
         {
          "estimated generalization error": 0.3254644511142303,
          "generalization error": 0.33992761883681566
         },
         {
          "estimated generalization error": 0.34872165110608316,
          "generalization error": 0.3491124639822052
         },
         {
          "estimated generalization error": 0.31308953884230223,
          "generalization error": 0.3268089827893743
         },
         {
          "estimated generalization error": 0.31578940016557433,
          "generalization error": 0.33191810583686276
         },
         {
          "estimated generalization error": 0.3066769649665532,
          "generalization error": 0.3329190289782639
         },
         {
          "estimated generalization error": 0.29990542909158624,
          "generalization error": 0.2942969898037179
         },
         {
          "estimated generalization error": 0.3525577258883623,
          "generalization error": 0.3214905857640198
         },
         {
          "estimated generalization error": 0.31024586640399937,
          "generalization error": 0.3223879387760626
         },
         {
          "estimated generalization error": 0.3037194534900352,
          "generalization error": 0.3171834235743769
         },
         {
          "estimated generalization error": 0.30380226482729206,
          "generalization error": 0.3269630074112686
         },
         {
          "estimated generalization error": 0.33861220216128823,
          "generalization error": 0.3698221845203885
         },
         {
          "estimated generalization error": 0.35184239921664723,
          "generalization error": 0.3478274525172226
         },
         {
          "estimated generalization error": 0.35111145907626345,
          "generalization error": 0.32848787153057646
         },
         {
          "estimated generalization error": 0.30275781027086474,
          "generalization error": 0.3009711783629476
         },
         {
          "estimated generalization error": 0.34906832298937057,
          "generalization error": 0.3314011683679693
         },
         {
          "estimated generalization error": 0.3392104709982317,
          "generalization error": 0.3419421781183386
         },
         {
          "estimated generalization error": 0.33764141827531546,
          "generalization error": 0.3450524131910505
         },
         {
          "estimated generalization error": 0.3228339170997309,
          "generalization error": 0.35440808337986457
         },
         {
          "estimated generalization error": 0.328031382328438,
          "generalization error": 0.34034160830159826
         },
         {
          "estimated generalization error": 0.33197429915702986,
          "generalization error": 0.32483081774812594
         },
         {
          "estimated generalization error": 0.3123385418427153,
          "generalization error": 0.32365789630681174
         },
         {
          "estimated generalization error": 0.3369158205279524,
          "generalization error": 0.3491124238219761
         },
         {
          "estimated generalization error": 0.32579668031747255,
          "generalization error": 0.3384586846355708
         },
         {
          "estimated generalization error": 0.31229276837068076,
          "generalization error": 0.3358620133225589
         },
         {
          "estimated generalization error": 0.3411677490543435,
          "generalization error": 0.30439457500902156
         },
         {
          "estimated generalization error": 0.3338352098179413,
          "generalization error": 0.32215119210746535
         },
         {
          "estimated generalization error": 0.33895369162562045,
          "generalization error": 0.3145362289370582
         },
         {
          "estimated generalization error": 0.30908521324219435,
          "generalization error": 0.3276680824421737
         },
         {
          "estimated generalization error": 0.31915311277335867,
          "generalization error": 0.32360907354236756
         },
         {
          "estimated generalization error": 0.29715545070605404,
          "generalization error": 0.339550164939329
         },
         {
          "estimated generalization error": 0.3032152436017359,
          "generalization error": 0.32938169300536657
         },
         {
          "estimated generalization error": 0.3437837406336662,
          "generalization error": 0.3201055749011276
         },
         {
          "estimated generalization error": 0.34661532840982207,
          "generalization error": 0.3184134423730189
         },
         {
          "estimated generalization error": 0.3475521736733068,
          "generalization error": 0.33964918757098167
         },
         {
          "estimated generalization error": 0.31666451333325013,
          "generalization error": 0.31897185062983613
         },
         {
          "estimated generalization error": 0.3183306133677206,
          "generalization error": 0.328054622903359
         },
         {
          "estimated generalization error": 0.3417059695233015,
          "generalization error": 0.34500178327445846
         },
         {
          "estimated generalization error": 0.3336671047519973,
          "generalization error": 0.3185215426938323
         },
         {
          "estimated generalization error": 0.3315964725016349,
          "generalization error": 0.3471220855625836
         },
         {
          "estimated generalization error": 0.3350425703611534,
          "generalization error": 0.298169591347854
         },
         {
          "estimated generalization error": 0.3331932107435839,
          "generalization error": 0.31769324629785856
         },
         {
          "estimated generalization error": 0.3196795974870158,
          "generalization error": 0.32190624486576164
         },
         {
          "estimated generalization error": 0.3023941290551246,
          "generalization error": 0.31715993119316094
         },
         {
          "estimated generalization error": 0.34215616529884996,
          "generalization error": 0.3426912094618902
         },
         {
          "estimated generalization error": 0.33384447954636254,
          "generalization error": 0.3347465024565465
         },
         {
          "estimated generalization error": 0.2980091133471276,
          "generalization error": 0.311879311102298
         },
         {
          "estimated generalization error": 0.3320652738661155,
          "generalization error": 0.35063040265914414
         },
         {
          "estimated generalization error": 0.3310977399876832,
          "generalization error": 0.32127140139401694
         },
         {
          "estimated generalization error": 0.3297208863027788,
          "generalization error": 0.3337866708848758
         },
         {
          "estimated generalization error": 0.31838011868976174,
          "generalization error": 0.3185802014190906
         },
         {
          "estimated generalization error": 0.3541218323375271,
          "generalization error": 0.332923245248158
         },
         {
          "estimated generalization error": 0.3546833915525153,
          "generalization error": 0.35576204090237856
         },
         {
          "estimated generalization error": 0.37456087556682305,
          "generalization error": 0.3449600667381894
         },
         {
          "estimated generalization error": 0.33036983106371326,
          "generalization error": 0.3256558720030158
         },
         {
          "estimated generalization error": 0.349144033833464,
          "generalization error": 0.34111798873371846
         },
         {
          "estimated generalization error": 0.2961652057868903,
          "generalization error": 0.3401379167946919
         },
         {
          "estimated generalization error": 0.3252714042498593,
          "generalization error": 0.3370084098204755
         },
         {
          "estimated generalization error": 0.3495674868438756,
          "generalization error": 0.3417873583230301
         },
         {
          "estimated generalization error": 0.3292484271782365,
          "generalization error": 0.34379098589638246
         },
         {
          "estimated generalization error": 0.32689223690557745,
          "generalization error": 0.3353293711809271
         },
         {
          "estimated generalization error": 0.34712327443043856,
          "generalization error": 0.3296523231028091
         },
         {
          "estimated generalization error": 0.36616973719394064,
          "generalization error": 0.3445938083236032
         },
         {
          "estimated generalization error": 0.30787006001325473,
          "generalization error": 0.35749958657151115
         },
         {
          "estimated generalization error": 0.3069673104586603,
          "generalization error": 0.3147853349673467
         },
         {
          "estimated generalization error": 0.3054273593135788,
          "generalization error": 0.32227548060549976
         },
         {
          "estimated generalization error": 0.30414009979897416,
          "generalization error": 0.31732756247132626
         },
         {
          "estimated generalization error": 0.3277011568489526,
          "generalization error": 0.34088632975779026
         },
         {
          "estimated generalization error": 0.37377440311736426,
          "generalization error": 0.36032398237721497
         },
         {
          "estimated generalization error": 0.3251478744070363,
          "generalization error": 0.32295832948588726
         },
         {
          "estimated generalization error": 0.32457456806173357,
          "generalization error": 0.3431142766345189
         },
         {
          "estimated generalization error": 0.3281661653586887,
          "generalization error": 0.32926372167879253
         },
         {
          "estimated generalization error": 0.2904226593130074,
          "generalization error": 0.29725157561689525
         },
         {
          "estimated generalization error": 0.3305523785031657,
          "generalization error": 0.3388719876437482
         },
         {
          "estimated generalization error": 0.33718862636480035,
          "generalization error": 0.31738948079633056
         },
         {
          "estimated generalization error": 0.3021814900823308,
          "generalization error": 0.314568819098805
         },
         {
          "estimated generalization error": 0.30980170156495307,
          "generalization error": 0.3152900356623488
         },
         {
          "estimated generalization error": 0.3255905456473057,
          "generalization error": 0.34112405156194964
         },
         {
          "estimated generalization error": 0.28827967361793483,
          "generalization error": 0.2931898571986257
         },
         {
          "estimated generalization error": 0.30905519488216876,
          "generalization error": 0.34177673500157585
         },
         {
          "estimated generalization error": 0.386662663088157,
          "generalization error": 0.3411854486866283
         },
         {
          "estimated generalization error": 0.3518908337529982,
          "generalization error": 0.32640369972369626
         },
         {
          "estimated generalization error": 0.3385046763170102,
          "generalization error": 0.34023660885488644
         },
         {
          "estimated generalization error": 0.2921213930357886,
          "generalization error": 0.304573347220857
         },
         {
          "estimated generalization error": 0.3117720282266988,
          "generalization error": 0.3179392200975794
         },
         {
          "estimated generalization error": 0.32738276424981994,
          "generalization error": 0.3271698776480787
         },
         {
          "estimated generalization error": 0.33282648792957475,
          "generalization error": 0.3367800438955727
         },
         {
          "estimated generalization error": 0.3232464206819068,
          "generalization error": 0.32025916971927654
         },
         {
          "estimated generalization error": 0.32259592054305325,
          "generalization error": 0.306678855750038
         },
         {
          "estimated generalization error": 0.3323100236289216,
          "generalization error": 0.31120228543071315
         },
         {
          "estimated generalization error": 0.3584600644783907,
          "generalization error": 0.3397185118469361
         },
         {
          "estimated generalization error": 0.34115821926902956,
          "generalization error": 0.3323371203090692
         },
         {
          "estimated generalization error": 0.3393254871589825,
          "generalization error": 0.31937438757733744
         },
         {
          "estimated generalization error": 0.3607333373198634,
          "generalization error": 0.33404991738894796
         },
         {
          "estimated generalization error": 0.32799307651560705,
          "generalization error": 0.33634513780846514
         },
         {
          "estimated generalization error": 0.3518426255092346,
          "generalization error": 0.3310120833324347
         },
         {
          "estimated generalization error": 0.32073075118037325,
          "generalization error": 0.32586363503567656
         },
         {
          "estimated generalization error": 0.34136260829269904,
          "generalization error": 0.31277186141325525
         },
         {
          "estimated generalization error": 0.32261771551841434,
          "generalization error": 0.3539215221364368
         },
         {
          "estimated generalization error": 0.3100321379007717,
          "generalization error": 0.3091038103223167
         },
         {
          "estimated generalization error": 0.3170610291877625,
          "generalization error": 0.3749650186995286
         },
         {
          "estimated generalization error": 0.3518658583354131,
          "generalization error": 0.3701678332982301
         },
         {
          "estimated generalization error": 0.32560031178571397,
          "generalization error": 0.33515323630139526
         },
         {
          "estimated generalization error": 0.30105845042417906,
          "generalization error": 0.3105897003719807
         },
         {
          "estimated generalization error": 0.3289160570657755,
          "generalization error": 0.3248711577155268
         },
         {
          "estimated generalization error": 0.3365854096286608,
          "generalization error": 0.3429491306469487
         },
         {
          "estimated generalization error": 0.32786137091698153,
          "generalization error": 0.3125874085743734
         },
         {
          "estimated generalization error": 0.3513115717941603,
          "generalization error": 0.32408668767920157
         },
         {
          "estimated generalization error": 0.30200386179605015,
          "generalization error": 0.3161933752062141
         },
         {
          "estimated generalization error": 0.328885786613533,
          "generalization error": 0.30755190442629343
         },
         {
          "estimated generalization error": 0.32722499412505807,
          "generalization error": 0.3197580793172392
         },
         {
          "estimated generalization error": 0.35498679805935424,
          "generalization error": 0.3381277949372735
         },
         {
          "estimated generalization error": 0.3337486448413849,
          "generalization error": 0.305670064423814
         },
         {
          "estimated generalization error": 0.3021776570947699,
          "generalization error": 0.30099694752776873
         },
         {
          "estimated generalization error": 0.2857019976969069,
          "generalization error": 0.28741204642223667
         },
         {
          "estimated generalization error": 0.32576332626492843,
          "generalization error": 0.30190171961292556
         },
         {
          "estimated generalization error": 0.30421809514467685,
          "generalization error": 0.3186613903752426
         },
         {
          "estimated generalization error": 0.31222122409809755,
          "generalization error": 0.3147134074945946
         },
         {
          "estimated generalization error": 0.3801174530741189,
          "generalization error": 0.3535961735196128
         },
         {
          "estimated generalization error": 0.3350569942322726,
          "generalization error": 0.3291041356441838
         },
         {
          "estimated generalization error": 0.32858721047317574,
          "generalization error": 0.3223239637257738
         },
         {
          "estimated generalization error": 0.3500747234953408,
          "generalization error": 0.34013055970326433
         },
         {
          "estimated generalization error": 0.3265908561045735,
          "generalization error": 0.32109001540563137
         },
         {
          "estimated generalization error": 0.32431775784901223,
          "generalization error": 0.3109980637042538
         },
         {
          "estimated generalization error": 0.34411401689774695,
          "generalization error": 0.3389609172505253
         },
         {
          "estimated generalization error": 0.3079678195285705,
          "generalization error": 0.3059576194407058
         },
         {
          "estimated generalization error": 0.32229954694247437,
          "generalization error": 0.32833333120162456
         },
         {
          "estimated generalization error": 0.35680912076164795,
          "generalization error": 0.35249453002705444
         },
         {
          "estimated generalization error": 0.3737682160250003,
          "generalization error": 0.3573476226783106
         },
         {
          "estimated generalization error": 0.3321559596811038,
          "generalization error": 0.33736424591655845
         },
         {
          "estimated generalization error": 0.2787930389306703,
          "generalization error": 0.30088799841775254
         },
         {
          "estimated generalization error": 0.3285366396736486,
          "generalization error": 0.34333782538386837
         },
         {
          "estimated generalization error": 0.3322604071379651,
          "generalization error": 0.35408996495544925
         },
         {
          "estimated generalization error": 0.33559921802505427,
          "generalization error": 0.31071607428711107
         },
         {
          "estimated generalization error": 0.3260628297229389,
          "generalization error": 0.31975100263806644
         },
         {
          "estimated generalization error": 0.3959089819150829,
          "generalization error": 0.3683536140772156
         },
         {
          "estimated generalization error": 0.37849891210398007,
          "generalization error": 0.35683637950686853
         },
         {
          "estimated generalization error": 0.33208895971705854,
          "generalization error": 0.33168538466198083
         },
         {
          "estimated generalization error": 0.3234655498127996,
          "generalization error": 0.34815177768692535
         },
         {
          "estimated generalization error": 0.3107726533782813,
          "generalization error": 0.32712338060469237
         },
         {
          "estimated generalization error": 0.3140414941526136,
          "generalization error": 0.33798418812146863
         },
         {
          "estimated generalization error": 0.3425322446278828,
          "generalization error": 0.3478466734948208
         },
         {
          "estimated generalization error": 0.3140958781966004,
          "generalization error": 0.32103496885335914
         },
         {
          "estimated generalization error": 0.3144295896438571,
          "generalization error": 0.33604234436039626
         },
         {
          "estimated generalization error": 0.3124735631756903,
          "generalization error": 0.32738145977718325
         },
         {
          "estimated generalization error": 0.29710066886390796,
          "generalization error": 0.3102484882954984
         },
         {
          "estimated generalization error": 0.33843501610431787,
          "generalization error": 0.35559982056621414
         },
         {
          "estimated generalization error": 0.3319119234168787,
          "generalization error": 0.3392245367366934
         },
         {
          "estimated generalization error": 0.38307160633914294,
          "generalization error": 0.34617199786411096
         },
         {
          "estimated generalization error": 0.3188366369111792,
          "generalization error": 0.31300028243046485
         },
         {
          "estimated generalization error": 0.3162755950838591,
          "generalization error": 0.3250498721443429
         },
         {
          "estimated generalization error": 0.33338665111773735,
          "generalization error": 0.3283276733982641
         },
         {
          "estimated generalization error": 0.2816728515890484,
          "generalization error": 0.3183489357756813
         },
         {
          "estimated generalization error": 0.3102018392440427,
          "generalization error": 0.3510012170162612
         },
         {
          "estimated generalization error": 0.33415519964797946,
          "generalization error": 0.3323292161190015
         },
         {
          "estimated generalization error": 0.3308487644154694,
          "generalization error": 0.32428788201400915
         },
         {
          "estimated generalization error": 0.3117513666929701,
          "generalization error": 0.3290950606615011
         },
         {
          "estimated generalization error": 0.2951471173974842,
          "generalization error": 0.3191870519507623
         },
         {
          "estimated generalization error": 0.36350867978062423,
          "generalization error": 0.3588017180463934
         },
         {
          "estimated generalization error": 0.3173079657267293,
          "generalization error": 0.31196084352021036
         },
         {
          "estimated generalization error": 0.3107248235043101,
          "generalization error": 0.33640676323232666
         },
         {
          "estimated generalization error": 0.3462694722303021,
          "generalization error": 0.355238072590014
         },
         {
          "estimated generalization error": 0.3037040470274626,
          "generalization error": 0.3046224460465106
         },
         {
          "estimated generalization error": 0.3053692846659103,
          "generalization error": 0.32459188832254476
         },
         {
          "estimated generalization error": 0.3143928016032361,
          "generalization error": 0.3361783578326316
         },
         {
          "estimated generalization error": 0.3268780087856727,
          "generalization error": 0.3237126129388083
         },
         {
          "estimated generalization error": 0.3013213445395224,
          "generalization error": 0.30815202607631886
         },
         {
          "estimated generalization error": 0.3315717828064097,
          "generalization error": 0.31549109598321967
         },
         {
          "estimated generalization error": 0.3303399679996964,
          "generalization error": 0.33238451297019544
         },
         {
          "estimated generalization error": 0.37172465649035724,
          "generalization error": 0.3526637570449079
         },
         {
          "estimated generalization error": 0.3351326616436843,
          "generalization error": 0.33809274178395
         },
         {
          "estimated generalization error": 0.3231200696037466,
          "generalization error": 0.3168472529079321
         },
         {
          "estimated generalization error": 0.3171676151831885,
          "generalization error": 0.3273636995351337
         },
         {
          "estimated generalization error": 0.3712986373986366,
          "generalization error": 0.3271533079899548
         },
         {
          "estimated generalization error": 0.35445716614222217,
          "generalization error": 0.33695476959413667
         },
         {
          "estimated generalization error": 0.34972790241414753,
          "generalization error": 0.3317200909880981
         },
         {
          "estimated generalization error": 0.32226315843892156,
          "generalization error": 0.35071865894804216
         },
         {
          "estimated generalization error": 0.36857709199922783,
          "generalization error": 0.3356318174190144
         },
         {
          "estimated generalization error": 0.3365556067196237,
          "generalization error": 0.32785953173010374
         },
         {
          "estimated generalization error": 0.31525768773226015,
          "generalization error": 0.30497182089944874
         },
         {
          "estimated generalization error": 0.29603791427711657,
          "generalization error": 0.3509320759240196
         },
         {
          "estimated generalization error": 0.3355245812010215,
          "generalization error": 0.3194009457070175
         },
         {
          "estimated generalization error": 0.33632855263194716,
          "generalization error": 0.32354085359898704
         },
         {
          "estimated generalization error": 0.3240047980936246,
          "generalization error": 0.35057935164309983
         },
         {
          "estimated generalization error": 0.2903911051303892,
          "generalization error": 0.32343430722294075
         },
         {
          "estimated generalization error": 0.31171326523913406,
          "generalization error": 0.3066211122492831
         },
         {
          "estimated generalization error": 0.3378188552284288,
          "generalization error": 0.3402888132473323
         },
         {
          "estimated generalization error": 0.32909491435291105,
          "generalization error": 0.3229776936934224
         },
         {
          "estimated generalization error": 0.29532035369989024,
          "generalization error": 0.3514500598078159
         },
         {
          "estimated generalization error": 0.30294727929855014,
          "generalization error": 0.3127028857819298
         },
         {
          "estimated generalization error": 0.3049563456342082,
          "generalization error": 0.30547150577684623
         },
         {
          "estimated generalization error": 0.3088329664551067,
          "generalization error": 0.3165061568100884
         },
         {
          "estimated generalization error": 0.3087317364584219,
          "generalization error": 0.3033272830339157
         },
         {
          "estimated generalization error": 0.3208305972044493,
          "generalization error": 0.308876305083795
         },
         {
          "estimated generalization error": 0.29227046633515236,
          "generalization error": 0.29792507178427474
         },
         {
          "estimated generalization error": 0.35506589653776655,
          "generalization error": 0.3395807571598531
         },
         {
          "estimated generalization error": 0.33130113374974063,
          "generalization error": 0.3091754658491971
         },
         {
          "estimated generalization error": 0.33912778632295454,
          "generalization error": 0.32638763943748583
         },
         {
          "estimated generalization error": 0.34964951117787707,
          "generalization error": 0.33863355951659807
         },
         {
          "estimated generalization error": 0.3406933515977055,
          "generalization error": 0.329979447699564
         },
         {
          "estimated generalization error": 0.30551448353832267,
          "generalization error": 0.30827673077877105
         },
         {
          "estimated generalization error": 0.33082350710273395,
          "generalization error": 0.3073216566446232
         },
         {
          "estimated generalization error": 0.3086076738222921,
          "generalization error": 0.3239529212023279
         },
         {
          "estimated generalization error": 0.34404392007065815,
          "generalization error": 0.32240038308633157
         },
         {
          "estimated generalization error": 0.3540159491705331,
          "generalization error": 0.3790337380642421
         },
         {
          "estimated generalization error": 0.3123490139751407,
          "generalization error": 0.3017248244252813
         },
         {
          "estimated generalization error": 0.3257040662402064,
          "generalization error": 0.34611096787052215
         },
         {
          "estimated generalization error": 0.3380733110200732,
          "generalization error": 0.3259899386067649
         },
         {
          "estimated generalization error": 0.31755571827590895,
          "generalization error": 0.29415682125643716
         },
         {
          "estimated generalization error": 0.29371910043078764,
          "generalization error": 0.2976046545566568
         },
         {
          "estimated generalization error": 0.33231416863444757,
          "generalization error": 0.3226014825752825
         },
         {
          "estimated generalization error": 0.3314907157452966,
          "generalization error": 0.34761971486101095
         },
         {
          "estimated generalization error": 0.3065675800907345,
          "generalization error": 0.3188158801161862
         },
         {
          "estimated generalization error": 0.3186448898636588,
          "generalization error": 0.3230938839857481
         },
         {
          "estimated generalization error": 0.29664119710089676,
          "generalization error": 0.29628555115230665
         },
         {
          "estimated generalization error": 0.35575022629515196,
          "generalization error": 0.3422845373811925
         },
         {
          "estimated generalization error": 0.27556867409159136,
          "generalization error": 0.32880494105221975
         },
         {
          "estimated generalization error": 0.33095328269974733,
          "generalization error": 0.32853774585310114
         },
         {
          "estimated generalization error": 0.30300453687954515,
          "generalization error": 0.3151113357856199
         },
         {
          "estimated generalization error": 0.34788675209324765,
          "generalization error": 0.3302066186798249
         },
         {
          "estimated generalization error": 0.3183217309011355,
          "generalization error": 0.3321361413614369
         },
         {
          "estimated generalization error": 0.3355813216996462,
          "generalization error": 0.34984447268220115
         },
         {
          "estimated generalization error": 0.33118037636781356,
          "generalization error": 0.33264409252628685
         },
         {
          "estimated generalization error": 0.3297084824558252,
          "generalization error": 0.32878360335102885
         },
         {
          "estimated generalization error": 0.36003756785001023,
          "generalization error": 0.33602479026995435
         },
         {
          "estimated generalization error": 0.32466078408120447,
          "generalization error": 0.3288359846638848
         },
         {
          "estimated generalization error": 0.29661685960328665,
          "generalization error": 0.3082706177544209
         },
         {
          "estimated generalization error": 0.3280813826044635,
          "generalization error": 0.32304695650503173
         },
         {
          "estimated generalization error": 0.3526893455275592,
          "generalization error": 0.3593905077718805
         },
         {
          "estimated generalization error": 0.3353248487206659,
          "generalization error": 0.3384633854194776
         },
         {
          "estimated generalization error": 0.3008200509052815,
          "generalization error": 0.3030382817498545
         },
         {
          "estimated generalization error": 0.3624048036341365,
          "generalization error": 0.35213184426128724
         },
         {
          "estimated generalization error": 0.3044472046323368,
          "generalization error": 0.3278012304222871
         },
         {
          "estimated generalization error": 0.32636581328891046,
          "generalization error": 0.3427940808382913
         },
         {
          "estimated generalization error": 0.3529819453646429,
          "generalization error": 0.37241944125988996
         },
         {
          "estimated generalization error": 0.34218471403055667,
          "generalization error": 0.336800922178243
         },
         {
          "estimated generalization error": 0.32173421075751946,
          "generalization error": 0.29410427115964
         },
         {
          "estimated generalization error": 0.2951130414938112,
          "generalization error": 0.3226881901445605
         },
         {
          "estimated generalization error": 0.3109158408966279,
          "generalization error": 0.3142848521786549
         },
         {
          "estimated generalization error": 0.32906588807896536,
          "generalization error": 0.3436478460244347
         },
         {
          "estimated generalization error": 0.3043979144531604,
          "generalization error": 0.3293581766526524
         },
         {
          "estimated generalization error": 0.33135444971449657,
          "generalization error": 0.31163798584637264
         },
         {
          "estimated generalization error": 0.30527370880290844,
          "generalization error": 0.3272532555878293
         },
         {
          "estimated generalization error": 0.3579989056898231,
          "generalization error": 0.3384082142312578
         },
         {
          "estimated generalization error": 0.34380283506617365,
          "generalization error": 0.34718410364570507
         },
         {
          "estimated generalization error": 0.3027258098354619,
          "generalization error": 0.3072894133676044
         },
         {
          "estimated generalization error": 0.3512212700543392,
          "generalization error": 0.32673562237714565
         },
         {
          "estimated generalization error": 0.3363179710017263,
          "generalization error": 0.32681988921286986
         },
         {
          "estimated generalization error": 0.3007237708603064,
          "generalization error": 0.32632842815484114
         },
         {
          "estimated generalization error": 0.35008039149881687,
          "generalization error": 0.34098541742682825
         },
         {
          "estimated generalization error": 0.29490730003707677,
          "generalization error": 0.3089780528301088
         },
         {
          "estimated generalization error": 0.3189567418811807,
          "generalization error": 0.3270679669625231
         },
         {
          "estimated generalization error": 0.344939201981776,
          "generalization error": 0.32662474440714445
         },
         {
          "estimated generalization error": 0.32191734415006523,
          "generalization error": 0.3450959373625996
         },
         {
          "estimated generalization error": 0.3727744534505152,
          "generalization error": 0.35287070448132096
         },
         {
          "estimated generalization error": 0.30476008743074134,
          "generalization error": 0.32809496929948895
         },
         {
          "estimated generalization error": 0.3506225800844048,
          "generalization error": 0.3570884327989295
         },
         {
          "estimated generalization error": 0.3330830929420866,
          "generalization error": 0.3455284152739894
         },
         {
          "estimated generalization error": 0.33032491178850726,
          "generalization error": 0.3293664748641599
         },
         {
          "estimated generalization error": 0.3411128411947986,
          "generalization error": 0.3356972904024766
         },
         {
          "estimated generalization error": 0.3597358312789379,
          "generalization error": 0.3437039773820381
         },
         {
          "estimated generalization error": 0.3794667157442982,
          "generalization error": 0.34868317063279813
         },
         {
          "estimated generalization error": 0.3544375858852892,
          "generalization error": 0.3384908497886492
         },
         {
          "estimated generalization error": 0.27654719693059054,
          "generalization error": 0.30872365384139294
         },
         {
          "estimated generalization error": 0.34820904378981593,
          "generalization error": 0.3344005220353851
         },
         {
          "estimated generalization error": 0.3549836590881885,
          "generalization error": 0.36132517328129493
         },
         {
          "estimated generalization error": 0.37307508893585484,
          "generalization error": 0.34303258551076127
         },
         {
          "estimated generalization error": 0.36302348243701565,
          "generalization error": 0.3468147230363827
         },
         {
          "estimated generalization error": 0.3152874114063037,
          "generalization error": 0.3366517106499785
         },
         {
          "estimated generalization error": 0.3289068457062298,
          "generalization error": 0.3275703044494983
         },
         {
          "estimated generalization error": 0.34206251153451267,
          "generalization error": 0.3630633375777493
         },
         {
          "estimated generalization error": 0.31967669609532096,
          "generalization error": 0.3248877904060156
         },
         {
          "estimated generalization error": 0.31997623672444253,
          "generalization error": 0.3520501078823511
         },
         {
          "estimated generalization error": 0.3107473266368627,
          "generalization error": 0.3645723267562592
         },
         {
          "estimated generalization error": 0.3250439489037683,
          "generalization error": 0.3245706323001566
         },
         {
          "estimated generalization error": 0.3108589588796694,
          "generalization error": 0.3152264709286496
         },
         {
          "estimated generalization error": 0.3325136987391171,
          "generalization error": 0.307701787112069
         },
         {
          "estimated generalization error": 0.2813000001677947,
          "generalization error": 0.295597194014645
         },
         {
          "estimated generalization error": 0.3475959996127059,
          "generalization error": 0.35139090038874277
         },
         {
          "estimated generalization error": 0.29764024749742374,
          "generalization error": 0.3172736042592154
         },
         {
          "estimated generalization error": 0.31977184921101826,
          "generalization error": 0.3266645152327896
         },
         {
          "estimated generalization error": 0.318981049209375,
          "generalization error": 0.32826666404735383
         },
         {
          "estimated generalization error": 0.32005904777588556,
          "generalization error": 0.3291628367210597
         },
         {
          "estimated generalization error": 0.3038153518320583,
          "generalization error": 0.3213862004181101
         },
         {
          "estimated generalization error": 0.3417946831210651,
          "generalization error": 0.3487877048417511
         },
         {
          "estimated generalization error": 0.287879304126433,
          "generalization error": 0.3204580804489365
         },
         {
          "estimated generalization error": 0.3809339563706949,
          "generalization error": 0.3666468081802137
         },
         {
          "estimated generalization error": 0.30189857649917723,
          "generalization error": 0.3245568715986983
         },
         {
          "estimated generalization error": 0.34646158711131714,
          "generalization error": 0.3521011378630316
         },
         {
          "estimated generalization error": 0.31803500698229176,
          "generalization error": 0.3500197728997561
         },
         {
          "estimated generalization error": 0.31589430435409405,
          "generalization error": 0.3180121969385375
         },
         {
          "estimated generalization error": 0.31509527913753593,
          "generalization error": 0.30295963865668
         },
         {
          "estimated generalization error": 0.3350485515337817,
          "generalization error": 0.3239593612388994
         },
         {
          "estimated generalization error": 0.3101724050795898,
          "generalization error": 0.3012463688888518
         },
         {
          "estimated generalization error": 0.3292794986125391,
          "generalization error": 0.33572466955105756
         },
         {
          "estimated generalization error": 0.31650702545757714,
          "generalization error": 0.33362048409814565
         },
         {
          "estimated generalization error": 0.335283558387437,
          "generalization error": 0.36281405754994484
         },
         {
          "estimated generalization error": 0.3055026334754817,
          "generalization error": 0.3161011016723597
         },
         {
          "estimated generalization error": 0.3133573897416516,
          "generalization error": 0.325489503153533
         },
         {
          "estimated generalization error": 0.3446598939771444,
          "generalization error": 0.3266198883817938
         },
         {
          "estimated generalization error": 0.37657499253455295,
          "generalization error": 0.3681144990857163
         },
         {
          "estimated generalization error": 0.2915917684624452,
          "generalization error": 0.33132349092131175
         },
         {
          "estimated generalization error": 0.3478278541147548,
          "generalization error": 0.346241497126823
         },
         {
          "estimated generalization error": 0.3250436461665823,
          "generalization error": 0.3295365210770806
         },
         {
          "estimated generalization error": 0.3151248521715538,
          "generalization error": 0.30653654305096245
         },
         {
          "estimated generalization error": 0.31113699395151273,
          "generalization error": 0.3242055319907247
         },
         {
          "estimated generalization error": 0.3080150852853698,
          "generalization error": 0.32604776239443356
         },
         {
          "estimated generalization error": 0.35267868476087944,
          "generalization error": 0.35316425431112225
         },
         {
          "estimated generalization error": 0.2886750086205765,
          "generalization error": 0.3240757855620657
         },
         {
          "estimated generalization error": 0.37292405758289165,
          "generalization error": 0.3724386550537092
         },
         {
          "estimated generalization error": 0.29960492812829104,
          "generalization error": 0.31689067820589
         },
         {
          "estimated generalization error": 0.2878167599345714,
          "generalization error": 0.3372869642305426
         },
         {
          "estimated generalization error": 0.31458123407654787,
          "generalization error": 0.3389110928131668
         },
         {
          "estimated generalization error": 0.3515594861551595,
          "generalization error": 0.3504910583510719
         },
         {
          "estimated generalization error": 0.3000659860493752,
          "generalization error": 0.3101991655429019
         },
         {
          "estimated generalization error": 0.3171513750073315,
          "generalization error": 0.3255979753213499
         },
         {
          "estimated generalization error": 0.3157163504779254,
          "generalization error": 0.30172106346187766
         },
         {
          "estimated generalization error": 0.3677850953837563,
          "generalization error": 0.3411171560126322
         },
         {
          "estimated generalization error": 0.3205625265037926,
          "generalization error": 0.3352388417610592
         },
         {
          "estimated generalization error": 0.344411029156386,
          "generalization error": 0.3500686179941052
         },
         {
          "estimated generalization error": 0.3119711271939029,
          "generalization error": 0.3059999291366172
         },
         {
          "estimated generalization error": 0.31052342918796105,
          "generalization error": 0.31872283590827305
         },
         {
          "estimated generalization error": 0.3233508271691345,
          "generalization error": 0.34876337189046597
         },
         {
          "estimated generalization error": 0.2861742259038244,
          "generalization error": 0.30700784188539887
         },
         {
          "estimated generalization error": 0.35783505121701115,
          "generalization error": 0.3304098904479457
         },
         {
          "estimated generalization error": 0.29990462736328094,
          "generalization error": 0.3209526116410043
         },
         {
          "estimated generalization error": 0.34671715546114007,
          "generalization error": 0.3428065667669928
         },
         {
          "estimated generalization error": 0.33680303081293234,
          "generalization error": 0.33892156025488474
         },
         {
          "estimated generalization error": 0.3377029473299442,
          "generalization error": 0.3360664862250115
         },
         {
          "estimated generalization error": 0.3022006711805523,
          "generalization error": 0.32975851763826924
         },
         {
          "estimated generalization error": 0.34909481536865566,
          "generalization error": 0.3311080582979163
         },
         {
          "estimated generalization error": 0.34440538354368805,
          "generalization error": 0.31767537190599343
         },
         {
          "estimated generalization error": 0.3109856842357118,
          "generalization error": 0.3374424881016766
         },
         {
          "estimated generalization error": 0.32851895538255305,
          "generalization error": 0.3410516972326234
         },
         {
          "estimated generalization error": 0.356224366488678,
          "generalization error": 0.33434664500754296
         },
         {
          "estimated generalization error": 0.356532263190741,
          "generalization error": 0.3414426355708878
         },
         {
          "estimated generalization error": 0.3358768417119212,
          "generalization error": 0.3553516569358278
         },
         {
          "estimated generalization error": 0.3195262890268435,
          "generalization error": 0.31648328325559183
         },
         {
          "estimated generalization error": 0.3105298137579377,
          "generalization error": 0.3675689513808318
         },
         {
          "estimated generalization error": 0.33654412269340683,
          "generalization error": 0.35359772565103376
         },
         {
          "estimated generalization error": 0.33634060784707454,
          "generalization error": 0.33326109131538606
         },
         {
          "estimated generalization error": 0.3136922793658075,
          "generalization error": 0.32305043949056966
         },
         {
          "estimated generalization error": 0.3288652170052957,
          "generalization error": 0.3366841592141008
         },
         {
          "estimated generalization error": 0.2866329465114948,
          "generalization error": 0.30097213353998087
         },
         {
          "estimated generalization error": 0.31290722218155725,
          "generalization error": 0.32118993813950486
         },
         {
          "estimated generalization error": 0.33708187559296177,
          "generalization error": 0.3352770594773157
         },
         {
          "estimated generalization error": 0.3402768066278845,
          "generalization error": 0.3301945572756104
         },
         {
          "estimated generalization error": 0.3146290815481254,
          "generalization error": 0.3357152555079931
         },
         {
          "estimated generalization error": 0.3164231348064943,
          "generalization error": 0.3265381060038004
         },
         {
          "estimated generalization error": 0.33557264683510785,
          "generalization error": 0.32858819233799536
         },
         {
          "estimated generalization error": 0.34496078627976895,
          "generalization error": 0.33308948684942324
         },
         {
          "estimated generalization error": 0.3452207300920215,
          "generalization error": 0.3285142838405529
         },
         {
          "estimated generalization error": 0.3354866801484786,
          "generalization error": 0.33452248573748083
         },
         {
          "estimated generalization error": 0.3368587049865206,
          "generalization error": 0.34748832240437105
         },
         {
          "estimated generalization error": 0.3283691448570172,
          "generalization error": 0.33231200092245705
         },
         {
          "estimated generalization error": 0.34339728415527715,
          "generalization error": 0.35242485042260674
         },
         {
          "estimated generalization error": 0.370351345697741,
          "generalization error": 0.3568088945033862
         },
         {
          "estimated generalization error": 0.3138474225462123,
          "generalization error": 0.3302187002608217
         },
         {
          "estimated generalization error": 0.33482726791921674,
          "generalization error": 0.33104031554129937
         },
         {
          "estimated generalization error": 0.31786807975045633,
          "generalization error": 0.33894617126795323
         },
         {
          "estimated generalization error": 0.335728206722676,
          "generalization error": 0.32618173197422645
         },
         {
          "estimated generalization error": 0.3298641199669551,
          "generalization error": 0.3434966777132173
         },
         {
          "estimated generalization error": 0.3128703488120659,
          "generalization error": 0.3449060039390327
         },
         {
          "estimated generalization error": 0.35139180163181766,
          "generalization error": 0.33865782351260715
         },
         {
          "estimated generalization error": 0.3527257444875009,
          "generalization error": 0.3481589992780811
         },
         {
          "estimated generalization error": 0.3254423008630957,
          "generalization error": 0.32011236130414406
         },
         {
          "estimated generalization error": 0.33486815679398046,
          "generalization error": 0.33110590766249437
         },
         {
          "estimated generalization error": 0.3138374985729491,
          "generalization error": 0.3397294609551176
         },
         {
          "estimated generalization error": 0.3228220826842862,
          "generalization error": 0.32033516210974755
         },
         {
          "estimated generalization error": 0.32394692113466933,
          "generalization error": 0.31616851769791904
         },
         {
          "estimated generalization error": 0.3303056996089157,
          "generalization error": 0.35557824380011266
         },
         {
          "estimated generalization error": 0.356154426367527,
          "generalization error": 0.3519775003151717
         },
         {
          "estimated generalization error": 0.3154743861568656,
          "generalization error": 0.32564823887790234
         },
         {
          "estimated generalization error": 0.31382105533611526,
          "generalization error": 0.3167939852095178
         },
         {
          "estimated generalization error": 0.30837546533583937,
          "generalization error": 0.3252771154192834
         },
         {
          "estimated generalization error": 0.33906184549975044,
          "generalization error": 0.32038691472802416
         },
         {
          "estimated generalization error": 0.3082128544265417,
          "generalization error": 0.32828533045450786
         },
         {
          "estimated generalization error": 0.34545144306505315,
          "generalization error": 0.3535799909180548
         },
         {
          "estimated generalization error": 0.28432346573943096,
          "generalization error": 0.32972856048182775
         },
         {
          "estimated generalization error": 0.28314570228289326,
          "generalization error": 0.29171903742000427
         },
         {
          "estimated generalization error": 0.3511532507240227,
          "generalization error": 0.33524513702777436
         },
         {
          "estimated generalization error": 0.30954661402376915,
          "generalization error": 0.32637321107812367
         },
         {
          "estimated generalization error": 0.33574856960304555,
          "generalization error": 0.34906774141010327
         },
         {
          "estimated generalization error": 0.3710925941171092,
          "generalization error": 0.35579269385137663
         },
         {
          "estimated generalization error": 0.3173367232355159,
          "generalization error": 0.32093398700626086
         },
         {
          "estimated generalization error": 0.3597064316074716,
          "generalization error": 0.3290905603227293
         },
         {
          "estimated generalization error": 0.3755532862720166,
          "generalization error": 0.35288542307445814
         },
         {
          "estimated generalization error": 0.3459285527686591,
          "generalization error": 0.33844458256710486
         },
         {
          "estimated generalization error": 0.3448511362264594,
          "generalization error": 0.33196515018842754
         },
         {
          "estimated generalization error": 0.33325012116109376,
          "generalization error": 0.322014569703503
         },
         {
          "estimated generalization error": 0.28848522211437716,
          "generalization error": 0.32634494607326586
         },
         {
          "estimated generalization error": 0.37249960449456887,
          "generalization error": 0.35354484902460703
         },
         {
          "estimated generalization error": 0.35150885028696394,
          "generalization error": 0.31938342317025015
         },
         {
          "estimated generalization error": 0.3433025130101357,
          "generalization error": 0.34623956658016564
         },
         {
          "estimated generalization error": 0.3390669061186187,
          "generalization error": 0.3164784675426579
         }
        ]
       },
       "encoding": {
        "color": {
         "field": "Quantity",
         "type": "nominal"
        },
        "x": {
         "bin": {
          "maxbins": 100
         },
         "field": "error",
         "type": "quantitative"
        },
        "y": {
         "aggregate": "count",
         "stack": null,
         "type": "quantitative"
        }
       },
       "height": 100,
       "mark": {
        "interpolate": "step",
        "opacity": 0.3,
        "type": "area"
       },
       "transform": [
        {
         "as": [
          "Quantity",
          "error"
         ],
         "fold": [
          "estimated generalization error",
          "generalization error"
         ]
        }
       ]
      },
      "image/png": "[encoded data removed]",
      "text/plain": [
       "<VegaLite 3 object>\n",
       "\n",
       "If you see this message, it means the renderer has not been properly enabled\n",
       "for the frontend that you are using. For more information, see\n",
       "https://altair-viz.github.io/user_guide/troubleshooting.html\n"
      ]
     },
     "execution_count": 34,
     "metadata": {},
     "output_type": "execute_result"
    }
   ],
   "source": [
    "source = pd.DataFrame({\n",
    "    'estimated generalization error':ês,\n",
    "    'generalization error':es\n",
    "})\n",
    "\n",
    "alt.Chart(source, height=100).transform_fold(\n",
    "    ['estimated generalization error', 'generalization error'],\n",
    "    as_=['Quantity', 'error']\n",
    ").mark_area(\n",
    "    opacity=0.3,\n",
    "    interpolate='step'\n",
    ").encode(\n",
    "    alt.X('error:Q', bin=alt.Bin(maxbins=100)),\n",
    "    alt.Y('count()', stack=None),\n",
    "    alt.Color('Quantity:N')\n",
    ")"
   ]
  },
  {
   "cell_type": "markdown",
   "metadata": {},
   "source": [
    "What the heck!? Now it looks like our estimate is pretty decent. Let's dig in a little closer and look at the distribution of exactly how far off we are in our error estimate across all simulations."
   ]
  },
  {
   "cell_type": "code",
   "execution_count": 15,
   "metadata": {},
   "outputs": [],
   "source": [
    "error_in_error_estimate = [e-ê for e,ê in zip(es, ês)]"
   ]
  },
  {
   "cell_type": "code",
   "execution_count": 16,
   "metadata": {},
   "outputs": [
    {
     "data": {
      "application/vnd.vegalite.v3+json": {
       "$schema": "https://vega.github.io/schema/vega-lite/v3.4.0.json",
       "config": {
        "mark": {
         "tooltip": null
        },
        "view": {
         "height": 300,
         "width": 400
        }
       },
       "data": {
        "name": "data-b37a906e206ea0930b56f48085215a1c"
       },
       "datasets": {
        "data-b37a906e206ea0930b56f48085215a1c": [
         {
          "Error in error estimate": 0.009465712920662589
         },
         {
          "Error in error estimate": -0.0049735482881081705
         },
         {
          "Error in error estimate": -0.005736694394962744
         },
         {
          "Error in error estimate": 0.0077250920355706465
         },
         {
          "Error in error estimate": 0.011013533627003746
         },
         {
          "Error in error estimate": -0.0031660272824792224
         },
         {
          "Error in error estimate": 0.001642833052431819
         },
         {
          "Error in error estimate": 0.01449680209402529
         },
         {
          "Error in error estimate": 0.004595842888079044
         },
         {
          "Error in error estimate": -6.592493414972478e-05
         },
         {
          "Error in error estimate": -0.0009089063940045938
         },
         {
          "Error in error estimate": -0.00778750764143904
         },
         {
          "Error in error estimate": 0.0008599249590217628
         },
         {
          "Error in error estimate": 0.0030171905813040634
         },
         {
          "Error in error estimate": 0.0016122563785807564
         },
         {
          "Error in error estimate": 0.01315774708020534
         },
         {
          "Error in error estimate": -0.00027889249804000094
         },
         {
          "Error in error estimate": -0.007857327557816929
         },
         {
          "Error in error estimate": 0.0036082939637358813
         },
         {
          "Error in error estimate": 0.005445995807976389
         },
         {
          "Error in error estimate": 0.01575467344399098
         },
         {
          "Error in error estimate": 0.004265635633346115
         },
         {
          "Error in error estimate": 0.0026632543233427453
         },
         {
          "Error in error estimate": -0.0009704460208555532
         },
         {
          "Error in error estimate": -0.006327203999105219
         },
         {
          "Error in error estimate": 0.007887980651407611
         },
         {
          "Error in error estimate": 0.00453092549137149
         },
         {
          "Error in error estimate": -0.0006917542392261
         },
         {
          "Error in error estimate": -0.00037237429251357756
         },
         {
          "Error in error estimate": -0.004397845822835894
         },
         {
          "Error in error estimate": -0.0034285436548479875
         },
         {
          "Error in error estimate": -0.0034944437579643717
         },
         {
          "Error in error estimate": 0.002961401861608093
         },
         {
          "Error in error estimate": 0.005095532626076038
         },
         {
          "Error in error estimate": -0.007613905527482534
         },
         {
          "Error in error estimate": 0.0013079382125895656
         },
         {
          "Error in error estimate": -0.008544212962589393
         },
         {
          "Error in error estimate": -0.010127743804490136
         },
         {
          "Error in error estimate": -0.00021488865760743714
         },
         {
          "Error in error estimate": 0.003043693093356753
         },
         {
          "Error in error estimate": 0.014996967463777294
         },
         {
          "Error in error estimate": 0.0048052667294593565
         },
         {
          "Error in error estimate": 0.01017938066278573
         },
         {
          "Error in error estimate": -0.002953540110730901
         },
         {
          "Error in error estimate": -0.013749467010466088
         },
         {
          "Error in error estimate": -0.00564943223447642
         },
         {
          "Error in error estimate": 0.00044835897074121944
         },
         {
          "Error in error estimate": 0.005255941689043198
         },
         {
          "Error in error estimate": 0.0049999140481351845
         },
         {
          "Error in error estimate": -0.006527934918942602
         },
         {
          "Error in error estimate": 0.007421187471470275
         },
         {
          "Error in error estimate": 0.001488545833559507
         },
         {
          "Error in error estimate": -0.0046391450293108705
         },
         {
          "Error in error estimate": 0.006924894282353489
         },
         {
          "Error in error estimate": 0.004042121143893851
         },
         {
          "Error in error estimate": -0.0010872857627624577
         },
         {
          "Error in error estimate": 0.007141282703249652
         },
         {
          "Error in error estimate": 0.0031057990496200782
         },
         {
          "Error in error estimate": -0.0006032004848856298
         },
         {
          "Error in error estimate": 0.0027947898355930034
         },
         {
          "Error in error estimate": 0.0040913457248221985
         },
         {
          "Error in error estimate": 0.000987094251518772
         },
         {
          "Error in error estimate": -0.0049023263534465344
         },
         {
          "Error in error estimate": -0.00038627495827861513
         },
         {
          "Error in error estimate": 0.014218250516594033
         },
         {
          "Error in error estimate": 0.0034850725361135204
         },
         {
          "Error in error estimate": -0.005979855513417814
         },
         {
          "Error in error estimate": 0.021868687421877475
         },
         {
          "Error in error estimate": 0.0066011495067029025
         },
         {
          "Error in error estimate": 0.00039664016326945717
         },
         {
          "Error in error estimate": -0.010413666819715867
         },
         {
          "Error in error estimate": 0.002772284211362802
         },
         {
          "Error in error estimate": 0.007788806308477475
         },
         {
          "Error in error estimate": 0.0008307369755822247
         },
         {
          "Error in error estimate": -0.009858078092948225
         },
         {
          "Error in error estimate": 0.006586178483646982
         },
         {
          "Error in error estimate": -0.003070923094732947
         },
         {
          "Error in error estimate": 0.005621327911282864
         },
         {
          "Error in error estimate": 0.009258321217208626
         },
         {
          "Error in error estimate": 0.002258427040147587
         },
         {
          "Error in error estimate": 0.004273310497825311
         },
         {
          "Error in error estimate": 0.0014614687655393754
         },
         {
          "Error in error estimate": 0.012526386898598252
         },
         {
          "Error in error estimate": -0.0009974559886380963
         },
         {
          "Error in error estimate": 0.006235565901539231
         },
         {
          "Error in error estimate": 0.0007317678568864727
         },
         {
          "Error in error estimate": 0.005948202704091021
         },
         {
          "Error in error estimate": -0.005917101713006884
         },
         {
          "Error in error estimate": -0.012730582077872893
         },
         {
          "Error in error estimate": -0.0070350434806503714
         },
         {
          "Error in error estimate": -0.006422553146030907
         },
         {
          "Error in error estimate": 0.005006338587560638
         },
         {
          "Error in error estimate": 0.012399291529564982
         },
         {
          "Error in error estimate": 0.005172799233131659
         },
         {
          "Error in error estimate": -0.0033355004892852425
         },
         {
          "Error in error estimate": -0.005091686568715448
         },
         {
          "Error in error estimate": 0.002326788924005452
         },
         {
          "Error in error estimate": 0.005990169146832758
         },
         {
          "Error in error estimate": 0.008299690251468955
         },
         {
          "Error in error estimate": 0.012651377939554537
         },
         {
          "Error in error estimate": 0.00241508951247274
         },
         {
          "Error in error estimate": -0.009132025000046756
         },
         {
          "Error in error estimate": -0.0019152257379097815
         },
         {
          "Error in error estimate": 0.003089331084447783
         },
         {
          "Error in error estimate": -0.0017490746091740061
         },
         {
          "Error in error estimate": 0.0012649001308081553
         },
         {
          "Error in error estimate": 0.0011926748887455818
         },
         {
          "Error in error estimate": 0.0020378007504490148
         },
         {
          "Error in error estimate": -0.006299385127909951
         },
         {
          "Error in error estimate": 0.008950451379589247
         },
         {
          "Error in error estimate": -0.0025128332832041744
         },
         {
          "Error in error estimate": 0.007290938790035423
         },
         {
          "Error in error estimate": 0.002786613881225808
         },
         {
          "Error in error estimate": 0.004828762524135888
         },
         {
          "Error in error estimate": -0.004254977919807945
         },
         {
          "Error in error estimate": 0.0033894945532723653
         },
         {
          "Error in error estimate": -0.011068871946481068
         },
         {
          "Error in error estimate": 0.00833110738975415
         },
         {
          "Error in error estimate": 0.0061743650944261486
         },
         {
          "Error in error estimate": 0.0008032956015080472
         },
         {
          "Error in error estimate": 0.006002362978899417
         },
         {
          "Error in error estimate": -0.006293275377349
         },
         {
          "Error in error estimate": -0.002243583973129959
         },
         {
          "Error in error estimate": 0.008671444445599918
         },
         {
          "Error in error estimate": 0.0019111502009909742
         },
         {
          "Error in error estimate": 0.0018462488265419408
         },
         {
          "Error in error estimate": 0.012871472154746377
         },
         {
          "Error in error estimate": 0.0008759879247892122
         },
         {
          "Error in error estimate": 0.0006481932485570552
         },
         {
          "Error in error estimate": 0.005911008941109019
         },
         {
          "Error in error estimate": 0.0020034948276255182
         },
         {
          "Error in error estimate": -0.002012514934264492
         },
         {
          "Error in error estimate": 0.006601974992953535
         },
         {
          "Error in error estimate": -0.0037649916813611017
         },
         {
          "Error in error estimate": -0.0068289044621018535
         },
         {
          "Error in error estimate": 0.0029639110960791304
         },
         {
          "Error in error estimate": 0.0030535483984398537
         },
         {
          "Error in error estimate": 1.9806340628980568e-06
         },
         {
          "Error in error estimate": 0.006348673700037805
         },
         {
          "Error in error estimate": 0.010172866677994913
         },
         {
          "Error in error estimate": -0.00943708342556604
         },
         {
          "Error in error estimate": 0.006084280514277868
         },
         {
          "Error in error estimate": -0.0008753204874245024
         },
         {
          "Error in error estimate": -0.004342580519977518
         },
         {
          "Error in error estimate": 0.0010369259673764786
         },
         {
          "Error in error estimate": -0.00463175802650162
         },
         {
          "Error in error estimate": 0.015624737803500433
         },
         {
          "Error in error estimate": 0.00997068277805474
         },
         {
          "Error in error estimate": -0.0003511051838270274
         },
         {
          "Error in error estimate": -0.0006654553101919092
         },
         {
          "Error in error estimate": -0.004306023345817173
         },
         {
          "Error in error estimate": 0.0018009293768105894
         },
         {
          "Error in error estimate": -0.001765431070898632
         },
         {
          "Error in error estimate": 0.009824673355367991
         },
         {
          "Error in error estimate": 0.003838416878640699
         },
         {
          "Error in error estimate": 0.004660456079934899
         },
         {
          "Error in error estimate": -0.00028654531291330554
         },
         {
          "Error in error estimate": 0.004065788921833263
         },
         {
          "Error in error estimate": 0.0016638923526318683
         },
         {
          "Error in error estimate": -0.004104183913849341
         },
         {
          "Error in error estimate": 0.002979592803986242
         },
         {
          "Error in error estimate": -0.003435089589910789
         },
         {
          "Error in error estimate": -0.0005051394116539765
         },
         {
          "Error in error estimate": 0.006222145809881174
         },
         {
          "Error in error estimate": 0.008002267468254998
         },
         {
          "Error in error estimate": 0.010124785420020405
         },
         {
          "Error in error estimate": 0.006984277967565067
         },
         {
          "Error in error estimate": -0.00544803308061842
         },
         {
          "Error in error estimate": 0.006305175277506708
         },
         {
          "Error in error estimate": -0.010484943382382567
         },
         {
          "Error in error estimate": 0.01093051675545173
         },
         {
          "Error in error estimate": -0.00011470403529745266
         },
         {
          "Error in error estimate": 0.00637792578203733
         },
         {
          "Error in error estimate": 0.0007674758215380773
         },
         {
          "Error in error estimate": 0.0029722766553230417
         },
         {
          "Error in error estimate": 0.0040495813423388205
         },
         {
          "Error in error estimate": -0.002252915210837869
         },
         {
          "Error in error estimate": -0.013078810024572673
         },
         {
          "Error in error estimate": 0.0024474634590071487
         },
         {
          "Error in error estimate": -0.007778870404291566
         },
         {
          "Error in error estimate": 0.004263846699929408
         },
         {
          "Error in error estimate": -0.0014647147624060886
         },
         {
          "Error in error estimate": 0.009789466108077238
         },
         {
          "Error in error estimate": -0.0005313969606567104
         },
         {
          "Error in error estimate": 0.000671733014014464
         },
         {
          "Error in error estimate": -0.004592792690309294
         },
         {
          "Error in error estimate": 0.012975832323092462
         },
         {
          "Error in error estimate": -0.005687850868955652
         },
         {
          "Error in error estimate": -0.0020034121966309992
         },
         {
          "Error in error estimate": 0.0012557620940609193
         },
         {
          "Error in error estimate": 0.010532363649413401
         },
         {
          "Error in error estimate": -0.003885269535836372
         },
         {
          "Error in error estimate": 0.012211431345115348
         },
         {
          "Error in error estimate": -0.006240472392681468
         },
         {
          "Error in error estimate": 0.006512924531267755
         },
         {
          "Error in error estimate": -0.011706120951354038
         },
         {
          "Error in error estimate": -0.0010641515266502644
         },
         {
          "Error in error estimate": 0.007854151112041186
         },
         {
          "Error in error estimate": -0.005709927279992449
         },
         {
          "Error in error estimate": 0.000721218187669681
         },
         {
          "Error in error estimate": 0.01033273525096734
         },
         {
          "Error in error estimate": 0.0026763793887865095
         },
         {
          "Error in error estimate": -0.003192610713367544
         },
         {
          "Error in error estimate": -0.0006549910194341702
         },
         {
          "Error in error estimate": 0.00871293889897301
         },
         {
          "Error in error estimate": 0.007451647822597163
         },
         {
          "Error in error estimate": 0.0029547534289130484
         },
         {
          "Error in error estimate": -0.006584864380066169
         },
         {
          "Error in error estimate": -0.004417654108254621
         },
         {
          "Error in error estimate": -0.006492034117888762
         },
         {
          "Error in error estimate": 0.005098520175223886
         },
         {
          "Error in error estimate": 0.0007044001784719811
         },
         {
          "Error in error estimate": 0.0026709633776789143
         },
         {
          "Error in error estimate": 0.0017592732439238035
         },
         {
          "Error in error estimate": 0.004550890736901264
         },
         {
          "Error in error estimate": 0.00374903536532617
         },
         {
          "Error in error estimate": 0.010868352553490668
         },
         {
          "Error in error estimate": 0.010529734420203052
         },
         {
          "Error in error estimate": 0.004115099015411544
         },
         {
          "Error in error estimate": 0.0009198376975926015
         },
         {
          "Error in error estimate": -0.0017366404948057357
         },
         {
          "Error in error estimate": -0.0017371931302472
         },
         {
          "Error in error estimate": -0.0009862644474932236
         },
         {
          "Error in error estimate": 0.005354876865463487
         },
         {
          "Error in error estimate": -0.007825188085266027
         },
         {
          "Error in error estimate": 0.007735091853805276
         },
         {
          "Error in error estimate": -0.004243646755829222
         },
         {
          "Error in error estimate": -0.0026823190697859434
         },
         {
          "Error in error estimate": 0.0023246114765914094
         },
         {
          "Error in error estimate": 0.007686308382021556
         },
         {
          "Error in error estimate": 0.0013253929127680641
         },
         {
          "Error in error estimate": 0.0008877388576118972
         },
         {
          "Error in error estimate": 0.008986331973764805
         },
         {
          "Error in error estimate": 0.0064913580695172
         },
         {
          "Error in error estimate": 0.003695803190584629
         },
         {
          "Error in error estimate": -0.006720964404092866
         },
         {
          "Error in error estimate": -0.002222085090270054
         },
         {
          "Error in error estimate": 0.013093810231780773
         },
         {
          "Error in error estimate": 0.0006392185585051835
         },
         {
          "Error in error estimate": -0.0011503205336240163
         },
         {
          "Error in error estimate": -0.006044805355985339
         },
         {
          "Error in error estimate": 0.0002464947340557744
         },
         {
          "Error in error estimate": -3.7355763353341676e-05
         },
         {
          "Error in error estimate": 0.005025836268464312
         },
         {
          "Error in error estimate": 0.004883774414471631
         },
         {
          "Error in error estimate": 0.004554696495485622
         },
         {
          "Error in error estimate": -0.013861033269929296
         },
         {
          "Error in error estimate": -0.011862385073639542
         },
         {
          "Error in error estimate": 0.007954795285976507
         },
         {
          "Error in error estimate": -0.01493248705498254
         },
         {
          "Error in error estimate": -0.002396108443407874
         },
         {
          "Error in error estimate": 0.009047126905341901
         },
         {
          "Error in error estimate": 0.0035129522477314046
         },
         {
          "Error in error estimate": 0.013377945589210738
         },
         {
          "Error in error estimate": 0.011013877548030016
         },
         {
          "Error in error estimate": 0.005492448164119118
         },
         {
          "Error in error estimate": -0.002027077828667373
         },
         {
          "Error in error estimate": 0.004048104290655857
         },
         {
          "Error in error estimate": 0.008497913179821737
         },
         {
          "Error in error estimate": 0.0023811064152535755
         },
         {
          "Error in error estimate": 0.015345251565908519
         },
         {
          "Error in error estimate": -0.005018804993054959
         },
         {
          "Error in error estimate": 0.002928607047809062
         },
         {
          "Error in error estimate": -0.007606542573897701
         },
         {
          "Error in error estimate": 0.00959581959325384
         },
         {
          "Error in error estimate": 0.004217155008721385
         },
         {
          "Error in error estimate": 0.008126525779695776
         },
         {
          "Error in error estimate": -0.009092745771319466
         },
         {
          "Error in error estimate": -0.004583437093808096
         },
         {
          "Error in error estimate": 0.01720996622421181
         },
         {
          "Error in error estimate": -0.005932220452623843
         },
         {
          "Error in error estimate": 0.0007535679370547221
         },
         {
          "Error in error estimate": -0.00713630904319526
         },
         {
          "Error in error estimate": 0.0067188992402015535
         },
         {
          "Error in error estimate": -0.002800349971626065
         },
         {
          "Error in error estimate": 0.0019462652015176385
         },
         {
          "Error in error estimate": 0.017367273611098605
         },
         {
          "Error in error estimate": -0.0003991600192373712
         },
         {
          "Error in error estimate": 0.006621357870484457
         },
         {
          "Error in error estimate": -0.0017030822860534534
         },
         {
          "Error in error estimate": 0.016281028840894163
         },
         {
          "Error in error estimate": 0.0002068392492304838
         },
         {
          "Error in error estimate": 0.01120451984214646
         },
         {
          "Error in error estimate": 0.0004823591992013099
         },
         {
          "Error in error estimate": 0.0038802613729878588
         },
         {
          "Error in error estimate": -0.0026363976474652606
         },
         {
          "Error in error estimate": -0.0065659047223157185
         },
         {
          "Error in error estimate": 0.008675795299201844
         },
         {
          "Error in error estimate": 0.002255984032196817
         },
         {
          "Error in error estimate": -0.004074995229054856
         },
         {
          "Error in error estimate": 0.008252133537077433
         },
         {
          "Error in error estimate": 0.007230691198408468
         },
         {
          "Error in error estimate": 0.005731155576553321
         },
         {
          "Error in error estimate": 0.0005861451305256282
         },
         {
          "Error in error estimate": 0.005001648166610639
         },
         {
          "Error in error estimate": -0.009589384876557777
         },
         {
          "Error in error estimate": 0.010365425980744664
         },
         {
          "Error in error estimate": 0.0035568780232643205
         },
         {
          "Error in error estimate": -0.0062747551282475444
         },
         {
          "Error in error estimate": -0.008348866221790874
         },
         {
          "Error in error estimate": -0.0034574538747983163
         },
         {
          "Error in error estimate": 0.003207497408653809
         },
         {
          "Error in error estimate": 0.0028858946910866323
         },
         {
          "Error in error estimate": -0.00033819576930294026
         },
         {
          "Error in error estimate": -0.010443141047930399
         },
         {
          "Error in error estimate": 0.002327393675413292
         },
         {
          "Error in error estimate": 0.008279505249737973
         },
         {
          "Error in error estimate": 0.006563385219864576
         },
         {
          "Error in error estimate": 0.006265224909070444
         },
         {
          "Error in error estimate": -0.0037989854218190566
         },
         {
          "Error in error estimate": 0.004850222933473036
         },
         {
          "Error in error estimate": -0.005368047230033229
         },
         {
          "Error in error estimate": -0.00221606648673342
         },
         {
          "Error in error estimate": -0.005470607478561956
         },
         {
          "Error in error estimate": 0.006029362153934709
         },
         {
          "Error in error estimate": 0.0052747905271315065
         },
         {
          "Error in error estimate": 0.00395000889212907
         },
         {
          "Error in error estimate": -0.0008696581066409137
         },
         {
          "Error in error estimate": 0.0016815458522045912
         },
         {
          "Error in error estimate": 0.006807275080728037
         },
         {
          "Error in error estimate": -0.00530050198204382
         },
         {
          "Error in error estimate": 0.01457596209649692
         },
         {
          "Error in error estimate": -0.010359567250277008
         },
         {
          "Error in error estimate": -0.005500908792933967
         },
         {
          "Error in error estimate": 0.0012344287856982106
         },
         {
          "Error in error estimate": -0.0010788225895074777
         },
         {
          "Error in error estimate": -0.009053576110084699
         },
         {
          "Error in error estimate": 0.009543444976242377
         },
         {
          "Error in error estimate": 0.006895497123643485
         },
         {
          "Error in error estimate": 0.014129928825542731
         },
         {
          "Error in error estimate": 0.011146074411316154
         },
         {
          "Error in error estimate": 0.00557587745094254
         },
         {
          "Error in error estimate": 0.004104892842071439
         },
         {
          "Error in error estimate": 0.0011680136162634525
         },
         {
          "Error in error estimate": -0.0007253485446631347
         },
         {
          "Error in error estimate": -0.005978869172686807
         },
         {
          "Error in error estimate": -0.006834998432009631
         },
         {
          "Error in error estimate": -0.0002509659734655223
         },
         {
          "Error in error estimate": 0.0005798399938229393
         },
         {
          "Error in error estimate": -0.0063204545808109025
         },
         {
          "Error in error estimate": 0.0006461373266878345
         },
         {
          "Error in error estimate": 7.834116628177568e-05
         },
         {
          "Error in error estimate": 0.004490175039609884
         },
         {
          "Error in error estimate": -0.0007685289378250859
         },
         {
          "Error in error estimate": 0.01253139260158817
         },
         {
          "Error in error estimate": -0.0009498086242279158
         },
         {
          "Error in error estimate": -0.00018700096009871547
         },
         {
          "Error in error estimate": 0.002442386135980551
         },
         {
          "Error in error estimate": 0.004729419185516115
         },
         {
          "Error in error estimate": -0.007603832597445653
         },
         {
          "Error in error estimate": 0.01032232461687374
         },
         {
          "Error in error estimate": 0.007706721055656701
         },
         {
          "Error in error estimate": 0.012965411168956359
         },
         {
          "Error in error estimate": 0.006660612790968579
         },
         {
          "Error in error estimate": 0.009585417322908019
         },
         {
          "Error in error estimate": -0.0032810216442265006
         },
         {
          "Error in error estimate": -0.0036467244503405605
         },
         {
          "Error in error estimate": 0.004122002797918245
         },
         {
          "Error in error estimate": 0.006291315444757473
         },
         {
          "Error in error estimate": 0.0013499018836129473
         },
         {
          "Error in error estimate": -0.001959761502341034
         },
         {
          "Error in error estimate": -0.007368436703399844
         },
         {
          "Error in error estimate": -0.002565532513685548
         },
         {
          "Error in error estimate": -0.0028731509149289014
         },
         {
          "Error in error estimate": 0.003856520895699267
         },
         {
          "Error in error estimate": 0.0013330738127548258
         },
         {
          "Error in error estimate": 0.0020366773609558075
         },
         {
          "Error in error estimate": 0.008117710414951268
         },
         {
          "Error in error estimate": 0.008426864956977614
         },
         {
          "Error in error estimate": -0.005949495601073718
         },
         {
          "Error in error estimate": -0.005954035479483755
         },
         {
          "Error in error estimate": -0.0022796492190640394
         },
         {
          "Error in error estimate": 0.012276988671355182
         },
         {
          "Error in error estimate": -0.0001540281398878518
         },
         {
          "Error in error estimate": -0.0006740374436129959
         },
         {
          "Error in error estimate": -0.01053464698622869
         },
         {
          "Error in error estimate": 0.003711996464750955
         },
         {
          "Error in error estimate": -0.011800100598582108
         },
         {
          "Error in error estimate": 0.0054021877191560985
         },
         {
          "Error in error estimate": -0.008809388691970454
         },
         {
          "Error in error estimate": -0.005138220886244826
         },
         {
          "Error in error estimate": -0.000568394921381582
         },
         {
          "Error in error estimate": 0.002706295346196347
         },
         {
          "Error in error estimate": 0.006433677929701093
         },
         {
          "Error in error estimate": -0.008112619081054373
         },
         {
          "Error in error estimate": 0.010450376339720013
         },
         {
          "Error in error estimate": 0.004071655571988297
         },
         {
          "Error in error estimate": 0.0005137197201713073
         },
         {
          "Error in error estimate": -0.009738406778208947
         },
         {
          "Error in error estimate": 0.0018052649828508849
         },
         {
          "Error in error estimate": 0.014107816282409591
         },
         {
          "Error in error estimate": -0.0017470078596553973
         },
         {
          "Error in error estimate": 0.004526968204508597
         },
         {
          "Error in error estimate": 0.0012098225865644352
         },
         {
          "Error in error estimate": 0.008059589198843226
         },
         {
          "Error in error estimate": 0.01655019144713102
         },
         {
          "Error in error estimate": 0.010585358206618406
         },
         {
          "Error in error estimate": 0.00938789683365035
         },
         {
          "Error in error estimate": 3.042631568431209e-05
         },
         {
          "Error in error estimate": -0.003706269858607447
         },
         {
          "Error in error estimate": -4.0951455287596694e-05
         },
         {
          "Error in error estimate": 0.012875186486466877
         },
         {
          "Error in error estimate": 0.009120471866237628
         },
         {
          "Error in error estimate": -0.0018035210711014327
         },
         {
          "Error in error estimate": 0.011303001457048406
         },
         {
          "Error in error estimate": 0.010812021566533353
         },
         {
          "Error in error estimate": 0.002418776293329039
         },
         {
          "Error in error estimate": -0.0023370556649704444
         },
         {
          "Error in error estimate": -0.0107382114945484
         },
         {
          "Error in error estimate": -0.007105881600380337
         },
         {
          "Error in error estimate": -0.003801093585197257
         },
         {
          "Error in error estimate": -0.00031389636616682703
         },
         {
          "Error in error estimate": 0.0019578661955981236
         },
         {
          "Error in error estimate": -0.001447166697004565
         },
         {
          "Error in error estimate": -0.0016055060748612349
         },
         {
          "Error in error estimate": 0.005847128878760571
         },
         {
          "Error in error estimate": 0.010155755669179756
         },
         {
          "Error in error estimate": -0.003706949268955456
         },
         {
          "Error in error estimate": 0.014134871227684392
         },
         {
          "Error in error estimate": -0.004582815833127474
         },
         {
          "Error in error estimate": -0.011687835932531365
         },
         {
          "Error in error estimate": 0.00485582898371234
         },
         {
          "Error in error estimate": -0.003471290972838187
         },
         {
          "Error in error estimate": 0.011302607079709898
         },
         {
          "Error in error estimate": 0.005831609199900112
         },
         {
          "Error in error estimate": 0.004341479350569277
         },
         {
          "Error in error estimate": -0.00035360570681969294
         },
         {
          "Error in error estimate": -0.006185931347714307
         },
         {
          "Error in error estimate": 0.009420975065025455
         },
         {
          "Error in error estimate": -0.0006330088486441454
         },
         {
          "Error in error estimate": 0.00017442753140062273
         },
         {
          "Error in error estimate": 0.006169466965829595
         },
         {
          "Error in error estimate": -0.017576687298782617
         },
         {
          "Error in error estimate": -0.01780165300785705
         },
         {
          "Error in error estimate": -0.007540160176584126
         },
         {
          "Error in error estimate": -0.006717914082264076
         },
         {
          "Error in error estimate": 0.006675272904596047
         },
         {
          "Error in error estimate": -0.0025563124740713983
         },
         {
          "Error in error estimate": 0.00636140261509871
         },
         {
          "Error in error estimate": -0.011591275641135157
         },
         {
          "Error in error estimate": 0.007305641105891741
         },
         {
          "Error in error estimate": -0.0016812141745589648
         },
         {
          "Error in error estimate": -0.0020179221888735055
         },
         {
          "Error in error estimate": 0.008218048442440368
         },
         {
          "Error in error estimate": -0.013492765104491072
         },
         {
          "Error in error estimate": 0.01102349433442587
         },
         {
          "Error in error estimate": 0.0007211393761573648
         },
         {
          "Error in error estimate": -0.002480498460829983
         },
         {
          "Error in error estimate": 0.004149593659503903
         },
         {
          "Error in error estimate": -0.0026988345080722342
         },
         {
          "Error in error estimate": 0.01102041544353144
         },
         {
          "Error in error estimate": -0.009378740635190563
         },
         {
          "Error in error estimate": 0.0007616365245469436
         },
         {
          "Error in error estimate": 0.0007095322878070132
         },
         {
          "Error in error estimate": 0.004558783274544176
         },
         {
          "Error in error estimate": 0.008962212178033696
         },
         {
          "Error in error estimate": -0.00048007243082517914
         },
         {
          "Error in error estimate": 0.008985569352335354
         },
         {
          "Error in error estimate": 0.009148234348349715
         },
         {
          "Error in error estimate": -0.000993696881676387
         },
         {
          "Error in error estimate": 0.004417352238888783
         },
         {
          "Error in error estimate": 0.0015889641198281734
         },
         {
          "Error in error estimate": 0.013521991677547557
         },
         {
          "Error in error estimate": -3.1308483648961882e-06
         },
         {
          "Error in error estimate": -0.0023389319784477003
         },
         {
          "Error in error estimate": 0.008722078662636412
         },
         {
          "Error in error estimate": 0.0038980026747429397
         },
         {
          "Error in error estimate": -0.0024980160620356184
         },
         {
          "Error in error estimate": 0.01626181349849562
         },
         {
          "Error in error estimate": 0.0003053796417000765
         },
         {
          "Error in error estimate": 0.010404832616170562
         },
         {
          "Error in error estimate": 0.0003731748239388655
         },
         {
          "Error in error estimate": 0.0011089806174586492
         },
         {
          "Error in error estimate": 0.014894159578068666
         },
         {
          "Error in error estimate": -0.0011546868040255565
         },
         {
          "Error in error estimate": 0.008659770093138536
         },
         {
          "Error in error estimate": -0.0033837828100596323
         },
         {
          "Error in error estimate": -0.0024922474915879955
         },
         {
          "Error in error estimate": 0.007871144048734624
         },
         {
          "Error in error estimate": 0.00910234256750389
         },
         {
          "Error in error estimate": -0.0009609545258882912
         },
         {
          "Error in error estimate": 0.010276393919633114
         },
         {
          "Error in error estimate": 0.014284948428987643
         },
         {
          "Error in error estimate": 0.011702195134027454
         },
         {
          "Error in error estimate": 0.0020508514765520958
         },
         {
          "Error in error estimate": 0.005197581689800446
         },
         {
          "Error in error estimate": 0.011422394603424285
         },
         {
          "Error in error estimate": -0.006617362228434592
         },
         {
          "Error in error estimate": 0.004761202057156744
         },
         {
          "Error in error estimate": -0.0026707764447354565
         },
         {
          "Error in error estimate": -0.0006775957531690024
         },
         {
          "Error in error estimate": -0.0008284571421639242
         },
         {
          "Error in error estimate": -0.012621504031294556
         },
         {
          "Error in error estimate": -0.005191071771802724
         },
         {
          "Error in error estimate": 0.005115953014041219
         },
         {
          "Error in error estimate": -0.009422314048343372
         },
         {
          "Error in error estimate": 0.009071726388160783
         },
         {
          "Error in error estimate": 0.005639154665705498
         },
         {
          "Error in error estimate": 0.0035795763052617335
         },
         {
          "Error in error estimate": -0.0074676671895301805
         }
        ]
       },
       "encoding": {
        "x": {
         "bin": {
          "maxbins": 20
         },
         "field": "Error in error estimate",
         "type": "quantitative"
        },
        "y": {
         "aggregate": "count",
         "type": "quantitative"
        }
       },
       "height": 100,
       "mark": {
        "color": "grey",
        "type": "bar"
       }
      },
      "image/png": "[encoded data removed]",
      "text/plain": [
       "<VegaLite 3 object>\n",
       "\n",
       "If you see this message, it means the renderer has not been properly enabled\n",
       "for the frontend that you are using. For more information, see\n",
       "https://altair-viz.github.io/user_guide/troubleshooting.html\n"
      ]
     },
     "execution_count": 16,
     "metadata": {},
     "output_type": "execute_result"
    }
   ],
   "source": [
    "source = pd.DataFrame({'Error in error estimate':error_in_error_estimate})\n",
    "\n",
    "alt.Chart(source, height=100).mark_bar(color='grey').encode(\n",
    "    alt.X(\"Error in error estimate:Q\", bin=alt.Bin(maxbins=20)),\n",
    "    y='count()',\n",
    ")"
   ]
  },
  {
   "cell_type": "markdown",
   "metadata": {},
   "source": [
    "The plot shows that the distribution of $\\mathcal E - \\hat{\\mathcal E}$ is slightly skewed to the right, meaning that, on average, our estimate of the generalization error is a little less than the true generalization error. So we still have the same problem as before, just to a much smaller extent."
   ]
  },
  {
   "cell_type": "markdown",
   "metadata": {},
   "source": [
    "Putting all of this together, we have to conclude that we cannot use the estimator defined in \\ref{empirical-err}: we would always be underestimating the generalization error. Moreover, the reason this happens is *not* that the past data is not representative of the future data because we are using the exact same `data_factory` function to generate both datasets. Furthermore, the amount we're off by depends on what kind of model we use (and perhaps other factors we didn't investigate), so we can't even know ahead of time how much correction might be necessary. \n",
    "\n",
    "This is really bad news for us. If we can't estimate ahead of time how our model will perform, how can we tell which model will be better than another? How can we tell if our model is better than random guessing?"
   ]
  },
  {
   "cell_type": "markdown",
   "metadata": {
    "tags": [
     "popout"
    ]
   },
   "source": [
    "##### EXERCISE\n",
    "\n",
    "Repeat these experiments with a *classifier* of your choosing (e.g. `sklearn.ensemble.RandomForestClassifier`). You can use this code to generate data with binary outcomes:\n",
    "\n",
    "```\n",
    "def class_data_factory(n):\n",
    "    X = np.random.random((n,5)) # 5 predictors\n",
    "    y = np.random.randint(2, size=n)\n",
    "    return X,y\n",
    "```\n",
    "\n",
    "Use classification accuracy as your evaluation metric. Are your estimates of generalization error still biased downward?"
   ]
  },
  {
   "cell_type": "markdown",
   "metadata": {},
   "source": [
    "### Training and Test Sets"
   ]
  },
  {
   "cell_type": "markdown",
   "metadata": {},
   "source": [
    "Although things look bleak at the moment, there is actually a simple solution to our problem. All we have to do is split our data up into two subsamples: one that will be used to fit the model, and one that will be used to evaluate it. The data we use to fit the model is called a *training set* and the data we use to evaluate the model is called a *test set*. \n",
    "\n",
    "![](https://www.dataquest.io/wp-content/uploads/kaggle_train_test_split.svg)\n",
    "\n",
    "In other words, our new estimate of generalization error will be\n",
    "\n",
    "$$\n",
    "\\mathcal {\\hat E}(f) \n",
    "=\n",
    "\\frac{1}{n^{\\mathcal T}} \\sum_{i \\in \\mathcal{T}}  M(y_i, f_{\\mathcal S}(x_i))\n",
    "\\label{test-error}\n",
    "$$\n",
    "\n",
    "Where $\\mathcal T$ (for \"test\") and $\\mathcal S$ (for \"study\", since \"training\" also starts with a T) are a sets of indices indicating which observations are in the test and training sets, respectively. $n^{\\mathcal T}$ is the number of observations in the test set. The notation $f_{\\mathcal S}$ indicates that the model $f$ was fit using the training data $\\mathcal S$ and not the test data. We'll demonstrate in code first and then explain why this works."
   ]
  },
  {
   "cell_type": "code",
   "execution_count": 17,
   "metadata": {
    "tags": [
     "hide_output"
    ]
   },
   "outputs": [],
   "source": [
    "def simulate_model_eval():\n",
    "    X,y = data_factory(1000)\n",
    "    \n",
    "    S = range(500) # training set\n",
    "    T = range(500,1000) # test set index\n",
    "    \n",
    "    X_train, y_train = X[S,:], y[S] # take the first 500 rows as training data\n",
    "    model = RandomForestRegressor(n_estimators=100)\n",
    "    model.fit(X_train, y_train)\n",
    "    \n",
    "    X_test, y_test = X[T,:], y[T] # take the last 500 rows as test data\n",
    "    ŷ_test = model.predict(X_test)\n",
    "    ê = metric(y_test, ŷ_test)\n",
    "    \n",
    "    X_future, y_future = data_factory(1000)\n",
    "    ŷ_future = model.predict(X_future)\n",
    "    e = metric(y_future, ŷ_future)\n",
    "    \n",
    "    return ê, e\n",
    "\n",
    "ês, es = zip(*[simulate_model_eval() for i in range(500)])"
   ]
  },
  {
   "cell_type": "code",
   "execution_count": 18,
   "metadata": {
    "tags": [
     "remove_input"
    ]
   },
   "outputs": [
    {
     "data": {
      "application/vnd.vegalite.v3+json": {
       "$schema": "https://vega.github.io/schema/vega-lite/v3.4.0.json",
       "config": {
        "mark": {
         "tooltip": null
        },
        "view": {
         "height": 300,
         "width": 400
        }
       },
       "data": {
        "name": "data-5c1350091608bb5a3052d129d04767a8"
       },
       "datasets": {
        "data-5c1350091608bb5a3052d129d04767a8": [
         {
          "estimated generalization error": 0.26041899328879115,
          "generalization error": 0.2592141302585868
         },
         {
          "estimated generalization error": 0.26929968315645936,
          "generalization error": 0.26023735543756393
         },
         {
          "estimated generalization error": 0.25566190490831947,
          "generalization error": 0.24913344880869814
         },
         {
          "estimated generalization error": 0.2716471924192129,
          "generalization error": 0.2556400764635608
         },
         {
          "estimated generalization error": 0.25686445162812943,
          "generalization error": 0.2640851365203172
         },
         {
          "estimated generalization error": 0.25901937572006384,
          "generalization error": 0.2593351695133629
         },
         {
          "estimated generalization error": 0.2522336232465299,
          "generalization error": 0.2491478723645239
         },
         {
          "estimated generalization error": 0.25775460867220523,
          "generalization error": 0.25935921573333265
         },
         {
          "estimated generalization error": 0.2579950699643748,
          "generalization error": 0.2674873118099066
         },
         {
          "estimated generalization error": 0.26996525149110195,
          "generalization error": 0.26001852213319476
         },
         {
          "estimated generalization error": 0.27703558761982894,
          "generalization error": 0.2603770737028008
         },
         {
          "estimated generalization error": 0.27292586554220594,
          "generalization error": 0.25928088052849474
         },
         {
          "estimated generalization error": 0.252623699495148,
          "generalization error": 0.24687278534749826
         },
         {
          "estimated generalization error": 0.2515022772290332,
          "generalization error": 0.25428897612031237
         },
         {
          "estimated generalization error": 0.25150962941715527,
          "generalization error": 0.25316822225069996
         },
         {
          "estimated generalization error": 0.26911890467333943,
          "generalization error": 0.24739422010401427
         },
         {
          "estimated generalization error": 0.2526765419678955,
          "generalization error": 0.25826275347964955
         },
         {
          "estimated generalization error": 0.25870551431373623,
          "generalization error": 0.26335241732416614
         },
         {
          "estimated generalization error": 0.25639483923339046,
          "generalization error": 0.261908028514653
         },
         {
          "estimated generalization error": 0.2659467709021188,
          "generalization error": 0.2615367493143483
         },
         {
          "estimated generalization error": 0.260714797272409,
          "generalization error": 0.26037208110049337
         },
         {
          "estimated generalization error": 0.2578824219389136,
          "generalization error": 0.25721877913777075
         },
         {
          "estimated generalization error": 0.25394344392850554,
          "generalization error": 0.26139979528471224
         },
         {
          "estimated generalization error": 0.2657452098394478,
          "generalization error": 0.2561580020025093
         },
         {
          "estimated generalization error": 0.2543578592047701,
          "generalization error": 0.2538628714309892
         },
         {
          "estimated generalization error": 0.25058307896797843,
          "generalization error": 0.2660834300618448
         },
         {
          "estimated generalization error": 0.2601885189204711,
          "generalization error": 0.26040096990198913
         },
         {
          "estimated generalization error": 0.25774947661002773,
          "generalization error": 0.2555409507645047
         },
         {
          "estimated generalization error": 0.26104894231521625,
          "generalization error": 0.257591281169505
         },
         {
          "estimated generalization error": 0.2659511815955542,
          "generalization error": 0.2554233484391166
         },
         {
          "estimated generalization error": 0.25997823321851343,
          "generalization error": 0.2519306359653792
         },
         {
          "estimated generalization error": 0.27182340891499146,
          "generalization error": 0.26409078363953076
         },
         {
          "estimated generalization error": 0.2528133776810075,
          "generalization error": 0.2609260128824377
         },
         {
          "estimated generalization error": 0.2615046978714824,
          "generalization error": 0.25965531397139724
         },
         {
          "estimated generalization error": 0.23952088959612938,
          "generalization error": 0.25264672004295863
         },
         {
          "estimated generalization error": 0.23631926195435488,
          "generalization error": 0.2545217134823113
         },
         {
          "estimated generalization error": 0.25321697430086915,
          "generalization error": 0.2520476046868562
         },
         {
          "estimated generalization error": 0.25647178304533574,
          "generalization error": 0.25263409462537
         },
         {
          "estimated generalization error": 0.26601608521700926,
          "generalization error": 0.25273250508395106
         },
         {
          "estimated generalization error": 0.2570187421189625,
          "generalization error": 0.2512710987797353
         },
         {
          "estimated generalization error": 0.253201388889093,
          "generalization error": 0.24639891666036204
         },
         {
          "estimated generalization error": 0.2654320377431326,
          "generalization error": 0.25406473077163366
         },
         {
          "estimated generalization error": 0.2609845831433218,
          "generalization error": 0.2543309734081265
         },
         {
          "estimated generalization error": 0.2710751120698826,
          "generalization error": 0.24982632090242912
         },
         {
          "estimated generalization error": 0.2513437088729164,
          "generalization error": 0.2583650115453958
         },
         {
          "estimated generalization error": 0.25081436492737136,
          "generalization error": 0.26023472788176916
         },
         {
          "estimated generalization error": 0.2570918905250068,
          "generalization error": 0.26329027868151217
         },
         {
          "estimated generalization error": 0.258583328997289,
          "generalization error": 0.2560989455861513
         },
         {
          "estimated generalization error": 0.2562732931233639,
          "generalization error": 0.25773624548128765
         },
         {
          "estimated generalization error": 0.23984870998023172,
          "generalization error": 0.26036110673114304
         },
         {
          "estimated generalization error": 0.26019930313384015,
          "generalization error": 0.2611657009966876
         },
         {
          "estimated generalization error": 0.2574946925295549,
          "generalization error": 0.2645837937588871
         },
         {
          "estimated generalization error": 0.2561562020609955,
          "generalization error": 0.2653202840096469
         },
         {
          "estimated generalization error": 0.25718432533185004,
          "generalization error": 0.2521771744578687
         },
         {
          "estimated generalization error": 0.258462177533745,
          "generalization error": 0.2620856148489461
         },
         {
          "estimated generalization error": 0.25994645155194723,
          "generalization error": 0.2580018297468945
         },
         {
          "estimated generalization error": 0.25593919186767344,
          "generalization error": 0.2678823776860503
         },
         {
          "estimated generalization error": 0.2774511000504241,
          "generalization error": 0.24558286504078183
         },
         {
          "estimated generalization error": 0.25889472687521153,
          "generalization error": 0.2636027457212765
         },
         {
          "estimated generalization error": 0.2529582606216083,
          "generalization error": 0.25000691745664644
         },
         {
          "estimated generalization error": 0.2600152319626585,
          "generalization error": 0.25890002560298564
         },
         {
          "estimated generalization error": 0.24295891654975138,
          "generalization error": 0.2524994126098465
         },
         {
          "estimated generalization error": 0.2635110711172151,
          "generalization error": 0.2511806155916792
         },
         {
          "estimated generalization error": 0.2497060371877707,
          "generalization error": 0.25785299477621926
         },
         {
          "estimated generalization error": 0.2583024363158297,
          "generalization error": 0.2630579546528277
         },
         {
          "estimated generalization error": 0.2618384361295737,
          "generalization error": 0.2506305249691483
         },
         {
          "estimated generalization error": 0.25480965531651895,
          "generalization error": 0.2567615561710645
         },
         {
          "estimated generalization error": 0.25597366041709024,
          "generalization error": 0.26481086276993665
         },
         {
          "estimated generalization error": 0.2516274998842503,
          "generalization error": 0.26845983775469906
         },
         {
          "estimated generalization error": 0.2614645414004759,
          "generalization error": 0.2598077205033011
         },
         {
          "estimated generalization error": 0.25495020033714905,
          "generalization error": 0.2559169547286721
         },
         {
          "estimated generalization error": 0.24675339627499845,
          "generalization error": 0.2539198737848966
         },
         {
          "estimated generalization error": 0.24666983255161948,
          "generalization error": 0.2550291392467367
         },
         {
          "estimated generalization error": 0.2529121665883566,
          "generalization error": 0.2593930140295644
         },
         {
          "estimated generalization error": 0.2440836745657578,
          "generalization error": 0.2589778571811575
         },
         {
          "estimated generalization error": 0.25153055552417697,
          "generalization error": 0.25513344069668564
         },
         {
          "estimated generalization error": 0.24849120903119182,
          "generalization error": 0.2608282772012998
         },
         {
          "estimated generalization error": 0.2474169234040495,
          "generalization error": 0.25111563359431865
         },
         {
          "estimated generalization error": 0.24976706716299718,
          "generalization error": 0.25066139564968776
         },
         {
          "estimated generalization error": 0.25596570320676654,
          "generalization error": 0.2576975549184657
         },
         {
          "estimated generalization error": 0.25896037244133413,
          "generalization error": 0.261030543039341
         },
         {
          "estimated generalization error": 0.2626486298609401,
          "generalization error": 0.2513688723498601
         },
         {
          "estimated generalization error": 0.2522039813010366,
          "generalization error": 0.25112648288059275
         },
         {
          "estimated generalization error": 0.24251809937973093,
          "generalization error": 0.25680031835236905
         },
         {
          "estimated generalization error": 0.25851443142037445,
          "generalization error": 0.2593981579052877
         },
         {
          "estimated generalization error": 0.2556870740056677,
          "generalization error": 0.25337089373976956
         },
         {
          "estimated generalization error": 0.25941715660406045,
          "generalization error": 0.25287127998911324
         },
         {
          "estimated generalization error": 0.2741872974448816,
          "generalization error": 0.25955888568771956
         },
         {
          "estimated generalization error": 0.2568464931185924,
          "generalization error": 0.24968199601468866
         },
         {
          "estimated generalization error": 0.2619112461501553,
          "generalization error": 0.2545921593663538
         },
         {
          "estimated generalization error": 0.2667582713721697,
          "generalization error": 0.2593324457396758
         },
         {
          "estimated generalization error": 0.25461750259680827,
          "generalization error": 0.2532169765116017
         },
         {
          "estimated generalization error": 0.2618175849399191,
          "generalization error": 0.26697429215820057
         },
         {
          "estimated generalization error": 0.2546071809155031,
          "generalization error": 0.251471476978835
         },
         {
          "estimated generalization error": 0.2640428161685195,
          "generalization error": 0.25468402142081487
         },
         {
          "estimated generalization error": 0.25332422015905104,
          "generalization error": 0.2508532122877544
         },
         {
          "estimated generalization error": 0.24820918948463944,
          "generalization error": 0.26095237476424205
         },
         {
          "estimated generalization error": 0.23616940942973097,
          "generalization error": 0.26011508111484544
         },
         {
          "estimated generalization error": 0.2524795083199124,
          "generalization error": 0.249779926549793
         },
         {
          "estimated generalization error": 0.2540355661941009,
          "generalization error": 0.2553974598314282
         },
         {
          "estimated generalization error": 0.26232336798530786,
          "generalization error": 0.25818813686319464
         },
         {
          "estimated generalization error": 0.2601124644260698,
          "generalization error": 0.2564462183927792
         },
         {
          "estimated generalization error": 0.25495182600411237,
          "generalization error": 0.25877488046230185
         },
         {
          "estimated generalization error": 0.2747805934505733,
          "generalization error": 0.2591144312255044
         },
         {
          "estimated generalization error": 0.265515474854785,
          "generalization error": 0.25844719866208105
         },
         {
          "estimated generalization error": 0.2526841227753724,
          "generalization error": 0.26106940953329283
         },
         {
          "estimated generalization error": 0.26765141203138526,
          "generalization error": 0.2594565616972262
         },
         {
          "estimated generalization error": 0.2640908767668949,
          "generalization error": 0.2501355112287301
         },
         {
          "estimated generalization error": 0.25539663615070163,
          "generalization error": 0.24770796339475418
         },
         {
          "estimated generalization error": 0.25139183419885014,
          "generalization error": 0.260668145741035
         },
         {
          "estimated generalization error": 0.2647384878948178,
          "generalization error": 0.25952116845365664
         },
         {
          "estimated generalization error": 0.26468474775616435,
          "generalization error": 0.2495506767860968
         },
         {
          "estimated generalization error": 0.2511912035628541,
          "generalization error": 0.24814527230876335
         },
         {
          "estimated generalization error": 0.25749411628530144,
          "generalization error": 0.26069475090488936
         },
         {
          "estimated generalization error": 0.2632534123272194,
          "generalization error": 0.2576060066845049
         },
         {
          "estimated generalization error": 0.26098753846482053,
          "generalization error": 0.26268306875316616
         },
         {
          "estimated generalization error": 0.2723592908951091,
          "generalization error": 0.2682245938355936
         },
         {
          "estimated generalization error": 0.24788857902731212,
          "generalization error": 0.2558010299301616
         },
         {
          "estimated generalization error": 0.25941053034451056,
          "generalization error": 0.2648742027240432
         },
         {
          "estimated generalization error": 0.2638736649953091,
          "generalization error": 0.25525614644208156
         },
         {
          "estimated generalization error": 0.25476599612265105,
          "generalization error": 0.2655208319755644
         },
         {
          "estimated generalization error": 0.25763378674650517,
          "generalization error": 0.2531230532574087
         },
         {
          "estimated generalization error": 0.25728073891271636,
          "generalization error": 0.24899280877533242
         },
         {
          "estimated generalization error": 0.2610347156201692,
          "generalization error": 0.25978484969045285
         },
         {
          "estimated generalization error": 0.25539111178723384,
          "generalization error": 0.2698867162931427
         },
         {
          "estimated generalization error": 0.24301714925104953,
          "generalization error": 0.25921572634689455
         },
         {
          "estimated generalization error": 0.26784569829950516,
          "generalization error": 0.26097121622400316
         },
         {
          "estimated generalization error": 0.2718515638924845,
          "generalization error": 0.25708696440399315
         },
         {
          "estimated generalization error": 0.2579643826371841,
          "generalization error": 0.25698323546253865
         },
         {
          "estimated generalization error": 0.26484206542530814,
          "generalization error": 0.2538417213410634
         },
         {
          "estimated generalization error": 0.2573617324496583,
          "generalization error": 0.25536103288992434
         },
         {
          "estimated generalization error": 0.2610061165934992,
          "generalization error": 0.25533026425685756
         },
         {
          "estimated generalization error": 0.2621324733720884,
          "generalization error": 0.25852248399587735
         },
         {
          "estimated generalization error": 0.2554165322014786,
          "generalization error": 0.25705593127086257
         },
         {
          "estimated generalization error": 0.25937039555524494,
          "generalization error": 0.24964656112586428
         },
         {
          "estimated generalization error": 0.24797237685345289,
          "generalization error": 0.2531846754823589
         },
         {
          "estimated generalization error": 0.2511096426240986,
          "generalization error": 0.25420854248501307
         },
         {
          "estimated generalization error": 0.25466189055146454,
          "generalization error": 0.253097738723683
         },
         {
          "estimated generalization error": 0.2543756439326191,
          "generalization error": 0.2492769911829232
         },
         {
          "estimated generalization error": 0.2573478995780582,
          "generalization error": 0.26222807351245864
         },
         {
          "estimated generalization error": 0.24758554284104597,
          "generalization error": 0.2592500924665438
         },
         {
          "estimated generalization error": 0.24622877615530106,
          "generalization error": 0.25710252324159
         },
         {
          "estimated generalization error": 0.25319149242905037,
          "generalization error": 0.2579071350786945
         },
         {
          "estimated generalization error": 0.24868587919657154,
          "generalization error": 0.2623912431767981
         },
         {
          "estimated generalization error": 0.2489176926103608,
          "generalization error": 0.2552185268785684
         },
         {
          "estimated generalization error": 0.2532599821237592,
          "generalization error": 0.25156840498447186
         },
         {
          "estimated generalization error": 0.25841868971355897,
          "generalization error": 0.2613507434000704
         },
         {
          "estimated generalization error": 0.2603074175615136,
          "generalization error": 0.24797283065528827
         },
         {
          "estimated generalization error": 0.2511460431987543,
          "generalization error": 0.2607959406313766
         },
         {
          "estimated generalization error": 0.2555033179051356,
          "generalization error": 0.25480793957067394
         },
         {
          "estimated generalization error": 0.25955738009096463,
          "generalization error": 0.2553396523179851
         },
         {
          "estimated generalization error": 0.2585323038644855,
          "generalization error": 0.25184778807834535
         },
         {
          "estimated generalization error": 0.2505643069903322,
          "generalization error": 0.25507078561106217
         },
         {
          "estimated generalization error": 0.24323436985714217,
          "generalization error": 0.24700507829099244
         },
         {
          "estimated generalization error": 0.26061269899663336,
          "generalization error": 0.25096024306816256
         },
         {
          "estimated generalization error": 0.26664837636529537,
          "generalization error": 0.26202704597309423
         },
         {
          "estimated generalization error": 0.2564086187153304,
          "generalization error": 0.25916662533694645
         },
         {
          "estimated generalization error": 0.26319889350435643,
          "generalization error": 0.2588404898719816
         },
         {
          "estimated generalization error": 0.25849412206494865,
          "generalization error": 0.24683282197994913
         },
         {
          "estimated generalization error": 0.2618695301779151,
          "generalization error": 0.2497456668330089
         },
         {
          "estimated generalization error": 0.24915435827260599,
          "generalization error": 0.2582611502965905
         },
         {
          "estimated generalization error": 0.26107137000206865,
          "generalization error": 0.2599581259978941
         },
         {
          "estimated generalization error": 0.257066524686508,
          "generalization error": 0.2549666914451866
         },
         {
          "estimated generalization error": 0.2661370907690872,
          "generalization error": 0.25764163640261417
         },
         {
          "estimated generalization error": 0.25707632699499905,
          "generalization error": 0.24929709098423683
         },
         {
          "estimated generalization error": 0.2700184349000047,
          "generalization error": 0.25783091537136604
         },
         {
          "estimated generalization error": 0.25930256048716216,
          "generalization error": 0.2558491672208295
         },
         {
          "estimated generalization error": 0.2629013735781309,
          "generalization error": 0.24966445171348664
         },
         {
          "estimated generalization error": 0.25779662031365513,
          "generalization error": 0.2600278668353261
         },
         {
          "estimated generalization error": 0.266515997120473,
          "generalization error": 0.2481259262470564
         },
         {
          "estimated generalization error": 0.2437644526247725,
          "generalization error": 0.2594974020175334
         },
         {
          "estimated generalization error": 0.2659010362594747,
          "generalization error": 0.25943502964415144
         },
         {
          "estimated generalization error": 0.24272010631819077,
          "generalization error": 0.26157722725695953
         },
         {
          "estimated generalization error": 0.2604382851227049,
          "generalization error": 0.25097794875839063
         },
         {
          "estimated generalization error": 0.26372184192426473,
          "generalization error": 0.25448392438919404
         },
         {
          "estimated generalization error": 0.24833651244835028,
          "generalization error": 0.2641306964398287
         },
         {
          "estimated generalization error": 0.2620453915399215,
          "generalization error": 0.2596079802821571
         },
         {
          "estimated generalization error": 0.2591952553387348,
          "generalization error": 0.2608635185009261
         },
         {
          "estimated generalization error": 0.24756626394631462,
          "generalization error": 0.25714323159184593
         },
         {
          "estimated generalization error": 0.25424502381777064,
          "generalization error": 0.261214197321759
         },
         {
          "estimated generalization error": 0.26991588506692077,
          "generalization error": 0.25203981273522175
         },
         {
          "estimated generalization error": 0.2665601353517304,
          "generalization error": 0.24869462074949425
         },
         {
          "estimated generalization error": 0.2682585158625334,
          "generalization error": 0.2582318112655629
         },
         {
          "estimated generalization error": 0.25244868489687794,
          "generalization error": 0.25006849908059214
         },
         {
          "estimated generalization error": 0.2521456438649675,
          "generalization error": 0.26587997643744604
         },
         {
          "estimated generalization error": 0.2588244846562477,
          "generalization error": 0.2601328823438713
         },
         {
          "estimated generalization error": 0.24960730408402368,
          "generalization error": 0.26482248218748156
         },
         {
          "estimated generalization error": 0.2619876563908506,
          "generalization error": 0.25850465450858484
         },
         {
          "estimated generalization error": 0.25686535558800666,
          "generalization error": 0.25424797536301724
         },
         {
          "estimated generalization error": 0.26334515679129483,
          "generalization error": 0.2564763359797353
         },
         {
          "estimated generalization error": 0.2573543780839722,
          "generalization error": 0.257179423997369
         },
         {
          "estimated generalization error": 0.26156738692373516,
          "generalization error": 0.26253921381577994
         },
         {
          "estimated generalization error": 0.26343382901415796,
          "generalization error": 0.25665646727539143
         },
         {
          "estimated generalization error": 0.24789152680791032,
          "generalization error": 0.2575709125008664
         },
         {
          "estimated generalization error": 0.25558708298185356,
          "generalization error": 0.24948306375079898
         },
         {
          "estimated generalization error": 0.2523681011331259,
          "generalization error": 0.25596159795921114
         },
         {
          "estimated generalization error": 0.2609775890726802,
          "generalization error": 0.26104574044647744
         },
         {
          "estimated generalization error": 0.26595193688172775,
          "generalization error": 0.2599222887771128
         },
         {
          "estimated generalization error": 0.2492580059283877,
          "generalization error": 0.26209190645166763
         },
         {
          "estimated generalization error": 0.2513941282907743,
          "generalization error": 0.2552660857502353
         },
         {
          "estimated generalization error": 0.2543994208025241,
          "generalization error": 0.2559503343046766
         },
         {
          "estimated generalization error": 0.26231567029354336,
          "generalization error": 0.26482841827154624
         },
         {
          "estimated generalization error": 0.26221504048862804,
          "generalization error": 0.2654504834743593
         },
         {
          "estimated generalization error": 0.24967714615946643,
          "generalization error": 0.25647235676597996
         },
         {
          "estimated generalization error": 0.27450679330176025,
          "generalization error": 0.25380612964378507
         },
         {
          "estimated generalization error": 0.26802210418917843,
          "generalization error": 0.26179555979837854
         },
         {
          "estimated generalization error": 0.2688207841522981,
          "generalization error": 0.260913554219616
         },
         {
          "estimated generalization error": 0.25645919088734537,
          "generalization error": 0.2546193887839188
         },
         {
          "estimated generalization error": 0.24829817362533088,
          "generalization error": 0.25671543716388084
         },
         {
          "estimated generalization error": 0.25399819145893243,
          "generalization error": 0.26267116937677387
         },
         {
          "estimated generalization error": 0.2614304797603738,
          "generalization error": 0.25581411797865283
         },
         {
          "estimated generalization error": 0.26401759065902014,
          "generalization error": 0.26871489664226417
         },
         {
          "estimated generalization error": 0.2546968125442023,
          "generalization error": 0.2589514347051783
         },
         {
          "estimated generalization error": 0.25877481727028295,
          "generalization error": 0.25963201699158905
         },
         {
          "estimated generalization error": 0.26104976491691484,
          "generalization error": 0.25812339948171253
         },
         {
          "estimated generalization error": 0.2661352533147441,
          "generalization error": 0.26240105641068906
         },
         {
          "estimated generalization error": 0.25682348546927436,
          "generalization error": 0.25342446059569984
         },
         {
          "estimated generalization error": 0.2501621947796944,
          "generalization error": 0.2658486014963771
         },
         {
          "estimated generalization error": 0.25902858739778967,
          "generalization error": 0.2581274049402685
         },
         {
          "estimated generalization error": 0.26053525268337924,
          "generalization error": 0.2579423836668748
         },
         {
          "estimated generalization error": 0.25341614855855105,
          "generalization error": 0.25531627483588404
         },
         {
          "estimated generalization error": 0.2548324545429143,
          "generalization error": 0.25744570689983015
         },
         {
          "estimated generalization error": 0.259490095484571,
          "generalization error": 0.25380301562253194
         },
         {
          "estimated generalization error": 0.25780795332955425,
          "generalization error": 0.2625675432834519
         },
         {
          "estimated generalization error": 0.24927458879353417,
          "generalization error": 0.2540365795851213
         },
         {
          "estimated generalization error": 0.2559854053403513,
          "generalization error": 0.254324208181903
         },
         {
          "estimated generalization error": 0.24733541686669502,
          "generalization error": 0.2559506018433708
         },
         {
          "estimated generalization error": 0.26129256097706766,
          "generalization error": 0.2578311837027949
         },
         {
          "estimated generalization error": 0.25922831144470726,
          "generalization error": 0.25824573586546135
         },
         {
          "estimated generalization error": 0.27520357898297054,
          "generalization error": 0.2509062844601898
         },
         {
          "estimated generalization error": 0.2729881729602321,
          "generalization error": 0.2654314109176552
         },
         {
          "estimated generalization error": 0.26110567481103086,
          "generalization error": 0.25826385687931824
         },
         {
          "estimated generalization error": 0.25318458163938207,
          "generalization error": 0.26094378307679583
         },
         {
          "estimated generalization error": 0.2633127908422383,
          "generalization error": 0.2590398942849123
         },
         {
          "estimated generalization error": 0.25812855887362784,
          "generalization error": 0.2512620056240817
         },
         {
          "estimated generalization error": 0.2677756361506165,
          "generalization error": 0.2677802382559137
         },
         {
          "estimated generalization error": 0.2626654008477633,
          "generalization error": 0.25875981993323166
         },
         {
          "estimated generalization error": 0.2500961835443508,
          "generalization error": 0.25451139197786293
         },
         {
          "estimated generalization error": 0.25090589969349697,
          "generalization error": 0.2587853035676027
         },
         {
          "estimated generalization error": 0.25238046406529857,
          "generalization error": 0.2563646136809801
         },
         {
          "estimated generalization error": 0.25640560741934554,
          "generalization error": 0.2614378961503067
         },
         {
          "estimated generalization error": 0.25877964924856656,
          "generalization error": 0.25176943658319273
         },
         {
          "estimated generalization error": 0.2454317953920182,
          "generalization error": 0.24912743921945252
         },
         {
          "estimated generalization error": 0.26414589093988383,
          "generalization error": 0.2665365768539985
         },
         {
          "estimated generalization error": 0.2615046050852964,
          "generalization error": 0.2604240339591634
         },
         {
          "estimated generalization error": 0.2505505074768054,
          "generalization error": 0.26261823851110966
         },
         {
          "estimated generalization error": 0.2603666363257917,
          "generalization error": 0.25870951494283584
         },
         {
          "estimated generalization error": 0.2716863128828688,
          "generalization error": 0.25425057441006804
         },
         {
          "estimated generalization error": 0.2496666172074467,
          "generalization error": 0.2572688138590396
         },
         {
          "estimated generalization error": 0.2665222345857494,
          "generalization error": 0.2607542456616157
         },
         {
          "estimated generalization error": 0.25025179884075777,
          "generalization error": 0.26008539285781723
         },
         {
          "estimated generalization error": 0.25473093360688415,
          "generalization error": 0.26431164930569445
         },
         {
          "estimated generalization error": 0.26280157975689883,
          "generalization error": 0.25780306515932727
         },
         {
          "estimated generalization error": 0.263773045427664,
          "generalization error": 0.26261830583208107
         },
         {
          "estimated generalization error": 0.2573707430705781,
          "generalization error": 0.2510033508793151
         },
         {
          "estimated generalization error": 0.27003878451214575,
          "generalization error": 0.24778126713514922
         },
         {
          "estimated generalization error": 0.2517079961950779,
          "generalization error": 0.25517305687166414
         },
         {
          "estimated generalization error": 0.258665462392894,
          "generalization error": 0.26164420046452525
         },
         {
          "estimated generalization error": 0.2559382222913085,
          "generalization error": 0.2548913065513028
         },
         {
          "estimated generalization error": 0.2693343603659813,
          "generalization error": 0.2618375772012428
         },
         {
          "estimated generalization error": 0.2657642539681634,
          "generalization error": 0.25342107662179514
         },
         {
          "estimated generalization error": 0.2590883686151314,
          "generalization error": 0.2496970823976118
         },
         {
          "estimated generalization error": 0.253200364230533,
          "generalization error": 0.26223403549698593
         },
         {
          "estimated generalization error": 0.2532786061422901,
          "generalization error": 0.2624360714595574
         },
         {
          "estimated generalization error": 0.26174505371209444,
          "generalization error": 0.2500610543509002
         },
         {
          "estimated generalization error": 0.2614178030227374,
          "generalization error": 0.2597161293490119
         },
         {
          "estimated generalization error": 0.261459719703533,
          "generalization error": 0.2638811435273475
         },
         {
          "estimated generalization error": 0.2631605568275935,
          "generalization error": 0.2546401383325287
         },
         {
          "estimated generalization error": 0.254944349023948,
          "generalization error": 0.25659795609805225
         },
         {
          "estimated generalization error": 0.2612306382041755,
          "generalization error": 0.25929753857194326
         },
         {
          "estimated generalization error": 0.25284020777385946,
          "generalization error": 0.2610269320158323
         },
         {
          "estimated generalization error": 0.2530855916880387,
          "generalization error": 0.2631985647576462
         },
         {
          "estimated generalization error": 0.25805962884507294,
          "generalization error": 0.24855051226510957
         },
         {
          "estimated generalization error": 0.26162578218104293,
          "generalization error": 0.25338638394192753
         },
         {
          "estimated generalization error": 0.25214380868746394,
          "generalization error": 0.2581748379131997
         },
         {
          "estimated generalization error": 0.25309056436744837,
          "generalization error": 0.26875175962876663
         },
         {
          "estimated generalization error": 0.2539674589889293,
          "generalization error": 0.2636861460480583
         },
         {
          "estimated generalization error": 0.25275084655175106,
          "generalization error": 0.25808432609082943
         },
         {
          "estimated generalization error": 0.2676000830314257,
          "generalization error": 0.250842502727637
         },
         {
          "estimated generalization error": 0.2577544800254349,
          "generalization error": 0.26499841186703904
         },
         {
          "estimated generalization error": 0.25870643688790684,
          "generalization error": 0.25588472438473203
         },
         {
          "estimated generalization error": 0.2562447363177247,
          "generalization error": 0.2587801416209096
         },
         {
          "estimated generalization error": 0.25262739186212213,
          "generalization error": 0.25479205477575834
         },
         {
          "estimated generalization error": 0.26323606751522716,
          "generalization error": 0.2631316619565266
         },
         {
          "estimated generalization error": 0.2575036499117484,
          "generalization error": 0.25125325360429934
         },
         {
          "estimated generalization error": 0.26472958759166293,
          "generalization error": 0.25828989693510096
         },
         {
          "estimated generalization error": 0.2644767098534545,
          "generalization error": 0.2528683712009859
         },
         {
          "estimated generalization error": 0.26054314623319547,
          "generalization error": 0.2688129999328768
         },
         {
          "estimated generalization error": 0.2465951489595033,
          "generalization error": 0.2533032547051452
         },
         {
          "estimated generalization error": 0.26518618571143476,
          "generalization error": 0.2550955498151828
         },
         {
          "estimated generalization error": 0.2754786415957717,
          "generalization error": 0.2679463786546898
         },
         {
          "estimated generalization error": 0.2470516496107834,
          "generalization error": 0.260952201554459
         },
         {
          "estimated generalization error": 0.2601597208792141,
          "generalization error": 0.2505580102199132
         },
         {
          "estimated generalization error": 0.2546156252464569,
          "generalization error": 0.2559815831968332
         },
         {
          "estimated generalization error": 0.24854606842051033,
          "generalization error": 0.2634727239414142
         },
         {
          "estimated generalization error": 0.25529817010156125,
          "generalization error": 0.25760870509785466
         },
         {
          "estimated generalization error": 0.25764251553753714,
          "generalization error": 0.25440544631651674
         },
         {
          "estimated generalization error": 0.25922674909368415,
          "generalization error": 0.260474614224644
         },
         {
          "estimated generalization error": 0.24723100174365037,
          "generalization error": 0.2735453320377118
         },
         {
          "estimated generalization error": 0.263608735224247,
          "generalization error": 0.25618419659092695
         },
         {
          "estimated generalization error": 0.25054607889389013,
          "generalization error": 0.25489004169194407
         },
         {
          "estimated generalization error": 0.2540099891874351,
          "generalization error": 0.26166128136284583
         },
         {
          "estimated generalization error": 0.26058877796721314,
          "generalization error": 0.263692386396131
         },
         {
          "estimated generalization error": 0.2534399988289364,
          "generalization error": 0.2638761163436446
         },
         {
          "estimated generalization error": 0.2527579960424175,
          "generalization error": 0.2626174996291103
         },
         {
          "estimated generalization error": 0.2572540131955724,
          "generalization error": 0.2582154059734552
         },
         {
          "estimated generalization error": 0.25433737726694006,
          "generalization error": 0.25149250258096456
         },
         {
          "estimated generalization error": 0.261080888731528,
          "generalization error": 0.25314478848304717
         },
         {
          "estimated generalization error": 0.25807871522592096,
          "generalization error": 0.26174278459887135
         },
         {
          "estimated generalization error": 0.2512068420530159,
          "generalization error": 0.26500307193970923
         },
         {
          "estimated generalization error": 0.2510799532316499,
          "generalization error": 0.2541395306272909
         },
         {
          "estimated generalization error": 0.24854048413725796,
          "generalization error": 0.2566148985115639
         },
         {
          "estimated generalization error": 0.2550554697938221,
          "generalization error": 0.2586322103368847
         },
         {
          "estimated generalization error": 0.2553844016339796,
          "generalization error": 0.2540809197537156
         },
         {
          "estimated generalization error": 0.2663855237188663,
          "generalization error": 0.25579156879390763
         },
         {
          "estimated generalization error": 0.2449359681888348,
          "generalization error": 0.252619903413825
         },
         {
          "estimated generalization error": 0.2532601007562005,
          "generalization error": 0.259972875211842
         },
         {
          "estimated generalization error": 0.2631420041114932,
          "generalization error": 0.2587549441858407
         },
         {
          "estimated generalization error": 0.25902393464710227,
          "generalization error": 0.259959582849606
         },
         {
          "estimated generalization error": 0.25479013836793873,
          "generalization error": 0.26310375722640533
         },
         {
          "estimated generalization error": 0.26014148717309604,
          "generalization error": 0.24884284378253363
         },
         {
          "estimated generalization error": 0.2636501183527303,
          "generalization error": 0.26172685566574044
         },
         {
          "estimated generalization error": 0.25046943449464887,
          "generalization error": 0.2584538976703244
         },
         {
          "estimated generalization error": 0.26381198772644454,
          "generalization error": 0.2586681453685999
         },
         {
          "estimated generalization error": 0.25849998164523796,
          "generalization error": 0.2605719792316958
         },
         {
          "estimated generalization error": 0.26453135835990904,
          "generalization error": 0.2587510751211926
         },
         {
          "estimated generalization error": 0.26147197258707866,
          "generalization error": 0.2686924865529193
         },
         {
          "estimated generalization error": 0.2578282135144576,
          "generalization error": 0.25311591698468244
         },
         {
          "estimated generalization error": 0.26071685335127653,
          "generalization error": 0.2674713310041342
         },
         {
          "estimated generalization error": 0.2638024718111824,
          "generalization error": 0.25410110425099036
         },
         {
          "estimated generalization error": 0.2528649889245008,
          "generalization error": 0.25671683082725394
         },
         {
          "estimated generalization error": 0.2657780416904752,
          "generalization error": 0.2596609858560139
         },
         {
          "estimated generalization error": 0.2500746575753527,
          "generalization error": 0.25572526326661277
         },
         {
          "estimated generalization error": 0.26057329402439616,
          "generalization error": 0.2550193305430839
         },
         {
          "estimated generalization error": 0.260581607796792,
          "generalization error": 0.2532466059083605
         },
         {
          "estimated generalization error": 0.25542035823083237,
          "generalization error": 0.2536139782486591
         },
         {
          "estimated generalization error": 0.2510625953388931,
          "generalization error": 0.2542212127580511
         },
         {
          "estimated generalization error": 0.26025282191903615,
          "generalization error": 0.2526283733152324
         },
         {
          "estimated generalization error": 0.24297591393087692,
          "generalization error": 0.2535629819167464
         },
         {
          "estimated generalization error": 0.2669700781567896,
          "generalization error": 0.2619811626552131
         },
         {
          "estimated generalization error": 0.2532287883069847,
          "generalization error": 0.26022447235040674
         },
         {
          "estimated generalization error": 0.2564738483673378,
          "generalization error": 0.2642838516786295
         },
         {
          "estimated generalization error": 0.27142614318287245,
          "generalization error": 0.2577099886428056
         },
         {
          "estimated generalization error": 0.25719910801085955,
          "generalization error": 0.2592286490072554
         },
         {
          "estimated generalization error": 0.2495235042182855,
          "generalization error": 0.2568621329320291
         },
         {
          "estimated generalization error": 0.24717074551053614,
          "generalization error": 0.2691749487059665
         },
         {
          "estimated generalization error": 0.2647257267575161,
          "generalization error": 0.2648465170576663
         },
         {
          "estimated generalization error": 0.2554814010148075,
          "generalization error": 0.25998628188887707
         },
         {
          "estimated generalization error": 0.25228775167949213,
          "generalization error": 0.2571352374210039
         },
         {
          "estimated generalization error": 0.2617104952627084,
          "generalization error": 0.24766143880479813
         },
         {
          "estimated generalization error": 0.2578618086109053,
          "generalization error": 0.2617078201701326
         },
         {
          "estimated generalization error": 0.2596280180258517,
          "generalization error": 0.251700312847516
         },
         {
          "estimated generalization error": 0.2624278195546194,
          "generalization error": 0.25986740938989467
         },
         {
          "estimated generalization error": 0.2526087330751248,
          "generalization error": 0.2553635287802584
         },
         {
          "estimated generalization error": 0.2570846446537876,
          "generalization error": 0.2612838146814554
         },
         {
          "estimated generalization error": 0.260331680265701,
          "generalization error": 0.2668113104046865
         },
         {
          "estimated generalization error": 0.27363304297232144,
          "generalization error": 0.26104359151101664
         },
         {
          "estimated generalization error": 0.2552688568688597,
          "generalization error": 0.2506029397785893
         },
         {
          "estimated generalization error": 0.25309983192706187,
          "generalization error": 0.2582366706489909
         },
         {
          "estimated generalization error": 0.2572995681731622,
          "generalization error": 0.26500346725098156
         },
         {
          "estimated generalization error": 0.25867457638260727,
          "generalization error": 0.2599229980844953
         },
         {
          "estimated generalization error": 0.24783833670424857,
          "generalization error": 0.25507297528212436
         },
         {
          "estimated generalization error": 0.25303534628646085,
          "generalization error": 0.25102840874214094
         },
         {
          "estimated generalization error": 0.24371982400808634,
          "generalization error": 0.26213754755534197
         },
         {
          "estimated generalization error": 0.24006283924997224,
          "generalization error": 0.2623264111401676
         },
         {
          "estimated generalization error": 0.2597195840494896,
          "generalization error": 0.25279290691359263
         },
         {
          "estimated generalization error": 0.26999506246012206,
          "generalization error": 0.2620339332473392
         },
         {
          "estimated generalization error": 0.2560367790022136,
          "generalization error": 0.26213230381639885
         },
         {
          "estimated generalization error": 0.2566862779437353,
          "generalization error": 0.25388880732624153
         },
         {
          "estimated generalization error": 0.25623909483573926,
          "generalization error": 0.25823943902534624
         },
         {
          "estimated generalization error": 0.2624891817837294,
          "generalization error": 0.2598446852199567
         },
         {
          "estimated generalization error": 0.26361173245100794,
          "generalization error": 0.2540107608272947
         },
         {
          "estimated generalization error": 0.2692117606533868,
          "generalization error": 0.2575403380635579
         },
         {
          "estimated generalization error": 0.2480152221472377,
          "generalization error": 0.2595080673905139
         },
         {
          "estimated generalization error": 0.27124833946391513,
          "generalization error": 0.2556840948372431
         },
         {
          "estimated generalization error": 0.2597109247619945,
          "generalization error": 0.25639061739548136
         },
         {
          "estimated generalization error": 0.2672161350565054,
          "generalization error": 0.25632625359626726
         },
         {
          "estimated generalization error": 0.2618269658320249,
          "generalization error": 0.2578281318273499
         },
         {
          "estimated generalization error": 0.2524306589816894,
          "generalization error": 0.24897857172402404
         },
         {
          "estimated generalization error": 0.2562183470360598,
          "generalization error": 0.262197557428441
         },
         {
          "estimated generalization error": 0.24257327711512403,
          "generalization error": 0.2541148646919493
         },
         {
          "estimated generalization error": 0.2570541537886495,
          "generalization error": 0.24687680383894786
         },
         {
          "estimated generalization error": 0.2650809080662603,
          "generalization error": 0.2588717586542169
         },
         {
          "estimated generalization error": 0.25182933896606835,
          "generalization error": 0.25397913691426083
         },
         {
          "estimated generalization error": 0.2548342577530059,
          "generalization error": 0.2576197514841165
         },
         {
          "estimated generalization error": 0.256867942064424,
          "generalization error": 0.2566049260406544
         },
         {
          "estimated generalization error": 0.24799359829282133,
          "generalization error": 0.2560365233180828
         },
         {
          "estimated generalization error": 0.25247640928679915,
          "generalization error": 0.2562996934752503
         },
         {
          "estimated generalization error": 0.2527293912478638,
          "generalization error": 0.25429700984967446
         },
         {
          "estimated generalization error": 0.25822461115885753,
          "generalization error": 0.2539131794190365
         },
         {
          "estimated generalization error": 0.27844101468838034,
          "generalization error": 0.252093210736338
         },
         {
          "estimated generalization error": 0.2651294129000569,
          "generalization error": 0.26271990726527195
         },
         {
          "estimated generalization error": 0.2538151397456236,
          "generalization error": 0.26014913230298425
         },
         {
          "estimated generalization error": 0.26060605106758955,
          "generalization error": 0.26043246667407094
         },
         {
          "estimated generalization error": 0.26047767495594815,
          "generalization error": 0.2595246504080244
         },
         {
          "estimated generalization error": 0.26056247406270205,
          "generalization error": 0.25318196788818786
         },
         {
          "estimated generalization error": 0.2627642742159075,
          "generalization error": 0.24536875115003876
         },
         {
          "estimated generalization error": 0.26959226749091936,
          "generalization error": 0.25809027360518644
         },
         {
          "estimated generalization error": 0.2521840969439139,
          "generalization error": 0.25309365940023854
         },
         {
          "estimated generalization error": 0.2628567150848771,
          "generalization error": 0.2607321146994238
         },
         {
          "estimated generalization error": 0.25349739577004116,
          "generalization error": 0.25473019312968903
         },
         {
          "estimated generalization error": 0.25080976471909305,
          "generalization error": 0.25072374515710194
         },
         {
          "estimated generalization error": 0.24759018656961404,
          "generalization error": 0.2581075816308699
         },
         {
          "estimated generalization error": 0.25622594244309393,
          "generalization error": 0.2524621210266574
         },
         {
          "estimated generalization error": 0.25275957776633684,
          "generalization error": 0.26166001600955113
         },
         {
          "estimated generalization error": 0.26626935952416947,
          "generalization error": 0.25583045369013707
         },
         {
          "estimated generalization error": 0.2521561379749101,
          "generalization error": 0.2616954695790429
         },
         {
          "estimated generalization error": 0.26700968013092224,
          "generalization error": 0.260943010363137
         },
         {
          "estimated generalization error": 0.27054608942859015,
          "generalization error": 0.259404341643521
         },
         {
          "estimated generalization error": 0.2540256030061328,
          "generalization error": 0.2610310136431164
         },
         {
          "estimated generalization error": 0.26031472096768,
          "generalization error": 0.2560722428918947
         },
         {
          "estimated generalization error": 0.2561997910901658,
          "generalization error": 0.25681320168759125
         },
         {
          "estimated generalization error": 0.2528583203700944,
          "generalization error": 0.2567176570739533
         },
         {
          "estimated generalization error": 0.25864534142453227,
          "generalization error": 0.2680932145317885
         },
         {
          "estimated generalization error": 0.2645035536242684,
          "generalization error": 0.2564402802663994
         },
         {
          "estimated generalization error": 0.25981129645183987,
          "generalization error": 0.2539149680927182
         },
         {
          "estimated generalization error": 0.25511616694763656,
          "generalization error": 0.2575084050823863
         },
         {
          "estimated generalization error": 0.2744038706762035,
          "generalization error": 0.26521156505843463
         },
         {
          "estimated generalization error": 0.26421959857871674,
          "generalization error": 0.24786786181338624
         },
         {
          "estimated generalization error": 0.2500310758673981,
          "generalization error": 0.256051454400207
         },
         {
          "estimated generalization error": 0.24376830472104485,
          "generalization error": 0.250547628551585
         },
         {
          "estimated generalization error": 0.25407291800157544,
          "generalization error": 0.260871680333064
         },
         {
          "estimated generalization error": 0.2582441407140414,
          "generalization error": 0.25860239002778007
         },
         {
          "estimated generalization error": 0.252437207901964,
          "generalization error": 0.24955260646396932
         },
         {
          "estimated generalization error": 0.2569264983059707,
          "generalization error": 0.25911947878085767
         },
         {
          "estimated generalization error": 0.2478321035565137,
          "generalization error": 0.2673098126220136
         },
         {
          "estimated generalization error": 0.26868162834516557,
          "generalization error": 0.25964617969074855
         },
         {
          "estimated generalization error": 0.24955438731407267,
          "generalization error": 0.2583962750248827
         },
         {
          "estimated generalization error": 0.25713541800873463,
          "generalization error": 0.26298244417437283
         },
         {
          "estimated generalization error": 0.2667686063967967,
          "generalization error": 0.26459512847251665
         },
         {
          "estimated generalization error": 0.24967629905921565,
          "generalization error": 0.2596397712155425
         },
         {
          "estimated generalization error": 0.2525294415377118,
          "generalization error": 0.25683715397097684
         },
         {
          "estimated generalization error": 0.26763320480467745,
          "generalization error": 0.25697003829090287
         },
         {
          "estimated generalization error": 0.254885009528257,
          "generalization error": 0.2581098909304079
         },
         {
          "estimated generalization error": 0.24897035144362345,
          "generalization error": 0.259387086596105
         },
         {
          "estimated generalization error": 0.2582453746732108,
          "generalization error": 0.26136710028020455
         },
         {
          "estimated generalization error": 0.26035809817803696,
          "generalization error": 0.25994866761697516
         },
         {
          "estimated generalization error": 0.25983204469858145,
          "generalization error": 0.2570375521601394
         },
         {
          "estimated generalization error": 0.25390027430937,
          "generalization error": 0.2584391097544469
         },
         {
          "estimated generalization error": 0.2609495174234437,
          "generalization error": 0.25964846103355854
         },
         {
          "estimated generalization error": 0.2578060211023341,
          "generalization error": 0.25804127747651107
         },
         {
          "estimated generalization error": 0.25295293739194796,
          "generalization error": 0.24954648893013082
         },
         {
          "estimated generalization error": 0.26040337449426304,
          "generalization error": 0.25403947916808467
         },
         {
          "estimated generalization error": 0.25102093479387866,
          "generalization error": 0.25670040784412723
         },
         {
          "estimated generalization error": 0.24457127083195424,
          "generalization error": 0.25659211719210806
         },
         {
          "estimated generalization error": 0.2526504763999473,
          "generalization error": 0.26674353797308015
         },
         {
          "estimated generalization error": 0.2571564776359435,
          "generalization error": 0.2617622996697192
         },
         {
          "estimated generalization error": 0.2611442823889865,
          "generalization error": 0.25286569311706547
         },
         {
          "estimated generalization error": 0.26238574580715057,
          "generalization error": 0.25399558630835306
         },
         {
          "estimated generalization error": 0.273811708458039,
          "generalization error": 0.25685313051769265
         },
         {
          "estimated generalization error": 0.2485644610397283,
          "generalization error": 0.2583240638442525
         },
         {
          "estimated generalization error": 0.2595200070802983,
          "generalization error": 0.2577146604565662
         },
         {
          "estimated generalization error": 0.254010865316495,
          "generalization error": 0.2529247730065565
         },
         {
          "estimated generalization error": 0.2689497514160079,
          "generalization error": 0.25205006366621446
         },
         {
          "estimated generalization error": 0.25495713383250884,
          "generalization error": 0.2573372583800025
         },
         {
          "estimated generalization error": 0.2637945084693077,
          "generalization error": 0.2567757479310251
         },
         {
          "estimated generalization error": 0.2626447902377993,
          "generalization error": 0.2706637628030803
         },
         {
          "estimated generalization error": 0.2619658069869398,
          "generalization error": 0.25790167694246946
         },
         {
          "estimated generalization error": 0.2570992464947659,
          "generalization error": 0.2602772824965846
         },
         {
          "estimated generalization error": 0.2551847916644038,
          "generalization error": 0.26800966486320477
         },
         {
          "estimated generalization error": 0.2504305992530399,
          "generalization error": 0.2578869532646685
         },
         {
          "estimated generalization error": 0.2539754842407698,
          "generalization error": 0.25585077661459316
         },
         {
          "estimated generalization error": 0.25798236011080367,
          "generalization error": 0.26254115155178576
         },
         {
          "estimated generalization error": 0.2591471487966472,
          "generalization error": 0.26324576686168505
         },
         {
          "estimated generalization error": 0.2681826518453515,
          "generalization error": 0.2583906162392773
         },
         {
          "estimated generalization error": 0.2638659640537166,
          "generalization error": 0.2650959658129063
         },
         {
          "estimated generalization error": 0.26871704394207285,
          "generalization error": 0.25835445226371373
         },
         {
          "estimated generalization error": 0.25784151572399006,
          "generalization error": 0.2601037070009394
         },
         {
          "estimated generalization error": 0.2671816969250103,
          "generalization error": 0.2576126576070141
         },
         {
          "estimated generalization error": 0.24982912261571283,
          "generalization error": 0.26079963842578197
         },
         {
          "estimated generalization error": 0.2555631496809153,
          "generalization error": 0.26456917148271997
         },
         {
          "estimated generalization error": 0.24621527772703686,
          "generalization error": 0.25692878761826543
         },
         {
          "estimated generalization error": 0.2553108829585763,
          "generalization error": 0.2513494714144909
         },
         {
          "estimated generalization error": 0.2643766194942971,
          "generalization error": 0.26261830992964397
         },
         {
          "estimated generalization error": 0.2508101435488353,
          "generalization error": 0.2617946556728092
         },
         {
          "estimated generalization error": 0.2412372221405152,
          "generalization error": 0.2613031843646354
         },
         {
          "estimated generalization error": 0.2583611368567655,
          "generalization error": 0.26407369073241876
         },
         {
          "estimated generalization error": 0.25030590822775467,
          "generalization error": 0.2632771792312515
         },
         {
          "estimated generalization error": 0.25800503430536764,
          "generalization error": 0.2524056089928163
         },
         {
          "estimated generalization error": 0.24530013809359535,
          "generalization error": 0.2544251406867277
         },
         {
          "estimated generalization error": 0.2580297521062314,
          "generalization error": 0.2623897244147968
         },
         {
          "estimated generalization error": 0.2537342418658211,
          "generalization error": 0.25760843000067873
         },
         {
          "estimated generalization error": 0.2489756310838431,
          "generalization error": 0.2573294754152324
         },
         {
          "estimated generalization error": 0.2480339888252105,
          "generalization error": 0.24966682583529673
         },
         {
          "estimated generalization error": 0.2559459145988477,
          "generalization error": 0.2540745956021019
         },
         {
          "estimated generalization error": 0.2551486130538852,
          "generalization error": 0.26575707740331733
         },
         {
          "estimated generalization error": 0.25888790360561315,
          "generalization error": 0.2575924348908643
         },
         {
          "estimated generalization error": 0.25847163440748294,
          "generalization error": 0.26015776533731516
         },
         {
          "estimated generalization error": 0.2756187874921241,
          "generalization error": 0.25422302491092974
         },
         {
          "estimated generalization error": 0.2618002847950321,
          "generalization error": 0.262866847026552
         },
         {
          "estimated generalization error": 0.24961130600565032,
          "generalization error": 0.2590589522288484
         },
         {
          "estimated generalization error": 0.26187751021486433,
          "generalization error": 0.25899616185280594
         },
         {
          "estimated generalization error": 0.2608239294532676,
          "generalization error": 0.26113134259608556
         },
         {
          "estimated generalization error": 0.2595167272684781,
          "generalization error": 0.25723311337028953
         },
         {
          "estimated generalization error": 0.2645409685240711,
          "generalization error": 0.25605532440539763
         },
         {
          "estimated generalization error": 0.26151942189218175,
          "generalization error": 0.25783743910570434
         },
         {
          "estimated generalization error": 0.2599116526286101,
          "generalization error": 0.25370326060661363
         },
         {
          "estimated generalization error": 0.26627341032408036,
          "generalization error": 0.25692785560312825
         },
         {
          "estimated generalization error": 0.26109307590599135,
          "generalization error": 0.25274257739778405
         },
         {
          "estimated generalization error": 0.2633590795491655,
          "generalization error": 0.2621283651594256
         }
        ]
       },
       "encoding": {
        "color": {
         "field": "Quantity",
         "type": "nominal"
        },
        "x": {
         "bin": {
          "maxbins": 100
         },
         "field": "error",
         "type": "quantitative"
        },
        "y": {
         "aggregate": "count",
         "stack": null,
         "type": "quantitative"
        }
       },
       "height": 100,
       "mark": {
        "interpolate": "step",
        "opacity": 0.3,
        "type": "area"
       },
       "transform": [
        {
         "as": [
          "Quantity",
          "error"
         ],
         "fold": [
          "estimated generalization error",
          "generalization error"
         ]
        }
       ]
      },
      "image/png": "[encoded data removed]",
      "text/plain": [
       "<VegaLite 3 object>\n",
       "\n",
       "If you see this message, it means the renderer has not been properly enabled\n",
       "for the frontend that you are using. For more information, see\n",
       "https://altair-viz.github.io/user_guide/troubleshooting.html\n"
      ]
     },
     "execution_count": 18,
     "metadata": {},
     "output_type": "execute_result"
    }
   ],
   "source": [
    "import pandas as pd\n",
    "import altair as alt\n",
    "\n",
    "source = pd.DataFrame({\n",
    "    'estimated generalization error':ês,\n",
    "    'generalization error':es\n",
    "})\n",
    "\n",
    "alt.Chart(source, height=100).transform_fold(\n",
    "    ['estimated generalization error', 'generalization error'],\n",
    "    as_=['Quantity', 'error']\n",
    ").mark_area(\n",
    "    opacity=0.3,\n",
    "    interpolate='step'\n",
    ").encode(\n",
    "    alt.X('error:Q', bin=alt.Bin(maxbins=100)),\n",
    "    alt.Y('count()', stack=None),\n",
    "    alt.Color('Quantity:N')\n",
    ")"
   ]
  },
  {
   "cell_type": "code",
   "execution_count": 19,
   "metadata": {},
   "outputs": [],
   "source": [
    "error_in_error_estimate = [e-ê for e,ê in zip(es, ês)]"
   ]
  },
  {
   "cell_type": "code",
   "execution_count": 20,
   "metadata": {
    "tags": [
     "remove_input"
    ]
   },
   "outputs": [
    {
     "data": {
      "application/vnd.vegalite.v3+json": {
       "$schema": "https://vega.github.io/schema/vega-lite/v3.4.0.json",
       "config": {
        "mark": {
         "tooltip": null
        },
        "view": {
         "height": 300,
         "width": 400
        }
       },
       "data": {
        "name": "data-eb052f61f2670021f470c6067fe973c2"
       },
       "datasets": {
        "data-eb052f61f2670021f470c6067fe973c2": [
         {
          "Error in error estimate": -0.0012048630302043395
         },
         {
          "Error in error estimate": -0.009062327718895424
         },
         {
          "Error in error estimate": -0.006528456099621327
         },
         {
          "Error in error estimate": -0.01600711595565213
         },
         {
          "Error in error estimate": 0.007220684892187745
         },
         {
          "Error in error estimate": 0.0003157937932990462
         },
         {
          "Error in error estimate": -0.003085750882006022
         },
         {
          "Error in error estimate": 0.0016046070611274166
         },
         {
          "Error in error estimate": 0.009492241845531768
         },
         {
          "Error in error estimate": -0.009946729357907191
         },
         {
          "Error in error estimate": -0.01665851391702816
         },
         {
          "Error in error estimate": -0.013644985013711197
         },
         {
          "Error in error estimate": -0.005750914147649749
         },
         {
          "Error in error estimate": 0.0027866988912791935
         },
         {
          "Error in error estimate": 0.001658592833544692
         },
         {
          "Error in error estimate": -0.021724684569325164
         },
         {
          "Error in error estimate": 0.005586211511754036
         },
         {
          "Error in error estimate": 0.004646903010429915
         },
         {
          "Error in error estimate": 0.005513189281262543
         },
         {
          "Error in error estimate": -0.004410021587770541
         },
         {
          "Error in error estimate": -0.00034271617191561354
         },
         {
          "Error in error estimate": -0.0006636428011428386
         },
         {
          "Error in error estimate": 0.007456351356206703
         },
         {
          "Error in error estimate": -0.009587207836938505
         },
         {
          "Error in error estimate": -0.0004949877737809305
         },
         {
          "Error in error estimate": 0.015500351093866382
         },
         {
          "Error in error estimate": 0.00021245098151800867
         },
         {
          "Error in error estimate": -0.0022085258455230017
         },
         {
          "Error in error estimate": -0.0034576611457112216
         },
         {
          "Error in error estimate": -0.010527833156437572
         },
         {
          "Error in error estimate": -0.008047597253134253
         },
         {
          "Error in error estimate": -0.007732625275460703
         },
         {
          "Error in error estimate": 0.00811263520143024
         },
         {
          "Error in error estimate": -0.0018493839000851553
         },
         {
          "Error in error estimate": 0.013125830446829245
         },
         {
          "Error in error estimate": 0.01820245152795641
         },
         {
          "Error in error estimate": -0.0011693696140129273
         },
         {
          "Error in error estimate": -0.0038376884199657346
         },
         {
          "Error in error estimate": -0.013283580133058193
         },
         {
          "Error in error estimate": -0.005747643339227171
         },
         {
          "Error in error estimate": -0.006802472228730955
         },
         {
          "Error in error estimate": -0.011367306971498958
         },
         {
          "Error in error estimate": -0.006653609735195298
         },
         {
          "Error in error estimate": -0.021248791167453485
         },
         {
          "Error in error estimate": 0.0070213026724794125
         },
         {
          "Error in error estimate": 0.009420362954397798
         },
         {
          "Error in error estimate": 0.006198388156505363
         },
         {
          "Error in error estimate": -0.0024843834111376584
         },
         {
          "Error in error estimate": 0.0014629523579237635
         },
         {
          "Error in error estimate": 0.02051239675091132
         },
         {
          "Error in error estimate": 0.0009663978628474679
         },
         {
          "Error in error estimate": 0.007089101229332151
         },
         {
          "Error in error estimate": 0.009164081948651426
         },
         {
          "Error in error estimate": -0.0050071508739813475
         },
         {
          "Error in error estimate": 0.0036234373152010946
         },
         {
          "Error in error estimate": -0.0019446218050527264
         },
         {
          "Error in error estimate": 0.011943185818376834
         },
         {
          "Error in error estimate": -0.03186823500964228
         },
         {
          "Error in error estimate": 0.004708018846064976
         },
         {
          "Error in error estimate": -0.0029513431649618727
         },
         {
          "Error in error estimate": -0.0011152063596728823
         },
         {
          "Error in error estimate": 0.009540496060095105
         },
         {
          "Error in error estimate": -0.01233045552553591
         },
         {
          "Error in error estimate": 0.00814695758844855
         },
         {
          "Error in error estimate": 0.004755518336997999
         },
         {
          "Error in error estimate": -0.01120791116042541
         },
         {
          "Error in error estimate": 0.0019519008545455518
         },
         {
          "Error in error estimate": 0.008837202352846407
         },
         {
          "Error in error estimate": 0.016832337870448744
         },
         {
          "Error in error estimate": -0.0016568208971748377
         },
         {
          "Error in error estimate": 0.0009667543915230503
         },
         {
          "Error in error estimate": 0.007166477509898156
         },
         {
          "Error in error estimate": 0.008359306695117225
         },
         {
          "Error in error estimate": 0.006480847441207804
         },
         {
          "Error in error estimate": 0.01489418261539971
         },
         {
          "Error in error estimate": 0.003602885172508674
         },
         {
          "Error in error estimate": 0.01233706817010799
         },
         {
          "Error in error estimate": 0.0036987101902691555
         },
         {
          "Error in error estimate": 0.0008943284866905765
         },
         {
          "Error in error estimate": 0.0017318517116991505
         },
         {
          "Error in error estimate": 0.0020701705980068486
         },
         {
          "Error in error estimate": -0.011279757511080013
         },
         {
          "Error in error estimate": -0.0010774984204438565
         },
         {
          "Error in error estimate": 0.014282218972638122
         },
         {
          "Error in error estimate": 0.0008837264849132498
         },
         {
          "Error in error estimate": -0.002316180265898138
         },
         {
          "Error in error estimate": -0.00654587661494721
         },
         {
          "Error in error estimate": -0.014628411757162008
         },
         {
          "Error in error estimate": -0.007164497103903766
         },
         {
          "Error in error estimate": -0.007319086783801498
         },
         {
          "Error in error estimate": -0.007425825632493888
         },
         {
          "Error in error estimate": -0.001400526085206577
         },
         {
          "Error in error estimate": 0.005156707218281487
         },
         {
          "Error in error estimate": -0.0031357039366681216
         },
         {
          "Error in error estimate": -0.009358794747704624
         },
         {
          "Error in error estimate": -0.0024710078712966155
         },
         {
          "Error in error estimate": 0.012743185279602609
         },
         {
          "Error in error estimate": 0.023945671685114467
         },
         {
          "Error in error estimate": -0.0026995817701193914
         },
         {
          "Error in error estimate": 0.001361893637327305
         },
         {
          "Error in error estimate": -0.004135231122113225
         },
         {
          "Error in error estimate": -0.0036662460332905766
         },
         {
          "Error in error estimate": 0.0038230544581894788
         },
         {
          "Error in error estimate": -0.01566616222506889
         },
         {
          "Error in error estimate": -0.007068276192703948
         },
         {
          "Error in error estimate": 0.00838528675792044
         },
         {
          "Error in error estimate": -0.008194850334159065
         },
         {
          "Error in error estimate": -0.013955365538164788
         },
         {
          "Error in error estimate": -0.007688672755947451
         },
         {
          "Error in error estimate": 0.009276311542184834
         },
         {
          "Error in error estimate": -0.005217319441161161
         },
         {
          "Error in error estimate": -0.015134070970067554
         },
         {
          "Error in error estimate": -0.003045931254090778
         },
         {
          "Error in error estimate": 0.0032006346195879165
         },
         {
          "Error in error estimate": -0.005647405642714487
         },
         {
          "Error in error estimate": 0.0016955302883456258
         },
         {
          "Error in error estimate": -0.004134697059515469
         },
         {
          "Error in error estimate": 0.007912450902849505
         },
         {
          "Error in error estimate": 0.005463672379532658
         },
         {
          "Error in error estimate": -0.008617518553227566
         },
         {
          "Error in error estimate": 0.01075483585291337
         },
         {
          "Error in error estimate": -0.0045107334890964745
         },
         {
          "Error in error estimate": -0.008287930137383936
         },
         {
          "Error in error estimate": -0.0012498659297163761
         },
         {
          "Error in error estimate": 0.014495604505908866
         },
         {
          "Error in error estimate": 0.016198577095845018
         },
         {
          "Error in error estimate": -0.006874482075502009
         },
         {
          "Error in error estimate": -0.014764599488491348
         },
         {
          "Error in error estimate": -0.0009811471746454248
         },
         {
          "Error in error estimate": -0.011000344084244718
         },
         {
          "Error in error estimate": -0.002000699559733976
         },
         {
          "Error in error estimate": -0.00567585233664164
         },
         {
          "Error in error estimate": -0.0036099893762110424
         },
         {
          "Error in error estimate": 0.0016393990693839844
         },
         {
          "Error in error estimate": -0.009723834429380657
         },
         {
          "Error in error estimate": 0.005212298628906015
         },
         {
          "Error in error estimate": 0.0030988998609144947
         },
         {
          "Error in error estimate": -0.0015641518277815236
         },
         {
          "Error in error estimate": -0.00509865274969587
         },
         {
          "Error in error estimate": 0.004880173934400434
         },
         {
          "Error in error estimate": 0.011664549625497816
         },
         {
          "Error in error estimate": 0.010873747086288937
         },
         {
          "Error in error estimate": 0.004715642649644136
         },
         {
          "Error in error estimate": 0.013705363980226537
         },
         {
          "Error in error estimate": 0.006300834268207572
         },
         {
          "Error in error estimate": -0.001691577139287359
         },
         {
          "Error in error estimate": 0.002932053686511449
         },
         {
          "Error in error estimate": -0.012334586906225325
         },
         {
          "Error in error estimate": 0.009649897432622345
         },
         {
          "Error in error estimate": -0.0006953783344616493
         },
         {
          "Error in error estimate": -0.004217727772979518
         },
         {
          "Error in error estimate": -0.006684515786140155
         },
         {
          "Error in error estimate": 0.004506478620729948
         },
         {
          "Error in error estimate": 0.0037707084338502728
         },
         {
          "Error in error estimate": -0.009652455928470804
         },
         {
          "Error in error estimate": -0.0046213303922011395
         },
         {
          "Error in error estimate": 0.0027580066216160715
         },
         {
          "Error in error estimate": -0.00435840363237483
         },
         {
          "Error in error estimate": -0.01166130008499952
         },
         {
          "Error in error estimate": -0.0121238633449062
         },
         {
          "Error in error estimate": 0.009106792023984539
         },
         {
          "Error in error estimate": -0.0011132440041745628
         },
         {
          "Error in error estimate": -0.0020998332413214027
         },
         {
          "Error in error estimate": -0.008495454366473032
         },
         {
          "Error in error estimate": -0.007779236010762219
         },
         {
          "Error in error estimate": -0.012187519528638668
         },
         {
          "Error in error estimate": -0.0034533932663326494
         },
         {
          "Error in error estimate": -0.013236921864644285
         },
         {
          "Error in error estimate": 0.0022312465216709487
         },
         {
          "Error in error estimate": -0.018390070873416625
         },
         {
          "Error in error estimate": 0.015732949392760903
         },
         {
          "Error in error estimate": -0.006466006615323261
         },
         {
          "Error in error estimate": 0.018857120938768762
         },
         {
          "Error in error estimate": -0.009460336364314259
         },
         {
          "Error in error estimate": -0.009237917535070694
         },
         {
          "Error in error estimate": 0.015794183991478444
         },
         {
          "Error in error estimate": -0.0024374112577644214
         },
         {
          "Error in error estimate": 0.001668263162191319
         },
         {
          "Error in error estimate": 0.009576967645531315
         },
         {
          "Error in error estimate": 0.006969173503988346
         },
         {
          "Error in error estimate": -0.017876072331699022
         },
         {
          "Error in error estimate": -0.01786551460223615
         },
         {
          "Error in error estimate": -0.010026704596970526
         },
         {
          "Error in error estimate": -0.002380185816285796
         },
         {
          "Error in error estimate": 0.013734332572478525
         },
         {
          "Error in error estimate": 0.0013083976876235859
         },
         {
          "Error in error estimate": 0.015215178103457877
         },
         {
          "Error in error estimate": -0.003483001882265746
         },
         {
          "Error in error estimate": -0.0026173802249894185
         },
         {
          "Error in error estimate": -0.0068688208115595395
         },
         {
          "Error in error estimate": -0.00017495408660322953
         },
         {
          "Error in error estimate": 0.0009718268920447803
         },
         {
          "Error in error estimate": -0.00677736173876653
         },
         {
          "Error in error estimate": 0.009679385692956066
         },
         {
          "Error in error estimate": -0.0061040192310545804
         },
         {
          "Error in error estimate": 0.0035934968260852296
         },
         {
          "Error in error estimate": 6.815137379723168e-05
         },
         {
          "Error in error estimate": -0.006029648104614926
         },
         {
          "Error in error estimate": 0.012833900523279929
         },
         {
          "Error in error estimate": 0.0038719574594610062
         },
         {
          "Error in error estimate": 0.0015509135021525289
         },
         {
          "Error in error estimate": 0.0025127479780028827
         },
         {
          "Error in error estimate": 0.0032354429857312517
         },
         {
          "Error in error estimate": 0.00679521060651353
         },
         {
          "Error in error estimate": -0.020700663657975182
         },
         {
          "Error in error estimate": -0.006226544390799893
         },
         {
          "Error in error estimate": -0.007907229932682114
         },
         {
          "Error in error estimate": -0.0018398021034265466
         },
         {
          "Error in error estimate": 0.008417263538549963
         },
         {
          "Error in error estimate": 0.00867297791784144
         },
         {
          "Error in error estimate": -0.00561636178172098
         },
         {
          "Error in error estimate": 0.004697305983244027
         },
         {
          "Error in error estimate": 0.004254622160975996
         },
         {
          "Error in error estimate": 0.0008571997213061011
         },
         {
          "Error in error estimate": -0.002926365435202305
         },
         {
          "Error in error estimate": -0.0037341969040550205
         },
         {
          "Error in error estimate": -0.0033990248735745188
         },
         {
          "Error in error estimate": 0.0156864067166827
         },
         {
          "Error in error estimate": -0.000901182457521188
         },
         {
          "Error in error estimate": -0.002592869016504462
         },
         {
          "Error in error estimate": 0.0019001262773329919
         },
         {
          "Error in error estimate": 0.0026132523569158406
         },
         {
          "Error in error estimate": -0.0056870798620390905
         },
         {
          "Error in error estimate": 0.004759589953897636
         },
         {
          "Error in error estimate": 0.004761990791587151
         },
         {
          "Error in error estimate": -0.0016611971584483132
         },
         {
          "Error in error estimate": 0.008615184976675794
         },
         {
          "Error in error estimate": -0.003461377274272759
         },
         {
          "Error in error estimate": -0.0009825755792459145
         },
         {
          "Error in error estimate": -0.024297294522780732
         },
         {
          "Error in error estimate": -0.007556762042576881
         },
         {
          "Error in error estimate": -0.00284181793171262
         },
         {
          "Error in error estimate": 0.007759201437413765
         },
         {
          "Error in error estimate": -0.004272896557325989
         },
         {
          "Error in error estimate": -0.006866553249546159
         },
         {
          "Error in error estimate": 4.602105297180081e-06
         },
         {
          "Error in error estimate": -0.0039055809145316367
         },
         {
          "Error in error estimate": 0.004415208433512119
         },
         {
          "Error in error estimate": 0.00787940387410574
         },
         {
          "Error in error estimate": 0.003984149615681554
         },
         {
          "Error in error estimate": 0.005032288730961176
         },
         {
          "Error in error estimate": -0.007010212665373827
         },
         {
          "Error in error estimate": 0.003695643827434314
         },
         {
          "Error in error estimate": 0.0023906859141146763
         },
         {
          "Error in error estimate": -0.0010805711261329676
         },
         {
          "Error in error estimate": 0.012067731034304252
         },
         {
          "Error in error estimate": -0.0016571213829558729
         },
         {
          "Error in error estimate": -0.017435738472800777
         },
         {
          "Error in error estimate": 0.007602196651592896
         },
         {
          "Error in error estimate": -0.005767988924133716
         },
         {
          "Error in error estimate": 0.009833594017059466
         },
         {
          "Error in error estimate": 0.009580715698810305
         },
         {
          "Error in error estimate": -0.004998514597571557
         },
         {
          "Error in error estimate": -0.001154739595582932
         },
         {
          "Error in error estimate": -0.006367392191263033
         },
         {
          "Error in error estimate": -0.022257517376996522
         },
         {
          "Error in error estimate": 0.0034650606765862513
         },
         {
          "Error in error estimate": 0.0029787380716312373
         },
         {
          "Error in error estimate": -0.001046915740005705
         },
         {
          "Error in error estimate": -0.0074967831647385075
         },
         {
          "Error in error estimate": -0.01234317734636825
         },
         {
          "Error in error estimate": -0.009391286217519612
         },
         {
          "Error in error estimate": 0.009033671266452936
         },
         {
          "Error in error estimate": 0.0091574653172673
         },
         {
          "Error in error estimate": -0.011683999361194242
         },
         {
          "Error in error estimate": -0.0017016736737255345
         },
         {
          "Error in error estimate": 0.0024214238238144947
         },
         {
          "Error in error estimate": -0.008520418495064797
         },
         {
          "Error in error estimate": 0.0016536070741042241
         },
         {
          "Error in error estimate": -0.0019330996322322602
         },
         {
          "Error in error estimate": 0.008186724241972865
         },
         {
          "Error in error estimate": 0.010112973069607512
         },
         {
          "Error in error estimate": -0.009509116579963367
         },
         {
          "Error in error estimate": -0.008239398239115403
         },
         {
          "Error in error estimate": 0.006031029225735729
         },
         {
          "Error in error estimate": 0.01566119526131826
         },
         {
          "Error in error estimate": 0.009718687059128983
         },
         {
          "Error in error estimate": 0.005333479539078367
         },
         {
          "Error in error estimate": -0.01675758030378871
         },
         {
          "Error in error estimate": 0.0072439318416041565
         },
         {
          "Error in error estimate": -0.0028217125031748114
         },
         {
          "Error in error estimate": 0.002535405303184912
         },
         {
          "Error in error estimate": 0.002164662913636206
         },
         {
          "Error in error estimate": -0.0001044055587005599
         },
         {
          "Error in error estimate": -0.006250396307449058
         },
         {
          "Error in error estimate": -0.006439690656561969
         },
         {
          "Error in error estimate": -0.01160833865246863
         },
         {
          "Error in error estimate": 0.008269853699681307
         },
         {
          "Error in error estimate": 0.006708105745641901
         },
         {
          "Error in error estimate": -0.010090635896251976
         },
         {
          "Error in error estimate": -0.007532262941081891
         },
         {
          "Error in error estimate": 0.013900551943675565
         },
         {
          "Error in error estimate": -0.009601710659300877
         },
         {
          "Error in error estimate": 0.001365957950376251
         },
         {
          "Error in error estimate": 0.014926655520903859
         },
         {
          "Error in error estimate": 0.002310534996293412
         },
         {
          "Error in error estimate": -0.0032370692210204055
         },
         {
          "Error in error estimate": 0.0012478651309598687
         },
         {
          "Error in error estimate": 0.02631433029406144
         },
         {
          "Error in error estimate": -0.007424538633320044
         },
         {
          "Error in error estimate": 0.004343962798053935
         },
         {
          "Error in error estimate": 0.007651292175410718
         },
         {
          "Error in error estimate": 0.003103608428917881
         },
         {
          "Error in error estimate": 0.010436117514708187
         },
         {
          "Error in error estimate": 0.009859503586692797
         },
         {
          "Error in error estimate": 0.0009613927778828191
         },
         {
          "Error in error estimate": -0.002844874685975496
         },
         {
          "Error in error estimate": -0.007936100248480848
         },
         {
          "Error in error estimate": 0.003664069372950385
         },
         {
          "Error in error estimate": 0.013796229886693323
         },
         {
          "Error in error estimate": 0.003059577395641
         },
         {
          "Error in error estimate": 0.008074414374305922
         },
         {
          "Error in error estimate": 0.0035767405430626176
         },
         {
          "Error in error estimate": -0.001303481880263968
         },
         {
          "Error in error estimate": -0.010593954924958682
         },
         {
          "Error in error estimate": 0.007683935224990196
         },
         {
          "Error in error estimate": 0.0067127744556415014
         },
         {
          "Error in error estimate": -0.00438705992565247
         },
         {
          "Error in error estimate": 0.0009356482025037471
         },
         {
          "Error in error estimate": 0.008313618858466598
         },
         {
          "Error in error estimate": -0.011298643390562413
         },
         {
          "Error in error estimate": -0.001923262686989835
         },
         {
          "Error in error estimate": 0.007984463175675527
         },
         {
          "Error in error estimate": -0.005143842357844652
         },
         {
          "Error in error estimate": 0.002071997586457819
         },
         {
          "Error in error estimate": -0.005780283238716433
         },
         {
          "Error in error estimate": 0.007220513965840614
         },
         {
          "Error in error estimate": -0.004712296529775173
         },
         {
          "Error in error estimate": 0.006754477652857693
         },
         {
          "Error in error estimate": -0.00970136756019202
         },
         {
          "Error in error estimate": 0.003851841902753117
         },
         {
          "Error in error estimate": -0.006117055834461316
         },
         {
          "Error in error estimate": 0.00565060569126008
         },
         {
          "Error in error estimate": -0.005553963481312263
         },
         {
          "Error in error estimate": -0.007335001888431503
         },
         {
          "Error in error estimate": -0.0018063799821732562
         },
         {
          "Error in error estimate": 0.0031586174191580163
         },
         {
          "Error in error estimate": -0.007624448603803735
         },
         {
          "Error in error estimate": 0.010587067985869503
         },
         {
          "Error in error estimate": -0.004988915501576485
         },
         {
          "Error in error estimate": 0.006995684043422046
         },
         {
          "Error in error estimate": 0.007810003311291724
         },
         {
          "Error in error estimate": -0.01371615454006686
         },
         {
          "Error in error estimate": 0.002029540996395851
         },
         {
          "Error in error estimate": 0.007338628713743578
         },
         {
          "Error in error estimate": 0.02200420319543034
         },
         {
          "Error in error estimate": 0.00012079030015021974
         },
         {
          "Error in error estimate": 0.004504880874069583
         },
         {
          "Error in error estimate": 0.004847485741511781
         },
         {
          "Error in error estimate": -0.01404905645791027
         },
         {
          "Error in error estimate": 0.0038460115592273136
         },
         {
          "Error in error estimate": -0.007927705178335742
         },
         {
          "Error in error estimate": -0.002560410164724747
         },
         {
          "Error in error estimate": 0.0027547957051335947
         },
         {
          "Error in error estimate": 0.004199170027667787
         },
         {
          "Error in error estimate": 0.006479630138985448
         },
         {
          "Error in error estimate": -0.012589451461304801
         },
         {
          "Error in error estimate": -0.004665917090270422
         },
         {
          "Error in error estimate": 0.005136838721929049
         },
         {
          "Error in error estimate": 0.007703899077819376
         },
         {
          "Error in error estimate": 0.0012484217018880472
         },
         {
          "Error in error estimate": 0.0072346385778757905
         },
         {
          "Error in error estimate": -0.002006937544319909
         },
         {
          "Error in error estimate": 0.018417723547255627
         },
         {
          "Error in error estimate": 0.022263571890195344
         },
         {
          "Error in error estimate": -0.0069266771358969526
         },
         {
          "Error in error estimate": -0.007961129212782858
         },
         {
          "Error in error estimate": 0.006095524814185238
         },
         {
          "Error in error estimate": -0.002797470617493747
         },
         {
          "Error in error estimate": 0.002000344189606984
         },
         {
          "Error in error estimate": -0.0026444965637726914
         },
         {
          "Error in error estimate": -0.009600971623713261
         },
         {
          "Error in error estimate": -0.011671422589828895
         },
         {
          "Error in error estimate": 0.011492845243276206
         },
         {
          "Error in error estimate": -0.015564244626672052
         },
         {
          "Error in error estimate": -0.00332030736651312
         },
         {
          "Error in error estimate": -0.010889881460238116
         },
         {
          "Error in error estimate": -0.003998834004674989
         },
         {
          "Error in error estimate": -0.0034520872576653816
         },
         {
          "Error in error estimate": 0.005979210392381196
         },
         {
          "Error in error estimate": 0.011541587576825302
         },
         {
          "Error in error estimate": -0.010177349949701625
         },
         {
          "Error in error estimate": -0.006209149412043369
         },
         {
          "Error in error estimate": 0.002149797948192478
         },
         {
          "Error in error estimate": 0.0027854937311105887
         },
         {
          "Error in error estimate": -0.0002630160237696022
         },
         {
          "Error in error estimate": 0.008042925025261466
         },
         {
          "Error in error estimate": 0.003823284188451126
         },
         {
          "Error in error estimate": 0.0015676186018106497
         },
         {
          "Error in error estimate": -0.0043114317398210145
         },
         {
          "Error in error estimate": -0.026347803952042337
         },
         {
          "Error in error estimate": -0.002409505634784981
         },
         {
          "Error in error estimate": 0.006333992557360668
         },
         {
          "Error in error estimate": -0.000173584393518611
         },
         {
          "Error in error estimate": -0.0009530245479237309
         },
         {
          "Error in error estimate": -0.00738050617451419
         },
         {
          "Error in error estimate": -0.017395523065868723
         },
         {
          "Error in error estimate": -0.01150199388573292
         },
         {
          "Error in error estimate": 0.0009095624563246196
         },
         {
          "Error in error estimate": -0.0021246003854533124
         },
         {
          "Error in error estimate": 0.0012327973596478747
         },
         {
          "Error in error estimate": -8.601956199111305e-05
         },
         {
          "Error in error estimate": 0.010517395061255846
         },
         {
          "Error in error estimate": -0.0037638214164365524
         },
         {
          "Error in error estimate": 0.008900438243214293
         },
         {
          "Error in error estimate": -0.010438905834032397
         },
         {
          "Error in error estimate": 0.009539331604132784
         },
         {
          "Error in error estimate": -0.006066669767785249
         },
         {
          "Error in error estimate": -0.011141747785069156
         },
         {
          "Error in error estimate": 0.007005410636983622
         },
         {
          "Error in error estimate": -0.0042424780757853164
         },
         {
          "Error in error estimate": 0.0006134105974254789
         },
         {
          "Error in error estimate": 0.003859336703858851
         },
         {
          "Error in error estimate": 0.009447873107256255
         },
         {
          "Error in error estimate": -0.008063273357868994
         },
         {
          "Error in error estimate": -0.005896328359121683
         },
         {
          "Error in error estimate": 0.002392238134749758
         },
         {
          "Error in error estimate": -0.009192305617768848
         },
         {
          "Error in error estimate": -0.0163517367653305
         },
         {
          "Error in error estimate": 0.006020378532808901
         },
         {
          "Error in error estimate": 0.006779323830540168
         },
         {
          "Error in error estimate": 0.0067987623314885726
         },
         {
          "Error in error estimate": 0.00035824931373867885
         },
         {
          "Error in error estimate": -0.0028846014379946827
         },
         {
          "Error in error estimate": 0.002192980474886974
         },
         {
          "Error in error estimate": 0.019477709065499893
         },
         {
          "Error in error estimate": -0.009035448654417022
         },
         {
          "Error in error estimate": 0.008841887710810042
         },
         {
          "Error in error estimate": 0.005847026165638203
         },
         {
          "Error in error estimate": -0.002173477924280076
         },
         {
          "Error in error estimate": 0.009963472156326841
         },
         {
          "Error in error estimate": 0.004307712433265054
         },
         {
          "Error in error estimate": -0.01066316651377458
         },
         {
          "Error in error estimate": 0.0032248814021509364
         },
         {
          "Error in error estimate": 0.010416735152481538
         },
         {
          "Error in error estimate": 0.0031217256069937527
         },
         {
          "Error in error estimate": -0.00040943056106179654
         },
         {
          "Error in error estimate": -0.0027944925384420505
         },
         {
          "Error in error estimate": 0.004538835445076883
         },
         {
          "Error in error estimate": -0.0013010563898851468
         },
         {
          "Error in error estimate": 0.0002352563741769842
         },
         {
          "Error in error estimate": -0.0034064484618171464
         },
         {
          "Error in error estimate": -0.00636389532617837
         },
         {
          "Error in error estimate": 0.0056794730502485735
         },
         {
          "Error in error estimate": 0.012020846360153825
         },
         {
          "Error in error estimate": 0.014093061573132837
         },
         {
          "Error in error estimate": 0.004605822033775686
         },
         {
          "Error in error estimate": -0.008278589271921044
         },
         {
          "Error in error estimate": -0.008390159498797511
         },
         {
          "Error in error estimate": -0.01695857794034633
         },
         {
          "Error in error estimate": 0.009759602804524203
         },
         {
          "Error in error estimate": -0.001805346623732107
         },
         {
          "Error in error estimate": -0.0010860923099385023
         },
         {
          "Error in error estimate": -0.016899687749793446
         },
         {
          "Error in error estimate": 0.002380124547493645
         },
         {
          "Error in error estimate": -0.007018760538282598
         },
         {
          "Error in error estimate": 0.008018972565281002
         },
         {
          "Error in error estimate": -0.0040641300444703155
         },
         {
          "Error in error estimate": 0.003178036001818707
         },
         {
          "Error in error estimate": 0.01282487319880099
         },
         {
          "Error in error estimate": 0.007456354011628585
         },
         {
          "Error in error estimate": 0.001875292373823334
         },
         {
          "Error in error estimate": 0.004558791440982091
         },
         {
          "Error in error estimate": 0.004098618065037862
         },
         {
          "Error in error estimate": -0.009792035606074223
         },
         {
          "Error in error estimate": 0.0012300017591896917
         },
         {
          "Error in error estimate": -0.010362591678359123
         },
         {
          "Error in error estimate": 0.0022621912769493213
         },
         {
          "Error in error estimate": -0.009569039317996242
         },
         {
          "Error in error estimate": 0.010970515810069137
         },
         {
          "Error in error estimate": 0.009006021801804653
         },
         {
          "Error in error estimate": 0.010713509891228573
         },
         {
          "Error in error estimate": -0.003961411544085414
         },
         {
          "Error in error estimate": -0.0017583095646531155
         },
         {
          "Error in error estimate": 0.010984512123973889
         },
         {
          "Error in error estimate": 0.020065962224120187
         },
         {
          "Error in error estimate": 0.005712553875653281
         },
         {
          "Error in error estimate": 0.01297127100349682
         },
         {
          "Error in error estimate": -0.005599425312551365
         },
         {
          "Error in error estimate": 0.00912500259313237
         },
         {
          "Error in error estimate": 0.004359972308565385
         },
         {
          "Error in error estimate": 0.0038741881348576257
         },
         {
          "Error in error estimate": 0.008353844331389276
         },
         {
          "Error in error estimate": 0.0016328370100862355
         },
         {
          "Error in error estimate": -0.0018713189967458077
         },
         {
          "Error in error estimate": 0.010608464349432134
         },
         {
          "Error in error estimate": -0.0012954687147488375
         },
         {
          "Error in error estimate": 0.0016861309298322191
         },
         {
          "Error in error estimate": -0.021395762581194355
         },
         {
          "Error in error estimate": 0.0010665622315199075
         },
         {
          "Error in error estimate": 0.009447646223198075
         },
         {
          "Error in error estimate": -0.002881348362058389
         },
         {
          "Error in error estimate": 0.0003074131428179583
         },
         {
          "Error in error estimate": -0.002283613898188541
         },
         {
          "Error in error estimate": -0.008485644118673474
         },
         {
          "Error in error estimate": -0.0036819827864774113
         },
         {
          "Error in error estimate": -0.006208392021996467
         },
         {
          "Error in error estimate": -0.00934555472095211
         },
         {
          "Error in error estimate": -0.008350498508207294
         },
         {
          "Error in error estimate": -0.0012307143897398731
         }
        ]
       },
       "encoding": {
        "x": {
         "bin": {
          "maxbins": 30
         },
         "field": "Error in error estimate",
         "type": "quantitative"
        },
        "y": {
         "aggregate": "count",
         "type": "quantitative"
        }
       },
       "height": 100,
       "mark": {
        "color": "grey",
        "type": "bar"
       }
      },
      "image/png": "[encoded data removed]",
      "text/plain": [
       "<VegaLite 3 object>\n",
       "\n",
       "If you see this message, it means the renderer has not been properly enabled\n",
       "for the frontend that you are using. For more information, see\n",
       "https://altair-viz.github.io/user_guide/troubleshooting.html\n"
      ]
     },
     "execution_count": 20,
     "metadata": {},
     "output_type": "execute_result"
    }
   ],
   "source": [
    "source = pd.DataFrame({'Error in error estimate':error_in_error_estimate})\n",
    "\n",
    "alt.Chart(source, height=100).mark_bar(color='grey').encode(\n",
    "    alt.X(\"Error in error estimate:Q\", bin=alt.Bin(maxbins=30)),\n",
    "    y='count()',\n",
    ")"
   ]
  },
  {
   "cell_type": "markdown",
   "metadata": {},
   "source": [
    "This looks much, much better than it did when we were using random forests before. Now our estimates of generalization error are quite good on average. "
   ]
  },
  {
   "cell_type": "markdown",
   "metadata": {},
   "source": [
    "To figure out why this works we have to think about what the difference is between the test set $(X^{\\mathcal T}, y^{\\mathcal T})$ and the full observed data $(X, y)$ in terms of how well each of those sets approximate the future data $(X^\\dagger, y^\\dagger)$. In terms of what the data themselves are, there is clearly no substantive difference between the test set and the full observed data except that the test set is a subset of the observed data. But using a smaller random sample to estimate the generalization error isn't what's fixing the problem, which we can substantiate with an experiment:"
   ]
  },
  {
   "cell_type": "code",
   "execution_count": 21,
   "metadata": {
    "tags": [
     "hide_output"
    ]
   },
   "outputs": [],
   "source": [
    "def simulate_model_eval():\n",
    "    X,y = data_factory(1000)\n",
    "    \n",
    "    T = range(500,1000) # subset index\n",
    "    \n",
    "    model = RandomForestRegressor(n_estimators=100)\n",
    "    model.fit(X, y) # fit on the full dataset\n",
    "    \n",
    "    X_test, y_test = X[T,:], y[T] # take the last 500 rows to estimate the generalization error\n",
    "    ŷ_test = model.predict(X_test)\n",
    "    ê = metric(y_test, ŷ_test)\n",
    "    \n",
    "    X_future, y_future = data_factory(1000)\n",
    "    ŷ_future = model.predict(X_future)\n",
    "    e = metric(y_future, ŷ_future)\n",
    "    \n",
    "    return ê, e\n",
    "\n",
    "ês, es = zip(*[simulate_model_eval() for i in range(100)])"
   ]
  },
  {
   "cell_type": "code",
   "execution_count": 22,
   "metadata": {
    "tags": [
     "remove_input"
    ]
   },
   "outputs": [
    {
     "data": {
      "application/vnd.vegalite.v3+json": {
       "$schema": "https://vega.github.io/schema/vega-lite/v3.4.0.json",
       "config": {
        "mark": {
         "tooltip": null
        },
        "view": {
         "height": 300,
         "width": 400
        }
       },
       "data": {
        "name": "data-3819a36e38f5de5d7711b2b81aa9d278"
       },
       "datasets": {
        "data-3819a36e38f5de5d7711b2b81aa9d278": [
         {
          "estimated generalization error": 0.09543916946746082,
          "generalization error": 0.2644089563321793
         },
         {
          "estimated generalization error": 0.09220570528616884,
          "generalization error": 0.2526949524050484
         },
         {
          "estimated generalization error": 0.09056700829538238,
          "generalization error": 0.2563165088723484
         },
         {
          "estimated generalization error": 0.09597826982681115,
          "generalization error": 0.2592026860988994
         },
         {
          "estimated generalization error": 0.09339622643565551,
          "generalization error": 0.2594958864055549
         },
         {
          "estimated generalization error": 0.09185026284876238,
          "generalization error": 0.2578830600650732
         },
         {
          "estimated generalization error": 0.09393929784939813,
          "generalization error": 0.25142807024113395
         },
         {
          "estimated generalization error": 0.0915128766950744,
          "generalization error": 0.2610611087251464
         },
         {
          "estimated generalization error": 0.09699763521949327,
          "generalization error": 0.25405016713658857
         },
         {
          "estimated generalization error": 0.09779094031426791,
          "generalization error": 0.2616718743889536
         },
         {
          "estimated generalization error": 0.09371640948115102,
          "generalization error": 0.25235245563625763
         },
         {
          "estimated generalization error": 0.0895134685154274,
          "generalization error": 0.24572087843393817
         },
         {
          "estimated generalization error": 0.09254533883753134,
          "generalization error": 0.25297473615034777
         },
         {
          "estimated generalization error": 0.09705292852075276,
          "generalization error": 0.2617264589120681
         },
         {
          "estimated generalization error": 0.09566926976980207,
          "generalization error": 0.258740770033068
         },
         {
          "estimated generalization error": 0.09497934014723566,
          "generalization error": 0.253256714468941
         },
         {
          "estimated generalization error": 0.0932996335761056,
          "generalization error": 0.24483720649343188
         },
         {
          "estimated generalization error": 0.0929884838822802,
          "generalization error": 0.2553048854130055
         },
         {
          "estimated generalization error": 0.10210591238985621,
          "generalization error": 0.2534696437993938
         },
         {
          "estimated generalization error": 0.09582406848619976,
          "generalization error": 0.25358088152027153
         },
         {
          "estimated generalization error": 0.09836162791822688,
          "generalization error": 0.2502369480422271
         },
         {
          "estimated generalization error": 0.09587582506050085,
          "generalization error": 0.2576580472345003
         },
         {
          "estimated generalization error": 0.0980536752217511,
          "generalization error": 0.2650443066437566
         },
         {
          "estimated generalization error": 0.09491820628343088,
          "generalization error": 0.25532398132234463
         },
         {
          "estimated generalization error": 0.09029519818069152,
          "generalization error": 0.2549512959726191
         },
         {
          "estimated generalization error": 0.09297002227155417,
          "generalization error": 0.26383079781042246
         },
         {
          "estimated generalization error": 0.09335186119542693,
          "generalization error": 0.25320848765407866
         },
         {
          "estimated generalization error": 0.09435520164789361,
          "generalization error": 0.2515022729259314
         },
         {
          "estimated generalization error": 0.09419683532325981,
          "generalization error": 0.24858722835652264
         },
         {
          "estimated generalization error": 0.09602389436299043,
          "generalization error": 0.2576077503907374
         },
         {
          "estimated generalization error": 0.0948683452105743,
          "generalization error": 0.25958549221188587
         },
         {
          "estimated generalization error": 0.09933963956040602,
          "generalization error": 0.24967210123950892
         },
         {
          "estimated generalization error": 0.0980245111830174,
          "generalization error": 0.2525763526613426
         },
         {
          "estimated generalization error": 0.09441201806304247,
          "generalization error": 0.2512580314857217
         },
         {
          "estimated generalization error": 0.09446974632007896,
          "generalization error": 0.25540927253176327
         },
         {
          "estimated generalization error": 0.09267494070023168,
          "generalization error": 0.248389094438288
         },
         {
          "estimated generalization error": 0.09724399556107341,
          "generalization error": 0.2551105963528254
         },
         {
          "estimated generalization error": 0.09608256348213114,
          "generalization error": 0.2536707613562693
         },
         {
          "estimated generalization error": 0.09467956252797974,
          "generalization error": 0.2573622047003947
         },
         {
          "estimated generalization error": 0.0913722003082173,
          "generalization error": 0.26008052983153424
         },
         {
          "estimated generalization error": 0.099319404202402,
          "generalization error": 0.2629043591389926
         },
         {
          "estimated generalization error": 0.09737791490758045,
          "generalization error": 0.2587409168132873
         },
         {
          "estimated generalization error": 0.09517096352446133,
          "generalization error": 0.26216726744987945
         },
         {
          "estimated generalization error": 0.0928825374487783,
          "generalization error": 0.25491286158288146
         },
         {
          "estimated generalization error": 0.09240706641495572,
          "generalization error": 0.2464078796040498
         },
         {
          "estimated generalization error": 0.0923784625271833,
          "generalization error": 0.2543516053753479
         },
         {
          "estimated generalization error": 0.0989968888692972,
          "generalization error": 0.25888195420843957
         },
         {
          "estimated generalization error": 0.08835104312624582,
          "generalization error": 0.2555833266638872
         },
         {
          "estimated generalization error": 0.09072185594833616,
          "generalization error": 0.2586381912715467
         },
         {
          "estimated generalization error": 0.09441028596421053,
          "generalization error": 0.2581203092723257
         },
         {
          "estimated generalization error": 0.09318946730500292,
          "generalization error": 0.2565711216532163
         },
         {
          "estimated generalization error": 0.09790521024160546,
          "generalization error": 0.2466179728426439
         },
         {
          "estimated generalization error": 0.09807336972358337,
          "generalization error": 0.2645640107901604
         },
         {
          "estimated generalization error": 0.0958673292185704,
          "generalization error": 0.25275002131718977
         },
         {
          "estimated generalization error": 0.0951810395851102,
          "generalization error": 0.25193241731759086
         },
         {
          "estimated generalization error": 0.09748940121198542,
          "generalization error": 0.25221706151126916
         },
         {
          "estimated generalization error": 0.0918526779372946,
          "generalization error": 0.25316772459382086
         },
         {
          "estimated generalization error": 0.09280035225041344,
          "generalization error": 0.25818479145742307
         },
         {
          "estimated generalization error": 0.09695549819332969,
          "generalization error": 0.2546125225646381
         },
         {
          "estimated generalization error": 0.09060352552789777,
          "generalization error": 0.2577562066220945
         },
         {
          "estimated generalization error": 0.09565052747199994,
          "generalization error": 0.2579203400142177
         },
         {
          "estimated generalization error": 0.09201351908879624,
          "generalization error": 0.2547129296919829
         },
         {
          "estimated generalization error": 0.09326611615765122,
          "generalization error": 0.25641226646813947
         },
         {
          "estimated generalization error": 0.0983379105069299,
          "generalization error": 0.2587218746797695
         },
         {
          "estimated generalization error": 0.08934697899772673,
          "generalization error": 0.2525688935471178
         },
         {
          "estimated generalization error": 0.0931942168158491,
          "generalization error": 0.2506660084966152
         },
         {
          "estimated generalization error": 0.09303723981218087,
          "generalization error": 0.2629449950459589
         },
         {
          "estimated generalization error": 0.09379722774953113,
          "generalization error": 0.25247114905432994
         },
         {
          "estimated generalization error": 0.09560104887590148,
          "generalization error": 0.2648923766454755
         },
         {
          "estimated generalization error": 0.09637058072287079,
          "generalization error": 0.26234950893646375
         },
         {
          "estimated generalization error": 0.09310970130117995,
          "generalization error": 0.26023728847665195
         },
         {
          "estimated generalization error": 0.0962308665093516,
          "generalization error": 0.2561903222701869
         },
         {
          "estimated generalization error": 0.10134468032096862,
          "generalization error": 0.2408873217635391
         },
         {
          "estimated generalization error": 0.09409397040640226,
          "generalization error": 0.2623174078485739
         },
         {
          "estimated generalization error": 0.09000461029293123,
          "generalization error": 0.25994206946589166
         },
         {
          "estimated generalization error": 0.09620899997819107,
          "generalization error": 0.25835393625167896
         },
         {
          "estimated generalization error": 0.0939004620491994,
          "generalization error": 0.25515831270590755
         },
         {
          "estimated generalization error": 0.09234995873346358,
          "generalization error": 0.24980758826854652
         },
         {
          "estimated generalization error": 0.09590025029232171,
          "generalization error": 0.2540387525638853
         },
         {
          "estimated generalization error": 0.09139936033255382,
          "generalization error": 0.25305155300111154
         },
         {
          "estimated generalization error": 0.09476676720847044,
          "generalization error": 0.2500735695994807
         },
         {
          "estimated generalization error": 0.09391679241147288,
          "generalization error": 0.24942236045643348
         },
         {
          "estimated generalization error": 0.09686979852541659,
          "generalization error": 0.2461261465636417
         },
         {
          "estimated generalization error": 0.0963143577547664,
          "generalization error": 0.2509213918250348
         },
         {
          "estimated generalization error": 0.09315161186390468,
          "generalization error": 0.2565916571482297
         },
         {
          "estimated generalization error": 0.09547829692161301,
          "generalization error": 0.26142226127680634
         },
         {
          "estimated generalization error": 0.09409019942954878,
          "generalization error": 0.2634103912959213
         },
         {
          "estimated generalization error": 0.09680364894958832,
          "generalization error": 0.2571845565033752
         },
         {
          "estimated generalization error": 0.09526418461781834,
          "generalization error": 0.26315071064978285
         },
         {
          "estimated generalization error": 0.09292011959863555,
          "generalization error": 0.2570203019092201
         },
         {
          "estimated generalization error": 0.09524730999763176,
          "generalization error": 0.25123867131858885
         },
         {
          "estimated generalization error": 0.09034992659038503,
          "generalization error": 0.25875321115230515
         },
         {
          "estimated generalization error": 0.0923484890267265,
          "generalization error": 0.2614719412912274
         },
         {
          "estimated generalization error": 0.09117996363204864,
          "generalization error": 0.2593891768769952
         },
         {
          "estimated generalization error": 0.10019398592480072,
          "generalization error": 0.2604759348787084
         },
         {
          "estimated generalization error": 0.0976130652429048,
          "generalization error": 0.25702845595407675
         },
         {
          "estimated generalization error": 0.09887008818031366,
          "generalization error": 0.2507486020225548
         },
         {
          "estimated generalization error": 0.09880829410955702,
          "generalization error": 0.2683910927829322
         },
         {
          "estimated generalization error": 0.09532451650422938,
          "generalization error": 0.249789894135375
         },
         {
          "estimated generalization error": 0.09560078825034554,
          "generalization error": 0.2600253509736791
         }
        ]
       },
       "encoding": {
        "color": {
         "field": "Quantity",
         "type": "nominal"
        },
        "x": {
         "bin": {
          "maxbins": 100
         },
         "field": "error",
         "type": "quantitative"
        },
        "y": {
         "aggregate": "count",
         "stack": null,
         "type": "quantitative"
        }
       },
       "height": 100,
       "mark": {
        "interpolate": "step",
        "opacity": 0.3,
        "type": "area"
       },
       "transform": [
        {
         "as": [
          "Quantity",
          "error"
         ],
         "fold": [
          "estimated generalization error",
          "generalization error"
         ]
        }
       ]
      },
      "image/png": "[encoded data removed]",
      "text/plain": [
       "<VegaLite 3 object>\n",
       "\n",
       "If you see this message, it means the renderer has not been properly enabled\n",
       "for the frontend that you are using. For more information, see\n",
       "https://altair-viz.github.io/user_guide/troubleshooting.html\n"
      ]
     },
     "execution_count": 22,
     "metadata": {},
     "output_type": "execute_result"
    }
   ],
   "source": [
    "source = pd.DataFrame({\n",
    "    'estimated generalization error':ês,\n",
    "    'generalization error':es\n",
    "})\n",
    "\n",
    "alt.Chart(source, height=100).transform_fold(\n",
    "    ['estimated generalization error', 'generalization error'],\n",
    "    as_=['Quantity', 'error']\n",
    ").mark_area(\n",
    "    opacity=0.3,\n",
    "    interpolate='step'\n",
    ").encode(\n",
    "    alt.X('error:Q', bin=alt.Bin(maxbins=100)),\n",
    "    alt.Y('count()', stack=None),\n",
    "    alt.Color('Quantity:N')\n",
    ")"
   ]
  },
  {
   "cell_type": "markdown",
   "metadata": {
    "tags": [
     "popout"
    ]
   },
   "source": [
    "##### EXERCISE\n",
    "\n",
    "The code above corresponds to the estimator \n",
    "\n",
    "$$\n",
    "\\mathcal {\\hat E}(f) \n",
    "=\n",
    "\\frac{1}{n^{\\mathcal T}} \\sum_{i \\in \\mathcal{T}}  M(y_i, f_{\\mathcal S \\cup \\mathcal T}(x_i))\n",
    "\\notag\n",
    "$$\n",
    "\n",
    "Use the code and the expression above to explain in your own words what this estimator is doing."
   ]
  },
  {
   "cell_type": "markdown",
   "metadata": {},
   "source": [
    "The real difference is not what's in the data or how much of it there is, but *how it is used*. The test set is not used to fit the model $f_{\\mathcal S}$, whereas the training set is. This matters because *future* data also cannot ever be used to fit the model since it's data we don't even have at the time the model is fit. In that sense, the test set is a much better approximation of future data than the training data are because, like the future data, the test data are not used to fit the model. The very fact that we have observed the training data and used it to fit the model makes it unsuitable as an approximation to future data, even though we have done nothing to change the data itself!\n",
    "\n",
    "We're going to dig into this further, but for now it might be useful to think of an analogy. Imagine that a student is taking a course whose ultimate goal is to prepare the student to do well in their future career. The course includes both practice problems (with solutions) and a final exam. How can the student make sure she is prepared to succeed in the future? If the student studies using the practice problems, but then evaluates her performance using those same practice problems, she will always be optimistic about what she has actually learned. She may have simply memorized the answers to those problems or learned certain tricks that only work for those problems. However, her performance on the final exam, which has problems she has never seen before, is more likely to indicate how successful she will be in the future, since she will encounter new problems in her career, not textbook problems."
   ]
  },
  {
   "cell_type": "markdown",
   "metadata": {},
   "source": []
  }
 ],
 "metadata": {
  "kernelspec": {
   "display_name": "Python 3",
   "language": "python",
   "name": "python3"
  },
  "language_info": {
   "codemirror_mode": {
    "name": "ipython",
    "version": 3
   },
   "file_extension": ".py",
   "mimetype": "text/x-python",
   "name": "python",
   "nbconvert_exporter": "python",
   "pygments_lexer": "ipython3",
   "version": "3.7.6"
  }
 },
 "nbformat": 4,
 "nbformat_minor": 4
}
