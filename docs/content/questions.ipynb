{
 "cells": [
  {
   "cell_type": "markdown",
   "metadata": {},
   "source": [
    "# Types of Scientific Questions"
   ]
  },
  {
   "cell_type": "markdown",
   "metadata": {},
   "source": [
    "Before embarking on  any data analysis, you should know what the question you're trying to answer is. It may seem obvious, but the biggest mistake I see in my career as a data scientist is analyses that claim (sometimes implicitly) to answer one question, but that really answer a different question altogether. "
   ]
  },
  {
   "cell_type": "markdown",
   "metadata": {},
   "source": [
    "There are different ways to classify data analyses and scientific questions, but I like the way {% cite peng2015 %} do it the best, which is summed up by this diagram:\n",
    "\n",
    "![](https://science.sciencemag.org/content/sci/347/6228/1314/F1.large.jpg)"
   ]
  },
  {
   "cell_type": "markdown",
   "metadata": {},
   "source": [
    "Let's look at some examples.\n",
    "\n",
    "Many children (and adults) think they are innately \"bad at math\" and avoid activities that involve numbers or calculation. This is called *math phobia*. Let's say we're interested in understanding math phobia in primary-school aged children. To do that, we go out into the world and gather data by measuring different things about a number of children."
   ]
  },
  {
   "cell_type": "code",
   "execution_count": null,
   "metadata": {
    "tags": [
     "hide_input"
    ]
   },
   "outputs": [],
   "source": [
    "# add dataset here"
   ]
  },
  {
   "cell_type": "markdown",
   "metadata": {},
   "source": [
    "## Descriptive and Exploratory Questions"
   ]
  },
  {
   "cell_type": "markdown",
   "metadata": {},
   "source": [
    "There are many questions we could ask on the subject. For instance, how many children self-report as \"good\" or \"bad\" at math? And how many of each of these groups of children identify as boys? If we simply reported the numbers we find, according to our classification, that would be a *descriptive* analysis. If, in addition we interpreted those findings by suggesting that being raised as a boy appears to decrease (or increase) math phobia, then that would be an *exploratory* analysis. \n",
    "\n",
    "The difference between these is that we made a claim based on the data instead of just reporting the data. Sometimes claims are made implicitly, so it's hard to draw a hard and fast distinction between descriptive and exploratory analyses. For that reason, many people use these terms more or less interchangeably, or to describe any kind of analysis that is not meant to be thoroughly rigorous."
   ]
  },
  {
   "cell_type": "code",
   "execution_count": 15,
   "metadata": {
    "tags": [
     "hide_input"
    ]
   },
   "outputs": [],
   "source": [
    "# summary statistics"
   ]
  },
  {
   "cell_type": "markdown",
   "metadata": {},
   "source": [
    "## Inferential, Causal (and Mechanistic) Questions"
   ]
  },
  {
   "cell_type": "markdown",
   "metadata": {},
   "source": [
    "### Inference"
   ]
  },
  {
   "cell_type": "markdown",
   "metadata": {},
   "source": [
    "Let's say instead that we performed a regression analysis to tease out the association between gender and math phobia. We report the coefficient of gender in the regression model, which expresses the strength of the association, along with a p-value, which expresses how likely it is that we would have observed our assoication if there really were none (given some assumptions). However, we don't claim that the association is a causal effect- that is, that somehow changing a child's gender would cause a change in their math phobia. In fact, it's hard to interpret precisely what that would entail. All we're saying is that there does seem to be some relationship between gender and math phobia, and that we would be likely to find a similar result if we gathered more data. Since we have quantified our claim and shown that it is statistically robust, this is no longer an exploratory analysis, but an *inferential* analysis. We have produced rigorous evidence of some relationship."
   ]
  },
  {
   "cell_type": "code",
   "execution_count": 18,
   "metadata": {
    "tags": [
     "hide_input"
    ]
   },
   "outputs": [],
   "source": [
    "# linear regression with beta and p-value\n",
    "# scatterplot with line, and slope being association\n",
    "# confidence bands"
   ]
  },
  {
   "cell_type": "markdown",
   "metadata": {
    "tags": [
     "popout"
    ]
   },
   "source": [
    "We're talking about relationships between variables here, but it's also possible to ask single-variable questions. For instance, we could ask: is the proportion of students with math phobia less than 1/2? If we took a classroom of students and just reported how many of them have math phobia, that would be a descriptive analysis. If we also performed a one-sample test and reported a p-value to quantify how sure we are that our result is not random chance based on the classroom we gathered data from, then our analysis is inferential."
   ]
  },
  {
   "cell_type": "markdown",
   "metadata": {},
   "source": [
    "### Causality"
   ]
  },
  {
   "cell_type": "markdown",
   "metadata": {},
   "source": [
    "Let's say that we have data from two classrooms that teach math using different curricula, one of which is called \"cool math\" and one of which is called \"boring math\". We do the same regression analysis as before, but this time look at the relationship between the curricula and math phobia. As before, we produce an estimate of the relationship and a p-value. Let's say we find that the kids in the \"cool math\" classroom have less math phobia. If, in addition, we claim that the kids taught boring math would have less math phobia on average if they had been taught cool math instead, then our analysis is *causal*. "
   ]
  },
  {
   "cell_type": "markdown",
   "metadata": {},
   "source": [
    "If it's obvious to you that the effect we observe is causal (i.e. cool math decreases math phobia), think again. What if the cool math classroom is in a wealthy neighborhood and the boring math classroom is in a poor neighborhood? This highlights the common problem with asessing causality: it's hard to disentangle the effects of several variables. It could be that the curriculum is decreasing math phobia, or it could be that being in a wealthy neighborhood is what descreases math phobia, and also impacts the kind of curriculum taught in schools. This kind of variable (one that affects both the outcome of interest and the independent variable of interest) is called a *confounder*. Without strong experimental design (e.g. randomization of the curriculum) or strong assumptions, it's not possible to confidently assert causality."
   ]
  },
  {
   "cell_type": "markdown",
   "metadata": {
    "tags": [
     "popout"
    ]
   },
   "source": [
    "Causal analyses are the bread and butter of the field of *causal inference*. [The Book of Why](https://www.basicbooks.com/titles/judea-pearl/the-book-of-why/9780465097609/) is an excellent introduction written for popular audiences, while [Causal Inference: What If?](https://www.hsph.harvard.edu/miguel-hernan/causal-inference-book/) is a more thorough technical introduction and reference."
   ]
  },
  {
   "cell_type": "markdown",
   "metadata": {},
   "source": [
    "Notice that the method we used for both the inferential and causal questions was the same (regression). What's different is that in the causal setting we are intepreting our result to mean that in the future we could affect one variable by changing another. However, inferential analyses are often interpreted causally, even if they only mean to show that there exists some relationship, causal or otherwise. This is natural because ultimately the goal of science is not just to understand, but to be able to manipulate our environment to make it better. In that sense, causal analyses are almost always what we're really after. Establishing an association is only useful insofar as it can generate causal hypotheses."
   ]
  },
  {
   "cell_type": "markdown",
   "metadata": {},
   "source": [
    "### Mechanisms "
   ]
  },
  {
   "cell_type": "markdown",
   "metadata": {},
   "source": [
    "Answers to causal questions don't necessarily tell us *how* the cause produces the effect: we just know it does. They also don't guarentee that the effect will be produced in every instance, just on average. But perhaps we want to be able to exercise fine-grained control over the effect and be sure that it will work every time. To do that, we would need to understand the exact mechanism of action so that we could intervene in just the right place. Doing that is often impossible in anything but the most simple scenarios, and requires thorough and repeated experimentation. Mechanistic analyses are common in fields like physics and chemistry, but extremely rare in the social sciences, economics, or medicine. We won't discuss them further in this book."
   ]
  },
  {
   "cell_type": "markdown",
   "metadata": {},
   "source": [
    "## Predictive Questions"
   ]
  },
  {
   "cell_type": "markdown",
   "metadata": {},
   "source": [
    "What if, instead, we're interested in knowing how to *predict* a new child's math phobia without having to measure it? Maybe we want to predict math phobia so we can target resources to the children who might need them the most. In the predictive setting, we don't care too much about what the exact relationships are between the different variables, as long as we can use them to generate an accurate-enough prediction for a new individual. \n",
    "\n",
    "To answer this question, we take the data we gathered and fit a regression model using math phobia as the dependent variable (outcome) and our other variables as the independent variables (predictors). But instead of reporting the strength and robustness of the association between one of the predictors and the outcome, we report the whole model itself (so it can be used to make new predictions) and a measure of how accurate the model was at predicting math phobia.\n",
    "\n",
    "Although we are performing a similar analysis, the object of interest is different. Inferential and causal analyses are focused on the *internals* of the model: how is it relating the different variables to each other and what does that tell us about the real world? Predictive analyses are focused on the *output* of the model: what does the model think will happen and how accurate is that prediction?"
   ]
  },
  {
   "cell_type": "code",
   "execution_count": 19,
   "metadata": {
    "tags": [
     "hide_input"
    ]
   },
   "outputs": [],
   "source": [
    "# scatterplot and line, but slope not labeled- residuals labeled\n",
    "# prediction on a new observation"
   ]
  },
  {
   "cell_type": "markdown",
   "metadata": {},
   "source": [
    "### Prediction and Causality"
   ]
  },
  {
   "cell_type": "markdown",
   "metadata": {},
   "source": [
    "Prediction is often motivated by the desire to know what cases we should intervene in. But it's important to note that just because something is likely to happen doesn't mean that we can do anything to prevent or encourage it. For instance, in the case of math phobia, it's possible that some kids are at such high risk that they would develop math phobia regardless of the curriculum they get exposed to. And, vice versa, there may be kids at very low risk of math phobia for whom switching curricula would make a huge difference. What's going on here is that the *causal effect* of curricula on math phobia in different kids does not necessarily track with their *overall risk* of developing math phobia. \n",
    "\n",
    "It's common practice to use prediction models to allocate resources, but this is not guarenteed to work unless the intervention (e.g. curriculum) is known to have an equal effect for all individuals or to have the greatest effect on those at greatest risk {% cite ascarza2018 %}. Be wary of proposals to use prediction models to optimize resource allocation unless you've thought through the necessary assumptions."
   ]
  },
  {
   "cell_type": "code",
   "execution_count": 20,
   "metadata": {
    "tags": [
     "hide_input"
    ]
   },
   "outputs": [],
   "source": [
    "# exercise to distinguish different kinds of questions"
   ]
  },
  {
   "cell_type": "markdown",
   "metadata": {},
   "source": [
    "## References\n",
    "\n",
    "{% bibliography --cited %}"
   ]
  },
  {
   "cell_type": "code",
   "execution_count": null,
   "metadata": {},
   "outputs": [],
   "source": []
  }
 ],
 "metadata": {
  "kernelspec": {
   "display_name": "Python 3",
   "language": "python",
   "name": "python3"
  },
  "language_info": {
   "codemirror_mode": {
    "name": "ipython",
    "version": 3
   },
   "file_extension": ".py",
   "mimetype": "text/x-python",
   "name": "python",
   "nbconvert_exporter": "python",
   "pygments_lexer": "ipython3",
   "version": "3.7.6"
  }
 },
 "nbformat": 4,
 "nbformat_minor": 4
}
