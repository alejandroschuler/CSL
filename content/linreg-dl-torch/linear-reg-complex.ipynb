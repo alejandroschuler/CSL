{
 "cells": [
  {
   "cell_type": "code",
   "execution_count": 2,
   "metadata": {
    "tags": [
     "hide_input"
    ]
   },
   "outputs": [],
   "source": [
    "import torch\n",
    "import pandas as pd\n",
    "import altair as alt\n",
    "from torchviz import make_dot"
   ]
  },
  {
   "cell_type": "markdown",
   "metadata": {},
   "source": [
    "# Adding complexity to our linear model"
   ]
  },
  {
   "cell_type": "markdown",
   "metadata": {},
   "source": [
    "Let's go back to our regression example."
   ]
  },
  {
   "cell_type": "code",
   "execution_count": 5,
   "metadata": {},
   "outputs": [],
   "source": [
    "p = 5 \n",
    "n = 100\n",
    "\n",
    "x = torch.randn(n, p) # predictors (n observations, p features)\n",
    "y = torch.randn(n, 1) # outcomes (n observations)"
   ]
  },
  {
   "cell_type": "code",
   "execution_count": 6,
   "metadata": {},
   "outputs": [],
   "source": [
    "loss_record = [] \n",
    "β = torch.randn(p+1,1) \n",
    "β.requires_grad_() \n",
    "\n",
    "for e in range(500):\n",
    "    ŷ = torch.matmul(x, β[1:]) + β[0]\n",
    "    L = torch.sum((y-ŷ)**2)/n \n",
    "    \n",
    "    L.backward() # compute gradients \n",
    "    loss_record.append(L.item())\n",
    "    \n",
    "    with torch.no_grad(): # take the gradient descent step \n",
    "        β -= 10e-5 * β.grad\n",
    "        β.grad.zero_()"
   ]
  },
  {
   "cell_type": "markdown",
   "metadata": {},
   "source": [
    "Remember that the linear model is $\\hat y =x\\beta_{1:p} + \\beta_0$. Let's say we want to add some complexity to this model by figuring out if there are some other predictors we can build (call them $z$) that are a transformation of the predictors $x$ that are better for predicting $y$ in a linear model than $x$ is. To do that, we'll first let $z = g(xW + b)$ with $W$ being a $p \\times h$ matrix and $b$ a $1 \\times h$ matrix so each row of $z$ ends up with $h$ columns and $g$ is an element-wise ReLU function. The purpose of $W$ and $b$ is to make $h$ predictors out of our original $p$ using a linear transformation. The purpose of $g$ is to add complexity to the model."
   ]
  },
  {
   "cell_type": "markdown",
   "metadata": {},
   "source": [
    "Let's dig into this, one step at a time. First we'll investigate the transformation $xW$. As we said, we're trying to build new features from our old features, so let's look at just one of these new features, $z_1$:"
   ]
  },
  {
   "cell_type": "markdown",
   "metadata": {},
   "source": [
    "$$ \n",
    "z_1 \n",
    "=\n",
    "\\left[\n",
    "\\begin{array}{c}\n",
    "z_{11} \\\\ z_{12} \\\\ \\vdots \\\\ z_{1n}\n",
    "\\end{array}\n",
    "\\right]\n",
    "=\n",
    "g\\left(\n",
    "\\left[\n",
    "\\begin{array}{c}\n",
    "x_{11} & x_{21} & \\cdots & x_{p1} \\\\\n",
    "x_{12} & x_{22} & \\cdots & x_{p2} \\\\\n",
    "\\vdots & \\vdots & \\ddots & \\vdots \\\\\n",
    "x_{1n} & x_{2n} & \\cdots & x_{pn}\n",
    "\\end{array}\n",
    "\\right]\n",
    "\\left[\n",
    "\\begin{array}{c}\n",
    "w_{11} \\\\ w_{12} \\\\ \\vdots \\\\ w_{1p}\n",
    "\\end{array}\n",
    "\\right]\n",
    "+\n",
    "b_1\n",
    "\\right)\n",
    "$$"
   ]
  },
  {
   "cell_type": "markdown",
   "metadata": {},
   "source": [
    "Graphically, this looks exactly like logistic regression, but with the $\\sigma()$ replaced by $g()$. We also renamed the parameters and output, but that's just cosmetic, not consequential.\n",
    "\n",
    "<img src=\"images/greg.png\" width=\"250\"> "
   ]
  },
  {
   "cell_type": "markdown",
   "metadata": {},
   "source": [
    "Since we'll be using this structure again and again we'll just abbreviate it as follows:"
   ]
  },
  {
   "cell_type": "markdown",
   "metadata": {},
   "source": [
    "<img src=\"images/greg-abbrev.png\" width=\"130\">"
   ]
  },
  {
   "cell_type": "markdown",
   "metadata": {},
   "source": [
    "Notice that it's implicit here that $w_1$ is a vector of parameters that is being dot-multiplied by the vector $x$, $b_1$ is being added, and then the result is being transformed by some function $g$ (omitted in the drawing). "
   ]
  },
  {
   "cell_type": "markdown",
   "metadata": {},
   "source": [
    "Now let's zoom back out to our full matrix equation $z = g(xW+b)$. One way to look at this is that we're doing $h$ \"$g$-linear\" regressions (assuming we have $W$ and $b$) and getting their predictions. The matrix equation $z = g(xW+b)$ expresses all of these \"regressions\" simultaneously."
   ]
  },
  {
   "cell_type": "code",
   "execution_count": 7,
   "metadata": {},
   "outputs": [],
   "source": [
    "from torch.nn.functional import relu as g\n",
    "h = 10\n",
    "W = torch.randn(5, h).requires_grad_()\n",
    "b = torch.randn(1, h).requires_grad_()"
   ]
  },
  {
   "cell_type": "code",
   "execution_count": 8,
   "metadata": {},
   "outputs": [
    {
     "data": {
      "text/plain": [
       "torch.Size([100, 10])"
      ]
     },
     "execution_count": 8,
     "metadata": {},
     "output_type": "execute_result"
    }
   ],
   "source": [
    "z = g(torch.matmul(x,W) + b)\n",
    "z.shape"
   ]
  },
  {
   "cell_type": "markdown",
   "metadata": {},
   "source": [
    "As you see, we're getting 100 observations of 10 \"features\". Let's look at one of them:"
   ]
  },
  {
   "cell_type": "code",
   "execution_count": 9,
   "metadata": {},
   "outputs": [
    {
     "data": {
      "text/plain": [
       "tensor([0.3226, 1.4233, 2.8091, 2.2245, 1.0566, 4.0743, 3.2438, 3.3498, 2.9763,\n",
       "        3.0156], grad_fn=<SelectBackward>)"
      ]
     },
     "execution_count": 9,
     "metadata": {},
     "output_type": "execute_result"
    }
   ],
   "source": [
    "z[0:10,1]"
   ]
  },
  {
   "cell_type": "markdown",
   "metadata": {},
   "source": [
    "We could also have done them one-at-a-time:"
   ]
  },
  {
   "cell_type": "code",
   "execution_count": 10,
   "metadata": {},
   "outputs": [],
   "source": [
    "w1 = W[:,1]\n",
    "b1 = b[:,1]\n",
    "z1 = g(torch.matmul(x,w1) + b1)"
   ]
  },
  {
   "cell_type": "code",
   "execution_count": 11,
   "metadata": {},
   "outputs": [
    {
     "data": {
      "text/plain": [
       "tensor([0.3226, 1.4233, 2.8091, 2.2245, 1.0566, 4.0743, 3.2438, 3.3498, 2.9763,\n",
       "        3.0156], grad_fn=<SliceBackward>)"
      ]
     },
     "execution_count": 11,
     "metadata": {},
     "output_type": "execute_result"
    }
   ],
   "source": [
    "z1[0:10]"
   ]
  },
  {
   "cell_type": "markdown",
   "metadata": {},
   "source": [
    "Same thing. "
   ]
  },
  {
   "cell_type": "markdown",
   "metadata": {},
   "source": [
    "The graphical representation of this is:"
   ]
  },
  {
   "cell_type": "markdown",
   "metadata": {},
   "source": [
    "<img src=\"images/2layer.png\" width=\"150\">"
   ]
  },
  {
   "cell_type": "markdown",
   "metadata": {},
   "source": [
    "One way to think about $z$ is as a different \"representation\" of what's in $x$. If we're predicting whether an image is a cat or a dog based on the pixel values $x$, then $z$ will perhaps learn to encode something like the number of red pixels, whether or not there are triangles in the image, etc. Ultimately the two representations contain the same information since $z$ is just a transformation of $x$, but somehow we're looking at that information in a different way, or highlighting different aspects of it."
   ]
  },
  {
   "cell_type": "markdown",
   "metadata": {},
   "source": [
    "Now our final model is a linear model done on the new predictors $z$. That model is $\\hat y =z\\alpha_{1:h} + \\alpha_0$. I'm calling the coefficient vector $\\alpha$ because now this needs $h$ coefficients (plus 1 intercept) for each of the $h$ new features, whereas $\\beta$ was a $p$-length vector. So, in full, our model is now $\\hat y = g(xW+b)\\alpha_{1:h} + \\alpha_0$. "
   ]
  },
  {
   "cell_type": "code",
   "execution_count": 12,
   "metadata": {},
   "outputs": [],
   "source": [
    "α = torch.randn(h+1,1).requires_grad_()\n",
    "ŷ = torch.matmul(z,α[1:]) + α[0]"
   ]
  },
  {
   "cell_type": "markdown",
   "metadata": {},
   "source": [
    "<img src=\"images/net.png\" width=\"300\">"
   ]
  },
  {
   "cell_type": "markdown",
   "metadata": {},
   "source": [
    "Note that without the ReLU (or some nonlinear function) between $x$ and $z$, there is always a vector $\\beta$ such that $x\\beta_{1:p} + \\beta_0 = (xW+b)\\alpha_{1:h} + \\alpha_0$ for every $W$, $b$, and $\\alpha$. In effect, adding the transformation $W$ doesn't actually add anything to the model- we're expanding the number of parameters to fit without actually expanding the expressivity of the model because there is always a model  with fewer parameters that perfectly captures the predictions of the over-parametrized model. That is why the nonlinearity $g$ is necessary."
   ]
  },
  {
   "cell_type": "markdown",
   "metadata": {
    "tags": [
     "popout"
    ]
   },
   "source": [
    "---\n",
    "\n",
    "**EXERCISE:** \n",
    "\n",
    "Let's say we have\n",
    "    \n",
    "$$\n",
    "W = \n",
    "\\left[\n",
    "\\begin{array}{ccc}\n",
    "1 & 1 & 1 \\\\\n",
    "1 & 2 & 3\n",
    "\\end{array}\n",
    "\\right]    \n",
    "\\quad\n",
    "b = \n",
    "\\left[\n",
    "\\begin{array}{ccc}\n",
    "0 & 0 & 0\n",
    "\\end{array}\n",
    "\\right]\n",
    "\\\\\n",
    "\\alpha_{1:3} = \n",
    "\\left[\n",
    "\\begin{array}{c}\n",
    "1 \\\\ -1 \\\\ 0\n",
    "\\end{array}\n",
    "\\right]\n",
    "\\quad\n",
    "\\alpha_0 = 0\n",
    "\\notag\n",
    "$$\n",
    "    \n",
    "Find $\\beta$ so that $x\\beta_{1:2} + \\beta_0 = (xW+b)\\alpha_{1:3} + \\alpha_0$ no matter what $x$ is.\n",
    "\n",
    "---"
   ]
  },
  {
   "cell_type": "markdown",
   "metadata": {},
   "source": [
    "Finally, we can compute our MSE loss:"
   ]
  },
  {
   "cell_type": "code",
   "execution_count": 13,
   "metadata": {},
   "outputs": [
    {
     "data": {
      "text/plain": [
       "tensor(48.5825, grad_fn=<DivBackward0>)"
      ]
     },
     "execution_count": 13,
     "metadata": {},
     "output_type": "execute_result"
    }
   ],
   "source": [
    "L = torch.sum((y-ŷ)**2)/n\n",
    "L"
   ]
  },
  {
   "cell_type": "code",
   "execution_count": 14,
   "metadata": {
    "tags": [
     "hide_input",
     "popout"
    ]
   },
   "outputs": [
    {
     "data": {
      "image/svg+xml": [
       "<?xml version=\"1.0\" encoding=\"UTF-8\" standalone=\"no\"?>\n",
       "<!DOCTYPE svg PUBLIC \"-//W3C//DTD SVG 1.1//EN\"\n",
       " \"http://www.w3.org/Graphics/SVG/1.1/DTD/svg11.dtd\">\n",
       "<!-- Generated by graphviz version 2.43.0 (0)\n",
       " -->\n",
       "<!-- Title: %3 Pages: 1 -->\n",
       "<svg width=\"321pt\" height=\"568pt\"\n",
       " viewBox=\"0.00 0.00 321.31 568.00\" xmlns=\"http://www.w3.org/2000/svg\" xmlns:xlink=\"http://www.w3.org/1999/xlink\">\n",
       "<g id=\"graph0\" class=\"graph\" transform=\"scale(1 1) rotate(0) translate(4 564)\">\n",
       "<title>%3</title>\n",
       "<polygon fill=\"white\" stroke=\"transparent\" points=\"-4,4 -4,-564 317.31,-564 317.31,4 -4,4\"/>\n",
       "<!-- 4774992144 -->\n",
       "<g id=\"node1\" class=\"node\">\n",
       "<title>4774992144</title>\n",
       "<polygon fill=\"#caff70\" stroke=\"black\" points=\"256.47,-20 168.18,-20 168.18,0 256.47,0 256.47,-20\"/>\n",
       "<text text-anchor=\"middle\" x=\"212.32\" y=\"-6.4\" font-family=\"Times,serif\" font-size=\"12.00\">DivBackward0</text>\n",
       "</g>\n",
       "<!-- 4750840528 -->\n",
       "<g id=\"node2\" class=\"node\">\n",
       "<title>4750840528</title>\n",
       "<polygon fill=\"lightgrey\" stroke=\"black\" points=\"258.48,-76 166.17,-76 166.17,-56 258.48,-56 258.48,-76\"/>\n",
       "<text text-anchor=\"middle\" x=\"212.32\" y=\"-62.4\" font-family=\"Times,serif\" font-size=\"12.00\">SumBackward0</text>\n",
       "</g>\n",
       "<!-- 4750840528&#45;&gt;4774992144 -->\n",
       "<g id=\"edge1\" class=\"edge\">\n",
       "<title>4750840528&#45;&gt;4774992144</title>\n",
       "<path fill=\"none\" stroke=\"black\" d=\"M212.32,-55.59C212.32,-48.7 212.32,-39.1 212.32,-30.57\"/>\n",
       "<polygon fill=\"black\" stroke=\"black\" points=\"215.82,-30.3 212.32,-20.3 208.82,-30.3 215.82,-30.3\"/>\n",
       "</g>\n",
       "<!-- 4774992272 -->\n",
       "<g id=\"node3\" class=\"node\">\n",
       "<title>4774992272</title>\n",
       "<polygon fill=\"lightgrey\" stroke=\"black\" points=\"258.31,-132 166.34,-132 166.34,-112 258.31,-112 258.31,-132\"/>\n",
       "<text text-anchor=\"middle\" x=\"212.32\" y=\"-118.4\" font-family=\"Times,serif\" font-size=\"12.00\">PowBackward0</text>\n",
       "</g>\n",
       "<!-- 4774992272&#45;&gt;4750840528 -->\n",
       "<g id=\"edge2\" class=\"edge\">\n",
       "<title>4774992272&#45;&gt;4750840528</title>\n",
       "<path fill=\"none\" stroke=\"black\" d=\"M212.32,-111.59C212.32,-104.7 212.32,-95.1 212.32,-86.57\"/>\n",
       "<polygon fill=\"black\" stroke=\"black\" points=\"215.82,-86.3 212.32,-76.3 208.82,-86.3 215.82,-86.3\"/>\n",
       "</g>\n",
       "<!-- 4774992400 -->\n",
       "<g id=\"node4\" class=\"node\">\n",
       "<title>4774992400</title>\n",
       "<polygon fill=\"lightgrey\" stroke=\"black\" points=\"257.14,-188 167.51,-188 167.51,-168 257.14,-168 257.14,-188\"/>\n",
       "<text text-anchor=\"middle\" x=\"212.32\" y=\"-174.4\" font-family=\"Times,serif\" font-size=\"12.00\">SubBackward0</text>\n",
       "</g>\n",
       "<!-- 4774992400&#45;&gt;4774992272 -->\n",
       "<g id=\"edge3\" class=\"edge\">\n",
       "<title>4774992400&#45;&gt;4774992272</title>\n",
       "<path fill=\"none\" stroke=\"black\" d=\"M212.32,-167.59C212.32,-160.7 212.32,-151.1 212.32,-142.57\"/>\n",
       "<polygon fill=\"black\" stroke=\"black\" points=\"215.82,-142.3 212.32,-132.3 208.82,-142.3 215.82,-142.3\"/>\n",
       "</g>\n",
       "<!-- 4774992592 -->\n",
       "<g id=\"node5\" class=\"node\">\n",
       "<title>4774992592</title>\n",
       "<polygon fill=\"lightgrey\" stroke=\"black\" points=\"258.14,-244 166.51,-244 166.51,-224 258.14,-224 258.14,-244\"/>\n",
       "<text text-anchor=\"middle\" x=\"212.32\" y=\"-230.4\" font-family=\"Times,serif\" font-size=\"12.00\">AddBackward0</text>\n",
       "</g>\n",
       "<!-- 4774992592&#45;&gt;4774992400 -->\n",
       "<g id=\"edge4\" class=\"edge\">\n",
       "<title>4774992592&#45;&gt;4774992400</title>\n",
       "<path fill=\"none\" stroke=\"black\" d=\"M212.32,-223.59C212.32,-216.7 212.32,-207.1 212.32,-198.57\"/>\n",
       "<polygon fill=\"black\" stroke=\"black\" points=\"215.82,-198.3 212.32,-188.3 208.82,-198.3 215.82,-198.3\"/>\n",
       "</g>\n",
       "<!-- 4774992720 -->\n",
       "<g id=\"node6\" class=\"node\">\n",
       "<title>4774992720</title>\n",
       "<polygon fill=\"lightgrey\" stroke=\"black\" points=\"201.47,-300 117.18,-300 117.18,-280 201.47,-280 201.47,-300\"/>\n",
       "<text text-anchor=\"middle\" x=\"159.32\" y=\"-286.4\" font-family=\"Times,serif\" font-size=\"12.00\">MmBackward</text>\n",
       "</g>\n",
       "<!-- 4774992720&#45;&gt;4774992592 -->\n",
       "<g id=\"edge5\" class=\"edge\">\n",
       "<title>4774992720&#45;&gt;4774992592</title>\n",
       "<path fill=\"none\" stroke=\"black\" d=\"M168.56,-279.59C176.16,-271.85 187.11,-260.69 196.16,-251.47\"/>\n",
       "<polygon fill=\"black\" stroke=\"black\" points=\"198.69,-253.89 203.2,-244.3 193.7,-248.98 198.69,-253.89\"/>\n",
       "</g>\n",
       "<!-- 4774992848 -->\n",
       "<g id=\"node7\" class=\"node\">\n",
       "<title>4774992848</title>\n",
       "<polygon fill=\"lightgrey\" stroke=\"black\" points=\"132.13,-356 38.52,-356 38.52,-336 132.13,-336 132.13,-356\"/>\n",
       "<text text-anchor=\"middle\" x=\"85.32\" y=\"-342.4\" font-family=\"Times,serif\" font-size=\"12.00\">ReluBackward0</text>\n",
       "</g>\n",
       "<!-- 4774992848&#45;&gt;4774992720 -->\n",
       "<g id=\"edge6\" class=\"edge\">\n",
       "<title>4774992848&#45;&gt;4774992720</title>\n",
       "<path fill=\"none\" stroke=\"black\" d=\"M97.88,-335.84C109,-327.72 125.46,-315.71 138.54,-306.16\"/>\n",
       "<polygon fill=\"black\" stroke=\"black\" points=\"140.94,-308.75 146.96,-300.03 136.82,-303.09 140.94,-308.75\"/>\n",
       "</g>\n",
       "<!-- 4774993040 -->\n",
       "<g id=\"node8\" class=\"node\">\n",
       "<title>4774993040</title>\n",
       "<polygon fill=\"lightgrey\" stroke=\"black\" points=\"131.14,-418 39.51,-418 39.51,-398 131.14,-398 131.14,-418\"/>\n",
       "<text text-anchor=\"middle\" x=\"85.32\" y=\"-404.4\" font-family=\"Times,serif\" font-size=\"12.00\">AddBackward0</text>\n",
       "</g>\n",
       "<!-- 4774993040&#45;&gt;4774992848 -->\n",
       "<g id=\"edge7\" class=\"edge\">\n",
       "<title>4774993040&#45;&gt;4774992848</title>\n",
       "<path fill=\"none\" stroke=\"black\" d=\"M85.32,-397.89C85.32,-389.52 85.32,-376.84 85.32,-366.23\"/>\n",
       "<polygon fill=\"black\" stroke=\"black\" points=\"88.82,-366.2 85.32,-356.2 81.82,-366.2 88.82,-366.2\"/>\n",
       "</g>\n",
       "<!-- 4774993168 -->\n",
       "<g id=\"node9\" class=\"node\">\n",
       "<title>4774993168</title>\n",
       "<polygon fill=\"lightgrey\" stroke=\"black\" points=\"84.47,-486 0.18,-486 0.18,-466 84.47,-466 84.47,-486\"/>\n",
       "<text text-anchor=\"middle\" x=\"42.32\" y=\"-472.4\" font-family=\"Times,serif\" font-size=\"12.00\">MmBackward</text>\n",
       "</g>\n",
       "<!-- 4774993168&#45;&gt;4774993040 -->\n",
       "<g id=\"edge8\" class=\"edge\">\n",
       "<title>4774993168&#45;&gt;4774993040</title>\n",
       "<path fill=\"none\" stroke=\"black\" d=\"M48.3,-465.82C54.85,-455.77 65.51,-439.42 73.71,-426.83\"/>\n",
       "<polygon fill=\"black\" stroke=\"black\" points=\"76.87,-428.39 79.4,-418.1 71,-424.57 76.87,-428.39\"/>\n",
       "</g>\n",
       "<!-- 4774993360 -->\n",
       "<g id=\"node10\" class=\"node\">\n",
       "<title>4774993360</title>\n",
       "<polygon fill=\"lightblue\" stroke=\"black\" points=\"69.32,-560 15.32,-560 15.32,-528 69.32,-528 69.32,-560\"/>\n",
       "<text text-anchor=\"middle\" x=\"42.32\" y=\"-546.4\" font-family=\"Times,serif\" font-size=\"12.00\">W</text>\n",
       "<text text-anchor=\"middle\" x=\"42.32\" y=\"-534.4\" font-family=\"Times,serif\" font-size=\"12.00\"> (5, 10)</text>\n",
       "</g>\n",
       "<!-- 4774993360&#45;&gt;4774993168 -->\n",
       "<g id=\"edge9\" class=\"edge\">\n",
       "<title>4774993360&#45;&gt;4774993168</title>\n",
       "<path fill=\"none\" stroke=\"black\" d=\"M42.32,-527.69C42.32,-518.4 42.32,-506.44 42.32,-496.47\"/>\n",
       "<polygon fill=\"black\" stroke=\"black\" points=\"45.82,-496.32 42.32,-486.32 38.82,-496.32 45.82,-496.32\"/>\n",
       "</g>\n",
       "<!-- 4774993232 -->\n",
       "<g id=\"node11\" class=\"node\">\n",
       "<title>4774993232</title>\n",
       "<polygon fill=\"lightblue\" stroke=\"black\" points=\"156.32,-492 102.32,-492 102.32,-460 156.32,-460 156.32,-492\"/>\n",
       "<text text-anchor=\"middle\" x=\"129.32\" y=\"-478.4\" font-family=\"Times,serif\" font-size=\"12.00\">b</text>\n",
       "<text text-anchor=\"middle\" x=\"129.32\" y=\"-466.4\" font-family=\"Times,serif\" font-size=\"12.00\"> (1, 10)</text>\n",
       "</g>\n",
       "<!-- 4774993232&#45;&gt;4774993040 -->\n",
       "<g id=\"edge10\" class=\"edge\">\n",
       "<title>4774993232&#45;&gt;4774993040</title>\n",
       "<path fill=\"none\" stroke=\"black\" d=\"M119.12,-459.69C112.59,-449.9 104.09,-437.15 97.25,-426.89\"/>\n",
       "<polygon fill=\"black\" stroke=\"black\" points=\"99.99,-424.7 91.54,-418.32 94.17,-428.58 99.99,-424.7\"/>\n",
       "</g>\n",
       "<!-- 4774992912 -->\n",
       "<g id=\"node12\" class=\"node\">\n",
       "<title>4774992912</title>\n",
       "<polygon fill=\"lightgrey\" stroke=\"black\" points=\"238.46,-356 150.18,-356 150.18,-336 238.46,-336 238.46,-356\"/>\n",
       "<text text-anchor=\"middle\" x=\"194.32\" y=\"-342.4\" font-family=\"Times,serif\" font-size=\"12.00\">SliceBackward</text>\n",
       "</g>\n",
       "<!-- 4774992912&#45;&gt;4774992720 -->\n",
       "<g id=\"edge11\" class=\"edge\">\n",
       "<title>4774992912&#45;&gt;4774992720</title>\n",
       "<path fill=\"none\" stroke=\"black\" d=\"M188.23,-335.59C183.46,-328.24 176.69,-317.8 170.9,-308.87\"/>\n",
       "<polygon fill=\"black\" stroke=\"black\" points=\"173.73,-306.79 165.35,-300.3 167.85,-310.59 173.73,-306.79\"/>\n",
       "</g>\n",
       "<!-- 4774993104 -->\n",
       "<g id=\"node13\" class=\"node\">\n",
       "<title>4774993104</title>\n",
       "<polygon fill=\"lightblue\" stroke=\"black\" points=\"257.32,-424 203.32,-424 203.32,-392 257.32,-392 257.32,-424\"/>\n",
       "<text text-anchor=\"middle\" x=\"230.32\" y=\"-410.4\" font-family=\"Times,serif\" font-size=\"12.00\">α</text>\n",
       "<text text-anchor=\"middle\" x=\"230.32\" y=\"-398.4\" font-family=\"Times,serif\" font-size=\"12.00\"> (11, 1)</text>\n",
       "</g>\n",
       "<!-- 4774993104&#45;&gt;4774992912 -->\n",
       "<g id=\"edge12\" class=\"edge\">\n",
       "<title>4774993104&#45;&gt;4774992912</title>\n",
       "<path fill=\"none\" stroke=\"black\" d=\"M221.24,-391.86C216.34,-383.69 210.25,-373.55 205.11,-364.98\"/>\n",
       "<polygon fill=\"black\" stroke=\"black\" points=\"207.96,-362.93 199.82,-356.15 201.96,-366.53 207.96,-362.93\"/>\n",
       "</g>\n",
       "<!-- 4774992784 -->\n",
       "<g id=\"node14\" class=\"node\">\n",
       "<title>4774992784</title>\n",
       "<polygon fill=\"lightgrey\" stroke=\"black\" points=\"313.29,-300 219.36,-300 219.36,-280 313.29,-280 313.29,-300\"/>\n",
       "<text text-anchor=\"middle\" x=\"266.32\" y=\"-286.4\" font-family=\"Times,serif\" font-size=\"12.00\">SelectBackward</text>\n",
       "</g>\n",
       "<!-- 4774993104&#45;&gt;4774992784 -->\n",
       "<g id=\"edge14\" class=\"edge\">\n",
       "<title>4774993104&#45;&gt;4774992784</title>\n",
       "<path fill=\"none\" stroke=\"black\" d=\"M235.53,-391.87C238.97,-381.75 243.54,-368.11 247.32,-356 252.15,-340.57 257.27,-322.96 260.98,-309.97\"/>\n",
       "<polygon fill=\"black\" stroke=\"black\" points=\"264.37,-310.87 263.73,-300.29 257.63,-308.96 264.37,-310.87\"/>\n",
       "</g>\n",
       "<!-- 4774992784&#45;&gt;4774992592 -->\n",
       "<g id=\"edge13\" class=\"edge\">\n",
       "<title>4774992784&#45;&gt;4774992592</title>\n",
       "<path fill=\"none\" stroke=\"black\" d=\"M256.92,-279.59C249.17,-271.85 238.01,-260.69 228.79,-251.47\"/>\n",
       "<polygon fill=\"black\" stroke=\"black\" points=\"231.17,-248.89 221.62,-244.3 226.22,-253.84 231.17,-248.89\"/>\n",
       "</g>\n",
       "</g>\n",
       "</svg>\n"
      ],
      "text/plain": [
       "<graphviz.dot.Digraph at 0x11c9c9890>"
      ]
     },
     "execution_count": 14,
     "metadata": {},
     "output_type": "execute_result"
    }
   ],
   "source": [
    "make_dot(L, {'W':W, 'b':b, 'α':α})"
   ]
  },
  {
   "cell_type": "markdown",
   "metadata": {},
   "source": [
    "Now $L$ depends both on what $W$ and $b$ are and on what $\\alpha$ is. In other words, both of these sets of coefficients are parameters of the model that we can tweak and optimize. $W$ and $b$ determine what kinds of \"new predictors\" we get out $x$, while $\\alpha$ puts those new features together into the final prediction. What's amazing is that we can fit all of these parameters simultaneously using gradient descent: just update both sets of parameters using the negative gradient at each step. Note that this model has $h\\times (p+1) + h+1$ total parameters (the values of $W_{ij}$, $b_j$, and $\\alpha_j$) to be fit, whereas our original linear model only had $p+1$ parameters.  \n",
    "\n",
    "Furthermore, this poses no problem for pytorch:"
   ]
  },
  {
   "cell_type": "code",
   "execution_count": 15,
   "metadata": {},
   "outputs": [],
   "source": [
    "L.backward()"
   ]
  },
  {
   "cell_type": "code",
   "execution_count": 16,
   "metadata": {},
   "outputs": [
    {
     "data": {
      "text/plain": [
       "tensor([[ -6.4595],\n",
       "        [-16.7796],\n",
       "        [-15.1167],\n",
       "        [ -7.9075],\n",
       "        [  2.7765],\n",
       "        [-15.6188],\n",
       "        [-20.2843],\n",
       "        [  4.3777],\n",
       "        [-11.5368],\n",
       "        [  4.3241],\n",
       "        [-14.3780]])"
      ]
     },
     "execution_count": 16,
     "metadata": {},
     "output_type": "execute_result"
    }
   ],
   "source": [
    "α.grad"
   ]
  },
  {
   "cell_type": "code",
   "execution_count": 17,
   "metadata": {},
   "outputs": [
    {
     "data": {
      "text/plain": [
       "tensor([[ 5.1586,  3.4025, -4.2722, -0.2403,  0.3381,  4.2296, -0.4710,  4.3947,\n",
       "         -0.2808,  1.8277],\n",
       "        [-0.4474, -1.0875, -0.0434, -0.0232, -0.0903, -1.4003, -0.1300, -0.8659,\n",
       "          0.5523, -0.5326],\n",
       "        [ 9.8471,  9.7235, -7.9455, -0.3419,  0.7284, 10.8695, -1.0256, 10.4540,\n",
       "         -4.5601,  5.0058],\n",
       "        [-9.0001, -6.7283,  9.8864,  0.1835, -0.5037, -7.8525,  0.4590, -7.5906,\n",
       "          1.9053, -4.3163],\n",
       "        [-3.4535, -4.5699,  4.6391,  0.2171, -0.3337, -3.6184,  0.5009, -4.5248,\n",
       "          1.9277, -1.9886]])"
      ]
     },
     "execution_count": 17,
     "metadata": {},
     "output_type": "execute_result"
    }
   ],
   "source": [
    "W.grad"
   ]
  },
  {
   "cell_type": "code",
   "execution_count": 18,
   "metadata": {},
   "outputs": [
    {
     "data": {
      "text/plain": [
       "tensor([[10.0408,  6.4187, -6.2048,  0.2272,  0.5346,  9.7377, -0.2559, 10.1649,\n",
       "          0.6104,  3.4241]])"
      ]
     },
     "execution_count": 18,
     "metadata": {},
     "output_type": "execute_result"
    }
   ],
   "source": [
    "b.grad"
   ]
  },
  {
   "cell_type": "markdown",
   "metadata": {},
   "source": [
    "### Looping"
   ]
  },
  {
   "cell_type": "markdown",
   "metadata": {},
   "source": [
    "As before, now that we have gone through this once, we can put it all together into a loop:"
   ]
  },
  {
   "cell_type": "code",
   "execution_count": 19,
   "metadata": {},
   "outputs": [],
   "source": [
    "p = 5 \n",
    "n = 100\n",
    "\n",
    "x = torch.randn(n, p) # predictors (n observations, p features)\n",
    "y = torch.randn(n, 1) # outcomes (n observations)"
   ]
  },
  {
   "cell_type": "code",
   "execution_count": 20,
   "metadata": {},
   "outputs": [],
   "source": [
    "h = 10\n",
    "W = torch.randn(5, h).requires_grad_()\n",
    "b = torch.randn(1, h).requires_grad_()\n",
    "α = torch.randn(h+1, 1).requires_grad_()\n",
    "loss_record = []\n",
    "\n",
    "for e in range(500):\n",
    "    z = g(torch.matmul(x,W)+b)\n",
    "    ŷ = torch.matmul(z,α[1:]) + α[0]\n",
    "    L = torch.sum((y-ŷ)**2)/n\n",
    "    \n",
    "    L.backward() # compute gradients (in this case δL/δα, δL/δW)\n",
    "    loss_record.append(L.item())\n",
    "    \n",
    "    with torch.no_grad(): # take the gradient descent step \n",
    "        α -= 10e-3 * α.grad\n",
    "        α.grad.zero_()\n",
    "        W -= 10e-3 * W.grad\n",
    "        W.grad.zero_()\n",
    "        b -= 10e-3 * b.grad\n",
    "        b.grad.zero_()"
   ]
  },
  {
   "cell_type": "code",
   "execution_count": 21,
   "metadata": {},
   "outputs": [
    {
     "data": {
      "application/vnd.vegalite.v3+json": {
       "$schema": "https://vega.github.io/schema/vega-lite/v3.4.0.json",
       "config": {
        "mark": {
         "tooltip": null
        },
        "view": {
         "height": 300,
         "width": 400
        }
       },
       "data": {
        "name": "data-49a3cb1855fce6d171accde87851ed76"
       },
       "datasets": {
        "data-49a3cb1855fce6d171accde87851ed76": [
         {
          "i": 0,
          "loss": 26.08588218688965
         },
         {
          "i": 1,
          "loss": 17.13335609436035
         },
         {
          "i": 2,
          "loss": 12.652636528015137
         },
         {
          "i": 3,
          "loss": 10.040170669555664
         },
         {
          "i": 4,
          "loss": 8.352633476257324
         },
         {
          "i": 5,
          "loss": 7.171511173248291
         },
         {
          "i": 6,
          "loss": 6.30348014831543
         },
         {
          "i": 7,
          "loss": 5.6479878425598145
         },
         {
          "i": 8,
          "loss": 5.115203857421875
         },
         {
          "i": 9,
          "loss": 4.681359767913818
         },
         {
          "i": 10,
          "loss": 4.321516036987305
         },
         {
          "i": 11,
          "loss": 4.018794059753418
         },
         {
          "i": 12,
          "loss": 3.760430335998535
         },
         {
          "i": 13,
          "loss": 3.5372116565704346
         },
         {
          "i": 14,
          "loss": 3.3435471057891846
         },
         {
          "i": 15,
          "loss": 3.174060106277466
         },
         {
          "i": 16,
          "loss": 3.0248055458068848
         },
         {
          "i": 17,
          "loss": 2.89296817779541
         },
         {
          "i": 18,
          "loss": 2.7754149436950684
         },
         {
          "i": 19,
          "loss": 2.669659376144409
         },
         {
          "i": 20,
          "loss": 2.5736420154571533
         },
         {
          "i": 21,
          "loss": 2.486894130706787
         },
         {
          "i": 22,
          "loss": 2.408221483230591
         },
         {
          "i": 23,
          "loss": 2.3366243839263916
         },
         {
          "i": 24,
          "loss": 2.2712349891662598
         },
         {
          "i": 25,
          "loss": 2.2113327980041504
         },
         {
          "i": 26,
          "loss": 2.1563189029693604
         },
         {
          "i": 27,
          "loss": 2.1056344509124756
         },
         {
          "i": 28,
          "loss": 2.05881929397583
         },
         {
          "i": 29,
          "loss": 2.015472888946533
         },
         {
          "i": 30,
          "loss": 1.9752463102340698
         },
         {
          "i": 31,
          "loss": 1.9378340244293213
         },
         {
          "i": 32,
          "loss": 1.9029673337936401
         },
         {
          "i": 33,
          "loss": 1.8704098463058472
         },
         {
          "i": 34,
          "loss": 1.839951992034912
         },
         {
          "i": 35,
          "loss": 1.811407446861267
         },
         {
          "i": 36,
          "loss": 1.7846100330352783
         },
         {
          "i": 37,
          "loss": 1.7594115734100342
         },
         {
          "i": 38,
          "loss": 1.7356799840927124
         },
         {
          "i": 39,
          "loss": 1.7132959365844727
         },
         {
          "i": 40,
          "loss": 1.6921513080596924
         },
         {
          "i": 41,
          "loss": 1.6721502542495728
         },
         {
          "i": 42,
          "loss": 1.6532052755355835
         },
         {
          "i": 43,
          "loss": 1.6352365016937256
         },
         {
          "i": 44,
          "loss": 1.6181724071502686
         },
         {
          "i": 45,
          "loss": 1.6019564867019653
         },
         {
          "i": 46,
          "loss": 1.586543083190918
         },
         {
          "i": 47,
          "loss": 1.5718481540679932
         },
         {
          "i": 48,
          "loss": 1.5578269958496094
         },
         {
          "i": 49,
          "loss": 1.544429063796997
         },
         {
          "i": 50,
          "loss": 1.531613826751709
         },
         {
          "i": 51,
          "loss": 1.519343376159668
         },
         {
          "i": 52,
          "loss": 1.5075829029083252
         },
         {
          "i": 53,
          "loss": 1.496300458908081
         },
         {
          "i": 54,
          "loss": 1.4854665994644165
         },
         {
          "i": 55,
          "loss": 1.4750536680221558
         },
         {
          "i": 56,
          "loss": 1.4650368690490723
         },
         {
          "i": 57,
          "loss": 1.4553923606872559
         },
         {
          "i": 58,
          "loss": 1.4460986852645874
         },
         {
          "i": 59,
          "loss": 1.4371355772018433
         },
         {
          "i": 60,
          "loss": 1.4284842014312744
         },
         {
          "i": 61,
          "loss": 1.420111060142517
         },
         {
          "i": 62,
          "loss": 1.4119899272918701
         },
         {
          "i": 63,
          "loss": 1.4041340351104736
         },
         {
          "i": 64,
          "loss": 1.3965307474136353
         },
         {
          "i": 65,
          "loss": 1.389165997505188
         },
         {
          "i": 66,
          "loss": 1.3820167779922485
         },
         {
          "i": 67,
          "loss": 1.3750821352005005
         },
         {
          "i": 68,
          "loss": 1.3683513402938843
         },
         {
          "i": 69,
          "loss": 1.361814022064209
         },
         {
          "i": 70,
          "loss": 1.355460524559021
         },
         {
          "i": 71,
          "loss": 1.3492823839187622
         },
         {
          "i": 72,
          "loss": 1.3432704210281372
         },
         {
          "i": 73,
          "loss": 1.3374141454696655
         },
         {
          "i": 74,
          "loss": 1.3317009210586548
         },
         {
          "i": 75,
          "loss": 1.3261287212371826
         },
         {
          "i": 76,
          "loss": 1.3206690549850464
         },
         {
          "i": 77,
          "loss": 1.3153409957885742
         },
         {
          "i": 78,
          "loss": 1.3101381063461304
         },
         {
          "i": 79,
          "loss": 1.3050544261932373
         },
         {
          "i": 80,
          "loss": 1.300085425376892
         },
         {
          "i": 81,
          "loss": 1.2952263355255127
         },
         {
          "i": 82,
          "loss": 1.2904717922210693
         },
         {
          "i": 83,
          "loss": 1.285818338394165
         },
         {
          "i": 84,
          "loss": 1.2812613248825073
         },
         {
          "i": 85,
          "loss": 1.2768000364303589
         },
         {
          "i": 86,
          "loss": 1.2724392414093018
         },
         {
          "i": 87,
          "loss": 1.2681647539138794
         },
         {
          "i": 88,
          "loss": 1.2639727592468262
         },
         {
          "i": 89,
          "loss": 1.2598599195480347
         },
         {
          "i": 90,
          "loss": 1.2558238506317139
         },
         {
          "i": 91,
          "loss": 1.2518612146377563
         },
         {
          "i": 92,
          "loss": 1.247969627380371
         },
         {
          "i": 93,
          "loss": 1.2441459894180298
         },
         {
          "i": 94,
          "loss": 1.240389108657837
         },
         {
          "i": 95,
          "loss": 1.2367006540298462
         },
         {
          "i": 96,
          "loss": 1.2330734729766846
         },
         {
          "i": 97,
          "loss": 1.2295058965682983
         },
         {
          "i": 98,
          "loss": 1.2259958982467651
         },
         {
          "i": 99,
          "loss": 1.2225453853607178
         },
         {
          "i": 100,
          "loss": 1.2191481590270996
         },
         {
          "i": 101,
          "loss": 1.2158032655715942
         },
         {
          "i": 102,
          "loss": 1.2125085592269897
         },
         {
          "i": 103,
          "loss": 1.209262490272522
         },
         {
          "i": 104,
          "loss": 1.2060637474060059
         },
         {
          "i": 105,
          "loss": 1.2029112577438354
         },
         {
          "i": 106,
          "loss": 1.1998027563095093
         },
         {
          "i": 107,
          "loss": 1.1967376470565796
         },
         {
          "i": 108,
          "loss": 1.1937146186828613
         },
         {
          "i": 109,
          "loss": 1.190732717514038
         },
         {
          "i": 110,
          "loss": 1.187790036201477
         },
         {
          "i": 111,
          "loss": 1.18488609790802
         },
         {
          "i": 112,
          "loss": 1.1820197105407715
         },
         {
          "i": 113,
          "loss": 1.179192066192627
         },
         {
          "i": 114,
          "loss": 1.1764037609100342
         },
         {
          "i": 115,
          "loss": 1.1736489534378052
         },
         {
          "i": 116,
          "loss": 1.1709294319152832
         },
         {
          "i": 117,
          "loss": 1.1682411432266235
         },
         {
          "i": 118,
          "loss": 1.165583848953247
         },
         {
          "i": 119,
          "loss": 1.1629576683044434
         },
         {
          "i": 120,
          "loss": 1.1603611707687378
         },
         {
          "i": 121,
          "loss": 1.1577965021133423
         },
         {
          "i": 122,
          "loss": 1.1552597284317017
         },
         {
          "i": 123,
          "loss": 1.1527501344680786
         },
         {
          "i": 124,
          "loss": 1.1502680778503418
         },
         {
          "i": 125,
          "loss": 1.1478110551834106
         },
         {
          "i": 126,
          "loss": 1.1453722715377808
         },
         {
          "i": 127,
          "loss": 1.1429579257965088
         },
         {
          "i": 128,
          "loss": 1.140569806098938
         },
         {
          "i": 129,
          "loss": 1.13821280002594
         },
         {
          "i": 130,
          "loss": 1.1358823776245117
         },
         {
          "i": 131,
          "loss": 1.1335763931274414
         },
         {
          "i": 132,
          "loss": 1.1312965154647827
         },
         {
          "i": 133,
          "loss": 1.1290355920791626
         },
         {
          "i": 134,
          "loss": 1.1267989873886108
         },
         {
          "i": 135,
          "loss": 1.1245853900909424
         },
         {
          "i": 136,
          "loss": 1.1223902702331543
         },
         {
          "i": 137,
          "loss": 1.1202201843261719
         },
         {
          "i": 138,
          "loss": 1.1180678606033325
         },
         {
          "i": 139,
          "loss": 1.1159366369247437
         },
         {
          "i": 140,
          "loss": 1.1138273477554321
         },
         {
          "i": 141,
          "loss": 1.1117342710494995
         },
         {
          "i": 142,
          "loss": 1.1096656322479248
         },
         {
          "i": 143,
          "loss": 1.107610821723938
         },
         {
          "i": 144,
          "loss": 1.1055762767791748
         },
         {
          "i": 145,
          "loss": 1.1035443544387817
         },
         {
          "i": 146,
          "loss": 1.1015321016311646
         },
         {
          "i": 147,
          "loss": 1.0995380878448486
         },
         {
          "i": 148,
          "loss": 1.0975613594055176
         },
         {
          "i": 149,
          "loss": 1.0956039428710938
         },
         {
          "i": 150,
          "loss": 1.093662142753601
         },
         {
          "i": 151,
          "loss": 1.091739535331726
         },
         {
          "i": 152,
          "loss": 1.0898319482803345
         },
         {
          "i": 153,
          "loss": 1.0879428386688232
         },
         {
          "i": 154,
          "loss": 1.0860685110092163
         },
         {
          "i": 155,
          "loss": 1.0842071771621704
         },
         {
          "i": 156,
          "loss": 1.082338809967041
         },
         {
          "i": 157,
          "loss": 1.0804545879364014
         },
         {
          "i": 158,
          "loss": 1.0785863399505615
         },
         {
          "i": 159,
          "loss": 1.0767364501953125
         },
         {
          "i": 160,
          "loss": 1.074903130531311
         },
         {
          "i": 161,
          "loss": 1.073083519935608
         },
         {
          "i": 162,
          "loss": 1.0712813138961792
         },
         {
          "i": 163,
          "loss": 1.0694948434829712
         },
         {
          "i": 164,
          "loss": 1.0677210092544556
         },
         {
          "i": 165,
          "loss": 1.065963625907898
         },
         {
          "i": 166,
          "loss": 1.0642218589782715
         },
         {
          "i": 167,
          "loss": 1.062491774559021
         },
         {
          "i": 168,
          "loss": 1.0607781410217285
         },
         {
          "i": 169,
          "loss": 1.059078335762024
         },
         {
          "i": 170,
          "loss": 1.057390570640564
         },
         {
          "i": 171,
          "loss": 1.0557291507720947
         },
         {
          "i": 172,
          "loss": 1.054093360900879
         },
         {
          "i": 173,
          "loss": 1.0524696111679077
         },
         {
          "i": 174,
          "loss": 1.0508639812469482
         },
         {
          "i": 175,
          "loss": 1.0492669343948364
         },
         {
          "i": 176,
          "loss": 1.0476844310760498
         },
         {
          "i": 177,
          "loss": 1.0461163520812988
         },
         {
          "i": 178,
          "loss": 1.0445579290390015
         },
         {
          "i": 179,
          "loss": 1.043015480041504
         },
         {
          "i": 180,
          "loss": 1.0414830446243286
         },
         {
          "i": 181,
          "loss": 1.0399627685546875
         },
         {
          "i": 182,
          "loss": 1.0384565591812134
         },
         {
          "i": 183,
          "loss": 1.0369552373886108
         },
         {
          "i": 184,
          "loss": 1.035468339920044
         },
         {
          "i": 185,
          "loss": 1.033994197845459
         },
         {
          "i": 186,
          "loss": 1.0325313806533813
         },
         {
          "i": 187,
          "loss": 1.031083345413208
         },
         {
          "i": 188,
          "loss": 1.02964448928833
         },
         {
          "i": 189,
          "loss": 1.0282166004180908
         },
         {
          "i": 190,
          "loss": 1.0268032550811768
         },
         {
          "i": 191,
          "loss": 1.0253970623016357
         },
         {
          "i": 192,
          "loss": 1.0240038633346558
         },
         {
          "i": 193,
          "loss": 1.0226216316223145
         },
         {
          "i": 194,
          "loss": 1.0212481021881104
         },
         {
          "i": 195,
          "loss": 1.019888997077942
         },
         {
          "i": 196,
          "loss": 1.0185407400131226
         },
         {
          "i": 197,
          "loss": 1.0172041654586792
         },
         {
          "i": 198,
          "loss": 1.0158787965774536
         },
         {
          "i": 199,
          "loss": 1.0145604610443115
         },
         {
          "i": 200,
          "loss": 1.013256311416626
         },
         {
          "i": 201,
          "loss": 1.0119582414627075
         },
         {
          "i": 202,
          "loss": 1.0106717348098755
         },
         {
          "i": 203,
          "loss": 1.009394884109497
         },
         {
          "i": 204,
          "loss": 1.0081255435943604
         },
         {
          "i": 205,
          "loss": 1.0068690776824951
         },
         {
          "i": 206,
          "loss": 1.0056178569793701
         },
         {
          "i": 207,
          "loss": 1.0043796300888062
         },
         {
          "i": 208,
          "loss": 1.003147840499878
         },
         {
          "i": 209,
          "loss": 1.0019259452819824
         },
         {
          "i": 210,
          "loss": 1.0007134675979614
         },
         {
          "i": 211,
          "loss": 0.9995079040527344
         },
         {
          "i": 212,
          "loss": 0.9983142018318176
         },
         {
          "i": 213,
          "loss": 0.9971251487731934
         },
         {
          "i": 214,
          "loss": 0.9959489703178406
         },
         {
          "i": 215,
          "loss": 0.9947771430015564
         },
         {
          "i": 216,
          "loss": 0.9936164617538452
         },
         {
          "i": 217,
          "loss": 0.9924624562263489
         },
         {
          "i": 218,
          "loss": 0.9913166761398315
         },
         {
          "i": 219,
          "loss": 0.9901769161224365
         },
         {
          "i": 220,
          "loss": 0.9890437126159668
         },
         {
          "i": 221,
          "loss": 0.9879205226898193
         },
         {
          "i": 222,
          "loss": 0.9868020415306091
         },
         {
          "i": 223,
          "loss": 0.9856951832771301
         },
         {
          "i": 224,
          "loss": 0.9845916032791138
         },
         {
          "i": 225,
          "loss": 0.9834998250007629
         },
         {
          "i": 226,
          "loss": 0.9824115633964539
         },
         {
          "i": 227,
          "loss": 0.9813339114189148
         },
         {
          "i": 228,
          "loss": 0.9802611470222473
         },
         {
          "i": 229,
          "loss": 0.9791973233222961
         },
         {
          "i": 230,
          "loss": 0.9781391620635986
         },
         {
          "i": 231,
          "loss": 0.9770886898040771
         },
         {
          "i": 232,
          "loss": 0.9760451316833496
         },
         {
          "i": 233,
          "loss": 0.9750080704689026
         },
         {
          "i": 234,
          "loss": 0.9739786386489868
         },
         {
          "i": 235,
          "loss": 0.9729548096656799
         },
         {
          "i": 236,
          "loss": 0.9719390869140625
         },
         {
          "i": 237,
          "loss": 0.9709283709526062
         },
         {
          "i": 238,
          "loss": 0.9699268341064453
         },
         {
          "i": 239,
          "loss": 0.9689289331436157
         },
         {
          "i": 240,
          "loss": 0.9679407477378845
         },
         {
          "i": 241,
          "loss": 0.9669554829597473
         },
         {
          "i": 242,
          "loss": 0.9659804701805115
         },
         {
          "i": 243,
          "loss": 0.965007483959198
         },
         {
          "i": 244,
          "loss": 0.9640451073646545
         },
         {
          "i": 245,
          "loss": 0.9630843997001648
         },
         {
          "i": 246,
          "loss": 0.9621343016624451
         },
         {
          "i": 247,
          "loss": 0.9611859917640686
         },
         {
          "i": 248,
          "loss": 0.9602477550506592
         },
         {
          "i": 249,
          "loss": 0.9593114256858826
         },
         {
          "i": 250,
          "loss": 0.9583847522735596
         },
         {
          "i": 251,
          "loss": 0.9574601650238037
         },
         {
          "i": 252,
          "loss": 0.9565450549125671
         },
         {
          "i": 253,
          "loss": 0.9556220173835754
         },
         {
          "i": 254,
          "loss": 0.9546690583229065
         },
         {
          "i": 255,
          "loss": 0.9537187814712524
         },
         {
          "i": 256,
          "loss": 0.9527772665023804
         },
         {
          "i": 257,
          "loss": 0.9518386721611023
         },
         {
          "i": 258,
          "loss": 0.9509086012840271
         },
         {
          "i": 259,
          "loss": 0.9499815106391907
         },
         {
          "i": 260,
          "loss": 0.9490644931793213
         },
         {
          "i": 261,
          "loss": 0.9481557607650757
         },
         {
          "i": 262,
          "loss": 0.9472547769546509
         },
         {
          "i": 263,
          "loss": 0.9463574290275574
         },
         {
          "i": 264,
          "loss": 0.9454673528671265
         },
         {
          "i": 265,
          "loss": 0.9445808529853821
         },
         {
          "i": 266,
          "loss": 0.9437013864517212
         },
         {
          "i": 267,
          "loss": 0.9428253173828125
         },
         {
          "i": 268,
          "loss": 0.9419564604759216
         },
         {
          "i": 269,
          "loss": 0.941091001033783
         },
         {
          "i": 270,
          "loss": 0.9402323961257935
         },
         {
          "i": 271,
          "loss": 0.9393771886825562
         },
         {
          "i": 272,
          "loss": 0.938528835773468
         },
         {
          "i": 273,
          "loss": 0.9376838207244873
         },
         {
          "i": 274,
          "loss": 0.936845064163208
         },
         {
          "i": 275,
          "loss": 0.9360100030899048
         },
         {
          "i": 276,
          "loss": 0.9351811408996582
         },
         {
          "i": 277,
          "loss": 0.9343557953834534
         },
         {
          "i": 278,
          "loss": 0.9335367679595947
         },
         {
          "i": 279,
          "loss": 0.9327210187911987
         },
         {
          "i": 280,
          "loss": 0.9319114685058594
         },
         {
          "i": 281,
          "loss": 0.9311049580574036
         },
         {
          "i": 282,
          "loss": 0.9303048849105835
         },
         {
          "i": 283,
          "loss": 0.9295076727867126
         },
         {
          "i": 284,
          "loss": 0.9287168383598328
         },
         {
          "i": 285,
          "loss": 0.9279284477233887
         },
         {
          "i": 286,
          "loss": 0.9271467328071594
         },
         {
          "i": 287,
          "loss": 0.9263676404953003
         },
         {
          "i": 288,
          "loss": 0.925594687461853
         },
         {
          "i": 289,
          "loss": 0.9248239994049072
         },
         {
          "i": 290,
          "loss": 0.9240599870681763
         },
         {
          "i": 291,
          "loss": 0.9232978820800781
         },
         {
          "i": 292,
          "loss": 0.9225608706474304
         },
         {
          "i": 293,
          "loss": 0.921843945980072
         },
         {
          "i": 294,
          "loss": 0.9211330413818359
         },
         {
          "i": 295,
          "loss": 0.9204199314117432
         },
         {
          "i": 296,
          "loss": 0.9197136759757996
         },
         {
          "i": 297,
          "loss": 0.9190085530281067
         },
         {
          "i": 298,
          "loss": 0.9183107018470764
         },
         {
          "i": 299,
          "loss": 0.9176137447357178
         },
         {
          "i": 300,
          "loss": 0.916924238204956
         },
         {
          "i": 301,
          "loss": 0.9162353277206421
         },
         {
          "i": 302,
          "loss": 0.9155538082122803
         },
         {
          "i": 303,
          "loss": 0.9148725867271423
         },
         {
          "i": 304,
          "loss": 0.9141992330551147
         },
         {
          "i": 305,
          "loss": 0.9135257601737976
         },
         {
          "i": 306,
          "loss": 0.9128601551055908
         },
         {
          "i": 307,
          "loss": 0.9121944308280945
         },
         {
          "i": 308,
          "loss": 0.9115360975265503
         },
         {
          "i": 309,
          "loss": 0.9108783602714539
         },
         {
          "i": 310,
          "loss": 0.9102271199226379
         },
         {
          "i": 311,
          "loss": 0.9095771312713623
         },
         {
          "i": 312,
          "loss": 0.9089331030845642
         },
         {
          "i": 313,
          "loss": 0.9082903265953064
         },
         {
          "i": 314,
          "loss": 0.9076533317565918
         },
         {
          "i": 315,
          "loss": 0.9070180654525757
         },
         {
          "i": 316,
          "loss": 0.9063878655433655
         },
         {
          "i": 317,
          "loss": 0.905759871006012
         },
         {
          "i": 318,
          "loss": 0.9051364064216614
         },
         {
          "i": 319,
          "loss": 0.9045155048370361
         },
         {
          "i": 320,
          "loss": 0.9038987159729004
         },
         {
          "i": 321,
          "loss": 0.9032849669456482
         },
         {
          "i": 322,
          "loss": 0.9026744961738586
         },
         {
          "i": 323,
          "loss": 0.9020675420761108
         },
         {
          "i": 324,
          "loss": 0.9014633893966675
         },
         {
          "i": 325,
          "loss": 0.9008634686470032
         },
         {
          "i": 326,
          "loss": 0.9002657532691956
         },
         {
          "i": 327,
          "loss": 0.8996728658676147
         },
         {
          "i": 328,
          "loss": 0.8990944027900696
         },
         {
          "i": 329,
          "loss": 0.8985212445259094
         },
         {
          "i": 330,
          "loss": 0.8979489803314209
         },
         {
          "i": 331,
          "loss": 0.897382378578186
         },
         {
          "i": 332,
          "loss": 0.8968158960342407
         },
         {
          "i": 333,
          "loss": 0.8962557315826416
         },
         {
          "i": 334,
          "loss": 0.8956952691078186
         },
         {
          "i": 335,
          "loss": 0.8951411247253418
         },
         {
          "i": 336,
          "loss": 0.8945865035057068
         },
         {
          "i": 337,
          "loss": 0.8940384387969971
         },
         {
          "i": 338,
          "loss": 0.8934898376464844
         },
         {
          "i": 339,
          "loss": 0.8929480910301208
         },
         {
          "i": 340,
          "loss": 0.8924161791801453
         },
         {
          "i": 341,
          "loss": 0.8918899297714233
         },
         {
          "i": 342,
          "loss": 0.8913642168045044
         },
         {
          "i": 343,
          "loss": 0.8908436298370361
         },
         {
          "i": 344,
          "loss": 0.8903519511222839
         },
         {
          "i": 345,
          "loss": 0.8898673057556152
         },
         {
          "i": 346,
          "loss": 0.8893881440162659
         },
         {
          "i": 347,
          "loss": 0.8889132738113403
         },
         {
          "i": 348,
          "loss": 0.8884396553039551
         },
         {
          "i": 349,
          "loss": 0.887969970703125
         },
         {
          "i": 350,
          "loss": 0.88750159740448
         },
         {
          "i": 351,
          "loss": 0.8870369791984558
         },
         {
          "i": 352,
          "loss": 0.886577308177948
         },
         {
          "i": 353,
          "loss": 0.8861290216445923
         },
         {
          "i": 354,
          "loss": 0.885683536529541
         },
         {
          "i": 355,
          "loss": 0.8852405548095703
         },
         {
          "i": 356,
          "loss": 0.8848216533660889
         },
         {
          "i": 357,
          "loss": 0.884399950504303
         },
         {
          "i": 358,
          "loss": 0.8839917182922363
         },
         {
          "i": 359,
          "loss": 0.8835801482200623
         },
         {
          "i": 360,
          "loss": 0.8831652998924255
         },
         {
          "i": 361,
          "loss": 0.8827626705169678
         },
         {
          "i": 362,
          "loss": 0.8823587894439697
         },
         {
          "i": 363,
          "loss": 0.8819511532783508
         },
         {
          "i": 364,
          "loss": 0.8815558552742004
         },
         {
          "i": 365,
          "loss": 0.8811591863632202
         },
         {
          "i": 366,
          "loss": 0.8807580471038818
         },
         {
          "i": 367,
          "loss": 0.8803674578666687
         },
         {
          "i": 368,
          "loss": 0.8799785375595093
         },
         {
          "i": 369,
          "loss": 0.879584789276123
         },
         {
          "i": 370,
          "loss": 0.8791998028755188
         },
         {
          "i": 371,
          "loss": 0.8788184523582458
         },
         {
          "i": 372,
          "loss": 0.8784304261207581
         },
         {
          "i": 373,
          "loss": 0.8780498504638672
         },
         {
          "i": 374,
          "loss": 0.8776764869689941
         },
         {
          "i": 375,
          "loss": 0.8772953748703003
         },
         {
          "i": 376,
          "loss": 0.876919686794281
         },
         {
          "i": 377,
          "loss": 0.8765532970428467
         },
         {
          "i": 378,
          "loss": 0.8761773109436035
         },
         {
          "i": 379,
          "loss": 0.8758057951927185
         },
         {
          "i": 380,
          "loss": 0.8754482865333557
         },
         {
          "i": 381,
          "loss": 0.8750782608985901
         },
         {
          "i": 382,
          "loss": 0.8747109174728394
         },
         {
          "i": 383,
          "loss": 0.874359667301178
         },
         {
          "i": 384,
          "loss": 0.8739951848983765
         },
         {
          "i": 385,
          "loss": 0.8736335635185242
         },
         {
          "i": 386,
          "loss": 0.873288094997406
         },
         {
          "i": 387,
          "loss": 0.8729303479194641
         },
         {
          "i": 388,
          "loss": 0.8725732564926147
         },
         {
          "i": 389,
          "loss": 0.8722308278083801
         },
         {
          "i": 390,
          "loss": 0.8718813061714172
         },
         {
          "i": 391,
          "loss": 0.8715300559997559
         },
         {
          "i": 392,
          "loss": 0.8711910247802734
         },
         {
          "i": 393,
          "loss": 0.8708564639091492
         },
         {
          "i": 394,
          "loss": 0.870532214641571
         },
         {
          "i": 395,
          "loss": 0.8702178001403809
         },
         {
          "i": 396,
          "loss": 0.869905948638916
         },
         {
          "i": 397,
          "loss": 0.869586169719696
         },
         {
          "i": 398,
          "loss": 0.8692787885665894
         },
         {
          "i": 399,
          "loss": 0.8689864277839661
         },
         {
          "i": 400,
          "loss": 0.8686844110488892
         },
         {
          "i": 401,
          "loss": 0.868389368057251
         },
         {
          "i": 402,
          "loss": 0.8681039214134216
         },
         {
          "i": 403,
          "loss": 0.8678070902824402
         },
         {
          "i": 404,
          "loss": 0.8675141930580139
         },
         {
          "i": 405,
          "loss": 0.8672361969947815
         },
         {
          "i": 406,
          "loss": 0.8669441938400269
         },
         {
          "i": 407,
          "loss": 0.8666558861732483
         },
         {
          "i": 408,
          "loss": 0.8663796782493591
         },
         {
          "i": 409,
          "loss": 0.866095781326294
         },
         {
          "i": 410,
          "loss": 0.865811824798584
         },
         {
          "i": 411,
          "loss": 0.8655363321304321
         },
         {
          "i": 412,
          "loss": 0.8652608394622803
         },
         {
          "i": 413,
          "loss": 0.8649812936782837
         },
         {
          "i": 414,
          "loss": 0.8647065758705139
         },
         {
          "i": 415,
          "loss": 0.8644393682479858
         },
         {
          "i": 416,
          "loss": 0.8641639947891235
         },
         {
          "i": 417,
          "loss": 0.8638894557952881
         },
         {
          "i": 418,
          "loss": 0.8636308312416077
         },
         {
          "i": 419,
          "loss": 0.8633596897125244
         },
         {
          "i": 420,
          "loss": 0.8630886077880859
         },
         {
          "i": 421,
          "loss": 0.8628316521644592
         },
         {
          "i": 422,
          "loss": 0.8625679612159729
         },
         {
          "i": 423,
          "loss": 0.8623009324073792
         },
         {
          "i": 424,
          "loss": 0.8620433807373047
         },
         {
          "i": 425,
          "loss": 0.8617886304855347
         },
         {
          "i": 426,
          "loss": 0.8615254759788513
         },
         {
          "i": 427,
          "loss": 0.8612671494483948
         },
         {
          "i": 428,
          "loss": 0.8610209822654724
         },
         {
          "i": 429,
          "loss": 0.8607626557350159
         },
         {
          "i": 430,
          "loss": 0.8605117201805115
         },
         {
          "i": 431,
          "loss": 0.8602764010429382
         },
         {
          "i": 432,
          "loss": 0.8600295782089233
         },
         {
          "i": 433,
          "loss": 0.8597826957702637
         },
         {
          "i": 434,
          "loss": 0.8595461845397949
         },
         {
          "i": 435,
          "loss": 0.8593087196350098
         },
         {
          "i": 436,
          "loss": 0.8590657711029053
         },
         {
          "i": 437,
          "loss": 0.8588275909423828
         },
         {
          "i": 438,
          "loss": 0.8585993051528931
         },
         {
          "i": 439,
          "loss": 0.8583602905273438
         },
         {
          "i": 440,
          "loss": 0.8581225872039795
         },
         {
          "i": 441,
          "loss": 0.8578990697860718
         },
         {
          "i": 442,
          "loss": 0.857666015625
         },
         {
          "i": 443,
          "loss": 0.857431948184967
         },
         {
          "i": 444,
          "loss": 0.8572055697441101
         },
         {
          "i": 445,
          "loss": 0.8569825887680054
         },
         {
          "i": 446,
          "loss": 0.8567520380020142
         },
         {
          "i": 447,
          "loss": 0.8565227389335632
         },
         {
          "i": 448,
          "loss": 0.8563095927238464
         },
         {
          "i": 449,
          "loss": 0.8560823798179626
         },
         {
          "i": 450,
          "loss": 0.8558564782142639
         },
         {
          "i": 451,
          "loss": 0.8556402325630188
         },
         {
          "i": 452,
          "loss": 0.8554230332374573
         },
         {
          "i": 453,
          "loss": 0.8552002906799316
         },
         {
          "i": 454,
          "loss": 0.8549802899360657
         },
         {
          "i": 455,
          "loss": 0.8547734618186951
         },
         {
          "i": 456,
          "loss": 0.8545539975166321
         },
         {
          "i": 457,
          "loss": 0.8543357849121094
         },
         {
          "i": 458,
          "loss": 0.8541274070739746
         },
         {
          "i": 459,
          "loss": 0.8539173603057861
         },
         {
          "i": 460,
          "loss": 0.8537019491195679
         },
         {
          "i": 461,
          "loss": 0.853489100933075
         },
         {
          "i": 462,
          "loss": 0.8532896637916565
         },
         {
          "i": 463,
          "loss": 0.853090763092041
         },
         {
          "i": 464,
          "loss": 0.8528929352760315
         },
         {
          "i": 465,
          "loss": 0.8526961803436279
         },
         {
          "i": 466,
          "loss": 0.8525078296661377
         },
         {
          "i": 467,
          "loss": 0.8523163795471191
         },
         {
          "i": 468,
          "loss": 0.8521226644515991
         },
         {
          "i": 469,
          "loss": 0.8519297242164612
         },
         {
          "i": 470,
          "loss": 0.8517377972602844
         },
         {
          "i": 471,
          "loss": 0.8515560030937195
         },
         {
          "i": 472,
          "loss": 0.8513675928115845
         },
         {
          "i": 473,
          "loss": 0.8511784076690674
         },
         {
          "i": 474,
          "loss": 0.8509900569915771
         },
         {
          "i": 475,
          "loss": 0.8508028984069824
         },
         {
          "i": 476,
          "loss": 0.8506267070770264
         },
         {
          "i": 477,
          "loss": 0.8504417538642883
         },
         {
          "i": 478,
          "loss": 0.8502570390701294
         },
         {
          "i": 479,
          "loss": 0.8500732183456421
         },
         {
          "i": 480,
          "loss": 0.8498905301094055
         },
         {
          "i": 481,
          "loss": 0.8497188687324524
         },
         {
          "i": 482,
          "loss": 0.8495379686355591
         },
         {
          "i": 483,
          "loss": 0.8493576645851135
         },
         {
          "i": 484,
          "loss": 0.8491780757904053
         },
         {
          "i": 485,
          "loss": 0.848999559879303
         },
         {
          "i": 486,
          "loss": 0.8488317728042603
         },
         {
          "i": 487,
          "loss": 0.8486552238464355
         },
         {
          "i": 488,
          "loss": 0.8484790325164795
         },
         {
          "i": 489,
          "loss": 0.8483036160469055
         },
         {
          "i": 490,
          "loss": 0.8481289148330688
         },
         {
          "i": 491,
          "loss": 0.8479644060134888
         },
         {
          "i": 492,
          "loss": 0.8477927446365356
         },
         {
          "i": 493,
          "loss": 0.8476203083992004
         },
         {
          "i": 494,
          "loss": 0.8474486470222473
         },
         {
          "i": 495,
          "loss": 0.8472780585289001
         },
         {
          "i": 496,
          "loss": 0.8471159934997559
         },
         {
          "i": 497,
          "loss": 0.8469491600990295
         },
         {
          "i": 498,
          "loss": 0.8467805981636047
         },
         {
          "i": 499,
          "loss": 0.8466127514839172
         }
        ]
       },
       "encoding": {
        "x": {
         "field": "i",
         "type": "quantitative"
        },
        "y": {
         "field": "loss",
         "type": "quantitative"
        }
       },
       "height": 100,
       "mark": "line"
      },
      "image/png": "[encoded data removed]",
      "text/plain": [
       "<VegaLite 3 object>\n",
       "\n",
       "If you see this message, it means the renderer has not been properly enabled\n",
       "for the frontend that you are using. For more information, see\n",
       "https://altair-viz.github.io/user_guide/troubleshooting.html\n"
      ]
     },
     "execution_count": 21,
     "metadata": {},
     "output_type": "execute_result"
    }
   ],
   "source": [
    "loss_df = pd.DataFrame({'i':range(500), 'loss':loss_record})\n",
    "alt.Chart(loss_df, height=100).mark_line().encode(x='i', y='loss')"
   ]
  },
  {
   "cell_type": "markdown",
   "metadata": {},
   "source": [
    "And here are our predictions for a new $x$:"
   ]
  },
  {
   "cell_type": "code",
   "execution_count": 22,
   "metadata": {},
   "outputs": [
    {
     "data": {
      "text/plain": [
       "tensor([[-0.3466],\n",
       "        [-0.5659],\n",
       "        [-0.2962],\n",
       "        [-0.6167],\n",
       "        [-0.0182],\n",
       "        [ 0.3881],\n",
       "        [ 0.1251],\n",
       "        [ 0.1841],\n",
       "        [-0.0748],\n",
       "        [ 0.2099]], grad_fn=<AddBackward0>)"
      ]
     },
     "execution_count": 22,
     "metadata": {},
     "output_type": "execute_result"
    }
   ],
   "source": [
    "new_x = torch.randn(10, 5) # 10 new observations\n",
    "z = g(torch.matmul(new_x,W)+b)\n",
    "torch.matmul(z,α[1:])+α[0]"
   ]
  },
  {
   "cell_type": "markdown",
   "metadata": {
    "tags": [
     "popout"
    ]
   },
   "source": [
    "---\n",
    "\n",
    "**EXERCISE** \n",
    "\n",
    "Apply this strategy to our logistic regression to make a more complex **classification** model. In other words, implement the machine learning algorithm with these characteristics:\n",
    "* Model: $\\hat p_i = \\sigma(g(x_i W+b))\\alpha_{1:h} + \\alpha_0)$, with $\\sigma$, $g$, $W$, $b$, and $\\alpha$ as previously described\n",
    "* Loss: log-loss\n",
    "* Search Algorithm: gradient descent\n",
    "\n",
    "---"
   ]
  },
  {
   "cell_type": "markdown",
   "metadata": {},
   "source": [
    "### Conclusion"
   ]
  },
  {
   "cell_type": "markdown",
   "metadata": {},
   "source": [
    "We just developed a machine learning method out of these three components:\n",
    "* \"linear-relu\" $\\times$ 10 + linear model (model)\n",
    "* MSE loss (loss)\n",
    "* gradient descent (search algorithm)\n",
    "\n",
    "This is a neural network. The 10 \"new predictors\" are together a _hidden layer_ (hidden because we don't see them at the end of the day, just the output $\\hat y$) and each of them individually is called a _hidden unit_. The \"layer\" terminology comes from the graphical representation, where the successive hidden representations look like successive layers that the information passes through while being transformed from predictors to prediction:"
   ]
  },
  {
   "cell_type": "markdown",
   "metadata": {},
   "source": [
    "<img src=\"images/net-layers.png\" width=\"300\">"
   ]
  },
  {
   "cell_type": "markdown",
   "metadata": {},
   "source": [
    "So, in the language of neural networks or deep learning, what we've built is a network with input of size 5, one linear hidden layer of size 10, ReLU *activation function*, and a linear output layer of size 1."
   ]
  },
  {
   "cell_type": "markdown",
   "metadata": {},
   "source": [
    "## How does this help?"
   ]
  },
  {
   "cell_type": "markdown",
   "metadata": {},
   "source": [
    "While we could define ever-more complex interactions of parameters and data, it turns out that simply stacking linear regressions with nonlinear activation functions on top of each other (e.g. \"linear-relu\" regressions) gets us enough complexity to model practically any relationship we want. Let's have a look at an example where $y = x^2$ in reality:"
   ]
  },
  {
   "cell_type": "code",
   "execution_count": 23,
   "metadata": {},
   "outputs": [],
   "source": [
    "p = 1\n",
    "n = 100\n",
    "\n",
    "x = torch.randn(n, p) # predictors (n observations, p features)\n",
    "y = (x[:,0]**2).unsqueeze(dim=1) # outcomes (n observations)"
   ]
  },
  {
   "cell_type": "code",
   "execution_count": 24,
   "metadata": {},
   "outputs": [
    {
     "data": {
      "application/vnd.vegalite.v3+json": {
       "$schema": "https://vega.github.io/schema/vega-lite/v3.4.0.json",
       "config": {
        "mark": {
         "tooltip": null
        },
        "view": {
         "height": 300,
         "width": 400
        }
       },
       "data": {
        "name": "data-3616bf0de29d00003041749bfe17c8b8"
       },
       "datasets": {
        "data-3616bf0de29d00003041749bfe17c8b8": [
         {
          "x1": 0.9428676962852478,
          "y": 0.8889995217323303
         },
         {
          "x1": 0.4105151295661926,
          "y": 0.1685226708650589
         },
         {
          "x1": 1.0388299226760864,
          "y": 1.0791676044464111
         },
         {
          "x1": 0.6057164072990417,
          "y": 0.36689236760139465
         },
         {
          "x1": -2.7394394874572754,
          "y": 7.504528522491455
         },
         {
          "x1": 0.18451879918575287,
          "y": 0.03404718637466431
         },
         {
          "x1": 0.7027134299278259,
          "y": 0.4938061535358429
         },
         {
          "x1": 0.3015485405921936,
          "y": 0.09093151986598969
         },
         {
          "x1": 0.10713471472263336,
          "y": 0.011477846652269363
         },
         {
          "x1": 0.12167960405349731,
          "y": 0.014805926010012627
         },
         {
          "x1": -0.11067730188369751,
          "y": 0.012249465100467205
         },
         {
          "x1": -0.9489158391952515,
          "y": 0.9004412889480591
         },
         {
          "x1": -0.37673842906951904,
          "y": 0.14193184673786163
         },
         {
          "x1": 1.8113701343536377,
          "y": 3.2810616493225098
         },
         {
          "x1": 1.134777545928955,
          "y": 1.2877200841903687
         },
         {
          "x1": -1.8112503290176392,
          "y": 3.280627727508545
         },
         {
          "x1": -0.6196664571762085,
          "y": 0.38398653268814087
         },
         {
          "x1": -0.20752528309822083,
          "y": 0.04306674376130104
         },
         {
          "x1": 1.703284502029419,
          "y": 2.9011781215667725
         },
         {
          "x1": -1.139309048652649,
          "y": 1.298025131225586
         },
         {
          "x1": -2.2543230056762695,
          "y": 5.081972122192383
         },
         {
          "x1": 2.0764966011047363,
          "y": 4.311838150024414
         },
         {
          "x1": -1.6521371603012085,
          "y": 2.7295572757720947
         },
         {
          "x1": -0.5751289129257202,
          "y": 0.330773264169693
         },
         {
          "x1": -0.5024901032447815,
          "y": 0.25249630212783813
         },
         {
          "x1": -1.343695044517517,
          "y": 1.8055163621902466
         },
         {
          "x1": -0.5871181488037109,
          "y": 0.344707727432251
         },
         {
          "x1": -1.3959624767303467,
          "y": 1.9487112760543823
         },
         {
          "x1": -2.17250394821167,
          "y": 4.719773292541504
         },
         {
          "x1": 0.10373615473508835,
          "y": 0.010761190205812454
         },
         {
          "x1": 0.2682378590106964,
          "y": 0.07195154577493668
         },
         {
          "x1": 0.0015036266995593905,
          "y": 2.260893325001234e-06
         },
         {
          "x1": 0.8146382570266724,
          "y": 0.6636354923248291
         },
         {
          "x1": -1.042719841003418,
          "y": 1.0872646570205688
         },
         {
          "x1": 0.1415998786687851,
          "y": 0.020050525665283203
         },
         {
          "x1": 0.1628839075565338,
          "y": 0.026531167328357697
         },
         {
          "x1": -1.2494944334030151,
          "y": 1.5612363815307617
         },
         {
          "x1": 0.5084502100944519,
          "y": 0.2585216164588928
         },
         {
          "x1": 0.4802173972129822,
          "y": 0.2306087464094162
         },
         {
          "x1": -0.4891881048679352,
          "y": 0.23930500447750092
         },
         {
          "x1": -0.897309422492981,
          "y": 0.8051642179489136
         },
         {
          "x1": 0.2297353297472,
          "y": 0.052778322249650955
         },
         {
          "x1": -0.1653076559305191,
          "y": 0.027326621115207672
         },
         {
          "x1": -0.6914819478988647,
          "y": 0.4781472980976105
         },
         {
          "x1": -1.1393663883209229,
          "y": 1.2981557846069336
         },
         {
          "x1": -0.037990935146808624,
          "y": 0.0014433111064136028
         },
         {
          "x1": 0.2798241376876831,
          "y": 0.07830154895782471
         },
         {
          "x1": -1.0665847063064575,
          "y": 1.1376029253005981
         },
         {
          "x1": 0.44039300084114075,
          "y": 0.1939459890127182
         },
         {
          "x1": -1.0018784999847412,
          "y": 1.003760576248169
         },
         {
          "x1": -0.3486539125442505,
          "y": 0.12155955284833908
         },
         {
          "x1": 0.351340115070343,
          "y": 0.12343987822532654
         },
         {
          "x1": 0.6298627853393555,
          "y": 0.3967271149158478
         },
         {
          "x1": -0.5535277724266052,
          "y": 0.30639299750328064
         },
         {
          "x1": -1.0206056833267212,
          "y": 1.0416359901428223
         },
         {
          "x1": -0.5084967017173767,
          "y": 0.2585688829421997
         },
         {
          "x1": -0.658214807510376,
          "y": 0.4332467317581177
         },
         {
          "x1": 0.4818519055843353,
          "y": 0.23218126595020294
         },
         {
          "x1": 1.0926600694656372,
          "y": 1.1939060688018799
         },
         {
          "x1": -1.2864609956741333,
          "y": 1.6549818515777588
         },
         {
          "x1": 1.1741172075271606,
          "y": 1.3785512447357178
         },
         {
          "x1": -0.9881125688552856,
          "y": 0.9763664603233337
         },
         {
          "x1": -0.6366197466850281,
          "y": 0.40528470277786255
         },
         {
          "x1": 1.009556531906128,
          "y": 1.0192043781280518
         },
         {
          "x1": 0.7387657761573792,
          "y": 0.5457748770713806
         },
         {
          "x1": 1.1223071813583374,
          "y": 1.2595734596252441
         },
         {
          "x1": -0.682243287563324,
          "y": 0.46545588970184326
         },
         {
          "x1": -0.8056502938270569,
          "y": 0.6490724086761475
         },
         {
          "x1": 0.32741057872772217,
          "y": 0.10719768702983856
         },
         {
          "x1": 1.2398488521575928,
          "y": 1.5372251272201538
         },
         {
          "x1": -0.43356359004974365,
          "y": 0.1879773885011673
         },
         {
          "x1": -0.27180641889572144,
          "y": 0.07387872785329819
         },
         {
          "x1": -1.4543530941009521,
          "y": 2.115142822265625
         },
         {
          "x1": -0.761326014995575,
          "y": 0.5796173214912415
         },
         {
          "x1": -0.8591729998588562,
          "y": 0.7381782531738281
         },
         {
          "x1": -1.8920748233795166,
          "y": 3.5799472332000732
         },
         {
          "x1": -1.696606993675232,
          "y": 2.8784751892089844
         },
         {
          "x1": 1.017185091972351,
          "y": 1.0346654653549194
         },
         {
          "x1": 1.7721567153930664,
          "y": 3.1405394077301025
         },
         {
          "x1": -0.5902632474899292,
          "y": 0.3484106957912445
         },
         {
          "x1": -2.3360815048217773,
          "y": 5.457276821136475
         },
         {
          "x1": -0.36527273058891296,
          "y": 0.13342416286468506
         },
         {
          "x1": -0.5647988319396973,
          "y": 0.31899771094322205
         },
         {
          "x1": -0.25131353735923767,
          "y": 0.06315849721431732
         },
         {
          "x1": 2.0877339839935303,
          "y": 4.358633041381836
         },
         {
          "x1": -1.0112320184707642,
          "y": 1.022590160369873
         },
         {
          "x1": 0.05594184994697571,
          "y": 0.003129490651190281
         },
         {
          "x1": 0.4114016592502594,
          "y": 0.16925132274627686
         },
         {
          "x1": 2.1957364082336426,
          "y": 4.821258544921875
         },
         {
          "x1": -1.639082431793213,
          "y": 2.686591148376465
         },
         {
          "x1": 0.38181811571121216,
          "y": 0.14578507840633392
         },
         {
          "x1": 0.5301257371902466,
          "y": 0.28103330731391907
         },
         {
          "x1": -0.6498574614524841,
          "y": 0.42231473326683044
         },
         {
          "x1": -0.8047161102294922,
          "y": 0.6475680470466614
         },
         {
          "x1": 1.9523613452911377,
          "y": 3.8117148876190186
         },
         {
          "x1": 0.6842129826545715,
          "y": 0.4681473970413208
         },
         {
          "x1": 0.7467349171638489,
          "y": 0.5576130151748657
         },
         {
          "x1": -1.5036330223083496,
          "y": 2.2609121799468994
         },
         {
          "x1": -0.32895931601524353,
          "y": 0.10821422934532166
         },
         {
          "x1": -3.0460054874420166,
          "y": 9.278149604797363
         }
        ]
       },
       "encoding": {
        "x": {
         "field": "x1",
         "type": "quantitative"
        },
        "y": {
         "field": "y",
         "type": "quantitative"
        }
       },
       "mark": "point"
      },
      "image/png": "[encoded data removed]",
      "text/plain": [
       "<VegaLite 3 object>\n",
       "\n",
       "If you see this message, it means the renderer has not been properly enabled\n",
       "for the frontend that you are using. For more information, see\n",
       "https://altair-viz.github.io/user_guide/troubleshooting.html\n"
      ]
     },
     "execution_count": 24,
     "metadata": {},
     "output_type": "execute_result"
    }
   ],
   "source": [
    "data = pd.DataFrame({'y':y[:,0], 'x1':x[:,0]})\n",
    "alt.Chart(data).mark_point().encode(x='x1', y='y')"
   ]
  },
  {
   "cell_type": "markdown",
   "metadata": {},
   "source": [
    "If we fit a linear model, we don't do very well:"
   ]
  },
  {
   "cell_type": "code",
   "execution_count": 25,
   "metadata": {},
   "outputs": [],
   "source": [
    "loss_record = [] \n",
    "β = torch.randn(p+1,1).requires_grad_()\n",
    "b = torch.randn(1).requires_grad_()\n",
    "\n",
    "for e in range(500):\n",
    "    ŷ = torch.matmul(x, β[1:]) + β[0] # ŷ = xβ + b(calculate predictions)\n",
    "    L = torch.sum((y-ŷ)**2)/n # L = Σ(yᵢ-ŷᵢ)² (use predictions to calculate loss)\n",
    "    \n",
    "    L.backward() # compute gradients (in this case δL/δβ, δL/δW)\n",
    "    loss_record.append(L.item())\n",
    "\n",
    "    with torch.no_grad(): # take the gradient descent step \n",
    "        β -= 10e-2 * β.grad\n",
    "        β.grad.zero_()"
   ]
  },
  {
   "cell_type": "markdown",
   "metadata": {},
   "source": [
    "The loss does go down, but overall it's still really high:"
   ]
  },
  {
   "cell_type": "code",
   "execution_count": 26,
   "metadata": {},
   "outputs": [
    {
     "data": {
      "application/vnd.vegalite.v3+json": {
       "$schema": "https://vega.github.io/schema/vega-lite/v3.4.0.json",
       "config": {
        "mark": {
         "tooltip": null
        },
        "view": {
         "height": 300,
         "width": 400
        }
       },
       "data": {
        "name": "data-df6970f062fd5faaafe95ddcbfc2d855"
       },
       "datasets": {
        "data-df6970f062fd5faaafe95ddcbfc2d855": [
         {
          "i": 0,
          "loss": 4.222143173217773
         },
         {
          "i": 1,
          "loss": 3.458559513092041
         },
         {
          "i": 2,
          "loss": 3.045468330383301
         },
         {
          "i": 3,
          "loss": 2.8218953609466553
         },
         {
          "i": 4,
          "loss": 2.700828790664673
         },
         {
          "i": 5,
          "loss": 2.6352274417877197
         },
         {
          "i": 6,
          "loss": 2.5996503829956055
         },
         {
          "i": 7,
          "loss": 2.5803372859954834
         },
         {
          "i": 8,
          "loss": 2.5698392391204834
         },
         {
          "i": 9,
          "loss": 2.5641236305236816
         },
         {
          "i": 10,
          "loss": 2.5610055923461914
         },
         {
          "i": 11,
          "loss": 2.5593008995056152
         },
         {
          "i": 12,
          "loss": 2.558365821838379
         },
         {
          "i": 13,
          "loss": 2.5578510761260986
         },
         {
          "i": 14,
          "loss": 2.5575668811798096
         },
         {
          "i": 15,
          "loss": 2.5574088096618652
         },
         {
          "i": 16,
          "loss": 2.5573203563690186
         },
         {
          "i": 17,
          "loss": 2.5572702884674072
         },
         {
          "i": 18,
          "loss": 2.5572423934936523
         },
         {
          "i": 19,
          "loss": 2.5572261810302734
         },
         {
          "i": 20,
          "loss": 2.5572166442871094
         },
         {
          "i": 21,
          "loss": 2.557211399078369
         },
         {
          "i": 22,
          "loss": 2.5572080612182617
         },
         {
          "i": 23,
          "loss": 2.5572056770324707
         },
         {
          "i": 24,
          "loss": 2.5572047233581543
         },
         {
          "i": 25,
          "loss": 2.557204008102417
         },
         {
          "i": 26,
          "loss": 2.557203769683838
         },
         {
          "i": 27,
          "loss": 2.5572030544281006
         },
         {
          "i": 28,
          "loss": 2.5572032928466797
         },
         {
          "i": 29,
          "loss": 2.5572030544281006
         },
         {
          "i": 30,
          "loss": 2.5572028160095215
         },
         {
          "i": 31,
          "loss": 2.5572028160095215
         },
         {
          "i": 32,
          "loss": 2.5572028160095215
         },
         {
          "i": 33,
          "loss": 2.5572025775909424
         },
         {
          "i": 34,
          "loss": 2.5572028160095215
         },
         {
          "i": 35,
          "loss": 2.5572028160095215
         },
         {
          "i": 36,
          "loss": 2.5572028160095215
         },
         {
          "i": 37,
          "loss": 2.5572023391723633
         },
         {
          "i": 38,
          "loss": 2.5572028160095215
         },
         {
          "i": 39,
          "loss": 2.5572023391723633
         },
         {
          "i": 40,
          "loss": 2.5572028160095215
         },
         {
          "i": 41,
          "loss": 2.5572028160095215
         },
         {
          "i": 42,
          "loss": 2.5572028160095215
         },
         {
          "i": 43,
          "loss": 2.5572028160095215
         },
         {
          "i": 44,
          "loss": 2.5572028160095215
         },
         {
          "i": 45,
          "loss": 2.5572025775909424
         },
         {
          "i": 46,
          "loss": 2.5572028160095215
         },
         {
          "i": 47,
          "loss": 2.5572028160095215
         },
         {
          "i": 48,
          "loss": 2.5572028160095215
         },
         {
          "i": 49,
          "loss": 2.5572028160095215
         },
         {
          "i": 50,
          "loss": 2.5572025775909424
         },
         {
          "i": 51,
          "loss": 2.5572028160095215
         },
         {
          "i": 52,
          "loss": 2.5572028160095215
         },
         {
          "i": 53,
          "loss": 2.5572030544281006
         },
         {
          "i": 54,
          "loss": 2.5572028160095215
         },
         {
          "i": 55,
          "loss": 2.5572025775909424
         },
         {
          "i": 56,
          "loss": 2.5572028160095215
         },
         {
          "i": 57,
          "loss": 2.5572028160095215
         },
         {
          "i": 58,
          "loss": 2.5572028160095215
         },
         {
          "i": 59,
          "loss": 2.5572028160095215
         },
         {
          "i": 60,
          "loss": 2.5572025775909424
         },
         {
          "i": 61,
          "loss": 2.5572028160095215
         },
         {
          "i": 62,
          "loss": 2.5572028160095215
         },
         {
          "i": 63,
          "loss": 2.5572023391723633
         },
         {
          "i": 64,
          "loss": 2.5572023391723633
         },
         {
          "i": 65,
          "loss": 2.5572023391723633
         },
         {
          "i": 66,
          "loss": 2.5572023391723633
         },
         {
          "i": 67,
          "loss": 2.5572023391723633
         },
         {
          "i": 68,
          "loss": 2.5572023391723633
         },
         {
          "i": 69,
          "loss": 2.5572023391723633
         },
         {
          "i": 70,
          "loss": 2.5572023391723633
         },
         {
          "i": 71,
          "loss": 2.5572023391723633
         },
         {
          "i": 72,
          "loss": 2.5572023391723633
         },
         {
          "i": 73,
          "loss": 2.5572023391723633
         },
         {
          "i": 74,
          "loss": 2.5572023391723633
         },
         {
          "i": 75,
          "loss": 2.5572023391723633
         },
         {
          "i": 76,
          "loss": 2.5572023391723633
         },
         {
          "i": 77,
          "loss": 2.5572023391723633
         },
         {
          "i": 78,
          "loss": 2.5572023391723633
         },
         {
          "i": 79,
          "loss": 2.5572023391723633
         },
         {
          "i": 80,
          "loss": 2.5572023391723633
         },
         {
          "i": 81,
          "loss": 2.5572023391723633
         },
         {
          "i": 82,
          "loss": 2.5572023391723633
         },
         {
          "i": 83,
          "loss": 2.5572023391723633
         },
         {
          "i": 84,
          "loss": 2.5572023391723633
         },
         {
          "i": 85,
          "loss": 2.5572023391723633
         },
         {
          "i": 86,
          "loss": 2.5572023391723633
         },
         {
          "i": 87,
          "loss": 2.5572023391723633
         },
         {
          "i": 88,
          "loss": 2.5572023391723633
         },
         {
          "i": 89,
          "loss": 2.5572023391723633
         },
         {
          "i": 90,
          "loss": 2.5572023391723633
         },
         {
          "i": 91,
          "loss": 2.5572023391723633
         },
         {
          "i": 92,
          "loss": 2.5572023391723633
         },
         {
          "i": 93,
          "loss": 2.5572023391723633
         },
         {
          "i": 94,
          "loss": 2.5572023391723633
         },
         {
          "i": 95,
          "loss": 2.5572023391723633
         },
         {
          "i": 96,
          "loss": 2.5572023391723633
         },
         {
          "i": 97,
          "loss": 2.5572023391723633
         },
         {
          "i": 98,
          "loss": 2.5572023391723633
         },
         {
          "i": 99,
          "loss": 2.5572023391723633
         },
         {
          "i": 100,
          "loss": 2.5572023391723633
         },
         {
          "i": 101,
          "loss": 2.5572023391723633
         },
         {
          "i": 102,
          "loss": 2.5572023391723633
         },
         {
          "i": 103,
          "loss": 2.5572023391723633
         },
         {
          "i": 104,
          "loss": 2.5572023391723633
         },
         {
          "i": 105,
          "loss": 2.5572023391723633
         },
         {
          "i": 106,
          "loss": 2.5572023391723633
         },
         {
          "i": 107,
          "loss": 2.5572023391723633
         },
         {
          "i": 108,
          "loss": 2.5572023391723633
         },
         {
          "i": 109,
          "loss": 2.5572023391723633
         },
         {
          "i": 110,
          "loss": 2.5572023391723633
         },
         {
          "i": 111,
          "loss": 2.5572023391723633
         },
         {
          "i": 112,
          "loss": 2.5572023391723633
         },
         {
          "i": 113,
          "loss": 2.5572023391723633
         },
         {
          "i": 114,
          "loss": 2.5572023391723633
         },
         {
          "i": 115,
          "loss": 2.5572023391723633
         },
         {
          "i": 116,
          "loss": 2.5572023391723633
         },
         {
          "i": 117,
          "loss": 2.5572023391723633
         },
         {
          "i": 118,
          "loss": 2.5572023391723633
         },
         {
          "i": 119,
          "loss": 2.5572023391723633
         },
         {
          "i": 120,
          "loss": 2.5572023391723633
         },
         {
          "i": 121,
          "loss": 2.5572023391723633
         },
         {
          "i": 122,
          "loss": 2.5572023391723633
         },
         {
          "i": 123,
          "loss": 2.5572023391723633
         },
         {
          "i": 124,
          "loss": 2.5572023391723633
         },
         {
          "i": 125,
          "loss": 2.5572023391723633
         },
         {
          "i": 126,
          "loss": 2.5572023391723633
         },
         {
          "i": 127,
          "loss": 2.5572023391723633
         },
         {
          "i": 128,
          "loss": 2.5572023391723633
         },
         {
          "i": 129,
          "loss": 2.5572023391723633
         },
         {
          "i": 130,
          "loss": 2.5572023391723633
         },
         {
          "i": 131,
          "loss": 2.5572023391723633
         },
         {
          "i": 132,
          "loss": 2.5572023391723633
         },
         {
          "i": 133,
          "loss": 2.5572023391723633
         },
         {
          "i": 134,
          "loss": 2.5572023391723633
         },
         {
          "i": 135,
          "loss": 2.5572023391723633
         },
         {
          "i": 136,
          "loss": 2.5572023391723633
         },
         {
          "i": 137,
          "loss": 2.5572023391723633
         },
         {
          "i": 138,
          "loss": 2.5572023391723633
         },
         {
          "i": 139,
          "loss": 2.5572023391723633
         },
         {
          "i": 140,
          "loss": 2.5572023391723633
         },
         {
          "i": 141,
          "loss": 2.5572023391723633
         },
         {
          "i": 142,
          "loss": 2.5572023391723633
         },
         {
          "i": 143,
          "loss": 2.5572023391723633
         },
         {
          "i": 144,
          "loss": 2.5572023391723633
         },
         {
          "i": 145,
          "loss": 2.5572023391723633
         },
         {
          "i": 146,
          "loss": 2.5572023391723633
         },
         {
          "i": 147,
          "loss": 2.5572023391723633
         },
         {
          "i": 148,
          "loss": 2.5572023391723633
         },
         {
          "i": 149,
          "loss": 2.5572023391723633
         },
         {
          "i": 150,
          "loss": 2.5572023391723633
         },
         {
          "i": 151,
          "loss": 2.5572023391723633
         },
         {
          "i": 152,
          "loss": 2.5572023391723633
         },
         {
          "i": 153,
          "loss": 2.5572023391723633
         },
         {
          "i": 154,
          "loss": 2.5572023391723633
         },
         {
          "i": 155,
          "loss": 2.5572023391723633
         },
         {
          "i": 156,
          "loss": 2.5572023391723633
         },
         {
          "i": 157,
          "loss": 2.5572023391723633
         },
         {
          "i": 158,
          "loss": 2.5572023391723633
         },
         {
          "i": 159,
          "loss": 2.5572023391723633
         },
         {
          "i": 160,
          "loss": 2.5572023391723633
         },
         {
          "i": 161,
          "loss": 2.5572023391723633
         },
         {
          "i": 162,
          "loss": 2.5572023391723633
         },
         {
          "i": 163,
          "loss": 2.5572023391723633
         },
         {
          "i": 164,
          "loss": 2.5572023391723633
         },
         {
          "i": 165,
          "loss": 2.5572023391723633
         },
         {
          "i": 166,
          "loss": 2.5572023391723633
         },
         {
          "i": 167,
          "loss": 2.5572023391723633
         },
         {
          "i": 168,
          "loss": 2.5572023391723633
         },
         {
          "i": 169,
          "loss": 2.5572023391723633
         },
         {
          "i": 170,
          "loss": 2.5572023391723633
         },
         {
          "i": 171,
          "loss": 2.5572023391723633
         },
         {
          "i": 172,
          "loss": 2.5572023391723633
         },
         {
          "i": 173,
          "loss": 2.5572023391723633
         },
         {
          "i": 174,
          "loss": 2.5572023391723633
         },
         {
          "i": 175,
          "loss": 2.5572023391723633
         },
         {
          "i": 176,
          "loss": 2.5572023391723633
         },
         {
          "i": 177,
          "loss": 2.5572023391723633
         },
         {
          "i": 178,
          "loss": 2.5572023391723633
         },
         {
          "i": 179,
          "loss": 2.5572023391723633
         },
         {
          "i": 180,
          "loss": 2.5572023391723633
         },
         {
          "i": 181,
          "loss": 2.5572023391723633
         },
         {
          "i": 182,
          "loss": 2.5572023391723633
         },
         {
          "i": 183,
          "loss": 2.5572023391723633
         },
         {
          "i": 184,
          "loss": 2.5572023391723633
         },
         {
          "i": 185,
          "loss": 2.5572023391723633
         },
         {
          "i": 186,
          "loss": 2.5572023391723633
         },
         {
          "i": 187,
          "loss": 2.5572023391723633
         },
         {
          "i": 188,
          "loss": 2.5572023391723633
         },
         {
          "i": 189,
          "loss": 2.5572023391723633
         },
         {
          "i": 190,
          "loss": 2.5572023391723633
         },
         {
          "i": 191,
          "loss": 2.5572023391723633
         },
         {
          "i": 192,
          "loss": 2.5572023391723633
         },
         {
          "i": 193,
          "loss": 2.5572023391723633
         },
         {
          "i": 194,
          "loss": 2.5572023391723633
         },
         {
          "i": 195,
          "loss": 2.5572023391723633
         },
         {
          "i": 196,
          "loss": 2.5572023391723633
         },
         {
          "i": 197,
          "loss": 2.5572023391723633
         },
         {
          "i": 198,
          "loss": 2.5572023391723633
         },
         {
          "i": 199,
          "loss": 2.5572023391723633
         },
         {
          "i": 200,
          "loss": 2.5572023391723633
         },
         {
          "i": 201,
          "loss": 2.5572023391723633
         },
         {
          "i": 202,
          "loss": 2.5572023391723633
         },
         {
          "i": 203,
          "loss": 2.5572023391723633
         },
         {
          "i": 204,
          "loss": 2.5572023391723633
         },
         {
          "i": 205,
          "loss": 2.5572023391723633
         },
         {
          "i": 206,
          "loss": 2.5572023391723633
         },
         {
          "i": 207,
          "loss": 2.5572023391723633
         },
         {
          "i": 208,
          "loss": 2.5572023391723633
         },
         {
          "i": 209,
          "loss": 2.5572023391723633
         },
         {
          "i": 210,
          "loss": 2.5572023391723633
         },
         {
          "i": 211,
          "loss": 2.5572023391723633
         },
         {
          "i": 212,
          "loss": 2.5572023391723633
         },
         {
          "i": 213,
          "loss": 2.5572023391723633
         },
         {
          "i": 214,
          "loss": 2.5572023391723633
         },
         {
          "i": 215,
          "loss": 2.5572023391723633
         },
         {
          "i": 216,
          "loss": 2.5572023391723633
         },
         {
          "i": 217,
          "loss": 2.5572023391723633
         },
         {
          "i": 218,
          "loss": 2.5572023391723633
         },
         {
          "i": 219,
          "loss": 2.5572023391723633
         },
         {
          "i": 220,
          "loss": 2.5572023391723633
         },
         {
          "i": 221,
          "loss": 2.5572023391723633
         },
         {
          "i": 222,
          "loss": 2.5572023391723633
         },
         {
          "i": 223,
          "loss": 2.5572023391723633
         },
         {
          "i": 224,
          "loss": 2.5572023391723633
         },
         {
          "i": 225,
          "loss": 2.5572023391723633
         },
         {
          "i": 226,
          "loss": 2.5572023391723633
         },
         {
          "i": 227,
          "loss": 2.5572023391723633
         },
         {
          "i": 228,
          "loss": 2.5572023391723633
         },
         {
          "i": 229,
          "loss": 2.5572023391723633
         },
         {
          "i": 230,
          "loss": 2.5572023391723633
         },
         {
          "i": 231,
          "loss": 2.5572023391723633
         },
         {
          "i": 232,
          "loss": 2.5572023391723633
         },
         {
          "i": 233,
          "loss": 2.5572023391723633
         },
         {
          "i": 234,
          "loss": 2.5572023391723633
         },
         {
          "i": 235,
          "loss": 2.5572023391723633
         },
         {
          "i": 236,
          "loss": 2.5572023391723633
         },
         {
          "i": 237,
          "loss": 2.5572023391723633
         },
         {
          "i": 238,
          "loss": 2.5572023391723633
         },
         {
          "i": 239,
          "loss": 2.5572023391723633
         },
         {
          "i": 240,
          "loss": 2.5572023391723633
         },
         {
          "i": 241,
          "loss": 2.5572023391723633
         },
         {
          "i": 242,
          "loss": 2.5572023391723633
         },
         {
          "i": 243,
          "loss": 2.5572023391723633
         },
         {
          "i": 244,
          "loss": 2.5572023391723633
         },
         {
          "i": 245,
          "loss": 2.5572023391723633
         },
         {
          "i": 246,
          "loss": 2.5572023391723633
         },
         {
          "i": 247,
          "loss": 2.5572023391723633
         },
         {
          "i": 248,
          "loss": 2.5572023391723633
         },
         {
          "i": 249,
          "loss": 2.5572023391723633
         },
         {
          "i": 250,
          "loss": 2.5572023391723633
         },
         {
          "i": 251,
          "loss": 2.5572023391723633
         },
         {
          "i": 252,
          "loss": 2.5572023391723633
         },
         {
          "i": 253,
          "loss": 2.5572023391723633
         },
         {
          "i": 254,
          "loss": 2.5572023391723633
         },
         {
          "i": 255,
          "loss": 2.5572023391723633
         },
         {
          "i": 256,
          "loss": 2.5572023391723633
         },
         {
          "i": 257,
          "loss": 2.5572023391723633
         },
         {
          "i": 258,
          "loss": 2.5572023391723633
         },
         {
          "i": 259,
          "loss": 2.5572023391723633
         },
         {
          "i": 260,
          "loss": 2.5572023391723633
         },
         {
          "i": 261,
          "loss": 2.5572023391723633
         },
         {
          "i": 262,
          "loss": 2.5572023391723633
         },
         {
          "i": 263,
          "loss": 2.5572023391723633
         },
         {
          "i": 264,
          "loss": 2.5572023391723633
         },
         {
          "i": 265,
          "loss": 2.5572023391723633
         },
         {
          "i": 266,
          "loss": 2.5572023391723633
         },
         {
          "i": 267,
          "loss": 2.5572023391723633
         },
         {
          "i": 268,
          "loss": 2.5572023391723633
         },
         {
          "i": 269,
          "loss": 2.5572023391723633
         },
         {
          "i": 270,
          "loss": 2.5572023391723633
         },
         {
          "i": 271,
          "loss": 2.5572023391723633
         },
         {
          "i": 272,
          "loss": 2.5572023391723633
         },
         {
          "i": 273,
          "loss": 2.5572023391723633
         },
         {
          "i": 274,
          "loss": 2.5572023391723633
         },
         {
          "i": 275,
          "loss": 2.5572023391723633
         },
         {
          "i": 276,
          "loss": 2.5572023391723633
         },
         {
          "i": 277,
          "loss": 2.5572023391723633
         },
         {
          "i": 278,
          "loss": 2.5572023391723633
         },
         {
          "i": 279,
          "loss": 2.5572023391723633
         },
         {
          "i": 280,
          "loss": 2.5572023391723633
         },
         {
          "i": 281,
          "loss": 2.5572023391723633
         },
         {
          "i": 282,
          "loss": 2.5572023391723633
         },
         {
          "i": 283,
          "loss": 2.5572023391723633
         },
         {
          "i": 284,
          "loss": 2.5572023391723633
         },
         {
          "i": 285,
          "loss": 2.5572023391723633
         },
         {
          "i": 286,
          "loss": 2.5572023391723633
         },
         {
          "i": 287,
          "loss": 2.5572023391723633
         },
         {
          "i": 288,
          "loss": 2.5572023391723633
         },
         {
          "i": 289,
          "loss": 2.5572023391723633
         },
         {
          "i": 290,
          "loss": 2.5572023391723633
         },
         {
          "i": 291,
          "loss": 2.5572023391723633
         },
         {
          "i": 292,
          "loss": 2.5572023391723633
         },
         {
          "i": 293,
          "loss": 2.5572023391723633
         },
         {
          "i": 294,
          "loss": 2.5572023391723633
         },
         {
          "i": 295,
          "loss": 2.5572023391723633
         },
         {
          "i": 296,
          "loss": 2.5572023391723633
         },
         {
          "i": 297,
          "loss": 2.5572023391723633
         },
         {
          "i": 298,
          "loss": 2.5572023391723633
         },
         {
          "i": 299,
          "loss": 2.5572023391723633
         },
         {
          "i": 300,
          "loss": 2.5572023391723633
         },
         {
          "i": 301,
          "loss": 2.5572023391723633
         },
         {
          "i": 302,
          "loss": 2.5572023391723633
         },
         {
          "i": 303,
          "loss": 2.5572023391723633
         },
         {
          "i": 304,
          "loss": 2.5572023391723633
         },
         {
          "i": 305,
          "loss": 2.5572023391723633
         },
         {
          "i": 306,
          "loss": 2.5572023391723633
         },
         {
          "i": 307,
          "loss": 2.5572023391723633
         },
         {
          "i": 308,
          "loss": 2.5572023391723633
         },
         {
          "i": 309,
          "loss": 2.5572023391723633
         },
         {
          "i": 310,
          "loss": 2.5572023391723633
         },
         {
          "i": 311,
          "loss": 2.5572023391723633
         },
         {
          "i": 312,
          "loss": 2.5572023391723633
         },
         {
          "i": 313,
          "loss": 2.5572023391723633
         },
         {
          "i": 314,
          "loss": 2.5572023391723633
         },
         {
          "i": 315,
          "loss": 2.5572023391723633
         },
         {
          "i": 316,
          "loss": 2.5572023391723633
         },
         {
          "i": 317,
          "loss": 2.5572023391723633
         },
         {
          "i": 318,
          "loss": 2.5572023391723633
         },
         {
          "i": 319,
          "loss": 2.5572023391723633
         },
         {
          "i": 320,
          "loss": 2.5572023391723633
         },
         {
          "i": 321,
          "loss": 2.5572023391723633
         },
         {
          "i": 322,
          "loss": 2.5572023391723633
         },
         {
          "i": 323,
          "loss": 2.5572023391723633
         },
         {
          "i": 324,
          "loss": 2.5572023391723633
         },
         {
          "i": 325,
          "loss": 2.5572023391723633
         },
         {
          "i": 326,
          "loss": 2.5572023391723633
         },
         {
          "i": 327,
          "loss": 2.5572023391723633
         },
         {
          "i": 328,
          "loss": 2.5572023391723633
         },
         {
          "i": 329,
          "loss": 2.5572023391723633
         },
         {
          "i": 330,
          "loss": 2.5572023391723633
         },
         {
          "i": 331,
          "loss": 2.5572023391723633
         },
         {
          "i": 332,
          "loss": 2.5572023391723633
         },
         {
          "i": 333,
          "loss": 2.5572023391723633
         },
         {
          "i": 334,
          "loss": 2.5572023391723633
         },
         {
          "i": 335,
          "loss": 2.5572023391723633
         },
         {
          "i": 336,
          "loss": 2.5572023391723633
         },
         {
          "i": 337,
          "loss": 2.5572023391723633
         },
         {
          "i": 338,
          "loss": 2.5572023391723633
         },
         {
          "i": 339,
          "loss": 2.5572023391723633
         },
         {
          "i": 340,
          "loss": 2.5572023391723633
         },
         {
          "i": 341,
          "loss": 2.5572023391723633
         },
         {
          "i": 342,
          "loss": 2.5572023391723633
         },
         {
          "i": 343,
          "loss": 2.5572023391723633
         },
         {
          "i": 344,
          "loss": 2.5572023391723633
         },
         {
          "i": 345,
          "loss": 2.5572023391723633
         },
         {
          "i": 346,
          "loss": 2.5572023391723633
         },
         {
          "i": 347,
          "loss": 2.5572023391723633
         },
         {
          "i": 348,
          "loss": 2.5572023391723633
         },
         {
          "i": 349,
          "loss": 2.5572023391723633
         },
         {
          "i": 350,
          "loss": 2.5572023391723633
         },
         {
          "i": 351,
          "loss": 2.5572023391723633
         },
         {
          "i": 352,
          "loss": 2.5572023391723633
         },
         {
          "i": 353,
          "loss": 2.5572023391723633
         },
         {
          "i": 354,
          "loss": 2.5572023391723633
         },
         {
          "i": 355,
          "loss": 2.5572023391723633
         },
         {
          "i": 356,
          "loss": 2.5572023391723633
         },
         {
          "i": 357,
          "loss": 2.5572023391723633
         },
         {
          "i": 358,
          "loss": 2.5572023391723633
         },
         {
          "i": 359,
          "loss": 2.5572023391723633
         },
         {
          "i": 360,
          "loss": 2.5572023391723633
         },
         {
          "i": 361,
          "loss": 2.5572023391723633
         },
         {
          "i": 362,
          "loss": 2.5572023391723633
         },
         {
          "i": 363,
          "loss": 2.5572023391723633
         },
         {
          "i": 364,
          "loss": 2.5572023391723633
         },
         {
          "i": 365,
          "loss": 2.5572023391723633
         },
         {
          "i": 366,
          "loss": 2.5572023391723633
         },
         {
          "i": 367,
          "loss": 2.5572023391723633
         },
         {
          "i": 368,
          "loss": 2.5572023391723633
         },
         {
          "i": 369,
          "loss": 2.5572023391723633
         },
         {
          "i": 370,
          "loss": 2.5572023391723633
         },
         {
          "i": 371,
          "loss": 2.5572023391723633
         },
         {
          "i": 372,
          "loss": 2.5572023391723633
         },
         {
          "i": 373,
          "loss": 2.5572023391723633
         },
         {
          "i": 374,
          "loss": 2.5572023391723633
         },
         {
          "i": 375,
          "loss": 2.5572023391723633
         },
         {
          "i": 376,
          "loss": 2.5572023391723633
         },
         {
          "i": 377,
          "loss": 2.5572023391723633
         },
         {
          "i": 378,
          "loss": 2.5572023391723633
         },
         {
          "i": 379,
          "loss": 2.5572023391723633
         },
         {
          "i": 380,
          "loss": 2.5572023391723633
         },
         {
          "i": 381,
          "loss": 2.5572023391723633
         },
         {
          "i": 382,
          "loss": 2.5572023391723633
         },
         {
          "i": 383,
          "loss": 2.5572023391723633
         },
         {
          "i": 384,
          "loss": 2.5572023391723633
         },
         {
          "i": 385,
          "loss": 2.5572023391723633
         },
         {
          "i": 386,
          "loss": 2.5572023391723633
         },
         {
          "i": 387,
          "loss": 2.5572023391723633
         },
         {
          "i": 388,
          "loss": 2.5572023391723633
         },
         {
          "i": 389,
          "loss": 2.5572023391723633
         },
         {
          "i": 390,
          "loss": 2.5572023391723633
         },
         {
          "i": 391,
          "loss": 2.5572023391723633
         },
         {
          "i": 392,
          "loss": 2.5572023391723633
         },
         {
          "i": 393,
          "loss": 2.5572023391723633
         },
         {
          "i": 394,
          "loss": 2.5572023391723633
         },
         {
          "i": 395,
          "loss": 2.5572023391723633
         },
         {
          "i": 396,
          "loss": 2.5572023391723633
         },
         {
          "i": 397,
          "loss": 2.5572023391723633
         },
         {
          "i": 398,
          "loss": 2.5572023391723633
         },
         {
          "i": 399,
          "loss": 2.5572023391723633
         },
         {
          "i": 400,
          "loss": 2.5572023391723633
         },
         {
          "i": 401,
          "loss": 2.5572023391723633
         },
         {
          "i": 402,
          "loss": 2.5572023391723633
         },
         {
          "i": 403,
          "loss": 2.5572023391723633
         },
         {
          "i": 404,
          "loss": 2.5572023391723633
         },
         {
          "i": 405,
          "loss": 2.5572023391723633
         },
         {
          "i": 406,
          "loss": 2.5572023391723633
         },
         {
          "i": 407,
          "loss": 2.5572023391723633
         },
         {
          "i": 408,
          "loss": 2.5572023391723633
         },
         {
          "i": 409,
          "loss": 2.5572023391723633
         },
         {
          "i": 410,
          "loss": 2.5572023391723633
         },
         {
          "i": 411,
          "loss": 2.5572023391723633
         },
         {
          "i": 412,
          "loss": 2.5572023391723633
         },
         {
          "i": 413,
          "loss": 2.5572023391723633
         },
         {
          "i": 414,
          "loss": 2.5572023391723633
         },
         {
          "i": 415,
          "loss": 2.5572023391723633
         },
         {
          "i": 416,
          "loss": 2.5572023391723633
         },
         {
          "i": 417,
          "loss": 2.5572023391723633
         },
         {
          "i": 418,
          "loss": 2.5572023391723633
         },
         {
          "i": 419,
          "loss": 2.5572023391723633
         },
         {
          "i": 420,
          "loss": 2.5572023391723633
         },
         {
          "i": 421,
          "loss": 2.5572023391723633
         },
         {
          "i": 422,
          "loss": 2.5572023391723633
         },
         {
          "i": 423,
          "loss": 2.5572023391723633
         },
         {
          "i": 424,
          "loss": 2.5572023391723633
         },
         {
          "i": 425,
          "loss": 2.5572023391723633
         },
         {
          "i": 426,
          "loss": 2.5572023391723633
         },
         {
          "i": 427,
          "loss": 2.5572023391723633
         },
         {
          "i": 428,
          "loss": 2.5572023391723633
         },
         {
          "i": 429,
          "loss": 2.5572023391723633
         },
         {
          "i": 430,
          "loss": 2.5572023391723633
         },
         {
          "i": 431,
          "loss": 2.5572023391723633
         },
         {
          "i": 432,
          "loss": 2.5572023391723633
         },
         {
          "i": 433,
          "loss": 2.5572023391723633
         },
         {
          "i": 434,
          "loss": 2.5572023391723633
         },
         {
          "i": 435,
          "loss": 2.5572023391723633
         },
         {
          "i": 436,
          "loss": 2.5572023391723633
         },
         {
          "i": 437,
          "loss": 2.5572023391723633
         },
         {
          "i": 438,
          "loss": 2.5572023391723633
         },
         {
          "i": 439,
          "loss": 2.5572023391723633
         },
         {
          "i": 440,
          "loss": 2.5572023391723633
         },
         {
          "i": 441,
          "loss": 2.5572023391723633
         },
         {
          "i": 442,
          "loss": 2.5572023391723633
         },
         {
          "i": 443,
          "loss": 2.5572023391723633
         },
         {
          "i": 444,
          "loss": 2.5572023391723633
         },
         {
          "i": 445,
          "loss": 2.5572023391723633
         },
         {
          "i": 446,
          "loss": 2.5572023391723633
         },
         {
          "i": 447,
          "loss": 2.5572023391723633
         },
         {
          "i": 448,
          "loss": 2.5572023391723633
         },
         {
          "i": 449,
          "loss": 2.5572023391723633
         },
         {
          "i": 450,
          "loss": 2.5572023391723633
         },
         {
          "i": 451,
          "loss": 2.5572023391723633
         },
         {
          "i": 452,
          "loss": 2.5572023391723633
         },
         {
          "i": 453,
          "loss": 2.5572023391723633
         },
         {
          "i": 454,
          "loss": 2.5572023391723633
         },
         {
          "i": 455,
          "loss": 2.5572023391723633
         },
         {
          "i": 456,
          "loss": 2.5572023391723633
         },
         {
          "i": 457,
          "loss": 2.5572023391723633
         },
         {
          "i": 458,
          "loss": 2.5572023391723633
         },
         {
          "i": 459,
          "loss": 2.5572023391723633
         },
         {
          "i": 460,
          "loss": 2.5572023391723633
         },
         {
          "i": 461,
          "loss": 2.5572023391723633
         },
         {
          "i": 462,
          "loss": 2.5572023391723633
         },
         {
          "i": 463,
          "loss": 2.5572023391723633
         },
         {
          "i": 464,
          "loss": 2.5572023391723633
         },
         {
          "i": 465,
          "loss": 2.5572023391723633
         },
         {
          "i": 466,
          "loss": 2.5572023391723633
         },
         {
          "i": 467,
          "loss": 2.5572023391723633
         },
         {
          "i": 468,
          "loss": 2.5572023391723633
         },
         {
          "i": 469,
          "loss": 2.5572023391723633
         },
         {
          "i": 470,
          "loss": 2.5572023391723633
         },
         {
          "i": 471,
          "loss": 2.5572023391723633
         },
         {
          "i": 472,
          "loss": 2.5572023391723633
         },
         {
          "i": 473,
          "loss": 2.5572023391723633
         },
         {
          "i": 474,
          "loss": 2.5572023391723633
         },
         {
          "i": 475,
          "loss": 2.5572023391723633
         },
         {
          "i": 476,
          "loss": 2.5572023391723633
         },
         {
          "i": 477,
          "loss": 2.5572023391723633
         },
         {
          "i": 478,
          "loss": 2.5572023391723633
         },
         {
          "i": 479,
          "loss": 2.5572023391723633
         },
         {
          "i": 480,
          "loss": 2.5572023391723633
         },
         {
          "i": 481,
          "loss": 2.5572023391723633
         },
         {
          "i": 482,
          "loss": 2.5572023391723633
         },
         {
          "i": 483,
          "loss": 2.5572023391723633
         },
         {
          "i": 484,
          "loss": 2.5572023391723633
         },
         {
          "i": 485,
          "loss": 2.5572023391723633
         },
         {
          "i": 486,
          "loss": 2.5572023391723633
         },
         {
          "i": 487,
          "loss": 2.5572023391723633
         },
         {
          "i": 488,
          "loss": 2.5572023391723633
         },
         {
          "i": 489,
          "loss": 2.5572023391723633
         },
         {
          "i": 490,
          "loss": 2.5572023391723633
         },
         {
          "i": 491,
          "loss": 2.5572023391723633
         },
         {
          "i": 492,
          "loss": 2.5572023391723633
         },
         {
          "i": 493,
          "loss": 2.5572023391723633
         },
         {
          "i": 494,
          "loss": 2.5572023391723633
         },
         {
          "i": 495,
          "loss": 2.5572023391723633
         },
         {
          "i": 496,
          "loss": 2.5572023391723633
         },
         {
          "i": 497,
          "loss": 2.5572023391723633
         },
         {
          "i": 498,
          "loss": 2.5572023391723633
         },
         {
          "i": 499,
          "loss": 2.5572023391723633
         }
        ]
       },
       "encoding": {
        "x": {
         "field": "i",
         "type": "quantitative"
        },
        "y": {
         "field": "loss",
         "type": "quantitative"
        }
       },
       "height": 100,
       "mark": "line"
      },
      "image/png": "[encoded data removed]",
      "text/plain": [
       "<VegaLite 3 object>\n",
       "\n",
       "If you see this message, it means the renderer has not been properly enabled\n",
       "for the frontend that you are using. For more information, see\n",
       "https://altair-viz.github.io/user_guide/troubleshooting.html\n"
      ]
     },
     "execution_count": 26,
     "metadata": {},
     "output_type": "execute_result"
    }
   ],
   "source": [
    "loss_df = pd.DataFrame({'i':range(500), 'loss':loss_record})\n",
    "alt.Chart(loss_df, height=100).mark_line().encode(x='i', y='loss')"
   ]
  },
  {
   "cell_type": "markdown",
   "metadata": {},
   "source": [
    "And when we plot the model predictions against reality we see how bad it is:"
   ]
  },
  {
   "cell_type": "code",
   "execution_count": 27,
   "metadata": {},
   "outputs": [
    {
     "data": {
      "application/vnd.vegalite.v3+json": {
       "$schema": "https://vega.github.io/schema/vega-lite/v3.4.0.json",
       "config": {
        "mark": {
         "tooltip": null
        },
        "view": {
         "height": 300,
         "width": 400
        }
       },
       "data": {
        "name": "data-797526193eb11ef7272ae4e60bd4b891"
       },
       "datasets": {
        "data-797526193eb11ef7272ae4e60bd4b891": [
         {
          "x1": 0.9428676962852478,
          "y": 0.8889995217323303,
          "ŷ": 0.7155821323394775
         },
         {
          "x1": 0.4105151295661926,
          "y": 0.1685226708650589,
          "ŷ": 0.9455620646476746
         },
         {
          "x1": 1.0388299226760864,
          "y": 1.0791676044464111,
          "ŷ": 0.6741257905960083
         },
         {
          "x1": 0.6057164072990417,
          "y": 0.36689236760139465,
          "ŷ": 0.8612338304519653
         },
         {
          "x1": -2.7394394874572754,
          "y": 7.504528522491455,
          "ŷ": 2.306364059448242
         },
         {
          "x1": 0.18451879918575287,
          "y": 0.03404718637466431,
          "ŷ": 1.043194055557251
         },
         {
          "x1": 0.7027134299278259,
          "y": 0.4938061535358429,
          "ŷ": 0.8193304538726807
         },
         {
          "x1": 0.3015485405921936,
          "y": 0.09093151986598969,
          "ŷ": 0.9926363825798035
         },
         {
          "x1": 0.10713471472263336,
          "y": 0.011477846652269363,
          "ŷ": 1.0766245126724243
         },
         {
          "x1": 0.12167960405349731,
          "y": 0.014805926010012627,
          "ŷ": 1.0703409910202026
         },
         {
          "x1": -0.11067730188369751,
          "y": 0.012249465100467205,
          "ŷ": 1.1707206964492798
         },
         {
          "x1": -0.9489158391952515,
          "y": 0.9004412889480591,
          "ŷ": 1.5328454971313477
         },
         {
          "x1": -0.37673842906951904,
          "y": 0.14193184673786163,
          "ŷ": 1.285660982131958
         },
         {
          "x1": 1.8113701343536377,
          "y": 3.2810616493225098,
          "ŷ": 0.3403831720352173
         },
         {
          "x1": 1.134777545928955,
          "y": 1.2877200841903687,
          "ŷ": 0.6326757669448853
         },
         {
          "x1": -1.8112503290176392,
          "y": 3.280627727508545,
          "ŷ": 1.9053798913955688
         },
         {
          "x1": -0.6196664571762085,
          "y": 0.38398653268814087,
          "ŷ": 1.3906075954437256
         },
         {
          "x1": -0.20752528309822083,
          "y": 0.04306674376130104,
          "ŷ": 1.212559700012207
         },
         {
          "x1": 1.703284502029419,
          "y": 2.9011781215667725,
          "ŷ": 0.3870769143104553
         },
         {
          "x1": -1.139309048652649,
          "y": 1.298025131225586,
          "ŷ": 1.6150966882705688
         },
         {
          "x1": -2.2543230056762695,
          "y": 5.081972122192383,
          "ŷ": 2.096790313720703
         },
         {
          "x1": 2.0764966011047363,
          "y": 4.311838150024414,
          "ŷ": 0.22584670782089233
         },
         {
          "x1": -1.6521371603012085,
          "y": 2.7295572757720947,
          "ŷ": 1.8366419076919556
         },
         {
          "x1": -0.5751289129257202,
          "y": 0.330773264169693,
          "ŷ": 1.3713669776916504
         },
         {
          "x1": -0.5024901032447815,
          "y": 0.25249630212783813,
          "ŷ": 1.3399865627288818
         },
         {
          "x1": -1.343695044517517,
          "y": 1.8055163621902466,
          "ŷ": 1.703392744064331
         },
         {
          "x1": -0.5871181488037109,
          "y": 0.344707727432251,
          "ŷ": 1.3765463829040527
         },
         {
          "x1": -1.3959624767303467,
          "y": 1.9487112760543823,
          "ŷ": 1.7259726524353027
         },
         {
          "x1": -2.17250394821167,
          "y": 4.719773292541504,
          "ŷ": 2.06144380569458
         },
         {
          "x1": 0.10373615473508835,
          "y": 0.010761190205812454,
          "ŷ": 1.0780926942825317
         },
         {
          "x1": 0.2682378590106964,
          "y": 0.07195154577493668,
          "ŷ": 1.0070267915725708
         },
         {
          "x1": 0.0015036266995593905,
          "y": 2.260893325001234e-06,
          "ŷ": 1.1222578287124634
         },
         {
          "x1": 0.8146382570266724,
          "y": 0.6636354923248291,
          "ŷ": 0.7709780931472778
         },
         {
          "x1": -1.042719841003418,
          "y": 1.0872646570205688,
          "ŷ": 1.5733695030212402
         },
         {
          "x1": 0.1415998786687851,
          "y": 0.020050525665283203,
          "ŷ": 1.0617352724075317
         },
         {
          "x1": 0.1628839075565338,
          "y": 0.026531167328357697,
          "ŷ": 1.0525404214859009
         },
         {
          "x1": -1.2494944334030151,
          "y": 1.5612363815307617,
          "ŷ": 1.6626975536346436
         },
         {
          "x1": 0.5084502100944519,
          "y": 0.2585216164588928,
          "ŷ": 0.903253436088562
         },
         {
          "x1": 0.4802173972129822,
          "y": 0.2306087464094162,
          "ŷ": 0.9154502153396606
         },
         {
          "x1": -0.4891881048679352,
          "y": 0.23930500447750092,
          "ŷ": 1.3342399597167969
         },
         {
          "x1": -0.897309422492981,
          "y": 0.8051642179489136,
          "ŷ": 1.5105512142181396
         },
         {
          "x1": 0.2297353297472,
          "y": 0.052778322249650955,
          "ŷ": 1.0236601829528809
         },
         {
          "x1": -0.1653076559305191,
          "y": 0.027326621115207672,
          "ŷ": 1.1943213939666748
         },
         {
          "x1": -0.6914819478988647,
          "y": 0.4781472980976105,
          "ŷ": 1.4216322898864746
         },
         {
          "x1": -1.1393663883209229,
          "y": 1.2981557846069336,
          "ŷ": 1.6151213645935059
         },
         {
          "x1": -0.037990935146808624,
          "y": 0.0014433111064136028,
          "ŷ": 1.1393197774887085
         },
         {
          "x1": 0.2798241376876831,
          "y": 0.07830154895782471,
          "ŷ": 1.0020214319229126
         },
         {
          "x1": -1.0665847063064575,
          "y": 1.1376029253005981,
          "ŷ": 1.58367919921875
         },
         {
          "x1": 0.44039300084114075,
          "y": 0.1939459890127182,
          "ŷ": 0.932654619216919
         },
         {
          "x1": -1.0018784999847412,
          "y": 1.003760576248169,
          "ŷ": 1.5557256937026978
         },
         {
          "x1": -0.3486539125442505,
          "y": 0.12155955284833908,
          "ŷ": 1.2735282182693481
         },
         {
          "x1": 0.351340115070343,
          "y": 0.12343987822532654,
          "ŷ": 0.9711260795593262
         },
         {
          "x1": 0.6298627853393555,
          "y": 0.3967271149158478,
          "ŷ": 0.8508024215698242
         },
         {
          "x1": -0.5535277724266052,
          "y": 0.30639299750328064,
          "ŷ": 1.3620351552963257
         },
         {
          "x1": -1.0206056833267212,
          "y": 1.0416359901428223,
          "ŷ": 1.5638160705566406
         },
         {
          "x1": -0.5084967017173767,
          "y": 0.2585688829421997,
          "ŷ": 1.3425813913345337
         },
         {
          "x1": -0.658214807510376,
          "y": 0.4332467317581177,
          "ŷ": 1.4072606563568115
         },
         {
          "x1": 0.4818519055843353,
          "y": 0.23218126595020294,
          "ŷ": 0.9147440791130066
         },
         {
          "x1": 1.0926600694656372,
          "y": 1.1939060688018799,
          "ŷ": 0.6508708000183105
         },
         {
          "x1": -1.2864609956741333,
          "y": 1.6549818515777588,
          "ŷ": 1.6786673069000244
         },
         {
          "x1": 1.1741172075271606,
          "y": 1.3785512447357178,
          "ŷ": 0.6156807541847229
         },
         {
          "x1": -0.9881125688552856,
          "y": 0.9763664603233337,
          "ŷ": 1.549778699874878
         },
         {
          "x1": -0.6366197466850281,
          "y": 0.40528470277786255,
          "ŷ": 1.397931456565857
         },
         {
          "x1": 1.009556531906128,
          "y": 1.0192043781280518,
          "ŷ": 0.6867721080780029
         },
         {
          "x1": 0.7387657761573792,
          "y": 0.5457748770713806,
          "ŷ": 0.803755521774292
         },
         {
          "x1": 1.1223071813583374,
          "y": 1.2595734596252441,
          "ŷ": 0.6380630731582642
         },
         {
          "x1": -0.682243287563324,
          "y": 0.46545588970184326,
          "ŷ": 1.4176411628723145
         },
         {
          "x1": -0.8056502938270569,
          "y": 0.6490724086761475,
          "ŷ": 1.4709538221359253
         },
         {
          "x1": 0.32741057872772217,
          "y": 0.10719768702983856,
          "ŷ": 0.9814637899398804
         },
         {
          "x1": 1.2398488521575928,
          "y": 1.5372251272201538,
          "ŷ": 0.5872842669487
         },
         {
          "x1": -0.43356359004974365,
          "y": 0.1879773885011673,
          "ŷ": 1.31020987033844
         },
         {
          "x1": -0.27180641889572144,
          "y": 0.07387872785329819,
          "ŷ": 1.240329623222351
         },
         {
          "x1": -1.4543530941009521,
          "y": 2.115142822265625,
          "ŷ": 1.7511978149414062
         },
         {
          "x1": -0.761326014995575,
          "y": 0.5796173214912415,
          "ŷ": 1.4518053531646729
         },
         {
          "x1": -0.8591729998588562,
          "y": 0.7381782531738281,
          "ŷ": 1.4940760135650635
         },
         {
          "x1": -1.8920748233795166,
          "y": 3.5799472332000732,
          "ŷ": 1.9402966499328613
         },
         {
          "x1": -1.696606993675232,
          "y": 2.8784751892089844,
          "ŷ": 1.8558530807495117
         },
         {
          "x1": 1.017185091972351,
          "y": 1.0346654653549194,
          "ŷ": 0.6834765076637268
         },
         {
          "x1": 1.7721567153930664,
          "y": 3.1405394077301025,
          "ŷ": 0.35732364654541016
         },
         {
          "x1": -0.5902632474899292,
          "y": 0.3484106957912445,
          "ŷ": 1.3779051303863525
         },
         {
          "x1": -2.3360815048217773,
          "y": 5.457276821136475,
          "ŷ": 2.132110595703125
         },
         {
          "x1": -0.36527273058891296,
          "y": 0.13342416286468506,
          "ŷ": 1.2807077169418335
         },
         {
          "x1": -0.5647988319396973,
          "y": 0.31899771094322205,
          "ŷ": 1.366904377937317
         },
         {
          "x1": -0.25131353735923767,
          "y": 0.06315849721431732,
          "ŷ": 1.2314765453338623
         },
         {
          "x1": 2.0877339839935303,
          "y": 4.358633041381836,
          "ŷ": 0.2209920883178711
         },
         {
          "x1": -1.0112320184707642,
          "y": 1.022590160369873,
          "ŷ": 1.5597665309906006
         },
         {
          "x1": 0.05594184994697571,
          "y": 0.003129490651190281,
          "ŷ": 1.0987401008605957
         },
         {
          "x1": 0.4114016592502594,
          "y": 0.16925132274627686,
          "ŷ": 0.9451791048049927
         },
         {
          "x1": 2.1957364082336426,
          "y": 4.821258544921875,
          "ŷ": 0.1743343472480774
         },
         {
          "x1": -1.639082431793213,
          "y": 2.686591148376465,
          "ŷ": 1.8310022354125977
         },
         {
          "x1": 0.38181811571121216,
          "y": 0.14578507840633392,
          "ŷ": 0.9579593539237976
         },
         {
          "x1": 0.5301257371902466,
          "y": 0.28103330731391907,
          "ŷ": 0.8938894867897034
         },
         {
          "x1": -0.6498574614524841,
          "y": 0.42231473326683044,
          "ŷ": 1.4036502838134766
         },
         {
          "x1": -0.8047161102294922,
          "y": 0.6475680470466614,
          "ŷ": 1.470550298690796
         },
         {
          "x1": 1.9523613452911377,
          "y": 3.8117148876190186,
          "ŷ": 0.27947402000427246
         },
         {
          "x1": 0.6842129826545715,
          "y": 0.4681473970413208,
          "ŷ": 0.8273227214813232
         },
         {
          "x1": 0.7467349171638489,
          "y": 0.5576130151748657,
          "ŷ": 0.800312876701355
         },
         {
          "x1": -1.5036330223083496,
          "y": 2.2609121799468994,
          "ŷ": 1.7724871635437012
         },
         {
          "x1": -0.32895931601524353,
          "y": 0.10821422934532166,
          "ŷ": 1.2650200128555298
         },
         {
          "x1": -3.0460054874420166,
          "y": 9.278149604797363,
          "ŷ": 2.438802480697632
         }
        ]
       },
       "layer": [
        {
         "encoding": {
          "x": {
           "field": "x1",
           "type": "quantitative"
          },
          "y": {
           "field": "ŷ",
           "type": "quantitative"
          }
         },
         "mark": "line"
        },
        {
         "encoding": {
          "x": {
           "field": "x1",
           "type": "quantitative"
          },
          "y": {
           "field": "y",
           "type": "quantitative"
          }
         },
         "mark": "point"
        }
       ]
      },
      "image/png": "[encoded data removed]",
      "text/plain": [
       "<VegaLite 3 object>\n",
       "\n",
       "If you see this message, it means the renderer has not been properly enabled\n",
       "for the frontend that you are using. For more information, see\n",
       "https://altair-viz.github.io/user_guide/troubleshooting.html\n"
      ]
     },
     "execution_count": 27,
     "metadata": {},
     "output_type": "execute_result"
    }
   ],
   "source": [
    "preds = pd.DataFrame({'ŷ':ŷ.detach().numpy()[:,0], 'y':y[:,0], 'x1':x[:,0]})\n",
    "(alt.Chart(preds).mark_line().encode(x='x1', y='ŷ') + \n",
    "alt.Chart(preds).mark_point().encode(x='x1', y='y'))"
   ]
  },
  {
   "cell_type": "markdown",
   "metadata": {},
   "source": [
    "However, we can introduce a hidden layer (of size 10):"
   ]
  },
  {
   "cell_type": "code",
   "execution_count": 28,
   "metadata": {},
   "outputs": [],
   "source": [
    "h = 10\n",
    "W = torch.randn(p, h).requires_grad_()\n",
    "b = torch.randn(1, h).requires_grad_()\n",
    "α = torch.randn(h+1, 1).requires_grad_()\n",
    "loss_record = []\n",
    "ϵ = 10e-3\n",
    "\n",
    "for e in range(500):\n",
    "    z = g(torch.matmul(x,W) + b)\n",
    "    ŷ = torch.matmul(z,α[1:]) + α[0]\n",
    "    L = torch.sum((y-ŷ)**2)/n # L = Σ(yᵢ-ŷᵢ)² (use predictions to calculate loss)\n",
    "    \n",
    "    L.backward() # compute gradients (in this case δL/δα, δL/δW)\n",
    "    loss_record.append(L.item())\n",
    "    \n",
    "    with torch.no_grad(): # take the gradient descent step \n",
    "        α -= ϵ * α.grad\n",
    "        α.grad.zero_()\n",
    "        W -= ϵ * W.grad\n",
    "        W.grad.zero_()\n",
    "        b -= ϵ * b.grad\n",
    "        b.grad.zero_()"
   ]
  },
  {
   "cell_type": "code",
   "execution_count": 29,
   "metadata": {},
   "outputs": [
    {
     "data": {
      "application/vnd.vegalite.v3+json": {
       "$schema": "https://vega.github.io/schema/vega-lite/v3.4.0.json",
       "config": {
        "mark": {
         "tooltip": null
        },
        "view": {
         "height": 300,
         "width": 400
        }
       },
       "data": {
        "name": "data-d6b87d2c1ee2a2bb907da13a68e84899"
       },
       "datasets": {
        "data-d6b87d2c1ee2a2bb907da13a68e84899": [
         {
          "i": 0,
          "loss": 8.802268981933594
         },
         {
          "i": 1,
          "loss": 7.153199672698975
         },
         {
          "i": 2,
          "loss": 6.105618953704834
         },
         {
          "i": 3,
          "loss": 5.408590793609619
         },
         {
          "i": 4,
          "loss": 4.9222412109375
         },
         {
          "i": 5,
          "loss": 4.566518783569336
         },
         {
          "i": 6,
          "loss": 4.290732383728027
         },
         {
          "i": 7,
          "loss": 4.059575080871582
         },
         {
          "i": 8,
          "loss": 3.848510503768921
         },
         {
          "i": 9,
          "loss": 3.6634480953216553
         },
         {
          "i": 10,
          "loss": 3.4951260089874268
         },
         {
          "i": 11,
          "loss": 3.3360772132873535
         },
         {
          "i": 12,
          "loss": 3.1854920387268066
         },
         {
          "i": 13,
          "loss": 3.043935537338257
         },
         {
          "i": 14,
          "loss": 2.9134774208068848
         },
         {
          "i": 15,
          "loss": 2.7923994064331055
         },
         {
          "i": 16,
          "loss": 2.679553270339966
         },
         {
          "i": 17,
          "loss": 2.5739026069641113
         },
         {
          "i": 18,
          "loss": 2.4747214317321777
         },
         {
          "i": 19,
          "loss": 2.3811752796173096
         },
         {
          "i": 20,
          "loss": 2.2923905849456787
         },
         {
          "i": 21,
          "loss": 2.2075395584106445
         },
         {
          "i": 22,
          "loss": 2.127314567565918
         },
         {
          "i": 23,
          "loss": 2.050591230392456
         },
         {
          "i": 24,
          "loss": 1.9764180183410645
         },
         {
          "i": 25,
          "loss": 1.9052177667617798
         },
         {
          "i": 26,
          "loss": 1.8373891115188599
         },
         {
          "i": 27,
          "loss": 1.772352933883667
         },
         {
          "i": 28,
          "loss": 1.7099990844726562
         },
         {
          "i": 29,
          "loss": 1.6503653526306152
         },
         {
          "i": 30,
          "loss": 1.5932409763336182
         },
         {
          "i": 31,
          "loss": 1.538435697555542
         },
         {
          "i": 32,
          "loss": 1.4860323667526245
         },
         {
          "i": 33,
          "loss": 1.4359612464904785
         },
         {
          "i": 34,
          "loss": 1.3883302211761475
         },
         {
          "i": 35,
          "loss": 1.3431872129440308
         },
         {
          "i": 36,
          "loss": 1.3002221584320068
         },
         {
          "i": 37,
          "loss": 1.2597565650939941
         },
         {
          "i": 38,
          "loss": 1.2211220264434814
         },
         {
          "i": 39,
          "loss": 1.1847217082977295
         },
         {
          "i": 40,
          "loss": 1.1498939990997314
         },
         {
          "i": 41,
          "loss": 1.1166197061538696
         },
         {
          "i": 42,
          "loss": 1.0846978425979614
         },
         {
          "i": 43,
          "loss": 1.0540392398834229
         },
         {
          "i": 44,
          "loss": 1.0245786905288696
         },
         {
          "i": 45,
          "loss": 0.9962777495384216
         },
         {
          "i": 46,
          "loss": 0.9689962863922119
         },
         {
          "i": 47,
          "loss": 0.9428204894065857
         },
         {
          "i": 48,
          "loss": 0.9176294207572937
         },
         {
          "i": 49,
          "loss": 0.8934593200683594
         },
         {
          "i": 50,
          "loss": 0.8701973557472229
         },
         {
          "i": 51,
          "loss": 0.8480125665664673
         },
         {
          "i": 52,
          "loss": 0.827330470085144
         },
         {
          "i": 53,
          "loss": 0.8073921799659729
         },
         {
          "i": 54,
          "loss": 0.7881442308425903
         },
         {
          "i": 55,
          "loss": 0.769601583480835
         },
         {
          "i": 56,
          "loss": 0.7516785264015198
         },
         {
          "i": 57,
          "loss": 0.734355092048645
         },
         {
          "i": 58,
          "loss": 0.7176180481910706
         },
         {
          "i": 59,
          "loss": 0.7015135884284973
         },
         {
          "i": 60,
          "loss": 0.6859394311904907
         },
         {
          "i": 61,
          "loss": 0.6708981394767761
         },
         {
          "i": 62,
          "loss": 0.6563958525657654
         },
         {
          "i": 63,
          "loss": 0.6423634886741638
         },
         {
          "i": 64,
          "loss": 0.6287899613380432
         },
         {
          "i": 65,
          "loss": 0.6159073114395142
         },
         {
          "i": 66,
          "loss": 0.6036782264709473
         },
         {
          "i": 67,
          "loss": 0.591836154460907
         },
         {
          "i": 68,
          "loss": 0.5804159641265869
         },
         {
          "i": 69,
          "loss": 0.5693541169166565
         },
         {
          "i": 70,
          "loss": 0.558662474155426
         },
         {
          "i": 71,
          "loss": 0.5483801960945129
         },
         {
          "i": 72,
          "loss": 0.5384368300437927
         },
         {
          "i": 73,
          "loss": 0.528799295425415
         },
         {
          "i": 74,
          "loss": 0.5194591283798218
         },
         {
          "i": 75,
          "loss": 0.5104125142097473
         },
         {
          "i": 76,
          "loss": 0.5017133355140686
         },
         {
          "i": 77,
          "loss": 0.49326926469802856
         },
         {
          "i": 78,
          "loss": 0.48507317900657654
         },
         {
          "i": 79,
          "loss": 0.4771183133125305
         },
         {
          "i": 80,
          "loss": 0.46939849853515625
         },
         {
          "i": 81,
          "loss": 0.46190834045410156
         },
         {
          "i": 82,
          "loss": 0.45463934540748596
         },
         {
          "i": 83,
          "loss": 0.44758063554763794
         },
         {
          "i": 84,
          "loss": 0.4407261610031128
         },
         {
          "i": 85,
          "loss": 0.4340711236000061
         },
         {
          "i": 86,
          "loss": 0.42760980129241943
         },
         {
          "i": 87,
          "loss": 0.4213363230228424
         },
         {
          "i": 88,
          "loss": 0.4152368903160095
         },
         {
          "i": 89,
          "loss": 0.40931105613708496
         },
         {
          "i": 90,
          "loss": 0.40355437994003296
         },
         {
          "i": 91,
          "loss": 0.3979749381542206
         },
         {
          "i": 92,
          "loss": 0.39256781339645386
         },
         {
          "i": 93,
          "loss": 0.38731178641319275
         },
         {
          "i": 94,
          "loss": 0.38219109177589417
         },
         {
          "i": 95,
          "loss": 0.3772149682044983
         },
         {
          "i": 96,
          "loss": 0.3723779022693634
         },
         {
          "i": 97,
          "loss": 0.3676765561103821
         },
         {
          "i": 98,
          "loss": 0.3631068766117096
         },
         {
          "i": 99,
          "loss": 0.35866597294807434
         },
         {
          "i": 100,
          "loss": 0.3543427288532257
         },
         {
          "i": 101,
          "loss": 0.35011786222457886
         },
         {
          "i": 102,
          "loss": 0.3460087478160858
         },
         {
          "i": 103,
          "loss": 0.34201204776763916
         },
         {
          "i": 104,
          "loss": 0.3381250500679016
         },
         {
          "i": 105,
          "loss": 0.33434489369392395
         },
         {
          "i": 106,
          "loss": 0.33066871762275696
         },
         {
          "i": 107,
          "loss": 0.32707592844963074
         },
         {
          "i": 108,
          "loss": 0.3235611319541931
         },
         {
          "i": 109,
          "loss": 0.3201400339603424
         },
         {
          "i": 110,
          "loss": 0.3168061673641205
         },
         {
          "i": 111,
          "loss": 0.3135252892971039
         },
         {
          "i": 112,
          "loss": 0.3103279769420624
         },
         {
          "i": 113,
          "loss": 0.3072132170200348
         },
         {
          "i": 114,
          "loss": 0.30417904257774353
         },
         {
          "i": 115,
          "loss": 0.3012232184410095
         },
         {
          "i": 116,
          "loss": 0.2983439564704895
         },
         {
          "i": 117,
          "loss": 0.2955392301082611
         },
         {
          "i": 118,
          "loss": 0.2928071618080139
         },
         {
          "i": 119,
          "loss": 0.29014575481414795
         },
         {
          "i": 120,
          "loss": 0.2875533699989319
         },
         {
          "i": 121,
          "loss": 0.285028338432312
         },
         {
          "i": 122,
          "loss": 0.28256869316101074
         },
         {
          "i": 123,
          "loss": 0.28017279505729675
         },
         {
          "i": 124,
          "loss": 0.277838796377182
         },
         {
          "i": 125,
          "loss": 0.2755180299282074
         },
         {
          "i": 126,
          "loss": 0.2732549011707306
         },
         {
          "i": 127,
          "loss": 0.2710498869419098
         },
         {
          "i": 128,
          "loss": 0.26890116930007935
         },
         {
          "i": 129,
          "loss": 0.2668057978153229
         },
         {
          "i": 130,
          "loss": 0.2647622227668762
         },
         {
          "i": 131,
          "loss": 0.26276910305023193
         },
         {
          "i": 132,
          "loss": 0.26082542538642883
         },
         {
          "i": 133,
          "loss": 0.25892961025238037
         },
         {
          "i": 134,
          "loss": 0.2570805847644806
         },
         {
          "i": 135,
          "loss": 0.25527727603912354
         },
         {
          "i": 136,
          "loss": 0.25351834297180176
         },
         {
          "i": 137,
          "loss": 0.2518027126789093
         },
         {
          "i": 138,
          "loss": 0.25012922286987305
         },
         {
          "i": 139,
          "loss": 0.24849671125411987
         },
         {
          "i": 140,
          "loss": 0.24690444767475128
         },
         {
          "i": 141,
          "loss": 0.24535103142261505
         },
         {
          "i": 142,
          "loss": 0.2438356578350067
         },
         {
          "i": 143,
          "loss": 0.24235710501670837
         },
         {
          "i": 144,
          "loss": 0.24091707170009613
         },
         {
          "i": 145,
          "loss": 0.2395169883966446
         },
         {
          "i": 146,
          "loss": 0.23813480138778687
         },
         {
          "i": 147,
          "loss": 0.23675571382045746
         },
         {
          "i": 148,
          "loss": 0.2354084849357605
         },
         {
          "i": 149,
          "loss": 0.23409202694892883
         },
         {
          "i": 150,
          "loss": 0.23280586302280426
         },
         {
          "i": 151,
          "loss": 0.2315489649772644
         },
         {
          "i": 152,
          "loss": 0.23032063245773315
         },
         {
          "i": 153,
          "loss": 0.22912029922008514
         },
         {
          "i": 154,
          "loss": 0.22794711589813232
         },
         {
          "i": 155,
          "loss": 0.22680053114891052
         },
         {
          "i": 156,
          "loss": 0.2256796956062317
         },
         {
          "i": 157,
          "loss": 0.22458410263061523
         },
         {
          "i": 158,
          "loss": 0.2235068380832672
         },
         {
          "i": 159,
          "loss": 0.22240722179412842
         },
         {
          "i": 160,
          "loss": 0.22133107483386993
         },
         {
          "i": 161,
          "loss": 0.22027793526649475
         },
         {
          "i": 162,
          "loss": 0.21924708783626556
         },
         {
          "i": 163,
          "loss": 0.21823814511299133
         },
         {
          "i": 164,
          "loss": 0.2172503024339676
         },
         {
          "i": 165,
          "loss": 0.21628330647945404
         },
         {
          "i": 166,
          "loss": 0.21533647179603577
         },
         {
          "i": 167,
          "loss": 0.21440944075584412
         },
         {
          "i": 168,
          "loss": 0.21350164711475372
         },
         {
          "i": 169,
          "loss": 0.21261264383792877
         },
         {
          "i": 170,
          "loss": 0.21174193918704987
         },
         {
          "i": 171,
          "loss": 0.2108890861272812
         },
         {
          "i": 172,
          "loss": 0.21004647016525269
         },
         {
          "i": 173,
          "loss": 0.20917588472366333
         },
         {
          "i": 174,
          "loss": 0.20832237601280212
         },
         {
          "i": 175,
          "loss": 0.20748627185821533
         },
         {
          "i": 176,
          "loss": 0.20666632056236267
         },
         {
          "i": 177,
          "loss": 0.20586223900318146
         },
         {
          "i": 178,
          "loss": 0.20507343113422394
         },
         {
          "i": 179,
          "loss": 0.2042996734380722
         },
         {
          "i": 180,
          "loss": 0.20354072749614716
         },
         {
          "i": 181,
          "loss": 0.20279602706432343
         },
         {
          "i": 182,
          "loss": 0.20206521451473236
         },
         {
          "i": 183,
          "loss": 0.2013482302427292
         },
         {
          "i": 184,
          "loss": 0.2006446123123169
         },
         {
          "i": 185,
          "loss": 0.19995391368865967
         },
         {
          "i": 186,
          "loss": 0.19927604496479034
         },
         {
          "i": 187,
          "loss": 0.19859690964221954
         },
         {
          "i": 188,
          "loss": 0.19789192080497742
         },
         {
          "i": 189,
          "loss": 0.197199285030365
         },
         {
          "i": 190,
          "loss": 0.19651877880096436
         },
         {
          "i": 191,
          "loss": 0.19585002958774567
         },
         {
          "i": 192,
          "loss": 0.19519267976284027
         },
         {
          "i": 193,
          "loss": 0.19454669952392578
         },
         {
          "i": 194,
          "loss": 0.19391155242919922
         },
         {
          "i": 195,
          "loss": 0.19328731298446655
         },
         {
          "i": 196,
          "loss": 0.1926734894514084
         },
         {
          "i": 197,
          "loss": 0.19206993281841278
         },
         {
          "i": 198,
          "loss": 0.19147640466690063
         },
         {
          "i": 199,
          "loss": 0.1908726841211319
         },
         {
          "i": 200,
          "loss": 0.19024671614170074
         },
         {
          "i": 201,
          "loss": 0.18963077664375305
         },
         {
          "i": 202,
          "loss": 0.1889979988336563
         },
         {
          "i": 203,
          "loss": 0.18834620714187622
         },
         {
          "i": 204,
          "loss": 0.18770428001880646
         },
         {
          "i": 205,
          "loss": 0.18707191944122314
         },
         {
          "i": 206,
          "loss": 0.18644891679286957
         },
         {
          "i": 207,
          "loss": 0.18583518266677856
         },
         {
          "i": 208,
          "loss": 0.1852302998304367
         },
         {
          "i": 209,
          "loss": 0.18463438749313354
         },
         {
          "i": 210,
          "loss": 0.18404699862003326
         },
         {
          "i": 211,
          "loss": 0.18347017467021942
         },
         {
          "i": 212,
          "loss": 0.18290174007415771
         },
         {
          "i": 213,
          "loss": 0.18234150111675262
         },
         {
          "i": 214,
          "loss": 0.18178917467594147
         },
         {
          "i": 215,
          "loss": 0.1812448352575302
         },
         {
          "i": 216,
          "loss": 0.18070808053016663
         },
         {
          "i": 217,
          "loss": 0.18017898499965668
         },
         {
          "i": 218,
          "loss": 0.17965736985206604
         },
         {
          "i": 219,
          "loss": 0.17914295196533203
         },
         {
          "i": 220,
          "loss": 0.17863568663597107
         },
         {
          "i": 221,
          "loss": 0.178135484457016
         },
         {
          "i": 222,
          "loss": 0.17764219641685486
         },
         {
          "i": 223,
          "loss": 0.17715556919574738
         },
         {
          "i": 224,
          "loss": 0.1766756772994995
         },
         {
          "i": 225,
          "loss": 0.17620237171649933
         },
         {
          "i": 226,
          "loss": 0.17573533952236176
         },
         {
          "i": 227,
          "loss": 0.17527472972869873
         },
         {
          "i": 228,
          "loss": 0.17482003569602966
         },
         {
          "i": 229,
          "loss": 0.1743716448545456
         },
         {
          "i": 230,
          "loss": 0.1739290952682495
         },
         {
          "i": 231,
          "loss": 0.17349237203598022
         },
         {
          "i": 232,
          "loss": 0.17306141555309296
         },
         {
          "i": 233,
          "loss": 0.1726359724998474
         },
         {
          "i": 234,
          "loss": 0.17221622169017792
         },
         {
          "i": 235,
          "loss": 0.17180176079273224
         },
         {
          "i": 236,
          "loss": 0.17139273881912231
         },
         {
          "i": 237,
          "loss": 0.17098882794380188
         },
         {
          "i": 238,
          "loss": 0.17059001326560974
         },
         {
          "i": 239,
          "loss": 0.17019633948802948
         },
         {
          "i": 240,
          "loss": 0.16980761289596558
         },
         {
          "i": 241,
          "loss": 0.16942377388477325
         },
         {
          "i": 242,
          "loss": 0.16904468834400177
         },
         {
          "i": 243,
          "loss": 0.16867023706436157
         },
         {
          "i": 244,
          "loss": 0.1683005392551422
         },
         {
          "i": 245,
          "loss": 0.16793522238731384
         },
         {
          "i": 246,
          "loss": 0.1675744205713272
         },
         {
          "i": 247,
          "loss": 0.1671990007162094
         },
         {
          "i": 248,
          "loss": 0.1667996197938919
         },
         {
          "i": 249,
          "loss": 0.16640494763851166
         },
         {
          "i": 250,
          "loss": 0.16601502895355225
         },
         {
          "i": 251,
          "loss": 0.16562971472740173
         },
         {
          "i": 252,
          "loss": 0.16524891555309296
         },
         {
          "i": 253,
          "loss": 0.16487249732017517
         },
         {
          "i": 254,
          "loss": 0.16450050473213196
         },
         {
          "i": 255,
          "loss": 0.16413268446922302
         },
         {
          "i": 256,
          "loss": 0.16376915574073792
         },
         {
          "i": 257,
          "loss": 0.16340972483158112
         },
         {
          "i": 258,
          "loss": 0.16305434703826904
         },
         {
          "i": 259,
          "loss": 0.16270296275615692
         },
         {
          "i": 260,
          "loss": 0.1623554676771164
         },
         {
          "i": 261,
          "loss": 0.16201183199882507
         },
         {
          "i": 262,
          "loss": 0.16167213022708893
         },
         {
          "i": 263,
          "loss": 0.16133607923984528
         },
         {
          "i": 264,
          "loss": 0.16100364923477173
         },
         {
          "i": 265,
          "loss": 0.1606750339269638
         },
         {
          "i": 266,
          "loss": 0.1603498011827469
         },
         {
          "i": 267,
          "loss": 0.16002826392650604
         },
         {
          "i": 268,
          "loss": 0.1597101390361786
         },
         {
          "i": 269,
          "loss": 0.15939535200595856
         },
         {
          "i": 270,
          "loss": 0.15908388793468475
         },
         {
          "i": 271,
          "loss": 0.15877579152584076
         },
         {
          "i": 272,
          "loss": 0.15847088396549225
         },
         {
          "i": 273,
          "loss": 0.1581692099571228
         },
         {
          "i": 274,
          "loss": 0.15787065029144287
         },
         {
          "i": 275,
          "loss": 0.15757526457309723
         },
         {
          "i": 276,
          "loss": 0.15728290379047394
         },
         {
          "i": 277,
          "loss": 0.1569935381412506
         },
         {
          "i": 278,
          "loss": 0.15670709311962128
         },
         {
          "i": 279,
          "loss": 0.15642355382442474
         },
         {
          "i": 280,
          "loss": 0.15614290535449982
         },
         {
          "i": 281,
          "loss": 0.1558651179075241
         },
         {
          "i": 282,
          "loss": 0.15559010207653046
         },
         {
          "i": 283,
          "loss": 0.15531739592552185
         },
         {
          "i": 284,
          "loss": 0.15504689514636993
         },
         {
          "i": 285,
          "loss": 0.15477894246578217
         },
         {
          "i": 286,
          "loss": 0.15451352298259735
         },
         {
          "i": 287,
          "loss": 0.15425069630146027
         },
         {
          "i": 288,
          "loss": 0.15399031341075897
         },
         {
          "i": 289,
          "loss": 0.15373238921165466
         },
         {
          "i": 290,
          "loss": 0.15347690880298615
         },
         {
          "i": 291,
          "loss": 0.15322376787662506
         },
         {
          "i": 292,
          "loss": 0.15297305583953857
         },
         {
          "i": 293,
          "loss": 0.15272466838359833
         },
         {
          "i": 294,
          "loss": 0.15247848629951477
         },
         {
          "i": 295,
          "loss": 0.15223462879657745
         },
         {
          "i": 296,
          "loss": 0.15199293196201324
         },
         {
          "i": 297,
          "loss": 0.15175344049930573
         },
         {
          "i": 298,
          "loss": 0.15151609480381012
         },
         {
          "i": 299,
          "loss": 0.15128082036972046
         },
         {
          "i": 300,
          "loss": 0.15104778110980988
         },
         {
          "i": 301,
          "loss": 0.15081658959388733
         },
         {
          "i": 302,
          "loss": 0.1505875140428543
         },
         {
          "i": 303,
          "loss": 0.1503600776195526
         },
         {
          "i": 304,
          "loss": 0.15013383328914642
         },
         {
          "i": 305,
          "loss": 0.14990949630737305
         },
         {
          "i": 306,
          "loss": 0.1496870368719101
         },
         {
          "i": 307,
          "loss": 0.14946645498275757
         },
         {
          "i": 308,
          "loss": 0.1492476612329483
         },
         {
          "i": 309,
          "loss": 0.14903074502944946
         },
         {
          "i": 310,
          "loss": 0.14881554245948792
         },
         {
          "i": 311,
          "loss": 0.14860205352306366
         },
         {
          "i": 312,
          "loss": 0.14838974177837372
         },
         {
          "i": 313,
          "loss": 0.14817851781845093
         },
         {
          "i": 314,
          "loss": 0.14796899259090424
         },
         {
          "i": 315,
          "loss": 0.1477610170841217
         },
         {
          "i": 316,
          "loss": 0.1475546658039093
         },
         {
          "i": 317,
          "loss": 0.14734984934329987
         },
         {
          "i": 318,
          "loss": 0.14714665710926056
         },
         {
          "i": 319,
          "loss": 0.1469450443983078
         },
         {
          "i": 320,
          "loss": 0.14674484729766846
         },
         {
          "i": 321,
          "loss": 0.1465461552143097
         },
         {
          "i": 322,
          "loss": 0.14634452760219574
         },
         {
          "i": 323,
          "loss": 0.14611348509788513
         },
         {
          "i": 324,
          "loss": 0.14588458836078644
         },
         {
          "i": 325,
          "loss": 0.14565734565258026
         },
         {
          "i": 326,
          "loss": 0.14543214440345764
         },
         {
          "i": 327,
          "loss": 0.14520855247974396
         },
         {
          "i": 328,
          "loss": 0.1449868381023407
         },
         {
          "i": 329,
          "loss": 0.14476831257343292
         },
         {
          "i": 330,
          "loss": 0.14455150067806244
         },
         {
          "i": 331,
          "loss": 0.1443362981081009
         },
         {
          "i": 332,
          "loss": 0.14412268996238708
         },
         {
          "i": 333,
          "loss": 0.1439114511013031
         },
         {
          "i": 334,
          "loss": 0.1437024474143982
         },
         {
          "i": 335,
          "loss": 0.14349502325057983
         },
         {
          "i": 336,
          "loss": 0.1432892084121704
         },
         {
          "i": 337,
          "loss": 0.14308486878871918
         },
         {
          "i": 338,
          "loss": 0.14288204908370972
         },
         {
          "i": 339,
          "loss": 0.14268085360527039
         },
         {
          "i": 340,
          "loss": 0.1424809992313385
         },
         {
          "i": 341,
          "loss": 0.14228272438049316
         },
         {
          "i": 342,
          "loss": 0.14208580553531647
         },
         {
          "i": 343,
          "loss": 0.14189031720161438
         },
         {
          "i": 344,
          "loss": 0.14169622957706451
         },
         {
          "i": 345,
          "loss": 0.14150355756282806
         },
         {
          "i": 346,
          "loss": 0.14131218194961548
         },
         {
          "i": 347,
          "loss": 0.14112220704555511
         },
         {
          "i": 348,
          "loss": 0.1409335732460022
         },
         {
          "i": 349,
          "loss": 0.14074623584747314
         },
         {
          "i": 350,
          "loss": 0.14056019484996796
         },
         {
          "i": 351,
          "loss": 0.1403755247592926
         },
         {
          "i": 352,
          "loss": 0.14019206166267395
         },
         {
          "i": 353,
          "loss": 0.1400098353624344
         },
         {
          "i": 354,
          "loss": 0.1398288607597351
         },
         {
          "i": 355,
          "loss": 0.1396491378545761
         },
         {
          "i": 356,
          "loss": 0.13947056233882904
         },
         {
          "i": 357,
          "loss": 0.1392931491136551
         },
         {
          "i": 358,
          "loss": 0.13911685347557068
         },
         {
          "i": 359,
          "loss": 0.13894188404083252
         },
         {
          "i": 360,
          "loss": 0.13876798748970032
         },
         {
          "i": 361,
          "loss": 0.138595312833786
         },
         {
          "i": 362,
          "loss": 0.13842365145683289
         },
         {
          "i": 363,
          "loss": 0.13825315237045288
         },
         {
          "i": 364,
          "loss": 0.1380835920572281
         },
         {
          "i": 365,
          "loss": 0.1379152536392212
         },
         {
          "i": 366,
          "loss": 0.1377478986978531
         },
         {
          "i": 367,
          "loss": 0.13758167624473572
         },
         {
          "i": 368,
          "loss": 0.13741645216941833
         },
         {
          "i": 369,
          "loss": 0.13725224137306213
         },
         {
          "i": 370,
          "loss": 0.1370891034603119
         },
         {
          "i": 371,
          "loss": 0.13692697882652283
         },
         {
          "i": 372,
          "loss": 0.13676568865776062
         },
         {
          "i": 373,
          "loss": 0.13660559058189392
         },
         {
          "i": 374,
          "loss": 0.13644611835479736
         },
         {
          "i": 375,
          "loss": 0.13628658652305603
         },
         {
          "i": 376,
          "loss": 0.13612793385982513
         },
         {
          "i": 377,
          "loss": 0.13597023487091064
         },
         {
          "i": 378,
          "loss": 0.13581351935863495
         },
         {
          "i": 379,
          "loss": 0.13565976917743683
         },
         {
          "i": 380,
          "loss": 0.13550680875778198
         },
         {
          "i": 381,
          "loss": 0.13535480201244354
         },
         {
          "i": 382,
          "loss": 0.13520365953445435
         },
         {
          "i": 383,
          "loss": 0.13505327701568604
         },
         {
          "i": 384,
          "loss": 0.13490375876426697
         },
         {
          "i": 385,
          "loss": 0.13475507497787476
         },
         {
          "i": 386,
          "loss": 0.13460709154605865
         },
         {
          "i": 387,
          "loss": 0.1344596892595291
         },
         {
          "i": 388,
          "loss": 0.13431333005428314
         },
         {
          "i": 389,
          "loss": 0.1341675966978073
         },
         {
          "i": 390,
          "loss": 0.13402217626571655
         },
         {
          "i": 391,
          "loss": 0.13387686014175415
         },
         {
          "i": 392,
          "loss": 0.13373222947120667
         },
         {
          "i": 393,
          "loss": 0.13358840346336365
         },
         {
          "i": 394,
          "loss": 0.13344527781009674
         },
         {
          "i": 395,
          "loss": 0.13330288231372833
         },
         {
          "i": 396,
          "loss": 0.13316112756729126
         },
         {
          "i": 397,
          "loss": 0.13302014768123627
         },
         {
          "i": 398,
          "loss": 0.13287988305091858
         },
         {
          "i": 399,
          "loss": 0.13274021446704865
         },
         {
          "i": 400,
          "loss": 0.13260133564472198
         },
         {
          "i": 401,
          "loss": 0.13245828449726105
         },
         {
          "i": 402,
          "loss": 0.13229253888130188
         },
         {
          "i": 403,
          "loss": 0.13212771713733673
         },
         {
          "i": 404,
          "loss": 0.13196299970149994
         },
         {
          "i": 405,
          "loss": 0.13179920613765717
         },
         {
          "i": 406,
          "loss": 0.13163621723651886
         },
         {
          "i": 407,
          "loss": 0.13147476315498352
         },
         {
          "i": 408,
          "loss": 0.1313152015209198
         },
         {
          "i": 409,
          "loss": 0.13115637004375458
         },
         {
          "i": 410,
          "loss": 0.13099855184555054
         },
         {
          "i": 411,
          "loss": 0.1308414787054062
         },
         {
          "i": 412,
          "loss": 0.1306852102279663
         },
         {
          "i": 413,
          "loss": 0.13052967190742493
         },
         {
          "i": 414,
          "loss": 0.1303749829530716
         },
         {
          "i": 415,
          "loss": 0.13022106885910034
         },
         {
          "i": 416,
          "loss": 0.13006801903247833
         },
         {
          "i": 417,
          "loss": 0.12991566956043243
         },
         {
          "i": 418,
          "loss": 0.12976406514644623
         },
         {
          "i": 419,
          "loss": 0.12961304187774658
         },
         {
          "i": 420,
          "loss": 0.12946189939975739
         },
         {
          "i": 421,
          "loss": 0.1293114870786667
         },
         {
          "i": 422,
          "loss": 0.12916171550750732
         },
         {
          "i": 423,
          "loss": 0.12901246547698975
         },
         {
          "i": 424,
          "loss": 0.1288631111383438
         },
         {
          "i": 425,
          "loss": 0.12871447205543518
         },
         {
          "i": 426,
          "loss": 0.12856630980968475
         },
         {
          "i": 427,
          "loss": 0.12841898202896118
         },
         {
          "i": 428,
          "loss": 0.12827225029468536
         },
         {
          "i": 429,
          "loss": 0.12812615931034088
         },
         {
          "i": 430,
          "loss": 0.12798069417476654
         },
         {
          "i": 431,
          "loss": 0.12783589959144592
         },
         {
          "i": 432,
          "loss": 0.12769180536270142
         },
         {
          "i": 433,
          "loss": 0.1275482326745987
         },
         {
          "i": 434,
          "loss": 0.1274052858352661
         },
         {
          "i": 435,
          "loss": 0.12726303935050964
         },
         {
          "i": 436,
          "loss": 0.12712137401103973
         },
         {
          "i": 437,
          "loss": 0.126980260014534
         },
         {
          "i": 438,
          "loss": 0.12683972716331482
         },
         {
          "i": 439,
          "loss": 0.12669990956783295
         },
         {
          "i": 440,
          "loss": 0.12656061351299286
         },
         {
          "i": 441,
          "loss": 0.12642183899879456
         },
         {
          "i": 442,
          "loss": 0.12628372013568878
         },
         {
          "i": 443,
          "loss": 0.1261461079120636
         },
         {
          "i": 444,
          "loss": 0.12600913643836975
         },
         {
          "i": 445,
          "loss": 0.1258726716041565
         },
         {
          "i": 446,
          "loss": 0.12573671340942383
         },
         {
          "i": 447,
          "loss": 0.1256013810634613
         },
         {
          "i": 448,
          "loss": 0.12546664476394653
         },
         {
          "i": 449,
          "loss": 0.12533234059810638
         },
         {
          "i": 450,
          "loss": 0.1251985877752304
         },
         {
          "i": 451,
          "loss": 0.12506534159183502
         },
         {
          "i": 452,
          "loss": 0.12493274360895157
         },
         {
          "i": 453,
          "loss": 0.12480053305625916
         },
         {
          "i": 454,
          "loss": 0.12466886639595032
         },
         {
          "i": 455,
          "loss": 0.12453777343034744
         },
         {
          "i": 456,
          "loss": 0.1244070902466774
         },
         {
          "i": 457,
          "loss": 0.12427696585655212
         },
         {
          "i": 458,
          "loss": 0.12414735555648804
         },
         {
          "i": 459,
          "loss": 0.12401825189590454
         },
         {
          "i": 460,
          "loss": 0.12388958036899567
         },
         {
          "i": 461,
          "loss": 0.12376118451356888
         },
         {
          "i": 462,
          "loss": 0.12363279610872269
         },
         {
          "i": 463,
          "loss": 0.12350475043058395
         },
         {
          "i": 464,
          "loss": 0.12337732315063477
         },
         {
          "i": 465,
          "loss": 0.12325017899274826
         },
         {
          "i": 466,
          "loss": 0.12312358617782593
         },
         {
          "i": 467,
          "loss": 0.12299743294715881
         },
         {
          "i": 468,
          "loss": 0.12287180870771408
         },
         {
          "i": 469,
          "loss": 0.12274660170078278
         },
         {
          "i": 470,
          "loss": 0.12262176722288132
         },
         {
          "i": 471,
          "loss": 0.12249740958213806
         },
         {
          "i": 472,
          "loss": 0.12237348407506943
         },
         {
          "i": 473,
          "loss": 0.12224998325109482
         },
         {
          "i": 474,
          "loss": 0.12212688475847244
         },
         {
          "i": 475,
          "loss": 0.1220042034983635
         },
         {
          "i": 476,
          "loss": 0.12188196182250977
         },
         {
          "i": 477,
          "loss": 0.12176015228033066
         },
         {
          "i": 478,
          "loss": 0.12163873016834259
         },
         {
          "i": 479,
          "loss": 0.12151769548654556
         },
         {
          "i": 480,
          "loss": 0.12139685451984406
         },
         {
          "i": 481,
          "loss": 0.12127657234668732
         },
         {
          "i": 482,
          "loss": 0.12115656584501266
         },
         {
          "i": 483,
          "loss": 0.12103677541017532
         },
         {
          "i": 484,
          "loss": 0.12091708183288574
         },
         {
          "i": 485,
          "loss": 0.12079776078462601
         },
         {
          "i": 486,
          "loss": 0.12067882716655731
         },
         {
          "i": 487,
          "loss": 0.12056030333042145
         },
         {
          "i": 488,
          "loss": 0.12044208496809006
         },
         {
          "i": 489,
          "loss": 0.12032436579465866
         },
         {
          "i": 490,
          "loss": 0.12020693719387054
         },
         {
          "i": 491,
          "loss": 0.1200898289680481
         },
         {
          "i": 492,
          "loss": 0.11997320502996445
         },
         {
          "i": 493,
          "loss": 0.11985698342323303
         },
         {
          "i": 494,
          "loss": 0.11974086612462997
         },
         {
          "i": 495,
          "loss": 0.1196252703666687
         },
         {
          "i": 496,
          "loss": 0.11951011419296265
         },
         {
          "i": 497,
          "loss": 0.11939515173435211
         },
         {
          "i": 498,
          "loss": 0.11928066611289978
         },
         {
          "i": 499,
          "loss": 0.11916644126176834
         }
        ]
       },
       "encoding": {
        "x": {
         "field": "i",
         "type": "quantitative"
        },
        "y": {
         "field": "loss",
         "type": "quantitative"
        }
       },
       "height": 100,
       "mark": "line"
      },
      "image/png": "[encoded data removed]",
      "text/plain": [
       "<VegaLite 3 object>\n",
       "\n",
       "If you see this message, it means the renderer has not been properly enabled\n",
       "for the frontend that you are using. For more information, see\n",
       "https://altair-viz.github.io/user_guide/troubleshooting.html\n"
      ]
     },
     "execution_count": 29,
     "metadata": {},
     "output_type": "execute_result"
    }
   ],
   "source": [
    "loss_df = pd.DataFrame({'i':range(500), 'loss':loss_record})\n",
    "alt.Chart(loss_df, height=100).mark_line().encode(x='i', y='loss')"
   ]
  },
  {
   "cell_type": "code",
   "execution_count": 30,
   "metadata": {},
   "outputs": [
    {
     "data": {
      "application/vnd.vegalite.v3+json": {
       "$schema": "https://vega.github.io/schema/vega-lite/v3.4.0.json",
       "config": {
        "mark": {
         "tooltip": null
        },
        "view": {
         "height": 300,
         "width": 400
        }
       },
       "data": {
        "name": "data-2d3fdefa015394e211b93237784f2868"
       },
       "datasets": {
        "data-2d3fdefa015394e211b93237784f2868": [
         {
          "x1": 0.9428676962852478,
          "y": 0.8889995217323303,
          "ŷ": 1.1448355913162231
         },
         {
          "x1": 0.4105151295661926,
          "y": 0.1685226708650589,
          "ŷ": 0.19392788410186768
         },
         {
          "x1": 1.0388299226760864,
          "y": 1.0791676044464111,
          "ŷ": 1.34742271900177
         },
         {
          "x1": 0.6057164072990417,
          "y": 0.36689236760139465,
          "ŷ": 0.4811304807662964
         },
         {
          "x1": -2.7394394874572754,
          "y": 7.504528522491455,
          "ŷ": 6.3564300537109375
         },
         {
          "x1": 0.18451879918575287,
          "y": 0.03404718637466431,
          "ŷ": -0.13858413696289062
         },
         {
          "x1": 0.7027134299278259,
          "y": 0.4938061535358429,
          "ŷ": 0.6426941156387329
         },
         {
          "x1": 0.3015485405921936,
          "y": 0.09093151986598969,
          "ŷ": 0.033603549003601074
         },
         {
          "x1": 0.10713471472263336,
          "y": 0.011477846652269363,
          "ŷ": -0.2524404525756836
         },
         {
          "x1": 0.12167960405349731,
          "y": 0.014805926010012627,
          "ŷ": -0.231040358543396
         },
         {
          "x1": -0.11067730188369751,
          "y": 0.012249465100467205,
          "ŷ": -0.46664607524871826
         },
         {
          "x1": -0.9489158391952515,
          "y": 0.9004412889480591,
          "ŷ": 1.133935570716858
         },
         {
          "x1": -0.37673842906951904,
          "y": 0.14193184673786163,
          "ŷ": -0.035046935081481934
         },
         {
          "x1": 1.8113701343536377,
          "y": 3.2810616493225098,
          "ŷ": 3.330284595489502
         },
         {
          "x1": 1.134777545928955,
          "y": 1.2877200841903687,
          "ŷ": 1.5936895608901978
         },
         {
          "x1": -1.8112503290176392,
          "y": 3.280627727508545,
          "ŷ": 3.6491427421569824
         },
         {
          "x1": -0.6196664571762085,
          "y": 0.38398653268814087,
          "ŷ": 0.3590261936187744
         },
         {
          "x1": -0.20752528309822083,
          "y": 0.04306674376130104,
          "ŷ": -0.3095412254333496
         },
         {
          "x1": 1.703284502029419,
          "y": 2.9011781215667725,
          "ŷ": 3.052863597869873
         },
         {
          "x1": -1.139309048652649,
          "y": 1.298025131225586,
          "ŷ": 1.6892632246017456
         },
         {
          "x1": -2.2543230056762695,
          "y": 5.081972122192383,
          "ŷ": 4.941470623016357
         },
         {
          "x1": 2.0764966011047363,
          "y": 4.311838150024414,
          "ŷ": 4.010778903961182
         },
         {
          "x1": -1.6521371603012085,
          "y": 2.7295572757720947,
          "ŷ": 3.1850504875183105
         },
         {
          "x1": -0.5751289129257202,
          "y": 0.330773264169693,
          "ŷ": 0.2867783308029175
         },
         {
          "x1": -0.5024901032447815,
          "y": 0.25249630212783813,
          "ŷ": 0.16894495487213135
         },
         {
          "x1": -1.343695044517517,
          "y": 1.8055163621902466,
          "ŷ": 2.2854042053222656
         },
         {
          "x1": -0.5871181488037109,
          "y": 0.344707727432251,
          "ŷ": 0.30622708797454834
         },
         {
          "x1": -1.3959624767303467,
          "y": 1.9487112760543823,
          "ŷ": 2.437854766845703
         },
         {
          "x1": -2.17250394821167,
          "y": 4.719773292541504,
          "ŷ": 4.702826023101807
         },
         {
          "x1": 0.10373615473508835,
          "y": 0.010761190205812454,
          "ŷ": -0.25744086503982544
         },
         {
          "x1": 0.2682378590106964,
          "y": 0.07195154577493668,
          "ŷ": -0.015406966209411621
         },
         {
          "x1": 0.0015036266995593905,
          "y": 2.260893325001234e-06,
          "ŷ": -0.4078572392463684
         },
         {
          "x1": 0.8146382570266724,
          "y": 0.6636354923248291,
          "ŷ": 0.8767191171646118
         },
         {
          "x1": -1.042719841003418,
          "y": 1.0872646570205688,
          "ŷ": 1.407537579536438
         },
         {
          "x1": 0.1415998786687851,
          "y": 0.020050525665283203,
          "ŷ": -0.20173144340515137
         },
         {
          "x1": 0.1628839075565338,
          "y": 0.026531167328357697,
          "ŷ": -0.1704157590866089
         },
         {
          "x1": -1.2494944334030151,
          "y": 1.5612363815307617,
          "ŷ": 2.010645866394043
         },
         {
          "x1": 0.5084502100944519,
          "y": 0.2585216164588928,
          "ŷ": 0.3380213975906372
         },
         {
          "x1": 0.4802173972129822,
          "y": 0.2306087464094162,
          "ŷ": 0.2964819669723511
         },
         {
          "x1": -0.4891881048679352,
          "y": 0.23930500447750092,
          "ŷ": 0.14736676216125488
         },
         {
          "x1": -0.897309422492981,
          "y": 0.8051642179489136,
          "ŷ": 0.9834128618240356
         },
         {
          "x1": 0.2297353297472,
          "y": 0.052778322249650955,
          "ŷ": -0.07205629348754883
         },
         {
          "x1": -0.1653076559305191,
          "y": 0.027326621115207672,
          "ŷ": -0.3780258297920227
         },
         {
          "x1": -0.6914819478988647,
          "y": 0.4781472980976105,
          "ŷ": 0.5073480606079102
         },
         {
          "x1": -1.1393663883209229,
          "y": 1.2981557846069336,
          "ŷ": 1.689430832862854
         },
         {
          "x1": -0.037990935146808624,
          "y": 0.0014433111064136028,
          "ŷ": -0.46596622467041016
         },
         {
          "x1": 0.2798241376876831,
          "y": 0.07830154895782471,
          "ŷ": 0.0016402006149291992
         },
         {
          "x1": -1.0665847063064575,
          "y": 1.1376029253005981,
          "ŷ": 1.4771453142166138
         },
         {
          "x1": 0.44039300084114075,
          "y": 0.1939459890127182,
          "ŷ": 0.23788774013519287
         },
         {
          "x1": -1.0018784999847412,
          "y": 1.003760576248169,
          "ŷ": 1.2884141206741333
         },
         {
          "x1": -0.3486539125442505,
          "y": 0.12155955284833908,
          "ŷ": -0.080605149269104
         },
         {
          "x1": 0.351340115070343,
          "y": 0.12343987822532654,
          "ŷ": 0.10686278343200684
         },
         {
          "x1": 0.6298627853393555,
          "y": 0.3967271149158478,
          "ŷ": 0.5166574716567993
         },
         {
          "x1": -0.5535277724266052,
          "y": 0.30639299750328064,
          "ŷ": 0.2517373561859131
         },
         {
          "x1": -1.0206056833267212,
          "y": 1.0416359901428223,
          "ŷ": 1.3430362939834595
         },
         {
          "x1": -0.5084967017173767,
          "y": 0.2585688829421997,
          "ŷ": 0.17868876457214355
         },
         {
          "x1": -0.658214807510376,
          "y": 0.4332467317581177,
          "ŷ": 0.42796897888183594
         },
         {
          "x1": 0.4818519055843353,
          "y": 0.23218126595020294,
          "ŷ": 0.29888665676116943
         },
         {
          "x1": 1.0926600694656372,
          "y": 1.1939060688018799,
          "ŷ": 1.485587239265442
         },
         {
          "x1": -1.2864609956741333,
          "y": 1.6549818515777588,
          "ŷ": 2.118467330932617
         },
         {
          "x1": 1.1741172075271606,
          "y": 1.3785512447357178,
          "ŷ": 1.6946617364883423
         },
         {
          "x1": -0.9881125688552856,
          "y": 0.9763664603233337,
          "ŷ": 1.2482620477676392
         },
         {
          "x1": -0.6366197466850281,
          "y": 0.40528470277786255,
          "ŷ": 0.3865276575088501
         },
         {
          "x1": 1.009556531906128,
          "y": 1.0192043781280518,
          "ŷ": 1.2842763662338257
         },
         {
          "x1": 0.7387657761573792,
          "y": 0.5457748770713806,
          "ŷ": 0.7180763483047485
         },
         {
          "x1": 1.1223071813583374,
          "y": 1.2595734596252441,
          "ŷ": 1.561682105064392
         },
         {
          "x1": -0.682243287563324,
          "y": 0.46545588970184326,
          "ŷ": 0.48530352115631104
         },
         {
          "x1": -0.8056502938270569,
          "y": 0.6490724086761475,
          "ŷ": 0.7548185586929321
         },
         {
          "x1": 0.32741057872772217,
          "y": 0.10719768702983856,
          "ŷ": 0.07165491580963135
         },
         {
          "x1": 1.2398488521575928,
          "y": 1.5372251272201538,
          "ŷ": 1.8633733987808228
         },
         {
          "x1": -0.43356359004974365,
          "y": 0.1879773885011673,
          "ŷ": 0.05713367462158203
         },
         {
          "x1": -0.27180641889572144,
          "y": 0.07387872785329819,
          "ŷ": -0.20526552200317383
         },
         {
          "x1": -1.4543530941009521,
          "y": 2.115142822265625,
          "ŷ": 2.6081652641296387
         },
         {
          "x1": -0.761326014995575,
          "y": 0.5796173214912415,
          "ŷ": 0.6638592481613159
         },
         {
          "x1": -0.8591729998588562,
          "y": 0.7381782531738281,
          "ŷ": 0.8721789121627808
         },
         {
          "x1": -1.8920748233795166,
          "y": 3.5799472332000732,
          "ŷ": 3.8848867416381836
         },
         {
          "x1": -1.696606993675232,
          "y": 2.8784751892089844,
          "ŷ": 3.3147573471069336
         },
         {
          "x1": 1.017185091972351,
          "y": 1.0346654653549194,
          "ŷ": 1.3002270460128784
         },
         {
          "x1": 1.7721567153930664,
          "y": 3.1405394077301025,
          "ŷ": 3.2296361923217773
         },
         {
          "x1": -0.5902632474899292,
          "y": 0.3484106957912445,
          "ŷ": 0.3113290071487427
         },
         {
          "x1": -2.3360815048217773,
          "y": 5.457276821136475,
          "ŷ": 5.179939270019531
         },
         {
          "x1": -0.36527273058891296,
          "y": 0.13342416286468506,
          "ŷ": -0.053646206855773926
         },
         {
          "x1": -0.5647988319396973,
          "y": 0.31899771094322205,
          "ŷ": 0.2700209617614746
         },
         {
          "x1": -0.25131353735923767,
          "y": 0.06315849721431732,
          "ŷ": -0.2385087013244629
         },
         {
          "x1": 2.0877339839935303,
          "y": 4.358633041381836,
          "ŷ": 4.039621829986572
         },
         {
          "x1": -1.0112320184707642,
          "y": 1.022590160369873,
          "ŷ": 1.3156956434249878
         },
         {
          "x1": 0.05594184994697571,
          "y": 0.003129490651190281,
          "ŷ": -0.3277614116668701
         },
         {
          "x1": 0.4114016592502594,
          "y": 0.16925132274627686,
          "ŷ": 0.19523215293884277
         },
         {
          "x1": 2.1957364082336426,
          "y": 4.821258544921875,
          "ŷ": 4.316829204559326
         },
         {
          "x1": -1.639082431793213,
          "y": 2.686591148376465,
          "ŷ": 3.146973133087158
         },
         {
          "x1": 0.38181811571121216,
          "y": 0.14578507840633392,
          "ŷ": 0.15170562267303467
         },
         {
          "x1": 0.5301257371902466,
          "y": 0.28103330731391907,
          "ŷ": 0.3699127435684204
         },
         {
          "x1": -0.6498574614524841,
          "y": 0.42231473326683044,
          "ŷ": 0.40802741050720215
         },
         {
          "x1": -0.8047161102294922,
          "y": 0.6475680470466614,
          "ŷ": 0.752901554107666
         },
         {
          "x1": 1.9523613452911377,
          "y": 3.8117148876190186,
          "ŷ": 3.6921634674072266
         },
         {
          "x1": 0.6842129826545715,
          "y": 0.4681473970413208,
          "ŷ": 0.6040114164352417
         },
         {
          "x1": 0.7467349171638489,
          "y": 0.5576130151748657,
          "ŷ": 0.7347391843795776
         },
         {
          "x1": -1.5036330223083496,
          "y": 2.2609121799468994,
          "ŷ": 2.7519025802612305
         },
         {
          "x1": -0.32895931601524353,
          "y": 0.10821422934532166,
          "ŷ": -0.11255323886871338
         },
         {
          "x1": -3.0460054874420166,
          "y": 9.278149604797363,
          "ŷ": 7.250604152679443
         }
        ]
       },
       "layer": [
        {
         "encoding": {
          "x": {
           "field": "x1",
           "type": "quantitative"
          },
          "y": {
           "field": "ŷ",
           "type": "quantitative"
          }
         },
         "mark": "line"
        },
        {
         "encoding": {
          "x": {
           "field": "x1",
           "type": "quantitative"
          },
          "y": {
           "field": "y",
           "type": "quantitative"
          }
         },
         "mark": "point"
        }
       ]
      },
      "image/png": "[encoded data removed]",
      "text/plain": [
       "<VegaLite 3 object>\n",
       "\n",
       "If you see this message, it means the renderer has not been properly enabled\n",
       "for the frontend that you are using. For more information, see\n",
       "https://altair-viz.github.io/user_guide/troubleshooting.html\n"
      ]
     },
     "execution_count": 30,
     "metadata": {},
     "output_type": "execute_result"
    }
   ],
   "source": [
    "preds = pd.DataFrame({'ŷ':ŷ.detach().numpy()[:,0], 'y':y[:,0], 'x1':x[:,0]})\n",
    "(alt.Chart(preds).mark_line().encode(x='x1', y='ŷ') + \n",
    "alt.Chart(preds).mark_point().encode(x='x1', y='y'))"
   ]
  },
  {
   "cell_type": "markdown",
   "metadata": {},
   "source": [
    "And now the loss is lower and the fit is clearly much improved. "
   ]
  },
  {
   "cell_type": "markdown",
   "metadata": {
    "tags": [
     "popout"
    ]
   },
   "source": [
    "---\n",
    "**EXERCISE** \n",
    "\n",
    "Plot $z_1$ vs $x$. Repeat for each $z_j$. What do you see? \n",
    "    \n",
    "Now make plots of each $z_j$ vs. $y$. Is the relationship between each $z_j$ and $y$ closer to linear than the relationship between $x$ and $y$? Does this explain why the linear regression $\\hat y = \\alpha_{1:h} z + \\alpha_0$ produces a better fit than the linear regression $\\hat y = \\beta_{1:p} x + \\beta_0$?\n",
    "\n",
    "---"
   ]
  },
  {
   "cell_type": "markdown",
   "metadata": {
    "tags": [
     "popout"
    ]
   },
   "source": [
    "**EXERCISE** \n",
    "\n",
    "Change the value of $h$ in the code above so that hidden layer has size 3 instead of 10. How does that change the fit? What if you set $h=100$? \n",
    "\n",
    "---"
   ]
  },
  {
   "cell_type": "markdown",
   "metadata": {
    "tags": [
     "popout"
    ]
   },
   "source": [
    "**EXERCISE** \n",
    "\n",
    "When fitting linear models, it's a common practice to break continuous variables up into categories. For instance, let's say we're predicting someone's weight based on their age. Instead of modeling $\\text{weight} = \\beta_0 + \\beta_1 \\times \\text{age}$, we could break age up into 10 categories (say: age < 10 years, 10 < age < 20,... 90 < age) and fit our model using those categories as predictors instead. Basically, we have a set of regions $A = \\{(0,10],(10,20],\\dots (90,\\infty]\\}$ and our new variables are $z_j = I_{A_j}(x)$ where $I_{A_j}$ is the indicator function that returns 1 if $x \\in A_j$ and 0 otherwise. Now we're modeling $\\text{weight} = \\alpha_0 + \\alpha_1 z_1 + \\dots \\alpha_{10} z_{10}$ instead of $\\text{weight} = \\beta_0 + \\beta_1 \\times \\text{age}$.\n",
    "    \n",
    "Considering a population including both adults and children, do you think the relationship between age and weight will be linear? What will that mean if we try to fit the model $\\text{weight} = \\beta_0 + \\beta_1 \\times \\text{age}$?\n",
    "    \n",
    "How is this problem addressed by transforming $x$ into 10 new predictors $z_j$ using the indicator functions? What is the relationship between any $z_j$ and $y$?\n",
    "    \n",
    "How does this relate to our neural networks?\n",
    "    \n",
    "----"
   ]
  },
  {
   "cell_type": "markdown",
   "metadata": {},
   "source": [
    "## Conclusion"
   ]
  },
  {
   "cell_type": "markdown",
   "metadata": {},
   "source": [
    "We saw how we can get a nonlinear fit out of stacking linear models and nonlinear activation functions together."
   ]
  }
 ],
 "metadata": {
  "kernelspec": {
   "display_name": "Python 3",
   "language": "python",
   "name": "python3"
  },
  "language_info": {
   "codemirror_mode": {
    "name": "ipython",
    "version": 3
   },
   "file_extension": ".py",
   "mimetype": "text/x-python",
   "name": "python",
   "nbconvert_exporter": "python",
   "pygments_lexer": "ipython3",
   "version": "3.7.6"
  },
  "toc-autonumbering": true,
  "toc-showcode": false,
  "toc-showmarkdowntxt": false,
  "toc-showtags": false
 },
 "nbformat": 4,
 "nbformat_minor": 4
}
