{
 "cells": [
  {
   "cell_type": "markdown",
   "metadata": {},
   "source": [
    "# Building a Model"
   ]
  },
  {
   "cell_type": "markdown",
   "metadata": {},
   "source": [
    "This chapter is about how supervised learning algorithms \"learn\" a relationship between $x$ and $y$ that can be used to predict future $y$. That relationship is a *model* that is mathematically represented by a function $y \\approx f(x)$. We'll see that \"learning\" is a bit of a misnomer because what we're actually going to do is *search* among a number of pre-specified relationships and pick the one that predicts most accurately. The core components of any supervised learning algorithm are therefore (1) a set of possible relationships, (2) a way to judge prediction accuracy, and (3) a way to search the set to find the most accurate relationship."
   ]
  },
  {
   "cell_type": "code",
   "execution_count": null,
   "metadata": {},
   "outputs": [],
   "source": []
  }
 ],
 "metadata": {
  "kernelspec": {
   "display_name": "Python 3",
   "language": "python",
   "name": "python3"
  },
  "language_info": {
   "codemirror_mode": {
    "name": "ipython",
    "version": 3
   },
   "file_extension": ".py",
   "mimetype": "text/x-python",
   "name": "python",
   "nbconvert_exporter": "python",
   "pygments_lexer": "ipython3",
   "version": "3.7.6"
  }
 },
 "nbformat": 4,
 "nbformat_minor": 4
}
