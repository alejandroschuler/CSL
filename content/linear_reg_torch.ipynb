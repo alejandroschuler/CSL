{
 "cells": [
  {
   "cell_type": "markdown",
   "metadata": {},
   "source": [
    "# From Linear Regression to Deep Learning in Pytorch"
   ]
  },
  {
   "cell_type": "markdown",
   "metadata": {},
   "source": [
    "# Linear Regression"
   ]
  },
  {
   "cell_type": "markdown",
   "metadata": {},
   "source": [
    "Let's implement a simple linear regression using torch"
   ]
  },
  {
   "cell_type": "code",
   "execution_count": 73,
   "metadata": {},
   "outputs": [],
   "source": [
    "import torch"
   ]
  },
  {
   "cell_type": "markdown",
   "metadata": {},
   "source": [
    "To start with, we'll create some random data and store it as torch tensors. "
   ]
  },
  {
   "cell_type": "code",
   "execution_count": 74,
   "metadata": {},
   "outputs": [],
   "source": [
    "n = 100\n",
    "p = 5\n",
    "x = torch.randn(n, p) # predictors (100 observations, 5 features)\n",
    "y = torch.randn(n, 1) # outcomes (100 observations)"
   ]
  },
  {
   "cell_type": "markdown",
   "metadata": {},
   "source": [
    "## The Model"
   ]
  },
  {
   "cell_type": "markdown",
   "metadata": {},
   "source": [
    "We're looking for parameters (coefficients) $\\beta$ so that \n",
    "\n",
    "$$\n",
    "\\begin{array}{rcl}\n",
    "y_i & \\approx & \\beta_0 + x_i\\beta_{1:p}  \\\\\n",
    "&= &\\beta_0 + x_{i1}\\beta_1 +x_{i2}\\beta_2 \\dots x_{ip}\\beta_p\n",
    "\\end{array}\n",
    "$$"
   ]
  },
  {
   "cell_type": "markdown",
   "metadata": {},
   "source": [
    "Although you may not have seen it represented this way before, we can also write this model as a picture:\n",
    "\n",
    "<img src=\"images/linreg.png\" width=\"250\">"
   ]
  },
  {
   "cell_type": "markdown",
   "metadata": {},
   "source": [
    "This will come in handy later when we get to more complex models, but for now you can think of the linear model in whatever way seems natural to you."
   ]
  },
  {
   "cell_type": "markdown",
   "metadata": {},
   "source": [
    "## The Loss"
   ]
  },
  {
   "cell_type": "markdown",
   "metadata": {},
   "source": [
    "\n",
    "To quantify what we mean by a \"good\" approximation, we'll use the mean-squared-error loss. So for a given guess $\\beta$ we'll give it the \"grade\" \n",
    "\n",
    "$$L(y,\\hat y) = \\frac{1}{n}\\sum_i (y_i - \\hat y_i)^2$$\n",
    "\n",
    "where $\\hat y_i  = x_i\\beta_{1:p} + \\beta_0$ and $n$ is the number of observations (rows) in the data. We're looking for the $\\beta$ that gives us the best (lowest) grade. This combination of model (linear) and loss (mean-squared-error) is called linear regression."
   ]
  },
  {
   "cell_type": "markdown",
   "metadata": {},
   "source": [
    "## The Optimization Algorithm"
   ]
  },
  {
   "cell_type": "markdown",
   "metadata": {},
   "source": [
    "There are an infinite number of possible values for $\\beta$ that we could try, so it would take us forever to try them all and see which gives the best loss. To get around this problem, we need some kind of optimization algorithm that is better than brute-force search. The algorithm we will use here is an extremely useful approach called gradient descent, which you should already be familiar with from our [previous exploration]().\n",
    "\n",
    "To start, we'll initialize the coefficients $\\beta$ with random numbers. That's our first guess. We'll update these random numbers using gradient descent to iteratively find better values that make the loss smaller."
   ]
  },
  {
   "cell_type": "code",
   "execution_count": 75,
   "metadata": {},
   "outputs": [
    {
     "data": {
      "text/plain": [
       "tensor([[-0.2731],\n",
       "        [-0.1205],\n",
       "        [-0.1281],\n",
       "        [ 1.1380],\n",
       "        [ 1.7139],\n",
       "        [ 1.7325]], requires_grad=True)"
      ]
     },
     "execution_count": 75,
     "metadata": {},
     "output_type": "execute_result"
    }
   ],
   "source": [
    "β = torch.randn(p+1, 1) # 5 coefficients (one per feature) plus one intercept\n",
    "β.requires_grad_() # tell torch that β is going to have to save the gradient of something with respect to itself at some point"
   ]
  },
  {
   "cell_type": "markdown",
   "metadata": {},
   "source": [
    "### Autograd"
   ]
  },
  {
   "cell_type": "markdown",
   "metadata": {},
   "source": [
    "Previously when using gradient descent we would have to analytically derive expressions for the gradient of the loss relative to each model parameter, implement these as functions in code, and call upon them at each gradient descent iteration. With pytorch, however, we can simply compute the current value of the loss and pytorch will automatically calculate all the necessary derivatives for us. Let's have a look."
   ]
  },
  {
   "cell_type": "code",
   "execution_count": 76,
   "metadata": {},
   "outputs": [],
   "source": [
    "ŷ = torch.matmul(x, β[1:]) + β[0] # ŷ = xβ + β0"
   ]
  },
  {
   "cell_type": "code",
   "execution_count": 77,
   "metadata": {},
   "outputs": [],
   "source": [
    "L = torch.sum((y-ŷ)**2)/n # L = Σ(yᵢ-ŷᵢ)²/n"
   ]
  },
  {
   "cell_type": "code",
   "execution_count": 78,
   "metadata": {},
   "outputs": [
    {
     "data": {
      "text/plain": [
       "tensor(8.5604, grad_fn=<DivBackward0>)"
      ]
     },
     "execution_count": 78,
     "metadata": {},
     "output_type": "execute_result"
    }
   ],
   "source": [
    "L"
   ]
  },
  {
   "cell_type": "code",
   "execution_count": 79,
   "metadata": {},
   "outputs": [],
   "source": [
    "L.backward() # compute the gradients of the loss with respect to any tensors that went into the loss with requires_grad=true"
   ]
  },
  {
   "cell_type": "code",
   "execution_count": 80,
   "metadata": {},
   "outputs": [
    {
     "data": {
      "text/plain": [
       "tensor([[-0.4644],\n",
       "        [-0.3877],\n",
       "        [ 0.4751],\n",
       "        [ 1.6801],\n",
       "        [ 3.0645],\n",
       "        [ 5.0251]])"
      ]
     },
     "execution_count": 80,
     "metadata": {},
     "output_type": "execute_result"
    }
   ],
   "source": [
    "β.grad"
   ]
  },
  {
   "cell_type": "markdown",
   "metadata": {},
   "source": [
    "what we see here is a vector containing all of the derivatives we want. The first element is $\\frac{\\delta L}{\\delta \\beta_0}$, the second element is $\\frac{\\delta L}{\\delta \\beta_1}$, and so on. Note that this object is part of $\\beta$ and not $L$."
   ]
  },
  {
   "cell_type": "markdown",
   "metadata": {},
   "source": [
    "Let's calculate the gradient manually and make sure it matches up. We have:\n",
    "\n",
    "$$\n",
    "\\begin{array}{rcl}\n",
    "\\hat y_i &=& x_i\\beta + \\beta_0 \\\\\n",
    "L(y,\\hat y) &=& \\frac{1}{n}\\sum_i (y_i - \\hat y_i)^2\n",
    "\\end{array}\n",
    "$$"
   ]
  },
  {
   "cell_type": "markdown",
   "metadata": {},
   "source": [
    "So the derivative for $\\beta_j$ with $j\\ne 0$ is\n",
    "\n",
    "$$\n",
    "\\begin{array}{rcl}\n",
    "\\frac{\\partial L}{\\partial \\beta_j} &=& \n",
    "\\frac{1}{n}\n",
    "\\sum_i \n",
    "\\frac{\\partial L}{\\partial y_i} \n",
    "\\frac{\\partial y_i}{\\partial \\beta_j}\n",
    "\\\\\n",
    "&=&\n",
    "\\frac{1}{n}\n",
    "\\sum_i\n",
    "-2(y_i-\\hat y_i)\n",
    "x_{ij}\n",
    "\\\\\n",
    "&=&\n",
    "-\\frac{2}{n}\n",
    "x_j^T(y-\\hat y)\n",
    "\\end{array}\n",
    "$$\n",
    "\n",
    "and for $\\beta_0$ is \n",
    "$$\n",
    "\\begin{array}{rcl}\n",
    "\\frac{\\partial L}{\\partial \\beta_0}\n",
    "&=&\n",
    "\\frac{1}{n}\n",
    "\\sum_i\n",
    "-2(y_i-\\hat y_i) \\\\\n",
    "&=&\n",
    "-\\frac{2}{n}\n",
    "1^T(y-\\hat y)\n",
    "\\end{array}\n",
    "$$\n",
    "\n",
    "which means we can calculate the whole gradient as $-\\frac{2}{n}[1,x]^T(y-[1,x]\\beta)$"
   ]
  },
  {
   "cell_type": "code",
   "execution_count": 81,
   "metadata": {},
   "outputs": [],
   "source": [
    "import numpy as np\n",
    "def beta_grad(β):\n",
    "    x_with_1s = torch.Tensor(np.hstack((np.ones((n,1)), x)))\n",
    "    return -2*torch.matmul(x_with_1s.transpose(0,1), y-torch.matmul(x_with_1s,β))/n"
   ]
  },
  {
   "cell_type": "code",
   "execution_count": 82,
   "metadata": {},
   "outputs": [
    {
     "data": {
      "text/plain": [
       "tensor([[-0.4644],\n",
       "        [-0.3877],\n",
       "        [ 0.4751],\n",
       "        [ 1.6801],\n",
       "        [ 3.0645],\n",
       "        [ 5.0251]], grad_fn=<DivBackward0>)"
      ]
     },
     "execution_count": 82,
     "metadata": {},
     "output_type": "execute_result"
    }
   ],
   "source": [
    "beta_grad(β)"
   ]
  },
  {
   "cell_type": "markdown",
   "metadata": {},
   "source": [
    "which is exactly the same as the result in `β.grad`!"
   ]
  },
  {
   "cell_type": "markdown",
   "metadata": {},
   "source": [
    "How does pytorch do this? It turns out that every pytorch tensor records not only its own value, but also what functions were called to produce it and which tensors went into those functions. The `torchvis` package lets us see this:"
   ]
  },
  {
   "cell_type": "code",
   "execution_count": 83,
   "metadata": {},
   "outputs": [
    {
     "data": {
      "image/svg+xml": [
       "<?xml version=\"1.0\" encoding=\"UTF-8\" standalone=\"no\"?>\n",
       "<!DOCTYPE svg PUBLIC \"-//W3C//DTD SVG 1.1//EN\"\n",
       " \"http://www.w3.org/Graphics/SVG/1.1/DTD/svg11.dtd\">\n",
       "<!-- Generated by graphviz version 2.43.0 (0)\n",
       " -->\n",
       "<!-- Title: %3 Pages: 1 -->\n",
       "<svg width=\"204pt\" height=\"432pt\"\n",
       " viewBox=\"0.00 0.00 204.31 432.00\" xmlns=\"http://www.w3.org/2000/svg\" xmlns:xlink=\"http://www.w3.org/1999/xlink\">\n",
       "<g id=\"graph0\" class=\"graph\" transform=\"scale(1 1) rotate(0) translate(4 428)\">\n",
       "<title>%3</title>\n",
       "<polygon fill=\"white\" stroke=\"transparent\" points=\"-4,4 -4,-428 200.31,-428 200.31,4 -4,4\"/>\n",
       "<!-- 4928321744 -->\n",
       "<g id=\"node1\" class=\"node\">\n",
       "<title>4928321744</title>\n",
       "<polygon fill=\"#caff70\" stroke=\"black\" points=\"139.47,-20 51.18,-20 51.18,0 139.47,0 139.47,-20\"/>\n",
       "<text text-anchor=\"middle\" x=\"95.32\" y=\"-6.4\" font-family=\"Times,serif\" font-size=\"12.00\">DivBackward0</text>\n",
       "</g>\n",
       "<!-- 4928321424 -->\n",
       "<g id=\"node2\" class=\"node\">\n",
       "<title>4928321424</title>\n",
       "<polygon fill=\"lightgrey\" stroke=\"black\" points=\"141.48,-76 49.17,-76 49.17,-56 141.48,-56 141.48,-76\"/>\n",
       "<text text-anchor=\"middle\" x=\"95.32\" y=\"-62.4\" font-family=\"Times,serif\" font-size=\"12.00\">SumBackward0</text>\n",
       "</g>\n",
       "<!-- 4928321424&#45;&gt;4928321744 -->\n",
       "<g id=\"edge1\" class=\"edge\">\n",
       "<title>4928321424&#45;&gt;4928321744</title>\n",
       "<path fill=\"none\" stroke=\"black\" d=\"M95.32,-55.59C95.32,-48.7 95.32,-39.1 95.32,-30.57\"/>\n",
       "<polygon fill=\"black\" stroke=\"black\" points=\"98.82,-30.3 95.32,-20.3 91.82,-30.3 98.82,-30.3\"/>\n",
       "</g>\n",
       "<!-- 4928321168 -->\n",
       "<g id=\"node3\" class=\"node\">\n",
       "<title>4928321168</title>\n",
       "<polygon fill=\"lightgrey\" stroke=\"black\" points=\"141.31,-132 49.34,-132 49.34,-112 141.31,-112 141.31,-132\"/>\n",
       "<text text-anchor=\"middle\" x=\"95.32\" y=\"-118.4\" font-family=\"Times,serif\" font-size=\"12.00\">PowBackward0</text>\n",
       "</g>\n",
       "<!-- 4928321168&#45;&gt;4928321424 -->\n",
       "<g id=\"edge2\" class=\"edge\">\n",
       "<title>4928321168&#45;&gt;4928321424</title>\n",
       "<path fill=\"none\" stroke=\"black\" d=\"M95.32,-111.59C95.32,-104.7 95.32,-95.1 95.32,-86.57\"/>\n",
       "<polygon fill=\"black\" stroke=\"black\" points=\"98.82,-86.3 95.32,-76.3 91.82,-86.3 98.82,-86.3\"/>\n",
       "</g>\n",
       "<!-- 4928320272 -->\n",
       "<g id=\"node4\" class=\"node\">\n",
       "<title>4928320272</title>\n",
       "<polygon fill=\"lightgrey\" stroke=\"black\" points=\"140.14,-188 50.51,-188 50.51,-168 140.14,-168 140.14,-188\"/>\n",
       "<text text-anchor=\"middle\" x=\"95.32\" y=\"-174.4\" font-family=\"Times,serif\" font-size=\"12.00\">SubBackward0</text>\n",
       "</g>\n",
       "<!-- 4928320272&#45;&gt;4928321168 -->\n",
       "<g id=\"edge3\" class=\"edge\">\n",
       "<title>4928320272&#45;&gt;4928321168</title>\n",
       "<path fill=\"none\" stroke=\"black\" d=\"M95.32,-167.59C95.32,-160.7 95.32,-151.1 95.32,-142.57\"/>\n",
       "<polygon fill=\"black\" stroke=\"black\" points=\"98.82,-142.3 95.32,-132.3 91.82,-142.3 98.82,-142.3\"/>\n",
       "</g>\n",
       "<!-- 4928321296 -->\n",
       "<g id=\"node5\" class=\"node\">\n",
       "<title>4928321296</title>\n",
       "<polygon fill=\"lightgrey\" stroke=\"black\" points=\"141.14,-244 49.51,-244 49.51,-224 141.14,-224 141.14,-244\"/>\n",
       "<text text-anchor=\"middle\" x=\"95.32\" y=\"-230.4\" font-family=\"Times,serif\" font-size=\"12.00\">AddBackward0</text>\n",
       "</g>\n",
       "<!-- 4928321296&#45;&gt;4928320272 -->\n",
       "<g id=\"edge4\" class=\"edge\">\n",
       "<title>4928321296&#45;&gt;4928320272</title>\n",
       "<path fill=\"none\" stroke=\"black\" d=\"M95.32,-223.59C95.32,-216.7 95.32,-207.1 95.32,-198.57\"/>\n",
       "<polygon fill=\"black\" stroke=\"black\" points=\"98.82,-198.3 95.32,-188.3 91.82,-198.3 98.82,-198.3\"/>\n",
       "</g>\n",
       "<!-- 4928319888 -->\n",
       "<g id=\"node6\" class=\"node\">\n",
       "<title>4928319888</title>\n",
       "<polygon fill=\"lightgrey\" stroke=\"black\" points=\"84.47,-300 0.18,-300 0.18,-280 84.47,-280 84.47,-300\"/>\n",
       "<text text-anchor=\"middle\" x=\"42.32\" y=\"-286.4\" font-family=\"Times,serif\" font-size=\"12.00\">MmBackward</text>\n",
       "</g>\n",
       "<!-- 4928319888&#45;&gt;4928321296 -->\n",
       "<g id=\"edge5\" class=\"edge\">\n",
       "<title>4928319888&#45;&gt;4928321296</title>\n",
       "<path fill=\"none\" stroke=\"black\" d=\"M51.56,-279.59C59.16,-271.85 70.11,-260.69 79.16,-251.47\"/>\n",
       "<polygon fill=\"black\" stroke=\"black\" points=\"81.69,-253.89 86.2,-244.3 76.7,-248.98 81.69,-253.89\"/>\n",
       "</g>\n",
       "<!-- 4928323472 -->\n",
       "<g id=\"node7\" class=\"node\">\n",
       "<title>4928323472</title>\n",
       "<polygon fill=\"lightgrey\" stroke=\"black\" points=\"103.46,-356 15.18,-356 15.18,-336 103.46,-336 103.46,-356\"/>\n",
       "<text text-anchor=\"middle\" x=\"59.32\" y=\"-342.4\" font-family=\"Times,serif\" font-size=\"12.00\">SliceBackward</text>\n",
       "</g>\n",
       "<!-- 4928323472&#45;&gt;4928319888 -->\n",
       "<g id=\"edge6\" class=\"edge\">\n",
       "<title>4928323472&#45;&gt;4928319888</title>\n",
       "<path fill=\"none\" stroke=\"black\" d=\"M56.36,-335.59C54.14,-328.55 51.04,-318.67 48.31,-310\"/>\n",
       "<polygon fill=\"black\" stroke=\"black\" points=\"51.59,-308.79 45.25,-300.3 44.92,-310.89 51.59,-308.79\"/>\n",
       "</g>\n",
       "<!-- 4928322064 -->\n",
       "<g id=\"node8\" class=\"node\">\n",
       "<title>4928322064</title>\n",
       "<polygon fill=\"lightblue\" stroke=\"black\" points=\"122.32,-424 68.32,-424 68.32,-392 122.32,-392 122.32,-424\"/>\n",
       "<text text-anchor=\"middle\" x=\"95.32\" y=\"-410.4\" font-family=\"Times,serif\" font-size=\"12.00\">β</text>\n",
       "<text text-anchor=\"middle\" x=\"95.32\" y=\"-398.4\" font-family=\"Times,serif\" font-size=\"12.00\"> (6, 1)</text>\n",
       "</g>\n",
       "<!-- 4928322064&#45;&gt;4928323472 -->\n",
       "<g id=\"edge7\" class=\"edge\">\n",
       "<title>4928322064&#45;&gt;4928323472</title>\n",
       "<path fill=\"none\" stroke=\"black\" d=\"M86.24,-391.86C81.34,-383.69 75.25,-373.55 70.11,-364.98\"/>\n",
       "<polygon fill=\"black\" stroke=\"black\" points=\"72.96,-362.93 64.82,-356.15 66.96,-366.53 72.96,-362.93\"/>\n",
       "</g>\n",
       "<!-- 4928320720 -->\n",
       "<g id=\"node9\" class=\"node\">\n",
       "<title>4928320720</title>\n",
       "<polygon fill=\"lightgrey\" stroke=\"black\" points=\"196.29,-300 102.36,-300 102.36,-280 196.29,-280 196.29,-300\"/>\n",
       "<text text-anchor=\"middle\" x=\"149.32\" y=\"-286.4\" font-family=\"Times,serif\" font-size=\"12.00\">SelectBackward</text>\n",
       "</g>\n",
       "<!-- 4928322064&#45;&gt;4928320720 -->\n",
       "<g id=\"edge9\" class=\"edge\">\n",
       "<title>4928322064&#45;&gt;4928320720</title>\n",
       "<path fill=\"none\" stroke=\"black\" d=\"M102.38,-391.84C112.25,-370.64 130.15,-332.2 140.76,-309.39\"/>\n",
       "<polygon fill=\"black\" stroke=\"black\" points=\"144.02,-310.68 145.07,-300.14 137.68,-307.72 144.02,-310.68\"/>\n",
       "</g>\n",
       "<!-- 4928320720&#45;&gt;4928321296 -->\n",
       "<g id=\"edge8\" class=\"edge\">\n",
       "<title>4928320720&#45;&gt;4928321296</title>\n",
       "<path fill=\"none\" stroke=\"black\" d=\"M139.92,-279.59C132.17,-271.85 121.01,-260.69 111.79,-251.47\"/>\n",
       "<polygon fill=\"black\" stroke=\"black\" points=\"114.17,-248.89 104.62,-244.3 109.22,-253.84 114.17,-248.89\"/>\n",
       "</g>\n",
       "</g>\n",
       "</svg>\n"
      ],
      "text/plain": [
       "<graphviz.dot.Digraph at 0x125c03090>"
      ]
     },
     "execution_count": 83,
     "metadata": {},
     "output_type": "execute_result"
    }
   ],
   "source": [
    "from torchviz import make_dot\n",
    "make_dot(L, {'β':β})"
   ]
  },
  {
   "cell_type": "markdown",
   "metadata": {},
   "source": [
    "To calculate the gradient of $L$ with respect to $\\beta$, pytorch takes the gradients of each of these functions in turn (which are simple and built-in to pytorch), evaluates them at their current value using the input tensors, and multiplies them together to arrive at the answer you would get via the chain rule. You can learn more about this process [here](https://towardsdatascience.com/pytorch-autograd-understanding-the-heart-of-pytorchs-magic-2686cd94ec95) and elsewhere."
   ]
  },
  {
   "cell_type": "markdown",
   "metadata": {},
   "source": [
    "### Doing Gradient Descent"
   ]
  },
  {
   "cell_type": "markdown",
   "metadata": {},
   "source": [
    "To update the weights, we need to subtract the gradient (times a small learning rate) from the current value of the weights. \n",
    "\n",
    "We do this from inside a `no_grad():` \"context\" so that $\\beta$ doesn't store the history of the update (try the update without the `with torch.no_grad():` and see what happens). We also clear out `β.grad`. "
   ]
  },
  {
   "cell_type": "code",
   "execution_count": 84,
   "metadata": {},
   "outputs": [],
   "source": [
    "with torch.no_grad():\n",
    "    β -= 10e-5 * β.grad # β = β - 10e-5 * β.grad\n",
    "    β.grad.zero_()"
   ]
  },
  {
   "cell_type": "code",
   "execution_count": 85,
   "metadata": {},
   "outputs": [
    {
     "data": {
      "text/plain": [
       "tensor([[-0.2731],\n",
       "        [-0.1204],\n",
       "        [-0.1282],\n",
       "        [ 1.1378],\n",
       "        [ 1.7136],\n",
       "        [ 1.7320]], requires_grad=True)"
      ]
     },
     "execution_count": 85,
     "metadata": {},
     "output_type": "execute_result"
    }
   ],
   "source": [
    "β"
   ]
  },
  {
   "cell_type": "markdown",
   "metadata": {},
   "source": [
    "As you can see, our new value of $\\beta$ is slightly different than what we started with because we've taken a single gradient step."
   ]
  },
  {
   "cell_type": "markdown",
   "metadata": {
    "tags": [
     "popout"
    ]
   },
   "source": [
    "**ZEROING GRADIENTS**\n",
    "\n",
    "If we don't zero the gradient, the next time we calculate the gradient of something with respect to $\\beta$, the new gradient will be added to whatever was stored there instead of overwriting it. That's just the way torch was made to work."
   ]
  },
  {
   "cell_type": "markdown",
   "metadata": {
    "tags": [
     "popout"
    ]
   },
   "source": [
    "---\n",
    "**EXERCISE**\n",
    "\n",
    "Investigate for yourself (either by testing code or googling) why the parameter update and gradient zerioing should be performed within a `torch.no_grad()` context. \n",
    "\n",
    "---"
   ]
  },
  {
   "cell_type": "markdown",
   "metadata": {},
   "source": [
    "#### Looping"
   ]
  },
  {
   "cell_type": "markdown",
   "metadata": {},
   "source": [
    "Let's repeat what we have so far but now add a little loop to train our model for 500 gradient descent iterations instead of going slowly though a single iteration:"
   ]
  },
  {
   "cell_type": "code",
   "execution_count": 88,
   "metadata": {},
   "outputs": [
    {
     "data": {
      "text/plain": [
       "tensor([[-0.1092],\n",
       "        [-1.3379],\n",
       "        [ 0.2449],\n",
       "        [-0.8324],\n",
       "        [-0.3387],\n",
       "        [ 0.4786]], requires_grad=True)"
      ]
     },
     "execution_count": 88,
     "metadata": {},
     "output_type": "execute_result"
    }
   ],
   "source": [
    "x = torch.randn(n, p) # predictors (10 observations, 5 features)\n",
    "y = torch.randn(n, 1) # outcomes (10 observations)\n",
    "\n",
    "loss_record = [] # to kep track of the loss over the iterations\n",
    "β = torch.randn(p+1,1) # 5 coefficients (one per feature) plus one intercept\n",
    "β.requires_grad_() # tell torch that β is going to have to save the gradient of something with respect to itself at some point"
   ]
  },
  {
   "cell_type": "code",
   "execution_count": 89,
   "metadata": {},
   "outputs": [],
   "source": [
    "for e in range(500):\n",
    "    ŷ = torch.matmul(x, β[1:]) + β[0] # ŷ = xβ + β0 (calculate predictions)\n",
    "    L = torch.sum((y-ŷ)**2)/n # L = Σ(yᵢ-ŷᵢ)²/n (use predictions to calculate loss)\n",
    "    \n",
    "    L.backward() # compute gradients (in this case δL/δβ, δL/δW)\n",
    "    loss_record.append(L.item())\n",
    "    \n",
    "    with torch.no_grad(): # take the gradient descent step \n",
    "        β -= 10e-3 * β.grad\n",
    "        β.grad.zero_()"
   ]
  },
  {
   "cell_type": "markdown",
   "metadata": {},
   "source": [
    "And we can see how the loss changes over the iterations:"
   ]
  },
  {
   "cell_type": "code",
   "execution_count": 90,
   "metadata": {},
   "outputs": [
    {
     "data": {
      "application/vnd.vegalite.v3+json": {
       "$schema": "https://vega.github.io/schema/vega-lite/v3.4.0.json",
       "config": {
        "mark": {
         "tooltip": null
        },
        "view": {
         "height": 300,
         "width": 400
        }
       },
       "data": {
        "name": "data-8bbf64d689001292b93509c84ba11f81"
       },
       "datasets": {
        "data-8bbf64d689001292b93509c84ba11f81": [
         {
          "i": 0,
          "loss": 3.0417187213897705
         },
         {
          "i": 1,
          "loss": 2.9595117568969727
         },
         {
          "i": 2,
          "loss": 2.8805413246154785
         },
         {
          "i": 3,
          "loss": 2.804675579071045
         },
         {
          "i": 4,
          "loss": 2.731790065765381
         },
         {
          "i": 5,
          "loss": 2.6617631912231445
         },
         {
          "i": 6,
          "loss": 2.5944814682006836
         },
         {
          "i": 7,
          "loss": 2.5298328399658203
         },
         {
          "i": 8,
          "loss": 2.467712163925171
         },
         {
          "i": 9,
          "loss": 2.408017158508301
         },
         {
          "i": 10,
          "loss": 2.350651741027832
         },
         {
          "i": 11,
          "loss": 2.295520305633545
         },
         {
          "i": 12,
          "loss": 2.242534637451172
         },
         {
          "i": 13,
          "loss": 2.191608428955078
         },
         {
          "i": 14,
          "loss": 2.1426589488983154
         },
         {
          "i": 15,
          "loss": 2.095607280731201
         },
         {
          "i": 16,
          "loss": 2.050377607345581
         },
         {
          "i": 17,
          "loss": 2.0068962574005127
         },
         {
          "i": 18,
          "loss": 1.965095043182373
         },
         {
          "i": 19,
          "loss": 1.9249058961868286
         },
         {
          "i": 20,
          "loss": 1.8862648010253906
         },
         {
          "i": 21,
          "loss": 1.8491101264953613
         },
         {
          "i": 22,
          "loss": 1.8133829832077026
         },
         {
          "i": 23,
          "loss": 1.7790263891220093
         },
         {
          "i": 24,
          "loss": 1.745985984802246
         },
         {
          "i": 25,
          "loss": 1.7142095565795898
         },
         {
          "i": 26,
          "loss": 1.6836471557617188
         },
         {
          "i": 27,
          "loss": 1.654250979423523
         },
         {
          "i": 28,
          "loss": 1.6259747743606567
         },
         {
          "i": 29,
          "loss": 1.5987738370895386
         },
         {
          "i": 30,
          "loss": 1.5726062059402466
         },
         {
          "i": 31,
          "loss": 1.5474308729171753
         },
         {
          "i": 32,
          "loss": 1.5232092142105103
         },
         {
          "i": 33,
          "loss": 1.4999034404754639
         },
         {
          "i": 34,
          "loss": 1.4774775505065918
         },
         {
          "i": 35,
          "loss": 1.4558968544006348
         },
         {
          "i": 36,
          "loss": 1.4351284503936768
         },
         {
          "i": 37,
          "loss": 1.4151408672332764
         },
         {
          "i": 38,
          "loss": 1.3959029912948608
         },
         {
          "i": 39,
          "loss": 1.3773856163024902
         },
         {
          "i": 40,
          "loss": 1.3595608472824097
         },
         {
          "i": 41,
          "loss": 1.3424017429351807
         },
         {
          "i": 42,
          "loss": 1.3258819580078125
         },
         {
          "i": 43,
          "loss": 1.3099772930145264
         },
         {
          "i": 44,
          "loss": 1.294663429260254
         },
         {
          "i": 45,
          "loss": 1.2799171209335327
         },
         {
          "i": 46,
          "loss": 1.2657170295715332
         },
         {
          "i": 47,
          "loss": 1.2520418167114258
         },
         {
          "i": 48,
          "loss": 1.2388710975646973
         },
         {
          "i": 49,
          "loss": 1.2261853218078613
         },
         {
          "i": 50,
          "loss": 1.213965892791748
         },
         {
          "i": 51,
          "loss": 1.2021952867507935
         },
         {
          "i": 52,
          "loss": 1.1908555030822754
         },
         {
          "i": 53,
          "loss": 1.1799304485321045
         },
         {
          "i": 54,
          "loss": 1.1694037914276123
         },
         {
          "i": 55,
          "loss": 1.1592609882354736
         },
         {
          "i": 56,
          "loss": 1.1494868993759155
         },
         {
          "i": 57,
          "loss": 1.140067458152771
         },
         {
          "i": 58,
          "loss": 1.1309889554977417
         },
         {
          "i": 59,
          "loss": 1.122239112854004
         },
         {
          "i": 60,
          "loss": 1.113804817199707
         },
         {
          "i": 61,
          "loss": 1.1056742668151855
         },
         {
          "i": 62,
          "loss": 1.0978360176086426
         },
         {
          "i": 63,
          "loss": 1.0902787446975708
         },
         {
          "i": 64,
          "loss": 1.0829918384552002
         },
         {
          "i": 65,
          "loss": 1.0759657621383667
         },
         {
          "i": 66,
          "loss": 1.0691896677017212
         },
         {
          "i": 67,
          "loss": 1.062654972076416
         },
         {
          "i": 68,
          "loss": 1.056352138519287
         },
         {
          "i": 69,
          "loss": 1.0502727031707764
         },
         {
          "i": 70,
          "loss": 1.0444084405899048
         },
         {
          "i": 71,
          "loss": 1.0387506484985352
         },
         {
          "i": 72,
          "loss": 1.0332924127578735
         },
         {
          "i": 73,
          "loss": 1.0280258655548096
         },
         {
          "i": 74,
          "loss": 1.0229439735412598
         },
         {
          "i": 75,
          "loss": 1.0180398225784302
         },
         {
          "i": 76,
          "loss": 1.0133068561553955
         },
         {
          "i": 77,
          "loss": 1.0087387561798096
         },
         {
          "i": 78,
          "loss": 1.0043294429779053
         },
         {
          "i": 79,
          "loss": 1.000072956085205
         },
         {
          "i": 80,
          "loss": 0.9959638118743896
         },
         {
          "i": 81,
          "loss": 0.9919965267181396
         },
         {
          "i": 82,
          "loss": 0.9881659746170044
         },
         {
          "i": 83,
          "loss": 0.9844669103622437
         },
         {
          "i": 84,
          "loss": 0.980894923210144
         },
         {
          "i": 85,
          "loss": 0.9774448871612549
         },
         {
          "i": 86,
          "loss": 0.9741126298904419
         },
         {
          "i": 87,
          "loss": 0.970893919467926
         },
         {
          "i": 88,
          "loss": 0.9677846431732178
         },
         {
          "i": 89,
          "loss": 0.9647808074951172
         },
         {
          "i": 90,
          "loss": 0.9618783593177795
         },
         {
          "i": 91,
          "loss": 0.9590737819671631
         },
         {
          "i": 92,
          "loss": 0.9563637375831604
         },
         {
          "i": 93,
          "loss": 0.9537445902824402
         },
         {
          "i": 94,
          "loss": 0.9512133598327637
         },
         {
          "i": 95,
          "loss": 0.9487664699554443
         },
         {
          "i": 96,
          "loss": 0.9464013576507568
         },
         {
          "i": 97,
          "loss": 0.9441148638725281
         },
         {
          "i": 98,
          "loss": 0.9419043660163879
         },
         {
          "i": 99,
          "loss": 0.9397667050361633
         },
         {
          "i": 100,
          "loss": 0.9376997947692871
         },
         {
          "i": 101,
          "loss": 0.9357007741928101
         },
         {
          "i": 102,
          "loss": 0.9337676167488098
         },
         {
          "i": 103,
          "loss": 0.9318979382514954
         },
         {
          "i": 104,
          "loss": 0.9300892353057861
         },
         {
          "i": 105,
          "loss": 0.9283394813537598
         },
         {
          "i": 106,
          "loss": 0.9266467094421387
         },
         {
          "i": 107,
          "loss": 0.9250089526176453
         },
         {
          "i": 108,
          "loss": 0.9234241247177124
         },
         {
          "i": 109,
          "loss": 0.9218904972076416
         },
         {
          "i": 110,
          "loss": 0.9204061031341553
         },
         {
          "i": 111,
          "loss": 0.9189696311950684
         },
         {
          "i": 112,
          "loss": 0.917579174041748
         },
         {
          "i": 113,
          "loss": 0.9162331223487854
         },
         {
          "i": 114,
          "loss": 0.9149301052093506
         },
         {
          "i": 115,
          "loss": 0.9136683940887451
         },
         {
          "i": 116,
          "loss": 0.9124466776847839
         },
         {
          "i": 117,
          "loss": 0.911263644695282
         },
         {
          "i": 118,
          "loss": 0.9101179242134094
         },
         {
          "i": 119,
          "loss": 0.9090085625648499
         },
         {
          "i": 120,
          "loss": 0.9079338908195496
         },
         {
          "i": 121,
          "loss": 0.9068927764892578
         },
         {
          "i": 122,
          "loss": 0.9058845043182373
         },
         {
          "i": 123,
          "loss": 0.9049074053764343
         },
         {
          "i": 124,
          "loss": 0.9039608240127563
         },
         {
          "i": 125,
          "loss": 0.9030434489250183
         },
         {
          "i": 126,
          "loss": 0.9021544456481934
         },
         {
          "i": 127,
          "loss": 0.901293158531189
         },
         {
          "i": 128,
          "loss": 0.9004581570625305
         },
         {
          "i": 129,
          "loss": 0.899648904800415
         },
         {
          "i": 130,
          "loss": 0.8988644480705261
         },
         {
          "i": 131,
          "loss": 0.8981040120124817
         },
         {
          "i": 132,
          "loss": 0.8973665833473206
         },
         {
          "i": 133,
          "loss": 0.8966516852378845
         },
         {
          "i": 134,
          "loss": 0.8959584832191467
         },
         {
          "i": 135,
          "loss": 0.8952862024307251
         },
         {
          "i": 136,
          "loss": 0.8946341872215271
         },
         {
          "i": 137,
          "loss": 0.8940019011497498
         },
         {
          "i": 138,
          "loss": 0.8933884501457214
         },
         {
          "i": 139,
          "loss": 0.8927934765815735
         },
         {
          "i": 140,
          "loss": 0.8922163248062134
         },
         {
          "i": 141,
          "loss": 0.8916565179824829
         },
         {
          "i": 142,
          "loss": 0.8911129832267761
         },
         {
          "i": 143,
          "loss": 0.8905858397483826
         },
         {
          "i": 144,
          "loss": 0.8900741338729858
         },
         {
          "i": 145,
          "loss": 0.8895778656005859
         },
         {
          "i": 146,
          "loss": 0.8890959024429321
         },
         {
          "i": 147,
          "loss": 0.8886282444000244
         },
         {
          "i": 148,
          "loss": 0.8881742358207703
         },
         {
          "i": 149,
          "loss": 0.887733519077301
         },
         {
          "i": 150,
          "loss": 0.8873056173324585
         },
         {
          "i": 151,
          "loss": 0.8868902325630188
         },
         {
          "i": 152,
          "loss": 0.8864868879318237
         },
         {
          "i": 153,
          "loss": 0.8860952258110046
         },
         {
          "i": 154,
          "loss": 0.8857149481773376
         },
         {
          "i": 155,
          "loss": 0.8853455185890198
         },
         {
          "i": 156,
          "loss": 0.8849868774414062
         },
         {
          "i": 157,
          "loss": 0.8846383690834045
         },
         {
          "i": 158,
          "loss": 0.8842998743057251
         },
         {
          "i": 159,
          "loss": 0.8839711546897888
         },
         {
          "i": 160,
          "loss": 0.8836517333984375
         },
         {
          "i": 161,
          "loss": 0.883341372013092
         },
         {
          "i": 162,
          "loss": 0.8830399513244629
         },
         {
          "i": 163,
          "loss": 0.8827468752861023
         },
         {
          "i": 164,
          "loss": 0.8824621438980103
         },
         {
          "i": 165,
          "loss": 0.8821855187416077
         },
         {
          "i": 166,
          "loss": 0.8819166421890259
         },
         {
          "i": 167,
          "loss": 0.8816553354263306
         },
         {
          "i": 168,
          "loss": 0.8814013004302979
         },
         {
          "i": 169,
          "loss": 0.8811544179916382
         },
         {
          "i": 170,
          "loss": 0.8809143900871277
         },
         {
          "i": 171,
          "loss": 0.8806809782981873
         },
         {
          "i": 172,
          "loss": 0.8804542422294617
         },
         {
          "i": 173,
          "loss": 0.8802337050437927
         },
         {
          "i": 174,
          "loss": 0.8800192475318909
         },
         {
          "i": 175,
          "loss": 0.8798105716705322
         },
         {
          "i": 176,
          "loss": 0.8796076774597168
         },
         {
          "i": 177,
          "loss": 0.8794105052947998
         },
         {
          "i": 178,
          "loss": 0.8792187571525574
         },
         {
          "i": 179,
          "loss": 0.8790320754051208
         },
         {
          "i": 180,
          "loss": 0.8788506388664246
         },
         {
          "i": 181,
          "loss": 0.8786742687225342
         },
         {
          "i": 182,
          "loss": 0.8785024285316467
         },
         {
          "i": 183,
          "loss": 0.8783354163169861
         },
         {
          "i": 184,
          "loss": 0.8781729340553284
         },
         {
          "i": 185,
          "loss": 0.8780148029327393
         },
         {
          "i": 186,
          "loss": 0.8778610229492188
         },
         {
          "i": 187,
          "loss": 0.8777113556861877
         },
         {
          "i": 188,
          "loss": 0.8775656819343567
         },
         {
          "i": 189,
          "loss": 0.877423882484436
         },
         {
          "i": 190,
          "loss": 0.8772860169410706
         },
         {
          "i": 191,
          "loss": 0.8771517872810364
         },
         {
          "i": 192,
          "loss": 0.8770210146903992
         },
         {
          "i": 193,
          "loss": 0.876893937587738
         },
         {
          "i": 194,
          "loss": 0.8767700791358948
         },
         {
          "i": 195,
          "loss": 0.8766496777534485
         },
         {
          "i": 196,
          "loss": 0.8765321969985962
         },
         {
          "i": 197,
          "loss": 0.8764181733131409
         },
         {
          "i": 198,
          "loss": 0.8763068914413452
         },
         {
          "i": 199,
          "loss": 0.8761987090110779
         },
         {
          "i": 200,
          "loss": 0.8760933876037598
         },
         {
          "i": 201,
          "loss": 0.8759906888008118
         },
         {
          "i": 202,
          "loss": 0.8758907914161682
         },
         {
          "i": 203,
          "loss": 0.8757935166358948
         },
         {
          "i": 204,
          "loss": 0.8756988644599915
         },
         {
          "i": 205,
          "loss": 0.8756065368652344
         },
         {
          "i": 206,
          "loss": 0.8755165934562683
         },
         {
          "i": 207,
          "loss": 0.8754292130470276
         },
         {
          "i": 208,
          "loss": 0.8753440380096436
         },
         {
          "i": 209,
          "loss": 0.8752608299255371
         },
         {
          "i": 210,
          "loss": 0.8751801252365112
         },
         {
          "i": 211,
          "loss": 0.8751013875007629
         },
         {
          "i": 212,
          "loss": 0.8750246167182922
         },
         {
          "i": 213,
          "loss": 0.8749498724937439
         },
         {
          "i": 214,
          "loss": 0.8748770952224731
         },
         {
          "i": 215,
          "loss": 0.8748061656951904
         },
         {
          "i": 216,
          "loss": 0.874737024307251
         },
         {
          "i": 217,
          "loss": 0.8746697306632996
         },
         {
          "i": 218,
          "loss": 0.8746041059494019
         },
         {
          "i": 219,
          "loss": 0.8745401501655579
         },
         {
          "i": 220,
          "loss": 0.8744778633117676
         },
         {
          "i": 221,
          "loss": 0.874417245388031
         },
         {
          "i": 222,
          "loss": 0.874358057975769
         },
         {
          "i": 223,
          "loss": 0.8743003606796265
         },
         {
          "i": 224,
          "loss": 0.874244213104248
         },
         {
          "i": 225,
          "loss": 0.874189555644989
         },
         {
          "i": 226,
          "loss": 0.8741362690925598
         },
         {
          "i": 227,
          "loss": 0.8740841746330261
         },
         {
          "i": 228,
          "loss": 0.8740335702896118
         },
         {
          "i": 229,
          "loss": 0.873984158039093
         },
         {
          "i": 230,
          "loss": 0.8739359974861145
         },
         {
          "i": 231,
          "loss": 0.8738890290260315
         },
         {
          "i": 232,
          "loss": 0.8738433718681335
         },
         {
          "i": 233,
          "loss": 0.8737987279891968
         },
         {
          "i": 234,
          "loss": 0.8737552165985107
         },
         {
          "i": 235,
          "loss": 0.8737128973007202
         },
         {
          "i": 236,
          "loss": 0.8736716508865356
         },
         {
          "i": 237,
          "loss": 0.8736313581466675
         },
         {
          "i": 238,
          "loss": 0.8735920786857605
         },
         {
          "i": 239,
          "loss": 0.8735538721084595
         },
         {
          "i": 240,
          "loss": 0.8735165596008301
         },
         {
          "i": 241,
          "loss": 0.8734800815582275
         },
         {
          "i": 242,
          "loss": 0.8734446167945862
         },
         {
          "i": 243,
          "loss": 0.8734100461006165
         },
         {
          "i": 244,
          "loss": 0.8733763098716736
         },
         {
          "i": 245,
          "loss": 0.8733433485031128
         },
         {
          "i": 246,
          "loss": 0.8733112812042236
         },
         {
          "i": 247,
          "loss": 0.8732800483703613
         },
         {
          "i": 248,
          "loss": 0.8732495307922363
         },
         {
          "i": 249,
          "loss": 0.8732197284698486
         },
         {
          "i": 250,
          "loss": 0.873190701007843
         },
         {
          "i": 251,
          "loss": 0.8731625080108643
         },
         {
          "i": 252,
          "loss": 0.8731348514556885
         },
         {
          "i": 253,
          "loss": 0.8731079697608948
         },
         {
          "i": 254,
          "loss": 0.8730815649032593
         },
         {
          "i": 255,
          "loss": 0.8730561137199402
         },
         {
          "i": 256,
          "loss": 0.8730310201644897
         },
         {
          "i": 257,
          "loss": 0.8730068206787109
         },
         {
          "i": 258,
          "loss": 0.8729830980300903
         },
         {
          "i": 259,
          "loss": 0.8729599118232727
         },
         {
          "i": 260,
          "loss": 0.8729372620582581
         },
         {
          "i": 261,
          "loss": 0.8729150891304016
         },
         {
          "i": 262,
          "loss": 0.8728936910629272
         },
         {
          "i": 263,
          "loss": 0.8728728294372559
         },
         {
          "i": 264,
          "loss": 0.8728521466255188
         },
         {
          "i": 265,
          "loss": 0.8728322386741638
         },
         {
          "i": 266,
          "loss": 0.872812807559967
         },
         {
          "i": 267,
          "loss": 0.8727939128875732
         },
         {
          "i": 268,
          "loss": 0.8727754354476929
         },
         {
          "i": 269,
          "loss": 0.8727572560310364
         },
         {
          "i": 270,
          "loss": 0.8727394938468933
         },
         {
          "i": 271,
          "loss": 0.8727223873138428
         },
         {
          "i": 272,
          "loss": 0.8727054595947266
         },
         {
          "i": 273,
          "loss": 0.8726891279220581
         },
         {
          "i": 274,
          "loss": 0.8726732134819031
         },
         {
          "i": 275,
          "loss": 0.8726577162742615
         },
         {
          "i": 276,
          "loss": 0.8726423382759094
         },
         {
          "i": 277,
          "loss": 0.8726274967193604
         },
         {
          "i": 278,
          "loss": 0.8726130723953247
         },
         {
          "i": 279,
          "loss": 0.8725988268852234
         },
         {
          "i": 280,
          "loss": 0.8725852370262146
         },
         {
          "i": 281,
          "loss": 0.872571587562561
         },
         {
          "i": 282,
          "loss": 0.8725585341453552
         },
         {
          "i": 283,
          "loss": 0.8725457787513733
         },
         {
          "i": 284,
          "loss": 0.8725330829620361
         },
         {
          "i": 285,
          "loss": 0.8725210428237915
         },
         {
          "i": 286,
          "loss": 0.8725090622901917
         },
         {
          "i": 287,
          "loss": 0.8724973797798157
         },
         {
          "i": 288,
          "loss": 0.8724861145019531
         },
         {
          "i": 289,
          "loss": 0.8724750280380249
         },
         {
          "i": 290,
          "loss": 0.8724642992019653
         },
         {
          "i": 291,
          "loss": 0.8724536299705505
         },
         {
          "i": 292,
          "loss": 0.8724433779716492
         },
         {
          "i": 293,
          "loss": 0.8724333047866821
         },
         {
          "i": 294,
          "loss": 0.8724236488342285
         },
         {
          "i": 295,
          "loss": 0.8724139332771301
         },
         {
          "i": 296,
          "loss": 0.8724046945571899
         },
         {
          "i": 297,
          "loss": 0.8723956346511841
         },
         {
          "i": 298,
          "loss": 0.872386634349823
         },
         {
          "i": 299,
          "loss": 0.8723779320716858
         },
         {
          "i": 300,
          "loss": 0.8723695874214172
         },
         {
          "i": 301,
          "loss": 0.8723613023757935
         },
         {
          "i": 302,
          "loss": 0.8723531365394592
         },
         {
          "i": 303,
          "loss": 0.8723452687263489
         },
         {
          "i": 304,
          "loss": 0.8723375797271729
         },
         {
          "i": 305,
          "loss": 0.8723300695419312
         },
         {
          "i": 306,
          "loss": 0.8723227977752686
         },
         {
          "i": 307,
          "loss": 0.8723155856132507
         },
         {
          "i": 308,
          "loss": 0.8723085522651672
         },
         {
          "i": 309,
          "loss": 0.8723019361495972
         },
         {
          "i": 310,
          "loss": 0.8722952008247375
         },
         {
          "i": 311,
          "loss": 0.8722886443138123
         },
         {
          "i": 312,
          "loss": 0.8722823262214661
         },
         {
          "i": 313,
          "loss": 0.872276246547699
         },
         {
          "i": 314,
          "loss": 0.8722702264785767
         },
         {
          "i": 315,
          "loss": 0.8722643256187439
         },
         {
          "i": 316,
          "loss": 0.8722584247589111
         },
         {
          "i": 317,
          "loss": 0.872252881526947
         },
         {
          "i": 318,
          "loss": 0.8722473978996277
         },
         {
          "i": 319,
          "loss": 0.8722421526908875
         },
         {
          "i": 320,
          "loss": 0.8722368478775024
         },
         {
          "i": 321,
          "loss": 0.8722318410873413
         },
         {
          "i": 322,
          "loss": 0.8722267746925354
         },
         {
          "i": 323,
          "loss": 0.8722220063209534
         },
         {
          "i": 324,
          "loss": 0.8722172379493713
         },
         {
          "i": 325,
          "loss": 0.8722125291824341
         },
         {
          "i": 326,
          "loss": 0.8722079992294312
         },
         {
          "i": 327,
          "loss": 0.8722035884857178
         },
         {
          "i": 328,
          "loss": 0.872199296951294
         },
         {
          "i": 329,
          "loss": 0.8721950650215149
         },
         {
          "i": 330,
          "loss": 0.8721909523010254
         },
         {
          "i": 331,
          "loss": 0.8721869587898254
         },
         {
          "i": 332,
          "loss": 0.8721831440925598
         },
         {
          "i": 333,
          "loss": 0.8721792697906494
         },
         {
          "i": 334,
          "loss": 0.8721754550933838
         },
         {
          "i": 335,
          "loss": 0.8721718788146973
         },
         {
          "i": 336,
          "loss": 0.8721683621406555
         },
         {
          "i": 337,
          "loss": 0.8721648454666138
         },
         {
          "i": 338,
          "loss": 0.8721613883972168
         },
         {
          "i": 339,
          "loss": 0.8721580505371094
         },
         {
          "i": 340,
          "loss": 0.872154951095581
         },
         {
          "i": 341,
          "loss": 0.8721518516540527
         },
         {
          "i": 342,
          "loss": 0.8721485733985901
         },
         {
          "i": 343,
          "loss": 0.8721455931663513
         },
         {
          "i": 344,
          "loss": 0.8721427321434021
         },
         {
          "i": 345,
          "loss": 0.8721397519111633
         },
         {
          "i": 346,
          "loss": 0.8721370697021484
         },
         {
          "i": 347,
          "loss": 0.8721343874931335
         },
         {
          "i": 348,
          "loss": 0.8721316456794739
         },
         {
          "i": 349,
          "loss": 0.8721290826797485
         },
         {
          "i": 350,
          "loss": 0.8721264600753784
         },
         {
          "i": 351,
          "loss": 0.8721240162849426
         },
         {
          "i": 352,
          "loss": 0.8721215724945068
         },
         {
          "i": 353,
          "loss": 0.8721193075180054
         },
         {
          "i": 354,
          "loss": 0.8721169233322144
         },
         {
          "i": 355,
          "loss": 0.8721147775650024
         },
         {
          "i": 356,
          "loss": 0.872112512588501
         },
         {
          "i": 357,
          "loss": 0.8721103668212891
         },
         {
          "i": 358,
          "loss": 0.8721082210540771
         },
         {
          "i": 359,
          "loss": 0.8721063137054443
         },
         {
          "i": 360,
          "loss": 0.8721041679382324
         },
         {
          "i": 361,
          "loss": 0.8721020221710205
         },
         {
          "i": 362,
          "loss": 0.872100293636322
         },
         {
          "i": 363,
          "loss": 0.8720985651016235
         },
         {
          "i": 364,
          "loss": 0.8720965385437012
         },
         {
          "i": 365,
          "loss": 0.8720948100090027
         },
         {
          "i": 366,
          "loss": 0.8720930218696594
         },
         {
          "i": 367,
          "loss": 0.8720913529396057
         },
         {
          "i": 368,
          "loss": 0.872089684009552
         },
         {
          "i": 369,
          "loss": 0.8720880746841431
         },
         {
          "i": 370,
          "loss": 0.8720865845680237
         },
         {
          "i": 371,
          "loss": 0.8720850348472595
         },
         {
          "i": 372,
          "loss": 0.8720836043357849
         },
         {
          "i": 373,
          "loss": 0.8720820546150208
         },
         {
          "i": 374,
          "loss": 0.8720807433128357
         },
         {
          "i": 375,
          "loss": 0.8720792531967163
         },
         {
          "i": 376,
          "loss": 0.8720777630805969
         },
         {
          "i": 377,
          "loss": 0.8720765709877014
         },
         {
          "i": 378,
          "loss": 0.8720751404762268
         },
         {
          "i": 379,
          "loss": 0.8720738887786865
         },
         {
          "i": 380,
          "loss": 0.872072696685791
         },
         {
          "i": 381,
          "loss": 0.8720713257789612
         },
         {
          "i": 382,
          "loss": 0.8720703125
         },
         {
          "i": 383,
          "loss": 0.8720691800117493
         },
         {
          "i": 384,
          "loss": 0.8720681667327881
         },
         {
          "i": 385,
          "loss": 0.872066855430603
         },
         {
          "i": 386,
          "loss": 0.8720657825469971
         },
         {
          "i": 387,
          "loss": 0.8720647692680359
         },
         {
          "i": 388,
          "loss": 0.8720635771751404
         },
         {
          "i": 389,
          "loss": 0.872062623500824
         },
         {
          "i": 390,
          "loss": 0.8720617890357971
         },
         {
          "i": 391,
          "loss": 0.8720607161521912
         },
         {
          "i": 392,
          "loss": 0.8720599412918091
         },
         {
          "i": 393,
          "loss": 0.8720589280128479
         },
         {
          "i": 394,
          "loss": 0.8720578551292419
         },
         {
          "i": 395,
          "loss": 0.8720571994781494
         },
         {
          "i": 396,
          "loss": 0.872056245803833
         },
         {
          "i": 397,
          "loss": 0.8720554113388062
         },
         {
          "i": 398,
          "loss": 0.8720546960830688
         },
         {
          "i": 399,
          "loss": 0.8720539212226868
         },
         {
          "i": 400,
          "loss": 0.8720531463623047
         },
         {
          "i": 401,
          "loss": 0.8720522522926331
         },
         {
          "i": 402,
          "loss": 0.8720515966415405
         },
         {
          "i": 403,
          "loss": 0.8720508813858032
         },
         {
          "i": 404,
          "loss": 0.8720501065254211
         },
         {
          "i": 405,
          "loss": 0.8720495104789734
         },
         {
          "i": 406,
          "loss": 0.8720489740371704
         },
         {
          "i": 407,
          "loss": 0.8720481991767883
         },
         {
          "i": 408,
          "loss": 0.872047483921051
         },
         {
          "i": 409,
          "loss": 0.8720468878746033
         },
         {
          "i": 410,
          "loss": 0.8720462918281555
         },
         {
          "i": 411,
          "loss": 0.8720457553863525
         },
         {
          "i": 412,
          "loss": 0.8720450401306152
         },
         {
          "i": 413,
          "loss": 0.8720446228981018
         },
         {
          "i": 414,
          "loss": 0.8720439672470093
         },
         {
          "i": 415,
          "loss": 0.8720433115959167
         },
         {
          "i": 416,
          "loss": 0.8720428943634033
         },
         {
          "i": 417,
          "loss": 0.8720424175262451
         },
         {
          "i": 418,
          "loss": 0.8720417618751526
         },
         {
          "i": 419,
          "loss": 0.8720414042472839
         },
         {
          "i": 420,
          "loss": 0.8720409274101257
         },
         {
          "i": 421,
          "loss": 0.8720403909683228
         },
         {
          "i": 422,
          "loss": 0.8720399737358093
         },
         {
          "i": 423,
          "loss": 0.8720394968986511
         },
         {
          "i": 424,
          "loss": 0.8720390796661377
         },
         {
          "i": 425,
          "loss": 0.8720386624336243
         },
         {
          "i": 426,
          "loss": 0.8720382452011108
         },
         {
          "i": 427,
          "loss": 0.8720378875732422
         },
         {
          "i": 428,
          "loss": 0.872037410736084
         },
         {
          "i": 429,
          "loss": 0.8720370531082153
         },
         {
          "i": 430,
          "loss": 0.8720366954803467
         },
         {
          "i": 431,
          "loss": 0.8720362782478333
         },
         {
          "i": 432,
          "loss": 0.872035801410675
         },
         {
          "i": 433,
          "loss": 0.8720355033874512
         },
         {
          "i": 434,
          "loss": 0.8720352053642273
         },
         {
          "i": 435,
          "loss": 0.8720349073410034
         },
         {
          "i": 436,
          "loss": 0.8720346093177795
         },
         {
          "i": 437,
          "loss": 0.8720341324806213
         },
         {
          "i": 438,
          "loss": 0.8720338940620422
         },
         {
          "i": 439,
          "loss": 0.8720335960388184
         },
         {
          "i": 440,
          "loss": 0.8720332384109497
         },
         {
          "i": 441,
          "loss": 0.8720329999923706
         },
         {
          "i": 442,
          "loss": 0.872032642364502
         },
         {
          "i": 443,
          "loss": 0.8720324039459229
         },
         {
          "i": 444,
          "loss": 0.8720321655273438
         },
         {
          "i": 445,
          "loss": 0.8720319271087646
         },
         {
          "i": 446,
          "loss": 0.8720316290855408
         },
         {
          "i": 447,
          "loss": 0.8720314502716064
         },
         {
          "i": 448,
          "loss": 0.8720311522483826
         },
         {
          "i": 449,
          "loss": 0.8720309734344482
         },
         {
          "i": 450,
          "loss": 0.8720306158065796
         },
         {
          "i": 451,
          "loss": 0.8720304369926453
         },
         {
          "i": 452,
          "loss": 0.8720301985740662
         },
         {
          "i": 453,
          "loss": 0.8720299601554871
         },
         {
          "i": 454,
          "loss": 0.872029721736908
         },
         {
          "i": 455,
          "loss": 0.8720295429229736
         },
         {
          "i": 456,
          "loss": 0.8720294237136841
         },
         {
          "i": 457,
          "loss": 0.872029185295105
         },
         {
          "i": 458,
          "loss": 0.8720288872718811
         },
         {
          "i": 459,
          "loss": 0.8720288276672363
         },
         {
          "i": 460,
          "loss": 0.8720285892486572
         },
         {
          "i": 461,
          "loss": 0.8720284104347229
         },
         {
          "i": 462,
          "loss": 0.8720281720161438
         },
         {
          "i": 463,
          "loss": 0.8720280528068542
         },
         {
          "i": 464,
          "loss": 0.8720278739929199
         },
         {
          "i": 465,
          "loss": 0.872027575969696
         },
         {
          "i": 466,
          "loss": 0.8720275163650513
         },
         {
          "i": 467,
          "loss": 0.8720274567604065
         },
         {
          "i": 468,
          "loss": 0.8720270395278931
         },
         {
          "i": 469,
          "loss": 0.8720271587371826
         },
         {
          "i": 470,
          "loss": 0.8720269203186035
         },
         {
          "i": 471,
          "loss": 0.8720267415046692
         },
         {
          "i": 472,
          "loss": 0.8720266819000244
         },
         {
          "i": 473,
          "loss": 0.8720264434814453
         },
         {
          "i": 474,
          "loss": 0.8720263838768005
         },
         {
          "i": 475,
          "loss": 0.8720262050628662
         },
         {
          "i": 476,
          "loss": 0.8720261454582214
         },
         {
          "i": 477,
          "loss": 0.8720259070396423
         },
         {
          "i": 478,
          "loss": 0.8720258474349976
         },
         {
          "i": 479,
          "loss": 0.872025728225708
         },
         {
          "i": 480,
          "loss": 0.872025728225708
         },
         {
          "i": 481,
          "loss": 0.8720256090164185
         },
         {
          "i": 482,
          "loss": 0.8720254302024841
         },
         {
          "i": 483,
          "loss": 0.8720253109931946
         },
         {
          "i": 484,
          "loss": 0.8720250725746155
         },
         {
          "i": 485,
          "loss": 0.8720251321792603
         },
         {
          "i": 486,
          "loss": 0.8720250129699707
         },
         {
          "i": 487,
          "loss": 0.8720248341560364
         },
         {
          "i": 488,
          "loss": 0.8720248341560364
         },
         {
          "i": 489,
          "loss": 0.8720247745513916
         },
         {
          "i": 490,
          "loss": 0.8720245361328125
         },
         {
          "i": 491,
          "loss": 0.8720245361328125
         },
         {
          "i": 492,
          "loss": 0.8720244765281677
         },
         {
          "i": 493,
          "loss": 0.8720242977142334
         },
         {
          "i": 494,
          "loss": 0.8720242381095886
         },
         {
          "i": 495,
          "loss": 0.8720240592956543
         },
         {
          "i": 496,
          "loss": 0.8720240592956543
         },
         {
          "i": 497,
          "loss": 0.8720239996910095
         },
         {
          "i": 498,
          "loss": 0.8720239400863647
         },
         {
          "i": 499,
          "loss": 0.8720238208770752
         }
        ]
       },
       "encoding": {
        "x": {
         "field": "i",
         "type": "quantitative"
        },
        "y": {
         "field": "loss",
         "type": "quantitative"
        }
       },
       "height": 100,
       "mark": "line"
      },
      "image/png": "[encoded data removed]",
      "text/plain": [
       "<VegaLite 3 object>\n",
       "\n",
       "If you see this message, it means the renderer has not been properly enabled\n",
       "for the frontend that you are using. For more information, see\n",
       "https://altair-viz.github.io/user_guide/troubleshooting.html\n"
      ]
     },
     "execution_count": 90,
     "metadata": {},
     "output_type": "execute_result"
    }
   ],
   "source": [
    "import altair as alt\n",
    "import pandas as pd\n",
    "\n",
    "loss_df = pd.DataFrame({'i':range(500), 'loss':loss_record})\n",
    "alt.Chart(loss_df, height=100).mark_line().encode(x='i', y='loss')"
   ]
  },
  {
   "cell_type": "markdown",
   "metadata": {},
   "source": [
    "We see training loss goes down."
   ]
  },
  {
   "cell_type": "markdown",
   "metadata": {},
   "source": [
    "And here's the value of $\\beta$ after 500 iterations:"
   ]
  },
  {
   "cell_type": "code",
   "execution_count": 91,
   "metadata": {},
   "outputs": [
    {
     "data": {
      "text/plain": [
       "tensor([[ 0.0952],\n",
       "        [-0.1218],\n",
       "        [-0.1502],\n",
       "        [-0.1120],\n",
       "        [-0.0219],\n",
       "        [ 0.1727]], requires_grad=True)"
      ]
     },
     "execution_count": 91,
     "metadata": {},
     "output_type": "execute_result"
    }
   ],
   "source": [
    "β"
   ]
  },
  {
   "cell_type": "markdown",
   "metadata": {},
   "source": [
    "Remember our original data is totally random and there is no relationship between the predictors and outcomes. So the \"right\" answer for what $\\beta$ should be in this case is $\\beta=0$. As we see above, all the values are near 0, so our algorithm appears to be converging to the right answer."
   ]
  },
  {
   "cell_type": "markdown",
   "metadata": {},
   "source": [
    "To predict for a new observation, all we have to do is multiply by $\\beta$ and add the intercept:"
   ]
  },
  {
   "cell_type": "code",
   "execution_count": 92,
   "metadata": {},
   "outputs": [
    {
     "data": {
      "text/plain": [
       "tensor([[-0.1722],\n",
       "        [ 0.3556],\n",
       "        [-0.0930],\n",
       "        [-0.0107],\n",
       "        [-0.1134],\n",
       "        [ 0.1378],\n",
       "        [ 0.4761],\n",
       "        [-0.3901],\n",
       "        [ 0.2622],\n",
       "        [-0.6157]], grad_fn=<AddBackward0>)"
      ]
     },
     "execution_count": 92,
     "metadata": {},
     "output_type": "execute_result"
    }
   ],
   "source": [
    "new_x = torch.randn(10, 5) # 10 new observations\n",
    "torch.matmul(new_x, β[1:]) + β[0] # predictions"
   ]
  },
  {
   "cell_type": "markdown",
   "metadata": {},
   "source": [
    "## Conclusion"
   ]
  },
  {
   "cell_type": "markdown",
   "metadata": {},
   "source": [
    "We just developed a machine learning method out of these three components:\n",
    "* linear model (model)\n",
    "* MSE loss (loss)\n",
    "* gradient descent (search algorithm)\n",
    "\n",
    "These components are like interchangable parts. We're going to see how we can use a different model and loss to fit data of a different kind without fundamentally changing our search strategy."
   ]
  },
  {
   "cell_type": "markdown",
   "metadata": {},
   "source": [
    "# Logistic Regression"
   ]
  },
  {
   "cell_type": "markdown",
   "metadata": {},
   "source": [
    "Now that we've seen how this works for linear regression, we can try and implement a model that predicts probabilities for a two-class outcome instead of a prediction for a continuous outcome. Now our data look like this:"
   ]
  },
  {
   "cell_type": "code",
   "execution_count": 93,
   "metadata": {},
   "outputs": [],
   "source": [
    "n,p = 100,5\n",
    "x = torch.randn(n,5) # predictors (10 observations, 5 features)\n",
    "y = torch.randint(0,2,(n,), dtype=torch.float) # outcomes (10 observations)"
   ]
  },
  {
   "cell_type": "code",
   "execution_count": 94,
   "metadata": {},
   "outputs": [
    {
     "data": {
      "text/plain": [
       "tensor([0., 0., 1., 0., 1.])"
      ]
     },
     "execution_count": 94,
     "metadata": {},
     "output_type": "execute_result"
    }
   ],
   "source": [
    "y[0:5]"
   ]
  },
  {
   "cell_type": "markdown",
   "metadata": {},
   "source": [
    "## Changing the model"
   ]
  },
  {
   "cell_type": "markdown",
   "metadata": {},
   "source": [
    "To do this, we have to change two things: firstly, our model can't be $\\hat y_i  = x_i\\beta_{1:p} + \\beta_0$ anymore because $\\hat y_i$ will come out as a number between plus and minus infinity, wheras we now want it to be a number between 0 and 1 (a probability). To fix this, we'll apply a function that takes $x_i\\beta_{1:p} + \\beta_0$ and squishes it down to a number between 0 and 1. The function we'll use is $\\sigma(z) = \\frac{1}{1+e^{-z}}$, which is called the *sigmoid* or *logistic* function. "
   ]
  },
  {
   "cell_type": "markdown",
   "metadata": {},
   "source": [
    "![](https://upload.wikimedia.org/wikipedia/commons/thumb/8/88/Logistic-curve.svg/600px-Logistic-curve.svg.png)"
   ]
  },
  {
   "cell_type": "markdown",
   "metadata": {},
   "source": [
    "So our model will be $\\hat p_i  = \\sigma(x_i\\beta_{1:p} + \\beta_0)$. The parameters are still $\\beta$, but now there is an additional (fixed) squishing function that makes sure the output is a probability. In accordance, I've called the output $\\hat p_i$ instead of $\\hat y_i$."
   ]
  },
  {
   "cell_type": "markdown",
   "metadata": {},
   "source": [
    "As before, we can represent this model graphically:\n",
    "\n",
    "<img src=\"images/logreg.png\" width=\"250\">"
   ]
  },
  {
   "cell_type": "markdown",
   "metadata": {},
   "source": [
    "Note that the only difference between this picture and the one before is that we've inserted $\\sigma()$ right before the final output."
   ]
  },
  {
   "cell_type": "markdown",
   "metadata": {},
   "source": [
    "## Changing the loss"
   ]
  },
  {
   "cell_type": "markdown",
   "metadata": {},
   "source": [
    "Our loss function from before was MSE: $\\sum (\\hat y_i - y_i)^2$, which compares a predicted outcome to the true outcome. One option is to replace the predicted outcome with a predicted probability to get $\\sum (\\hat p_i - y_i)^2$ (the _Brier Score_). Here's what that looks like (for a single observation $i$):"
   ]
  },
  {
   "cell_type": "markdown",
   "metadata": {},
   "source": [
    "![](http://journal.sjdm.org/16/16218/jdm16218001.png)"
   ]
  },
  {
   "cell_type": "markdown",
   "metadata": {},
   "source": [
    "This is ok, but many people don't like that there is a maximum penalty under this loss: if the true outcome was $y_i =0$ but the model predicts $p_j = P(Y_i=1) = 1$ (i.e. $y_i =1$ with absolute certainty), then the penalty should be infinitely high to strongly discrourage this kind of overconfident (wrong) prediction. Under the Brier score, however, you can see that this kind of prediction only incurrs a loss of 1, not infinity. Furthermore, when the outcome is 1 and the prediction gets closer and closer to 1, we see that the loss \"flattens out\", which means that we're not encouraged to be more and more confident when we're right."
   ]
  },
  {
   "cell_type": "markdown",
   "metadata": {},
   "source": [
    "What we want is a loss function that looks like this:"
   ]
  },
  {
   "cell_type": "markdown",
   "metadata": {},
   "source": [
    "![](https://conorsdatablog.files.wordpress.com/2018/03/log_loss.png?w=615&h=597)"
   ]
  },
  {
   "cell_type": "markdown",
   "metadata": {},
   "source": [
    "This is called the _log-loss_ (or _cross-entropy loss_ or _binomial deviance_). It is expressed as \n",
    "\n",
    "$$\n",
    "L(\\hat p, y) = \n",
    "\\frac{1}{n}\n",
    "\\sum_i \n",
    "\\begin{cases}\n",
    "-\\log(P(Y_i = 1)) & \\text{if}\\ y_i=1 \\\\\n",
    "-\\log(P(Y_i = 0)) & \\text{if}\\ y_i=0\n",
    "\\end{cases}\n",
    "$$"
   ]
  },
  {
   "cell_type": "markdown",
   "metadata": {},
   "source": [
    "which is the same as "
   ]
  },
  {
   "cell_type": "markdown",
   "metadata": {},
   "source": [
    "$$\n",
    "=\n",
    "\\frac{1}{n}\n",
    "\\sum_i \n",
    "\\begin{cases}\n",
    "-\\log(\\hat p_i) & \\text{if}\\ y_i=1 \\\\\n",
    "-\\log(1-\\hat p_i) & \\text{if}\\ y_i=0\n",
    "\\end{cases}\n",
    "\\\\\n",
    "= \n",
    "-\\frac{1}{n}\n",
    "\\sum_i \n",
    "y_i \\log(\\hat p_i) + (1-y_i) \\log (1-\\hat p_i)\n",
    "$$"
   ]
  },
  {
   "cell_type": "markdown",
   "metadata": {},
   "source": [
    "## Search strategy is still gradient descent"
   ]
  },
  {
   "cell_type": "markdown",
   "metadata": {},
   "source": [
    "This combination of logistic-linear model and log-loss is called _logistic regression_ (although this is a misnomer because we're actually doing classification, not regression). The amazing thing about gradient descent is that, as long as you can differentiate through the loss and to the model parameters, it just works. Compare this code to what we did to fit our linear regression model."
   ]
  },
  {
   "cell_type": "code",
   "execution_count": 95,
   "metadata": {},
   "outputs": [
    {
     "data": {
      "text/plain": [
       "tensor([[-1.6644],\n",
       "        [-1.8794],\n",
       "        [ 1.4279],\n",
       "        [-1.1967],\n",
       "        [-0.1365],\n",
       "        [ 0.8001]], requires_grad=True)"
      ]
     },
     "execution_count": 95,
     "metadata": {},
     "output_type": "execute_result"
    }
   ],
   "source": [
    "x = torch.randn(n, p) # predictors (10 observations, 5 features)\n",
    "y = torch.randint(0,2,(n,), dtype=torch.float) # outcomes (10 observations)\n",
    "\n",
    "loss_record = [] # to kep track of the loss over the iterations\n",
    "β = torch.randn(p+1,1) # 5 coefficients (one per feature)\n",
    "β.requires_grad_() # tell torch that β is going to have to save the gradient of something with respect to itself at some point"
   ]
  },
  {
   "cell_type": "code",
   "execution_count": 96,
   "metadata": {},
   "outputs": [],
   "source": [
    "for e in range(500):\n",
    "    z = torch.matmul(x, β[1:]) + β[0]  \n",
    "    p̂ = torch.exp(-z)/(1+torch.exp(-z))\n",
    "    L = -torch.sum(torch.log(p̂)*y + torch.log(1-p̂)*(1-y))/n # log loss\n",
    "    \n",
    "    L.backward() # compute gradients (in this case δL/δβ, δL/δW)\n",
    "    loss_record.append(L.item())\n",
    "    \n",
    "    with torch.no_grad(): # take the gradient descent step \n",
    "        β -= 10e-4 * β.grad\n",
    "        β.grad.zero_()"
   ]
  },
  {
   "cell_type": "code",
   "execution_count": 97,
   "metadata": {},
   "outputs": [
    {
     "data": {
      "application/vnd.vegalite.v3+json": {
       "$schema": "https://vega.github.io/schema/vega-lite/v3.4.0.json",
       "config": {
        "mark": {
         "tooltip": null
        },
        "view": {
         "height": 300,
         "width": 400
        }
       },
       "data": {
        "name": "data-ce50873edebab536f015586d98a7de98"
       },
       "datasets": {
        "data-ce50873edebab536f015586d98a7de98": [
         {
          "i": 0,
          "loss": 151.46730041503906
         },
         {
          "i": 1,
          "loss": 150.10211181640625
         },
         {
          "i": 2,
          "loss": 148.7447509765625
         },
         {
          "i": 3,
          "loss": 147.39532470703125
         },
         {
          "i": 4,
          "loss": 146.05404663085938
         },
         {
          "i": 5,
          "loss": 144.7208709716797
         },
         {
          "i": 6,
          "loss": 143.3961181640625
         },
         {
          "i": 7,
          "loss": 142.0798797607422
         },
         {
          "i": 8,
          "loss": 140.77220153808594
         },
         {
          "i": 9,
          "loss": 139.47332763671875
         },
         {
          "i": 10,
          "loss": 138.1833953857422
         },
         {
          "i": 11,
          "loss": 136.90257263183594
         },
         {
          "i": 12,
          "loss": 135.63082885742188
         },
         {
          "i": 13,
          "loss": 134.36856079101562
         },
         {
          "i": 14,
          "loss": 133.11581420898438
         },
         {
          "i": 15,
          "loss": 131.8726348876953
         },
         {
          "i": 16,
          "loss": 130.6395263671875
         },
         {
          "i": 17,
          "loss": 129.41632080078125
         },
         {
          "i": 18,
          "loss": 128.20318603515625
         },
         {
          "i": 19,
          "loss": 127.00033569335938
         },
         {
          "i": 20,
          "loss": 125.80817413330078
         },
         {
          "i": 21,
          "loss": 124.62639617919922
         },
         {
          "i": 22,
          "loss": 123.45561218261719
         },
         {
          "i": 23,
          "loss": 122.29582214355469
         },
         {
          "i": 24,
          "loss": 121.14714813232422
         },
         {
          "i": 25,
          "loss": 120.00985717773438
         },
         {
          "i": 26,
          "loss": 118.884033203125
         },
         {
          "i": 27,
          "loss": 117.76981353759766
         },
         {
          "i": 28,
          "loss": 116.66744232177734
         },
         {
          "i": 29,
          "loss": 115.57726287841797
         },
         {
          "i": 30,
          "loss": 114.49919128417969
         },
         {
          "i": 31,
          "loss": 113.43335723876953
         },
         {
          "i": 32,
          "loss": 112.38021850585938
         },
         {
          "i": 33,
          "loss": 111.33967590332031
         },
         {
          "i": 34,
          "loss": 110.3120346069336
         },
         {
          "i": 35,
          "loss": 109.29736328125
         },
         {
          "i": 36,
          "loss": 108.2959976196289
         },
         {
          "i": 37,
          "loss": 107.30783081054688
         },
         {
          "i": 38,
          "loss": 106.33319091796875
         },
         {
          "i": 39,
          "loss": 105.3722152709961
         },
         {
          "i": 40,
          "loss": 104.4250717163086
         },
         {
          "i": 41,
          "loss": 103.491943359375
         },
         {
          "i": 42,
          "loss": 102.57266235351562
         },
         {
          "i": 43,
          "loss": 101.66783142089844
         },
         {
          "i": 44,
          "loss": 100.7772445678711
         },
         {
          "i": 45,
          "loss": 99.9010238647461
         },
         {
          "i": 46,
          "loss": 99.03961181640625
         },
         {
          "i": 47,
          "loss": 98.19265747070312
         },
         {
          "i": 48,
          "loss": 97.36062622070312
         },
         {
          "i": 49,
          "loss": 96.54334259033203
         },
         {
          "i": 50,
          "loss": 95.74102783203125
         },
         {
          "i": 51,
          "loss": 94.95374298095703
         },
         {
          "i": 52,
          "loss": 94.18151092529297
         },
         {
          "i": 53,
          "loss": 93.42442321777344
         },
         {
          "i": 54,
          "loss": 92.68255615234375
         },
         {
          "i": 55,
          "loss": 91.9557876586914
         },
         {
          "i": 56,
          "loss": 91.24414825439453
         },
         {
          "i": 57,
          "loss": 90.54795837402344
         },
         {
          "i": 58,
          "loss": 89.8668441772461
         },
         {
          "i": 59,
          "loss": 89.2009506225586
         },
         {
          "i": 60,
          "loss": 88.55017852783203
         },
         {
          "i": 61,
          "loss": 87.91466522216797
         },
         {
          "i": 62,
          "loss": 87.2941665649414
         },
         {
          "i": 63,
          "loss": 86.68865966796875
         },
         {
          "i": 64,
          "loss": 86.09807586669922
         },
         {
          "i": 65,
          "loss": 85.52241516113281
         },
         {
          "i": 66,
          "loss": 84.96147155761719
         },
         {
          "i": 67,
          "loss": 84.41517639160156
         },
         {
          "i": 68,
          "loss": 83.88327026367188
         },
         {
          "i": 69,
          "loss": 83.3658218383789
         },
         {
          "i": 70,
          "loss": 82.8625717163086
         },
         {
          "i": 71,
          "loss": 82.37342071533203
         },
         {
          "i": 72,
          "loss": 81.89815521240234
         },
         {
          "i": 73,
          "loss": 81.43661499023438
         },
         {
          "i": 74,
          "loss": 80.98855590820312
         },
         {
          "i": 75,
          "loss": 80.55387878417969
         },
         {
          "i": 76,
          "loss": 80.13233947753906
         },
         {
          "i": 77,
          "loss": 79.72367858886719
         },
         {
          "i": 78,
          "loss": 79.32771301269531
         },
         {
          "i": 79,
          "loss": 78.94424438476562
         },
         {
          "i": 80,
          "loss": 78.5730209350586
         },
         {
          "i": 81,
          "loss": 78.21382141113281
         },
         {
          "i": 82,
          "loss": 77.86624145507812
         },
         {
          "i": 83,
          "loss": 77.53028869628906
         },
         {
          "i": 84,
          "loss": 77.20553588867188
         },
         {
          "i": 85,
          "loss": 76.89178466796875
         },
         {
          "i": 86,
          "loss": 76.58881378173828
         },
         {
          "i": 87,
          "loss": 76.29634094238281
         },
         {
          "i": 88,
          "loss": 76.01408386230469
         },
         {
          "i": 89,
          "loss": 75.74169158935547
         },
         {
          "i": 90,
          "loss": 75.4791259765625
         },
         {
          "i": 91,
          "loss": 75.22590637207031
         },
         {
          "i": 92,
          "loss": 74.98193359375
         },
         {
          "i": 93,
          "loss": 74.7469253540039
         },
         {
          "i": 94,
          "loss": 74.52050018310547
         },
         {
          "i": 95,
          "loss": 74.30248260498047
         },
         {
          "i": 96,
          "loss": 74.0926513671875
         },
         {
          "i": 97,
          "loss": 73.89073944091797
         },
         {
          "i": 98,
          "loss": 73.69640350341797
         },
         {
          "i": 99,
          "loss": 73.50959777832031
         },
         {
          "i": 100,
          "loss": 73.33002471923828
         },
         {
          "i": 101,
          "loss": 73.15733337402344
         },
         {
          "i": 102,
          "loss": 72.9913101196289
         },
         {
          "i": 103,
          "loss": 72.83184051513672
         },
         {
          "i": 104,
          "loss": 72.67857360839844
         },
         {
          "i": 105,
          "loss": 72.53144836425781
         },
         {
          "i": 106,
          "loss": 72.3901138305664
         },
         {
          "i": 107,
          "loss": 72.25444030761719
         },
         {
          "i": 108,
          "loss": 72.12413787841797
         },
         {
          "i": 109,
          "loss": 71.99919128417969
         },
         {
          "i": 110,
          "loss": 71.87921142578125
         },
         {
          "i": 111,
          "loss": 71.76415252685547
         },
         {
          "i": 112,
          "loss": 71.65374755859375
         },
         {
          "i": 113,
          "loss": 71.54785919189453
         },
         {
          "i": 114,
          "loss": 71.44622802734375
         },
         {
          "i": 115,
          "loss": 71.34883117675781
         },
         {
          "i": 116,
          "loss": 71.2555160522461
         },
         {
          "i": 117,
          "loss": 71.16593170166016
         },
         {
          "i": 118,
          "loss": 71.08019256591797
         },
         {
          "i": 119,
          "loss": 70.99790954589844
         },
         {
          "i": 120,
          "loss": 70.91902160644531
         },
         {
          "i": 121,
          "loss": 70.84347534179688
         },
         {
          "i": 122,
          "loss": 70.77110290527344
         },
         {
          "i": 123,
          "loss": 70.70172119140625
         },
         {
          "i": 124,
          "loss": 70.63526916503906
         },
         {
          "i": 125,
          "loss": 70.57166290283203
         },
         {
          "i": 126,
          "loss": 70.51062774658203
         },
         {
          "i": 127,
          "loss": 70.45223999023438
         },
         {
          "i": 128,
          "loss": 70.39627075195312
         },
         {
          "i": 129,
          "loss": 70.34263610839844
         },
         {
          "i": 130,
          "loss": 70.29129028320312
         },
         {
          "i": 131,
          "loss": 70.24217987060547
         },
         {
          "i": 132,
          "loss": 70.19511413574219
         },
         {
          "i": 133,
          "loss": 70.1500244140625
         },
         {
          "i": 134,
          "loss": 70.10688781738281
         },
         {
          "i": 135,
          "loss": 70.0655746459961
         },
         {
          "i": 136,
          "loss": 70.02590942382812
         },
         {
          "i": 137,
          "loss": 69.98808288574219
         },
         {
          "i": 138,
          "loss": 69.95181274414062
         },
         {
          "i": 139,
          "loss": 69.91705322265625
         },
         {
          "i": 140,
          "loss": 69.88386535644531
         },
         {
          "i": 141,
          "loss": 69.85193634033203
         },
         {
          "i": 142,
          "loss": 69.8215103149414
         },
         {
          "i": 143,
          "loss": 69.79230499267578
         },
         {
          "i": 144,
          "loss": 69.76441192626953
         },
         {
          "i": 145,
          "loss": 69.73763275146484
         },
         {
          "i": 146,
          "loss": 69.71200561523438
         },
         {
          "i": 147,
          "loss": 69.68753051757812
         },
         {
          "i": 148,
          "loss": 69.66403198242188
         },
         {
          "i": 149,
          "loss": 69.64158630371094
         },
         {
          "i": 150,
          "loss": 69.62005615234375
         },
         {
          "i": 151,
          "loss": 69.59944915771484
         },
         {
          "i": 152,
          "loss": 69.5798110961914
         },
         {
          "i": 153,
          "loss": 69.56090545654297
         },
         {
          "i": 154,
          "loss": 69.54281616210938
         },
         {
          "i": 155,
          "loss": 69.52557373046875
         },
         {
          "i": 156,
          "loss": 69.5090103149414
         },
         {
          "i": 157,
          "loss": 69.49317169189453
         },
         {
          "i": 158,
          "loss": 69.47799682617188
         },
         {
          "i": 159,
          "loss": 69.46349334716797
         },
         {
          "i": 160,
          "loss": 69.44953918457031
         },
         {
          "i": 161,
          "loss": 69.43620300292969
         },
         {
          "i": 162,
          "loss": 69.42349243164062
         },
         {
          "i": 163,
          "loss": 69.41131591796875
         },
         {
          "i": 164,
          "loss": 69.39961242675781
         },
         {
          "i": 165,
          "loss": 69.38841247558594
         },
         {
          "i": 166,
          "loss": 69.37772369384766
         },
         {
          "i": 167,
          "loss": 69.36747741699219
         },
         {
          "i": 168,
          "loss": 69.35767364501953
         },
         {
          "i": 169,
          "loss": 69.34822082519531
         },
         {
          "i": 170,
          "loss": 69.33920288085938
         },
         {
          "i": 171,
          "loss": 69.33058166503906
         },
         {
          "i": 172,
          "loss": 69.32234191894531
         },
         {
          "i": 173,
          "loss": 69.31451416015625
         },
         {
          "i": 174,
          "loss": 69.30691528320312
         },
         {
          "i": 175,
          "loss": 69.29969024658203
         },
         {
          "i": 176,
          "loss": 69.29264831542969
         },
         {
          "i": 177,
          "loss": 69.28607177734375
         },
         {
          "i": 178,
          "loss": 69.27972412109375
         },
         {
          "i": 179,
          "loss": 69.27360534667969
         },
         {
          "i": 180,
          "loss": 69.26776885986328
         },
         {
          "i": 181,
          "loss": 69.26221466064453
         },
         {
          "i": 182,
          "loss": 69.25682067871094
         },
         {
          "i": 183,
          "loss": 69.25177001953125
         },
         {
          "i": 184,
          "loss": 69.2468032836914
         },
         {
          "i": 185,
          "loss": 69.24207305908203
         },
         {
          "i": 186,
          "loss": 69.23757934570312
         },
         {
          "i": 187,
          "loss": 69.23329162597656
         },
         {
          "i": 188,
          "loss": 69.22919464111328
         },
         {
          "i": 189,
          "loss": 69.22517395019531
         },
         {
          "i": 190,
          "loss": 69.2214126586914
         },
         {
          "i": 191,
          "loss": 69.2177734375
         },
         {
          "i": 192,
          "loss": 69.21432495117188
         },
         {
          "i": 193,
          "loss": 69.2109603881836
         },
         {
          "i": 194,
          "loss": 69.20781707763672
         },
         {
          "i": 195,
          "loss": 69.20469665527344
         },
         {
          "i": 196,
          "loss": 69.20183563232422
         },
         {
          "i": 197,
          "loss": 69.19902038574219
         },
         {
          "i": 198,
          "loss": 69.19633483886719
         },
         {
          "i": 199,
          "loss": 69.1937484741211
         },
         {
          "i": 200,
          "loss": 69.19125366210938
         },
         {
          "i": 201,
          "loss": 69.18893432617188
         },
         {
          "i": 202,
          "loss": 69.18669891357422
         },
         {
          "i": 203,
          "loss": 69.18448638916016
         },
         {
          "i": 204,
          "loss": 69.18241119384766
         },
         {
          "i": 205,
          "loss": 69.18041229248047
         },
         {
          "i": 206,
          "loss": 69.17847442626953
         },
         {
          "i": 207,
          "loss": 69.17671203613281
         },
         {
          "i": 208,
          "loss": 69.17497253417969
         },
         {
          "i": 209,
          "loss": 69.17326354980469
         },
         {
          "i": 210,
          "loss": 69.17166137695312
         },
         {
          "i": 211,
          "loss": 69.17008209228516
         },
         {
          "i": 212,
          "loss": 69.16870880126953
         },
         {
          "i": 213,
          "loss": 69.16726684570312
         },
         {
          "i": 214,
          "loss": 69.16586303710938
         },
         {
          "i": 215,
          "loss": 69.16464233398438
         },
         {
          "i": 216,
          "loss": 69.16340637207031
         },
         {
          "i": 217,
          "loss": 69.16212463378906
         },
         {
          "i": 218,
          "loss": 69.1610336303711
         },
         {
          "i": 219,
          "loss": 69.15992736816406
         },
         {
          "i": 220,
          "loss": 69.15885925292969
         },
         {
          "i": 221,
          "loss": 69.15787506103516
         },
         {
          "i": 222,
          "loss": 69.1568832397461
         },
         {
          "i": 223,
          "loss": 69.1559829711914
         },
         {
          "i": 224,
          "loss": 69.15510559082031
         },
         {
          "i": 225,
          "loss": 69.15423583984375
         },
         {
          "i": 226,
          "loss": 69.15343475341797
         },
         {
          "i": 227,
          "loss": 69.15266418457031
         },
         {
          "i": 228,
          "loss": 69.15192413330078
         },
         {
          "i": 229,
          "loss": 69.15119934082031
         },
         {
          "i": 230,
          "loss": 69.1505126953125
         },
         {
          "i": 231,
          "loss": 69.14987182617188
         },
         {
          "i": 232,
          "loss": 69.14923095703125
         },
         {
          "i": 233,
          "loss": 69.14862060546875
         },
         {
          "i": 234,
          "loss": 69.14801788330078
         },
         {
          "i": 235,
          "loss": 69.14745330810547
         },
         {
          "i": 236,
          "loss": 69.14694213867188
         },
         {
          "i": 237,
          "loss": 69.14646911621094
         },
         {
          "i": 238,
          "loss": 69.14594268798828
         },
         {
          "i": 239,
          "loss": 69.14550018310547
         },
         {
          "i": 240,
          "loss": 69.1450424194336
         },
         {
          "i": 241,
          "loss": 69.14462280273438
         },
         {
          "i": 242,
          "loss": 69.14418029785156
         },
         {
          "i": 243,
          "loss": 69.14380645751953
         },
         {
          "i": 244,
          "loss": 69.1434326171875
         },
         {
          "i": 245,
          "loss": 69.14306640625
         },
         {
          "i": 246,
          "loss": 69.1427001953125
         },
         {
          "i": 247,
          "loss": 69.14236450195312
         },
         {
          "i": 248,
          "loss": 69.14202880859375
         },
         {
          "i": 249,
          "loss": 69.14175415039062
         },
         {
          "i": 250,
          "loss": 69.1414566040039
         },
         {
          "i": 251,
          "loss": 69.14125061035156
         },
         {
          "i": 252,
          "loss": 69.14094543457031
         },
         {
          "i": 253,
          "loss": 69.14066314697266
         },
         {
          "i": 254,
          "loss": 69.14043426513672
         },
         {
          "i": 255,
          "loss": 69.14017486572266
         },
         {
          "i": 256,
          "loss": 69.13996124267578
         },
         {
          "i": 257,
          "loss": 69.13969421386719
         },
         {
          "i": 258,
          "loss": 69.13951873779297
         },
         {
          "i": 259,
          "loss": 69.1392593383789
         },
         {
          "i": 260,
          "loss": 69.13909912109375
         },
         {
          "i": 261,
          "loss": 69.13888549804688
         },
         {
          "i": 262,
          "loss": 69.13878631591797
         },
         {
          "i": 263,
          "loss": 69.13855743408203
         },
         {
          "i": 264,
          "loss": 69.1384506225586
         },
         {
          "i": 265,
          "loss": 69.13831329345703
         },
         {
          "i": 266,
          "loss": 69.13815307617188
         },
         {
          "i": 267,
          "loss": 69.13802337646484
         },
         {
          "i": 268,
          "loss": 69.13786315917969
         },
         {
          "i": 269,
          "loss": 69.13770294189453
         },
         {
          "i": 270,
          "loss": 69.1375503540039
         },
         {
          "i": 271,
          "loss": 69.13745880126953
         },
         {
          "i": 272,
          "loss": 69.1373062133789
         },
         {
          "i": 273,
          "loss": 69.1371841430664
         },
         {
          "i": 274,
          "loss": 69.13710021972656
         },
         {
          "i": 275,
          "loss": 69.13700103759766
         },
         {
          "i": 276,
          "loss": 69.13691711425781
         },
         {
          "i": 277,
          "loss": 69.13677978515625
         },
         {
          "i": 278,
          "loss": 69.13672637939453
         },
         {
          "i": 279,
          "loss": 69.13663482666016
         },
         {
          "i": 280,
          "loss": 69.13652801513672
         },
         {
          "i": 281,
          "loss": 69.13652038574219
         },
         {
          "i": 282,
          "loss": 69.13641357421875
         },
         {
          "i": 283,
          "loss": 69.1363525390625
         },
         {
          "i": 284,
          "loss": 69.13622283935547
         },
         {
          "i": 285,
          "loss": 69.13616180419922
         },
         {
          "i": 286,
          "loss": 69.1361312866211
         },
         {
          "i": 287,
          "loss": 69.13610076904297
         },
         {
          "i": 288,
          "loss": 69.13599395751953
         },
         {
          "i": 289,
          "loss": 69.13594055175781
         },
         {
          "i": 290,
          "loss": 69.13589477539062
         },
         {
          "i": 291,
          "loss": 69.13587188720703
         },
         {
          "i": 292,
          "loss": 69.13578796386719
         },
         {
          "i": 293,
          "loss": 69.13574981689453
         },
         {
          "i": 294,
          "loss": 69.13569641113281
         },
         {
          "i": 295,
          "loss": 69.13568115234375
         },
         {
          "i": 296,
          "loss": 69.13561248779297
         },
         {
          "i": 297,
          "loss": 69.13555145263672
         },
         {
          "i": 298,
          "loss": 69.13555908203125
         },
         {
          "i": 299,
          "loss": 69.1355209350586
         },
         {
          "i": 300,
          "loss": 69.1354751586914
         },
         {
          "i": 301,
          "loss": 69.13541412353516
         },
         {
          "i": 302,
          "loss": 69.13544464111328
         },
         {
          "i": 303,
          "loss": 69.13540649414062
         },
         {
          "i": 304,
          "loss": 69.13533020019531
         },
         {
          "i": 305,
          "loss": 69.13534545898438
         },
         {
          "i": 306,
          "loss": 69.13529205322266
         },
         {
          "i": 307,
          "loss": 69.13520050048828
         },
         {
          "i": 308,
          "loss": 69.1352310180664
         },
         {
          "i": 309,
          "loss": 69.13516235351562
         },
         {
          "i": 310,
          "loss": 69.13516998291016
         },
         {
          "i": 311,
          "loss": 69.13506317138672
         },
         {
          "i": 312,
          "loss": 69.13511657714844
         },
         {
          "i": 313,
          "loss": 69.13510131835938
         },
         {
          "i": 314,
          "loss": 69.13505554199219
         },
         {
          "i": 315,
          "loss": 69.13504028320312
         },
         {
          "i": 316,
          "loss": 69.13501739501953
         },
         {
          "i": 317,
          "loss": 69.1350326538086
         },
         {
          "i": 318,
          "loss": 69.13497924804688
         },
         {
          "i": 319,
          "loss": 69.13496398925781
         },
         {
          "i": 320,
          "loss": 69.13497161865234
         },
         {
          "i": 321,
          "loss": 69.13493347167969
         },
         {
          "i": 322,
          "loss": 69.13493347167969
         },
         {
          "i": 323,
          "loss": 69.1348876953125
         },
         {
          "i": 324,
          "loss": 69.13491821289062
         },
         {
          "i": 325,
          "loss": 69.13490295410156
         },
         {
          "i": 326,
          "loss": 69.13485717773438
         },
         {
          "i": 327,
          "loss": 69.13488006591797
         },
         {
          "i": 328,
          "loss": 69.13488006591797
         },
         {
          "i": 329,
          "loss": 69.1348648071289
         },
         {
          "i": 330,
          "loss": 69.13480377197266
         },
         {
          "i": 331,
          "loss": 69.13483428955078
         },
         {
          "i": 332,
          "loss": 69.13484191894531
         },
         {
          "i": 333,
          "loss": 69.13475799560547
         },
         {
          "i": 334,
          "loss": 69.13484191894531
         },
         {
          "i": 335,
          "loss": 69.1347885131836
         },
         {
          "i": 336,
          "loss": 69.13479614257812
         },
         {
          "i": 337,
          "loss": 69.13473510742188
         },
         {
          "i": 338,
          "loss": 69.13475799560547
         },
         {
          "i": 339,
          "loss": 69.13475036621094
         },
         {
          "i": 340,
          "loss": 69.1347427368164
         },
         {
          "i": 341,
          "loss": 69.134765625
         },
         {
          "i": 342,
          "loss": 69.13475799560547
         },
         {
          "i": 343,
          "loss": 69.13470458984375
         },
         {
          "i": 344,
          "loss": 69.13473510742188
         },
         {
          "i": 345,
          "loss": 69.13471984863281
         },
         {
          "i": 346,
          "loss": 69.13468933105469
         },
         {
          "i": 347,
          "loss": 69.13473510742188
         },
         {
          "i": 348,
          "loss": 69.13470458984375
         },
         {
          "i": 349,
          "loss": 69.13467407226562
         },
         {
          "i": 350,
          "loss": 69.13468933105469
         },
         {
          "i": 351,
          "loss": 69.13470458984375
         },
         {
          "i": 352,
          "loss": 69.13468933105469
         },
         {
          "i": 353,
          "loss": 69.13469696044922
         },
         {
          "i": 354,
          "loss": 69.13470458984375
         },
         {
          "i": 355,
          "loss": 69.13465118408203
         },
         {
          "i": 356,
          "loss": 69.13467407226562
         },
         {
          "i": 357,
          "loss": 69.13461303710938
         },
         {
          "i": 358,
          "loss": 69.13465118408203
         },
         {
          "i": 359,
          "loss": 69.1346664428711
         },
         {
          "i": 360,
          "loss": 69.13470458984375
         },
         {
          "i": 361,
          "loss": 69.13465118408203
         },
         {
          "i": 362,
          "loss": 69.13468170166016
         },
         {
          "i": 363,
          "loss": 69.13463592529297
         },
         {
          "i": 364,
          "loss": 69.13461303710938
         },
         {
          "i": 365,
          "loss": 69.1346206665039
         },
         {
          "i": 366,
          "loss": 69.1346206665039
         },
         {
          "i": 367,
          "loss": 69.13463592529297
         },
         {
          "i": 368,
          "loss": 69.13465118408203
         },
         {
          "i": 369,
          "loss": 69.1346206665039
         },
         {
          "i": 370,
          "loss": 69.13468933105469
         },
         {
          "i": 371,
          "loss": 69.13463592529297
         },
         {
          "i": 372,
          "loss": 69.13463592529297
         },
         {
          "i": 373,
          "loss": 69.13465881347656
         },
         {
          "i": 374,
          "loss": 69.1346664428711
         },
         {
          "i": 375,
          "loss": 69.13468170166016
         },
         {
          "i": 376,
          "loss": 69.13460540771484
         },
         {
          "i": 377,
          "loss": 69.1346206665039
         },
         {
          "i": 378,
          "loss": 69.13463592529297
         },
         {
          "i": 379,
          "loss": 69.13461303710938
         },
         {
          "i": 380,
          "loss": 69.13459777832031
         },
         {
          "i": 381,
          "loss": 69.13463592529297
         },
         {
          "i": 382,
          "loss": 69.1346435546875
         },
         {
          "i": 383,
          "loss": 69.13461303710938
         },
         {
          "i": 384,
          "loss": 69.13461303710938
         },
         {
          "i": 385,
          "loss": 69.13463592529297
         },
         {
          "i": 386,
          "loss": 69.13463592529297
         },
         {
          "i": 387,
          "loss": 69.13459014892578
         },
         {
          "i": 388,
          "loss": 69.1346206665039
         },
         {
          "i": 389,
          "loss": 69.13461303710938
         },
         {
          "i": 390,
          "loss": 69.13463592529297
         },
         {
          "i": 391,
          "loss": 69.13460540771484
         },
         {
          "i": 392,
          "loss": 69.13461303710938
         },
         {
          "i": 393,
          "loss": 69.13458251953125
         },
         {
          "i": 394,
          "loss": 69.13461303710938
         },
         {
          "i": 395,
          "loss": 69.13459777832031
         },
         {
          "i": 396,
          "loss": 69.13459777832031
         },
         {
          "i": 397,
          "loss": 69.13460540771484
         },
         {
          "i": 398,
          "loss": 69.13461303710938
         },
         {
          "i": 399,
          "loss": 69.13465118408203
         },
         {
          "i": 400,
          "loss": 69.13459014892578
         },
         {
          "i": 401,
          "loss": 69.1346206665039
         },
         {
          "i": 402,
          "loss": 69.13461303710938
         },
         {
          "i": 403,
          "loss": 69.13460540771484
         },
         {
          "i": 404,
          "loss": 69.13459777832031
         },
         {
          "i": 405,
          "loss": 69.13461303710938
         },
         {
          "i": 406,
          "loss": 69.13457489013672
         },
         {
          "i": 407,
          "loss": 69.13459777832031
         },
         {
          "i": 408,
          "loss": 69.13462829589844
         },
         {
          "i": 409,
          "loss": 69.13461303710938
         },
         {
          "i": 410,
          "loss": 69.13459777832031
         },
         {
          "i": 411,
          "loss": 69.1346206665039
         },
         {
          "i": 412,
          "loss": 69.13458251953125
         },
         {
          "i": 413,
          "loss": 69.13461303710938
         },
         {
          "i": 414,
          "loss": 69.1346435546875
         },
         {
          "i": 415,
          "loss": 69.13459014892578
         },
         {
          "i": 416,
          "loss": 69.13459777832031
         },
         {
          "i": 417,
          "loss": 69.1346435546875
         },
         {
          "i": 418,
          "loss": 69.13459777832031
         },
         {
          "i": 419,
          "loss": 69.13458251953125
         },
         {
          "i": 420,
          "loss": 69.13461303710938
         },
         {
          "i": 421,
          "loss": 69.13459777832031
         },
         {
          "i": 422,
          "loss": 69.13457489013672
         },
         {
          "i": 423,
          "loss": 69.13459777832031
         },
         {
          "i": 424,
          "loss": 69.13459777832031
         },
         {
          "i": 425,
          "loss": 69.13465118408203
         },
         {
          "i": 426,
          "loss": 69.13458251953125
         },
         {
          "i": 427,
          "loss": 69.1346206665039
         },
         {
          "i": 428,
          "loss": 69.13461303710938
         },
         {
          "i": 429,
          "loss": 69.13458251953125
         },
         {
          "i": 430,
          "loss": 69.13461303710938
         },
         {
          "i": 431,
          "loss": 69.13461303710938
         },
         {
          "i": 432,
          "loss": 69.13459014892578
         },
         {
          "i": 433,
          "loss": 69.13456726074219
         },
         {
          "i": 434,
          "loss": 69.13458251953125
         },
         {
          "i": 435,
          "loss": 69.13458251953125
         },
         {
          "i": 436,
          "loss": 69.13456726074219
         },
         {
          "i": 437,
          "loss": 69.13456726074219
         },
         {
          "i": 438,
          "loss": 69.13458251953125
         },
         {
          "i": 439,
          "loss": 69.13461303710938
         },
         {
          "i": 440,
          "loss": 69.13455200195312
         },
         {
          "i": 441,
          "loss": 69.13459777832031
         },
         {
          "i": 442,
          "loss": 69.13458251953125
         },
         {
          "i": 443,
          "loss": 69.13461303710938
         },
         {
          "i": 444,
          "loss": 69.13459777832031
         },
         {
          "i": 445,
          "loss": 69.13459777832031
         },
         {
          "i": 446,
          "loss": 69.13459777832031
         },
         {
          "i": 447,
          "loss": 69.13456726074219
         },
         {
          "i": 448,
          "loss": 69.13459777832031
         },
         {
          "i": 449,
          "loss": 69.13459014892578
         },
         {
          "i": 450,
          "loss": 69.13458251953125
         },
         {
          "i": 451,
          "loss": 69.13459014892578
         },
         {
          "i": 452,
          "loss": 69.13459014892578
         },
         {
          "i": 453,
          "loss": 69.13461303710938
         },
         {
          "i": 454,
          "loss": 69.13457489013672
         },
         {
          "i": 455,
          "loss": 69.13459777832031
         },
         {
          "i": 456,
          "loss": 69.13460540771484
         },
         {
          "i": 457,
          "loss": 69.13455963134766
         },
         {
          "i": 458,
          "loss": 69.13461303710938
         },
         {
          "i": 459,
          "loss": 69.13461303710938
         },
         {
          "i": 460,
          "loss": 69.13463592529297
         },
         {
          "i": 461,
          "loss": 69.1346206665039
         },
         {
          "i": 462,
          "loss": 69.13459777832031
         },
         {
          "i": 463,
          "loss": 69.13459014892578
         },
         {
          "i": 464,
          "loss": 69.13455963134766
         },
         {
          "i": 465,
          "loss": 69.13458251953125
         },
         {
          "i": 466,
          "loss": 69.13457489013672
         },
         {
          "i": 467,
          "loss": 69.13457489013672
         },
         {
          "i": 468,
          "loss": 69.13458251953125
         },
         {
          "i": 469,
          "loss": 69.13458251953125
         },
         {
          "i": 470,
          "loss": 69.13459777832031
         },
         {
          "i": 471,
          "loss": 69.13458251953125
         },
         {
          "i": 472,
          "loss": 69.13458251953125
         },
         {
          "i": 473,
          "loss": 69.13455963134766
         },
         {
          "i": 474,
          "loss": 69.13455963134766
         },
         {
          "i": 475,
          "loss": 69.13458251953125
         },
         {
          "i": 476,
          "loss": 69.1346206665039
         },
         {
          "i": 477,
          "loss": 69.13459777832031
         },
         {
          "i": 478,
          "loss": 69.13457489013672
         },
         {
          "i": 479,
          "loss": 69.13456726074219
         },
         {
          "i": 480,
          "loss": 69.13459014892578
         },
         {
          "i": 481,
          "loss": 69.13459777832031
         },
         {
          "i": 482,
          "loss": 69.13459777832031
         },
         {
          "i": 483,
          "loss": 69.1346206665039
         },
         {
          "i": 484,
          "loss": 69.13458251953125
         },
         {
          "i": 485,
          "loss": 69.13458251953125
         },
         {
          "i": 486,
          "loss": 69.13459014892578
         },
         {
          "i": 487,
          "loss": 69.13461303710938
         },
         {
          "i": 488,
          "loss": 69.13462829589844
         },
         {
          "i": 489,
          "loss": 69.13461303710938
         },
         {
          "i": 490,
          "loss": 69.13455200195312
         },
         {
          "i": 491,
          "loss": 69.13459777832031
         },
         {
          "i": 492,
          "loss": 69.1346206665039
         },
         {
          "i": 493,
          "loss": 69.13460540771484
         },
         {
          "i": 494,
          "loss": 69.13459014892578
         },
         {
          "i": 495,
          "loss": 69.13458251953125
         },
         {
          "i": 496,
          "loss": 69.13459777832031
         },
         {
          "i": 497,
          "loss": 69.13461303710938
         },
         {
          "i": 498,
          "loss": 69.13458251953125
         },
         {
          "i": 499,
          "loss": 69.13460540771484
         }
        ]
       },
       "encoding": {
        "x": {
         "field": "i",
         "type": "quantitative"
        },
        "y": {
         "field": "loss",
         "type": "quantitative"
        }
       },
       "height": 100,
       "mark": "line"
      },
      "image/png": "[encoded data removed]",
      "text/plain": [
       "<VegaLite 3 object>\n",
       "\n",
       "If you see this message, it means the renderer has not been properly enabled\n",
       "for the frontend that you are using. For more information, see\n",
       "https://altair-viz.github.io/user_guide/troubleshooting.html\n"
      ]
     },
     "execution_count": 97,
     "metadata": {},
     "output_type": "execute_result"
    }
   ],
   "source": [
    "loss_df = pd.DataFrame({'i':range(500), 'loss':loss_record})\n",
    "alt.Chart(loss_df, height=100).mark_line().encode(x='i', y='loss')"
   ]
  },
  {
   "cell_type": "markdown",
   "metadata": {},
   "source": [
    "Although the code looks pretty much the same, save the changes to the model and loss, the computation that pytorch needs to do to compute the gradient of $L$ with respect to each $\\beta$ is now much more involved, which you too will see if you try to compute it by hand."
   ]
  },
  {
   "cell_type": "code",
   "execution_count": 98,
   "metadata": {
    "tags": [
     "popout",
     "hide_input"
    ]
   },
   "outputs": [
    {
     "data": {
      "image/svg+xml": [
       "<?xml version=\"1.0\" encoding=\"UTF-8\" standalone=\"no\"?>\n",
       "<!DOCTYPE svg PUBLIC \"-//W3C//DTD SVG 1.1//EN\"\n",
       " \"http://www.w3.org/Graphics/SVG/1.1/DTD/svg11.dtd\">\n",
       "<!-- Generated by graphviz version 2.43.0 (0)\n",
       " -->\n",
       "<!-- Title: %3 Pages: 1 -->\n",
       "<svg width=\"209pt\" height=\"824pt\"\n",
       " viewBox=\"0.00 0.00 208.98 824.00\" xmlns=\"http://www.w3.org/2000/svg\" xmlns:xlink=\"http://www.w3.org/1999/xlink\">\n",
       "<g id=\"graph0\" class=\"graph\" transform=\"scale(1 1) rotate(0) translate(4 820)\">\n",
       "<title>%3</title>\n",
       "<polygon fill=\"white\" stroke=\"transparent\" points=\"-4,4 -4,-820 204.98,-820 204.98,4 -4,4\"/>\n",
       "<!-- 4928378832 -->\n",
       "<g id=\"node1\" class=\"node\">\n",
       "<title>4928378832</title>\n",
       "<polygon fill=\"#caff70\" stroke=\"black\" points=\"143.47,-20 55.18,-20 55.18,0 143.47,0 143.47,-20\"/>\n",
       "<text text-anchor=\"middle\" x=\"99.32\" y=\"-6.4\" font-family=\"Times,serif\" font-size=\"12.00\">DivBackward0</text>\n",
       "</g>\n",
       "<!-- 4928377936 -->\n",
       "<g id=\"node2\" class=\"node\">\n",
       "<title>4928377936</title>\n",
       "<polygon fill=\"lightgrey\" stroke=\"black\" points=\"141.46,-76 57.19,-76 57.19,-56 141.46,-56 141.46,-76\"/>\n",
       "<text text-anchor=\"middle\" x=\"99.32\" y=\"-62.4\" font-family=\"Times,serif\" font-size=\"12.00\">NegBackward</text>\n",
       "</g>\n",
       "<!-- 4928377936&#45;&gt;4928378832 -->\n",
       "<g id=\"edge1\" class=\"edge\">\n",
       "<title>4928377936&#45;&gt;4928378832</title>\n",
       "<path fill=\"none\" stroke=\"black\" d=\"M99.32,-55.59C99.32,-48.7 99.32,-39.1 99.32,-30.57\"/>\n",
       "<polygon fill=\"black\" stroke=\"black\" points=\"102.82,-30.3 99.32,-20.3 95.82,-30.3 102.82,-30.3\"/>\n",
       "</g>\n",
       "<!-- 4927980624 -->\n",
       "<g id=\"node3\" class=\"node\">\n",
       "<title>4927980624</title>\n",
       "<polygon fill=\"lightgrey\" stroke=\"black\" points=\"145.48,-132 53.17,-132 53.17,-112 145.48,-112 145.48,-132\"/>\n",
       "<text text-anchor=\"middle\" x=\"99.32\" y=\"-118.4\" font-family=\"Times,serif\" font-size=\"12.00\">SumBackward0</text>\n",
       "</g>\n",
       "<!-- 4927980624&#45;&gt;4928377936 -->\n",
       "<g id=\"edge2\" class=\"edge\">\n",
       "<title>4927980624&#45;&gt;4928377936</title>\n",
       "<path fill=\"none\" stroke=\"black\" d=\"M99.32,-111.59C99.32,-104.7 99.32,-95.1 99.32,-86.57\"/>\n",
       "<polygon fill=\"black\" stroke=\"black\" points=\"102.82,-86.3 99.32,-76.3 95.82,-86.3 102.82,-86.3\"/>\n",
       "</g>\n",
       "<!-- 4927979792 -->\n",
       "<g id=\"node4\" class=\"node\">\n",
       "<title>4927979792</title>\n",
       "<polygon fill=\"lightgrey\" stroke=\"black\" points=\"145.14,-188 53.51,-188 53.51,-168 145.14,-168 145.14,-188\"/>\n",
       "<text text-anchor=\"middle\" x=\"99.32\" y=\"-174.4\" font-family=\"Times,serif\" font-size=\"12.00\">AddBackward0</text>\n",
       "</g>\n",
       "<!-- 4927979792&#45;&gt;4927980624 -->\n",
       "<g id=\"edge3\" class=\"edge\">\n",
       "<title>4927979792&#45;&gt;4927980624</title>\n",
       "<path fill=\"none\" stroke=\"black\" d=\"M99.32,-167.59C99.32,-160.7 99.32,-151.1 99.32,-142.57\"/>\n",
       "<polygon fill=\"black\" stroke=\"black\" points=\"102.82,-142.3 99.32,-132.3 95.82,-142.3 102.82,-142.3\"/>\n",
       "</g>\n",
       "<!-- 4927980112 -->\n",
       "<g id=\"node5\" class=\"node\">\n",
       "<title>4927980112</title>\n",
       "<polygon fill=\"lightgrey\" stroke=\"black\" points=\"90.47,-244 0.18,-244 0.18,-224 90.47,-224 90.47,-244\"/>\n",
       "<text text-anchor=\"middle\" x=\"45.32\" y=\"-230.4\" font-family=\"Times,serif\" font-size=\"12.00\">MulBackward0</text>\n",
       "</g>\n",
       "<!-- 4927980112&#45;&gt;4927979792 -->\n",
       "<g id=\"edge4\" class=\"edge\">\n",
       "<title>4927980112&#45;&gt;4927979792</title>\n",
       "<path fill=\"none\" stroke=\"black\" d=\"M54.73,-223.59C62.47,-215.85 73.64,-204.69 82.86,-195.47\"/>\n",
       "<polygon fill=\"black\" stroke=\"black\" points=\"85.43,-197.84 90.03,-188.3 80.48,-192.89 85.43,-197.84\"/>\n",
       "</g>\n",
       "<!-- 4927982800 -->\n",
       "<g id=\"node6\" class=\"node\">\n",
       "<title>4927982800</title>\n",
       "<polygon fill=\"lightgrey\" stroke=\"black\" points=\"87.3,-356 3.35,-356 3.35,-336 87.3,-336 87.3,-356\"/>\n",
       "<text text-anchor=\"middle\" x=\"45.32\" y=\"-342.4\" font-family=\"Times,serif\" font-size=\"12.00\">LogBackward</text>\n",
       "</g>\n",
       "<!-- 4927982800&#45;&gt;4927980112 -->\n",
       "<g id=\"edge5\" class=\"edge\">\n",
       "<title>4927982800&#45;&gt;4927980112</title>\n",
       "<path fill=\"none\" stroke=\"black\" d=\"M45.32,-336C45.32,-318.19 45.32,-278.12 45.32,-254.15\"/>\n",
       "<polygon fill=\"black\" stroke=\"black\" points=\"48.82,-254.13 45.32,-244.13 41.82,-254.13 48.82,-254.13\"/>\n",
       "</g>\n",
       "<!-- 4927981840 -->\n",
       "<g id=\"node7\" class=\"node\">\n",
       "<title>4927981840</title>\n",
       "<polygon fill=\"lightgrey\" stroke=\"black\" points=\"143.47,-412 55.18,-412 55.18,-392 143.47,-392 143.47,-412\"/>\n",
       "<text text-anchor=\"middle\" x=\"99.32\" y=\"-398.4\" font-family=\"Times,serif\" font-size=\"12.00\">DivBackward0</text>\n",
       "</g>\n",
       "<!-- 4927981840&#45;&gt;4927982800 -->\n",
       "<g id=\"edge6\" class=\"edge\">\n",
       "<title>4927981840&#45;&gt;4927982800</title>\n",
       "<path fill=\"none\" stroke=\"black\" d=\"M89.92,-391.59C82.17,-383.85 71.01,-372.69 61.79,-363.47\"/>\n",
       "<polygon fill=\"black\" stroke=\"black\" points=\"64.17,-360.89 54.62,-356.3 59.22,-365.84 64.17,-360.89\"/>\n",
       "</g>\n",
       "<!-- 4928161616 -->\n",
       "<g id=\"node20\" class=\"node\">\n",
       "<title>4928161616</title>\n",
       "<polygon fill=\"lightgrey\" stroke=\"black\" points=\"201.14,-356 105.51,-356 105.51,-336 201.14,-336 201.14,-356\"/>\n",
       "<text text-anchor=\"middle\" x=\"153.32\" y=\"-342.4\" font-family=\"Times,serif\" font-size=\"12.00\">RsubBackward1</text>\n",
       "</g>\n",
       "<!-- 4927981840&#45;&gt;4928161616 -->\n",
       "<g id=\"edge22\" class=\"edge\">\n",
       "<title>4927981840&#45;&gt;4928161616</title>\n",
       "<path fill=\"none\" stroke=\"black\" d=\"M108.73,-391.59C116.47,-383.85 127.64,-372.69 136.86,-363.47\"/>\n",
       "<polygon fill=\"black\" stroke=\"black\" points=\"139.43,-365.84 144.03,-356.3 134.48,-360.89 139.43,-365.84\"/>\n",
       "</g>\n",
       "<!-- 4927980496 -->\n",
       "<g id=\"node8\" class=\"node\">\n",
       "<title>4927980496</title>\n",
       "<polygon fill=\"lightgrey\" stroke=\"black\" points=\"88.3,-468 4.35,-468 4.35,-448 88.3,-448 88.3,-468\"/>\n",
       "<text text-anchor=\"middle\" x=\"46.32\" y=\"-454.4\" font-family=\"Times,serif\" font-size=\"12.00\">ExpBackward</text>\n",
       "</g>\n",
       "<!-- 4927980496&#45;&gt;4927981840 -->\n",
       "<g id=\"edge7\" class=\"edge\">\n",
       "<title>4927980496&#45;&gt;4927981840</title>\n",
       "<path fill=\"none\" stroke=\"black\" d=\"M55.56,-447.59C63.16,-439.85 74.11,-428.69 83.16,-419.47\"/>\n",
       "<polygon fill=\"black\" stroke=\"black\" points=\"85.69,-421.89 90.2,-412.3 80.7,-416.98 85.69,-421.89\"/>\n",
       "</g>\n",
       "<!-- 4928160144 -->\n",
       "<g id=\"node9\" class=\"node\">\n",
       "<title>4928160144</title>\n",
       "<polygon fill=\"lightgrey\" stroke=\"black\" points=\"90.46,-580 6.19,-580 6.19,-560 90.46,-560 90.46,-580\"/>\n",
       "<text text-anchor=\"middle\" x=\"48.32\" y=\"-566.4\" font-family=\"Times,serif\" font-size=\"12.00\">NegBackward</text>\n",
       "</g>\n",
       "<!-- 4928160144&#45;&gt;4927980496 -->\n",
       "<g id=\"edge8\" class=\"edge\">\n",
       "<title>4928160144&#45;&gt;4927980496</title>\n",
       "<path fill=\"none\" stroke=\"black\" d=\"M48.16,-560C47.84,-542.19 47.11,-502.12 46.67,-478.15\"/>\n",
       "<polygon fill=\"black\" stroke=\"black\" points=\"50.17,-478.06 46.49,-468.13 43.17,-478.19 50.17,-478.06\"/>\n",
       "</g>\n",
       "<!-- 4928162896 -->\n",
       "<g id=\"node10\" class=\"node\">\n",
       "<title>4928162896</title>\n",
       "<polygon fill=\"lightgrey\" stroke=\"black\" points=\"145.14,-636 53.51,-636 53.51,-616 145.14,-616 145.14,-636\"/>\n",
       "<text text-anchor=\"middle\" x=\"99.32\" y=\"-622.4\" font-family=\"Times,serif\" font-size=\"12.00\">AddBackward0</text>\n",
       "</g>\n",
       "<!-- 4928162896&#45;&gt;4928160144 -->\n",
       "<g id=\"edge9\" class=\"edge\">\n",
       "<title>4928162896&#45;&gt;4928160144</title>\n",
       "<path fill=\"none\" stroke=\"black\" d=\"M90.44,-615.59C83.2,-607.93 72.8,-596.91 64.14,-587.75\"/>\n",
       "<polygon fill=\"black\" stroke=\"black\" points=\"66.52,-585.17 57.11,-580.3 61.43,-589.97 66.52,-585.17\"/>\n",
       "</g>\n",
       "<!-- 4928162000 -->\n",
       "<g id=\"node17\" class=\"node\">\n",
       "<title>4928162000</title>\n",
       "<polygon fill=\"lightgrey\" stroke=\"black\" points=\"193.46,-580 109.19,-580 109.19,-560 193.46,-560 193.46,-580\"/>\n",
       "<text text-anchor=\"middle\" x=\"151.32\" y=\"-566.4\" font-family=\"Times,serif\" font-size=\"12.00\">NegBackward</text>\n",
       "</g>\n",
       "<!-- 4928162896&#45;&gt;4928162000 -->\n",
       "<g id=\"edge18\" class=\"edge\">\n",
       "<title>4928162896&#45;&gt;4928162000</title>\n",
       "<path fill=\"none\" stroke=\"black\" d=\"M108.38,-615.59C115.76,-607.93 126.37,-596.91 135.2,-587.75\"/>\n",
       "<polygon fill=\"black\" stroke=\"black\" points=\"137.95,-589.93 142.37,-580.3 132.91,-585.07 137.95,-589.93\"/>\n",
       "</g>\n",
       "<!-- 4928160336 -->\n",
       "<g id=\"node11\" class=\"node\">\n",
       "<title>4928160336</title>\n",
       "<polygon fill=\"lightgrey\" stroke=\"black\" points=\"88.47,-692 4.18,-692 4.18,-672 88.47,-672 88.47,-692\"/>\n",
       "<text text-anchor=\"middle\" x=\"46.32\" y=\"-678.4\" font-family=\"Times,serif\" font-size=\"12.00\">MmBackward</text>\n",
       "</g>\n",
       "<!-- 4928160336&#45;&gt;4928162896 -->\n",
       "<g id=\"edge10\" class=\"edge\">\n",
       "<title>4928160336&#45;&gt;4928162896</title>\n",
       "<path fill=\"none\" stroke=\"black\" d=\"M55.56,-671.59C63.16,-663.85 74.11,-652.69 83.16,-643.47\"/>\n",
       "<polygon fill=\"black\" stroke=\"black\" points=\"85.69,-645.89 90.2,-636.3 80.7,-640.98 85.69,-645.89\"/>\n",
       "</g>\n",
       "<!-- 4928162448 -->\n",
       "<g id=\"node12\" class=\"node\">\n",
       "<title>4928162448</title>\n",
       "<polygon fill=\"lightgrey\" stroke=\"black\" points=\"107.46,-748 19.18,-748 19.18,-728 107.46,-728 107.46,-748\"/>\n",
       "<text text-anchor=\"middle\" x=\"63.32\" y=\"-734.4\" font-family=\"Times,serif\" font-size=\"12.00\">SliceBackward</text>\n",
       "</g>\n",
       "<!-- 4928162448&#45;&gt;4928160336 -->\n",
       "<g id=\"edge11\" class=\"edge\">\n",
       "<title>4928162448&#45;&gt;4928160336</title>\n",
       "<path fill=\"none\" stroke=\"black\" d=\"M60.36,-727.59C58.14,-720.55 55.04,-710.67 52.31,-702\"/>\n",
       "<polygon fill=\"black\" stroke=\"black\" points=\"55.59,-700.79 49.25,-692.3 48.92,-702.89 55.59,-700.79\"/>\n",
       "</g>\n",
       "<!-- 4928161424 -->\n",
       "<g id=\"node13\" class=\"node\">\n",
       "<title>4928161424</title>\n",
       "<polygon fill=\"lightblue\" stroke=\"black\" points=\"126.32,-816 72.32,-816 72.32,-784 126.32,-784 126.32,-816\"/>\n",
       "<text text-anchor=\"middle\" x=\"99.32\" y=\"-802.4\" font-family=\"Times,serif\" font-size=\"12.00\">β</text>\n",
       "<text text-anchor=\"middle\" x=\"99.32\" y=\"-790.4\" font-family=\"Times,serif\" font-size=\"12.00\"> (6, 1)</text>\n",
       "</g>\n",
       "<!-- 4928161424&#45;&gt;4928162448 -->\n",
       "<g id=\"edge12\" class=\"edge\">\n",
       "<title>4928161424&#45;&gt;4928162448</title>\n",
       "<path fill=\"none\" stroke=\"black\" d=\"M90.24,-783.86C85.34,-775.69 79.25,-765.55 74.11,-756.98\"/>\n",
       "<polygon fill=\"black\" stroke=\"black\" points=\"76.96,-754.93 68.82,-748.15 70.96,-758.53 76.96,-754.93\"/>\n",
       "</g>\n",
       "<!-- 4928163600 -->\n",
       "<g id=\"node14\" class=\"node\">\n",
       "<title>4928163600</title>\n",
       "<polygon fill=\"lightgrey\" stroke=\"black\" points=\"200.29,-692 106.36,-692 106.36,-672 200.29,-672 200.29,-692\"/>\n",
       "<text text-anchor=\"middle\" x=\"153.32\" y=\"-678.4\" font-family=\"Times,serif\" font-size=\"12.00\">SelectBackward</text>\n",
       "</g>\n",
       "<!-- 4928161424&#45;&gt;4928163600 -->\n",
       "<g id=\"edge14\" class=\"edge\">\n",
       "<title>4928161424&#45;&gt;4928163600</title>\n",
       "<path fill=\"none\" stroke=\"black\" d=\"M106.38,-783.84C116.25,-762.64 134.15,-724.2 144.76,-701.39\"/>\n",
       "<polygon fill=\"black\" stroke=\"black\" points=\"148.02,-702.68 149.07,-692.14 141.68,-699.72 148.02,-702.68\"/>\n",
       "</g>\n",
       "<!-- 4928163600&#45;&gt;4928162896 -->\n",
       "<g id=\"edge13\" class=\"edge\">\n",
       "<title>4928163600&#45;&gt;4928162896</title>\n",
       "<path fill=\"none\" stroke=\"black\" d=\"M143.92,-671.59C136.17,-663.85 125.01,-652.69 115.79,-643.47\"/>\n",
       "<polygon fill=\"black\" stroke=\"black\" points=\"118.17,-640.89 108.62,-636.3 113.22,-645.84 118.17,-640.89\"/>\n",
       "</g>\n",
       "<!-- 4928193744 -->\n",
       "<g id=\"node15\" class=\"node\">\n",
       "<title>4928193744</title>\n",
       "<polygon fill=\"lightgrey\" stroke=\"black\" points=\"198.14,-468 106.51,-468 106.51,-448 198.14,-448 198.14,-468\"/>\n",
       "<text text-anchor=\"middle\" x=\"152.32\" y=\"-454.4\" font-family=\"Times,serif\" font-size=\"12.00\">AddBackward0</text>\n",
       "</g>\n",
       "<!-- 4928193744&#45;&gt;4927981840 -->\n",
       "<g id=\"edge15\" class=\"edge\">\n",
       "<title>4928193744&#45;&gt;4927981840</title>\n",
       "<path fill=\"none\" stroke=\"black\" d=\"M143.09,-447.59C135.49,-439.85 124.54,-428.69 115.49,-419.47\"/>\n",
       "<polygon fill=\"black\" stroke=\"black\" points=\"117.95,-416.98 108.45,-412.3 112.96,-421.89 117.95,-416.98\"/>\n",
       "</g>\n",
       "<!-- 4928161168 -->\n",
       "<g id=\"node16\" class=\"node\">\n",
       "<title>4928161168</title>\n",
       "<polygon fill=\"lightgrey\" stroke=\"black\" points=\"193.3,-524 109.35,-524 109.35,-504 193.3,-504 193.3,-524\"/>\n",
       "<text text-anchor=\"middle\" x=\"151.32\" y=\"-510.4\" font-family=\"Times,serif\" font-size=\"12.00\">ExpBackward</text>\n",
       "</g>\n",
       "<!-- 4928161168&#45;&gt;4928193744 -->\n",
       "<g id=\"edge16\" class=\"edge\">\n",
       "<title>4928161168&#45;&gt;4928193744</title>\n",
       "<path fill=\"none\" stroke=\"black\" d=\"M151.5,-503.59C151.63,-496.7 151.8,-487.1 151.96,-478.57\"/>\n",
       "<polygon fill=\"black\" stroke=\"black\" points=\"155.47,-478.36 152.15,-468.3 148.47,-478.23 155.47,-478.36\"/>\n",
       "</g>\n",
       "<!-- 4928162000&#45;&gt;4928161168 -->\n",
       "<g id=\"edge17\" class=\"edge\">\n",
       "<title>4928162000&#45;&gt;4928161168</title>\n",
       "<path fill=\"none\" stroke=\"black\" d=\"M151.32,-559.59C151.32,-552.7 151.32,-543.1 151.32,-534.57\"/>\n",
       "<polygon fill=\"black\" stroke=\"black\" points=\"154.82,-534.3 151.32,-524.3 147.82,-534.3 154.82,-534.3\"/>\n",
       "</g>\n",
       "<!-- 4927980816 -->\n",
       "<g id=\"node18\" class=\"node\">\n",
       "<title>4927980816</title>\n",
       "<polygon fill=\"lightgrey\" stroke=\"black\" points=\"199.47,-244 109.18,-244 109.18,-224 199.47,-224 199.47,-244\"/>\n",
       "<text text-anchor=\"middle\" x=\"154.32\" y=\"-230.4\" font-family=\"Times,serif\" font-size=\"12.00\">MulBackward0</text>\n",
       "</g>\n",
       "<!-- 4927980816&#45;&gt;4927979792 -->\n",
       "<g id=\"edge19\" class=\"edge\">\n",
       "<title>4927980816&#45;&gt;4927979792</title>\n",
       "<path fill=\"none\" stroke=\"black\" d=\"M144.74,-223.59C136.86,-215.85 125.49,-204.69 116.1,-195.47\"/>\n",
       "<polygon fill=\"black\" stroke=\"black\" points=\"118.38,-192.81 108.79,-188.3 113.48,-197.8 118.38,-192.81\"/>\n",
       "</g>\n",
       "<!-- 4927981072 -->\n",
       "<g id=\"node19\" class=\"node\">\n",
       "<title>4927981072</title>\n",
       "<polygon fill=\"lightgrey\" stroke=\"black\" points=\"195.3,-300 111.35,-300 111.35,-280 195.3,-280 195.3,-300\"/>\n",
       "<text text-anchor=\"middle\" x=\"153.32\" y=\"-286.4\" font-family=\"Times,serif\" font-size=\"12.00\">LogBackward</text>\n",
       "</g>\n",
       "<!-- 4927981072&#45;&gt;4927980816 -->\n",
       "<g id=\"edge20\" class=\"edge\">\n",
       "<title>4927981072&#45;&gt;4927980816</title>\n",
       "<path fill=\"none\" stroke=\"black\" d=\"M153.5,-279.59C153.63,-272.7 153.8,-263.1 153.96,-254.57\"/>\n",
       "<polygon fill=\"black\" stroke=\"black\" points=\"157.47,-254.36 154.15,-244.3 150.47,-254.23 157.47,-254.36\"/>\n",
       "</g>\n",
       "<!-- 4928161616&#45;&gt;4927981072 -->\n",
       "<g id=\"edge21\" class=\"edge\">\n",
       "<title>4928161616&#45;&gt;4927981072</title>\n",
       "<path fill=\"none\" stroke=\"black\" d=\"M153.32,-335.59C153.32,-328.7 153.32,-319.1 153.32,-310.57\"/>\n",
       "<polygon fill=\"black\" stroke=\"black\" points=\"156.82,-310.3 153.32,-300.3 149.82,-310.3 156.82,-310.3\"/>\n",
       "</g>\n",
       "</g>\n",
       "</svg>\n"
      ],
      "text/plain": [
       "<graphviz.dot.Digraph at 0x125c116d0>"
      ]
     },
     "execution_count": 98,
     "metadata": {},
     "output_type": "execute_result"
    }
   ],
   "source": [
    "make_dot(L, {'β':β})"
   ]
  },
  {
   "cell_type": "markdown",
   "metadata": {},
   "source": [
    "The amazing thing is that pytorch just handles it and you don't have to."
   ]
  },
  {
   "cell_type": "markdown",
   "metadata": {},
   "source": [
    "To predict for a new observation, all we have to do is multiply by $\\beta_{1:p}$, add the intercept $\\beta_0$, and pass through $\\sigma$:"
   ]
  },
  {
   "cell_type": "code",
   "execution_count": 99,
   "metadata": {},
   "outputs": [
    {
     "data": {
      "text/plain": [
       "tensor([[0.4700],\n",
       "        [0.4699],\n",
       "        [0.4700],\n",
       "        [0.4701],\n",
       "        [0.4700],\n",
       "        [0.4700],\n",
       "        [0.4700],\n",
       "        [0.4701],\n",
       "        [0.4700],\n",
       "        [0.4700]], grad_fn=<DivBackward0>)"
      ]
     },
     "execution_count": 99,
     "metadata": {},
     "output_type": "execute_result"
    }
   ],
   "source": [
    "new_x = torch.randn(10, 5) # 10 new observations\n",
    "z = torch.matmul(new_x, β[1:]) + β[0]\n",
    "torch.exp(-z)/(1+torch.exp(-z)) # probability predictions"
   ]
  },
  {
   "cell_type": "markdown",
   "metadata": {
    "tags": [
     "popout"
    ]
   },
   "source": [
    "----\n",
    "**EXERCISE**\n",
    "\n",
    "Why don't we use *accuracy* as a loss? In other words,\n",
    "    \n",
    "$$\n",
    "L(y, \\hat p) = \\sum_i\n",
    "\\begin{cases}\n",
    "1 & \\text{if}\\ y_i = 1 \\ \\text{and} \\ \\hat p_i > 0.5 \\\\\n",
    "1 & \\text{if}\\ y_i = 0 \\ \\text{and} \\ \\hat p_i \\le 0.5 \\\\\n",
    "0 & \\text{else}\n",
    "\\end{cases}\n",
    "\\notag\n",
    "$$\n",
    "    \n",
    "*Hint*: what is the derivative of this loss with respect to any prediction $\\hat p_i$?\n",
    "\n",
    "----"
   ]
  },
  {
   "cell_type": "markdown",
   "metadata": {},
   "source": [
    "## Conclusion"
   ]
  },
  {
   "cell_type": "markdown",
   "metadata": {},
   "source": [
    "We just developed a machine learning method out of these three components:\n",
    "* linear-logistic model (model)\n",
    "* log loss (loss)\n",
    "* gradient descent (optimization algorithm)\n",
    "\n",
    "This should make it clear to you that gradient descent is a widely-applicable strategy that will work with any loss or model, as long as you can define derivatives of the loss with respect to the model parameters. We will now go back to our linear regression example, but augment the model with more parameters and a more complex structure in order to capture nonlinear relationships. "
   ]
  },
  {
   "cell_type": "markdown",
   "metadata": {},
   "source": [
    "# Adding complexity to our linear model"
   ]
  },
  {
   "cell_type": "markdown",
   "metadata": {},
   "source": [
    "Let's go back to our regression example."
   ]
  },
  {
   "cell_type": "code",
   "execution_count": 100,
   "metadata": {},
   "outputs": [],
   "source": [
    "p = 5 \n",
    "n = 100\n",
    "\n",
    "x = torch.randn(n, p) # predictors (n observations, p features)\n",
    "y = torch.randn(n, 1) # outcomes (n observations)"
   ]
  },
  {
   "cell_type": "code",
   "execution_count": 101,
   "metadata": {},
   "outputs": [],
   "source": [
    "loss_record = [] \n",
    "β = torch.randn(p+1,1) \n",
    "β.requires_grad_() \n",
    "\n",
    "for e in range(500):\n",
    "    ŷ = torch.matmul(x, β[1:]) + β[0]\n",
    "    L = torch.sum((y-ŷ)**2)/n \n",
    "    \n",
    "    L.backward() # compute gradients \n",
    "    loss_record.append(L.item())\n",
    "    \n",
    "    with torch.no_grad(): # take the gradient descent step \n",
    "        β -= 10e-5 * β.grad\n",
    "        β.grad.zero_()"
   ]
  },
  {
   "cell_type": "markdown",
   "metadata": {},
   "source": [
    "Remember that the linear model is $\\hat y =x\\beta_{1:p} + \\beta_0$. Let's say we want to add some complexity to this model by figuring out if there are some other predictors we can build (call them $z$) that are a transformation of the predictors $x$ that are better for predicting $y$ in a linear model than $x$ is. To do that, we'll first let $z = g(xW + b)$ with $W$ being a $p \\times h$ matrix and $b$ a $1 \\times h$ matrix so each row of $z$ ends up with $h$ columns and $g$ is an element-wise ReLU function. The purpose of $W$ and $b$ is to make $h$ predictors out of our original $p$ using a linear transformation. The purpose of $g$ is to add complexity to the model."
   ]
  },
  {
   "cell_type": "markdown",
   "metadata": {},
   "source": [
    "Let's dig into this, one step at a time. First we'll investigate the transformation $xW$. As we said, we're trying to build new features from our old features, so let's look at just one of these new features, $z_1$:"
   ]
  },
  {
   "cell_type": "markdown",
   "metadata": {},
   "source": [
    "$$ \n",
    "z_1 \n",
    "=\n",
    "\\left[\n",
    "\\begin{array}{c}\n",
    "z_{11} \\\\ z_{12} \\\\ \\vdots \\\\ z_{1n}\n",
    "\\end{array}\n",
    "\\right]\n",
    "=\n",
    "g\\left(\n",
    "\\left[\n",
    "\\begin{array}{c}\n",
    "x_{11} & x_{21} & \\cdots & x_{p1} \\\\\n",
    "x_{12} & x_{22} & \\cdots & x_{p2} \\\\\n",
    "\\vdots & \\vdots & \\ddots & \\vdots \\\\\n",
    "x_{1n} & x_{2n} & \\cdots & x_{pn}\n",
    "\\end{array}\n",
    "\\right]\n",
    "\\left[\n",
    "\\begin{array}{c}\n",
    "w_{11} \\\\ w_{12} \\\\ \\vdots \\\\ w_{1p}\n",
    "\\end{array}\n",
    "\\right]\n",
    "+\n",
    "b_1\n",
    "\\right)\n",
    "$$"
   ]
  },
  {
   "cell_type": "markdown",
   "metadata": {},
   "source": [
    "Graphically, this looks exactly like logistic regression, but with the $\\sigma()$ replaced by $g()$. We also renamed the parameters and output, but that's just cosmetic, not consequential.\n",
    "\n",
    "<img src=\"images/greg.png\" width=\"250\"> "
   ]
  },
  {
   "cell_type": "markdown",
   "metadata": {},
   "source": [
    "Since we'll be using this structure again and again we'll just abbreviate it as follows:"
   ]
  },
  {
   "cell_type": "markdown",
   "metadata": {},
   "source": [
    "<img src=\"images/greg-abbrev.png\" width=\"130\">"
   ]
  },
  {
   "cell_type": "markdown",
   "metadata": {},
   "source": [
    "Notice that it's implicit here that $w_1$ is a vector of parameters that is being dot-multiplied by the vector $x$, $b_1$ is being added, and then the result is being transformed by some function $g$ (omitted in the drawing). "
   ]
  },
  {
   "cell_type": "markdown",
   "metadata": {},
   "source": [
    "Now let's zoom back out to our full matrix equation $z = g(xW+b)$. One way to look at this is that we're doing $h$ \"$g$-linear\" regressions (assuming we have $W$ and $b$) and getting their predictions. The matrix equation $z = g(xW+b)$ expresses all of these \"regressions\" simultaneously."
   ]
  },
  {
   "cell_type": "code",
   "execution_count": 102,
   "metadata": {},
   "outputs": [],
   "source": [
    "from torch.nn.functional import relu as g\n",
    "h = 10\n",
    "W = torch.randn(5, h).requires_grad_()\n",
    "b = torch.randn(1, h).requires_grad_()"
   ]
  },
  {
   "cell_type": "code",
   "execution_count": 103,
   "metadata": {},
   "outputs": [
    {
     "data": {
      "text/plain": [
       "torch.Size([100, 10])"
      ]
     },
     "execution_count": 103,
     "metadata": {},
     "output_type": "execute_result"
    }
   ],
   "source": [
    "z = g(torch.matmul(x,W) + b)\n",
    "z.shape"
   ]
  },
  {
   "cell_type": "markdown",
   "metadata": {},
   "source": [
    "As you see, we're getting 100 observations of 10 \"features\". Let's look at one of them:"
   ]
  },
  {
   "cell_type": "code",
   "execution_count": 104,
   "metadata": {},
   "outputs": [
    {
     "data": {
      "text/plain": [
       "tensor([0.0000, 0.0000, 5.0925, 2.2966, 1.3944, 0.0000, 5.4351, 3.0747, 0.7186,\n",
       "        0.3656], grad_fn=<SelectBackward>)"
      ]
     },
     "execution_count": 104,
     "metadata": {},
     "output_type": "execute_result"
    }
   ],
   "source": [
    "z[0:10,1]"
   ]
  },
  {
   "cell_type": "markdown",
   "metadata": {},
   "source": [
    "We could also have done them one-at-a-time:"
   ]
  },
  {
   "cell_type": "code",
   "execution_count": 105,
   "metadata": {},
   "outputs": [],
   "source": [
    "w1 = W[:,1]\n",
    "b1 = b[:,1]\n",
    "z1 = g(torch.matmul(x,w1) + b1)"
   ]
  },
  {
   "cell_type": "code",
   "execution_count": 106,
   "metadata": {},
   "outputs": [
    {
     "data": {
      "text/plain": [
       "tensor([0.0000, 0.0000, 5.0925, 2.2966, 1.3944, 0.0000, 5.4351, 3.0747, 0.7186,\n",
       "        0.3656], grad_fn=<SliceBackward>)"
      ]
     },
     "execution_count": 106,
     "metadata": {},
     "output_type": "execute_result"
    }
   ],
   "source": [
    "z1[0:10]"
   ]
  },
  {
   "cell_type": "markdown",
   "metadata": {},
   "source": [
    "Same thing. "
   ]
  },
  {
   "cell_type": "markdown",
   "metadata": {},
   "source": [
    "The graphical representation of this is:"
   ]
  },
  {
   "cell_type": "markdown",
   "metadata": {},
   "source": [
    "<img src=\"images/2layer.png\" width=\"150\">"
   ]
  },
  {
   "cell_type": "markdown",
   "metadata": {},
   "source": [
    "One way to think about $z$ is as a different \"representation\" of what's in $x$. If we're predicting whether an image is a cat or a dog based on the pixel values $x$, then $z$ will perhaps learn to encode something like the number of red pixels, whether or not there are triangles in the image, etc. Ultimately the two representations contain the same information since $z$ is just a transformation of $x$, but somehow we're looking at that information in a different way, or highlighting different aspects of it."
   ]
  },
  {
   "cell_type": "markdown",
   "metadata": {},
   "source": [
    "Now our final model is a linear model done on the new predictors $z$. That model is $\\hat y =z\\alpha_{1:h} + \\alpha_0$. I'm calling the coefficient vector $\\alpha$ because now this needs $h$ coefficients (plus 1 intercept) for each of the $h$ new features, whereas $\\beta$ was a $p$-length vector. So, in full, our model is now $\\hat y = g(xW+b)\\alpha_{1:h} + \\alpha_0$. "
   ]
  },
  {
   "cell_type": "code",
   "execution_count": 107,
   "metadata": {},
   "outputs": [],
   "source": [
    "α = torch.randn(h+1,1).requires_grad_()\n",
    "ŷ = torch.matmul(z,α[1:]) + α[0]"
   ]
  },
  {
   "cell_type": "markdown",
   "metadata": {},
   "source": [
    "<img src=\"images/net.png\" width=\"300\">"
   ]
  },
  {
   "cell_type": "markdown",
   "metadata": {},
   "source": [
    "Note that without the ReLU (or some nonlinear function) between $x$ and $z$, there is always a vector $\\beta$ such that $x\\beta_{1:p} + \\beta_0 = (xW+b)\\alpha_{1:h} + \\alpha_0$ for every $W$, $b$, and $\\alpha$. In effect, adding the transformation $W$ doesn't actually add anything to the model- we're expanding the number of parameters to fit without actually expanding the expressivity of the model because there is always a model  with fewer parameters that perfectly captures the predictions of the over-parametrized model. That is why the nonlinearity $g$ is necessary."
   ]
  },
  {
   "cell_type": "markdown",
   "metadata": {
    "tags": [
     "popout"
    ]
   },
   "source": [
    "---\n",
    "\n",
    "**EXERCISE:** \n",
    "\n",
    "Let's say we have\n",
    "    \n",
    "$$\n",
    "W = \n",
    "\\left[\n",
    "\\begin{array}{ccc}\n",
    "1 & 1 & 1 \\\\\n",
    "1 & 2 & 3\n",
    "\\end{array}\n",
    "\\right]    \n",
    "\\quad\n",
    "b = \n",
    "\\left[\n",
    "\\begin{array}{ccc}\n",
    "0 & 0 & 0\n",
    "\\end{array}\n",
    "\\right]\n",
    "\\\\\n",
    "\\alpha_{1:3} = \n",
    "\\left[\n",
    "\\begin{array}{c}\n",
    "1 \\\\ -1 \\\\ 0\n",
    "\\end{array}\n",
    "\\right]\n",
    "\\quad\n",
    "\\alpha_0 = 0\n",
    "\\notag\n",
    "$$\n",
    "    \n",
    "Find $\\beta$ so that $x\\beta_{1:2} + \\beta_0 = (xW+b)\\alpha_{1:3} + \\alpha_0$ no matter what $x$ is.\n",
    "\n",
    "---"
   ]
  },
  {
   "cell_type": "markdown",
   "metadata": {},
   "source": [
    "Finally, we can compute our MSE loss:"
   ]
  },
  {
   "cell_type": "code",
   "execution_count": 108,
   "metadata": {},
   "outputs": [
    {
     "data": {
      "text/plain": [
       "tensor(28.0840, grad_fn=<DivBackward0>)"
      ]
     },
     "execution_count": 108,
     "metadata": {},
     "output_type": "execute_result"
    }
   ],
   "source": [
    "L = torch.sum((y-ŷ)**2)/n\n",
    "L"
   ]
  },
  {
   "cell_type": "code",
   "execution_count": 109,
   "metadata": {
    "tags": [
     "hide_input",
     "popout"
    ]
   },
   "outputs": [
    {
     "data": {
      "image/svg+xml": [
       "<?xml version=\"1.0\" encoding=\"UTF-8\" standalone=\"no\"?>\n",
       "<!DOCTYPE svg PUBLIC \"-//W3C//DTD SVG 1.1//EN\"\n",
       " \"http://www.w3.org/Graphics/SVG/1.1/DTD/svg11.dtd\">\n",
       "<!-- Generated by graphviz version 2.43.0 (0)\n",
       " -->\n",
       "<!-- Title: %3 Pages: 1 -->\n",
       "<svg width=\"321pt\" height=\"568pt\"\n",
       " viewBox=\"0.00 0.00 321.31 568.00\" xmlns=\"http://www.w3.org/2000/svg\" xmlns:xlink=\"http://www.w3.org/1999/xlink\">\n",
       "<g id=\"graph0\" class=\"graph\" transform=\"scale(1 1) rotate(0) translate(4 564)\">\n",
       "<title>%3</title>\n",
       "<polygon fill=\"white\" stroke=\"transparent\" points=\"-4,4 -4,-564 317.31,-564 317.31,4 -4,4\"/>\n",
       "<!-- 4928161552 -->\n",
       "<g id=\"node1\" class=\"node\">\n",
       "<title>4928161552</title>\n",
       "<polygon fill=\"#caff70\" stroke=\"black\" points=\"256.47,-20 168.18,-20 168.18,0 256.47,0 256.47,-20\"/>\n",
       "<text text-anchor=\"middle\" x=\"212.32\" y=\"-6.4\" font-family=\"Times,serif\" font-size=\"12.00\">DivBackward0</text>\n",
       "</g>\n",
       "<!-- 4928161936 -->\n",
       "<g id=\"node2\" class=\"node\">\n",
       "<title>4928161936</title>\n",
       "<polygon fill=\"lightgrey\" stroke=\"black\" points=\"258.48,-76 166.17,-76 166.17,-56 258.48,-56 258.48,-76\"/>\n",
       "<text text-anchor=\"middle\" x=\"212.32\" y=\"-62.4\" font-family=\"Times,serif\" font-size=\"12.00\">SumBackward0</text>\n",
       "</g>\n",
       "<!-- 4928161936&#45;&gt;4928161552 -->\n",
       "<g id=\"edge1\" class=\"edge\">\n",
       "<title>4928161936&#45;&gt;4928161552</title>\n",
       "<path fill=\"none\" stroke=\"black\" d=\"M212.32,-55.59C212.32,-48.7 212.32,-39.1 212.32,-30.57\"/>\n",
       "<polygon fill=\"black\" stroke=\"black\" points=\"215.82,-30.3 212.32,-20.3 208.82,-30.3 215.82,-30.3\"/>\n",
       "</g>\n",
       "<!-- 4975658768 -->\n",
       "<g id=\"node3\" class=\"node\">\n",
       "<title>4975658768</title>\n",
       "<polygon fill=\"lightgrey\" stroke=\"black\" points=\"258.31,-132 166.34,-132 166.34,-112 258.31,-112 258.31,-132\"/>\n",
       "<text text-anchor=\"middle\" x=\"212.32\" y=\"-118.4\" font-family=\"Times,serif\" font-size=\"12.00\">PowBackward0</text>\n",
       "</g>\n",
       "<!-- 4975658768&#45;&gt;4928161936 -->\n",
       "<g id=\"edge2\" class=\"edge\">\n",
       "<title>4975658768&#45;&gt;4928161936</title>\n",
       "<path fill=\"none\" stroke=\"black\" d=\"M212.32,-111.59C212.32,-104.7 212.32,-95.1 212.32,-86.57\"/>\n",
       "<polygon fill=\"black\" stroke=\"black\" points=\"215.82,-86.3 212.32,-76.3 208.82,-86.3 215.82,-86.3\"/>\n",
       "</g>\n",
       "<!-- 4975657808 -->\n",
       "<g id=\"node4\" class=\"node\">\n",
       "<title>4975657808</title>\n",
       "<polygon fill=\"lightgrey\" stroke=\"black\" points=\"257.14,-188 167.51,-188 167.51,-168 257.14,-168 257.14,-188\"/>\n",
       "<text text-anchor=\"middle\" x=\"212.32\" y=\"-174.4\" font-family=\"Times,serif\" font-size=\"12.00\">SubBackward0</text>\n",
       "</g>\n",
       "<!-- 4975657808&#45;&gt;4975658768 -->\n",
       "<g id=\"edge3\" class=\"edge\">\n",
       "<title>4975657808&#45;&gt;4975658768</title>\n",
       "<path fill=\"none\" stroke=\"black\" d=\"M212.32,-167.59C212.32,-160.7 212.32,-151.1 212.32,-142.57\"/>\n",
       "<polygon fill=\"black\" stroke=\"black\" points=\"215.82,-142.3 212.32,-132.3 208.82,-142.3 215.82,-142.3\"/>\n",
       "</g>\n",
       "<!-- 4975658192 -->\n",
       "<g id=\"node5\" class=\"node\">\n",
       "<title>4975658192</title>\n",
       "<polygon fill=\"lightgrey\" stroke=\"black\" points=\"258.14,-244 166.51,-244 166.51,-224 258.14,-224 258.14,-244\"/>\n",
       "<text text-anchor=\"middle\" x=\"212.32\" y=\"-230.4\" font-family=\"Times,serif\" font-size=\"12.00\">AddBackward0</text>\n",
       "</g>\n",
       "<!-- 4975658192&#45;&gt;4975657808 -->\n",
       "<g id=\"edge4\" class=\"edge\">\n",
       "<title>4975658192&#45;&gt;4975657808</title>\n",
       "<path fill=\"none\" stroke=\"black\" d=\"M212.32,-223.59C212.32,-216.7 212.32,-207.1 212.32,-198.57\"/>\n",
       "<polygon fill=\"black\" stroke=\"black\" points=\"215.82,-198.3 212.32,-188.3 208.82,-198.3 215.82,-198.3\"/>\n",
       "</g>\n",
       "<!-- 4975660880 -->\n",
       "<g id=\"node6\" class=\"node\">\n",
       "<title>4975660880</title>\n",
       "<polygon fill=\"lightgrey\" stroke=\"black\" points=\"201.47,-300 117.18,-300 117.18,-280 201.47,-280 201.47,-300\"/>\n",
       "<text text-anchor=\"middle\" x=\"159.32\" y=\"-286.4\" font-family=\"Times,serif\" font-size=\"12.00\">MmBackward</text>\n",
       "</g>\n",
       "<!-- 4975660880&#45;&gt;4975658192 -->\n",
       "<g id=\"edge5\" class=\"edge\">\n",
       "<title>4975660880&#45;&gt;4975658192</title>\n",
       "<path fill=\"none\" stroke=\"black\" d=\"M168.56,-279.59C176.16,-271.85 187.11,-260.69 196.16,-251.47\"/>\n",
       "<polygon fill=\"black\" stroke=\"black\" points=\"198.69,-253.89 203.2,-244.3 193.7,-248.98 198.69,-253.89\"/>\n",
       "</g>\n",
       "<!-- 4975711760 -->\n",
       "<g id=\"node7\" class=\"node\">\n",
       "<title>4975711760</title>\n",
       "<polygon fill=\"lightgrey\" stroke=\"black\" points=\"132.13,-356 38.52,-356 38.52,-336 132.13,-336 132.13,-356\"/>\n",
       "<text text-anchor=\"middle\" x=\"85.32\" y=\"-342.4\" font-family=\"Times,serif\" font-size=\"12.00\">ReluBackward0</text>\n",
       "</g>\n",
       "<!-- 4975711760&#45;&gt;4975660880 -->\n",
       "<g id=\"edge6\" class=\"edge\">\n",
       "<title>4975711760&#45;&gt;4975660880</title>\n",
       "<path fill=\"none\" stroke=\"black\" d=\"M97.88,-335.84C109,-327.72 125.46,-315.71 138.54,-306.16\"/>\n",
       "<polygon fill=\"black\" stroke=\"black\" points=\"140.94,-308.75 146.96,-300.03 136.82,-303.09 140.94,-308.75\"/>\n",
       "</g>\n",
       "<!-- 4975712208 -->\n",
       "<g id=\"node8\" class=\"node\">\n",
       "<title>4975712208</title>\n",
       "<polygon fill=\"lightgrey\" stroke=\"black\" points=\"131.14,-418 39.51,-418 39.51,-398 131.14,-398 131.14,-418\"/>\n",
       "<text text-anchor=\"middle\" x=\"85.32\" y=\"-404.4\" font-family=\"Times,serif\" font-size=\"12.00\">AddBackward0</text>\n",
       "</g>\n",
       "<!-- 4975712208&#45;&gt;4975711760 -->\n",
       "<g id=\"edge7\" class=\"edge\">\n",
       "<title>4975712208&#45;&gt;4975711760</title>\n",
       "<path fill=\"none\" stroke=\"black\" d=\"M85.32,-397.89C85.32,-389.52 85.32,-376.84 85.32,-366.23\"/>\n",
       "<polygon fill=\"black\" stroke=\"black\" points=\"88.82,-366.2 85.32,-356.2 81.82,-366.2 88.82,-366.2\"/>\n",
       "</g>\n",
       "<!-- 4975711376 -->\n",
       "<g id=\"node9\" class=\"node\">\n",
       "<title>4975711376</title>\n",
       "<polygon fill=\"lightgrey\" stroke=\"black\" points=\"84.47,-486 0.18,-486 0.18,-466 84.47,-466 84.47,-486\"/>\n",
       "<text text-anchor=\"middle\" x=\"42.32\" y=\"-472.4\" font-family=\"Times,serif\" font-size=\"12.00\">MmBackward</text>\n",
       "</g>\n",
       "<!-- 4975711376&#45;&gt;4975712208 -->\n",
       "<g id=\"edge8\" class=\"edge\">\n",
       "<title>4975711376&#45;&gt;4975712208</title>\n",
       "<path fill=\"none\" stroke=\"black\" d=\"M48.3,-465.82C54.85,-455.77 65.51,-439.42 73.71,-426.83\"/>\n",
       "<polygon fill=\"black\" stroke=\"black\" points=\"76.87,-428.39 79.4,-418.1 71,-424.57 76.87,-428.39\"/>\n",
       "</g>\n",
       "<!-- 4975714128 -->\n",
       "<g id=\"node10\" class=\"node\">\n",
       "<title>4975714128</title>\n",
       "<polygon fill=\"lightblue\" stroke=\"black\" points=\"69.32,-560 15.32,-560 15.32,-528 69.32,-528 69.32,-560\"/>\n",
       "<text text-anchor=\"middle\" x=\"42.32\" y=\"-546.4\" font-family=\"Times,serif\" font-size=\"12.00\">W</text>\n",
       "<text text-anchor=\"middle\" x=\"42.32\" y=\"-534.4\" font-family=\"Times,serif\" font-size=\"12.00\"> (5, 10)</text>\n",
       "</g>\n",
       "<!-- 4975714128&#45;&gt;4975711376 -->\n",
       "<g id=\"edge9\" class=\"edge\">\n",
       "<title>4975714128&#45;&gt;4975711376</title>\n",
       "<path fill=\"none\" stroke=\"black\" d=\"M42.32,-527.69C42.32,-518.4 42.32,-506.44 42.32,-496.47\"/>\n",
       "<polygon fill=\"black\" stroke=\"black\" points=\"45.82,-496.32 42.32,-486.32 38.82,-496.32 45.82,-496.32\"/>\n",
       "</g>\n",
       "<!-- 4975711504 -->\n",
       "<g id=\"node11\" class=\"node\">\n",
       "<title>4975711504</title>\n",
       "<polygon fill=\"lightblue\" stroke=\"black\" points=\"156.32,-492 102.32,-492 102.32,-460 156.32,-460 156.32,-492\"/>\n",
       "<text text-anchor=\"middle\" x=\"129.32\" y=\"-478.4\" font-family=\"Times,serif\" font-size=\"12.00\">b</text>\n",
       "<text text-anchor=\"middle\" x=\"129.32\" y=\"-466.4\" font-family=\"Times,serif\" font-size=\"12.00\"> (1, 10)</text>\n",
       "</g>\n",
       "<!-- 4975711504&#45;&gt;4975712208 -->\n",
       "<g id=\"edge10\" class=\"edge\">\n",
       "<title>4975711504&#45;&gt;4975712208</title>\n",
       "<path fill=\"none\" stroke=\"black\" d=\"M119.12,-459.69C112.59,-449.9 104.09,-437.15 97.25,-426.89\"/>\n",
       "<polygon fill=\"black\" stroke=\"black\" points=\"99.99,-424.7 91.54,-418.32 94.17,-428.58 99.99,-424.7\"/>\n",
       "</g>\n",
       "<!-- 4975710672 -->\n",
       "<g id=\"node12\" class=\"node\">\n",
       "<title>4975710672</title>\n",
       "<polygon fill=\"lightgrey\" stroke=\"black\" points=\"238.46,-356 150.18,-356 150.18,-336 238.46,-336 238.46,-356\"/>\n",
       "<text text-anchor=\"middle\" x=\"194.32\" y=\"-342.4\" font-family=\"Times,serif\" font-size=\"12.00\">SliceBackward</text>\n",
       "</g>\n",
       "<!-- 4975710672&#45;&gt;4975660880 -->\n",
       "<g id=\"edge11\" class=\"edge\">\n",
       "<title>4975710672&#45;&gt;4975660880</title>\n",
       "<path fill=\"none\" stroke=\"black\" d=\"M188.23,-335.59C183.46,-328.24 176.69,-317.8 170.9,-308.87\"/>\n",
       "<polygon fill=\"black\" stroke=\"black\" points=\"173.73,-306.79 165.35,-300.3 167.85,-310.59 173.73,-306.79\"/>\n",
       "</g>\n",
       "<!-- 4975711120 -->\n",
       "<g id=\"node13\" class=\"node\">\n",
       "<title>4975711120</title>\n",
       "<polygon fill=\"lightblue\" stroke=\"black\" points=\"257.32,-424 203.32,-424 203.32,-392 257.32,-392 257.32,-424\"/>\n",
       "<text text-anchor=\"middle\" x=\"230.32\" y=\"-410.4\" font-family=\"Times,serif\" font-size=\"12.00\">α</text>\n",
       "<text text-anchor=\"middle\" x=\"230.32\" y=\"-398.4\" font-family=\"Times,serif\" font-size=\"12.00\"> (11, 1)</text>\n",
       "</g>\n",
       "<!-- 4975711120&#45;&gt;4975710672 -->\n",
       "<g id=\"edge12\" class=\"edge\">\n",
       "<title>4975711120&#45;&gt;4975710672</title>\n",
       "<path fill=\"none\" stroke=\"black\" d=\"M221.24,-391.86C216.34,-383.69 210.25,-373.55 205.11,-364.98\"/>\n",
       "<polygon fill=\"black\" stroke=\"black\" points=\"207.96,-362.93 199.82,-356.15 201.96,-366.53 207.96,-362.93\"/>\n",
       "</g>\n",
       "<!-- 4975660368 -->\n",
       "<g id=\"node14\" class=\"node\">\n",
       "<title>4975660368</title>\n",
       "<polygon fill=\"lightgrey\" stroke=\"black\" points=\"313.29,-300 219.36,-300 219.36,-280 313.29,-280 313.29,-300\"/>\n",
       "<text text-anchor=\"middle\" x=\"266.32\" y=\"-286.4\" font-family=\"Times,serif\" font-size=\"12.00\">SelectBackward</text>\n",
       "</g>\n",
       "<!-- 4975711120&#45;&gt;4975660368 -->\n",
       "<g id=\"edge14\" class=\"edge\">\n",
       "<title>4975711120&#45;&gt;4975660368</title>\n",
       "<path fill=\"none\" stroke=\"black\" d=\"M235.53,-391.87C238.97,-381.75 243.54,-368.11 247.32,-356 252.15,-340.57 257.27,-322.96 260.98,-309.97\"/>\n",
       "<polygon fill=\"black\" stroke=\"black\" points=\"264.37,-310.87 263.73,-300.29 257.63,-308.96 264.37,-310.87\"/>\n",
       "</g>\n",
       "<!-- 4975660368&#45;&gt;4975658192 -->\n",
       "<g id=\"edge13\" class=\"edge\">\n",
       "<title>4975660368&#45;&gt;4975658192</title>\n",
       "<path fill=\"none\" stroke=\"black\" d=\"M256.92,-279.59C249.17,-271.85 238.01,-260.69 228.79,-251.47\"/>\n",
       "<polygon fill=\"black\" stroke=\"black\" points=\"231.17,-248.89 221.62,-244.3 226.22,-253.84 231.17,-248.89\"/>\n",
       "</g>\n",
       "</g>\n",
       "</svg>\n"
      ],
      "text/plain": [
       "<graphviz.dot.Digraph at 0x128928ed0>"
      ]
     },
     "execution_count": 109,
     "metadata": {},
     "output_type": "execute_result"
    }
   ],
   "source": [
    "make_dot(L, {'W':W, 'b':b, 'α':α})"
   ]
  },
  {
   "cell_type": "markdown",
   "metadata": {},
   "source": [
    "Now $L$ depends both on what $W$ and $b$ are and on what $\\alpha$ is. In other words, both of these sets of coefficients are parameters of the model that we can tweak and optimize. $W$ and $b$ determine what kinds of \"new predictors\" we get out $x$, while $\\alpha$ puts those new features together into the final prediction. What's amazing is that we can fit all of these parameters simultaneously using gradient descent: just update both sets of parameters using the negative gradient at each step. Note that this model has $h\\times (p+1) + h+1$ total parameters (the values of $W_{ij}$, $b_j$, and $\\alpha_j$) to be fit, whereas our original linear model only had $p+1$ parameters.  \n",
    "\n",
    "Furthermore, this poses no problem for pytorch:"
   ]
  },
  {
   "cell_type": "code",
   "execution_count": 110,
   "metadata": {},
   "outputs": [],
   "source": [
    "L.backward()"
   ]
  },
  {
   "cell_type": "code",
   "execution_count": 111,
   "metadata": {},
   "outputs": [
    {
     "data": {
      "text/plain": [
       "tensor([[ -6.6449],\n",
       "        [ -6.8241],\n",
       "        [-12.2024],\n",
       "        [ -9.9064],\n",
       "        [ -6.9516],\n",
       "        [ -3.6036],\n",
       "        [-20.2889],\n",
       "        [-12.0027],\n",
       "        [ -2.1520],\n",
       "        [-13.9219],\n",
       "        [-21.4951]])"
      ]
     },
     "execution_count": 111,
     "metadata": {},
     "output_type": "execute_result"
    }
   ],
   "source": [
    "α.grad"
   ]
  },
  {
   "cell_type": "code",
   "execution_count": 112,
   "metadata": {},
   "outputs": [
    {
     "data": {
      "text/plain": [
       "tensor([[-3.0923,  1.5987, -3.7242, -3.4357, -0.5628,  3.9108,  4.4897,  0.7864,\n",
       "          2.4087,  6.8900],\n",
       "        [-1.9493,  0.4581, -0.2307,  0.3863, -0.5116, -0.9701,  1.3576,  0.4748,\n",
       "          0.8030,  2.4588],\n",
       "        [-0.6393,  0.1410, -3.1890, -0.8218, -2.4884,  2.6136,  2.0194,  0.7845,\n",
       "          2.1102,  6.1789],\n",
       "        [ 0.4988, -0.7695,  1.0725, -0.2269,  1.2005, -2.5940, -2.8195,  0.7122,\n",
       "          0.4712, -0.0551],\n",
       "        [ 2.1704, -0.9893,  0.6358,  2.2685,  1.1096, -3.3306, -4.4946,  0.4656,\n",
       "         -0.0313,  0.0125]])"
      ]
     },
     "execution_count": 112,
     "metadata": {},
     "output_type": "execute_result"
    }
   ],
   "source": [
    "W.grad"
   ]
  },
  {
   "cell_type": "code",
   "execution_count": 113,
   "metadata": {},
   "outputs": [
    {
     "data": {
      "text/plain": [
       "tensor([[-2.3978,  1.5757, -4.6751, -2.9751, -2.2472,  5.1332,  5.5919,  0.7547,\n",
       "          2.2165,  7.1073]])"
      ]
     },
     "execution_count": 113,
     "metadata": {},
     "output_type": "execute_result"
    }
   ],
   "source": [
    "b.grad"
   ]
  },
  {
   "cell_type": "markdown",
   "metadata": {},
   "source": [
    "### Looping"
   ]
  },
  {
   "cell_type": "markdown",
   "metadata": {},
   "source": [
    "As before, now that we have gone through this once, we can put it all together into a loop:"
   ]
  },
  {
   "cell_type": "code",
   "execution_count": 114,
   "metadata": {},
   "outputs": [],
   "source": [
    "p = 5 \n",
    "n = 100\n",
    "\n",
    "x = torch.randn(n, p) # predictors (n observations, p features)\n",
    "y = torch.randn(n, 1) # outcomes (n observations)"
   ]
  },
  {
   "cell_type": "code",
   "execution_count": 115,
   "metadata": {},
   "outputs": [],
   "source": [
    "h = 10\n",
    "W = torch.randn(5, h).requires_grad_()\n",
    "b = torch.randn(1, h).requires_grad_()\n",
    "α = torch.randn(h+1, 1).requires_grad_()\n",
    "loss_record = []\n",
    "\n",
    "for e in range(500):\n",
    "    z = g(torch.matmul(x,W)+b)\n",
    "    ŷ = torch.matmul(z,α[1:]) + α[0]\n",
    "    L = torch.sum((y-ŷ)**2)/n\n",
    "    \n",
    "    L.backward() # compute gradients (in this case δL/δα, δL/δW)\n",
    "    loss_record.append(L.item())\n",
    "    \n",
    "    with torch.no_grad(): # take the gradient descent step \n",
    "        α -= 10e-3 * α.grad\n",
    "        α.grad.zero_()\n",
    "        W -= 10e-3 * W.grad\n",
    "        W.grad.zero_()\n",
    "        b -= 10e-3 * b.grad\n",
    "        b.grad.zero_()"
   ]
  },
  {
   "cell_type": "code",
   "execution_count": 116,
   "metadata": {},
   "outputs": [
    {
     "data": {
      "application/vnd.vegalite.v3+json": {
       "$schema": "https://vega.github.io/schema/vega-lite/v3.4.0.json",
       "config": {
        "mark": {
         "tooltip": null
        },
        "view": {
         "height": 300,
         "width": 400
        }
       },
       "data": {
        "name": "data-e2d62da62312962d4b80259579c9c1d9"
       },
       "datasets": {
        "data-e2d62da62312962d4b80259579c9c1d9": [
         {
          "i": 0,
          "loss": 25.168621063232422
         },
         {
          "i": 1,
          "loss": 16.762731552124023
         },
         {
          "i": 2,
          "loss": 12.386529922485352
         },
         {
          "i": 3,
          "loss": 9.679777145385742
         },
         {
          "i": 4,
          "loss": 7.859225273132324
         },
         {
          "i": 5,
          "loss": 6.571166515350342
         },
         {
          "i": 6,
          "loss": 5.615258693695068
         },
         {
          "i": 7,
          "loss": 4.895125389099121
         },
         {
          "i": 8,
          "loss": 4.34323263168335
         },
         {
          "i": 9,
          "loss": 3.9138500690460205
         },
         {
          "i": 10,
          "loss": 3.5757224559783936
         },
         {
          "i": 11,
          "loss": 3.30698823928833
         },
         {
          "i": 12,
          "loss": 3.0910608768463135
         },
         {
          "i": 13,
          "loss": 2.914785146713257
         },
         {
          "i": 14,
          "loss": 2.769814968109131
         },
         {
          "i": 15,
          "loss": 2.6494827270507812
         },
         {
          "i": 16,
          "loss": 2.5490524768829346
         },
         {
          "i": 17,
          "loss": 2.4637563228607178
         },
         {
          "i": 18,
          "loss": 2.3909666538238525
         },
         {
          "i": 19,
          "loss": 2.3281164169311523
         },
         {
          "i": 20,
          "loss": 2.2729179859161377
         },
         {
          "i": 21,
          "loss": 2.223811149597168
         },
         {
          "i": 22,
          "loss": 2.1798715591430664
         },
         {
          "i": 23,
          "loss": 2.140212297439575
         },
         {
          "i": 24,
          "loss": 2.104123592376709
         },
         {
          "i": 25,
          "loss": 2.0710031986236572
         },
         {
          "i": 26,
          "loss": 2.0402026176452637
         },
         {
          "i": 27,
          "loss": 2.011608362197876
         },
         {
          "i": 28,
          "loss": 1.984904170036316
         },
         {
          "i": 29,
          "loss": 1.959839940071106
         },
         {
          "i": 30,
          "loss": 1.9362086057662964
         },
         {
          "i": 31,
          "loss": 1.9138696193695068
         },
         {
          "i": 32,
          "loss": 1.892665982246399
         },
         {
          "i": 33,
          "loss": 1.8724250793457031
         },
         {
          "i": 34,
          "loss": 1.8530126810073853
         },
         {
          "i": 35,
          "loss": 1.8343925476074219
         },
         {
          "i": 36,
          "loss": 1.8164341449737549
         },
         {
          "i": 37,
          "loss": 1.7991654872894287
         },
         {
          "i": 38,
          "loss": 1.7825318574905396
         },
         {
          "i": 39,
          "loss": 1.7664850950241089
         },
         {
          "i": 40,
          "loss": 1.7510080337524414
         },
         {
          "i": 41,
          "loss": 1.7360334396362305
         },
         {
          "i": 42,
          "loss": 1.7215384244918823
         },
         {
          "i": 43,
          "loss": 1.7075031995773315
         },
         {
          "i": 44,
          "loss": 1.693901777267456
         },
         {
          "i": 45,
          "loss": 1.6806966066360474
         },
         {
          "i": 46,
          "loss": 1.6678637266159058
         },
         {
          "i": 47,
          "loss": 1.6553874015808105
         },
         {
          "i": 48,
          "loss": 1.6432502269744873
         },
         {
          "i": 49,
          "loss": 1.6314352750778198
         },
         {
          "i": 50,
          "loss": 1.6199380159378052
         },
         {
          "i": 51,
          "loss": 1.6087849140167236
         },
         {
          "i": 52,
          "loss": 1.5979187488555908
         },
         {
          "i": 53,
          "loss": 1.5873156785964966
         },
         {
          "i": 54,
          "loss": 1.5769715309143066
         },
         {
          "i": 55,
          "loss": 1.5668764114379883
         },
         {
          "i": 56,
          "loss": 1.5570241212844849
         },
         {
          "i": 57,
          "loss": 1.5472157001495361
         },
         {
          "i": 58,
          "loss": 1.5372834205627441
         },
         {
          "i": 59,
          "loss": 1.5275799036026
         },
         {
          "i": 60,
          "loss": 1.518100619316101
         },
         {
          "i": 61,
          "loss": 1.5088332891464233
         },
         {
          "i": 62,
          "loss": 1.4997700452804565
         },
         {
          "i": 63,
          "loss": 1.4909058809280396
         },
         {
          "i": 64,
          "loss": 1.4822337627410889
         },
         {
          "i": 65,
          "loss": 1.4737550020217896
         },
         {
          "i": 66,
          "loss": 1.4657806158065796
         },
         {
          "i": 67,
          "loss": 1.4579718112945557
         },
         {
          "i": 68,
          "loss": 1.4503250122070312
         },
         {
          "i": 69,
          "loss": 1.442834496498108
         },
         {
          "i": 70,
          "loss": 1.4354963302612305
         },
         {
          "i": 71,
          "loss": 1.4283016920089722
         },
         {
          "i": 72,
          "loss": 1.4212472438812256
         },
         {
          "i": 73,
          "loss": 1.4143309593200684
         },
         {
          "i": 74,
          "loss": 1.4075480699539185
         },
         {
          "i": 75,
          "loss": 1.400895357131958
         },
         {
          "i": 76,
          "loss": 1.39436936378479
         },
         {
          "i": 77,
          "loss": 1.3879704475402832
         },
         {
          "i": 78,
          "loss": 1.381729006767273
         },
         {
          "i": 79,
          "loss": 1.3755494356155396
         },
         {
          "i": 80,
          "loss": 1.3695259094238281
         },
         {
          "i": 81,
          "loss": 1.363600730895996
         },
         {
          "i": 82,
          "loss": 1.3577780723571777
         },
         {
          "i": 83,
          "loss": 1.3520500659942627
         },
         {
          "i": 84,
          "loss": 1.346449375152588
         },
         {
          "i": 85,
          "loss": 1.3409152030944824
         },
         {
          "i": 86,
          "loss": 1.335495114326477
         },
         {
          "i": 87,
          "loss": 1.3301644325256348
         },
         {
          "i": 88,
          "loss": 1.3249084949493408
         },
         {
          "i": 89,
          "loss": 1.3197720050811768
         },
         {
          "i": 90,
          "loss": 1.3146958351135254
         },
         {
          "i": 91,
          "loss": 1.309695839881897
         },
         {
          "i": 92,
          "loss": 1.304803490638733
         },
         {
          "i": 93,
          "loss": 1.2999625205993652
         },
         {
          "i": 94,
          "loss": 1.295202612876892
         },
         {
          "i": 95,
          "loss": 1.2905386686325073
         },
         {
          "i": 96,
          "loss": 1.2859240770339966
         },
         {
          "i": 97,
          "loss": 1.2813841104507446
         },
         {
          "i": 98,
          "loss": 1.2769348621368408
         },
         {
          "i": 99,
          "loss": 1.2725303173065186
         },
         {
          "i": 100,
          "loss": 1.268193006515503
         },
         {
          "i": 101,
          "loss": 1.263944149017334
         },
         {
          "i": 102,
          "loss": 1.25973641872406
         },
         {
          "i": 103,
          "loss": 1.2555902004241943
         },
         {
          "i": 104,
          "loss": 1.2515209913253784
         },
         {
          "i": 105,
          "loss": 1.247501254081726
         },
         {
          "i": 106,
          "loss": 1.2435333728790283
         },
         {
          "i": 107,
          "loss": 1.2396293878555298
         },
         {
          "i": 108,
          "loss": 1.2357877492904663
         },
         {
          "i": 109,
          "loss": 1.231986403465271
         },
         {
          "i": 110,
          "loss": 1.2282387018203735
         },
         {
          "i": 111,
          "loss": 1.2245584726333618
         },
         {
          "i": 112,
          "loss": 1.2209171056747437
         },
         {
          "i": 113,
          "loss": 1.2173221111297607
         },
         {
          "i": 114,
          "loss": 1.2137712240219116
         },
         {
          "i": 115,
          "loss": 1.2102760076522827
         },
         {
          "i": 116,
          "loss": 1.2069090604782104
         },
         {
          "i": 117,
          "loss": 1.2035874128341675
         },
         {
          "i": 118,
          "loss": 1.2003133296966553
         },
         {
          "i": 119,
          "loss": 1.1970902681350708
         },
         {
          "i": 120,
          "loss": 1.1939129829406738
         },
         {
          "i": 121,
          "loss": 1.1908326148986816
         },
         {
          "i": 122,
          "loss": 1.187832236289978
         },
         {
          "i": 123,
          "loss": 1.184877872467041
         },
         {
          "i": 124,
          "loss": 1.1819484233856201
         },
         {
          "i": 125,
          "loss": 1.1790562868118286
         },
         {
          "i": 126,
          "loss": 1.1762009859085083
         },
         {
          "i": 127,
          "loss": 1.1733918190002441
         },
         {
          "i": 128,
          "loss": 1.1706035137176514
         },
         {
          "i": 129,
          "loss": 1.167849063873291
         },
         {
          "i": 130,
          "loss": 1.1651279926300049
         },
         {
          "i": 131,
          "loss": 1.1624484062194824
         },
         {
          "i": 132,
          "loss": 1.1597965955734253
         },
         {
          "i": 133,
          "loss": 1.1571741104125977
         },
         {
          "i": 134,
          "loss": 1.1545822620391846
         },
         {
          "i": 135,
          "loss": 1.1520227193832397
         },
         {
          "i": 136,
          "loss": 1.1495003700256348
         },
         {
          "i": 137,
          "loss": 1.146998643875122
         },
         {
          "i": 138,
          "loss": 1.144524097442627
         },
         {
          "i": 139,
          "loss": 1.1420776844024658
         },
         {
          "i": 140,
          "loss": 1.139663577079773
         },
         {
          "i": 141,
          "loss": 1.1372778415679932
         },
         {
          "i": 142,
          "loss": 1.1349126100540161
         },
         {
          "i": 143,
          "loss": 1.1325738430023193
         },
         {
          "i": 144,
          "loss": 1.130260944366455
         },
         {
          "i": 145,
          "loss": 1.1279752254486084
         },
         {
          "i": 146,
          "loss": 1.1257107257843018
         },
         {
          "i": 147,
          "loss": 1.12346613407135
         },
         {
          "i": 148,
          "loss": 1.1212358474731445
         },
         {
          "i": 149,
          "loss": 1.1190143823623657
         },
         {
          "i": 150,
          "loss": 1.116816759109497
         },
         {
          "i": 151,
          "loss": 1.114650845527649
         },
         {
          "i": 152,
          "loss": 1.112504243850708
         },
         {
          "i": 153,
          "loss": 1.1104004383087158
         },
         {
          "i": 154,
          "loss": 1.108320951461792
         },
         {
          "i": 155,
          "loss": 1.1062607765197754
         },
         {
          "i": 156,
          "loss": 1.1042231321334839
         },
         {
          "i": 157,
          "loss": 1.1022112369537354
         },
         {
          "i": 158,
          "loss": 1.100213646888733
         },
         {
          "i": 159,
          "loss": 1.0982365608215332
         },
         {
          "i": 160,
          "loss": 1.0962820053100586
         },
         {
          "i": 161,
          "loss": 1.0943443775177002
         },
         {
          "i": 162,
          "loss": 1.0924264192581177
         },
         {
          "i": 163,
          "loss": 1.0905330181121826
         },
         {
          "i": 164,
          "loss": 1.088653564453125
         },
         {
          "i": 165,
          "loss": 1.0867928266525269
         },
         {
          "i": 166,
          "loss": 1.0849518775939941
         },
         {
          "i": 167,
          "loss": 1.0831269025802612
         },
         {
          "i": 168,
          "loss": 1.0813196897506714
         },
         {
          "i": 169,
          "loss": 1.0795307159423828
         },
         {
          "i": 170,
          "loss": 1.0777759552001953
         },
         {
          "i": 171,
          "loss": 1.076063871383667
         },
         {
          "i": 172,
          "loss": 1.074366569519043
         },
         {
          "i": 173,
          "loss": 1.072684645652771
         },
         {
          "i": 174,
          "loss": 1.071018934249878
         },
         {
          "i": 175,
          "loss": 1.0693690776824951
         },
         {
          "i": 176,
          "loss": 1.0677132606506348
         },
         {
          "i": 177,
          "loss": 1.0660195350646973
         },
         {
          "i": 178,
          "loss": 1.064344048500061
         },
         {
          "i": 179,
          "loss": 1.0626808404922485
         },
         {
          "i": 180,
          "loss": 1.0610337257385254
         },
         {
          "i": 181,
          "loss": 1.0594024658203125
         },
         {
          "i": 182,
          "loss": 1.057788610458374
         },
         {
          "i": 183,
          "loss": 1.056190013885498
         },
         {
          "i": 184,
          "loss": 1.054605484008789
         },
         {
          "i": 185,
          "loss": 1.0530359745025635
         },
         {
          "i": 186,
          "loss": 1.0514813661575317
         },
         {
          "i": 187,
          "loss": 1.0499446392059326
         },
         {
          "i": 188,
          "loss": 1.0484225749969482
         },
         {
          "i": 189,
          "loss": 1.0469119548797607
         },
         {
          "i": 190,
          "loss": 1.0454148054122925
         },
         {
          "i": 191,
          "loss": 1.0439326763153076
         },
         {
          "i": 192,
          "loss": 1.0424689054489136
         },
         {
          "i": 193,
          "loss": 1.0410197973251343
         },
         {
          "i": 194,
          "loss": 1.0395866632461548
         },
         {
          "i": 195,
          "loss": 1.0381847620010376
         },
         {
          "i": 196,
          "loss": 1.0367950201034546
         },
         {
          "i": 197,
          "loss": 1.0354180335998535
         },
         {
          "i": 198,
          "loss": 1.0340558290481567
         },
         {
          "i": 199,
          "loss": 1.0327051877975464
         },
         {
          "i": 200,
          "loss": 1.0313640832901
         },
         {
          "i": 201,
          "loss": 1.0300346612930298
         },
         {
          "i": 202,
          "loss": 1.0287166833877563
         },
         {
          "i": 203,
          "loss": 1.0274101495742798
         },
         {
          "i": 204,
          "loss": 1.0261168479919434
         },
         {
          "i": 205,
          "loss": 1.0248335599899292
         },
         {
          "i": 206,
          "loss": 1.0235605239868164
         },
         {
          "i": 207,
          "loss": 1.0222986936569214
         },
         {
          "i": 208,
          "loss": 1.0210474729537964
         },
         {
          "i": 209,
          "loss": 1.0198075771331787
         },
         {
          "i": 210,
          "loss": 1.018579363822937
         },
         {
          "i": 211,
          "loss": 1.0173596143722534
         },
         {
          "i": 212,
          "loss": 1.0161501169204712
         },
         {
          "i": 213,
          "loss": 1.0149505138397217
         },
         {
          "i": 214,
          "loss": 1.0137609243392944
         },
         {
          "i": 215,
          "loss": 1.0125837326049805
         },
         {
          "i": 216,
          "loss": 1.011414647102356
         },
         {
          "i": 217,
          "loss": 1.010254144668579
         },
         {
          "i": 218,
          "loss": 1.0091028213500977
         },
         {
          "i": 219,
          "loss": 1.0079610347747803
         },
         {
          "i": 220,
          "loss": 1.0068295001983643
         },
         {
          "i": 221,
          "loss": 1.0057073831558228
         },
         {
          "i": 222,
          "loss": 1.0045912265777588
         },
         {
          "i": 223,
          "loss": 1.003477692604065
         },
         {
          "i": 224,
          "loss": 1.0023728609085083
         },
         {
          "i": 225,
          "loss": 1.0012767314910889
         },
         {
          "i": 226,
          "loss": 1.0001916885375977
         },
         {
          "i": 227,
          "loss": 0.9991133213043213
         },
         {
          "i": 228,
          "loss": 0.9980430603027344
         },
         {
          "i": 229,
          "loss": 0.9969812035560608
         },
         {
          "i": 230,
          "loss": 0.995927631855011
         },
         {
          "i": 231,
          "loss": 0.9948831796646118
         },
         {
          "i": 232,
          "loss": 0.9938473701477051
         },
         {
          "i": 233,
          "loss": 0.9928166270256042
         },
         {
          "i": 234,
          "loss": 0.9917809963226318
         },
         {
          "i": 235,
          "loss": 0.9907535314559937
         },
         {
          "i": 236,
          "loss": 0.9897341132164001
         },
         {
          "i": 237,
          "loss": 0.9887242913246155
         },
         {
          "i": 238,
          "loss": 0.9877209663391113
         },
         {
          "i": 239,
          "loss": 0.9867246150970459
         },
         {
          "i": 240,
          "loss": 0.9857360124588013
         },
         {
          "i": 241,
          "loss": 0.984754741191864
         },
         {
          "i": 242,
          "loss": 0.9837989211082458
         },
         {
          "i": 243,
          "loss": 0.9829071164131165
         },
         {
          "i": 244,
          "loss": 0.9820114374160767
         },
         {
          "i": 245,
          "loss": 0.9811208844184875
         },
         {
          "i": 246,
          "loss": 0.980191707611084
         },
         {
          "i": 247,
          "loss": 0.979269802570343
         },
         {
          "i": 248,
          "loss": 0.978355884552002
         },
         {
          "i": 249,
          "loss": 0.9774488806724548
         },
         {
          "i": 250,
          "loss": 0.9765477776527405
         },
         {
          "i": 251,
          "loss": 0.9756538271903992
         },
         {
          "i": 252,
          "loss": 0.974765956401825
         },
         {
          "i": 253,
          "loss": 0.9738845825195312
         },
         {
          "i": 254,
          "loss": 0.9730112552642822
         },
         {
          "i": 255,
          "loss": 0.9721433520317078
         },
         {
          "i": 256,
          "loss": 0.9712813496589661
         },
         {
          "i": 257,
          "loss": 0.9704254269599915
         },
         {
          "i": 258,
          "loss": 0.969575822353363
         },
         {
          "i": 259,
          "loss": 0.9687321186065674
         },
         {
          "i": 260,
          "loss": 0.9678962826728821
         },
         {
          "i": 261,
          "loss": 0.9670649170875549
         },
         {
          "i": 262,
          "loss": 0.9662088751792908
         },
         {
          "i": 263,
          "loss": 0.9653642177581787
         },
         {
          "i": 264,
          "loss": 0.9645273685455322
         },
         {
          "i": 265,
          "loss": 0.9637195467948914
         },
         {
          "i": 266,
          "loss": 0.9629127979278564
         },
         {
          "i": 267,
          "loss": 0.9621140956878662
         },
         {
          "i": 268,
          "loss": 0.9613198637962341
         },
         {
          "i": 269,
          "loss": 0.960529625415802
         },
         {
          "i": 270,
          "loss": 0.9597481489181519
         },
         {
          "i": 271,
          "loss": 0.9589675068855286
         },
         {
          "i": 272,
          "loss": 0.9581955075263977
         },
         {
          "i": 273,
          "loss": 0.9574262499809265
         },
         {
          "i": 274,
          "loss": 0.956662118434906
         },
         {
          "i": 275,
          "loss": 0.9559051394462585
         },
         {
          "i": 276,
          "loss": 0.9551494121551514
         },
         {
          "i": 277,
          "loss": 0.95440274477005
         },
         {
          "i": 278,
          "loss": 0.9536573886871338
         },
         {
          "i": 279,
          "loss": 0.9529178738594055
         },
         {
          "i": 280,
          "loss": 0.9521839618682861
         },
         {
          "i": 281,
          "loss": 0.9514517784118652
         },
         {
          "i": 282,
          "loss": 0.9507288932800293
         },
         {
          "i": 283,
          "loss": 0.9500061273574829
         },
         {
          "i": 284,
          "loss": 0.9492887258529663
         },
         {
          "i": 285,
          "loss": 0.9485725164413452
         },
         {
          "i": 286,
          "loss": 0.9478579759597778
         },
         {
          "i": 287,
          "loss": 0.9471526145935059
         },
         {
          "i": 288,
          "loss": 0.946458637714386
         },
         {
          "i": 289,
          "loss": 0.9457964897155762
         },
         {
          "i": 290,
          "loss": 0.9451388716697693
         },
         {
          "i": 291,
          "loss": 0.9444825053215027
         },
         {
          "i": 292,
          "loss": 0.943834662437439
         },
         {
          "i": 293,
          "loss": 0.943186342716217
         },
         {
          "i": 294,
          "loss": 0.9425438642501831
         },
         {
          "i": 295,
          "loss": 0.9419059753417969
         },
         {
          "i": 296,
          "loss": 0.9412690997123718
         },
         {
          "i": 297,
          "loss": 0.940639853477478
         },
         {
          "i": 298,
          "loss": 0.9400113821029663
         },
         {
          "i": 299,
          "loss": 0.9393869042396545
         },
         {
          "i": 300,
          "loss": 0.9387683272361755
         },
         {
          "i": 301,
          "loss": 0.9381498694419861
         },
         {
          "i": 302,
          "loss": 0.9375383257865906
         },
         {
          "i": 303,
          "loss": 0.9369285106658936
         },
         {
          "i": 304,
          "loss": 0.9363210797309875
         },
         {
          "i": 305,
          "loss": 0.9357207417488098
         },
         {
          "i": 306,
          "loss": 0.935120165348053
         },
         {
          "i": 307,
          "loss": 0.9345255494117737
         },
         {
          "i": 308,
          "loss": 0.9339340329170227
         },
         {
          "i": 309,
          "loss": 0.9333437085151672
         },
         {
          "i": 310,
          "loss": 0.9327600598335266
         },
         {
          "i": 311,
          "loss": 0.9321771860122681
         },
         {
          "i": 312,
          "loss": 0.9315976500511169
         },
         {
          "i": 313,
          "loss": 0.9310237765312195
         },
         {
          "i": 314,
          "loss": 0.9304499626159668
         },
         {
          "i": 315,
          "loss": 0.9298807382583618
         },
         {
          "i": 316,
          "loss": 0.9293155074119568
         },
         {
          "i": 317,
          "loss": 0.9287509322166443
         },
         {
          "i": 318,
          "loss": 0.928192138671875
         },
         {
          "i": 319,
          "loss": 0.9276349544525146
         },
         {
          "i": 320,
          "loss": 0.9270791411399841
         },
         {
          "i": 321,
          "loss": 0.9265310764312744
         },
         {
          "i": 322,
          "loss": 0.9259811639785767
         },
         {
          "i": 323,
          "loss": 0.9254358410835266
         },
         {
          "i": 324,
          "loss": 0.9248948097229004
         },
         {
          "i": 325,
          "loss": 0.924354076385498
         },
         {
          "i": 326,
          "loss": 0.923818051815033
         },
         {
          "i": 327,
          "loss": 0.9232848286628723
         },
         {
          "i": 328,
          "loss": 0.9227523803710938
         },
         {
          "i": 329,
          "loss": 0.9222254753112793
         },
         {
          "i": 330,
          "loss": 0.9217000007629395
         },
         {
          "i": 331,
          "loss": 0.9211755990982056
         },
         {
          "i": 332,
          "loss": 0.9206579327583313
         },
         {
          "i": 333,
          "loss": 0.9201417565345764
         },
         {
          "i": 334,
          "loss": 0.9196369647979736
         },
         {
          "i": 335,
          "loss": 0.9191371202468872
         },
         {
          "i": 336,
          "loss": 0.9186367988586426
         },
         {
          "i": 337,
          "loss": 0.9181395769119263
         },
         {
          "i": 338,
          "loss": 0.9176470041275024
         },
         {
          "i": 339,
          "loss": 0.9171486496925354
         },
         {
          "i": 340,
          "loss": 0.916648805141449
         },
         {
          "i": 341,
          "loss": 0.916151225566864
         },
         {
          "i": 342,
          "loss": 0.9156545400619507
         },
         {
          "i": 343,
          "loss": 0.9151619672775269
         },
         {
          "i": 344,
          "loss": 0.9146714210510254
         },
         {
          "i": 345,
          "loss": 0.9141818881034851
         },
         {
          "i": 346,
          "loss": 0.9136971831321716
         },
         {
          "i": 347,
          "loss": 0.9132133722305298
         },
         {
          "i": 348,
          "loss": 0.9127306342124939
         },
         {
          "i": 349,
          "loss": 0.912253737449646
         },
         {
          "i": 350,
          "loss": 0.9117761254310608
         },
         {
          "i": 351,
          "loss": 0.9113004207611084
         },
         {
          "i": 352,
          "loss": 0.9108306169509888
         },
         {
          "i": 353,
          "loss": 0.910359263420105
         },
         {
          "i": 354,
          "loss": 0.9098909497261047
         },
         {
          "i": 355,
          "loss": 0.9094271063804626
         },
         {
          "i": 356,
          "loss": 0.9089627265930176
         },
         {
          "i": 357,
          "loss": 0.908501148223877
         },
         {
          "i": 358,
          "loss": 0.9080435037612915
         },
         {
          "i": 359,
          "loss": 0.9075854420661926
         },
         {
          "i": 360,
          "loss": 0.9071379899978638
         },
         {
          "i": 361,
          "loss": 0.9066976308822632
         },
         {
          "i": 362,
          "loss": 0.9062641263008118
         },
         {
          "i": 363,
          "loss": 0.9058270454406738
         },
         {
          "i": 364,
          "loss": 0.9053919315338135
         },
         {
          "i": 365,
          "loss": 0.9049616456031799
         },
         {
          "i": 366,
          "loss": 0.9045337438583374
         },
         {
          "i": 367,
          "loss": 0.9041042923927307
         },
         {
          "i": 368,
          "loss": 0.9036759734153748
         },
         {
          "i": 369,
          "loss": 0.9032577276229858
         },
         {
          "i": 370,
          "loss": 0.9028339385986328
         },
         {
          "i": 371,
          "loss": 0.9024106860160828
         },
         {
          "i": 372,
          "loss": 0.9019955992698669
         },
         {
          "i": 373,
          "loss": 0.9015804529190063
         },
         {
          "i": 374,
          "loss": 0.9011628031730652
         },
         {
          "i": 375,
          "loss": 0.9007489681243896
         },
         {
          "i": 376,
          "loss": 0.9003432989120483
         },
         {
          "i": 377,
          "loss": 0.8999309539794922
         },
         {
          "i": 378,
          "loss": 0.8995223045349121
         },
         {
          "i": 379,
          "loss": 0.8991162776947021
         },
         {
          "i": 380,
          "loss": 0.8987066149711609
         },
         {
          "i": 381,
          "loss": 0.8982961177825928
         },
         {
          "i": 382,
          "loss": 0.8978875875473022
         },
         {
          "i": 383,
          "loss": 0.8974846005439758
         },
         {
          "i": 384,
          "loss": 0.8970805406570435
         },
         {
          "i": 385,
          "loss": 0.8966799974441528
         },
         {
          "i": 386,
          "loss": 0.8962817192077637
         },
         {
          "i": 387,
          "loss": 0.8958860039710999
         },
         {
          "i": 388,
          "loss": 0.8954910039901733
         },
         {
          "i": 389,
          "loss": 0.8951011896133423
         },
         {
          "i": 390,
          "loss": 0.8947107195854187
         },
         {
          "i": 391,
          "loss": 0.894318163394928
         },
         {
          "i": 392,
          "loss": 0.8939314484596252
         },
         {
          "i": 393,
          "loss": 0.893541157245636
         },
         {
          "i": 394,
          "loss": 0.8931601643562317
         },
         {
          "i": 395,
          "loss": 0.8927744030952454
         },
         {
          "i": 396,
          "loss": 0.892391562461853
         },
         {
          "i": 397,
          "loss": 0.8920129537582397
         },
         {
          "i": 398,
          "loss": 0.8916320204734802
         },
         {
          "i": 399,
          "loss": 0.891255795955658
         },
         {
          "i": 400,
          "loss": 0.8908778429031372
         },
         {
          "i": 401,
          "loss": 0.8905059099197388
         },
         {
          "i": 402,
          "loss": 0.8901299834251404
         },
         {
          "i": 403,
          "loss": 0.8897587656974792
         },
         {
          "i": 404,
          "loss": 0.8893895149230957
         },
         {
          "i": 405,
          "loss": 0.8890188336372375
         },
         {
          "i": 406,
          "loss": 0.888653039932251
         },
         {
          "i": 407,
          "loss": 0.8882914185523987
         },
         {
          "i": 408,
          "loss": 0.8879217505455017
         },
         {
          "i": 409,
          "loss": 0.8875581622123718
         },
         {
          "i": 410,
          "loss": 0.8871955275535583
         },
         {
          "i": 411,
          "loss": 0.8868370652198792
         },
         {
          "i": 412,
          "loss": 0.8864727020263672
         },
         {
          "i": 413,
          "loss": 0.8861027359962463
         },
         {
          "i": 414,
          "loss": 0.8857306838035583
         },
         {
          "i": 415,
          "loss": 0.8853613138198853
         },
         {
          "i": 416,
          "loss": 0.8849912881851196
         },
         {
          "i": 417,
          "loss": 0.8846261501312256
         },
         {
          "i": 418,
          "loss": 0.8842601180076599
         },
         {
          "i": 419,
          "loss": 0.8838937878608704
         },
         {
          "i": 420,
          "loss": 0.8835328817367554
         },
         {
          "i": 421,
          "loss": 0.8831691741943359
         },
         {
          "i": 422,
          "loss": 0.8828113079071045
         },
         {
          "i": 423,
          "loss": 0.8824531435966492
         },
         {
          "i": 424,
          "loss": 0.8820931911468506
         },
         {
          "i": 425,
          "loss": 0.8817369937896729
         },
         {
          "i": 426,
          "loss": 0.8813703656196594
         },
         {
          "i": 427,
          "loss": 0.8809993863105774
         },
         {
          "i": 428,
          "loss": 0.8806238770484924
         },
         {
          "i": 429,
          "loss": 0.8802542090415955
         },
         {
          "i": 430,
          "loss": 0.8798810839653015
         },
         {
          "i": 431,
          "loss": 0.8795162439346313
         },
         {
          "i": 432,
          "loss": 0.879157304763794
         },
         {
          "i": 433,
          "loss": 0.8787906169891357
         },
         {
          "i": 434,
          "loss": 0.8784253597259521
         },
         {
          "i": 435,
          "loss": 0.8780571818351746
         },
         {
          "i": 436,
          "loss": 0.8776934742927551
         },
         {
          "i": 437,
          "loss": 0.8773305416107178
         },
         {
          "i": 438,
          "loss": 0.8769699335098267
         },
         {
          "i": 439,
          "loss": 0.8766084909439087
         },
         {
          "i": 440,
          "loss": 0.8762520551681519
         },
         {
          "i": 441,
          "loss": 0.8758981227874756
         },
         {
          "i": 442,
          "loss": 0.8755390048027039
         },
         {
          "i": 443,
          "loss": 0.8751832842826843
         },
         {
          "i": 444,
          "loss": 0.8748289346694946
         },
         {
          "i": 445,
          "loss": 0.8744760751724243
         },
         {
          "i": 446,
          "loss": 0.8741235136985779
         },
         {
          "i": 447,
          "loss": 0.8737733364105225
         },
         {
          "i": 448,
          "loss": 0.8734226226806641
         },
         {
          "i": 449,
          "loss": 0.8730735182762146
         },
         {
          "i": 450,
          "loss": 0.8727192878723145
         },
         {
          "i": 451,
          "loss": 0.8723679184913635
         },
         {
          "i": 452,
          "loss": 0.8720141649246216
         },
         {
          "i": 453,
          "loss": 0.8716652393341064
         },
         {
          "i": 454,
          "loss": 0.8713130950927734
         },
         {
          "i": 455,
          "loss": 0.8709666728973389
         },
         {
          "i": 456,
          "loss": 0.8706161379814148
         },
         {
          "i": 457,
          "loss": 0.870271623134613
         },
         {
          "i": 458,
          "loss": 0.8699145317077637
         },
         {
          "i": 459,
          "loss": 0.8695550560951233
         },
         {
          "i": 460,
          "loss": 0.8691999912261963
         },
         {
          "i": 461,
          "loss": 0.8688464164733887
         },
         {
          "i": 462,
          "loss": 0.8685016632080078
         },
         {
          "i": 463,
          "loss": 0.8681566119194031
         },
         {
          "i": 464,
          "loss": 0.8678141236305237
         },
         {
          "i": 465,
          "loss": 0.8674706816673279
         },
         {
          "i": 466,
          "loss": 0.8671302795410156
         },
         {
          "i": 467,
          "loss": 0.8667886257171631
         },
         {
          "i": 468,
          "loss": 0.8664506673812866
         },
         {
          "i": 469,
          "loss": 0.8661107420921326
         },
         {
          "i": 470,
          "loss": 0.8657743334770203
         },
         {
          "i": 471,
          "loss": 0.8654360175132751
         },
         {
          "i": 472,
          "loss": 0.8651013374328613
         },
         {
          "i": 473,
          "loss": 0.8647646307945251
         },
         {
          "i": 474,
          "loss": 0.8644336462020874
         },
         {
          "i": 475,
          "loss": 0.864101767539978
         },
         {
          "i": 476,
          "loss": 0.8637663125991821
         },
         {
          "i": 477,
          "loss": 0.8634335994720459
         },
         {
          "i": 478,
          "loss": 0.8631035685539246
         },
         {
          "i": 479,
          "loss": 0.862772524356842
         },
         {
          "i": 480,
          "loss": 0.8624441623687744
         },
         {
          "i": 481,
          "loss": 0.8621147871017456
         },
         {
          "i": 482,
          "loss": 0.8617881536483765
         },
         {
          "i": 483,
          "loss": 0.8614602088928223
         },
         {
          "i": 484,
          "loss": 0.8611353039741516
         },
         {
          "i": 485,
          "loss": 0.8608090877532959
         },
         {
          "i": 486,
          "loss": 0.860485851764679
         },
         {
          "i": 487,
          "loss": 0.8601610064506531
         },
         {
          "i": 488,
          "loss": 0.8598393797874451
         },
         {
          "i": 489,
          "loss": 0.859515905380249
         },
         {
          "i": 490,
          "loss": 0.8591961860656738
         },
         {
          "i": 491,
          "loss": 0.8588801026344299
         },
         {
          "i": 492,
          "loss": 0.8585756421089172
         },
         {
          "i": 493,
          "loss": 0.8582637310028076
         },
         {
          "i": 494,
          "loss": 0.857952356338501
         },
         {
          "i": 495,
          "loss": 0.8576420545578003
         },
         {
          "i": 496,
          "loss": 0.8573144674301147
         },
         {
          "i": 497,
          "loss": 0.8569889068603516
         },
         {
          "i": 498,
          "loss": 0.8566630482673645
         },
         {
          "i": 499,
          "loss": 0.8563389778137207
         }
        ]
       },
       "encoding": {
        "x": {
         "field": "i",
         "type": "quantitative"
        },
        "y": {
         "field": "loss",
         "type": "quantitative"
        }
       },
       "height": 100,
       "mark": "line"
      },
      "image/png": "[encoded data removed]",
      "text/plain": [
       "<VegaLite 3 object>\n",
       "\n",
       "If you see this message, it means the renderer has not been properly enabled\n",
       "for the frontend that you are using. For more information, see\n",
       "https://altair-viz.github.io/user_guide/troubleshooting.html\n"
      ]
     },
     "execution_count": 116,
     "metadata": {},
     "output_type": "execute_result"
    }
   ],
   "source": [
    "loss_df = pd.DataFrame({'i':range(500), 'loss':loss_record})\n",
    "alt.Chart(loss_df, height=100).mark_line().encode(x='i', y='loss')"
   ]
  },
  {
   "cell_type": "markdown",
   "metadata": {},
   "source": [
    "And here are our predictions for a new $x$:"
   ]
  },
  {
   "cell_type": "code",
   "execution_count": 117,
   "metadata": {},
   "outputs": [
    {
     "data": {
      "text/plain": [
       "tensor([[-0.2449],\n",
       "        [-0.3287],\n",
       "        [ 0.6254],\n",
       "        [-0.1357],\n",
       "        [-0.2929],\n",
       "        [-0.3676],\n",
       "        [ 0.2192],\n",
       "        [ 0.3494],\n",
       "        [-0.6368],\n",
       "        [-0.0381]], grad_fn=<AddBackward0>)"
      ]
     },
     "execution_count": 117,
     "metadata": {},
     "output_type": "execute_result"
    }
   ],
   "source": [
    "new_x = torch.randn(10, 5) # 10 new observations\n",
    "z = g(torch.matmul(new_x,W)+b)\n",
    "torch.matmul(z,α[1:])+α[0]"
   ]
  },
  {
   "cell_type": "markdown",
   "metadata": {
    "tags": [
     "popout"
    ]
   },
   "source": [
    "---\n",
    "\n",
    "**EXERCISE** \n",
    "\n",
    "Apply this strategy to our logistic regression to make a more complex **classification** model. In other words, implement the machine learning algorithm with these characteristics:\n",
    "* Model: $\\hat p_i = \\sigma(g(x_i W+b))\\alpha_{1:h} + \\alpha_0)$, with $\\sigma$, $g$, $W$, $b$, and $\\alpha$ as previously described\n",
    "* Loss: log-loss\n",
    "* Search Algorithm: gradient descent\n",
    "\n",
    "---"
   ]
  },
  {
   "cell_type": "markdown",
   "metadata": {},
   "source": [
    "### Conclusion"
   ]
  },
  {
   "cell_type": "markdown",
   "metadata": {},
   "source": [
    "We just developed a machine learning method out of these three components:\n",
    "* \"linear-relu\" $\\times$ 10 + linear model (model)\n",
    "* MSE loss (loss)\n",
    "* gradient descent (search algorithm)\n",
    "\n",
    "This is a neural network. The 10 \"new predictors\" are together a _hidden layer_ (hidden because we don't see them at the end of the day, just the output $\\hat y$) and each of them individually is called a _hidden unit_. The \"layer\" terminology comes from the graphical representation, where the successive hidden representations look like successive layers that the information passes through while being transformed from predictors to prediction:"
   ]
  },
  {
   "cell_type": "markdown",
   "metadata": {},
   "source": [
    "<img src=\"images/net-layers.png\" width=\"300\">"
   ]
  },
  {
   "cell_type": "markdown",
   "metadata": {},
   "source": [
    "So, in the language of neural networks or deep learning, what we've built is a network with input of size 5, one linear hidden layer of size 10, ReLU *activation function*, and a linear output layer of size 1."
   ]
  },
  {
   "cell_type": "markdown",
   "metadata": {},
   "source": [
    "## How does this help?"
   ]
  },
  {
   "cell_type": "markdown",
   "metadata": {},
   "source": [
    "While we could define ever-more complex interactions of parameters and data, it turns out that simply stacking linear regressions with nonlinear activation functions on top of each other (e.g. \"linear-relu\" regressions) gets us enough complexity to model practically any relationship we want. Let's have a look at an example where $y = x^2$ in reality:"
   ]
  },
  {
   "cell_type": "code",
   "execution_count": 465,
   "metadata": {},
   "outputs": [],
   "source": [
    "p = 1\n",
    "n = 100\n",
    "\n",
    "x = torch.randn(n, p) # predictors (n observations, p features)\n",
    "y = (x[:,0]**2).unsqueeze(dim=1) # outcomes (n observations)"
   ]
  },
  {
   "cell_type": "code",
   "execution_count": 466,
   "metadata": {},
   "outputs": [
    {
     "data": {
      "application/vnd.vegalite.v3+json": {
       "$schema": "https://vega.github.io/schema/vega-lite/v3.4.0.json",
       "config": {
        "mark": {
         "tooltip": null
        },
        "view": {
         "height": 300,
         "width": 400
        }
       },
       "data": {
        "name": "data-74e27fdf5c0d3c19cf2419d553dc8367"
       },
       "datasets": {
        "data-74e27fdf5c0d3c19cf2419d553dc8367": [
         {
          "x1": 1.0292792320251465,
          "y": 1.0594156980514526
         },
         {
          "x1": 0.3599083125591278,
          "y": 0.12953399121761322
         },
         {
          "x1": -0.5574687719345093,
          "y": 0.3107714354991913
         },
         {
          "x1": -0.5682265758514404,
          "y": 0.32288143038749695
         },
         {
          "x1": -1.0591601133346558,
          "y": 1.121820092201233
         },
         {
          "x1": 1.2294938564300537,
          "y": 1.5116550922393799
         },
         {
          "x1": -0.6161450743675232,
          "y": 0.3796347379684448
         },
         {
          "x1": -0.5266348719596863,
          "y": 0.277344286441803
         },
         {
          "x1": 1.1915243864059448,
          "y": 1.419730305671692
         },
         {
          "x1": -1.7817763090133667,
          "y": 3.174726724624634
         },
         {
          "x1": -1.319872260093689,
          "y": 1.7420628070831299
         },
         {
          "x1": -0.0358341783285141,
          "y": 0.0012840883573517203
         },
         {
          "x1": 0.2920267879962921,
          "y": 0.08527964353561401
         },
         {
          "x1": -0.8524404764175415,
          "y": 0.7266547679901123
         },
         {
          "x1": 0.7167415022850037,
          "y": 0.5137183666229248
         },
         {
          "x1": 0.7138287425041199,
          "y": 0.509551465511322
         },
         {
          "x1": 0.9796762466430664,
          "y": 0.9597655534744263
         },
         {
          "x1": 0.8565634489059448,
          "y": 0.7337009310722351
         },
         {
          "x1": 0.2502174377441406,
          "y": 0.0626087635755539
         },
         {
          "x1": 0.8053727746009827,
          "y": 0.6486253142356873
         },
         {
          "x1": 0.45548489689826965,
          "y": 0.2074664980173111
         },
         {
          "x1": 1.1347978115081787,
          "y": 1.2877660989761353
         },
         {
          "x1": -1.7238696813583374,
          "y": 2.971726655960083
         },
         {
          "x1": -0.3485734164714813,
          "y": 0.12150342762470245
         },
         {
          "x1": -1.494368553161621,
          "y": 2.233137369155884
         },
         {
          "x1": -0.6549271941184998,
          "y": 0.4289296269416809
         },
         {
          "x1": -0.8213096857070923,
          "y": 0.6745495796203613
         },
         {
          "x1": -0.4908483624458313,
          "y": 0.24093212187290192
         },
         {
          "x1": 0.5087504982948303,
          "y": 0.2588270604610443
         },
         {
          "x1": -0.618256688117981,
          "y": 0.3822413384914398
         },
         {
          "x1": -0.6713542342185974,
          "y": 0.450716495513916
         },
         {
          "x1": 0.4276825785636902,
          "y": 0.18291239440441132
         },
         {
          "x1": 0.5901530385017395,
          "y": 0.3482806086540222
         },
         {
          "x1": 1.0188179016113281,
          "y": 1.0379899740219116
         },
         {
          "x1": 1.1704034805297852,
          "y": 1.3698443174362183
         },
         {
          "x1": 0.2639525234699249,
          "y": 0.06967093795537949
         },
         {
          "x1": -0.8164236545562744,
          "y": 0.6665475964546204
         },
         {
          "x1": 0.6239911913871765,
          "y": 0.389365017414093
         },
         {
          "x1": -2.255476951599121,
          "y": 5.087176322937012
         },
         {
          "x1": -1.2689284086227417,
          "y": 1.6101793050765991
         },
         {
          "x1": 0.24240423738956451,
          "y": 0.058759815990924835
         },
         {
          "x1": -0.348042756319046,
          "y": 0.12113375961780548
         },
         {
          "x1": 2.441641330718994,
          "y": 5.961612224578857
         },
         {
          "x1": 1.9725502729415894,
          "y": 3.8909544944763184
         },
         {
          "x1": -0.013906084932386875,
          "y": 0.00019337919366080314
         },
         {
          "x1": -0.3584429919719696,
          "y": 0.12848137319087982
         },
         {
          "x1": -0.39703568816185,
          "y": 0.1576373428106308
         },
         {
          "x1": 1.3342030048370361,
          "y": 1.7800976037979126
         },
         {
          "x1": -0.3555164635181427,
          "y": 0.1263919621706009
         },
         {
          "x1": 0.7377228140830994,
          "y": 0.5442349314689636
         },
         {
          "x1": -0.5422530770301819,
          "y": 0.2940383851528168
         },
         {
          "x1": 1.9869624376296997,
          "y": 3.9480197429656982
         },
         {
          "x1": 0.3490488529205322,
          "y": 0.12183510512113571
         },
         {
          "x1": 0.7647438645362854,
          "y": 0.5848332047462463
         },
         {
          "x1": 0.7352599501609802,
          "y": 0.540607213973999
         },
         {
          "x1": 0.6821872591972351,
          "y": 0.4653794467449188
         },
         {
          "x1": 0.08545012772083282,
          "y": 0.007301724515855312
         },
         {
          "x1": 1.6633191108703613,
          "y": 2.7666304111480713
         },
         {
          "x1": 0.01720828004181385,
          "y": 0.0002961248974315822
         },
         {
          "x1": 0.7583229541778564,
          "y": 0.5750536918640137
         },
         {
          "x1": -0.0833469107747078,
          "y": 0.006946707610040903
         },
         {
          "x1": 1.6561644077301025,
          "y": 2.7428805828094482
         },
         {
          "x1": 1.268709421157837,
          "y": 1.6096235513687134
         },
         {
          "x1": 0.32368943095207214,
          "y": 0.1047748476266861
         },
         {
          "x1": -0.5964518785476685,
          "y": 0.3557548522949219
         },
         {
          "x1": -1.1917896270751953,
          "y": 1.4203624725341797
         },
         {
          "x1": 0.9809187650680542,
          "y": 0.9622015953063965
         },
         {
          "x1": -0.1955835223197937,
          "y": 0.03825291246175766
         },
         {
          "x1": -0.5957688689231873,
          "y": 0.3549405336380005
         },
         {
          "x1": 0.6106539368629456,
          "y": 0.3728982210159302
         },
         {
          "x1": -1.0370460748672485,
          "y": 1.0754646062850952
         },
         {
          "x1": -1.2355694770812988,
          "y": 1.5266319513320923
         },
         {
          "x1": -1.0562974214553833,
          "y": 1.1157642602920532
         },
         {
          "x1": 0.7372961640357971,
          "y": 0.543605625629425
         },
         {
          "x1": -0.19343151152133942,
          "y": 0.037415750324726105
         },
         {
          "x1": 0.46797314286231995,
          "y": 0.21899886429309845
         },
         {
          "x1": 0.11627177894115448,
          "y": 0.013519126921892166
         },
         {
          "x1": 0.2741285562515259,
          "y": 0.07514646649360657
         },
         {
          "x1": 0.8892202973365784,
          "y": 0.7907127141952515
         },
         {
          "x1": 0.2841859757900238,
          "y": 0.08076167106628418
         },
         {
          "x1": -1.5089374780654907,
          "y": 2.2768924236297607
         },
         {
          "x1": 0.19038818776607513,
          "y": 0.03624766319990158
         },
         {
          "x1": 1.451344609260559,
          "y": 2.106401205062866
         },
         {
          "x1": -0.8203871250152588,
          "y": 0.6730350255966187
         },
         {
          "x1": -1.1253453493118286,
          "y": 1.2664021253585815
         },
         {
          "x1": 2.4365737438201904,
          "y": 5.936891555786133
         },
         {
          "x1": -1.504658579826355,
          "y": 2.2639975547790527
         },
         {
          "x1": 0.015109162777662277,
          "y": 0.00022828679357189685
         },
         {
          "x1": 0.2807963490486145,
          "y": 0.07884658873081207
         },
         {
          "x1": -0.5583868622779846,
          "y": 0.3117958903312683
         },
         {
          "x1": -0.41592058539390564,
          "y": 0.17298993468284607
         },
         {
          "x1": 0.8516591191291809,
          "y": 0.7253232598304749
         },
         {
          "x1": -0.7563151121139526,
          "y": 0.5720125436782837
         },
         {
          "x1": -1.592321515083313,
          "y": 2.5354878902435303
         },
         {
          "x1": -0.8645771741867065,
          "y": 0.7474936842918396
         },
         {
          "x1": 1.472259521484375,
          "y": 2.167548179626465
         },
         {
          "x1": 0.23265957832336426,
          "y": 0.05413047969341278
         },
         {
          "x1": -0.9184117913246155,
          "y": 0.8434802293777466
         },
         {
          "x1": -0.021099507808685303,
          "y": 0.0004451892164070159
         },
         {
          "x1": -1.2307413816452026,
          "y": 1.5147243738174438
         }
        ]
       },
       "encoding": {
        "x": {
         "field": "x1",
         "type": "quantitative"
        },
        "y": {
         "field": "y",
         "type": "quantitative"
        }
       },
       "mark": "point"
      },
      "image/png": "[encoded data removed]",
      "text/plain": [
       "<VegaLite 3 object>\n",
       "\n",
       "If you see this message, it means the renderer has not been properly enabled\n",
       "for the frontend that you are using. For more information, see\n",
       "https://altair-viz.github.io/user_guide/troubleshooting.html\n"
      ]
     },
     "execution_count": 466,
     "metadata": {},
     "output_type": "execute_result"
    }
   ],
   "source": [
    "data = pd.DataFrame({'y':y[:,0], 'x1':x[:,0]})\n",
    "alt.Chart(data).mark_point().encode(x='x1', y='y')"
   ]
  },
  {
   "cell_type": "markdown",
   "metadata": {},
   "source": [
    "If we fit a linear model, we don't do very well:"
   ]
  },
  {
   "cell_type": "code",
   "execution_count": 467,
   "metadata": {},
   "outputs": [],
   "source": [
    "loss_record = [] \n",
    "β = torch.randn(p+1,1).requires_grad_()\n",
    "b = torch.randn(1).requires_grad_()\n",
    "\n",
    "for e in range(500):\n",
    "    ŷ = torch.matmul(x, β[1:]) + β[0] # ŷ = xβ + b(calculate predictions)\n",
    "    L = torch.sum((y-ŷ)**2)/n # L = Σ(yᵢ-ŷᵢ)² (use predictions to calculate loss)\n",
    "    \n",
    "    L.backward() # compute gradients (in this case δL/δβ, δL/δW)\n",
    "    loss_record.append(L.item())\n",
    "\n",
    "    with torch.no_grad(): # take the gradient descent step \n",
    "        β -= 10e-2 * β.grad\n",
    "        β.grad.zero_()"
   ]
  },
  {
   "cell_type": "markdown",
   "metadata": {},
   "source": [
    "The loss does go down, but overall it's still really high:"
   ]
  },
  {
   "cell_type": "code",
   "execution_count": 468,
   "metadata": {},
   "outputs": [
    {
     "data": {
      "application/vnd.vegalite.v3+json": {
       "$schema": "https://vega.github.io/schema/vega-lite/v3.4.0.json",
       "config": {
        "mark": {
         "tooltip": null
        },
        "view": {
         "height": 300,
         "width": 400
        }
       },
       "data": {
        "name": "data-6ed3eacae5a864ffe8b458cc8bb33516"
       },
       "datasets": {
        "data-6ed3eacae5a864ffe8b458cc8bb33516": [
         {
          "i": 0,
          "loss": 5.091287136077881
         },
         {
          "i": 1,
          "loss": 3.7345457077026367
         },
         {
          "i": 2,
          "loss": 2.879950761795044
         },
         {
          "i": 3,
          "loss": 2.341651201248169
         },
         {
          "i": 4,
          "loss": 2.0025827884674072
         },
         {
          "i": 5,
          "loss": 1.7890070676803589
         },
         {
          "i": 6,
          "loss": 1.6544779539108276
         },
         {
          "i": 7,
          "loss": 1.5697396993637085
         },
         {
          "i": 8,
          "loss": 1.5163640975952148
         },
         {
          "i": 9,
          "loss": 1.482743263244629
         },
         {
          "i": 10,
          "loss": 1.4615657329559326
         },
         {
          "i": 11,
          "loss": 1.4482263326644897
         },
         {
          "i": 12,
          "loss": 1.4398237466812134
         },
         {
          "i": 13,
          "loss": 1.4345314502716064
         },
         {
          "i": 14,
          "loss": 1.4311974048614502
         },
         {
          "i": 15,
          "loss": 1.4290976524353027
         },
         {
          "i": 16,
          "loss": 1.4277747869491577
         },
         {
          "i": 17,
          "loss": 1.4269416332244873
         },
         {
          "i": 18,
          "loss": 1.4264168739318848
         },
         {
          "i": 19,
          "loss": 1.4260863065719604
         },
         {
          "i": 20,
          "loss": 1.4258781671524048
         },
         {
          "i": 21,
          "loss": 1.4257467985153198
         },
         {
          "i": 22,
          "loss": 1.4256644248962402
         },
         {
          "i": 23,
          "loss": 1.425612449645996
         },
         {
          "i": 24,
          "loss": 1.4255794286727905
         },
         {
          "i": 25,
          "loss": 1.4255588054656982
         },
         {
          "i": 26,
          "loss": 1.4255456924438477
         },
         {
          "i": 27,
          "loss": 1.4255375862121582
         },
         {
          "i": 28,
          "loss": 1.425532579421997
         },
         {
          "i": 29,
          "loss": 1.4255293607711792
         },
         {
          "i": 30,
          "loss": 1.4255272150039673
         },
         {
          "i": 31,
          "loss": 1.4255257844924927
         },
         {
          "i": 32,
          "loss": 1.4255250692367554
         },
         {
          "i": 33,
          "loss": 1.4255245923995972
         },
         {
          "i": 34,
          "loss": 1.4255242347717285
         },
         {
          "i": 35,
          "loss": 1.425524115562439
         },
         {
          "i": 36,
          "loss": 1.425524115562439
         },
         {
          "i": 37,
          "loss": 1.4255239963531494
         },
         {
          "i": 38,
          "loss": 1.4255239963531494
         },
         {
          "i": 39,
          "loss": 1.4255236387252808
         },
         {
          "i": 40,
          "loss": 1.4255238771438599
         },
         {
          "i": 41,
          "loss": 1.4255236387252808
         },
         {
          "i": 42,
          "loss": 1.4255238771438599
         },
         {
          "i": 43,
          "loss": 1.4255238771438599
         },
         {
          "i": 44,
          "loss": 1.4255238771438599
         },
         {
          "i": 45,
          "loss": 1.4255235195159912
         },
         {
          "i": 46,
          "loss": 1.4255236387252808
         },
         {
          "i": 47,
          "loss": 1.4255236387252808
         },
         {
          "i": 48,
          "loss": 1.4255236387252808
         },
         {
          "i": 49,
          "loss": 1.4255236387252808
         },
         {
          "i": 50,
          "loss": 1.4255236387252808
         },
         {
          "i": 51,
          "loss": 1.4255235195159912
         },
         {
          "i": 52,
          "loss": 1.4255236387252808
         },
         {
          "i": 53,
          "loss": 1.4255238771438599
         },
         {
          "i": 54,
          "loss": 1.4255236387252808
         },
         {
          "i": 55,
          "loss": 1.4255235195159912
         },
         {
          "i": 56,
          "loss": 1.4255236387252808
         },
         {
          "i": 57,
          "loss": 1.4255236387252808
         },
         {
          "i": 58,
          "loss": 1.4255236387252808
         },
         {
          "i": 59,
          "loss": 1.4255238771438599
         },
         {
          "i": 60,
          "loss": 1.4255238771438599
         },
         {
          "i": 61,
          "loss": 1.4255238771438599
         },
         {
          "i": 62,
          "loss": 1.4255238771438599
         },
         {
          "i": 63,
          "loss": 1.4255239963531494
         },
         {
          "i": 64,
          "loss": 1.4255238771438599
         },
         {
          "i": 65,
          "loss": 1.4255236387252808
         },
         {
          "i": 66,
          "loss": 1.4255238771438599
         },
         {
          "i": 67,
          "loss": 1.4255238771438599
         },
         {
          "i": 68,
          "loss": 1.4255238771438599
         },
         {
          "i": 69,
          "loss": 1.4255238771438599
         },
         {
          "i": 70,
          "loss": 1.4255238771438599
         },
         {
          "i": 71,
          "loss": 1.4255238771438599
         },
         {
          "i": 72,
          "loss": 1.4255238771438599
         },
         {
          "i": 73,
          "loss": 1.4255238771438599
         },
         {
          "i": 74,
          "loss": 1.4255238771438599
         },
         {
          "i": 75,
          "loss": 1.4255238771438599
         },
         {
          "i": 76,
          "loss": 1.4255238771438599
         },
         {
          "i": 77,
          "loss": 1.4255238771438599
         },
         {
          "i": 78,
          "loss": 1.4255238771438599
         },
         {
          "i": 79,
          "loss": 1.4255238771438599
         },
         {
          "i": 80,
          "loss": 1.4255238771438599
         },
         {
          "i": 81,
          "loss": 1.4255238771438599
         },
         {
          "i": 82,
          "loss": 1.4255238771438599
         },
         {
          "i": 83,
          "loss": 1.4255238771438599
         },
         {
          "i": 84,
          "loss": 1.4255238771438599
         },
         {
          "i": 85,
          "loss": 1.4255238771438599
         },
         {
          "i": 86,
          "loss": 1.4255238771438599
         },
         {
          "i": 87,
          "loss": 1.4255238771438599
         },
         {
          "i": 88,
          "loss": 1.4255238771438599
         },
         {
          "i": 89,
          "loss": 1.4255238771438599
         },
         {
          "i": 90,
          "loss": 1.4255238771438599
         },
         {
          "i": 91,
          "loss": 1.4255238771438599
         },
         {
          "i": 92,
          "loss": 1.4255238771438599
         },
         {
          "i": 93,
          "loss": 1.4255238771438599
         },
         {
          "i": 94,
          "loss": 1.4255238771438599
         },
         {
          "i": 95,
          "loss": 1.4255238771438599
         },
         {
          "i": 96,
          "loss": 1.4255238771438599
         },
         {
          "i": 97,
          "loss": 1.4255238771438599
         },
         {
          "i": 98,
          "loss": 1.4255238771438599
         },
         {
          "i": 99,
          "loss": 1.4255238771438599
         },
         {
          "i": 100,
          "loss": 1.4255238771438599
         },
         {
          "i": 101,
          "loss": 1.4255238771438599
         },
         {
          "i": 102,
          "loss": 1.4255238771438599
         },
         {
          "i": 103,
          "loss": 1.4255238771438599
         },
         {
          "i": 104,
          "loss": 1.4255238771438599
         },
         {
          "i": 105,
          "loss": 1.4255238771438599
         },
         {
          "i": 106,
          "loss": 1.4255238771438599
         },
         {
          "i": 107,
          "loss": 1.4255238771438599
         },
         {
          "i": 108,
          "loss": 1.4255238771438599
         },
         {
          "i": 109,
          "loss": 1.4255238771438599
         },
         {
          "i": 110,
          "loss": 1.4255238771438599
         },
         {
          "i": 111,
          "loss": 1.4255238771438599
         },
         {
          "i": 112,
          "loss": 1.4255238771438599
         },
         {
          "i": 113,
          "loss": 1.4255238771438599
         },
         {
          "i": 114,
          "loss": 1.4255238771438599
         },
         {
          "i": 115,
          "loss": 1.4255238771438599
         },
         {
          "i": 116,
          "loss": 1.4255238771438599
         },
         {
          "i": 117,
          "loss": 1.4255238771438599
         },
         {
          "i": 118,
          "loss": 1.4255238771438599
         },
         {
          "i": 119,
          "loss": 1.4255238771438599
         },
         {
          "i": 120,
          "loss": 1.4255238771438599
         },
         {
          "i": 121,
          "loss": 1.4255238771438599
         },
         {
          "i": 122,
          "loss": 1.4255238771438599
         },
         {
          "i": 123,
          "loss": 1.4255238771438599
         },
         {
          "i": 124,
          "loss": 1.4255238771438599
         },
         {
          "i": 125,
          "loss": 1.4255238771438599
         },
         {
          "i": 126,
          "loss": 1.4255238771438599
         },
         {
          "i": 127,
          "loss": 1.4255238771438599
         },
         {
          "i": 128,
          "loss": 1.4255238771438599
         },
         {
          "i": 129,
          "loss": 1.4255238771438599
         },
         {
          "i": 130,
          "loss": 1.4255238771438599
         },
         {
          "i": 131,
          "loss": 1.4255238771438599
         },
         {
          "i": 132,
          "loss": 1.4255238771438599
         },
         {
          "i": 133,
          "loss": 1.4255238771438599
         },
         {
          "i": 134,
          "loss": 1.4255238771438599
         },
         {
          "i": 135,
          "loss": 1.4255238771438599
         },
         {
          "i": 136,
          "loss": 1.4255238771438599
         },
         {
          "i": 137,
          "loss": 1.4255238771438599
         },
         {
          "i": 138,
          "loss": 1.4255238771438599
         },
         {
          "i": 139,
          "loss": 1.4255238771438599
         },
         {
          "i": 140,
          "loss": 1.4255238771438599
         },
         {
          "i": 141,
          "loss": 1.4255238771438599
         },
         {
          "i": 142,
          "loss": 1.4255238771438599
         },
         {
          "i": 143,
          "loss": 1.4255238771438599
         },
         {
          "i": 144,
          "loss": 1.4255238771438599
         },
         {
          "i": 145,
          "loss": 1.4255238771438599
         },
         {
          "i": 146,
          "loss": 1.4255238771438599
         },
         {
          "i": 147,
          "loss": 1.4255238771438599
         },
         {
          "i": 148,
          "loss": 1.4255238771438599
         },
         {
          "i": 149,
          "loss": 1.4255238771438599
         },
         {
          "i": 150,
          "loss": 1.4255238771438599
         },
         {
          "i": 151,
          "loss": 1.4255238771438599
         },
         {
          "i": 152,
          "loss": 1.4255238771438599
         },
         {
          "i": 153,
          "loss": 1.4255238771438599
         },
         {
          "i": 154,
          "loss": 1.4255238771438599
         },
         {
          "i": 155,
          "loss": 1.4255238771438599
         },
         {
          "i": 156,
          "loss": 1.4255238771438599
         },
         {
          "i": 157,
          "loss": 1.4255238771438599
         },
         {
          "i": 158,
          "loss": 1.4255238771438599
         },
         {
          "i": 159,
          "loss": 1.4255238771438599
         },
         {
          "i": 160,
          "loss": 1.4255238771438599
         },
         {
          "i": 161,
          "loss": 1.4255238771438599
         },
         {
          "i": 162,
          "loss": 1.4255238771438599
         },
         {
          "i": 163,
          "loss": 1.4255238771438599
         },
         {
          "i": 164,
          "loss": 1.4255238771438599
         },
         {
          "i": 165,
          "loss": 1.4255238771438599
         },
         {
          "i": 166,
          "loss": 1.4255238771438599
         },
         {
          "i": 167,
          "loss": 1.4255238771438599
         },
         {
          "i": 168,
          "loss": 1.4255238771438599
         },
         {
          "i": 169,
          "loss": 1.4255238771438599
         },
         {
          "i": 170,
          "loss": 1.4255238771438599
         },
         {
          "i": 171,
          "loss": 1.4255238771438599
         },
         {
          "i": 172,
          "loss": 1.4255238771438599
         },
         {
          "i": 173,
          "loss": 1.4255238771438599
         },
         {
          "i": 174,
          "loss": 1.4255238771438599
         },
         {
          "i": 175,
          "loss": 1.4255238771438599
         },
         {
          "i": 176,
          "loss": 1.4255238771438599
         },
         {
          "i": 177,
          "loss": 1.4255238771438599
         },
         {
          "i": 178,
          "loss": 1.4255238771438599
         },
         {
          "i": 179,
          "loss": 1.4255238771438599
         },
         {
          "i": 180,
          "loss": 1.4255238771438599
         },
         {
          "i": 181,
          "loss": 1.4255238771438599
         },
         {
          "i": 182,
          "loss": 1.4255238771438599
         },
         {
          "i": 183,
          "loss": 1.4255238771438599
         },
         {
          "i": 184,
          "loss": 1.4255238771438599
         },
         {
          "i": 185,
          "loss": 1.4255238771438599
         },
         {
          "i": 186,
          "loss": 1.4255238771438599
         },
         {
          "i": 187,
          "loss": 1.4255238771438599
         },
         {
          "i": 188,
          "loss": 1.4255238771438599
         },
         {
          "i": 189,
          "loss": 1.4255238771438599
         },
         {
          "i": 190,
          "loss": 1.4255238771438599
         },
         {
          "i": 191,
          "loss": 1.4255238771438599
         },
         {
          "i": 192,
          "loss": 1.4255238771438599
         },
         {
          "i": 193,
          "loss": 1.4255238771438599
         },
         {
          "i": 194,
          "loss": 1.4255238771438599
         },
         {
          "i": 195,
          "loss": 1.4255238771438599
         },
         {
          "i": 196,
          "loss": 1.4255238771438599
         },
         {
          "i": 197,
          "loss": 1.4255238771438599
         },
         {
          "i": 198,
          "loss": 1.4255238771438599
         },
         {
          "i": 199,
          "loss": 1.4255238771438599
         },
         {
          "i": 200,
          "loss": 1.4255238771438599
         },
         {
          "i": 201,
          "loss": 1.4255238771438599
         },
         {
          "i": 202,
          "loss": 1.4255238771438599
         },
         {
          "i": 203,
          "loss": 1.4255238771438599
         },
         {
          "i": 204,
          "loss": 1.4255238771438599
         },
         {
          "i": 205,
          "loss": 1.4255238771438599
         },
         {
          "i": 206,
          "loss": 1.4255238771438599
         },
         {
          "i": 207,
          "loss": 1.4255238771438599
         },
         {
          "i": 208,
          "loss": 1.4255238771438599
         },
         {
          "i": 209,
          "loss": 1.4255238771438599
         },
         {
          "i": 210,
          "loss": 1.4255238771438599
         },
         {
          "i": 211,
          "loss": 1.4255238771438599
         },
         {
          "i": 212,
          "loss": 1.4255238771438599
         },
         {
          "i": 213,
          "loss": 1.4255238771438599
         },
         {
          "i": 214,
          "loss": 1.4255238771438599
         },
         {
          "i": 215,
          "loss": 1.4255238771438599
         },
         {
          "i": 216,
          "loss": 1.4255238771438599
         },
         {
          "i": 217,
          "loss": 1.4255238771438599
         },
         {
          "i": 218,
          "loss": 1.4255238771438599
         },
         {
          "i": 219,
          "loss": 1.4255238771438599
         },
         {
          "i": 220,
          "loss": 1.4255238771438599
         },
         {
          "i": 221,
          "loss": 1.4255238771438599
         },
         {
          "i": 222,
          "loss": 1.4255238771438599
         },
         {
          "i": 223,
          "loss": 1.4255238771438599
         },
         {
          "i": 224,
          "loss": 1.4255238771438599
         },
         {
          "i": 225,
          "loss": 1.4255238771438599
         },
         {
          "i": 226,
          "loss": 1.4255238771438599
         },
         {
          "i": 227,
          "loss": 1.4255238771438599
         },
         {
          "i": 228,
          "loss": 1.4255238771438599
         },
         {
          "i": 229,
          "loss": 1.4255238771438599
         },
         {
          "i": 230,
          "loss": 1.4255238771438599
         },
         {
          "i": 231,
          "loss": 1.4255238771438599
         },
         {
          "i": 232,
          "loss": 1.4255238771438599
         },
         {
          "i": 233,
          "loss": 1.4255238771438599
         },
         {
          "i": 234,
          "loss": 1.4255238771438599
         },
         {
          "i": 235,
          "loss": 1.4255238771438599
         },
         {
          "i": 236,
          "loss": 1.4255238771438599
         },
         {
          "i": 237,
          "loss": 1.4255238771438599
         },
         {
          "i": 238,
          "loss": 1.4255238771438599
         },
         {
          "i": 239,
          "loss": 1.4255238771438599
         },
         {
          "i": 240,
          "loss": 1.4255238771438599
         },
         {
          "i": 241,
          "loss": 1.4255238771438599
         },
         {
          "i": 242,
          "loss": 1.4255238771438599
         },
         {
          "i": 243,
          "loss": 1.4255238771438599
         },
         {
          "i": 244,
          "loss": 1.4255238771438599
         },
         {
          "i": 245,
          "loss": 1.4255238771438599
         },
         {
          "i": 246,
          "loss": 1.4255238771438599
         },
         {
          "i": 247,
          "loss": 1.4255238771438599
         },
         {
          "i": 248,
          "loss": 1.4255238771438599
         },
         {
          "i": 249,
          "loss": 1.4255238771438599
         },
         {
          "i": 250,
          "loss": 1.4255238771438599
         },
         {
          "i": 251,
          "loss": 1.4255238771438599
         },
         {
          "i": 252,
          "loss": 1.4255238771438599
         },
         {
          "i": 253,
          "loss": 1.4255238771438599
         },
         {
          "i": 254,
          "loss": 1.4255238771438599
         },
         {
          "i": 255,
          "loss": 1.4255238771438599
         },
         {
          "i": 256,
          "loss": 1.4255238771438599
         },
         {
          "i": 257,
          "loss": 1.4255238771438599
         },
         {
          "i": 258,
          "loss": 1.4255238771438599
         },
         {
          "i": 259,
          "loss": 1.4255238771438599
         },
         {
          "i": 260,
          "loss": 1.4255238771438599
         },
         {
          "i": 261,
          "loss": 1.4255238771438599
         },
         {
          "i": 262,
          "loss": 1.4255238771438599
         },
         {
          "i": 263,
          "loss": 1.4255238771438599
         },
         {
          "i": 264,
          "loss": 1.4255238771438599
         },
         {
          "i": 265,
          "loss": 1.4255238771438599
         },
         {
          "i": 266,
          "loss": 1.4255238771438599
         },
         {
          "i": 267,
          "loss": 1.4255238771438599
         },
         {
          "i": 268,
          "loss": 1.4255238771438599
         },
         {
          "i": 269,
          "loss": 1.4255238771438599
         },
         {
          "i": 270,
          "loss": 1.4255238771438599
         },
         {
          "i": 271,
          "loss": 1.4255238771438599
         },
         {
          "i": 272,
          "loss": 1.4255238771438599
         },
         {
          "i": 273,
          "loss": 1.4255238771438599
         },
         {
          "i": 274,
          "loss": 1.4255238771438599
         },
         {
          "i": 275,
          "loss": 1.4255238771438599
         },
         {
          "i": 276,
          "loss": 1.4255238771438599
         },
         {
          "i": 277,
          "loss": 1.4255238771438599
         },
         {
          "i": 278,
          "loss": 1.4255238771438599
         },
         {
          "i": 279,
          "loss": 1.4255238771438599
         },
         {
          "i": 280,
          "loss": 1.4255238771438599
         },
         {
          "i": 281,
          "loss": 1.4255238771438599
         },
         {
          "i": 282,
          "loss": 1.4255238771438599
         },
         {
          "i": 283,
          "loss": 1.4255238771438599
         },
         {
          "i": 284,
          "loss": 1.4255238771438599
         },
         {
          "i": 285,
          "loss": 1.4255238771438599
         },
         {
          "i": 286,
          "loss": 1.4255238771438599
         },
         {
          "i": 287,
          "loss": 1.4255238771438599
         },
         {
          "i": 288,
          "loss": 1.4255238771438599
         },
         {
          "i": 289,
          "loss": 1.4255238771438599
         },
         {
          "i": 290,
          "loss": 1.4255238771438599
         },
         {
          "i": 291,
          "loss": 1.4255238771438599
         },
         {
          "i": 292,
          "loss": 1.4255238771438599
         },
         {
          "i": 293,
          "loss": 1.4255238771438599
         },
         {
          "i": 294,
          "loss": 1.4255238771438599
         },
         {
          "i": 295,
          "loss": 1.4255238771438599
         },
         {
          "i": 296,
          "loss": 1.4255238771438599
         },
         {
          "i": 297,
          "loss": 1.4255238771438599
         },
         {
          "i": 298,
          "loss": 1.4255238771438599
         },
         {
          "i": 299,
          "loss": 1.4255238771438599
         },
         {
          "i": 300,
          "loss": 1.4255238771438599
         },
         {
          "i": 301,
          "loss": 1.4255238771438599
         },
         {
          "i": 302,
          "loss": 1.4255238771438599
         },
         {
          "i": 303,
          "loss": 1.4255238771438599
         },
         {
          "i": 304,
          "loss": 1.4255238771438599
         },
         {
          "i": 305,
          "loss": 1.4255238771438599
         },
         {
          "i": 306,
          "loss": 1.4255238771438599
         },
         {
          "i": 307,
          "loss": 1.4255238771438599
         },
         {
          "i": 308,
          "loss": 1.4255238771438599
         },
         {
          "i": 309,
          "loss": 1.4255238771438599
         },
         {
          "i": 310,
          "loss": 1.4255238771438599
         },
         {
          "i": 311,
          "loss": 1.4255238771438599
         },
         {
          "i": 312,
          "loss": 1.4255238771438599
         },
         {
          "i": 313,
          "loss": 1.4255238771438599
         },
         {
          "i": 314,
          "loss": 1.4255238771438599
         },
         {
          "i": 315,
          "loss": 1.4255238771438599
         },
         {
          "i": 316,
          "loss": 1.4255238771438599
         },
         {
          "i": 317,
          "loss": 1.4255238771438599
         },
         {
          "i": 318,
          "loss": 1.4255238771438599
         },
         {
          "i": 319,
          "loss": 1.4255238771438599
         },
         {
          "i": 320,
          "loss": 1.4255238771438599
         },
         {
          "i": 321,
          "loss": 1.4255238771438599
         },
         {
          "i": 322,
          "loss": 1.4255238771438599
         },
         {
          "i": 323,
          "loss": 1.4255238771438599
         },
         {
          "i": 324,
          "loss": 1.4255238771438599
         },
         {
          "i": 325,
          "loss": 1.4255238771438599
         },
         {
          "i": 326,
          "loss": 1.4255238771438599
         },
         {
          "i": 327,
          "loss": 1.4255238771438599
         },
         {
          "i": 328,
          "loss": 1.4255238771438599
         },
         {
          "i": 329,
          "loss": 1.4255238771438599
         },
         {
          "i": 330,
          "loss": 1.4255238771438599
         },
         {
          "i": 331,
          "loss": 1.4255238771438599
         },
         {
          "i": 332,
          "loss": 1.4255238771438599
         },
         {
          "i": 333,
          "loss": 1.4255238771438599
         },
         {
          "i": 334,
          "loss": 1.4255238771438599
         },
         {
          "i": 335,
          "loss": 1.4255238771438599
         },
         {
          "i": 336,
          "loss": 1.4255238771438599
         },
         {
          "i": 337,
          "loss": 1.4255238771438599
         },
         {
          "i": 338,
          "loss": 1.4255238771438599
         },
         {
          "i": 339,
          "loss": 1.4255238771438599
         },
         {
          "i": 340,
          "loss": 1.4255238771438599
         },
         {
          "i": 341,
          "loss": 1.4255238771438599
         },
         {
          "i": 342,
          "loss": 1.4255238771438599
         },
         {
          "i": 343,
          "loss": 1.4255238771438599
         },
         {
          "i": 344,
          "loss": 1.4255238771438599
         },
         {
          "i": 345,
          "loss": 1.4255238771438599
         },
         {
          "i": 346,
          "loss": 1.4255238771438599
         },
         {
          "i": 347,
          "loss": 1.4255238771438599
         },
         {
          "i": 348,
          "loss": 1.4255238771438599
         },
         {
          "i": 349,
          "loss": 1.4255238771438599
         },
         {
          "i": 350,
          "loss": 1.4255238771438599
         },
         {
          "i": 351,
          "loss": 1.4255238771438599
         },
         {
          "i": 352,
          "loss": 1.4255238771438599
         },
         {
          "i": 353,
          "loss": 1.4255238771438599
         },
         {
          "i": 354,
          "loss": 1.4255238771438599
         },
         {
          "i": 355,
          "loss": 1.4255238771438599
         },
         {
          "i": 356,
          "loss": 1.4255238771438599
         },
         {
          "i": 357,
          "loss": 1.4255238771438599
         },
         {
          "i": 358,
          "loss": 1.4255238771438599
         },
         {
          "i": 359,
          "loss": 1.4255238771438599
         },
         {
          "i": 360,
          "loss": 1.4255238771438599
         },
         {
          "i": 361,
          "loss": 1.4255238771438599
         },
         {
          "i": 362,
          "loss": 1.4255238771438599
         },
         {
          "i": 363,
          "loss": 1.4255238771438599
         },
         {
          "i": 364,
          "loss": 1.4255238771438599
         },
         {
          "i": 365,
          "loss": 1.4255238771438599
         },
         {
          "i": 366,
          "loss": 1.4255238771438599
         },
         {
          "i": 367,
          "loss": 1.4255238771438599
         },
         {
          "i": 368,
          "loss": 1.4255238771438599
         },
         {
          "i": 369,
          "loss": 1.4255238771438599
         },
         {
          "i": 370,
          "loss": 1.4255238771438599
         },
         {
          "i": 371,
          "loss": 1.4255238771438599
         },
         {
          "i": 372,
          "loss": 1.4255238771438599
         },
         {
          "i": 373,
          "loss": 1.4255238771438599
         },
         {
          "i": 374,
          "loss": 1.4255238771438599
         },
         {
          "i": 375,
          "loss": 1.4255238771438599
         },
         {
          "i": 376,
          "loss": 1.4255238771438599
         },
         {
          "i": 377,
          "loss": 1.4255238771438599
         },
         {
          "i": 378,
          "loss": 1.4255238771438599
         },
         {
          "i": 379,
          "loss": 1.4255238771438599
         },
         {
          "i": 380,
          "loss": 1.4255238771438599
         },
         {
          "i": 381,
          "loss": 1.4255238771438599
         },
         {
          "i": 382,
          "loss": 1.4255238771438599
         },
         {
          "i": 383,
          "loss": 1.4255238771438599
         },
         {
          "i": 384,
          "loss": 1.4255238771438599
         },
         {
          "i": 385,
          "loss": 1.4255238771438599
         },
         {
          "i": 386,
          "loss": 1.4255238771438599
         },
         {
          "i": 387,
          "loss": 1.4255238771438599
         },
         {
          "i": 388,
          "loss": 1.4255238771438599
         },
         {
          "i": 389,
          "loss": 1.4255238771438599
         },
         {
          "i": 390,
          "loss": 1.4255238771438599
         },
         {
          "i": 391,
          "loss": 1.4255238771438599
         },
         {
          "i": 392,
          "loss": 1.4255238771438599
         },
         {
          "i": 393,
          "loss": 1.4255238771438599
         },
         {
          "i": 394,
          "loss": 1.4255238771438599
         },
         {
          "i": 395,
          "loss": 1.4255238771438599
         },
         {
          "i": 396,
          "loss": 1.4255238771438599
         },
         {
          "i": 397,
          "loss": 1.4255238771438599
         },
         {
          "i": 398,
          "loss": 1.4255238771438599
         },
         {
          "i": 399,
          "loss": 1.4255238771438599
         },
         {
          "i": 400,
          "loss": 1.4255238771438599
         },
         {
          "i": 401,
          "loss": 1.4255238771438599
         },
         {
          "i": 402,
          "loss": 1.4255238771438599
         },
         {
          "i": 403,
          "loss": 1.4255238771438599
         },
         {
          "i": 404,
          "loss": 1.4255238771438599
         },
         {
          "i": 405,
          "loss": 1.4255238771438599
         },
         {
          "i": 406,
          "loss": 1.4255238771438599
         },
         {
          "i": 407,
          "loss": 1.4255238771438599
         },
         {
          "i": 408,
          "loss": 1.4255238771438599
         },
         {
          "i": 409,
          "loss": 1.4255238771438599
         },
         {
          "i": 410,
          "loss": 1.4255238771438599
         },
         {
          "i": 411,
          "loss": 1.4255238771438599
         },
         {
          "i": 412,
          "loss": 1.4255238771438599
         },
         {
          "i": 413,
          "loss": 1.4255238771438599
         },
         {
          "i": 414,
          "loss": 1.4255238771438599
         },
         {
          "i": 415,
          "loss": 1.4255238771438599
         },
         {
          "i": 416,
          "loss": 1.4255238771438599
         },
         {
          "i": 417,
          "loss": 1.4255238771438599
         },
         {
          "i": 418,
          "loss": 1.4255238771438599
         },
         {
          "i": 419,
          "loss": 1.4255238771438599
         },
         {
          "i": 420,
          "loss": 1.4255238771438599
         },
         {
          "i": 421,
          "loss": 1.4255238771438599
         },
         {
          "i": 422,
          "loss": 1.4255238771438599
         },
         {
          "i": 423,
          "loss": 1.4255238771438599
         },
         {
          "i": 424,
          "loss": 1.4255238771438599
         },
         {
          "i": 425,
          "loss": 1.4255238771438599
         },
         {
          "i": 426,
          "loss": 1.4255238771438599
         },
         {
          "i": 427,
          "loss": 1.4255238771438599
         },
         {
          "i": 428,
          "loss": 1.4255238771438599
         },
         {
          "i": 429,
          "loss": 1.4255238771438599
         },
         {
          "i": 430,
          "loss": 1.4255238771438599
         },
         {
          "i": 431,
          "loss": 1.4255238771438599
         },
         {
          "i": 432,
          "loss": 1.4255238771438599
         },
         {
          "i": 433,
          "loss": 1.4255238771438599
         },
         {
          "i": 434,
          "loss": 1.4255238771438599
         },
         {
          "i": 435,
          "loss": 1.4255238771438599
         },
         {
          "i": 436,
          "loss": 1.4255238771438599
         },
         {
          "i": 437,
          "loss": 1.4255238771438599
         },
         {
          "i": 438,
          "loss": 1.4255238771438599
         },
         {
          "i": 439,
          "loss": 1.4255238771438599
         },
         {
          "i": 440,
          "loss": 1.4255238771438599
         },
         {
          "i": 441,
          "loss": 1.4255238771438599
         },
         {
          "i": 442,
          "loss": 1.4255238771438599
         },
         {
          "i": 443,
          "loss": 1.4255238771438599
         },
         {
          "i": 444,
          "loss": 1.4255238771438599
         },
         {
          "i": 445,
          "loss": 1.4255238771438599
         },
         {
          "i": 446,
          "loss": 1.4255238771438599
         },
         {
          "i": 447,
          "loss": 1.4255238771438599
         },
         {
          "i": 448,
          "loss": 1.4255238771438599
         },
         {
          "i": 449,
          "loss": 1.4255238771438599
         },
         {
          "i": 450,
          "loss": 1.4255238771438599
         },
         {
          "i": 451,
          "loss": 1.4255238771438599
         },
         {
          "i": 452,
          "loss": 1.4255238771438599
         },
         {
          "i": 453,
          "loss": 1.4255238771438599
         },
         {
          "i": 454,
          "loss": 1.4255238771438599
         },
         {
          "i": 455,
          "loss": 1.4255238771438599
         },
         {
          "i": 456,
          "loss": 1.4255238771438599
         },
         {
          "i": 457,
          "loss": 1.4255238771438599
         },
         {
          "i": 458,
          "loss": 1.4255238771438599
         },
         {
          "i": 459,
          "loss": 1.4255238771438599
         },
         {
          "i": 460,
          "loss": 1.4255238771438599
         },
         {
          "i": 461,
          "loss": 1.4255238771438599
         },
         {
          "i": 462,
          "loss": 1.4255238771438599
         },
         {
          "i": 463,
          "loss": 1.4255238771438599
         },
         {
          "i": 464,
          "loss": 1.4255238771438599
         },
         {
          "i": 465,
          "loss": 1.4255238771438599
         },
         {
          "i": 466,
          "loss": 1.4255238771438599
         },
         {
          "i": 467,
          "loss": 1.4255238771438599
         },
         {
          "i": 468,
          "loss": 1.4255238771438599
         },
         {
          "i": 469,
          "loss": 1.4255238771438599
         },
         {
          "i": 470,
          "loss": 1.4255238771438599
         },
         {
          "i": 471,
          "loss": 1.4255238771438599
         },
         {
          "i": 472,
          "loss": 1.4255238771438599
         },
         {
          "i": 473,
          "loss": 1.4255238771438599
         },
         {
          "i": 474,
          "loss": 1.4255238771438599
         },
         {
          "i": 475,
          "loss": 1.4255238771438599
         },
         {
          "i": 476,
          "loss": 1.4255238771438599
         },
         {
          "i": 477,
          "loss": 1.4255238771438599
         },
         {
          "i": 478,
          "loss": 1.4255238771438599
         },
         {
          "i": 479,
          "loss": 1.4255238771438599
         },
         {
          "i": 480,
          "loss": 1.4255238771438599
         },
         {
          "i": 481,
          "loss": 1.4255238771438599
         },
         {
          "i": 482,
          "loss": 1.4255238771438599
         },
         {
          "i": 483,
          "loss": 1.4255238771438599
         },
         {
          "i": 484,
          "loss": 1.4255238771438599
         },
         {
          "i": 485,
          "loss": 1.4255238771438599
         },
         {
          "i": 486,
          "loss": 1.4255238771438599
         },
         {
          "i": 487,
          "loss": 1.4255238771438599
         },
         {
          "i": 488,
          "loss": 1.4255238771438599
         },
         {
          "i": 489,
          "loss": 1.4255238771438599
         },
         {
          "i": 490,
          "loss": 1.4255238771438599
         },
         {
          "i": 491,
          "loss": 1.4255238771438599
         },
         {
          "i": 492,
          "loss": 1.4255238771438599
         },
         {
          "i": 493,
          "loss": 1.4255238771438599
         },
         {
          "i": 494,
          "loss": 1.4255238771438599
         },
         {
          "i": 495,
          "loss": 1.4255238771438599
         },
         {
          "i": 496,
          "loss": 1.4255238771438599
         },
         {
          "i": 497,
          "loss": 1.4255238771438599
         },
         {
          "i": 498,
          "loss": 1.4255238771438599
         },
         {
          "i": 499,
          "loss": 1.4255238771438599
         }
        ]
       },
       "encoding": {
        "x": {
         "field": "i",
         "type": "quantitative"
        },
        "y": {
         "field": "loss",
         "type": "quantitative"
        }
       },
       "height": 100,
       "mark": "line"
      },
      "image/png": "[encoded data removed]",
      "text/plain": [
       "<VegaLite 3 object>\n",
       "\n",
       "If you see this message, it means the renderer has not been properly enabled\n",
       "for the frontend that you are using. For more information, see\n",
       "https://altair-viz.github.io/user_guide/troubleshooting.html\n"
      ]
     },
     "execution_count": 468,
     "metadata": {},
     "output_type": "execute_result"
    }
   ],
   "source": [
    "loss_df = pd.DataFrame({'i':range(500), 'loss':loss_record})\n",
    "alt.Chart(loss_df, height=100).mark_line().encode(x='i', y='loss')"
   ]
  },
  {
   "cell_type": "markdown",
   "metadata": {},
   "source": [
    "And when we plot the model predictions against reality we see how bad it is:"
   ]
  },
  {
   "cell_type": "code",
   "execution_count": 469,
   "metadata": {},
   "outputs": [
    {
     "data": {
      "application/vnd.vegalite.v3+json": {
       "$schema": "https://vega.github.io/schema/vega-lite/v3.4.0.json",
       "config": {
        "mark": {
         "tooltip": null
        },
        "view": {
         "height": 300,
         "width": 400
        }
       },
       "data": {
        "name": "data-ac1ae59b05f965e6e9a1f579938b1111"
       },
       "datasets": {
        "data-ac1ae59b05f965e6e9a1f579938b1111": [
         {
          "x1": 1.0292792320251465,
          "y": 1.0594156980514526,
          "ŷ": 1.1528106927871704
         },
         {
          "x1": 0.3599083125591278,
          "y": 0.12953399121761322,
          "ŷ": 1.0177993774414062
         },
         {
          "x1": -0.5574687719345093,
          "y": 0.3107714354991913,
          "ŷ": 0.8327654004096985
         },
         {
          "x1": -0.5682265758514404,
          "y": 0.32288143038749695,
          "ŷ": 0.8305955529212952
         },
         {
          "x1": -1.0591601133346558,
          "y": 1.121820092201233,
          "ŷ": 0.7315747737884521
         },
         {
          "x1": 1.2294938564300537,
          "y": 1.5116550922393799,
          "ŷ": 1.193193793296814
         },
         {
          "x1": -0.6161450743675232,
          "y": 0.3796347379684448,
          "ŷ": 0.8209304213523865
         },
         {
          "x1": -0.5266348719596863,
          "y": 0.277344286441803,
          "ŷ": 0.8389845490455627
         },
         {
          "x1": 1.1915243864059448,
          "y": 1.419730305671692,
          "ŷ": 1.1855354309082031
         },
         {
          "x1": -1.7817763090133667,
          "y": 3.174726724624634,
          "ŷ": 0.5858238935470581
         },
         {
          "x1": -1.319872260093689,
          "y": 1.7420628070831299,
          "ŷ": 0.6789894104003906
         },
         {
          "x1": -0.0358341783285141,
          "y": 0.0012840883573517203,
          "ŷ": 0.9379785060882568
         },
         {
          "x1": 0.2920267879962921,
          "y": 0.08527964353561401,
          "ŷ": 1.0041077136993408
         },
         {
          "x1": -0.8524404764175415,
          "y": 0.7266547679901123,
          "ŷ": 0.7732698917388916
         },
         {
          "x1": 0.7167415022850037,
          "y": 0.5137183666229248,
          "ŷ": 1.0897722244262695
         },
         {
          "x1": 0.7138287425041199,
          "y": 0.509551465511322,
          "ŷ": 1.0891847610473633
         },
         {
          "x1": 0.9796762466430664,
          "y": 0.9597655534744263,
          "ŷ": 1.142805814743042
         },
         {
          "x1": 0.8565634489059448,
          "y": 0.7337009310722351,
          "ŷ": 1.1179741621017456
         },
         {
          "x1": 0.2502174377441406,
          "y": 0.0626087635755539,
          "ŷ": 0.9956747889518738
         },
         {
          "x1": 0.8053727746009827,
          "y": 0.6486253142356873,
          "ŷ": 1.1076490879058838
         },
         {
          "x1": 0.45548489689826965,
          "y": 0.2074664980173111,
          "ŷ": 1.0370770692825317
         },
         {
          "x1": 1.1347978115081787,
          "y": 1.2877660989761353,
          "ŷ": 1.1740937232971191
         },
         {
          "x1": -1.7238696813583374,
          "y": 2.971726655960083,
          "ŷ": 0.5975036025047302
         },
         {
          "x1": -0.3485734164714813,
          "y": 0.12150342762470245,
          "ŷ": 0.8748993277549744
         },
         {
          "x1": -1.494368553161621,
          "y": 2.233137369155884,
          "ŷ": 0.6437937021255493
         },
         {
          "x1": -0.6549271941184998,
          "y": 0.4289296269416809,
          "ŷ": 0.8131081461906433
         },
         {
          "x1": -0.8213096857070923,
          "y": 0.6745495796203613,
          "ŷ": 0.7795489430427551
         },
         {
          "x1": -0.4908483624458313,
          "y": 0.24093212187290192,
          "ŷ": 0.8462026715278625
         },
         {
          "x1": 0.5087504982948303,
          "y": 0.2588270604610443,
          "ŷ": 1.0478206872940063
         },
         {
          "x1": -0.618256688117981,
          "y": 0.3822413384914398,
          "ŷ": 0.8205045461654663
         },
         {
          "x1": -0.6713542342185974,
          "y": 0.450716495513916,
          "ŷ": 0.8097947835922241
         },
         {
          "x1": 0.4276825785636902,
          "y": 0.18291239440441132,
          "ŷ": 1.0314693450927734
         },
         {
          "x1": 0.5901530385017395,
          "y": 0.3482806086540222,
          "ŷ": 1.064239501953125
         },
         {
          "x1": 1.0188179016113281,
          "y": 1.0379899740219116,
          "ŷ": 1.1507006883621216
         },
         {
          "x1": 1.1704034805297852,
          "y": 1.3698443174362183,
          "ŷ": 1.1812753677368164
         },
         {
          "x1": 0.2639525234699249,
          "y": 0.06967093795537949,
          "ŷ": 0.9984451532363892
         },
         {
          "x1": -0.8164236545562744,
          "y": 0.6665475964546204,
          "ŷ": 0.7805345058441162
         },
         {
          "x1": 0.6239911913871765,
          "y": 0.389365017414093,
          "ŷ": 1.0710645914077759
         },
         {
          "x1": -2.255476951599121,
          "y": 5.087176322937012,
          "ŷ": 0.49027901887893677
         },
         {
          "x1": -1.2689284086227417,
          "y": 1.6101793050765991,
          "ŷ": 0.6892647743225098
         },
         {
          "x1": 0.24240423738956451,
          "y": 0.058759815990924835,
          "ŷ": 0.9940989017486572
         },
         {
          "x1": -0.348042756319046,
          "y": 0.12113375961780548,
          "ŷ": 0.875006377696991
         },
         {
          "x1": 2.441641330718994,
          "y": 5.961612224578857,
          "ŷ": 1.4376826286315918
         },
         {
          "x1": 1.9725502729415894,
          "y": 3.8909544944763184,
          "ŷ": 1.3430674076080322
         },
         {
          "x1": -0.013906084932386875,
          "y": 0.00019337919366080314,
          "ŷ": 0.9424014091491699
         },
         {
          "x1": -0.3584429919719696,
          "y": 0.12848137319087982,
          "ŷ": 0.8729086518287659
         },
         {
          "x1": -0.39703568816185,
          "y": 0.1576373428106308,
          "ŷ": 0.8651245832443237
         },
         {
          "x1": 1.3342030048370361,
          "y": 1.7800976037979126,
          "ŷ": 1.2143135070800781
         },
         {
          "x1": -0.3555164635181427,
          "y": 0.1263919621706009,
          "ŷ": 0.8734989166259766
         },
         {
          "x1": 0.7377228140830994,
          "y": 0.5442349314689636,
          "ŷ": 1.0940041542053223
         },
         {
          "x1": -0.5422530770301819,
          "y": 0.2940383851528168,
          "ŷ": 0.8358343839645386
         },
         {
          "x1": 1.9869624376296997,
          "y": 3.9480197429656982,
          "ŷ": 1.345974326133728
         },
         {
          "x1": 0.3490488529205322,
          "y": 0.12183510512113571,
          "ŷ": 1.0156090259552002
         },
         {
          "x1": 0.7647438645362854,
          "y": 0.5848332047462463,
          "ŷ": 1.0994541645050049
         },
         {
          "x1": 0.7352599501609802,
          "y": 0.540607213973999,
          "ŷ": 1.0935072898864746
         },
         {
          "x1": 0.6821872591972351,
          "y": 0.4653794467449188,
          "ŷ": 1.082802653312683
         },
         {
          "x1": 0.08545012772083282,
          "y": 0.007301724515855312,
          "ŷ": 0.9624414443969727
         },
         {
          "x1": 1.6633191108703613,
          "y": 2.7666304111480713,
          "ŷ": 1.280695915222168
         },
         {
          "x1": 0.01720828004181385,
          "y": 0.0002961248974315822,
          "ŷ": 0.948677122592926
         },
         {
          "x1": 0.7583229541778564,
          "y": 0.5750536918640137,
          "ŷ": 1.0981590747833252
         },
         {
          "x1": -0.0833469107747078,
          "y": 0.006946707610040903,
          "ŷ": 0.9283952713012695
         },
         {
          "x1": 1.6561644077301025,
          "y": 2.7428805828094482,
          "ŷ": 1.2792527675628662
         },
         {
          "x1": 1.268709421157837,
          "y": 1.6096235513687134,
          "ŷ": 1.2011034488677979
         },
         {
          "x1": 0.32368943095207214,
          "y": 0.1047748476266861,
          "ŷ": 1.0104939937591553
         },
         {
          "x1": -0.5964518785476685,
          "y": 0.3557548522949219,
          "ŷ": 0.8249025344848633
         },
         {
          "x1": -1.1917896270751953,
          "y": 1.4203624725341797,
          "ŷ": 0.7048235535621643
         },
         {
          "x1": 0.9809187650680542,
          "y": 0.9622015953063965,
          "ŷ": 1.1430565118789673
         },
         {
          "x1": -0.1955835223197937,
          "y": 0.03825291246175766,
          "ŷ": 0.9057572484016418
         },
         {
          "x1": -0.5957688689231873,
          "y": 0.3549405336380005,
          "ŷ": 0.8250402808189392
         },
         {
          "x1": 0.6106539368629456,
          "y": 0.3728982210159302,
          "ŷ": 1.0683743953704834
         },
         {
          "x1": -1.0370460748672485,
          "y": 1.0754646062850952,
          "ŷ": 0.736035168170929
         },
         {
          "x1": -1.2355694770812988,
          "y": 1.5266319513320923,
          "ŷ": 0.695993185043335
         },
         {
          "x1": -1.0562974214553833,
          "y": 1.1157642602920532,
          "ŷ": 0.7321522235870361
         },
         {
          "x1": 0.7372961640357971,
          "y": 0.543605625629425,
          "ŷ": 1.0939180850982666
         },
         {
          "x1": -0.19343151152133942,
          "y": 0.037415750324726105,
          "ŷ": 0.9061912894248962
         },
         {
          "x1": 0.46797314286231995,
          "y": 0.21899886429309845,
          "ŷ": 1.0395958423614502
         },
         {
          "x1": 0.11627177894115448,
          "y": 0.013519126921892166,
          "ŷ": 0.9686580896377563
         },
         {
          "x1": 0.2741285562515259,
          "y": 0.07514646649360657,
          "ŷ": 1.0004976987838745
         },
         {
          "x1": 0.8892202973365784,
          "y": 0.7907127141952515,
          "ŷ": 1.1245609521865845
         },
         {
          "x1": 0.2841859757900238,
          "y": 0.08076167106628418,
          "ŷ": 1.0025262832641602
         },
         {
          "x1": -1.5089374780654907,
          "y": 2.2768924236297607,
          "ŷ": 0.6408551931381226
         },
         {
          "x1": 0.19038818776607513,
          "y": 0.03624766319990158,
          "ŷ": 0.983607292175293
         },
         {
          "x1": 1.451344609260559,
          "y": 2.106401205062866,
          "ŷ": 1.237940788269043
         },
         {
          "x1": -0.8203871250152588,
          "y": 0.6730350255966187,
          "ŷ": 0.7797350287437439
         },
         {
          "x1": -1.1253453493118286,
          "y": 1.2664021253585815,
          "ŷ": 0.7182253003120422
         },
         {
          "x1": 2.4365737438201904,
          "y": 5.936891555786133,
          "ŷ": 1.4366605281829834
         },
         {
          "x1": -1.504658579826355,
          "y": 2.2639975547790527,
          "ŷ": 0.6417182683944702
         },
         {
          "x1": 0.015109162777662277,
          "y": 0.00022828679357189685,
          "ŷ": 0.9482537508010864
         },
         {
          "x1": 0.2807963490486145,
          "y": 0.07884658873081207,
          "ŷ": 1.0018424987792969
         },
         {
          "x1": -0.5583868622779846,
          "y": 0.3117958903312683,
          "ŷ": 0.8325802087783813
         },
         {
          "x1": -0.41592058539390564,
          "y": 0.17298993468284607,
          "ŷ": 0.8613154888153076
         },
         {
          "x1": 0.8516591191291809,
          "y": 0.7253232598304749,
          "ŷ": 1.1169849634170532
         },
         {
          "x1": -0.7563151121139526,
          "y": 0.5720125436782837,
          "ŷ": 0.7926583290100098
         },
         {
          "x1": -1.592321515083313,
          "y": 2.5354878902435303,
          "ŷ": 0.6240367293357849
         },
         {
          "x1": -0.8645771741867065,
          "y": 0.7474936842918396,
          "ŷ": 0.7708219289779663
         },
         {
          "x1": 1.472259521484375,
          "y": 2.167548179626465,
          "ŷ": 1.242159366607666
         },
         {
          "x1": 0.23265957832336426,
          "y": 0.05413047969341278,
          "ŷ": 0.992133378982544
         },
         {
          "x1": -0.9184117913246155,
          "y": 0.8434802293777466,
          "ŷ": 0.7599635720252991
         },
         {
          "x1": -0.021099507808685303,
          "y": 0.0004451892164070159,
          "ŷ": 0.9409504532814026
         },
         {
          "x1": -1.2307413816452026,
          "y": 1.5147243738174438,
          "ŷ": 0.6969670057296753
         }
        ]
       },
       "layer": [
        {
         "encoding": {
          "x": {
           "field": "x1",
           "type": "quantitative"
          },
          "y": {
           "field": "ŷ",
           "type": "quantitative"
          }
         },
         "mark": "line"
        },
        {
         "encoding": {
          "x": {
           "field": "x1",
           "type": "quantitative"
          },
          "y": {
           "field": "y",
           "type": "quantitative"
          }
         },
         "mark": "point"
        }
       ]
      },
      "image/png": "[encoded data removed]",
      "text/plain": [
       "<VegaLite 3 object>\n",
       "\n",
       "If you see this message, it means the renderer has not been properly enabled\n",
       "for the frontend that you are using. For more information, see\n",
       "https://altair-viz.github.io/user_guide/troubleshooting.html\n"
      ]
     },
     "execution_count": 469,
     "metadata": {},
     "output_type": "execute_result"
    }
   ],
   "source": [
    "preds = pd.DataFrame({'ŷ':ŷ.detach().numpy()[:,0], 'y':y[:,0], 'x1':x[:,0]})\n",
    "(alt.Chart(preds).mark_line().encode(x='x1', y='ŷ') + \n",
    "alt.Chart(preds).mark_point().encode(x='x1', y='y'))"
   ]
  },
  {
   "cell_type": "markdown",
   "metadata": {},
   "source": [
    "However, we can introduce a hidden layer (of size 10):"
   ]
  },
  {
   "cell_type": "code",
   "execution_count": 476,
   "metadata": {},
   "outputs": [],
   "source": [
    "h = 10\n",
    "W = torch.randn(p, h).requires_grad_()\n",
    "b = torch.randn(1, h).requires_grad_()\n",
    "α = torch.randn(h+1, 1).requires_grad_()\n",
    "loss_record = []\n",
    "ϵ = 10e-3\n",
    "\n",
    "for e in range(500):\n",
    "    z = g(torch.matmul(x,W) + b)\n",
    "    ŷ = torch.matmul(z,α[1:]) + α[0]\n",
    "    L = torch.sum((y-ŷ)**2)/n # L = Σ(yᵢ-ŷᵢ)² (use predictions to calculate loss)\n",
    "    \n",
    "    L.backward() # compute gradients (in this case δL/δα, δL/δW)\n",
    "    loss_record.append(L.item())\n",
    "    \n",
    "    with torch.no_grad(): # take the gradient descent step \n",
    "        α -= ϵ * α.grad\n",
    "        α.grad.zero_()\n",
    "        W -= ϵ * W.grad\n",
    "        W.grad.zero_()\n",
    "        b -= ϵ * b.grad\n",
    "        b.grad.zero_()"
   ]
  },
  {
   "cell_type": "code",
   "execution_count": 477,
   "metadata": {},
   "outputs": [
    {
     "data": {
      "application/vnd.vegalite.v3+json": {
       "$schema": "https://vega.github.io/schema/vega-lite/v3.4.0.json",
       "config": {
        "mark": {
         "tooltip": null
        },
        "view": {
         "height": 300,
         "width": 400
        }
       },
       "data": {
        "name": "data-b6b4a960698aaea0f97255d66cd2a24a"
       },
       "datasets": {
        "data-b6b4a960698aaea0f97255d66cd2a24a": [
         {
          "i": 0,
          "loss": 20.801006317138672
         },
         {
          "i": 1,
          "loss": 10.964730262756348
         },
         {
          "i": 2,
          "loss": 6.372439384460449
         },
         {
          "i": 3,
          "loss": 4.03158712387085
         },
         {
          "i": 4,
          "loss": 2.7917120456695557
         },
         {
          "i": 5,
          "loss": 2.109868288040161
         },
         {
          "i": 6,
          "loss": 1.7200708389282227
         },
         {
          "i": 7,
          "loss": 1.4895328283309937
         },
         {
          "i": 8,
          "loss": 1.3427985906600952
         },
         {
          "i": 9,
          "loss": 1.2418791055679321
         },
         {
          "i": 10,
          "loss": 1.1678744554519653
         },
         {
          "i": 11,
          "loss": 1.1105828285217285
         },
         {
          "i": 12,
          "loss": 1.0642668008804321
         },
         {
          "i": 13,
          "loss": 1.0238479375839233
         },
         {
          "i": 14,
          "loss": 0.9912272095680237
         },
         {
          "i": 15,
          "loss": 0.9622889161109924
         },
         {
          "i": 16,
          "loss": 0.9355932474136353
         },
         {
          "i": 17,
          "loss": 0.9106066226959229
         },
         {
          "i": 18,
          "loss": 0.8907864093780518
         },
         {
          "i": 19,
          "loss": 0.8737130761146545
         },
         {
          "i": 20,
          "loss": 0.8578193783760071
         },
         {
          "i": 21,
          "loss": 0.843087375164032
         },
         {
          "i": 22,
          "loss": 0.829392671585083
         },
         {
          "i": 23,
          "loss": 0.8165345788002014
         },
         {
          "i": 24,
          "loss": 0.8044131994247437
         },
         {
          "i": 25,
          "loss": 0.7929028272628784
         },
         {
          "i": 26,
          "loss": 0.7819668054580688
         },
         {
          "i": 27,
          "loss": 0.7716293334960938
         },
         {
          "i": 28,
          "loss": 0.7617757320404053
         },
         {
          "i": 29,
          "loss": 0.7520126104354858
         },
         {
          "i": 30,
          "loss": 0.7428351640701294
         },
         {
          "i": 31,
          "loss": 0.7341172695159912
         },
         {
          "i": 32,
          "loss": 0.7257876396179199
         },
         {
          "i": 33,
          "loss": 0.7176410555839539
         },
         {
          "i": 34,
          "loss": 0.7096126079559326
         },
         {
          "i": 35,
          "loss": 0.7019029855728149
         },
         {
          "i": 36,
          "loss": 0.6941161155700684
         },
         {
          "i": 37,
          "loss": 0.6866479516029358
         },
         {
          "i": 38,
          "loss": 0.679477334022522
         },
         {
          "i": 39,
          "loss": 0.6725862622261047
         },
         {
          "i": 40,
          "loss": 0.6659576892852783
         },
         {
          "i": 41,
          "loss": 0.6595936417579651
         },
         {
          "i": 42,
          "loss": 0.6534916162490845
         },
         {
          "i": 43,
          "loss": 0.6476027965545654
         },
         {
          "i": 44,
          "loss": 0.641915500164032
         },
         {
          "i": 45,
          "loss": 0.6364185810089111
         },
         {
          "i": 46,
          "loss": 0.6311014294624329
         },
         {
          "i": 47,
          "loss": 0.6259531378746033
         },
         {
          "i": 48,
          "loss": 0.6209663152694702
         },
         {
          "i": 49,
          "loss": 0.6160665154457092
         },
         {
          "i": 50,
          "loss": 0.6110925078392029
         },
         {
          "i": 51,
          "loss": 0.6062726974487305
         },
         {
          "i": 52,
          "loss": 0.6015993356704712
         },
         {
          "i": 53,
          "loss": 0.5970649719238281
         },
         {
          "i": 54,
          "loss": 0.5926626324653625
         },
         {
          "i": 55,
          "loss": 0.5883861184120178
         },
         {
          "i": 56,
          "loss": 0.5842294096946716
         },
         {
          "i": 57,
          "loss": 0.5801873207092285
         },
         {
          "i": 58,
          "loss": 0.5761297345161438
         },
         {
          "i": 59,
          "loss": 0.5717839598655701
         },
         {
          "i": 60,
          "loss": 0.5675636529922485
         },
         {
          "i": 61,
          "loss": 0.5634627342224121
         },
         {
          "i": 62,
          "loss": 0.5594754219055176
         },
         {
          "i": 63,
          "loss": 0.5555632710456848
         },
         {
          "i": 64,
          "loss": 0.5513408780097961
         },
         {
          "i": 65,
          "loss": 0.5468400716781616
         },
         {
          "i": 66,
          "loss": 0.5424744486808777
         },
         {
          "i": 67,
          "loss": 0.5382369756698608
         },
         {
          "i": 68,
          "loss": 0.5341215133666992
         },
         {
          "i": 69,
          "loss": 0.5299996733665466
         },
         {
          "i": 70,
          "loss": 0.5257697105407715
         },
         {
          "i": 71,
          "loss": 0.5214123725891113
         },
         {
          "i": 72,
          "loss": 0.5171825289726257
         },
         {
          "i": 73,
          "loss": 0.5130726099014282
         },
         {
          "i": 74,
          "loss": 0.5090780258178711
         },
         {
          "i": 75,
          "loss": 0.5051931142807007
         },
         {
          "i": 76,
          "loss": 0.5014126896858215
         },
         {
          "i": 77,
          "loss": 0.49773260951042175
         },
         {
          "i": 78,
          "loss": 0.4941481649875641
         },
         {
          "i": 79,
          "loss": 0.49063435196876526
         },
         {
          "i": 80,
          "loss": 0.4869603216648102
         },
         {
          "i": 81,
          "loss": 0.4833795130252838
         },
         {
          "i": 82,
          "loss": 0.47989025712013245
         },
         {
          "i": 83,
          "loss": 0.47648879885673523
         },
         {
          "i": 84,
          "loss": 0.47317150235176086
         },
         {
          "i": 85,
          "loss": 0.46993523836135864
         },
         {
          "i": 86,
          "loss": 0.4667763113975525
         },
         {
          "i": 87,
          "loss": 0.46368980407714844
         },
         {
          "i": 88,
          "loss": 0.4606754779815674
         },
         {
          "i": 89,
          "loss": 0.4577307403087616
         },
         {
          "i": 90,
          "loss": 0.45485320687294006
         },
         {
          "i": 91,
          "loss": 0.45194748044013977
         },
         {
          "i": 92,
          "loss": 0.4488983452320099
         },
         {
          "i": 93,
          "loss": 0.44573506712913513
         },
         {
          "i": 94,
          "loss": 0.4426479637622833
         },
         {
          "i": 95,
          "loss": 0.4396340250968933
         },
         {
          "i": 96,
          "loss": 0.4366905689239502
         },
         {
          "i": 97,
          "loss": 0.4338148832321167
         },
         {
          "i": 98,
          "loss": 0.4310047924518585
         },
         {
          "i": 99,
          "loss": 0.4282578229904175
         },
         {
          "i": 100,
          "loss": 0.42549824714660645
         },
         {
          "i": 101,
          "loss": 0.42263591289520264
         },
         {
          "i": 102,
          "loss": 0.41983890533447266
         },
         {
          "i": 103,
          "loss": 0.4171048700809479
         },
         {
          "i": 104,
          "loss": 0.41443169116973877
         },
         {
          "i": 105,
          "loss": 0.41181737184524536
         },
         {
          "i": 106,
          "loss": 0.4092599153518677
         },
         {
          "i": 107,
          "loss": 0.4067575931549072
         },
         {
          "i": 108,
          "loss": 0.4043086767196655
         },
         {
          "i": 109,
          "loss": 0.40191158652305603
         },
         {
          "i": 110,
          "loss": 0.3995647728443146
         },
         {
          "i": 111,
          "loss": 0.3972667455673218
         },
         {
          "i": 112,
          "loss": 0.39501622319221497
         },
         {
          "i": 113,
          "loss": 0.39281174540519714
         },
         {
          "i": 114,
          "loss": 0.39065223932266235
         },
         {
          "i": 115,
          "loss": 0.38853636384010315
         },
         {
          "i": 116,
          "loss": 0.3864630460739136
         },
         {
          "i": 117,
          "loss": 0.3844311237335205
         },
         {
          "i": 118,
          "loss": 0.38243961334228516
         },
         {
          "i": 119,
          "loss": 0.380487322807312
         },
         {
          "i": 120,
          "loss": 0.37857356667518616
         },
         {
          "i": 121,
          "loss": 0.3766970932483673
         },
         {
          "i": 122,
          "loss": 0.37485718727111816
         },
         {
          "i": 123,
          "loss": 0.37305283546447754
         },
         {
          "i": 124,
          "loss": 0.3712645471096039
         },
         {
          "i": 125,
          "loss": 0.36926373839378357
         },
         {
          "i": 126,
          "loss": 0.3671821355819702
         },
         {
          "i": 127,
          "loss": 0.3651433289051056
         },
         {
          "i": 128,
          "loss": 0.36314597725868225
         },
         {
          "i": 129,
          "loss": 0.3611889183521271
         },
         {
          "i": 130,
          "loss": 0.35927093029022217
         },
         {
          "i": 131,
          "loss": 0.3573909103870392
         },
         {
          "i": 132,
          "loss": 0.35554781556129456
         },
         {
          "i": 133,
          "loss": 0.3537405729293823
         },
         {
          "i": 134,
          "loss": 0.35196831822395325
         },
         {
          "i": 135,
          "loss": 0.350159227848053
         },
         {
          "i": 136,
          "loss": 0.348260760307312
         },
         {
          "i": 137,
          "loss": 0.34639695286750793
         },
         {
          "i": 138,
          "loss": 0.3443639874458313
         },
         {
          "i": 139,
          "loss": 0.34237271547317505
         },
         {
          "i": 140,
          "loss": 0.3404214382171631
         },
         {
          "i": 141,
          "loss": 0.33850911259651184
         },
         {
          "i": 142,
          "loss": 0.3366342782974243
         },
         {
          "i": 143,
          "loss": 0.3347959518432617
         },
         {
          "i": 144,
          "loss": 0.3329927921295166
         },
         {
          "i": 145,
          "loss": 0.3312239944934845
         },
         {
          "i": 146,
          "loss": 0.32948848605155945
         },
         {
          "i": 147,
          "loss": 0.3277854025363922
         },
         {
          "i": 148,
          "loss": 0.3261139690876007
         },
         {
          "i": 149,
          "loss": 0.32447320222854614
         },
         {
          "i": 150,
          "loss": 0.3228624761104584
         },
         {
          "i": 151,
          "loss": 0.3212808668613434
         },
         {
          "i": 152,
          "loss": 0.3197278380393982
         },
         {
          "i": 153,
          "loss": 0.3182026147842407
         },
         {
          "i": 154,
          "loss": 0.3167046308517456
         },
         {
          "i": 155,
          "loss": 0.31523314118385315
         },
         {
          "i": 156,
          "loss": 0.3137876093387604
         },
         {
          "i": 157,
          "loss": 0.31236740946769714
         },
         {
          "i": 158,
          "loss": 0.31097185611724854
         },
         {
          "i": 159,
          "loss": 0.3096005916595459
         },
         {
          "i": 160,
          "loss": 0.30825304985046387
         },
         {
          "i": 161,
          "loss": 0.30692869424819946
         },
         {
          "i": 162,
          "loss": 0.30562713742256165
         },
         {
          "i": 163,
          "loss": 0.3043477535247803
         },
         {
          "i": 164,
          "loss": 0.3030901551246643
         },
         {
          "i": 165,
          "loss": 0.30184581875801086
         },
         {
          "i": 166,
          "loss": 0.3005366623401642
         },
         {
          "i": 167,
          "loss": 0.29915371537208557
         },
         {
          "i": 168,
          "loss": 0.2977941036224365
         },
         {
          "i": 169,
          "loss": 0.29645711183547974
         },
         {
          "i": 170,
          "loss": 0.295142263174057
         },
         {
          "i": 171,
          "loss": 0.29384908080101013
         },
         {
          "i": 172,
          "loss": 0.29257702827453613
         },
         {
          "i": 173,
          "loss": 0.2913256585597992
         },
         {
          "i": 174,
          "loss": 0.2900944948196411
         },
         {
          "i": 175,
          "loss": 0.2888832092285156
         },
         {
          "i": 176,
          "loss": 0.2876168191432953
         },
         {
          "i": 177,
          "loss": 0.2862810790538788
         },
         {
          "i": 178,
          "loss": 0.2849673330783844
         },
         {
          "i": 179,
          "loss": 0.28367510437965393
         },
         {
          "i": 180,
          "loss": 0.2824038565158844
         },
         {
          "i": 181,
          "loss": 0.2811201810836792
         },
         {
          "i": 182,
          "loss": 0.2797175347805023
         },
         {
          "i": 183,
          "loss": 0.27833858132362366
         },
         {
          "i": 184,
          "loss": 0.2769824266433716
         },
         {
          "i": 185,
          "loss": 0.27564847469329834
         },
         {
          "i": 186,
          "loss": 0.274336040019989
         },
         {
          "i": 187,
          "loss": 0.27304449677467346
         },
         {
          "i": 188,
          "loss": 0.2717733085155487
         },
         {
          "i": 189,
          "loss": 0.27052202820777893
         },
         {
          "i": 190,
          "loss": 0.2692820131778717
         },
         {
          "i": 191,
          "loss": 0.26789918541908264
         },
         {
          "i": 192,
          "loss": 0.26653853058815
         },
         {
          "i": 193,
          "loss": 0.26519930362701416
         },
         {
          "i": 194,
          "loss": 0.26388105750083923
         },
         {
          "i": 195,
          "loss": 0.2625831365585327
         },
         {
          "i": 196,
          "loss": 0.26130497455596924
         },
         {
          "i": 197,
          "loss": 0.2600460946559906
         },
         {
          "i": 198,
          "loss": 0.25880569219589233
         },
         {
          "i": 199,
          "loss": 0.2575835883617401
         },
         {
          "i": 200,
          "loss": 0.2563074827194214
         },
         {
          "i": 201,
          "loss": 0.2549549639225006
         },
         {
          "i": 202,
          "loss": 0.2536230981349945
         },
         {
          "i": 203,
          "loss": 0.2523111402988434
         },
         {
          "i": 204,
          "loss": 0.25101861357688904
         },
         {
          "i": 205,
          "loss": 0.2497447431087494
         },
         {
          "i": 206,
          "loss": 0.24848924577236176
         },
         {
          "i": 207,
          "loss": 0.24725155532360077
         },
         {
          "i": 208,
          "loss": 0.2460312396287918
         },
         {
          "i": 209,
          "loss": 0.24482789635658264
         },
         {
          "i": 210,
          "loss": 0.24364112317562103
         },
         {
          "i": 211,
          "loss": 0.24247074127197266
         },
         {
          "i": 212,
          "loss": 0.24131618440151215
         },
         {
          "i": 213,
          "loss": 0.2401772141456604
         },
         {
          "i": 214,
          "loss": 0.23905351758003235
         },
         {
          "i": 215,
          "loss": 0.2378837913274765
         },
         {
          "i": 216,
          "loss": 0.23663854598999023
         },
         {
          "i": 217,
          "loss": 0.23541036248207092
         },
         {
          "i": 218,
          "loss": 0.23419882357120514
         },
         {
          "i": 219,
          "loss": 0.2330034077167511
         },
         {
          "i": 220,
          "loss": 0.23182377219200134
         },
         {
          "i": 221,
          "loss": 0.23065948486328125
         },
         {
          "i": 222,
          "loss": 0.2295103222131729
         },
         {
          "i": 223,
          "loss": 0.2283758670091629
         },
         {
          "i": 224,
          "loss": 0.22725583612918854
         },
         {
          "i": 225,
          "loss": 0.22614996135234833
         },
         {
          "i": 226,
          "loss": 0.2250579297542572
         },
         {
          "i": 227,
          "loss": 0.22397951781749725
         },
         {
          "i": 228,
          "loss": 0.22291448712348938
         },
         {
          "i": 229,
          "loss": 0.22186261415481567
         },
         {
          "i": 230,
          "loss": 0.22082367539405823
         },
         {
          "i": 231,
          "loss": 0.21979738771915436
         },
         {
          "i": 232,
          "loss": 0.21878360211849213
         },
         {
          "i": 233,
          "loss": 0.2177821695804596
         },
         {
          "i": 234,
          "loss": 0.21679283678531647
         },
         {
          "i": 235,
          "loss": 0.21581535041332245
         },
         {
          "i": 236,
          "loss": 0.21484960615634918
         },
         {
          "i": 237,
          "loss": 0.21389544010162354
         },
         {
          "i": 238,
          "loss": 0.21295270323753357
         },
         {
          "i": 239,
          "loss": 0.21202115714550018
         },
         {
          "i": 240,
          "loss": 0.2110949009656906
         },
         {
          "i": 241,
          "loss": 0.21015505492687225
         },
         {
          "i": 242,
          "loss": 0.20917530357837677
         },
         {
          "i": 243,
          "loss": 0.20813803374767303
         },
         {
          "i": 244,
          "loss": 0.20711292326450348
         },
         {
          "i": 245,
          "loss": 0.20609965920448303
         },
         {
          "i": 246,
          "loss": 0.20508307218551636
         },
         {
          "i": 247,
          "loss": 0.20396895706653595
         },
         {
          "i": 248,
          "loss": 0.20286805927753448
         },
         {
          "i": 249,
          "loss": 0.20177800953388214
         },
         {
          "i": 250,
          "loss": 0.20069345831871033
         },
         {
          "i": 251,
          "loss": 0.19962078332901
         },
         {
          "i": 252,
          "loss": 0.19855962693691254
         },
         {
          "i": 253,
          "loss": 0.197509765625
         },
         {
          "i": 254,
          "loss": 0.19647109508514404
         },
         {
          "i": 255,
          "loss": 0.19544333219528198
         },
         {
          "i": 256,
          "loss": 0.1944134384393692
         },
         {
          "i": 257,
          "loss": 0.19337381422519684
         },
         {
          "i": 258,
          "loss": 0.1923450082540512
         },
         {
          "i": 259,
          "loss": 0.19132673740386963
         },
         {
          "i": 260,
          "loss": 0.19030818343162537
         },
         {
          "i": 261,
          "loss": 0.18930000066757202
         },
         {
          "i": 262,
          "loss": 0.18830199539661407
         },
         {
          "i": 263,
          "loss": 0.18731407821178436
         },
         {
          "i": 264,
          "loss": 0.18633604049682617
         },
         {
          "i": 265,
          "loss": 0.18536785244941711
         },
         {
          "i": 266,
          "loss": 0.18440981209278107
         },
         {
          "i": 267,
          "loss": 0.18345125019550323
         },
         {
          "i": 268,
          "loss": 0.1824774593114853
         },
         {
          "i": 269,
          "loss": 0.18151360750198364
         },
         {
          "i": 270,
          "loss": 0.18055954575538635
         },
         {
          "i": 271,
          "loss": 0.17961521446704865
         },
         {
          "i": 272,
          "loss": 0.17868036031723022
         },
         {
          "i": 273,
          "loss": 0.1777549535036087
         },
         {
          "i": 274,
          "loss": 0.1768389195203781
         },
         {
          "i": 275,
          "loss": 0.17593207955360413
         },
         {
          "i": 276,
          "loss": 0.1750343143939972
         },
         {
          "i": 277,
          "loss": 0.17414556443691254
         },
         {
          "i": 278,
          "loss": 0.17326213419437408
         },
         {
          "i": 279,
          "loss": 0.17237982153892517
         },
         {
          "i": 280,
          "loss": 0.17150628566741943
         },
         {
          "i": 281,
          "loss": 0.1706414818763733
         },
         {
          "i": 282,
          "loss": 0.1697853058576584
         },
         {
          "i": 283,
          "loss": 0.16893763840198517
         },
         {
          "i": 284,
          "loss": 0.16809840500354767
         },
         {
          "i": 285,
          "loss": 0.1672377735376358
         },
         {
          "i": 286,
          "loss": 0.1663094013929367
         },
         {
          "i": 287,
          "loss": 0.1653262972831726
         },
         {
          "i": 288,
          "loss": 0.1643524318933487
         },
         {
          "i": 289,
          "loss": 0.16338756680488586
         },
         {
          "i": 290,
          "loss": 0.16243164241313934
         },
         {
          "i": 291,
          "loss": 0.1614842265844345
         },
         {
          "i": 292,
          "loss": 0.16054539382457733
         },
         {
          "i": 293,
          "loss": 0.15961483120918274
         },
         {
          "i": 294,
          "loss": 0.15869247913360596
         },
         {
          "i": 295,
          "loss": 0.15777823328971863
         },
         {
          "i": 296,
          "loss": 0.1568719446659088
         },
         {
          "i": 297,
          "loss": 0.15597251057624817
         },
         {
          "i": 298,
          "loss": 0.15504518151283264
         },
         {
          "i": 299,
          "loss": 0.15412622690200806
         },
         {
          "i": 300,
          "loss": 0.1532154083251953
         },
         {
          "i": 301,
          "loss": 0.15232276916503906
         },
         {
          "i": 302,
          "loss": 0.15145860612392426
         },
         {
          "i": 303,
          "loss": 0.15060245990753174
         },
         {
          "i": 304,
          "loss": 0.14975474774837494
         },
         {
          "i": 305,
          "loss": 0.14890651404857635
         },
         {
          "i": 306,
          "loss": 0.14803533256053925
         },
         {
          "i": 307,
          "loss": 0.1471719592809677
         },
         {
          "i": 308,
          "loss": 0.14631637930870056
         },
         {
          "i": 309,
          "loss": 0.14545349776744843
         },
         {
          "i": 310,
          "loss": 0.14457370340824127
         },
         {
          "i": 311,
          "loss": 0.14370140433311462
         },
         {
          "i": 312,
          "loss": 0.14283716678619385
         },
         {
          "i": 313,
          "loss": 0.1419808566570282
         },
         {
          "i": 314,
          "loss": 0.14113233983516693
         },
         {
          "i": 315,
          "loss": 0.1402915120124817
         },
         {
          "i": 316,
          "loss": 0.13945768773555756
         },
         {
          "i": 317,
          "loss": 0.13858991861343384
         },
         {
          "i": 318,
          "loss": 0.1377304494380951
         },
         {
          "i": 319,
          "loss": 0.13687945902347565
         },
         {
          "i": 320,
          "loss": 0.13603807985782623
         },
         {
          "i": 321,
          "loss": 0.1352025717496872
         },
         {
          "i": 322,
          "loss": 0.13437491655349731
         },
         {
          "i": 323,
          "loss": 0.13355499505996704
         },
         {
          "i": 324,
          "loss": 0.13274268805980682
         },
         {
          "i": 325,
          "loss": 0.1319378763437271
         },
         {
          "i": 326,
          "loss": 0.1311405599117279
         },
         {
          "i": 327,
          "loss": 0.1303509920835495
         },
         {
          "i": 328,
          "loss": 0.1295686960220337
         },
         {
          "i": 329,
          "loss": 0.1287935972213745
         },
         {
          "i": 330,
          "loss": 0.12802556157112122
         },
         {
          "i": 331,
          "loss": 0.1272662878036499
         },
         {
          "i": 332,
          "loss": 0.12651236355304718
         },
         {
          "i": 333,
          "loss": 0.12576301395893097
         },
         {
          "i": 334,
          "loss": 0.12501260638237
         },
         {
          "i": 335,
          "loss": 0.12426907569169998
         },
         {
          "i": 336,
          "loss": 0.12353229522705078
         },
         {
          "i": 337,
          "loss": 0.12280218303203583
         },
         {
          "i": 338,
          "loss": 0.12207870185375214
         },
         {
          "i": 339,
          "loss": 0.12136177718639374
         },
         {
          "i": 340,
          "loss": 0.12065131962299347
         },
         {
          "i": 341,
          "loss": 0.11994726955890656
         },
         {
          "i": 342,
          "loss": 0.11924957484006882
         },
         {
          "i": 343,
          "loss": 0.11855809390544891
         },
         {
          "i": 344,
          "loss": 0.11787287890911102
         },
         {
          "i": 345,
          "loss": 0.11719374358654022
         },
         {
          "i": 346,
          "loss": 0.11652114242315292
         },
         {
          "i": 347,
          "loss": 0.11587310582399368
         },
         {
          "i": 348,
          "loss": 0.11525841057300568
         },
         {
          "i": 349,
          "loss": 0.11461928486824036
         },
         {
          "i": 350,
          "loss": 0.11400242894887924
         },
         {
          "i": 351,
          "loss": 0.11342507600784302
         },
         {
          "i": 352,
          "loss": 0.11285271495580673
         },
         {
          "i": 353,
          "loss": 0.11228514462709427
         },
         {
          "i": 354,
          "loss": 0.11172223836183548
         },
         {
          "i": 355,
          "loss": 0.11116399616003036
         },
         {
          "i": 356,
          "loss": 0.11061010509729385
         },
         {
          "i": 357,
          "loss": 0.11006063222885132
         },
         {
          "i": 358,
          "loss": 0.10951542109251022
         },
         {
          "i": 359,
          "loss": 0.10897442698478699
         },
         {
          "i": 360,
          "loss": 0.10843758285045624
         },
         {
          "i": 361,
          "loss": 0.10790473967790604
         },
         {
          "i": 362,
          "loss": 0.10737589746713638
         },
         {
          "i": 363,
          "loss": 0.10685104131698608
         },
         {
          "i": 364,
          "loss": 0.1063300222158432
         },
         {
          "i": 365,
          "loss": 0.10581276565790176
         },
         {
          "i": 366,
          "loss": 0.10529933124780655
         },
         {
          "i": 367,
          "loss": 0.10478959232568741
         },
         {
          "i": 368,
          "loss": 0.10428349673748016
         },
         {
          "i": 369,
          "loss": 0.10378100723028183
         },
         {
          "i": 370,
          "loss": 0.1032821461558342
         },
         {
          "i": 371,
          "loss": 0.10278671234846115
         },
         {
          "i": 372,
          "loss": 0.10229481756687164
         },
         {
          "i": 373,
          "loss": 0.10180634260177612
         },
         {
          "i": 374,
          "loss": 0.10132129490375519
         },
         {
          "i": 375,
          "loss": 0.10083957761526108
         },
         {
          "i": 376,
          "loss": 0.1003512293100357
         },
         {
          "i": 377,
          "loss": 0.09984813630580902
         },
         {
          "i": 378,
          "loss": 0.09934884309768677
         },
         {
          "i": 379,
          "loss": 0.09885318577289581
         },
         {
          "i": 380,
          "loss": 0.09836143255233765
         },
         {
          "i": 381,
          "loss": 0.09787344187498093
         },
         {
          "i": 382,
          "loss": 0.09738856554031372
         },
         {
          "i": 383,
          "loss": 0.09690717607736588
         },
         {
          "i": 384,
          "loss": 0.09642931073904037
         },
         {
          "i": 385,
          "loss": 0.09595480561256409
         },
         {
          "i": 386,
          "loss": 0.09548363834619522
         },
         {
          "i": 387,
          "loss": 0.09501583129167557
         },
         {
          "i": 388,
          "loss": 0.09454235434532166
         },
         {
          "i": 389,
          "loss": 0.09405377507209778
         },
         {
          "i": 390,
          "loss": 0.09356890618801117
         },
         {
          "i": 391,
          "loss": 0.09308762848377228
         },
         {
          "i": 392,
          "loss": 0.09261000901460648
         },
         {
          "i": 393,
          "loss": 0.09213586896657944
         },
         {
          "i": 394,
          "loss": 0.09166524559259415
         },
         {
          "i": 395,
          "loss": 0.09119811654090881
         },
         {
          "i": 396,
          "loss": 0.09073431044816971
         },
         {
          "i": 397,
          "loss": 0.09027396142482758
         },
         {
          "i": 398,
          "loss": 0.08981688320636749
         },
         {
          "i": 399,
          "loss": 0.08936312049627304
         },
         {
          "i": 400,
          "loss": 0.08891261368989944
         },
         {
          "i": 401,
          "loss": 0.08846531063318253
         },
         {
          "i": 402,
          "loss": 0.08802120387554169
         },
         {
          "i": 403,
          "loss": 0.08758024871349335
         },
         {
          "i": 404,
          "loss": 0.08714237809181213
         },
         {
          "i": 405,
          "loss": 0.08670774102210999
         },
         {
          "i": 406,
          "loss": 0.08627663552761078
         },
         {
          "i": 407,
          "loss": 0.08584795147180557
         },
         {
          "i": 408,
          "loss": 0.08542224764823914
         },
         {
          "i": 409,
          "loss": 0.08499952405691147
         },
         {
          "i": 410,
          "loss": 0.08457967638969421
         },
         {
          "i": 411,
          "loss": 0.08416275680065155
         },
         {
          "i": 412,
          "loss": 0.08374874293804169
         },
         {
          "i": 413,
          "loss": 0.08333754539489746
         },
         {
          "i": 414,
          "loss": 0.08292920887470245
         },
         {
          "i": 415,
          "loss": 0.08252360671758652
         },
         {
          "i": 416,
          "loss": 0.08212082087993622
         },
         {
          "i": 417,
          "loss": 0.08172076940536499
         },
         {
          "i": 418,
          "loss": 0.08132342994213104
         },
         {
          "i": 419,
          "loss": 0.08092879503965378
         },
         {
          "i": 420,
          "loss": 0.08053683489561081
         },
         {
          "i": 421,
          "loss": 0.08014750480651855
         },
         {
          "i": 422,
          "loss": 0.07976081967353821
         },
         {
          "i": 423,
          "loss": 0.079376719892025
         },
         {
          "i": 424,
          "loss": 0.0789952203631401
         },
         {
          "i": 425,
          "loss": 0.07861621677875519
         },
         {
          "i": 426,
          "loss": 0.07823983579874039
         },
         {
          "i": 427,
          "loss": 0.07786590605974197
         },
         {
          "i": 428,
          "loss": 0.07749468088150024
         },
         {
          "i": 429,
          "loss": 0.07712620496749878
         },
         {
          "i": 430,
          "loss": 0.07675972580909729
         },
         {
          "i": 431,
          "loss": 0.07639569044113159
         },
         {
          "i": 432,
          "loss": 0.0760340616106987
         },
         {
          "i": 433,
          "loss": 0.07567484676837921
         },
         {
          "i": 434,
          "loss": 0.07531794905662537
         },
         {
          "i": 435,
          "loss": 0.07496344298124313
         },
         {
          "i": 436,
          "loss": 0.07461131364107132
         },
         {
          "i": 437,
          "loss": 0.07426150888204575
         },
         {
          "i": 438,
          "loss": 0.07391399890184402
         },
         {
          "i": 439,
          "loss": 0.07356876879930496
         },
         {
          "i": 440,
          "loss": 0.07322584837675095
         },
         {
          "i": 441,
          "loss": 0.07288512587547302
         },
         {
          "i": 442,
          "loss": 0.07254670560359955
         },
         {
          "i": 443,
          "loss": 0.07221045345067978
         },
         {
          "i": 444,
          "loss": 0.07187643647193909
         },
         {
          "i": 445,
          "loss": 0.07154461741447449
         },
         {
          "i": 446,
          "loss": 0.07121496647596359
         },
         {
          "i": 447,
          "loss": 0.07088746875524521
         },
         {
          "i": 448,
          "loss": 0.07056212425231934
         },
         {
          "i": 449,
          "loss": 0.0702388733625412
         },
         {
          "i": 450,
          "loss": 0.06991779059171677
         },
         {
          "i": 451,
          "loss": 0.0696544349193573
         },
         {
          "i": 452,
          "loss": 0.06945215910673141
         },
         {
          "i": 453,
          "loss": 0.06925901770591736
         },
         {
          "i": 454,
          "loss": 0.06907235831022263
         },
         {
          "i": 455,
          "loss": 0.06889121234416962
         },
         {
          "i": 456,
          "loss": 0.06871466338634491
         },
         {
          "i": 457,
          "loss": 0.0685579776763916
         },
         {
          "i": 458,
          "loss": 0.06840085238218307
         },
         {
          "i": 459,
          "loss": 0.068240687251091
         },
         {
          "i": 460,
          "loss": 0.06807909905910492
         },
         {
          "i": 461,
          "loss": 0.06795147061347961
         },
         {
          "i": 462,
          "loss": 0.06780102103948593
         },
         {
          "i": 463,
          "loss": 0.0676509365439415
         },
         {
          "i": 464,
          "loss": 0.06753434240818024
         },
         {
          "i": 465,
          "loss": 0.06738396733999252
         },
         {
          "i": 466,
          "loss": 0.0672653391957283
         },
         {
          "i": 467,
          "loss": 0.06712863594293594
         },
         {
          "i": 468,
          "loss": 0.06700555980205536
         },
         {
          "i": 469,
          "loss": 0.06687856465578079
         },
         {
          "i": 470,
          "loss": 0.06675807386636734
         },
         {
          "i": 471,
          "loss": 0.06663259863853455
         },
         {
          "i": 472,
          "loss": 0.06652004271745682
         },
         {
          "i": 473,
          "loss": 0.06638974696397781
         },
         {
          "i": 474,
          "loss": 0.06629075855016708
         },
         {
          "i": 475,
          "loss": 0.06615833938121796
         },
         {
          "i": 476,
          "loss": 0.06605149060487747
         },
         {
          "i": 477,
          "loss": 0.06591949611902237
         },
         {
          "i": 478,
          "loss": 0.0657845288515091
         },
         {
          "i": 479,
          "loss": 0.06567838788032532
         },
         {
          "i": 480,
          "loss": 0.06554108113050461
         },
         {
          "i": 481,
          "loss": 0.06541813164949417
         },
         {
          "i": 482,
          "loss": 0.06530758738517761
         },
         {
          "i": 483,
          "loss": 0.06517601013183594
         },
         {
          "i": 484,
          "loss": 0.06505540758371353
         },
         {
          "i": 485,
          "loss": 0.06494899094104767
         },
         {
          "i": 486,
          "loss": 0.06482087075710297
         },
         {
          "i": 487,
          "loss": 0.06469707190990448
         },
         {
          "i": 488,
          "loss": 0.06459838151931763
         },
         {
          "i": 489,
          "loss": 0.06447622179985046
         },
         {
          "i": 490,
          "loss": 0.06435485184192657
         },
         {
          "i": 491,
          "loss": 0.064241424202919
         },
         {
          "i": 492,
          "loss": 0.06413905322551727
         },
         {
          "i": 493,
          "loss": 0.06401791423559189
         },
         {
          "i": 494,
          "loss": 0.06390153616666794
         },
         {
          "i": 495,
          "loss": 0.06379403918981552
         },
         {
          "i": 496,
          "loss": 0.06369057297706604
         },
         {
          "i": 497,
          "loss": 0.06357316672801971
         },
         {
          "i": 498,
          "loss": 0.06345991790294647
         },
         {
          "i": 499,
          "loss": 0.06335167586803436
         }
        ]
       },
       "encoding": {
        "x": {
         "field": "i",
         "type": "quantitative"
        },
        "y": {
         "field": "loss",
         "type": "quantitative"
        }
       },
       "height": 100,
       "mark": "line"
      },
      "image/png": "[encoded data removed]",
      "text/plain": [
       "<VegaLite 3 object>\n",
       "\n",
       "If you see this message, it means the renderer has not been properly enabled\n",
       "for the frontend that you are using. For more information, see\n",
       "https://altair-viz.github.io/user_guide/troubleshooting.html\n"
      ]
     },
     "execution_count": 477,
     "metadata": {},
     "output_type": "execute_result"
    }
   ],
   "source": [
    "loss_df = pd.DataFrame({'i':range(500), 'loss':loss_record})\n",
    "alt.Chart(loss_df, height=100).mark_line().encode(x='i', y='loss')"
   ]
  },
  {
   "cell_type": "code",
   "execution_count": 478,
   "metadata": {},
   "outputs": [
    {
     "data": {
      "application/vnd.vegalite.v3+json": {
       "$schema": "https://vega.github.io/schema/vega-lite/v3.4.0.json",
       "config": {
        "mark": {
         "tooltip": null
        },
        "view": {
         "height": 300,
         "width": 400
        }
       },
       "data": {
        "name": "data-4f7a4928f4ab93800fd5b2bea50b6fde"
       },
       "datasets": {
        "data-4f7a4928f4ab93800fd5b2bea50b6fde": [
         {
          "x1": 1.0292792320251465,
          "y": 1.0594156980514526,
          "ŷ": 1.382694959640503
         },
         {
          "x1": 0.3599083125591278,
          "y": 0.12953399121761322,
          "ŷ": -0.05229222774505615
         },
         {
          "x1": -0.5574687719345093,
          "y": 0.3107714354991913,
          "ŷ": 0.32758450508117676
         },
         {
          "x1": -0.5682265758514404,
          "y": 0.32288143038749695,
          "ŷ": 0.3422205448150635
         },
         {
          "x1": -1.0591601133346558,
          "y": 1.121820092201233,
          "ŷ": 1.2763066291809082
         },
         {
          "x1": 1.2294938564300537,
          "y": 1.5116550922393799,
          "ŷ": 1.8657474517822266
         },
         {
          "x1": -0.6161450743675232,
          "y": 0.3796347379684448,
          "ŷ": 0.40741443634033203
         },
         {
          "x1": -0.5266348719596863,
          "y": 0.277344286441803,
          "ŷ": 0.28563451766967773
         },
         {
          "x1": 1.1915243864059448,
          "y": 1.419730305671692,
          "ŷ": 1.7741395235061646
         },
         {
          "x1": -1.7817763090133667,
          "y": 3.174726724624634,
          "ŷ": 3.0177690982818604
         },
         {
          "x1": -1.319872260093689,
          "y": 1.7420628070831299,
          "ŷ": 1.9015429019927979
         },
         {
          "x1": -0.0358341783285141,
          "y": 0.0012840883573517203,
          "ŷ": -0.12364792823791504
         },
         {
          "x1": 0.2920267879962921,
          "y": 0.08527964353561401,
          "ŷ": -0.06453192234039307
         },
         {
          "x1": -0.8524404764175415,
          "y": 0.7266547679901123,
          "ŷ": 0.8350529670715332
         },
         {
          "x1": 0.7167415022850037,
          "y": 0.5137183666229248,
          "ŷ": 0.6272584795951843
         },
         {
          "x1": 0.7138287425041199,
          "y": 0.509551465511322,
          "ŷ": 0.6201929450035095
         },
         {
          "x1": 0.9796762466430664,
          "y": 0.9597655534744263,
          "ŷ": 1.26301908493042
         },
         {
          "x1": 0.8565634489059448,
          "y": 0.7337009310722351,
          "ŷ": 0.965988039970398
         },
         {
          "x1": 0.2502174377441406,
          "y": 0.0626087635755539,
          "ŷ": -0.07207047939300537
         },
         {
          "x1": 0.8053727746009827,
          "y": 0.6486253142356873,
          "ŷ": 0.8422620296478271
         },
         {
          "x1": 0.45548489689826965,
          "y": 0.2074664980173111,
          "ŷ": -0.006502747535705566
         },
         {
          "x1": 1.1347978115081787,
          "y": 1.2877660989761353,
          "ŷ": 1.6372767686843872
         },
         {
          "x1": -1.7238696813583374,
          "y": 2.971726655960083,
          "ŷ": 2.8778326511383057
         },
         {
          "x1": -0.3485734164714813,
          "y": 0.12150342762470245,
          "ŷ": 0.05948042869567871
         },
         {
          "x1": -1.494368553161621,
          "y": 2.233137369155884,
          "ŷ": 2.3232262134552
         },
         {
          "x1": -0.6549271941184998,
          "y": 0.4289296269416809,
          "ŷ": 0.4601781368255615
         },
         {
          "x1": -0.8213096857070923,
          "y": 0.6745495796203613,
          "ŷ": 0.7686026096343994
         },
         {
          "x1": -0.4908483624458313,
          "y": 0.24093212187290192,
          "ŷ": 0.23694682121276855
         },
         {
          "x1": 0.5087504982948303,
          "y": 0.2588270604610443,
          "ŷ": 0.1227102279663086
         },
         {
          "x1": -0.618256688117981,
          "y": 0.3822413384914398,
          "ŷ": 0.41028738021850586
         },
         {
          "x1": -0.6713542342185974,
          "y": 0.450716495513916,
          "ŷ": 0.4825267791748047
         },
         {
          "x1": 0.4276825785636902,
          "y": 0.18291239440441132,
          "ŷ": -0.040072083473205566
         },
         {
          "x1": 0.5901530385017395,
          "y": 0.3482806086540222,
          "ŷ": 0.3201777935028076
         },
         {
          "x1": 1.0188179016113281,
          "y": 1.0379899740219116,
          "ŷ": 1.3574550151824951
         },
         {
          "x1": 1.1704034805297852,
          "y": 1.3698443174362183,
          "ŷ": 1.7231817245483398
         },
         {
          "x1": 0.2639525234699249,
          "y": 0.06967093795537949,
          "ŷ": -0.06959390640258789
         },
         {
          "x1": -0.8164236545562744,
          "y": 0.6665475964546204,
          "ŷ": 0.7581732273101807
         },
         {
          "x1": 0.6239911913871765,
          "y": 0.389365017414093,
          "ŷ": 0.40226316452026367
         },
         {
          "x1": -2.255476951599121,
          "y": 5.087176322937012,
          "ŷ": 4.162502288818359
         },
         {
          "x1": -1.2689284086227417,
          "y": 1.6101793050765991,
          "ŷ": 1.7784335613250732
         },
         {
          "x1": 0.24240423738956451,
          "y": 0.058759815990924835,
          "ŷ": -0.07347941398620605
         },
         {
          "x1": -0.348042756319046,
          "y": 0.12113375961780548,
          "ŷ": 0.05889105796813965
         },
         {
          "x1": 2.441641330718994,
          "y": 5.961612224578857,
          "ŷ": 4.79001522064209
         },
         {
          "x1": 1.9725502729415894,
          "y": 3.8909544944763184,
          "ŷ": 3.6585001945495605
         },
         {
          "x1": -0.013906084932386875,
          "y": 0.00019337919366080314,
          "ŷ": -0.11969423294067383
         },
         {
          "x1": -0.3584429919719696,
          "y": 0.12848137319087982,
          "ŷ": 0.07044005393981934
         },
         {
          "x1": -0.39703568816185,
          "y": 0.1576373428106308,
          "ŷ": 0.1132972240447998
         },
         {
          "x1": 1.3342030048370361,
          "y": 1.7800976037979126,
          "ŷ": 2.1183764934539795
         },
         {
          "x1": -0.3555164635181427,
          "y": 0.1263919621706009,
          "ŷ": 0.06719064712524414
         },
         {
          "x1": 0.7377228140830994,
          "y": 0.5442349314689636,
          "ŷ": 0.6781554818153381
         },
         {
          "x1": -0.5422530770301819,
          "y": 0.2940383851528168,
          "ŷ": 0.3068833351135254
         },
         {
          "x1": 1.9869624376296997,
          "y": 3.9480197429656982,
          "ŷ": 3.693272113800049
         },
         {
          "x1": 0.3490488529205322,
          "y": 0.12183510512113571,
          "ŷ": -0.054250240325927734
         },
         {
          "x1": 0.7647438645362854,
          "y": 0.5848332047462463,
          "ŷ": 0.7437038421630859
         },
         {
          "x1": 0.7352599501609802,
          "y": 0.540607213973999,
          "ŷ": 0.6721811890602112
         },
         {
          "x1": 0.6821872591972351,
          "y": 0.4653794467449188,
          "ŷ": 0.5434362888336182
         },
         {
          "x1": 0.08545012772083282,
          "y": 0.007301724515855312,
          "ŷ": -0.10177922248840332
         },
         {
          "x1": 1.6633191108703613,
          "y": 2.7666304111480713,
          "ŷ": 2.912426471710205
         },
         {
          "x1": 0.01720828004181385,
          "y": 0.0002961248974315822,
          "ŷ": -0.11408400535583496
         },
         {
          "x1": 0.7583229541778564,
          "y": 0.5750536918640137,
          "ŷ": 0.7281278371810913
         },
         {
          "x1": -0.0833469107747078,
          "y": 0.006946707610040903,
          "ŷ": -0.13221514225006104
         },
         {
          "x1": 1.6561644077301025,
          "y": 2.7428805828094482,
          "ŷ": 2.8951644897460938
         },
         {
          "x1": 1.268709421157837,
          "y": 1.6096235513687134,
          "ŷ": 1.9603618383407593
         },
         {
          "x1": 0.32368943095207214,
          "y": 0.1047748476266861,
          "ŷ": -0.0588228702545166
         },
         {
          "x1": -0.5964518785476685,
          "y": 0.3557548522949219,
          "ŷ": 0.38062143325805664
         },
         {
          "x1": -1.1917896270751953,
          "y": 1.4203624725341797,
          "ŷ": 1.5920219421386719
         },
         {
          "x1": 0.9809187650680542,
          "y": 0.9622015953063965,
          "ŷ": 1.2660168409347534
         },
         {
          "x1": -0.1955835223197937,
          "y": 0.03825291246175766,
          "ŷ": -0.1104128360748291
         },
         {
          "x1": -0.5957688689231873,
          "y": 0.3549405336380005,
          "ŷ": 0.37969255447387695
         },
         {
          "x1": 0.6106539368629456,
          "y": 0.3728982210159302,
          "ŷ": 0.36990928649902344
         },
         {
          "x1": -1.0370460748672485,
          "y": 1.0754646062850952,
          "ŷ": 1.229102373123169
         },
         {
          "x1": -1.2355694770812988,
          "y": 1.5266319513320923,
          "ŷ": 1.6978192329406738
         },
         {
          "x1": -1.0562974214553833,
          "y": 1.1157642602920532,
          "ŷ": 1.270195484161377
         },
         {
          "x1": 0.7372961640357971,
          "y": 0.543605625629425,
          "ŷ": 0.6771204471588135
         },
         {
          "x1": -0.19343151152133942,
          "y": 0.037415750324726105,
          "ŷ": -0.11280274391174316
         },
         {
          "x1": 0.46797314286231995,
          "y": 0.21899886429309845,
          "ŷ": 0.02379155158996582
         },
         {
          "x1": 0.11627177894115448,
          "y": 0.013519126921892166,
          "ŷ": -0.096221923828125
         },
         {
          "x1": 0.2741285562515259,
          "y": 0.07514646649360657,
          "ŷ": -0.06775903701782227
         },
         {
          "x1": 0.8892202973365784,
          "y": 0.7907127141952515,
          "ŷ": 1.0447783470153809
         },
         {
          "x1": 0.2841859757900238,
          "y": 0.08076167106628418,
          "ŷ": -0.06594550609588623
         },
         {
          "x1": -1.5089374780654907,
          "y": 2.2768924236297607,
          "ŷ": 2.358433485031128
         },
         {
          "x1": 0.19038818776607513,
          "y": 0.03624766319990158,
          "ŷ": -0.08285808563232422
         },
         {
          "x1": 1.451344609260559,
          "y": 2.106401205062866,
          "ŷ": 2.4010009765625
         },
         {
          "x1": -0.8203871250152588,
          "y": 0.6730350255966187,
          "ŷ": 0.7666335105895996
         },
         {
          "x1": -1.1253453493118286,
          "y": 1.2664021253585815,
          "ŷ": 1.4314539432525635
         },
         {
          "x1": 2.4365737438201904,
          "y": 5.936891555786133,
          "ŷ": 4.7780375480651855
         },
         {
          "x1": -1.504658579826355,
          "y": 2.2639975547790527,
          "ŷ": 2.348093271255493
         },
         {
          "x1": 0.015109162777662277,
          "y": 0.00022828679357189685,
          "ŷ": -0.11446237564086914
         },
         {
          "x1": 0.2807963490486145,
          "y": 0.07884658873081207,
          "ŷ": -0.06655693054199219
         },
         {
          "x1": -0.5583868622779846,
          "y": 0.3117958903312683,
          "ŷ": 0.32883405685424805
         },
         {
          "x1": -0.41592058539390564,
          "y": 0.17298993468284607,
          "ŷ": 0.13500642776489258
         },
         {
          "x1": 0.8516591191291809,
          "y": 0.7253232598304749,
          "ŷ": 0.9541555643081665
         },
         {
          "x1": -0.7563151121139526,
          "y": 0.5720125436782837,
          "ŷ": 0.629868745803833
         },
         {
          "x1": -1.592321515083313,
          "y": 2.5354878902435303,
          "ŷ": 2.5599372386932373
         },
         {
          "x1": -0.8645771741867065,
          "y": 0.7474936842918396,
          "ŷ": 0.860959529876709
         },
         {
          "x1": 1.472259521484375,
          "y": 2.167548179626465,
          "ŷ": 2.4514617919921875
         },
         {
          "x1": 0.23265957832336426,
          "y": 0.05413047969341278,
          "ŷ": -0.07523632049560547
         },
         {
          "x1": -0.9184117913246155,
          "y": 0.8434802293777466,
          "ŷ": 0.9758720397949219
         },
         {
          "x1": -0.021099507808685303,
          "y": 0.0004451892164070159,
          "ŷ": -0.12099134922027588
         },
         {
          "x1": -1.2307413816452026,
          "y": 1.5147243738174438,
          "ŷ": 1.6861515045166016
         }
        ]
       },
       "layer": [
        {
         "encoding": {
          "x": {
           "field": "x1",
           "type": "quantitative"
          },
          "y": {
           "field": "ŷ",
           "type": "quantitative"
          }
         },
         "mark": "line"
        },
        {
         "encoding": {
          "x": {
           "field": "x1",
           "type": "quantitative"
          },
          "y": {
           "field": "y",
           "type": "quantitative"
          }
         },
         "mark": "point"
        }
       ]
      },
      "image/png": "[encoded data removed]",
      "text/plain": [
       "<VegaLite 3 object>\n",
       "\n",
       "If you see this message, it means the renderer has not been properly enabled\n",
       "for the frontend that you are using. For more information, see\n",
       "https://altair-viz.github.io/user_guide/troubleshooting.html\n"
      ]
     },
     "execution_count": 478,
     "metadata": {},
     "output_type": "execute_result"
    }
   ],
   "source": [
    "preds = pd.DataFrame({'ŷ':ŷ.detach().numpy()[:,0], 'y':y[:,0], 'x1':x[:,0]})\n",
    "(alt.Chart(preds).mark_line().encode(x='x1', y='ŷ') + \n",
    "alt.Chart(preds).mark_point().encode(x='x1', y='y'))"
   ]
  },
  {
   "cell_type": "markdown",
   "metadata": {},
   "source": [
    "And now the loss is lower and the fit is clearly much improved. "
   ]
  },
  {
   "cell_type": "markdown",
   "metadata": {
    "tags": [
     "popout"
    ]
   },
   "source": [
    "---\n",
    "**EXERCISE** \n",
    "\n",
    "Plot $z_1$ vs $x$. Repeat for each $z_j$. What do you see? \n",
    "    \n",
    "Now make plots of each $z_j$ vs. $y$. Is the relationship between each $z_j$ and $y$ closer to linear than the relationship between $x$ and $y$? Does this explain why the linear regression $\\hat y = \\alpha_{1:h} z + \\alpha_0$ produces a better fit than the linear regression $\\hat y = \\beta_{1:p} x + \\beta_0$?\n",
    "\n",
    "---"
   ]
  },
  {
   "cell_type": "markdown",
   "metadata": {
    "tags": [
     "popout"
    ]
   },
   "source": [
    "**EXERCISE** \n",
    "\n",
    "Change the value of $h$ in the code above so that hidden layer has size 3 instead of 10. How does that change the fit? What if you set $h=100$? \n",
    "\n",
    "---"
   ]
  },
  {
   "cell_type": "markdown",
   "metadata": {
    "tags": [
     "popout"
    ]
   },
   "source": [
    "**EXERCISE** \n",
    "\n",
    "When fitting linear models, it's a common practice to break continuous variables up into categories. For instance, let's say we're predicting someone's weight based on their age. Instead of modeling $\\text{weight} = \\beta_0 + \\beta_1 \\times \\text{age}$, we could break age up into 10 categories (say: age < 10 years, 10 < age < 20,... 90 < age) and fit our model using those categories as predictors instead. Basically, we have a set of regions $A = \\{(0,10],(10,20],\\dots (90,\\infty]\\}$ and our new variables are $z_j = I_{A_j}(x)$ where $I_{A_j}$ is the indicator function that returns 1 if $x \\in A_j$ and 0 otherwise. Now we're modeling $\\text{weight} = \\alpha_0 + \\alpha_1 z_1 + \\dots \\alpha_{10} z_{10}$ instead of $\\text{weight} = \\beta_0 + \\beta_1 \\times \\text{age}$.\n",
    "    \n",
    "Considering a population including both adults and children, do you think the relationship between age and weight will be linear? What will that mean if we try to fit the model $\\text{weight} = \\beta_0 + \\beta_1 \\times \\text{age}$?\n",
    "    \n",
    "How is this problem addressed by transforming $x$ into 10 new predictors $z_j$ using the indicator functions? What is the relationship between any $z_j$ and $y$?\n",
    "    \n",
    "How does this relate to our neural networks?\n",
    "    \n",
    "----"
   ]
  },
  {
   "cell_type": "markdown",
   "metadata": {},
   "source": [
    "## Conclusion"
   ]
  },
  {
   "cell_type": "markdown",
   "metadata": {},
   "source": [
    "We saw how we can get a nonlinear fit out of stacking linear models and nonlinear activation functions together."
   ]
  },
  {
   "cell_type": "markdown",
   "metadata": {},
   "source": [
    "# Abstracting the \"Layer\""
   ]
  },
  {
   "cell_type": "markdown",
   "metadata": {},
   "source": [
    "Since we'll be stacking layers of arbitrary size arbitrarily deep, we might as well abstract away some of the code we need so we don't have to keep track of all the parameters in the model."
   ]
  },
  {
   "cell_type": "markdown",
   "metadata": {},
   "source": [
    "We'll first define a `LinearLayer` class that transforms a representation of size `h1` to one of size `h2`."
   ]
  },
  {
   "cell_type": "code",
   "execution_count": 415,
   "metadata": {},
   "outputs": [],
   "source": [
    "class LinearLayer():\n",
    "    def __init__(self, h1, h2):\n",
    "        self.W = torch.randn(h1,h2).requires_grad_()\n",
    "        self.b = torch.randn(1,h2).requires_grad_()\n",
    "    \n",
    "    def __call__(self, x):\n",
    "        return torch.matmul(x, self.W) + self.b\n",
    "    \n",
    "    def step(self, ϵ):\n",
    "        with torch.no_grad():\n",
    "            self.W -= ϵ * self.W.grad\n",
    "            self.b -= ϵ * self.b.grad\n",
    "            self.W.grad.zero_()        \n",
    "            self.b.grad.zero_()"
   ]
  },
  {
   "cell_type": "markdown",
   "metadata": {},
   "source": [
    "And now we can stack up as many of these as we want, of whatever sizes we want"
   ]
  },
  {
   "cell_type": "code",
   "execution_count": 416,
   "metadata": {},
   "outputs": [],
   "source": [
    "from torch.nn.functional import relu\n",
    "\n",
    "class Model():\n",
    "    def __init__(self, sizes):\n",
    "        self.layers = [LinearLayer(h1,h2) for h1, h2 in zip(sizes[:-1], sizes[1:])]\n",
    "        self.activation = relu\n",
    "    \n",
    "    def __call__(self,x):\n",
    "        for layer in self.layers[:-1]:\n",
    "            x = self.activation(layer(x))\n",
    "        return self.layers[-1](x)\n",
    "    \n",
    "    def step(self,ϵ):\n",
    "        for layer in self.layers:\n",
    "            layer.step(ϵ)"
   ]
  },
  {
   "cell_type": "markdown",
   "metadata": {},
   "source": [
    "check it out:"
   ]
  },
  {
   "cell_type": "code",
   "execution_count": 417,
   "metadata": {},
   "outputs": [],
   "source": [
    "n= 100\n",
    "p = 1\n",
    "\n",
    "x = torch.randn(n, p) # predictors (n observations, p features)\n",
    "y = (x[:,0]**2).unsqueeze(dim=1) # outcomes (n observations)\n",
    "\n",
    "my_model = Model([1,10,10,1])\n",
    "L = torch.sum((y - my_model(x))**2)/n"
   ]
  },
  {
   "cell_type": "code",
   "execution_count": 418,
   "metadata": {
    "tags": [
     "popout",
     "hide_input"
    ]
   },
   "outputs": [
    {
     "data": {
      "image/svg+xml": [
       "<?xml version=\"1.0\" encoding=\"UTF-8\" standalone=\"no\"?>\n",
       "<!DOCTYPE svg PUBLIC \"-//W3C//DTD SVG 1.1//EN\"\n",
       " \"http://www.w3.org/Graphics/SVG/1.1/DTD/svg11.dtd\">\n",
       "<!-- Generated by graphviz version 2.43.0 (0)\n",
       " -->\n",
       "<!-- Title: %3 Pages: 1 -->\n",
       "<svg width=\"342pt\" height=\"772pt\"\n",
       " viewBox=\"0.00 0.00 342.32 772.00\" xmlns=\"http://www.w3.org/2000/svg\" xmlns:xlink=\"http://www.w3.org/1999/xlink\">\n",
       "<g id=\"graph0\" class=\"graph\" transform=\"scale(1 1) rotate(0) translate(4 768)\">\n",
       "<title>%3</title>\n",
       "<polygon fill=\"white\" stroke=\"transparent\" points=\"-4,4 -4,-768 338.32,-768 338.32,4 -4,4\"/>\n",
       "<!-- 5032136464 -->\n",
       "<g id=\"node1\" class=\"node\">\n",
       "<title>5032136464</title>\n",
       "<polygon fill=\"#caff70\" stroke=\"black\" points=\"307.47,-20 219.18,-20 219.18,0 307.47,0 307.47,-20\"/>\n",
       "<text text-anchor=\"middle\" x=\"263.32\" y=\"-6.4\" font-family=\"Times,serif\" font-size=\"12.00\">DivBackward0</text>\n",
       "</g>\n",
       "<!-- 5032218704 -->\n",
       "<g id=\"node2\" class=\"node\">\n",
       "<title>5032218704</title>\n",
       "<polygon fill=\"lightgrey\" stroke=\"black\" points=\"309.48,-76 217.17,-76 217.17,-56 309.48,-56 309.48,-76\"/>\n",
       "<text text-anchor=\"middle\" x=\"263.32\" y=\"-62.4\" font-family=\"Times,serif\" font-size=\"12.00\">SumBackward0</text>\n",
       "</g>\n",
       "<!-- 5032218704&#45;&gt;5032136464 -->\n",
       "<g id=\"edge1\" class=\"edge\">\n",
       "<title>5032218704&#45;&gt;5032136464</title>\n",
       "<path fill=\"none\" stroke=\"black\" d=\"M263.32,-55.59C263.32,-48.7 263.32,-39.1 263.32,-30.57\"/>\n",
       "<polygon fill=\"black\" stroke=\"black\" points=\"266.82,-30.3 263.32,-20.3 259.82,-30.3 266.82,-30.3\"/>\n",
       "</g>\n",
       "<!-- 5032218832 -->\n",
       "<g id=\"node3\" class=\"node\">\n",
       "<title>5032218832</title>\n",
       "<polygon fill=\"lightgrey\" stroke=\"black\" points=\"309.31,-132 217.34,-132 217.34,-112 309.31,-112 309.31,-132\"/>\n",
       "<text text-anchor=\"middle\" x=\"263.32\" y=\"-118.4\" font-family=\"Times,serif\" font-size=\"12.00\">PowBackward0</text>\n",
       "</g>\n",
       "<!-- 5032218832&#45;&gt;5032218704 -->\n",
       "<g id=\"edge2\" class=\"edge\">\n",
       "<title>5032218832&#45;&gt;5032218704</title>\n",
       "<path fill=\"none\" stroke=\"black\" d=\"M263.32,-111.59C263.32,-104.7 263.32,-95.1 263.32,-86.57\"/>\n",
       "<polygon fill=\"black\" stroke=\"black\" points=\"266.82,-86.3 263.32,-76.3 259.82,-86.3 266.82,-86.3\"/>\n",
       "</g>\n",
       "<!-- 5032218960 -->\n",
       "<g id=\"node4\" class=\"node\">\n",
       "<title>5032218960</title>\n",
       "<polygon fill=\"lightgrey\" stroke=\"black\" points=\"308.14,-188 218.51,-188 218.51,-168 308.14,-168 308.14,-188\"/>\n",
       "<text text-anchor=\"middle\" x=\"263.32\" y=\"-174.4\" font-family=\"Times,serif\" font-size=\"12.00\">SubBackward0</text>\n",
       "</g>\n",
       "<!-- 5032218960&#45;&gt;5032218832 -->\n",
       "<g id=\"edge3\" class=\"edge\">\n",
       "<title>5032218960&#45;&gt;5032218832</title>\n",
       "<path fill=\"none\" stroke=\"black\" d=\"M263.32,-167.59C263.32,-160.7 263.32,-151.1 263.32,-142.57\"/>\n",
       "<polygon fill=\"black\" stroke=\"black\" points=\"266.82,-142.3 263.32,-132.3 259.82,-142.3 266.82,-142.3\"/>\n",
       "</g>\n",
       "<!-- 5032219152 -->\n",
       "<g id=\"node5\" class=\"node\">\n",
       "<title>5032219152</title>\n",
       "<polygon fill=\"lightgrey\" stroke=\"black\" points=\"309.14,-244 217.51,-244 217.51,-224 309.14,-224 309.14,-244\"/>\n",
       "<text text-anchor=\"middle\" x=\"263.32\" y=\"-230.4\" font-family=\"Times,serif\" font-size=\"12.00\">AddBackward0</text>\n",
       "</g>\n",
       "<!-- 5032219152&#45;&gt;5032218960 -->\n",
       "<g id=\"edge4\" class=\"edge\">\n",
       "<title>5032219152&#45;&gt;5032218960</title>\n",
       "<path fill=\"none\" stroke=\"black\" d=\"M263.32,-223.59C263.32,-216.7 263.32,-207.1 263.32,-198.57\"/>\n",
       "<polygon fill=\"black\" stroke=\"black\" points=\"266.82,-198.3 263.32,-188.3 259.82,-198.3 266.82,-198.3\"/>\n",
       "</g>\n",
       "<!-- 5032219280 -->\n",
       "<g id=\"node6\" class=\"node\">\n",
       "<title>5032219280</title>\n",
       "<polygon fill=\"lightgrey\" stroke=\"black\" points=\"262.47,-306 178.18,-306 178.18,-286 262.47,-286 262.47,-306\"/>\n",
       "<text text-anchor=\"middle\" x=\"220.32\" y=\"-292.4\" font-family=\"Times,serif\" font-size=\"12.00\">MmBackward</text>\n",
       "</g>\n",
       "<!-- 5032219280&#45;&gt;5032219152 -->\n",
       "<g id=\"edge5\" class=\"edge\">\n",
       "<title>5032219280&#45;&gt;5032219152</title>\n",
       "<path fill=\"none\" stroke=\"black\" d=\"M226.85,-285.89C233.17,-277.08 242.9,-263.5 250.73,-252.58\"/>\n",
       "<polygon fill=\"black\" stroke=\"black\" points=\"253.75,-254.37 256.73,-244.2 248.06,-250.29 253.75,-254.37\"/>\n",
       "</g>\n",
       "<!-- 5032219408 -->\n",
       "<g id=\"node7\" class=\"node\">\n",
       "<title>5032219408</title>\n",
       "<polygon fill=\"lightgrey\" stroke=\"black\" points=\"221.13,-374 127.52,-374 127.52,-354 221.13,-354 221.13,-374\"/>\n",
       "<text text-anchor=\"middle\" x=\"174.32\" y=\"-360.4\" font-family=\"Times,serif\" font-size=\"12.00\">ReluBackward0</text>\n",
       "</g>\n",
       "<!-- 5032219408&#45;&gt;5032219280 -->\n",
       "<g id=\"edge6\" class=\"edge\">\n",
       "<title>5032219408&#45;&gt;5032219280</title>\n",
       "<path fill=\"none\" stroke=\"black\" d=\"M180.72,-353.82C187.79,-343.68 199.35,-327.1 208.16,-314.46\"/>\n",
       "<polygon fill=\"black\" stroke=\"black\" points=\"211.14,-316.3 213.98,-306.1 205.39,-312.3 211.14,-316.3\"/>\n",
       "</g>\n",
       "<!-- 5032219600 -->\n",
       "<g id=\"node8\" class=\"node\">\n",
       "<title>5032219600</title>\n",
       "<polygon fill=\"lightgrey\" stroke=\"black\" points=\"220.14,-436 128.51,-436 128.51,-416 220.14,-416 220.14,-436\"/>\n",
       "<text text-anchor=\"middle\" x=\"174.32\" y=\"-422.4\" font-family=\"Times,serif\" font-size=\"12.00\">AddBackward0</text>\n",
       "</g>\n",
       "<!-- 5032219600&#45;&gt;5032219408 -->\n",
       "<g id=\"edge7\" class=\"edge\">\n",
       "<title>5032219600&#45;&gt;5032219408</title>\n",
       "<path fill=\"none\" stroke=\"black\" d=\"M174.32,-415.89C174.32,-407.52 174.32,-394.84 174.32,-384.23\"/>\n",
       "<polygon fill=\"black\" stroke=\"black\" points=\"177.82,-384.2 174.32,-374.2 170.82,-384.2 177.82,-384.2\"/>\n",
       "</g>\n",
       "<!-- 5032219728 -->\n",
       "<g id=\"node9\" class=\"node\">\n",
       "<title>5032219728</title>\n",
       "<polygon fill=\"lightgrey\" stroke=\"black\" points=\"173.47,-498 89.18,-498 89.18,-478 173.47,-478 173.47,-498\"/>\n",
       "<text text-anchor=\"middle\" x=\"131.32\" y=\"-484.4\" font-family=\"Times,serif\" font-size=\"12.00\">MmBackward</text>\n",
       "</g>\n",
       "<!-- 5032219728&#45;&gt;5032219600 -->\n",
       "<g id=\"edge8\" class=\"edge\">\n",
       "<title>5032219728&#45;&gt;5032219600</title>\n",
       "<path fill=\"none\" stroke=\"black\" d=\"M137.85,-477.89C144.17,-469.08 153.9,-455.5 161.73,-444.58\"/>\n",
       "<polygon fill=\"black\" stroke=\"black\" points=\"164.75,-446.37 167.73,-436.2 159.06,-442.29 164.75,-446.37\"/>\n",
       "</g>\n",
       "<!-- 5032219920 -->\n",
       "<g id=\"node10\" class=\"node\">\n",
       "<title>5032219920</title>\n",
       "<polygon fill=\"lightgrey\" stroke=\"black\" points=\"132.13,-566 38.52,-566 38.52,-546 132.13,-546 132.13,-566\"/>\n",
       "<text text-anchor=\"middle\" x=\"85.32\" y=\"-552.4\" font-family=\"Times,serif\" font-size=\"12.00\">ReluBackward0</text>\n",
       "</g>\n",
       "<!-- 5032219920&#45;&gt;5032219728 -->\n",
       "<g id=\"edge9\" class=\"edge\">\n",
       "<title>5032219920&#45;&gt;5032219728</title>\n",
       "<path fill=\"none\" stroke=\"black\" d=\"M91.72,-545.82C98.79,-535.68 110.35,-519.1 119.16,-506.46\"/>\n",
       "<polygon fill=\"black\" stroke=\"black\" points=\"122.14,-508.3 124.98,-498.1 116.39,-504.3 122.14,-508.3\"/>\n",
       "</g>\n",
       "<!-- 5032220112 -->\n",
       "<g id=\"node11\" class=\"node\">\n",
       "<title>5032220112</title>\n",
       "<polygon fill=\"lightgrey\" stroke=\"black\" points=\"131.14,-628 39.51,-628 39.51,-608 131.14,-608 131.14,-628\"/>\n",
       "<text text-anchor=\"middle\" x=\"85.32\" y=\"-614.4\" font-family=\"Times,serif\" font-size=\"12.00\">AddBackward0</text>\n",
       "</g>\n",
       "<!-- 5032220112&#45;&gt;5032219920 -->\n",
       "<g id=\"edge10\" class=\"edge\">\n",
       "<title>5032220112&#45;&gt;5032219920</title>\n",
       "<path fill=\"none\" stroke=\"black\" d=\"M85.32,-607.89C85.32,-599.52 85.32,-586.84 85.32,-576.23\"/>\n",
       "<polygon fill=\"black\" stroke=\"black\" points=\"88.82,-576.2 85.32,-566.2 81.82,-576.2 88.82,-576.2\"/>\n",
       "</g>\n",
       "<!-- 5032220240 -->\n",
       "<g id=\"node12\" class=\"node\">\n",
       "<title>5032220240</title>\n",
       "<polygon fill=\"lightgrey\" stroke=\"black\" points=\"84.47,-690 0.18,-690 0.18,-670 84.47,-670 84.47,-690\"/>\n",
       "<text text-anchor=\"middle\" x=\"42.32\" y=\"-676.4\" font-family=\"Times,serif\" font-size=\"12.00\">MmBackward</text>\n",
       "</g>\n",
       "<!-- 5032220240&#45;&gt;5032220112 -->\n",
       "<g id=\"edge11\" class=\"edge\">\n",
       "<title>5032220240&#45;&gt;5032220112</title>\n",
       "<path fill=\"none\" stroke=\"black\" d=\"M48.85,-669.89C55.17,-661.08 64.9,-647.5 72.73,-636.58\"/>\n",
       "<polygon fill=\"black\" stroke=\"black\" points=\"75.75,-638.37 78.73,-628.2 70.06,-634.29 75.75,-638.37\"/>\n",
       "</g>\n",
       "<!-- 5032220432 -->\n",
       "<g id=\"node13\" class=\"node\">\n",
       "<title>5032220432</title>\n",
       "<polygon fill=\"lightblue\" stroke=\"black\" points=\"69.32,-764 15.32,-764 15.32,-732 69.32,-732 69.32,-764\"/>\n",
       "<text text-anchor=\"middle\" x=\"42.32\" y=\"-750.4\" font-family=\"Times,serif\" font-size=\"12.00\">W0</text>\n",
       "<text text-anchor=\"middle\" x=\"42.32\" y=\"-738.4\" font-family=\"Times,serif\" font-size=\"12.00\"> (1, 10)</text>\n",
       "</g>\n",
       "<!-- 5032220432&#45;&gt;5032220240 -->\n",
       "<g id=\"edge12\" class=\"edge\">\n",
       "<title>5032220432&#45;&gt;5032220240</title>\n",
       "<path fill=\"none\" stroke=\"black\" d=\"M42.32,-731.69C42.32,-722.4 42.32,-710.44 42.32,-700.47\"/>\n",
       "<polygon fill=\"black\" stroke=\"black\" points=\"45.82,-700.32 42.32,-690.32 38.82,-700.32 45.82,-700.32\"/>\n",
       "</g>\n",
       "<!-- 5032220304 -->\n",
       "<g id=\"node14\" class=\"node\">\n",
       "<title>5032220304</title>\n",
       "<polygon fill=\"lightblue\" stroke=\"black\" points=\"156.32,-696 102.32,-696 102.32,-664 156.32,-664 156.32,-696\"/>\n",
       "<text text-anchor=\"middle\" x=\"129.32\" y=\"-682.4\" font-family=\"Times,serif\" font-size=\"12.00\">b0</text>\n",
       "<text text-anchor=\"middle\" x=\"129.32\" y=\"-670.4\" font-family=\"Times,serif\" font-size=\"12.00\"> (1, 10)</text>\n",
       "</g>\n",
       "<!-- 5032220304&#45;&gt;5032220112 -->\n",
       "<g id=\"edge13\" class=\"edge\">\n",
       "<title>5032220304&#45;&gt;5032220112</title>\n",
       "<path fill=\"none\" stroke=\"black\" d=\"M118.22,-663.86C112.1,-655.51 104.47,-645.11 98.1,-636.42\"/>\n",
       "<polygon fill=\"black\" stroke=\"black\" points=\"100.77,-634.15 92.04,-628.15 95.13,-638.29 100.77,-634.15\"/>\n",
       "</g>\n",
       "<!-- 5032219984 -->\n",
       "<g id=\"node15\" class=\"node\">\n",
       "<title>5032219984</title>\n",
       "<polygon fill=\"lightblue\" stroke=\"black\" points=\"206.82,-572 149.83,-572 149.83,-540 206.82,-540 206.82,-572\"/>\n",
       "<text text-anchor=\"middle\" x=\"178.32\" y=\"-558.4\" font-family=\"Times,serif\" font-size=\"12.00\">W1</text>\n",
       "<text text-anchor=\"middle\" x=\"178.32\" y=\"-546.4\" font-family=\"Times,serif\" font-size=\"12.00\"> (10, 10)</text>\n",
       "</g>\n",
       "<!-- 5032219984&#45;&gt;5032219728 -->\n",
       "<g id=\"edge14\" class=\"edge\">\n",
       "<title>5032219984&#45;&gt;5032219728</title>\n",
       "<path fill=\"none\" stroke=\"black\" d=\"M167.42,-539.69C160.38,-529.8 151.18,-516.89 143.84,-506.57\"/>\n",
       "<polygon fill=\"black\" stroke=\"black\" points=\"146.61,-504.43 137.96,-498.32 140.91,-508.49 146.61,-504.43\"/>\n",
       "</g>\n",
       "<!-- 5032219792 -->\n",
       "<g id=\"node16\" class=\"node\">\n",
       "<title>5032219792</title>\n",
       "<polygon fill=\"lightblue\" stroke=\"black\" points=\"245.32,-504 191.32,-504 191.32,-472 245.32,-472 245.32,-504\"/>\n",
       "<text text-anchor=\"middle\" x=\"218.32\" y=\"-490.4\" font-family=\"Times,serif\" font-size=\"12.00\">b1</text>\n",
       "<text text-anchor=\"middle\" x=\"218.32\" y=\"-478.4\" font-family=\"Times,serif\" font-size=\"12.00\"> (1, 10)</text>\n",
       "</g>\n",
       "<!-- 5032219792&#45;&gt;5032219600 -->\n",
       "<g id=\"edge15\" class=\"edge\">\n",
       "<title>5032219792&#45;&gt;5032219600</title>\n",
       "<path fill=\"none\" stroke=\"black\" d=\"M207.22,-471.86C201.1,-463.51 193.47,-453.11 187.1,-444.42\"/>\n",
       "<polygon fill=\"black\" stroke=\"black\" points=\"189.77,-442.15 181.04,-436.15 184.13,-446.29 189.77,-442.15\"/>\n",
       "</g>\n",
       "<!-- 5032219472 -->\n",
       "<g id=\"node17\" class=\"node\">\n",
       "<title>5032219472</title>\n",
       "<polygon fill=\"lightblue\" stroke=\"black\" points=\"293.32,-380 239.32,-380 239.32,-348 293.32,-348 293.32,-380\"/>\n",
       "<text text-anchor=\"middle\" x=\"266.32\" y=\"-366.4\" font-family=\"Times,serif\" font-size=\"12.00\">W2</text>\n",
       "<text text-anchor=\"middle\" x=\"266.32\" y=\"-354.4\" font-family=\"Times,serif\" font-size=\"12.00\"> (10, 1)</text>\n",
       "</g>\n",
       "<!-- 5032219472&#45;&gt;5032219280 -->\n",
       "<g id=\"edge16\" class=\"edge\">\n",
       "<title>5032219472&#45;&gt;5032219280</title>\n",
       "<path fill=\"none\" stroke=\"black\" d=\"M255.66,-347.69C248.76,-337.8 239.76,-324.89 232.57,-314.57\"/>\n",
       "<polygon fill=\"black\" stroke=\"black\" points=\"235.41,-312.52 226.82,-306.32 229.66,-316.52 235.41,-312.52\"/>\n",
       "</g>\n",
       "<!-- 5032219344 -->\n",
       "<g id=\"node18\" class=\"node\">\n",
       "<title>5032219344</title>\n",
       "<polygon fill=\"lightblue\" stroke=\"black\" points=\"334.32,-312 280.32,-312 280.32,-280 334.32,-280 334.32,-312\"/>\n",
       "<text text-anchor=\"middle\" x=\"307.32\" y=\"-298.4\" font-family=\"Times,serif\" font-size=\"12.00\">b2</text>\n",
       "<text text-anchor=\"middle\" x=\"307.32\" y=\"-286.4\" font-family=\"Times,serif\" font-size=\"12.00\"> (1, 1)</text>\n",
       "</g>\n",
       "<!-- 5032219344&#45;&gt;5032219152 -->\n",
       "<g id=\"edge17\" class=\"edge\">\n",
       "<title>5032219344&#45;&gt;5032219152</title>\n",
       "<path fill=\"none\" stroke=\"black\" d=\"M296.22,-279.86C290.1,-271.51 282.47,-261.11 276.1,-252.42\"/>\n",
       "<polygon fill=\"black\" stroke=\"black\" points=\"278.77,-250.15 270.04,-244.15 273.13,-254.29 278.77,-250.15\"/>\n",
       "</g>\n",
       "</g>\n",
       "</svg>\n"
      ],
      "text/plain": [
       "<graphviz.dot.Digraph at 0x12bf16f90>"
      ]
     },
     "execution_count": 418,
     "metadata": {},
     "output_type": "execute_result"
    }
   ],
   "source": [
    "Ws = {f'W{k}':layer.W for k,layer in enumerate(my_model.layers)}\n",
    "bs = {f'b{k}':layer.b for k,layer in enumerate(my_model.layers)}\n",
    "make_dot(L, {**Ws, **bs})"
   ]
  },
  {
   "cell_type": "code",
   "execution_count": 419,
   "metadata": {},
   "outputs": [],
   "source": [
    "n_steps = 1000\n",
    "ϵ = 1*10e-4\n",
    "loss_record = []\n",
    "\n",
    "for e in range(n_steps):\n",
    "    ŷ = my_model(x) \n",
    "    L = torch.sum((y-ŷ)**2)/len(ŷ)\n",
    "    \n",
    "    loss_record.append(L.item())\n",
    "    L.backward()\n",
    "    \n",
    "    my_model.step(ϵ)"
   ]
  },
  {
   "cell_type": "code",
   "execution_count": 420,
   "metadata": {},
   "outputs": [
    {
     "data": {
      "application/vnd.vegalite.v3+json": {
       "$schema": "https://vega.github.io/schema/vega-lite/v3.4.0.json",
       "config": {
        "mark": {
         "tooltip": null
        },
        "view": {
         "height": 300,
         "width": 400
        }
       },
       "data": {
        "name": "data-2b5506bfd775acf110d01f303b02a8b1"
       },
       "datasets": {
        "data-2b5506bfd775acf110d01f303b02a8b1": [
         {
          "i": 0,
          "loss": 153.7054443359375
         },
         {
          "i": 1,
          "loss": 98.80099487304688
         },
         {
          "i": 2,
          "loss": 68.92577362060547
         },
         {
          "i": 3,
          "loss": 50.3587532043457
         },
         {
          "i": 4,
          "loss": 37.82374572753906
         },
         {
          "i": 5,
          "loss": 28.909957885742188
         },
         {
          "i": 6,
          "loss": 22.392465591430664
         },
         {
          "i": 7,
          "loss": 17.550193786621094
         },
         {
          "i": 8,
          "loss": 13.88992691040039
         },
         {
          "i": 9,
          "loss": 11.104991912841797
         },
         {
          "i": 10,
          "loss": 8.948919296264648
         },
         {
          "i": 11,
          "loss": 7.2626447677612305
         },
         {
          "i": 12,
          "loss": 5.9384965896606445
         },
         {
          "i": 13,
          "loss": 4.894953727722168
         },
         {
          "i": 14,
          "loss": 4.067892074584961
         },
         {
          "i": 15,
          "loss": 3.410588026046753
         },
         {
          "i": 16,
          "loss": 2.8865184783935547
         },
         {
          "i": 17,
          "loss": 2.466860294342041
         },
         {
          "i": 18,
          "loss": 2.1295363903045654
         },
         {
          "i": 19,
          "loss": 1.8576463460922241
         },
         {
          "i": 20,
          "loss": 1.6379077434539795
         },
         {
          "i": 21,
          "loss": 1.4601609706878662
         },
         {
          "i": 22,
          "loss": 1.3152726888656616
         },
         {
          "i": 23,
          "loss": 1.1934082508087158
         },
         {
          "i": 24,
          "loss": 1.0912261009216309
         },
         {
          "i": 25,
          "loss": 1.0059459209442139
         },
         {
          "i": 26,
          "loss": 0.933243989944458
         },
         {
          "i": 27,
          "loss": 0.8723788261413574
         },
         {
          "i": 28,
          "loss": 0.8197444081306458
         },
         {
          "i": 29,
          "loss": 0.7728070020675659
         },
         {
          "i": 30,
          "loss": 0.7331352233886719
         },
         {
          "i": 31,
          "loss": 0.6985005140304565
         },
         {
          "i": 32,
          "loss": 0.6678257584571838
         },
         {
          "i": 33,
          "loss": 0.6403113603591919
         },
         {
          "i": 34,
          "loss": 0.6158620715141296
         },
         {
          "i": 35,
          "loss": 0.5939805507659912
         },
         {
          "i": 36,
          "loss": 0.573615550994873
         },
         {
          "i": 37,
          "loss": 0.5549311637878418
         },
         {
          "i": 38,
          "loss": 0.5380235314369202
         },
         {
          "i": 39,
          "loss": 0.5226449370384216
         },
         {
          "i": 40,
          "loss": 0.508578896522522
         },
         {
          "i": 41,
          "loss": 0.49560442566871643
         },
         {
          "i": 42,
          "loss": 0.4835731089115143
         },
         {
          "i": 43,
          "loss": 0.47226542234420776
         },
         {
          "i": 44,
          "loss": 0.4616869390010834
         },
         {
          "i": 45,
          "loss": 0.451803594827652
         },
         {
          "i": 46,
          "loss": 0.4425427317619324
         },
         {
          "i": 47,
          "loss": 0.4338417053222656
         },
         {
          "i": 48,
          "loss": 0.4256478250026703
         },
         {
          "i": 49,
          "loss": 0.4179062247276306
         },
         {
          "i": 50,
          "loss": 0.41053706407546997
         },
         {
          "i": 51,
          "loss": 0.4035530984401703
         },
         {
          "i": 52,
          "loss": 0.3968851566314697
         },
         {
          "i": 53,
          "loss": 0.39055100083351135
         },
         {
          "i": 54,
          "loss": 0.38452595472335815
         },
         {
          "i": 55,
          "loss": 0.37878769636154175
         },
         {
          "i": 56,
          "loss": 0.37329840660095215
         },
         {
          "i": 57,
          "loss": 0.3680197596549988
         },
         {
          "i": 58,
          "loss": 0.3629820942878723
         },
         {
          "i": 59,
          "loss": 0.35817041993141174
         },
         {
          "i": 60,
          "loss": 0.3535619378089905
         },
         {
          "i": 61,
          "loss": 0.3491320013999939
         },
         {
          "i": 62,
          "loss": 0.3448866903781891
         },
         {
          "i": 63,
          "loss": 0.3408247232437134
         },
         {
          "i": 64,
          "loss": 0.33693382143974304
         },
         {
          "i": 65,
          "loss": 0.33320853114128113
         },
         {
          "i": 66,
          "loss": 0.3296383023262024
         },
         {
          "i": 67,
          "loss": 0.32621467113494873
         },
         {
          "i": 68,
          "loss": 0.32292860746383667
         },
         {
          "i": 69,
          "loss": 0.3197673559188843
         },
         {
          "i": 70,
          "loss": 0.3167014718055725
         },
         {
          "i": 71,
          "loss": 0.31375133991241455
         },
         {
          "i": 72,
          "loss": 0.3109109103679657
         },
         {
          "i": 73,
          "loss": 0.30817484855651855
         },
         {
          "i": 74,
          "loss": 0.30553996562957764
         },
         {
          "i": 75,
          "loss": 0.3029980957508087
         },
         {
          "i": 76,
          "loss": 0.30054375529289246
         },
         {
          "i": 77,
          "loss": 0.298172265291214
         },
         {
          "i": 78,
          "loss": 0.2958790957927704
         },
         {
          "i": 79,
          "loss": 0.29366010427474976
         },
         {
          "i": 80,
          "loss": 0.29151061177253723
         },
         {
          "i": 81,
          "loss": 0.2894274592399597
         },
         {
          "i": 82,
          "loss": 0.28740569949150085
         },
         {
          "i": 83,
          "loss": 0.28544333577156067
         },
         {
          "i": 84,
          "loss": 0.2835371494293213
         },
         {
          "i": 85,
          "loss": 0.2816859185695648
         },
         {
          "i": 86,
          "loss": 0.27988746762275696
         },
         {
          "i": 87,
          "loss": 0.27813655138015747
         },
         {
          "i": 88,
          "loss": 0.27643144130706787
         },
         {
          "i": 89,
          "loss": 0.27476733922958374
         },
         {
          "i": 90,
          "loss": 0.2731029987335205
         },
         {
          "i": 91,
          "loss": 0.27148041129112244
         },
         {
          "i": 92,
          "loss": 0.26989680528640747
         },
         {
          "i": 93,
          "loss": 0.26834961771965027
         },
         {
          "i": 94,
          "loss": 0.2668383717536926
         },
         {
          "i": 95,
          "loss": 0.26536041498184204
         },
         {
          "i": 96,
          "loss": 0.26391229033470154
         },
         {
          "i": 97,
          "loss": 0.26247090101242065
         },
         {
          "i": 98,
          "loss": 0.26105886697769165
         },
         {
          "i": 99,
          "loss": 0.2596747577190399
         },
         {
          "i": 100,
          "loss": 0.25831735134124756
         },
         {
          "i": 101,
          "loss": 0.2569855749607086
         },
         {
          "i": 102,
          "loss": 0.2556785047054291
         },
         {
          "i": 103,
          "loss": 0.2543943524360657
         },
         {
          "i": 104,
          "loss": 0.25313258171081543
         },
         {
          "i": 105,
          "loss": 0.25189223885536194
         },
         {
          "i": 106,
          "loss": 0.2506721019744873
         },
         {
          "i": 107,
          "loss": 0.24947158992290497
         },
         {
          "i": 108,
          "loss": 0.24828983843326569
         },
         {
          "i": 109,
          "loss": 0.2471257597208023
         },
         {
          "i": 110,
          "loss": 0.24597923457622528
         },
         {
          "i": 111,
          "loss": 0.24484924972057343
         },
         {
          "i": 112,
          "loss": 0.24373474717140198
         },
         {
          "i": 113,
          "loss": 0.24263568222522736
         },
         {
          "i": 114,
          "loss": 0.24155138432979584
         },
         {
          "i": 115,
          "loss": 0.2404811531305313
         },
         {
          "i": 116,
          "loss": 0.23942440748214722
         },
         {
          "i": 117,
          "loss": 0.2383808195590973
         },
         {
          "i": 118,
          "loss": 0.23732642829418182
         },
         {
          "i": 119,
          "loss": 0.2362286001443863
         },
         {
          "i": 120,
          "loss": 0.23507572710514069
         },
         {
          "i": 121,
          "loss": 0.2339421808719635
         },
         {
          "i": 122,
          "loss": 0.23282596468925476
         },
         {
          "i": 123,
          "loss": 0.2317267805337906
         },
         {
          "i": 124,
          "loss": 0.23065078258514404
         },
         {
          "i": 125,
          "loss": 0.22958925366401672
         },
         {
          "i": 126,
          "loss": 0.22854088246822357
         },
         {
          "i": 127,
          "loss": 0.22750693559646606
         },
         {
          "i": 128,
          "loss": 0.2264859825372696
         },
         {
          "i": 129,
          "loss": 0.22547626495361328
         },
         {
          "i": 130,
          "loss": 0.22446750104427338
         },
         {
          "i": 131,
          "loss": 0.22340813279151917
         },
         {
          "i": 132,
          "loss": 0.2223629504442215
         },
         {
          "i": 133,
          "loss": 0.22133058309555054
         },
         {
          "i": 134,
          "loss": 0.22031040489673615
         },
         {
          "i": 135,
          "loss": 0.21930184960365295
         },
         {
          "i": 136,
          "loss": 0.21830302476882935
         },
         {
          "i": 137,
          "loss": 0.21731197834014893
         },
         {
          "i": 138,
          "loss": 0.21633148193359375
         },
         {
          "i": 139,
          "loss": 0.2153608351945877
         },
         {
          "i": 140,
          "loss": 0.2143995612859726
         },
         {
          "i": 141,
          "loss": 0.21344739198684692
         },
         {
          "i": 142,
          "loss": 0.2125043421983719
         },
         {
          "i": 143,
          "loss": 0.21156959235668182
         },
         {
          "i": 144,
          "loss": 0.21062099933624268
         },
         {
          "i": 145,
          "loss": 0.20964811742305756
         },
         {
          "i": 146,
          "loss": 0.20866937935352325
         },
         {
          "i": 147,
          "loss": 0.20765802264213562
         },
         {
          "i": 148,
          "loss": 0.20665904879570007
         },
         {
          "i": 149,
          "loss": 0.2056719809770584
         },
         {
          "i": 150,
          "loss": 0.20469637215137482
         },
         {
          "i": 151,
          "loss": 0.2037312090396881
         },
         {
          "i": 152,
          "loss": 0.2027762234210968
         },
         {
          "i": 153,
          "loss": 0.2018309086561203
         },
         {
          "i": 154,
          "loss": 0.20089492201805115
         },
         {
          "i": 155,
          "loss": 0.19996801018714905
         },
         {
          "i": 156,
          "loss": 0.1990392655134201
         },
         {
          "i": 157,
          "loss": 0.1980864703655243
         },
         {
          "i": 158,
          "loss": 0.197144016623497
         },
         {
          "i": 159,
          "loss": 0.19621269404888153
         },
         {
          "i": 160,
          "loss": 0.19529110193252563
         },
         {
          "i": 161,
          "loss": 0.19437843561172485
         },
         {
          "i": 162,
          "loss": 0.19347423315048218
         },
         {
          "i": 163,
          "loss": 0.19257867336273193
         },
         {
          "i": 164,
          "loss": 0.1916913539171219
         },
         {
          "i": 165,
          "loss": 0.19081178307533264
         },
         {
          "i": 166,
          "loss": 0.18993893265724182
         },
         {
          "i": 167,
          "loss": 0.1890503317117691
         },
         {
          "i": 168,
          "loss": 0.18817538022994995
         },
         {
          "i": 169,
          "loss": 0.187306210398674
         },
         {
          "i": 170,
          "loss": 0.18644209206104279
         },
         {
          "i": 171,
          "loss": 0.18563148379325867
         },
         {
          "i": 172,
          "loss": 0.18482837080955505
         },
         {
          "i": 173,
          "loss": 0.1839791238307953
         },
         {
          "i": 174,
          "loss": 0.18316958844661713
         },
         {
          "i": 175,
          "loss": 0.18235695362091064
         },
         {
          "i": 176,
          "loss": 0.1815098524093628
         },
         {
          "i": 177,
          "loss": 0.18074196577072144
         },
         {
          "i": 178,
          "loss": 0.17993509769439697
         },
         {
          "i": 179,
          "loss": 0.1791110783815384
         },
         {
          "i": 180,
          "loss": 0.17838172614574432
         },
         {
          "i": 181,
          "loss": 0.1775771677494049
         },
         {
          "i": 182,
          "loss": 0.1767861396074295
         },
         {
          "i": 183,
          "loss": 0.1760694533586502
         },
         {
          "i": 184,
          "loss": 0.17527800798416138
         },
         {
          "i": 185,
          "loss": 0.17452561855316162
         },
         {
          "i": 186,
          "loss": 0.17380699515342712
         },
         {
          "i": 187,
          "loss": 0.17303410172462463
         },
         {
          "i": 188,
          "loss": 0.17231984436511993
         },
         {
          "i": 189,
          "loss": 0.17159831523895264
         },
         {
          "i": 190,
          "loss": 0.17084331810474396
         },
         {
          "i": 191,
          "loss": 0.17016661167144775
         },
         {
          "i": 192,
          "loss": 0.16944099962711334
         },
         {
          "i": 193,
          "loss": 0.1687057912349701
         },
         {
          "i": 194,
          "loss": 0.1680605262517929
         },
         {
          "i": 195,
          "loss": 0.16733311116695404
         },
         {
          "i": 196,
          "loss": 0.16663524508476257
         },
         {
          "i": 197,
          "loss": 0.16598419845104218
         },
         {
          "i": 198,
          "loss": 0.16527263820171356
         },
         {
          "i": 199,
          "loss": 0.16461162269115448
         },
         {
          "i": 200,
          "loss": 0.16395416855812073
         },
         {
          "i": 201,
          "loss": 0.16325820982456207
         },
         {
          "i": 202,
          "loss": 0.16263307631015778
         },
         {
          "i": 203,
          "loss": 0.16196893155574799
         },
         {
          "i": 204,
          "loss": 0.1612878292798996
         },
         {
          "i": 205,
          "loss": 0.1606978178024292
         },
         {
          "i": 206,
          "loss": 0.16002635657787323
         },
         {
          "i": 207,
          "loss": 0.1593809574842453
         },
         {
          "i": 208,
          "loss": 0.1587861031293869
         },
         {
          "i": 209,
          "loss": 0.15813083946704865
         },
         {
          "i": 210,
          "loss": 0.1575218141078949
         },
         {
          "i": 211,
          "loss": 0.15691928565502167
         },
         {
          "i": 212,
          "loss": 0.15627767145633698
         },
         {
          "i": 213,
          "loss": 0.155702605843544
         },
         {
          "i": 214,
          "loss": 0.15509212017059326
         },
         {
          "i": 215,
          "loss": 0.1544637680053711
         },
         {
          "i": 216,
          "loss": 0.15392135083675385
         },
         {
          "i": 217,
          "loss": 0.1533014178276062
         },
         {
          "i": 218,
          "loss": 0.15270419418811798
         },
         {
          "i": 219,
          "loss": 0.15215401351451874
         },
         {
          "i": 220,
          "loss": 0.1515452265739441
         },
         {
          "i": 221,
          "loss": 0.15098139643669128
         },
         {
          "i": 222,
          "loss": 0.15042203664779663
         },
         {
          "i": 223,
          "loss": 0.14982540905475616
         },
         {
          "i": 224,
          "loss": 0.14929409325122833
         },
         {
          "i": 225,
          "loss": 0.14872556924819946
         },
         {
          "i": 226,
          "loss": 0.14814229309558868
         },
         {
          "i": 227,
          "loss": 0.14764092862606049
         },
         {
          "i": 228,
          "loss": 0.14706416428089142
         },
         {
          "i": 229,
          "loss": 0.1465124487876892
         },
         {
          "i": 230,
          "loss": 0.14600184559822083
         },
         {
          "i": 231,
          "loss": 0.14543668925762177
         },
         {
          "i": 232,
          "loss": 0.14491599798202515
         },
         {
          "i": 233,
          "loss": 0.14439624547958374
         },
         {
          "i": 234,
          "loss": 0.1438424438238144
         },
         {
          "i": 235,
          "loss": 0.14335159957408905
         },
         {
          "i": 236,
          "loss": 0.14282327890396118
         },
         {
          "i": 237,
          "loss": 0.1422814577817917
         },
         {
          "i": 238,
          "loss": 0.14181789755821228
         },
         {
          "i": 239,
          "loss": 0.14128227531909943
         },
         {
          "i": 240,
          "loss": 0.14076946675777435
         },
         {
          "i": 241,
          "loss": 0.14029723405838013
         },
         {
          "i": 242,
          "loss": 0.13977210223674774
         },
         {
          "i": 243,
          "loss": 0.1392875611782074
         },
         {
          "i": 244,
          "loss": 0.13880716264247894
         },
         {
          "i": 245,
          "loss": 0.1382923722267151
         },
         {
          "i": 246,
          "loss": 0.13783515989780426
         },
         {
          "i": 247,
          "loss": 0.13734686374664307
         },
         {
          "i": 248,
          "loss": 0.13684211671352386
         },
         {
          "i": 249,
          "loss": 0.13641120493412018
         },
         {
          "i": 250,
          "loss": 0.1359158754348755
         },
         {
          "i": 251,
          "loss": 0.1354348212480545
         },
         {
          "i": 252,
          "loss": 0.13500170409679413
         },
         {
          "i": 253,
          "loss": 0.1345132440328598
         },
         {
          "i": 254,
          "loss": 0.1340605765581131
         },
         {
          "i": 255,
          "loss": 0.13362330198287964
         },
         {
          "i": 256,
          "loss": 0.13314701616764069
         },
         {
          "i": 257,
          "loss": 0.13271860778331757
         },
         {
          "i": 258,
          "loss": 0.1322745829820633
         },
         {
          "i": 259,
          "loss": 0.13180772960186005
         },
         {
          "i": 260,
          "loss": 0.1314031481742859
         },
         {
          "i": 261,
          "loss": 0.13095258176326752
         },
         {
          "i": 262,
          "loss": 0.13049887120723724
         },
         {
          "i": 263,
          "loss": 0.1301087737083435
         },
         {
          "i": 264,
          "loss": 0.12965647876262665
         },
         {
          "i": 265,
          "loss": 0.12922558188438416
         },
         {
          "i": 266,
          "loss": 0.1288292557001114
         },
         {
          "i": 267,
          "loss": 0.12838588654994965
         },
         {
          "i": 268,
          "loss": 0.1279771775007248
         },
         {
          "i": 269,
          "loss": 0.1275750994682312
         },
         {
          "i": 270,
          "loss": 0.12713997066020966
         },
         {
          "i": 271,
          "loss": 0.12675216794013977
         },
         {
          "i": 272,
          "loss": 0.12634438276290894
         },
         {
          "i": 273,
          "loss": 0.12591701745986938
         },
         {
          "i": 274,
          "loss": 0.12554922699928284
         },
         {
          "i": 275,
          "loss": 0.12513628602027893
         },
         {
          "i": 276,
          "loss": 0.12471982091665268
         },
         {
          "i": 277,
          "loss": 0.12436515837907791
         },
         {
          "i": 278,
          "loss": 0.12394803762435913
         },
         {
          "i": 279,
          "loss": 0.12354207783937454
         },
         {
          "i": 280,
          "loss": 0.12317416071891785
         },
         {
          "i": 281,
          "loss": 0.1227588951587677
         },
         {
          "i": 282,
          "loss": 0.12236931920051575
         },
         {
          "i": 283,
          "loss": 0.12199968099594116
         },
         {
          "i": 284,
          "loss": 0.12159224599599838
         },
         {
          "i": 285,
          "loss": 0.12121838331222534
         },
         {
          "i": 286,
          "loss": 0.12084761261940002
         },
         {
          "i": 287,
          "loss": 0.12044729292392731
         },
         {
          "i": 288,
          "loss": 0.1200886145234108
         },
         {
          "i": 289,
          "loss": 0.11971671879291534
         },
         {
          "i": 290,
          "loss": 0.11932408064603806
         },
         {
          "i": 291,
          "loss": 0.11897968500852585
         },
         {
          "i": 292,
          "loss": 0.11860717833042145
         },
         {
          "i": 293,
          "loss": 0.1182217225432396
         },
         {
          "i": 294,
          "loss": 0.1178910955786705
         },
         {
          "i": 295,
          "loss": 0.11751825362443924
         },
         {
          "i": 296,
          "loss": 0.1171397939324379
         },
         {
          "i": 297,
          "loss": 0.11682209372520447
         },
         {
          "i": 298,
          "loss": 0.11644977331161499
         },
         {
          "i": 299,
          "loss": 0.1160830706357956
         },
         {
          "i": 300,
          "loss": 0.11576782912015915
         },
         {
          "i": 301,
          "loss": 0.11540069431066513
         },
         {
          "i": 302,
          "loss": 0.11504640430212021
         },
         {
          "i": 303,
          "loss": 0.11473184823989868
         },
         {
          "i": 304,
          "loss": 0.11437143385410309
         },
         {
          "i": 305,
          "loss": 0.11402883380651474
         },
         {
          "i": 306,
          "loss": 0.11371500790119171
         },
         {
          "i": 307,
          "loss": 0.11336120963096619
         },
         {
          "i": 308,
          "loss": 0.11302953958511353
         },
         {
          "i": 309,
          "loss": 0.11271688342094421
         },
         {
          "i": 310,
          "loss": 0.11236947774887085
         },
         {
          "i": 311,
          "loss": 0.11204839497804642
         },
         {
          "i": 312,
          "loss": 0.1117372065782547
         },
         {
          "i": 313,
          "loss": 0.11139587312936783
         },
         {
          "i": 314,
          "loss": 0.11108461022377014
         },
         {
          "i": 315,
          "loss": 0.11077547818422318
         },
         {
          "i": 316,
          "loss": 0.11043991893529892
         },
         {
          "i": 317,
          "loss": 0.110137440264225
         },
         {
          "i": 318,
          "loss": 0.10983018577098846
         },
         {
          "i": 319,
          "loss": 0.10950077325105667
         },
         {
          "i": 320,
          "loss": 0.10920688509941101
         },
         {
          "i": 321,
          "loss": 0.10890232771635056
         },
         {
          "i": 322,
          "loss": 0.10857879370450974
         },
         {
          "i": 323,
          "loss": 0.10829292237758636
         },
         {
          "i": 324,
          "loss": 0.10799197107553482
         },
         {
          "i": 325,
          "loss": 0.10767562687397003
         },
         {
          "i": 326,
          "loss": 0.10739879310131073
         },
         {
          "i": 327,
          "loss": 0.10710220038890839
         },
         {
          "i": 328,
          "loss": 0.10679128766059875
         },
         {
          "i": 329,
          "loss": 0.10652132332324982
         },
         {
          "i": 330,
          "loss": 0.10622825473546982
         },
         {
          "i": 331,
          "loss": 0.10592282563447952
         },
         {
          "i": 332,
          "loss": 0.10565883666276932
         },
         {
          "i": 333,
          "loss": 0.10536915063858032
         },
         {
          "i": 334,
          "loss": 0.1050688773393631
         },
         {
          "i": 335,
          "loss": 0.10481075197458267
         },
         {
          "i": 336,
          "loss": 0.10452532023191452
         },
         {
          "i": 337,
          "loss": 0.10423016548156738
         },
         {
          "i": 338,
          "loss": 0.10397747904062271
         },
         {
          "i": 339,
          "loss": 0.10369633883237839
         },
         {
          "i": 340,
          "loss": 0.10340648889541626
         },
         {
          "i": 341,
          "loss": 0.10315874218940735
         },
         {
          "i": 342,
          "loss": 0.10288239270448685
         },
         {
          "i": 343,
          "loss": 0.10259754210710526
         },
         {
          "i": 344,
          "loss": 0.10235424339771271
         },
         {
          "i": 345,
          "loss": 0.10208270698785782
         },
         {
          "i": 346,
          "loss": 0.10180304199457169
         },
         {
          "i": 347,
          "loss": 0.10156349092721939
         },
         {
          "i": 348,
          "loss": 0.10129785537719727
         },
         {
          "i": 349,
          "loss": 0.1010236144065857
         },
         {
          "i": 350,
          "loss": 0.10078863054513931
         },
         {
          "i": 351,
          "loss": 0.10052917152643204
         },
         {
          "i": 352,
          "loss": 0.10025987029075623
         },
         {
          "i": 353,
          "loss": 0.10002759844064713
         },
         {
          "i": 354,
          "loss": 0.09977405518293381
         },
         {
          "i": 355,
          "loss": 0.09950926154851913
         },
         {
          "i": 356,
          "loss": 0.09927968680858612
         },
         {
          "i": 357,
          "loss": 0.09903218597173691
         },
         {
          "i": 358,
          "loss": 0.09877195209264755
         },
         {
          "i": 359,
          "loss": 0.09854480624198914
         },
         {
          "i": 360,
          "loss": 0.09830429404973984
         },
         {
          "i": 361,
          "loss": 0.09804918617010117
         },
         {
          "i": 362,
          "loss": 0.09782403707504272
         },
         {
          "i": 363,
          "loss": 0.09759027510881424
         },
         {
          "i": 364,
          "loss": 0.09733948111534119
         },
         {
          "i": 365,
          "loss": 0.09711569547653198
         },
         {
          "i": 366,
          "loss": 0.096888467669487
         },
         {
          "i": 367,
          "loss": 0.0966419205069542
         },
         {
          "i": 368,
          "loss": 0.0964190885424614
         },
         {
          "i": 369,
          "loss": 0.0961989238858223
         },
         {
          "i": 370,
          "loss": 0.09595643728971481
         },
         {
          "i": 371,
          "loss": 0.09573391824960709
         },
         {
          "i": 372,
          "loss": 0.09552125632762909
         },
         {
          "i": 373,
          "loss": 0.09528348594903946
         },
         {
          "i": 374,
          "loss": 0.09506165236234665
         },
         {
          "i": 375,
          "loss": 0.0948568657040596
         },
         {
          "i": 376,
          "loss": 0.09462292492389679
         },
         {
          "i": 377,
          "loss": 0.09440068900585175
         },
         {
          "i": 378,
          "loss": 0.0942036435008049
         },
         {
          "i": 379,
          "loss": 0.09397377073764801
         },
         {
          "i": 380,
          "loss": 0.09375075995922089
         },
         {
          "i": 381,
          "loss": 0.09356160461902618
         },
         {
          "i": 382,
          "loss": 0.09333541244268417
         },
         {
          "i": 383,
          "loss": 0.09311138838529587
         },
         {
          "i": 384,
          "loss": 0.09293042868375778
         },
         {
          "i": 385,
          "loss": 0.09270800650119781
         },
         {
          "i": 386,
          "loss": 0.09248693287372589
         },
         {
          "i": 387,
          "loss": 0.09230571985244751
         },
         {
          "i": 388,
          "loss": 0.0920911431312561
         },
         {
          "i": 389,
          "loss": 0.09187370538711548
         },
         {
          "i": 390,
          "loss": 0.091690294444561
         },
         {
          "i": 391,
          "loss": 0.09148477762937546
         },
         {
          "i": 392,
          "loss": 0.09127089381217957
         },
         {
          "i": 393,
          "loss": 0.09108433872461319
         },
         {
          "i": 394,
          "loss": 0.09088779240846634
         },
         {
          "i": 395,
          "loss": 0.0906771644949913
         },
         {
          "i": 396,
          "loss": 0.09048576653003693
         },
         {
          "i": 397,
          "loss": 0.09029415249824524
         },
         {
          "i": 398,
          "loss": 0.09008108079433441
         },
         {
          "i": 399,
          "loss": 0.08988635987043381
         },
         {
          "i": 400,
          "loss": 0.08970069140195847
         },
         {
          "i": 401,
          "loss": 0.08949098736047745
         },
         {
          "i": 402,
          "loss": 0.08929647505283356
         },
         {
          "i": 403,
          "loss": 0.0891168862581253
         },
         {
          "i": 404,
          "loss": 0.08891048282384872
         },
         {
          "i": 405,
          "loss": 0.08871541172266006
         },
         {
          "i": 406,
          "loss": 0.08854226768016815
         },
         {
          "i": 407,
          "loss": 0.08833912760019302
         },
         {
          "i": 408,
          "loss": 0.08814334124326706
         },
         {
          "i": 409,
          "loss": 0.08797692507505417
         },
         {
          "i": 410,
          "loss": 0.08777687698602676
         },
         {
          "i": 411,
          "loss": 0.0875801369547844
         },
         {
          "i": 412,
          "loss": 0.08742062747478485
         },
         {
          "i": 413,
          "loss": 0.08722364157438278
         },
         {
          "i": 414,
          "loss": 0.08702781796455383
         },
         {
          "i": 415,
          "loss": 0.08687088638544083
         },
         {
          "i": 416,
          "loss": 0.0866793617606163
         },
         {
          "i": 417,
          "loss": 0.08648648858070374
         },
         {
          "i": 418,
          "loss": 0.08632738143205643
         },
         {
          "i": 419,
          "loss": 0.08614368736743927
         },
         {
          "i": 420,
          "loss": 0.085952527821064
         },
         {
          "i": 421,
          "loss": 0.08578497171401978
         },
         {
          "i": 422,
          "loss": 0.08560405671596527
         },
         {
          "i": 423,
          "loss": 0.08541205525398254
         },
         {
          "i": 424,
          "loss": 0.0852397084236145
         },
         {
          "i": 425,
          "loss": 0.0850692167878151
         },
         {
          "i": 426,
          "loss": 0.0848800465464592
         },
         {
          "i": 427,
          "loss": 0.08470180630683899
         },
         {
          "i": 428,
          "loss": 0.08453857153654099
         },
         {
          "i": 429,
          "loss": 0.0843420922756195
         },
         {
          "i": 430,
          "loss": 0.08415058255195618
         },
         {
          "i": 431,
          "loss": 0.08398986607789993
         },
         {
          "i": 432,
          "loss": 0.08379650115966797
         },
         {
          "i": 433,
          "loss": 0.08360406011343002
         },
         {
          "i": 434,
          "loss": 0.0834459662437439
         },
         {
          "i": 435,
          "loss": 0.08325941115617752
         },
         {
          "i": 436,
          "loss": 0.08306997269392014
         },
         {
          "i": 437,
          "loss": 0.0829065814614296
         },
         {
          "i": 438,
          "loss": 0.0827307403087616
         },
         {
          "i": 439,
          "loss": 0.0825442224740982
         },
         {
          "i": 440,
          "loss": 0.08237498998641968
         },
         {
          "i": 441,
          "loss": 0.08221025764942169
         },
         {
          "i": 442,
          "loss": 0.08202644437551498
         },
         {
          "i": 443,
          "loss": 0.08185135573148727
         },
         {
          "i": 444,
          "loss": 0.08169770985841751
         },
         {
          "i": 445,
          "loss": 0.08151676505804062
         },
         {
          "i": 446,
          "loss": 0.0813366249203682
         },
         {
          "i": 447,
          "loss": 0.08119180798530579
         },
         {
          "i": 448,
          "loss": 0.08101469278335571
         },
         {
          "i": 449,
          "loss": 0.08083724230527878
         },
         {
          "i": 450,
          "loss": 0.08068554103374481
         },
         {
          "i": 451,
          "loss": 0.08052017539739609
         },
         {
          "i": 452,
          "loss": 0.08034536242485046
         },
         {
          "i": 453,
          "loss": 0.08018651604652405
         },
         {
          "i": 454,
          "loss": 0.0800333023071289
         },
         {
          "i": 455,
          "loss": 0.07986117154359818
         },
         {
          "i": 456,
          "loss": 0.07969501614570618
         },
         {
          "i": 457,
          "loss": 0.07955377548933029
         },
         {
          "i": 458,
          "loss": 0.07938414812088013
         },
         {
          "i": 459,
          "loss": 0.0792153924703598
         },
         {
          "i": 460,
          "loss": 0.07907678931951523
         },
         {
          "i": 461,
          "loss": 0.07891455292701721
         },
         {
          "i": 462,
          "loss": 0.07874837517738342
         },
         {
          "i": 463,
          "loss": 0.07860157638788223
         },
         {
          "i": 464,
          "loss": 0.0784519612789154
         },
         {
          "i": 465,
          "loss": 0.07828815281391144
         },
         {
          "i": 466,
          "loss": 0.07813320308923721
         },
         {
          "i": 467,
          "loss": 0.07799652218818665
         },
         {
          "i": 468,
          "loss": 0.07783524692058563
         },
         {
          "i": 469,
          "loss": 0.07767536491155624
         },
         {
          "i": 470,
          "loss": 0.07754574716091156
         },
         {
          "i": 471,
          "loss": 0.0773906409740448
         },
         {
          "i": 472,
          "loss": 0.07723318040370941
         },
         {
          "i": 473,
          "loss": 0.07709386199712753
         },
         {
          "i": 474,
          "loss": 0.07695117592811584
         },
         {
          "i": 475,
          "loss": 0.07678952068090439
         },
         {
          "i": 476,
          "loss": 0.07663260400295258
         },
         {
          "i": 477,
          "loss": 0.0765000432729721
         },
         {
          "i": 478,
          "loss": 0.07634072005748749
         },
         {
          "i": 479,
          "loss": 0.07618231326341629
         },
         {
          "i": 480,
          "loss": 0.0760456919670105
         },
         {
          "i": 481,
          "loss": 0.07589871436357498
         },
         {
          "i": 482,
          "loss": 0.07574266195297241
         },
         {
          "i": 483,
          "loss": 0.07559406012296677
         },
         {
          "i": 484,
          "loss": 0.07546354085206985
         },
         {
          "i": 485,
          "loss": 0.07530970871448517
         },
         {
          "i": 486,
          "loss": 0.07515677809715271
         },
         {
          "i": 487,
          "loss": 0.07502691447734833
         },
         {
          "i": 488,
          "loss": 0.07488346844911575
         },
         {
          "i": 489,
          "loss": 0.07473276555538177
         },
         {
          "i": 490,
          "loss": 0.07459033280611038
         },
         {
          "i": 491,
          "loss": 0.07446359843015671
         },
         {
          "i": 492,
          "loss": 0.07431516796350479
         },
         {
          "i": 493,
          "loss": 0.07416748255491257
         },
         {
          "i": 494,
          "loss": 0.07404236495494843
         },
         {
          "i": 495,
          "loss": 0.07390383630990982
         },
         {
          "i": 496,
          "loss": 0.07375845313072205
         },
         {
          "i": 497,
          "loss": 0.07362005859613419
         },
         {
          "i": 498,
          "loss": 0.07349871844053268
         },
         {
          "i": 499,
          "loss": 0.07335541397333145
         },
         {
          "i": 500,
          "loss": 0.07321278750896454
         },
         {
          "i": 501,
          "loss": 0.07309053093194962
         },
         {
          "i": 502,
          "loss": 0.07295864820480347
         },
         {
          "i": 503,
          "loss": 0.07281798869371414
         },
         {
          "i": 504,
          "loss": 0.07268193364143372
         },
         {
          "i": 505,
          "loss": 0.07256755232810974
         },
         {
          "i": 506,
          "loss": 0.07242915779352188
         },
         {
          "i": 507,
          "loss": 0.07229147106409073
         },
         {
          "i": 508,
          "loss": 0.07217007875442505
         },
         {
          "i": 509,
          "loss": 0.07204616069793701
         },
         {
          "i": 510,
          "loss": 0.07191053032875061
         },
         {
          "i": 511,
          "loss": 0.0717753916978836
         },
         {
          "i": 512,
          "loss": 0.0716681182384491
         },
         {
          "i": 513,
          "loss": 0.07153521478176117
         },
         {
          "i": 514,
          "loss": 0.07140210270881653
         },
         {
          "i": 515,
          "loss": 0.07128007709980011
         },
         {
          "i": 516,
          "loss": 0.0711655393242836
         },
         {
          "i": 517,
          "loss": 0.07103440910577774
         },
         {
          "i": 518,
          "loss": 0.07090394198894501
         },
         {
          "i": 519,
          "loss": 0.07079481333494186
         },
         {
          "i": 520,
          "loss": 0.07067221403121948
         },
         {
          "i": 521,
          "loss": 0.07054360210895538
         },
         {
          "i": 522,
          "loss": 0.07041913270950317
         },
         {
          "i": 523,
          "loss": 0.0703151673078537
         },
         {
          "i": 524,
          "loss": 0.07018858194351196
         },
         {
          "i": 525,
          "loss": 0.07006262987852097
         },
         {
          "i": 526,
          "loss": 0.06994979828596115
         },
         {
          "i": 527,
          "loss": 0.06983891129493713
         },
         {
          "i": 528,
          "loss": 0.06971468031406403
         },
         {
          "i": 529,
          "loss": 0.06959111988544464
         },
         {
          "i": 530,
          "loss": 0.06948939710855484
         },
         {
          "i": 531,
          "loss": 0.06937199831008911
         },
         {
          "i": 532,
          "loss": 0.0692502036690712
         },
         {
          "i": 533,
          "loss": 0.06913228332996368
         },
         {
          "i": 534,
          "loss": 0.06903421133756638
         },
         {
          "i": 535,
          "loss": 0.06891428679227829
         },
         {
          "i": 536,
          "loss": 0.06879487633705139
         },
         {
          "i": 537,
          "loss": 0.06868690252304077
         },
         {
          "i": 538,
          "loss": 0.06858322769403458
         },
         {
          "i": 539,
          "loss": 0.06846550852060318
         },
         {
          "i": 540,
          "loss": 0.06834851205348969
         },
         {
          "i": 541,
          "loss": 0.06824984401464462
         },
         {
          "i": 542,
          "loss": 0.0681411474943161
         },
         {
          "i": 543,
          "loss": 0.06802579760551453
         },
         {
          "i": 544,
          "loss": 0.06791096925735474
         },
         {
          "i": 545,
          "loss": 0.06782087683677673
         },
         {
          "i": 546,
          "loss": 0.06770779937505722
         },
         {
          "i": 547,
          "loss": 0.06759458780288696
         },
         {
          "i": 548,
          "loss": 0.06748737394809723
         },
         {
          "i": 549,
          "loss": 0.0673944279551506
         },
         {
          "i": 550,
          "loss": 0.06728291511535645
         },
         {
          "i": 551,
          "loss": 0.06717190146446228
         },
         {
          "i": 552,
          "loss": 0.06707218289375305
         },
         {
          "i": 553,
          "loss": 0.06697563081979752
         },
         {
          "i": 554,
          "loss": 0.06686625629663467
         },
         {
          "i": 555,
          "loss": 0.066757433116436
         },
         {
          "i": 556,
          "loss": 0.06666471809148788
         },
         {
          "i": 557,
          "loss": 0.06656506657600403
         },
         {
          "i": 558,
          "loss": 0.06645786762237549
         },
         {
          "i": 559,
          "loss": 0.06635107845067978
         },
         {
          "i": 560,
          "loss": 0.06626451015472412
         },
         {
          "i": 561,
          "loss": 0.06616264581680298
         },
         {
          "i": 562,
          "loss": 0.06605733186006546
         },
         {
          "i": 563,
          "loss": 0.06595282256603241
         },
         {
          "i": 564,
          "loss": 0.06587167084217072
         },
         {
          "i": 565,
          "loss": 0.065767802298069
         },
         {
          "i": 566,
          "loss": 0.06566450744867325
         },
         {
          "i": 567,
          "loss": 0.06556559354066849
         },
         {
          "i": 568,
          "loss": 0.06548244506120682
         },
         {
          "i": 569,
          "loss": 0.06538030505180359
         },
         {
          "i": 570,
          "loss": 0.06527857482433319
         },
         {
          "i": 571,
          "loss": 0.0651840791106224
         },
         {
          "i": 572,
          "loss": 0.06509947031736374
         },
         {
          "i": 573,
          "loss": 0.06499909609556198
         },
         {
          "i": 574,
          "loss": 0.06489939987659454
         },
         {
          "i": 575,
          "loss": 0.06480900943279266
         },
         {
          "i": 576,
          "loss": 0.06472368538379669
         },
         {
          "i": 577,
          "loss": 0.06462527066469193
         },
         {
          "i": 578,
          "loss": 0.0645274743437767
         },
         {
          "i": 579,
          "loss": 0.06444074213504791
         },
         {
          "i": 580,
          "loss": 0.06435522437095642
         },
         {
          "i": 581,
          "loss": 0.06425866484642029
         },
         {
          "i": 582,
          "loss": 0.06416280567646027
         },
         {
          "i": 583,
          "loss": 0.06407900154590607
         },
         {
          "i": 584,
          "loss": 0.06399387121200562
         },
         {
          "i": 585,
          "loss": 0.0638992041349411
         },
         {
          "i": 586,
          "loss": 0.0638049989938736
         },
         {
          "i": 587,
          "loss": 0.0637238398194313
         },
         {
          "i": 588,
          "loss": 0.06363943964242935
         },
         {
          "i": 589,
          "loss": 0.0635465681552887
         },
         {
          "i": 590,
          "loss": 0.06345406919717789
         },
         {
          "i": 591,
          "loss": 0.06337485462427139
         },
         {
          "i": 592,
          "loss": 0.0632917582988739
         },
         {
          "i": 593,
          "loss": 0.06320060044527054
         },
         {
          "i": 594,
          "loss": 0.0631098821759224
         },
         {
          "i": 595,
          "loss": 0.0630321279168129
         },
         {
          "i": 596,
          "loss": 0.06295071542263031
         },
         {
          "i": 597,
          "loss": 0.06286124885082245
         },
         {
          "i": 598,
          "loss": 0.06277230381965637
         },
         {
          "i": 599,
          "loss": 0.06269533187150955
         },
         {
          "i": 600,
          "loss": 0.06261606514453888
         },
         {
          "i": 601,
          "loss": 0.06252827495336533
         },
         {
          "i": 602,
          "loss": 0.06244087219238281
         },
         {
          "i": 603,
          "loss": 0.06236452981829643
         },
         {
          "i": 604,
          "loss": 0.06228777393698692
         },
         {
          "i": 605,
          "loss": 0.06220146268606186
         },
         {
          "i": 606,
          "loss": 0.06211450695991516
         },
         {
          "i": 607,
          "loss": 0.06203688308596611
         },
         {
          "i": 608,
          "loss": 0.06196192279458046
         },
         {
          "i": 609,
          "loss": 0.06187617406249046
         },
         {
          "i": 610,
          "loss": 0.06179087609052658
         },
         {
          "i": 611,
          "loss": 0.061713188886642456
         },
         {
          "i": 612,
          "loss": 0.061641253530979156
         },
         {
          "i": 613,
          "loss": 0.061557020992040634
         },
         {
          "i": 614,
          "loss": 0.06147323548793793
         },
         {
          "i": 615,
          "loss": 0.061394985765218735
         },
         {
          "i": 616,
          "loss": 0.06132645532488823
         },
         {
          "i": 617,
          "loss": 0.06124376878142357
         },
         {
          "i": 618,
          "loss": 0.06116156652569771
         },
         {
          "i": 619,
          "loss": 0.06108236312866211
         },
         {
          "i": 620,
          "loss": 0.061017610132694244
         },
         {
          "i": 621,
          "loss": 0.06093648821115494
         },
         {
          "i": 622,
          "loss": 0.060855742543935776
         },
         {
          "i": 623,
          "loss": 0.060775309801101685
         },
         {
          "i": 624,
          "loss": 0.060714226216077805
         },
         {
          "i": 625,
          "loss": 0.06063488870859146
         },
         {
          "i": 626,
          "loss": 0.06055557355284691
         },
         {
          "i": 627,
          "loss": 0.06047668308019638
         },
         {
          "i": 628,
          "loss": 0.060413435101509094
         },
         {
          "i": 629,
          "loss": 0.06033885478973389
         },
         {
          "i": 630,
          "loss": 0.06026104837656021
         },
         {
          "i": 631,
          "loss": 0.06018361449241638
         },
         {
          "i": 632,
          "loss": 0.06011778488755226
         },
         {
          "i": 633,
          "loss": 0.06004833057522774
         },
         {
          "i": 634,
          "loss": 0.059971485286951065
         },
         {
          "i": 635,
          "loss": 0.059890564531087875
         },
         {
          "i": 636,
          "loss": 0.059819210320711136
         },
         {
          "i": 637,
          "loss": 0.05974958464503288
         },
         {
          "i": 638,
          "loss": 0.059670209884643555
         },
         {
          "i": 639,
          "loss": 0.05959104374051094
         },
         {
          "i": 640,
          "loss": 0.0595204196870327
         },
         {
          "i": 641,
          "loss": 0.05945290997624397
         },
         {
          "i": 642,
          "loss": 0.05937487632036209
         },
         {
          "i": 643,
          "loss": 0.05929708480834961
         },
         {
          "i": 644,
          "loss": 0.0592266283929348
         },
         {
          "i": 645,
          "loss": 0.059161439538002014
         },
         {
          "i": 646,
          "loss": 0.05908461660146713
         },
         {
          "i": 647,
          "loss": 0.0590081587433815
         },
         {
          "i": 648,
          "loss": 0.05893738195300102
         },
         {
          "i": 649,
          "loss": 0.058874864131212234
         },
         {
          "i": 650,
          "loss": 0.05879891291260719
         },
         {
          "i": 651,
          "loss": 0.058723412454128265
         },
         {
          "i": 652,
          "loss": 0.058651410043239594
         },
         {
          "i": 653,
          "loss": 0.058591656386852264
         },
         {
          "i": 654,
          "loss": 0.058517009019851685
         },
         {
          "i": 655,
          "loss": 0.058442726731300354
         },
         {
          "i": 656,
          "loss": 0.05836963281035423
         },
         {
          "i": 657,
          "loss": 0.05831326171755791
         },
         {
          "i": 658,
          "loss": 0.05823985114693642
         },
         {
          "i": 659,
          "loss": 0.05816686525940895
         },
         {
          "i": 660,
          "loss": 0.0580943264067173
         },
         {
          "i": 661,
          "loss": 0.05803776904940605
         },
         {
          "i": 662,
          "loss": 0.05796760693192482
         },
         {
          "i": 663,
          "loss": 0.057895828038454056
         },
         {
          "i": 664,
          "loss": 0.05782438442111015
         },
         {
          "i": 665,
          "loss": 0.05776571109890938
         },
         {
          "i": 666,
          "loss": 0.05770004168152809
         },
         {
          "i": 667,
          "loss": 0.05762944743037224
         },
         {
          "i": 668,
          "loss": 0.057559117674827576
         },
         {
          "i": 669,
          "loss": 0.05749792605638504
         },
         {
          "i": 670,
          "loss": 0.05743690952658653
         },
         {
          "i": 671,
          "loss": 0.05736757442355156
         },
         {
          "i": 672,
          "loss": 0.0572984553873539
         },
         {
          "i": 673,
          "loss": 0.05723421275615692
         },
         {
          "i": 674,
          "loss": 0.05717843025922775
         },
         {
          "i": 675,
          "loss": 0.057110127061605453
         },
         {
          "i": 676,
          "loss": 0.057042237371206284
         },
         {
          "i": 677,
          "loss": 0.0569746308028698
         },
         {
          "i": 678,
          "loss": 0.056924208998680115
         },
         {
          "i": 679,
          "loss": 0.05685722455382347
         },
         {
          "i": 680,
          "loss": 0.05679040774703026
         },
         {
          "i": 681,
          "loss": 0.05672390013933182
         },
         {
          "i": 682,
          "loss": 0.05666964501142502
         },
         {
          "i": 683,
          "loss": 0.05660845711827278
         },
         {
          "i": 684,
          "loss": 0.05654282122850418
         },
         {
          "i": 685,
          "loss": 0.05647732689976692
         },
         {
          "i": 686,
          "loss": 0.05641885846853256
         },
         {
          "i": 687,
          "loss": 0.05636396259069443
         },
         {
          "i": 688,
          "loss": 0.05629931017756462
         },
         {
          "i": 689,
          "loss": 0.056235045194625854
         },
         {
          "i": 690,
          "loss": 0.05617202818393707
         },
         {
          "i": 691,
          "loss": 0.056123532354831696
         },
         {
          "i": 692,
          "loss": 0.056059978902339935
         },
         {
          "i": 693,
          "loss": 0.05599671229720116
         },
         {
          "i": 694,
          "loss": 0.05593375116586685
         },
         {
          "i": 695,
          "loss": 0.05588221549987793
         },
         {
          "i": 696,
          "loss": 0.055824633687734604
         },
         {
          "i": 697,
          "loss": 0.055762406438589096
         },
         {
          "i": 698,
          "loss": 0.05570047348737717
         },
         {
          "i": 699,
          "loss": 0.055643513798713684
         },
         {
          "i": 700,
          "loss": 0.055593203753232956
         },
         {
          "i": 701,
          "loss": 0.055531978607177734
         },
         {
          "i": 702,
          "loss": 0.05547104775905609
         },
         {
          "i": 703,
          "loss": 0.05540948733687401
         },
         {
          "i": 704,
          "loss": 0.05535804107785225
         },
         {
          "i": 705,
          "loss": 0.05529535189270973
         },
         {
          "i": 706,
          "loss": 0.05523107945919037
         },
         {
          "i": 707,
          "loss": 0.05516703426837921
         },
         {
          "i": 708,
          "loss": 0.0551077276468277
         },
         {
          "i": 709,
          "loss": 0.05505484715104103
         },
         {
          "i": 710,
          "loss": 0.05499159172177315
         },
         {
          "i": 711,
          "loss": 0.05492857098579407
         },
         {
          "i": 712,
          "loss": 0.05486605316400528
         },
         {
          "i": 713,
          "loss": 0.05481385812163353
         },
         {
          "i": 714,
          "loss": 0.05475616827607155
         },
         {
          "i": 715,
          "loss": 0.05469426140189171
         },
         {
          "i": 716,
          "loss": 0.05463261902332306
         },
         {
          "i": 717,
          "loss": 0.054572053253650665
         },
         {
          "i": 718,
          "loss": 0.0545247457921505
         },
         {
          "i": 719,
          "loss": 0.054463814944028854
         },
         {
          "i": 720,
          "loss": 0.05440312251448631
         },
         {
          "i": 721,
          "loss": 0.05434272810816765
         },
         {
          "i": 722,
          "loss": 0.0542881041765213
         },
         {
          "i": 723,
          "loss": 0.05423710495233536
         },
         {
          "i": 724,
          "loss": 0.054177455604076385
         },
         {
          "i": 725,
          "loss": 0.054118070751428604
         },
         {
          "i": 726,
          "loss": 0.0540589839220047
         },
         {
          "i": 727,
          "loss": 0.05400954559445381
         },
         {
          "i": 728,
          "loss": 0.05395558476448059
         },
         {
          "i": 729,
          "loss": 0.05389706790447235
         },
         {
          "i": 730,
          "loss": 0.05383894592523575
         },
         {
          "i": 731,
          "loss": 0.05378105118870735
         },
         {
          "i": 732,
          "loss": 0.05373639613389969
         },
         {
          "i": 733,
          "loss": 0.05367980897426605
         },
         {
          "i": 734,
          "loss": 0.05362259969115257
         },
         {
          "i": 735,
          "loss": 0.053565625101327896
         },
         {
          "i": 736,
          "loss": 0.05351102724671364
         },
         {
          "i": 737,
          "loss": 0.05346611514687538
         },
         {
          "i": 738,
          "loss": 0.05340976640582085
         },
         {
          "i": 739,
          "loss": 0.0533536896109581
         },
         {
          "i": 740,
          "loss": 0.05329786241054535
         },
         {
          "i": 741,
          "loss": 0.05324706435203552
         },
         {
          "i": 742,
          "loss": 0.05320048704743385
         },
         {
          "i": 743,
          "loss": 0.053145285695791245
         },
         {
          "i": 744,
          "loss": 0.05309026688337326
         },
         {
          "i": 745,
          "loss": 0.05303570255637169
         },
         {
          "i": 746,
          "loss": 0.05298793688416481
         },
         {
          "i": 747,
          "loss": 0.052940186113119125
         },
         {
          "i": 748,
          "loss": 0.05288619548082352
         },
         {
          "i": 749,
          "loss": 0.052832383662462234
         },
         {
          "i": 750,
          "loss": 0.05277876928448677
         },
         {
          "i": 751,
          "loss": 0.05273355543613434
         },
         {
          "i": 752,
          "loss": 0.05268533155322075
         },
         {
          "i": 753,
          "loss": 0.05263228714466095
         },
         {
          "i": 754,
          "loss": 0.052579622715711594
         },
         {
          "i": 755,
          "loss": 0.052527155727148056
         },
         {
          "i": 756,
          "loss": 0.052483901381492615
         },
         {
          "i": 757,
          "loss": 0.052435632795095444
         },
         {
          "i": 758,
          "loss": 0.05238373577594757
         },
         {
          "i": 759,
          "loss": 0.052331991493701935
         },
         {
          "i": 760,
          "loss": 0.05228057876229286
         },
         {
          "i": 761,
          "loss": 0.05223885178565979
         },
         {
          "i": 762,
          "loss": 0.05219091475009918
         },
         {
          "i": 763,
          "loss": 0.05214012786746025
         },
         {
          "i": 764,
          "loss": 0.0520893856883049
         },
         {
          "i": 765,
          "loss": 0.05203895643353462
         },
         {
          "i": 766,
          "loss": 0.05199815705418587
         },
         {
          "i": 767,
          "loss": 0.05195118859410286
         },
         {
          "i": 768,
          "loss": 0.05190134048461914
         },
         {
          "i": 769,
          "loss": 0.05185166373848915
         },
         {
          "i": 770,
          "loss": 0.05180227383971214
         },
         {
          "i": 771,
          "loss": 0.05176185443997383
         },
         {
          "i": 772,
          "loss": 0.05171627923846245
         },
         {
          "i": 773,
          "loss": 0.05166736617684364
         },
         {
          "i": 774,
          "loss": 0.05161871388554573
         },
         {
          "i": 775,
          "loss": 0.05157022923231125
         },
         {
          "i": 776,
          "loss": 0.05152980983257294
         },
         {
          "i": 777,
          "loss": 0.051485951989889145
         },
         {
          "i": 778,
          "loss": 0.05143807828426361
         },
         {
          "i": 779,
          "loss": 0.05139029398560524
         },
         {
          "i": 780,
          "loss": 0.05134277418255806
         },
         {
          "i": 781,
          "loss": 0.05130188912153244
         },
         {
          "i": 782,
          "loss": 0.051260218024253845
         },
         {
          "i": 783,
          "loss": 0.05121331289410591
         },
         {
          "i": 784,
          "loss": 0.05116647854447365
         },
         {
          "i": 785,
          "loss": 0.05111991986632347
         },
         {
          "i": 786,
          "loss": 0.051077958196401596
         },
         {
          "i": 787,
          "loss": 0.05103902891278267
         },
         {
          "i": 788,
          "loss": 0.0509929284453392
         },
         {
          "i": 789,
          "loss": 0.050947047770023346
         },
         {
          "i": 790,
          "loss": 0.05090135708451271
         },
         {
          "i": 791,
          "loss": 0.050857964903116226
         },
         {
          "i": 792,
          "loss": 0.050822190940380096
         },
         {
          "i": 793,
          "loss": 0.05077696219086647
         },
         {
          "i": 794,
          "loss": 0.050732001662254333
         },
         {
          "i": 795,
          "loss": 0.05068716034293175
         },
         {
          "i": 796,
          "loss": 0.05064254254102707
         },
         {
          "i": 797,
          "loss": 0.0506088063120842
         },
         {
          "i": 798,
          "loss": 0.0505652129650116
         },
         {
          "i": 799,
          "loss": 0.0505211167037487
         },
         {
          "i": 800,
          "loss": 0.05047714710235596
         },
         {
          "i": 801,
          "loss": 0.050433482974767685
         },
         {
          "i": 802,
          "loss": 0.050397034734487534
         },
         {
          "i": 803,
          "loss": 0.050357528030872345
         },
         {
          "i": 804,
          "loss": 0.050314322113990784
         },
         {
          "i": 805,
          "loss": 0.05027124285697937
         },
         {
          "i": 806,
          "loss": 0.050228334963321686
         },
         {
          "i": 807,
          "loss": 0.05018898844718933
         },
         {
          "i": 808,
          "loss": 0.05015401542186737
         },
         {
          "i": 809,
          "loss": 0.050111521035432816
         },
         {
          "i": 810,
          "loss": 0.05006922781467438
         },
         {
          "i": 811,
          "loss": 0.05002710223197937
         },
         {
          "i": 812,
          "loss": 0.04998515918850899
         },
         {
          "i": 813,
          "loss": 0.049953579902648926
         },
         {
          "i": 814,
          "loss": 0.049912676215171814
         },
         {
          "i": 815,
          "loss": 0.04987115040421486
         },
         {
          "i": 816,
          "loss": 0.0498298704624176
         },
         {
          "i": 817,
          "loss": 0.04978872463107109
         },
         {
          "i": 818,
          "loss": 0.049753207713365555
         },
         {
          "i": 819,
          "loss": 0.04971760883927345
         },
         {
          "i": 820,
          "loss": 0.04967689514160156
         },
         {
          "i": 821,
          "loss": 0.04963625594973564
         },
         {
          "i": 822,
          "loss": 0.049596015363931656
         },
         {
          "i": 823,
          "loss": 0.04955625906586647
         },
         {
          "i": 824,
          "loss": 0.049526236951351166
         },
         {
          "i": 825,
          "loss": 0.04948629066348076
         },
         {
          "i": 826,
          "loss": 0.049446552991867065
         },
         {
          "i": 827,
          "loss": 0.04940685257315636
         },
         {
          "i": 828,
          "loss": 0.04936746507883072
         },
         {
          "i": 829,
          "loss": 0.04933358356356621
         },
         {
          "i": 830,
          "loss": 0.049299370497465134
         },
         {
          "i": 831,
          "loss": 0.04926031082868576
         },
         {
          "i": 832,
          "loss": 0.049221381545066833
         },
         {
          "i": 833,
          "loss": 0.049182768911123276
         },
         {
          "i": 834,
          "loss": 0.04914424940943718
         },
         {
          "i": 835,
          "loss": 0.049115438014268875
         },
         {
          "i": 836,
          "loss": 0.049077652394771576
         },
         {
          "i": 837,
          "loss": 0.04903947189450264
         },
         {
          "i": 838,
          "loss": 0.04900147393345833
         },
         {
          "i": 839,
          "loss": 0.048963647335767746
         },
         {
          "i": 840,
          "loss": 0.04892916604876518
         },
         {
          "i": 841,
          "loss": 0.048898302018642426
         },
         {
          "i": 842,
          "loss": 0.04886086285114288
         },
         {
          "i": 843,
          "loss": 0.04882361367344856
         },
         {
          "i": 844,
          "loss": 0.0487864688038826
         },
         {
          "i": 845,
          "loss": 0.04874947667121887
         },
         {
          "i": 846,
          "loss": 0.048719070851802826
         },
         {
          "i": 847,
          "loss": 0.04868568107485771
         },
         {
          "i": 848,
          "loss": 0.048649054020643234
         },
         {
          "i": 849,
          "loss": 0.04861264303326607
         },
         {
          "i": 850,
          "loss": 0.04857628047466278
         },
         {
          "i": 851,
          "loss": 0.04853873327374458
         },
         {
          "i": 852,
          "loss": 0.04850735142827034
         },
         {
          "i": 853,
          "loss": 0.048466552048921585
         },
         {
          "i": 854,
          "loss": 0.04842520132660866
         },
         {
          "i": 855,
          "loss": 0.048383988440036774
         },
         {
          "i": 856,
          "loss": 0.048342857509851456
         },
         {
          "i": 857,
          "loss": 0.04831094294786453
         },
         {
          "i": 858,
          "loss": 0.04827204346656799
         },
         {
          "i": 859,
          "loss": 0.04823141172528267
         },
         {
          "i": 860,
          "loss": 0.04819094017148018
         },
         {
          "i": 861,
          "loss": 0.04815062880516052
         },
         {
          "i": 862,
          "loss": 0.04811764881014824
         },
         {
          "i": 863,
          "loss": 0.04808101803064346
         },
         {
          "i": 864,
          "loss": 0.04804104194045067
         },
         {
          "i": 865,
          "loss": 0.04800131171941757
         },
         {
          "i": 866,
          "loss": 0.04796162247657776
         },
         {
          "i": 867,
          "loss": 0.04792746528983116
         },
         {
          "i": 868,
          "loss": 0.04789326712489128
         },
         {
          "i": 869,
          "loss": 0.047853995114564896
         },
         {
          "i": 870,
          "loss": 0.0478149950504303
         },
         {
          "i": 871,
          "loss": 0.0477760024368763
         },
         {
          "i": 872,
          "loss": 0.047738999128341675
         },
         {
          "i": 873,
          "loss": 0.04770389571785927
         },
         {
          "i": 874,
          "loss": 0.04766030237078667
         },
         {
          "i": 875,
          "loss": 0.047616854310035706
         },
         {
          "i": 876,
          "loss": 0.04757358506321907
         },
         {
          "i": 877,
          "loss": 0.04753642901778221
         },
         {
          "i": 878,
          "loss": 0.04749874025583267
         },
         {
          "i": 879,
          "loss": 0.04745585843920708
         },
         {
          "i": 880,
          "loss": 0.04741308093070984
         },
         {
          "i": 881,
          "loss": 0.04737047851085663
         },
         {
          "i": 882,
          "loss": 0.04733700677752495
         },
         {
          "i": 883,
          "loss": 0.047297053039073944
         },
         {
          "i": 884,
          "loss": 0.047254737466573715
         },
         {
          "i": 885,
          "loss": 0.04721270874142647
         },
         {
          "i": 886,
          "loss": 0.04717109352350235
         },
         {
          "i": 887,
          "loss": 0.0471402108669281
         },
         {
          "i": 888,
          "loss": 0.04709846153855324
         },
         {
          "i": 889,
          "loss": 0.04705696925520897
         },
         {
          "i": 890,
          "loss": 0.04701544716954231
         },
         {
          "i": 891,
          "loss": 0.04697687178850174
         },
         {
          "i": 892,
          "loss": 0.046944379806518555
         },
         {
          "i": 893,
          "loss": 0.04690355435013771
         },
         {
          "i": 894,
          "loss": 0.04686294496059418
         },
         {
          "i": 895,
          "loss": 0.04682249575853348
         },
         {
          "i": 896,
          "loss": 0.04678592085838318
         },
         {
          "i": 897,
          "loss": 0.04675259441137314
         },
         {
          "i": 898,
          "loss": 0.046712443232536316
         },
         {
          "i": 899,
          "loss": 0.04667244479060173
         },
         {
          "i": 900,
          "loss": 0.0466325506567955
         },
         {
          "i": 901,
          "loss": 0.046597495675086975
         },
         {
          "i": 902,
          "loss": 0.04656386002898216
         },
         {
          "i": 903,
          "loss": 0.046524301171302795
         },
         {
          "i": 904,
          "loss": 0.046484943479299545
         },
         {
          "i": 905,
          "loss": 0.04644567146897316
         },
         {
          "i": 906,
          "loss": 0.04641178250312805
         },
         {
          "i": 907,
          "loss": 0.04637811705470085
         },
         {
          "i": 908,
          "loss": 0.04633910953998566
         },
         {
          "i": 909,
          "loss": 0.04630037397146225
         },
         {
          "i": 910,
          "loss": 0.04626170173287392
         },
         {
          "i": 911,
          "loss": 0.04622860252857208
         },
         {
          "i": 912,
          "loss": 0.04619515314698219
         },
         {
          "i": 913,
          "loss": 0.0461568683385849
         },
         {
          "i": 914,
          "loss": 0.04611867293715477
         },
         {
          "i": 915,
          "loss": 0.046080637723207474
         },
         {
          "i": 916,
          "loss": 0.04604780673980713
         },
         {
          "i": 917,
          "loss": 0.04601509869098663
         },
         {
          "i": 918,
          "loss": 0.04597737640142441
         },
         {
          "i": 919,
          "loss": 0.045939721167087555
         },
         {
          "i": 920,
          "loss": 0.045902326703071594
         },
         {
          "i": 921,
          "loss": 0.04586957022547722
         },
         {
          "i": 922,
          "loss": 0.04583779349923134
         },
         {
          "i": 923,
          "loss": 0.04580070078372955
         },
         {
          "i": 924,
          "loss": 0.04576368257403374
         },
         {
          "i": 925,
          "loss": 0.04572673887014389
         },
         {
          "i": 926,
          "loss": 0.04569372534751892
         },
         {
          "i": 927,
          "loss": 0.045663248747587204
         },
         {
          "i": 928,
          "loss": 0.045626673847436905
         },
         {
          "i": 929,
          "loss": 0.045590177178382874
         },
         {
          "i": 930,
          "loss": 0.0455537810921669
         },
         {
          "i": 931,
          "loss": 0.04552025720477104
         },
         {
          "i": 932,
          "loss": 0.045491356402635574
         },
         {
          "i": 933,
          "loss": 0.04545535892248154
         },
         {
          "i": 934,
          "loss": 0.04541938006877899
         },
         {
          "i": 935,
          "loss": 0.04538356885313988
         },
         {
          "i": 936,
          "loss": 0.04534904658794403
         },
         {
          "i": 937,
          "loss": 0.045322075486183167
         },
         {
          "i": 938,
          "loss": 0.045286521315574646
         },
         {
          "i": 939,
          "loss": 0.045251164585351944
         },
         {
          "i": 940,
          "loss": 0.0452159158885479
         },
         {
          "i": 941,
          "loss": 0.04518080875277519
         },
         {
          "i": 942,
          "loss": 0.04515482485294342
         },
         {
          "i": 943,
          "loss": 0.04512033984065056
         },
         {
          "i": 944,
          "loss": 0.04508550092577934
         },
         {
          "i": 945,
          "loss": 0.04505075141787529
         },
         {
          "i": 946,
          "loss": 0.04501618072390556
         },
         {
          "i": 947,
          "loss": 0.04498858377337456
         },
         {
          "i": 948,
          "loss": 0.04495667293667793
         },
         {
          "i": 949,
          "loss": 0.04492234066128731
         },
         {
          "i": 950,
          "loss": 0.04488807171583176
         },
         {
          "i": 951,
          "loss": 0.04485400766134262
         },
         {
          "i": 952,
          "loss": 0.04482455179095268
         },
         {
          "i": 953,
          "loss": 0.04479539394378662
         },
         {
          "i": 954,
          "loss": 0.04476159065961838
         },
         {
          "i": 955,
          "loss": 0.044727858155965805
         },
         {
          "i": 956,
          "loss": 0.044694215059280396
         },
         {
          "i": 957,
          "loss": 0.044662751257419586
         },
         {
          "i": 958,
          "loss": 0.0446365550160408
         },
         {
          "i": 959,
          "loss": 0.04460317641496658
         },
         {
          "i": 960,
          "loss": 0.044569917023181915
         },
         {
          "i": 961,
          "loss": 0.04453687742352486
         },
         {
          "i": 962,
          "loss": 0.044503796845674515
         },
         {
          "i": 963,
          "loss": 0.04447910189628601
         },
         {
          "i": 964,
          "loss": 0.04444717988371849
         },
         {
          "i": 965,
          "loss": 0.044414397329092026
         },
         {
          "i": 966,
          "loss": 0.044381774961948395
         },
         {
          "i": 967,
          "loss": 0.044349223375320435
         },
         {
          "i": 968,
          "loss": 0.044321756809949875
         },
         {
          "i": 969,
          "loss": 0.044293440878391266
         },
         {
          "i": 970,
          "loss": 0.04426112025976181
         },
         {
          "i": 971,
          "loss": 0.04422895610332489
         },
         {
          "i": 972,
          "loss": 0.0441969595849514
         },
         {
          "i": 973,
          "loss": 0.044166382402181625
         },
         {
          "i": 974,
          "loss": 0.04414186626672745
         },
         {
          "i": 975,
          "loss": 0.04411007836461067
         },
         {
          "i": 976,
          "loss": 0.04407843202352524
         },
         {
          "i": 977,
          "loss": 0.04404674470424652
         },
         {
          "i": 978,
          "loss": 0.04401528462767601
         },
         {
          "i": 979,
          "loss": 0.0439903698861599
         },
         {
          "i": 980,
          "loss": 0.04396132007241249
         },
         {
          "i": 981,
          "loss": 0.043930068612098694
         },
         {
          "i": 982,
          "loss": 0.0438988171517849
         },
         {
          "i": 983,
          "loss": 0.0438678152859211
         },
         {
          "i": 984,
          "loss": 0.04383927211165428
         },
         {
          "i": 985,
          "loss": 0.043814584612846375
         },
         {
          "i": 986,
          "loss": 0.04378389194607735
         },
         {
          "i": 987,
          "loss": 0.043753091245889664
         },
         {
          "i": 988,
          "loss": 0.04372243583202362
         },
         {
          "i": 989,
          "loss": 0.04369186982512474
         },
         {
          "i": 990,
          "loss": 0.043668270111083984
         },
         {
          "i": 991,
          "loss": 0.04363969340920448
         },
         {
          "i": 992,
          "loss": 0.0436093807220459
         },
         {
          "i": 993,
          "loss": 0.04357919842004776
         },
         {
          "i": 994,
          "loss": 0.04354909062385559
         },
         {
          "i": 995,
          "loss": 0.04352128133177757
         },
         {
          "i": 996,
          "loss": 0.04349766671657562
         },
         {
          "i": 997,
          "loss": 0.04346777871251106
         },
         {
          "i": 998,
          "loss": 0.043438032269477844
         },
         {
          "i": 999,
          "loss": 0.043408289551734924
         }
        ]
       },
       "encoding": {
        "x": {
         "field": "i",
         "type": "quantitative"
        },
        "y": {
         "field": "loss",
         "type": "quantitative"
        }
       },
       "height": 100,
       "mark": "line"
      },
      "image/png": "[encoded data removed]",
      "text/plain": [
       "<VegaLite 3 object>\n",
       "\n",
       "If you see this message, it means the renderer has not been properly enabled\n",
       "for the frontend that you are using. For more information, see\n",
       "https://altair-viz.github.io/user_guide/troubleshooting.html\n"
      ]
     },
     "execution_count": 420,
     "metadata": {},
     "output_type": "execute_result"
    }
   ],
   "source": [
    "loss_df = pd.DataFrame({'i':range(n_steps), 'loss':loss_record})\n",
    "alt.Chart(loss_df, height=100).mark_line().encode(x='i', y='loss')"
   ]
  },
  {
   "cell_type": "code",
   "execution_count": 421,
   "metadata": {},
   "outputs": [
    {
     "data": {
      "application/vnd.vegalite.v3+json": {
       "$schema": "https://vega.github.io/schema/vega-lite/v3.4.0.json",
       "config": {
        "mark": {
         "tooltip": null
        },
        "view": {
         "height": 300,
         "width": 400
        }
       },
       "data": {
        "name": "data-76098fe1cd8ae47a5edaf70954c80793"
       },
       "datasets": {
        "data-76098fe1cd8ae47a5edaf70954c80793": [
         {
          "x1": 0.08280444890260696,
          "y": 0.006856576539576054,
          "ŷ": 0.040471434593200684
         },
         {
          "x1": 0.2611498236656189,
          "y": 0.06819923222064972,
          "ŷ": 0.04478740692138672
         },
         {
          "x1": -1.766882061958313,
          "y": 3.1218721866607666,
          "ŷ": 3.548409938812256
         },
         {
          "x1": -0.41267505288124084,
          "y": 0.17030069231987,
          "ŷ": 0.2076246738433838
         },
         {
          "x1": 0.05199672281742096,
          "y": 0.002703659236431122,
          "ŷ": 0.015500903129577637
         },
         {
          "x1": -1.118689775466919,
          "y": 1.2514668703079224,
          "ŷ": 1.3383533954620361
         },
         {
          "x1": 0.2979719042778015,
          "y": 0.0887872576713562,
          "ŷ": 0.03557717800140381
         },
         {
          "x1": 1.7060558795928955,
          "y": 2.9106266498565674,
          "ŷ": 2.8492400646209717
         },
         {
          "x1": 0.007141377776861191,
          "y": 5.09992751176469e-05,
          "ŷ": -0.02085566520690918
         },
         {
          "x1": -0.19151240587234497,
          "y": 0.036677002906799316,
          "ŷ": -0.0573352575302124
         },
         {
          "x1": 1.2913581132888794,
          "y": 1.6676057577133179,
          "ŷ": 1.8834166526794434
         },
         {
          "x1": -0.4366617202758789,
          "y": 0.19067345559597015,
          "ŷ": 0.23084169626235962
         },
         {
          "x1": -0.42708587646484375,
          "y": 0.1824023425579071,
          "ŷ": 0.2215731143951416
         },
         {
          "x1": 0.8663976192474365,
          "y": 0.750644862651825,
          "ŷ": 0.8936922550201416
         },
         {
          "x1": 0.5392571091651917,
          "y": 0.29079821705818176,
          "ŷ": 0.1953057050704956
         },
         {
          "x1": 1.0279494524002075,
          "y": 1.0566800832748413,
          "ŷ": 1.2699434757232666
         },
         {
          "x1": -1.3590271472930908,
          "y": 1.8469548225402832,
          "ŷ": 2.2231502532958984
         },
         {
          "x1": 1.7606620788574219,
          "y": 3.099931001663208,
          "ŷ": 2.976417064666748
         },
         {
          "x1": 0.38899365067481995,
          "y": 0.1513160616159439,
          "ŷ": 0.015690922737121582
         },
         {
          "x1": 0.622230589389801,
          "y": 0.3871709108352661,
          "ŷ": 0.32503223419189453
         },
         {
          "x1": -0.4161053001880646,
          "y": 0.17314362525939941,
          "ŷ": 0.2109447717666626
         },
         {
          "x1": -0.9909812808036804,
          "y": 0.9820439219474792,
          "ŷ": 0.8952365517616272
         },
         {
          "x1": -1.3761556148529053,
          "y": 1.8938043117523193,
          "ŷ": 2.287094831466675
         },
         {
          "x1": -0.29451748728752136,
          "y": 0.08674055337905884,
          "ŷ": 0.09325754642486572
         },
         {
          "x1": -1.3169567584991455,
          "y": 1.7343751192092896,
          "ŷ": 2.0660910606384277
         },
         {
          "x1": 0.11291108280420303,
          "y": 0.012748912908136845,
          "ŷ": 0.06056010723114014
         },
         {
          "x1": -0.8433794379234314,
          "y": 0.7112888693809509,
          "ŷ": 0.44265130162239075
         },
         {
          "x1": -0.39182108640670776,
          "y": 0.1535237580537796,
          "ŷ": 0.18743956089019775
         },
         {
          "x1": -0.6696034073829651,
          "y": 0.44836872816085815,
          "ŷ": 0.23149985074996948
         },
         {
          "x1": -1.4424424171447754,
          "y": 2.0806400775909424,
          "ŷ": 2.5345587730407715
         },
         {
          "x1": -0.8470696806907654,
          "y": 0.7175270318984985,
          "ŷ": 0.4471356272697449
         },
         {
          "x1": -0.35688602924346924,
          "y": 0.12736763060092926,
          "ŷ": 0.15362507104873657
         },
         {
          "x1": -0.46030327677726746,
          "y": 0.21187910437583923,
          "ŷ": 0.2537250220775604
         },
         {
          "x1": 0.4237039387226105,
          "y": 0.17952503263950348,
          "ŷ": 0.057181358337402344
         },
         {
          "x1": 0.12298184633255005,
          "y": 0.015124534256756306,
          "ŷ": 0.06689965724945068
         },
         {
          "x1": 0.029538944363594055,
          "y": 0.000872549251653254,
          "ŷ": -0.002701878547668457
         },
         {
          "x1": 0.9883290529251099,
          "y": 0.9767943024635315,
          "ŷ": 1.1776680946350098
         },
         {
          "x1": 0.33233681321144104,
          "y": 0.11044775694608688,
          "ŷ": 0.026981830596923828
         },
         {
          "x1": -2.3166000843048096,
          "y": 5.366635799407959,
          "ŷ": 5.174539566040039
         },
         {
          "x1": 0.03726768493652344,
          "y": 0.0013888803077861667,
          "ŷ": 0.0035625696182250977
         },
         {
          "x1": 1.1563609838485718,
          "y": 1.3371707201004028,
          "ŷ": 1.5690109729766846
         },
         {
          "x1": -0.5004856586456299,
          "y": 0.250485897064209,
          "ŷ": 0.2926183342933655
         },
         {
          "x1": -1.0840823650360107,
          "y": 1.1752345561981201,
          "ŷ": 1.218274474143982
         },
         {
          "x1": -0.6460028886795044,
          "y": 0.41731974482536316,
          "ŷ": 0.20282316207885742
         },
         {
          "x1": 0.46163782477378845,
          "y": 0.21310947835445404,
          "ŷ": 0.10252487659454346
         },
         {
          "x1": 1.542036771774292,
          "y": 2.3778774738311768,
          "ŷ": 2.467242956161499
         },
         {
          "x1": 1.5336920022964478,
          "y": 2.3522112369537354,
          "ŷ": 2.447807550430298
         },
         {
          "x1": -0.37813079357147217,
          "y": 0.14298290014266968,
          "ŷ": 0.17418861389160156
         },
         {
          "x1": 0.31397783756256104,
          "y": 0.09858208149671555,
          "ŷ": 0.03157377243041992
         },
         {
          "x1": 0.30648359656333923,
          "y": 0.09393219649791718,
          "ŷ": 0.033447861671447754
         },
         {
          "x1": 0.4882722496986389,
          "y": 0.23840978741645813,
          "ŷ": 0.1343618631362915
         },
         {
          "x1": -0.49019280076026917,
          "y": 0.24028898775577545,
          "ŷ": 0.28265559673309326
         },
         {
          "x1": -0.4008575975894928,
          "y": 0.16068682074546814,
          "ŷ": 0.19618618488311768
         },
         {
          "x1": -0.5458754301071167,
          "y": 0.2979799807071686,
          "ŷ": 0.3365519344806671
         },
         {
          "x1": 0.21073618531227112,
          "y": 0.04440974071621895,
          "ŷ": 0.05739736557006836
         },
         {
          "x1": 0.18806402385234833,
          "y": 0.03536807745695114,
          "ŷ": 0.06306850910186768
         },
         {
          "x1": -1.1930508613586426,
          "y": 1.423370361328125,
          "ŷ": 1.6035199165344238
         },
         {
          "x1": -1.3614460229873657,
          "y": 1.8535352945327759,
          "ŷ": 2.232179641723633
         },
         {
          "x1": -1.1678515672683716,
          "y": 1.363877296447754,
          "ŷ": 1.5094445943832397
         },
         {
          "x1": -0.12297215312719345,
          "y": 0.01512215007096529,
          "ŷ": -0.12631642818450928
         },
         {
          "x1": 0.25776436924934387,
          "y": 0.06644246727228165,
          "ŷ": 0.04563438892364502
         },
         {
          "x1": -0.29863661527633667,
          "y": 0.08918382972478867,
          "ŷ": 0.09724456071853638
         },
         {
          "x1": -1.2188252210617065,
          "y": 1.485534906387329,
          "ŷ": 1.6997413635253906
         },
         {
          "x1": 1.6410876512527466,
          "y": 2.6931686401367188,
          "ŷ": 2.697930097579956
         },
         {
          "x1": -0.16924957931041718,
          "y": 0.02864542044699192,
          "ŷ": -0.10016924142837524
         },
         {
          "x1": 1.1347719430923462,
          "y": 1.2877073287963867,
          "ŷ": 1.518730640411377
         },
         {
          "x1": -0.059143610298633575,
          "y": 0.0034979665651917458,
          "ŷ": -0.07458138465881348
         },
         {
          "x1": -0.965086817741394,
          "y": 0.9313925504684448,
          "ŷ": 0.805388867855072
         },
         {
          "x1": 1.5372997522354126,
          "y": 2.363290548324585,
          "ŷ": 2.456209897994995
         },
         {
          "x1": 1.015575647354126,
          "y": 1.0313938856124878,
          "ŷ": 1.2411251068115234
         },
         {
          "x1": 2.0143868923187256,
          "y": 4.0577545166015625,
          "ŷ": 3.5673365592956543
         },
         {
          "x1": 0.05006801709532738,
          "y": 0.002506806282326579,
          "ŷ": 0.013937652111053467
         },
         {
          "x1": -0.2928953766822815,
          "y": 0.08578769862651825,
          "ŷ": 0.09168732166290283
         },
         {
          "x1": -1.154510259628296,
          "y": 1.332893967628479,
          "ŷ": 1.462641716003418
         },
         {
          "x1": 1.2777920961380005,
          "y": 1.6327526569366455,
          "ŷ": 1.8518218994140625
         },
         {
          "x1": -0.11746938526630402,
          "y": 0.01379905641078949,
          "ŷ": -0.12185633182525635
         },
         {
          "x1": -0.20153334736824036,
          "y": 0.040615689009428024,
          "ŷ": -0.03805530071258545
         },
         {
          "x1": 0.7249334454536438,
          "y": 0.5255284905433655,
          "ŷ": 0.5642251968383789
         },
         {
          "x1": -1.2366387844085693,
          "y": 1.5292755365371704,
          "ŷ": 1.7662444114685059
         },
         {
          "x1": -0.15545403957366943,
          "y": 0.024165958166122437,
          "ŷ": -0.12671196460723877
         },
         {
          "x1": -0.7489867210388184,
          "y": 0.5609810948371887,
          "ŷ": 0.3279569149017334
         },
         {
          "x1": -0.3762671649456024,
          "y": 0.14157697558403015,
          "ŷ": 0.17238450050354004
         },
         {
          "x1": -0.7092413306236267,
          "y": 0.5030232667922974,
          "ŷ": 0.27966296672821045
         },
         {
          "x1": -0.2671351432800293,
          "y": 0.07136118412017822,
          "ŷ": 0.06675350666046143
         },
         {
          "x1": 2.0621705055236816,
          "y": 4.252547264099121,
          "ŷ": 3.6786234378814697
         },
         {
          "x1": -0.28914451599121094,
          "y": 0.08360455185174942,
          "ŷ": 0.08805680274963379
         },
         {
          "x1": -0.8045197129249573,
          "y": 0.6472519636154175,
          "ŷ": 0.3954337239265442
         },
         {
          "x1": 1.3004653453826904,
          "y": 1.691210150718689,
          "ŷ": 1.9046275615692139
         },
         {
          "x1": -1.964037537574768,
          "y": 3.857443332672119,
          "ŷ": 4.131618976593018
         },
         {
          "x1": 0.10534229129552841,
          "y": 0.011096998117864132,
          "ŷ": 0.05579495429992676
         },
         {
          "x1": 0.712552011013031,
          "y": 0.5077303647994995,
          "ŷ": 0.5353889465332031
         },
         {
          "x1": -0.7572634220123291,
          "y": 0.5734478831291199,
          "ŷ": 0.3380136489868164
         },
         {
          "x1": 0.11622537672519684,
          "y": 0.01350833848118782,
          "ŷ": 0.06264621019363403
         },
         {
          "x1": 0.5252043008804321,
          "y": 0.27583956718444824,
          "ŷ": 0.17850780487060547
         },
         {
          "x1": 0.5213585495948792,
          "y": 0.2718147337436676,
          "ŷ": 0.1739112138748169
         },
         {
          "x1": 0.8140403628349304,
          "y": 0.6626617312431335,
          "ŷ": 0.7717530727386475
         },
         {
          "x1": -0.05385923385620117,
          "y": 0.0029008169658482075,
          "ŷ": -0.07029855251312256
         },
         {
          "x1": 1.394529104232788,
          "y": 1.944711446762085,
          "ŷ": 2.123699903488159
         },
         {
          "x1": -0.9816306829452515,
          "y": 0.9635987877845764,
          "ŷ": 0.8627926111221313
         },
         {
          "x1": -2.765305519104004,
          "y": 7.646914482116699,
          "ŷ": 6.501860618591309
         }
        ]
       },
       "layer": [
        {
         "encoding": {
          "x": {
           "field": "x1",
           "type": "quantitative"
          },
          "y": {
           "field": "ŷ",
           "type": "quantitative"
          }
         },
         "mark": "line"
        },
        {
         "encoding": {
          "x": {
           "field": "x1",
           "type": "quantitative"
          },
          "y": {
           "field": "y",
           "type": "quantitative"
          }
         },
         "mark": "point"
        }
       ]
      },
      "image/png": "[encoded data removed]",
      "text/plain": [
       "<VegaLite 3 object>\n",
       "\n",
       "If you see this message, it means the renderer has not been properly enabled\n",
       "for the frontend that you are using. For more information, see\n",
       "https://altair-viz.github.io/user_guide/troubleshooting.html\n"
      ]
     },
     "execution_count": 421,
     "metadata": {},
     "output_type": "execute_result"
    }
   ],
   "source": [
    "preds = pd.DataFrame({'ŷ':my_model(x).detach().numpy()[:,0], 'y':y[:,0], 'x1':x[:,0]})\n",
    "(alt.Chart(preds).mark_line().encode(x='x1', y='ŷ') + \n",
    "alt.Chart(preds).mark_point().encode(x='x1', y='y'))"
   ]
  },
  {
   "cell_type": "markdown",
   "metadata": {},
   "source": [
    "It's easy to get predictions on new data:"
   ]
  },
  {
   "cell_type": "code",
   "execution_count": 422,
   "metadata": {},
   "outputs": [
    {
     "data": {
      "text/plain": [
       "tensor([[ 0.1561],\n",
       "        [ 0.3794],\n",
       "        [ 0.2540],\n",
       "        [-0.0810],\n",
       "        [ 1.2983],\n",
       "        [ 1.0457],\n",
       "        [ 1.4800],\n",
       "        [ 0.2456],\n",
       "        [ 0.0334],\n",
       "        [ 2.5794]], grad_fn=<AddBackward0>)"
      ]
     },
     "execution_count": 422,
     "metadata": {},
     "output_type": "execute_result"
    }
   ],
   "source": [
    "x_new = torch.randn(10, 1)\n",
    "my_model(x_new)"
   ]
  },
  {
   "cell_type": "markdown",
   "metadata": {},
   "source": [
    "Because our code is modular, it's trivial to add more layers or change their sizes. Let's also a new dataset with a different relationship between $x$ and $y$ to see we can fit pretty arbitrary nonlinearities."
   ]
  },
  {
   "cell_type": "code",
   "execution_count": 431,
   "metadata": {},
   "outputs": [],
   "source": [
    "x = torch.randn(n, p) # predictors (n observations, p features)\n",
    "y = (x[:,0]**3 + torch.sin(4*x[:,0])).unsqueeze(dim=1) # outcomes (n observations)"
   ]
  },
  {
   "cell_type": "code",
   "execution_count": 432,
   "metadata": {},
   "outputs": [],
   "source": [
    "my_model = Model([1,10,50,5,5,1])\n",
    "\n",
    "n_steps = 2000\n",
    "ϵ = 0.5*10e-4\n",
    "loss_record = []\n",
    "\n",
    "for e in range(n_steps):\n",
    "    ŷ = my_model(x) \n",
    "    L = torch.sum((y-ŷ)**2)/len(ŷ)\n",
    "    \n",
    "    loss_record.append(L.item())\n",
    "    L.backward()\n",
    "    \n",
    "    my_model.step(ϵ)"
   ]
  },
  {
   "cell_type": "code",
   "execution_count": 433,
   "metadata": {},
   "outputs": [
    {
     "data": {
      "application/vnd.vegalite.v3+json": {
       "$schema": "https://vega.github.io/schema/vega-lite/v3.4.0.json",
       "config": {
        "mark": {
         "tooltip": null
        },
        "view": {
         "height": 300,
         "width": 400
        }
       },
       "data": {
        "name": "data-c8a0a0395530c5286d38527c18f51fb7"
       },
       "datasets": {
        "data-c8a0a0395530c5286d38527c18f51fb7": [
         {
          "i": 0,
          "loss": 35.00901412963867
         },
         {
          "i": 1,
          "loss": 31.616880416870117
         },
         {
          "i": 2,
          "loss": 28.803773880004883
         },
         {
          "i": 3,
          "loss": 26.543615341186523
         },
         {
          "i": 4,
          "loss": 24.591575622558594
         },
         {
          "i": 5,
          "loss": 23.7381534576416
         },
         {
          "i": 6,
          "loss": 23.259523391723633
         },
         {
          "i": 7,
          "loss": 22.77978515625
         },
         {
          "i": 8,
          "loss": 22.31452178955078
         },
         {
          "i": 9,
          "loss": 21.857709884643555
         },
         {
          "i": 10,
          "loss": 21.510778427124023
         },
         {
          "i": 11,
          "loss": 21.22991943359375
         },
         {
          "i": 12,
          "loss": 20.956615447998047
         },
         {
          "i": 13,
          "loss": 20.709400177001953
         },
         {
          "i": 14,
          "loss": 20.465866088867188
         },
         {
          "i": 15,
          "loss": 20.210302352905273
         },
         {
          "i": 16,
          "loss": 19.9591121673584
         },
         {
          "i": 17,
          "loss": 19.717884063720703
         },
         {
          "i": 18,
          "loss": 19.508663177490234
         },
         {
          "i": 19,
          "loss": 19.26287269592285
         },
         {
          "i": 20,
          "loss": 19.022083282470703
         },
         {
          "i": 21,
          "loss": 18.821269989013672
         },
         {
          "i": 22,
          "loss": 18.588542938232422
         },
         {
          "i": 23,
          "loss": 18.357507705688477
         },
         {
          "i": 24,
          "loss": 18.163061141967773
         },
         {
          "i": 25,
          "loss": 17.925148010253906
         },
         {
          "i": 26,
          "loss": 17.726383209228516
         },
         {
          "i": 27,
          "loss": 17.5109806060791
         },
         {
          "i": 28,
          "loss": 17.294694900512695
         },
         {
          "i": 29,
          "loss": 17.101072311401367
         },
         {
          "i": 30,
          "loss": 16.87702178955078
         },
         {
          "i": 31,
          "loss": 16.696447372436523
         },
         {
          "i": 32,
          "loss": 16.471948623657227
         },
         {
          "i": 33,
          "loss": 16.296659469604492
         },
         {
          "i": 34,
          "loss": 16.077871322631836
         },
         {
          "i": 35,
          "loss": 15.901185035705566
         },
         {
          "i": 36,
          "loss": 15.693730354309082
         },
         {
          "i": 37,
          "loss": 15.511585235595703
         },
         {
          "i": 38,
          "loss": 15.316213607788086
         },
         {
          "i": 39,
          "loss": 15.1375093460083
         },
         {
          "i": 40,
          "loss": 14.947528839111328
         },
         {
          "i": 41,
          "loss": 14.76913833618164
         },
         {
          "i": 42,
          "loss": 14.590594291687012
         },
         {
          "i": 43,
          "loss": 14.409154891967773
         },
         {
          "i": 44,
          "loss": 14.244246482849121
         },
         {
          "i": 45,
          "loss": 14.056870460510254
         },
         {
          "i": 46,
          "loss": 13.9047269821167
         },
         {
          "i": 47,
          "loss": 13.720477104187012
         },
         {
          "i": 48,
          "loss": 13.573033332824707
         },
         {
          "i": 49,
          "loss": 13.403303146362305
         },
         {
          "i": 50,
          "loss": 13.242842674255371
         },
         {
          "i": 51,
          "loss": 13.092123985290527
         },
         {
          "i": 52,
          "loss": 12.927468299865723
         },
         {
          "i": 53,
          "loss": 12.789759635925293
         },
         {
          "i": 54,
          "loss": 12.628674507141113
         },
         {
          "i": 55,
          "loss": 12.495059967041016
         },
         {
          "i": 56,
          "loss": 12.347347259521484
         },
         {
          "i": 57,
          "loss": 12.203435897827148
         },
         {
          "i": 58,
          "loss": 12.060707092285156
         },
         {
          "i": 59,
          "loss": 11.905187606811523
         },
         {
          "i": 60,
          "loss": 11.752999305725098
         },
         {
          "i": 61,
          "loss": 11.604146957397461
         },
         {
          "i": 62,
          "loss": 11.458617210388184
         },
         {
          "i": 63,
          "loss": 11.316422462463379
         },
         {
          "i": 64,
          "loss": 11.177428245544434
         },
         {
          "i": 65,
          "loss": 11.028412818908691
         },
         {
          "i": 66,
          "loss": 10.883415222167969
         },
         {
          "i": 67,
          "loss": 10.741521835327148
         },
         {
          "i": 68,
          "loss": 10.60272216796875
         },
         {
          "i": 69,
          "loss": 10.467668533325195
         },
         {
          "i": 70,
          "loss": 10.32850456237793
         },
         {
          "i": 71,
          "loss": 10.157676696777344
         },
         {
          "i": 72,
          "loss": 9.993339538574219
         },
         {
          "i": 73,
          "loss": 9.837106704711914
         },
         {
          "i": 74,
          "loss": 9.673890113830566
         },
         {
          "i": 75,
          "loss": 9.476465225219727
         },
         {
          "i": 76,
          "loss": 9.28962516784668
         },
         {
          "i": 77,
          "loss": 9.121356010437012
         },
         {
          "i": 78,
          "loss": 8.965516090393066
         },
         {
          "i": 79,
          "loss": 8.819581031799316
         },
         {
          "i": 80,
          "loss": 8.682790756225586
         },
         {
          "i": 81,
          "loss": 8.554704666137695
         },
         {
          "i": 82,
          "loss": 8.435661315917969
         },
         {
          "i": 83,
          "loss": 8.326489448547363
         },
         {
          "i": 84,
          "loss": 8.225166320800781
         },
         {
          "i": 85,
          "loss": 8.12550163269043
         },
         {
          "i": 86,
          "loss": 8.002033233642578
         },
         {
          "i": 87,
          "loss": 7.876317977905273
         },
         {
          "i": 88,
          "loss": 7.741871356964111
         },
         {
          "i": 89,
          "loss": 7.609046459197998
         },
         {
          "i": 90,
          "loss": 7.4690260887146
         },
         {
          "i": 91,
          "loss": 7.351444244384766
         },
         {
          "i": 92,
          "loss": 7.241574287414551
         },
         {
          "i": 93,
          "loss": 7.1217942237854
         },
         {
          "i": 94,
          "loss": 7.023608207702637
         },
         {
          "i": 95,
          "loss": 6.941044807434082
         },
         {
          "i": 96,
          "loss": 6.871143817901611
         },
         {
          "i": 97,
          "loss": 6.8118414878845215
         },
         {
          "i": 98,
          "loss": 6.760077953338623
         },
         {
          "i": 99,
          "loss": 6.716719150543213
         },
         {
          "i": 100,
          "loss": 6.680603504180908
         },
         {
          "i": 101,
          "loss": 6.651292324066162
         },
         {
          "i": 102,
          "loss": 6.626166343688965
         },
         {
          "i": 103,
          "loss": 6.605021953582764
         },
         {
          "i": 104,
          "loss": 6.584840297698975
         },
         {
          "i": 105,
          "loss": 6.557184219360352
         },
         {
          "i": 106,
          "loss": 6.5346832275390625
         },
         {
          "i": 107,
          "loss": 6.515628814697266
         },
         {
          "i": 108,
          "loss": 6.5001654624938965
         },
         {
          "i": 109,
          "loss": 6.4881978034973145
         },
         {
          "i": 110,
          "loss": 6.473710536956787
         },
         {
          "i": 111,
          "loss": 6.439791202545166
         },
         {
          "i": 112,
          "loss": 6.4131364822387695
         },
         {
          "i": 113,
          "loss": 6.378123760223389
         },
         {
          "i": 114,
          "loss": 6.3547892570495605
         },
         {
          "i": 115,
          "loss": 6.339087009429932
         },
         {
          "i": 116,
          "loss": 6.32731819152832
         },
         {
          "i": 117,
          "loss": 6.3181843757629395
         },
         {
          "i": 118,
          "loss": 6.310818672180176
         },
         {
          "i": 119,
          "loss": 6.304647922515869
         },
         {
          "i": 120,
          "loss": 6.299349308013916
         },
         {
          "i": 121,
          "loss": 6.294920444488525
         },
         {
          "i": 122,
          "loss": 6.290877819061279
         },
         {
          "i": 123,
          "loss": 6.287087917327881
         },
         {
          "i": 124,
          "loss": 6.283450126647949
         },
         {
          "i": 125,
          "loss": 6.279947280883789
         },
         {
          "i": 126,
          "loss": 6.276552200317383
         },
         {
          "i": 127,
          "loss": 6.273255825042725
         },
         {
          "i": 128,
          "loss": 6.270118236541748
         },
         {
          "i": 129,
          "loss": 6.266950607299805
         },
         {
          "i": 130,
          "loss": 6.263838291168213
         },
         {
          "i": 131,
          "loss": 6.26077127456665
         },
         {
          "i": 132,
          "loss": 6.257858753204346
         },
         {
          "i": 133,
          "loss": 6.254971504211426
         },
         {
          "i": 134,
          "loss": 6.252093315124512
         },
         {
          "i": 135,
          "loss": 6.249246597290039
         },
         {
          "i": 136,
          "loss": 6.246526718139648
         },
         {
          "i": 137,
          "loss": 6.243765354156494
         },
         {
          "i": 138,
          "loss": 6.241001129150391
         },
         {
          "i": 139,
          "loss": 6.2382612228393555
         },
         {
          "i": 140,
          "loss": 6.235580921173096
         },
         {
          "i": 141,
          "loss": 6.232481002807617
         },
         {
          "i": 142,
          "loss": 6.228705406188965
         },
         {
          "i": 143,
          "loss": 6.225114822387695
         },
         {
          "i": 144,
          "loss": 6.221569061279297
         },
         {
          "i": 145,
          "loss": 6.2179107666015625
         },
         {
          "i": 146,
          "loss": 6.214170455932617
         },
         {
          "i": 147,
          "loss": 6.210535049438477
         },
         {
          "i": 148,
          "loss": 6.206918716430664
         },
         {
          "i": 149,
          "loss": 6.203470230102539
         },
         {
          "i": 150,
          "loss": 6.200051307678223
         },
         {
          "i": 151,
          "loss": 6.196633338928223
         },
         {
          "i": 152,
          "loss": 6.193314075469971
         },
         {
          "i": 153,
          "loss": 6.189763069152832
         },
         {
          "i": 154,
          "loss": 6.186199188232422
         },
         {
          "i": 155,
          "loss": 6.182774543762207
         },
         {
          "i": 156,
          "loss": 6.179403781890869
         },
         {
          "i": 157,
          "loss": 6.176028251647949
         },
         {
          "i": 158,
          "loss": 6.1727519035339355
         },
         {
          "i": 159,
          "loss": 6.169567108154297
         },
         {
          "i": 160,
          "loss": 6.166357517242432
         },
         {
          "i": 161,
          "loss": 6.1632256507873535
         },
         {
          "i": 162,
          "loss": 6.160261154174805
         },
         {
          "i": 163,
          "loss": 6.157271862030029
         },
         {
          "i": 164,
          "loss": 6.1543474197387695
         },
         {
          "i": 165,
          "loss": 6.151464462280273
         },
         {
          "i": 166,
          "loss": 6.148655414581299
         },
         {
          "i": 167,
          "loss": 6.145695686340332
         },
         {
          "i": 168,
          "loss": 6.142730712890625
         },
         {
          "i": 169,
          "loss": 6.139803886413574
         },
         {
          "i": 170,
          "loss": 6.136916637420654
         },
         {
          "i": 171,
          "loss": 6.134115695953369
         },
         {
          "i": 172,
          "loss": 6.1313018798828125
         },
         {
          "i": 173,
          "loss": 6.128511905670166
         },
         {
          "i": 174,
          "loss": 6.1257429122924805
         },
         {
          "i": 175,
          "loss": 6.122966289520264
         },
         {
          "i": 176,
          "loss": 6.120237827301025
         },
         {
          "i": 177,
          "loss": 6.117569446563721
         },
         {
          "i": 178,
          "loss": 6.1148881912231445
         },
         {
          "i": 179,
          "loss": 6.1122307777404785
         },
         {
          "i": 180,
          "loss": 6.109601020812988
         },
         {
          "i": 181,
          "loss": 6.106998443603516
         },
         {
          "i": 182,
          "loss": 6.1044206619262695
         },
         {
          "i": 183,
          "loss": 6.101874351501465
         },
         {
          "i": 184,
          "loss": 6.099433422088623
         },
         {
          "i": 185,
          "loss": 6.097026824951172
         },
         {
          "i": 186,
          "loss": 6.09463357925415
         },
         {
          "i": 187,
          "loss": 6.09225606918335
         },
         {
          "i": 188,
          "loss": 6.08990478515625
         },
         {
          "i": 189,
          "loss": 6.087603569030762
         },
         {
          "i": 190,
          "loss": 6.085403919219971
         },
         {
          "i": 191,
          "loss": 6.08322286605835
         },
         {
          "i": 192,
          "loss": 6.081057071685791
         },
         {
          "i": 193,
          "loss": 6.078911304473877
         },
         {
          "i": 194,
          "loss": 6.076780796051025
         },
         {
          "i": 195,
          "loss": 6.0746073722839355
         },
         {
          "i": 196,
          "loss": 6.072237968444824
         },
         {
          "i": 197,
          "loss": 6.069901943206787
         },
         {
          "i": 198,
          "loss": 6.067598819732666
         },
         {
          "i": 199,
          "loss": 6.0653204917907715
         },
         {
          "i": 200,
          "loss": 6.063065052032471
         },
         {
          "i": 201,
          "loss": 6.0608344078063965
         },
         {
          "i": 202,
          "loss": 6.058622360229492
         },
         {
          "i": 203,
          "loss": 6.056430816650391
         },
         {
          "i": 204,
          "loss": 6.054260730743408
         },
         {
          "i": 205,
          "loss": 6.052108287811279
         },
         {
          "i": 206,
          "loss": 6.049972057342529
         },
         {
          "i": 207,
          "loss": 6.047853469848633
         },
         {
          "i": 208,
          "loss": 6.045751571655273
         },
         {
          "i": 209,
          "loss": 6.043662071228027
         },
         {
          "i": 210,
          "loss": 6.041582107543945
         },
         {
          "i": 211,
          "loss": 6.039516448974609
         },
         {
          "i": 212,
          "loss": 6.0374650955200195
         },
         {
          "i": 213,
          "loss": 6.035430431365967
         },
         {
          "i": 214,
          "loss": 6.033426284790039
         },
         {
          "i": 215,
          "loss": 6.031518936157227
         },
         {
          "i": 216,
          "loss": 6.029623031616211
         },
         {
          "i": 217,
          "loss": 6.027736186981201
         },
         {
          "i": 218,
          "loss": 6.025860786437988
         },
         {
          "i": 219,
          "loss": 6.023998260498047
         },
         {
          "i": 220,
          "loss": 6.022208213806152
         },
         {
          "i": 221,
          "loss": 6.020418643951416
         },
         {
          "i": 222,
          "loss": 6.0186381340026855
         },
         {
          "i": 223,
          "loss": 6.016867160797119
         },
         {
          "i": 224,
          "loss": 6.015103816986084
         },
         {
          "i": 225,
          "loss": 6.013349533081055
         },
         {
          "i": 226,
          "loss": 6.011603355407715
         },
         {
          "i": 227,
          "loss": 6.009864330291748
         },
         {
          "i": 228,
          "loss": 6.008133411407471
         },
         {
          "i": 229,
          "loss": 6.006411075592041
         },
         {
          "i": 230,
          "loss": 6.004695892333984
         },
         {
          "i": 231,
          "loss": 6.002989292144775
         },
         {
          "i": 232,
          "loss": 6.001290321350098
         },
         {
          "i": 233,
          "loss": 5.999598979949951
         },
         {
          "i": 234,
          "loss": 5.9979143142700195
         },
         {
          "i": 235,
          "loss": 5.9962382316589355
         },
         {
          "i": 236,
          "loss": 5.994568347930908
         },
         {
          "i": 237,
          "loss": 5.992907524108887
         },
         {
          "i": 238,
          "loss": 5.991253852844238
         },
         {
          "i": 239,
          "loss": 5.989606857299805
         },
         {
          "i": 240,
          "loss": 5.9879655838012695
         },
         {
          "i": 241,
          "loss": 5.986334323883057
         },
         {
          "i": 242,
          "loss": 5.984708786010742
         },
         {
          "i": 243,
          "loss": 5.983090877532959
         },
         {
          "i": 244,
          "loss": 5.981479644775391
         },
         {
          "i": 245,
          "loss": 5.979874134063721
         },
         {
          "i": 246,
          "loss": 5.978277683258057
         },
         {
          "i": 247,
          "loss": 5.976686000823975
         },
         {
          "i": 248,
          "loss": 5.975101947784424
         },
         {
          "i": 249,
          "loss": 5.97352409362793
         },
         {
          "i": 250,
          "loss": 5.971954345703125
         },
         {
          "i": 251,
          "loss": 5.9703898429870605
         },
         {
          "i": 252,
          "loss": 5.968832015991211
         },
         {
          "i": 253,
          "loss": 5.967282772064209
         },
         {
          "i": 254,
          "loss": 5.9657392501831055
         },
         {
          "i": 255,
          "loss": 5.964200496673584
         },
         {
          "i": 256,
          "loss": 5.962669849395752
         },
         {
          "i": 257,
          "loss": 5.96114444732666
         },
         {
          "i": 258,
          "loss": 5.959625720977783
         },
         {
          "i": 259,
          "loss": 5.9581146240234375
         },
         {
          "i": 260,
          "loss": 5.956607818603516
         },
         {
          "i": 261,
          "loss": 5.955133438110352
         },
         {
          "i": 262,
          "loss": 5.95365047454834
         },
         {
          "i": 263,
          "loss": 5.952194690704346
         },
         {
          "i": 264,
          "loss": 5.950727462768555
         },
         {
          "i": 265,
          "loss": 5.949271202087402
         },
         {
          "i": 266,
          "loss": 5.947829723358154
         },
         {
          "i": 267,
          "loss": 5.946378231048584
         },
         {
          "i": 268,
          "loss": 5.944946765899658
         },
         {
          "i": 269,
          "loss": 5.943533897399902
         },
         {
          "i": 270,
          "loss": 5.942105293273926
         },
         {
          "i": 271,
          "loss": 5.940693378448486
         },
         {
          "i": 272,
          "loss": 5.939285755157471
         },
         {
          "i": 273,
          "loss": 5.937880039215088
         },
         {
          "i": 274,
          "loss": 5.936497211456299
         },
         {
          "i": 275,
          "loss": 5.935111045837402
         },
         {
          "i": 276,
          "loss": 5.933732986450195
         },
         {
          "i": 277,
          "loss": 5.9323649406433105
         },
         {
          "i": 278,
          "loss": 5.930990695953369
         },
         {
          "i": 279,
          "loss": 5.9296417236328125
         },
         {
          "i": 280,
          "loss": 5.92827033996582
         },
         {
          "i": 281,
          "loss": 5.926942825317383
         },
         {
          "i": 282,
          "loss": 5.92557430267334
         },
         {
          "i": 283,
          "loss": 5.9242424964904785
         },
         {
          "i": 284,
          "loss": 5.922921180725098
         },
         {
          "i": 285,
          "loss": 5.921589374542236
         },
         {
          "i": 286,
          "loss": 5.92026424407959
         },
         {
          "i": 287,
          "loss": 5.9189581871032715
         },
         {
          "i": 288,
          "loss": 5.91762638092041
         },
         {
          "i": 289,
          "loss": 5.916325092315674
         },
         {
          "i": 290,
          "loss": 5.915024280548096
         },
         {
          "i": 291,
          "loss": 5.91374397277832
         },
         {
          "i": 292,
          "loss": 5.912448883056641
         },
         {
          "i": 293,
          "loss": 5.91115665435791
         },
         {
          "i": 294,
          "loss": 5.909893035888672
         },
         {
          "i": 295,
          "loss": 5.908596038818359
         },
         {
          "i": 296,
          "loss": 5.907350063323975
         },
         {
          "i": 297,
          "loss": 5.906072616577148
         },
         {
          "i": 298,
          "loss": 5.904810905456543
         },
         {
          "i": 299,
          "loss": 5.903570175170898
         },
         {
          "i": 300,
          "loss": 5.902300834655762
         },
         {
          "i": 301,
          "loss": 5.901075839996338
         },
         {
          "i": 302,
          "loss": 5.899828910827637
         },
         {
          "i": 303,
          "loss": 5.898585319519043
         },
         {
          "i": 304,
          "loss": 5.897376537322998
         },
         {
          "i": 305,
          "loss": 5.896133899688721
         },
         {
          "i": 306,
          "loss": 5.8949198722839355
         },
         {
          "i": 307,
          "loss": 5.893711566925049
         },
         {
          "i": 308,
          "loss": 5.892484188079834
         },
         {
          "i": 309,
          "loss": 5.891298294067383
         },
         {
          "i": 310,
          "loss": 5.890090465545654
         },
         {
          "i": 311,
          "loss": 5.888881206512451
         },
         {
          "i": 312,
          "loss": 5.887698173522949
         },
         {
          "i": 313,
          "loss": 5.886509895324707
         },
         {
          "i": 314,
          "loss": 5.885344982147217
         },
         {
          "i": 315,
          "loss": 5.884150981903076
         },
         {
          "i": 316,
          "loss": 5.882981777191162
         },
         {
          "i": 317,
          "loss": 5.881824493408203
         },
         {
          "i": 318,
          "loss": 5.880645751953125
         },
         {
          "i": 319,
          "loss": 5.879491806030273
         },
         {
          "i": 320,
          "loss": 5.878345966339111
         },
         {
          "i": 321,
          "loss": 5.8771820068359375
         },
         {
          "i": 322,
          "loss": 5.876039505004883
         },
         {
          "i": 323,
          "loss": 5.874910831451416
         },
         {
          "i": 324,
          "loss": 5.8737592697143555
         },
         {
          "i": 325,
          "loss": 5.872626304626465
         },
         {
          "i": 326,
          "loss": 5.871514797210693
         },
         {
          "i": 327,
          "loss": 5.870378494262695
         },
         {
          "i": 328,
          "loss": 5.869253635406494
         },
         {
          "i": 329,
          "loss": 5.868135929107666
         },
         {
          "i": 330,
          "loss": 5.867041110992432
         },
         {
          "i": 331,
          "loss": 5.865933895111084
         },
         {
          "i": 332,
          "loss": 5.864819526672363
         },
         {
          "i": 333,
          "loss": 5.863724231719971
         },
         {
          "i": 334,
          "loss": 5.862642288208008
         },
         {
          "i": 335,
          "loss": 5.86154317855835
         },
         {
          "i": 336,
          "loss": 5.860447406768799
         },
         {
          "i": 337,
          "loss": 5.859386444091797
         },
         {
          "i": 338,
          "loss": 5.858304023742676
         },
         {
          "i": 339,
          "loss": 5.857220649719238
         },
         {
          "i": 340,
          "loss": 5.856151580810547
         },
         {
          "i": 341,
          "loss": 5.8551025390625
         },
         {
          "i": 342,
          "loss": 5.854032039642334
         },
         {
          "i": 343,
          "loss": 5.852964878082275
         },
         {
          "i": 344,
          "loss": 5.851921558380127
         },
         {
          "i": 345,
          "loss": 5.8508782386779785
         },
         {
          "i": 346,
          "loss": 5.849824905395508
         },
         {
          "i": 347,
          "loss": 5.848774433135986
         },
         {
          "i": 348,
          "loss": 5.847751617431641
         },
         {
          "i": 349,
          "loss": 5.846719264984131
         },
         {
          "i": 350,
          "loss": 5.845682144165039
         },
         {
          "i": 351,
          "loss": 5.84465217590332
         },
         {
          "i": 352,
          "loss": 5.8436408042907715
         },
         {
          "i": 353,
          "loss": 5.842627048492432
         },
         {
          "i": 354,
          "loss": 5.8416056632995605
         },
         {
          "i": 355,
          "loss": 5.840587615966797
         },
         {
          "i": 356,
          "loss": 5.839585781097412
         },
         {
          "i": 357,
          "loss": 5.838593006134033
         },
         {
          "i": 358,
          "loss": 5.837585926055908
         },
         {
          "i": 359,
          "loss": 5.836584568023682
         },
         {
          "i": 360,
          "loss": 5.8355889320373535
         },
         {
          "i": 361,
          "loss": 5.834603309631348
         },
         {
          "i": 362,
          "loss": 5.8336181640625
         },
         {
          "i": 363,
          "loss": 5.832643032073975
         },
         {
          "i": 364,
          "loss": 5.831662654876709
         },
         {
          "i": 365,
          "loss": 5.830686569213867
         },
         {
          "i": 366,
          "loss": 5.8297319412231445
         },
         {
          "i": 367,
          "loss": 5.82875919342041
         },
         {
          "i": 368,
          "loss": 5.827789783477783
         },
         {
          "i": 369,
          "loss": 5.826826572418213
         },
         {
          "i": 370,
          "loss": 5.825870990753174
         },
         {
          "i": 371,
          "loss": 5.824918746948242
         },
         {
          "i": 372,
          "loss": 5.823967933654785
         },
         {
          "i": 373,
          "loss": 5.823026657104492
         },
         {
          "i": 374,
          "loss": 5.822080612182617
         },
         {
          "i": 375,
          "loss": 5.821141242980957
         },
         {
          "i": 376,
          "loss": 5.820209980010986
         },
         {
          "i": 377,
          "loss": 5.819273471832275
         },
         {
          "i": 378,
          "loss": 5.818352222442627
         },
         {
          "i": 379,
          "loss": 5.817432880401611
         },
         {
          "i": 380,
          "loss": 5.8165059089660645
         },
         {
          "i": 381,
          "loss": 5.815584659576416
         },
         {
          "i": 382,
          "loss": 5.814664840698242
         },
         {
          "i": 383,
          "loss": 5.813747406005859
         },
         {
          "i": 384,
          "loss": 5.812849044799805
         },
         {
          "i": 385,
          "loss": 5.811948299407959
         },
         {
          "i": 386,
          "loss": 5.811043739318848
         },
         {
          "i": 387,
          "loss": 5.810142993927002
         },
         {
          "i": 388,
          "loss": 5.809241771697998
         },
         {
          "i": 389,
          "loss": 5.808348178863525
         },
         {
          "i": 390,
          "loss": 5.807458400726318
         },
         {
          "i": 391,
          "loss": 5.806572914123535
         },
         {
          "i": 392,
          "loss": 5.805687427520752
         },
         {
          "i": 393,
          "loss": 5.804809093475342
         },
         {
          "i": 394,
          "loss": 5.803936958312988
         },
         {
          "i": 395,
          "loss": 5.8030595779418945
         },
         {
          "i": 396,
          "loss": 5.802186965942383
         },
         {
          "i": 397,
          "loss": 5.801321029663086
         },
         {
          "i": 398,
          "loss": 5.8004584312438965
         },
         {
          "i": 399,
          "loss": 5.7995924949646
         },
         {
          "i": 400,
          "loss": 5.798733711242676
         },
         {
          "i": 401,
          "loss": 5.797882556915283
         },
         {
          "i": 402,
          "loss": 5.79703426361084
         },
         {
          "i": 403,
          "loss": 5.7961835861206055
         },
         {
          "i": 404,
          "loss": 5.795336723327637
         },
         {
          "i": 405,
          "loss": 5.794490814208984
         },
         {
          "i": 406,
          "loss": 5.793646812438965
         },
         {
          "i": 407,
          "loss": 5.792807579040527
         },
         {
          "i": 408,
          "loss": 5.7919721603393555
         },
         {
          "i": 409,
          "loss": 5.791142463684082
         },
         {
          "i": 410,
          "loss": 5.790313243865967
         },
         {
          "i": 411,
          "loss": 5.789486885070801
         },
         {
          "i": 412,
          "loss": 5.788662910461426
         },
         {
          "i": 413,
          "loss": 5.787840366363525
         },
         {
          "i": 414,
          "loss": 5.787020683288574
         },
         {
          "i": 415,
          "loss": 5.786174297332764
         },
         {
          "i": 416,
          "loss": 5.785332679748535
         },
         {
          "i": 417,
          "loss": 5.7844953536987305
         },
         {
          "i": 418,
          "loss": 5.783662796020508
         },
         {
          "i": 419,
          "loss": 5.782835006713867
         },
         {
          "i": 420,
          "loss": 5.782009124755859
         },
         {
          "i": 421,
          "loss": 5.781185150146484
         },
         {
          "i": 422,
          "loss": 5.780365467071533
         },
         {
          "i": 423,
          "loss": 5.779550075531006
         },
         {
          "i": 424,
          "loss": 5.778738975524902
         },
         {
          "i": 425,
          "loss": 5.777928352355957
         },
         {
          "i": 426,
          "loss": 5.777121067047119
         },
         {
          "i": 427,
          "loss": 5.776315689086914
         },
         {
          "i": 428,
          "loss": 5.775518417358398
         },
         {
          "i": 429,
          "loss": 5.77471923828125
         },
         {
          "i": 430,
          "loss": 5.773923397064209
         },
         {
          "i": 431,
          "loss": 5.773130893707275
         },
         {
          "i": 432,
          "loss": 5.772344589233398
         },
         {
          "i": 433,
          "loss": 5.771556377410889
         },
         {
          "i": 434,
          "loss": 5.770773410797119
         },
         {
          "i": 435,
          "loss": 5.76999044418335
         },
         {
          "i": 436,
          "loss": 5.7692155838012695
         },
         {
          "i": 437,
          "loss": 5.768439292907715
         },
         {
          "i": 438,
          "loss": 5.767665863037109
         },
         {
          "i": 439,
          "loss": 5.766897678375244
         },
         {
          "i": 440,
          "loss": 5.766129970550537
         },
         {
          "i": 441,
          "loss": 5.765366077423096
         },
         {
          "i": 442,
          "loss": 5.764604091644287
         },
         {
          "i": 443,
          "loss": 5.763845920562744
         },
         {
          "i": 444,
          "loss": 5.763089179992676
         },
         {
          "i": 445,
          "loss": 5.762333393096924
         },
         {
          "i": 446,
          "loss": 5.761584281921387
         },
         {
          "i": 447,
          "loss": 5.76083517074585
         },
         {
          "i": 448,
          "loss": 5.760088920593262
         },
         {
          "i": 449,
          "loss": 5.759347438812256
         },
         {
          "i": 450,
          "loss": 5.758607387542725
         },
         {
          "i": 451,
          "loss": 5.757866859436035
         },
         {
          "i": 452,
          "loss": 5.757132530212402
         },
         {
          "i": 453,
          "loss": 5.756399154663086
         },
         {
          "i": 454,
          "loss": 5.755667209625244
         },
         {
          "i": 455,
          "loss": 5.754940986633301
         },
         {
          "i": 456,
          "loss": 5.754214286804199
         },
         {
          "i": 457,
          "loss": 5.753490447998047
         },
         {
          "i": 458,
          "loss": 5.752771377563477
         },
         {
          "i": 459,
          "loss": 5.75205135345459
         },
         {
          "i": 460,
          "loss": 5.7513346672058105
         },
         {
          "i": 461,
          "loss": 5.7506232261657715
         },
         {
          "i": 462,
          "loss": 5.749912261962891
         },
         {
          "i": 463,
          "loss": 5.749201774597168
         },
         {
          "i": 464,
          "loss": 5.748498439788818
         },
         {
          "i": 465,
          "loss": 5.747798442840576
         },
         {
          "i": 466,
          "loss": 5.747094631195068
         },
         {
          "i": 467,
          "loss": 5.746397018432617
         },
         {
          "i": 468,
          "loss": 5.745699405670166
         },
         {
          "i": 469,
          "loss": 5.7450056076049805
         },
         {
          "i": 470,
          "loss": 5.744312286376953
         },
         {
          "i": 471,
          "loss": 5.74362325668335
         },
         {
          "i": 472,
          "loss": 5.742941379547119
         },
         {
          "i": 473,
          "loss": 5.742257118225098
         },
         {
          "i": 474,
          "loss": 5.741572380065918
         },
         {
          "i": 475,
          "loss": 5.74089241027832
         },
         {
          "i": 476,
          "loss": 5.740211009979248
         },
         {
          "i": 477,
          "loss": 5.739536285400391
         },
         {
          "i": 478,
          "loss": 5.738867282867432
         },
         {
          "i": 479,
          "loss": 5.738196849822998
         },
         {
          "i": 480,
          "loss": 5.737527847290039
         },
         {
          "i": 481,
          "loss": 5.7368597984313965
         },
         {
          "i": 482,
          "loss": 5.736193656921387
         },
         {
          "i": 483,
          "loss": 5.735529899597168
         },
         {
          "i": 484,
          "loss": 5.734874725341797
         },
         {
          "i": 485,
          "loss": 5.734219551086426
         },
         {
          "i": 486,
          "loss": 5.7335615158081055
         },
         {
          "i": 487,
          "loss": 5.732905864715576
         },
         {
          "i": 488,
          "loss": 5.73225212097168
         },
         {
          "i": 489,
          "loss": 5.731605052947998
         },
         {
          "i": 490,
          "loss": 5.730963706970215
         },
         {
          "i": 491,
          "loss": 5.730315685272217
         },
         {
          "i": 492,
          "loss": 5.729671001434326
         },
         {
          "i": 493,
          "loss": 5.729029655456543
         },
         {
          "i": 494,
          "loss": 5.728390693664551
         },
         {
          "i": 495,
          "loss": 5.727759838104248
         },
         {
          "i": 496,
          "loss": 5.727121353149414
         },
         {
          "i": 497,
          "loss": 5.7264885902404785
         },
         {
          "i": 498,
          "loss": 5.725855827331543
         },
         {
          "i": 499,
          "loss": 5.725229263305664
         },
         {
          "i": 500,
          "loss": 5.724606990814209
         },
         {
          "i": 501,
          "loss": 5.723979949951172
         },
         {
          "i": 502,
          "loss": 5.723354339599609
         },
         {
          "i": 503,
          "loss": 5.722734451293945
         },
         {
          "i": 504,
          "loss": 5.722124099731445
         },
         {
          "i": 505,
          "loss": 5.721503734588623
         },
         {
          "i": 506,
          "loss": 5.720887660980225
         },
         {
          "i": 507,
          "loss": 5.720272064208984
         },
         {
          "i": 508,
          "loss": 5.719667434692383
         },
         {
          "i": 509,
          "loss": 5.719058990478516
         },
         {
          "i": 510,
          "loss": 5.718451023101807
         },
         {
          "i": 511,
          "loss": 5.717843055725098
         },
         {
          "i": 512,
          "loss": 5.7172417640686035
         },
         {
          "i": 513,
          "loss": 5.716646194458008
         },
         {
          "i": 514,
          "loss": 5.716042995452881
         },
         {
          "i": 515,
          "loss": 5.7154436111450195
         },
         {
          "i": 516,
          "loss": 5.714850425720215
         },
         {
          "i": 517,
          "loss": 5.714263916015625
         },
         {
          "i": 518,
          "loss": 5.713665008544922
         },
         {
          "i": 519,
          "loss": 5.713073253631592
         },
         {
          "i": 520,
          "loss": 5.712489128112793
         },
         {
          "i": 521,
          "loss": 5.711907386779785
         },
         {
          "i": 522,
          "loss": 5.711317539215088
         },
         {
          "i": 523,
          "loss": 5.710733413696289
         },
         {
          "i": 524,
          "loss": 5.710160732269287
         },
         {
          "i": 525,
          "loss": 5.709580898284912
         },
         {
          "i": 526,
          "loss": 5.709001064300537
         },
         {
          "i": 527,
          "loss": 5.708423614501953
         },
         {
          "i": 528,
          "loss": 5.707859516143799
         },
         {
          "i": 529,
          "loss": 5.707282543182373
         },
         {
          "i": 530,
          "loss": 5.7067084312438965
         },
         {
          "i": 531,
          "loss": 5.70614767074585
         },
         {
          "i": 532,
          "loss": 5.705581188201904
         },
         {
          "i": 533,
          "loss": 5.705012798309326
         },
         {
          "i": 534,
          "loss": 5.7044501304626465
         },
         {
          "i": 535,
          "loss": 5.7038960456848145
         },
         {
          "i": 536,
          "loss": 5.703331470489502
         },
         {
          "i": 537,
          "loss": 5.702770233154297
         },
         {
          "i": 538,
          "loss": 5.70222282409668
         },
         {
          "i": 539,
          "loss": 5.701664447784424
         },
         {
          "i": 540,
          "loss": 5.701110363006592
         },
         {
          "i": 541,
          "loss": 5.700564384460449
         },
         {
          "i": 542,
          "loss": 5.700016498565674
         },
         {
          "i": 543,
          "loss": 5.6994524002075195
         },
         {
          "i": 544,
          "loss": 5.6981916427612305
         },
         {
          "i": 545,
          "loss": 5.696974277496338
         },
         {
          "i": 546,
          "loss": 5.695796012878418
         },
         {
          "i": 547,
          "loss": 5.6945109367370605
         },
         {
          "i": 548,
          "loss": 5.692011833190918
         },
         {
          "i": 549,
          "loss": 5.689629077911377
         },
         {
          "i": 550,
          "loss": 5.687345504760742
         },
         {
          "i": 551,
          "loss": 5.685146331787109
         },
         {
          "i": 552,
          "loss": 5.682468891143799
         },
         {
          "i": 553,
          "loss": 5.679027080535889
         },
         {
          "i": 554,
          "loss": 5.675719738006592
         },
         {
          "i": 555,
          "loss": 5.672469615936279
         },
         {
          "i": 556,
          "loss": 5.669346332550049
         },
         {
          "i": 557,
          "loss": 5.66633415222168
         },
         {
          "i": 558,
          "loss": 5.663424015045166
         },
         {
          "i": 559,
          "loss": 5.660600662231445
         },
         {
          "i": 560,
          "loss": 5.6578593254089355
         },
         {
          "i": 561,
          "loss": 5.655189037322998
         },
         {
          "i": 562,
          "loss": 5.652585029602051
         },
         {
          "i": 563,
          "loss": 5.650041103363037
         },
         {
          "i": 564,
          "loss": 5.647550582885742
         },
         {
          "i": 565,
          "loss": 5.645174026489258
         },
         {
          "i": 566,
          "loss": 5.642940521240234
         },
         {
          "i": 567,
          "loss": 5.64078426361084
         },
         {
          "i": 568,
          "loss": 5.638697624206543
         },
         {
          "i": 569,
          "loss": 5.636674404144287
         },
         {
          "i": 570,
          "loss": 5.634706497192383
         },
         {
          "i": 571,
          "loss": 5.63278865814209
         },
         {
          "i": 572,
          "loss": 5.630926609039307
         },
         {
          "i": 573,
          "loss": 5.6291704177856445
         },
         {
          "i": 574,
          "loss": 5.627466201782227
         },
         {
          "i": 575,
          "loss": 5.625799179077148
         },
         {
          "i": 576,
          "loss": 5.6241655349731445
         },
         {
          "i": 577,
          "loss": 5.622562408447266
         },
         {
          "i": 578,
          "loss": 5.621626377105713
         },
         {
          "i": 579,
          "loss": 5.620960235595703
         },
         {
          "i": 580,
          "loss": 5.619361400604248
         },
         {
          "i": 581,
          "loss": 5.619390964508057
         },
         {
          "i": 582,
          "loss": 5.617733001708984
         },
         {
          "i": 583,
          "loss": 5.6174468994140625
         },
         {
          "i": 584,
          "loss": 5.616203784942627
         },
         {
          "i": 585,
          "loss": 5.615617275238037
         },
         {
          "i": 586,
          "loss": 5.6146674156188965
         },
         {
          "i": 587,
          "loss": 5.613986015319824
         },
         {
          "i": 588,
          "loss": 5.613126754760742
         },
         {
          "i": 589,
          "loss": 5.61251163482666
         },
         {
          "i": 590,
          "loss": 5.611572742462158
         },
         {
          "i": 591,
          "loss": 5.611157417297363
         },
         {
          "i": 592,
          "loss": 5.6100029945373535
         },
         {
          "i": 593,
          "loss": 5.609904766082764
         },
         {
          "i": 594,
          "loss": 5.608518123626709
         },
         {
          "i": 595,
          "loss": 5.6086506843566895
         },
         {
          "i": 596,
          "loss": 5.607539653778076
         },
         {
          "i": 597,
          "loss": 5.606916904449463
         },
         {
          "i": 598,
          "loss": 5.606595039367676
         },
         {
          "i": 599,
          "loss": 5.605410099029541
         },
         {
          "i": 600,
          "loss": 5.605416774749756
         },
         {
          "i": 601,
          "loss": 5.6046271324157715
         },
         {
          "i": 602,
          "loss": 5.60361385345459
         },
         {
          "i": 603,
          "loss": 5.6037983894348145
         },
         {
          "i": 604,
          "loss": 5.6027445793151855
         },
         {
          "i": 605,
          "loss": 5.602048397064209
         },
         {
          "i": 606,
          "loss": 5.602033615112305
         },
         {
          "i": 607,
          "loss": 5.6010823249816895
         },
         {
          "i": 608,
          "loss": 5.600347995758057
         },
         {
          "i": 609,
          "loss": 5.6004414558410645
         },
         {
          "i": 610,
          "loss": 5.599539279937744
         },
         {
          "i": 611,
          "loss": 5.598715782165527
         },
         {
          "i": 612,
          "loss": 5.598774433135986
         },
         {
          "i": 613,
          "loss": 5.598138809204102
         },
         {
          "i": 614,
          "loss": 5.597345352172852
         },
         {
          "i": 615,
          "loss": 5.596863269805908
         },
         {
          "i": 616,
          "loss": 5.5967888832092285
         },
         {
          "i": 617,
          "loss": 5.596004486083984
         },
         {
          "i": 618,
          "loss": 5.595278263092041
         },
         {
          "i": 619,
          "loss": 5.5950775146484375
         },
         {
          "i": 620,
          "loss": 5.594759941101074
         },
         {
          "i": 621,
          "loss": 5.594035625457764
         },
         {
          "i": 622,
          "loss": 5.5933637619018555
         },
         {
          "i": 623,
          "loss": 5.59316349029541
         },
         {
          "i": 624,
          "loss": 5.592867374420166
         },
         {
          "i": 625,
          "loss": 5.5921807289123535
         },
         {
          "i": 626,
          "loss": 5.591535568237305
         },
         {
          "i": 627,
          "loss": 5.591141223907471
         },
         {
          "i": 628,
          "loss": 5.591059684753418
         },
         {
          "i": 629,
          "loss": 5.590401649475098
         },
         {
          "i": 630,
          "loss": 5.589782238006592
         },
         {
          "i": 631,
          "loss": 5.5891923904418945
         },
         {
          "i": 632,
          "loss": 5.589123725891113
         },
         {
          "i": 633,
          "loss": 5.588735580444336
         },
         {
          "i": 634,
          "loss": 5.588123798370361
         },
         {
          "i": 635,
          "loss": 5.587541103363037
         },
         {
          "i": 636,
          "loss": 5.586984157562256
         },
         {
          "i": 637,
          "loss": 5.586944103240967
         },
         {
          "i": 638,
          "loss": 5.586534023284912
         },
         {
          "i": 639,
          "loss": 5.58595085144043
         },
         {
          "i": 640,
          "loss": 5.585394859313965
         },
         {
          "i": 641,
          "loss": 5.584863662719727
         },
         {
          "i": 642,
          "loss": 5.584596157073975
         },
         {
          "i": 643,
          "loss": 5.584488391876221
         },
         {
          "i": 644,
          "loss": 5.583917617797852
         },
         {
          "i": 645,
          "loss": 5.583380222320557
         },
         {
          "i": 646,
          "loss": 5.5828986167907715
         },
         {
          "i": 647,
          "loss": 5.582428455352783
         },
         {
          "i": 648,
          "loss": 5.582096576690674
         },
         {
          "i": 649,
          "loss": 5.582042217254639
         },
         {
          "i": 650,
          "loss": 5.58149528503418
         },
         {
          "i": 651,
          "loss": 5.580992221832275
         },
         {
          "i": 652,
          "loss": 5.580527305603027
         },
         {
          "i": 653,
          "loss": 5.580074310302734
         },
         {
          "i": 654,
          "loss": 5.5796308517456055
         },
         {
          "i": 655,
          "loss": 5.579458713531494
         },
         {
          "i": 656,
          "loss": 5.579225063323975
         },
         {
          "i": 657,
          "loss": 5.57871150970459
         },
         {
          "i": 658,
          "loss": 5.578253746032715
         },
         {
          "i": 659,
          "loss": 5.5778045654296875
         },
         {
          "i": 660,
          "loss": 5.577369213104248
         },
         {
          "i": 661,
          "loss": 5.576941013336182
         },
         {
          "i": 662,
          "loss": 5.576627731323242
         },
         {
          "i": 663,
          "loss": 5.576547145843506
         },
         {
          "i": 664,
          "loss": 5.576047897338867
         },
         {
          "i": 665,
          "loss": 5.575603485107422
         },
         {
          "i": 666,
          "loss": 5.575167179107666
         },
         {
          "i": 667,
          "loss": 5.574744701385498
         },
         {
          "i": 668,
          "loss": 5.57432746887207
         },
         {
          "i": 669,
          "loss": 5.573919296264648
         },
         {
          "i": 670,
          "loss": 5.573687553405762
         },
         {
          "i": 671,
          "loss": 5.573525905609131
         },
         {
          "i": 672,
          "loss": 5.5730485916137695
         },
         {
          "i": 673,
          "loss": 5.5726213455200195
         },
         {
          "i": 674,
          "loss": 5.572203159332275
         },
         {
          "i": 675,
          "loss": 5.571794509887695
         },
         {
          "i": 676,
          "loss": 5.571392059326172
         },
         {
          "i": 677,
          "loss": 5.5709967613220215
         },
         {
          "i": 678,
          "loss": 5.570656776428223
         },
         {
          "i": 679,
          "loss": 5.570611476898193
         },
         {
          "i": 680,
          "loss": 5.5701494216918945
         },
         {
          "i": 681,
          "loss": 5.569735050201416
         },
         {
          "i": 682,
          "loss": 5.569328784942627
         },
         {
          "i": 683,
          "loss": 5.568933010101318
         },
         {
          "i": 684,
          "loss": 5.568540573120117
         },
         {
          "i": 685,
          "loss": 5.568156719207764
         },
         {
          "i": 686,
          "loss": 5.567776679992676
         },
         {
          "i": 687,
          "loss": 5.5675129890441895
         },
         {
          "i": 688,
          "loss": 5.567386627197266
         },
         {
          "i": 689,
          "loss": 5.566950798034668
         },
         {
          "i": 690,
          "loss": 5.566550254821777
         },
         {
          "i": 691,
          "loss": 5.566160202026367
         },
         {
          "i": 692,
          "loss": 5.5657758712768555
         },
         {
          "i": 693,
          "loss": 5.5653977394104
         },
         {
          "i": 694,
          "loss": 5.5650248527526855
         },
         {
          "i": 695,
          "loss": 5.564657211303711
         },
         {
          "i": 696,
          "loss": 5.564300537109375
         },
         {
          "i": 697,
          "loss": 5.564268112182617
         },
         {
          "i": 698,
          "loss": 5.563852310180664
         },
         {
          "i": 699,
          "loss": 5.563465595245361
         },
         {
          "i": 700,
          "loss": 5.563084602355957
         },
         {
          "i": 701,
          "loss": 5.562711715698242
         },
         {
          "i": 702,
          "loss": 5.562345027923584
         },
         {
          "i": 703,
          "loss": 5.561980724334717
         },
         {
          "i": 704,
          "loss": 5.56162166595459
         },
         {
          "i": 705,
          "loss": 5.561266899108887
         },
         {
          "i": 706,
          "loss": 5.5609893798828125
         },
         {
          "i": 707,
          "loss": 5.560879707336426
         },
         {
          "i": 708,
          "loss": 5.560494422912598
         },
         {
          "i": 709,
          "loss": 5.560118198394775
         },
         {
          "i": 710,
          "loss": 5.559749126434326
         },
         {
          "i": 711,
          "loss": 5.55938720703125
         },
         {
          "i": 712,
          "loss": 5.559029579162598
         },
         {
          "i": 713,
          "loss": 5.5586771965026855
         },
         {
          "i": 714,
          "loss": 5.558328628540039
         },
         {
          "i": 715,
          "loss": 5.5579833984375
         },
         {
          "i": 716,
          "loss": 5.55764102935791
         },
         {
          "i": 717,
          "loss": 5.557493209838867
         },
         {
          "i": 718,
          "loss": 5.557261943817139
         },
         {
          "i": 719,
          "loss": 5.556890487670898
         },
         {
          "i": 720,
          "loss": 5.556527614593506
         },
         {
          "i": 721,
          "loss": 5.556171894073486
         },
         {
          "i": 722,
          "loss": 5.555820941925049
         },
         {
          "i": 723,
          "loss": 5.555473804473877
         },
         {
          "i": 724,
          "loss": 5.555131435394287
         },
         {
          "i": 725,
          "loss": 5.5547943115234375
         },
         {
          "i": 726,
          "loss": 5.55445671081543
         },
         {
          "i": 727,
          "loss": 5.554125785827637
         },
         {
          "i": 728,
          "loss": 5.553989887237549
         },
         {
          "i": 729,
          "loss": 5.5537590980529785
         },
         {
          "i": 730,
          "loss": 5.5533976554870605
         },
         {
          "i": 731,
          "loss": 5.553044319152832
         },
         {
          "i": 732,
          "loss": 5.552697658538818
         },
         {
          "i": 733,
          "loss": 5.552357196807861
         },
         {
          "i": 734,
          "loss": 5.552020072937012
         },
         {
          "i": 735,
          "loss": 5.551687717437744
         },
         {
          "i": 736,
          "loss": 5.551358699798584
         },
         {
          "i": 737,
          "loss": 5.551031112670898
         },
         {
          "i": 738,
          "loss": 5.550709247589111
         },
         {
          "i": 739,
          "loss": 5.550532817840576
         },
         {
          "i": 740,
          "loss": 5.550355911254883
         },
         {
          "i": 741,
          "loss": 5.5500054359436035
         },
         {
          "i": 742,
          "loss": 5.549661159515381
         },
         {
          "i": 743,
          "loss": 5.549323558807373
         },
         {
          "i": 744,
          "loss": 5.548990249633789
         },
         {
          "i": 745,
          "loss": 5.548663139343262
         },
         {
          "i": 746,
          "loss": 5.548339366912842
         },
         {
          "i": 747,
          "loss": 5.548019886016846
         },
         {
          "i": 748,
          "loss": 5.547701358795166
         },
         {
          "i": 749,
          "loss": 5.5473856925964355
         },
         {
          "i": 750,
          "loss": 5.547142505645752
         },
         {
          "i": 751,
          "loss": 5.547049522399902
         },
         {
          "i": 752,
          "loss": 5.546706676483154
         },
         {
          "i": 753,
          "loss": 5.546370029449463
         },
         {
          "i": 754,
          "loss": 5.546041488647461
         },
         {
          "i": 755,
          "loss": 5.545715808868408
         },
         {
          "i": 756,
          "loss": 5.54539680480957
         },
         {
          "i": 757,
          "loss": 5.5450825691223145
         },
         {
          "i": 758,
          "loss": 5.544769287109375
         },
         {
          "i": 759,
          "loss": 5.544459819793701
         },
         {
          "i": 760,
          "loss": 5.54415225982666
         },
         {
          "i": 761,
          "loss": 5.54384708404541
         },
         {
          "i": 762,
          "loss": 5.54372501373291
         },
         {
          "i": 763,
          "loss": 5.543516159057617
         },
         {
          "i": 764,
          "loss": 5.543187141418457
         },
         {
          "i": 765,
          "loss": 5.5428643226623535
         },
         {
          "i": 766,
          "loss": 5.542543888092041
         },
         {
          "i": 767,
          "loss": 5.542229175567627
         },
         {
          "i": 768,
          "loss": 5.541919708251953
         },
         {
          "i": 769,
          "loss": 5.541611194610596
         },
         {
          "i": 770,
          "loss": 5.5413079261779785
         },
         {
          "i": 771,
          "loss": 5.541007041931152
         },
         {
          "i": 772,
          "loss": 5.540708065032959
         },
         {
          "i": 773,
          "loss": 5.540411949157715
         },
         {
          "i": 774,
          "loss": 5.540304660797119
         },
         {
          "i": 775,
          "loss": 5.5400800704956055
         },
         {
          "i": 776,
          "loss": 5.539760589599609
         },
         {
          "i": 777,
          "loss": 5.539445877075195
         },
         {
          "i": 778,
          "loss": 5.539138317108154
         },
         {
          "i": 779,
          "loss": 5.5388336181640625
         },
         {
          "i": 780,
          "loss": 5.538532257080078
         },
         {
          "i": 781,
          "loss": 5.538232803344727
         },
         {
          "i": 782,
          "loss": 5.537937641143799
         },
         {
          "i": 783,
          "loss": 5.537644863128662
         },
         {
          "i": 784,
          "loss": 5.537353038787842
         },
         {
          "i": 785,
          "loss": 5.537064075469971
         },
         {
          "i": 786,
          "loss": 5.536791801452637
         },
         {
          "i": 787,
          "loss": 5.536747455596924
         },
         {
          "i": 788,
          "loss": 5.536434173583984
         },
         {
          "i": 789,
          "loss": 5.536126136779785
         },
         {
          "i": 790,
          "loss": 5.535823345184326
         },
         {
          "i": 791,
          "loss": 5.535526752471924
         },
         {
          "i": 792,
          "loss": 5.535232067108154
         },
         {
          "i": 793,
          "loss": 5.53494119644165
         },
         {
          "i": 794,
          "loss": 5.534651279449463
         },
         {
          "i": 795,
          "loss": 5.534367084503174
         },
         {
          "i": 796,
          "loss": 5.534082412719727
         },
         {
          "i": 797,
          "loss": 5.5338006019592285
         },
         {
          "i": 798,
          "loss": 5.533520698547363
         },
         {
          "i": 799,
          "loss": 5.533267974853516
         },
         {
          "i": 800,
          "loss": 5.533220291137695
         },
         {
          "i": 801,
          "loss": 5.532915115356445
         },
         {
          "i": 802,
          "loss": 5.53261661529541
         },
         {
          "i": 803,
          "loss": 5.532322406768799
         },
         {
          "i": 804,
          "loss": 5.532032489776611
         },
         {
          "i": 805,
          "loss": 5.531746864318848
         },
         {
          "i": 806,
          "loss": 5.531464099884033
         },
         {
          "i": 807,
          "loss": 5.531184196472168
         },
         {
          "i": 808,
          "loss": 5.530907154083252
         },
         {
          "i": 809,
          "loss": 5.530630588531494
         },
         {
          "i": 810,
          "loss": 5.53035831451416
         },
         {
          "i": 811,
          "loss": 5.530088901519775
         },
         {
          "i": 812,
          "loss": 5.529820442199707
         },
         {
          "i": 813,
          "loss": 5.529629707336426
         },
         {
          "i": 814,
          "loss": 5.529526233673096
         },
         {
          "i": 815,
          "loss": 5.529231071472168
         },
         {
          "i": 816,
          "loss": 5.528941631317139
         },
         {
          "i": 817,
          "loss": 5.528657913208008
         },
         {
          "i": 818,
          "loss": 5.528377056121826
         },
         {
          "i": 819,
          "loss": 5.52810001373291
         },
         {
          "i": 820,
          "loss": 5.527825832366943
         },
         {
          "i": 821,
          "loss": 5.527553081512451
         },
         {
          "i": 822,
          "loss": 5.527284145355225
         },
         {
          "i": 823,
          "loss": 5.527019500732422
         },
         {
          "i": 824,
          "loss": 5.526756763458252
         },
         {
          "i": 825,
          "loss": 5.526493549346924
         },
         {
          "i": 826,
          "loss": 5.526233673095703
         },
         {
          "i": 827,
          "loss": 5.525991916656494
         },
         {
          "i": 828,
          "loss": 5.525954723358154
         },
         {
          "i": 829,
          "loss": 5.525667667388916
         },
         {
          "i": 830,
          "loss": 5.525386333465576
         },
         {
          "i": 831,
          "loss": 5.52510929107666
         },
         {
          "i": 832,
          "loss": 5.524835109710693
         },
         {
          "i": 833,
          "loss": 5.524567127227783
         },
         {
          "i": 834,
          "loss": 5.524298667907715
         },
         {
          "i": 835,
          "loss": 5.52403450012207
         },
         {
          "i": 836,
          "loss": 5.523772716522217
         },
         {
          "i": 837,
          "loss": 5.523515224456787
         },
         {
          "i": 838,
          "loss": 5.523259162902832
         },
         {
          "i": 839,
          "loss": 5.523004055023193
         },
         {
          "i": 840,
          "loss": 5.52275276184082
         },
         {
          "i": 841,
          "loss": 5.522500514984131
         },
         {
          "i": 842,
          "loss": 5.522353649139404
         },
         {
          "i": 843,
          "loss": 5.522231578826904
         },
         {
          "i": 844,
          "loss": 5.521953582763672
         },
         {
          "i": 845,
          "loss": 5.5216803550720215
         },
         {
          "i": 846,
          "loss": 5.521412372589111
         },
         {
          "i": 847,
          "loss": 5.52114725112915
         },
         {
          "i": 848,
          "loss": 5.5208845138549805
         },
         {
          "i": 849,
          "loss": 5.520625591278076
         },
         {
          "i": 850,
          "loss": 5.5203704833984375
         },
         {
          "i": 851,
          "loss": 5.520115852355957
         },
         {
          "i": 852,
          "loss": 5.51986837387085
         },
         {
          "i": 853,
          "loss": 5.519619941711426
         },
         {
          "i": 854,
          "loss": 5.519372463226318
         },
         {
          "i": 855,
          "loss": 5.5191264152526855
         },
         {
          "i": 856,
          "loss": 5.518899917602539
         },
         {
          "i": 857,
          "loss": 5.5188751220703125
         },
         {
          "i": 858,
          "loss": 5.5186028480529785
         },
         {
          "i": 859,
          "loss": 5.518336772918701
         },
         {
          "i": 860,
          "loss": 5.518074989318848
         },
         {
          "i": 861,
          "loss": 5.517815589904785
         },
         {
          "i": 862,
          "loss": 5.5175604820251465
         },
         {
          "i": 863,
          "loss": 5.517308235168457
         },
         {
          "i": 864,
          "loss": 5.517056465148926
         },
         {
          "i": 865,
          "loss": 5.516812324523926
         },
         {
          "i": 866,
          "loss": 5.516568660736084
         },
         {
          "i": 867,
          "loss": 5.51632833480835
         },
         {
          "i": 868,
          "loss": 5.516087532043457
         },
         {
          "i": 869,
          "loss": 5.5158491134643555
         },
         {
          "i": 870,
          "loss": 5.515610218048096
         },
         {
          "i": 871,
          "loss": 5.5154805183410645
         },
         {
          "i": 872,
          "loss": 5.515367031097412
         },
         {
          "i": 873,
          "loss": 5.515103816986084
         },
         {
          "i": 874,
          "loss": 5.51484489440918
         },
         {
          "i": 875,
          "loss": 5.514589786529541
         },
         {
          "i": 876,
          "loss": 5.514338970184326
         },
         {
          "i": 877,
          "loss": 5.514090538024902
         },
         {
          "i": 878,
          "loss": 5.513846397399902
         },
         {
          "i": 879,
          "loss": 5.513604164123535
         },
         {
          "i": 880,
          "loss": 5.51336669921875
         },
         {
          "i": 881,
          "loss": 5.513131141662598
         },
         {
          "i": 882,
          "loss": 5.5128960609436035
         },
         {
          "i": 883,
          "loss": 5.512664318084717
         },
         {
          "i": 884,
          "loss": 5.512431621551514
         },
         {
          "i": 885,
          "loss": 5.512201309204102
         },
         {
          "i": 886,
          "loss": 5.512205600738525
         },
         {
          "i": 887,
          "loss": 5.511947154998779
         },
         {
          "i": 888,
          "loss": 5.511693954467773
         },
         {
          "i": 889,
          "loss": 5.5114426612854
         },
         {
          "i": 890,
          "loss": 5.511199474334717
         },
         {
          "i": 891,
          "loss": 5.510955810546875
         },
         {
          "i": 892,
          "loss": 5.510716438293457
         },
         {
          "i": 893,
          "loss": 5.5104804039001465
         },
         {
          "i": 894,
          "loss": 5.510248184204102
         },
         {
          "i": 895,
          "loss": 5.510018825531006
         },
         {
          "i": 896,
          "loss": 5.509791374206543
         },
         {
          "i": 897,
          "loss": 5.509563446044922
         },
         {
          "i": 898,
          "loss": 5.509336948394775
         },
         {
          "i": 899,
          "loss": 5.509112358093262
         },
         {
          "i": 900,
          "loss": 5.508971691131592
         },
         {
          "i": 901,
          "loss": 5.508895397186279
         },
         {
          "i": 902,
          "loss": 5.508643627166748
         },
         {
          "i": 903,
          "loss": 5.508397102355957
         },
         {
          "i": 904,
          "loss": 5.508155345916748
         },
         {
          "i": 905,
          "loss": 5.5079169273376465
         },
         {
          "i": 906,
          "loss": 5.507680892944336
         },
         {
          "i": 907,
          "loss": 5.507447719573975
         },
         {
          "i": 908,
          "loss": 5.507218837738037
         },
         {
          "i": 909,
          "loss": 5.506994724273682
         },
         {
          "i": 910,
          "loss": 5.506770610809326
         },
         {
          "i": 911,
          "loss": 5.506549835205078
         },
         {
          "i": 912,
          "loss": 5.506328582763672
         },
         {
          "i": 913,
          "loss": 5.506109714508057
         },
         {
          "i": 914,
          "loss": 5.505894184112549
         },
         {
          "i": 915,
          "loss": 5.50590705871582
         },
         {
          "i": 916,
          "loss": 5.505659103393555
         },
         {
          "i": 917,
          "loss": 5.505418300628662
         },
         {
          "i": 918,
          "loss": 5.5051798820495605
         },
         {
          "i": 919,
          "loss": 5.504948139190674
         },
         {
          "i": 920,
          "loss": 5.504718780517578
         },
         {
          "i": 921,
          "loss": 5.504488945007324
         },
         {
          "i": 922,
          "loss": 5.504266262054443
         },
         {
          "i": 923,
          "loss": 5.504047393798828
         },
         {
          "i": 924,
          "loss": 5.503828525543213
         },
         {
          "i": 925,
          "loss": 5.503613471984863
         },
         {
          "i": 926,
          "loss": 5.503396987915039
         },
         {
          "i": 927,
          "loss": 5.5031843185424805
         },
         {
          "i": 928,
          "loss": 5.502968788146973
         },
         {
          "i": 929,
          "loss": 5.502864360809326
         },
         {
          "i": 930,
          "loss": 5.502774715423584
         },
         {
          "i": 931,
          "loss": 5.502534866333008
         },
         {
          "i": 932,
          "loss": 5.5022993087768555
         },
         {
          "i": 933,
          "loss": 5.502068519592285
         },
         {
          "i": 934,
          "loss": 5.5018415451049805
         },
         {
          "i": 935,
          "loss": 5.501616954803467
         },
         {
          "i": 936,
          "loss": 5.501397132873535
         },
         {
          "i": 937,
          "loss": 5.501181125640869
         },
         {
          "i": 938,
          "loss": 5.500967979431152
         },
         {
          "i": 939,
          "loss": 5.500756740570068
         },
         {
          "i": 940,
          "loss": 5.500545501708984
         },
         {
          "i": 941,
          "loss": 5.500336170196533
         },
         {
          "i": 942,
          "loss": 5.500128269195557
         },
         {
          "i": 943,
          "loss": 5.499930381774902
         },
         {
          "i": 944,
          "loss": 5.499949932098389
         },
         {
          "i": 945,
          "loss": 5.499713897705078
         },
         {
          "i": 946,
          "loss": 5.49948263168335
         },
         {
          "i": 947,
          "loss": 5.499256610870361
         },
         {
          "i": 948,
          "loss": 5.499032974243164
         },
         {
          "i": 949,
          "loss": 5.498815536499023
         },
         {
          "i": 950,
          "loss": 5.498598575592041
         },
         {
          "i": 951,
          "loss": 5.498388290405273
         },
         {
          "i": 952,
          "loss": 5.498179912567139
         },
         {
          "i": 953,
          "loss": 5.497974872589111
         },
         {
          "i": 954,
          "loss": 5.497767925262451
         },
         {
          "i": 955,
          "loss": 5.497563362121582
         },
         {
          "i": 956,
          "loss": 5.497361660003662
         },
         {
          "i": 957,
          "loss": 5.497159004211426
         },
         {
          "i": 958,
          "loss": 5.4970526695251465
         },
         {
          "i": 959,
          "loss": 5.496984958648682
         },
         {
          "i": 960,
          "loss": 5.496757984161377
         },
         {
          "i": 961,
          "loss": 5.496533393859863
         },
         {
          "i": 962,
          "loss": 5.496312141418457
         },
         {
          "i": 963,
          "loss": 5.496096134185791
         },
         {
          "i": 964,
          "loss": 5.495882511138916
         },
         {
          "i": 965,
          "loss": 5.495672225952148
         },
         {
          "i": 966,
          "loss": 5.495466709136963
         },
         {
          "i": 967,
          "loss": 5.495265007019043
         },
         {
          "i": 968,
          "loss": 5.495064735412598
         },
         {
          "i": 969,
          "loss": 5.494863510131836
         },
         {
          "i": 970,
          "loss": 5.49466609954834
         },
         {
          "i": 971,
          "loss": 5.494467735290527
         },
         {
          "i": 972,
          "loss": 5.494297504425049
         },
         {
          "i": 973,
          "loss": 5.4943132400512695
         },
         {
          "i": 974,
          "loss": 5.49407958984375
         },
         {
          "i": 975,
          "loss": 5.4938578605651855
         },
         {
          "i": 976,
          "loss": 5.4936418533325195
         },
         {
          "i": 977,
          "loss": 5.493429660797119
         },
         {
          "i": 978,
          "loss": 5.493221282958984
         },
         {
          "i": 979,
          "loss": 5.4930195808410645
         },
         {
          "i": 980,
          "loss": 5.492821216583252
         },
         {
          "i": 981,
          "loss": 5.492623805999756
         },
         {
          "i": 982,
          "loss": 5.492425918579102
         },
         {
          "i": 983,
          "loss": 5.4922308921813965
         },
         {
          "i": 984,
          "loss": 5.492037296295166
         },
         {
          "i": 985,
          "loss": 5.491842746734619
         },
         {
          "i": 986,
          "loss": 5.4916582107543945
         },
         {
          "i": 987,
          "loss": 5.491710186004639
         },
         {
          "i": 988,
          "loss": 5.491480827331543
         },
         {
          "i": 989,
          "loss": 5.491255283355713
         },
         {
          "i": 990,
          "loss": 5.491038799285889
         },
         {
          "i": 991,
          "loss": 5.490828037261963
         },
         {
          "i": 992,
          "loss": 5.490629196166992
         },
         {
          "i": 993,
          "loss": 5.490432262420654
         },
         {
          "i": 994,
          "loss": 5.490238189697266
         },
         {
          "i": 995,
          "loss": 5.490045070648193
         },
         {
          "i": 996,
          "loss": 5.489853382110596
         },
         {
          "i": 997,
          "loss": 5.4896626472473145
         },
         {
          "i": 998,
          "loss": 5.489473342895508
         },
         {
          "i": 999,
          "loss": 5.489284515380859
         },
         {
          "i": 1000,
          "loss": 5.4891252517700195
         },
         {
          "i": 1001,
          "loss": 5.489170074462891
         },
         {
          "i": 1002,
          "loss": 5.488943099975586
         },
         {
          "i": 1003,
          "loss": 5.48872184753418
         },
         {
          "i": 1004,
          "loss": 5.488507270812988
         },
         {
          "i": 1005,
          "loss": 5.488303184509277
         },
         {
          "i": 1006,
          "loss": 5.488105297088623
         },
         {
          "i": 1007,
          "loss": 5.487910747528076
         },
         {
          "i": 1008,
          "loss": 5.487718105316162
         },
         {
          "i": 1009,
          "loss": 5.487527370452881
         },
         {
          "i": 1010,
          "loss": 5.487339496612549
         },
         {
          "i": 1011,
          "loss": 5.487154483795166
         },
         {
          "i": 1012,
          "loss": 5.486969470977783
         },
         {
          "i": 1013,
          "loss": 5.486846923828125
         },
         {
          "i": 1014,
          "loss": 5.486860752105713
         },
         {
          "i": 1015,
          "loss": 5.486636161804199
         },
         {
          "i": 1016,
          "loss": 5.486420154571533
         },
         {
          "i": 1017,
          "loss": 5.4862189292907715
         },
         {
          "i": 1018,
          "loss": 5.486021518707275
         },
         {
          "i": 1019,
          "loss": 5.485828399658203
         },
         {
          "i": 1020,
          "loss": 5.4856367111206055
         },
         {
          "i": 1021,
          "loss": 5.485447883605957
         },
         {
          "i": 1022,
          "loss": 5.4852614402771
         },
         {
          "i": 1023,
          "loss": 5.485076904296875
         },
         {
          "i": 1024,
          "loss": 5.484891414642334
         },
         {
          "i": 1025,
          "loss": 5.4847092628479
         },
         {
          "i": 1026,
          "loss": 5.484682083129883
         },
         {
          "i": 1027,
          "loss": 5.484594345092773
         },
         {
          "i": 1028,
          "loss": 5.484379291534424
         },
         {
          "i": 1029,
          "loss": 5.4841790199279785
         },
         {
          "i": 1030,
          "loss": 5.483981132507324
         },
         {
          "i": 1031,
          "loss": 5.483789443969727
         },
         {
          "i": 1032,
          "loss": 5.483598232269287
         },
         {
          "i": 1033,
          "loss": 5.483412265777588
         },
         {
          "i": 1034,
          "loss": 5.483226776123047
         },
         {
          "i": 1035,
          "loss": 5.483043670654297
         },
         {
          "i": 1036,
          "loss": 5.482862949371338
         },
         {
          "i": 1037,
          "loss": 5.482683181762695
         },
         {
          "i": 1038,
          "loss": 5.482562065124512
         },
         {
          "i": 1039,
          "loss": 5.482577323913574
         },
         {
          "i": 1040,
          "loss": 5.482373237609863
         },
         {
          "i": 1041,
          "loss": 5.482172966003418
         },
         {
          "i": 1042,
          "loss": 5.481977939605713
         },
         {
          "i": 1043,
          "loss": 5.481786727905273
         },
         {
          "i": 1044,
          "loss": 5.481600761413574
         },
         {
          "i": 1045,
          "loss": 5.481414794921875
         },
         {
          "i": 1046,
          "loss": 5.481232166290283
         },
         {
          "i": 1047,
          "loss": 5.481050968170166
         },
         {
          "i": 1048,
          "loss": 5.4808735847473145
         },
         {
          "i": 1049,
          "loss": 5.4806952476501465
         },
         {
          "i": 1050,
          "loss": 5.480530261993408
         },
         {
          "i": 1051,
          "loss": 5.480600357055664
         },
         {
          "i": 1052,
          "loss": 5.4803972244262695
         },
         {
          "i": 1053,
          "loss": 5.480201244354248
         },
         {
          "i": 1054,
          "loss": 5.480008602142334
         },
         {
          "i": 1055,
          "loss": 5.479819297790527
         },
         {
          "i": 1056,
          "loss": 5.479636192321777
         },
         {
          "i": 1057,
          "loss": 5.479453086853027
         },
         {
          "i": 1058,
          "loss": 5.479273796081543
         },
         {
          "i": 1059,
          "loss": 5.479095935821533
         },
         {
          "i": 1060,
          "loss": 5.478920936584473
         },
         {
          "i": 1061,
          "loss": 5.47874641418457
         },
         {
          "i": 1062,
          "loss": 5.478576183319092
         },
         {
          "i": 1063,
          "loss": 5.4786577224731445
         },
         {
          "i": 1064,
          "loss": 5.478458881378174
         },
         {
          "i": 1065,
          "loss": 5.478264331817627
         },
         {
          "i": 1066,
          "loss": 5.4780755043029785
         },
         {
          "i": 1067,
          "loss": 5.477890491485596
         },
         {
          "i": 1068,
          "loss": 5.477708339691162
         },
         {
          "i": 1069,
          "loss": 5.4775285720825195
         },
         {
          "i": 1070,
          "loss": 5.477352142333984
         },
         {
          "i": 1071,
          "loss": 5.477177619934082
         },
         {
          "i": 1072,
          "loss": 5.477005481719971
         },
         {
          "i": 1073,
          "loss": 5.476833343505859
         },
         {
          "i": 1074,
          "loss": 5.476680278778076
         },
         {
          "i": 1075,
          "loss": 5.476751804351807
         },
         {
          "i": 1076,
          "loss": 5.476555347442627
         },
         {
          "i": 1077,
          "loss": 5.476364612579346
         },
         {
          "i": 1078,
          "loss": 5.476178169250488
         },
         {
          "i": 1079,
          "loss": 5.4759955406188965
         },
         {
          "i": 1080,
          "loss": 5.4758172035217285
         },
         {
          "i": 1081,
          "loss": 5.475640296936035
         },
         {
          "i": 1082,
          "loss": 5.475465774536133
         },
         {
          "i": 1083,
          "loss": 5.4752960205078125
         },
         {
          "i": 1084,
          "loss": 5.475126266479492
         },
         {
          "i": 1085,
          "loss": 5.474956512451172
         },
         {
          "i": 1086,
          "loss": 5.4748358726501465
         },
         {
          "i": 1087,
          "loss": 5.474880218505859
         },
         {
          "i": 1088,
          "loss": 5.4746880531311035
         },
         {
          "i": 1089,
          "loss": 5.4745001792907715
         },
         {
          "i": 1090,
          "loss": 5.474319934844971
         },
         {
          "i": 1091,
          "loss": 5.474139213562012
         },
         {
          "i": 1092,
          "loss": 5.473962783813477
         },
         {
          "i": 1093,
          "loss": 5.473787784576416
         },
         {
          "i": 1094,
          "loss": 5.4736175537109375
         },
         {
          "i": 1095,
          "loss": 5.473447799682617
         },
         {
          "i": 1096,
          "loss": 5.47327995300293
         },
         {
          "i": 1097,
          "loss": 5.473113536834717
         },
         {
          "i": 1098,
          "loss": 5.473073959350586
         },
         {
          "i": 1099,
          "loss": 5.473046779632568
         },
         {
          "i": 1100,
          "loss": 5.4728546142578125
         },
         {
          "i": 1101,
          "loss": 5.47266960144043
         },
         {
          "i": 1102,
          "loss": 5.472488880157471
         },
         {
          "i": 1103,
          "loss": 5.472311019897461
         },
         {
          "i": 1104,
          "loss": 5.47213888168335
         },
         {
          "i": 1105,
          "loss": 5.471968173980713
         },
         {
          "i": 1106,
          "loss": 5.471802234649658
         },
         {
          "i": 1107,
          "loss": 5.471635818481445
         },
         {
          "i": 1108,
          "loss": 5.471470832824707
         },
         {
          "i": 1109,
          "loss": 5.471322059631348
         },
         {
          "i": 1110,
          "loss": 5.471413612365723
         },
         {
          "i": 1111,
          "loss": 5.471224308013916
         },
         {
          "i": 1112,
          "loss": 5.471038818359375
         },
         {
          "i": 1113,
          "loss": 5.470858097076416
         },
         {
          "i": 1114,
          "loss": 5.470682144165039
         },
         {
          "i": 1115,
          "loss": 5.470510482788086
         },
         {
          "i": 1116,
          "loss": 5.470341682434082
         },
         {
          "i": 1117,
          "loss": 5.4701738357543945
         },
         {
          "i": 1118,
          "loss": 5.470009803771973
         },
         {
          "i": 1119,
          "loss": 5.4698486328125
         },
         {
          "i": 1120,
          "loss": 5.469688892364502
         },
         {
          "i": 1121,
          "loss": 5.469692230224609
         },
         {
          "i": 1122,
          "loss": 5.469627857208252
         },
         {
          "i": 1123,
          "loss": 5.469442844390869
         },
         {
          "i": 1124,
          "loss": 5.4692606925964355
         },
         {
          "i": 1125,
          "loss": 5.4690842628479
         },
         {
          "i": 1126,
          "loss": 5.468912124633789
         },
         {
          "i": 1127,
          "loss": 5.468745708465576
         },
         {
          "i": 1128,
          "loss": 5.468584060668945
         },
         {
          "i": 1129,
          "loss": 5.468420028686523
         },
         {
          "i": 1130,
          "loss": 5.468258857727051
         },
         {
          "i": 1131,
          "loss": 5.468097686767578
         },
         {
          "i": 1132,
          "loss": 5.4679388999938965
         },
         {
          "i": 1133,
          "loss": 5.46795654296875
         },
         {
          "i": 1134,
          "loss": 5.4678778648376465
         },
         {
          "i": 1135,
          "loss": 5.467695236206055
         },
         {
          "i": 1136,
          "loss": 5.467523097991943
         },
         {
          "i": 1137,
          "loss": 5.467348575592041
         },
         {
          "i": 1138,
          "loss": 5.4671783447265625
         },
         {
          "i": 1139,
          "loss": 5.46701192855835
         },
         {
          "i": 1140,
          "loss": 5.4668474197387695
         },
         {
          "i": 1141,
          "loss": 5.466685771942139
         },
         {
          "i": 1142,
          "loss": 5.466526508331299
         },
         {
          "i": 1143,
          "loss": 5.46636962890625
         },
         {
          "i": 1144,
          "loss": 5.466241359710693
         },
         {
          "i": 1145,
          "loss": 5.4663286209106445
         },
         {
          "i": 1146,
          "loss": 5.466142654418945
         },
         {
          "i": 1147,
          "loss": 5.465963840484619
         },
         {
          "i": 1148,
          "loss": 5.465789318084717
         },
         {
          "i": 1149,
          "loss": 5.4656219482421875
         },
         {
          "i": 1150,
          "loss": 5.465463161468506
         },
         {
          "i": 1151,
          "loss": 5.465299606323242
         },
         {
          "i": 1152,
          "loss": 5.4651384353637695
         },
         {
          "i": 1153,
          "loss": 5.464981555938721
         },
         {
          "i": 1154,
          "loss": 5.464824676513672
         },
         {
          "i": 1155,
          "loss": 5.4646711349487305
         },
         {
          "i": 1156,
          "loss": 5.464662075042725
         },
         {
          "i": 1157,
          "loss": 5.464625835418701
         },
         {
          "i": 1158,
          "loss": 5.464451313018799
         },
         {
          "i": 1159,
          "loss": 5.464274883270264
         },
         {
          "i": 1160,
          "loss": 5.464104652404785
         },
         {
          "i": 1161,
          "loss": 5.463936805725098
         },
         {
          "i": 1162,
          "loss": 5.463775634765625
         },
         {
          "i": 1163,
          "loss": 5.463616847991943
         },
         {
          "i": 1164,
          "loss": 5.46346378326416
         },
         {
          "i": 1165,
          "loss": 5.463312149047852
         },
         {
          "i": 1166,
          "loss": 5.463159561157227
         },
         {
          "i": 1167,
          "loss": 5.463043689727783
         },
         {
          "i": 1168,
          "loss": 5.463122367858887
         },
         {
          "i": 1169,
          "loss": 5.462942600250244
         },
         {
          "i": 1170,
          "loss": 5.4627685546875
         },
         {
          "i": 1171,
          "loss": 5.462604522705078
         },
         {
          "i": 1172,
          "loss": 5.462444305419922
         },
         {
          "i": 1173,
          "loss": 5.462283134460449
         },
         {
          "i": 1174,
          "loss": 5.462124824523926
         },
         {
          "i": 1175,
          "loss": 5.461969375610352
         },
         {
          "i": 1176,
          "loss": 5.46182107925415
         },
         {
          "i": 1177,
          "loss": 5.461670398712158
         },
         {
          "i": 1178,
          "loss": 5.461523056030273
         },
         {
          "i": 1179,
          "loss": 5.461439609527588
         },
         {
          "i": 1180,
          "loss": 5.461505889892578
         },
         {
          "i": 1181,
          "loss": 5.4613237380981445
         },
         {
          "i": 1182,
          "loss": 5.461151123046875
         },
         {
          "i": 1183,
          "loss": 5.4609832763671875
         },
         {
          "i": 1184,
          "loss": 5.4608235359191895
         },
         {
          "i": 1185,
          "loss": 5.460669040679932
         },
         {
          "i": 1186,
          "loss": 5.4605183601379395
         },
         {
          "i": 1187,
          "loss": 5.460367202758789
         },
         {
          "i": 1188,
          "loss": 5.4602203369140625
         },
         {
          "i": 1189,
          "loss": 5.460073947906494
         },
         {
          "i": 1190,
          "loss": 5.459932327270508
         },
         {
          "i": 1191,
          "loss": 5.459871292114258
         },
         {
          "i": 1192,
          "loss": 5.459925651550293
         },
         {
          "i": 1193,
          "loss": 5.459742546081543
         },
         {
          "i": 1194,
          "loss": 5.459570407867432
         },
         {
          "i": 1195,
          "loss": 5.459407806396484
         },
         {
          "i": 1196,
          "loss": 5.4592437744140625
         },
         {
          "i": 1197,
          "loss": 5.459089756011963
         },
         {
          "i": 1198,
          "loss": 5.458940505981445
         },
         {
          "i": 1199,
          "loss": 5.458790302276611
         },
         {
          "i": 1200,
          "loss": 5.458651065826416
         },
         {
          "i": 1201,
          "loss": 5.45850944519043
         },
         {
          "i": 1202,
          "loss": 5.458364963531494
         },
         {
          "i": 1203,
          "loss": 5.458392143249512
         },
         {
          "i": 1204,
          "loss": 5.458357334136963
         },
         {
          "i": 1205,
          "loss": 5.4581828117370605
         },
         {
          "i": 1206,
          "loss": 5.458006381988525
         },
         {
          "i": 1207,
          "loss": 5.4578399658203125
         },
         {
          "i": 1208,
          "loss": 5.4576849937438965
         },
         {
          "i": 1209,
          "loss": 5.457540988922119
         },
         {
          "i": 1210,
          "loss": 5.457396984100342
         },
         {
          "i": 1211,
          "loss": 5.457248687744141
         },
         {
          "i": 1212,
          "loss": 5.457103729248047
         },
         {
          "i": 1213,
          "loss": 5.456959247589111
         },
         {
          "i": 1214,
          "loss": 5.4569010734558105
         },
         {
          "i": 1215,
          "loss": 5.456968784332275
         },
         {
          "i": 1216,
          "loss": 5.456782817840576
         },
         {
          "i": 1217,
          "loss": 5.456608295440674
         },
         {
          "i": 1218,
          "loss": 5.456453800201416
         },
         {
          "i": 1219,
          "loss": 5.456301689147949
         },
         {
          "i": 1220,
          "loss": 5.456151008605957
         },
         {
          "i": 1221,
          "loss": 5.456002712249756
         },
         {
          "i": 1222,
          "loss": 5.455860614776611
         },
         {
          "i": 1223,
          "loss": 5.455723285675049
         },
         {
          "i": 1224,
          "loss": 5.455580234527588
         },
         {
          "i": 1225,
          "loss": 5.455535411834717
         },
         {
          "i": 1226,
          "loss": 5.455581188201904
         },
         {
          "i": 1227,
          "loss": 5.455405235290527
         },
         {
          "i": 1228,
          "loss": 5.455233573913574
         },
         {
          "i": 1229,
          "loss": 5.455075740814209
         },
         {
          "i": 1230,
          "loss": 5.454927444458008
         },
         {
          "i": 1231,
          "loss": 5.4547858238220215
         },
         {
          "i": 1232,
          "loss": 5.4546356201171875
         },
         {
          "i": 1233,
          "loss": 5.454489707946777
         },
         {
          "i": 1234,
          "loss": 5.454345703125
         },
         {
          "i": 1235,
          "loss": 5.454216957092285
         },
         {
          "i": 1236,
          "loss": 5.454216957092285
         },
         {
          "i": 1237,
          "loss": 5.454214096069336
         },
         {
          "i": 1238,
          "loss": 5.454034805297852
         },
         {
          "i": 1239,
          "loss": 5.453883647918701
         },
         {
          "i": 1240,
          "loss": 5.453725814819336
         },
         {
          "i": 1241,
          "loss": 5.4535722732543945
         },
         {
          "i": 1242,
          "loss": 5.453428745269775
         },
         {
          "i": 1243,
          "loss": 5.453288555145264
         },
         {
          "i": 1244,
          "loss": 5.453144073486328
         },
         {
          "i": 1245,
          "loss": 5.453001022338867
         },
         {
          "i": 1246,
          "loss": 5.452861309051514
         },
         {
          "i": 1247,
          "loss": 5.452940464019775
         },
         {
          "i": 1248,
          "loss": 5.452868461608887
         },
         {
          "i": 1249,
          "loss": 5.452695369720459
         },
         {
          "i": 1250,
          "loss": 5.452542304992676
         },
         {
          "i": 1251,
          "loss": 5.452391147613525
         },
         {
          "i": 1252,
          "loss": 5.452237606048584
         },
         {
          "i": 1253,
          "loss": 5.452088832855225
         },
         {
          "i": 1254,
          "loss": 5.451954364776611
         },
         {
          "i": 1255,
          "loss": 5.4518141746521
         },
         {
          "i": 1256,
          "loss": 5.451671600341797
         },
         {
          "i": 1257,
          "loss": 5.451613903045654
         },
         {
          "i": 1258,
          "loss": 5.451688766479492
         },
         {
          "i": 1259,
          "loss": 5.4515204429626465
         },
         {
          "i": 1260,
          "loss": 5.451356410980225
         },
         {
          "i": 1261,
          "loss": 5.45120906829834
         },
         {
          "i": 1262,
          "loss": 5.451061248779297
         },
         {
          "i": 1263,
          "loss": 5.450911045074463
         },
         {
          "i": 1264,
          "loss": 5.450766086578369
         },
         {
          "i": 1265,
          "loss": 5.450632095336914
         },
         {
          "i": 1266,
          "loss": 5.450493812561035
         },
         {
          "i": 1267,
          "loss": 5.450380802154541
         },
         {
          "i": 1268,
          "loss": 5.4505085945129395
         },
         {
          "i": 1269,
          "loss": 5.450350284576416
         },
         {
          "i": 1270,
          "loss": 5.450186252593994
         },
         {
          "i": 1271,
          "loss": 5.450029373168945
         },
         {
          "i": 1272,
          "loss": 5.44989013671875
         },
         {
          "i": 1273,
          "loss": 5.449741840362549
         },
         {
          "i": 1274,
          "loss": 5.4495954513549805
         },
         {
          "i": 1275,
          "loss": 5.449455738067627
         },
         {
          "i": 1276,
          "loss": 5.4493255615234375
         },
         {
          "i": 1277,
          "loss": 5.449211597442627
         },
         {
          "i": 1278,
          "loss": 5.4493408203125
         },
         {
          "i": 1279,
          "loss": 5.449183940887451
         },
         {
          "i": 1280,
          "loss": 5.449026584625244
         },
         {
          "i": 1281,
          "loss": 5.448868274688721
         },
         {
          "i": 1282,
          "loss": 5.4487223625183105
         },
         {
          "i": 1283,
          "loss": 5.448583602905273
         },
         {
          "i": 1284,
          "loss": 5.4484381675720215
         },
         {
          "i": 1285,
          "loss": 5.448296546936035
         },
         {
          "i": 1286,
          "loss": 5.448163986206055
         },
         {
          "i": 1287,
          "loss": 5.448072910308838
         },
         {
          "i": 1288,
          "loss": 5.448190212249756
         },
         {
          "i": 1289,
          "loss": 5.448026180267334
         },
         {
          "i": 1290,
          "loss": 5.447876453399658
         },
         {
          "i": 1291,
          "loss": 5.447721004486084
         },
         {
          "i": 1292,
          "loss": 5.44757080078125
         },
         {
          "i": 1293,
          "loss": 5.447436332702637
         },
         {
          "i": 1294,
          "loss": 5.447299003601074
         },
         {
          "i": 1295,
          "loss": 5.447162628173828
         },
         {
          "i": 1296,
          "loss": 5.447027683258057
         },
         {
          "i": 1297,
          "loss": 5.446958065032959
         },
         {
          "i": 1298,
          "loss": 5.447067737579346
         },
         {
          "i": 1299,
          "loss": 5.446903705596924
         },
         {
          "i": 1300,
          "loss": 5.446749687194824
         },
         {
          "i": 1301,
          "loss": 5.4466094970703125
         },
         {
          "i": 1302,
          "loss": 5.4464616775512695
         },
         {
          "i": 1303,
          "loss": 5.4463210105896
         },
         {
          "i": 1304,
          "loss": 5.4461870193481445
         },
         {
          "i": 1305,
          "loss": 5.4460601806640625
         },
         {
          "i": 1306,
          "loss": 5.445927143096924
         },
         {
          "i": 1307,
          "loss": 5.445866107940674
         },
         {
          "i": 1308,
          "loss": 5.445960521697998
         },
         {
          "i": 1309,
          "loss": 5.445806980133057
         },
         {
          "i": 1310,
          "loss": 5.445650577545166
         },
         {
          "i": 1311,
          "loss": 5.445501804351807
         },
         {
          "i": 1312,
          "loss": 5.445370674133301
         },
         {
          "i": 1313,
          "loss": 5.445229530334473
         },
         {
          "i": 1314,
          "loss": 5.445093154907227
         },
         {
          "i": 1315,
          "loss": 5.4449591636657715
         },
         {
          "i": 1316,
          "loss": 5.444838047027588
         },
         {
          "i": 1317,
          "loss": 5.444775581359863
         },
         {
          "i": 1318,
          "loss": 5.444871425628662
         },
         {
          "i": 1319,
          "loss": 5.444714546203613
         },
         {
          "i": 1320,
          "loss": 5.444570541381836
         },
         {
          "i": 1321,
          "loss": 5.444422721862793
         },
         {
          "i": 1322,
          "loss": 5.444279670715332
         },
         {
          "i": 1323,
          "loss": 5.444149017333984
         },
         {
          "i": 1324,
          "loss": 5.444018363952637
         },
         {
          "i": 1325,
          "loss": 5.443887233734131
         },
         {
          "i": 1326,
          "loss": 5.443756580352783
         },
         {
          "i": 1327,
          "loss": 5.4436774253845215
         },
         {
          "i": 1328,
          "loss": 5.443800449371338
         },
         {
          "i": 1329,
          "loss": 5.4436421394348145
         },
         {
          "i": 1330,
          "loss": 5.4434895515441895
         },
         {
          "i": 1331,
          "loss": 5.443356513977051
         },
         {
          "i": 1332,
          "loss": 5.44321346282959
         },
         {
          "i": 1333,
          "loss": 5.443077564239502
         },
         {
          "i": 1334,
          "loss": 5.442943572998047
         },
         {
          "i": 1335,
          "loss": 5.442823886871338
         },
         {
          "i": 1336,
          "loss": 5.442696571350098
         },
         {
          "i": 1337,
          "loss": 5.4426116943359375
         },
         {
          "i": 1338,
          "loss": 5.4427313804626465
         },
         {
          "i": 1339,
          "loss": 5.442584991455078
         },
         {
          "i": 1340,
          "loss": 5.442434310913086
         },
         {
          "i": 1341,
          "loss": 5.442289352416992
         },
         {
          "i": 1342,
          "loss": 5.442159652709961
         },
         {
          "i": 1343,
          "loss": 5.442025184631348
         },
         {
          "i": 1344,
          "loss": 5.441892147064209
         },
         {
          "i": 1345,
          "loss": 5.441763401031494
         },
         {
          "i": 1346,
          "loss": 5.441641807556152
         },
         {
          "i": 1347,
          "loss": 5.441551685333252
         },
         {
          "i": 1348,
          "loss": 5.441683292388916
         },
         {
          "i": 1349,
          "loss": 5.4415283203125
         },
         {
          "i": 1350,
          "loss": 5.441391468048096
         },
         {
          "i": 1351,
          "loss": 5.44124698638916
         },
         {
          "i": 1352,
          "loss": 5.441108226776123
         },
         {
          "i": 1353,
          "loss": 5.440978527069092
         },
         {
          "i": 1354,
          "loss": 5.440854549407959
         },
         {
          "i": 1355,
          "loss": 5.440725326538086
         },
         {
          "i": 1356,
          "loss": 5.44059944152832
         },
         {
          "i": 1357,
          "loss": 5.440492630004883
         },
         {
          "i": 1358,
          "loss": 5.440654754638672
         },
         {
          "i": 1359,
          "loss": 5.440495491027832
         },
         {
          "i": 1360,
          "loss": 5.440347194671631
         },
         {
          "i": 1361,
          "loss": 5.440216064453125
         },
         {
          "i": 1362,
          "loss": 5.440080165863037
         },
         {
          "i": 1363,
          "loss": 5.439946174621582
         },
         {
          "i": 1364,
          "loss": 5.439816474914551
         },
         {
          "i": 1365,
          "loss": 5.439699649810791
         },
         {
          "i": 1366,
          "loss": 5.439576625823975
         },
         {
          "i": 1367,
          "loss": 5.439455986022949
         },
         {
          "i": 1368,
          "loss": 5.439616680145264
         },
         {
          "i": 1369,
          "loss": 5.4394755363464355
         },
         {
          "i": 1370,
          "loss": 5.439326763153076
         },
         {
          "i": 1371,
          "loss": 5.4391865730285645
         },
         {
          "i": 1372,
          "loss": 5.43905782699585
         },
         {
          "i": 1373,
          "loss": 5.438928127288818
         },
         {
          "i": 1374,
          "loss": 5.438800811767578
         },
         {
          "i": 1375,
          "loss": 5.438674449920654
         },
         {
          "i": 1376,
          "loss": 5.438554286956787
         },
         {
          "i": 1377,
          "loss": 5.438440322875977
         },
         {
          "i": 1378,
          "loss": 5.438533782958984
         },
         {
          "i": 1379,
          "loss": 5.438476085662842
         },
         {
          "i": 1380,
          "loss": 5.4383344650268555
         },
         {
          "i": 1381,
          "loss": 5.43819522857666
         },
         {
          "i": 1382,
          "loss": 5.438055992126465
         },
         {
          "i": 1383,
          "loss": 5.437921524047852
         },
         {
          "i": 1384,
          "loss": 5.437805652618408
         },
         {
          "i": 1385,
          "loss": 5.437678813934326
         },
         {
          "i": 1386,
          "loss": 5.437554836273193
         },
         {
          "i": 1387,
          "loss": 5.437434196472168
         },
         {
          "i": 1388,
          "loss": 5.437441825866699
         },
         {
          "i": 1389,
          "loss": 5.4374871253967285
         },
         {
          "i": 1390,
          "loss": 5.437336444854736
         },
         {
          "i": 1391,
          "loss": 5.437197208404541
         },
         {
          "i": 1392,
          "loss": 5.437067031860352
         },
         {
          "i": 1393,
          "loss": 5.436934947967529
         },
         {
          "i": 1394,
          "loss": 5.436804294586182
         },
         {
          "i": 1395,
          "loss": 5.436684608459473
         },
         {
          "i": 1396,
          "loss": 5.4365668296813965
         },
         {
          "i": 1397,
          "loss": 5.436445236206055
         },
         {
          "i": 1398,
          "loss": 5.4364190101623535
         },
         {
          "i": 1399,
          "loss": 5.436497211456299
         },
         {
          "i": 1400,
          "loss": 5.43635368347168
         },
         {
          "i": 1401,
          "loss": 5.436209678649902
         },
         {
          "i": 1402,
          "loss": 5.436074256896973
         },
         {
          "i": 1403,
          "loss": 5.435952186584473
         },
         {
          "i": 1404,
          "loss": 5.435822010040283
         },
         {
          "i": 1405,
          "loss": 5.435697078704834
         },
         {
          "i": 1406,
          "loss": 5.435575485229492
         },
         {
          "i": 1407,
          "loss": 5.4354658126831055
         },
         {
          "i": 1408,
          "loss": 5.435423374176025
         },
         {
          "i": 1409,
          "loss": 5.435513496398926
         },
         {
          "i": 1410,
          "loss": 5.435369491577148
         },
         {
          "i": 1411,
          "loss": 5.435235500335693
         },
         {
          "i": 1412,
          "loss": 5.435097694396973
         },
         {
          "i": 1413,
          "loss": 5.434966564178467
         },
         {
          "i": 1414,
          "loss": 5.434849262237549
         },
         {
          "i": 1415,
          "loss": 5.434727191925049
         },
         {
          "i": 1416,
          "loss": 5.434604644775391
         },
         {
          "i": 1417,
          "loss": 5.434484958648682
         },
         {
          "i": 1418,
          "loss": 5.434424877166748
         },
         {
          "i": 1419,
          "loss": 5.434548377990723
         },
         {
          "i": 1420,
          "loss": 5.434398174285889
         },
         {
          "i": 1421,
          "loss": 5.434261322021484
         },
         {
          "i": 1422,
          "loss": 5.434134483337402
         },
         {
          "i": 1423,
          "loss": 5.434002876281738
         },
         {
          "i": 1424,
          "loss": 5.4338765144348145
         },
         {
          "i": 1425,
          "loss": 5.433759689331055
         },
         {
          "i": 1426,
          "loss": 5.433643817901611
         },
         {
          "i": 1427,
          "loss": 5.433526039123535
         },
         {
          "i": 1428,
          "loss": 5.4334564208984375
         },
         {
          "i": 1429,
          "loss": 5.4335832595825195
         },
         {
          "i": 1430,
          "loss": 5.43344259262085
         },
         {
          "i": 1431,
          "loss": 5.4333014488220215
         },
         {
          "i": 1432,
          "loss": 5.433169364929199
         },
         {
          "i": 1433,
          "loss": 5.433050155639648
         },
         {
          "i": 1434,
          "loss": 5.432923793792725
         },
         {
          "i": 1435,
          "loss": 5.432801723480225
         },
         {
          "i": 1436,
          "loss": 5.432683944702148
         },
         {
          "i": 1437,
          "loss": 5.432574272155762
         },
         {
          "i": 1438,
          "loss": 5.432504177093506
         },
         {
          "i": 1439,
          "loss": 5.432626247406006
         },
         {
          "i": 1440,
          "loss": 5.432489395141602
         },
         {
          "i": 1441,
          "loss": 5.4323554039001465
         },
         {
          "i": 1442,
          "loss": 5.432220935821533
         },
         {
          "i": 1443,
          "loss": 5.432093620300293
         },
         {
          "i": 1444,
          "loss": 5.431978702545166
         },
         {
          "i": 1445,
          "loss": 5.431858539581299
         },
         {
          "i": 1446,
          "loss": 5.431738376617432
         },
         {
          "i": 1447,
          "loss": 5.431622505187988
         },
         {
          "i": 1448,
          "loss": 5.431547164916992
         },
         {
          "i": 1449,
          "loss": 5.43168830871582
         },
         {
          "i": 1450,
          "loss": 5.431544303894043
         },
         {
          "i": 1451,
          "loss": 5.431413173675537
         },
         {
          "i": 1452,
          "loss": 5.431285381317139
         },
         {
          "i": 1453,
          "loss": 5.431157112121582
         },
         {
          "i": 1454,
          "loss": 5.431033134460449
         },
         {
          "i": 1455,
          "loss": 5.430922985076904
         },
         {
          "i": 1456,
          "loss": 5.430808067321777
         },
         {
          "i": 1457,
          "loss": 5.430691719055176
         },
         {
          "i": 1458,
          "loss": 5.430604457855225
         },
         {
          "i": 1459,
          "loss": 5.430757999420166
         },
         {
          "i": 1460,
          "loss": 5.43061637878418
         },
         {
          "i": 1461,
          "loss": 5.430478096008301
         },
         {
          "i": 1462,
          "loss": 5.430351734161377
         },
         {
          "i": 1463,
          "loss": 5.430231094360352
         },
         {
          "i": 1464,
          "loss": 5.430109024047852
         },
         {
          "i": 1465,
          "loss": 5.429988861083984
         },
         {
          "i": 1466,
          "loss": 5.429877281188965
         },
         {
          "i": 1467,
          "loss": 5.429769515991211
         },
         {
          "i": 1468,
          "loss": 5.429680824279785
         },
         {
          "i": 1469,
          "loss": 5.429825305938721
         },
         {
          "i": 1470,
          "loss": 5.429694175720215
         },
         {
          "i": 1471,
          "loss": 5.429559707641602
         },
         {
          "i": 1472,
          "loss": 5.429428577423096
         },
         {
          "i": 1473,
          "loss": 5.429306507110596
         },
         {
          "i": 1474,
          "loss": 5.429192543029785
         },
         {
          "i": 1475,
          "loss": 5.429072856903076
         },
         {
          "i": 1476,
          "loss": 5.428957462310791
         },
         {
          "i": 1477,
          "loss": 5.428845405578613
         },
         {
          "i": 1478,
          "loss": 5.428764820098877
         },
         {
          "i": 1479,
          "loss": 5.4289140701293945
         },
         {
          "i": 1480,
          "loss": 5.428771495819092
         },
         {
          "i": 1481,
          "loss": 5.428647518157959
         },
         {
          "i": 1482,
          "loss": 5.428519248962402
         },
         {
          "i": 1483,
          "loss": 5.428393363952637
         },
         {
          "i": 1484,
          "loss": 5.4282732009887695
         },
         {
          "i": 1485,
          "loss": 5.428167343139648
         },
         {
          "i": 1486,
          "loss": 5.428050994873047
         },
         {
          "i": 1487,
          "loss": 5.427938938140869
         },
         {
          "i": 1488,
          "loss": 5.4278411865234375
         },
         {
          "i": 1489,
          "loss": 5.428011417388916
         },
         {
          "i": 1490,
          "loss": 5.42786979675293
         },
         {
          "i": 1491,
          "loss": 5.427734851837158
         },
         {
          "i": 1492,
          "loss": 5.427614688873291
         },
         {
          "i": 1493,
          "loss": 5.427494049072266
         },
         {
          "i": 1494,
          "loss": 5.427374362945557
         },
         {
          "i": 1495,
          "loss": 5.427257537841797
         },
         {
          "i": 1496,
          "loss": 5.427151679992676
         },
         {
          "i": 1497,
          "loss": 5.4270429611206055
         },
         {
          "i": 1498,
          "loss": 5.426938533782959
         },
         {
          "i": 1499,
          "loss": 5.427103042602539
         },
         {
          "i": 1500,
          "loss": 5.426975727081299
         },
         {
          "i": 1501,
          "loss": 5.4268412590026855
         },
         {
          "i": 1502,
          "loss": 5.426713466644287
         },
         {
          "i": 1503,
          "loss": 5.426598072052002
         },
         {
          "i": 1504,
          "loss": 5.4264817237854
         },
         {
          "i": 1505,
          "loss": 5.426365852355957
         },
         {
          "i": 1506,
          "loss": 5.426253795623779
         },
         {
          "i": 1507,
          "loss": 5.426145553588867
         },
         {
          "i": 1508,
          "loss": 5.42604923248291
         },
         {
          "i": 1509,
          "loss": 5.4262166023254395
         },
         {
          "i": 1510,
          "loss": 5.426077842712402
         },
         {
          "i": 1511,
          "loss": 5.4259562492370605
         },
         {
          "i": 1512,
          "loss": 5.42582893371582
         },
         {
          "i": 1513,
          "loss": 5.425706386566162
         },
         {
          "i": 1514,
          "loss": 5.425594329833984
         },
         {
          "i": 1515,
          "loss": 5.4254841804504395
         },
         {
          "i": 1516,
          "loss": 5.4253716468811035
         },
         {
          "i": 1517,
          "loss": 5.4252610206604
         },
         {
          "i": 1518,
          "loss": 5.425155162811279
         },
         {
          "i": 1519,
          "loss": 5.4252610206604
         },
         {
          "i": 1520,
          "loss": 5.425222396850586
         },
         {
          "i": 1521,
          "loss": 5.425086498260498
         },
         {
          "i": 1522,
          "loss": 5.424965858459473
         },
         {
          "i": 1523,
          "loss": 5.424844741821289
         },
         {
          "i": 1524,
          "loss": 5.424724578857422
         },
         {
          "i": 1525,
          "loss": 5.424609184265137
         },
         {
          "i": 1526,
          "loss": 5.424504280090332
         },
         {
          "i": 1527,
          "loss": 5.424396991729736
         },
         {
          "i": 1528,
          "loss": 5.424287796020508
         },
         {
          "i": 1529,
          "loss": 5.424311637878418
         },
         {
          "i": 1530,
          "loss": 5.424360275268555
         },
         {
          "i": 1531,
          "loss": 5.4242262840271
         },
         {
          "i": 1532,
          "loss": 5.424094200134277
         },
         {
          "i": 1533,
          "loss": 5.423977851867676
         },
         {
          "i": 1534,
          "loss": 5.423862934112549
         },
         {
          "i": 1535,
          "loss": 5.423745632171631
         },
         {
          "i": 1536,
          "loss": 5.423634052276611
         },
         {
          "i": 1537,
          "loss": 5.423528671264648
         },
         {
          "i": 1538,
          "loss": 5.423425197601318
         },
         {
          "i": 1539,
          "loss": 5.423416614532471
         },
         {
          "i": 1540,
          "loss": 5.42349100112915
         },
         {
          "i": 1541,
          "loss": 5.423365592956543
         },
         {
          "i": 1542,
          "loss": 5.423237323760986
         },
         {
          "i": 1543,
          "loss": 5.4231133460998535
         },
         {
          "i": 1544,
          "loss": 5.42299747467041
         },
         {
          "i": 1545,
          "loss": 5.4228901863098145
         },
         {
          "i": 1546,
          "loss": 5.422776699066162
         },
         {
          "i": 1547,
          "loss": 5.422667980194092
         },
         {
          "i": 1548,
          "loss": 5.422561168670654
         },
         {
          "i": 1549,
          "loss": 5.422544002532959
         },
         {
          "i": 1550,
          "loss": 5.422637939453125
         },
         {
          "i": 1551,
          "loss": 5.422501087188721
         },
         {
          "i": 1552,
          "loss": 5.422382831573486
         },
         {
          "i": 1553,
          "loss": 5.4222612380981445
         },
         {
          "i": 1554,
          "loss": 5.42214298248291
         },
         {
          "i": 1555,
          "loss": 5.4220290184021
         },
         {
          "i": 1556,
          "loss": 5.421926975250244
         },
         {
          "i": 1557,
          "loss": 5.421817779541016
         },
         {
          "i": 1558,
          "loss": 5.421710968017578
         },
         {
          "i": 1559,
          "loss": 5.421670913696289
         },
         {
          "i": 1560,
          "loss": 5.4217915534973145
         },
         {
          "i": 1561,
          "loss": 5.421655178070068
         },
         {
          "i": 1562,
          "loss": 5.4215264320373535
         },
         {
          "i": 1563,
          "loss": 5.421412944793701
         },
         {
          "i": 1564,
          "loss": 5.421299457550049
         },
         {
          "i": 1565,
          "loss": 5.421181678771973
         },
         {
          "i": 1566,
          "loss": 5.4210734367370605
         },
         {
          "i": 1567,
          "loss": 5.420973300933838
         },
         {
          "i": 1568,
          "loss": 5.420868396759033
         },
         {
          "i": 1569,
          "loss": 5.420818328857422
         },
         {
          "i": 1570,
          "loss": 5.420938491821289
         },
         {
          "i": 1571,
          "loss": 5.420815467834473
         },
         {
          "i": 1572,
          "loss": 5.420687675476074
         },
         {
          "i": 1573,
          "loss": 5.420565128326416
         },
         {
          "i": 1574,
          "loss": 5.42045783996582
         },
         {
          "i": 1575,
          "loss": 5.420346260070801
         },
         {
          "i": 1576,
          "loss": 5.420235633850098
         },
         {
          "i": 1577,
          "loss": 5.42012882232666
         },
         {
          "i": 1578,
          "loss": 5.4200286865234375
         },
         {
          "i": 1579,
          "loss": 5.419979095458984
         },
         {
          "i": 1580,
          "loss": 5.420103073120117
         },
         {
          "i": 1581,
          "loss": 5.419973373413086
         },
         {
          "i": 1582,
          "loss": 5.419855117797852
         },
         {
          "i": 1583,
          "loss": 5.419734477996826
         },
         {
          "i": 1584,
          "loss": 5.41961669921875
         },
         {
          "i": 1585,
          "loss": 5.419511318206787
         },
         {
          "i": 1586,
          "loss": 5.419405460357666
         },
         {
          "i": 1587,
          "loss": 5.419299125671387
         },
         {
          "i": 1588,
          "loss": 5.419195175170898
         },
         {
          "i": 1589,
          "loss": 5.419130802154541
         },
         {
          "i": 1590,
          "loss": 5.419278144836426
         },
         {
          "i": 1591,
          "loss": 5.419144153594971
         },
         {
          "i": 1592,
          "loss": 5.4190192222595215
         },
         {
          "i": 1593,
          "loss": 5.418910026550293
         },
         {
          "i": 1594,
          "loss": 5.418792247772217
         },
         {
          "i": 1595,
          "loss": 5.4186811447143555
         },
         {
          "i": 1596,
          "loss": 5.418574810028076
         },
         {
          "i": 1597,
          "loss": 5.4184770584106445
         },
         {
          "i": 1598,
          "loss": 5.418371677398682
         },
         {
          "i": 1599,
          "loss": 5.418306827545166
         },
         {
          "i": 1600,
          "loss": 5.418450832366943
         },
         {
          "i": 1601,
          "loss": 5.4183244705200195
         },
         {
          "i": 1602,
          "loss": 5.418199062347412
         },
         {
          "i": 1603,
          "loss": 5.4180803298950195
         },
         {
          "i": 1604,
          "loss": 5.417975902557373
         },
         {
          "i": 1605,
          "loss": 5.417863368988037
         },
         {
          "i": 1606,
          "loss": 5.417754650115967
         },
         {
          "i": 1607,
          "loss": 5.4176506996154785
         },
         {
          "i": 1608,
          "loss": 5.417555332183838
         },
         {
          "i": 1609,
          "loss": 5.417487621307373
         },
         {
          "i": 1610,
          "loss": 5.417629241943359
         },
         {
          "i": 1611,
          "loss": 5.417505264282227
         },
         {
          "i": 1612,
          "loss": 5.417385101318359
         },
         {
          "i": 1613,
          "loss": 5.417266845703125
         },
         {
          "i": 1614,
          "loss": 5.417151927947998
         },
         {
          "i": 1615,
          "loss": 5.41705322265625
         },
         {
          "i": 1616,
          "loss": 5.416944980621338
         },
         {
          "i": 1617,
          "loss": 5.41684103012085
         },
         {
          "i": 1618,
          "loss": 5.4167375564575195
         },
         {
          "i": 1619,
          "loss": 5.4166579246521
         },
         {
          "i": 1620,
          "loss": 5.416823863983154
         },
         {
          "i": 1621,
          "loss": 5.416692733764648
         },
         {
          "i": 1622,
          "loss": 5.416574001312256
         },
         {
          "i": 1623,
          "loss": 5.416460990905762
         },
         {
          "i": 1624,
          "loss": 5.416346549987793
         },
         {
          "i": 1625,
          "loss": 5.416237831115723
         },
         {
          "i": 1626,
          "loss": 5.4161376953125
         },
         {
          "i": 1627,
          "loss": 5.416036605834961
         },
         {
          "i": 1628,
          "loss": 5.415933609008789
         },
         {
          "i": 1629,
          "loss": 5.4158453941345215
         },
         {
          "i": 1630,
          "loss": 5.416018009185791
         },
         {
          "i": 1631,
          "loss": 5.415892124176025
         },
         {
          "i": 1632,
          "loss": 5.415768623352051
         },
         {
          "i": 1633,
          "loss": 5.415654182434082
         },
         {
          "i": 1634,
          "loss": 5.415548324584961
         },
         {
          "i": 1635,
          "loss": 5.415439605712891
         },
         {
          "i": 1636,
          "loss": 5.415332794189453
         },
         {
          "i": 1637,
          "loss": 5.415233135223389
         },
         {
          "i": 1638,
          "loss": 5.415139198303223
         },
         {
          "i": 1639,
          "loss": 5.415045261383057
         },
         {
          "i": 1640,
          "loss": 5.415219783782959
         },
         {
          "i": 1641,
          "loss": 5.415103912353516
         },
         {
          "i": 1642,
          "loss": 5.414978504180908
         },
         {
          "i": 1643,
          "loss": 5.414861679077148
         },
         {
          "i": 1644,
          "loss": 5.4147539138793945
         },
         {
          "i": 1645,
          "loss": 5.4146504402160645
         },
         {
          "i": 1646,
          "loss": 5.414544582366943
         },
         {
          "i": 1647,
          "loss": 5.414441108703613
         },
         {
          "i": 1648,
          "loss": 5.414341926574707
         },
         {
          "i": 1649,
          "loss": 5.414251804351807
         },
         {
          "i": 1650,
          "loss": 5.414285182952881
         },
         {
          "i": 1651,
          "loss": 5.414334297180176
         },
         {
          "i": 1652,
          "loss": 5.414218902587891
         },
         {
          "i": 1653,
          "loss": 5.414096832275391
         },
         {
          "i": 1654,
          "loss": 5.4139814376831055
         },
         {
          "i": 1655,
          "loss": 5.413873195648193
         },
         {
          "i": 1656,
          "loss": 5.413772106170654
         },
         {
          "i": 1657,
          "loss": 5.413667678833008
         },
         {
          "i": 1658,
          "loss": 5.4135661125183105
         },
         {
          "i": 1659,
          "loss": 5.41346549987793
         },
         {
          "i": 1660,
          "loss": 5.413421630859375
         },
         {
          "i": 1661,
          "loss": 5.413561820983887
         },
         {
          "i": 1662,
          "loss": 5.413432598114014
         },
         {
          "i": 1663,
          "loss": 5.413320541381836
         },
         {
          "i": 1664,
          "loss": 5.413206100463867
         },
         {
          "i": 1665,
          "loss": 5.413094520568848
         },
         {
          "i": 1666,
          "loss": 5.412987232208252
         },
         {
          "i": 1667,
          "loss": 5.412891864776611
         },
         {
          "i": 1668,
          "loss": 5.4127888679504395
         },
         {
          "i": 1669,
          "loss": 5.41269063949585
         },
         {
          "i": 1670,
          "loss": 5.4126057624816895
         },
         {
          "i": 1671,
          "loss": 5.412790298461914
         },
         {
          "i": 1672,
          "loss": 5.412659168243408
         },
         {
          "i": 1673,
          "loss": 5.412538528442383
         },
         {
          "i": 1674,
          "loss": 5.412431240081787
         },
         {
          "i": 1675,
          "loss": 5.412320613861084
         },
         {
          "i": 1676,
          "loss": 5.4122138023376465
         },
         {
          "i": 1677,
          "loss": 5.412109375
         },
         {
          "i": 1678,
          "loss": 5.412015914916992
         },
         {
          "i": 1679,
          "loss": 5.4119181632995605
         },
         {
          "i": 1680,
          "loss": 5.411826133728027
         },
         {
          "i": 1681,
          "loss": 5.411822319030762
         },
         {
          "i": 1682,
          "loss": 5.411930084228516
         },
         {
          "i": 1683,
          "loss": 5.411799430847168
         },
         {
          "i": 1684,
          "loss": 5.411677837371826
         },
         {
          "i": 1685,
          "loss": 5.4115753173828125
         },
         {
          "i": 1686,
          "loss": 5.411464691162109
         },
         {
          "i": 1687,
          "loss": 5.411357879638672
         },
         {
          "i": 1688,
          "loss": 5.4112548828125
         },
         {
          "i": 1689,
          "loss": 5.411161422729492
         },
         {
          "i": 1690,
          "loss": 5.411065578460693
         },
         {
          "i": 1691,
          "loss": 5.410974502563477
         },
         {
          "i": 1692,
          "loss": 5.411030292510986
         },
         {
          "i": 1693,
          "loss": 5.411077499389648
         },
         {
          "i": 1694,
          "loss": 5.410949230194092
         },
         {
          "i": 1695,
          "loss": 5.410829067230225
         },
         {
          "i": 1696,
          "loss": 5.4107232093811035
         },
         {
          "i": 1697,
          "loss": 5.410616397857666
         },
         {
          "i": 1698,
          "loss": 5.4105095863342285
         },
         {
          "i": 1699,
          "loss": 5.4104084968566895
         },
         {
          "i": 1700,
          "loss": 5.410311698913574
         },
         {
          "i": 1701,
          "loss": 5.410221099853516
         },
         {
          "i": 1702,
          "loss": 5.410177707672119
         },
         {
          "i": 1703,
          "loss": 5.410317420959473
         },
         {
          "i": 1704,
          "loss": 5.4101996421813965
         },
         {
          "i": 1705,
          "loss": 5.410078525543213
         },
         {
          "i": 1706,
          "loss": 5.409964084625244
         },
         {
          "i": 1707,
          "loss": 5.409860610961914
         },
         {
          "i": 1708,
          "loss": 5.409757614135742
         },
         {
          "i": 1709,
          "loss": 5.409655570983887
         },
         {
          "i": 1710,
          "loss": 5.4095563888549805
         },
         {
          "i": 1711,
          "loss": 5.409458160400391
         },
         {
          "i": 1712,
          "loss": 5.4094319343566895
         },
         {
          "i": 1713,
          "loss": 5.4095587730407715
         },
         {
          "i": 1714,
          "loss": 5.409433364868164
         },
         {
          "i": 1715,
          "loss": 5.40932559967041
         },
         {
          "i": 1716,
          "loss": 5.409210205078125
         },
         {
          "i": 1717,
          "loss": 5.4091010093688965
         },
         {
          "i": 1718,
          "loss": 5.40899658203125
         },
         {
          "i": 1719,
          "loss": 5.408903121948242
         },
         {
          "i": 1720,
          "loss": 5.408804893493652
         },
         {
          "i": 1721,
          "loss": 5.408710956573486
         },
         {
          "i": 1722,
          "loss": 5.408620834350586
         },
         {
          "i": 1723,
          "loss": 5.408677577972412
         },
         {
          "i": 1724,
          "loss": 5.408721446990967
         },
         {
          "i": 1725,
          "loss": 5.408597469329834
         },
         {
          "i": 1726,
          "loss": 5.408486843109131
         },
         {
          "i": 1727,
          "loss": 5.4083757400512695
         },
         {
          "i": 1728,
          "loss": 5.408268451690674
         },
         {
          "i": 1729,
          "loss": 5.408165454864502
         },
         {
          "i": 1730,
          "loss": 5.4080681800842285
         },
         {
          "i": 1731,
          "loss": 5.407974720001221
         },
         {
          "i": 1732,
          "loss": 5.4078826904296875
         },
         {
          "i": 1733,
          "loss": 5.407851696014404
         },
         {
          "i": 1734,
          "loss": 5.407989025115967
         },
         {
          "i": 1735,
          "loss": 5.407863140106201
         },
         {
          "i": 1736,
          "loss": 5.407743453979492
         },
         {
          "i": 1737,
          "loss": 5.407635688781738
         },
         {
          "i": 1738,
          "loss": 5.407532215118408
         },
         {
          "i": 1739,
          "loss": 5.407426834106445
         },
         {
          "i": 1740,
          "loss": 5.407326698303223
         },
         {
          "i": 1741,
          "loss": 5.407227993011475
         },
         {
          "i": 1742,
          "loss": 5.407146453857422
         },
         {
          "i": 1743,
          "loss": 5.407074451446533
         },
         {
          "i": 1744,
          "loss": 5.4072418212890625
         },
         {
          "i": 1745,
          "loss": 5.407126426696777
         },
         {
          "i": 1746,
          "loss": 5.407010078430176
         },
         {
          "i": 1747,
          "loss": 5.406896591186523
         },
         {
          "i": 1748,
          "loss": 5.406789779663086
         },
         {
          "i": 1749,
          "loss": 5.406692981719971
         },
         {
          "i": 1750,
          "loss": 5.406591415405273
         },
         {
          "i": 1751,
          "loss": 5.406494617462158
         },
         {
          "i": 1752,
          "loss": 5.406404972076416
         },
         {
          "i": 1753,
          "loss": 5.406322002410889
         },
         {
          "i": 1754,
          "loss": 5.406378269195557
         },
         {
          "i": 1755,
          "loss": 5.406415939331055
         },
         {
          "i": 1756,
          "loss": 5.4063005447387695
         },
         {
          "i": 1757,
          "loss": 5.406187057495117
         },
         {
          "i": 1758,
          "loss": 5.406075477600098
         },
         {
          "i": 1759,
          "loss": 5.405969142913818
         },
         {
          "i": 1760,
          "loss": 5.405872821807861
         },
         {
          "i": 1761,
          "loss": 5.405776500701904
         },
         {
          "i": 1762,
          "loss": 5.405681610107422
         },
         {
          "i": 1763,
          "loss": 5.405593395233154
         },
         {
          "i": 1764,
          "loss": 5.405513763427734
         },
         {
          "i": 1765,
          "loss": 5.405704975128174
         },
         {
          "i": 1766,
          "loss": 5.405579090118408
         },
         {
          "i": 1767,
          "loss": 5.405465602874756
         },
         {
          "i": 1768,
          "loss": 5.405358791351318
         },
         {
          "i": 1769,
          "loss": 5.4052510261535645
         },
         {
          "i": 1770,
          "loss": 5.405148506164551
         },
         {
          "i": 1771,
          "loss": 5.405050277709961
         },
         {
          "i": 1772,
          "loss": 5.404961585998535
         },
         {
          "i": 1773,
          "loss": 5.404872417449951
         },
         {
          "i": 1774,
          "loss": 5.404784679412842
         },
         {
          "i": 1775,
          "loss": 5.4047932624816895
         },
         {
          "i": 1776,
          "loss": 5.40489387512207
         },
         {
          "i": 1777,
          "loss": 5.404770374298096
         },
         {
          "i": 1778,
          "loss": 5.404656410217285
         },
         {
          "i": 1779,
          "loss": 5.404553413391113
         },
         {
          "i": 1780,
          "loss": 5.404446601867676
         },
         {
          "i": 1781,
          "loss": 5.40434455871582
         },
         {
          "i": 1782,
          "loss": 5.404244899749756
         },
         {
          "i": 1783,
          "loss": 5.404155254364014
         },
         {
          "i": 1784,
          "loss": 5.4040703773498535
         },
         {
          "i": 1785,
          "loss": 5.404041290283203
         },
         {
          "i": 1786,
          "loss": 5.404172420501709
         },
         {
          "i": 1787,
          "loss": 5.404054641723633
         },
         {
          "i": 1788,
          "loss": 5.4039387702941895
         },
         {
          "i": 1789,
          "loss": 5.403826713562012
         },
         {
          "i": 1790,
          "loss": 5.4037251472473145
         },
         {
          "i": 1791,
          "loss": 5.403627872467041
         },
         {
          "i": 1792,
          "loss": 5.403529644012451
         },
         {
          "i": 1793,
          "loss": 5.403436660766602
         },
         {
          "i": 1794,
          "loss": 5.403350353240967
         },
         {
          "i": 1795,
          "loss": 5.403274059295654
         },
         {
          "i": 1796,
          "loss": 5.403320789337158
         },
         {
          "i": 1797,
          "loss": 5.403370380401611
         },
         {
          "i": 1798,
          "loss": 5.403258800506592
         },
         {
          "i": 1799,
          "loss": 5.403142929077148
         },
         {
          "i": 1800,
          "loss": 5.403032302856445
         },
         {
          "i": 1801,
          "loss": 5.402927875518799
         },
         {
          "i": 1802,
          "loss": 5.402834415435791
         },
         {
          "i": 1803,
          "loss": 5.402736186981201
         },
         {
          "i": 1804,
          "loss": 5.402645111083984
         },
         {
          "i": 1805,
          "loss": 5.402559280395508
         },
         {
          "i": 1806,
          "loss": 5.402507305145264
         },
         {
          "i": 1807,
          "loss": 5.402673721313477
         },
         {
          "i": 1808,
          "loss": 5.4025492668151855
         },
         {
          "i": 1809,
          "loss": 5.402439594268799
         },
         {
          "i": 1810,
          "loss": 5.402331352233887
         },
         {
          "i": 1811,
          "loss": 5.402226448059082
         },
         {
          "i": 1812,
          "loss": 5.402125358581543
         },
         {
          "i": 1813,
          "loss": 5.402031421661377
         },
         {
          "i": 1814,
          "loss": 5.401947498321533
         },
         {
          "i": 1815,
          "loss": 5.4018659591674805
         },
         {
          "i": 1816,
          "loss": 5.401785373687744
         },
         {
          "i": 1817,
          "loss": 5.401843070983887
         },
         {
          "i": 1818,
          "loss": 5.401904106140137
         },
         {
          "i": 1819,
          "loss": 5.4017839431762695
         },
         {
          "i": 1820,
          "loss": 5.401673793792725
         },
         {
          "i": 1821,
          "loss": 5.4015679359436035
         },
         {
          "i": 1822,
          "loss": 5.401470184326172
         },
         {
          "i": 1823,
          "loss": 5.401379585266113
         },
         {
          "i": 1824,
          "loss": 5.4012885093688965
         },
         {
          "i": 1825,
          "loss": 5.4012064933776855
         },
         {
          "i": 1826,
          "loss": 5.401127338409424
         },
         {
          "i": 1827,
          "loss": 5.4010491371154785
         },
         {
          "i": 1828,
          "loss": 5.401095390319824
         },
         {
          "i": 1829,
          "loss": 5.401162624359131
         },
         {
          "i": 1830,
          "loss": 5.401046276092529
         },
         {
          "i": 1831,
          "loss": 5.400938510894775
         },
         {
          "i": 1832,
          "loss": 5.4008402824401855
         },
         {
          "i": 1833,
          "loss": 5.400741100311279
         },
         {
          "i": 1834,
          "loss": 5.4006452560424805
         },
         {
          "i": 1835,
          "loss": 5.4005560874938965
         },
         {
          "i": 1836,
          "loss": 5.400475978851318
         },
         {
          "i": 1837,
          "loss": 5.400401592254639
         },
         {
          "i": 1838,
          "loss": 5.400326728820801
         },
         {
          "i": 1839,
          "loss": 5.400315761566162
         },
         {
          "i": 1840,
          "loss": 5.400432586669922
         },
         {
          "i": 1841,
          "loss": 5.400322437286377
         },
         {
          "i": 1842,
          "loss": 5.4002156257629395
         },
         {
          "i": 1843,
          "loss": 5.400111675262451
         },
         {
          "i": 1844,
          "loss": 5.4000139236450195
         },
         {
          "i": 1845,
          "loss": 5.399919509887695
         },
         {
          "i": 1846,
          "loss": 5.399828910827637
         },
         {
          "i": 1847,
          "loss": 5.399755954742432
         },
         {
          "i": 1848,
          "loss": 5.399679183959961
         },
         {
          "i": 1849,
          "loss": 5.399601459503174
         },
         {
          "i": 1850,
          "loss": 5.399534225463867
         },
         {
          "i": 1851,
          "loss": 5.399716377258301
         },
         {
          "i": 1852,
          "loss": 5.399600982666016
         },
         {
          "i": 1853,
          "loss": 5.3994927406311035
         },
         {
          "i": 1854,
          "loss": 5.399389266967773
         },
         {
          "i": 1855,
          "loss": 5.399291515350342
         },
         {
          "i": 1856,
          "loss": 5.399199962615967
         },
         {
          "i": 1857,
          "loss": 5.3991169929504395
         },
         {
          "i": 1858,
          "loss": 5.399036884307861
         },
         {
          "i": 1859,
          "loss": 5.398958206176758
         },
         {
          "i": 1860,
          "loss": 5.398882865905762
         },
         {
          "i": 1861,
          "loss": 5.398805618286133
         },
         {
          "i": 1862,
          "loss": 5.398829936981201
         },
         {
          "i": 1863,
          "loss": 5.398913383483887
         },
         {
          "i": 1864,
          "loss": 5.398800849914551
         },
         {
          "i": 1865,
          "loss": 5.398694038391113
         },
         {
          "i": 1866,
          "loss": 5.39859676361084
         },
         {
          "i": 1867,
          "loss": 5.398501396179199
         },
         {
          "i": 1868,
          "loss": 5.398409366607666
         },
         {
          "i": 1869,
          "loss": 5.398324966430664
         },
         {
          "i": 1870,
          "loss": 5.398247241973877
         },
         {
          "i": 1871,
          "loss": 5.398169994354248
         },
         {
          "i": 1872,
          "loss": 5.398097991943359
         },
         {
          "i": 1873,
          "loss": 5.3980278968811035
         },
         {
          "i": 1874,
          "loss": 5.3982062339782715
         },
         {
          "i": 1875,
          "loss": 5.398092269897461
         },
         {
          "i": 1876,
          "loss": 5.397988796234131
         },
         {
          "i": 1877,
          "loss": 5.39788818359375
         },
         {
          "i": 1878,
          "loss": 5.397791862487793
         },
         {
          "i": 1879,
          "loss": 5.397698402404785
         },
         {
          "i": 1880,
          "loss": 5.397615909576416
         },
         {
          "i": 1881,
          "loss": 5.397537708282471
         },
         {
          "i": 1882,
          "loss": 5.397463798522949
         },
         {
          "i": 1883,
          "loss": 5.3973917961120605
         },
         {
          "i": 1884,
          "loss": 5.3973164558410645
         },
         {
          "i": 1885,
          "loss": 5.397319793701172
         },
         {
          "i": 1886,
          "loss": 5.397415637969971
         },
         {
          "i": 1887,
          "loss": 5.397308349609375
         },
         {
          "i": 1888,
          "loss": 5.397202968597412
         },
         {
          "i": 1889,
          "loss": 5.397101402282715
         },
         {
          "i": 1890,
          "loss": 5.397006988525391
         },
         {
          "i": 1891,
          "loss": 5.396916389465332
         },
         {
          "i": 1892,
          "loss": 5.396841049194336
         },
         {
          "i": 1893,
          "loss": 5.396767616271973
         },
         {
          "i": 1894,
          "loss": 5.39669132232666
         },
         {
          "i": 1895,
          "loss": 5.396615982055664
         },
         {
          "i": 1896,
          "loss": 5.396540641784668
         },
         {
          "i": 1897,
          "loss": 5.3965253829956055
         },
         {
          "i": 1898,
          "loss": 5.396650791168213
         },
         {
          "i": 1899,
          "loss": 5.3965373039245605
         },
         {
          "i": 1900,
          "loss": 5.3964314460754395
         },
         {
          "i": 1901,
          "loss": 5.396331787109375
         },
         {
          "i": 1902,
          "loss": 5.396238803863525
         },
         {
          "i": 1903,
          "loss": 5.396150588989258
         },
         {
          "i": 1904,
          "loss": 5.396071910858154
         },
         {
          "i": 1905,
          "loss": 5.395994186401367
         },
         {
          "i": 1906,
          "loss": 5.395918369293213
         },
         {
          "i": 1907,
          "loss": 5.395843982696533
         },
         {
          "i": 1908,
          "loss": 5.39577579498291
         },
         {
          "i": 1909,
          "loss": 5.3957624435424805
         },
         {
          "i": 1910,
          "loss": 5.395880699157715
         },
         {
          "i": 1911,
          "loss": 5.395767688751221
         },
         {
          "i": 1912,
          "loss": 5.3956685066223145
         },
         {
          "i": 1913,
          "loss": 5.395568370819092
         },
         {
          "i": 1914,
          "loss": 5.395471572875977
         },
         {
          "i": 1915,
          "loss": 5.395380020141602
         },
         {
          "i": 1916,
          "loss": 5.395300388336182
         },
         {
          "i": 1917,
          "loss": 5.395224571228027
         },
         {
          "i": 1918,
          "loss": 5.395152568817139
         },
         {
          "i": 1919,
          "loss": 5.395083427429199
         },
         {
          "i": 1920,
          "loss": 5.395012378692627
         },
         {
          "i": 1921,
          "loss": 5.395069599151611
         },
         {
          "i": 1922,
          "loss": 5.395116806030273
         },
         {
          "i": 1923,
          "loss": 5.3950066566467285
         },
         {
          "i": 1924,
          "loss": 5.394906044006348
         },
         {
          "i": 1925,
          "loss": 5.394807815551758
         },
         {
          "i": 1926,
          "loss": 5.394714832305908
         },
         {
          "i": 1927,
          "loss": 5.394633769989014
         },
         {
          "i": 1928,
          "loss": 5.394557952880859
         },
         {
          "i": 1929,
          "loss": 5.394484996795654
         },
         {
          "i": 1930,
          "loss": 5.394412994384766
         },
         {
          "i": 1931,
          "loss": 5.394343376159668
         },
         {
          "i": 1932,
          "loss": 5.394275665283203
         },
         {
          "i": 1933,
          "loss": 5.394300937652588
         },
         {
          "i": 1934,
          "loss": 5.394375801086426
         },
         {
          "i": 1935,
          "loss": 5.394268035888672
         },
         {
          "i": 1936,
          "loss": 5.394165515899658
         },
         {
          "i": 1937,
          "loss": 5.394069671630859
         },
         {
          "i": 1938,
          "loss": 5.393977165222168
         },
         {
          "i": 1939,
          "loss": 5.39389705657959
         },
         {
          "i": 1940,
          "loss": 5.393829822540283
         },
         {
          "i": 1941,
          "loss": 5.393756866455078
         },
         {
          "i": 1942,
          "loss": 5.393685817718506
         },
         {
          "i": 1943,
          "loss": 5.393616199493408
         },
         {
          "i": 1944,
          "loss": 5.3935465812683105
         },
         {
          "i": 1945,
          "loss": 5.393502235412598
         },
         {
          "i": 1946,
          "loss": 5.393646240234375
         },
         {
          "i": 1947,
          "loss": 5.393538951873779
         },
         {
          "i": 1948,
          "loss": 5.393438339233398
         },
         {
          "i": 1949,
          "loss": 5.39333963394165
         },
         {
          "i": 1950,
          "loss": 5.393251895904541
         },
         {
          "i": 1951,
          "loss": 5.3931779861450195
         },
         {
          "i": 1952,
          "loss": 5.39310359954834
         },
         {
          "i": 1953,
          "loss": 5.393031597137451
         },
         {
          "i": 1954,
          "loss": 5.3929643630981445
         },
         {
          "i": 1955,
          "loss": 5.392895698547363
         },
         {
          "i": 1956,
          "loss": 5.392826557159424
         },
         {
          "i": 1957,
          "loss": 5.392758846282959
         },
         {
          "i": 1958,
          "loss": 5.39271354675293
         },
         {
          "i": 1959,
          "loss": 5.392850875854492
         },
         {
          "i": 1960,
          "loss": 5.3927459716796875
         },
         {
          "i": 1961,
          "loss": 5.392647743225098
         },
         {
          "i": 1962,
          "loss": 5.392551898956299
         },
         {
          "i": 1963,
          "loss": 5.3924665451049805
         },
         {
          "i": 1964,
          "loss": 5.392391204833984
         },
         {
          "i": 1965,
          "loss": 5.392320156097412
         },
         {
          "i": 1966,
          "loss": 5.392248153686523
         },
         {
          "i": 1967,
          "loss": 5.392177581787109
         },
         {
          "i": 1968,
          "loss": 5.392107963562012
         },
         {
          "i": 1969,
          "loss": 5.3920440673828125
         },
         {
          "i": 1970,
          "loss": 5.391974925994873
         },
         {
          "i": 1971,
          "loss": 5.391912460327148
         },
         {
          "i": 1972,
          "loss": 5.392068386077881
         },
         {
          "i": 1973,
          "loss": 5.391961574554443
         },
         {
          "i": 1974,
          "loss": 5.391861438751221
         },
         {
          "i": 1975,
          "loss": 5.3917670249938965
         },
         {
          "i": 1976,
          "loss": 5.3916802406311035
         },
         {
          "i": 1977,
          "loss": 5.391612529754639
         },
         {
          "i": 1978,
          "loss": 5.391540050506592
         },
         {
          "i": 1979,
          "loss": 5.391468524932861
         },
         {
          "i": 1980,
          "loss": 5.391399383544922
         },
         {
          "i": 1981,
          "loss": 5.391330718994141
         },
         {
          "i": 1982,
          "loss": 5.391263484954834
         },
         {
          "i": 1983,
          "loss": 5.391195297241211
         },
         {
          "i": 1984,
          "loss": 5.3911285400390625
         },
         {
          "i": 1985,
          "loss": 5.391147613525391
         },
         {
          "i": 1986,
          "loss": 5.391218662261963
         },
         {
          "i": 1987,
          "loss": 5.391115188598633
         },
         {
          "i": 1988,
          "loss": 5.39101505279541
         },
         {
          "i": 1989,
          "loss": 5.390921115875244
         },
         {
          "i": 1990,
          "loss": 5.39084005355835
         },
         {
          "i": 1991,
          "loss": 5.390766620635986
         },
         {
          "i": 1992,
          "loss": 5.390698432922363
         },
         {
          "i": 1993,
          "loss": 5.390630722045898
         },
         {
          "i": 1994,
          "loss": 5.390562057495117
         },
         {
          "i": 1995,
          "loss": 5.390493392944336
         },
         {
          "i": 1996,
          "loss": 5.390424728393555
         },
         {
          "i": 1997,
          "loss": 5.3903584480285645
         },
         {
          "i": 1998,
          "loss": 5.390312671661377
         },
         {
          "i": 1999,
          "loss": 5.3904500007629395
         }
        ]
       },
       "encoding": {
        "x": {
         "field": "i",
         "type": "quantitative"
        },
        "y": {
         "field": "loss",
         "type": "quantitative"
        }
       },
       "height": 100,
       "mark": "line"
      },
      "image/png": "[encoded data removed]",
      "text/plain": [
       "<VegaLite 3 object>\n",
       "\n",
       "If you see this message, it means the renderer has not been properly enabled\n",
       "for the frontend that you are using. For more information, see\n",
       "https://altair-viz.github.io/user_guide/troubleshooting.html\n"
      ]
     },
     "execution_count": 433,
     "metadata": {},
     "output_type": "execute_result"
    }
   ],
   "source": [
    "loss_df = pd.DataFrame({'i':range(n_steps), 'loss':loss_record})\n",
    "alt.Chart(loss_df, height=100).mark_line().encode(x='i', y='loss')"
   ]
  },
  {
   "cell_type": "code",
   "execution_count": 434,
   "metadata": {},
   "outputs": [
    {
     "data": {
      "application/vnd.vegalite.v3+json": {
       "$schema": "https://vega.github.io/schema/vega-lite/v3.4.0.json",
       "config": {
        "mark": {
         "tooltip": null
        },
        "view": {
         "height": 300,
         "width": 400
        }
       },
       "data": {
        "name": "data-d1010ef9d73a0aa6e8fe7aa958e21e7b"
       },
       "datasets": {
        "data-d1010ef9d73a0aa6e8fe7aa958e21e7b": [
         {
          "x1": -0.5207904577255249,
          "y": -1.0128374099731445,
          "ŷ": 0.6385256052017212
         },
         {
          "x1": -0.525282084941864,
          "y": -1.0075756311416626,
          "ŷ": 0.6385256052017212
         },
         {
          "x1": 0.04700292646884918,
          "y": 0.18700985610485077,
          "ŷ": 0.6385256052017212
         },
         {
          "x1": -1.421610713005066,
          "y": -2.311091661453247,
          "ŷ": -2.7326321601867676
         },
         {
          "x1": 0.15322625637054443,
          "y": 0.5788436532020569,
          "ŷ": 0.6385256052017212
         },
         {
          "x1": -0.9605587124824524,
          "y": -0.24157285690307617,
          "ŷ": 0.691864013671875
         },
         {
          "x1": 0.4246344268321991,
          "y": 1.0684198141098022,
          "ŷ": 0.6385256052017212
         },
         {
          "x1": 0.46718859672546387,
          "y": 1.0579088926315308,
          "ŷ": 0.6385256052017212
         },
         {
          "x1": 0.16170857846736908,
          "y": 0.6068918704986572,
          "ŷ": 0.6385256052017212
         },
         {
          "x1": 0.04331022873520851,
          "y": 0.17245689034461975,
          "ŷ": 0.6385256052017212
         },
         {
          "x1": 0.9426987171173096,
          "y": 0.24925833940505981,
          "ŷ": 0.6385256052017212
         },
         {
          "x1": 1.2383822202682495,
          "y": 0.928104817867279,
          "ŷ": 0.6385256052017212
         },
         {
          "x1": 0.5208070278167725,
          "y": 1.012818455696106,
          "ŷ": 0.6385256052017212
         },
         {
          "x1": -0.410616397857666,
          "y": -1.0666651725769043,
          "ŷ": 0.6385256052017212
         },
         {
          "x1": -0.9569479823112488,
          "y": -0.242723286151886,
          "ŷ": 0.6847261190414429
         },
         {
          "x1": 0.17444191873073578,
          "y": 0.6478169560432434,
          "ŷ": 0.6385256052017212
         },
         {
          "x1": -1.1898432970046997,
          "y": -0.6855968832969666,
          "ŷ": -0.24778473377227783
         },
         {
          "x1": -0.29575103521347046,
          "y": -0.9516151547431946,
          "ŷ": 0.6385256052017212
         },
         {
          "x1": -1.0218051671981812,
          "y": -0.25598758459091187,
          "ŷ": 0.81293785572052
         },
         {
          "x1": 0.766711950302124,
          "y": 0.525384783744812,
          "ŷ": 0.6385256052017212
         },
         {
          "x1": -1.5820419788360596,
          "y": -4.004591941833496,
          "ŷ": -3.8420801162719727
         },
         {
          "x1": 2.321671485900879,
          "y": 12.651830673217773,
          "ŷ": 0.6385256052017212
         },
         {
          "x1": -0.2634357511997223,
          "y": -0.887561559677124,
          "ŷ": 0.6385256052017212
         },
         {
          "x1": 1.5001062154769897,
          "y": 3.096709728240967,
          "ŷ": 0.6385256052017212
         },
         {
          "x1": -1.224197268486023,
          "y": -0.8516076803207397,
          "ŷ": -0.6161066293716431
         },
         {
          "x1": 0.11134038120508194,
          "y": 0.43216443061828613,
          "ŷ": 0.6385256052017212
         },
         {
          "x1": 1.2431010007858276,
          "y": 0.9545779824256897,
          "ŷ": 0.6385256052017212
         },
         {
          "x1": 0.4495464265346527,
          "y": 1.0651079416275024,
          "ŷ": 0.6385256052017212
         },
         {
          "x1": 0.1742379069328308,
          "y": 0.6471728682518005,
          "ŷ": 0.6385256052017212
         },
         {
          "x1": -0.9263886213302612,
          "y": -0.2604842185974121,
          "ŷ": 0.6385256052017212
         },
         {
          "x1": -1.1691361665725708,
          "y": -0.5987104773521423,
          "ŷ": 0.0452648401260376
         },
         {
          "x1": -0.8350489735603333,
          "y": -0.3849851191043854,
          "ŷ": 0.6385256052017212
         },
         {
          "x1": -0.20484179258346558,
          "y": -0.7393091320991516,
          "ŷ": 0.6385256052017212
         },
         {
          "x1": -0.9708449840545654,
          "y": -0.23945355415344238,
          "ŷ": 0.7121982574462891
         },
         {
          "x1": 2.4154880046844482,
          "y": 13.858407020568848,
          "ŷ": 0.6385256052017212
         },
         {
          "x1": -2.7862846851348877,
          "y": -20.64215660095215,
          "ŷ": -16.681167602539062
         },
         {
          "x1": 0.715398907661438,
          "y": 0.642490804195404,
          "ŷ": 0.6385256052017212
         },
         {
          "x1": -0.7676805853843689,
          "y": -0.5232309103012085,
          "ŷ": 0.6385256052017212
         },
         {
          "x1": 0.7136301398277283,
          "y": 0.6465743780136108,
          "ŷ": 0.6385256052017212
         },
         {
          "x1": -1.3939735889434814,
          "y": -2.0589399337768555,
          "ŷ": -2.436326026916504
         },
         {
          "x1": -1.6287025213241577,
          "y": -4.5499725341796875,
          "ŷ": -4.406365871429443
         },
         {
          "x1": -0.5950021147727966,
          "y": -0.9007159471511841,
          "ŷ": 0.6385256052017212
         },
         {
          "x1": -1.7134666442871094,
          "y": -5.570888519287109,
          "ŷ": -5.5916972160339355
         },
         {
          "x1": -2.254652738571167,
          "y": -11.856525421142578,
          "ŷ": -13.66199779510498
         },
         {
          "x1": -0.277584969997406,
          "y": -0.9172386527061462,
          "ŷ": 0.6385256052017212
         },
         {
          "x1": -0.7265166640281677,
          "y": -0.6168292164802551,
          "ŷ": 0.6385256052017212
         },
         {
          "x1": 1.1991732120513916,
          "y": 0.7279822826385498,
          "ŷ": 0.6385256052017212
         },
         {
          "x1": -0.5904436111450195,
          "y": -0.9089927673339844,
          "ŷ": 0.6385256052017212
         },
         {
          "x1": 1.0878753662109375,
          "y": 0.3518871068954468,
          "ŷ": 0.6385256052017212
         },
         {
          "x1": 0.6742958426475525,
          "y": 0.7365099787712097,
          "ŷ": 0.6385256052017212
         },
         {
          "x1": 2.1919314861297607,
          "y": 11.142059326171875,
          "ŷ": 0.6385256052017212
         },
         {
          "x1": 0.10888756066560745,
          "y": 0.4232003688812256,
          "ŷ": 0.6385256052017212
         },
         {
          "x1": -1.0160834789276123,
          "y": -0.25177133083343506,
          "ŷ": 0.8016270995140076
         },
         {
          "x1": 0.5140371322631836,
          "y": 1.0203368663787842,
          "ŷ": 0.6385256052017212
         },
         {
          "x1": -0.39224573969841003,
          "y": -1.0603480339050293,
          "ŷ": 0.6385256052017212
         },
         {
          "x1": 0.6012863516807556,
          "y": 0.8890522718429565,
          "ŷ": 0.6385256052017212
         },
         {
          "x1": -0.4507293999195099,
          "y": -1.0647494792938232,
          "ŷ": 0.6385256052017212
         },
         {
          "x1": -2.287094831466675,
          "y": -12.236234664916992,
          "ŷ": -13.846236228942871
         },
         {
          "x1": -0.7878912687301636,
          "y": -0.4791291058063507,
          "ŷ": 0.6385256052017212
         },
         {
          "x1": -0.1457502841949463,
          "y": -0.5536280274391174,
          "ŷ": 0.6385256052017212
         },
         {
          "x1": 0.7018450498580933,
          "y": 0.6737446784973145,
          "ŷ": 0.6385256052017212
         },
         {
          "x1": 0.637902021408081,
          "y": 0.8159226179122925,
          "ŷ": 0.6385256052017212
         },
         {
          "x1": 1.1163493394851685,
          "y": 0.4215822219848633,
          "ŷ": 0.6385256052017212
         },
         {
          "x1": 0.41361165046691895,
          "y": 1.067261815071106,
          "ŷ": 0.6385256052017212
         },
         {
          "x1": -0.33529356122016907,
          "y": -1.0114468336105347,
          "ŷ": 0.6385256052017212
         },
         {
          "x1": -2.352475881576538,
          "y": -13.033811569213867,
          "ŷ": -14.21753978729248
         },
         {
          "x1": -0.1366868019104004,
          "y": -0.522465169429779,
          "ŷ": 0.6385256052017212
         },
         {
          "x1": 0.3602667450904846,
          "y": 1.0383567810058594,
          "ŷ": 0.6385256052017212
         },
         {
          "x1": -0.6284084916114807,
          "y": -0.8356508612632751,
          "ŷ": 0.6385256052017212
         },
         {
          "x1": -0.4290832579135895,
          "y": -1.0684278011322021,
          "ŷ": 0.6385256052017212
         },
         {
          "x1": 1.0310802459716797,
          "y": 0.2641546130180359,
          "ŷ": 0.6385256052017212
         },
         {
          "x1": 0.8837079405784607,
          "y": 0.30694031715393066,
          "ŷ": 0.6385256052017212
         },
         {
          "x1": 0.15949861705303192,
          "y": 0.5996431708335876,
          "ŷ": 0.6385256052017212
         },
         {
          "x1": 0.7647862434387207,
          "y": 0.5296762585639954,
          "ŷ": 0.6385256052017212
         },
         {
          "x1": 0.3437519371509552,
          "y": 1.0215141773223877,
          "ŷ": 0.6385256052017212
         },
         {
          "x1": -0.33203718066215515,
          "y": -1.0073118209838867,
          "ŷ": 0.6385256052017212
         },
         {
          "x1": 1.1907217502593994,
          "y": 0.6895018219947815,
          "ŷ": 0.6385256052017212
         },
         {
          "x1": -0.3122175335884094,
          "y": -0.9790626764297485,
          "ŷ": 0.6385256052017212
         },
         {
          "x1": 1.291646122932434,
          "y": 1.2563031911849976,
          "ŷ": 0.6385256052017212
         },
         {
          "x1": 1.2934341430664062,
          "y": 1.268425464630127,
          "ŷ": 0.6385256052017212
         },
         {
          "x1": -0.3022986948490143,
          "y": -0.9629569053649902,
          "ŷ": 0.6385256052017212
         },
         {
          "x1": 0.6528955101966858,
          "y": 0.7838539481163025,
          "ŷ": 0.6385256052017212
         },
         {
          "x1": -0.8428069949150085,
          "y": -0.37104326486587524,
          "ŷ": 0.6385256052017212
         },
         {
          "x1": 0.016184652224183083,
          "y": 0.06469763815402985,
          "ŷ": 0.6385256052017212
         },
         {
          "x1": -0.28498923778533936,
          "y": -0.9317620396614075,
          "ŷ": 0.6385256052017212
         },
         {
          "x1": -0.40421730279922485,
          "y": -1.0649845600128174,
          "ŷ": 0.6385256052017212
         },
         {
          "x1": 0.2889946401119232,
          "y": 0.9393260478973389,
          "ŷ": 0.6385256052017212
         },
         {
          "x1": 1.4904283285140991,
          "y": 2.9948391914367676,
          "ŷ": 0.6385256052017212
         },
         {
          "x1": -1.4356629848480225,
          "y": -2.4444921016693115,
          "ŷ": -2.8832921981811523
         },
         {
          "x1": -1.3448829650878906,
          "y": -1.6469107866287231,
          "ŷ": -1.9100133180618286
         },
         {
          "x1": -0.5224727988243103,
          "y": -1.0108920335769653,
          "ŷ": 0.6385256052017212
         },
         {
          "x1": -0.1642279475927353,
          "y": -0.6151036024093628,
          "ŷ": 0.6385256052017212
         },
         {
          "x1": 1.0550683736801147,
          "y": 0.2931344509124756,
          "ŷ": 0.6385256052017212
         },
         {
          "x1": 0.8803268074989319,
          "y": 0.31157615780830383,
          "ŷ": 0.6385256052017212
         },
         {
          "x1": -1.1861555576324463,
          "y": -0.669398844242096,
          "ŷ": -0.2082507610321045
         },
         {
          "x1": 1.1428446769714355,
          "y": 0.5025880336761475,
          "ŷ": 0.6385256052017212
         },
         {
          "x1": -0.9361379146575928,
          "y": -0.2533062696456909,
          "ŷ": 0.6435879468917847
         },
         {
          "x1": 0.356308251619339,
          "y": 1.0346596240997314,
          "ŷ": 0.6385256052017212
         },
         {
          "x1": 0.5153345465660095,
          "y": 1.018934965133667,
          "ŷ": 0.6385256052017212
         },
         {
          "x1": 0.4338768422603607,
          "y": 1.0681426525115967,
          "ŷ": 0.6385256052017212
         }
        ]
       },
       "layer": [
        {
         "encoding": {
          "x": {
           "field": "x1",
           "type": "quantitative"
          },
          "y": {
           "field": "ŷ",
           "type": "quantitative"
          }
         },
         "mark": "line"
        },
        {
         "encoding": {
          "x": {
           "field": "x1",
           "type": "quantitative"
          },
          "y": {
           "field": "y",
           "type": "quantitative"
          }
         },
         "mark": "point"
        }
       ]
      },
      "image/png": "[encoded data removed]",
      "text/plain": [
       "<VegaLite 3 object>\n",
       "\n",
       "If you see this message, it means the renderer has not been properly enabled\n",
       "for the frontend that you are using. For more information, see\n",
       "https://altair-viz.github.io/user_guide/troubleshooting.html\n"
      ]
     },
     "execution_count": 434,
     "metadata": {},
     "output_type": "execute_result"
    }
   ],
   "source": [
    "preds = pd.DataFrame({'ŷ':my_model(x).detach().numpy()[:,0], 'y':y[:,0], 'x1':x[:,0]})\n",
    "(alt.Chart(preds).mark_line().encode(x='x1', y='ŷ') + \n",
    "alt.Chart(preds).mark_point().encode(x='x1', y='y'))"
   ]
  },
  {
   "cell_type": "markdown",
   "metadata": {},
   "source": [
    "# Using pytorch's modules"
   ]
  },
  {
   "cell_type": "markdown",
   "metadata": {},
   "source": [
    "Instead of implementing our own linear layer class, we can use the one that pytorch provides. We can also subclass `nn.Module` to make a model without having to define our own `step()` methods. All we need to do is define a `forward()` method that, given the input to the model, produces the output:"
   ]
  },
  {
   "cell_type": "code",
   "execution_count": 435,
   "metadata": {},
   "outputs": [],
   "source": [
    "import torch.nn as nn\n",
    "import torch.nn.functional as F\n",
    "import torch.optim as optim\n",
    "\n",
    "class Model(nn.Module): # subclass nn.Module\n",
    "\n",
    "    def __init__(self, sizes):\n",
    "        super().__init__() # we need to initialize the nn.Module superclass for things to work\n",
    "        self.layers = nn.ModuleList([nn.Linear(h1,h2) for h1, h2 in zip(sizes[:-1], sizes[1:])])\n",
    "        self.activation = F.relu\n",
    "    \n",
    "    def forward(self,x):\n",
    "        for layer in self.layers[:-1]:\n",
    "            x = self.activation(layer(x))\n",
    "        return self.layers[-1](x)"
   ]
  },
  {
   "cell_type": "code",
   "execution_count": 436,
   "metadata": {},
   "outputs": [],
   "source": [
    "my_model = Model([1,100,10,1]) # creates a model object with input size 1, two hidden layers of size 10, and an output of size 1\n",
    "criterion = nn.MSELoss() # the loss function in torch is often named \"criterion\"\n",
    "optimizer = optim.SGD(my_model.parameters(), lr=1*10e-4)"
   ]
  },
  {
   "cell_type": "code",
   "execution_count": 437,
   "metadata": {},
   "outputs": [],
   "source": [
    "n_steps = 1000\n",
    "loss_record = []\n",
    "\n",
    "for e in range(n_steps):\n",
    "    ŷ = my_model(x) \n",
    "    L = criterion(y,ŷ)\n",
    "    \n",
    "    optimizer.zero_grad()\n",
    "    loss_record.append(L.item())\n",
    "    L.backward()\n",
    "    optimizer.step()"
   ]
  },
  {
   "cell_type": "code",
   "execution_count": 438,
   "metadata": {},
   "outputs": [
    {
     "data": {
      "application/vnd.vegalite.v3+json": {
       "$schema": "https://vega.github.io/schema/vega-lite/v3.4.0.json",
       "config": {
        "mark": {
         "tooltip": null
        },
        "view": {
         "height": 300,
         "width": 400
        }
       },
       "data": {
        "name": "data-41ff03830fd809310d6b3ccd774bbec6"
       },
       "datasets": {
        "data-41ff03830fd809310d6b3ccd774bbec6": [
         {
          "x1": -0.5207904577255249,
          "y": -1.0128374099731445,
          "ŷ": -0.17577695846557617
         },
         {
          "x1": -0.525282084941864,
          "y": -1.0075756311416626,
          "ŷ": -0.17970681190490723
         },
         {
          "x1": 0.04700292646884918,
          "y": 0.18700985610485077,
          "ŷ": 0.02704382687807083
         },
         {
          "x1": -1.421610713005066,
          "y": -2.311091661453247,
          "ŷ": -4.268765926361084
         },
         {
          "x1": 0.15322625637054443,
          "y": 0.5788436532020569,
          "ŷ": 0.016847021877765656
         },
         {
          "x1": -0.9605587124824524,
          "y": -0.24157285690307617,
          "ŷ": -1.1624664068222046
         },
         {
          "x1": 0.4246344268321991,
          "y": 1.0684198141098022,
          "ŷ": 0.2126673460006714
         },
         {
          "x1": 0.46718859672546387,
          "y": 1.0579088926315308,
          "ŷ": 0.2618839740753174
         },
         {
          "x1": 0.16170857846736908,
          "y": 0.6068918704986572,
          "ŷ": 0.019410617649555206
         },
         {
          "x1": 0.04331022873520851,
          "y": 0.17245689034461975,
          "ŷ": 0.028060682117938995
         },
         {
          "x1": 0.9426987171173096,
          "y": 0.24925833940505981,
          "ŷ": 1.1767992973327637
         },
         {
          "x1": 1.2383822202682495,
          "y": 0.928104817867279,
          "ŷ": 2.662640333175659
         },
         {
          "x1": 0.5208070278167725,
          "y": 1.012818455696106,
          "ŷ": 0.32406699657440186
         },
         {
          "x1": -0.410616397857666,
          "y": -1.0666651725769043,
          "ŷ": -0.11670958250761032
         },
         {
          "x1": -0.9569479823112488,
          "y": -0.242723286151886,
          "ŷ": -1.1471790075302124
         },
         {
          "x1": 0.17444191873073578,
          "y": 0.6478169560432434,
          "ŷ": 0.02325952798128128
         },
         {
          "x1": -1.1898432970046997,
          "y": -0.6855968832969666,
          "ŷ": -2.5088050365448
         },
         {
          "x1": -0.29575103521347046,
          "y": -0.9516151547431946,
          "ŷ": -0.07033728808164597
         },
         {
          "x1": -1.0218051671981812,
          "y": -0.25598758459091187,
          "ŷ": -1.4334297180175781
         },
         {
          "x1": 0.766711950302124,
          "y": 0.525384783744812,
          "ŷ": 0.7166745662689209
         },
         {
          "x1": -1.5820419788360596,
          "y": -4.004591941833496,
          "ŷ": -5.487091064453125
         },
         {
          "x1": 2.321671485900879,
          "y": 12.651830673217773,
          "ŷ": 9.177940368652344
         },
         {
          "x1": -0.2634357511997223,
          "y": -0.887561559677124,
          "ŷ": -0.05955146998167038
         },
         {
          "x1": 1.5001062154769897,
          "y": 3.096709728240967,
          "ŷ": 4.218095779418945
         },
         {
          "x1": -1.224197268486023,
          "y": -0.8516076803207397,
          "ŷ": -2.769594430923462
         },
         {
          "x1": 0.11134038120508194,
          "y": 0.43216443061828613,
          "ŷ": 0.009326465427875519
         },
         {
          "x1": 1.2431010007858276,
          "y": 0.9545779824256897,
          "ŷ": 2.6897096633911133
         },
         {
          "x1": 0.4495464265346527,
          "y": 1.0651079416275024,
          "ŷ": 0.241479754447937
         },
         {
          "x1": 0.1742379069328308,
          "y": 0.6471728682518005,
          "ŷ": 0.023197539150714874
         },
         {
          "x1": -0.9263886213302612,
          "y": -0.2604842185974121,
          "ŷ": -1.0279548168182373
         },
         {
          "x1": -1.1691361665725708,
          "y": -0.5987104773521423,
          "ŷ": -2.366464376449585
         },
         {
          "x1": -0.8350489735603333,
          "y": -0.3849851191043854,
          "ŷ": -0.7301322221755981
         },
         {
          "x1": -0.20484179258346558,
          "y": -0.7393091320991516,
          "ŷ": -0.037606947124004364
         },
         {
          "x1": -0.9708449840545654,
          "y": -0.23945355415344238,
          "ŷ": -1.2060166597366333
         },
         {
          "x1": 2.4154880046844482,
          "y": 13.858407020568848,
          "ŷ": 9.73689079284668
         },
         {
          "x1": -2.7862846851348877,
          "y": -20.64215660095215,
          "ŷ": -14.733391761779785
         },
         {
          "x1": 0.715398907661438,
          "y": 0.642490804195404,
          "ŷ": 0.6277847290039062
         },
         {
          "x1": -0.7676805853843689,
          "y": -0.5232309103012085,
          "ŷ": -0.5363616943359375
         },
         {
          "x1": 0.7136301398277283,
          "y": 0.6465743780136108,
          "ŷ": 0.6250663995742798
         },
         {
          "x1": -1.3939735889434814,
          "y": -2.0589399337768555,
          "ŷ": -4.058887481689453
         },
         {
          "x1": -1.6287025213241577,
          "y": -4.5499725341796875,
          "ŷ": -5.841434955596924
         },
         {
          "x1": -0.5950021147727966,
          "y": -0.9007159471511841,
          "ŷ": -0.24436306953430176
         },
         {
          "x1": -1.7134666442871094,
          "y": -5.570888519287109,
          "ŷ": -6.495776176452637
         },
         {
          "x1": -2.254652738571167,
          "y": -11.856525421142578,
          "ŷ": -10.653904914855957
         },
         {
          "x1": -0.277584969997406,
          "y": -0.9172386527061462,
          "ŷ": -0.064848892390728
         },
         {
          "x1": -0.7265166640281677,
          "y": -0.6168292164802551,
          "ŷ": -0.4471762180328369
         },
         {
          "x1": 1.1991732120513916,
          "y": 0.7279822826385498,
          "ŷ": 2.4414615631103516
         },
         {
          "x1": -0.5904436111450195,
          "y": -0.9089927673339844,
          "ŷ": -0.2382645606994629
         },
         {
          "x1": 1.0878753662109375,
          "y": 0.3518871068954468,
          "ŷ": 1.8546898365020752
         },
         {
          "x1": 0.6742958426475525,
          "y": 0.7365099787712097,
          "ŷ": 0.5646233558654785
         },
         {
          "x1": 2.1919314861297607,
          "y": 11.142059326171875,
          "ŷ": 8.394552230834961
         },
         {
          "x1": 0.10888756066560745,
          "y": 0.4232003688812256,
          "ŷ": 0.010001786053180695
         },
         {
          "x1": -1.0160834789276123,
          "y": -0.25177133083343506,
          "ŷ": -1.4072943925857544
         },
         {
          "x1": 0.5140371322631836,
          "y": 1.0203368663787842,
          "ŷ": 0.31566381454467773
         },
         {
          "x1": -0.39224573969841003,
          "y": -1.0603480339050293,
          "ŷ": -0.1093735620379448
         },
         {
          "x1": 0.6012863516807556,
          "y": 0.8890522718429565,
          "ŷ": 0.4468064308166504
         },
         {
          "x1": -0.4507293999195099,
          "y": -1.0647494792938232,
          "ŷ": -0.13272905349731445
         },
         {
          "x1": -2.287094831466675,
          "y": -12.236234664916992,
          "ŷ": -10.902743339538574
         },
         {
          "x1": -0.7878912687301636,
          "y": -0.4791291058063507,
          "ŷ": -0.5943508148193359
         },
         {
          "x1": -0.1457502841949463,
          "y": -0.5536280274391174,
          "ŷ": -0.015476219356060028
         },
         {
          "x1": 0.7018450498580933,
          "y": 0.6737446784973145,
          "ŷ": 0.6069567203521729
         },
         {
          "x1": 0.637902021408081,
          "y": 0.8159226179122925,
          "ŷ": 0.5080859661102295
         },
         {
          "x1": 1.1163493394851685,
          "y": 0.4215822219848633,
          "ŷ": 2.004408359527588
         },
         {
          "x1": 0.41361165046691895,
          "y": 1.067261815071106,
          "ŷ": 0.1999187469482422
         },
         {
          "x1": -0.33529356122016907,
          "y": -1.0114468336105347,
          "ŷ": -0.08649646490812302
         },
         {
          "x1": -2.352475881576538,
          "y": -13.033811569213867,
          "ŷ": -11.404232025146484
         },
         {
          "x1": -0.1366868019104004,
          "y": -0.522465169429779,
          "ŷ": -0.012081973254680634
         },
         {
          "x1": 0.3602667450904846,
          "y": 1.0383567810058594,
          "ŷ": 0.13822150230407715
         },
         {
          "x1": -0.6284084916114807,
          "y": -0.8356508612632751,
          "ŷ": -0.28905296325683594
         },
         {
          "x1": -0.4290832579135895,
          "y": -1.0684278011322021,
          "ŷ": -0.12408434599637985
         },
         {
          "x1": 1.0310802459716797,
          "y": 0.2641546130180359,
          "ŷ": 1.569932460784912
         },
         {
          "x1": 0.8837079405784607,
          "y": 0.30694031715393066,
          "ŷ": 0.9721976518630981
         },
         {
          "x1": 0.15949861705303192,
          "y": 0.5996431708335876,
          "ŷ": 0.01874280720949173
         },
         {
          "x1": 0.7647862434387207,
          "y": 0.5296762585639954,
          "ŷ": 0.7129921913146973
         },
         {
          "x1": 0.3437519371509552,
          "y": 1.0215141773223877,
          "ŷ": 0.11912167817354202
         },
         {
          "x1": -0.33203718066215515,
          "y": -1.0073118209838867,
          "ŷ": -0.08509575575590134
         },
         {
          "x1": 1.1907217502593994,
          "y": 0.6895018219947815,
          "ŷ": 2.3955800533294678
         },
         {
          "x1": -0.3122175335884094,
          "y": -0.9790626764297485,
          "ŷ": -0.07657181471586227
         },
         {
          "x1": 1.291646122932434,
          "y": 1.2563031911849976,
          "ŷ": 2.9763200283050537
         },
         {
          "x1": 1.2934341430664062,
          "y": 1.268425464630127,
          "ŷ": 2.986945867538452
         },
         {
          "x1": -0.3022986948490143,
          "y": -0.9629569053649902,
          "ŷ": -0.07231592386960983
         },
         {
          "x1": 0.6528955101966858,
          "y": 0.7838539481163025,
          "ŷ": 0.5317385196685791
         },
         {
          "x1": -0.8428069949150085,
          "y": -0.37104326486587524,
          "ŷ": -0.7533780336380005
         },
         {
          "x1": 0.016184652224183083,
          "y": 0.06469763815402985,
          "ŷ": 0.0355306938290596
         },
         {
          "x1": -0.28498923778533936,
          "y": -0.9317620396614075,
          "ŷ": -0.06708597391843796
         },
         {
          "x1": -0.40421730279922485,
          "y": -1.0649845600128174,
          "ŷ": -0.11415397375822067
         },
         {
          "x1": 0.2889946401119232,
          "y": 0.9393260478973389,
          "ŷ": 0.08078516274690628
         },
         {
          "x1": 1.4904283285140991,
          "y": 2.9948391914367676,
          "ŷ": 4.160256862640381
         },
         {
          "x1": -1.4356629848480225,
          "y": -2.4444921016693115,
          "ŷ": -4.375479221343994
         },
         {
          "x1": -1.3448829650878906,
          "y": -1.6469107866287231,
          "ŷ": -3.6860907077789307
         },
         {
          "x1": -0.5224727988243103,
          "y": -1.0108920335769653,
          "ŷ": -0.17724907398223877
         },
         {
          "x1": -0.1642279475927353,
          "y": -0.6151036024093628,
          "ŷ": -0.022396676242351532
         },
         {
          "x1": 1.0550683736801147,
          "y": 0.2931344509124756,
          "ŷ": 1.688513159751892
         },
         {
          "x1": 0.8803268074989319,
          "y": 0.31157615780830383,
          "ŷ": 0.9604859352111816
         },
         {
          "x1": -1.1861555576324463,
          "y": -0.669398844242096,
          "ŷ": -2.4834556579589844
         },
         {
          "x1": 1.1428446769714355,
          "y": 0.5025880336761475,
          "ŷ": 2.143723249435425
         },
         {
          "x1": -0.9361379146575928,
          "y": -0.2533062696456909,
          "ŷ": -1.0644190311431885
         },
         {
          "x1": 0.356308251619339,
          "y": 1.0346596240997314,
          "ŷ": 0.1336435079574585
         },
         {
          "x1": 0.5153345465660095,
          "y": 1.018934965133667,
          "ŷ": 0.31727421283721924
         },
         {
          "x1": 0.4338768422603607,
          "y": 1.0681426525115967,
          "ŷ": 0.22335708141326904
         }
        ]
       },
       "layer": [
        {
         "encoding": {
          "x": {
           "field": "x1",
           "type": "quantitative"
          },
          "y": {
           "field": "ŷ",
           "type": "quantitative"
          }
         },
         "height": 100,
         "mark": "line"
        },
        {
         "encoding": {
          "x": {
           "field": "x1",
           "type": "quantitative"
          },
          "y": {
           "field": "y",
           "type": "quantitative"
          }
         },
         "mark": "point"
        }
       ]
      },
      "image/png": "[encoded data removed]",
      "text/plain": [
       "<VegaLite 3 object>\n",
       "\n",
       "If you see this message, it means the renderer has not been properly enabled\n",
       "for the frontend that you are using. For more information, see\n",
       "https://altair-viz.github.io/user_guide/troubleshooting.html\n"
      ]
     },
     "execution_count": 438,
     "metadata": {},
     "output_type": "execute_result"
    }
   ],
   "source": [
    "preds = pd.DataFrame({'ŷ':my_model(x).detach().numpy()[:,0], 'y':y[:,0], 'x1':x[:,0]})\n",
    "(alt.Chart(preds, height=100).mark_line().encode(x='x1', y='ŷ') + \n",
    "alt.Chart(preds).mark_point().encode(x='x1', y='y'))"
   ]
  },
  {
   "cell_type": "code",
   "execution_count": 439,
   "metadata": {},
   "outputs": [
    {
     "data": {
      "text/plain": [
       "tensor([[ 0.0177],\n",
       "        [ 0.6344],\n",
       "        [ 0.3463],\n",
       "        [-1.7594],\n",
       "        [ 0.5504],\n",
       "        [ 0.0237],\n",
       "        [ 0.0724],\n",
       "        [ 0.3437],\n",
       "        [-6.9198],\n",
       "        [-1.2020]], grad_fn=<AddmmBackward>)"
      ]
     },
     "execution_count": 439,
     "metadata": {},
     "output_type": "execute_result"
    }
   ],
   "source": [
    "x_new = torch.randn(10, 1)\n",
    "my_model(x_new) # predictions"
   ]
  },
  {
   "cell_type": "markdown",
   "metadata": {},
   "source": [
    "\n",
    "Pytorch has already implementing things like the ReLU and sigmoid functions, MSE, cross-entropy loss, linear layers, etc. So you don't have to worry about making errors implementing them yourself. Just figure out how to use their implementations and you're good to go. Don't worry too much about why you need to do specific things like `super().__init__()` when initializing a subclass of `nn.Module()`. As long as you understand *what* is happening under the hood, it doesn't really matter if you don't know exactly *how*. If you run into a problem where you need to figure it out, you will easily be able to if you need to do so."
   ]
  },
  {
   "cell_type": "markdown",
   "metadata": {},
   "source": [
    "We've been using pytorch so far to automate gradients, but now we've also seen that the `optim` module can be used to even automate the process of taking the gradient descent step. Basically, when you create an optimizer object like `optimizer = optim.SGD(my_model.parameters(), lr=1*10e-4)`, it associates with itself all of the model parameters that are accessible through `my_model.parameters()`. `parameters()` is a method that is available to `my_model` because you subclassed `nn.Module`, which ran through the internals of `my_model` to find all of the parameters associated with all of the layers. Now when you call `optimizer.step()` after populating all of the `param.grad` (which happens when you do `L.backward()`), the optimizer applies some algorithm to take all the gradients and change the values of the parameters accordingly. The simplest algorithm is the standard gradient descent we've been using, but many other enhancements are also available (see the [gradient descent primer](https://github.com/alejandroschuler/articles/blob/master/grad_descent/Gradient%20Descent.ipynb) to understand the details). For instance, adding momentum is easy:"
   ]
  },
  {
   "cell_type": "code",
   "execution_count": 443,
   "metadata": {},
   "outputs": [],
   "source": [
    "my_model = Model([1,100,1]) \n",
    "criterion = nn.MSELoss() # the loss function in torch is often named \"criterion\"\n",
    "optimizer = optim.SGD(my_model.parameters(), lr=1*10e-5, momentum=0.1)"
   ]
  },
  {
   "cell_type": "code",
   "execution_count": 444,
   "metadata": {},
   "outputs": [],
   "source": [
    "n_steps = 5000\n",
    "loss_record = []\n",
    "\n",
    "for e in range(n_steps):\n",
    "    ŷ = my_model(x) \n",
    "    L = criterion(y,ŷ)\n",
    "    \n",
    "    optimizer.zero_grad()\n",
    "    loss_record.append(L.item())\n",
    "    L.backward()\n",
    "    optimizer.step()"
   ]
  },
  {
   "cell_type": "code",
   "execution_count": 445,
   "metadata": {},
   "outputs": [
    {
     "data": {
      "application/vnd.vegalite.v3+json": {
       "$schema": "https://vega.github.io/schema/vega-lite/v3.4.0.json",
       "config": {
        "mark": {
         "tooltip": null
        },
        "view": {
         "height": 300,
         "width": 400
        }
       },
       "data": {
        "name": "data-d24ea472a0f7a98713735afc92b44e19"
       },
       "datasets": {
        "data-d24ea472a0f7a98713735afc92b44e19": [
         {
          "x1": -0.5207904577255249,
          "y": -1.0128374099731445,
          "ŷ": -1.1279174089431763
         },
         {
          "x1": -0.525282084941864,
          "y": -1.0075756311416626,
          "ŷ": -1.1394520998001099
         },
         {
          "x1": 0.04700292646884918,
          "y": 0.18700985610485077,
          "ŷ": 0.15298302471637726
         },
         {
          "x1": -1.421610713005066,
          "y": -2.311091661453247,
          "ŷ": -4.426724910736084
         },
         {
          "x1": 0.15322625637054443,
          "y": 0.5788436532020569,
          "ŷ": 0.42394232749938965
         },
         {
          "x1": -0.9605587124824524,
          "y": -0.24157285690307617,
          "ŷ": -2.442594051361084
         },
         {
          "x1": 0.4246344268321991,
          "y": 1.0684198141098022,
          "ŷ": 1.0568374395370483
         },
         {
          "x1": 0.46718859672546387,
          "y": 1.0579088926315308,
          "ŷ": 1.1386419534683228
         },
         {
          "x1": 0.16170857846736908,
          "y": 0.6068918704986572,
          "ŷ": 0.44553330540657043
         },
         {
          "x1": 0.04331022873520851,
          "y": 0.17245689034461975,
          "ŷ": 0.1434939056634903
         },
         {
          "x1": 0.9426987171173096,
          "y": 0.24925833940505981,
          "ŷ": 2.233017683029175
         },
         {
          "x1": 1.2383822202682495,
          "y": 0.928104817867279,
          "ŷ": 3.0096089839935303
         },
         {
          "x1": 0.5208070278167725,
          "y": 1.012818455696106,
          "ŷ": 1.2447630167007446
         },
         {
          "x1": -0.410616397857666,
          "y": -1.0666651725769043,
          "ŷ": -0.8699949383735657
         },
         {
          "x1": -0.9569479823112488,
          "y": -0.242723286151886,
          "ŷ": -2.428114175796509
         },
         {
          "x1": 0.17444191873073578,
          "y": 0.6478169560432434,
          "ŷ": 0.47794488072395325
         },
         {
          "x1": -1.1898432970046997,
          "y": -0.6855968832969666,
          "ŷ": -3.392850160598755
         },
         {
          "x1": -0.29575103521347046,
          "y": -0.9516151547431946,
          "ŷ": -0.6314896941184998
         },
         {
          "x1": -1.0218051671981812,
          "y": -0.25598758459091187,
          "ŷ": -2.691896677017212
         },
         {
          "x1": 0.766711950302124,
          "y": 0.525384783744812,
          "ŷ": 1.8259024620056152
         },
         {
          "x1": -1.5820419788360596,
          "y": -4.004591941833496,
          "ŷ": -5.144023895263672
         },
         {
          "x1": 2.321671485900879,
          "y": 12.651830673217773,
          "ŷ": 5.938863754272461
         },
         {
          "x1": -0.2634357511997223,
          "y": -0.887561559677124,
          "ŷ": -0.5643190741539001
         },
         {
          "x1": 1.5001062154769897,
          "y": 3.096709728240967,
          "ŷ": 3.714182138442993
         },
         {
          "x1": -1.224197268486023,
          "y": -0.8516076803207397,
          "ŷ": -3.5460588932037354
         },
         {
          "x1": 0.11134038120508194,
          "y": 0.43216443061828613,
          "ŷ": 0.3173256814479828
         },
         {
          "x1": 1.2431010007858276,
          "y": 0.9545779824256897,
          "ŷ": 3.022261619567871
         },
         {
          "x1": 0.4495464265346527,
          "y": 1.0651079416275024,
          "ŷ": 1.1035701036453247
         },
         {
          "x1": 0.1742379069328308,
          "y": 0.6471728682518005,
          "ŷ": 0.47742560505867004
         },
         {
          "x1": -0.9263886213302612,
          "y": -0.2604842185974121,
          "ŷ": -2.3185365200042725
         },
         {
          "x1": -1.1691361665725708,
          "y": -0.5987104773521423,
          "ŷ": -3.3016486167907715
         },
         {
          "x1": -0.8350489735603333,
          "y": -0.3849851191043854,
          "ŷ": -2.0208139419555664
         },
         {
          "x1": -0.20484179258346558,
          "y": -0.7393091320991516,
          "ŷ": -0.44281548261642456
         },
         {
          "x1": -0.9708449840545654,
          "y": -0.23945355415344238,
          "ŷ": -2.483844518661499
         },
         {
          "x1": 2.4154880046844482,
          "y": 13.858407020568848,
          "ŷ": 6.19187068939209
         },
         {
          "x1": -2.7862846851348877,
          "y": -20.64215660095215,
          "ŷ": -10.548319816589355
         },
         {
          "x1": 0.715398907661438,
          "y": 0.642490804195404,
          "ŷ": 1.7029738426208496
         },
         {
          "x1": -0.7676805853843689,
          "y": -0.5232309103012085,
          "ŷ": -1.7970012426376343
         },
         {
          "x1": 0.7136301398277283,
          "y": 0.6465743780136108,
          "ŷ": 1.6986939907073975
         },
         {
          "x1": -1.3939735889434814,
          "y": -2.0589399337768555,
          "ŷ": -4.303210258483887
         },
         {
          "x1": -1.6287025213241577,
          "y": -4.5499725341796875,
          "ŷ": -5.3526458740234375
         },
         {
          "x1": -0.5950021147727966,
          "y": -0.9007159471511841,
          "ŷ": -1.3165329694747925
         },
         {
          "x1": -1.7134666442871094,
          "y": -5.570888519287109,
          "ŷ": -5.734842777252197
         },
         {
          "x1": -2.254652738571167,
          "y": -11.856525421142578,
          "ŷ": -8.179487228393555
         },
         {
          "x1": -0.277584969997406,
          "y": -0.9172386527061462,
          "ŷ": -0.5935350060462952
         },
         {
          "x1": -0.7265166640281677,
          "y": -0.6168292164802551,
          "ŷ": -1.6616648435592651
         },
         {
          "x1": 1.1991732120513916,
          "y": 0.7279822826385498,
          "ŷ": 2.904475450515747
         },
         {
          "x1": -0.5904436111450195,
          "y": -0.9089927673339844,
          "ŷ": -1.3052115440368652
         },
         {
          "x1": 1.0878753662109375,
          "y": 0.3518871068954468,
          "ŷ": 2.605966329574585
         },
         {
          "x1": 0.6742958426475525,
          "y": 0.7365099787712097,
          "ŷ": 1.600979208946228
         },
         {
          "x1": 2.1919314861297607,
          "y": 11.142059326171875,
          "ŷ": 5.586474418640137
         },
         {
          "x1": 0.10888756066560745,
          "y": 0.4232003688812256,
          "ŷ": 0.31108224391937256
         },
         {
          "x1": -1.0160834789276123,
          "y": -0.25177133083343506,
          "ŷ": -2.6679627895355225
         },
         {
          "x1": 0.5140371322631836,
          "y": 1.0203368663787842,
          "ŷ": 1.2313629388809204
         },
         {
          "x1": -0.39224573969841003,
          "y": -1.0603480339050293,
          "ŷ": -0.8325914740562439
         },
         {
          "x1": 0.6012863516807556,
          "y": 0.8890522718429565,
          "ŷ": 1.422261357307434
         },
         {
          "x1": -0.4507293999195099,
          "y": -1.0647494792938232,
          "ŷ": -0.9533114433288574
         },
         {
          "x1": -2.287094831466675,
          "y": -12.236234664916992,
          "ŷ": -8.325615882873535
         },
         {
          "x1": -0.7878912687301636,
          "y": -0.4791291058063507,
          "ŷ": -1.864331841468811
         },
         {
          "x1": -0.1457502841949463,
          "y": -0.5536280274391174,
          "ŷ": -0.3134095072746277
         },
         {
          "x1": 0.7018450498580933,
          "y": 0.6737446784973145,
          "ŷ": 1.6701773405075073
         },
         {
          "x1": 0.637902021408081,
          "y": 0.8159226179122925,
          "ŷ": 1.5112920999526978
         },
         {
          "x1": 1.1163493394851685,
          "y": 0.4215822219848633,
          "ŷ": 2.68239426612854
         },
         {
          "x1": 0.41361165046691895,
          "y": 1.067261815071106,
          "ŷ": 1.0356525182724
         },
         {
          "x1": -0.33529356122016907,
          "y": -1.0114468336105347,
          "ŷ": -0.7141063213348389
         },
         {
          "x1": -2.352475881576538,
          "y": -13.033811569213867,
          "ŷ": -8.620110511779785
         },
         {
          "x1": -0.1366868019104004,
          "y": -0.522465169429779,
          "ŷ": -0.2935612201690674
         },
         {
          "x1": 0.3602667450904846,
          "y": 1.0383567810058594,
          "ŷ": 0.9264798760414124
         },
         {
          "x1": -0.6284084916114807,
          "y": -0.8356508612632751,
          "ŷ": -1.39954674243927
         },
         {
          "x1": -0.4290832579135895,
          "y": -1.0684278011322021,
          "ŷ": -0.9075941443443298
         },
         {
          "x1": 1.0310802459716797,
          "y": 0.2641546130180359,
          "ŷ": 2.452887773513794
         },
         {
          "x1": 0.8837079405784607,
          "y": 0.30694031715393066,
          "ŷ": 2.102001905441284
         },
         {
          "x1": 0.15949861705303192,
          "y": 0.5996431708335876,
          "ŷ": 0.43990811705589294
         },
         {
          "x1": 0.7647862434387207,
          "y": 0.5296762585639954,
          "ŷ": 1.821357011795044
         },
         {
          "x1": 0.3437519371509552,
          "y": 1.0215141773223877,
          "ŷ": 0.890964150428772
         },
         {
          "x1": -0.33203718066215515,
          "y": -1.0073118209838867,
          "ŷ": -0.7073027491569519
         },
         {
          "x1": 1.1907217502593994,
          "y": 0.6895018219947815,
          "ŷ": 2.8818137645721436
         },
         {
          "x1": -0.3122175335884094,
          "y": -0.9790626764297485,
          "ŷ": -0.6658933162689209
         },
         {
          "x1": 1.291646122932434,
          "y": 1.2563031911849976,
          "ŷ": 3.1524577140808105
         },
         {
          "x1": 1.2934341430664062,
          "y": 1.268425464630127,
          "ŷ": 3.1572558879852295
         },
         {
          "x1": -0.3022986948490143,
          "y": -0.9629569053649902,
          "ŷ": -0.6451696753501892
         },
         {
          "x1": 0.6528955101966858,
          "y": 0.7838539481163025,
          "ŷ": 1.5477486848831177
         },
         {
          "x1": -0.8428069949150085,
          "y": -0.37104326486587524,
          "ŷ": -2.046316146850586
         },
         {
          "x1": 0.016184652224183083,
          "y": 0.06469763815402985,
          "ŷ": 0.07486230880022049
         },
         {
          "x1": -0.28498923778533936,
          "y": -0.9317620396614075,
          "ŷ": -0.6090048551559448
         },
         {
          "x1": -0.40421730279922485,
          "y": -1.0649845600128174,
          "ŷ": -0.856965959072113
         },
         {
          "x1": 0.2889946401119232,
          "y": 0.9393260478973389,
          "ŷ": 0.7660676836967468
         },
         {
          "x1": 1.4904283285140991,
          "y": 2.9948391914367676,
          "ŷ": 3.6880877017974854
         },
         {
          "x1": -1.4356629848480225,
          "y": -2.4444921016693115,
          "ŷ": -4.489553451538086
         },
         {
          "x1": -1.3448829650878906,
          "y": -1.6469107866287231,
          "ŷ": -4.084280967712402
         },
         {
          "x1": -0.5224727988243103,
          "y": -1.0108920335769653,
          "ŷ": -1.1322377920150757
         },
         {
          "x1": -0.1642279475927353,
          "y": -0.6151036024093628,
          "ŷ": -0.353874146938324
         },
         {
          "x1": 1.0550683736801147,
          "y": 0.2931344509124756,
          "ŷ": 2.5175421237945557
         },
         {
          "x1": 0.8803268074989319,
          "y": 0.31157615780830383,
          "ŷ": 2.094040632247925
         },
         {
          "x1": -1.1861555576324463,
          "y": -0.669398844242096,
          "ŷ": -3.376404047012329
         },
         {
          "x1": 1.1428446769714355,
          "y": 0.5025880336761475,
          "ŷ": 2.7534377574920654
         },
         {
          "x1": -0.9361379146575928,
          "y": -0.2533062696456909,
          "ŷ": -2.3512394428253174
         },
         {
          "x1": 0.356308251619339,
          "y": 1.0346596240997314,
          "ŷ": 0.9179670810699463
         },
         {
          "x1": 0.5153345465660095,
          "y": 1.018934965133667,
          "ŷ": 1.2339309453964233
         },
         {
          "x1": 0.4338768422603607,
          "y": 1.0681426525115967,
          "ŷ": 1.0746006965637207
         }
        ]
       },
       "layer": [
        {
         "encoding": {
          "x": {
           "field": "x1",
           "type": "quantitative"
          },
          "y": {
           "field": "ŷ",
           "type": "quantitative"
          }
         },
         "height": 100,
         "mark": "line"
        },
        {
         "encoding": {
          "x": {
           "field": "x1",
           "type": "quantitative"
          },
          "y": {
           "field": "y",
           "type": "quantitative"
          }
         },
         "mark": "point"
        }
       ]
      },
      "image/png": "[encoded data removed]",
      "text/plain": [
       "<VegaLite 3 object>\n",
       "\n",
       "If you see this message, it means the renderer has not been properly enabled\n",
       "for the frontend that you are using. For more information, see\n",
       "https://altair-viz.github.io/user_guide/troubleshooting.html\n"
      ]
     },
     "execution_count": 445,
     "metadata": {},
     "output_type": "execute_result"
    }
   ],
   "source": [
    "preds = pd.DataFrame({'ŷ':my_model(x).detach().numpy()[:,0], 'y':y[:,0], 'x1':x[:,0]})\n",
    "(alt.Chart(preds, height=100).mark_line().encode(x='x1', y='ŷ') + \n",
    "alt.Chart(preds).mark_point().encode(x='x1', y='y'))"
   ]
  },
  {
   "cell_type": "markdown",
   "metadata": {},
   "source": [
    "Notice we didn't have to change the training loop at all- we just passed an extra parameter to the optimizer. We can also make more radical changes to the optimizer (in this case we'll use the [ADAM algorithm](https://ruder.io/optimizing-gradient-descent/index.html#adam), another form of gradient descent):"
   ]
  },
  {
   "cell_type": "code",
   "execution_count": 451,
   "metadata": {},
   "outputs": [],
   "source": [
    "my_model = Model([1,100,1]) \n",
    "criterion = nn.MSELoss() # the loss function in torch is often named \"criterion\"\n",
    "optimizer = optim.Adam(my_model.parameters(), lr=1*10e-5)"
   ]
  },
  {
   "cell_type": "code",
   "execution_count": 452,
   "metadata": {},
   "outputs": [],
   "source": [
    "n_steps = 5000\n",
    "loss_record = []\n",
    "\n",
    "for e in range(n_steps):\n",
    "    ŷ = my_model(x) \n",
    "    L = criterion(y,ŷ)\n",
    "    \n",
    "    optimizer.zero_grad()\n",
    "    loss_record.append(L.item())\n",
    "    L.backward()\n",
    "    optimizer.step()"
   ]
  },
  {
   "cell_type": "code",
   "execution_count": 453,
   "metadata": {},
   "outputs": [
    {
     "data": {
      "application/vnd.vegalite.v3+json": {
       "$schema": "https://vega.github.io/schema/vega-lite/v3.4.0.json",
       "config": {
        "mark": {
         "tooltip": null
        },
        "view": {
         "height": 300,
         "width": 400
        }
       },
       "data": {
        "name": "data-54ffb603ef226d5d2c56a35114aae259"
       },
       "datasets": {
        "data-54ffb603ef226d5d2c56a35114aae259": [
         {
          "x1": -0.5207904577255249,
          "y": -1.0128374099731445,
          "ŷ": -0.4090077877044678
         },
         {
          "x1": -0.525282084941864,
          "y": -1.0075756311416626,
          "ŷ": -0.4163927435874939
         },
         {
          "x1": 0.04700292646884918,
          "y": 0.18700985610485077,
          "ŷ": 0.15383797883987427
         },
         {
          "x1": -1.421610713005066,
          "y": -2.311091661453247,
          "ŷ": -4.349565505981445
         },
         {
          "x1": 0.15322625637054443,
          "y": 0.5788436532020569,
          "ŷ": 0.2534804046154022
         },
         {
          "x1": -0.9605587124824524,
          "y": -0.24157285690307617,
          "ŷ": -1.3436753749847412
         },
         {
          "x1": 0.4246344268321991,
          "y": 1.0684198141098022,
          "ŷ": 0.5360045433044434
         },
         {
          "x1": 0.46718859672546387,
          "y": 1.0579088926315308,
          "ŷ": 0.580026388168335
         },
         {
          "x1": 0.16170857846736908,
          "y": 0.6068918704986572,
          "ŷ": 0.2623251974582672
         },
         {
          "x1": 0.04331022873520851,
          "y": 0.17245689034461975,
          "ŷ": 0.15106096863746643
         },
         {
          "x1": 0.9426987171173096,
          "y": 0.24925833940505981,
          "ŷ": 0.9579581618309021
         },
         {
          "x1": 1.2383822202682495,
          "y": 0.928104817867279,
          "ŷ": 2.2007896900177
         },
         {
          "x1": 0.5208070278167725,
          "y": 1.012818455696106,
          "ŷ": 0.6298528909683228
         },
         {
          "x1": -0.410616397857666,
          "y": -1.0666651725769043,
          "ŷ": -0.25246158242225647
         },
         {
          "x1": -0.9569479823112488,
          "y": -0.242723286151886,
          "ŷ": -1.3318514823913574
         },
         {
          "x1": 0.17444191873073578,
          "y": 0.6478169560432434,
          "ŷ": 0.2756028175354004
         },
         {
          "x1": -1.1898432970046997,
          "y": -0.6855968832969666,
          "ŷ": -2.7476887702941895
         },
         {
          "x1": -0.29575103521347046,
          "y": -0.9516151547431946,
          "ŷ": -0.115963876247406
         },
         {
          "x1": -1.0218051671981812,
          "y": -0.25598758459091187,
          "ŷ": -1.6128904819488525
         },
         {
          "x1": 0.766711950302124,
          "y": 0.525384783744812,
          "ŷ": 0.8141257762908936
         },
         {
          "x1": -1.5820419788360596,
          "y": -4.004591941833496,
          "ŷ": -5.458397388458252
         },
         {
          "x1": 2.321671485900879,
          "y": 12.651830673217773,
          "ŷ": 10.188738822937012
         },
         {
          "x1": -0.2634357511997223,
          "y": -0.887561559677124,
          "ŷ": -0.08362823724746704
         },
         {
          "x1": 1.5001062154769897,
          "y": 3.096709728240967,
          "ŷ": 4.130687713623047
         },
         {
          "x1": -1.224197268486023,
          "y": -0.8516076803207397,
          "ŷ": -2.98512864112854
         },
         {
          "x1": 0.11134038120508194,
          "y": 0.43216443061828613,
          "ŷ": 0.20985722541809082
         },
         {
          "x1": 1.2431010007858276,
          "y": 0.9545779824256897,
          "ŷ": 2.2355849742889404
         },
         {
          "x1": 0.4495464265346527,
          "y": 1.0651079416275024,
          "ŷ": 0.5617757439613342
         },
         {
          "x1": 0.1742379069328308,
          "y": 0.6471728682518005,
          "ŷ": 0.27539005875587463
         },
         {
          "x1": -0.9263886213302612,
          "y": -0.2604842185974121,
          "ŷ": -1.2446348667144775
         },
         {
          "x1": -1.1691361665725708,
          "y": -0.5987104773521423,
          "ŷ": -2.6055068969726562
         },
         {
          "x1": -0.8350489735603333,
          "y": -0.3849851191043854,
          "ŷ": -1.0117857456207275
         },
         {
          "x1": -0.20484179258346558,
          "y": -0.7393091320991516,
          "ŷ": -0.028689637780189514
         },
         {
          "x1": -0.9708449840545654,
          "y": -0.23945355415344238,
          "ŷ": -1.3785569667816162
         },
         {
          "x1": 2.4154880046844482,
          "y": 13.858407020568848,
          "ŷ": 10.880521774291992
         },
         {
          "x1": -2.7862846851348877,
          "y": -20.64215660095215,
          "ŷ": -13.780806541442871
         },
         {
          "x1": 0.715398907661438,
          "y": 0.642490804195404,
          "ŷ": 0.776481568813324
         },
         {
          "x1": -0.7676805853843689,
          "y": -0.5232309103012085,
          "ŷ": -0.8529307246208191
         },
         {
          "x1": 0.7136301398277283,
          "y": 0.6465743780136108,
          "ŷ": 0.7751840949058533
         },
         {
          "x1": -1.3939735889434814,
          "y": -2.0589399337768555,
          "ŷ": -4.1585493087768555
         },
         {
          "x1": -1.6287025213241577,
          "y": -4.5499725341796875,
          "ŷ": -5.780895233154297
         },
         {
          "x1": -0.5950021147727966,
          "y": -0.9007159471511841,
          "ŷ": -0.5310232639312744
         },
         {
          "x1": -1.7134666442871094,
          "y": -5.570888519287109,
          "ŷ": -6.366748332977295
         },
         {
          "x1": -2.254652738571167,
          "y": -11.856525421142578,
          "ŷ": -10.107193946838379
         },
         {
          "x1": -0.277584969997406,
          "y": -0.9172386527061462,
          "ŷ": -0.09778633713722229
         },
         {
          "x1": -0.7265166640281677,
          "y": -0.6168292164802551,
          "ŷ": -0.7676584720611572
         },
         {
          "x1": 1.1991732120513916,
          "y": 0.7279822826385498,
          "ŷ": 1.9116706848144531
         },
         {
          "x1": -0.5904436111450195,
          "y": -0.9089927673339844,
          "ŷ": -0.5235283374786377
         },
         {
          "x1": 1.0878753662109375,
          "y": 0.3518871068954468,
          "ŷ": 1.2026896476745605
         },
         {
          "x1": 0.6742958426475525,
          "y": 0.7365099787712097,
          "ŷ": 0.7463275790214539
         },
         {
          "x1": 2.1919314861297607,
          "y": 11.142059326171875,
          "ŷ": 9.232062339782715
         },
         {
          "x1": 0.10888756066560745,
          "y": 0.4232003688812256,
          "ŷ": 0.20750680565834045
         },
         {
          "x1": -1.0160834789276123,
          "y": -0.25177133083343506,
          "ŷ": -1.5838823318481445
         },
         {
          "x1": 0.5140371322631836,
          "y": 1.0203368663787842,
          "ŷ": 0.6241192817687988
         },
         {
          "x1": -0.39224573969841003,
          "y": -1.0603480339050293,
          "ŷ": -0.22846004366874695
         },
         {
          "x1": 0.6012863516807556,
          "y": 0.8890522718429565,
          "ŷ": 0.6927664875984192
         },
         {
          "x1": -0.4507293999195099,
          "y": -1.0647494792938232,
          "ŷ": -0.30486971139907837
         },
         {
          "x1": -2.287094831466675,
          "y": -12.236234664916992,
          "ŷ": -10.331419944763184
         },
         {
          "x1": -0.7878912687301636,
          "y": -0.4791291058063507,
          "ŷ": -0.8997452855110168
         },
         {
          "x1": -0.1457502841949463,
          "y": -0.5536280274391174,
          "ŷ": 0.017917662858963013
         },
         {
          "x1": 0.7018450498580933,
          "y": 0.6737446784973145,
          "ŷ": 0.7665382623672485
         },
         {
          "x1": 0.637902021408081,
          "y": 0.8159226179122925,
          "ŷ": 0.7196283340454102
         },
         {
          "x1": 1.1163493394851685,
          "y": 0.4215822219848633,
          "ŷ": 1.3255741596221924
         },
         {
          "x1": 0.41361165046691895,
          "y": 1.067261815071106,
          "ŷ": 0.5246016979217529
         },
         {
          "x1": -0.33529356122016907,
          "y": -1.0114468336105347,
          "ŷ": -0.15553107857704163
         },
         {
          "x1": -2.352475881576538,
          "y": -13.033811569213867,
          "ŷ": -10.783305168151855
         },
         {
          "x1": -0.1366868019104004,
          "y": -0.522465169429779,
          "ŷ": 0.025032252073287964
         },
         {
          "x1": 0.3602667450904846,
          "y": 1.0383567810058594,
          "ŷ": 0.469417005777359
         },
         {
          "x1": -0.6284084916114807,
          "y": -0.8356508612632751,
          "ŷ": -0.5877377390861511
         },
         {
          "x1": -0.4290832579135895,
          "y": -1.0684278011322021,
          "ŷ": -0.2765887379646301
         },
         {
          "x1": 1.0310802459716797,
          "y": 0.2641546130180359,
          "ŷ": 1.0717973709106445
         },
         {
          "x1": 0.8837079405784607,
          "y": 0.30694031715393066,
          "ŷ": 0.9012762904167175
         },
         {
          "x1": 0.15949861705303192,
          "y": 0.5996431708335876,
          "ŷ": 0.26002073287963867
         },
         {
          "x1": 0.7647862434387207,
          "y": 0.5296762585639954,
          "ŷ": 0.812713086605072
         },
         {
          "x1": 0.3437519371509552,
          "y": 1.0215141773223877,
          "ŷ": 0.45233264565467834
         },
         {
          "x1": -0.33203718066215515,
          "y": -1.0073118209838867,
          "ŷ": -0.1522727608680725
         },
         {
          "x1": 1.1907217502593994,
          "y": 0.6895018219947815,
          "ŷ": 1.8493528366088867
         },
         {
          "x1": -0.3122175335884094,
          "y": -0.9790626764297485,
          "ŷ": -0.13244062662124634
         },
         {
          "x1": 1.291646122932434,
          "y": 1.2563031911849976,
          "ŷ": 2.5935463905334473
         },
         {
          "x1": 1.2934341430664062,
          "y": 1.268425464630127,
          "ŷ": 2.6067309379577637
         },
         {
          "x1": -0.3022986948490143,
          "y": -0.9629569053649902,
          "ŷ": -0.12251555919647217
         },
         {
          "x1": 0.6528955101966858,
          "y": 0.7838539481163025,
          "ŷ": 0.7306279540061951
         },
         {
          "x1": -0.8428069949150085,
          "y": -0.37104326486587524,
          "ŷ": -1.031383991241455
         },
         {
          "x1": 0.016184652224183083,
          "y": 0.06469763815402985,
          "ŷ": 0.13338333368301392
         },
         {
          "x1": -0.28498923778533936,
          "y": -0.9317620396614075,
          "ŷ": -0.10519525408744812
         },
         {
          "x1": -0.40421730279922485,
          "y": -1.0649845600128174,
          "ŷ": -0.24410104751586914
         },
         {
          "x1": 0.2889946401119232,
          "y": 0.9393260478973389,
          "ŷ": 0.39588356018066406
         },
         {
          "x1": 1.4904283285140991,
          "y": 2.9948391914367676,
          "ŷ": 4.059325218200684
         },
         {
          "x1": -1.4356629848480225,
          "y": -2.4444921016693115,
          "ŷ": -4.446689128875732
         },
         {
          "x1": -1.3448829650878906,
          "y": -1.6469107866287231,
          "ŷ": -3.819256544113159
         },
         {
          "x1": -0.5224727988243103,
          "y": -1.0108920335769653,
          "ŷ": -0.41177380084991455
         },
         {
          "x1": -0.1642279475927353,
          "y": -0.6151036024093628,
          "ŷ": 0.004181236028671265
         },
         {
          "x1": 1.0550683736801147,
          "y": 0.2931344509124756,
          "ŷ": 1.113041877746582
         },
         {
          "x1": 0.8803268074989319,
          "y": 0.31157615780830383,
          "ŷ": 0.8987308144569397
         },
         {
          "x1": -1.1861555576324463,
          "y": -0.669398844242096,
          "ŷ": -2.722200870513916
         },
         {
          "x1": 1.1428446769714355,
          "y": 0.5025880336761475,
          "ŷ": 1.4972150325775146
         },
         {
          "x1": -0.9361379146575928,
          "y": -0.2533062696456909,
          "ŷ": -1.2702102661132812
         },
         {
          "x1": 0.356308251619339,
          "y": 1.0346596240997314,
          "ŷ": 0.46532195806503296
         },
         {
          "x1": 0.5153345465660095,
          "y": 1.018934965133667,
          "ŷ": 0.6252508163452148
         },
         {
          "x1": 0.4338768422603607,
          "y": 1.0681426525115967,
          "ŷ": 0.5455658435821533
         }
        ]
       },
       "layer": [
        {
         "encoding": {
          "x": {
           "field": "x1",
           "type": "quantitative"
          },
          "y": {
           "field": "ŷ",
           "type": "quantitative"
          }
         },
         "height": 100,
         "mark": "line"
        },
        {
         "encoding": {
          "x": {
           "field": "x1",
           "type": "quantitative"
          },
          "y": {
           "field": "y",
           "type": "quantitative"
          }
         },
         "mark": "point"
        }
       ]
      },
      "image/png": "[encoded data removed]",
      "text/plain": [
       "<VegaLite 3 object>\n",
       "\n",
       "If you see this message, it means the renderer has not been properly enabled\n",
       "for the frontend that you are using. For more information, see\n",
       "https://altair-viz.github.io/user_guide/troubleshooting.html\n"
      ]
     },
     "execution_count": 453,
     "metadata": {},
     "output_type": "execute_result"
    }
   ],
   "source": [
    "preds = pd.DataFrame({'ŷ':my_model(x).detach().numpy()[:,0], 'y':y[:,0], 'x1':x[:,0]})\n",
    "(alt.Chart(preds, height=100).mark_line().encode(x='x1', y='ŷ') + \n",
    "alt.Chart(preds).mark_point().encode(x='x1', y='y'))"
   ]
  },
  {
   "cell_type": "markdown",
   "metadata": {},
   "source": [
    "## Minibatching and Dataloaders"
   ]
  },
  {
   "cell_type": "markdown",
   "metadata": {},
   "source": [
    "So far we've been using all of the data to calculate the gradients in each gradient descent step. However, doing that requires us to have all of the data in-memory at each step to look at $y_i$ and calculate $\\hat y_i$ for every single $i$. Mini-batch stochastic gradient descent avoids this problem: in each iteration, we only use a subset of the data (a *batch* or *minibatch*) to calculate the loss, and consequently the gradients. It turns out that doing this also helps the optimization algorithm get out of local minima, so it's a win-win (more details in the [gradient descent primer](https://github.com/alejandroschuler/articles/blob/master/grad_descent/Gradient%20Descent.ipynb) and [overview of gradient descent methods](https://ruder.io/optimizing-gradient-descent/index.html#minibatchgradientdescent))."
   ]
  },
  {
   "cell_type": "markdown",
   "metadata": {},
   "source": [
    "In practice, people *always* use batching when training neural networks, so pytorch makes it easy to do so:"
   ]
  },
  {
   "cell_type": "code",
   "execution_count": 449,
   "metadata": {},
   "outputs": [],
   "source": [
    "from torch.utils.data import DataLoader\n",
    "trainloader = DataLoader(list(zip(x,y)), batch_size=20, shuffle=True)"
   ]
  },
  {
   "cell_type": "code",
   "execution_count": 450,
   "metadata": {},
   "outputs": [],
   "source": [
    "my_model = Model([1,100,10,1]) \n",
    "criterion = nn.MSELoss() # the loss function in torch is often named \"criterion\"\n",
    "optimizer = optim.Adam(my_model.parameters(), lr=1*10e-5)"
   ]
  },
  {
   "cell_type": "markdown",
   "metadata": {},
   "source": [
    "`DataLoader` splits the provided data into batches. We iterate through each batch, updating the paramters with a gradient descent step each time. Once we've looked at each batch once (i.e. we've gone through the full datasets once), we call that an *epoch* and start again."
   ]
  },
  {
   "cell_type": "code",
   "execution_count": 454,
   "metadata": {},
   "outputs": [],
   "source": [
    "n_epochs = 1000\n",
    "loss_record = []\n",
    "\n",
    "for e in range(n_epochs):\n",
    "    for x_batch, y_batch in trainloader:\n",
    "        ŷ_batch = my_model(x_batch) \n",
    "        \n",
    "        optimizer.zero_grad()\n",
    "        L = criterion(y_batch, ŷ_batch)\n",
    "        L.backward()\n",
    "        optimizer.step()\n",
    "    full_loss = criterion(y, my_model(x))\n",
    "    loss_record.append(full_loss.item())"
   ]
  },
  {
   "cell_type": "code",
   "execution_count": 455,
   "metadata": {},
   "outputs": [
    {
     "data": {
      "application/vnd.vegalite.v3+json": {
       "$schema": "https://vega.github.io/schema/vega-lite/v3.4.0.json",
       "config": {
        "mark": {
         "tooltip": null
        },
        "view": {
         "height": 300,
         "width": 400
        }
       },
       "data": {
        "name": "data-63601f1c8ef2c13ca669196e1d8a1d9f"
       },
       "datasets": {
        "data-63601f1c8ef2c13ca669196e1d8a1d9f": [
         {
          "x1": -0.5207904577255249,
          "y": -1.0128374099731445,
          "ŷ": -0.40676814317703247
         },
         {
          "x1": -0.525282084941864,
          "y": -1.0075756311416626,
          "ŷ": -0.4093364477157593
         },
         {
          "x1": 0.04700292646884918,
          "y": 0.18700985610485077,
          "ŷ": 0.11673657596111298
         },
         {
          "x1": -1.421610713005066,
          "y": -2.311091661453247,
          "ŷ": -3.3737244606018066
         },
         {
          "x1": 0.15322625637054443,
          "y": 0.5788436532020569,
          "ŷ": 0.22764770686626434
         },
         {
          "x1": -0.9605587124824524,
          "y": -0.24157285690307617,
          "ŷ": -0.7796791791915894
         },
         {
          "x1": 0.4246344268321991,
          "y": 1.0684198141098022,
          "ŷ": 0.47655606269836426
         },
         {
          "x1": 0.46718859672546387,
          "y": 1.0579088926315308,
          "ŷ": 0.4954119920730591
         },
         {
          "x1": 0.16170857846736908,
          "y": 0.6068918704986572,
          "ŷ": 0.23662982881069183
         },
         {
          "x1": 0.04331022873520851,
          "y": 0.17245689034461975,
          "ŷ": 0.11291657388210297
         },
         {
          "x1": 0.9426987171173096,
          "y": 0.24925833940505981,
          "ŷ": 0.7051474452018738
         },
         {
          "x1": 1.2383822202682495,
          "y": 0.928104817867279,
          "ŷ": 0.923170268535614
         },
         {
          "x1": 0.5208070278167725,
          "y": 1.012818455696106,
          "ŷ": 0.5191704034805298
         },
         {
          "x1": -0.410616397857666,
          "y": -1.0666651725769043,
          "ŷ": -0.34377020597457886
         },
         {
          "x1": -0.9569479823112488,
          "y": -0.242723286151886,
          "ŷ": -0.7758808135986328
         },
         {
          "x1": 0.17444191873073578,
          "y": 0.6478169560432434,
          "ŷ": 0.25011348724365234
         },
         {
          "x1": -1.1898432970046997,
          "y": -0.6855968832969666,
          "ŷ": -1.1832711696624756
         },
         {
          "x1": -0.29575103521347046,
          "y": -0.9516151547431946,
          "ŷ": -0.27539849281311035
         },
         {
          "x1": -1.0218051671981812,
          "y": -0.25598758459091187,
          "ŷ": -0.8441075682640076
         },
         {
          "x1": 0.766711950302124,
          "y": 0.525384783744812,
          "ŷ": 0.6277040243148804
         },
         {
          "x1": -1.5820419788360596,
          "y": -4.004591941833496,
          "ŷ": -4.978118896484375
         },
         {
          "x1": 2.321671485900879,
          "y": 12.651830673217773,
          "ŷ": 12.406245231628418
         },
         {
          "x1": -0.2634357511997223,
          "y": -0.887561559677124,
          "ŷ": -0.24684058129787445
         },
         {
          "x1": 1.5001062154769897,
          "y": 3.096709728240967,
          "ŷ": 3.6267998218536377
         },
         {
          "x1": -1.224197268486023,
          "y": -0.8516076803207397,
          "ŷ": -1.4094303846359253
         },
         {
          "x1": 0.11134038120508194,
          "y": 0.43216443061828613,
          "ŷ": 0.18329374492168427
         },
         {
          "x1": 1.2431010007858276,
          "y": 0.9545779824256897,
          "ŷ": 0.9478052258491516
         },
         {
          "x1": 0.4495464265346527,
          "y": 1.0651079416275024,
          "ŷ": 0.4875946640968323
         },
         {
          "x1": 0.1742379069328308,
          "y": 0.6471728682518005,
          "ŷ": 0.24989746510982513
         },
         {
          "x1": -0.9263886213302612,
          "y": -0.2604842185974121,
          "ŷ": -0.7437337636947632
         },
         {
          "x1": -1.1691361665725708,
          "y": -0.5987104773521423,
          "ŷ": -1.1165869235992432
         },
         {
          "x1": -0.8350489735603333,
          "y": -0.3849851191043854,
          "ŷ": -0.6550763845443726
         },
         {
          "x1": -0.20484179258346558,
          "y": -0.7393091320991516,
          "ŷ": -0.19405896961688995
         },
         {
          "x1": -0.9708449840545654,
          "y": -0.23945355415344238,
          "ŷ": -0.7904998660087585
         },
         {
          "x1": 2.4154880046844482,
          "y": 13.858407020568848,
          "ŷ": 13.408658027648926
         },
         {
          "x1": -2.7862846851348877,
          "y": -20.64215660095215,
          "ŷ": -17.02115821838379
         },
         {
          "x1": 0.715398907661438,
          "y": 0.642490804195404,
          "ŷ": 0.6051232814788818
         },
         {
          "x1": -0.7676805853843689,
          "y": -0.5232309103012085,
          "ŷ": -0.5967950820922852
         },
         {
          "x1": 0.7136301398277283,
          "y": 0.6465743780136108,
          "ŷ": 0.6043450236320496
         },
         {
          "x1": -1.3939735889434814,
          "y": -2.0589399337768555,
          "ŷ": -3.097339153289795
         },
         {
          "x1": -1.6287025213241577,
          "y": -4.5499725341796875,
          "ŷ": -5.4447479248046875
         },
         {
          "x1": -0.5950021147727966,
          "y": -0.9007159471511841,
          "ŷ": -0.44920259714126587
         },
         {
          "x1": -1.7134666442871094,
          "y": -5.570888519287109,
          "ŷ": -6.29243278503418
         },
         {
          "x1": -2.254652738571167,
          "y": -11.856525421142578,
          "ŷ": -11.704569816589355
         },
         {
          "x1": -0.277584969997406,
          "y": -0.9172386527061462,
          "ŷ": -0.25934451818466187
         },
         {
          "x1": -0.7265166640281677,
          "y": -0.6168292164802551,
          "ŷ": -0.5611836314201355
         },
         {
          "x1": 1.1991732120513916,
          "y": 0.7279822826385498,
          "ŷ": 0.8376564383506775
         },
         {
          "x1": -0.5904436111450195,
          "y": -0.9089927673339844,
          "ŷ": -0.4465959668159485
         },
         {
          "x1": 1.0878753662109375,
          "y": 0.3518871068954468,
          "ŷ": 0.7718493342399597
         },
         {
          "x1": 0.6742958426475525,
          "y": 0.7365099787712097,
          "ŷ": 0.5870358347892761
         },
         {
          "x1": 2.1919314861297607,
          "y": 11.142059326171875,
          "ŷ": 11.01981258392334
         },
         {
          "x1": 0.10888756066560745,
          "y": 0.4232003688812256,
          "ŷ": 0.1807529181241989
         },
         {
          "x1": -1.0160834789276123,
          "y": -0.25177133083343506,
          "ŷ": -0.8380885720252991
         },
         {
          "x1": 0.5140371322631836,
          "y": 1.0203368663787842,
          "ŷ": 0.5161706805229187
         },
         {
          "x1": -0.39224573969841003,
          "y": -1.0603480339050293,
          "ŷ": -0.33326584100723267
         },
         {
          "x1": 0.6012863516807556,
          "y": 0.8890522718429565,
          "ŷ": 0.5548312067985535
         },
         {
          "x1": -0.4507293999195099,
          "y": -1.0647494792938232,
          "ŷ": -0.3667069673538208
         },
         {
          "x1": -2.287094831466675,
          "y": -12.236234664916992,
          "ŷ": -12.029007911682129
         },
         {
          "x1": -0.7878912687301636,
          "y": -0.4791291058063507,
          "ŷ": -0.6142796874046326
         },
         {
          "x1": -0.1457502841949463,
          "y": -0.5536280274391174,
          "ŷ": -0.1279207319021225
         },
         {
          "x1": 0.7018450498580933,
          "y": 0.6737446784973145,
          "ŷ": 0.5991589426994324
         },
         {
          "x1": 0.637902021408081,
          "y": 0.8159226179122925,
          "ŷ": 0.5710206031799316
         },
         {
          "x1": 1.1163493394851685,
          "y": 0.4215822219848633,
          "ŷ": 0.7868403792381287
         },
         {
          "x1": 0.41361165046691895,
          "y": 1.067261815071106,
          "ŷ": 0.4704529047012329
         },
         {
          "x1": -0.33529356122016907,
          "y": -1.0114468336105347,
          "ŷ": -0.3007003664970398
         },
         {
          "x1": -2.352475881576538,
          "y": -13.033811569213867,
          "ŷ": -12.682849884033203
         },
         {
          "x1": -0.1366868019104004,
          "y": -0.522465169429779,
          "ŷ": -0.11617980897426605
         },
         {
          "x1": 0.3602667450904846,
          "y": 1.0383567810058594,
          "ŷ": 0.4258047938346863
         },
         {
          "x1": -0.6284084916114807,
          "y": -0.8356508612632751,
          "ŷ": -0.4763091206550598
         },
         {
          "x1": -0.4290832579135895,
          "y": -1.0684278011322021,
          "ŷ": -0.3543296456336975
         },
         {
          "x1": 1.0310802459716797,
          "y": 0.2641546130180359,
          "ŷ": 0.7440400123596191
         },
         {
          "x1": 0.8837079405784607,
          "y": 0.30694031715393066,
          "ŷ": 0.6791883707046509
         },
         {
          "x1": 0.15949861705303192,
          "y": 0.5996431708335876,
          "ŷ": 0.23428969085216522
         },
         {
          "x1": 0.7647862434387207,
          "y": 0.5296762585639954,
          "ŷ": 0.6268564462661743
         },
         {
          "x1": 0.3437519371509552,
          "y": 1.0215141773223877,
          "ŷ": 0.41126197576522827
         },
         {
          "x1": -0.33203718066215515,
          "y": -1.0073118209838867,
          "ŷ": -0.29883843660354614
         },
         {
          "x1": 1.1907217502593994,
          "y": 0.6895018219947815,
          "ŷ": 0.8298738598823547
         },
         {
          "x1": -0.3122175335884094,
          "y": -0.9790626764297485,
          "ŷ": -0.28750544786453247
         },
         {
          "x1": 1.291646122932434,
          "y": 1.2563031911849976,
          "ŷ": 1.3996448516845703
         },
         {
          "x1": 1.2934341430664062,
          "y": 1.268425464630127,
          "ŷ": 1.4186890125274658
         },
         {
          "x1": -0.3022986948490143,
          "y": -0.9629569053649902,
          "ŷ": -0.280923068523407
         },
         {
          "x1": 0.6528955101966858,
          "y": 0.7838539481163025,
          "ŷ": 0.5776187181472778
         },
         {
          "x1": -0.8428069949150085,
          "y": -0.37104326486587524,
          "ŷ": -0.6617878675460815
         },
         {
          "x1": 0.016184652224183083,
          "y": 0.06469763815402985,
          "ŷ": 0.08299003541469574
         },
         {
          "x1": -0.28498923778533936,
          "y": -0.9317620396614075,
          "ŷ": -0.26588791608810425
         },
         {
          "x1": -0.40421730279922485,
          "y": -1.0649845600128174,
          "ŷ": -0.34011125564575195
         },
         {
          "x1": 0.2889946401119232,
          "y": 0.9393260478973389,
          "ŷ": 0.36304301023483276
         },
         {
          "x1": 1.4904283285140991,
          "y": 2.9948391914367676,
          "ŷ": 3.5233795642852783
         },
         {
          "x1": -1.4356629848480225,
          "y": -2.4444921016693115,
          "ŷ": -3.514254570007324
         },
         {
          "x1": -1.3448829650878906,
          "y": -1.6469107866287231,
          "ŷ": -2.606407880783081
         },
         {
          "x1": -0.5224727988243103,
          "y": -1.0108920335769653,
          "ŷ": -0.4077301025390625
         },
         {
          "x1": -0.1642279475927353,
          "y": -0.6151036024093628,
          "ŷ": -0.14899106323719025
         },
         {
          "x1": 1.0550683736801147,
          "y": 0.2931344509124756,
          "ŷ": 0.7545961737632751
         },
         {
          "x1": 0.8803268074989319,
          "y": 0.31157615780830383,
          "ŷ": 0.6777004599571228
         },
         {
          "x1": -1.1861555576324463,
          "y": -0.669398844242096,
          "ŷ": -1.170984148979187
         },
         {
          "x1": 1.1428446769714355,
          "y": 0.5025880336761475,
          "ŷ": 0.8007895350456238
         },
         {
          "x1": -0.9361379146575928,
          "y": -0.2533062696456909,
          "ŷ": -0.753989577293396
         },
         {
          "x1": 0.356308251619339,
          "y": 1.0346596240997314,
          "ŷ": 0.4223189949989319
         },
         {
          "x1": 0.5153345465660095,
          "y": 1.018934965133667,
          "ŷ": 0.5167456269264221
         },
         {
          "x1": 0.4338768422603607,
          "y": 1.0681426525115967,
          "ŷ": 0.48065149784088135
         }
        ]
       },
       "layer": [
        {
         "encoding": {
          "x": {
           "field": "x1",
           "type": "quantitative"
          },
          "y": {
           "field": "ŷ",
           "type": "quantitative"
          }
         },
         "height": 100,
         "mark": "line"
        },
        {
         "encoding": {
          "x": {
           "field": "x1",
           "type": "quantitative"
          },
          "y": {
           "field": "y",
           "type": "quantitative"
          }
         },
         "mark": "point"
        }
       ]
      },
      "image/png": "[encoded data removed]",
      "text/plain": [
       "<VegaLite 3 object>\n",
       "\n",
       "If you see this message, it means the renderer has not been properly enabled\n",
       "for the frontend that you are using. For more information, see\n",
       "https://altair-viz.github.io/user_guide/troubleshooting.html\n"
      ]
     },
     "execution_count": 455,
     "metadata": {},
     "output_type": "execute_result"
    }
   ],
   "source": [
    "preds = pd.DataFrame({'ŷ':my_model(x).detach().numpy()[:,0], 'y':y[:,0], 'x1':x[:,0]})\n",
    "(alt.Chart(preds, height=100).mark_line().encode(x='x1', y='ŷ') + \n",
    "alt.Chart(preds).mark_point().encode(x='x1', y='y'))"
   ]
  },
  {
   "cell_type": "markdown",
   "metadata": {},
   "source": [
    "# Final Exercises"
   ]
  },
  {
   "cell_type": "markdown",
   "metadata": {},
   "source": [
    "## Regression"
   ]
  },
  {
   "cell_type": "markdown",
   "metadata": {},
   "source": [
    "Let's use everything we know to build some models. The first dataset we'll use is data on different wines."
   ]
  },
  {
   "cell_type": "markdown",
   "metadata": {},
   "source": [
    "To start with, we'll download and read in the data into a pandas dataframe."
   ]
  },
  {
   "cell_type": "code",
   "execution_count": 456,
   "metadata": {},
   "outputs": [],
   "source": [
    "import pandas as pd\n",
    "data = pd.read_csv('https://archive.ics.uci.edu/ml/machine-learning-databases/wine-quality/winequality-red.csv', delimiter=\";\")"
   ]
  },
  {
   "cell_type": "markdown",
   "metadata": {},
   "source": [
    "Feel free to do any exploratory data analysis or investigate what's in the dataset using any tools you like. You'll see there are 11 predictors, all of which are numeric. There is one target (the \"quality\" of the wine), which we'll also treat as numeric."
   ]
  },
  {
   "cell_type": "markdown",
   "metadata": {},
   "source": [
    "Before building a model, I've turned the data into tensors and put it into a pytorch `DataLoader` for you"
   ]
  },
  {
   "cell_type": "code",
   "execution_count": 460,
   "metadata": {},
   "outputs": [],
   "source": [
    "from sklearn.model_selection import train_test_split\n",
    "from torch.utils.data import DataLoader\n",
    "\n",
    "X = data[[col for col in data.columns if col != 'quality']]\n",
    "Y = data['quality']\n",
    "\n",
    "# split into training and test sets, converting data frames to torch tensors along the way\n",
    "X_train, X_test, Y_train, Y_test = [torch.tensor(data_frame.values).float() for data_frame in train_test_split(X, Y, test_size=0.33)]\n",
    "\n",
    "# make a dataloader so we can iterate over batches\n",
    "trainloader = DataLoader(list(zip(X_train,Y_train)), batch_size=50, shuffle=True)"
   ]
  },
  {
   "cell_type": "markdown",
   "metadata": {},
   "source": [
    "Feel free to play around with the code above to figure out what it's doing. I didn't normalize the features or outcome, but if you wanted to, this would be the place to do it."
   ]
  },
  {
   "cell_type": "markdown",
   "metadata": {},
   "source": [
    "----\n",
    "**EXERCISE** \n",
    "\n",
    "Use pytorch to write a 3-layer neural network class (call it `WineNet`), with ReLU activations in between layers 1 and 2 and between 2 and 3. The output of the 3rd layer will be your prediction. Expect an input to the first layer of size 11 (the number of predictors we have). The output sizes of the 1st and 2nd layers should be variables that the user can set when they instantiate the class, like `model = WineNet(100, 50)`. The 3rd layer should have an ouput of size 1, since it's $\\hat y$.\n",
    "    \n",
    "To test your model, initialize it with some sizes of hidden layers (say, 100, 50), and run the training predictors through it and see what output you get. The predictions will be garbage since the model is untrained, but you can see if it all goes smoothly and your model is ready for training.\n",
    "    \n",
    "Use the pytorch `Adam` optimizer with 1e-5 learning rate to fit your model to the wine data (using the provided `trainloader`) by minimizing the mean-squared-error loss with your model, using 100 and 50 as the hidden layer sizes. Write a training loop to fit your model for 100 epochs. Record the value of the training loss at the end of each epoch.\n",
    "    \n",
    "Make a plot of the epoch (x-axis) vs. training loss (y-axis). Calculate the model's predictions on the test set and use the predictions to calculate the mean-squared error on the test set.\n",
    "\n",
    "---"
   ]
  },
  {
   "cell_type": "markdown",
   "metadata": {},
   "source": [
    "## Classification"
   ]
  },
  {
   "cell_type": "markdown",
   "metadata": {},
   "source": [
    "Now let's build a model for a binary outcome. The predictors in this dataset are characteristics of various patients along with information extracted from potential tumors. For each patient, the outcome is whether the tumor was benign or malignant. "
   ]
  },
  {
   "cell_type": "code",
   "execution_count": 461,
   "metadata": {},
   "outputs": [],
   "source": [
    "from sklearn.datasets import load_breast_cancer\n",
    "X, Y = load_breast_cancer(True)"
   ]
  },
  {
   "cell_type": "markdown",
   "metadata": {},
   "source": [
    "----\n",
    "**EXERCISE**\n",
    "\n",
    "Split these data into a training (70%) and test set (30%), convert all the data to torch tensors, and make a training dataloader.\n",
    "    \n",
    "Use pytorch to write a neural network class (call it `BCNet`) with any architechture (configuration of layers and activations) you like. As we did in our logistic regression example, we need to make sure there is a sigmoid function after the last linear layer to ensure that the predictions that come out of the model are probabilities. Use any loss function or optimizer that you think are reasonable. Fit your model.\n",
    "    \n",
    "Calculate the model's predictions (probabilities) on the test set. Use 0.5 as a threshold to binarize the probabilities into 'predicted malignant' and 'predicted benign' categories. For what proportion of the patients in the test set is your prediction correct (this is the *accuracy* metric)? Among those who were really malignant, how many did your model actually predict were malignant (this is the *recall* or *sensitivity*)? Among those who your model predicted were malignant, how many actually were malignant (this is the *precision*)?\n",
    "\n",
    "Make changes to your architechture, training loss, and/or optimizer. How do your results change? See if there are changes you can make that consistently improve your performance in one or all of these metrics.\n",
    "\n",
    "---"
   ]
  }
 ],
 "metadata": {
  "kernelspec": {
   "display_name": "Python 3",
   "language": "python",
   "name": "python3"
  },
  "language_info": {
   "codemirror_mode": {
    "name": "ipython",
    "version": 3
   },
   "file_extension": ".py",
   "mimetype": "text/x-python",
   "name": "python",
   "nbconvert_exporter": "python",
   "pygments_lexer": "ipython3",
   "version": "3.7.6"
  },
  "toc-autonumbering": true,
  "toc-showcode": false,
  "toc-showmarkdowntxt": false,
  "toc-showtags": false
 },
 "nbformat": 4,
 "nbformat_minor": 4
}
