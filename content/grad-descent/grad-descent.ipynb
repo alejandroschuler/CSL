{
 "cells": [
  {
   "cell_type": "markdown",
   "metadata": {},
   "source": [
    "# Fitting Models with Gradient Descent"
   ]
  },
  {
   "cell_type": "markdown",
   "metadata": {},
   "source": [
    "Gradient descent and its cousins are the core of many machine learning methods. Building a predictive model boils down to searching for some version of the model that best fits the data. But what do we mean by a \"version\" of the model and \"fit\"? And, once we make those concepts concrete, how do we find that best model? Let's dig in."
   ]
  },
  {
   "cell_type": "markdown",
   "metadata": {},
   "source": [
    "## Motivation: Linear Regression"
   ]
  },
  {
   "cell_type": "markdown",
   "metadata": {},
   "source": [
    "### Data and setup"
   ]
  },
  {
   "cell_type": "markdown",
   "metadata": {},
   "source": [
    "Let's say we observe $n$ patients in a hospital, each of whom has measurements of their pre-treatment blood pressure, heart rate, etc. and also their corresponding blood pressure after taking a drug. For a new patient who walks in the door, given their current vital signs, can we predict their post-treatment blood pressure? \n",
    "\n",
    "The data for this kind of problem is most often formulated as vectors and matrices. We usually say that the $i$th patient's pre-treatment values are $x_i = [x_{i1}, x_{i2} \\dots x_{ip}]$, so $x_{i1}$ is patient $i$'s pre-treatment blood pressure, $x_{i2}$ is their heart rate, etc. We also usually call the post-treatment blood pressure measurement for each patient $y_i$. So our goal is to predict $y_i$ from $x_i$ for a new patient who walks in the door.\n",
    "\n",
    "Now we can stack up all the measurements for all the patients like this:"
   ]
  },
  {
   "cell_type": "markdown",
   "metadata": {},
   "source": [
    "$$\n",
    "X = \\left[\n",
    "\\begin{array}{cccc}\n",
    "x_{11} & x_{12} & \\cdots & x_{1p} \\\\\n",
    "x_{21} & x_{22} & \\cdots & x_{2p} \\\\\n",
    "\\vdots & & \\ddots & \\vdots \\\\\n",
    "x_{n1} & x_{n2} & \\cdots & x_{np} \n",
    "\\end{array}\n",
    "\\right] = \n",
    "\\left[\n",
    "\\begin{array}{cccc}\n",
    "-3.2 & 28 & \\cdots & 66 \\\\\n",
    "8 & 22 & \\cdots & 6.8 \\\\\n",
    "\\vdots & & \\ddots & \\vdots \\\\\n",
    "0.54 & 10 & \\cdots & 13 \n",
    "\\end{array}\n",
    "\\right]\n",
    "\\quad\\quad\n",
    "y = \n",
    "\\left[\n",
    "\\begin{array}{c}\n",
    "y_1 \\\\ y_2 \\\\ \\vdots \\\\ y_n\n",
    "\\end{array}\n",
    "\\right] \n",
    "= \n",
    "\\left[\n",
    "\\begin{array}{c}\n",
    "3.3 \\\\ 21.2 \\\\ \\vdots \\\\ -9.97\n",
    "\\end{array}\n",
    "\\right] \n",
    "$$"
   ]
  },
  {
   "cell_type": "markdown",
   "metadata": {},
   "source": [
    "We used pre-treatment vitals and post-treatment blood pressure as the predictors (or features) and outcome (or target) in our example, but this is the way we usually think of the data, no matter what the predictors and outcome are."
   ]
  },
  {
   "cell_type": "markdown",
   "metadata": {},
   "source": [
    "### Predicting"
   ]
  },
  {
   "cell_type": "markdown",
   "metadata": {},
   "source": [
    "There are an infinite number of strategies we could use to try and guess what the relationship between $y_i$ and $x_i$ might be. We're going to presume that there is some relationship $y_i = f(x_i)$, and we want to figure out what $f$ is. You can think of the \"real\" $f$ as the function that the gods use to decide what a patient's blood pressure will be after treatment, given that the pre-treatment vitals were $x_i$. "
   ]
  },
  {
   "cell_type": "markdown",
   "metadata": {},
   "source": [
    "Since we don't know what $f$ is, we're going to try and guess. To make our job easier, we'll assume $f$ is a linear function of the form $x_i \\beta + \\alpha$. Our problem now reduces to guessing what the right $\\alpha$ and $\\beta$ are. "
   ]
  },
  {
   "cell_type": "markdown",
   "metadata": {},
   "source": [
    "<div class=\"alert alert-block alert-danger\">\n",
    "<b>WARNING:</b> Saying $f$ is linear (or of some other form) when it's really not is called <i>model misspecification</i>. We never know for sure the form that $f$ has, so in reality our models are almost always misspecified. If we only use the model for <i>prediction</i>, misspecification  doesn't invalidate the approach, it just means that the predictions won't be as accurate as they otherwise could be. On the other hand, if the model is used for <i>inference</i> (i.e. to estimate the effect of a variable on the outcome, with p-values, confidence intervals, etc.), then misspecification often invalidates the result. Be aware of this distinction.\n",
    "</div>"
   ]
  },
  {
   "cell_type": "markdown",
   "metadata": {},
   "source": [
    "Let's play god and simulate some data where a linear relationship actually does hold between $x_i$ and $y_i$ (and let's [use neat unicode symbols](https://github.com/jupyter/jupyter/issues/327) in our code!):"
   ]
  },
  {
   "cell_type": "code",
   "execution_count": 70,
   "metadata": {},
   "outputs": [],
   "source": [
    "import numpy as np\n",
    "\n",
    "def to_array(β):\n",
    "    if type(β) in (float, int, np.float64):\n",
    "        return np.array([β]) # handle the case where user passes in a single number\n",
    "    if type(β) is list:\n",
    "        return np.array(β) # handle the case where user passes in a list\n",
    "    return β\n",
    "\n",
    "def simulate_linear(n, β=1, α=0, σ=1):\n",
    "    β = to_array(β)\n",
    "    p = len(β) # number of predictors we want\n",
    "    X = np.random.rand(n,p)\n",
    "    ϵ = np.random.normal(scale=σ, size=n) # random noise\n",
    "    y = α + X@β + ϵ\n",
    "    return X, y"
   ]
  },
  {
   "cell_type": "code",
   "execution_count": 71,
   "metadata": {},
   "outputs": [],
   "source": [
    "X,y = simulate_linear(100, α=1, β=[1,-3,12])"
   ]
  },
  {
   "cell_type": "markdown",
   "metadata": {},
   "source": [
    "Ok, now let's go back to being mere mortals. All we see are the data $X$ and $y$. We don't know for sure that the relationship is linear, and much less what $\\alpha$ and $\\beta$ were. But we're going to take a leap of faith and pretend it's linear. The worst that happens is our predictions won't be very good."
   ]
  },
  {
   "cell_type": "markdown",
   "metadata": {},
   "source": [
    "Now all we need to do is find some values $\\beta = [\\beta_1, \\dots \\beta_p]^T$ and $\\alpha$ so that $y_i \\approx  x_i \\beta + \\alpha$ for all observed $y_i$ and $x_i$ in the data. That is, we need to find the values that make the model best \"fit\" the data. Once we have those best values, we can feed the vitals of a new patient $x_i$ into the formula $x_i \\beta + \\alpha$ to guess what their blood pressure $y_i$ will be. We often call the estimate $\\hat y_i = x_i \\beta + \\alpha$. This whole process is called linear regression, which many of you are likely familiar with."
   ]
  },
  {
   "cell_type": "markdown",
   "metadata": {},
   "source": [
    "We can set up a little `LinearModel` class in python that encapsulates what we've said so far."
   ]
  },
  {
   "cell_type": "code",
   "execution_count": 72,
   "metadata": {},
   "outputs": [],
   "source": [
    "import numpy as np\n",
    "\n",
    "class LinearModel():\n",
    "    def __init__(self, α=None, β=None): \n",
    "        self.α = α # these are the \"parameters\" of the model\n",
    "        self.β = to_array(β)\n",
    "        \n",
    "    def predict(self, X):\n",
    "        return self.α + X @ self.β # returns ŷ"
   ]
  },
  {
   "cell_type": "markdown",
   "metadata": {},
   "source": [
    "And we can test it out:"
   ]
  },
  {
   "cell_type": "code",
   "execution_count": 73,
   "metadata": {},
   "outputs": [
    {
     "name": "stdout",
     "output_type": "stream",
     "text": [
      "ŷ = [-16.82418122 -21.34641851 -17.74430885 -25.26176827 -10.44248974]\n",
      "y = [ 5.21094395 10.40076584  2.31874359  2.48774792  7.93600976]\n"
     ]
    }
   ],
   "source": [
    "model = LinearModel(α=1, β=[1.1,-33,9]) # make a model with these coefficients\n",
    "print(f'ŷ = {model.predict(X[0:5,:])}')\n",
    "print(f'y = {y[0:5]}')"
   ]
  },
  {
   "cell_type": "markdown",
   "metadata": {},
   "source": [
    "<div class=\"alert alert-block alert-info\">\n",
    "<b>Exercise:</b> \n",
    "\n",
    "Make a scatterplot of the $\\hat y_i$ values (x-axis) against the corresponding $y_i$ values (y-axis) that are calculated in this code. You can read this plot as \"when we predict $\\hat y$, the real values are usually around $y$\". What do you see in the plot? What would signify a \"good\" model? Change the values of $\\alpha$ and $\\beta$ and see how the plot changes.\n",
    "    \n",
    "</div>"
   ]
  },
  {
   "cell_type": "markdown",
   "metadata": {},
   "source": [
    "Obviously the predictions look very far off since we picked the values of $\\alpha$ and $\\beta$ at random"
   ]
  },
  {
   "cell_type": "markdown",
   "metadata": {},
   "source": [
    "The question is: how do we find $\\beta$ and $\\alpha$ so that $y_i \\approx  x_i \\beta + \\alpha$? "
   ]
  },
  {
   "cell_type": "markdown",
   "metadata": {},
   "source": [
    "### Defining a Loss"
   ]
  },
  {
   "cell_type": "markdown",
   "metadata": {},
   "source": [
    "The first thing to do is quantitatively define what we mean by \"$\\approx$\". We need a rule that tells us how good our approximation $\\hat y_i$ is if the real blood pressure is $y_i$. We call that rule a *loss function* (sometimes also *cost* or *objective*). The loss tells us how much we \"lose\" by approximating $y_i$ with whatever value $\\hat y_i$ is. Ultimately that depends on what's important in the problem at hand, but often we default to using the squared-error loss function: $(y_i -  \\hat y_i)^2$ The intuition is simple: all we're doing is subtracting the estimate from the real value and squaring the result to make positive and negative deviations equal in penalty. So estimates that are numerically far from the truth are penalized higher, regardless of which direction they are off.\n",
    "\n",
    "To calculate the loss over the whole dataset (instead of just one individual $i$), we average the losses across each individual: $\\frac{1}{n}\\sum_i (y_i -  \\hat y_i)^2$. This is called *mean-squared error* (MSE) loss. In python:"
   ]
  },
  {
   "cell_type": "code",
   "execution_count": 74,
   "metadata": {},
   "outputs": [],
   "source": [
    "def mse(y, ŷ):\n",
    "    return np.mean(np.square(y-ŷ))"
   ]
  },
  {
   "cell_type": "markdown",
   "metadata": {},
   "source": [
    "Now we have a concrete notion of \"$\\approx$\": the lower the loss when using the estimate $\\hat y$, the better the approximation. So what we need to do is find the estimate that minimizes the loss.\n",
    "\n",
    "If we plug in $\\hat y_i = x_i \\beta + \\alpha$, what we're looking for are values of $\\alpha$ and $\\beta$ that minimize the loss $\\frac{1}{n} \\sum_i(y_i - (x_i\\beta + \\alpha))^2$. So although we introduced the loss as a function of the truth $y_i$ and the estimate $\\hat y_i$, we can look at it instead as a function of the parameters $\\alpha$ and $\\beta$: $L(\\alpha, \\beta) = \\frac{1}{n} \\sum_i(y_i - (x_i\\beta + \\alpha))^2$. The parameters are the only thing we can actually control to change the loss since $x_i$ and $y_i$ are just constants that are determined by the observed data.\n",
    "\n",
    "So how do we find the $\\alpha$ and $\\beta$ that minimize the loss?"
   ]
  },
  {
   "cell_type": "markdown",
   "metadata": {},
   "source": [
    "## Intuition: Turning the knobs"
   ]
  },
  {
   "cell_type": "markdown",
   "metadata": {},
   "source": [
    "I find it useful to think about optimization problems in the following way: we have a complicated machine that makes an obnixous racket when it runs. Thankfully, the machine has a control panel with a bunch of knobs that together might increase or decrease the horrible noise."
   ]
  },
  {
   "cell_type": "markdown",
   "metadata": {},
   "source": [
    "![](https://upload.wikimedia.org/wikipedia/commons/6/6a/TASCAM_M-520_knobs.jpg)"
   ]
  },
  {
   "cell_type": "markdown",
   "metadata": {},
   "source": [
    "We don't know what position of the knobs produces the quietest running conditions, but by twisting them to a particular configuration, we can hear how noisy the machine is in that configuration."
   ]
  },
  {
   "cell_type": "markdown",
   "metadata": {},
   "source": [
    "In our analogy, the knobs are the *parameters* of our model ($\\alpha$ and $\\beta$ in our example above), the machine is the loss function composed with the prediction equation, and the volume of the noise is the value of the loss function at a particular setting of the parameters $L(\\alpha, \\beta)$. "
   ]
  },
  {
   "cell_type": "markdown",
   "metadata": {},
   "source": [
    "We can also visualize the loss as a surface. The horizontal axes correspond to the values of the parameters, while the vertical axis corresponds to the value of the loss at that set of parameter values. So when you're twisting each knob clockwise or counterclockwise, you're moving either right or left along one of the horizontal axes. The corresponding noise level of the machine is given by the height of the surface at that point.\n",
    "\n",
    "![](https://waveopt-lab.uic.edu/wp-content/uploads/2016/07/nonconvex.jpg)"
   ]
  },
  {
   "cell_type": "markdown",
   "metadata": {},
   "source": [
    "The optimum point that we're looking for is the value of the parameters that minimizes the loss- so the lowest point on the surface. If there are more than two parameters ($p>2$), there will be more than two \"horizontal\" axes and it is no longer possible to visualize this surface, but you can still think about it basically the same way. There is some \"lowest point\" on a surface in $p+1$-dimensional space, which is the configuration of the $p$ knobs that makes the machine run as quietly as possible."
   ]
  },
  {
   "cell_type": "markdown",
   "metadata": {},
   "source": [
    "In general, we'll call the set of $p$ parameters $\\theta = [\\theta_1, \\dots \\theta_p]^T$ (these are our \"knobs\") and we'll call the loss function $L$. "
   ]
  },
  {
   "cell_type": "markdown",
   "metadata": {},
   "source": [
    "Don't confuse the surface of the loss function $L(\\alpha, \\beta)$ with the \"surface\" of the regression function $f_{\\alpha, \\beta}(x) = \\alpha + x\\beta$. When most people think about linear regression, the first thing that comes to mind is a line going through some points on a scatterplot (or a \"plane\" going through a \"cloud\" of points in higher dimensions)- that's $f_{\\alpha, \\beta}(x)$, for some particular values of $\\alpha$ and $\\beta$. But it's actually much more useful to think about the loss surface, which tells us how good each potential model is:"
   ]
  },
  {
   "cell_type": "markdown",
   "metadata": {},
   "source": [
    "![](loss_didactic.png)"
   ]
  },
  {
   "cell_type": "markdown",
   "metadata": {},
   "source": [
    "In this figure we see three different lines fit through the same set of points. Each of those is a different regression function $f_{\\alpha, \\beta}$, which is uniqely identified by the values of $\\alpha$, $\\beta$ used to draw the line. In higher dimensions, these would be \"surfaces\" that map a value of $x$ to a prediction $\\hat y$. Each of these are *regression surfaces*, not the loss surface. What the loss function does is assign a value $L$ to *each* of those surfaces (regression functions). Since each regression function is uniquely identified by its parameters, we can thus think of the loss as assigning a value $L$ to each set of parameters."
   ]
  },
  {
   "cell_type": "markdown",
   "metadata": {},
   "source": [
    "<div class=\"alert alert-block alert-info\">\n",
    "<b>Exercise:</b> \n",
    "\n",
    "Instead of going through the trouble of finding a good $\\alpha$ and $\\beta$ for the data show in the scatterplot above, what if we just predict the average observed outcome for any future observations? In other words, let's use the prediction equation $\\hat y = \\hat f(x) = \\frac{1}{n} \\sum_i x_i = \\bar x$. Well, that's actually the same as saying $\\alpha=\\bar x$ and $\\beta =0$. \n",
    "    \n",
    "Looking at the scatterplot, let's say $\\bar x = 0$. In your head, add a facet to the plot (above center) with the line corresponding to this model drawn through it. Looking at that in your mind's eye, do you think it's a particularly good model compared to the other ones shown here? What about compared to a model with $\\alpha=200$ and $\\beta=0$? Draw a dotted line in your head mapping these models to where they fall in the parameter space (above right). How does the loss function feel about these two models? Does it agree with your intuition?\n",
    "    \n",
    "</div>"
   ]
  },
  {
   "cell_type": "markdown",
   "metadata": {},
   "source": [
    "## Optimization by Random Search"
   ]
  },
  {
   "cell_type": "markdown",
   "metadata": {},
   "source": [
    "One way to try and find a \"good-enough\" value of $\\theta$ is to try lots of different values at random and pick whichever happens to produce the lowest loss. Let's try it out. "
   ]
  },
  {
   "cell_type": "markdown",
   "metadata": {},
   "source": [
    "First, for purposes of this demonstration, let's simplify the problem. We'll work in a setting where $X$ has only one column, meaning that $\\beta$ is a scalar value and not a vector. That means our linear model has only two parameters, $\\alpha$, and $\\beta$."
   ]
  },
  {
   "cell_type": "code",
   "execution_count": 75,
   "metadata": {},
   "outputs": [],
   "source": [
    "X,y = simulate_linear(100, α=0, β=1, σ=0.25) # remember, in reality we don't know what these numbers actually are"
   ]
  },
  {
   "cell_type": "code",
   "execution_count": 76,
   "metadata": {},
   "outputs": [],
   "source": [
    "αs = []\n",
    "βs = []\n",
    "losses = []\n",
    "\n",
    "for guess in range(100):\n",
    "    α = 200*np.random.rand(1)-100 # guess α is a number between -100 and 100\n",
    "    β = 200*np.random.rand(1)-100 # guess β is a number between -100 and 100\n",
    "    \n",
    "    model = LinearModel(α, β)\n",
    "    loss = mse(y, model.predict(X))\n",
    "    \n",
    "    losses.append(loss.item()) # .item() extracts the value out of the 1x1 array into a float\n",
    "    αs.append(α.item())\n",
    "    βs.append(β.item())"
   ]
  },
  {
   "cell_type": "code",
   "execution_count": 77,
   "metadata": {
    "tags": [
     "hide_input"
    ]
   },
   "outputs": [],
   "source": [
    "import pandas as pd\n",
    "import altair as alt\n",
    "random_guess_data = pd.DataFrame({'α':αs, 'β':βs, 'loss':losses})"
   ]
  },
  {
   "cell_type": "code",
   "execution_count": 78,
   "metadata": {
    "tags": [
     "hide_input"
    ]
   },
   "outputs": [
    {
     "data": {
      "application/vnd.vegalite.v3+json": {
       "$schema": "https://vega.github.io/schema/vega-lite/v3.4.0.json",
       "config": {
        "mark": {
         "tooltip": null
        },
        "view": {
         "height": 300,
         "width": 400
        }
       },
       "data": {
        "name": "data-fbbdaf038541b2e546fc7875dc3b60d0"
       },
       "datasets": {
        "data-fbbdaf038541b2e546fc7875dc3b60d0": [
         {
          "loss": 6976.560706621052,
          "α": -27.859422535668287,
          "β": -98.05953387896089
         },
         {
          "loss": 1961.0111110252606,
          "α": 3.2719375003224656,
          "β": 71.51121227362759
         },
         {
          "loss": 3852.7756971251756,
          "α": -93.60049643030086,
          "β": 70.44211770734887
         },
         {
          "loss": 3851.660336418691,
          "α": -86.42992749153655,
          "β": 53.16571945229552
         },
         {
          "loss": 1102.2710713152965,
          "α": -61.89954714677049,
          "β": 73.95870931713603
         },
         {
          "loss": 3791.719599121212,
          "α": 32.2474601835616,
          "β": 54.787593767320146
         },
         {
          "loss": 3919.0739872362947,
          "α": -63.34097011701385,
          "β": 2.568542845753214
         },
         {
          "loss": 524.8867494863271,
          "α": 2.534330678403606,
          "β": 36.25304021355649
         },
         {
          "loss": 4289.513363229297,
          "α": 84.76230435203874,
          "β": -39.13782178203269
         },
         {
          "loss": 212.6419105508304,
          "α": 0.8055817309063968,
          "β": 24.67607224268194
         },
         {
          "loss": 165.82915601584776,
          "α": -24.060229797545475,
          "β": 42.92078396399245
         },
         {
          "loss": 9459.924426015472,
          "α": 53.28534748802764,
          "β": 81.89222853196429
         },
         {
          "loss": 623.3277063316687,
          "α": 48.8933030101235,
          "β": -66.53096002312277
         },
         {
          "loss": 435.51647871081497,
          "α": 34.09585569804935,
          "β": -68.57082524204404
         },
         {
          "loss": 5446.660701157982,
          "α": -17.289943928629242,
          "β": -98.16322635812449
         },
         {
          "loss": 1757.0312744882424,
          "α": 70.63150450240579,
          "β": -65.54617591478214
         },
         {
          "loss": 65.72361245835079,
          "α": -1.1045340221990614,
          "β": -11.038690570539146
         },
         {
          "loss": 3034.10282456555,
          "α": 34.542523959034924,
          "β": 39.28299997251091
         },
         {
          "loss": 354.5049245178427,
          "α": -36.29461989110514,
          "β": 48.207767919903944
         },
         {
          "loss": 12836.502595534352,
          "α": 81.17379892210442,
          "β": 61.64637286173112
         },
         {
          "loss": 4606.571766544063,
          "α": 26.26796321562756,
          "β": 75.75889728764378
         },
         {
          "loss": 5227.239717114189,
          "α": -93.11156843883175,
          "β": 44.53963680976895
         },
         {
          "loss": 584.442912430148,
          "α": -46.17444663565886,
          "β": 78.11393765556929
         },
         {
          "loss": 446.59597874394035,
          "α": 17.638248808326807,
          "β": 7.808866403524121
         },
         {
          "loss": 898.4887712928029,
          "α": -9.739315568193547,
          "β": 65.57090844715577
         },
         {
          "loss": 7674.69980178232,
          "α": 38.00544002559363,
          "β": 90.7136854974919
         },
         {
          "loss": 6196.5943545236005,
          "α": 36.00389319249712,
          "β": 78.53665337129652
         },
         {
          "loss": 11098.52701079982,
          "α": -75.68633936296045,
          "β": -54.828979992667826
         },
         {
          "loss": 773.8806628502035,
          "α": 53.51241257451065,
          "β": -87.05381573229289
         },
         {
          "loss": 2948.453569498383,
          "α": -17.843211945397755,
          "β": -63.79833225576088
         },
         {
          "loss": 2045.020386850615,
          "α": 7.207706374733689,
          "β": -86.07885713086951
         },
         {
          "loss": 1241.8801708869569,
          "α": 37.07778983262503,
          "β": -2.5562783452947286
         },
         {
          "loss": 3489.8994070594413,
          "α": -60.22795276839836,
          "β": 3.391370611679463
         },
         {
          "loss": 2289.311671237667,
          "α": -81.92379133712357,
          "β": 81.12322519134122
         },
         {
          "loss": 3174.084071713878,
          "α": 19.772288191620177,
          "β": 66.37965030808698
         },
         {
          "loss": 263.41866571938283,
          "α": -29.195276207457965,
          "β": 32.800020244328465
         },
         {
          "loss": 11106.607579498037,
          "α": -65.7392039453527,
          "β": -72.58292793624759
         },
         {
          "loss": 5314.35198221288,
          "α": -23.852600990940132,
          "β": -86.19077962362138
         },
         {
          "loss": 860.8406500682032,
          "α": 3.4873308259029585,
          "β": -53.80071640910222
         },
         {
          "loss": 4682.104030406511,
          "α": 77.65449795403899,
          "β": -17.56463552169349
         },
         {
          "loss": 2644.211172744424,
          "α": -13.536235940124314,
          "β": -65.7219489870909
         },
         {
          "loss": 9299.509005894413,
          "α": -99.02374222237256,
          "β": 6.245403905772434
         },
         {
          "loss": 410.6850196689457,
          "α": 33.69741131532379,
          "β": -66.63737307074184
         },
         {
          "loss": 3180.095864148883,
          "α": 25.239844928550184,
          "β": 57.49259162400679
         },
         {
          "loss": 17420.484651236722,
          "α": 79.49072332243531,
          "β": 98.33161673579477
         },
         {
          "loss": 4528.471176366437,
          "α": 39.76773547960798,
          "β": 51.99347688156632
         },
         {
          "loss": 3430.0844436244156,
          "α": 1.1033427509156155,
          "β": 99.01052209207072
         },
         {
          "loss": 4944.8182864036335,
          "α": -74.15966544621197,
          "β": 8.7653691975395
         },
         {
          "loss": 1048.1487695632031,
          "α": 14.500252809453528,
          "β": 33.45368484345906
         },
         {
          "loss": 1147.0157709653276,
          "α": 30.24588563636931,
          "β": -94.4696961391339
         },
         {
          "loss": 4144.284321294437,
          "α": 24.201527135559076,
          "β": 73.07905589145594
         },
         {
          "loss": 5569.911280688105,
          "α": -44.42550687094426,
          "β": -54.79647282459838
         },
         {
          "loss": 660.8833181653837,
          "α": 46.9247206353445,
          "β": -51.30101545361674
         },
         {
          "loss": 2581.1741505522227,
          "α": -73.03885745077054,
          "β": 49.126012629465265
         },
         {
          "loss": 773.1291911844614,
          "α": -36.332287658126376,
          "β": 89.50028341677583
         },
         {
          "loss": 926.0335445312303,
          "α": 3.791090356248432,
          "β": 47.15554395805921
         },
         {
          "loss": 414.4883443394091,
          "α": 38.57418275495627,
          "β": -46.04883134376945
         },
         {
          "loss": 12151.970462252799,
          "α": 83.37236351468567,
          "β": 52.047746970936515
         },
         {
          "loss": 12469.164953451873,
          "α": 94.63953967585883,
          "β": 33.86665140617092
         },
         {
          "loss": 2689.323535759204,
          "α": 29.295210964074215,
          "β": 42.65399284237955
         },
         {
          "loss": 13903.824915292163,
          "α": -76.32445500241187,
          "β": -76.46560149627224
         },
         {
          "loss": 744.7309034917823,
          "α": -16.308407262602273,
          "β": 69.11637766095916
         },
         {
          "loss": 10652.96269802127,
          "α": -85.51437227936145,
          "β": -32.85495322496821
         },
         {
          "loss": 1601.8294749966144,
          "α": 23.54338732424823,
          "β": -98.28647510567433
         },
         {
          "loss": 326.6670684364139,
          "α": 35.37854318591951,
          "β": -47.59167673951208
         },
         {
          "loss": 10748.738502472374,
          "α": -56.6833157293108,
          "β": -85.23242816469627
         },
         {
          "loss": 8023.735727553123,
          "α": -65.71809225170716,
          "β": -43.98860585005122
         },
         {
          "loss": 1374.3143901221943,
          "α": -15.041467993610809,
          "β": -38.554322241019335
         },
         {
          "loss": 8698.173270396957,
          "α": -96.81098320898059,
          "β": 8.158825841118272
         },
         {
          "loss": 8109.564675951486,
          "α": -37.06755844537104,
          "β": -94.3437627429563
         },
         {
          "loss": 4498.059653377879,
          "α": -43.380034668765234,
          "β": -43.07532327844896
         },
         {
          "loss": 15498.176119247388,
          "α": 83.05142329568613,
          "β": 78.61257752081673
         },
         {
          "loss": 17749.88071858582,
          "α": -81.16615456140312,
          "β": -95.43995321877443
         },
         {
          "loss": 7122.872887292127,
          "α": 29.464426149700074,
          "β": 99.1476596145049
         },
         {
          "loss": 7207.260012514019,
          "α": 45.79528820045081,
          "β": 72.84279690954324
         },
         {
          "loss": 3455.5493526888267,
          "α": 57.020383815834606,
          "β": 4.567854883078198
         },
         {
          "loss": 12814.094757123295,
          "α": 68.8945519889808,
          "β": 83.23767812286914
         },
         {
          "loss": 3538.274625690228,
          "α": 81.3935957709956,
          "β": -45.40955081582672
         },
         {
          "loss": 4844.352247358029,
          "α": -94.00172702609677,
          "β": 52.73128884157637
         },
         {
          "loss": 2249.5634541260283,
          "α": 61.645364571601135,
          "β": -28.618382640099156
         },
         {
          "loss": 2481.640402639058,
          "α": -90.08516173942387,
          "β": 99.86361655556976
         },
         {
          "loss": 2643.016187018382,
          "α": 4.197865810328565,
          "β": 82.2485227378587
         },
         {
          "loss": 316.7927595237074,
          "α": -12.185795613577326,
          "β": 47.249886787846776
         },
         {
          "loss": 11494.913278227255,
          "α": 54.482583157578176,
          "β": 97.41183674084832
         },
         {
          "loss": 7381.316970774593,
          "α": 84.84672025533243,
          "β": 3.2086626025921845
         },
         {
          "loss": 3986.2070092750087,
          "α": -4.301427458237711,
          "β": -99.87340659167417
         },
         {
          "loss": 1601.624955974331,
          "α": 74.81766940748085,
          "β": -87.31927634367491
         },
         {
          "loss": 2619.8744402792677,
          "α": 40.00845828121459,
          "β": 22.38006316497254
         },
         {
          "loss": 6411.292878544805,
          "α": -58.677619221010666,
          "β": -39.32602852270757
         },
         {
          "loss": 1852.8032679052492,
          "α": 40.43345721116887,
          "β": 6.203877397533162
         },
         {
          "loss": 7169.62826574033,
          "α": -95.05807475998739,
          "β": 22.07573597950497
         },
         {
          "loss": 2192.9172155589335,
          "α": 63.32604297353822,
          "β": -33.788743034221255
         },
         {
          "loss": 1847.3695945074114,
          "α": 53.7737605607021,
          "β": -21.2316130170382
         },
         {
          "loss": 374.1713894533692,
          "α": 7.998824794331497,
          "β": 21.526218266811355
         },
         {
          "loss": 142.3226071962714,
          "α": -0.2163603832508727,
          "β": -18.87335873998508
         },
         {
          "loss": 6391.598840714523,
          "α": -87.13665179109285,
          "β": 15.53588907711945
         },
         {
          "loss": 2241.219288571111,
          "α": 53.51750947905222,
          "β": -11.377877192605041
         },
         {
          "loss": 3169.068434704502,
          "α": 76.80581402063646,
          "β": -42.39958286594883
         },
         {
          "loss": 2246.6123036459185,
          "α": -76.53149365998203,
          "β": 67.20686338744156
         },
         {
          "loss": 5613.909190563109,
          "α": -57.246842374348695,
          "β": -32.47152922672076
         }
        ]
       },
       "encoding": {
        "color": {
         "field": "loss",
         "scale": {
          "scheme": "viridis"
         },
         "type": "quantitative"
        },
        "x": {
         "field": "α",
         "type": "quantitative"
        },
        "y": {
         "field": "β",
         "type": "quantitative"
        }
       },
       "mark": "point"
      },
      "image/png": "[encoded data removed]",
      "text/plain": [
       "<VegaLite 3 object>\n",
       "\n",
       "If you see this message, it means the renderer has not been properly enabled\n",
       "for the frontend that you are using. For more information, see\n",
       "https://altair-viz.github.io/user_guide/troubleshooting.html\n"
      ]
     },
     "execution_count": 78,
     "metadata": {},
     "output_type": "execute_result"
    }
   ],
   "source": [
    "alt.Chart(random_guess_data).mark_point().encode(\n",
    "    x = 'α',\n",
    "    y = 'β',\n",
    "    color = alt.Color('loss', scale=alt.Scale(scheme='viridis'))\n",
    ")"
   ]
  },
  {
   "cell_type": "markdown",
   "metadata": {},
   "source": [
    "Here I've plotted each of our guesses $(\\alpha, \\beta)$ and the value of the loss at that point (in color). \n",
    "\n",
    "All we need to do is sort all the guesses in order of their loss and pick the ones that attained the lowest loss:"
   ]
  },
  {
   "cell_type": "code",
   "execution_count": 79,
   "metadata": {},
   "outputs": [
    {
     "data": {
      "text/html": [
       "<div>\n",
       "<style scoped>\n",
       "    .dataframe tbody tr th:only-of-type {\n",
       "        vertical-align: middle;\n",
       "    }\n",
       "\n",
       "    .dataframe tbody tr th {\n",
       "        vertical-align: top;\n",
       "    }\n",
       "\n",
       "    .dataframe thead th {\n",
       "        text-align: right;\n",
       "    }\n",
       "</style>\n",
       "<table border=\"1\" class=\"dataframe\">\n",
       "  <thead>\n",
       "    <tr style=\"text-align: right;\">\n",
       "      <th></th>\n",
       "      <th>α</th>\n",
       "      <th>β</th>\n",
       "      <th>loss</th>\n",
       "    </tr>\n",
       "  </thead>\n",
       "  <tbody>\n",
       "    <tr>\n",
       "      <th>16</th>\n",
       "      <td>-1.104534</td>\n",
       "      <td>-11.038691</td>\n",
       "      <td>65.723612</td>\n",
       "    </tr>\n",
       "  </tbody>\n",
       "</table>\n",
       "</div>"
      ],
      "text/plain": [
       "           α          β       loss\n",
       "16 -1.104534 -11.038691  65.723612"
      ]
     },
     "execution_count": 79,
     "metadata": {},
     "output_type": "execute_result"
    }
   ],
   "source": [
    "best_guess = random_guess_data[random_guess_data.loss == random_guess_data.loss.min()]\n",
    "best_guess"
   ]
  },
  {
   "cell_type": "markdown",
   "metadata": {},
   "source": [
    "This is the best-fit model out of all our random guesses. Let's plot it."
   ]
  },
  {
   "cell_type": "code",
   "execution_count": 80,
   "metadata": {},
   "outputs": [],
   "source": [
    "best_model = LinearModel(α=best_guess['α'].to_numpy(), \n",
    "                         β=best_guess['β'].to_numpy())\n",
    "ŷ = best_model.predict(X)"
   ]
  },
  {
   "cell_type": "code",
   "execution_count": 81,
   "metadata": {
    "tags": [
     "hide_input"
    ]
   },
   "outputs": [
    {
     "data": {
      "application/vnd.vegalite.v3+json": {
       "$schema": "https://vega.github.io/schema/vega-lite/v3.4.0.json",
       "config": {
        "mark": {
         "tooltip": null
        },
        "view": {
         "height": 300,
         "width": 400
        }
       },
       "data": {
        "name": "data-5c862031b724f5378cc637590ae7d269"
       },
       "datasets": {
        "data-5c862031b724f5378cc637590ae7d269": [
         {
          "x": 0.5987846739343763,
          "y": 1.3118667364161227,
          "ŷ": -7.714332756141818
         },
         {
          "x": 0.8424407973694499,
          "y": 0.8490971420818828,
          "ŷ": -10.403977308358687
         },
         {
          "x": 0.8294141513004711,
          "y": 0.6578060589496378,
          "ŷ": -10.2601801932313
         },
         {
          "x": 0.6024510895419215,
          "y": 0.5921210241728928,
          "ŷ": -7.754805183536504
         },
         {
          "x": 0.7057869209206651,
          "y": 1.0265976614141334,
          "ŷ": -8.895497450975864
         },
         {
          "x": 0.4099668961204632,
          "y": 0.3577858286946065,
          "ŷ": -5.63003173263722
         },
         {
          "x": 0.33723333892517904,
          "y": -0.17498240154512745,
          "ŷ": -4.827148500663867
         },
         {
          "x": 0.5057513456221062,
          "y": 0.5491093996411804,
          "ŷ": -6.68736663215529
         },
         {
          "x": 0.42231577812957366,
          "y": 0.2806259080083724,
          "ŷ": -5.766347220027888
         },
         {
          "x": 0.24010800690936562,
          "y": -0.0565987728219457,
          "ŷ": -3.7550120139804237
         },
         {
          "x": 0.9803165900459224,
          "y": 1.028499552776144,
          "ŷ": -11.925945520882074
         },
         {
          "x": 0.9549774094994739,
          "y": 0.7601238637016751,
          "ŷ": -11.646234147518804
         },
         {
          "x": 0.7606759451192948,
          "y": 0.6122811034932758,
          "ŷ": -9.501400404823373
         },
         {
          "x": 0.5899253543961502,
          "y": 0.4697168466437523,
          "ŷ": -7.616537469093808
         },
         {
          "x": 0.7508228874334147,
          "y": 0.7796010889005982,
          "ŷ": -9.392635549855271
         },
         {
          "x": 0.020594631244065575,
          "y": 0.12340247007920543,
          "ŷ": -1.331871783916659
         },
         {
          "x": 0.6587404289481686,
          "y": 0.9351295327173599,
          "ŷ": -8.376165783662122
         },
         {
          "x": 0.853190586327186,
          "y": 0.8546015040317211,
          "ŷ": -10.522640902361735
         },
         {
          "x": 0.0638653421627915,
          "y": -0.19104572031526063,
          "ŷ": -1.8095237725157238
         },
         {
          "x": 0.4734717892421604,
          "y": 1.1441141969084152,
          "ŷ": -6.331042597522795
         },
         {
          "x": 0.7401552848545511,
          "y": 0.5327096462859159,
          "ŷ": -9.27487918585771
         },
         {
          "x": 0.8645922309077645,
          "y": 0.8756533470980445,
          "ŷ": -10.648500128882004
         },
         {
          "x": 0.2563386207043611,
          "y": 0.301085859684599,
          "ŷ": -3.9341767374333028
         },
         {
          "x": 0.07375757289169826,
          "y": 0.3949344292117252,
          "ŷ": -1.9187210465845048
         },
         {
          "x": 0.5136291649780799,
          "y": 0.653685625215753,
          "ŷ": -6.774327442396487
         },
         {
          "x": 0.8827446685787362,
          "y": 1.2077083825348873,
          "ŷ": -10.84887927143286
         },
         {
          "x": 0.855661228613383,
          "y": 0.8621938692757332,
          "ŷ": -10.549913558069553
         },
         {
          "x": 0.17358545174522333,
          "y": 0.309248570679841,
          "ŷ": -3.0206901115618363
         },
         {
          "x": 0.10350944948192964,
          "y": 0.1511993265389794,
          "ŷ": -2.247142806156936
         },
         {
          "x": 0.8469768037792647,
          "y": 1.374152465723701,
          "ŷ": -10.454048879542615
         },
         {
          "x": 0.47095069565456904,
          "y": 0.7357987241014892,
          "ŷ": -6.303213025510003
         },
         {
          "x": 0.5816129821579624,
          "y": 0.49850532407599496,
          "ŷ": -7.524779764049313
         },
         {
          "x": 0.2751877482274091,
          "y": 0.27355358506623184,
          "ŷ": -4.142246423684863
         },
         {
          "x": 0.6227953521821796,
          "y": 0.34090190945338944,
          "ŷ": -7.979379203708094
         },
         {
          "x": 0.1764352124511307,
          "y": 0.7282081752788023,
          "ŷ": -3.052147738194429
         },
         {
          "x": 0.16873456686955068,
          "y": 0.36083343160915565,
          "ŷ": -2.967142694425977
         },
         {
          "x": 0.12712014408653283,
          "y": 0.4226071033328117,
          "ŷ": -2.507773958052649
         },
         {
          "x": 0.9639195031788156,
          "y": 0.7190898348528454,
          "ŷ": -11.74494315269783
         },
         {
          "x": 0.22740594494355493,
          "y": -0.10195938741081106,
          "ŷ": -3.614797882332025
         },
         {
          "x": 0.9505396931427934,
          "y": 1.317672592798367,
          "ŷ": -11.597247569817588
         },
         {
          "x": 0.6480833327433376,
          "y": 0.8464854155714775,
          "ŷ": -8.258525396276525
         },
         {
          "x": 0.19286915579692288,
          "y": 0.4037777242609091,
          "ŷ": -3.2335569536423994
         },
         {
          "x": 0.11219918709687848,
          "y": 0.003251724913609269,
          "ŷ": -2.3430661308275313
         },
         {
          "x": 0.744024665769346,
          "y": 0.6635823498151061,
          "ŷ": -9.317592084475681
         },
         {
          "x": 0.006704877562602518,
          "y": 0.11832437796121861,
          "ŷ": -1.1785470909259812
         },
         {
          "x": 0.8229132442315118,
          "y": 0.511079189272112,
          "ŷ": -10.188418691669227
         },
         {
          "x": 0.39047275118577907,
          "y": 0.46317075939021257,
          "ŷ": -5.4148418987659985
         },
         {
          "x": 0.017832367556355755,
          "y": -0.05334420705471575,
          "ŷ": -1.3013800097937938
         },
         {
          "x": 0.5873303289227675,
          "y": 0.5499113513752347,
          "ŷ": -7.58789178587047
         },
         {
          "x": 0.9107075887056938,
          "y": 0.6729410632965938,
          "ŷ": -11.157553294163046
         },
         {
          "x": 0.4221597756319919,
          "y": 0.3846487295613044,
          "ŷ": -5.764625156728852
         },
         {
          "x": 0.31830793433818816,
          "y": 0.7296450316903073,
          "ŷ": -4.618236815505813
         },
         {
          "x": 0.3122014982440535,
          "y": 0.19714922252072148,
          "ŷ": -4.550829756973888
         },
         {
          "x": 0.751035500592339,
          "y": 0.5502414016571765,
          "ŷ": -9.394982520727861
         },
         {
          "x": 0.9660213852407469,
          "y": 1.8038599163668398,
          "ŷ": -11.768145178395256
         },
         {
          "x": 0.7551302088858253,
          "y": 0.5121780262798388,
          "ŷ": -9.440182738556276
         },
         {
          "x": 0.4867991295034735,
          "y": 0.24536928667042324,
          "ŷ": -6.478158982795718
         },
         {
          "x": 0.31832531925830243,
          "y": 0.27333495656476525,
          "ŷ": -4.618428722259548
         },
         {
          "x": 0.9204117020484205,
          "y": 0.8660468285551444,
          "ŷ": -11.264673998614846
         },
         {
          "x": 0.46439470424539275,
          "y": -0.05116513351714824,
          "ŷ": -6.230843464960993
         },
         {
          "x": 0.08671662051503115,
          "y": 0.15445750763498922,
          "ŷ": -2.0617719633873572
         },
         {
          "x": 0.044319901296042796,
          "y": 0.2597087139280271,
          "ŷ": -1.5937676987229148
         },
         {
          "x": 0.9258815289648736,
          "y": 0.8027161921283184,
          "ŷ": -11.325053725419979
         },
         {
          "x": 0.3892198421512939,
          "y": 0.14721059203785564,
          "ŷ": -5.401011423621284
         },
         {
          "x": 0.8465940562348813,
          "y": 0.7985575642818336,
          "ŷ": -10.449823847833532
         },
         {
          "x": 0.22944983797816376,
          "y": 0.3840014984449458,
          "ŷ": -3.6373597851003523
         },
         {
          "x": 0.7213267655998385,
          "y": 0.29749508678498165,
          "ŷ": -9.0670369879035
         },
         {
          "x": 0.8242609817245998,
          "y": 1.2436829985361475,
          "ŷ": -10.20329594882574
         },
         {
          "x": 0.6540082169579406,
          "y": 0.4449026072710226,
          "ŷ": -8.3239283597878
         },
         {
          "x": 0.26840636836322873,
          "y": 0.3234678019933449,
          "ŷ": -4.06738886972289
         },
         {
          "x": 0.7885836514015764,
          "y": 0.9810366613509538,
          "ŷ": -9.809464939006972
         },
         {
          "x": 0.587486995825402,
          "y": 0.8777216207513686,
          "ŷ": -7.589621183331297
         },
         {
          "x": 0.7572364376312296,
          "y": 1.2121354222109075,
          "ŷ": -9.46343274594757
         },
         {
          "x": 0.6181671197194574,
          "y": 0.6639014273271164,
          "ŷ": -7.928289577663579
         },
         {
          "x": 0.05997200561728311,
          "y": 0.10421154983997223,
          "ŷ": -1.7665464351028852
         },
         {
          "x": 0.18811324165304988,
          "y": 0.2564316529503738,
          "ŷ": -3.1810578890281347
         },
         {
          "x": 0.5992833241444513,
          "y": 0.641089980290382,
          "ŷ": -7.71983720151377
         },
         {
          "x": 0.07370288181468088,
          "y": 0.37258422547693937,
          "ŷ": -1.9181173287083402
         },
         {
          "x": 0.47880270174758166,
          "y": 0.7597477444106404,
          "ŷ": -6.389888891128758
         },
         {
          "x": 0.8690679109880964,
          "y": 0.679605673219514,
          "ŷ": -10.697905776381514
         },
         {
          "x": 0.8161021010382427,
          "y": 1.0641818256004336,
          "ŷ": -10.113232589527096
         },
         {
          "x": 0.671196967931297,
          "y": 0.9360494692295074,
          "ŷ": -8.513669663076735
         },
         {
          "x": 0.15804169779219268,
          "y": 0.3695585329914965,
          "ŷ": -2.849107421369736
         },
         {
          "x": 0.8687692027083884,
          "y": 0.7823612804383926,
          "ŷ": -10.69460842811096
         },
         {
          "x": 0.04603768530555541,
          "y": -0.42022235491201276,
          "ŷ": -1.6127297848709445
         },
         {
          "x": 0.25947213934507785,
          "y": 0.3167407583078859,
          "ŷ": -3.9687666801051913
         },
         {
          "x": 0.2121752711330922,
          "y": 0.19047308131710225,
          "ŷ": -3.446671186957513
         },
         {
          "x": 0.10322370237287826,
          "y": 0.29169311027080336,
          "ŷ": -2.243988532238692
         },
         {
          "x": 0.5906483698947782,
          "y": 0.9318647950132077,
          "ŷ": -7.624518613460867
         },
         {
          "x": 0.5903568037897848,
          "y": 0.8082778871645119,
          "ŷ": -7.621300105446988
         },
         {
          "x": 0.7709702499015758,
          "y": 1.4453365570730479,
          "ŷ": -9.615036049953796
         },
         {
          "x": 0.9703269668311899,
          "y": 1.1202308527154292,
          "ŷ": -11.815673161298367
         },
         {
          "x": 0.8041377033637988,
          "y": 0.7216972523639078,
          "ŷ": -9.98116130573603
         },
         {
          "x": 0.010829571479505584,
          "y": -0.06898541661138924,
          "ŷ": -1.2240783107728594
         },
         {
          "x": 0.22088831843186696,
          "y": 0.18450782827093637,
          "ŷ": -3.5428518200151595
         },
         {
          "x": 0.7729715271504188,
          "y": 0.7541323696735703,
          "ŷ": -9.637127530249632
         },
         {
          "x": 0.2674038712000525,
          "y": -0.07835339491102944,
          "ŷ": -4.056322613740745
         },
         {
          "x": 0.17146841088356546,
          "y": 0.39509142002574715,
          "ŷ": -2.997320752564807
         },
         {
          "x": 0.44286660533284605,
          "y": 0.5975532261412035,
          "ŷ": -5.99320144249343
         },
         {
          "x": 0.2613117933629736,
          "y": 0.7008721040113906,
          "ŷ": -3.989074051565592
         }
        ]
       },
       "layer": [
        {
         "encoding": {
          "x": {
           "field": "x",
           "type": "quantitative"
          },
          "y": {
           "field": "y",
           "type": "quantitative"
          }
         },
         "mark": "point"
        },
        {
         "encoding": {
          "x": {
           "field": "x",
           "type": "quantitative"
          },
          "y": {
           "field": "ŷ",
           "type": "quantitative"
          }
         },
         "mark": "line"
        }
       ]
      },
      "image/png": "[encoded data removed]",
      "text/plain": [
       "<VegaLite 3 object>\n",
       "\n",
       "If you see this message, it means the renderer has not been properly enabled\n",
       "for the frontend that you are using. For more information, see\n",
       "https://altair-viz.github.io/user_guide/troubleshooting.html\n"
      ]
     },
     "execution_count": 81,
     "metadata": {},
     "output_type": "execute_result"
    }
   ],
   "source": [
    "data_df = pd.DataFrame({'y':y, 'ŷ':ŷ, 'x':X[:,0]})\n",
    "alt.Chart(data_df).mark_point().encode(x='x', y='y') + \\\n",
    "alt.Chart(data_df).mark_line().encode(x='x', y='ŷ')"
   ]
  },
  {
   "cell_type": "markdown",
   "metadata": {},
   "source": [
    "Wow, it totally sucks."
   ]
  },
  {
   "cell_type": "markdown",
   "metadata": {},
   "source": [
    "Unfortunately there is no guarentee that we will hit any point that's close to the optimum using random guesses. We could increase the number of guesses we make, but the more guesses, the longer it takes. The problem is exacerbated in higher-dimensional spaces because a fixed number of guesses covers less \"volume\" the more dimensions there are, so it's even harder to find points near the optimum. And even if a guess is very near the optimal value, the loss function may be very sensitive so that even a small distance away in terms of parameters translates to a big difference in terms of the loss. Another issues is that we had to pre-specify a range of values to search over- what if the optimal values weren't contained in that range? In problems with a single feature, we can easily plot the data to see what a range of plausible $\\beta$s or $\\alpha$s might be, but in higher dimensions this is impossible."
   ]
  },
  {
   "cell_type": "markdown",
   "metadata": {},
   "source": [
    "## Gradient Descent"
   ]
  },
  {
   "cell_type": "markdown",
   "metadata": {},
   "source": [
    "Let's go back to our knobs. What if we try this strategy:\n",
    "0. start with the knobs in a random configuration\n",
    "1. fiddle each knob a tiny amount in both directions and record which direction decreases the output and by how much\n",
    "2. turn each knob in the direction that decreased the output by an amount proportional to how much the output decreased during the fiddling\n",
    "3. Repeat 1 and 2"
   ]
  },
  {
   "cell_type": "markdown",
   "metadata": {},
   "source": [
    "Mathematically, that translates to this:\n",
    "\n",
    "0. initialize $\\theta$ to some random value $\\theta_0$\n",
    "1. calculate $\\frac{\\partial L}{\\partial \\theta}$\n",
    "2. set $\\theta$ to $\\theta - \\epsilon \\frac{\\partial L}{\\partial \\theta}$\n",
    "3. repeat 1 and 2"
   ]
  },
  {
   "cell_type": "markdown",
   "metadata": {},
   "source": [
    "Let's break down the math a little bit. \n",
    "\n",
    "First off, why does $\\frac{\\partial L}{\\partial \\theta}$ represent how much the loss changes when fiddling the knob a tiny amount? Well, because that's actually the definition of the derivative: $\\frac{\\partial L}{\\partial \\theta} = \\underset{\\delta \\rightarrow 0}{\\lim} \\frac{L(\\theta + \\delta) - L(\\theta)}{\\delta}$. That is precisely how much the loss increases ($L(\\theta + \\delta) - L(\\theta)$) as we fiddle the $\\theta$ knob an tiny amount $\\delta$ to the right, per the amount we move it. \n",
    "\n",
    "If the derivative is positive, then the loss is increasing as $\\theta$ is increasing, so we want to decrease $\\theta$ in order to lower the loss. By the same logic, if the derivative is negative, then we want to increase theta. That's why there's a minus sign in the update that sets $\\theta$ to $\\theta - \\epsilon \\frac{\\partial L}{\\partial \\theta}$.\n",
    "\n",
    "As for the $\\epsilon$, that's just a constant called the *learning rate* that mediates how big of a step we take (an overall multiplier on how much we turn all the knobs in proportion to their derivatives). We'll talk more about this later."
   ]
  },
  {
   "cell_type": "markdown",
   "metadata": {},
   "source": [
    "The great thing about using the derivative instead of manually \"fiddling the knobs\" is that we don't even have to touch the knobs to know which direction we need to twist them in! If we have analytically derived the function $L_\\theta'(\\theta) = \\frac{\\partial L}{\\partial \\theta}$, all we need to do is plug in the current value of $\\theta$ to get back how much we need to twist that \"knob\" and in what direction. \n",
    "\n",
    "### An example\n",
    "Let's demonstrate by going back to our example. Our model is $\\hat y_i = \\alpha + x_i\\beta$ and our loss is $L(y,\\hat y) = \\frac{1}{n}\\sum_i (y_i - \\hat y_i)^2$, so plugging in $\\hat y$ we end up with this optimization problem:\n",
    "\n",
    "$$\\rightarrow \\text{ Find } \\alpha, \\beta \\text{ to minimize }\\frac{1}{n} \\sum_i (y_i - (\\alpha + x_i\\beta))^2 = L(\\alpha, \\beta)$$"
   ]
  },
  {
   "cell_type": "markdown",
   "metadata": {},
   "source": [
    "The first step is to analytically calculate the derivatives with respect to each parameter. To get these, we can use the [chain rule and sum rule](https://en.wikipedia.org/wiki/Differentiation_rules).\n",
    "\n",
    "$$\\frac{\\partial L}{\\partial \\alpha} = \\frac{1}{n} \\sum_i -2 (y_i - (\\alpha + x_i\\beta))$$\n",
    "\n",
    "$$\\frac{\\partial L}{\\partial \\beta} = \\frac{1}{n} \\sum_i -2 (y_i - (\\alpha + x_i\\beta))x_i$$\n",
    "\n",
    "It's important to clarify that these derivatives themselves are functions of the parameters. How much the noise level will change when twisting a knob a little bit to the right depends (in general) on the current position of that knob and of all the other knobs.\n",
    "\n",
    "<div class=\"alert alert-block alert-warning\">\n",
    "<b>STOP:</b> \n",
    "Review the rules of differentiation and try to calculate these derivatives for yourself if it's not obvious to you how we got here. <a href=\"https://www.khanacademy.org/math/ap-calculus-ab/ab-differentiation-2-new/ab-3-1a/v/chain-rule-introduction\">These videos give a helpful overview</a>.\n",
    "</div>\n"
   ]
  },
  {
   "cell_type": "markdown",
   "metadata": {},
   "source": [
    "Now we have something we can code up in python:"
   ]
  },
  {
   "cell_type": "code",
   "execution_count": 82,
   "metadata": {},
   "outputs": [],
   "source": [
    "def dL_dα(α, β): # derivative of the MSE loss with respect to alpha, evaluated at (alpha, beta)\n",
    "    β = to_array(β)\n",
    "    return np.sum(-2*(y - (α + X@β)))/len(y)\n",
    "\n",
    "def dL_dβ(α, β): # derivative of the MSE loss with respect to , evaluated at (alpha, beta)\n",
    "    β = to_array(β)\n",
    "    return np.sum(-2*(y - (α + X@β))*X[:,0])/len(y)"
   ]
  },
  {
   "cell_type": "markdown",
   "metadata": {},
   "source": [
    "And now let's implement our gradient descent algorithm:"
   ]
  },
  {
   "cell_type": "code",
   "execution_count": 83,
   "metadata": {},
   "outputs": [],
   "source": [
    "ϵ = 0.01 # learning rate\n",
    "α, β = np.random.rand(2)\n",
    "for i in range(1000):\n",
    "    α = α - ϵ*dL_dα(α, β)\n",
    "    β = β - ϵ*dL_dβ(α, β)"
   ]
  },
  {
   "cell_type": "markdown",
   "metadata": {},
   "source": [
    "Here is the final position of the knobs that we've arrived at:"
   ]
  },
  {
   "cell_type": "code",
   "execution_count": 84,
   "metadata": {},
   "outputs": [
    {
     "data": {
      "text/plain": [
       "(0.11648378481846286, 0.8854581898649715)"
      ]
     },
     "execution_count": 84,
     "metadata": {},
     "output_type": "execute_result"
    }
   ],
   "source": [
    "α, β # final values"
   ]
  },
  {
   "cell_type": "markdown",
   "metadata": {},
   "source": [
    "Let's see what this model looks like:"
   ]
  },
  {
   "cell_type": "code",
   "execution_count": 85,
   "metadata": {
    "tags": [
     "hide_input"
    ]
   },
   "outputs": [
    {
     "data": {
      "application/vnd.vegalite.v3+json": {
       "$schema": "https://vega.github.io/schema/vega-lite/v3.4.0.json",
       "config": {
        "mark": {
         "tooltip": null
        },
        "view": {
         "height": 300,
         "width": 400
        }
       },
       "data": {
        "name": "data-91e8c6fbd1cd26ef344dd065fa789ac2"
       },
       "datasets": {
        "data-91e8c6fbd1cd26ef344dd065fa789ac2": [
         {
          "x": 0.5987846739343763,
          "y": 1.3118667364161227,
          "ŷ": 0.6466825783192829
         },
         {
          "x": 0.8424407973694499,
          "y": 0.8490971420818828,
          "ŷ": 0.8624298883256192
         },
         {
          "x": 0.8294141513004711,
          "y": 0.6578060589496378,
          "ŷ": 0.8508953378773696
         },
         {
          "x": 0.6024510895419215,
          "y": 0.5921210241728928,
          "ŷ": 0.6499290360464326
         },
         {
          "x": 0.7057869209206651,
          "y": 1.0265976614141334,
          "ŷ": 0.7414285942472467
         },
         {
          "x": 0.4099668961204632,
          "y": 0.3577858286946065,
          "ŷ": 0.47949233056184903
         },
         {
          "x": 0.33723333892517904,
          "y": -0.17498240154512745,
          "ŷ": 0.4150898066652723
         },
         {
          "x": 0.5057513456221062,
          "y": 0.5491093996411804,
          "ŷ": 0.5643054558347866
         },
         {
          "x": 0.42231577812957366,
          "y": 0.2806259080083724,
          "ŷ": 0.4904267492724921
         },
         {
          "x": 0.24010800690936562,
          "y": -0.0565987728219457,
          "ŷ": 0.3290893859885158
         },
         {
          "x": 0.9803165900459224,
          "y": 1.028499552776144,
          "ŷ": 0.9845131381351266
         },
         {
          "x": 0.9549774094994739,
          "y": 0.7601238637016751,
          "ŷ": 0.9620763531958066
         },
         {
          "x": 0.7606759451192948,
          "y": 0.6122811034932758,
          "ŷ": 0.79003053025762
         },
         {
          "x": 0.5899253543961502,
          "y": 0.4697168466437523,
          "ŷ": 0.6388380212775299
         },
         {
          "x": 0.7508228874334147,
          "y": 0.7796010889005982,
          "ŷ": 0.7813060596344455
         },
         {
          "x": 0.020594631244065575,
          "y": 0.12340247007920543,
          "ŷ": 0.13471946972076976
         },
         {
          "x": 0.6587404289481686,
          "y": 0.9351295327173599,
          "ŷ": 0.6997708926257832
         },
         {
          "x": 0.853190586327186,
          "y": 0.8546015040317211,
          "ŷ": 0.8719483769975668
         },
         {
          "x": 0.0638653421627915,
          "y": -0.19104572031526063,
          "ŷ": 0.17303387508503526
         },
         {
          "x": 0.4734717892421604,
          "y": 1.1441141969084152,
          "ŷ": 0.5357232582729554
         },
         {
          "x": 0.7401552848545511,
          "y": 0.5327096462859159,
          "ŷ": 0.7718603435647661
         },
         {
          "x": 0.8645922309077645,
          "y": 0.8756533470980445,
          "ŷ": 0.8820440565693695
         },
         {
          "x": 0.2563386207043611,
          "y": 0.301085859684599,
          "ŷ": 0.34346091589982997
         },
         {
          "x": 0.07375757289169826,
          "y": 0.3949344292117252,
          "ŷ": 0.1817930317999797
         },
         {
          "x": 0.5136291649780799,
          "y": 0.653685625215753,
          "ŷ": 0.5712809355018102
         },
         {
          "x": 0.8827446685787362,
          "y": 1.2077083825348873,
          "ŷ": 0.8981172811711449
         },
         {
          "x": 0.855661228613383,
          "y": 0.8621938692757332,
          "ŷ": 0.8741360274441066
         },
         {
          "x": 0.17358545174522333,
          "y": 0.309248570679841,
          "ŷ": 0.27018644470768166
         },
         {
          "x": 0.10350944948192964,
          "y": 0.1511993265389794,
          "ŷ": 0.208137074590652
         },
         {
          "x": 0.8469768037792647,
          "y": 1.374152465723701,
          "ŷ": 0.8664463323504698
         },
         {
          "x": 0.47095069565456904,
          "y": 0.7357987241014892,
          "ŷ": 0.5334909353084066
         },
         {
          "x": 0.5816129821579624,
          "y": 0.49850532407599496,
          "ŷ": 0.6314777632020202
         },
         {
          "x": 0.2751877482274091,
          "y": 0.27355358506623184,
          "ŷ": 0.3601510302369221
         },
         {
          "x": 0.6227953521821796,
          "y": 0.34090190945338944,
          "ŷ": 0.667943030018013
         },
         {
          "x": 0.1764352124511307,
          "y": 0.7282081752788023,
          "ŷ": 0.27270978866388274
         },
         {
          "x": 0.16873456686955068,
          "y": 0.36083343160915565,
          "ŷ": 0.26589118896642516
         },
         {
          "x": 0.12712014408653283,
          "y": 0.4226071033328117,
          "ŷ": 0.22904335749669857
         },
         {
          "x": 0.9639195031788156,
          "y": 0.7190898348528454,
          "ŷ": 0.9699942032787195
         },
         {
          "x": 0.22740594494355493,
          "y": -0.10195938741081106,
          "ŷ": 0.31784224119271637
         },
         {
          "x": 0.9505396931427934,
          "y": 1.317672592798367,
          "ŷ": 0.9581469409034862
         },
         {
          "x": 0.6480833327433376,
          "y": 0.8464854155714775,
          "ŷ": 0.6903344795110367
         },
         {
          "x": 0.19286915579692288,
          "y": 0.4037777242609091,
          "ŷ": 0.2872613583911914
         },
         {
          "x": 0.11219918709687848,
          "y": 0.003251724913609269,
          "ŷ": 0.21583147392958615
         },
         {
          "x": 0.744024665769346,
          "y": 0.6635823498151061,
          "ŷ": 0.7752865185854784
         },
         {
          "x": 0.006704877562602518,
          "y": 0.11832437796121861,
          "ŷ": 0.12242067356831114
         },
         {
          "x": 0.8229132442315118,
          "y": 0.511079189272112,
          "ŷ": 0.8451390564716085
         },
         {
          "x": 0.39047275118577907,
          "y": 0.46317075939021257,
          "ŷ": 0.46223108027501825
         },
         {
          "x": 0.017832367556355755,
          "y": -0.05334420705471575,
          "ŷ": 0.13227360071592048
         },
         {
          "x": 0.5873303289227675,
          "y": 0.5499113513752347,
          "ŷ": 0.636540234719215
         },
         {
          "x": 0.9107075887056938,
          "y": 0.6729410632965938,
          "ŷ": 0.9228772778100994
         },
         {
          "x": 0.4221597756319919,
          "y": 0.3846487295613044,
          "ŷ": 0.4902886155833689
         },
         {
          "x": 0.31830793433818816,
          "y": 0.7296450316903073,
          "ŷ": 0.3983321521772132
         },
         {
          "x": 0.3122014982440535,
          "y": 0.19714922252072148,
          "ŷ": 0.39292515832677455
         },
         {
          "x": 0.751035500592339,
          "y": 0.5502414016571765,
          "ŷ": 0.7814943196972881
         },
         {
          "x": 0.9660213852407469,
          "y": 1.8038599163668398,
          "ŷ": 0.971855331964587
         },
         {
          "x": 0.7551302088858253,
          "y": 0.5121780262798388,
          "ŷ": 0.7851200126908635
         },
         {
          "x": 0.4867991295034735,
          "y": 0.24536928667042324,
          "ŷ": 0.5475240608564523
         },
         {
          "x": 0.31832531925830243,
          "y": 0.27333495656476525,
          "ŷ": 0.3983475457971085
         },
         {
          "x": 0.9204117020484205,
          "y": 0.8660468285551444,
          "ŷ": 0.9314698644447947
         },
         {
          "x": 0.46439470424539275,
          "y": -0.05116513351714824,
          "ŷ": 0.5276858790224671
         },
         {
          "x": 0.08671662051503115,
          "y": 0.15445750763498922,
          "ŷ": 0.19326772665091
         },
         {
          "x": 0.044319901296042796,
          "y": 0.2597087139280271,
          "ŷ": 0.1557272043950511
         },
         {
          "x": 0.9258815289648736,
          "y": 0.8027161921283184,
          "ŷ": 0.9363131674851121
         },
         {
          "x": 0.3892198421512939,
          "y": 0.14721059203785564,
          "ŷ": 0.4611216817092775
         },
         {
          "x": 0.8465940562348813,
          "y": 0.7985575642818336,
          "ŷ": 0.8661074254026447
         },
         {
          "x": 0.22944983797816376,
          "y": 0.3840014984449458,
          "ŷ": 0.31965202301941875
         },
         {
          "x": 0.7213267655998385,
          "y": 0.29749508678498165,
          "ŷ": 0.7551884769876506
         },
         {
          "x": 0.8242609817245998,
          "y": 1.2436829985361475,
          "ŷ": 0.8463324216726514
         },
         {
          "x": 0.6540082169579406,
          "y": 0.4449026072710226,
          "ŷ": 0.6955807167628586
         },
         {
          "x": 0.26840636836322873,
          "y": 0.3234678019933449,
          "ŷ": 0.35414640189759816
         },
         {
          "x": 0.7885836514015764,
          "y": 0.9810366613509538,
          "ŷ": 0.8147416373456124
         },
         {
          "x": 0.587486995825402,
          "y": 0.8777216207513686,
          "ŷ": 0.6366789567112334
         },
         {
          "x": 0.7572364376312296,
          "y": 1.2121354222109075,
          "ŷ": 0.7869849901832109
         },
         {
          "x": 0.6181671197194574,
          "y": 0.6639014273271164,
          "ŷ": 0.6638449236792967
         },
         {
          "x": 0.05997200561728311,
          "y": 0.10421154983997223,
          "ŷ": 0.16958648835491427
         },
         {
          "x": 0.18811324165304988,
          "y": 0.2564316529503738,
          "ŷ": 0.2830501952622044
         },
         {
          "x": 0.5992833241444513,
          "y": 0.641089980290382,
          "ŷ": 0.6471241122316717
         },
         {
          "x": 0.07370288181468088,
          "y": 0.37258422547693937,
          "ŷ": 0.18174460513792212
         },
         {
          "x": 0.47880270174758166,
          "y": 0.7597477444106404,
          "ŷ": 0.5404435584103343
         },
         {
          "x": 0.8690679109880964,
          "y": 0.679605673219514,
          "ŷ": 0.8860070841517149
         },
         {
          "x": 0.8161021010382427,
          "y": 1.0641818256004336,
          "ŷ": 0.8391080739487853
         },
         {
          "x": 0.671196967931297,
          "y": 0.9360494692295074,
          "ŷ": 0.7108006370857665
         },
         {
          "x": 0.15804169779219268,
          "y": 0.3695585329914965,
          "ŷ": 0.25642310046872463
         },
         {
          "x": 0.8687692027083884,
          "y": 0.7823612804383926,
          "ŷ": 0.885742590459067
         },
         {
          "x": 0.04603768530555541,
          "y": -0.42022235491201276,
          "ŷ": 0.15724823031469315
         },
         {
          "x": 0.25947213934507785,
          "y": 0.3167407583078859,
          "ŷ": 0.34623551564334715
         },
         {
          "x": 0.2121752711330922,
          "y": 0.19047308131710225,
          "ŷ": 0.3043561163300802
         },
         {
          "x": 0.10322370237287826,
          "y": 0.29169311027080336,
          "ŷ": 0.2078840574727122
         },
         {
          "x": 0.5906483698947782,
          "y": 0.9318647950132077,
          "ŷ": 0.6394782212721893
         },
         {
          "x": 0.5903568037897848,
          "y": 0.8082778871645119,
          "ŷ": 0.6392200516766359
         },
         {
          "x": 0.7709702499015758,
          "y": 1.4453365570730479,
          "ŷ": 0.7991457067360569
         },
         {
          "x": 0.9703269668311899,
          "y": 1.1202308527154292,
          "ŷ": 0.9756677444459765
         },
         {
          "x": 0.8041377033637988,
          "y": 0.7216972523639078,
          "ŷ": 0.8285141000411476
         },
         {
          "x": 0.010829571479505584,
          "y": -0.06898541661138924,
          "ŷ": 0.12607291757771918
         },
         {
          "x": 0.22088831843186696,
          "y": 0.18450782827093637,
          "ŷ": 0.3120711554194612
         },
         {
          "x": 0.7729715271504188,
          "y": 0.7541323696735703,
          "ŷ": 0.8009177540662354
         },
         {
          "x": 0.2674038712000525,
          "y": -0.07835339491102944,
          "ŷ": 0.3532587325741473
         },
         {
          "x": 0.17146841088356546,
          "y": 0.39509142002574715,
          "ŷ": 0.2683118935384479
         },
         {
          "x": 0.44286660533284605,
          "y": 0.5975532261412035,
          "ŷ": 0.5086236475281295
         },
         {
          "x": 0.2613117933629736,
          "y": 0.7008721040113906,
          "ŷ": 0.34786445236001096
         }
        ]
       },
       "layer": [
        {
         "encoding": {
          "x": {
           "field": "x",
           "type": "quantitative"
          },
          "y": {
           "field": "y",
           "type": "quantitative"
          }
         },
         "mark": "point"
        },
        {
         "encoding": {
          "x": {
           "field": "x",
           "type": "quantitative"
          },
          "y": {
           "field": "ŷ",
           "type": "quantitative"
          }
         },
         "mark": "line"
        }
       ]
      },
      "image/png": "[encoded data removed]",
      "text/plain": [
       "<VegaLite 3 object>\n",
       "\n",
       "If you see this message, it means the renderer has not been properly enabled\n",
       "for the frontend that you are using. For more information, see\n",
       "https://altair-viz.github.io/user_guide/troubleshooting.html\n"
      ]
     },
     "execution_count": 85,
     "metadata": {},
     "output_type": "execute_result"
    }
   ],
   "source": [
    "model = LinearModel(α, β)\n",
    "ŷ = model.predict(X)\n",
    "data_df = pd.DataFrame({'y':y, 'ŷ':ŷ, 'x':X[:,0]})\n",
    "alt.Chart(data_df).mark_point().encode(x='x', y='y') + \\\n",
    "alt.Chart(data_df).mark_line().encode(x='x', y='ŷ')"
   ]
  },
  {
   "cell_type": "markdown",
   "metadata": {},
   "source": [
    "Nailed it."
   ]
  },
  {
   "cell_type": "markdown",
   "metadata": {},
   "source": [
    "We can also improve the algorithm a little bit by repeating the loop until the loss is no longer quickly decreasing, instead of just looping 1000 times. Let's also record all of the parameter values and losses through the iterations so we can see what's going on."
   ]
  },
  {
   "cell_type": "code",
   "execution_count": 86,
   "metadata": {},
   "outputs": [],
   "source": [
    "ϵ = 0.1 # learning rate\n",
    "tol = 0.00001 # tolerance\n",
    "α, β = 0, 0 # initial guess\n",
    "old_loss, loss = np.inf, mse(y, LinearModel(α,β).predict(X))\n",
    "losses, βs, αs = [], [], []\n",
    "while old_loss - loss > tol:\n",
    "    α = α - ϵ*dL_dα(α, β)\n",
    "    β = β - ϵ*dL_dβ(α, β)\n",
    "    old_loss, loss = loss, mse(y, LinearModel(α,β).predict(X))\n",
    "    βs.append(β.item())\n",
    "    αs.append(α.item())\n",
    "    losses.append(loss.item())\n",
    "loss_params_trajectory = pd.DataFrame({'a':αs, 'b':βs, 'L':losses})"
   ]
  },
  {
   "cell_type": "markdown",
   "metadata": {},
   "source": [
    "We can use this information to plot the trajectory of the parameters. To put it into context, we'll also brute-force calculate the value of the loss function for a grid of values around the trajectory so we can overlay the trajectory on the loss surface. Don't worry about this code- focus on the picture."
   ]
  },
  {
   "cell_type": "code",
   "execution_count": 87,
   "metadata": {
    "tags": [
     "hide_input"
    ]
   },
   "outputs": [],
   "source": [
    "from itertools import product\n",
    "αs = np.arange(np.min(αs)-np.ptp(αs)/4, np.max(αs)+np.ptp(αs)/4, np.ptp(αs)/50)\n",
    "βs = np.arange(np.min(βs)-np.ptp(βs)/4, np.max(βs)+np.ptp(βs)/4, np.ptp(βs)/50)\n",
    "params = list(product(αs, βs))\n",
    "L = [None for i in range(len(params))]\n",
    "for i, (α, β) in enumerate(params):\n",
    "    m = LinearModel(α, β) \n",
    "    ŷ = m.predict(X)\n",
    "    L[i] = mse(y,ŷ)\n",
    "a,b = zip(*params)\n",
    "loss_df = pd.DataFrame({'a':a, 'b':b, 'L':L})"
   ]
  },
  {
   "cell_type": "code",
   "execution_count": 88,
   "metadata": {
    "tags": [
     "hide_input"
    ]
   },
   "outputs": [
    {
     "data": {
      "image/png": "[encoded data removed]"
     },
     "metadata": {},
     "output_type": "display_data"
    }
   ],
   "source": [
    "%%R -i loss_df,loss_params_trajectory\n",
    "library(tidyverse)\n",
    "library(viridis)\n",
    "\n",
    "plot = loss_df %>%\n",
    "ggplot(aes(x=a,y=b)) +\n",
    "    geom_raster(aes(fill=L)) + \n",
    "    geom_contour(aes(z=L), color='grey') +\n",
    "    scale_fill_viridis() +\n",
    "    geom_segment(data=loss_params_trajectory, \n",
    "                 aes(x=a,y=b,xend=lead(a),yend=lead(b)),\n",
    "                 color = 'white',\n",
    "                 arrow = arrow(length=unit(0.2,\"cm\"), \n",
    "                             type = \"closed\")) + \n",
    "    labs(x = expression(alpha), y=expression(beta)) +\n",
    "    theme_bw() + coord_fixed()\n",
    "ggsave(\"trajectory.png\", plot, device=\"png\", width = 2, height = 2)\n",
    "plot"
   ]
  },
  {
   "cell_type": "markdown",
   "metadata": {},
   "source": [
    "Interesting! We see that the algorithm traverses the parameter space $(\\alpha, \\beta)$ by \"going downhill\" relative to the loss, eventually ending up in the deep well where the best parameter values (models) are."
   ]
  },
  {
   "cell_type": "markdown",
   "metadata": {},
   "source": [
    "Here's an animation using different data that shows how the model fit is changing (right panel) as we traverse the parameter space (left panel) using gradient descent:"
   ]
  },
  {
   "cell_type": "markdown",
   "metadata": {},
   "source": [
    "![](https://miro.medium.com/max/707/1*0Ve21Rildq950wRrlJvdLQ.gif)"
   ]
  },
  {
   "cell_type": "markdown",
   "metadata": {},
   "source": [
    "### Gradients: Vector-Valued Derivatives"
   ]
  },
  {
   "cell_type": "markdown",
   "metadata": {},
   "source": [
    "Up to this point we've been talking about the derivatives of the loss with respect to each individual parameter. But now we're going to define how to take the derivative with respect to a vector of parameters $\\theta = [\\theta_1, \\theta_2, \\dots \\theta_p]^T$. This is just a way to write out what we've already been doing, but using a notation that will scale better to models with many parameters. It doesn't actually change or add anything to the gradient descent algorithm. \n",
    "\n",
    "So how do you take a derivative of a function with respect to a vector of parameters all at once? It's pretty simple, we just stack the derivatives with respect to each parameter in the vector into a vector of its own:\n",
    "\n",
    "$$\n",
    "\\frac{dL}{d\\theta} = \n",
    "\\left[\n",
    "\\begin{array}{c}\n",
    "\\frac{\\partial L}{\\partial \\theta_1} \\\\\n",
    "\\frac{\\partial L}{\\partial \\theta_2} \\\\\n",
    "\\vdots \\\\\n",
    "\\frac{\\partial L}{\\partial \\theta_p}\n",
    "\\end{array}\n",
    "\\right]\n",
    "= \\nabla_\\theta L\n",
    "$$"
   ]
  },
  {
   "cell_type": "markdown",
   "metadata": {},
   "source": [
    "And, instead of writing $\\frac{dL}{d\\theta}$, which might confuse someone into thinking $\\theta$ is a single parameter, we usually write $\\nabla_\\theta L$. This is the *gradient* of $L$ with respect to the vector $\\theta$. $\\nabla_\\theta L$ is a function that, when evaluated at a point $\\theta^*$, returns a *vector*. The elements of that vector are the derivatives of the loss with respect to each individual parameter, evaluated at the value of that parameter. Check it out:"
   ]
  },
  {
   "cell_type": "markdown",
   "metadata": {},
   "source": [
    "![](images/gradient.png)"
   ]
  },
  {
   "cell_type": "markdown",
   "metadata": {},
   "source": [
    "The figure illustrates the contours of the loss function in grey (think of it as looking down into a \"bowl\"). The gradient evaluated at a single point returns a vector, which we draw as an arrow. The arrow points in the steepest direction \"uphill\" at that point. The steepest direction \"downhill\" is the direction corresponding to $-\\nabla_\\theta L$, the negative gradient. That's why we go in that direction in the gradient descent step, and it also explains why gradient descent works: at each step, we're moving the parameters in the direction that most decreases the loss."
   ]
  },
  {
   "cell_type": "markdown",
   "metadata": {},
   "source": [
    "Using the gradient, we can update all of the parameters in one equation: $\\theta \\leftarrow \\theta - \\epsilon \\nabla_\\theta L$. If you write out the components of each vector you will see that this is exactly the same update as we had before when we were updating each parameter individually."
   ]
  },
  {
   "cell_type": "markdown",
   "metadata": {},
   "source": [
    "Let's rewrite our code to work generally in the multi-parameter case:"
   ]
  },
  {
   "cell_type": "code",
   "execution_count": 89,
   "metadata": {},
   "outputs": [],
   "source": [
    "def grad_descent(L, grad_L, θ, ϵ=0.00001, tol=0.000001): # apparently ∇ can't be used in a variable name in python... so no ∇L\n",
    "    old_loss, loss = np.inf, L(θ)\n",
    "    while old_loss - loss > tol:\n",
    "        θ -= ϵ*grad_L(θ) # these are vectors now- grad_L takes a vector and returns a vector\n",
    "        old_loss, loss = loss, L(θ) # L takes a vector and returns a scalar\n",
    "    return θ"
   ]
  },
  {
   "cell_type": "markdown",
   "metadata": {},
   "source": [
    "#### Example"
   ]
  },
  {
   "cell_type": "markdown",
   "metadata": {},
   "source": [
    "Let's try it out with our linear regression problem using multiple predictors. Now we have $x_i = [x_{i1}, \\dots x_{ip}]$ so $\\beta = [\\beta_1, \\dots \\beta_p]^T$. Our minimization problem is again\n",
    "\n",
    "$$\\underset{\\alpha,\\beta}{\\text{argmin}}\\frac{1}{n} \\sum_i (y_i - (\\alpha + x_i\\beta))^2$$\n",
    "\n",
    "You can read \"$\\underset{\\theta}{\\text{argmin}} L(\\theta)$\" as \"the value of $\\theta$ that minimizes $L(\\theta)$\".  Like all mathematical notation, this is just a little bit of shorthand for what otherwise would have to write out in words. This problem looks the same as what we had in the single-variable case, but actually now $x_i \\beta$ is a dot product of two vectors instead of multiplication between two numbers. \n",
    "\n",
    "To calculate $\\nabla_{\\alpha, \\beta} L(\\alpha, \\beta)$ we have to find the deriviatives with respect to each of the parameters $\\alpha$, $\\beta_1$, $\\beta_2$, ... $\\beta_p$. But even though now we have $p+1$ parameters, finding the derivatives is just as easy as in the 2-parameter case. If we expand out the dot product:\n",
    "\n",
    "$$\\frac{1}{n} \\sum_i (y_i - (\\alpha + x_i\\beta))^2 = \\frac{1}{n} \\sum_i (y_i - (\\alpha + x_{i1}\\beta_1 + x_{i2}\\beta_2 + \\cdots x_{ip}\\beta_p))^2$$"
   ]
  },
  {
   "cell_type": "markdown",
   "metadata": {},
   "source": [
    "Now we can take our derivatives just as we had before. But we don't have to do all of the $\\beta$s individually- if you do two of them (say, $\\beta_1$ and $\\beta_4$) you'll notice a pattern and see that the derivatives are:\n",
    "\n",
    "$$\\frac{\\partial L}{\\partial \\alpha} = \\frac{1}{n} \\sum_i -2 (y_i - (\\alpha + x_i\\beta))$$\n",
    "\n",
    "$$\\frac{\\partial L}{\\partial \\beta_j} = \\frac{1}{n} \\sum_i -2 (y_i - (\\alpha + x_i\\beta))x_{ij}$$"
   ]
  },
  {
   "cell_type": "markdown",
   "metadata": {},
   "source": [
    "And, in fact, there's a quick way to write this out using matrix notation (i.e. this is just a shorthand for the equations above)\n",
    "\n",
    "$$\n",
    "\\left[\n",
    "\\begin{array}{c}\n",
    "\\frac{\\partial L}{\\partial \\beta_1} \\\\\n",
    "\\frac{\\partial L}{\\partial \\beta_2} \\\\\n",
    "\\vdots \\\\\n",
    "\\frac{\\partial L}{\\partial \\beta_p}\n",
    "\\end{array}\n",
    "\\right]\n",
    "= \n",
    "\\nabla_\\beta L(\\alpha, \\beta)\n",
    "= \n",
    "-2X^T(y-(\\alpha + X\\beta))\n",
    "$$"
   ]
  },
  {
   "cell_type": "markdown",
   "metadata": {},
   "source": [
    "<div class=\"alert alert-block alert-warning\">\n",
    "<b>STOP:</b> \n",
    "Do the matrix multiplications yourself to verify that the equation for each partial derivative comes out the same. Feel free to review the <a href=\"https://www.khanacademy.org/math/precalculus/x9e81a4f98389efdf:matrices/x9e81a4f98389efdf:multiplying-matrices-by-matrices/a/multiplying-matrices\">definition of matrix multiplication</a> if you're a little rusty.\n",
    "</div>"
   ]
  },
  {
   "cell_type": "markdown",
   "metadata": {},
   "source": [
    "Let's code it up!"
   ]
  },
  {
   "cell_type": "code",
   "execution_count": 90,
   "metadata": {},
   "outputs": [],
   "source": [
    "X,y = simulate_linear(1000, α=0, β=[1,1,1], σ=0.25) # remember, in reality we don't know what these numbers actually are"
   ]
  },
  {
   "cell_type": "code",
   "execution_count": 91,
   "metadata": {},
   "outputs": [],
   "source": [
    "# θ=[α, β1 ... βp]\n",
    "def lin_reg_mse_loss(θ): # L(θ)\n",
    "    m = LinearModel(α=θ[0], β=θ[1:])\n",
    "    ŷ = m.predict(X)\n",
    "    return mse(y,ŷ)\n",
    "\n",
    "def grad_lin_reg_mse_loss(θ): # ∇L(θ) \n",
    "    Z = np.insert(X,0,1,axis=1) # adds a column of ones to the front of X. See ?np.insert\n",
    "    return -2*Z.T @ (y-Z@θ) "
   ]
  },
  {
   "cell_type": "markdown",
   "metadata": {},
   "source": [
    "I used a convenient trick in the gradient function- if you pretend $\\alpha$ is the coefficient for a dummy predictor that is always 1, the derivative for $\\alpha$ takes the same form as the derivatives for $\\beta_j$, so they can all be calculated in the same expression. That is, \n",
    "\n",
    "$$\n",
    "\\alpha + x_i \\beta \n",
    "= \n",
    "\\underbrace{[1, x_i]}_{z_i}\n",
    "\\underbrace{\n",
    "\\left[\n",
    "\\begin{array}{c}\n",
    "\\alpha \\\\ \\beta\n",
    "\\end{array}\n",
    "\\right]\n",
    "}_\\theta\n",
    "= z_i\\theta\n",
    "\\quad \\quad\n",
    "\\rightarrow\n",
    "\\quad \\quad\n",
    "\\nabla_\\beta L(\\theta)\n",
    "= \n",
    "-2Z^T(y-Z\\theta)\n",
    "$$\n",
    "\n",
    "This isn't conceptually important- I could also have coded out the derivaties for $\\alpha$ and $\\beta$ separately and concatenated them together to get the gradient."
   ]
  },
  {
   "cell_type": "markdown",
   "metadata": {},
   "source": [
    "Finally, we can test out our generic gradient descent code:"
   ]
  },
  {
   "cell_type": "code",
   "execution_count": 92,
   "metadata": {},
   "outputs": [],
   "source": [
    "θ = grad_descent(lin_reg_mse_loss, grad_lin_reg_mse_loss, np.random.rand(X.shape[1]+1))\n",
    "m = LinearModel(α=θ[0], β=θ[1:])\n",
    "ŷ = m.predict(X)"
   ]
  },
  {
   "cell_type": "markdown",
   "metadata": {},
   "source": [
    "Let's see if our predictions are close to the actual values:"
   ]
  },
  {
   "cell_type": "code",
   "execution_count": 93,
   "metadata": {},
   "outputs": [
    {
     "data": {
      "application/vnd.vegalite.v3+json": {
       "$schema": "https://vega.github.io/schema/vega-lite/v3.4.0.json",
       "config": {
        "mark": {
         "tooltip": null
        },
        "view": {
         "height": 300,
         "width": 400
        }
       },
       "data": {
        "name": "data-4a23bbf7c0510fddfbb68922dfb9a538"
       },
       "datasets": {
        "data-4a23bbf7c0510fddfbb68922dfb9a538": [
         {
          "y": 0.943808612754421,
          "ŷ": 0.9904618048045755
         },
         {
          "y": 1.7709716383457246,
          "ŷ": 1.4025404573615483
         },
         {
          "y": 1.9376115331272312,
          "ŷ": 1.7940162345711954
         },
         {
          "y": 1.601732190148875,
          "ŷ": 1.6672197821162664
         },
         {
          "y": 0.6823303738819242,
          "ŷ": 0.554924758351171
         },
         {
          "y": 2.054886363945593,
          "ŷ": 2.253892189276991
         },
         {
          "y": 2.0935708521662075,
          "ŷ": 1.7714255742818132
         },
         {
          "y": 1.2868202783798894,
          "ŷ": 1.596561456726957
         },
         {
          "y": 2.2532171549273254,
          "ŷ": 2.421803618956763
         },
         {
          "y": 0.8030473425274371,
          "ŷ": 1.2071185761007786
         },
         {
          "y": 1.1598208085410855,
          "ŷ": 1.0284542792927822
         },
         {
          "y": 1.7073986596973065,
          "ŷ": 1.487275391158621
         },
         {
          "y": 2.010670907074591,
          "ŷ": 1.7937194956747515
         },
         {
          "y": 1.897820451927793,
          "ŷ": 1.499568698491631
         },
         {
          "y": 1.3310322674340873,
          "ŷ": 1.177757681960797
         },
         {
          "y": 1.1380193172966502,
          "ŷ": 1.5038250609365598
         },
         {
          "y": 0.322270354745613,
          "ŷ": 0.7161080565618577
         },
         {
          "y": 1.856939736832426,
          "ŷ": 1.63817706113773
         },
         {
          "y": 2.1391081954416107,
          "ŷ": 2.0095444099617734
         },
         {
          "y": 1.6473025916393222,
          "ŷ": 1.5567993050308961
         },
         {
          "y": 1.9760833491223277,
          "ŷ": 2.0074816490190415
         },
         {
          "y": 1.2678154737939489,
          "ŷ": 1.655782386504176
         },
         {
          "y": 1.2349550516772143,
          "ŷ": 1.2419749589861684
         },
         {
          "y": 0.6096845341167572,
          "ŷ": 0.46470098332726095
         },
         {
          "y": 2.562641167766073,
          "ŷ": 2.2115724146598397
         },
         {
          "y": 1.030673810100992,
          "ŷ": 0.904871169217093
         },
         {
          "y": 0.584217110588845,
          "ŷ": 0.8501400122448451
         },
         {
          "y": 1.0712087859270119,
          "ŷ": 1.1865651953192033
         },
         {
          "y": 1.5088521886940096,
          "ŷ": 1.5081517652737964
         },
         {
          "y": 2.19153448047816,
          "ŷ": 2.1151962624954304
         },
         {
          "y": 2.454339379586878,
          "ŷ": 1.941095315106882
         },
         {
          "y": 1.369511410730086,
          "ŷ": 1.4244468717705157
         },
         {
          "y": 2.439240460073704,
          "ŷ": 2.0988158523932476
         },
         {
          "y": 1.3817132897275708,
          "ŷ": 1.1053007887635893
         },
         {
          "y": 0.3861491495877831,
          "ŷ": 0.3588545883993678
         },
         {
          "y": 1.3513974313231756,
          "ŷ": 1.5089461984197226
         },
         {
          "y": 1.512804984478286,
          "ŷ": 1.4750038382787976
         },
         {
          "y": 2.0599202235722744,
          "ŷ": 2.484673316660814
         },
         {
          "y": 1.0833988888336812,
          "ŷ": 1.6839316951498475
         },
         {
          "y": 1.748679677961314,
          "ŷ": 1.6020642574496213
         },
         {
          "y": 2.0673064271160677,
          "ŷ": 1.7566226793805855
         },
         {
          "y": 0.7725604668222006,
          "ŷ": 0.4739376438760964
         },
         {
          "y": 2.1659124777884173,
          "ŷ": 1.6555933398945772
         },
         {
          "y": 1.4213303886790989,
          "ŷ": 1.1651989582510995
         },
         {
          "y": 1.8449595495309672,
          "ŷ": 1.3011326568848323
         },
         {
          "y": 1.0889948967664804,
          "ŷ": 1.3329081587832985
         },
         {
          "y": 2.217340051758561,
          "ŷ": 1.9603048335238886
         },
         {
          "y": 1.3990780283235327,
          "ŷ": 1.433528796732152
         },
         {
          "y": 2.198779310144973,
          "ŷ": 2.4161161601831016
         },
         {
          "y": 1.3615784336338044,
          "ŷ": 1.3446116362253093
         },
         {
          "y": 1.6223741862672811,
          "ŷ": 1.4451656563469921
         },
         {
          "y": 2.059839753649972,
          "ŷ": 2.3995808936963914
         },
         {
          "y": 1.8033728410789813,
          "ŷ": 2.0515232115175417
         },
         {
          "y": 1.3421518881675834,
          "ŷ": 1.2773386627383503
         },
         {
          "y": 1.939637428929401,
          "ŷ": 1.6683235377967713
         },
         {
          "y": 1.821963261506418,
          "ŷ": 1.9809089011939718
         },
         {
          "y": 1.8095259170416846,
          "ŷ": 1.9907314466294566
         },
         {
          "y": 1.3196542258633484,
          "ŷ": 1.5137324294640904
         },
         {
          "y": 0.8869290604914573,
          "ŷ": 1.0317247315570033
         },
         {
          "y": 0.9078939634548895,
          "ŷ": 1.0243451543007802
         },
         {
          "y": 1.4427031963652275,
          "ŷ": 1.3983979221636729
         },
         {
          "y": 1.1678857392099442,
          "ŷ": 1.3577833983794938
         },
         {
          "y": 0.9691306926646656,
          "ŷ": 0.8962482376521356
         },
         {
          "y": 2.1585974371775283,
          "ŷ": 1.499240341482165
         },
         {
          "y": 0.11309729728631257,
          "ŷ": 0.5204740291040394
         },
         {
          "y": 0.9502141023993834,
          "ŷ": 0.7686690152747778
         },
         {
          "y": 1.0424375468492424,
          "ŷ": 1.1433665925753702
         },
         {
          "y": 0.9319639713932886,
          "ŷ": 0.9093466863405464
         },
         {
          "y": 2.1886727064461415,
          "ŷ": 2.1250263351593004
         },
         {
          "y": 1.8938237782344574,
          "ŷ": 1.7683231958494727
         },
         {
          "y": 1.7955975700008295,
          "ŷ": 1.8667180237842034
         },
         {
          "y": 1.6027594555160234,
          "ŷ": 1.7481231649894733
         },
         {
          "y": 2.150273519147533,
          "ŷ": 1.4084017818566354
         },
         {
          "y": 1.1799088749776663,
          "ŷ": 1.5495879118536036
         },
         {
          "y": 1.1055362022729596,
          "ŷ": 1.3635144994933932
         },
         {
          "y": 1.6245408849545782,
          "ŷ": 1.5776850231477952
         },
         {
          "y": 1.776500641086407,
          "ŷ": 1.9582899784788543
         },
         {
          "y": 0.9123919246191161,
          "ŷ": 0.649844310105521
         },
         {
          "y": 2.2899077593925705,
          "ŷ": 2.385260894036242
         },
         {
          "y": 0.16371353286848,
          "ŷ": 0.6014019017340848
         },
         {
          "y": 2.1760521681667067,
          "ŷ": 2.280781559638145
         },
         {
          "y": 0.8577702883109932,
          "ŷ": 0.7118802836577045
         },
         {
          "y": 1.896099394664405,
          "ŷ": 1.6508951860792602
         },
         {
          "y": 1.3926338342194795,
          "ŷ": 1.4207102060725132
         },
         {
          "y": 1.2329084923983324,
          "ŷ": 0.6803412977548369
         },
         {
          "y": 0.8079886981217169,
          "ŷ": 1.1270140917328924
         },
         {
          "y": 1.6923402176621252,
          "ŷ": 1.3448061251422414
         },
         {
          "y": 1.096995486530185,
          "ŷ": 1.4687823401368412
         },
         {
          "y": 1.4816871241755447,
          "ŷ": 1.4062700482611743
         },
         {
          "y": 0.8999886910787875,
          "ŷ": 1.258697199281156
         },
         {
          "y": 2.367895690109835,
          "ŷ": 2.5259901280588917
         },
         {
          "y": 1.3630818179378994,
          "ŷ": 1.154550441271254
         },
         {
          "y": 0.8388128509745024,
          "ŷ": 0.8883878617030793
         },
         {
          "y": 1.132532824422268,
          "ŷ": 1.09846906426516
         },
         {
          "y": 1.584043528192408,
          "ŷ": 1.6253919288305525
         },
         {
          "y": 1.0922365659205684,
          "ŷ": 1.0587852976549375
         },
         {
          "y": 0.8869529203977226,
          "ŷ": 0.8464903113347956
         },
         {
          "y": 2.2996783670857335,
          "ŷ": 2.231364285159521
         },
         {
          "y": 1.6319275260152293,
          "ŷ": 1.670463731825143
         },
         {
          "y": 0.4720641780656162,
          "ŷ": 1.072271225212738
         },
         {
          "y": 1.9344430248010687,
          "ŷ": 1.814537877989965
         },
         {
          "y": 1.2526978679735752,
          "ŷ": 1.2794353323598193
         },
         {
          "y": 2.5617256631562983,
          "ŷ": 2.122926792064286
         },
         {
          "y": 0.938189098183116,
          "ŷ": 0.7176890667181757
         },
         {
          "y": 1.3303358358551902,
          "ŷ": 1.2716122392978029
         },
         {
          "y": 1.4742865500258981,
          "ŷ": 1.2317325562205381
         },
         {
          "y": 0.7754753661811208,
          "ŷ": 0.7503550455573977
         },
         {
          "y": 0.5199508997681985,
          "ŷ": 0.6542177086094246
         },
         {
          "y": 0.5940880264909213,
          "ŷ": 1.1052201536310051
         },
         {
          "y": 1.4308291678206322,
          "ŷ": 1.1525458153444585
         },
         {
          "y": 1.0188070948444305,
          "ŷ": 0.9571794215403451
         },
         {
          "y": 1.7597021345816435,
          "ŷ": 1.7903357659988104
         },
         {
          "y": 1.0929250514383066,
          "ŷ": 0.8884500539868826
         },
         {
          "y": 2.426405741986875,
          "ŷ": 2.2726362901587263
         },
         {
          "y": 2.6100316100508425,
          "ŷ": 2.5113949613468733
         },
         {
          "y": 1.2043224234104557,
          "ŷ": 0.9324165631946556
         },
         {
          "y": 1.0369985356843547,
          "ŷ": 1.2000629629811748
         },
         {
          "y": 1.5198684506128481,
          "ŷ": 1.784981328096517
         },
         {
          "y": 1.7245686513741763,
          "ŷ": 1.7520626554438306
         },
         {
          "y": 1.4490697282542846,
          "ŷ": 1.2091901727034504
         },
         {
          "y": 2.2692290833835975,
          "ŷ": 2.300779762236087
         },
         {
          "y": 1.251851055182815,
          "ŷ": 1.3060633819433993
         },
         {
          "y": 1.0004820669286538,
          "ŷ": 1.2632596763829973
         },
         {
          "y": 1.3965424406052862,
          "ŷ": 1.099024066523853
         },
         {
          "y": 1.7955978471070675,
          "ŷ": 1.6988470041812398
         },
         {
          "y": 2.351584043131329,
          "ŷ": 1.906346177099064
         },
         {
          "y": 1.9222462812117418,
          "ŷ": 1.6157291141999954
         },
         {
          "y": 2.415470675439763,
          "ŷ": 1.7392514234817777
         },
         {
          "y": 0.9816565583203967,
          "ŷ": 1.0048688413184637
         },
         {
          "y": 2.3123968883077186,
          "ŷ": 2.709115034220277
         },
         {
          "y": 1.356254345505613,
          "ŷ": 1.3043168993539114
         },
         {
          "y": 1.8215614212247706,
          "ŷ": 1.4947928359772888
         },
         {
          "y": 0.6786941170735731,
          "ŷ": 0.8642495249980623
         },
         {
          "y": 1.6203998254360978,
          "ŷ": 1.6805573262667284
         },
         {
          "y": 1.321354808434979,
          "ŷ": 1.4614646563285116
         },
         {
          "y": 2.4462426033122937,
          "ŷ": 1.9342805700807977
         },
         {
          "y": 2.0720751648541067,
          "ŷ": 1.8051632876376986
         },
         {
          "y": 1.0283031792361688,
          "ŷ": 1.3417174438781536
         },
         {
          "y": 1.5149780584553687,
          "ŷ": 1.5680478522027443
         },
         {
          "y": 1.5618974859038488,
          "ŷ": 1.61694423309992
         },
         {
          "y": 0.7832750883242862,
          "ŷ": 0.9364942831102563
         },
         {
          "y": 1.986794688130437,
          "ŷ": 1.6578916789023281
         },
         {
          "y": 1.1580935588349195,
          "ŷ": 1.1674403429184943
         },
         {
          "y": 2.50428292944786,
          "ŷ": 2.3553599116295167
         },
         {
          "y": 2.3340399166258345,
          "ŷ": 1.9968827321066904
         },
         {
          "y": 2.7477757998537733,
          "ŷ": 2.689324750642951
         },
         {
          "y": 1.4444417255393605,
          "ŷ": 1.2180166044740848
         },
         {
          "y": 0.46819283253617966,
          "ŷ": 0.7874082349521176
         },
         {
          "y": 1.025896869981557,
          "ŷ": 1.5253527125953414
         },
         {
          "y": 2.1532586174044615,
          "ŷ": 1.649122822449981
         },
         {
          "y": 1.6602282187145596,
          "ŷ": 1.6311737209703383
         },
         {
          "y": 1.7236916982904429,
          "ŷ": 1.7893159804842707
         },
         {
          "y": 1.9508425075990632,
          "ŷ": 1.8001605208827218
         },
         {
          "y": 1.4582024016157067,
          "ŷ": 1.716593834638428
         },
         {
          "y": 1.8288567522002042,
          "ŷ": 1.4737557239750514
         },
         {
          "y": 1.743879278367876,
          "ŷ": 1.6146517562682743
         },
         {
          "y": 0.7767033304134214,
          "ŷ": 0.6560427743710299
         },
         {
          "y": 0.2859896905374543,
          "ŷ": 0.32117780669212037
         },
         {
          "y": 3.236327107557051,
          "ŷ": 2.7837503379739563
         },
         {
          "y": 0.5858933778931549,
          "ŷ": 0.7808420461935976
         },
         {
          "y": 1.3577314573054982,
          "ŷ": 1.1371712276640749
         },
         {
          "y": 1.2196302348942187,
          "ŷ": 1.4869477868107228
         },
         {
          "y": 2.231509514055639,
          "ŷ": 2.3620140053068486
         },
         {
          "y": 2.925338649014064,
          "ŷ": 2.2907736503217166
         },
         {
          "y": 1.8817527037313317,
          "ŷ": 2.1954558040370267
         },
         {
          "y": 2.65458693694465,
          "ŷ": 2.5406858679188025
         },
         {
          "y": 1.898040424252211,
          "ŷ": 1.8954528341659287
         },
         {
          "y": 2.3388652755187844,
          "ŷ": 2.3479020293644557
         },
         {
          "y": 1.3557107098485244,
          "ŷ": 1.3756836669025165
         },
         {
          "y": 1.1728398279084566,
          "ŷ": 1.4025322022368207
         },
         {
          "y": 0.5772705766919433,
          "ŷ": 0.9451308291281196
         },
         {
          "y": 1.5467735073413078,
          "ŷ": 1.8668464077107527
         },
         {
          "y": 2.0243901446231636,
          "ŷ": 1.9381462733136752
         },
         {
          "y": 1.0997943608830467,
          "ŷ": 0.9952406201878469
         },
         {
          "y": 1.7179575458188627,
          "ŷ": 1.6516221570115623
         },
         {
          "y": 1.476484833867847,
          "ŷ": 1.7215765050583534
         },
         {
          "y": 1.1970807872711169,
          "ŷ": 1.4250635939697427
         },
         {
          "y": 1.88109136957735,
          "ŷ": 1.5622924324314236
         },
         {
          "y": 1.4544058076306021,
          "ŷ": 1.7425943286907162
         },
         {
          "y": 1.5283858858539192,
          "ŷ": 1.6354014006864916
         },
         {
          "y": 1.7909540452755854,
          "ŷ": 1.9590394748538522
         },
         {
          "y": 1.9128949388254688,
          "ŷ": 1.6020516916906302
         },
         {
          "y": 2.2899381221997652,
          "ŷ": 2.0313439748595097
         },
         {
          "y": 1.997692912963767,
          "ŷ": 1.7093940906073353
         },
         {
          "y": 1.9908815536001645,
          "ŷ": 1.8055727487777877
         },
         {
          "y": 1.1943686461163874,
          "ŷ": 1.2762477796819007
         },
         {
          "y": 2.3780332108697237,
          "ŷ": 2.374655377643234
         },
         {
          "y": 2.0475583341505152,
          "ŷ": 2.1943441526167455
         },
         {
          "y": 1.148675377490849,
          "ŷ": 1.3476571425582409
         },
         {
          "y": 2.2664927052787496,
          "ŷ": 2.308668135329012
         },
         {
          "y": 2.209915475071066,
          "ŷ": 1.8458930484727147
         },
         {
          "y": 1.4932907862379934,
          "ŷ": 1.3141037106360325
         },
         {
          "y": 1.4351974430033119,
          "ŷ": 1.3566382925680411
         },
         {
          "y": 0.9497047124559097,
          "ŷ": 1.1983727505125237
         },
         {
          "y": 0.8338002473704267,
          "ŷ": 0.5251306867454724
         },
         {
          "y": 2.336111676789384,
          "ŷ": 2.147748184696941
         },
         {
          "y": 1.0885133984320043,
          "ŷ": 1.2594125510187173
         },
         {
          "y": 0.6377785633259736,
          "ŷ": 0.7009261836946148
         },
         {
          "y": 1.8564501522942283,
          "ŷ": 1.8021942483569833
         },
         {
          "y": 1.8535605774607244,
          "ŷ": 1.5532784150491892
         },
         {
          "y": 1.3632720754695633,
          "ŷ": 1.7285258448802956
         },
         {
          "y": 1.9145180465323182,
          "ŷ": 2.228896675246837
         },
         {
          "y": 0.3858719813443484,
          "ŷ": 0.5799642754993796
         },
         {
          "y": 1.6256436470837063,
          "ŷ": 1.3658942265839407
         },
         {
          "y": 1.6486293665122624,
          "ŷ": 1.9084879084493622
         },
         {
          "y": 1.035842360737572,
          "ŷ": 0.8941817666190045
         },
         {
          "y": 1.1066396113121253,
          "ŷ": 1.4151876719424452
         },
         {
          "y": 2.5421202185860823,
          "ŷ": 2.4416216452877686
         },
         {
          "y": 0.7831288073112824,
          "ŷ": 0.9129118461039247
         },
         {
          "y": 1.4526113588642742,
          "ŷ": 1.5018636713639515
         },
         {
          "y": 1.3375883633959975,
          "ŷ": 1.1377597013419247
         },
         {
          "y": 0.6645917771329276,
          "ŷ": 0.4214909223500247
         },
         {
          "y": 0.9332285838536172,
          "ŷ": 0.6327402083348882
         },
         {
          "y": 0.7796382663627925,
          "ŷ": 0.8705715164064403
         },
         {
          "y": 1.5286615423605954,
          "ŷ": 1.5931662906619681
         },
         {
          "y": 0.7522277189691261,
          "ŷ": 1.429491974288166
         },
         {
          "y": 1.3889249738465586,
          "ŷ": 1.2145328978965326
         },
         {
          "y": 2.402796980289634,
          "ŷ": 2.122112876544374
         },
         {
          "y": 0.4099901568464332,
          "ŷ": 0.5209791966842029
         },
         {
          "y": 2.2391183605675304,
          "ŷ": 2.211265820701089
         },
         {
          "y": 0.9844524909892588,
          "ŷ": 0.9424647914587302
         },
         {
          "y": 2.048618348810239,
          "ŷ": 1.894125281844736
         },
         {
          "y": 1.9970194492870708,
          "ŷ": 1.6153264467472837
         },
         {
          "y": 1.742864978178787,
          "ŷ": 1.9401158601963868
         },
         {
          "y": 1.7245093116876713,
          "ŷ": 1.5735010106659095
         },
         {
          "y": 2.0646714933637926,
          "ŷ": 2.052198822915196
         },
         {
          "y": 1.338934958208154,
          "ŷ": 1.295672369869888
         },
         {
          "y": 2.610030480790748,
          "ŷ": 2.304713761815427
         },
         {
          "y": 1.5518108876760068,
          "ŷ": 1.9126440525628945
         },
         {
          "y": 0.9452771605223234,
          "ŷ": 0.5359986656027993
         },
         {
          "y": 0.7931765914291965,
          "ŷ": 0.9643781287509474
         },
         {
          "y": 1.154614019497825,
          "ŷ": 0.7413040231538288
         },
         {
          "y": 1.8921842453095015,
          "ŷ": 1.245907357656945
         },
         {
          "y": 1.3066518173238018,
          "ŷ": 1.22198601390364
         },
         {
          "y": 2.2034937075483225,
          "ŷ": 2.2699345173728385
         },
         {
          "y": 1.6704175688822416,
          "ŷ": 1.3417951459912203
         },
         {
          "y": 1.48404158809109,
          "ŷ": 1.5324839437491822
         },
         {
          "y": 1.0000929751535632,
          "ŷ": 1.5735570368554872
         },
         {
          "y": 2.1172049423660315,
          "ŷ": 2.017096256463914
         },
         {
          "y": 2.327214253296429,
          "ŷ": 2.149682242498043
         },
         {
          "y": 2.0014449756023076,
          "ŷ": 1.8999778369176281
         },
         {
          "y": 2.392071469027945,
          "ŷ": 2.141450961838711
         },
         {
          "y": 0.8990504290568585,
          "ŷ": 0.984013617347554
         },
         {
          "y": 1.4407096613772703,
          "ŷ": 1.73135462226766
         },
         {
          "y": 1.2007474665699227,
          "ŷ": 1.4375490063624825
         },
         {
          "y": 0.5106847410546986,
          "ŷ": 0.6535183272828948
         },
         {
          "y": 1.4138417539114074,
          "ŷ": 1.5969383109052842
         },
         {
          "y": 0.7781325106962386,
          "ŷ": 0.5474051261353733
         },
         {
          "y": 1.1780720580132087,
          "ŷ": 1.3296179935315104
         },
         {
          "y": 1.870563438456674,
          "ŷ": 1.935389051939606
         },
         {
          "y": 1.8254594568288085,
          "ŷ": 1.821345331136377
         },
         {
          "y": 1.1342452393284828,
          "ŷ": 1.4100932149857164
         },
         {
          "y": 1.4680847754127908,
          "ŷ": 1.7437816035361013
         },
         {
          "y": 0.7255747810008613,
          "ŷ": 1.0635600257397804
         },
         {
          "y": 2.005858306266933,
          "ŷ": 1.7547771163626862
         },
         {
          "y": 2.2436650385206667,
          "ŷ": 2.2661911019582517
         },
         {
          "y": 0.7608513345954989,
          "ŷ": 0.9914918361656948
         },
         {
          "y": 1.824668813007679,
          "ŷ": 1.8997058615532871
         },
         {
          "y": 2.0345440030423134,
          "ŷ": 2.3388824247468003
         },
         {
          "y": 1.6900907548798476,
          "ŷ": 1.7905318464818205
         },
         {
          "y": 1.9061158495552721,
          "ŷ": 1.7331755897621377
         },
         {
          "y": 1.7919468636629665,
          "ŷ": 1.5515600913006578
         },
         {
          "y": 0.5202364222645082,
          "ŷ": 0.8242749066617967
         },
         {
          "y": 2.236733142541894,
          "ŷ": 1.7271324577605678
         },
         {
          "y": 1.421093036355537,
          "ŷ": 1.2185868880255224
         },
         {
          "y": 2.0318850479878336,
          "ŷ": 1.753020991589645
         },
         {
          "y": 1.2619660305970608,
          "ŷ": 1.1969624546812834
         },
         {
          "y": 0.9352673220352877,
          "ŷ": 0.8916689745414406
         },
         {
          "y": 1.6396113007909376,
          "ŷ": 1.6751373640960865
         },
         {
          "y": 1.5021188377911292,
          "ŷ": 1.3114285623886235
         },
         {
          "y": 1.725824249774918,
          "ŷ": 1.7023026343304621
         },
         {
          "y": 0.5284571343997919,
          "ŷ": 0.908336923286593
         },
         {
          "y": 0.6957021598173274,
          "ŷ": 0.8551966259676552
         },
         {
          "y": 1.6970913407583512,
          "ŷ": 1.8068843545699114
         },
         {
          "y": 1.981517088959629,
          "ŷ": 1.8428754745100941
         },
         {
          "y": 1.3665272229260375,
          "ŷ": 1.0820892974731087
         },
         {
          "y": 2.005370785277647,
          "ŷ": 1.9077803818573622
         },
         {
          "y": 1.2837550872062045,
          "ŷ": 1.2933253301826597
         },
         {
          "y": 1.5729586767586579,
          "ŷ": 1.1577241149762594
         },
         {
          "y": 2.1695381671710785,
          "ŷ": 2.2642026780401294
         },
         {
          "y": 0.641676201326909,
          "ŷ": 0.9852905216165502
         },
         {
          "y": 1.7719774230702692,
          "ŷ": 1.8948684212364542
         },
         {
          "y": 1.562847673765446,
          "ŷ": 1.4885179153440535
         },
         {
          "y": 1.5528618879481553,
          "ŷ": 1.5093848021807206
         },
         {
          "y": 0.6136820986241044,
          "ŷ": 0.5514527648200779
         },
         {
          "y": 0.8987799759220431,
          "ŷ": 0.7113904693392472
         },
         {
          "y": 0.9579845159823868,
          "ŷ": 0.9397184287301804
         },
         {
          "y": 2.6476931339404466,
          "ŷ": 2.1593564420267324
         },
         {
          "y": 1.5681947696155931,
          "ŷ": 1.584965560096412
         },
         {
          "y": 1.170320279635631,
          "ŷ": 1.3922156959004257
         },
         {
          "y": 2.006735128210959,
          "ŷ": 1.8734319937179704
         },
         {
          "y": 1.8340730433348562,
          "ŷ": 1.5810176156845577
         },
         {
          "y": 1.933905868406761,
          "ŷ": 1.8787520093482775
         },
         {
          "y": 1.0506701042204107,
          "ŷ": 1.286154343943733
         },
         {
          "y": 2.135276697902647,
          "ŷ": 1.866847541614773
         },
         {
          "y": 1.840623021698723,
          "ŷ": 1.6306497184770534
         },
         {
          "y": 1.5293092847222218,
          "ŷ": 1.625378146719654
         },
         {
          "y": 1.7675373833796566,
          "ŷ": 1.7928405763710182
         },
         {
          "y": 0.7135247825910838,
          "ŷ": 0.749032933197576
         },
         {
          "y": 1.477918192577178,
          "ŷ": 1.842227399854769
         },
         {
          "y": 0.9172157164536704,
          "ŷ": 1.0100564106071348
         },
         {
          "y": 1.4744806602284202,
          "ŷ": 1.6842007606779692
         },
         {
          "y": 1.453758378647787,
          "ŷ": 1.7034522766489621
         },
         {
          "y": 2.3277294083610434,
          "ŷ": 2.0818107649911295
         },
         {
          "y": 1.4491864379443837,
          "ŷ": 1.0465387449894794
         },
         {
          "y": 1.3515025596826922,
          "ŷ": 1.3514821868935991
         },
         {
          "y": 1.9640497682129865,
          "ŷ": 2.0701995293593733
         },
         {
          "y": 0.9524012037918947,
          "ŷ": 1.2768523663214215
         },
         {
          "y": 1.7828820475357035,
          "ŷ": 1.7631484034551337
         },
         {
          "y": 1.4717213915440361,
          "ŷ": 1.4895907557583035
         },
         {
          "y": 2.1279148809101556,
          "ŷ": 2.126507137916843
         },
         {
          "y": 1.6660678629646954,
          "ŷ": 1.476579688433886
         },
         {
          "y": 2.7868060757094795,
          "ŷ": 2.6851292696032094
         },
         {
          "y": 1.630699229815579,
          "ŷ": 1.6710278634006224
         },
         {
          "y": 1.5370251974017508,
          "ŷ": 1.427094714581507
         },
         {
          "y": 1.8031048147861912,
          "ŷ": 1.7684396870488561
         },
         {
          "y": 1.7929452419612826,
          "ŷ": 1.5972851614208472
         },
         {
          "y": 0.9934105692488688,
          "ŷ": 1.0545356846793135
         },
         {
          "y": 0.6529631872734892,
          "ŷ": 0.7164375981605464
         },
         {
          "y": 1.0738754050372241,
          "ŷ": 1.1234263520871166
         },
         {
          "y": 0.9575257755222862,
          "ŷ": 0.9430895827784368
         },
         {
          "y": 1.8530762063939654,
          "ŷ": 1.7012963672483241
         },
         {
          "y": 2.4551188877374948,
          "ŷ": 1.6765177359383203
         },
         {
          "y": 1.8589802327194183,
          "ŷ": 2.199437004278204
         },
         {
          "y": 2.125566132097442,
          "ŷ": 1.8944560502054708
         },
         {
          "y": 1.9112766207514098,
          "ŷ": 1.83710801730962
         },
         {
          "y": 2.212982978100738,
          "ŷ": 2.2117357855499167
         },
         {
          "y": 1.5273524487185415,
          "ŷ": 1.272247519617601
         },
         {
          "y": 0.903490646687426,
          "ŷ": 0.9553226675514493
         },
         {
          "y": 0.7605832029946071,
          "ŷ": 1.066452852569684
         },
         {
          "y": 1.4475528993144515,
          "ŷ": 1.2267514278222063
         },
         {
          "y": 1.629774612326703,
          "ŷ": 1.7901117568240423
         },
         {
          "y": 0.45919772170896034,
          "ŷ": 0.37064969982262463
         },
         {
          "y": 1.4686542017849646,
          "ŷ": 1.4997743042381952
         },
         {
          "y": 1.0090909817638027,
          "ŷ": 1.029534121378724
         },
         {
          "y": 1.0287656948968333,
          "ŷ": 0.73103696008664
         },
         {
          "y": 1.5315178340282558,
          "ŷ": 1.6126746667853564
         },
         {
          "y": 2.1125573094498638,
          "ŷ": 1.9989515228967452
         },
         {
          "y": 1.3058350453389242,
          "ŷ": 0.8429890428714427
         },
         {
          "y": 0.26057850643776026,
          "ŷ": 0.6112843138670128
         },
         {
          "y": 1.3688826068173547,
          "ŷ": 1.403104004988449
         },
         {
          "y": 1.0775836083558745,
          "ŷ": 1.1930100368360932
         },
         {
          "y": 1.0553118725858237,
          "ŷ": 1.0440547799807645
         },
         {
          "y": 1.1968499083243256,
          "ŷ": 1.0895213796958665
         },
         {
          "y": 1.3379071033568133,
          "ŷ": 1.144046696559091
         },
         {
          "y": 0.5918348502590345,
          "ŷ": 0.303397585280477
         },
         {
          "y": 0.38453204417371234,
          "ŷ": 0.6937308387415474
         },
         {
          "y": 1.3594003496246212,
          "ŷ": 1.5001967329393209
         },
         {
          "y": 0.9649949375306934,
          "ŷ": 1.2600411841536816
         },
         {
          "y": 1.9447904690252331,
          "ŷ": 1.9029849537799195
         },
         {
          "y": 0.9127891821207352,
          "ŷ": 1.5412068826947583
         },
         {
          "y": 2.0540327881824614,
          "ŷ": 2.177026410096171
         },
         {
          "y": 2.1631981312550517,
          "ŷ": 2.059936085867865
         },
         {
          "y": 1.2513154341984496,
          "ŷ": 1.061825474606002
         },
         {
          "y": 0.9483845149000815,
          "ŷ": 0.8313690750198087
         },
         {
          "y": 1.4458572587456957,
          "ŷ": 1.423233419776339
         },
         {
          "y": 2.216301409177112,
          "ŷ": 1.980940083060106
         },
         {
          "y": 1.0538547902327877,
          "ŷ": 1.4617917580911042
         },
         {
          "y": 0.4111865436482643,
          "ŷ": 0.8480638278674852
         },
         {
          "y": 2.6196897406020425,
          "ŷ": 2.5093059926115364
         },
         {
          "y": 1.5479114397348983,
          "ŷ": 1.2916872198088594
         },
         {
          "y": 1.4315037381990139,
          "ŷ": 1.553048891691766
         },
         {
          "y": 1.116137419947695,
          "ŷ": 1.390975151019069
         },
         {
          "y": 1.606275373951988,
          "ŷ": 1.6323719225459692
         },
         {
          "y": 1.8292440509928336,
          "ŷ": 2.1623129640448835
         },
         {
          "y": 1.5464813856267456,
          "ŷ": 1.525657335295336
         },
         {
          "y": 0.9250781224550566,
          "ŷ": 1.1942502202180592
         },
         {
          "y": 1.279264057945876,
          "ŷ": 1.4182779876087712
         },
         {
          "y": 0.9835125267242296,
          "ŷ": 1.1211199055354264
         },
         {
          "y": 2.124520210770016,
          "ŷ": 2.077132911080488
         },
         {
          "y": 1.5299725450547466,
          "ŷ": 1.5629079532701904
         },
         {
          "y": 2.557169819891085,
          "ŷ": 2.128729303397956
         },
         {
          "y": 0.6514345014978291,
          "ŷ": 0.8473613437248306
         },
         {
          "y": 1.2999130881591765,
          "ŷ": 1.2084072981430374
         },
         {
          "y": 2.247386019082038,
          "ŷ": 2.2372588696490157
         },
         {
          "y": 2.288839294040727,
          "ŷ": 2.3004731770978486
         },
         {
          "y": 1.6943982308119747,
          "ŷ": 1.6235617027653484
         },
         {
          "y": 1.1333469216804226,
          "ŷ": 1.285326176616179
         },
         {
          "y": 2.272017281898728,
          "ŷ": 2.215621818507847
         },
         {
          "y": 2.1846441988432974,
          "ŷ": 2.1740397372017024
         },
         {
          "y": 1.8315051903706667,
          "ŷ": 1.6803645496651272
         },
         {
          "y": 1.136020584490155,
          "ŷ": 1.0956866030327046
         },
         {
          "y": 1.3606929341862293,
          "ŷ": 1.7974514359738885
         },
         {
          "y": 1.0087669064517093,
          "ŷ": 0.7977899485454321
         },
         {
          "y": 1.8832549844327382,
          "ŷ": 1.6368442766752547
         },
         {
          "y": 1.3716890650809848,
          "ŷ": 1.348373686932438
         },
         {
          "y": 0.6870499136968018,
          "ŷ": 0.7678593443727136
         },
         {
          "y": 1.1976234057366397,
          "ŷ": 1.166346625547255
         },
         {
          "y": 1.9558632452756608,
          "ŷ": 1.7404974477191304
         },
         {
          "y": 1.6583380704623598,
          "ŷ": 1.5347808082729892
         },
         {
          "y": 2.2897687500746517,
          "ŷ": 2.1395212949799607
         },
         {
          "y": 0.6353376068461455,
          "ŷ": 0.9320641228097389
         },
         {
          "y": 0.6299853745598546,
          "ŷ": 0.9995867015689907
         },
         {
          "y": 2.294752918273367,
          "ŷ": 2.3741479272726846
         },
         {
          "y": 2.050381070403354,
          "ŷ": 1.840998866696917
         },
         {
          "y": 1.4846334307800757,
          "ŷ": 1.30087886492563
         },
         {
          "y": 2.4126995925935164,
          "ŷ": 2.5780874154876883
         },
         {
          "y": 1.267305406541271,
          "ŷ": 1.2661243751451636
         },
         {
          "y": 2.036074272504006,
          "ŷ": 1.8027949671007888
         },
         {
          "y": 1.5682999928341528,
          "ŷ": 1.7438502580260282
         },
         {
          "y": 1.6846389586203043,
          "ŷ": 1.3829915443927714
         },
         {
          "y": 0.473187846155398,
          "ŷ": 0.7375657398923158
         },
         {
          "y": 1.765531188971895,
          "ŷ": 1.7664199211841398
         },
         {
          "y": 1.7055996944632608,
          "ŷ": 1.7825321317770004
         },
         {
          "y": 1.6499333292478753,
          "ŷ": 1.4192016087535129
         },
         {
          "y": 2.030190724235417,
          "ŷ": 2.321025736402129
         },
         {
          "y": 1.3495108155856845,
          "ŷ": 1.5643040999391782
         },
         {
          "y": 0.9088864253736715,
          "ŷ": 1.2889668728008374
         },
         {
          "y": 2.225024812262396,
          "ŷ": 2.052630044130808
         },
         {
          "y": 0.6077977862313407,
          "ŷ": 0.9306475448478465
         },
         {
          "y": 1.5877884096164863,
          "ŷ": 1.553630993822364
         },
         {
          "y": 1.791592388681899,
          "ŷ": 1.6922871698233257
         },
         {
          "y": 1.158177535627402,
          "ŷ": 1.3051740680802366
         },
         {
          "y": 1.5596469046709702,
          "ŷ": 1.8642395954352864
         },
         {
          "y": 2.0269012748837953,
          "ŷ": 1.8969478144824055
         },
         {
          "y": 1.410503089531424,
          "ŷ": 1.7881158926770755
         },
         {
          "y": 0.9592962878156743,
          "ŷ": 0.6117514975531172
         },
         {
          "y": 2.083260210317622,
          "ŷ": 1.9931065794131202
         },
         {
          "y": 0.9436224406802401,
          "ŷ": 1.2248775153273113
         },
         {
          "y": 1.454388723668614,
          "ŷ": 1.5084459142660678
         },
         {
          "y": 1.6863287366643782,
          "ŷ": 1.629321173833529
         },
         {
          "y": 2.276012545612892,
          "ŷ": 2.2528782275701897
         },
         {
          "y": 0.7597446884965775,
          "ŷ": 1.054842365081388
         },
         {
          "y": 3.030633301967488,
          "ŷ": 2.573545883392584
         },
         {
          "y": 1.2542686069804843,
          "ŷ": 1.2874487528423773
         },
         {
          "y": 2.1111780748826217,
          "ŷ": 1.8718381746222101
         },
         {
          "y": 1.663789754691737,
          "ŷ": 1.347572422774551
         },
         {
          "y": 1.925310250475501,
          "ŷ": 1.8014137787189328
         },
         {
          "y": 1.2227270597059536,
          "ŷ": 1.2873211114560923
         },
         {
          "y": 0.9881163476175369,
          "ŷ": 0.9221027106621142
         },
         {
          "y": 2.0199800159439505,
          "ŷ": 1.8067850857420191
         },
         {
          "y": 0.933713890561634,
          "ŷ": 1.0113176796042411
         },
         {
          "y": 0.9683267996954918,
          "ŷ": 0.9878330827004033
         },
         {
          "y": 1.6967888920808356,
          "ŷ": 1.50450988676888
         },
         {
          "y": 1.0777863482833037,
          "ŷ": 0.8635400908788863
         },
         {
          "y": 2.353245808420517,
          "ŷ": 2.4486035293854282
         },
         {
          "y": 0.9570281008947736,
          "ŷ": 0.6356703373196003
         },
         {
          "y": 2.2579025744885546,
          "ŷ": 1.8720998738702705
         },
         {
          "y": 0.7823471781513794,
          "ŷ": 1.4500639783165539
         },
         {
          "y": 2.1754442652394625,
          "ŷ": 2.033715205991389
         },
         {
          "y": 1.7802739809051809,
          "ŷ": 1.7591137753841546
         },
         {
          "y": 1.3904982807981965,
          "ŷ": 1.4779398769276926
         },
         {
          "y": 2.6824459358723143,
          "ŷ": 2.5367682233338043
         },
         {
          "y": 2.1735946140351587,
          "ŷ": 1.741713814731086
         },
         {
          "y": 1.2871279751776328,
          "ŷ": 1.519016912067064
         },
         {
          "y": 1.481476298955002,
          "ŷ": 1.8356014327590744
         },
         {
          "y": 1.3764708011512028,
          "ŷ": 1.3760801631390838
         },
         {
          "y": 2.101118469727364,
          "ŷ": 1.8545252840323252
         },
         {
          "y": 1.551396622038578,
          "ŷ": 1.4963529774539073
         },
         {
          "y": 0.6669497399733393,
          "ŷ": 0.7970244033614602
         },
         {
          "y": 1.6387870458814484,
          "ŷ": 1.7045993215536464
         },
         {
          "y": 1.120098784309337,
          "ŷ": 0.9799900436294959
         },
         {
          "y": 0.4453867500728192,
          "ŷ": 0.5624881590561222
         },
         {
          "y": 2.140801025607057,
          "ŷ": 2.273894131422515
         },
         {
          "y": 1.101638685355223,
          "ŷ": 0.9924855782477028
         },
         {
          "y": 1.0381120188598734,
          "ŷ": 0.9378433054519917
         },
         {
          "y": 2.2254810843123543,
          "ŷ": 2.0264005434202024
         },
         {
          "y": 1.7162279659055155,
          "ŷ": 1.6199819082148867
         },
         {
          "y": 1.1521002137304475,
          "ŷ": 0.5401912441222161
         },
         {
          "y": 1.5152163449511538,
          "ŷ": 1.7451909938477361
         },
         {
          "y": 1.9995706234480033,
          "ŷ": 2.324190784742561
         },
         {
          "y": 1.1977492038312085,
          "ŷ": 0.7781861441649445
         },
         {
          "y": 1.6206051020636527,
          "ŷ": 1.4841874659675292
         },
         {
          "y": 2.481633549897141,
          "ŷ": 2.4805218293979783
         },
         {
          "y": 1.515980953333251,
          "ŷ": 1.635858801172512
         },
         {
          "y": 1.6149961849915035,
          "ŷ": 1.9005255051529493
         },
         {
          "y": 2.0997707845727427,
          "ŷ": 1.665174671321341
         },
         {
          "y": 1.6382037140955652,
          "ŷ": 1.4247049543698935
         },
         {
          "y": 2.6421220423952874,
          "ŷ": 2.6800125376556645
         },
         {
          "y": 0.6333215669803931,
          "ŷ": 0.8148055580096644
         },
         {
          "y": 0.39090469851218934,
          "ŷ": 0.9589871040642441
         },
         {
          "y": 2.663571704956333,
          "ŷ": 2.5587692906738804
         },
         {
          "y": 1.4636571001634977,
          "ŷ": 1.5109083249663129
         },
         {
          "y": 0.8902466922858059,
          "ŷ": 0.8244435429163302
         },
         {
          "y": 0.7696923479938628,
          "ŷ": 0.7933208963953461
         },
         {
          "y": 2.175889447552716,
          "ŷ": 1.9712212778175493
         },
         {
          "y": 1.788478175493065,
          "ŷ": 1.831100922064268
         },
         {
          "y": 1.6570452006776653,
          "ŷ": 1.4296533137170213
         },
         {
          "y": 0.29102917670066925,
          "ŷ": 0.7641545510305017
         },
         {
          "y": 1.7362771926799285,
          "ŷ": 1.6222083327403105
         },
         {
          "y": 1.1053648762679282,
          "ŷ": 1.133823755892908
         },
         {
          "y": 1.1390494004301455,
          "ŷ": 1.4602147563423842
         },
         {
          "y": 1.2072698151318275,
          "ŷ": 1.2373981579306297
         },
         {
          "y": 2.07396051043969,
          "ŷ": 1.4691970181347715
         },
         {
          "y": 1.6086727883701928,
          "ŷ": 1.86822052462117
         },
         {
          "y": 0.6214006277963579,
          "ŷ": 0.966336191939452
         },
         {
          "y": 2.0799955625177797,
          "ŷ": 1.8645951830399137
         },
         {
          "y": 1.5590110488483628,
          "ŷ": 1.6229829884157965
         },
         {
          "y": 1.0964941186352677,
          "ŷ": 1.2482833925815087
         },
         {
          "y": 1.217890691834178,
          "ŷ": 0.9365762341820261
         },
         {
          "y": 1.599954159442189,
          "ŷ": 1.9084819943050262
         },
         {
          "y": 0.6362312352810291,
          "ŷ": 1.363410006844749
         },
         {
          "y": 0.344193570490467,
          "ŷ": 0.8656611313471262
         },
         {
          "y": 0.9142833347783452,
          "ŷ": 0.9572726432015127
         },
         {
          "y": 1.3598091863719253,
          "ŷ": 1.5023151136015964
         },
         {
          "y": 2.583611655303752,
          "ŷ": 2.368613935461292
         },
         {
          "y": 2.017205770260578,
          "ŷ": 1.7606894682895298
         },
         {
          "y": 1.5879102504555562,
          "ŷ": 1.5638553850141486
         },
         {
          "y": 1.0823054339347136,
          "ŷ": 1.1455387924750913
         },
         {
          "y": 1.1886306754652356,
          "ŷ": 1.2161992020372059
         },
         {
          "y": 1.0294483327509907,
          "ŷ": 0.8814908916865583
         },
         {
          "y": 1.348729916290109,
          "ŷ": 1.489325708974339
         },
         {
          "y": 2.9350485199747487,
          "ŷ": 2.5142286900177675
         },
         {
          "y": 1.9439348711280697,
          "ŷ": 1.6334924793900087
         },
         {
          "y": 0.7540509587151061,
          "ŷ": 1.1486111465639053
         },
         {
          "y": 1.3765827060664797,
          "ŷ": 1.2078691724409285
         },
         {
          "y": 2.1181239961635794,
          "ŷ": 1.8970846193369446
         },
         {
          "y": 1.3309688984224923,
          "ŷ": 1.7042825480363617
         },
         {
          "y": 1.0070468883224943,
          "ŷ": 1.2160738355502565
         },
         {
          "y": 2.5213721244421667,
          "ŷ": 2.1005103391866466
         },
         {
          "y": 1.353360512643099,
          "ŷ": 1.8239641811107992
         },
         {
          "y": 1.3598712790812981,
          "ŷ": 1.2291843683336028
         },
         {
          "y": 1.9689225123280805,
          "ŷ": 1.94045659037297
         },
         {
          "y": 1.6537946148947105,
          "ŷ": 1.8012737442579019
         },
         {
          "y": 0.8377442503272932,
          "ŷ": 1.203234715168702
         },
         {
          "y": 1.794415771715746,
          "ŷ": 1.397913365594669
         },
         {
          "y": 1.1645318463297951,
          "ŷ": 1.100029545638424
         },
         {
          "y": 1.021735876679081,
          "ŷ": 1.3208550860148554
         },
         {
          "y": 1.4083829468643747,
          "ŷ": 1.6704273110146808
         },
         {
          "y": 1.251309523453609,
          "ŷ": 1.1814150480558532
         },
         {
          "y": 0.9598200689553978,
          "ŷ": 1.106678852866522
         },
         {
          "y": 0.8062508972049307,
          "ŷ": 1.1369534290773873
         },
         {
          "y": 2.736035234081142,
          "ŷ": 2.6150241130971903
         },
         {
          "y": 0.9977870540981864,
          "ŷ": 1.0280033435838936
         },
         {
          "y": 2.009118715041052,
          "ŷ": 1.9401847821492615
         },
         {
          "y": 1.4986459061549182,
          "ŷ": 1.4671724690395447
         },
         {
          "y": 1.567302008167193,
          "ŷ": 1.70698583386463
         },
         {
          "y": 0.8076797048988062,
          "ŷ": 0.9969506128494174
         },
         {
          "y": 2.617804418686934,
          "ŷ": 2.265139235108897
         },
         {
          "y": 1.2659389979574172,
          "ŷ": 1.3714576926190538
         },
         {
          "y": 1.2022308549486054,
          "ŷ": 1.396031006614429
         },
         {
          "y": 1.3137458229439087,
          "ŷ": 1.3603816540784692
         },
         {
          "y": 0.6502477458729935,
          "ŷ": 0.7977408081549627
         },
         {
          "y": 2.409505688115553,
          "ŷ": 2.3644474278738246
         },
         {
          "y": 1.7104876601557206,
          "ŷ": 1.7662787631177521
         },
         {
          "y": 2.097053508998398,
          "ŷ": 1.9833585974577905
         },
         {
          "y": 1.5602594155880622,
          "ŷ": 1.6279539729244383
         },
         {
          "y": 0.7127443628514079,
          "ŷ": 1.0961497089426857
         },
         {
          "y": 1.2970701496639174,
          "ŷ": 1.5056166458660827
         },
         {
          "y": 1.2288651670282265,
          "ŷ": 1.5044874369174244
         },
         {
          "y": 1.485417093302378,
          "ŷ": 1.5803527498408132
         },
         {
          "y": 1.6812261531557264,
          "ŷ": 1.7657784656608044
         },
         {
          "y": 1.7745125990324293,
          "ŷ": 1.6174714966528285
         },
         {
          "y": 1.6438944283926722,
          "ŷ": 1.3985339506601397
         },
         {
          "y": 0.9985751438958971,
          "ŷ": 1.1733939930021535
         },
         {
          "y": 1.4458081965086669,
          "ŷ": 1.2835227857030556
         },
         {
          "y": 2.0152039326330238,
          "ŷ": 1.6234409917041133
         },
         {
          "y": 2.5190133621480677,
          "ŷ": 2.170629239773576
         },
         {
          "y": 0.7272677987073809,
          "ŷ": 0.837393137782491
         },
         {
          "y": 1.7884669756845246,
          "ŷ": 1.2263273457331605
         },
         {
          "y": 1.3742540667726897,
          "ŷ": 1.3718372846622635
         },
         {
          "y": 1.4669989036821,
          "ŷ": 1.54187973776128
         },
         {
          "y": 1.7034644155675722,
          "ŷ": 1.6632208679372957
         },
         {
          "y": 1.661363626512257,
          "ŷ": 1.5296458160951067
         },
         {
          "y": 1.0957868630975924,
          "ŷ": 0.7873823826493604
         },
         {
          "y": 2.463947596520071,
          "ŷ": 1.9232222331568136
         },
         {
          "y": 1.7906892534679228,
          "ŷ": 2.1928921965364596
         },
         {
          "y": 1.0956058770398698,
          "ŷ": 1.5181197661506027
         },
         {
          "y": 1.3968935839685408,
          "ŷ": 1.6207359580592506
         },
         {
          "y": 1.3182220182882742,
          "ŷ": 1.2561688842198764
         },
         {
          "y": 1.5262102825656088,
          "ŷ": 1.6508089923140254
         },
         {
          "y": 2.8204012154274496,
          "ŷ": 2.346162248246073
         },
         {
          "y": 2.3589735915934957,
          "ŷ": 1.8849704134026546
         },
         {
          "y": 0.7788798546652638,
          "ŷ": 1.0716923296428158
         },
         {
          "y": 1.5895187466268954,
          "ŷ": 1.667706705878728
         },
         {
          "y": 1.6852115017065543,
          "ŷ": 1.6748964440449827
         },
         {
          "y": 1.4208643246359993,
          "ŷ": 1.7563659153476823
         },
         {
          "y": 1.6185661539127025,
          "ŷ": 1.4614647808155834
         },
         {
          "y": 1.560750126479072,
          "ŷ": 1.7989808098806377
         },
         {
          "y": 1.4257178612114292,
          "ŷ": 1.467594624087509
         },
         {
          "y": 1.4620385173264316,
          "ŷ": 1.2458277868242398
         },
         {
          "y": 1.6893070527254088,
          "ŷ": 2.0004591291641938
         },
         {
          "y": 1.3952980358369567,
          "ŷ": 1.6651053055093092
         },
         {
          "y": 1.8741772914271193,
          "ŷ": 1.6345302624300828
         },
         {
          "y": 1.9699673297412903,
          "ŷ": 2.1887515994196285
         },
         {
          "y": 0.7667112966549348,
          "ŷ": 0.7966570547316861
         },
         {
          "y": 1.7057919650653903,
          "ŷ": 2.1126244278309385
         },
         {
          "y": 1.8112026405260502,
          "ŷ": 1.4964609852142328
         },
         {
          "y": 2.9184198786794213,
          "ŷ": 2.7024382505423437
         },
         {
          "y": 1.3759698309771211,
          "ŷ": 1.5085438765754327
         },
         {
          "y": 1.519953551494214,
          "ŷ": 1.4227902371845917
         },
         {
          "y": 2.228633280104114,
          "ŷ": 2.088845960778881
         },
         {
          "y": 1.3418005220859202,
          "ŷ": 1.52494197364314
         },
         {
          "y": 1.4390064764709507,
          "ŷ": 1.4706482707997401
         },
         {
          "y": 2.317831814064877,
          "ŷ": 2.3125952476437637
         },
         {
          "y": 1.398113195230429,
          "ŷ": 1.5823036239862847
         },
         {
          "y": 1.8182248152100262,
          "ŷ": 2.0351228467889984
         },
         {
          "y": 1.9578362435961578,
          "ŷ": 2.0180998513969706
         },
         {
          "y": 0.3549891098398965,
          "ŷ": 0.7495785482615606
         },
         {
          "y": 0.4906288146774848,
          "ŷ": 0.3941046336020012
         },
         {
          "y": 0.9239497345534953,
          "ŷ": 0.6342941272496766
         },
         {
          "y": 2.6712709945767124,
          "ŷ": 2.608307440061295
         },
         {
          "y": 1.274828369208308,
          "ŷ": 1.3752180796504607
         },
         {
          "y": 1.6554619806017783,
          "ŷ": 1.7617376904875275
         },
         {
          "y": 0.6232323466408896,
          "ŷ": 0.7346589698918877
         },
         {
          "y": 0.5588152602673535,
          "ŷ": 0.2819834955252235
         },
         {
          "y": 1.916446126863724,
          "ŷ": 1.8655438679831406
         },
         {
          "y": 1.6933492208743912,
          "ŷ": 1.763868914686411
         },
         {
          "y": 2.115467877692347,
          "ŷ": 2.2294091048061118
         },
         {
          "y": 1.0999622461750769,
          "ŷ": 1.2304138528462014
         },
         {
          "y": 2.949294110468072,
          "ŷ": 2.7050380110947545
         },
         {
          "y": 0.4976353833653017,
          "ŷ": 0.776728878478843
         },
         {
          "y": 2.2381892891885826,
          "ŷ": 2.3157413116714687
         },
         {
          "y": 1.6335233496601889,
          "ŷ": 1.4201655413506409
         },
         {
          "y": 1.489582836585284,
          "ŷ": 1.2822211690498961
         },
         {
          "y": 0.47250213911506955,
          "ŷ": 1.1715001836737187
         },
         {
          "y": 0.6192032025549615,
          "ŷ": 0.5186080277539632
         },
         {
          "y": 1.9358041757230624,
          "ŷ": 2.0563079925805465
         },
         {
          "y": 0.7130941514816825,
          "ŷ": 0.882087144705031
         },
         {
          "y": 1.5033976271921523,
          "ŷ": 1.3976641600600719
         },
         {
          "y": 1.5863297951140967,
          "ŷ": 1.4408049361214041
         },
         {
          "y": 1.7115663819818718,
          "ŷ": 1.9437715555765245
         },
         {
          "y": 2.5464886720762987,
          "ŷ": 2.4807204996486707
         },
         {
          "y": 0.8641592572960667,
          "ŷ": 0.7170335349396684
         },
         {
          "y": 0.9973838124211906,
          "ŷ": 0.9594765323458878
         },
         {
          "y": 2.319626250674819,
          "ŷ": 2.262979696121919
         },
         {
          "y": 1.8342502736389485,
          "ŷ": 1.8951738333029435
         },
         {
          "y": 1.7981749888709124,
          "ŷ": 1.5892094793263876
         },
         {
          "y": 1.028455424499344,
          "ŷ": 1.2430325037554495
         },
         {
          "y": 0.5383812522656068,
          "ŷ": 0.7217801299682617
         },
         {
          "y": 1.4593769368740066,
          "ŷ": 1.5479151219146043
         },
         {
          "y": 1.5696459523265154,
          "ŷ": 1.822158129827869
         },
         {
          "y": 1.3637319322880113,
          "ŷ": 1.3256566899342679
         },
         {
          "y": 1.3613582367231358,
          "ŷ": 1.869720936213929
         },
         {
          "y": 1.9601820164767858,
          "ŷ": 1.8306365699664564
         },
         {
          "y": 1.442296891144896,
          "ŷ": 1.4795772401264395
         },
         {
          "y": 1.7215761342978217,
          "ŷ": 1.8113615365172107
         },
         {
          "y": 1.8423704686943485,
          "ŷ": 1.7562480692342117
         },
         {
          "y": 1.497418494349452,
          "ŷ": 1.2592299946462708
         },
         {
          "y": 0.9830167809815901,
          "ŷ": 1.372352774617248
         },
         {
          "y": 0.8905688588146399,
          "ŷ": 0.6595680405517769
         },
         {
          "y": 0.6062471062624024,
          "ŷ": 0.9773606424239415
         },
         {
          "y": 1.7229622425313382,
          "ŷ": 1.6561797552356934
         },
         {
          "y": 1.8232969827624261,
          "ŷ": 1.8338500360449717
         },
         {
          "y": 1.0267145244571942,
          "ŷ": 1.001008394714637
         },
         {
          "y": 1.6972932878976703,
          "ŷ": 1.3772816785842588
         },
         {
          "y": 1.598660696165799,
          "ŷ": 1.4830950744676301
         },
         {
          "y": 1.8391604750042325,
          "ŷ": 1.8465677576419872
         },
         {
          "y": 1.3557100601435808,
          "ŷ": 1.433939974443339
         },
         {
          "y": 2.165959413650507,
          "ŷ": 2.1810503271621355
         },
         {
          "y": 1.9372639882308236,
          "ŷ": 2.288129360332843
         },
         {
          "y": 1.2177629119614843,
          "ŷ": 1.2013451421269496
         },
         {
          "y": 1.6933331940936676,
          "ŷ": 1.5543488739989453
         },
         {
          "y": 1.0191532295570156,
          "ŷ": 1.3336917178824348
         },
         {
          "y": 2.2968255873621826,
          "ŷ": 1.6500780870390577
         },
         {
          "y": 1.4873737579600304,
          "ŷ": 1.4086997886653927
         },
         {
          "y": 2.303335697136627,
          "ŷ": 2.011074919058157
         },
         {
          "y": 1.1941988834787431,
          "ŷ": 1.4460710091477624
         },
         {
          "y": 0.547271333393954,
          "ŷ": 0.4226563501342038
         },
         {
          "y": 0.9164804450822682,
          "ŷ": 1.5203802572031069
         },
         {
          "y": 2.2680895831160806,
          "ŷ": 2.1278562238345833
         },
         {
          "y": 1.1784688903439304,
          "ŷ": 1.1672102361662742
         },
         {
          "y": 2.0673968706561157,
          "ŷ": 1.9529318173545709
         },
         {
          "y": 1.6308660742376484,
          "ŷ": 1.7647255735198295
         },
         {
          "y": 1.589948119482127,
          "ŷ": 1.5329507311518606
         },
         {
          "y": 1.4703948534630147,
          "ŷ": 1.4268775776091702
         },
         {
          "y": 1.386770511688545,
          "ŷ": 1.312694950459242
         },
         {
          "y": 1.136081765588289,
          "ŷ": 1.2447873647244385
         },
         {
          "y": 1.1506042942619694,
          "ŷ": 1.3620086582528315
         },
         {
          "y": 0.9788648353017992,
          "ŷ": 1.1722982355911578
         },
         {
          "y": 1.3206844337875407,
          "ŷ": 1.5738660055515747
         },
         {
          "y": 1.2041504431736239,
          "ŷ": 1.457331565484646
         },
         {
          "y": 2.1551373872415835,
          "ŷ": 1.9504526369321937
         },
         {
          "y": 1.2565708792046524,
          "ŷ": 1.3812880734401598
         },
         {
          "y": 0.2356941681200606,
          "ŷ": 0.9751921913947416
         },
         {
          "y": 2.252063172311879,
          "ŷ": 1.604332256422672
         },
         {
          "y": 1.5733861160381484,
          "ŷ": 1.5220682327689186
         },
         {
          "y": 1.1211600373320894,
          "ŷ": 1.2381092317934423
         },
         {
          "y": 2.5228518284737134,
          "ŷ": 2.2365736064096815
         },
         {
          "y": 1.9602490535641408,
          "ŷ": 1.844659777690231
         },
         {
          "y": 1.0592406977425057,
          "ŷ": 1.0239554826354036
         },
         {
          "y": 2.4407777612634725,
          "ŷ": 2.4594198634836832
         },
         {
          "y": 1.9665293681533622,
          "ŷ": 1.775378076869761
         },
         {
          "y": 1.5303663833920822,
          "ŷ": 1.579708205535175
         },
         {
          "y": 0.26828452756053833,
          "ŷ": 0.38130607801657745
         },
         {
          "y": 0.2880850915022338,
          "ŷ": 0.4939877968581883
         },
         {
          "y": 1.1736061867887886,
          "ŷ": 1.16056577157669
         },
         {
          "y": 0.7734898712607936,
          "ŷ": 0.7244493499485231
         },
         {
          "y": 1.0060324521098332,
          "ŷ": 0.8227190403053297
         },
         {
          "y": 2.1361987408069694,
          "ŷ": 2.082546222259369
         },
         {
          "y": 1.8248697520799966,
          "ŷ": 1.677814925034463
         },
         {
          "y": 1.3902060501774591,
          "ŷ": 1.6397398972359472
         },
         {
          "y": 1.1331903588361882,
          "ŷ": 1.679696761425374
         },
         {
          "y": 1.0126616095874588,
          "ŷ": 1.5047765133269886
         },
         {
          "y": 2.026396908954508,
          "ŷ": 2.452469456968416
         },
         {
          "y": 1.5569649389499132,
          "ŷ": 1.9153679912822834
         },
         {
          "y": 1.945916809265518,
          "ŷ": 1.8844495997913864
         },
         {
          "y": 1.87243857457644,
          "ŷ": 1.9311526660140659
         },
         {
          "y": 1.6072430469701156,
          "ŷ": 1.4831387659336313
         },
         {
          "y": 1.9210099320754697,
          "ŷ": 2.0040617508850187
         },
         {
          "y": 1.2382599194476458,
          "ŷ": 1.3596653737786324
         },
         {
          "y": 0.9425658424918744,
          "ŷ": 1.2493901828289389
         },
         {
          "y": 1.2136933459174786,
          "ŷ": 1.0378865862772264
         },
         {
          "y": 1.3069191502061175,
          "ŷ": 1.2671450615626758
         },
         {
          "y": 1.0523537446148534,
          "ŷ": 0.950269048642492
         },
         {
          "y": 1.3030457881772084,
          "ŷ": 1.225928527542135
         },
         {
          "y": 0.4731234826784535,
          "ŷ": 0.6728227848197635
         },
         {
          "y": 0.6910943618772434,
          "ŷ": 1.1452006625577769
         },
         {
          "y": 2.0828990181515965,
          "ŷ": 1.446909515739286
         },
         {
          "y": 1.8987963216921877,
          "ŷ": 2.0099371361072103
         },
         {
          "y": 1.8561131515864888,
          "ŷ": 1.9309906155427885
         },
         {
          "y": 1.7588763071948927,
          "ŷ": 1.7735283768444956
         },
         {
          "y": 0.8907106214719335,
          "ŷ": 1.238720206540677
         },
         {
          "y": 0.42894337794792115,
          "ŷ": 0.42592666759706777
         },
         {
          "y": 1.062938620242717,
          "ŷ": 0.8113999216797304
         },
         {
          "y": 1.0340765896834139,
          "ŷ": 1.1224724706433602
         },
         {
          "y": 0.8888473658235242,
          "ŷ": 1.1680749443866882
         },
         {
          "y": 0.9603034687423244,
          "ŷ": 1.020965804317805
         },
         {
          "y": 0.9560131902210596,
          "ŷ": 1.201378657035821
         },
         {
          "y": 2.5933992322097024,
          "ŷ": 2.144899020374404
         },
         {
          "y": 0.38197325621214273,
          "ŷ": 0.7923495826868981
         },
         {
          "y": 1.7631948237103945,
          "ŷ": 1.757577211682819
         },
         {
          "y": 1.34056449653808,
          "ŷ": 1.4322711058186341
         },
         {
          "y": 1.0768417337265368,
          "ŷ": 1.2431906703770765
         },
         {
          "y": 1.7767071340869647,
          "ŷ": 1.6102405137967044
         },
         {
          "y": 1.104467571376809,
          "ŷ": 1.4763416562063831
         },
         {
          "y": 0.965720564206519,
          "ŷ": 1.142813539720962
         },
         {
          "y": 0.8118552935596475,
          "ŷ": 0.9274057672121638
         },
         {
          "y": 0.9295177199523763,
          "ŷ": 0.9223913664261868
         },
         {
          "y": 1.503327352891327,
          "ŷ": 1.455603004883014
         },
         {
          "y": 0.8651433956585518,
          "ŷ": 1.286029761692266
         },
         {
          "y": 1.0171114921530193,
          "ŷ": 1.136956103728897
         },
         {
          "y": 0.8155907012067211,
          "ŷ": 0.96430548603701
         },
         {
          "y": 1.6097999894297907,
          "ŷ": 1.6665441554971665
         },
         {
          "y": 0.6910212120361636,
          "ŷ": 1.1473584121459166
         },
         {
          "y": 1.2299393602690123,
          "ŷ": 1.2608158607773696
         },
         {
          "y": 2.49073686230237,
          "ŷ": 2.36874765310642
         },
         {
          "y": 1.0597614651348175,
          "ŷ": 1.1739271829871467
         },
         {
          "y": 1.1222138015164527,
          "ŷ": 0.755545949927732
         },
         {
          "y": 1.6972610608798058,
          "ŷ": 2.023034534429787
         },
         {
          "y": 0.6841217370914625,
          "ŷ": 1.1624806276231474
         },
         {
          "y": 1.430110051324838,
          "ŷ": 1.086735888873305
         },
         {
          "y": 2.1629176048752736,
          "ŷ": 1.8179818445528342
         },
         {
          "y": 1.2078380016110706,
          "ŷ": 1.4499488445924251
         },
         {
          "y": 1.6963324215325988,
          "ŷ": 1.4055630047610836
         },
         {
          "y": 1.6021763981464257,
          "ŷ": 1.748300735821583
         },
         {
          "y": 0.23246738095638747,
          "ŷ": 0.6941724694362565
         },
         {
          "y": 1.5584965375403579,
          "ŷ": 1.4817619339308699
         },
         {
          "y": 1.8360893789025465,
          "ŷ": 1.6293888904276936
         },
         {
          "y": 0.8331379404091708,
          "ŷ": 0.7501953106332664
         },
         {
          "y": 0.21877962113229252,
          "ŷ": 0.47651884065156414
         },
         {
          "y": 1.1755685158909803,
          "ŷ": 1.022533341032541
         },
         {
          "y": 1.6207478351253772,
          "ŷ": 1.5657720259564165
         },
         {
          "y": 2.3150872553719544,
          "ŷ": 1.9748769860884459
         },
         {
          "y": 1.2112640118385476,
          "ŷ": 1.2178608110761935
         },
         {
          "y": 1.630310040367641,
          "ŷ": 1.7499128413145322
         },
         {
          "y": 1.0818284759638608,
          "ŷ": 0.8952741747763532
         },
         {
          "y": 2.0282281606531405,
          "ŷ": 1.5750629619638066
         },
         {
          "y": 1.9619075029401645,
          "ŷ": 1.8259287482051787
         },
         {
          "y": 1.377492174308383,
          "ŷ": 1.2756416919361386
         },
         {
          "y": 0.48521065204606834,
          "ŷ": 0.8253198620211446
         },
         {
          "y": 1.4953179125031342,
          "ŷ": 1.1960526074827993
         },
         {
          "y": 0.8266615997395095,
          "ŷ": 1.0915080581227
         },
         {
          "y": 1.6021390609558164,
          "ŷ": 1.5106093237803617
         },
         {
          "y": 0.5054861219700956,
          "ŷ": 0.6479820698978107
         },
         {
          "y": 1.5819209889709689,
          "ŷ": 1.5163343764709418
         },
         {
          "y": 1.1096666184712638,
          "ŷ": 1.3509540714286368
         },
         {
          "y": 0.9626796800024842,
          "ŷ": 1.1155859513797834
         },
         {
          "y": 1.9621767462911868,
          "ŷ": 1.9223090786513395
         },
         {
          "y": 1.1404211554304493,
          "ŷ": 0.986195165123299
         },
         {
          "y": 1.2071147411565084,
          "ŷ": 1.2115000780544631
         },
         {
          "y": 0.9188899720046887,
          "ŷ": 1.3649294228635387
         },
         {
          "y": 1.5924880415846159,
          "ŷ": 1.8615512494276363
         },
         {
          "y": 1.0260736769985264,
          "ŷ": 0.8533738073754792
         },
         {
          "y": 1.3207845350134888,
          "ŷ": 1.37083775187578
         },
         {
          "y": 1.3904324237154042,
          "ŷ": 1.678765188554409
         },
         {
          "y": 0.47327272013415517,
          "ŷ": 0.9039592092943786
         },
         {
          "y": 1.2518865626673978,
          "ŷ": 1.0598048505425108
         },
         {
          "y": 1.9216888686362363,
          "ŷ": 1.7806473549232813
         },
         {
          "y": 2.4656357035779553,
          "ŷ": 2.5377332638935948
         },
         {
          "y": 1.735116606978992,
          "ŷ": 1.650300660268223
         },
         {
          "y": 1.046125255013444,
          "ŷ": 1.1012420593742567
         },
         {
          "y": 1.59334597261728,
          "ŷ": 1.4519454849041942
         },
         {
          "y": 2.856635737817309,
          "ŷ": 2.448999454430737
         },
         {
          "y": 1.9454024470570128,
          "ŷ": 1.809920313078489
         },
         {
          "y": 0.8513425246102757,
          "ŷ": 0.9348162122825753
         },
         {
          "y": 1.8872142429666179,
          "ŷ": 2.008320790028747
         },
         {
          "y": 0.7047173104344393,
          "ŷ": 0.9798959142240594
         },
         {
          "y": 1.7305569365006752,
          "ŷ": 1.6297128399836762
         },
         {
          "y": 2.5826104920007893,
          "ŷ": 2.2455779197929324
         },
         {
          "y": 1.022737390434362,
          "ŷ": 1.5334906395220094
         },
         {
          "y": 0.3060635462481481,
          "ŷ": 0.44155431982233306
         },
         {
          "y": 2.4376383171921217,
          "ŷ": 2.3237080416171008
         },
         {
          "y": 0.6818117804278578,
          "ŷ": 1.0452907450797624
         },
         {
          "y": 0.12579056934465077,
          "ŷ": 0.47196447288265475
         },
         {
          "y": 2.4006711631489557,
          "ŷ": 2.341357842949214
         },
         {
          "y": 0.5522872246585722,
          "ŷ": 0.6894220528764263
         },
         {
          "y": 1.8639659184334727,
          "ŷ": 1.8900009492963261
         },
         {
          "y": 0.9296029682165718,
          "ŷ": 1.0530701163816347
         },
         {
          "y": 1.5604790599708143,
          "ŷ": 1.8272679341355016
         },
         {
          "y": 1.434259719127157,
          "ŷ": 1.5623949066127014
         },
         {
          "y": 1.2261226872848117,
          "ŷ": 1.3023325931211154
         },
         {
          "y": 1.700416863194507,
          "ŷ": 1.8508071738499072
         },
         {
          "y": 2.011792354338357,
          "ŷ": 1.6457021813382318
         },
         {
          "y": 0.4535896041543433,
          "ŷ": 0.6154516447956727
         },
         {
          "y": 1.4090695982298913,
          "ŷ": 1.4073537986212024
         },
         {
          "y": 0.8207596769953096,
          "ŷ": 0.9099186686170283
         },
         {
          "y": 3.3079118331962407,
          "ŷ": 2.892231922969271
         },
         {
          "y": 0.8590984486865378,
          "ŷ": 1.1850526775969603
         },
         {
          "y": 2.402176307010731,
          "ŷ": 2.55782575773439
         },
         {
          "y": 1.1409133671357103,
          "ŷ": 0.8459469977168965
         },
         {
          "y": 1.441132154527435,
          "ŷ": 1.343778250009642
         },
         {
          "y": 1.0745595400422994,
          "ŷ": 1.6637593081815407
         },
         {
          "y": 2.4212727776861334,
          "ŷ": 2.5626793803908376
         },
         {
          "y": 0.6116949136958407,
          "ŷ": 0.6615404485121369
         },
         {
          "y": 1.9961337840323132,
          "ŷ": 1.9418903664436045
         },
         {
          "y": 1.4109729568025298,
          "ŷ": 1.197624309743982
         },
         {
          "y": 1.313787955613742,
          "ŷ": 1.4281142881891944
         },
         {
          "y": 1.9906328479409363,
          "ŷ": 2.1327973133427447
         },
         {
          "y": 1.5116020148734046,
          "ŷ": 1.235717598918708
         },
         {
          "y": 2.146517869026772,
          "ŷ": 2.0225426438692105
         },
         {
          "y": 0.766690475285768,
          "ŷ": 0.661441831013538
         },
         {
          "y": 2.0229769986889963,
          "ŷ": 2.1575540250804877
         },
         {
          "y": 1.4722863009558007,
          "ŷ": 1.2518310296488955
         },
         {
          "y": 2.8466708980790916,
          "ŷ": 2.6117825896195535
         },
         {
          "y": 0.9862705920567403,
          "ŷ": 0.5096113916912305
         },
         {
          "y": 1.3686144871139254,
          "ŷ": 1.9094878785032063
         },
         {
          "y": 1.7694090649555598,
          "ŷ": 1.5166770267872223
         },
         {
          "y": 1.1012789017237794,
          "ŷ": 1.3391878614628943
         },
         {
          "y": 2.403656462102584,
          "ŷ": 2.2210372205970854
         },
         {
          "y": 1.520104130907632,
          "ŷ": 1.3756834363038613
         },
         {
          "y": 1.4689339655769873,
          "ŷ": 1.5214271366506822
         },
         {
          "y": 1.0478940477684258,
          "ŷ": 1.0459328320351025
         },
         {
          "y": 2.0527064627832714,
          "ŷ": 2.1331191181996756
         },
         {
          "y": -0.24476728832992223,
          "ŷ": 0.2516129105832301
         },
         {
          "y": 1.8306123336862585,
          "ŷ": 1.3414461360578147
         },
         {
          "y": 0.7836627953137429,
          "ŷ": 1.0455389256020338
         },
         {
          "y": 0.5740405167224121,
          "ŷ": 0.7115436005428654
         },
         {
          "y": 1.3627064893102203,
          "ŷ": 1.252605395353889
         },
         {
          "y": 1.4487228344737084,
          "ŷ": 1.3210451782303834
         },
         {
          "y": 1.0748755574584352,
          "ŷ": 1.1220379488793217
         },
         {
          "y": 1.3398648177226504,
          "ŷ": 1.6211387814675933
         },
         {
          "y": 1.7431482234447018,
          "ŷ": 1.5477872425799957
         },
         {
          "y": 0.9129418897081916,
          "ŷ": 1.0598739912549617
         },
         {
          "y": 1.6435821529152408,
          "ŷ": 1.9413831300333306
         },
         {
          "y": 1.1049224581490507,
          "ŷ": 0.9220864135307792
         },
         {
          "y": 2.1459282281837098,
          "ŷ": 2.2786387871016984
         },
         {
          "y": 1.9180393345419307,
          "ŷ": 1.8651997644767206
         },
         {
          "y": 1.2280744564792718,
          "ŷ": 1.4940875948940304
         },
         {
          "y": 2.2934711280763773,
          "ŷ": 2.262718959419903
         },
         {
          "y": 2.1814655105148115,
          "ŷ": 1.558309085989024
         },
         {
          "y": 0.36466779859943455,
          "ŷ": 0.5150731490640601
         },
         {
          "y": 2.1661158787473465,
          "ŷ": 2.170173425164662
         },
         {
          "y": 1.0257382390799497,
          "ŷ": 0.5785982519813915
         },
         {
          "y": 0.3796456690438673,
          "ŷ": 0.35691967402537284
         },
         {
          "y": 2.154950703371936,
          "ŷ": 2.1747242115075998
         },
         {
          "y": 1.9482586355455045,
          "ŷ": 1.8296544323703554
         },
         {
          "y": 2.7669586391647996,
          "ŷ": 2.0608488981454554
         },
         {
          "y": 1.731120515579291,
          "ŷ": 1.7230693038378182
         },
         {
          "y": 1.7691834951008776,
          "ŷ": 1.9798372041322672
         },
         {
          "y": 2.3651766362319777,
          "ŷ": 1.9783802012202845
         },
         {
          "y": 0.7531972236376581,
          "ŷ": 1.0903721454529232
         },
         {
          "y": 1.8008708152110025,
          "ŷ": 1.880164897626728
         },
         {
          "y": 1.8763920423071514,
          "ŷ": 1.6904012736625145
         },
         {
          "y": 2.0192801106060587,
          "ŷ": 1.835354656770922
         },
         {
          "y": 1.5343710047760477,
          "ŷ": 1.8761625779773916
         },
         {
          "y": 2.337508948371926,
          "ŷ": 2.1912011767434976
         },
         {
          "y": 1.4989330668832368,
          "ŷ": 1.5669357505041395
         },
         {
          "y": 1.9264535973082424,
          "ŷ": 1.8395314451662104
         },
         {
          "y": 2.0681272018442627,
          "ŷ": 2.482320077659677
         },
         {
          "y": 1.4109268496260556,
          "ŷ": 1.5289911966670662
         },
         {
          "y": 1.9039408223654681,
          "ŷ": 1.9017517796308094
         },
         {
          "y": 1.317254463135521,
          "ŷ": 1.3153731529357091
         },
         {
          "y": 1.0045396058692606,
          "ŷ": 0.7142953465744988
         },
         {
          "y": 2.08714853161661,
          "ŷ": 2.167400946497746
         },
         {
          "y": 1.8867798827931421,
          "ŷ": 1.6193109887468102
         },
         {
          "y": 2.129971009642302,
          "ŷ": 1.8998436833376007
         },
         {
          "y": 2.0166342684008414,
          "ŷ": 2.0130317679335326
         },
         {
          "y": 0.3909124376049876,
          "ŷ": 0.37396958726940055
         },
         {
          "y": 1.256660545309737,
          "ŷ": 1.4480383265814412
         },
         {
          "y": 1.5172715787770858,
          "ŷ": 1.93678696521281
         },
         {
          "y": 0.618298660530843,
          "ŷ": 0.5593073365232517
         },
         {
          "y": 1.5697977042355187,
          "ŷ": 0.9893396639068374
         },
         {
          "y": 0.12751957629399657,
          "ŷ": 0.6709750081347309
         },
         {
          "y": 1.9741837348454907,
          "ŷ": 2.3154308041496625
         },
         {
          "y": 1.9634532177945834,
          "ŷ": 1.423764945818881
         },
         {
          "y": 1.423327335064239,
          "ŷ": 1.7215559073940234
         },
         {
          "y": 1.7773729193802517,
          "ŷ": 1.8993815931856386
         },
         {
          "y": 1.4123526738927508,
          "ŷ": 1.227465547736627
         },
         {
          "y": 1.0084689892686403,
          "ŷ": 1.117052265200755
         },
         {
          "y": 1.0050816133074598,
          "ŷ": 1.159553751971142
         },
         {
          "y": 1.9728905389533957,
          "ŷ": 1.9206099597493014
         },
         {
          "y": 1.3890074560184709,
          "ŷ": 1.3359269319280551
         },
         {
          "y": 1.073836735690243,
          "ŷ": 1.405943615783726
         },
         {
          "y": 1.0787385708645856,
          "ŷ": 1.4308932182348062
         },
         {
          "y": 2.171941346583423,
          "ŷ": 2.1131187106700375
         },
         {
          "y": 0.7857630744717065,
          "ŷ": 0.831346245120946
         },
         {
          "y": 2.0501280551154784,
          "ŷ": 1.963651187191803
         },
         {
          "y": 1.5023966493015881,
          "ŷ": 1.6195061026471596
         },
         {
          "y": 1.0584856840166619,
          "ŷ": 1.1074260451108613
         },
         {
          "y": 1.8103827809396895,
          "ŷ": 1.515219860858828
         },
         {
          "y": 0.16781633861920775,
          "ŷ": 0.7380496237326838
         },
         {
          "y": 1.7353377506989518,
          "ŷ": 1.538866162128963
         },
         {
          "y": 1.7246993296549076,
          "ŷ": 1.9182511284759152
         },
         {
          "y": 1.462876008978201,
          "ŷ": 1.4697072088929979
         },
         {
          "y": 1.6741046642990234,
          "ŷ": 1.6254876973504186
         },
         {
          "y": 1.2407137710451719,
          "ŷ": 0.8166161913922145
         },
         {
          "y": 1.9126403165424397,
          "ŷ": 1.8734466644894001
         },
         {
          "y": 2.389750897399419,
          "ŷ": 1.6840856546033358
         },
         {
          "y": 1.8991396222915926,
          "ŷ": 1.4276183446084791
         },
         {
          "y": 0.7049931054696792,
          "ŷ": 0.7797154224287934
         },
         {
          "y": 1.091441315247183,
          "ŷ": 1.4403346348910004
         },
         {
          "y": 1.2174287379952333,
          "ŷ": 1.152708073012661
         },
         {
          "y": 1.2726023704482654,
          "ŷ": 1.2536437252681598
         },
         {
          "y": 1.619893472756547,
          "ŷ": 1.470931488660232
         },
         {
          "y": 2.2271491951940776,
          "ŷ": 1.7172776491774357
         },
         {
          "y": 0.37574413106135907,
          "ŷ": 0.3801622389023721
         },
         {
          "y": 1.3182063669811177,
          "ŷ": 1.490649473339189
         },
         {
          "y": 1.2802031734856392,
          "ŷ": 1.5722210172803446
         },
         {
          "y": 1.3844972265596323,
          "ŷ": 1.424531494166733
         },
         {
          "y": 2.184781381141893,
          "ŷ": 2.304523971889603
         },
         {
          "y": 1.5147668264641192,
          "ŷ": 1.7267352167495569
         },
         {
          "y": 1.251829637381233,
          "ŷ": 1.1245642312034518
         },
         {
          "y": 1.5879449688594587,
          "ŷ": 1.5286662781858125
         },
         {
          "y": 1.8972086639243866,
          "ŷ": 1.6356308604287122
         },
         {
          "y": 1.8372527606768778,
          "ŷ": 1.5485127835600696
         },
         {
          "y": 1.399110476639148,
          "ŷ": 1.4500114085060296
         },
         {
          "y": 1.7188984199813488,
          "ŷ": 1.8740090802556488
         },
         {
          "y": 1.5114437582928424,
          "ŷ": 1.3014151326357062
         },
         {
          "y": 1.7002365565602098,
          "ŷ": 1.9684251723387263
         },
         {
          "y": 1.2082443332588602,
          "ŷ": 1.066193526576569
         },
         {
          "y": 1.8884381860328037,
          "ŷ": 2.0304667271293515
         },
         {
          "y": 2.0968505160537076,
          "ŷ": 1.9982075112385445
         },
         {
          "y": 1.6016203238447124,
          "ŷ": 1.7128247410387705
         },
         {
          "y": 1.1257982745275923,
          "ŷ": 1.443555655634533
         },
         {
          "y": 0.5013438813431319,
          "ŷ": 0.8536070630347716
         },
         {
          "y": 0.14031372173162604,
          "ŷ": 0.7214733921797425
         },
         {
          "y": 1.081289707374716,
          "ŷ": 1.4008279070640277
         },
         {
          "y": 2.5265839455004375,
          "ŷ": 2.297246455439725
         },
         {
          "y": 1.4561665470160503,
          "ŷ": 1.4692878418723205
         },
         {
          "y": 1.8126122736133021,
          "ŷ": 1.6030528798503012
         },
         {
          "y": 1.8126211134207144,
          "ŷ": 1.8330221439173637
         },
         {
          "y": 0.9569355283358695,
          "ŷ": 1.0241477665793375
         },
         {
          "y": 2.138882693052552,
          "ŷ": 1.8090743109632756
         },
         {
          "y": 0.6942929870283826,
          "ŷ": 1.0391253981348
         },
         {
          "y": 2.3079713937219943,
          "ŷ": 2.018706099116284
         },
         {
          "y": 1.5909982406464647,
          "ŷ": 1.2401852540481453
         },
         {
          "y": 1.0912500973486252,
          "ŷ": 1.2884082003708632
         },
         {
          "y": 2.5694400364463457,
          "ŷ": 2.2022434955910795
         },
         {
          "y": 1.3745784983689258,
          "ŷ": 1.4429644428279367
         },
         {
          "y": 1.4812585272884602,
          "ŷ": 1.2896481981481134
         },
         {
          "y": 1.7977794430441774,
          "ŷ": 1.8825803068696565
         },
         {
          "y": 1.721633617360031,
          "ŷ": 1.9103134550874472
         },
         {
          "y": 1.5027120551271145,
          "ŷ": 1.6425104940950541
         },
         {
          "y": 1.815310205614737,
          "ŷ": 1.3932268064310953
         },
         {
          "y": 0.5131890632796161,
          "ŷ": 0.5763196238514517
         },
         {
          "y": 0.4304331041199414,
          "ŷ": 0.6051226915928805
         },
         {
          "y": 1.554295680518804,
          "ŷ": 1.5954992999697357
         },
         {
          "y": -0.4710414037508077,
          "ŷ": 0.41036486561246244
         },
         {
          "y": 2.0273168579520298,
          "ŷ": 1.9134135117617128
         },
         {
          "y": 2.293791731131593,
          "ŷ": 1.5666521817117294
         },
         {
          "y": 0.8029700081130573,
          "ŷ": 0.8849439467318141
         },
         {
          "y": 0.7401222036080797,
          "ŷ": 1.118016268254255
         },
         {
          "y": 0.3493833103305143,
          "ŷ": 0.44386527710117374
         },
         {
          "y": 1.5800776092504067,
          "ŷ": 1.2053959435583008
         },
         {
          "y": 2.45527802857069,
          "ŷ": 1.9439723164068525
         },
         {
          "y": 1.332621077380281,
          "ŷ": 1.2383333302641355
         },
         {
          "y": 1.0711385519479681,
          "ŷ": 1.0072787074113376
         },
         {
          "y": 1.2921721984423986,
          "ŷ": 1.620166160101259
         },
         {
          "y": 0.9957716524197757,
          "ŷ": 1.465737272516689
         },
         {
          "y": 0.6949830281209302,
          "ŷ": 0.7202189280000205
         },
         {
          "y": 2.0500556978804787,
          "ŷ": 1.973809113343656
         },
         {
          "y": 1.7993601501839274,
          "ŷ": 1.5723339441040782
         },
         {
          "y": 2.3858506931325607,
          "ŷ": 2.4689023855802823
         },
         {
          "y": 1.3476323413721567,
          "ŷ": 1.5178504182374752
         },
         {
          "y": 1.7070098425963722,
          "ŷ": 1.80277027627319
         },
         {
          "y": 1.566512349958186,
          "ŷ": 1.8882733007372974
         },
         {
          "y": 1.5435573474977369,
          "ŷ": 1.4060192093617427
         },
         {
          "y": 1.4102322011063122,
          "ŷ": 1.4384777620546751
         },
         {
          "y": 0.8697089534948269,
          "ŷ": 1.1342684911449654
         },
         {
          "y": 0.9076010507832553,
          "ŷ": 0.7413741860930557
         },
         {
          "y": 1.7924897529463923,
          "ŷ": 1.9474343013737887
         },
         {
          "y": 1.1840750569951373,
          "ŷ": 1.1897252823734235
         },
         {
          "y": 1.4197628951482861,
          "ŷ": 1.1048803826888138
         },
         {
          "y": 1.6329828301191238,
          "ŷ": 1.5223696461381901
         },
         {
          "y": 0.7579405724938832,
          "ŷ": 1.002487671488451
         },
         {
          "y": 1.1343397244112412,
          "ŷ": 1.3202427231133005
         },
         {
          "y": 1.6333512030024457,
          "ŷ": 1.7498012903078022
         },
         {
          "y": 1.258806867331055,
          "ŷ": 1.2515018506691336
         },
         {
          "y": 1.7714509795078677,
          "ŷ": 1.8788396698356045
         },
         {
          "y": 0.9582318561391661,
          "ŷ": 0.8808911769601233
         },
         {
          "y": 2.094550371407201,
          "ŷ": 1.9256689014240485
         },
         {
          "y": 1.9765332174262809,
          "ŷ": 2.0903484600554894
         },
         {
          "y": 2.57485907183424,
          "ŷ": 2.188816879298953
         },
         {
          "y": 1.3141793703140978,
          "ŷ": 0.8793935938219789
         },
         {
          "y": 0.387989996152732,
          "ŷ": 0.8904643245797624
         },
         {
          "y": 1.496778119454777,
          "ŷ": 1.7385026459590083
         },
         {
          "y": 1.2071051275689626,
          "ŷ": 1.19647673484131
         },
         {
          "y": 2.09254243315375,
          "ŷ": 2.2854866566953214
         },
         {
          "y": 0.764101999543559,
          "ŷ": 0.8562453132269207
         },
         {
          "y": 2.864208884982445,
          "ŷ": 2.6561697528757398
         },
         {
          "y": 1.5799394166820113,
          "ŷ": 1.4023820743164304
         },
         {
          "y": 1.6639635539405377,
          "ŷ": 1.9511493077276478
         },
         {
          "y": 0.6621005700882602,
          "ŷ": 0.4691675570968421
         },
         {
          "y": 2.6998438415598542,
          "ŷ": 2.8010996032689537
         },
         {
          "y": 2.4998157028786934,
          "ŷ": 2.4413143457186837
         },
         {
          "y": 1.155934219531134,
          "ŷ": 1.1609674878794995
         },
         {
          "y": 2.1302924275001374,
          "ŷ": 1.8441289198864401
         },
         {
          "y": 2.36820883755005,
          "ŷ": 2.075997991276862
         },
         {
          "y": 2.343714333339701,
          "ŷ": 2.1290629697173915
         }
        ]
       },
       "encoding": {
        "x": {
         "field": "y",
         "type": "quantitative"
        },
        "y": {
         "field": "ŷ",
         "type": "quantitative"
        }
       },
       "mark": "point"
      },
      "image/png": "[encoded data removed]",
      "text/plain": [
       "<VegaLite 3 object>\n",
       "\n",
       "If you see this message, it means the renderer has not been properly enabled\n",
       "for the frontend that you are using. For more information, see\n",
       "https://altair-viz.github.io/user_guide/troubleshooting.html\n"
      ]
     },
     "execution_count": 93,
     "metadata": {},
     "output_type": "execute_result"
    }
   ],
   "source": [
    "preds = pd.DataFrame({'y':y,'ŷ':ŷ})\n",
    "alt.Chart(preds).mark_point().encode(x='y',y='ŷ')"
   ]
  },
  {
   "cell_type": "code",
   "execution_count": 94,
   "metadata": {},
   "outputs": [
    {
     "data": {
      "text/plain": [
       "array([0.05121998, 1.0147769 , 0.95968747, 0.93875191])"
      ]
     },
     "execution_count": 94,
     "metadata": {},
     "output_type": "execute_result"
    }
   ],
   "source": [
    "θ"
   ]
  },
  {
   "cell_type": "markdown",
   "metadata": {},
   "source": [
    "Our predictions track very well with the observed values and the estimated parameters are close to what we put in the simulation, which means our algorithm works as intended. We've now fully implemented multiple linear regression for prediction!"
   ]
  },
  {
   "cell_type": "markdown",
   "metadata": {},
   "source": [
    "#### Beyond Linear Regression"
   ]
  },
  {
   "cell_type": "markdown",
   "metadata": {},
   "source": [
    "We've been working with our linear model and MSE loss, but why not use gradient descent for other problems too? Gradient descent is a general purpose method to twist knobs (optimize parameters)- it doesn't care what the machine (loss and prediction function) is. \n",
    "\n",
    "For instance, what if we want to fit a model like $\\hat y_i = \\alpha\\sin(x_i\\beta)$? And what if we want to judge the predictions not with MSE, but with mean absolute error (MAE) $L(y,\\hat y) = |y-\\hat y|$? From the point of view of gradient descent, that's just a different machine with different knobs, totally doable! \n",
    "\n",
    "For simplicity, we'll tackle the case where there is only a single feature (i.e. $\\beta$ is a scalar, not a vector)."
   ]
  },
  {
   "cell_type": "markdown",
   "metadata": {},
   "source": [
    "First, we compose the loss with the model to get the loss as a function of the parameters: $L(\\alpha,\\beta) = \\frac{1}{n}\\sum_i|y_i-\\alpha\\sin(x_i\\beta)|$. Now we take derivatives:"
   ]
  },
  {
   "cell_type": "markdown",
   "metadata": {},
   "source": [
    "$$\n",
    "\\nabla_{\\alpha, \\beta}L \n",
    "=\n",
    "\\left[\n",
    "\\begin{array}{c}\n",
    "\\frac{\\partial L}{\\partial \\alpha} \\\\\n",
    "\\frac{\\partial L}{\\partial \\beta}\n",
    "\\end{array}\n",
    "\\right]\n",
    "= \n",
    "\\left[\n",
    "\\begin{array}{c}\n",
    "\\sum_i-\\text{sign}(y-\\alpha\\sin(x_i\\beta)) \\sin(x_i\\beta) \\\\\n",
    "\\sum_i -\\alpha \\text{sign}(y-\\alpha\\sin(x_i\\beta))(\\cos(x_i\\beta)) x_i\n",
    "\\end{array}\n",
    "\\right]\n",
    "$$"
   ]
  },
  {
   "cell_type": "markdown",
   "metadata": {},
   "source": [
    "And we code them up:"
   ]
  },
  {
   "cell_type": "code",
   "execution_count": 95,
   "metadata": {},
   "outputs": [],
   "source": [
    "X = np.random.rand(100)\n",
    "y = 5*np.sin(3*X) + np.random.rand(100)"
   ]
  },
  {
   "cell_type": "code",
   "execution_count": 96,
   "metadata": {},
   "outputs": [],
   "source": [
    "# θ=[α, β1 ... βp]\n",
    "def sin_reg_mae_loss(θ): # L(θ)\n",
    "    ŷ = θ[0]*np.sin(X*θ[1])\n",
    "    return np.mean(np.abs(y-ŷ))\n",
    "\n",
    "def grad_sin_reg_mae_loss(θ): # ∇L(θ) \n",
    "    ŷ = θ[0]*np.sin(X*θ[1])\n",
    "    dl_dα = np.mean(-np.sign(y-ŷ) * np.sin(X*θ[1]))\n",
    "    dl_dβ = np.mean(-θ[0] * np.sign(y-ŷ) * np.cos(X*θ[1]) * X)\n",
    "    return np.array([dl_dα, dl_dβ])"
   ]
  },
  {
   "cell_type": "code",
   "execution_count": 97,
   "metadata": {},
   "outputs": [
    {
     "name": "stdout",
     "output_type": "stream",
     "text": [
      "[5.49057514 2.97271082]\n"
     ]
    }
   ],
   "source": [
    "θ = grad_descent(sin_reg_mae_loss, grad_sin_reg_mae_loss, θ=np.array([0.1,0.1]), ϵ=0.1)\n",
    "ŷ = θ[0]*np.sin(X*θ[1])\n",
    "print(θ)"
   ]
  },
  {
   "cell_type": "code",
   "execution_count": 98,
   "metadata": {
    "tags": [
     "hide_input"
    ]
   },
   "outputs": [
    {
     "data": {
      "application/vnd.vegalite.v3+json": {
       "$schema": "https://vega.github.io/schema/vega-lite/v3.4.0.json",
       "config": {
        "mark": {
         "tooltip": null
        },
        "view": {
         "height": 300,
         "width": 400
        }
       },
       "data": {
        "name": "data-b5784126a517e22adee5d70f1d6f5eaa"
       },
       "datasets": {
        "data-b5784126a517e22adee5d70f1d6f5eaa": [
         {
          "x": 0.7338235286053485,
          "y": 4.260546900009892,
          "ŷ": 4.498297321721273
         },
         {
          "x": 0.7700598972296947,
          "y": 4.54264706281633,
          "ŷ": 4.133745014147158
         },
         {
          "x": 0.09219166212402063,
          "y": 2.0458328922843947,
          "ŷ": 1.4859765055255163
         },
         {
          "x": 0.3660688502504257,
          "y": 5.30438656933391,
          "ŷ": 4.863555938268954
         },
         {
          "x": 0.3894116768050305,
          "y": 5.002574308862258,
          "ŷ": 5.028517924262663
         },
         {
          "x": 0.004818427674164183,
          "y": 0.73198880118028,
          "ŷ": 0.07864316736785944
         },
         {
          "x": 0.37436675977631895,
          "y": 4.577561379823365,
          "ŷ": 4.924921892140554
         },
         {
          "x": 0.78330177786102,
          "y": 4.320730473621497,
          "ŷ": 3.9883301582371917
         },
         {
          "x": 0.40081268300311723,
          "y": 5.178406666312922,
          "ŷ": 5.100335180471601
         },
         {
          "x": 0.08631525387729633,
          "y": 1.3193184089469414,
          "ŷ": 1.3934198645023055
         },
         {
          "x": 0.7313083287236425,
          "y": 4.430945117214517,
          "ŷ": 4.52171101668588
         },
         {
          "x": 0.784062925617059,
          "y": 3.7497814527980777,
          "ŷ": 3.9797816619657245
         },
         {
          "x": 0.9954602937656908,
          "y": 0.7865173712977456,
          "ŷ": 0.9958131569837384
         },
         {
          "x": 0.18686622265810904,
          "y": 3.305980950927026,
          "ŷ": 2.8955511053001506
         },
         {
          "x": 0.5545114170727884,
          "y": 5.7497272509305555,
          "ŷ": 5.474049520045561
         },
         {
          "x": 0.8038762752054196,
          "y": 3.3628846458995234,
          "ŷ": 3.750218946490013
         },
         {
          "x": 0.17239143559460057,
          "y": 2.946375370552561,
          "ŷ": 2.692201036167119
         },
         {
          "x": 0.7868708556235139,
          "y": 3.8346552438071555,
          "ŷ": 3.9480697427529323
         },
         {
          "x": 0.7436523955758909,
          "y": 4.268094340523344,
          "ŷ": 4.404402455510098
         },
         {
          "x": 0.86109266950588,
          "y": 2.7921031399934066,
          "ŷ": 3.0172888856683935
         },
         {
          "x": 0.5016346509836442,
          "y": 5.359681060255065,
          "ŷ": 5.473197786116227
         },
         {
          "x": 0.8836692732728958,
          "y": 2.9374029968775606,
          "ŷ": 2.7028633085983795
         },
         {
          "x": 0.4926142055035061,
          "y": 5.032487197736149,
          "ŷ": 5.459527055069785
         },
         {
          "x": 0.9597054623716451,
          "y": 1.5881308385056343,
          "ŷ": 1.5630213784069156
         },
         {
          "x": 0.9459837473403683,
          "y": 1.5527966648283504,
          "ŷ": 1.776359406123786
         },
         {
          "x": 0.11674817006711846,
          "y": 2.1249608672738907,
          "ŷ": 1.867526938123316
         },
         {
          "x": 0.7667260870229003,
          "y": 4.534015084459918,
          "ŷ": 4.1693544770322895
         },
         {
          "x": 0.7296827038112504,
          "y": 4.793404919180118,
          "ŷ": 4.536709358207419
         },
         {
          "x": 0.1387951368644853,
          "y": 2.0854072119847302,
          "ŷ": 2.2016683670157966
         },
         {
          "x": 0.8142295132043549,
          "y": 3.923172804289758,
          "ŷ": 3.625037560096934
         },
         {
          "x": 0.32702388974759367,
          "y": 5.003383323481069,
          "ŷ": 4.535751854611772
         },
         {
          "x": 0.45354972040174735,
          "y": 5.124189683848521,
          "ŷ": 5.3551967365080015
         },
         {
          "x": 0.3461050418831161,
          "y": 5.218069182377707,
          "ŷ": 4.703867969046964
         },
         {
          "x": 0.5848797364862137,
          "y": 4.925892087449316,
          "ŷ": 5.4133825164139635
         },
         {
          "x": 0.6786525239725325,
          "y": 5.395488100390567,
          "ŷ": 4.951965687911507
         },
         {
          "x": 0.9367745773063334,
          "y": 1.7389739019388326,
          "ŷ": 1.9179031268038862
         },
         {
          "x": 0.9256047853117624,
          "y": 1.8639652379281473,
          "ŷ": 2.087642460060971
         },
         {
          "x": 0.1608501037442741,
          "y": 2.4024554272622827,
          "ŷ": 2.5264720791973145
         },
         {
          "x": 0.732599402722911,
          "y": 4.280608971101238,
          "ŷ": 4.5097240567751
         },
         {
          "x": 0.761927307221319,
          "y": 3.885196747779491,
          "ŷ": 4.21989189223478
         },
         {
          "x": 0.5029484485651594,
          "y": 5.955511707897416,
          "ŷ": 5.47486075949463
         },
         {
          "x": 0.6933620565317898,
          "y": 4.785605972736036,
          "ŷ": 4.843562172535986
         },
         {
          "x": 0.7007618875675485,
          "y": 4.453561619881864,
          "ŷ": 4.785513813848377
         },
         {
          "x": 0.8965464861609574,
          "y": 2.9375383253038487,
          "ŷ": 2.5179782262295816
         },
         {
          "x": 0.9042130430388367,
          "y": 2.1179200384480104,
          "ŷ": 2.406135674264763
         },
         {
          "x": 0.0860333945401589,
          "y": 2.0097468137505468,
          "ŷ": 1.3889695135687605
         },
         {
          "x": 0.24564525963487904,
          "y": 4.242813067874861,
          "ŷ": 3.6624482655687474
         },
         {
          "x": 0.921189860761016,
          "y": 2.6816577987774717,
          "ŷ": 2.1541086072412776
         },
         {
          "x": 0.965385513298907,
          "y": 1.7993076405722466,
          "ŷ": 1.4739294992356466
         },
         {
          "x": 0.5188319463593376,
          "y": 5.928765116998904,
          "ŷ": 5.488351844277904
         },
         {
          "x": 0.9533910708637747,
          "y": 1.405371964341585,
          "ŷ": 1.6615387673773412
         },
         {
          "x": 0.8618116234100883,
          "y": 2.7012021162537057,
          "ŷ": 3.0074780500391003
         },
         {
          "x": 0.09733525994675862,
          "y": 1.917113642637783,
          "ŷ": 1.5666197861086402
         },
         {
          "x": 0.8391659896261309,
          "y": 3.22454290143536,
          "ŷ": 3.309671018817755
         },
         {
          "x": 0.4309786922940898,
          "y": 5.071091806612132,
          "ŷ": 5.261904189582944
         },
         {
          "x": 0.1906236036044079,
          "y": 2.7606888513510937,
          "ŷ": 2.94747558472557
         },
         {
          "x": 0.581486203481305,
          "y": 5.828817600719342,
          "ŷ": 5.422362085200725
         },
         {
          "x": 0.4713767000665797,
          "y": 5.9159178420628535,
          "ŷ": 5.411863476855214
         },
         {
          "x": 0.22784598260519218,
          "y": 3.186064264057385,
          "ŷ": 3.440982109089146
         },
         {
          "x": 0.9774020779925491,
          "y": 1.8117738881743894,
          "ŷ": 1.2840954872576675
         },
         {
          "x": 0.16183186168726305,
          "y": 2.849374971890432,
          "ŷ": 2.5406882215866897
         },
         {
          "x": 0.9695164763957479,
          "y": 1.9804728962684623,
          "ŷ": 1.408869743023216
         },
         {
          "x": 0.1067238674096681,
          "y": 2.004803959063142,
          "ŷ": 1.7128602088127791
         },
         {
          "x": 0.3830613491812098,
          "y": 4.717598535316088,
          "ŷ": 4.986005981142213
         },
         {
          "x": 0.9680514556676187,
          "y": 1.5633421993016392,
          "ŷ": 1.4319676070475267
         },
         {
          "x": 0.9083535242506974,
          "y": 2.0856319615704924,
          "ŷ": 2.3452093621723913
         },
         {
          "x": 0.1347620114868755,
          "y": 2.062007672022575,
          "ŷ": 2.141207497895591
         },
         {
          "x": 0.5933303420911313,
          "y": 5.470362215302691,
          "ŷ": 5.388629582521033
         },
         {
          "x": 0.28502594813298987,
          "y": 4.2090378705824465,
          "ŷ": 4.115161516711615
         },
         {
          "x": 0.49329727792903433,
          "y": 5.760239196794826,
          "ŷ": 5.460699783018483
         },
         {
          "x": 0.866726209455902,
          "y": 3.0484148423874395,
          "ŷ": 2.9400481009239625
         },
         {
          "x": 0.6105532147853581,
          "y": 5.049994766097442,
          "ŷ": 5.327673179387369
         },
         {
          "x": 0.15539070535525823,
          "y": 2.3964550392157378,
          "ŷ": 2.4470292072455955
         },
         {
          "x": 0.08428753929986488,
          "y": 1.6035883641985773,
          "ŷ": 1.3613821421014707
         },
         {
          "x": 0.9608525192500915,
          "y": 1.8493786361433102,
          "ŷ": 1.5450648251315653
         },
         {
          "x": 0.5855912635088627,
          "y": 5.047680899768218,
          "ŷ": 5.411429861892782
         },
         {
          "x": 0.7321030070864756,
          "y": 4.697877359332992,
          "ŷ": 4.5143407057194995
         },
         {
          "x": 0.7850565690961602,
          "y": 3.961876250174447,
          "ŷ": 3.9685913376596296
         },
         {
          "x": 0.5305612843478281,
          "y": 5.532636504555362,
          "ŷ": 5.490462379967515
         },
         {
          "x": 0.6563720311383896,
          "y": 5.553380422178272,
          "ŷ": 5.098071802240944
         },
         {
          "x": 0.4320108615396314,
          "y": 5.035421734005741,
          "ŷ": 5.266690722895274
         },
         {
          "x": 0.6426504737132981,
          "y": 5.614523494354377,
          "ŷ": 5.17696497958474
         },
         {
          "x": 0.2724173195248697,
          "y": 3.7910857548026415,
          "ŷ": 3.9760637519441104
         },
         {
          "x": 0.21156448071181122,
          "y": 3.087158485875444,
          "ŷ": 3.2299503082303516
         },
         {
          "x": 0.4541486837464229,
          "y": 5.4884846662480395,
          "ŷ": 5.357345781411333
         },
         {
          "x": 0.5495097503098617,
          "y": 5.873879552263394,
          "ŷ": 5.479773334972036
         },
         {
          "x": 0.06943161082749882,
          "y": 1.4376638946542688,
          "ŷ": 1.1252260812483807
         },
         {
          "x": 0.10688203624045711,
          "y": 1.621508504558502,
          "ŷ": 1.7153127959622505
         },
         {
          "x": 0.1600520848463709,
          "y": 2.7548628908253874,
          "ŷ": 2.5149006713190936
         },
         {
          "x": 0.04847790383935646,
          "y": 0.8280743396645484,
          "ŷ": 0.7885151855690847
         },
         {
          "x": 0.8279155322425452,
          "y": 3.4334893675616076,
          "ŷ": 3.454310080098812
         },
         {
          "x": 0.5578426185448648,
          "y": 5.181355907527827,
          "ŷ": 5.469565880788033
         },
         {
          "x": 0.08481304439368764,
          "y": 1.4506481391082824,
          "ŷ": 1.3696898745552146
         },
         {
          "x": 0.5075220641285026,
          "y": 5.533223247469527,
          "ŷ": 5.479998403277071
         },
         {
          "x": 0.4279866192048979,
          "y": 4.991538393610908,
          "ŷ": 5.247749107222926
         },
         {
          "x": 0.03460120516153342,
          "y": 1.0756251413065034,
          "ŷ": 0.5637618043575814
         },
         {
          "x": 0.14517213465865741,
          "y": 2.4028220534562714,
          "ŷ": 2.296617180424792
         },
         {
          "x": 0.2255357780679651,
          "y": 3.8972813954740864,
          "ŷ": 3.4115179001773277
         },
         {
          "x": 0.9325734822058154,
          "y": 2.3648147093709624,
          "ŷ": 1.9820023567755032
         },
         {
          "x": 0.07086622576348,
          "y": 1.9311037428470423,
          "ŷ": 1.1481344128982385
         }
        ]
       },
       "layer": [
        {
         "encoding": {
          "x": {
           "field": "x",
           "type": "quantitative"
          },
          "y": {
           "field": "y",
           "type": "quantitative"
          }
         },
         "mark": "point"
        },
        {
         "encoding": {
          "x": {
           "field": "x",
           "type": "quantitative"
          },
          "y": {
           "field": "ŷ",
           "type": "quantitative"
          }
         },
         "mark": "line"
        }
       ]
      },
      "image/png": "[encoded data removed]",
      "text/plain": [
       "<VegaLite 3 object>\n",
       "\n",
       "If you see this message, it means the renderer has not been properly enabled\n",
       "for the frontend that you are using. For more information, see\n",
       "https://altair-viz.github.io/user_guide/troubleshooting.html\n"
      ]
     },
     "execution_count": 98,
     "metadata": {},
     "output_type": "execute_result"
    }
   ],
   "source": [
    "plot_df = pd.DataFrame({'y':y, 'x':X, 'ŷ':ŷ})\n",
    "alt.Chart(plot_df).mark_point().encode(x='x',y='y') + \\\n",
    "alt.Chart(plot_df).mark_line().encode(x='x',y='ŷ')"
   ]
  },
  {
   "cell_type": "markdown",
   "metadata": {},
   "source": [
    "You should now begin to grasp the power you have at your fingertips... "
   ]
  },
  {
   "cell_type": "markdown",
   "metadata": {},
   "source": [
    "![](https://steamuserimages-a.akamaihd.net/ugc/159157279551261206/BFA4AEC73F3B1165A1DA9EACDED6FBE9DE9213C1/)"
   ]
  },
  {
   "cell_type": "markdown",
   "metadata": {
    "tags": [
     "exercise"
    ]
   },
   "source": [
    "<div class=\"alert alert-block alert-info\">\n",
    "<b>Exercise:</b> \n",
    "\n",
    "We've only considered regression problems (continuous $y$) thus far, but we can apply gradient descent to probabilistic classification (binary $y$) too. Instead of estimating $\\hat y$, the expected value of $y$, we'll estimate $\\hat p =P(y=1)$, the probability that the outcome occurs.\n",
    "\n",
    "Using the \"cross-entropy\" loss $L(y,\\hat p) = -y \\log(\\hat p) -(1-y)\\log(1-\\hat p)$, write code that fits the following model using gradient descent: $\\hat p_i = \\sigma(X\\beta + \\alpha)$, where $\\sigma(z) = \\frac{1}{1+e^{-z}}$ is the sigmoid function. \n",
    "    \n",
    "You can either use the `grad_descent` function we've written or use your own. It may be easier to start with the univariate case where $X$ is a single column (and $\\beta$ is a scalar), then rewrite the code allowing for $X$ to have an aribrary number of columns.\n",
    "    \n",
    "What you've just done is called logistic regression!\n",
    "</div>"
   ]
  },
  {
   "cell_type": "markdown",
   "metadata": {},
   "source": [
    "## Issues with Gradient Descent"
   ]
  },
  {
   "cell_type": "markdown",
   "metadata": {},
   "source": [
    "It may seem like we can solve practically any optimization problem with gradient descent at this point, but there are a few small wrinkles. Don't worry, though, we can mostly iron them out.\n",
    "\n",
    "Let's start by looking at the sinusoidal regression problem we were just working on. We had set $\\theta=[0.1,0.1]$ to start, but what happens if we set the initial $\\theta$ to be something else?"
   ]
  },
  {
   "cell_type": "code",
   "execution_count": 99,
   "metadata": {},
   "outputs": [
    {
     "name": "stdout",
     "output_type": "stream",
     "text": [
      "[ 3.49814623 -6.21148656]\n"
     ]
    }
   ],
   "source": [
    "θ = grad_descent(sin_reg_mae_loss, grad_sin_reg_mae_loss, θ=np.array([10.0,-6.0]), ϵ=0.1)\n",
    "ŷ = θ[0]*np.sin(X*θ[1])\n",
    "print(θ)"
   ]
  },
  {
   "cell_type": "code",
   "execution_count": 100,
   "metadata": {
    "tags": [
     "hide_input"
    ]
   },
   "outputs": [
    {
     "data": {
      "application/vnd.vegalite.v3+json": {
       "$schema": "https://vega.github.io/schema/vega-lite/v3.4.0.json",
       "config": {
        "mark": {
         "tooltip": null
        },
        "view": {
         "height": 300,
         "width": 400
        }
       },
       "data": {
        "name": "data-896b08f6d14191dbefcf6bafbde0ea19"
       },
       "datasets": {
        "data-896b08f6d14191dbefcf6bafbde0ea19": [
         {
          "x": 0.7338235286053485,
          "y": 4.260546900009892,
          "ŷ": 3.4566107281350202
         },
         {
          "x": 0.7700598972296947,
          "y": 4.54264706281633,
          "ŷ": 3.4893755584815054
         },
         {
          "x": 0.09219166212402063,
          "y": 2.0458328922843947,
          "ŷ": -1.8955016510162574
         },
         {
          "x": 0.3660688502504257,
          "y": 5.30438656933391,
          "ŷ": -2.66867698268875
         },
         {
          "x": 0.3894116768050305,
          "y": 5.002574308862258,
          "ŷ": -2.313892845245185
         },
         {
          "x": 0.004818427674164183,
          "y": 0.73198880118028,
          "ŷ": -0.1046824826856392
         },
         {
          "x": 0.37436675977631895,
          "y": 4.577561379823365,
          "ŷ": -2.54861231306804
         },
         {
          "x": 0.78330177786102,
          "y": 4.320730473621497,
          "ŷ": 3.457239601525104
         },
         {
          "x": 0.40081268300311723,
          "y": 5.178406666312922,
          "ŷ": -2.1224570763459925
         },
         {
          "x": 0.08631525387729633,
          "y": 1.3193184089469414,
          "ŷ": -1.7869461678740477
         },
         {
          "x": 0.7313083287236425,
          "y": 4.430945117214517,
          "ŷ": 3.447792333698502
         },
         {
          "x": 0.784062925617059,
          "y": 3.7497814527980777,
          "ŷ": 3.4546791058544453
         },
         {
          "x": 0.9954602937656908,
          "y": 0.7865173712977456,
          "ŷ": 0.3488736237685365
         },
         {
          "x": 0.18686622265810904,
          "y": 3.305980950927026,
          "ŷ": -3.208112170909821
         },
         {
          "x": 0.5545114170727884,
          "y": 5.7497272509305555,
          "ŷ": 1.042951078590044
         },
         {
          "x": 0.8038762752054196,
          "y": 3.3628846458995234,
          "ŷ": 3.361062664623062
         },
         {
          "x": 0.17239143559460057,
          "y": 2.946375370552561,
          "ŷ": -3.0699301755594393
         },
         {
          "x": 0.7868708556235139,
          "y": 3.8346552438071555,
          "ŷ": 3.4445658136725004
         },
         {
          "x": 0.7436523955758909,
          "y": 4.268094340523344,
          "ŷ": 3.482963667732636
         },
         {
          "x": 0.86109266950588,
          "y": 2.7921031399934066,
          "ŷ": 2.813607329230211
         },
         {
          "x": 0.5016346509836442,
          "y": 5.359681060255065,
          "ŷ": -0.08987763587223677
         },
         {
          "x": 0.8836692732728958,
          "y": 2.9374029968775606,
          "ŷ": 2.4954483126238265
         },
         {
          "x": 0.4926142055035061,
          "y": 5.032487197736149,
          "ŷ": -0.28557183089965776
         },
         {
          "x": 0.9597054623716451,
          "y": 1.5881308385056343,
          "ŷ": 1.1069980189485422
         },
         {
          "x": 0.9459837473403683,
          "y": 1.5527966648283504,
          "ŷ": 1.3854693974657564
         },
         {
          "x": 0.11674817006711846,
          "y": 2.1249608672738907,
          "ŷ": -2.3202152044377002
         },
         {
          "x": 0.7667260870229003,
          "y": 4.534015084459918,
          "ŷ": 3.493753489180306
         },
         {
          "x": 0.7296827038112504,
          "y": 4.793404919180118,
          "ŷ": 3.441644968339807
         },
         {
          "x": 0.1387951368644853,
          "y": 2.0854072119847302,
          "ŷ": -2.655886063731543
         },
         {
          "x": 0.8142295132043549,
          "y": 3.923172804289758,
          "ŷ": 3.2917986154386516
         },
         {
          "x": 0.32702388974759367,
          "y": 5.003383323481069,
          "ŷ": -3.1337330784010726
         },
         {
          "x": 0.45354972040174735,
          "y": 5.124189683848521,
          "ŷ": -1.1149155942999496
         },
         {
          "x": 0.3461050418831161,
          "y": 5.218069182377707,
          "ŷ": -2.927925908896647
         },
         {
          "x": 0.5848797364862137,
          "y": 4.925892087449316,
          "ŷ": 1.650575925101452
         },
         {
          "x": 0.6786525239725325,
          "y": 5.395488100390567,
          "ŷ": 3.075016424684138
         },
         {
          "x": 0.9367745773063334,
          "y": 1.7389739019388326,
          "ŷ": 1.5668429338163319
         },
         {
          "x": 0.9256047853117624,
          "y": 1.8639652379281473,
          "ŷ": 1.779896921463161
         },
         {
          "x": 0.1608501037442741,
          "y": 2.4024554272622827,
          "ŷ": -2.9419208683985953
         },
         {
          "x": 0.732599402722911,
          "y": 4.280608971101238,
          "ŷ": 3.452424149208057
         },
         {
          "x": 0.761927307221319,
          "y": 3.885196747779491,
          "ŷ": 3.497424611413388
         },
         {
          "x": 0.5029484485651594,
          "y": 5.955511707897416,
          "ŷ": -0.06133728564762742
         },
         {
          "x": 0.6933620565317898,
          "y": 4.785605972736036,
          "ŷ": 3.2143547723872974
         },
         {
          "x": 0.7007618875675485,
          "y": 4.453561619881864,
          "ŷ": 3.2743769942550682
         },
         {
          "x": 0.8965464861609574,
          "y": 2.9375383253038487,
          "ŷ": 2.2915930143010943
         },
         {
          "x": 0.9042130430388367,
          "y": 2.1179200384480104,
          "ŷ": 2.1631795435528134
         },
         {
          "x": 0.0860333945401589,
          "y": 2.0097468137505468,
          "ŷ": -1.78167835569159
         },
         {
          "x": 0.24564525963487904,
          "y": 4.242813067874861,
          "ŷ": -3.4946090317276965
         },
         {
          "x": 0.921189860761016,
          "y": 2.6816577987774717,
          "ŷ": 1.861801812374827
         },
         {
          "x": 0.965385513298907,
          "y": 1.7993076405722466,
          "ŷ": 0.9892561029598379
         },
         {
          "x": 0.5188319463593376,
          "y": 5.928765116998904,
          "ŷ": 0.2834759663428462
         },
         {
          "x": 0.9533910708637747,
          "y": 1.405371964341585,
          "ŷ": 1.2362656103716108
         },
         {
          "x": 0.8618116234100883,
          "y": 2.7012021162537057,
          "ŷ": 2.804296681755312
         },
         {
          "x": 0.09733525994675862,
          "y": 1.917113642637783,
          "ŷ": -1.9884522466914962
         },
         {
          "x": 0.8391659896261309,
          "y": 3.22454290143536,
          "ŷ": 3.0697791507081145
         },
         {
          "x": 0.4309786922940898,
          "y": 5.071091806612132,
          "ŷ": -1.567317341586333
         },
         {
          "x": 0.1906236036044079,
          "y": 2.7606888513510937,
          "ŷ": -3.2397851004003058
         },
         {
          "x": 0.581486203481305,
          "y": 5.828817600719342,
          "ŷ": 1.5852014154616332
         },
         {
          "x": 0.4713767000665797,
          "y": 5.9159178420628535,
          "ŷ": -0.7416808117068591
         },
         {
          "x": 0.22784598260519218,
          "y": 3.186064264057385,
          "ŷ": -3.455919900694299
         },
         {
          "x": 0.9774020779925491,
          "y": 1.8117738881743894,
          "ŷ": 0.7362881148188205
         },
         {
          "x": 0.16183186168726305,
          "y": 2.849374971890432,
          "ŷ": -2.9534078161157775
         },
         {
          "x": 0.9695164763957479,
          "y": 1.9804728962684623,
          "ŷ": 0.9028434627459424
         },
         {
          "x": 0.1067238674096681,
          "y": 2.004803959063142,
          "ŷ": -2.152815788072146
         },
         {
          "x": 0.3830613491812098,
          "y": 4.717598535316088,
          "ŷ": -2.4155513497927585
         },
         {
          "x": 0.9680514556676187,
          "y": 1.5633421993016392,
          "ŷ": 0.9335601453073981
         },
         {
          "x": 0.9083535242506974,
          "y": 2.0856319615704924,
          "ŷ": 2.091768508451661
         },
         {
          "x": 0.1347620114868755,
          "y": 2.062007672022575,
          "ŷ": -2.5980238237060864
         },
         {
          "x": 0.5933303420911313,
          "y": 5.470362215302691,
          "ŷ": 1.81012326860307
         },
         {
          "x": 0.28502594813298987,
          "y": 4.2090378705824465,
          "ŷ": -3.4286672022080014
         },
         {
          "x": 0.49329727792903433,
          "y": 5.760239196794826,
          "ŷ": -0.270776576372207
         },
         {
          "x": 0.866726209455902,
          "y": 3.0484148423874395,
          "ŷ": 2.7391634689395654
         },
         {
          "x": 0.6105532147853581,
          "y": 5.049994766097442,
          "ŷ": 2.119398085419405
         },
         {
          "x": 0.15539070535525823,
          "y": 2.3964550392157378,
          "ŷ": -2.8760601357649427
         },
         {
          "x": 0.08428753929986488,
          "y": 1.6035883641985773,
          "ŷ": -1.7489281292269336
         },
         {
          "x": 0.9608525192500915,
          "y": 1.8493786361433102,
          "ŷ": 1.0833269691300451
         },
         {
          "x": 0.5855912635088627,
          "y": 5.047680899768218,
          "ŷ": 1.664191056694071
         },
         {
          "x": 0.7321030070864756,
          "y": 4.697877359332992,
          "ŷ": 3.4506695528063336
         },
         {
          "x": 0.7850565690961602,
          "y": 3.961876250174447,
          "ŷ": 3.4512203004070114
         },
         {
          "x": 0.5305612843478281,
          "y": 5.532636504555362,
          "ŷ": 0.536524197888615
         },
         {
          "x": 0.6563720311383896,
          "y": 5.553380422178272,
          "ŷ": 2.815546769366421
         },
         {
          "x": 0.4320108615396314,
          "y": 5.035421734005741,
          "ŷ": -1.5472346399298709
         },
         {
          "x": 0.6426504737132981,
          "y": 5.614523494354377,
          "ŷ": 2.628601483321856
         },
         {
          "x": 0.2724173195248697,
          "y": 3.7910857548026415,
          "ŷ": -3.472433904385381
         },
         {
          "x": 0.21156448071181122,
          "y": 3.087158485875444,
          "ŷ": -3.383552597504767
         },
         {
          "x": 0.4541486837464229,
          "y": 5.4884846662480395,
          "ŷ": -1.1025719318785794
         },
         {
          "x": 0.5495097503098617,
          "y": 5.873879552263394,
          "ŷ": 0.9387274664964971
         },
         {
          "x": 0.06943161082749882,
          "y": 1.4376638946542688,
          "ŷ": -1.4623232408317473
         },
         {
          "x": 0.10688203624045711,
          "y": 1.621508504558502,
          "ŷ": -2.1555236434127734
         },
         {
          "x": 0.1600520848463709,
          "y": 2.7548628908253874,
          "ŷ": -2.932503112430426
         },
         {
          "x": 0.04847790383935646,
          "y": 0.8280743396645484,
          "ŷ": -1.0375146767937478
         },
         {
          "x": 0.8279155322425452,
          "y": 3.4334893675616076,
          "ŷ": 3.179407446723944
         },
         {
          "x": 0.5578426185448648,
          "y": 5.181355907527827,
          "ŷ": 1.1118136312967979
         },
         {
          "x": 0.08481304439368764,
          "y": 1.4506481391082824,
          "ŷ": -1.7588078102518052
         },
         {
          "x": 0.5075220641285026,
          "y": 5.533223247469527,
          "ŷ": 0.03803748832846024
         },
         {
          "x": 0.4279866192048979,
          "y": 4.991538393610908,
          "ŷ": -1.6251664825353742
         },
         {
          "x": 0.03460120516153342,
          "y": 1.0756251413065034,
          "ŷ": -0.7460639094369832
         },
         {
          "x": 0.14517213465865741,
          "y": 2.4028220534562714,
          "ŷ": -2.743960165452141
         },
         {
          "x": 0.2255357780679651,
          "y": 3.8972813954740864,
          "ŷ": -3.4477883429318847
         },
         {
          "x": 0.9325734822058154,
          "y": 2.3648147093709624,
          "ŷ": 1.647915714464805
         },
         {
          "x": 0.07086622576348,
          "y": 1.9311037428470423,
          "ŷ": -1.4905827883373486
         }
        ]
       },
       "layer": [
        {
         "encoding": {
          "x": {
           "field": "x",
           "type": "quantitative"
          },
          "y": {
           "field": "y",
           "type": "quantitative"
          }
         },
         "mark": "point"
        },
        {
         "encoding": {
          "x": {
           "field": "x",
           "type": "quantitative"
          },
          "y": {
           "field": "ŷ",
           "type": "quantitative"
          }
         },
         "mark": "line"
        }
       ]
      },
      "image/png": "[encoded data removed]",
      "text/plain": [
       "<VegaLite 3 object>\n",
       "\n",
       "If you see this message, it means the renderer has not been properly enabled\n",
       "for the frontend that you are using. For more information, see\n",
       "https://altair-viz.github.io/user_guide/troubleshooting.html\n"
      ]
     },
     "execution_count": 100,
     "metadata": {},
     "output_type": "execute_result"
    }
   ],
   "source": [
    "plot_df = pd.DataFrame({'y':y, 'x':X, 'ŷ':ŷ})\n",
    "alt.Chart(plot_df).mark_point().encode(x='x',y='y') + \\\n",
    "alt.Chart(plot_df).mark_line().encode(x='x',y='ŷ')"
   ]
  },
  {
   "cell_type": "markdown",
   "metadata": {},
   "source": [
    "Wow. What the heck is going on?!"
   ]
  },
  {
   "cell_type": "markdown",
   "metadata": {},
   "source": [
    "### Local Minima and Flats"
   ]
  },
  {
   "cell_type": "markdown",
   "metadata": {},
   "source": [
    "I'm going to brute-force calculate the value of the loss function and gradient over a grid of parameters and plot it, so we can \n",
    "get an idea about what that loss surface looks like. Again, the code here is less important than the picture:"
   ]
  },
  {
   "cell_type": "code",
   "execution_count": 101,
   "metadata": {},
   "outputs": [],
   "source": [
    "from itertools import product\n",
    "αs = np.arange(0,10,0.5)\n",
    "βs = np.arange(-10,10,0.5)\n",
    "params = list(product(αs, βs))\n",
    "L = [None for i in range(len(params))]\n",
    "grads = [None for i in range(len(params))]\n",
    "for i, (α, β) in enumerate(params):\n",
    "    L[i] = sin_reg_mae_loss([α, β])\n",
    "    grads[i] = 0.5*grad_sin_reg_mae_loss(np.array([α, β]))\n",
    "a,b = zip(*params)\n",
    "dL_da, dL_db = zip(*grads)\n",
    "loss_df = pd.DataFrame({'a':a, 'b':b, 'dL_da':dL_da, 'dL_db':dL_db, 'L':L})"
   ]
  },
  {
   "cell_type": "code",
   "execution_count": 102,
   "metadata": {
    "tags": [
     "hide_input"
    ]
   },
   "outputs": [
    {
     "data": {
      "image/png": "[encoded data removed]"
     },
     "metadata": {},
     "output_type": "display_data"
    }
   ],
   "source": [
    "%%R -i loss_df,loss_params_trajectory\n",
    "library(tidyverse)\n",
    "library(viridis)\n",
    "\n",
    "plot = loss_df %>%\n",
    "ggplot(aes(x=a,y=b)) +\n",
    "    geom_raster(aes(fill=L)) + \n",
    "    geom_contour(aes(z=L), color='grey') +\n",
    "    scale_fill_viridis() +\n",
    "    geom_segment(aes(x=a,y=b,xend=a-dL_da,yend=b-dL_db),\n",
    "                 color = 'white',\n",
    "                 arrow = arrow(length=unit(0.05,\"cm\"), \n",
    "                             type = \"closed\")) + \n",
    "    labs(x = expression(alpha), y=expression(beta)) +\n",
    "    theme_bw() + coord_fixed()\n",
    "plot"
   ]
  },
  {
   "cell_type": "markdown",
   "metadata": {},
   "source": [
    "What's happening is that when we start at $[0.1, 0.1]$, gradient descent follows the arrows up and to the right into the pit that's centered around the $[5,3]$ minimum. But when we start at $[10,-6]$, we go left and get stuck in the trough roughly corresponding to $[4,-7]$. Either there is a small dip there that we're getting stuck in, or the surface is so near flat that the algorithm stops because the loss isn't changing enough with each step."
   ]
  },
  {
   "cell_type": "markdown",
   "metadata": {},
   "source": [
    "This is a very common problem with gradient descent methods for optimization. You are never guarenteed to find the global minimum of the loss. Greedily moving down in the steepest direction will cause the algorithm to find the bottom of a bowl, but it might not be the deepest bowl in the landscape. It's also easy to get stuck in wide plateaus or \"saddles\" since the loss can get very flat."
   ]
  },
  {
   "cell_type": "markdown",
   "metadata": {},
   "source": [
    "Before moving on to the tweaks we can make to fix this problem, I should note that there *are* optimization methods that don't rely on gradients and so are not succeptible to these problems. [Evolutionary algorithms](https://en.wikipedia.org/wiki/Evolutionary_algorithm) like [differential evolution](https://en.wikipedia.org/wiki/Differential_evolution) and [CMA-ES](https://en.wikipedia.org/wiki/CMA-ES) are good examples. But there's no free lunch: no gradients also often means a lot of \"guessing\" and *slow convergence* (many iterations to get to a minimum)."
   ]
  },
  {
   "cell_type": "markdown",
   "metadata": {},
   "source": [
    "### Momentum \n",
    "\n",
    "One way to fix this problem without totally giving up on gradient descent is to introduce \"momentum\". Instead of taking a step proportional to the current gradient, the idea is to average the current gradient together with the steps taken in the previous few iterations. The effect is that we retain the \"momentum\" from previous steps. Compare these animations:"
   ]
  },
  {
   "cell_type": "markdown",
   "metadata": {},
   "source": [
    "<table><tr><td><img src='https://miro.medium.com/max/400/1*qUPwF7Idt2yudQu8Sh1Kzw.gif'></td><td><img src='https://miro.medium.com/max/400/1*8mgMKa1dg93fUBk1oUG42A.gif'></td></tr></table>"
   ]
  },
  {
   "cell_type": "markdown",
   "metadata": {},
   "source": [
    "On the left, standard gradient descent slows down and stop as it approaches the local minimum around $\\theta=4$. Why? It's because the loss surface is flat there, so the gradient is $0$ and the parameters don't change with further iterations. But on the right, when the \"ball\" reaches the local minimum, the \"momentum\" from it's previous leftward \"motion\" carries it through the trough and into the more desirable global minimum. One downside is that convergence at the global minimum is a bit slower, since the \"balls\" rocks back and forth around the minimum due to the momentum."
   ]
  },
  {
   "cell_type": "markdown",
   "metadata": {},
   "source": [
    "Implementing momentum is not difficult- you just need to keep around the calculated values from previous iterations and apply the update something like this:"
   ]
  },
  {
   "cell_type": "markdown",
   "metadata": {},
   "source": [
    "$$\\theta \\leftarrow \\theta-\\epsilon \\nabla_\\theta L -\\frac{1}{2}\\epsilon\\nabla_\\theta L ^{(-1)}- \\frac{1}{4}\\epsilon\\nabla_\\theta L ^{(-2)}$$"
   ]
  },
  {
   "cell_type": "markdown",
   "metadata": {},
   "source": [
    "where $\\nabla_\\theta L ^{(-j)}$ is the value of gradient calculated at what the parameter was $j$ iterations ago. The exact number of terms you use and what numbers you scale them by are not terribly important, as long as the current gradient gets the most weight."
   ]
  },
  {
   "cell_type": "markdown",
   "metadata": {
    "tags": [
     "exercise"
    ]
   },
   "source": [
    "<div class=\"alert alert-block alert-info\">\n",
    "<b>Exercise:</b> \n",
    "\n",
    "A few sections ago, we made a plot of the parameter values over the iterations as we did standard gradient descent in linear regression and we overlaid it on the surface of the loss function:\n",
    "    \n",
    "<img src='images/trajectory.png' style=\"width:500px;height:500px;\">    \n",
    "    \n",
    "On a piece of paper, sketch up a copy of this plot and add in what you think the trajectory would be (starting at the same point) if we had used momentum in our gradient descent algorithm.\n",
    "    \n",
    "</div>"
   ]
  },
  {
   "cell_type": "markdown",
   "metadata": {},
   "source": [
    "### Stochastic Gradient Descent"
   ]
  },
  {
   "cell_type": "markdown",
   "metadata": {},
   "source": [
    "The value of the gradient at a particular point depends on the data we have. The data we have is really just a sample of the data we could have. Depending on the context, you could always run another experiment or measure things more times than you did, which would generate more data. That data would also be helpful in building a predictive model. So, ideally, if we had infinite data, and using a model $\\hat y_i = \\hat f_\\theta(x_i)$ we would want to minimize something like \"$\\frac{1}{\\infty}\\sum_i^\\infty L(y_i, \\hat f_\\theta(x_i))$\". The mathematically rigorous way of saying the same thing is to say that we want to minimize the *expected* loss, where the expectation is taken with respect to the full population (or distribution) of data that we could have measured: $E[L(y, \\hat f_\\theta(x))]$."
   ]
  },
  {
   "cell_type": "markdown",
   "metadata": {},
   "source": [
    "The key intuition here is that $E[L(y, \\hat f_\\theta(x))]$ is the *true* loss surface that we wish we could minimize, but all we've got to work with is $\\frac{1}{n}\\sum_i L(y_i, \\hat f_\\theta(x_i))$. So, in a sense, when we calculate the loss over our sample, it's really just a sample from a distribution of losses we could have gotten, had we had other data. In the same vein, the gradient we calculate is really just a sample from a distribution of gradients, which on average point in the direction of lowest expected loss."
   ]
  },
  {
   "cell_type": "markdown",
   "metadata": {},
   "source": [
    "The idea behind stochastic gradient is to calculate the gradient at each iteration using a random subsample of the available data instead of all of it. The full data are just one sample from the population, and we've been fine using the gradient calculated on that sample, so what's stopping us from calculating the gradient based on a sample of that sample? The effect is to introduce a little randomness to the direction we move in, which might get us \"unstuck\" from spots that might be minima or flats of $\\frac{1}{n}\\sum_i L(y_i, \\hat f_\\theta(x_i))$, but not of $E[L(y, \\hat f_\\theta(x))]$."
   ]
  },
  {
   "cell_type": "markdown",
   "metadata": {},
   "source": [
    "Strictly speaking, this approach is called *minibatch gradient descent*, whereas using just a single observation from the dataset at each iteration is *stochastic gradient descent*, but often the terms are used interchangeably. Standard gradient descent (using the full dataset at each iteration) is sometimes referred to as *batch gradient descent*."
   ]
  },
  {
   "cell_type": "markdown",
   "metadata": {},
   "source": [
    "![](https://adatis.co.uk/wp-content/uploads/GradientDescentsVisualised.gif)"
   ]
  },
  {
   "cell_type": "markdown",
   "metadata": {
    "tags": [
     "exercise"
    ]
   },
   "source": [
    "<div class=\"alert alert-block alert-info\">\n",
    "<b>Exercise:</b> \n",
    "\n",
    "Implement minibatch gradient descent for the linear regression problem. You'll need to rewrite the loss and gradient functions to take (subsets of) $X$ and $y$ as inputs and the `grad_descent` function to create those random subsets at each iteration.\n",
    "</div>"
   ]
  },
  {
   "cell_type": "markdown",
   "metadata": {},
   "source": [
    "### Learning Rates and Line Searches"
   ]
  },
  {
   "cell_type": "markdown",
   "metadata": {},
   "source": [
    "I've been conspicuously silent about the learning rate $\\epsilon$ until now, but all good things must come to an end. If you go back to any of the examples and crank up $\\epsilon$, you will notice that the algorithm stops producing sensible results at some point. What happens is that the loss increases from one iteration to the next, so the condition in the `while` loop is not satisfied and the algorithm stops. \n",
    "\n",
    "Why does this happen? Aren't we guarenteed to be going in a direction that shrinks the loss? Well, yes, the direction we're going in is gaurenteed to shrink the loss, but we may be taking too big or too small of a step in that direction. Consider the following figure:\n",
    "\n",
    "![](https://miro.medium.com/max/600/1*Q-2Wh0Xcy6fsGkbPFJvMhQ.gif)"
   ]
  },
  {
   "cell_type": "markdown",
   "metadata": {},
   "source": [
    "If the learning rate is too small, gradient descent can take far too long to find a minimum. In this case, we say the algorithm has *slow convergence*. If the learning rate is too big, gradient descent can *diverge* and fail to find a minimum altogether. Finding the sweet spot is often a matter of guess-and-check."
   ]
  },
  {
   "cell_type": "markdown",
   "metadata": {},
   "source": [
    "However, most optimizers that are based on gradient descent employ some kind of *line search* to dynamically pick the step size at each iteration. It's called a line search because we know which direction to go in (the negative gradient), but we want to search along that line to find the step size that will be big enough to substantially decrease the loss, but small enough not badly overshoot the minimum. One way to do that is to start with a big learning rate at each iteration and calculate the loss we would attain if we applied the gradient update using that learning rate- if it's bigger than the current loss, we halve the learning rate and try again. That's called a [*backtracking line search*](https://www.cs.cmu.edu/~ggordon/10725-F12/scribes/10725_Lecture5.pdf), but there are other alternatives as well. "
   ]
  },
  {
   "cell_type": "markdown",
   "metadata": {},
   "source": [
    "## Understanding Gradient Descent Helps You Understand Machine Learning"
   ]
  },
  {
   "cell_type": "markdown",
   "metadata": {},
   "source": [
    "To conclude, gradient descent is an extremely powerful method that in its many variations gets used under the hood of an enormous number of machine learning methods, ranging from the smallest linear regression to the mightiest neural network. Understanding how it works gives you a deeper insight into how machine learning models are fit- it all boils down to jiggling the knobs on a big complex machine until the loud noise you don't like goes away. \n",
    "\n",
    "Understanding how models are fit also gives you better insight for how to interpret them, which is to say, it's usually better not to. You never know \"why\" the particular configuration of the knobs made the noise go away. And it doesn't even matter if you assumed the correct model or if you assumed something totally ridiculous. The optimizer (e.g. gradient descent) looks for parameters that make the model \"fit\". It doesn't care whether or not that model reflects reality or not.\n",
    "\n",
    "### Don't Try This at Home?\n",
    "\n",
    "Unless you're researching a new kind of machine learning method or solving a different optimization problem, you will probably never have to use gradient descent algorithms directly. But if you do, the good news is that you don't need to re-implement gradient descent or any of its relatives if you want to use them- there are hundreds of high-quality \"solvers\" (e.g. [IPOPT](https://en.wikipedia.org/wiki/IPOPT)) available for different kinds of optimization problems. These can be a little tricky to figure out, but it's better than trying to implement and debug your own custom software. These solvers and other methods you might hear about like Adam or RMSprop \\[[1](https://ruder.io/optimizing-gradient-descent/),[2](https://towardsdatascience.com/why-gradient-descent-isnt-enough-a-comprehensive-introduction-to-optimization-algorithms-in-59670fd5c096)\\] often have lots of bells and whistles. But now that you understand gradient descent, you will be well-positioned to understand the differences between those methods, whether or not those difference actually matter, and how to set reasonable values for any hyperparameters they might throw at you."
   ]
  },
  {
   "cell_type": "code",
   "execution_count": null,
   "metadata": {},
   "outputs": [],
   "source": []
  }
 ],
 "metadata": {
  "kernelspec": {
   "display_name": "Python 3",
   "language": "python",
   "name": "python3"
  },
  "language_info": {
   "codemirror_mode": {
    "name": "ipython",
    "version": 3
   },
   "file_extension": ".py",
   "mimetype": "text/x-python",
   "name": "python",
   "nbconvert_exporter": "python",
   "pygments_lexer": "ipython3",
   "version": "3.7.6"
  }
 },
 "nbformat": 4,
 "nbformat_minor": 4
}
