{
 "cells": [
  {
   "cell_type": "markdown",
   "metadata": {},
   "source": [
    "# Using Supervised Learning"
   ]
  },
  {
   "cell_type": "markdown",
   "metadata": {},
   "source": [
    "In this chapter we'll talk about why it's important to think carefully about what question you're trying to answer with your analysis, what supervised learning is, and what questions it can help us answer."
   ]
  },
  {
   "cell_type": "markdown",
   "metadata": {},
   "source": [
    "Advancements in computer technology have made it easier and easier to collect, store, transport, and process massive quantities of data in the past two decades. Examples of data and its uses abound. Some are flashy: IBM's Watsom AI ingested and processed millions of webpages in order to successfully compete in Jeopardy. Others are all around us: spam filters, smartphone assistants, streaming video recommendations, and targeted advertisement all rely on algorithms that learned directly from data to do what they do. And it's not just the internet and smartphones- healthcare providers are now using past patient data to build models that target care to patients who need it the most. Online learning platforms are using their students' data to improve teaching and learning. \n",
    "\n",
    "The increase in availability has led to an exploding demand for professionals who can extract meaning from data that builds insight and spurs action. These professionals are now called *data scientists*. \n",
    "\n",
    "Although a lot of attention and hype has been placed on the *data* part of that title, what's more important is actually the *scientist* part. Science is the process of using experiments and data to create knowledge. In fact, many of the computer algorithms being used to great effect today are actually decades old or have foundations in pre-existing mathematics. The basic concepts aren't new, they're just much more useful now that we have more data to analyze. \n",
    "\n",
    "But since those concepts aren't new, and scientists have been extracting insight from data for centuries, we should take some time to understand what the different kinds of insights we're looking for are. Different kinds of insights call for different approaches."
   ]
  },
  {
   "cell_type": "code",
   "execution_count": null,
   "metadata": {},
   "outputs": [],
   "source": []
  }
 ],
 "metadata": {
  "kernelspec": {
   "display_name": "Python 3",
   "language": "python",
   "name": "python3"
  },
  "language_info": {
   "codemirror_mode": {
    "name": "ipython",
    "version": 3
   },
   "file_extension": ".py",
   "mimetype": "text/x-python",
   "name": "python",
   "nbconvert_exporter": "python",
   "pygments_lexer": "ipython3",
   "version": "3.7.6"
  }
 },
 "nbformat": 4,
 "nbformat_minor": 4
}
