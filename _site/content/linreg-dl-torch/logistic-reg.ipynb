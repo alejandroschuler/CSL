{
 "cells": [
  {
   "cell_type": "markdown",
   "metadata": {},
   "source": [
    "# Logistic Regression"
   ]
  },
  {
   "cell_type": "code",
   "execution_count": 13,
   "metadata": {
    "tags": [
     "hide_input"
    ]
   },
   "outputs": [],
   "source": [
    "import torch\n",
    "import pandas as pd\n",
    "import altair as alt\n",
    "from torchviz import make_dot"
   ]
  },
  {
   "cell_type": "markdown",
   "metadata": {},
   "source": [
    "Now that we've seen how this works for linear regression, we can try and implement a model that predicts probabilities for a two-class outcome instead of a prediction for a continuous outcome. Now our data look like this:"
   ]
  },
  {
   "cell_type": "code",
   "execution_count": 3,
   "metadata": {},
   "outputs": [],
   "source": [
    "n,p = 100,5\n",
    "x = torch.randn(n,5) # predictors (10 observations, 5 features)\n",
    "y = torch.randint(0,2,(n,), dtype=torch.float) # outcomes (10 observations)"
   ]
  },
  {
   "cell_type": "code",
   "execution_count": 4,
   "metadata": {},
   "outputs": [
    {
     "data": {
      "text/plain": [
       "tensor([1., 1., 1., 0., 0.])"
      ]
     },
     "execution_count": 4,
     "metadata": {},
     "output_type": "execute_result"
    }
   ],
   "source": [
    "y[0:5]"
   ]
  },
  {
   "cell_type": "markdown",
   "metadata": {},
   "source": [
    "## Changing the model"
   ]
  },
  {
   "cell_type": "markdown",
   "metadata": {},
   "source": [
    "To do this, we have to change two things: firstly, our model can't be $\\hat y_i  = x_i\\beta_{1:p} + \\beta_0$ anymore because $\\hat y_i$ will come out as a number between plus and minus infinity, wheras we now want it to be a number between 0 and 1 (a probability). To fix this, we'll apply a function that takes $x_i\\beta_{1:p} + \\beta_0$ and squishes it down to a number between 0 and 1. The function we'll use is $\\sigma(z) = \\frac{1}{1+e^{-z}}$, which is called the *sigmoid* or *logistic* function. "
   ]
  },
  {
   "cell_type": "markdown",
   "metadata": {},
   "source": [
    "![](https://upload.wikimedia.org/wikipedia/commons/thumb/8/88/Logistic-curve.svg/600px-Logistic-curve.svg.png)"
   ]
  },
  {
   "cell_type": "markdown",
   "metadata": {},
   "source": [
    "So our model will be $\\hat p_i  = \\sigma(x_i\\beta_{1:p} + \\beta_0)$. The parameters are still $\\beta$, but now there is an additional (fixed) squishing function that makes sure the output is a probability. In accordance, I've called the output $\\hat p_i$ instead of $\\hat y_i$."
   ]
  },
  {
   "cell_type": "markdown",
   "metadata": {},
   "source": [
    "As before, we can represent this model graphically:\n",
    "\n",
    "<img src=\"images/logreg.png\" width=\"250\">"
   ]
  },
  {
   "cell_type": "markdown",
   "metadata": {},
   "source": [
    "Note that the only difference between this picture and the one before is that we've inserted $\\sigma()$ right before the final output."
   ]
  },
  {
   "cell_type": "markdown",
   "metadata": {},
   "source": [
    "## Changing the loss"
   ]
  },
  {
   "cell_type": "markdown",
   "metadata": {},
   "source": [
    "Our loss function from before was MSE: $\\sum (\\hat y_i - y_i)^2$, which compares a predicted outcome to the true outcome. One option is to replace the predicted outcome with a predicted probability to get $\\sum (\\hat p_i - y_i)^2$ (the _Brier Score_). Here's what that looks like (for a single observation $i$):"
   ]
  },
  {
   "cell_type": "markdown",
   "metadata": {},
   "source": [
    "![](http://journal.sjdm.org/16/16218/jdm16218001.png)"
   ]
  },
  {
   "cell_type": "markdown",
   "metadata": {},
   "source": [
    "This is ok, but many people don't like that there is a maximum penalty under this loss: if the true outcome was $y_i =0$ but the model predicts $p_j = P(Y_i=1) = 1$ (i.e. $y_i =1$ with absolute certainty), then the penalty should be infinitely high to strongly discrourage this kind of overconfident (wrong) prediction. Under the Brier score, however, you can see that this kind of prediction only incurrs a loss of 1, not infinity. Furthermore, when the outcome is 1 and the prediction gets closer and closer to 1, we see that the loss \"flattens out\", which means that we're not encouraged to be more and more confident when we're right."
   ]
  },
  {
   "cell_type": "markdown",
   "metadata": {},
   "source": [
    "What we want is a loss function that looks like this:"
   ]
  },
  {
   "cell_type": "markdown",
   "metadata": {},
   "source": [
    "![](https://conorsdatablog.files.wordpress.com/2018/03/log_loss.png?w=615&h=597)"
   ]
  },
  {
   "cell_type": "markdown",
   "metadata": {},
   "source": [
    "This is called the _log-loss_ (or _cross-entropy loss_ or _binomial deviance_). It is expressed as \n",
    "\n",
    "$$\n",
    "L(\\hat p, y) = \n",
    "\\frac{1}{n}\n",
    "\\sum_i \n",
    "\\begin{cases}\n",
    "-\\log(P(Y_i = 1)) & \\text{if}\\ y_i=1 \\\\\n",
    "-\\log(P(Y_i = 0)) & \\text{if}\\ y_i=0\n",
    "\\end{cases}\n",
    "$$"
   ]
  },
  {
   "cell_type": "markdown",
   "metadata": {},
   "source": [
    "which is the same as "
   ]
  },
  {
   "cell_type": "markdown",
   "metadata": {},
   "source": [
    "$$\n",
    "=\n",
    "\\frac{1}{n}\n",
    "\\sum_i \n",
    "\\begin{cases}\n",
    "-\\log(\\hat p_i) & \\text{if}\\ y_i=1 \\\\\n",
    "-\\log(1-\\hat p_i) & \\text{if}\\ y_i=0\n",
    "\\end{cases}\n",
    "\\\\\n",
    "= \n",
    "-\\frac{1}{n}\n",
    "\\sum_i \n",
    "y_i \\log(\\hat p_i) + (1-y_i) \\log (1-\\hat p_i)\n",
    "$$"
   ]
  },
  {
   "cell_type": "markdown",
   "metadata": {},
   "source": [
    "## Search strategy is still gradient descent"
   ]
  },
  {
   "cell_type": "markdown",
   "metadata": {},
   "source": [
    "This combination of logistic-linear model and log-loss is called _logistic regression_ (although this is a misnomer because we're actually doing classification, not regression). The amazing thing about gradient descent is that, as long as you can differentiate through the loss and to the model parameters, it just works. Compare this code to what we did to fit our linear regression model."
   ]
  },
  {
   "cell_type": "code",
   "execution_count": 5,
   "metadata": {},
   "outputs": [
    {
     "data": {
      "text/plain": [
       "tensor([[-1.1276],\n",
       "        [ 1.1077],\n",
       "        [ 0.5628],\n",
       "        [-0.7865],\n",
       "        [ 0.9281],\n",
       "        [ 0.9921]], requires_grad=True)"
      ]
     },
     "execution_count": 5,
     "metadata": {},
     "output_type": "execute_result"
    }
   ],
   "source": [
    "x = torch.randn(n, p) # predictors (10 observations, 5 features)\n",
    "y = torch.randint(0,2,(n,), dtype=torch.float) # outcomes (10 observations)\n",
    "\n",
    "loss_record = [] # to kep track of the loss over the iterations\n",
    "β = torch.randn(p+1,1) # 5 coefficients (one per feature)\n",
    "β.requires_grad_() # tell torch that β is going to have to save the gradient of something with respect to itself at some point"
   ]
  },
  {
   "cell_type": "code",
   "execution_count": 6,
   "metadata": {},
   "outputs": [],
   "source": [
    "for e in range(500):\n",
    "    z = torch.matmul(x, β[1:]) + β[0]  \n",
    "    p̂ = torch.exp(-z)/(1+torch.exp(-z))\n",
    "    L = -torch.sum(torch.log(p̂)*y + torch.log(1-p̂)*(1-y))/n # log loss\n",
    "    \n",
    "    L.backward() # compute gradients (in this case δL/δβ, δL/δW)\n",
    "    loss_record.append(L.item())\n",
    "    \n",
    "    with torch.no_grad(): # take the gradient descent step \n",
    "        β -= 10e-4 * β.grad\n",
    "        β.grad.zero_()"
   ]
  },
  {
   "cell_type": "code",
   "execution_count": 11,
   "metadata": {},
   "outputs": [
    {
     "data": {
      "application/vnd.vegalite.v3+json": {
       "$schema": "https://vega.github.io/schema/vega-lite/v3.4.0.json",
       "config": {
        "mark": {
         "tooltip": null
        },
        "view": {
         "height": 300,
         "width": 400
        }
       },
       "data": {
        "name": "data-d6ae4b6d79db09c8cc3f60c8d8269052"
       },
       "datasets": {
        "data-d6ae4b6d79db09c8cc3f60c8d8269052": [
         {
          "i": 0,
          "loss": 116.369384765625
         },
         {
          "i": 1,
          "loss": 115.30279541015625
         },
         {
          "i": 2,
          "loss": 114.24964904785156
         },
         {
          "i": 3,
          "loss": 113.20985412597656
         },
         {
          "i": 4,
          "loss": 112.18355560302734
         },
         {
          "i": 5,
          "loss": 111.1709213256836
         },
         {
          "i": 6,
          "loss": 110.17170715332031
         },
         {
          "i": 7,
          "loss": 109.1865234375
         },
         {
          "i": 8,
          "loss": 108.2151107788086
         },
         {
          "i": 9,
          "loss": 107.25749969482422
         },
         {
          "i": 10,
          "loss": 106.31390380859375
         },
         {
          "i": 11,
          "loss": 105.38432312011719
         },
         {
          "i": 12,
          "loss": 104.46881103515625
         },
         {
          "i": 13,
          "loss": 103.56735229492188
         },
         {
          "i": 14,
          "loss": 102.68016815185547
         },
         {
          "i": 15,
          "loss": 101.80709075927734
         },
         {
          "i": 16,
          "loss": 100.94834899902344
         },
         {
          "i": 17,
          "loss": 100.10382843017578
         },
         {
          "i": 18,
          "loss": 99.27365112304688
         },
         {
          "i": 19,
          "loss": 98.45772552490234
         },
         {
          "i": 20,
          "loss": 97.65631866455078
         },
         {
          "i": 21,
          "loss": 96.8691177368164
         },
         {
          "i": 22,
          "loss": 96.0962142944336
         },
         {
          "i": 23,
          "loss": 95.33768463134766
         },
         {
          "i": 24,
          "loss": 94.593505859375
         },
         {
          "i": 25,
          "loss": 93.863525390625
         },
         {
          "i": 26,
          "loss": 93.14794921875
         },
         {
          "i": 27,
          "loss": 92.44657135009766
         },
         {
          "i": 28,
          "loss": 91.7592544555664
         },
         {
          "i": 29,
          "loss": 91.08614349365234
         },
         {
          "i": 30,
          "loss": 90.42721557617188
         },
         {
          "i": 31,
          "loss": 89.78209686279297
         },
         {
          "i": 32,
          "loss": 89.15087890625
         },
         {
          "i": 33,
          "loss": 88.53359985351562
         },
         {
          "i": 34,
          "loss": 87.93006896972656
         },
         {
          "i": 35,
          "loss": 87.340087890625
         },
         {
          "i": 36,
          "loss": 86.76374053955078
         },
         {
          "i": 37,
          "loss": 86.20069122314453
         },
         {
          "i": 38,
          "loss": 85.65104675292969
         },
         {
          "i": 39,
          "loss": 85.11444091796875
         },
         {
          "i": 40,
          "loss": 84.59101867675781
         },
         {
          "i": 41,
          "loss": 84.08036041259766
         },
         {
          "i": 42,
          "loss": 83.58238220214844
         },
         {
          "i": 43,
          "loss": 83.09709167480469
         },
         {
          "i": 44,
          "loss": 82.62415313720703
         },
         {
          "i": 45,
          "loss": 82.16339874267578
         },
         {
          "i": 46,
          "loss": 81.71483612060547
         },
         {
          "i": 47,
          "loss": 81.27810668945312
         },
         {
          "i": 48,
          "loss": 80.85315704345703
         },
         {
          "i": 49,
          "loss": 80.4396743774414
         },
         {
          "i": 50,
          "loss": 80.0375747680664
         },
         {
          "i": 51,
          "loss": 79.64649200439453
         },
         {
          "i": 52,
          "loss": 79.26644134521484
         },
         {
          "i": 53,
          "loss": 78.89727020263672
         },
         {
          "i": 54,
          "loss": 78.53853607177734
         },
         {
          "i": 55,
          "loss": 78.19013977050781
         },
         {
          "i": 56,
          "loss": 77.85184478759766
         },
         {
          "i": 57,
          "loss": 77.52359008789062
         },
         {
          "i": 58,
          "loss": 77.20499420166016
         },
         {
          "i": 59,
          "loss": 76.89593505859375
         },
         {
          "i": 60,
          "loss": 76.59620666503906
         },
         {
          "i": 61,
          "loss": 76.30554962158203
         },
         {
          "i": 62,
          "loss": 76.02378845214844
         },
         {
          "i": 63,
          "loss": 75.75077056884766
         },
         {
          "i": 64,
          "loss": 75.48619079589844
         },
         {
          "i": 65,
          "loss": 75.22984313964844
         },
         {
          "i": 66,
          "loss": 74.98162841796875
         },
         {
          "i": 67,
          "loss": 74.74121856689453
         },
         {
          "i": 68,
          "loss": 74.5085678100586
         },
         {
          "i": 69,
          "loss": 74.28331756591797
         },
         {
          "i": 70,
          "loss": 74.06539916992188
         },
         {
          "i": 71,
          "loss": 73.85444641113281
         },
         {
          "i": 72,
          "loss": 73.65045166015625
         },
         {
          "i": 73,
          "loss": 73.45316314697266
         },
         {
          "i": 74,
          "loss": 73.26232147216797
         },
         {
          "i": 75,
          "loss": 73.07791137695312
         },
         {
          "i": 76,
          "loss": 72.89956665039062
         },
         {
          "i": 77,
          "loss": 72.72718048095703
         },
         {
          "i": 78,
          "loss": 72.5606689453125
         },
         {
          "i": 79,
          "loss": 72.39968872070312
         },
         {
          "i": 80,
          "loss": 72.24417114257812
         },
         {
          "i": 81,
          "loss": 72.09393310546875
         },
         {
          "i": 82,
          "loss": 71.94886016845703
         },
         {
          "i": 83,
          "loss": 71.8087387084961
         },
         {
          "i": 84,
          "loss": 71.67341613769531
         },
         {
          "i": 85,
          "loss": 71.54280853271484
         },
         {
          "i": 86,
          "loss": 71.41670989990234
         },
         {
          "i": 87,
          "loss": 71.2949447631836
         },
         {
          "i": 88,
          "loss": 71.17741394042969
         },
         {
          "i": 89,
          "loss": 71.0640640258789
         },
         {
          "i": 90,
          "loss": 70.95462799072266
         },
         {
          "i": 91,
          "loss": 70.84900665283203
         },
         {
          "i": 92,
          "loss": 70.74717712402344
         },
         {
          "i": 93,
          "loss": 70.6488265991211
         },
         {
          "i": 94,
          "loss": 70.55401611328125
         },
         {
          "i": 95,
          "loss": 70.46260070800781
         },
         {
          "i": 96,
          "loss": 70.37435913085938
         },
         {
          "i": 97,
          "loss": 70.28929138183594
         },
         {
          "i": 98,
          "loss": 70.20719909667969
         },
         {
          "i": 99,
          "loss": 70.12811279296875
         },
         {
          "i": 100,
          "loss": 70.05184936523438
         },
         {
          "i": 101,
          "loss": 69.97821044921875
         },
         {
          "i": 102,
          "loss": 69.90736389160156
         },
         {
          "i": 103,
          "loss": 69.83898162841797
         },
         {
          "i": 104,
          "loss": 69.77304077148438
         },
         {
          "i": 105,
          "loss": 69.7094955444336
         },
         {
          "i": 106,
          "loss": 69.64823150634766
         },
         {
          "i": 107,
          "loss": 69.58918762207031
         },
         {
          "i": 108,
          "loss": 69.53225708007812
         },
         {
          "i": 109,
          "loss": 69.47737121582031
         },
         {
          "i": 110,
          "loss": 69.42453002929688
         },
         {
          "i": 111,
          "loss": 69.37358856201172
         },
         {
          "i": 112,
          "loss": 69.32443237304688
         },
         {
          "i": 113,
          "loss": 69.27717590332031
         },
         {
          "i": 114,
          "loss": 69.23155212402344
         },
         {
          "i": 115,
          "loss": 69.1875991821289
         },
         {
          "i": 116,
          "loss": 69.14520263671875
         },
         {
          "i": 117,
          "loss": 69.10441589355469
         },
         {
          "i": 118,
          "loss": 69.06513214111328
         },
         {
          "i": 119,
          "loss": 69.0272445678711
         },
         {
          "i": 120,
          "loss": 68.99069213867188
         },
         {
          "i": 121,
          "loss": 68.95557403564453
         },
         {
          "i": 122,
          "loss": 68.92167663574219
         },
         {
          "i": 123,
          "loss": 68.88898468017578
         },
         {
          "i": 124,
          "loss": 68.8575668334961
         },
         {
          "i": 125,
          "loss": 68.8271713256836
         },
         {
          "i": 126,
          "loss": 68.79804992675781
         },
         {
          "i": 127,
          "loss": 68.76990509033203
         },
         {
          "i": 128,
          "loss": 68.74281311035156
         },
         {
          "i": 129,
          "loss": 68.71668243408203
         },
         {
          "i": 130,
          "loss": 68.69153594970703
         },
         {
          "i": 131,
          "loss": 68.6672592163086
         },
         {
          "i": 132,
          "loss": 68.64391326904297
         },
         {
          "i": 133,
          "loss": 68.62146759033203
         },
         {
          "i": 134,
          "loss": 68.59978485107422
         },
         {
          "i": 135,
          "loss": 68.57894897460938
         },
         {
          "i": 136,
          "loss": 68.55880737304688
         },
         {
          "i": 137,
          "loss": 68.53942108154297
         },
         {
          "i": 138,
          "loss": 68.520751953125
         },
         {
          "i": 139,
          "loss": 68.50279998779297
         },
         {
          "i": 140,
          "loss": 68.48542785644531
         },
         {
          "i": 141,
          "loss": 68.46874237060547
         },
         {
          "i": 142,
          "loss": 68.45269775390625
         },
         {
          "i": 143,
          "loss": 68.4371566772461
         },
         {
          "i": 144,
          "loss": 68.42233276367188
         },
         {
          "i": 145,
          "loss": 68.40792846679688
         },
         {
          "i": 146,
          "loss": 68.39411926269531
         },
         {
          "i": 147,
          "loss": 68.38077545166016
         },
         {
          "i": 148,
          "loss": 68.3678970336914
         },
         {
          "i": 149,
          "loss": 68.35554504394531
         },
         {
          "i": 150,
          "loss": 68.34362030029297
         },
         {
          "i": 151,
          "loss": 68.33216857910156
         },
         {
          "i": 152,
          "loss": 68.32109069824219
         },
         {
          "i": 153,
          "loss": 68.31041717529297
         },
         {
          "i": 154,
          "loss": 68.30014038085938
         },
         {
          "i": 155,
          "loss": 68.290283203125
         },
         {
          "i": 156,
          "loss": 68.28073120117188
         },
         {
          "i": 157,
          "loss": 68.27155303955078
         },
         {
          "i": 158,
          "loss": 68.26268768310547
         },
         {
          "i": 159,
          "loss": 68.25418090820312
         },
         {
          "i": 160,
          "loss": 68.24598693847656
         },
         {
          "i": 161,
          "loss": 68.2380599975586
         },
         {
          "i": 162,
          "loss": 68.23046112060547
         },
         {
          "i": 163,
          "loss": 68.2231674194336
         },
         {
          "i": 164,
          "loss": 68.21605682373047
         },
         {
          "i": 165,
          "loss": 68.20924377441406
         },
         {
          "i": 166,
          "loss": 68.2026596069336
         },
         {
          "i": 167,
          "loss": 68.19635009765625
         },
         {
          "i": 168,
          "loss": 68.19026184082031
         },
         {
          "i": 169,
          "loss": 68.18440246582031
         },
         {
          "i": 170,
          "loss": 68.17875671386719
         },
         {
          "i": 171,
          "loss": 68.17329406738281
         },
         {
          "i": 172,
          "loss": 68.16802978515625
         },
         {
          "i": 173,
          "loss": 68.1629867553711
         },
         {
          "i": 174,
          "loss": 68.15811157226562
         },
         {
          "i": 175,
          "loss": 68.15343475341797
         },
         {
          "i": 176,
          "loss": 68.14888763427734
         },
         {
          "i": 177,
          "loss": 68.14456176757812
         },
         {
          "i": 178,
          "loss": 68.14032745361328
         },
         {
          "i": 179,
          "loss": 68.13632202148438
         },
         {
          "i": 180,
          "loss": 68.13243103027344
         },
         {
          "i": 181,
          "loss": 68.12867736816406
         },
         {
          "i": 182,
          "loss": 68.12507629394531
         },
         {
          "i": 183,
          "loss": 68.12158203125
         },
         {
          "i": 184,
          "loss": 68.11821746826172
         },
         {
          "i": 185,
          "loss": 68.114990234375
         },
         {
          "i": 186,
          "loss": 68.11188507080078
         },
         {
          "i": 187,
          "loss": 68.10887908935547
         },
         {
          "i": 188,
          "loss": 68.10596466064453
         },
         {
          "i": 189,
          "loss": 68.10319519042969
         },
         {
          "i": 190,
          "loss": 68.1004867553711
         },
         {
          "i": 191,
          "loss": 68.09789276123047
         },
         {
          "i": 192,
          "loss": 68.09546661376953
         },
         {
          "i": 193,
          "loss": 68.0929946899414
         },
         {
          "i": 194,
          "loss": 68.09064483642578
         },
         {
          "i": 195,
          "loss": 68.08843994140625
         },
         {
          "i": 196,
          "loss": 68.08625793457031
         },
         {
          "i": 197,
          "loss": 68.0842514038086
         },
         {
          "i": 198,
          "loss": 68.08229064941406
         },
         {
          "i": 199,
          "loss": 68.0803451538086
         },
         {
          "i": 200,
          "loss": 68.07846069335938
         },
         {
          "i": 201,
          "loss": 68.0766830444336
         },
         {
          "i": 202,
          "loss": 68.07494354248047
         },
         {
          "i": 203,
          "loss": 68.07330322265625
         },
         {
          "i": 204,
          "loss": 68.07166290283203
         },
         {
          "i": 205,
          "loss": 68.07012939453125
         },
         {
          "i": 206,
          "loss": 68.06867980957031
         },
         {
          "i": 207,
          "loss": 68.06723022460938
         },
         {
          "i": 208,
          "loss": 68.06585693359375
         },
         {
          "i": 209,
          "loss": 68.06451416015625
         },
         {
          "i": 210,
          "loss": 68.0632553100586
         },
         {
          "i": 211,
          "loss": 68.06201934814453
         },
         {
          "i": 212,
          "loss": 68.06079864501953
         },
         {
          "i": 213,
          "loss": 68.05968475341797
         },
         {
          "i": 214,
          "loss": 68.0586166381836
         },
         {
          "i": 215,
          "loss": 68.05752563476562
         },
         {
          "i": 216,
          "loss": 68.05638885498047
         },
         {
          "i": 217,
          "loss": 68.05548858642578
         },
         {
          "i": 218,
          "loss": 68.05455780029297
         },
         {
          "i": 219,
          "loss": 68.05362701416016
         },
         {
          "i": 220,
          "loss": 68.05276489257812
         },
         {
          "i": 221,
          "loss": 68.0519027709961
         },
         {
          "i": 222,
          "loss": 68.05107879638672
         },
         {
          "i": 223,
          "loss": 68.0502700805664
         },
         {
          "i": 224,
          "loss": 68.04955291748047
         },
         {
          "i": 225,
          "loss": 68.04878234863281
         },
         {
          "i": 226,
          "loss": 68.04804992675781
         },
         {
          "i": 227,
          "loss": 68.04742431640625
         },
         {
          "i": 228,
          "loss": 68.04676818847656
         },
         {
          "i": 229,
          "loss": 68.04610443115234
         },
         {
          "i": 230,
          "loss": 68.04545593261719
         },
         {
          "i": 231,
          "loss": 68.04484558105469
         },
         {
          "i": 232,
          "loss": 68.0443344116211
         },
         {
          "i": 233,
          "loss": 68.04380798339844
         },
         {
          "i": 234,
          "loss": 68.04322814941406
         },
         {
          "i": 235,
          "loss": 68.04271697998047
         },
         {
          "i": 236,
          "loss": 68.0422592163086
         },
         {
          "i": 237,
          "loss": 68.04180145263672
         },
         {
          "i": 238,
          "loss": 68.04134368896484
         },
         {
          "i": 239,
          "loss": 68.04088592529297
         },
         {
          "i": 240,
          "loss": 68.04045867919922
         },
         {
          "i": 241,
          "loss": 68.0400619506836
         },
         {
          "i": 242,
          "loss": 68.03968811035156
         },
         {
          "i": 243,
          "loss": 68.0392837524414
         },
         {
          "i": 244,
          "loss": 68.03895568847656
         },
         {
          "i": 245,
          "loss": 68.03860473632812
         },
         {
          "i": 246,
          "loss": 68.03824615478516
         },
         {
          "i": 247,
          "loss": 68.03791046142578
         },
         {
          "i": 248,
          "loss": 68.03764343261719
         },
         {
          "i": 249,
          "loss": 68.03732299804688
         },
         {
          "i": 250,
          "loss": 68.03701782226562
         },
         {
          "i": 251,
          "loss": 68.0367660522461
         },
         {
          "i": 252,
          "loss": 68.03643798828125
         },
         {
          "i": 253,
          "loss": 68.03620910644531
         },
         {
          "i": 254,
          "loss": 68.0359115600586
         },
         {
          "i": 255,
          "loss": 68.03572082519531
         },
         {
          "i": 256,
          "loss": 68.03549194335938
         },
         {
          "i": 257,
          "loss": 68.0352554321289
         },
         {
          "i": 258,
          "loss": 68.03504180908203
         },
         {
          "i": 259,
          "loss": 68.03482055664062
         },
         {
          "i": 260,
          "loss": 68.03463745117188
         },
         {
          "i": 261,
          "loss": 68.03439331054688
         },
         {
          "i": 262,
          "loss": 68.03424072265625
         },
         {
          "i": 263,
          "loss": 68.03401947021484
         },
         {
          "i": 264,
          "loss": 68.03387451171875
         },
         {
          "i": 265,
          "loss": 68.03368377685547
         },
         {
          "i": 266,
          "loss": 68.0335464477539
         },
         {
          "i": 267,
          "loss": 68.03337097167969
         },
         {
          "i": 268,
          "loss": 68.03324890136719
         },
         {
          "i": 269,
          "loss": 68.0330581665039
         },
         {
          "i": 270,
          "loss": 68.0329360961914
         },
         {
          "i": 271,
          "loss": 68.03279113769531
         },
         {
          "i": 272,
          "loss": 68.03272247314453
         },
         {
          "i": 273,
          "loss": 68.03253936767578
         },
         {
          "i": 274,
          "loss": 68.03242492675781
         },
         {
          "i": 275,
          "loss": 68.03228759765625
         },
         {
          "i": 276,
          "loss": 68.03223419189453
         },
         {
          "i": 277,
          "loss": 68.03207397460938
         },
         {
          "i": 278,
          "loss": 68.03196716308594
         },
         {
          "i": 279,
          "loss": 68.03185272216797
         },
         {
          "i": 280,
          "loss": 68.03181457519531
         },
         {
          "i": 281,
          "loss": 68.03170013427734
         },
         {
          "i": 282,
          "loss": 68.03158569335938
         },
         {
          "i": 283,
          "loss": 68.0315170288086
         },
         {
          "i": 284,
          "loss": 68.03140258789062
         },
         {
          "i": 285,
          "loss": 68.03131103515625
         },
         {
          "i": 286,
          "loss": 68.03132629394531
         },
         {
          "i": 287,
          "loss": 68.03115844726562
         },
         {
          "i": 288,
          "loss": 68.03113555908203
         },
         {
          "i": 289,
          "loss": 68.03104400634766
         },
         {
          "i": 290,
          "loss": 68.03099060058594
         },
         {
          "i": 291,
          "loss": 68.03094482421875
         },
         {
          "i": 292,
          "loss": 68.03089904785156
         },
         {
          "i": 293,
          "loss": 68.03083038330078
         },
         {
          "i": 294,
          "loss": 68.0307388305664
         },
         {
          "i": 295,
          "loss": 68.03065490722656
         },
         {
          "i": 296,
          "loss": 68.03065490722656
         },
         {
          "i": 297,
          "loss": 68.03059387207031
         },
         {
          "i": 298,
          "loss": 68.030517578125
         },
         {
          "i": 299,
          "loss": 68.03050994873047
         },
         {
          "i": 300,
          "loss": 68.03046417236328
         },
         {
          "i": 301,
          "loss": 68.03038024902344
         },
         {
          "i": 302,
          "loss": 68.03030395507812
         },
         {
          "i": 303,
          "loss": 68.03031921386719
         },
         {
          "i": 304,
          "loss": 68.0302963256836
         },
         {
          "i": 305,
          "loss": 68.03025817871094
         },
         {
          "i": 306,
          "loss": 68.0301742553711
         },
         {
          "i": 307,
          "loss": 68.03013610839844
         },
         {
          "i": 308,
          "loss": 68.03014373779297
         },
         {
          "i": 309,
          "loss": 68.03010559082031
         },
         {
          "i": 310,
          "loss": 68.03006744384766
         },
         {
          "i": 311,
          "loss": 68.03004455566406
         },
         {
          "i": 312,
          "loss": 68.0300064086914
         },
         {
          "i": 313,
          "loss": 68.02999114990234
         },
         {
          "i": 314,
          "loss": 68.02993774414062
         },
         {
          "i": 315,
          "loss": 68.0299301147461
         },
         {
          "i": 316,
          "loss": 68.02985382080078
         },
         {
          "i": 317,
          "loss": 68.02984619140625
         },
         {
          "i": 318,
          "loss": 68.02987670898438
         },
         {
          "i": 319,
          "loss": 68.02982330322266
         },
         {
          "i": 320,
          "loss": 68.0298080444336
         },
         {
          "i": 321,
          "loss": 68.02970886230469
         },
         {
          "i": 322,
          "loss": 68.02973937988281
         },
         {
          "i": 323,
          "loss": 68.0297622680664
         },
         {
          "i": 324,
          "loss": 68.02972412109375
         },
         {
          "i": 325,
          "loss": 68.02969360351562
         },
         {
          "i": 326,
          "loss": 68.0296859741211
         },
         {
          "i": 327,
          "loss": 68.02970886230469
         },
         {
          "i": 328,
          "loss": 68.02967071533203
         },
         {
          "i": 329,
          "loss": 68.02959442138672
         },
         {
          "i": 330,
          "loss": 68.02958679199219
         },
         {
          "i": 331,
          "loss": 68.02961730957031
         },
         {
          "i": 332,
          "loss": 68.02961730957031
         },
         {
          "i": 333,
          "loss": 68.02954864501953
         },
         {
          "i": 334,
          "loss": 68.02955627441406
         },
         {
          "i": 335,
          "loss": 68.02951049804688
         },
         {
          "i": 336,
          "loss": 68.02957916259766
         },
         {
          "i": 337,
          "loss": 68.02955627441406
         },
         {
          "i": 338,
          "loss": 68.02954864501953
         },
         {
          "i": 339,
          "loss": 68.02953338623047
         },
         {
          "i": 340,
          "loss": 68.02946472167969
         },
         {
          "i": 341,
          "loss": 68.02942657470703
         },
         {
          "i": 342,
          "loss": 68.02947998046875
         },
         {
          "i": 343,
          "loss": 68.02947998046875
         },
         {
          "i": 344,
          "loss": 68.02946472167969
         },
         {
          "i": 345,
          "loss": 68.02944946289062
         },
         {
          "i": 346,
          "loss": 68.02946472167969
         },
         {
          "i": 347,
          "loss": 68.02938842773438
         },
         {
          "i": 348,
          "loss": 68.0293960571289
         },
         {
          "i": 349,
          "loss": 68.02938842773438
         },
         {
          "i": 350,
          "loss": 68.02936553955078
         },
         {
          "i": 351,
          "loss": 68.02938842773438
         },
         {
          "i": 352,
          "loss": 68.02938842773438
         },
         {
          "i": 353,
          "loss": 68.02938842773438
         },
         {
          "i": 354,
          "loss": 68.0293960571289
         },
         {
          "i": 355,
          "loss": 68.02935791015625
         },
         {
          "i": 356,
          "loss": 68.02936553955078
         },
         {
          "i": 357,
          "loss": 68.02938842773438
         },
         {
          "i": 358,
          "loss": 68.02936553955078
         },
         {
          "i": 359,
          "loss": 68.02935791015625
         },
         {
          "i": 360,
          "loss": 68.0293197631836
         },
         {
          "i": 361,
          "loss": 68.02934265136719
         },
         {
          "i": 362,
          "loss": 68.02928924560547
         },
         {
          "i": 363,
          "loss": 68.02930450439453
         },
         {
          "i": 364,
          "loss": 68.02932739257812
         },
         {
          "i": 365,
          "loss": 68.02934265136719
         },
         {
          "i": 366,
          "loss": 68.029296875
         },
         {
          "i": 367,
          "loss": 68.02935791015625
         },
         {
          "i": 368,
          "loss": 68.0293197631836
         },
         {
          "i": 369,
          "loss": 68.02931213378906
         },
         {
          "i": 370,
          "loss": 68.0293197631836
         },
         {
          "i": 371,
          "loss": 68.0292739868164
         },
         {
          "i": 372,
          "loss": 68.02925872802734
         },
         {
          "i": 373,
          "loss": 68.02925872802734
         },
         {
          "i": 374,
          "loss": 68.02930450439453
         },
         {
          "i": 375,
          "loss": 68.02928924560547
         },
         {
          "i": 376,
          "loss": 68.02930450439453
         },
         {
          "i": 377,
          "loss": 68.02926635742188
         },
         {
          "i": 378,
          "loss": 68.02926635742188
         },
         {
          "i": 379,
          "loss": 68.0292739868164
         },
         {
          "i": 380,
          "loss": 68.029296875
         },
         {
          "i": 381,
          "loss": 68.02923583984375
         },
         {
          "i": 382,
          "loss": 68.0292739868164
         },
         {
          "i": 383,
          "loss": 68.02926635742188
         },
         {
          "i": 384,
          "loss": 68.02925109863281
         },
         {
          "i": 385,
          "loss": 68.02925872802734
         },
         {
          "i": 386,
          "loss": 68.02931213378906
         },
         {
          "i": 387,
          "loss": 68.02928924560547
         },
         {
          "i": 388,
          "loss": 68.02926635742188
         },
         {
          "i": 389,
          "loss": 68.02920532226562
         },
         {
          "i": 390,
          "loss": 68.02925109863281
         },
         {
          "i": 391,
          "loss": 68.02925109863281
         },
         {
          "i": 392,
          "loss": 68.02925109863281
         },
         {
          "i": 393,
          "loss": 68.02925872802734
         },
         {
          "i": 394,
          "loss": 68.02926635742188
         },
         {
          "i": 395,
          "loss": 68.02922058105469
         },
         {
          "i": 396,
          "loss": 68.02925872802734
         },
         {
          "i": 397,
          "loss": 68.02922058105469
         },
         {
          "i": 398,
          "loss": 68.02922821044922
         },
         {
          "i": 399,
          "loss": 68.02923583984375
         },
         {
          "i": 400,
          "loss": 68.0292739868164
         },
         {
          "i": 401,
          "loss": 68.0291976928711
         },
         {
          "i": 402,
          "loss": 68.029296875
         },
         {
          "i": 403,
          "loss": 68.02923583984375
         },
         {
          "i": 404,
          "loss": 68.02923583984375
         },
         {
          "i": 405,
          "loss": 68.0292739868164
         },
         {
          "i": 406,
          "loss": 68.02922058105469
         },
         {
          "i": 407,
          "loss": 68.02923583984375
         },
         {
          "i": 408,
          "loss": 68.02925109863281
         },
         {
          "i": 409,
          "loss": 68.02925872802734
         },
         {
          "i": 410,
          "loss": 68.02922058105469
         },
         {
          "i": 411,
          "loss": 68.0291976928711
         },
         {
          "i": 412,
          "loss": 68.02918243408203
         },
         {
          "i": 413,
          "loss": 68.02923583984375
         },
         {
          "i": 414,
          "loss": 68.02922058105469
         },
         {
          "i": 415,
          "loss": 68.02921295166016
         },
         {
          "i": 416,
          "loss": 68.02922058105469
         },
         {
          "i": 417,
          "loss": 68.02918243408203
         },
         {
          "i": 418,
          "loss": 68.02916717529297
         },
         {
          "i": 419,
          "loss": 68.02916717529297
         },
         {
          "i": 420,
          "loss": 68.0291976928711
         },
         {
          "i": 421,
          "loss": 68.02912902832031
         },
         {
          "i": 422,
          "loss": 68.02918243408203
         },
         {
          "i": 423,
          "loss": 68.02922821044922
         },
         {
          "i": 424,
          "loss": 68.02918243408203
         },
         {
          "i": 425,
          "loss": 68.02922058105469
         },
         {
          "i": 426,
          "loss": 68.02921295166016
         },
         {
          "i": 427,
          "loss": 68.02922821044922
         },
         {
          "i": 428,
          "loss": 68.02922058105469
         },
         {
          "i": 429,
          "loss": 68.02922058105469
         },
         {
          "i": 430,
          "loss": 68.02921295166016
         },
         {
          "i": 431,
          "loss": 68.02926635742188
         },
         {
          "i": 432,
          "loss": 68.02920532226562
         },
         {
          "i": 433,
          "loss": 68.02922821044922
         },
         {
          "i": 434,
          "loss": 68.02920532226562
         },
         {
          "i": 435,
          "loss": 68.02920532226562
         },
         {
          "i": 436,
          "loss": 68.02924346923828
         },
         {
          "i": 437,
          "loss": 68.02922058105469
         },
         {
          "i": 438,
          "loss": 68.02922058105469
         },
         {
          "i": 439,
          "loss": 68.02920532226562
         },
         {
          "i": 440,
          "loss": 68.02922058105469
         },
         {
          "i": 441,
          "loss": 68.02925872802734
         },
         {
          "i": 442,
          "loss": 68.02925109863281
         },
         {
          "i": 443,
          "loss": 68.02920532226562
         },
         {
          "i": 444,
          "loss": 68.02920532226562
         },
         {
          "i": 445,
          "loss": 68.02922058105469
         },
         {
          "i": 446,
          "loss": 68.02921295166016
         },
         {
          "i": 447,
          "loss": 68.02920532226562
         },
         {
          "i": 448,
          "loss": 68.02922058105469
         },
         {
          "i": 449,
          "loss": 68.02921295166016
         },
         {
          "i": 450,
          "loss": 68.02919006347656
         },
         {
          "i": 451,
          "loss": 68.02921295166016
         },
         {
          "i": 452,
          "loss": 68.02920532226562
         },
         {
          "i": 453,
          "loss": 68.02914428710938
         },
         {
          "i": 454,
          "loss": 68.02915954589844
         },
         {
          "i": 455,
          "loss": 68.0291976928711
         },
         {
          "i": 456,
          "loss": 68.02919006347656
         },
         {
          "i": 457,
          "loss": 68.02921295166016
         },
         {
          "i": 458,
          "loss": 68.02922058105469
         },
         {
          "i": 459,
          "loss": 68.02922821044922
         },
         {
          "i": 460,
          "loss": 68.0291976928711
         },
         {
          "i": 461,
          "loss": 68.02922058105469
         },
         {
          "i": 462,
          "loss": 68.02919006347656
         },
         {
          "i": 463,
          "loss": 68.02919006347656
         },
         {
          "i": 464,
          "loss": 68.02916717529297
         },
         {
          "i": 465,
          "loss": 68.02920532226562
         },
         {
          "i": 466,
          "loss": 68.0291976928711
         },
         {
          "i": 467,
          "loss": 68.0291976928711
         },
         {
          "i": 468,
          "loss": 68.02920532226562
         },
         {
          "i": 469,
          "loss": 68.02922058105469
         },
         {
          "i": 470,
          "loss": 68.02920532226562
         },
         {
          "i": 471,
          "loss": 68.02915954589844
         },
         {
          "i": 472,
          "loss": 68.02915954589844
         },
         {
          "i": 473,
          "loss": 68.02919006347656
         },
         {
          "i": 474,
          "loss": 68.02924346923828
         },
         {
          "i": 475,
          "loss": 68.0291976928711
         },
         {
          "i": 476,
          "loss": 68.02922058105469
         },
         {
          "i": 477,
          "loss": 68.02923583984375
         },
         {
          "i": 478,
          "loss": 68.02922821044922
         },
         {
          "i": 479,
          "loss": 68.02922058105469
         },
         {
          "i": 480,
          "loss": 68.0291519165039
         },
         {
          "i": 481,
          "loss": 68.02918243408203
         },
         {
          "i": 482,
          "loss": 68.0291976928711
         },
         {
          "i": 483,
          "loss": 68.02920532226562
         },
         {
          "i": 484,
          "loss": 68.0291976928711
         },
         {
          "i": 485,
          "loss": 68.0291748046875
         },
         {
          "i": 486,
          "loss": 68.02920532226562
         },
         {
          "i": 487,
          "loss": 68.02922058105469
         },
         {
          "i": 488,
          "loss": 68.02920532226562
         },
         {
          "i": 489,
          "loss": 68.0291976928711
         },
         {
          "i": 490,
          "loss": 68.02918243408203
         },
         {
          "i": 491,
          "loss": 68.0291748046875
         },
         {
          "i": 492,
          "loss": 68.02918243408203
         },
         {
          "i": 493,
          "loss": 68.0291976928711
         },
         {
          "i": 494,
          "loss": 68.02922058105469
         },
         {
          "i": 495,
          "loss": 68.02922058105469
         },
         {
          "i": 496,
          "loss": 68.0291976928711
         },
         {
          "i": 497,
          "loss": 68.02921295166016
         },
         {
          "i": 498,
          "loss": 68.02919006347656
         },
         {
          "i": 499,
          "loss": 68.0291976928711
         }
        ]
       },
       "encoding": {
        "x": {
         "field": "i",
         "type": "quantitative"
        },
        "y": {
         "field": "loss",
         "type": "quantitative"
        }
       },
       "height": 100,
       "mark": "line"
      },
      "image/png": "[encoded data removed]",
      "text/plain": [
       "<VegaLite 3 object>\n",
       "\n",
       "If you see this message, it means the renderer has not been properly enabled\n",
       "for the frontend that you are using. For more information, see\n",
       "https://altair-viz.github.io/user_guide/troubleshooting.html\n"
      ]
     },
     "execution_count": 11,
     "metadata": {},
     "output_type": "execute_result"
    }
   ],
   "source": [
    "loss_df = pd.DataFrame({'i':range(500), 'loss':loss_record})\n",
    "alt.Chart(loss_df, height=100).mark_line().encode(x='i', y='loss')"
   ]
  },
  {
   "cell_type": "markdown",
   "metadata": {},
   "source": [
    "Although the code looks pretty much the same, save the changes to the model and loss, the computation that pytorch needs to do to compute the gradient of $L$ with respect to each $\\beta$ is now much more involved, which you too will see if you try to compute it by hand."
   ]
  },
  {
   "cell_type": "code",
   "execution_count": 14,
   "metadata": {
    "tags": [
     "popout",
     "hide_input"
    ]
   },
   "outputs": [
    {
     "data": {
      "image/svg+xml": [
       "<?xml version=\"1.0\" encoding=\"UTF-8\" standalone=\"no\"?>\n",
       "<!DOCTYPE svg PUBLIC \"-//W3C//DTD SVG 1.1//EN\"\n",
       " \"http://www.w3.org/Graphics/SVG/1.1/DTD/svg11.dtd\">\n",
       "<!-- Generated by graphviz version 2.43.0 (0)\n",
       " -->\n",
       "<!-- Title: %3 Pages: 1 -->\n",
       "<svg width=\"209pt\" height=\"824pt\"\n",
       " viewBox=\"0.00 0.00 208.98 824.00\" xmlns=\"http://www.w3.org/2000/svg\" xmlns:xlink=\"http://www.w3.org/1999/xlink\">\n",
       "<g id=\"graph0\" class=\"graph\" transform=\"scale(1 1) rotate(0) translate(4 820)\">\n",
       "<title>%3</title>\n",
       "<polygon fill=\"white\" stroke=\"transparent\" points=\"-4,4 -4,-820 204.98,-820 204.98,4 -4,4\"/>\n",
       "<!-- 4873221776 -->\n",
       "<g id=\"node1\" class=\"node\">\n",
       "<title>4873221776</title>\n",
       "<polygon fill=\"#caff70\" stroke=\"black\" points=\"143.47,-20 55.18,-20 55.18,0 143.47,0 143.47,-20\"/>\n",
       "<text text-anchor=\"middle\" x=\"99.32\" y=\"-6.4\" font-family=\"Times,serif\" font-size=\"12.00\">DivBackward0</text>\n",
       "</g>\n",
       "<!-- 4873221840 -->\n",
       "<g id=\"node2\" class=\"node\">\n",
       "<title>4873221840</title>\n",
       "<polygon fill=\"lightgrey\" stroke=\"black\" points=\"141.46,-76 57.19,-76 57.19,-56 141.46,-56 141.46,-76\"/>\n",
       "<text text-anchor=\"middle\" x=\"99.32\" y=\"-62.4\" font-family=\"Times,serif\" font-size=\"12.00\">NegBackward</text>\n",
       "</g>\n",
       "<!-- 4873221840&#45;&gt;4873221776 -->\n",
       "<g id=\"edge1\" class=\"edge\">\n",
       "<title>4873221840&#45;&gt;4873221776</title>\n",
       "<path fill=\"none\" stroke=\"black\" d=\"M99.32,-55.59C99.32,-48.7 99.32,-39.1 99.32,-30.57\"/>\n",
       "<polygon fill=\"black\" stroke=\"black\" points=\"102.82,-30.3 99.32,-20.3 95.82,-30.3 102.82,-30.3\"/>\n",
       "</g>\n",
       "<!-- 4873221968 -->\n",
       "<g id=\"node3\" class=\"node\">\n",
       "<title>4873221968</title>\n",
       "<polygon fill=\"lightgrey\" stroke=\"black\" points=\"145.48,-132 53.17,-132 53.17,-112 145.48,-112 145.48,-132\"/>\n",
       "<text text-anchor=\"middle\" x=\"99.32\" y=\"-118.4\" font-family=\"Times,serif\" font-size=\"12.00\">SumBackward0</text>\n",
       "</g>\n",
       "<!-- 4873221968&#45;&gt;4873221840 -->\n",
       "<g id=\"edge2\" class=\"edge\">\n",
       "<title>4873221968&#45;&gt;4873221840</title>\n",
       "<path fill=\"none\" stroke=\"black\" d=\"M99.32,-111.59C99.32,-104.7 99.32,-95.1 99.32,-86.57\"/>\n",
       "<polygon fill=\"black\" stroke=\"black\" points=\"102.82,-86.3 99.32,-76.3 95.82,-86.3 102.82,-86.3\"/>\n",
       "</g>\n",
       "<!-- 4873222096 -->\n",
       "<g id=\"node4\" class=\"node\">\n",
       "<title>4873222096</title>\n",
       "<polygon fill=\"lightgrey\" stroke=\"black\" points=\"145.14,-188 53.51,-188 53.51,-168 145.14,-168 145.14,-188\"/>\n",
       "<text text-anchor=\"middle\" x=\"99.32\" y=\"-174.4\" font-family=\"Times,serif\" font-size=\"12.00\">AddBackward0</text>\n",
       "</g>\n",
       "<!-- 4873222096&#45;&gt;4873221968 -->\n",
       "<g id=\"edge3\" class=\"edge\">\n",
       "<title>4873222096&#45;&gt;4873221968</title>\n",
       "<path fill=\"none\" stroke=\"black\" d=\"M99.32,-167.59C99.32,-160.7 99.32,-151.1 99.32,-142.57\"/>\n",
       "<polygon fill=\"black\" stroke=\"black\" points=\"102.82,-142.3 99.32,-132.3 95.82,-142.3 102.82,-142.3\"/>\n",
       "</g>\n",
       "<!-- 4873222288 -->\n",
       "<g id=\"node5\" class=\"node\">\n",
       "<title>4873222288</title>\n",
       "<polygon fill=\"lightgrey\" stroke=\"black\" points=\"90.47,-244 0.18,-244 0.18,-224 90.47,-224 90.47,-244\"/>\n",
       "<text text-anchor=\"middle\" x=\"45.32\" y=\"-230.4\" font-family=\"Times,serif\" font-size=\"12.00\">MulBackward0</text>\n",
       "</g>\n",
       "<!-- 4873222288&#45;&gt;4873222096 -->\n",
       "<g id=\"edge4\" class=\"edge\">\n",
       "<title>4873222288&#45;&gt;4873222096</title>\n",
       "<path fill=\"none\" stroke=\"black\" d=\"M54.73,-223.59C62.47,-215.85 73.64,-204.69 82.86,-195.47\"/>\n",
       "<polygon fill=\"black\" stroke=\"black\" points=\"85.43,-197.84 90.03,-188.3 80.48,-192.89 85.43,-197.84\"/>\n",
       "</g>\n",
       "<!-- 4873222480 -->\n",
       "<g id=\"node6\" class=\"node\">\n",
       "<title>4873222480</title>\n",
       "<polygon fill=\"lightgrey\" stroke=\"black\" points=\"87.3,-356 3.35,-356 3.35,-336 87.3,-336 87.3,-356\"/>\n",
       "<text text-anchor=\"middle\" x=\"45.32\" y=\"-342.4\" font-family=\"Times,serif\" font-size=\"12.00\">LogBackward</text>\n",
       "</g>\n",
       "<!-- 4873222480&#45;&gt;4873222288 -->\n",
       "<g id=\"edge5\" class=\"edge\">\n",
       "<title>4873222480&#45;&gt;4873222288</title>\n",
       "<path fill=\"none\" stroke=\"black\" d=\"M45.32,-336C45.32,-318.19 45.32,-278.12 45.32,-254.15\"/>\n",
       "<polygon fill=\"black\" stroke=\"black\" points=\"48.82,-254.13 45.32,-244.13 41.82,-254.13 48.82,-254.13\"/>\n",
       "</g>\n",
       "<!-- 4873222224 -->\n",
       "<g id=\"node7\" class=\"node\">\n",
       "<title>4873222224</title>\n",
       "<polygon fill=\"lightgrey\" stroke=\"black\" points=\"143.47,-412 55.18,-412 55.18,-392 143.47,-392 143.47,-412\"/>\n",
       "<text text-anchor=\"middle\" x=\"99.32\" y=\"-398.4\" font-family=\"Times,serif\" font-size=\"12.00\">DivBackward0</text>\n",
       "</g>\n",
       "<!-- 4873222224&#45;&gt;4873222480 -->\n",
       "<g id=\"edge6\" class=\"edge\">\n",
       "<title>4873222224&#45;&gt;4873222480</title>\n",
       "<path fill=\"none\" stroke=\"black\" d=\"M89.92,-391.59C82.17,-383.85 71.01,-372.69 61.79,-363.47\"/>\n",
       "<polygon fill=\"black\" stroke=\"black\" points=\"64.17,-360.89 54.62,-356.3 59.22,-365.84 64.17,-360.89\"/>\n",
       "</g>\n",
       "<!-- 4873222800 -->\n",
       "<g id=\"node20\" class=\"node\">\n",
       "<title>4873222800</title>\n",
       "<polygon fill=\"lightgrey\" stroke=\"black\" points=\"201.14,-356 105.51,-356 105.51,-336 201.14,-336 201.14,-356\"/>\n",
       "<text text-anchor=\"middle\" x=\"153.32\" y=\"-342.4\" font-family=\"Times,serif\" font-size=\"12.00\">RsubBackward1</text>\n",
       "</g>\n",
       "<!-- 4873222224&#45;&gt;4873222800 -->\n",
       "<g id=\"edge22\" class=\"edge\">\n",
       "<title>4873222224&#45;&gt;4873222800</title>\n",
       "<path fill=\"none\" stroke=\"black\" d=\"M108.73,-391.59C116.47,-383.85 127.64,-372.69 136.86,-363.47\"/>\n",
       "<polygon fill=\"black\" stroke=\"black\" points=\"139.43,-365.84 144.03,-356.3 134.48,-360.89 139.43,-365.84\"/>\n",
       "</g>\n",
       "<!-- 4873222672 -->\n",
       "<g id=\"node8\" class=\"node\">\n",
       "<title>4873222672</title>\n",
       "<polygon fill=\"lightgrey\" stroke=\"black\" points=\"88.3,-468 4.35,-468 4.35,-448 88.3,-448 88.3,-468\"/>\n",
       "<text text-anchor=\"middle\" x=\"46.32\" y=\"-454.4\" font-family=\"Times,serif\" font-size=\"12.00\">ExpBackward</text>\n",
       "</g>\n",
       "<!-- 4873222672&#45;&gt;4873222224 -->\n",
       "<g id=\"edge7\" class=\"edge\">\n",
       "<title>4873222672&#45;&gt;4873222224</title>\n",
       "<path fill=\"none\" stroke=\"black\" d=\"M55.56,-447.59C63.16,-439.85 74.11,-428.69 83.16,-419.47\"/>\n",
       "<polygon fill=\"black\" stroke=\"black\" points=\"85.69,-421.89 90.2,-412.3 80.7,-416.98 85.69,-421.89\"/>\n",
       "</g>\n",
       "<!-- 4873222864 -->\n",
       "<g id=\"node9\" class=\"node\">\n",
       "<title>4873222864</title>\n",
       "<polygon fill=\"lightgrey\" stroke=\"black\" points=\"90.46,-580 6.19,-580 6.19,-560 90.46,-560 90.46,-580\"/>\n",
       "<text text-anchor=\"middle\" x=\"48.32\" y=\"-566.4\" font-family=\"Times,serif\" font-size=\"12.00\">NegBackward</text>\n",
       "</g>\n",
       "<!-- 4873222864&#45;&gt;4873222672 -->\n",
       "<g id=\"edge8\" class=\"edge\">\n",
       "<title>4873222864&#45;&gt;4873222672</title>\n",
       "<path fill=\"none\" stroke=\"black\" d=\"M48.16,-560C47.84,-542.19 47.11,-502.12 46.67,-478.15\"/>\n",
       "<polygon fill=\"black\" stroke=\"black\" points=\"50.17,-478.06 46.49,-468.13 43.17,-478.19 50.17,-478.06\"/>\n",
       "</g>\n",
       "<!-- 4873222992 -->\n",
       "<g id=\"node10\" class=\"node\">\n",
       "<title>4873222992</title>\n",
       "<polygon fill=\"lightgrey\" stroke=\"black\" points=\"145.14,-636 53.51,-636 53.51,-616 145.14,-616 145.14,-636\"/>\n",
       "<text text-anchor=\"middle\" x=\"99.32\" y=\"-622.4\" font-family=\"Times,serif\" font-size=\"12.00\">AddBackward0</text>\n",
       "</g>\n",
       "<!-- 4873222992&#45;&gt;4873222864 -->\n",
       "<g id=\"edge9\" class=\"edge\">\n",
       "<title>4873222992&#45;&gt;4873222864</title>\n",
       "<path fill=\"none\" stroke=\"black\" d=\"M90.44,-615.59C83.2,-607.93 72.8,-596.91 64.14,-587.75\"/>\n",
       "<polygon fill=\"black\" stroke=\"black\" points=\"66.52,-585.17 57.11,-580.3 61.43,-589.97 66.52,-585.17\"/>\n",
       "</g>\n",
       "<!-- 4873223248 -->\n",
       "<g id=\"node17\" class=\"node\">\n",
       "<title>4873223248</title>\n",
       "<polygon fill=\"lightgrey\" stroke=\"black\" points=\"193.46,-580 109.19,-580 109.19,-560 193.46,-560 193.46,-580\"/>\n",
       "<text text-anchor=\"middle\" x=\"151.32\" y=\"-566.4\" font-family=\"Times,serif\" font-size=\"12.00\">NegBackward</text>\n",
       "</g>\n",
       "<!-- 4873222992&#45;&gt;4873223248 -->\n",
       "<g id=\"edge18\" class=\"edge\">\n",
       "<title>4873222992&#45;&gt;4873223248</title>\n",
       "<path fill=\"none\" stroke=\"black\" d=\"M108.38,-615.59C115.76,-607.93 126.37,-596.91 135.2,-587.75\"/>\n",
       "<polygon fill=\"black\" stroke=\"black\" points=\"137.95,-589.93 142.37,-580.3 132.91,-585.07 137.95,-589.93\"/>\n",
       "</g>\n",
       "<!-- 4873223120 -->\n",
       "<g id=\"node11\" class=\"node\">\n",
       "<title>4873223120</title>\n",
       "<polygon fill=\"lightgrey\" stroke=\"black\" points=\"88.47,-692 4.18,-692 4.18,-672 88.47,-672 88.47,-692\"/>\n",
       "<text text-anchor=\"middle\" x=\"46.32\" y=\"-678.4\" font-family=\"Times,serif\" font-size=\"12.00\">MmBackward</text>\n",
       "</g>\n",
       "<!-- 4873223120&#45;&gt;4873222992 -->\n",
       "<g id=\"edge10\" class=\"edge\">\n",
       "<title>4873223120&#45;&gt;4873222992</title>\n",
       "<path fill=\"none\" stroke=\"black\" d=\"M55.56,-671.59C63.16,-663.85 74.11,-652.69 83.16,-643.47\"/>\n",
       "<polygon fill=\"black\" stroke=\"black\" points=\"85.69,-645.89 90.2,-636.3 80.7,-640.98 85.69,-645.89\"/>\n",
       "</g>\n",
       "<!-- 4873223312 -->\n",
       "<g id=\"node12\" class=\"node\">\n",
       "<title>4873223312</title>\n",
       "<polygon fill=\"lightgrey\" stroke=\"black\" points=\"107.46,-748 19.18,-748 19.18,-728 107.46,-728 107.46,-748\"/>\n",
       "<text text-anchor=\"middle\" x=\"63.32\" y=\"-734.4\" font-family=\"Times,serif\" font-size=\"12.00\">SliceBackward</text>\n",
       "</g>\n",
       "<!-- 4873223312&#45;&gt;4873223120 -->\n",
       "<g id=\"edge11\" class=\"edge\">\n",
       "<title>4873223312&#45;&gt;4873223120</title>\n",
       "<path fill=\"none\" stroke=\"black\" d=\"M60.36,-727.59C58.14,-720.55 55.04,-710.67 52.31,-702\"/>\n",
       "<polygon fill=\"black\" stroke=\"black\" points=\"55.59,-700.79 49.25,-692.3 48.92,-702.89 55.59,-700.79\"/>\n",
       "</g>\n",
       "<!-- 4873223440 -->\n",
       "<g id=\"node13\" class=\"node\">\n",
       "<title>4873223440</title>\n",
       "<polygon fill=\"lightblue\" stroke=\"black\" points=\"126.32,-816 72.32,-816 72.32,-784 126.32,-784 126.32,-816\"/>\n",
       "<text text-anchor=\"middle\" x=\"99.32\" y=\"-802.4\" font-family=\"Times,serif\" font-size=\"12.00\">β</text>\n",
       "<text text-anchor=\"middle\" x=\"99.32\" y=\"-790.4\" font-family=\"Times,serif\" font-size=\"12.00\"> (6, 1)</text>\n",
       "</g>\n",
       "<!-- 4873223440&#45;&gt;4873223312 -->\n",
       "<g id=\"edge12\" class=\"edge\">\n",
       "<title>4873223440&#45;&gt;4873223312</title>\n",
       "<path fill=\"none\" stroke=\"black\" d=\"M90.24,-783.86C85.34,-775.69 79.25,-765.55 74.11,-756.98\"/>\n",
       "<polygon fill=\"black\" stroke=\"black\" points=\"76.96,-754.93 68.82,-748.15 70.96,-758.53 76.96,-754.93\"/>\n",
       "</g>\n",
       "<!-- 4873223184 -->\n",
       "<g id=\"node14\" class=\"node\">\n",
       "<title>4873223184</title>\n",
       "<polygon fill=\"lightgrey\" stroke=\"black\" points=\"200.29,-692 106.36,-692 106.36,-672 200.29,-672 200.29,-692\"/>\n",
       "<text text-anchor=\"middle\" x=\"153.32\" y=\"-678.4\" font-family=\"Times,serif\" font-size=\"12.00\">SelectBackward</text>\n",
       "</g>\n",
       "<!-- 4873223440&#45;&gt;4873223184 -->\n",
       "<g id=\"edge14\" class=\"edge\">\n",
       "<title>4873223440&#45;&gt;4873223184</title>\n",
       "<path fill=\"none\" stroke=\"black\" d=\"M106.38,-783.84C116.25,-762.64 134.15,-724.2 144.76,-701.39\"/>\n",
       "<polygon fill=\"black\" stroke=\"black\" points=\"148.02,-702.68 149.07,-692.14 141.68,-699.72 148.02,-702.68\"/>\n",
       "</g>\n",
       "<!-- 4873223184&#45;&gt;4873222992 -->\n",
       "<g id=\"edge13\" class=\"edge\">\n",
       "<title>4873223184&#45;&gt;4873222992</title>\n",
       "<path fill=\"none\" stroke=\"black\" d=\"M143.92,-671.59C136.17,-663.85 125.01,-652.69 115.79,-643.47\"/>\n",
       "<polygon fill=\"black\" stroke=\"black\" points=\"118.17,-640.89 108.62,-636.3 113.22,-645.84 118.17,-640.89\"/>\n",
       "</g>\n",
       "<!-- 4873222736 -->\n",
       "<g id=\"node15\" class=\"node\">\n",
       "<title>4873222736</title>\n",
       "<polygon fill=\"lightgrey\" stroke=\"black\" points=\"198.14,-468 106.51,-468 106.51,-448 198.14,-448 198.14,-468\"/>\n",
       "<text text-anchor=\"middle\" x=\"152.32\" y=\"-454.4\" font-family=\"Times,serif\" font-size=\"12.00\">AddBackward0</text>\n",
       "</g>\n",
       "<!-- 4873222736&#45;&gt;4873222224 -->\n",
       "<g id=\"edge15\" class=\"edge\">\n",
       "<title>4873222736&#45;&gt;4873222224</title>\n",
       "<path fill=\"none\" stroke=\"black\" d=\"M143.09,-447.59C135.49,-439.85 124.54,-428.69 115.49,-419.47\"/>\n",
       "<polygon fill=\"black\" stroke=\"black\" points=\"117.95,-416.98 108.45,-412.3 112.96,-421.89 117.95,-416.98\"/>\n",
       "</g>\n",
       "<!-- 4873222928 -->\n",
       "<g id=\"node16\" class=\"node\">\n",
       "<title>4873222928</title>\n",
       "<polygon fill=\"lightgrey\" stroke=\"black\" points=\"193.3,-524 109.35,-524 109.35,-504 193.3,-504 193.3,-524\"/>\n",
       "<text text-anchor=\"middle\" x=\"151.32\" y=\"-510.4\" font-family=\"Times,serif\" font-size=\"12.00\">ExpBackward</text>\n",
       "</g>\n",
       "<!-- 4873222928&#45;&gt;4873222736 -->\n",
       "<g id=\"edge16\" class=\"edge\">\n",
       "<title>4873222928&#45;&gt;4873222736</title>\n",
       "<path fill=\"none\" stroke=\"black\" d=\"M151.5,-503.59C151.63,-496.7 151.8,-487.1 151.96,-478.57\"/>\n",
       "<polygon fill=\"black\" stroke=\"black\" points=\"155.47,-478.36 152.15,-468.3 148.47,-478.23 155.47,-478.36\"/>\n",
       "</g>\n",
       "<!-- 4873223248&#45;&gt;4873222928 -->\n",
       "<g id=\"edge17\" class=\"edge\">\n",
       "<title>4873223248&#45;&gt;4873222928</title>\n",
       "<path fill=\"none\" stroke=\"black\" d=\"M151.32,-559.59C151.32,-552.7 151.32,-543.1 151.32,-534.57\"/>\n",
       "<polygon fill=\"black\" stroke=\"black\" points=\"154.82,-534.3 151.32,-524.3 147.82,-534.3 154.82,-534.3\"/>\n",
       "</g>\n",
       "<!-- 4873222352 -->\n",
       "<g id=\"node18\" class=\"node\">\n",
       "<title>4873222352</title>\n",
       "<polygon fill=\"lightgrey\" stroke=\"black\" points=\"199.47,-244 109.18,-244 109.18,-224 199.47,-224 199.47,-244\"/>\n",
       "<text text-anchor=\"middle\" x=\"154.32\" y=\"-230.4\" font-family=\"Times,serif\" font-size=\"12.00\">MulBackward0</text>\n",
       "</g>\n",
       "<!-- 4873222352&#45;&gt;4873222096 -->\n",
       "<g id=\"edge19\" class=\"edge\">\n",
       "<title>4873222352&#45;&gt;4873222096</title>\n",
       "<path fill=\"none\" stroke=\"black\" d=\"M144.74,-223.59C136.86,-215.85 125.49,-204.69 116.1,-195.47\"/>\n",
       "<polygon fill=\"black\" stroke=\"black\" points=\"118.38,-192.81 108.79,-188.3 113.48,-197.8 118.38,-192.81\"/>\n",
       "</g>\n",
       "<!-- 4873222544 -->\n",
       "<g id=\"node19\" class=\"node\">\n",
       "<title>4873222544</title>\n",
       "<polygon fill=\"lightgrey\" stroke=\"black\" points=\"195.3,-300 111.35,-300 111.35,-280 195.3,-280 195.3,-300\"/>\n",
       "<text text-anchor=\"middle\" x=\"153.32\" y=\"-286.4\" font-family=\"Times,serif\" font-size=\"12.00\">LogBackward</text>\n",
       "</g>\n",
       "<!-- 4873222544&#45;&gt;4873222352 -->\n",
       "<g id=\"edge20\" class=\"edge\">\n",
       "<title>4873222544&#45;&gt;4873222352</title>\n",
       "<path fill=\"none\" stroke=\"black\" d=\"M153.5,-279.59C153.63,-272.7 153.8,-263.1 153.96,-254.57\"/>\n",
       "<polygon fill=\"black\" stroke=\"black\" points=\"157.47,-254.36 154.15,-244.3 150.47,-254.23 157.47,-254.36\"/>\n",
       "</g>\n",
       "<!-- 4873222800&#45;&gt;4873222544 -->\n",
       "<g id=\"edge21\" class=\"edge\">\n",
       "<title>4873222800&#45;&gt;4873222544</title>\n",
       "<path fill=\"none\" stroke=\"black\" d=\"M153.32,-335.59C153.32,-328.7 153.32,-319.1 153.32,-310.57\"/>\n",
       "<polygon fill=\"black\" stroke=\"black\" points=\"156.82,-310.3 153.32,-300.3 149.82,-310.3 156.82,-310.3\"/>\n",
       "</g>\n",
       "</g>\n",
       "</svg>\n"
      ],
      "text/plain": [
       "<graphviz.dot.Digraph at 0x122777610>"
      ]
     },
     "execution_count": 14,
     "metadata": {},
     "output_type": "execute_result"
    }
   ],
   "source": [
    "make_dot(L, {'β':β})"
   ]
  },
  {
   "cell_type": "markdown",
   "metadata": {},
   "source": [
    "The amazing thing is that pytorch just handles it and you don't have to."
   ]
  },
  {
   "cell_type": "markdown",
   "metadata": {},
   "source": [
    "To predict for a new observation, all we have to do is multiply by $\\beta_{1:p}$, add the intercept $\\beta_0$, and pass through $\\sigma$:"
   ]
  },
  {
   "cell_type": "code",
   "execution_count": 15,
   "metadata": {},
   "outputs": [
    {
     "data": {
      "text/plain": [
       "tensor([[0.4200],\n",
       "        [0.4201],\n",
       "        [0.4201],\n",
       "        [0.4200],\n",
       "        [0.4201],\n",
       "        [0.4201],\n",
       "        [0.4200],\n",
       "        [0.4201],\n",
       "        [0.4201],\n",
       "        [0.4202]], grad_fn=<DivBackward0>)"
      ]
     },
     "execution_count": 15,
     "metadata": {},
     "output_type": "execute_result"
    }
   ],
   "source": [
    "new_x = torch.randn(10, 5) # 10 new observations\n",
    "z = torch.matmul(new_x, β[1:]) + β[0]\n",
    "torch.exp(-z)/(1+torch.exp(-z)) # probability predictions"
   ]
  },
  {
   "cell_type": "markdown",
   "metadata": {
    "tags": [
     "popout"
    ]
   },
   "source": [
    "----\n",
    "**EXERCISE**\n",
    "\n",
    "Why don't we use *accuracy* as a loss? In other words,\n",
    "    \n",
    "$$\n",
    "L(y, \\hat p) = \\sum_i\n",
    "\\begin{cases}\n",
    "1 & \\text{if}\\ y_i = 1 \\ \\text{and} \\ \\hat p_i > 0.5 \\\\\n",
    "1 & \\text{if}\\ y_i = 0 \\ \\text{and} \\ \\hat p_i \\le 0.5 \\\\\n",
    "0 & \\text{else}\n",
    "\\end{cases}\n",
    "\\notag\n",
    "$$\n",
    "    \n",
    "*Hint*: what is the derivative of this loss with respect to any prediction $\\hat p_i$?\n",
    "\n",
    "----"
   ]
  },
  {
   "cell_type": "markdown",
   "metadata": {},
   "source": [
    "## Conclusion"
   ]
  },
  {
   "cell_type": "markdown",
   "metadata": {},
   "source": [
    "We just developed a machine learning method out of these three components:\n",
    "* linear-logistic model (model)\n",
    "* log loss (loss)\n",
    "* gradient descent (optimization algorithm)\n",
    "\n",
    "This should make it clear to you that gradient descent is a widely-applicable strategy that will work with any loss or model, as long as you can define derivatives of the loss with respect to the model parameters. We will now go back to our linear regression example, but augment the model with more parameters and a more complex structure in order to capture nonlinear relationships. "
   ]
  }
 ],
 "metadata": {
  "kernelspec": {
   "display_name": "Python 3",
   "language": "python",
   "name": "python3"
  },
  "language_info": {
   "codemirror_mode": {
    "name": "ipython",
    "version": 3
   },
   "file_extension": ".py",
   "mimetype": "text/x-python",
   "name": "python",
   "nbconvert_exporter": "python",
   "pygments_lexer": "ipython3",
   "version": "3.7.6"
  },
  "toc-autonumbering": true,
  "toc-showcode": false,
  "toc-showmarkdowntxt": false,
  "toc-showtags": false
 },
 "nbformat": 4,
 "nbformat_minor": 4
}
